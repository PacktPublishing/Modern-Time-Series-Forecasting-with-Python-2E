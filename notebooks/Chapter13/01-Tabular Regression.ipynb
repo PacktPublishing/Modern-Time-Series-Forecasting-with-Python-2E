{
 "cells": [
  {
   "cell_type": "code",
   "execution_count": 2,
   "id": "b25018c9-2624-434c-aa23-04be1d73e729",
   "metadata": {},
   "outputs": [
    {
     "name": "stdout",
     "output_type": "stream",
     "text": [
      "C:\\Users\\ManuJoseph\\OneDrive - Thoucentric\\Work\\Projects\\Playground\\AdvancedTimeSeriesForecastingBook\\Github\\Modern-Time-Series-Forecasting-with-Python-\n"
     ]
    }
   ],
   "source": [
    "%cd ../.."
   ]
  },
  {
   "cell_type": "code",
   "execution_count": 3,
   "id": "4f023467-970a-461e-a60f-7a66fce6a497",
   "metadata": {},
   "outputs": [
    {
     "name": "stderr",
     "output_type": "stream",
     "text": [
      "C:\\Users\\ManuJoseph\\OneDrive - Thoucentric\\Work\\Projects\\Playground\\AdvancedTimeSeriesForecastingBook\\Github\\Modern-Time-Series-Forecasting-with-Python-\\src\\utils\\data_utils.py:6: TqdmExperimentalWarning: Using `tqdm.autonotebook.tqdm` in notebook mode. Use `tqdm.tqdm` instead to force console mode (e.g. in jupyter console)\n",
      "  from tqdm.autonotebook import tqdm\n"
     ]
    }
   ],
   "source": [
    "import os\n",
    "import time\n",
    "import shutil\n",
    "\n",
    "import numpy as np\n",
    "import pandas as pd\n",
    "import plotly.express as px\n",
    "import plotly.graph_objects as go\n",
    "import plotly.io as pio\n",
    "import joblib\n",
    "pio.templates.default = \"plotly_white\"\n",
    "\n",
    "import warnings\n",
    "from pathlib import Path\n",
    "\n",
    "import humanize\n",
    "from darts.metrics import mae, mase, mse\n",
    "from sklearn.preprocessing import StandardScaler\n",
    "from src.forecasting.ml_forecasting import (\n",
    "    FeatureConfig,\n",
    "    MissingValueConfig,\n",
    "    MLForecast,\n",
    "    ModelConfig,\n",
    "    calculate_metrics,\n",
    ")\n",
    "from src.utils import plotting_utils\n",
    "from src.utils.general import LogTime\n",
    "from src.utils.ts_utils import darts_metrics_adapter, forecast_bias\n",
    "from tqdm.autonotebook import tqdm\n",
    "from src.forecasting.ml_forecasting import calculate_metrics\n",
    "from src.utils import ts_utils\n",
    "from IPython.display import display, HTML\n",
    "# %load_ext autoreload\n",
    "# %autoreload 2\n",
    "np.random.seed(42)\n",
    "tqdm.pandas()"
   ]
  },
  {
   "cell_type": "code",
   "execution_count": 3,
   "id": "41ae72a1-3721-4b36-b211-b78d4b09c855",
   "metadata": {},
   "outputs": [],
   "source": [
    "os.makedirs(\"imgs/chapter_12\", exist_ok=True)\n",
    "preprocessed = Path(\"data/london_smart_meters/preprocessed\")\n",
    "output = Path(\"data/london_smart_meters/output\")"
   ]
  },
  {
   "cell_type": "markdown",
   "id": "b5ee3229-29b1-41ea-a4f0-25237abd617a",
   "metadata": {},
   "source": [
    "## Utility Functions"
   ]
  },
  {
   "cell_type": "code",
   "execution_count": 4,
   "id": "8900cd43-718f-4dc1-ace9-ef9dc99b600d",
   "metadata": {},
   "outputs": [],
   "source": [
    "def format_plot(fig, legends=None, xlabel=\"Time\", ylabel=\"Value\", title=\"\", font_size=15):\n",
    "    if legends:\n",
    "        names = cycle(legends)\n",
    "        fig.for_each_trace(lambda t: t.update(name=next(names)))\n",
    "    fig.update_layout(\n",
    "        autosize=False,\n",
    "        width=900,\n",
    "        height=500,\n",
    "        title_text=title,\n",
    "        title={\"x\": 0.5, \"xanchor\": \"center\", \"yanchor\": \"top\"},\n",
    "        titlefont={\"size\": 20},\n",
    "        legend_title=None,\n",
    "        legend=dict(\n",
    "            font=dict(size=font_size),\n",
    "            orientation=\"h\",\n",
    "            yanchor=\"bottom\",\n",
    "            y=0.98,\n",
    "            xanchor=\"right\",\n",
    "            x=1,\n",
    "        ),\n",
    "        yaxis=dict(\n",
    "            title_text=ylabel,\n",
    "            titlefont=dict(size=font_size),\n",
    "            tickfont=dict(size=font_size),\n",
    "        ),\n",
    "        xaxis=dict(\n",
    "            title_text=xlabel,\n",
    "            titlefont=dict(size=font_size),\n",
    "            tickfont=dict(size=font_size),\n",
    "        )\n",
    "    )\n",
    "    return fig"
   ]
  },
  {
   "cell_type": "code",
   "execution_count": 5,
   "id": "f0d3bcb3-f823-47ab-a591-a2bca4636139",
   "metadata": {},
   "outputs": [],
   "source": [
    "def evaluate_forecast(y_pred, test_target, train_target, model_name):\n",
    "    metric_l = []\n",
    "    for _id in tqdm(test_target.index.get_level_values(0).remove_unused_categories().categories, desc=\"Calculating metrics...\"):\n",
    "        target = test_target.xs(_id)\n",
    "        _y_pred = y_pred.xs(_id)\n",
    "        history = train_target.xs(_id)\n",
    "        metric_l.append(\n",
    "            calculate_metrics(target, _y_pred, name=model_name, y_train=history)\n",
    "        )\n",
    "    eval_metrics_df = pd.DataFrame(metric_l)\n",
    "    agg_metrics = {\n",
    "            \"Algorithm\": model_name,\n",
    "            \"MAE\": ts_utils.mae(\n",
    "                test_target, y_pred\n",
    "            ),\n",
    "            \"MSE\": ts_utils.mse(\n",
    "                test_target, y_pred\n",
    "            ),\n",
    "            \"meanMASE\": eval_metrics_df.loc[:, \"MASE\"].mean(),\n",
    "            \"Forecast Bias\": ts_utils.forecast_bias_aggregate(\n",
    "                test_target, y_pred\n",
    "            )\n",
    "    }\n",
    "    return agg_metrics, eval_metrics_df"
   ]
  },
  {
   "cell_type": "code",
   "execution_count": 6,
   "id": "ad04560f-5130-437f-83b0-9929adf63f37",
   "metadata": {
    "tags": []
   },
   "outputs": [],
   "source": [
    "from itertools import cycle\n",
    "\n",
    "\n",
    "def plot_forecast(pred_df, forecast_columns, forecast_display_names=None):\n",
    "    if forecast_display_names is None:\n",
    "        forecast_display_names = forecast_columns\n",
    "    else:\n",
    "        assert len(forecast_columns) == len(forecast_display_names)\n",
    "    mask = ~pred_df[forecast_columns[0]].isnull()\n",
    "    colors = [\n",
    "        \"rgba(\" + \",\".join([str(c) for c in plotting_utils.hex_to_rgb(c)]) + \",<alpha>)\"\n",
    "        for c in px.colors.qualitative.Plotly\n",
    "    ]\n",
    "    act_color = colors[0]\n",
    "    colors = cycle(colors[1:])\n",
    "    fig = go.Figure()\n",
    "    fig.add_trace(\n",
    "        go.Scatter(\n",
    "            x=pred_df[mask].index,\n",
    "            y=pred_df[mask].energy_consumption,\n",
    "            mode=\"lines\",\n",
    "            line=dict(color=act_color.replace(\"<alpha>\", \"0.9\")),\n",
    "            name=\"Actual Consumption\",\n",
    "        )\n",
    "    )\n",
    "    for col, display_col in zip(forecast_columns, forecast_display_names):\n",
    "        fig.add_trace(\n",
    "            go.Scatter(\n",
    "                x=pred_df[mask].index,\n",
    "                y=pred_df.loc[mask, col],\n",
    "                mode=\"lines\",\n",
    "                line=dict(dash=\"dot\", color=next(colors).replace(\"<alpha>\", \"1\")),\n",
    "                name=display_col,\n",
    "            )\n",
    "        )\n",
    "    return fig\n",
    "\n",
    "def highlight_abs_min(s, props=''):\n",
    "    return np.where(s == np.nanmin(np.abs(s.values)), props, '')"
   ]
  },
  {
   "cell_type": "markdown",
   "id": "28b5c5f4-29e5-4a80-825f-83eb976c5eb3",
   "metadata": {},
   "source": [
    "## Reading the data"
   ]
  },
  {
   "cell_type": "code",
   "execution_count": 7,
   "id": "91a45da0-76e2-46ed-9eef-5cd1a1b5623c",
   "metadata": {},
   "outputs": [],
   "source": [
    "try:\n",
    "    #Reading the missing value imputed and train test split data\n",
    "    train_df = pd.read_parquet(preprocessed/\"selected_blocks_train_missing_imputed_feature_engg.parquet\")\n",
    "    # Read in the Validation dataset as test_df so that we predict on it\n",
    "    test_df = pd.read_parquet(preprocessed/\"selected_blocks_val_missing_imputed_feature_engg.parquet\")\n",
    "    # test_df = pd.read_parquet(preprocessed/\"block_0-7_test_missing_imputed_feature_engg.parquet\")\n",
    "except FileNotFoundError:\n",
    "    display(HTML(\"\"\"\n",
    "    <div class=\"alert alert-block alert-warning\">\n",
    "    <b>Warning!</b> File not found. Please make sure you have run 01-Feature Engineering.ipynb in Chapter06\n",
    "    </div>\n",
    "    \"\"\"))"
   ]
  },
  {
   "cell_type": "markdown",
   "id": "1a785ca6-9eb3-4aff-88c5-18816959ceb3",
   "metadata": {},
   "source": [
    "Selecting only half the blocks to make deep learning training smoother, faster and fit in GPU memory. This is purely a hardware constraint and done beacause dealing with the engineering challenges of handling huge datasets is out of scope for this book."
   ]
  },
  {
   "cell_type": "code",
   "execution_count": 8,
   "id": "a1b2bac1-0add-4a72-9782-7b765d46fe0b",
   "metadata": {},
   "outputs": [],
   "source": [
    "uniq_blocks = train_df.file.unique().tolist()\n",
    "sel_blocks = sorted(uniq_blocks, key=lambda x: int(x.replace(\"block_\",\"\")))[:len(uniq_blocks)//2]\n",
    "train_df = train_df.loc[train_df.file.isin(sel_blocks)]\n",
    "test_df = test_df.loc[test_df.file.isin(sel_blocks)]\n",
    "sel_lclids = train_df.LCLid.unique().tolist()"
   ]
  },
  {
   "cell_type": "code",
   "execution_count": 9,
   "id": "5fe10433-e8a0-490d-a476-54ef6b73240a",
   "metadata": {},
   "outputs": [],
   "source": [
    "target = \"energy_consumption\"\n",
    "index_cols = [\"LCLid\", \"timestamp\"]"
   ]
  },
  {
   "cell_type": "code",
   "execution_count": 10,
   "id": "bd73612f-5cfc-4331-bf7f-158f5a77251e",
   "metadata": {},
   "outputs": [],
   "source": [
    "# Setting the indices\n",
    "train_df.set_index(index_cols, inplace=True, drop=False)\n",
    "test_df.set_index(index_cols, inplace=True, drop=False)\n",
    "# Creating a pred_df with actuals\n",
    "pred_df = pd.concat([train_df[[target]], test_df[[target]]])"
   ]
  },
  {
   "cell_type": "markdown",
   "id": "60dac12a-86d0-44eb-8497-c94f0cf51dbf",
   "metadata": {},
   "source": [
    "### Loading the GFM Forecast and calculating the aggregate metrics on selected LCLids"
   ]
  },
  {
   "cell_type": "code",
   "execution_count": 11,
   "id": "e1be72a3-0a54-4444-88fa-740ea826d0e6",
   "metadata": {},
   "outputs": [
    {
     "data": {
      "application/vnd.jupyter.widget-view+json": {
       "model_id": "e7b11ab36ea0400ba9acbc717b62b2cf",
       "version_major": 2,
       "version_minor": 0
      },
      "text/plain": [
       "Calculating metrics...:   0%|          | 0/69 [00:00<?, ?it/s]"
      ]
     },
     "metadata": {},
     "output_type": "display_data"
    }
   ],
   "source": [
    "try:\n",
    "    global_ml_fc_df = pd.read_pickle(output/\"gfm_predictions_val_df.pkl\")\n",
    "    global_ml_fc_df = global_ml_fc_df.loc[global_ml_fc_df.index.get_level_values(0).isin(sel_lclids)]\n",
    "\n",
    "    baseline_agg_metrics, baseline_metrics_df = evaluate_forecast(y_pred=global_ml_fc_df[\"GFM+Meta  (NativeLGBM)\"], \n",
    "                                                     test_target = global_ml_fc_df[\"energy_consumption\"], train_target = train_df[\"energy_consumption\"], model_name=\"GFM+Meta  (NativeLGBM)\")\n",
    "except FileNotFoundError:\n",
    "    display(HTML(\"\"\"\n",
    "    <div class=\"alert alert-block alert-warning\">\n",
    "    <b>Warning!</b> File not found. Please make sure you have run 01-Global Forecasting Models-ML.ipynb in Chapter10\n",
    "    </div>\n",
    "    \"\"\"))"
   ]
  },
  {
   "cell_type": "markdown",
   "id": "26327070-5ebf-4648-bfcb-951eca45e5d7",
   "metadata": {
    "tags": []
   },
   "source": [
    "# Missing Value Handling"
   ]
  },
  {
   "cell_type": "markdown",
   "id": "bbc19bb7-6477-4821-8d0b-300d115d32cf",
   "metadata": {
    "tags": []
   },
   "source": [
    "## Null check"
   ]
  },
  {
   "cell_type": "code",
   "execution_count": 12,
   "id": "34e44aa9-8f06-465d-a07b-279f923f11f7",
   "metadata": {},
   "outputs": [
    {
     "data": {
      "text/plain": [
       "pressure                                           1450\n",
       "energy_consumption_lag_1                             69\n",
       "energy_consumption_lag_2                            138\n",
       "energy_consumption_lag_3                            207\n",
       "energy_consumption_lag_4                            276\n",
       "energy_consumption_lag_5                            345\n",
       "energy_consumption_lag_46                          3174\n",
       "energy_consumption_lag_47                          3243\n",
       "energy_consumption_lag_48                          3312\n",
       "energy_consumption_lag_49                          3381\n",
       "energy_consumption_lag_50                          3450\n",
       "energy_consumption_lag_334                        23046\n",
       "energy_consumption_lag_335                        23115\n",
       "energy_consumption_lag_336                        23184\n",
       "energy_consumption_lag_337                        23253\n",
       "energy_consumption_lag_338                        23322\n",
       "energy_consumption_rolling_3_mean                   207\n",
       "energy_consumption_rolling_3_std                    207\n",
       "energy_consumption_rolling_6_mean                   414\n",
       "energy_consumption_rolling_6_std                    414\n",
       "energy_consumption_rolling_12_mean                  828\n",
       "energy_consumption_rolling_12_std                   828\n",
       "energy_consumption_rolling_48_mean                 3312\n",
       "energy_consumption_rolling_48_std                  3312\n",
       "energy_consumption_48_seasonal_rolling_3_mean      9936\n",
       "energy_consumption_48_seasonal_rolling_3_std      18611\n",
       "energy_consumption_336_seasonal_rolling_3_mean    69552\n",
       "energy_consumption_336_seasonal_rolling_3_std     92904\n",
       "dtype: int64"
      ]
     },
     "execution_count": 12,
     "metadata": {},
     "output_type": "execute_result"
    }
   ],
   "source": [
    "nc = train_df.isnull().sum()\n",
    "nc[nc>0]"
   ]
  },
  {
   "cell_type": "code",
   "execution_count": 13,
   "id": "5cd8e682-74bf-4f37-9dec-df9b63fee673",
   "metadata": {},
   "outputs": [],
   "source": [
    "missing_value_config = MissingValueConfig(\n",
    "    bfill_columns=[\n",
    "        \"energy_consumption_lag_1\",\n",
    "        \"energy_consumption_lag_2\",\n",
    "        \"energy_consumption_lag_3\",\n",
    "        \"energy_consumption_lag_4\",\n",
    "        \"energy_consumption_lag_5\",\n",
    "        \"energy_consumption_lag_46\",\n",
    "        \"energy_consumption_lag_47\",\n",
    "        \"energy_consumption_lag_48\",\n",
    "        \"energy_consumption_lag_49\",\n",
    "        \"energy_consumption_lag_50\",\n",
    "        \"energy_consumption_lag_334\",\n",
    "        \"energy_consumption_lag_335\",\n",
    "        \"energy_consumption_lag_336\",\n",
    "        \"energy_consumption_lag_337\",\n",
    "        \"energy_consumption_lag_338\",\n",
    "        \"energy_consumption_rolling_3_mean\",\n",
    "        \"energy_consumption_rolling_3_std\",\n",
    "        \"energy_consumption_rolling_6_mean\",\n",
    "        \"energy_consumption_rolling_6_std\",\n",
    "        \"energy_consumption_rolling_12_mean\",\n",
    "        \"energy_consumption_rolling_12_std\",\n",
    "        \"energy_consumption_rolling_48_mean\",\n",
    "        \"energy_consumption_rolling_48_std\",\n",
    "        \"energy_consumption_48_seasonal_rolling_3_mean\",\n",
    "        \"energy_consumption_48_seasonal_rolling_3_std\",\n",
    "        \"energy_consumption_336_seasonal_rolling_3_mean\",\n",
    "        \"energy_consumption_336_seasonal_rolling_3_std\",\n",
    "        \"energy_consumption_ewma__span_2880\",\n",
    "        \"energy_consumption_ewma__span_336\",\n",
    "        \"energy_consumption_ewma__span_48\",\n",
    "    ],\n",
    "    ffill_columns=[],\n",
    "    zero_fill_columns=[],\n",
    ")"
   ]
  },
  {
   "cell_type": "code",
   "execution_count": 14,
   "id": "aef8b031-fe0b-4062-9a39-1e3d21e7b5dc",
   "metadata": {},
   "outputs": [],
   "source": [
    "train_df = missing_value_config.impute_missing_values(train_df)\n",
    "test_df = missing_value_config.impute_missing_values(test_df)"
   ]
  },
  {
   "cell_type": "code",
   "execution_count": 15,
   "id": "94f7375c-b378-4213-95db-57ac7ed5733b",
   "metadata": {},
   "outputs": [
    {
     "data": {
      "text/plain": [
       "Series([], dtype: int64)"
      ]
     },
     "execution_count": 15,
     "metadata": {},
     "output_type": "execute_result"
    }
   ],
   "source": [
    "nc = train_df.isnull().sum()\n",
    "nc[nc>0]"
   ]
  },
  {
   "cell_type": "markdown",
   "id": "a3f58137-48c8-4a7a-b459-5579612385bf",
   "metadata": {
    "tags": []
   },
   "source": [
    "# Running DL Global models"
   ]
  },
  {
   "cell_type": "code",
   "execution_count": 16,
   "id": "edd4c88d-f1ea-4566-8dcb-7c0010f4e22c",
   "metadata": {
    "tags": []
   },
   "outputs": [],
   "source": [
    "metric_record = [baseline_agg_metrics]"
   ]
  },
  {
   "cell_type": "markdown",
   "id": "b2952da7-8f29-4917-a9e7-38587e75471c",
   "metadata": {
    "tags": []
   },
   "source": [
    "## PyTorch Tabular"
   ]
  },
  {
   "cell_type": "code",
   "execution_count": 17,
   "id": "e2450814-97e9-41a4-ba4f-406c87b5f3ce",
   "metadata": {},
   "outputs": [],
   "source": [
    "from pytorch_tabular import TabularModel\n",
    "from pytorch_tabular.models import FTTransformerConfig\n",
    "from pytorch_tabular.config import DataConfig, OptimizerConfig, TrainerConfig, ExperimentConfig"
   ]
  },
  {
   "cell_type": "code",
   "execution_count": 18,
   "id": "f35084e8-9864-4bdc-9407-86c5f309c5cb",
   "metadata": {},
   "outputs": [],
   "source": [
    "data_config = DataConfig(\n",
    "    target=[target], #target should always be a list. Multi-targets are only supported for regression. Multi-Task Classification is not implemented\n",
    "    continuous_cols=[\n",
    "        \"visibility\",\n",
    "        \"windBearing\",\n",
    "        \"temperature\",\n",
    "        \"dewPoint\",\n",
    "        \"pressure\",\n",
    "        \"apparentTemperature\",\n",
    "        \"windSpeed\",\n",
    "        \"humidity\",\n",
    "        \"energy_consumption_lag_1\",\n",
    "        \"energy_consumption_lag_2\",\n",
    "        \"energy_consumption_lag_3\",\n",
    "        \"energy_consumption_lag_4\",\n",
    "        \"energy_consumption_lag_5\",\n",
    "        \"energy_consumption_lag_46\",\n",
    "        \"energy_consumption_lag_47\",\n",
    "        \"energy_consumption_lag_48\",\n",
    "        \"energy_consumption_lag_49\",\n",
    "        \"energy_consumption_lag_50\",\n",
    "        \"energy_consumption_lag_334\",\n",
    "        \"energy_consumption_lag_335\",\n",
    "        \"energy_consumption_lag_336\",\n",
    "        \"energy_consumption_lag_337\",\n",
    "        \"energy_consumption_lag_338\",\n",
    "        \"energy_consumption_rolling_3_mean\",\n",
    "        \"energy_consumption_rolling_3_std\",\n",
    "        \"energy_consumption_rolling_6_mean\",\n",
    "        \"energy_consumption_rolling_6_std\",\n",
    "        \"energy_consumption_rolling_12_mean\",\n",
    "        \"energy_consumption_rolling_12_std\",\n",
    "        \"energy_consumption_rolling_48_mean\",\n",
    "        \"energy_consumption_rolling_48_std\",\n",
    "        \"energy_consumption_48_seasonal_rolling_3_mean\",\n",
    "        \"energy_consumption_48_seasonal_rolling_3_std\",\n",
    "        \"energy_consumption_336_seasonal_rolling_3_mean\",\n",
    "        \"energy_consumption_336_seasonal_rolling_3_std\",\n",
    "        \"energy_consumption_ewma_span_2880\",\n",
    "        \"energy_consumption_ewma_span_336\",\n",
    "        \"energy_consumption_ewma_span_48\",\n",
    "        \"timestamp_Elapsed\",\n",
    "        \"timestamp_Month_sin_1\",\n",
    "        \"timestamp_Month_sin_2\",\n",
    "        \"timestamp_Month_sin_3\",\n",
    "        \"timestamp_Month_sin_4\",\n",
    "        \"timestamp_Month_sin_5\",\n",
    "        \"timestamp_Month_cos_1\",\n",
    "        \"timestamp_Month_cos_2\",\n",
    "        \"timestamp_Month_cos_3\",\n",
    "        \"timestamp_Month_cos_4\",\n",
    "        \"timestamp_Month_cos_5\",\n",
    "        \"timestamp_Hour_sin_1\",\n",
    "        \"timestamp_Hour_sin_2\",\n",
    "        \"timestamp_Hour_sin_3\",\n",
    "        \"timestamp_Hour_sin_4\",\n",
    "        \"timestamp_Hour_sin_5\",\n",
    "        \"timestamp_Hour_cos_1\",\n",
    "        \"timestamp_Hour_cos_2\",\n",
    "        \"timestamp_Hour_cos_3\",\n",
    "        \"timestamp_Hour_cos_4\",\n",
    "        \"timestamp_Hour_cos_5\",\n",
    "        \"timestamp_Minute_sin_1\",\n",
    "        \"timestamp_Minute_sin_2\",\n",
    "        \"timestamp_Minute_sin_3\",\n",
    "        \"timestamp_Minute_sin_4\",\n",
    "        \"timestamp_Minute_sin_5\",\n",
    "        \"timestamp_Minute_cos_1\",\n",
    "        \"timestamp_Minute_cos_2\",\n",
    "        \"timestamp_Minute_cos_3\",\n",
    "        \"timestamp_Minute_cos_4\",\n",
    "        \"timestamp_Minute_cos_5\",\n",
    "        \"timestamp_Is_quarter_end\",\n",
    "        \"timestamp_Is_quarter_start\",\n",
    "        \"timestamp_Is_year_end\",\n",
    "        \"timestamp_Is_year_start\",\n",
    "        \"timestamp_Is_month_start\",\n",
    "    ],\n",
    "    categorical_cols=[\n",
    "        \"holidays\",\n",
    "        \"precipType\",\n",
    "        \"icon\",\n",
    "        \"summary\",\n",
    "        \"timestamp_Month\",\n",
    "        \"timestamp_Quarter\",\n",
    "        \"timestamp_WeekDay\",\n",
    "        \"timestamp_Dayofweek\",\n",
    "        \"timestamp_Dayofyear\",\n",
    "        \"timestamp_Hour\",\n",
    "        \"timestamp_Minute\",\n",
    "        \"stdorToU\", \n",
    "        \"Acorn\", \n",
    "        \"Acorn_grouped\", \n",
    "        \"LCLid\"\n",
    "    ],\n",
    "    normalize_continuous_features=True\n",
    ")\n",
    "trainer_config = TrainerConfig(\n",
    "    auto_lr_find=True, # Runs the LRFinder to automatically derive a learning rate\n",
    "    batch_size=1024,\n",
    "    max_epochs=1000,\n",
    "    auto_select_gpus=True,\n",
    "    gpus=-1\n",
    ")\n",
    "optimizer_config = OptimizerConfig()"
   ]
  },
  {
   "cell_type": "code",
   "execution_count": 19,
   "id": "34b4c005-2478-4809-8b22-fa1261ed9141",
   "metadata": {},
   "outputs": [],
   "source": [
    "# Making categorical columns as string because PyTorch Tabular currently doenst support categorical dtype\n",
    "train_df[data_config.categorical_cols] = train_df[data_config.categorical_cols].astype(str)\n",
    "test_df[data_config.categorical_cols] = test_df[data_config.categorical_cols].astype(str)"
   ]
  },
  {
   "cell_type": "markdown",
   "id": "a9ba1476-5dff-4973-b794-c7892ae3897a",
   "metadata": {
    "tags": []
   },
   "source": [
    "### FT Transformer Model"
   ]
  },
  {
   "cell_type": "code",
   "execution_count": 20,
   "id": "f020b2d6-bbcf-4eff-9c46-2ae66b18d24c",
   "metadata": {},
   "outputs": [],
   "source": [
    "model_config = FTTransformerConfig(\n",
    "    task=\"regression\",\n",
    "    num_attn_blocks=3,\n",
    "    num_heads=4,\n",
    "    transformer_head_dim=64,\n",
    "    attn_dropout=0.2,\n",
    "    ff_dropout=0.1,\n",
    "    out_ff_layers=\"32\",\n",
    "    learning_rate = 1e-3,\n",
    "    metrics=[\"mean_squared_error\"]\n",
    ")\n",
    "tabular_model = TabularModel(\n",
    "    data_config=data_config,\n",
    "    model_config=model_config,\n",
    "    optimizer_config=optimizer_config,\n",
    "    trainer_config=trainer_config,\n",
    ")"
   ]
  },
  {
   "cell_type": "code",
   "execution_count": 21,
   "id": "b08cee3f-9224-48c7-9a4d-154c01e7d79a",
   "metadata": {},
   "outputs": [
    {
     "name": "stderr",
     "output_type": "stream",
     "text": [
      "GPU available: True, used: True\n",
      "TPU available: False, using: 0 TPU cores\n"
     ]
    }
   ],
   "source": [
    "# tabular_model = TabularModel.load_from_checkpoint(\"notebooks/Chapter12/ft_transformer_global\")"
   ]
  },
  {
   "cell_type": "code",
   "execution_count": 56,
   "id": "7f1c1600-7f53-4698-af3c-04794b59a494",
   "metadata": {},
   "outputs": [
    {
     "name": "stderr",
     "output_type": "stream",
     "text": [
      "Global seed set to 42\n",
      "C:\\Users\\ManuJoseph\\miniconda3\\envs\\modern_ts_v2\\lib\\site-packages\\pytorch_lightning\\utilities\\distributed.py:69: UserWarning: Checkpoint directory saved_models exists and is not empty.\n",
      "  warnings.warn(*args, **kwargs)\n",
      "GPU available: True, used: True\n",
      "TPU available: False, using: 0 TPU cores\n",
      "LOCAL_RANK: 0 - CUDA_VISIBLE_DEVICES: [0]\n",
      "\n",
      "  | Name         | Type                  | Params\n",
      "-------------------------------------------------------\n",
      "0 | backbone     | FTTransformerBackbone | 110 K \n",
      "1 | dropout      | Dropout               | 0     \n",
      "2 | output_layer | Linear                | 33    \n",
      "3 | loss         | MSELoss               | 0     \n",
      "-------------------------------------------------------\n",
      "110 K     Trainable params\n",
      "0         Non-trainable params\n",
      "110 K     Total params\n",
      "0.442     Total estimated model params size (MB)\n",
      "C:\\Users\\ManuJoseph\\miniconda3\\envs\\modern_ts_v2\\lib\\site-packages\\pytorch_lightning\\utilities\\distributed.py:69: UserWarning: The dataloader, val dataloader 0, does not have many workers which may be a bottleneck. Consider increasing the value of the `num_workers` argument` (try 16 which is the number of cpus on this machine) in the `DataLoader` init to improve performance.\n",
      "  warnings.warn(*args, **kwargs)\n",
      "Global seed set to 42\n",
      "C:\\Users\\ManuJoseph\\miniconda3\\envs\\modern_ts_v2\\lib\\site-packages\\pytorch_lightning\\utilities\\distributed.py:69: UserWarning: The dataloader, train dataloader, does not have many workers which may be a bottleneck. Consider increasing the value of the `num_workers` argument` (try 16 which is the number of cpus on this machine) in the `DataLoader` init to improve performance.\n",
      "  warnings.warn(*args, **kwargs)\n"
     ]
    },
    {
     "data": {
      "application/vnd.jupyter.widget-view+json": {
       "model_id": "3c486a8ef9244a02a31dd42ed157208d",
       "version_major": 2,
       "version_minor": 0
      },
      "text/plain": [
       "Finding best initial lr:   0%|          | 0/100 [00:00<?, ?it/s]"
      ]
     },
     "metadata": {},
     "output_type": "display_data"
    },
    {
     "name": "stderr",
     "output_type": "stream",
     "text": [
      "LR finder stopped early after 97 steps due to diverging loss.\n",
      "Restored states from the checkpoint file at C:\\Users\\ManuJoseph\\OneDrive - Thoucentric\\Work\\Projects\\Playground\\AdvancedTimeSeriesForecastingBook\\Github\\Modern-Time-Series-Forecasting-with-Python-\\lr_find_temp_model.ckpt\n",
      "Learning rate set to 0.0003019951720402019\n",
      "LOCAL_RANK: 0 - CUDA_VISIBLE_DEVICES: [0]\n",
      "\n",
      "  | Name         | Type                  | Params\n",
      "-------------------------------------------------------\n",
      "0 | backbone     | FTTransformerBackbone | 110 K \n",
      "1 | dropout      | Dropout               | 0     \n",
      "2 | output_layer | Linear                | 33    \n",
      "3 | loss         | MSELoss               | 0     \n",
      "-------------------------------------------------------\n",
      "110 K     Trainable params\n",
      "0         Non-trainable params\n",
      "110 K     Total params\n",
      "0.442     Total estimated model params size (MB)\n"
     ]
    },
    {
     "data": {
      "application/vnd.jupyter.widget-view+json": {
       "model_id": "",
       "version_major": 2,
       "version_minor": 0
      },
      "text/plain": [
       "Validation sanity check: 0it [00:00, ?it/s]"
      ]
     },
     "metadata": {},
     "output_type": "display_data"
    },
    {
     "name": "stderr",
     "output_type": "stream",
     "text": [
      "Global seed set to 42\n"
     ]
    },
    {
     "data": {
      "application/vnd.jupyter.widget-view+json": {
       "model_id": "5c5fd45b98e44521ac45dd3491e2a3c2",
       "version_major": 2,
       "version_minor": 0
      },
      "text/plain": [
       "Training: 96it [00:00, ?it/s]"
      ]
     },
     "metadata": {},
     "output_type": "display_data"
    },
    {
     "data": {
      "application/vnd.jupyter.widget-view+json": {
       "model_id": "",
       "version_major": 2,
       "version_minor": 0
      },
      "text/plain": [
       "Validating: 0it [00:00, ?it/s]"
      ]
     },
     "metadata": {},
     "output_type": "display_data"
    },
    {
     "data": {
      "application/vnd.jupyter.widget-view+json": {
       "model_id": "",
       "version_major": 2,
       "version_minor": 0
      },
      "text/plain": [
       "Validating: 0it [00:00, ?it/s]"
      ]
     },
     "metadata": {},
     "output_type": "display_data"
    },
    {
     "data": {
      "application/vnd.jupyter.widget-view+json": {
       "model_id": "",
       "version_major": 2,
       "version_minor": 0
      },
      "text/plain": [
       "Validating: 0it [00:00, ?it/s]"
      ]
     },
     "metadata": {},
     "output_type": "display_data"
    },
    {
     "data": {
      "application/vnd.jupyter.widget-view+json": {
       "model_id": "",
       "version_major": 2,
       "version_minor": 0
      },
      "text/plain": [
       "Validating: 0it [00:00, ?it/s]"
      ]
     },
     "metadata": {},
     "output_type": "display_data"
    },
    {
     "data": {
      "application/vnd.jupyter.widget-view+json": {
       "model_id": "",
       "version_major": 2,
       "version_minor": 0
      },
      "text/plain": [
       "Validating: 0it [00:00, ?it/s]"
      ]
     },
     "metadata": {},
     "output_type": "display_data"
    },
    {
     "data": {
      "application/vnd.jupyter.widget-view+json": {
       "model_id": "",
       "version_major": 2,
       "version_minor": 0
      },
      "text/plain": [
       "Validating: 0it [00:00, ?it/s]"
      ]
     },
     "metadata": {},
     "output_type": "display_data"
    },
    {
     "data": {
      "application/vnd.jupyter.widget-view+json": {
       "model_id": "",
       "version_major": 2,
       "version_minor": 0
      },
      "text/plain": [
       "Validating: 0it [00:00, ?it/s]"
      ]
     },
     "metadata": {},
     "output_type": "display_data"
    },
    {
     "data": {
      "application/vnd.jupyter.widget-view+json": {
       "model_id": "",
       "version_major": 2,
       "version_minor": 0
      },
      "text/plain": [
       "Validating: 0it [00:00, ?it/s]"
      ]
     },
     "metadata": {},
     "output_type": "display_data"
    }
   ],
   "source": [
    "tabular_model.fit(train=train_df)\n",
    "#Saving because you need not train the model again after restarting your kernel or machine etc. and can use the previous cell to load the saved model\n",
    "tabular_model.save_model(\"notebooks/Chapter12/ft_transformer_global\")\n",
    "# Deleting automatically saved checkpoints\n",
    "shutil.rmtree(\"saved_models\")"
   ]
  },
  {
   "cell_type": "code",
   "execution_count": 22,
   "id": "aa9b187f-26e1-42b7-9695-adb74b31dc34",
   "metadata": {},
   "outputs": [
    {
     "data": {
      "application/vnd.jupyter.widget-view+json": {
       "model_id": "17916419036e4122ac47983a695a63fd",
       "version_major": 2,
       "version_minor": 0
      },
      "text/plain": [
       "Generating Predictions...:   0%|          | 0/101 [00:00<?, ?it/s]"
      ]
     },
     "metadata": {},
     "output_type": "display_data"
    },
    {
     "data": {
      "application/vnd.jupyter.widget-view+json": {
       "model_id": "967bec9073af4e3da4e5f186d95ec688",
       "version_major": 2,
       "version_minor": 0
      },
      "text/plain": [
       "Calculating metrics...:   0%|          | 0/69 [00:00<?, ?it/s]"
      ]
     },
     "metadata": {},
     "output_type": "display_data"
    }
   ],
   "source": [
    "forecast_df = tabular_model.predict(test_df)\n",
    "pred_df = pred_df.join(forecast_df[[\"energy_consumption_prediction\"]]).rename(\n",
    "    columns={\"enrgy_consumption_prediction\": model_config._model_name}\n",
    ")\n",
    "agg_metrics, eval_metrics_df = evaluate_forecast(\n",
    "    y_pred=forecast_df[f\"{target}_prediction\"],\n",
    "    test_target=forecast_df[\"energy_consumption\"],\n",
    "    train_target=train_df[\"energy_consumption\"],\n",
    "    model_name=model_config._model_name,\n",
    ")\n",
    "metric_record.append(agg_metrics)"
   ]
  },
  {
   "cell_type": "markdown",
   "id": "e5e51169-e983-44f0-97b0-c39d988ce549",
   "metadata": {
    "tags": []
   },
   "source": [
    "# Evaluation of ML Forecast"
   ]
  },
  {
   "cell_type": "code",
   "execution_count": 23,
   "id": "e288dfc0-63a6-422e-8dde-a436bacb22cc",
   "metadata": {},
   "outputs": [],
   "source": [
    "from src.utils import ts_utils"
   ]
  },
  {
   "cell_type": "code",
   "execution_count": 24,
   "id": "08744668-4986-43f1-b744-fd5ad49353c4",
   "metadata": {},
   "outputs": [
    {
     "data": {
      "text/html": [
       "<style type=\"text/css\">\n",
       "#T_c0bb7_row0_col1, #T_c0bb7_row0_col3, #T_c0bb7_row1_col2 {\n",
       "  background-color: lightgreen;\n",
       "}\n",
       "</style>\n",
       "<table id=\"T_c0bb7_\">\n",
       "  <thead>\n",
       "    <tr>\n",
       "      <th class=\"blank level0\" >&nbsp;</th>\n",
       "      <th class=\"col_heading level0 col0\" >Algorithm</th>\n",
       "      <th class=\"col_heading level0 col1\" >MAE</th>\n",
       "      <th class=\"col_heading level0 col2\" >MSE</th>\n",
       "      <th class=\"col_heading level0 col3\" >meanMASE</th>\n",
       "      <th class=\"col_heading level0 col4\" >Forecast Bias</th>\n",
       "    </tr>\n",
       "  </thead>\n",
       "  <tbody>\n",
       "    <tr>\n",
       "      <th id=\"T_c0bb7_level0_row0\" class=\"row_heading level0 row0\" >0</th>\n",
       "      <td id=\"T_c0bb7_row0_col0\" class=\"data row0 col0\" >GFM+Meta  (NativeLGBM)</td>\n",
       "      <td id=\"T_c0bb7_row0_col1\" class=\"data row0 col1\" >0.0873</td>\n",
       "      <td id=\"T_c0bb7_row0_col2\" class=\"data row0 col2\" >0.0340</td>\n",
       "      <td id=\"T_c0bb7_row0_col3\" class=\"data row0 col3\" >1.0627</td>\n",
       "      <td id=\"T_c0bb7_row0_col4\" class=\"data row0 col4\" >-0.68%</td>\n",
       "    </tr>\n",
       "    <tr>\n",
       "      <th id=\"T_c0bb7_level0_row1\" class=\"row_heading level0 row1\" >1</th>\n",
       "      <td id=\"T_c0bb7_row1_col0\" class=\"data row1 col0\" >FTTransformerModel</td>\n",
       "      <td id=\"T_c0bb7_row1_col1\" class=\"data row1 col1\" >0.0913</td>\n",
       "      <td id=\"T_c0bb7_row1_col2\" class=\"data row1 col2\" >0.0332</td>\n",
       "      <td id=\"T_c0bb7_row1_col3\" class=\"data row1 col3\" >1.1598</td>\n",
       "      <td id=\"T_c0bb7_row1_col4\" class=\"data row1 col4\" >5.90%</td>\n",
       "    </tr>\n",
       "  </tbody>\n",
       "</table>\n"
      ],
      "text/plain": [
       "<pandas.io.formats.style.Styler at 0x29e2ad22130>"
      ]
     },
     "execution_count": 24,
     "metadata": {},
     "output_type": "execute_result"
    }
   ],
   "source": [
    "agg_metrics_df = pd.DataFrame(metric_record)\n",
    "agg_metrics_df.style.format({\"MAE\": \"{:.4f}\", \n",
    "                          \"MSE\": \"{:.4f}\", \n",
    "                          \"meanMASE\": \"{:.4f}\", \n",
    "                          \"Forecast Bias\": \"{:.2f}%\"}).highlight_min(color='lightgreen', subset=[\"MAE\",\"MSE\",\"meanMASE\"]).apply(highlight_abs_min, props='color:black;background-color:lightgreen', axis=0, subset=['Forecast Bias'])"
   ]
  },
  {
   "cell_type": "code",
   "execution_count": 29,
   "id": "bc6f752c-58b2-4447-804a-1c69cb81f905",
   "metadata": {},
   "outputs": [],
   "source": [
    "metrics_df = pd.concat([eval_metrics_df,baseline_metrics_df])"
   ]
  },
  {
   "cell_type": "code",
   "execution_count": 32,
   "id": "9d164184-dca3-4472-a138-c260019eeb68",
   "metadata": {},
   "outputs": [
    {
     "data": {
      "application/vnd.plotly.v1+json": {
       "config": {
        "plotlyServerURL": "https://plot.ly"
       },
       "data": [
        {
         "alignmentgroup": "True",
         "bingroup": "x",
         "histnorm": "probability density",
         "hovertemplate": "Algorithm=FTTransformerModel<br>MASE=%{x}<br>probability density=%{y}<extra></extra>",
         "legendgroup": "FTTransformerModel",
         "marker": {
          "color": "#636efa",
          "opacity": 0.5,
          "pattern": {
           "shape": ""
          }
         },
         "name": "FTTransformerModel",
         "nbinsx": 500,
         "offsetgroup": "FTTransformerModel",
         "orientation": "v",
         "showlegend": true,
         "type": "histogram",
         "x": [
          1.2644634246826172,
          1.6377524137496948,
          1.0889312028884888,
          1.006748080253601,
          1.26925528049469,
          0.6473384499549866,
          1.6715271472930908,
          1.0840047597885132,
          1.178343653678894,
          0.9009094834327698,
          1.1160582304000854,
          1.0125703811645508,
          0.9960922598838806,
          1.2559195756912231,
          1.091292142868042,
          0.7624892592430115,
          1.0164194107055664,
          0.3833993077278137,
          1.1035963296890259,
          0.8524196147918701,
          1.2349294424057007,
          1.3131686449050903,
          0.7121133208274841,
          0.9272570610046387,
          0.7676012516021729,
          0.8921013474464417,
          1.0312645435333252,
          3.342938184738159,
          4.081630706787109,
          0.8806096315383911,
          1.2826234102249146,
          1.008954405784607,
          1.730843186378479,
          1.2611292600631714,
          0.9319334030151367,
          1.007881999015808,
          1.050364375114441,
          0.7196930050849915,
          1.062604308128357,
          0.9136992692947388,
          0.8938698768615723,
          1.4115567207336426,
          1.265828013420105,
          1.0117467641830444,
          1.2907079458236694,
          0.9914540648460388,
          1.7407845258712769,
          1.2682245969772339,
          0.7661442756652832,
          1.912598967552185,
          1.3027464151382446,
          1.1157339811325073,
          0.912433922290802,
          0.2695240080356598,
          0.9255346655845642,
          1.1977299451828003,
          0.9992951154708862,
          0.8795876502990723,
          1.119124174118042,
          0.9250891208648682,
          1.0421806573867798,
          1.023065209388733,
          1.776354193687439,
          0.7764973044395447,
          1.179025650024414,
          0.8078598380088806,
          1.0006513595581055,
          1.4033054113388062,
          1.3260890245437622
         ],
         "xaxis": "x",
         "yaxis": "y"
        },
        {
         "alignmentgroup": "True",
         "hovertemplate": "Algorithm=FTTransformerModel<br>MASE=%{x}<extra></extra>",
         "legendgroup": "FTTransformerModel",
         "marker": {
          "color": "#636efa"
         },
         "name": "FTTransformerModel",
         "notched": true,
         "offsetgroup": "FTTransformerModel",
         "showlegend": false,
         "type": "box",
         "x": [
          1.2644634246826172,
          1.6377524137496948,
          1.0889312028884888,
          1.006748080253601,
          1.26925528049469,
          0.6473384499549866,
          1.6715271472930908,
          1.0840047597885132,
          1.178343653678894,
          0.9009094834327698,
          1.1160582304000854,
          1.0125703811645508,
          0.9960922598838806,
          1.2559195756912231,
          1.091292142868042,
          0.7624892592430115,
          1.0164194107055664,
          0.3833993077278137,
          1.1035963296890259,
          0.8524196147918701,
          1.2349294424057007,
          1.3131686449050903,
          0.7121133208274841,
          0.9272570610046387,
          0.7676012516021729,
          0.8921013474464417,
          1.0312645435333252,
          3.342938184738159,
          4.081630706787109,
          0.8806096315383911,
          1.2826234102249146,
          1.008954405784607,
          1.730843186378479,
          1.2611292600631714,
          0.9319334030151367,
          1.007881999015808,
          1.050364375114441,
          0.7196930050849915,
          1.062604308128357,
          0.9136992692947388,
          0.8938698768615723,
          1.4115567207336426,
          1.265828013420105,
          1.0117467641830444,
          1.2907079458236694,
          0.9914540648460388,
          1.7407845258712769,
          1.2682245969772339,
          0.7661442756652832,
          1.912598967552185,
          1.3027464151382446,
          1.1157339811325073,
          0.912433922290802,
          0.2695240080356598,
          0.9255346655845642,
          1.1977299451828003,
          0.9992951154708862,
          0.8795876502990723,
          1.119124174118042,
          0.9250891208648682,
          1.0421806573867798,
          1.023065209388733,
          1.776354193687439,
          0.7764973044395447,
          1.179025650024414,
          0.8078598380088806,
          1.0006513595581055,
          1.4033054113388062,
          1.3260890245437622
         ],
         "xaxis": "x2",
         "yaxis": "y2"
        },
        {
         "alignmentgroup": "True",
         "bingroup": "x",
         "histnorm": "probability density",
         "hovertemplate": "Algorithm=GFM<br>MASE=%{x}<br>probability density=%{y}<extra></extra>",
         "legendgroup": "GFM",
         "marker": {
          "color": "#EF553B",
          "opacity": 0.5,
          "pattern": {
           "shape": "/"
          }
         },
         "name": "GFM",
         "nbinsx": 500,
         "offsetgroup": "GFM",
         "orientation": "v",
         "showlegend": true,
         "type": "histogram",
         "x": [
          1.1093933608205628,
          1.4487038953157154,
          1.0173573835580796,
          0.9001718036313496,
          1.244993169883961,
          0.6107510125750366,
          1.7688166360071804,
          0.9243955153700748,
          1.1757182623067528,
          0.826465326248407,
          1.0323705089221678,
          0.92364812292159,
          0.9192169843697421,
          1.1705443059733907,
          1.0144074895959778,
          0.6922774784368518,
          0.9058795622630482,
          0.16748168478414194,
          1.0391790576493716,
          0.8218349423413858,
          1.203213994510373,
          1.1842593494030609,
          0.6903629594841524,
          0.8626182180495111,
          0.714988591164153,
          0.786546753718146,
          0.9599934498897024,
          0.8467990059717291,
          4.84184095080787,
          0.843222536650779,
          1.1913129534377358,
          0.9646405928653637,
          1.5765139870217417,
          1.1889979319351553,
          0.9698984205016139,
          0.9043245139061301,
          1.0142779173732517,
          0.6688195593716296,
          0.991219025574295,
          0.8190484829269361,
          0.8007507983542825,
          1.220664632074331,
          1.1947218224317662,
          0.9388117509215145,
          1.0973495021529553,
          0.8995225837750219,
          1.398025349322448,
          1.1915360303785811,
          0.7417755237585619,
          1.8183443217244963,
          1.2522645921267228,
          1.0452274382734839,
          0.9928894089224993,
          0.24558110045882361,
          0.8811837608406523,
          1.1160515880452122,
          0.8914534615664398,
          0.8334274511508528,
          1.0336698992340507,
          0.8151765263342514,
          1.0708564124697235,
          0.9425941354727134,
          1.6877709461895043,
          0.7053381073840475,
          1.264923847797877,
          0.8115003699009455,
          0.937023328920425,
          1.3198284251781824,
          1.2415649948445306
         ],
         "xaxis": "x",
         "yaxis": "y"
        },
        {
         "alignmentgroup": "True",
         "hovertemplate": "Algorithm=GFM<br>MASE=%{x}<extra></extra>",
         "legendgroup": "GFM",
         "marker": {
          "color": "#EF553B"
         },
         "name": "GFM",
         "notched": true,
         "offsetgroup": "GFM",
         "showlegend": false,
         "type": "box",
         "x": [
          1.1093933608205628,
          1.4487038953157154,
          1.0173573835580796,
          0.9001718036313496,
          1.244993169883961,
          0.6107510125750366,
          1.7688166360071804,
          0.9243955153700748,
          1.1757182623067528,
          0.826465326248407,
          1.0323705089221678,
          0.92364812292159,
          0.9192169843697421,
          1.1705443059733907,
          1.0144074895959778,
          0.6922774784368518,
          0.9058795622630482,
          0.16748168478414194,
          1.0391790576493716,
          0.8218349423413858,
          1.203213994510373,
          1.1842593494030609,
          0.6903629594841524,
          0.8626182180495111,
          0.714988591164153,
          0.786546753718146,
          0.9599934498897024,
          0.8467990059717291,
          4.84184095080787,
          0.843222536650779,
          1.1913129534377358,
          0.9646405928653637,
          1.5765139870217417,
          1.1889979319351553,
          0.9698984205016139,
          0.9043245139061301,
          1.0142779173732517,
          0.6688195593716296,
          0.991219025574295,
          0.8190484829269361,
          0.8007507983542825,
          1.220664632074331,
          1.1947218224317662,
          0.9388117509215145,
          1.0973495021529553,
          0.8995225837750219,
          1.398025349322448,
          1.1915360303785811,
          0.7417755237585619,
          1.8183443217244963,
          1.2522645921267228,
          1.0452274382734839,
          0.9928894089224993,
          0.24558110045882361,
          0.8811837608406523,
          1.1160515880452122,
          0.8914534615664398,
          0.8334274511508528,
          1.0336698992340507,
          0.8151765263342514,
          1.0708564124697235,
          0.9425941354727134,
          1.6877709461895043,
          0.7053381073840475,
          1.264923847797877,
          0.8115003699009455,
          0.937023328920425,
          1.3198284251781824,
          1.2415649948445306
         ],
         "xaxis": "x2",
         "yaxis": "y2"
        }
       ],
       "layout": {
        "autosize": false,
        "barmode": "overlay",
        "height": 500,
        "legend": {
         "font": {
          "size": 15
         },
         "orientation": "h",
         "title": {},
         "tracegroupgap": 0,
         "x": 1,
         "xanchor": "right",
         "y": 0.98,
         "yanchor": "bottom"
        },
        "margin": {
         "t": 60
        },
        "template": {
         "data": {
          "bar": [
           {
            "error_x": {
             "color": "#2a3f5f"
            },
            "error_y": {
             "color": "#2a3f5f"
            },
            "marker": {
             "line": {
              "color": "white",
              "width": 0.5
             },
             "pattern": {
              "fillmode": "overlay",
              "size": 10,
              "solidity": 0.2
             }
            },
            "type": "bar"
           }
          ],
          "barpolar": [
           {
            "marker": {
             "line": {
              "color": "white",
              "width": 0.5
             },
             "pattern": {
              "fillmode": "overlay",
              "size": 10,
              "solidity": 0.2
             }
            },
            "type": "barpolar"
           }
          ],
          "carpet": [
           {
            "aaxis": {
             "endlinecolor": "#2a3f5f",
             "gridcolor": "#C8D4E3",
             "linecolor": "#C8D4E3",
             "minorgridcolor": "#C8D4E3",
             "startlinecolor": "#2a3f5f"
            },
            "baxis": {
             "endlinecolor": "#2a3f5f",
             "gridcolor": "#C8D4E3",
             "linecolor": "#C8D4E3",
             "minorgridcolor": "#C8D4E3",
             "startlinecolor": "#2a3f5f"
            },
            "type": "carpet"
           }
          ],
          "choropleth": [
           {
            "colorbar": {
             "outlinewidth": 0,
             "ticks": ""
            },
            "type": "choropleth"
           }
          ],
          "contour": [
           {
            "colorbar": {
             "outlinewidth": 0,
             "ticks": ""
            },
            "colorscale": [
             [
              0,
              "#0d0887"
             ],
             [
              0.1111111111111111,
              "#46039f"
             ],
             [
              0.2222222222222222,
              "#7201a8"
             ],
             [
              0.3333333333333333,
              "#9c179e"
             ],
             [
              0.4444444444444444,
              "#bd3786"
             ],
             [
              0.5555555555555556,
              "#d8576b"
             ],
             [
              0.6666666666666666,
              "#ed7953"
             ],
             [
              0.7777777777777778,
              "#fb9f3a"
             ],
             [
              0.8888888888888888,
              "#fdca26"
             ],
             [
              1,
              "#f0f921"
             ]
            ],
            "type": "contour"
           }
          ],
          "contourcarpet": [
           {
            "colorbar": {
             "outlinewidth": 0,
             "ticks": ""
            },
            "type": "contourcarpet"
           }
          ],
          "heatmap": [
           {
            "colorbar": {
             "outlinewidth": 0,
             "ticks": ""
            },
            "colorscale": [
             [
              0,
              "#0d0887"
             ],
             [
              0.1111111111111111,
              "#46039f"
             ],
             [
              0.2222222222222222,
              "#7201a8"
             ],
             [
              0.3333333333333333,
              "#9c179e"
             ],
             [
              0.4444444444444444,
              "#bd3786"
             ],
             [
              0.5555555555555556,
              "#d8576b"
             ],
             [
              0.6666666666666666,
              "#ed7953"
             ],
             [
              0.7777777777777778,
              "#fb9f3a"
             ],
             [
              0.8888888888888888,
              "#fdca26"
             ],
             [
              1,
              "#f0f921"
             ]
            ],
            "type": "heatmap"
           }
          ],
          "heatmapgl": [
           {
            "colorbar": {
             "outlinewidth": 0,
             "ticks": ""
            },
            "colorscale": [
             [
              0,
              "#0d0887"
             ],
             [
              0.1111111111111111,
              "#46039f"
             ],
             [
              0.2222222222222222,
              "#7201a8"
             ],
             [
              0.3333333333333333,
              "#9c179e"
             ],
             [
              0.4444444444444444,
              "#bd3786"
             ],
             [
              0.5555555555555556,
              "#d8576b"
             ],
             [
              0.6666666666666666,
              "#ed7953"
             ],
             [
              0.7777777777777778,
              "#fb9f3a"
             ],
             [
              0.8888888888888888,
              "#fdca26"
             ],
             [
              1,
              "#f0f921"
             ]
            ],
            "type": "heatmapgl"
           }
          ],
          "histogram": [
           {
            "marker": {
             "pattern": {
              "fillmode": "overlay",
              "size": 10,
              "solidity": 0.2
             }
            },
            "type": "histogram"
           }
          ],
          "histogram2d": [
           {
            "colorbar": {
             "outlinewidth": 0,
             "ticks": ""
            },
            "colorscale": [
             [
              0,
              "#0d0887"
             ],
             [
              0.1111111111111111,
              "#46039f"
             ],
             [
              0.2222222222222222,
              "#7201a8"
             ],
             [
              0.3333333333333333,
              "#9c179e"
             ],
             [
              0.4444444444444444,
              "#bd3786"
             ],
             [
              0.5555555555555556,
              "#d8576b"
             ],
             [
              0.6666666666666666,
              "#ed7953"
             ],
             [
              0.7777777777777778,
              "#fb9f3a"
             ],
             [
              0.8888888888888888,
              "#fdca26"
             ],
             [
              1,
              "#f0f921"
             ]
            ],
            "type": "histogram2d"
           }
          ],
          "histogram2dcontour": [
           {
            "colorbar": {
             "outlinewidth": 0,
             "ticks": ""
            },
            "colorscale": [
             [
              0,
              "#0d0887"
             ],
             [
              0.1111111111111111,
              "#46039f"
             ],
             [
              0.2222222222222222,
              "#7201a8"
             ],
             [
              0.3333333333333333,
              "#9c179e"
             ],
             [
              0.4444444444444444,
              "#bd3786"
             ],
             [
              0.5555555555555556,
              "#d8576b"
             ],
             [
              0.6666666666666666,
              "#ed7953"
             ],
             [
              0.7777777777777778,
              "#fb9f3a"
             ],
             [
              0.8888888888888888,
              "#fdca26"
             ],
             [
              1,
              "#f0f921"
             ]
            ],
            "type": "histogram2dcontour"
           }
          ],
          "mesh3d": [
           {
            "colorbar": {
             "outlinewidth": 0,
             "ticks": ""
            },
            "type": "mesh3d"
           }
          ],
          "parcoords": [
           {
            "line": {
             "colorbar": {
              "outlinewidth": 0,
              "ticks": ""
             }
            },
            "type": "parcoords"
           }
          ],
          "pie": [
           {
            "automargin": true,
            "type": "pie"
           }
          ],
          "scatter": [
           {
            "marker": {
             "colorbar": {
              "outlinewidth": 0,
              "ticks": ""
             }
            },
            "type": "scatter"
           }
          ],
          "scatter3d": [
           {
            "line": {
             "colorbar": {
              "outlinewidth": 0,
              "ticks": ""
             }
            },
            "marker": {
             "colorbar": {
              "outlinewidth": 0,
              "ticks": ""
             }
            },
            "type": "scatter3d"
           }
          ],
          "scattercarpet": [
           {
            "marker": {
             "colorbar": {
              "outlinewidth": 0,
              "ticks": ""
             }
            },
            "type": "scattercarpet"
           }
          ],
          "scattergeo": [
           {
            "marker": {
             "colorbar": {
              "outlinewidth": 0,
              "ticks": ""
             }
            },
            "type": "scattergeo"
           }
          ],
          "scattergl": [
           {
            "marker": {
             "colorbar": {
              "outlinewidth": 0,
              "ticks": ""
             }
            },
            "type": "scattergl"
           }
          ],
          "scattermapbox": [
           {
            "marker": {
             "colorbar": {
              "outlinewidth": 0,
              "ticks": ""
             }
            },
            "type": "scattermapbox"
           }
          ],
          "scatterpolar": [
           {
            "marker": {
             "colorbar": {
              "outlinewidth": 0,
              "ticks": ""
             }
            },
            "type": "scatterpolar"
           }
          ],
          "scatterpolargl": [
           {
            "marker": {
             "colorbar": {
              "outlinewidth": 0,
              "ticks": ""
             }
            },
            "type": "scatterpolargl"
           }
          ],
          "scatterternary": [
           {
            "marker": {
             "colorbar": {
              "outlinewidth": 0,
              "ticks": ""
             }
            },
            "type": "scatterternary"
           }
          ],
          "surface": [
           {
            "colorbar": {
             "outlinewidth": 0,
             "ticks": ""
            },
            "colorscale": [
             [
              0,
              "#0d0887"
             ],
             [
              0.1111111111111111,
              "#46039f"
             ],
             [
              0.2222222222222222,
              "#7201a8"
             ],
             [
              0.3333333333333333,
              "#9c179e"
             ],
             [
              0.4444444444444444,
              "#bd3786"
             ],
             [
              0.5555555555555556,
              "#d8576b"
             ],
             [
              0.6666666666666666,
              "#ed7953"
             ],
             [
              0.7777777777777778,
              "#fb9f3a"
             ],
             [
              0.8888888888888888,
              "#fdca26"
             ],
             [
              1,
              "#f0f921"
             ]
            ],
            "type": "surface"
           }
          ],
          "table": [
           {
            "cells": {
             "fill": {
              "color": "#EBF0F8"
             },
             "line": {
              "color": "white"
             }
            },
            "header": {
             "fill": {
              "color": "#C8D4E3"
             },
             "line": {
              "color": "white"
             }
            },
            "type": "table"
           }
          ]
         },
         "layout": {
          "annotationdefaults": {
           "arrowcolor": "#2a3f5f",
           "arrowhead": 0,
           "arrowwidth": 1
          },
          "autotypenumbers": "strict",
          "coloraxis": {
           "colorbar": {
            "outlinewidth": 0,
            "ticks": ""
           }
          },
          "colorscale": {
           "diverging": [
            [
             0,
             "#8e0152"
            ],
            [
             0.1,
             "#c51b7d"
            ],
            [
             0.2,
             "#de77ae"
            ],
            [
             0.3,
             "#f1b6da"
            ],
            [
             0.4,
             "#fde0ef"
            ],
            [
             0.5,
             "#f7f7f7"
            ],
            [
             0.6,
             "#e6f5d0"
            ],
            [
             0.7,
             "#b8e186"
            ],
            [
             0.8,
             "#7fbc41"
            ],
            [
             0.9,
             "#4d9221"
            ],
            [
             1,
             "#276419"
            ]
           ],
           "sequential": [
            [
             0,
             "#0d0887"
            ],
            [
             0.1111111111111111,
             "#46039f"
            ],
            [
             0.2222222222222222,
             "#7201a8"
            ],
            [
             0.3333333333333333,
             "#9c179e"
            ],
            [
             0.4444444444444444,
             "#bd3786"
            ],
            [
             0.5555555555555556,
             "#d8576b"
            ],
            [
             0.6666666666666666,
             "#ed7953"
            ],
            [
             0.7777777777777778,
             "#fb9f3a"
            ],
            [
             0.8888888888888888,
             "#fdca26"
            ],
            [
             1,
             "#f0f921"
            ]
           ],
           "sequentialminus": [
            [
             0,
             "#0d0887"
            ],
            [
             0.1111111111111111,
             "#46039f"
            ],
            [
             0.2222222222222222,
             "#7201a8"
            ],
            [
             0.3333333333333333,
             "#9c179e"
            ],
            [
             0.4444444444444444,
             "#bd3786"
            ],
            [
             0.5555555555555556,
             "#d8576b"
            ],
            [
             0.6666666666666666,
             "#ed7953"
            ],
            [
             0.7777777777777778,
             "#fb9f3a"
            ],
            [
             0.8888888888888888,
             "#fdca26"
            ],
            [
             1,
             "#f0f921"
            ]
           ]
          },
          "colorway": [
           "#636efa",
           "#EF553B",
           "#00cc96",
           "#ab63fa",
           "#FFA15A",
           "#19d3f3",
           "#FF6692",
           "#B6E880",
           "#FF97FF",
           "#FECB52"
          ],
          "font": {
           "color": "#2a3f5f"
          },
          "geo": {
           "bgcolor": "white",
           "lakecolor": "white",
           "landcolor": "white",
           "showlakes": true,
           "showland": true,
           "subunitcolor": "#C8D4E3"
          },
          "hoverlabel": {
           "align": "left"
          },
          "hovermode": "closest",
          "mapbox": {
           "style": "light"
          },
          "paper_bgcolor": "white",
          "plot_bgcolor": "white",
          "polar": {
           "angularaxis": {
            "gridcolor": "#EBF0F8",
            "linecolor": "#EBF0F8",
            "ticks": ""
           },
           "bgcolor": "white",
           "radialaxis": {
            "gridcolor": "#EBF0F8",
            "linecolor": "#EBF0F8",
            "ticks": ""
           }
          },
          "scene": {
           "xaxis": {
            "backgroundcolor": "white",
            "gridcolor": "#DFE8F3",
            "gridwidth": 2,
            "linecolor": "#EBF0F8",
            "showbackground": true,
            "ticks": "",
            "zerolinecolor": "#EBF0F8"
           },
           "yaxis": {
            "backgroundcolor": "white",
            "gridcolor": "#DFE8F3",
            "gridwidth": 2,
            "linecolor": "#EBF0F8",
            "showbackground": true,
            "ticks": "",
            "zerolinecolor": "#EBF0F8"
           },
           "zaxis": {
            "backgroundcolor": "white",
            "gridcolor": "#DFE8F3",
            "gridwidth": 2,
            "linecolor": "#EBF0F8",
            "showbackground": true,
            "ticks": "",
            "zerolinecolor": "#EBF0F8"
           }
          },
          "shapedefaults": {
           "line": {
            "color": "#2a3f5f"
           }
          },
          "ternary": {
           "aaxis": {
            "gridcolor": "#DFE8F3",
            "linecolor": "#A2B1C6",
            "ticks": ""
           },
           "baxis": {
            "gridcolor": "#DFE8F3",
            "linecolor": "#A2B1C6",
            "ticks": ""
           },
           "bgcolor": "white",
           "caxis": {
            "gridcolor": "#DFE8F3",
            "linecolor": "#A2B1C6",
            "ticks": ""
           }
          },
          "title": {
           "x": 0.05
          },
          "xaxis": {
           "automargin": true,
           "gridcolor": "#EBF0F8",
           "linecolor": "#EBF0F8",
           "ticks": "",
           "title": {
            "standoff": 15
           },
           "zerolinecolor": "#EBF0F8",
           "zerolinewidth": 2
          },
          "yaxis": {
           "automargin": true,
           "gridcolor": "#EBF0F8",
           "linecolor": "#EBF0F8",
           "ticks": "",
           "title": {
            "standoff": 15
           },
           "zerolinecolor": "#EBF0F8",
           "zerolinewidth": 2
          }
         }
        },
        "title": {
         "font": {
          "size": 20
         },
         "text": "Distribution of MASE in the dataset",
         "x": 0.5,
         "xanchor": "center",
         "yanchor": "top"
        },
        "width": 900,
        "xaxis": {
         "anchor": "y",
         "domain": [
          0,
          1
         ],
         "range": [
          0,
          2
         ],
         "tickfont": {
          "size": 15
         },
         "title": {
          "font": {
           "size": 15
          },
          "text": "MASE"
         },
         "type": "linear"
        },
        "xaxis2": {
         "anchor": "y2",
         "domain": [
          0,
          1
         ],
         "matches": "x",
         "showgrid": true,
         "showticklabels": false,
         "type": "linear"
        },
        "yaxis": {
         "anchor": "x",
         "autorange": true,
         "domain": [
          0,
          0.7326
         ],
         "range": [
          0,
          7.627765064835996
         ],
         "tickfont": {
          "size": 15
         },
         "title": {
          "font": {
           "size": 15
          },
          "text": "Probability Density"
         }
        },
        "yaxis2": {
         "anchor": "x2",
         "autorange": true,
         "domain": [
          0.7426,
          1
         ],
         "matches": "y2",
         "range": [
          -0.5,
          1.5
         ],
         "showgrid": false,
         "showline": false,
         "showticklabels": false,
         "ticks": "",
         "type": "category"
        }
       }
      },
      "image/png": "[encoded data removed]",
      "text/html": [
       "<div>                            <div id=\"2853581e-591d-4490-a8cc-483a92e14668\" class=\"plotly-graph-div\" style=\"height:500px; width:900px;\"></div>            <script type=\"text/javascript\">                require([\"plotly\"], function(Plotly) {                    window.PLOTLYENV=window.PLOTLYENV || {};                                    if (document.getElementById(\"2853581e-591d-4490-a8cc-483a92e14668\")) {                    Plotly.newPlot(                        \"2853581e-591d-4490-a8cc-483a92e14668\",                        [{\"alignmentgroup\":\"True\",\"bingroup\":\"x\",\"histnorm\":\"probability density\",\"hovertemplate\":\"Algorithm=FTTransformerModel<br>MASE=%{x}<br>probability density=%{y}<extra></extra>\",\"legendgroup\":\"FTTransformerModel\",\"marker\":{\"color\":\"#636efa\",\"opacity\":0.5,\"pattern\":{\"shape\":\"\"}},\"name\":\"FTTransformerModel\",\"nbinsx\":500,\"offsetgroup\":\"FTTransformerModel\",\"orientation\":\"v\",\"showlegend\":true,\"x\":[1.2644634246826172,1.6377524137496948,1.0889312028884888,1.006748080253601,1.26925528049469,0.6473384499549866,1.6715271472930908,1.0840047597885132,1.178343653678894,0.9009094834327698,1.1160582304000854,1.0125703811645508,0.9960922598838806,1.2559195756912231,1.091292142868042,0.7624892592430115,1.0164194107055664,0.3833993077278137,1.1035963296890259,0.8524196147918701,1.2349294424057007,1.3131686449050903,0.7121133208274841,0.9272570610046387,0.7676012516021729,0.8921013474464417,1.0312645435333252,3.342938184738159,4.081630706787109,0.8806096315383911,1.2826234102249146,1.008954405784607,1.730843186378479,1.2611292600631714,0.9319334030151367,1.007881999015808,1.050364375114441,0.7196930050849915,1.062604308128357,0.9136992692947388,0.8938698768615723,1.4115567207336426,1.265828013420105,1.0117467641830444,1.2907079458236694,0.9914540648460388,1.7407845258712769,1.2682245969772339,0.7661442756652832,1.912598967552185,1.3027464151382446,1.1157339811325073,0.912433922290802,0.2695240080356598,0.9255346655845642,1.1977299451828003,0.9992951154708862,0.8795876502990723,1.119124174118042,0.9250891208648682,1.0421806573867798,1.023065209388733,1.776354193687439,0.7764973044395447,1.179025650024414,0.8078598380088806,1.0006513595581055,1.4033054113388062,1.3260890245437622],\"xaxis\":\"x\",\"yaxis\":\"y\",\"type\":\"histogram\"},{\"alignmentgroup\":\"True\",\"hovertemplate\":\"Algorithm=FTTransformerModel<br>MASE=%{x}<extra></extra>\",\"legendgroup\":\"FTTransformerModel\",\"marker\":{\"color\":\"#636efa\"},\"name\":\"FTTransformerModel\",\"notched\":true,\"offsetgroup\":\"FTTransformerModel\",\"showlegend\":false,\"x\":[1.2644634246826172,1.6377524137496948,1.0889312028884888,1.006748080253601,1.26925528049469,0.6473384499549866,1.6715271472930908,1.0840047597885132,1.178343653678894,0.9009094834327698,1.1160582304000854,1.0125703811645508,0.9960922598838806,1.2559195756912231,1.091292142868042,0.7624892592430115,1.0164194107055664,0.3833993077278137,1.1035963296890259,0.8524196147918701,1.2349294424057007,1.3131686449050903,0.7121133208274841,0.9272570610046387,0.7676012516021729,0.8921013474464417,1.0312645435333252,3.342938184738159,4.081630706787109,0.8806096315383911,1.2826234102249146,1.008954405784607,1.730843186378479,1.2611292600631714,0.9319334030151367,1.007881999015808,1.050364375114441,0.7196930050849915,1.062604308128357,0.9136992692947388,0.8938698768615723,1.4115567207336426,1.265828013420105,1.0117467641830444,1.2907079458236694,0.9914540648460388,1.7407845258712769,1.2682245969772339,0.7661442756652832,1.912598967552185,1.3027464151382446,1.1157339811325073,0.912433922290802,0.2695240080356598,0.9255346655845642,1.1977299451828003,0.9992951154708862,0.8795876502990723,1.119124174118042,0.9250891208648682,1.0421806573867798,1.023065209388733,1.776354193687439,0.7764973044395447,1.179025650024414,0.8078598380088806,1.0006513595581055,1.4033054113388062,1.3260890245437622],\"xaxis\":\"x2\",\"yaxis\":\"y2\",\"type\":\"box\"},{\"alignmentgroup\":\"True\",\"bingroup\":\"x\",\"histnorm\":\"probability density\",\"hovertemplate\":\"Algorithm=GFM<br>MASE=%{x}<br>probability density=%{y}<extra></extra>\",\"legendgroup\":\"GFM\",\"marker\":{\"color\":\"#EF553B\",\"opacity\":0.5,\"pattern\":{\"shape\":\"/\"}},\"name\":\"GFM\",\"nbinsx\":500,\"offsetgroup\":\"GFM\",\"orientation\":\"v\",\"showlegend\":true,\"x\":[1.1093933608205628,1.4487038953157154,1.0173573835580796,0.9001718036313496,1.244993169883961,0.6107510125750366,1.7688166360071804,0.9243955153700748,1.1757182623067528,0.826465326248407,1.0323705089221678,0.92364812292159,0.9192169843697421,1.1705443059733907,1.0144074895959778,0.6922774784368518,0.9058795622630482,0.16748168478414194,1.0391790576493716,0.8218349423413858,1.203213994510373,1.1842593494030609,0.6903629594841524,0.8626182180495111,0.714988591164153,0.786546753718146,0.9599934498897024,0.8467990059717291,4.84184095080787,0.843222536650779,1.1913129534377358,0.9646405928653637,1.5765139870217417,1.1889979319351553,0.9698984205016139,0.9043245139061301,1.0142779173732517,0.6688195593716296,0.991219025574295,0.8190484829269361,0.8007507983542825,1.220664632074331,1.1947218224317662,0.9388117509215145,1.0973495021529553,0.8995225837750219,1.398025349322448,1.1915360303785811,0.7417755237585619,1.8183443217244963,1.2522645921267228,1.0452274382734839,0.9928894089224993,0.24558110045882361,0.8811837608406523,1.1160515880452122,0.8914534615664398,0.8334274511508528,1.0336698992340507,0.8151765263342514,1.0708564124697235,0.9425941354727134,1.6877709461895043,0.7053381073840475,1.264923847797877,0.8115003699009455,0.937023328920425,1.3198284251781824,1.2415649948445306],\"xaxis\":\"x\",\"yaxis\":\"y\",\"type\":\"histogram\"},{\"alignmentgroup\":\"True\",\"hovertemplate\":\"Algorithm=GFM<br>MASE=%{x}<extra></extra>\",\"legendgroup\":\"GFM\",\"marker\":{\"color\":\"#EF553B\"},\"name\":\"GFM\",\"notched\":true,\"offsetgroup\":\"GFM\",\"showlegend\":false,\"x\":[1.1093933608205628,1.4487038953157154,1.0173573835580796,0.9001718036313496,1.244993169883961,0.6107510125750366,1.7688166360071804,0.9243955153700748,1.1757182623067528,0.826465326248407,1.0323705089221678,0.92364812292159,0.9192169843697421,1.1705443059733907,1.0144074895959778,0.6922774784368518,0.9058795622630482,0.16748168478414194,1.0391790576493716,0.8218349423413858,1.203213994510373,1.1842593494030609,0.6903629594841524,0.8626182180495111,0.714988591164153,0.786546753718146,0.9599934498897024,0.8467990059717291,4.84184095080787,0.843222536650779,1.1913129534377358,0.9646405928653637,1.5765139870217417,1.1889979319351553,0.9698984205016139,0.9043245139061301,1.0142779173732517,0.6688195593716296,0.991219025574295,0.8190484829269361,0.8007507983542825,1.220664632074331,1.1947218224317662,0.9388117509215145,1.0973495021529553,0.8995225837750219,1.398025349322448,1.1915360303785811,0.7417755237585619,1.8183443217244963,1.2522645921267228,1.0452274382734839,0.9928894089224993,0.24558110045882361,0.8811837608406523,1.1160515880452122,0.8914534615664398,0.8334274511508528,1.0336698992340507,0.8151765263342514,1.0708564124697235,0.9425941354727134,1.6877709461895043,0.7053381073840475,1.264923847797877,0.8115003699009455,0.937023328920425,1.3198284251781824,1.2415649948445306],\"xaxis\":\"x2\",\"yaxis\":\"y2\",\"type\":\"box\"}],                        {\"template\":{\"data\":{\"bar\":[{\"error_x\":{\"color\":\"#2a3f5f\"},\"error_y\":{\"color\":\"#2a3f5f\"},\"marker\":{\"line\":{\"color\":\"white\",\"width\":0.5},\"pattern\":{\"fillmode\":\"overlay\",\"size\":10,\"solidity\":0.2}},\"type\":\"bar\"}],\"barpolar\":[{\"marker\":{\"line\":{\"color\":\"white\",\"width\":0.5},\"pattern\":{\"fillmode\":\"overlay\",\"size\":10,\"solidity\":0.2}},\"type\":\"barpolar\"}],\"carpet\":[{\"aaxis\":{\"endlinecolor\":\"#2a3f5f\",\"gridcolor\":\"#C8D4E3\",\"linecolor\":\"#C8D4E3\",\"minorgridcolor\":\"#C8D4E3\",\"startlinecolor\":\"#2a3f5f\"},\"baxis\":{\"endlinecolor\":\"#2a3f5f\",\"gridcolor\":\"#C8D4E3\",\"linecolor\":\"#C8D4E3\",\"minorgridcolor\":\"#C8D4E3\",\"startlinecolor\":\"#2a3f5f\"},\"type\":\"carpet\"}],\"choropleth\":[{\"colorbar\":{\"outlinewidth\":0,\"ticks\":\"\"},\"type\":\"choropleth\"}],\"contour\":[{\"colorbar\":{\"outlinewidth\":0,\"ticks\":\"\"},\"colorscale\":[[0.0,\"#0d0887\"],[0.1111111111111111,\"#46039f\"],[0.2222222222222222,\"#7201a8\"],[0.3333333333333333,\"#9c179e\"],[0.4444444444444444,\"#bd3786\"],[0.5555555555555556,\"#d8576b\"],[0.6666666666666666,\"#ed7953\"],[0.7777777777777778,\"#fb9f3a\"],[0.8888888888888888,\"#fdca26\"],[1.0,\"#f0f921\"]],\"type\":\"contour\"}],\"contourcarpet\":[{\"colorbar\":{\"outlinewidth\":0,\"ticks\":\"\"},\"type\":\"contourcarpet\"}],\"heatmap\":[{\"colorbar\":{\"outlinewidth\":0,\"ticks\":\"\"},\"colorscale\":[[0.0,\"#0d0887\"],[0.1111111111111111,\"#46039f\"],[0.2222222222222222,\"#7201a8\"],[0.3333333333333333,\"#9c179e\"],[0.4444444444444444,\"#bd3786\"],[0.5555555555555556,\"#d8576b\"],[0.6666666666666666,\"#ed7953\"],[0.7777777777777778,\"#fb9f3a\"],[0.8888888888888888,\"#fdca26\"],[1.0,\"#f0f921\"]],\"type\":\"heatmap\"}],\"heatmapgl\":[{\"colorbar\":{\"outlinewidth\":0,\"ticks\":\"\"},\"colorscale\":[[0.0,\"#0d0887\"],[0.1111111111111111,\"#46039f\"],[0.2222222222222222,\"#7201a8\"],[0.3333333333333333,\"#9c179e\"],[0.4444444444444444,\"#bd3786\"],[0.5555555555555556,\"#d8576b\"],[0.6666666666666666,\"#ed7953\"],[0.7777777777777778,\"#fb9f3a\"],[0.8888888888888888,\"#fdca26\"],[1.0,\"#f0f921\"]],\"type\":\"heatmapgl\"}],\"histogram\":[{\"marker\":{\"pattern\":{\"fillmode\":\"overlay\",\"size\":10,\"solidity\":0.2}},\"type\":\"histogram\"}],\"histogram2d\":[{\"colorbar\":{\"outlinewidth\":0,\"ticks\":\"\"},\"colorscale\":[[0.0,\"#0d0887\"],[0.1111111111111111,\"#46039f\"],[0.2222222222222222,\"#7201a8\"],[0.3333333333333333,\"#9c179e\"],[0.4444444444444444,\"#bd3786\"],[0.5555555555555556,\"#d8576b\"],[0.6666666666666666,\"#ed7953\"],[0.7777777777777778,\"#fb9f3a\"],[0.8888888888888888,\"#fdca26\"],[1.0,\"#f0f921\"]],\"type\":\"histogram2d\"}],\"histogram2dcontour\":[{\"colorbar\":{\"outlinewidth\":0,\"ticks\":\"\"},\"colorscale\":[[0.0,\"#0d0887\"],[0.1111111111111111,\"#46039f\"],[0.2222222222222222,\"#7201a8\"],[0.3333333333333333,\"#9c179e\"],[0.4444444444444444,\"#bd3786\"],[0.5555555555555556,\"#d8576b\"],[0.6666666666666666,\"#ed7953\"],[0.7777777777777778,\"#fb9f3a\"],[0.8888888888888888,\"#fdca26\"],[1.0,\"#f0f921\"]],\"type\":\"histogram2dcontour\"}],\"mesh3d\":[{\"colorbar\":{\"outlinewidth\":0,\"ticks\":\"\"},\"type\":\"mesh3d\"}],\"parcoords\":[{\"line\":{\"colorbar\":{\"outlinewidth\":0,\"ticks\":\"\"}},\"type\":\"parcoords\"}],\"pie\":[{\"automargin\":true,\"type\":\"pie\"}],\"scatter\":[{\"marker\":{\"colorbar\":{\"outlinewidth\":0,\"ticks\":\"\"}},\"type\":\"scatter\"}],\"scatter3d\":[{\"line\":{\"colorbar\":{\"outlinewidth\":0,\"ticks\":\"\"}},\"marker\":{\"colorbar\":{\"outlinewidth\":0,\"ticks\":\"\"}},\"type\":\"scatter3d\"}],\"scattercarpet\":[{\"marker\":{\"colorbar\":{\"outlinewidth\":0,\"ticks\":\"\"}},\"type\":\"scattercarpet\"}],\"scattergeo\":[{\"marker\":{\"colorbar\":{\"outlinewidth\":0,\"ticks\":\"\"}},\"type\":\"scattergeo\"}],\"scattergl\":[{\"marker\":{\"colorbar\":{\"outlinewidth\":0,\"ticks\":\"\"}},\"type\":\"scattergl\"}],\"scattermapbox\":[{\"marker\":{\"colorbar\":{\"outlinewidth\":0,\"ticks\":\"\"}},\"type\":\"scattermapbox\"}],\"scatterpolar\":[{\"marker\":{\"colorbar\":{\"outlinewidth\":0,\"ticks\":\"\"}},\"type\":\"scatterpolar\"}],\"scatterpolargl\":[{\"marker\":{\"colorbar\":{\"outlinewidth\":0,\"ticks\":\"\"}},\"type\":\"scatterpolargl\"}],\"scatterternary\":[{\"marker\":{\"colorbar\":{\"outlinewidth\":0,\"ticks\":\"\"}},\"type\":\"scatterternary\"}],\"surface\":[{\"colorbar\":{\"outlinewidth\":0,\"ticks\":\"\"},\"colorscale\":[[0.0,\"#0d0887\"],[0.1111111111111111,\"#46039f\"],[0.2222222222222222,\"#7201a8\"],[0.3333333333333333,\"#9c179e\"],[0.4444444444444444,\"#bd3786\"],[0.5555555555555556,\"#d8576b\"],[0.6666666666666666,\"#ed7953\"],[0.7777777777777778,\"#fb9f3a\"],[0.8888888888888888,\"#fdca26\"],[1.0,\"#f0f921\"]],\"type\":\"surface\"}],\"table\":[{\"cells\":{\"fill\":{\"color\":\"#EBF0F8\"},\"line\":{\"color\":\"white\"}},\"header\":{\"fill\":{\"color\":\"#C8D4E3\"},\"line\":{\"color\":\"white\"}},\"type\":\"table\"}]},\"layout\":{\"annotationdefaults\":{\"arrowcolor\":\"#2a3f5f\",\"arrowhead\":0,\"arrowwidth\":1},\"autotypenumbers\":\"strict\",\"coloraxis\":{\"colorbar\":{\"outlinewidth\":0,\"ticks\":\"\"}},\"colorscale\":{\"diverging\":[[0,\"#8e0152\"],[0.1,\"#c51b7d\"],[0.2,\"#de77ae\"],[0.3,\"#f1b6da\"],[0.4,\"#fde0ef\"],[0.5,\"#f7f7f7\"],[0.6,\"#e6f5d0\"],[0.7,\"#b8e186\"],[0.8,\"#7fbc41\"],[0.9,\"#4d9221\"],[1,\"#276419\"]],\"sequential\":[[0.0,\"#0d0887\"],[0.1111111111111111,\"#46039f\"],[0.2222222222222222,\"#7201a8\"],[0.3333333333333333,\"#9c179e\"],[0.4444444444444444,\"#bd3786\"],[0.5555555555555556,\"#d8576b\"],[0.6666666666666666,\"#ed7953\"],[0.7777777777777778,\"#fb9f3a\"],[0.8888888888888888,\"#fdca26\"],[1.0,\"#f0f921\"]],\"sequentialminus\":[[0.0,\"#0d0887\"],[0.1111111111111111,\"#46039f\"],[0.2222222222222222,\"#7201a8\"],[0.3333333333333333,\"#9c179e\"],[0.4444444444444444,\"#bd3786\"],[0.5555555555555556,\"#d8576b\"],[0.6666666666666666,\"#ed7953\"],[0.7777777777777778,\"#fb9f3a\"],[0.8888888888888888,\"#fdca26\"],[1.0,\"#f0f921\"]]},\"colorway\":[\"#636efa\",\"#EF553B\",\"#00cc96\",\"#ab63fa\",\"#FFA15A\",\"#19d3f3\",\"#FF6692\",\"#B6E880\",\"#FF97FF\",\"#FECB52\"],\"font\":{\"color\":\"#2a3f5f\"},\"geo\":{\"bgcolor\":\"white\",\"lakecolor\":\"white\",\"landcolor\":\"white\",\"showlakes\":true,\"showland\":true,\"subunitcolor\":\"#C8D4E3\"},\"hoverlabel\":{\"align\":\"left\"},\"hovermode\":\"closest\",\"mapbox\":{\"style\":\"light\"},\"paper_bgcolor\":\"white\",\"plot_bgcolor\":\"white\",\"polar\":{\"angularaxis\":{\"gridcolor\":\"#EBF0F8\",\"linecolor\":\"#EBF0F8\",\"ticks\":\"\"},\"bgcolor\":\"white\",\"radialaxis\":{\"gridcolor\":\"#EBF0F8\",\"linecolor\":\"#EBF0F8\",\"ticks\":\"\"}},\"scene\":{\"xaxis\":{\"backgroundcolor\":\"white\",\"gridcolor\":\"#DFE8F3\",\"gridwidth\":2,\"linecolor\":\"#EBF0F8\",\"showbackground\":true,\"ticks\":\"\",\"zerolinecolor\":\"#EBF0F8\"},\"yaxis\":{\"backgroundcolor\":\"white\",\"gridcolor\":\"#DFE8F3\",\"gridwidth\":2,\"linecolor\":\"#EBF0F8\",\"showbackground\":true,\"ticks\":\"\",\"zerolinecolor\":\"#EBF0F8\"},\"zaxis\":{\"backgroundcolor\":\"white\",\"gridcolor\":\"#DFE8F3\",\"gridwidth\":2,\"linecolor\":\"#EBF0F8\",\"showbackground\":true,\"ticks\":\"\",\"zerolinecolor\":\"#EBF0F8\"}},\"shapedefaults\":{\"line\":{\"color\":\"#2a3f5f\"}},\"ternary\":{\"aaxis\":{\"gridcolor\":\"#DFE8F3\",\"linecolor\":\"#A2B1C6\",\"ticks\":\"\"},\"baxis\":{\"gridcolor\":\"#DFE8F3\",\"linecolor\":\"#A2B1C6\",\"ticks\":\"\"},\"bgcolor\":\"white\",\"caxis\":{\"gridcolor\":\"#DFE8F3\",\"linecolor\":\"#A2B1C6\",\"ticks\":\"\"}},\"title\":{\"x\":0.05},\"xaxis\":{\"automargin\":true,\"gridcolor\":\"#EBF0F8\",\"linecolor\":\"#EBF0F8\",\"ticks\":\"\",\"title\":{\"standoff\":15},\"zerolinecolor\":\"#EBF0F8\",\"zerolinewidth\":2},\"yaxis\":{\"automargin\":true,\"gridcolor\":\"#EBF0F8\",\"linecolor\":\"#EBF0F8\",\"ticks\":\"\",\"title\":{\"standoff\":15},\"zerolinecolor\":\"#EBF0F8\",\"zerolinewidth\":2}}},\"xaxis\":{\"anchor\":\"y\",\"domain\":[0.0,1.0],\"title\":{\"text\":\"MASE\",\"font\":{\"size\":15}},\"tickfont\":{\"size\":15},\"range\":[0,2]},\"yaxis\":{\"anchor\":\"x\",\"domain\":[0.0,0.7326],\"title\":{\"text\":\"Probability Density\",\"font\":{\"size\":15}},\"tickfont\":{\"size\":15}},\"xaxis2\":{\"anchor\":\"y2\",\"domain\":[0.0,1.0],\"matches\":\"x\",\"showticklabels\":false,\"showgrid\":true},\"yaxis2\":{\"anchor\":\"x2\",\"domain\":[0.7426,1.0],\"matches\":\"y2\",\"showticklabels\":false,\"showline\":false,\"ticks\":\"\",\"showgrid\":false},\"legend\":{\"title\":{},\"tracegroupgap\":0,\"font\":{\"size\":15},\"orientation\":\"h\",\"yanchor\":\"bottom\",\"y\":0.98,\"xanchor\":\"right\",\"x\":1},\"margin\":{\"t\":60},\"barmode\":\"overlay\",\"title\":{\"font\":{\"size\":20},\"text\":\"Distribution of MASE in the dataset\",\"x\":0.5,\"xanchor\":\"center\",\"yanchor\":\"top\"},\"autosize\":false,\"width\":900,\"height\":500},                        {\"responsive\": true}                    ).then(function(){\n",
       "                            \n",
       "var gd = document.getElementById('2853581e-591d-4490-a8cc-483a92e14668');\n",
       "var x = new MutationObserver(function (mutations, observer) {{\n",
       "        var display = window.getComputedStyle(gd).display;\n",
       "        if (!display || display === 'none') {{\n",
       "            console.log([gd, 'removed!']);\n",
       "            Plotly.purge(gd);\n",
       "            observer.disconnect();\n",
       "        }}\n",
       "}});\n",
       "\n",
       "// Listen for the removal of the full notebook cells\n",
       "var notebookContainer = gd.closest('#notebook-container');\n",
       "if (notebookContainer) {{\n",
       "    x.observe(notebookContainer, {childList: true});\n",
       "}}\n",
       "\n",
       "// Listen for the clearing of the current output cell\n",
       "var outputEl = gd.closest('.output');\n",
       "if (outputEl) {{\n",
       "    x.observe(outputEl, {childList: true});\n",
       "}}\n",
       "\n",
       "                        })                };                });            </script>        </div>"
      ]
     },
     "metadata": {},
     "output_type": "display_data"
    }
   ],
   "source": [
    "fig = px.histogram(metrics_df, \n",
    "                   x=\"MASE\", \n",
    "                   color=\"Algorithm\",\n",
    "                   pattern_shape=\"Algorithm\", \n",
    "                   marginal=\"box\", \n",
    "                   nbins=500, \n",
    "                   barmode=\"overlay\",\n",
    "                   histnorm=\"probability density\")\n",
    "fig = format_plot(fig, xlabel=\"MASE\", ylabel=\"Probability Density\", title=\"Distribution of MASE in the dataset\")\n",
    "fig.update_layout(xaxis_range=[0,2])\n",
    "# fig.write_image(\"imgs/chapter_12/ft_mase_dist.png\")\n",
    "fig.show()"
   ]
  },
  {
   "cell_type": "code",
   "execution_count": 34,
   "id": "05599872-81eb-406c-b096-cece0d153817",
   "metadata": {},
   "outputs": [
    {
     "data": {
      "application/vnd.plotly.v1+json": {
       "config": {
        "plotlyServerURL": "https://plot.ly"
       },
       "data": [
        {
         "alignmentgroup": "True",
         "bingroup": "x",
         "histnorm": "probability density",
         "hovertemplate": "Algorithm=FTTransformerModel<br>MAE=%{x}<br>probability density=%{y}<extra></extra>",
         "legendgroup": "FTTransformerModel",
         "marker": {
          "color": "#636efa",
          "opacity": 0.5,
          "pattern": {
           "shape": ""
          }
         },
         "name": "FTTransformerModel",
         "nbinsx": 100,
         "offsetgroup": "FTTransformerModel",
         "orientation": "v",
         "showlegend": true,
         "type": "histogram",
         "x": [
          0.048832401633262634,
          0.1407584697008133,
          0.07182258367538452,
          0.058160506188869476,
          0.16286757588386536,
          0.06823105365037918,
          0.296813040971756,
          0.06311599165201187,
          0.17928855121135712,
          0.04149758070707321,
          0.10439858585596085,
          0.057158276438713074,
          0.07301521301269531,
          0.03117053024470806,
          0.09175220876932144,
          0.022206196561455727,
          0.016636695712804794,
          0.023518936708569527,
          0.06890825927257538,
          0.08036532253026962,
          0.0879482626914978,
          0.13239818811416626,
          0.06259162724018097,
          0.06404159218072891,
          0.049223244190216064,
          0.045882128179073334,
          0.053870879113674164,
          0.006748579442501068,
          0.18249200284481049,
          0.07406613975763321,
          0.1688728779554367,
          0.03194589540362358,
          0.06856955587863922,
          0.052816953510046005,
          0.24460792541503906,
          0.06614095717668533,
          0.06428451091051102,
          0.07305565476417542,
          0.06892827153205872,
          0.043466631323099136,
          0.0378715954720974,
          0.17054259777069092,
          0.05665535479784012,
          0.07959185540676117,
          0.13049353659152985,
          0.11533454060554504,
          0.09735019505023956,
          0.14036564528942108,
          0.12530840933322906,
          0.072309710085392,
          0.13182710111141205,
          0.09885626286268234,
          0.13688848912715912,
          0.03524095192551613,
          0.18314018845558167,
          0.03949398547410965,
          0.028049031272530556,
          0.06582261621952057,
          0.12857966125011444,
          0.05599245801568031,
          0.1598454713821411,
          0.07716818898916245,
          0.04089993238449097,
          0.04109162092208862,
          0.23766060173511505,
          0.1912413090467453,
          0.03305225446820259,
          0.07676223665475845,
          0.17125369608402252
         ],
         "xaxis": "x",
         "yaxis": "y"
        },
        {
         "alignmentgroup": "True",
         "hovertemplate": "Algorithm=FTTransformerModel<br>MAE=%{x}<extra></extra>",
         "legendgroup": "FTTransformerModel",
         "marker": {
          "color": "#636efa"
         },
         "name": "FTTransformerModel",
         "notched": true,
         "offsetgroup": "FTTransformerModel",
         "showlegend": false,
         "type": "box",
         "x": [
          0.048832401633262634,
          0.1407584697008133,
          0.07182258367538452,
          0.058160506188869476,
          0.16286757588386536,
          0.06823105365037918,
          0.296813040971756,
          0.06311599165201187,
          0.17928855121135712,
          0.04149758070707321,
          0.10439858585596085,
          0.057158276438713074,
          0.07301521301269531,
          0.03117053024470806,
          0.09175220876932144,
          0.022206196561455727,
          0.016636695712804794,
          0.023518936708569527,
          0.06890825927257538,
          0.08036532253026962,
          0.0879482626914978,
          0.13239818811416626,
          0.06259162724018097,
          0.06404159218072891,
          0.049223244190216064,
          0.045882128179073334,
          0.053870879113674164,
          0.006748579442501068,
          0.18249200284481049,
          0.07406613975763321,
          0.1688728779554367,
          0.03194589540362358,
          0.06856955587863922,
          0.052816953510046005,
          0.24460792541503906,
          0.06614095717668533,
          0.06428451091051102,
          0.07305565476417542,
          0.06892827153205872,
          0.043466631323099136,
          0.0378715954720974,
          0.17054259777069092,
          0.05665535479784012,
          0.07959185540676117,
          0.13049353659152985,
          0.11533454060554504,
          0.09735019505023956,
          0.14036564528942108,
          0.12530840933322906,
          0.072309710085392,
          0.13182710111141205,
          0.09885626286268234,
          0.13688848912715912,
          0.03524095192551613,
          0.18314018845558167,
          0.03949398547410965,
          0.028049031272530556,
          0.06582261621952057,
          0.12857966125011444,
          0.05599245801568031,
          0.1598454713821411,
          0.07716818898916245,
          0.04089993238449097,
          0.04109162092208862,
          0.23766060173511505,
          0.1912413090467453,
          0.03305225446820259,
          0.07676223665475845,
          0.17125369608402252
         ],
         "xaxis": "x2",
         "yaxis": "y2"
        },
        {
         "alignmentgroup": "True",
         "bingroup": "x",
         "histnorm": "probability density",
         "hovertemplate": "Algorithm=GFM<br>MAE=%{x}<br>probability density=%{y}<extra></extra>",
         "legendgroup": "GFM",
         "marker": {
          "color": "#EF553B",
          "opacity": 0.5,
          "pattern": {
           "shape": "/"
          }
         },
         "name": "GFM",
         "nbinsx": 100,
         "offsetgroup": "GFM",
         "orientation": "v",
         "showlegend": true,
         "type": "histogram",
         "x": [
          0.04284373710766163,
          0.12451049009107845,
          0.06710179785031505,
          0.05200351766486189,
          0.1597543246932633,
          0.06437465140614283,
          0.31408874421287014,
          0.05382277589657633,
          0.17888909608084336,
          0.038068544335698444,
          0.0965702504927036,
          0.05213873054868758,
          0.06738012904761398,
          0.029051607951839222,
          0.08528799902303137,
          0.020161398715657215,
          0.01482738759465128,
          0.010273860698838263,
          0.06488605825188103,
          0.07748183054672471,
          0.08568957849853309,
          0.11940112752385172,
          0.06067985762675576,
          0.05957727105511976,
          0.04584940087657836,
          0.04045329648960339,
          0.05014783975265531,
          0.0017094813630177748,
          0.2164813921742852,
          0.07092159357962588,
          0.15685076586622118,
          0.030542815529344795,
          0.062455606690614875,
          0.04979604884712118,
          0.25457274269509467,
          0.05934512790050966,
          0.06207594373490825,
          0.0678915168353621,
          0.06429769726349066,
          0.0389638857592052,
          0.033926313038056634,
          0.14747923754403858,
          0.05347281572322668,
          0.0738542244030957,
          0.11094454220686478,
          0.10464026722189348,
          0.07818201635785696,
          0.13187784836527555,
          0.12132275100569878,
          0.06874621635340708,
          0.12671875431675894,
          0.09260923263725535,
          0.14895886500928057,
          0.032110354766942836,
          0.17436425684503976,
          0.03680071946372018,
          0.02502204178271256,
          0.06236829100299659,
          0.11876155569724167,
          0.04933982870364958,
          0.164243655169497,
          0.07109838522312682,
          0.0388603358066626,
          0.037325929467574785,
          0.25497543640201215,
          0.19210311637663083,
          0.030950571319817564,
          0.07219595986600928,
          0.16033809563874862
         ],
         "xaxis": "x",
         "yaxis": "y"
        },
        {
         "alignmentgroup": "True",
         "hovertemplate": "Algorithm=GFM<br>MAE=%{x}<extra></extra>",
         "legendgroup": "GFM",
         "marker": {
          "color": "#EF553B"
         },
         "name": "GFM",
         "notched": true,
         "offsetgroup": "GFM",
         "showlegend": false,
         "type": "box",
         "x": [
          0.04284373710766163,
          0.12451049009107845,
          0.06710179785031505,
          0.05200351766486189,
          0.1597543246932633,
          0.06437465140614283,
          0.31408874421287014,
          0.05382277589657633,
          0.17888909608084336,
          0.038068544335698444,
          0.0965702504927036,
          0.05213873054868758,
          0.06738012904761398,
          0.029051607951839222,
          0.08528799902303137,
          0.020161398715657215,
          0.01482738759465128,
          0.010273860698838263,
          0.06488605825188103,
          0.07748183054672471,
          0.08568957849853309,
          0.11940112752385172,
          0.06067985762675576,
          0.05957727105511976,
          0.04584940087657836,
          0.04045329648960339,
          0.05014783975265531,
          0.0017094813630177748,
          0.2164813921742852,
          0.07092159357962588,
          0.15685076586622118,
          0.030542815529344795,
          0.062455606690614875,
          0.04979604884712118,
          0.25457274269509467,
          0.05934512790050966,
          0.06207594373490825,
          0.0678915168353621,
          0.06429769726349066,
          0.0389638857592052,
          0.033926313038056634,
          0.14747923754403858,
          0.05347281572322668,
          0.0738542244030957,
          0.11094454220686478,
          0.10464026722189348,
          0.07818201635785696,
          0.13187784836527555,
          0.12132275100569878,
          0.06874621635340708,
          0.12671875431675894,
          0.09260923263725535,
          0.14895886500928057,
          0.032110354766942836,
          0.17436425684503976,
          0.03680071946372018,
          0.02502204178271256,
          0.06236829100299659,
          0.11876155569724167,
          0.04933982870364958,
          0.164243655169497,
          0.07109838522312682,
          0.0388603358066626,
          0.037325929467574785,
          0.25497543640201215,
          0.19210311637663083,
          0.030950571319817564,
          0.07219595986600928,
          0.16033809563874862
         ],
         "xaxis": "x2",
         "yaxis": "y2"
        }
       ],
       "layout": {
        "autosize": false,
        "barmode": "overlay",
        "height": 500,
        "legend": {
         "font": {
          "size": 15
         },
         "orientation": "h",
         "title": {},
         "tracegroupgap": 0,
         "x": 1,
         "xanchor": "right",
         "y": 0.98,
         "yanchor": "bottom"
        },
        "margin": {
         "t": 60
        },
        "template": {
         "data": {
          "bar": [
           {
            "error_x": {
             "color": "#2a3f5f"
            },
            "error_y": {
             "color": "#2a3f5f"
            },
            "marker": {
             "line": {
              "color": "white",
              "width": 0.5
             },
             "pattern": {
              "fillmode": "overlay",
              "size": 10,
              "solidity": 0.2
             }
            },
            "type": "bar"
           }
          ],
          "barpolar": [
           {
            "marker": {
             "line": {
              "color": "white",
              "width": 0.5
             },
             "pattern": {
              "fillmode": "overlay",
              "size": 10,
              "solidity": 0.2
             }
            },
            "type": "barpolar"
           }
          ],
          "carpet": [
           {
            "aaxis": {
             "endlinecolor": "#2a3f5f",
             "gridcolor": "#C8D4E3",
             "linecolor": "#C8D4E3",
             "minorgridcolor": "#C8D4E3",
             "startlinecolor": "#2a3f5f"
            },
            "baxis": {
             "endlinecolor": "#2a3f5f",
             "gridcolor": "#C8D4E3",
             "linecolor": "#C8D4E3",
             "minorgridcolor": "#C8D4E3",
             "startlinecolor": "#2a3f5f"
            },
            "type": "carpet"
           }
          ],
          "choropleth": [
           {
            "colorbar": {
             "outlinewidth": 0,
             "ticks": ""
            },
            "type": "choropleth"
           }
          ],
          "contour": [
           {
            "colorbar": {
             "outlinewidth": 0,
             "ticks": ""
            },
            "colorscale": [
             [
              0,
              "#0d0887"
             ],
             [
              0.1111111111111111,
              "#46039f"
             ],
             [
              0.2222222222222222,
              "#7201a8"
             ],
             [
              0.3333333333333333,
              "#9c179e"
             ],
             [
              0.4444444444444444,
              "#bd3786"
             ],
             [
              0.5555555555555556,
              "#d8576b"
             ],
             [
              0.6666666666666666,
              "#ed7953"
             ],
             [
              0.7777777777777778,
              "#fb9f3a"
             ],
             [
              0.8888888888888888,
              "#fdca26"
             ],
             [
              1,
              "#f0f921"
             ]
            ],
            "type": "contour"
           }
          ],
          "contourcarpet": [
           {
            "colorbar": {
             "outlinewidth": 0,
             "ticks": ""
            },
            "type": "contourcarpet"
           }
          ],
          "heatmap": [
           {
            "colorbar": {
             "outlinewidth": 0,
             "ticks": ""
            },
            "colorscale": [
             [
              0,
              "#0d0887"
             ],
             [
              0.1111111111111111,
              "#46039f"
             ],
             [
              0.2222222222222222,
              "#7201a8"
             ],
             [
              0.3333333333333333,
              "#9c179e"
             ],
             [
              0.4444444444444444,
              "#bd3786"
             ],
             [
              0.5555555555555556,
              "#d8576b"
             ],
             [
              0.6666666666666666,
              "#ed7953"
             ],
             [
              0.7777777777777778,
              "#fb9f3a"
             ],
             [
              0.8888888888888888,
              "#fdca26"
             ],
             [
              1,
              "#f0f921"
             ]
            ],
            "type": "heatmap"
           }
          ],
          "heatmapgl": [
           {
            "colorbar": {
             "outlinewidth": 0,
             "ticks": ""
            },
            "colorscale": [
             [
              0,
              "#0d0887"
             ],
             [
              0.1111111111111111,
              "#46039f"
             ],
             [
              0.2222222222222222,
              "#7201a8"
             ],
             [
              0.3333333333333333,
              "#9c179e"
             ],
             [
              0.4444444444444444,
              "#bd3786"
             ],
             [
              0.5555555555555556,
              "#d8576b"
             ],
             [
              0.6666666666666666,
              "#ed7953"
             ],
             [
              0.7777777777777778,
              "#fb9f3a"
             ],
             [
              0.8888888888888888,
              "#fdca26"
             ],
             [
              1,
              "#f0f921"
             ]
            ],
            "type": "heatmapgl"
           }
          ],
          "histogram": [
           {
            "marker": {
             "pattern": {
              "fillmode": "overlay",
              "size": 10,
              "solidity": 0.2
             }
            },
            "type": "histogram"
           }
          ],
          "histogram2d": [
           {
            "colorbar": {
             "outlinewidth": 0,
             "ticks": ""
            },
            "colorscale": [
             [
              0,
              "#0d0887"
             ],
             [
              0.1111111111111111,
              "#46039f"
             ],
             [
              0.2222222222222222,
              "#7201a8"
             ],
             [
              0.3333333333333333,
              "#9c179e"
             ],
             [
              0.4444444444444444,
              "#bd3786"
             ],
             [
              0.5555555555555556,
              "#d8576b"
             ],
             [
              0.6666666666666666,
              "#ed7953"
             ],
             [
              0.7777777777777778,
              "#fb9f3a"
             ],
             [
              0.8888888888888888,
              "#fdca26"
             ],
             [
              1,
              "#f0f921"
             ]
            ],
            "type": "histogram2d"
           }
          ],
          "histogram2dcontour": [
           {
            "colorbar": {
             "outlinewidth": 0,
             "ticks": ""
            },
            "colorscale": [
             [
              0,
              "#0d0887"
             ],
             [
              0.1111111111111111,
              "#46039f"
             ],
             [
              0.2222222222222222,
              "#7201a8"
             ],
             [
              0.3333333333333333,
              "#9c179e"
             ],
             [
              0.4444444444444444,
              "#bd3786"
             ],
             [
              0.5555555555555556,
              "#d8576b"
             ],
             [
              0.6666666666666666,
              "#ed7953"
             ],
             [
              0.7777777777777778,
              "#fb9f3a"
             ],
             [
              0.8888888888888888,
              "#fdca26"
             ],
             [
              1,
              "#f0f921"
             ]
            ],
            "type": "histogram2dcontour"
           }
          ],
          "mesh3d": [
           {
            "colorbar": {
             "outlinewidth": 0,
             "ticks": ""
            },
            "type": "mesh3d"
           }
          ],
          "parcoords": [
           {
            "line": {
             "colorbar": {
              "outlinewidth": 0,
              "ticks": ""
             }
            },
            "type": "parcoords"
           }
          ],
          "pie": [
           {
            "automargin": true,
            "type": "pie"
           }
          ],
          "scatter": [
           {
            "marker": {
             "colorbar": {
              "outlinewidth": 0,
              "ticks": ""
             }
            },
            "type": "scatter"
           }
          ],
          "scatter3d": [
           {
            "line": {
             "colorbar": {
              "outlinewidth": 0,
              "ticks": ""
             }
            },
            "marker": {
             "colorbar": {
              "outlinewidth": 0,
              "ticks": ""
             }
            },
            "type": "scatter3d"
           }
          ],
          "scattercarpet": [
           {
            "marker": {
             "colorbar": {
              "outlinewidth": 0,
              "ticks": ""
             }
            },
            "type": "scattercarpet"
           }
          ],
          "scattergeo": [
           {
            "marker": {
             "colorbar": {
              "outlinewidth": 0,
              "ticks": ""
             }
            },
            "type": "scattergeo"
           }
          ],
          "scattergl": [
           {
            "marker": {
             "colorbar": {
              "outlinewidth": 0,
              "ticks": ""
             }
            },
            "type": "scattergl"
           }
          ],
          "scattermapbox": [
           {
            "marker": {
             "colorbar": {
              "outlinewidth": 0,
              "ticks": ""
             }
            },
            "type": "scattermapbox"
           }
          ],
          "scatterpolar": [
           {
            "marker": {
             "colorbar": {
              "outlinewidth": 0,
              "ticks": ""
             }
            },
            "type": "scatterpolar"
           }
          ],
          "scatterpolargl": [
           {
            "marker": {
             "colorbar": {
              "outlinewidth": 0,
              "ticks": ""
             }
            },
            "type": "scatterpolargl"
           }
          ],
          "scatterternary": [
           {
            "marker": {
             "colorbar": {
              "outlinewidth": 0,
              "ticks": ""
             }
            },
            "type": "scatterternary"
           }
          ],
          "surface": [
           {
            "colorbar": {
             "outlinewidth": 0,
             "ticks": ""
            },
            "colorscale": [
             [
              0,
              "#0d0887"
             ],
             [
              0.1111111111111111,
              "#46039f"
             ],
             [
              0.2222222222222222,
              "#7201a8"
             ],
             [
              0.3333333333333333,
              "#9c179e"
             ],
             [
              0.4444444444444444,
              "#bd3786"
             ],
             [
              0.5555555555555556,
              "#d8576b"
             ],
             [
              0.6666666666666666,
              "#ed7953"
             ],
             [
              0.7777777777777778,
              "#fb9f3a"
             ],
             [
              0.8888888888888888,
              "#fdca26"
             ],
             [
              1,
              "#f0f921"
             ]
            ],
            "type": "surface"
           }
          ],
          "table": [
           {
            "cells": {
             "fill": {
              "color": "#EBF0F8"
             },
             "line": {
              "color": "white"
             }
            },
            "header": {
             "fill": {
              "color": "#C8D4E3"
             },
             "line": {
              "color": "white"
             }
            },
            "type": "table"
           }
          ]
         },
         "layout": {
          "annotationdefaults": {
           "arrowcolor": "#2a3f5f",
           "arrowhead": 0,
           "arrowwidth": 1
          },
          "autotypenumbers": "strict",
          "coloraxis": {
           "colorbar": {
            "outlinewidth": 0,
            "ticks": ""
           }
          },
          "colorscale": {
           "diverging": [
            [
             0,
             "#8e0152"
            ],
            [
             0.1,
             "#c51b7d"
            ],
            [
             0.2,
             "#de77ae"
            ],
            [
             0.3,
             "#f1b6da"
            ],
            [
             0.4,
             "#fde0ef"
            ],
            [
             0.5,
             "#f7f7f7"
            ],
            [
             0.6,
             "#e6f5d0"
            ],
            [
             0.7,
             "#b8e186"
            ],
            [
             0.8,
             "#7fbc41"
            ],
            [
             0.9,
             "#4d9221"
            ],
            [
             1,
             "#276419"
            ]
           ],
           "sequential": [
            [
             0,
             "#0d0887"
            ],
            [
             0.1111111111111111,
             "#46039f"
            ],
            [
             0.2222222222222222,
             "#7201a8"
            ],
            [
             0.3333333333333333,
             "#9c179e"
            ],
            [
             0.4444444444444444,
             "#bd3786"
            ],
            [
             0.5555555555555556,
             "#d8576b"
            ],
            [
             0.6666666666666666,
             "#ed7953"
            ],
            [
             0.7777777777777778,
             "#fb9f3a"
            ],
            [
             0.8888888888888888,
             "#fdca26"
            ],
            [
             1,
             "#f0f921"
            ]
           ],
           "sequentialminus": [
            [
             0,
             "#0d0887"
            ],
            [
             0.1111111111111111,
             "#46039f"
            ],
            [
             0.2222222222222222,
             "#7201a8"
            ],
            [
             0.3333333333333333,
             "#9c179e"
            ],
            [
             0.4444444444444444,
             "#bd3786"
            ],
            [
             0.5555555555555556,
             "#d8576b"
            ],
            [
             0.6666666666666666,
             "#ed7953"
            ],
            [
             0.7777777777777778,
             "#fb9f3a"
            ],
            [
             0.8888888888888888,
             "#fdca26"
            ],
            [
             1,
             "#f0f921"
            ]
           ]
          },
          "colorway": [
           "#636efa",
           "#EF553B",
           "#00cc96",
           "#ab63fa",
           "#FFA15A",
           "#19d3f3",
           "#FF6692",
           "#B6E880",
           "#FF97FF",
           "#FECB52"
          ],
          "font": {
           "color": "#2a3f5f"
          },
          "geo": {
           "bgcolor": "white",
           "lakecolor": "white",
           "landcolor": "white",
           "showlakes": true,
           "showland": true,
           "subunitcolor": "#C8D4E3"
          },
          "hoverlabel": {
           "align": "left"
          },
          "hovermode": "closest",
          "mapbox": {
           "style": "light"
          },
          "paper_bgcolor": "white",
          "plot_bgcolor": "white",
          "polar": {
           "angularaxis": {
            "gridcolor": "#EBF0F8",
            "linecolor": "#EBF0F8",
            "ticks": ""
           },
           "bgcolor": "white",
           "radialaxis": {
            "gridcolor": "#EBF0F8",
            "linecolor": "#EBF0F8",
            "ticks": ""
           }
          },
          "scene": {
           "xaxis": {
            "backgroundcolor": "white",
            "gridcolor": "#DFE8F3",
            "gridwidth": 2,
            "linecolor": "#EBF0F8",
            "showbackground": true,
            "ticks": "",
            "zerolinecolor": "#EBF0F8"
           },
           "yaxis": {
            "backgroundcolor": "white",
            "gridcolor": "#DFE8F3",
            "gridwidth": 2,
            "linecolor": "#EBF0F8",
            "showbackground": true,
            "ticks": "",
            "zerolinecolor": "#EBF0F8"
           },
           "zaxis": {
            "backgroundcolor": "white",
            "gridcolor": "#DFE8F3",
            "gridwidth": 2,
            "linecolor": "#EBF0F8",
            "showbackground": true,
            "ticks": "",
            "zerolinecolor": "#EBF0F8"
           }
          },
          "shapedefaults": {
           "line": {
            "color": "#2a3f5f"
           }
          },
          "ternary": {
           "aaxis": {
            "gridcolor": "#DFE8F3",
            "linecolor": "#A2B1C6",
            "ticks": ""
           },
           "baxis": {
            "gridcolor": "#DFE8F3",
            "linecolor": "#A2B1C6",
            "ticks": ""
           },
           "bgcolor": "white",
           "caxis": {
            "gridcolor": "#DFE8F3",
            "linecolor": "#A2B1C6",
            "ticks": ""
           }
          },
          "title": {
           "x": 0.05
          },
          "xaxis": {
           "automargin": true,
           "gridcolor": "#EBF0F8",
           "linecolor": "#EBF0F8",
           "ticks": "",
           "title": {
            "standoff": 15
           },
           "zerolinecolor": "#EBF0F8",
           "zerolinewidth": 2
          },
          "yaxis": {
           "automargin": true,
           "gridcolor": "#EBF0F8",
           "linecolor": "#EBF0F8",
           "ticks": "",
           "title": {
            "standoff": 15
           },
           "zerolinecolor": "#EBF0F8",
           "zerolinewidth": 2
          }
         }
        },
        "title": {
         "font": {
          "size": 20
         },
         "text": "Distribution of MAE in the dataset",
         "x": 0.5,
         "xanchor": "center",
         "yanchor": "top"
        },
        "width": 900,
        "xaxis": {
         "anchor": "y",
         "domain": [
          0,
          1
         ],
         "range": [
          0,
          0.2
         ],
         "tickfont": {
          "size": 15
         },
         "title": {
          "font": {
           "size": 15
          },
          "text": "MAE"
         },
         "type": "linear"
        },
        "xaxis2": {
         "anchor": "y2",
         "domain": [
          0,
          1
         ],
         "matches": "x",
         "showgrid": true,
         "showticklabels": false,
         "type": "linear"
        },
        "yaxis": {
         "anchor": "x",
         "autorange": true,
         "domain": [
          0,
          0.7326
         ],
         "range": [
          0,
          21.357742181540786
         ],
         "tickfont": {
          "size": 15
         },
         "title": {
          "font": {
           "size": 15
          },
          "text": "Probability Density"
         }
        },
        "yaxis2": {
         "anchor": "x2",
         "autorange": true,
         "domain": [
          0.7426,
          1
         ],
         "matches": "y2",
         "range": [
          -0.5,
          1.5
         ],
         "showgrid": false,
         "showline": false,
         "showticklabels": false,
         "ticks": "",
         "type": "category"
        }
       }
      },
      "image/png": "[encoded data removed]",
      "text/html": [
       "<div>                            <div id=\"2c4970a6-bdd6-4116-b3b4-0e18876c93b9\" class=\"plotly-graph-div\" style=\"height:500px; width:900px;\"></div>            <script type=\"text/javascript\">                require([\"plotly\"], function(Plotly) {                    window.PLOTLYENV=window.PLOTLYENV || {};                                    if (document.getElementById(\"2c4970a6-bdd6-4116-b3b4-0e18876c93b9\")) {                    Plotly.newPlot(                        \"2c4970a6-bdd6-4116-b3b4-0e18876c93b9\",                        [{\"alignmentgroup\":\"True\",\"bingroup\":\"x\",\"histnorm\":\"probability density\",\"hovertemplate\":\"Algorithm=FTTransformerModel<br>MAE=%{x}<br>probability density=%{y}<extra></extra>\",\"legendgroup\":\"FTTransformerModel\",\"marker\":{\"color\":\"#636efa\",\"opacity\":0.5,\"pattern\":{\"shape\":\"\"}},\"name\":\"FTTransformerModel\",\"nbinsx\":100,\"offsetgroup\":\"FTTransformerModel\",\"orientation\":\"v\",\"showlegend\":true,\"x\":[0.048832401633262634,0.1407584697008133,0.07182258367538452,0.058160506188869476,0.16286757588386536,0.06823105365037918,0.296813040971756,0.06311599165201187,0.17928855121135712,0.04149758070707321,0.10439858585596085,0.057158276438713074,0.07301521301269531,0.03117053024470806,0.09175220876932144,0.022206196561455727,0.016636695712804794,0.023518936708569527,0.06890825927257538,0.08036532253026962,0.0879482626914978,0.13239818811416626,0.06259162724018097,0.06404159218072891,0.049223244190216064,0.045882128179073334,0.053870879113674164,0.006748579442501068,0.18249200284481049,0.07406613975763321,0.1688728779554367,0.03194589540362358,0.06856955587863922,0.052816953510046005,0.24460792541503906,0.06614095717668533,0.06428451091051102,0.07305565476417542,0.06892827153205872,0.043466631323099136,0.0378715954720974,0.17054259777069092,0.05665535479784012,0.07959185540676117,0.13049353659152985,0.11533454060554504,0.09735019505023956,0.14036564528942108,0.12530840933322906,0.072309710085392,0.13182710111141205,0.09885626286268234,0.13688848912715912,0.03524095192551613,0.18314018845558167,0.03949398547410965,0.028049031272530556,0.06582261621952057,0.12857966125011444,0.05599245801568031,0.1598454713821411,0.07716818898916245,0.04089993238449097,0.04109162092208862,0.23766060173511505,0.1912413090467453,0.03305225446820259,0.07676223665475845,0.17125369608402252],\"xaxis\":\"x\",\"yaxis\":\"y\",\"type\":\"histogram\"},{\"alignmentgroup\":\"True\",\"hovertemplate\":\"Algorithm=FTTransformerModel<br>MAE=%{x}<extra></extra>\",\"legendgroup\":\"FTTransformerModel\",\"marker\":{\"color\":\"#636efa\"},\"name\":\"FTTransformerModel\",\"notched\":true,\"offsetgroup\":\"FTTransformerModel\",\"showlegend\":false,\"x\":[0.048832401633262634,0.1407584697008133,0.07182258367538452,0.058160506188869476,0.16286757588386536,0.06823105365037918,0.296813040971756,0.06311599165201187,0.17928855121135712,0.04149758070707321,0.10439858585596085,0.057158276438713074,0.07301521301269531,0.03117053024470806,0.09175220876932144,0.022206196561455727,0.016636695712804794,0.023518936708569527,0.06890825927257538,0.08036532253026962,0.0879482626914978,0.13239818811416626,0.06259162724018097,0.06404159218072891,0.049223244190216064,0.045882128179073334,0.053870879113674164,0.006748579442501068,0.18249200284481049,0.07406613975763321,0.1688728779554367,0.03194589540362358,0.06856955587863922,0.052816953510046005,0.24460792541503906,0.06614095717668533,0.06428451091051102,0.07305565476417542,0.06892827153205872,0.043466631323099136,0.0378715954720974,0.17054259777069092,0.05665535479784012,0.07959185540676117,0.13049353659152985,0.11533454060554504,0.09735019505023956,0.14036564528942108,0.12530840933322906,0.072309710085392,0.13182710111141205,0.09885626286268234,0.13688848912715912,0.03524095192551613,0.18314018845558167,0.03949398547410965,0.028049031272530556,0.06582261621952057,0.12857966125011444,0.05599245801568031,0.1598454713821411,0.07716818898916245,0.04089993238449097,0.04109162092208862,0.23766060173511505,0.1912413090467453,0.03305225446820259,0.07676223665475845,0.17125369608402252],\"xaxis\":\"x2\",\"yaxis\":\"y2\",\"type\":\"box\"},{\"alignmentgroup\":\"True\",\"bingroup\":\"x\",\"histnorm\":\"probability density\",\"hovertemplate\":\"Algorithm=GFM<br>MAE=%{x}<br>probability density=%{y}<extra></extra>\",\"legendgroup\":\"GFM\",\"marker\":{\"color\":\"#EF553B\",\"opacity\":0.5,\"pattern\":{\"shape\":\"/\"}},\"name\":\"GFM\",\"nbinsx\":100,\"offsetgroup\":\"GFM\",\"orientation\":\"v\",\"showlegend\":true,\"x\":[0.04284373710766163,0.12451049009107845,0.06710179785031505,0.05200351766486189,0.1597543246932633,0.06437465140614283,0.31408874421287014,0.05382277589657633,0.17888909608084336,0.038068544335698444,0.0965702504927036,0.05213873054868758,0.06738012904761398,0.029051607951839222,0.08528799902303137,0.020161398715657215,0.01482738759465128,0.010273860698838263,0.06488605825188103,0.07748183054672471,0.08568957849853309,0.11940112752385172,0.06067985762675576,0.05957727105511976,0.04584940087657836,0.04045329648960339,0.05014783975265531,0.0017094813630177748,0.2164813921742852,0.07092159357962588,0.15685076586622118,0.030542815529344795,0.062455606690614875,0.04979604884712118,0.25457274269509467,0.05934512790050966,0.06207594373490825,0.0678915168353621,0.06429769726349066,0.0389638857592052,0.033926313038056634,0.14747923754403858,0.05347281572322668,0.0738542244030957,0.11094454220686478,0.10464026722189348,0.07818201635785696,0.13187784836527555,0.12132275100569878,0.06874621635340708,0.12671875431675894,0.09260923263725535,0.14895886500928057,0.032110354766942836,0.17436425684503976,0.03680071946372018,0.02502204178271256,0.06236829100299659,0.11876155569724167,0.04933982870364958,0.164243655169497,0.07109838522312682,0.0388603358066626,0.037325929467574785,0.25497543640201215,0.19210311637663083,0.030950571319817564,0.07219595986600928,0.16033809563874862],\"xaxis\":\"x\",\"yaxis\":\"y\",\"type\":\"histogram\"},{\"alignmentgroup\":\"True\",\"hovertemplate\":\"Algorithm=GFM<br>MAE=%{x}<extra></extra>\",\"legendgroup\":\"GFM\",\"marker\":{\"color\":\"#EF553B\"},\"name\":\"GFM\",\"notched\":true,\"offsetgroup\":\"GFM\",\"showlegend\":false,\"x\":[0.04284373710766163,0.12451049009107845,0.06710179785031505,0.05200351766486189,0.1597543246932633,0.06437465140614283,0.31408874421287014,0.05382277589657633,0.17888909608084336,0.038068544335698444,0.0965702504927036,0.05213873054868758,0.06738012904761398,0.029051607951839222,0.08528799902303137,0.020161398715657215,0.01482738759465128,0.010273860698838263,0.06488605825188103,0.07748183054672471,0.08568957849853309,0.11940112752385172,0.06067985762675576,0.05957727105511976,0.04584940087657836,0.04045329648960339,0.05014783975265531,0.0017094813630177748,0.2164813921742852,0.07092159357962588,0.15685076586622118,0.030542815529344795,0.062455606690614875,0.04979604884712118,0.25457274269509467,0.05934512790050966,0.06207594373490825,0.0678915168353621,0.06429769726349066,0.0389638857592052,0.033926313038056634,0.14747923754403858,0.05347281572322668,0.0738542244030957,0.11094454220686478,0.10464026722189348,0.07818201635785696,0.13187784836527555,0.12132275100569878,0.06874621635340708,0.12671875431675894,0.09260923263725535,0.14895886500928057,0.032110354766942836,0.17436425684503976,0.03680071946372018,0.02502204178271256,0.06236829100299659,0.11876155569724167,0.04933982870364958,0.164243655169497,0.07109838522312682,0.0388603358066626,0.037325929467574785,0.25497543640201215,0.19210311637663083,0.030950571319817564,0.07219595986600928,0.16033809563874862],\"xaxis\":\"x2\",\"yaxis\":\"y2\",\"type\":\"box\"}],                        {\"template\":{\"data\":{\"bar\":[{\"error_x\":{\"color\":\"#2a3f5f\"},\"error_y\":{\"color\":\"#2a3f5f\"},\"marker\":{\"line\":{\"color\":\"white\",\"width\":0.5},\"pattern\":{\"fillmode\":\"overlay\",\"size\":10,\"solidity\":0.2}},\"type\":\"bar\"}],\"barpolar\":[{\"marker\":{\"line\":{\"color\":\"white\",\"width\":0.5},\"pattern\":{\"fillmode\":\"overlay\",\"size\":10,\"solidity\":0.2}},\"type\":\"barpolar\"}],\"carpet\":[{\"aaxis\":{\"endlinecolor\":\"#2a3f5f\",\"gridcolor\":\"#C8D4E3\",\"linecolor\":\"#C8D4E3\",\"minorgridcolor\":\"#C8D4E3\",\"startlinecolor\":\"#2a3f5f\"},\"baxis\":{\"endlinecolor\":\"#2a3f5f\",\"gridcolor\":\"#C8D4E3\",\"linecolor\":\"#C8D4E3\",\"minorgridcolor\":\"#C8D4E3\",\"startlinecolor\":\"#2a3f5f\"},\"type\":\"carpet\"}],\"choropleth\":[{\"colorbar\":{\"outlinewidth\":0,\"ticks\":\"\"},\"type\":\"choropleth\"}],\"contour\":[{\"colorbar\":{\"outlinewidth\":0,\"ticks\":\"\"},\"colorscale\":[[0.0,\"#0d0887\"],[0.1111111111111111,\"#46039f\"],[0.2222222222222222,\"#7201a8\"],[0.3333333333333333,\"#9c179e\"],[0.4444444444444444,\"#bd3786\"],[0.5555555555555556,\"#d8576b\"],[0.6666666666666666,\"#ed7953\"],[0.7777777777777778,\"#fb9f3a\"],[0.8888888888888888,\"#fdca26\"],[1.0,\"#f0f921\"]],\"type\":\"contour\"}],\"contourcarpet\":[{\"colorbar\":{\"outlinewidth\":0,\"ticks\":\"\"},\"type\":\"contourcarpet\"}],\"heatmap\":[{\"colorbar\":{\"outlinewidth\":0,\"ticks\":\"\"},\"colorscale\":[[0.0,\"#0d0887\"],[0.1111111111111111,\"#46039f\"],[0.2222222222222222,\"#7201a8\"],[0.3333333333333333,\"#9c179e\"],[0.4444444444444444,\"#bd3786\"],[0.5555555555555556,\"#d8576b\"],[0.6666666666666666,\"#ed7953\"],[0.7777777777777778,\"#fb9f3a\"],[0.8888888888888888,\"#fdca26\"],[1.0,\"#f0f921\"]],\"type\":\"heatmap\"}],\"heatmapgl\":[{\"colorbar\":{\"outlinewidth\":0,\"ticks\":\"\"},\"colorscale\":[[0.0,\"#0d0887\"],[0.1111111111111111,\"#46039f\"],[0.2222222222222222,\"#7201a8\"],[0.3333333333333333,\"#9c179e\"],[0.4444444444444444,\"#bd3786\"],[0.5555555555555556,\"#d8576b\"],[0.6666666666666666,\"#ed7953\"],[0.7777777777777778,\"#fb9f3a\"],[0.8888888888888888,\"#fdca26\"],[1.0,\"#f0f921\"]],\"type\":\"heatmapgl\"}],\"histogram\":[{\"marker\":{\"pattern\":{\"fillmode\":\"overlay\",\"size\":10,\"solidity\":0.2}},\"type\":\"histogram\"}],\"histogram2d\":[{\"colorbar\":{\"outlinewidth\":0,\"ticks\":\"\"},\"colorscale\":[[0.0,\"#0d0887\"],[0.1111111111111111,\"#46039f\"],[0.2222222222222222,\"#7201a8\"],[0.3333333333333333,\"#9c179e\"],[0.4444444444444444,\"#bd3786\"],[0.5555555555555556,\"#d8576b\"],[0.6666666666666666,\"#ed7953\"],[0.7777777777777778,\"#fb9f3a\"],[0.8888888888888888,\"#fdca26\"],[1.0,\"#f0f921\"]],\"type\":\"histogram2d\"}],\"histogram2dcontour\":[{\"colorbar\":{\"outlinewidth\":0,\"ticks\":\"\"},\"colorscale\":[[0.0,\"#0d0887\"],[0.1111111111111111,\"#46039f\"],[0.2222222222222222,\"#7201a8\"],[0.3333333333333333,\"#9c179e\"],[0.4444444444444444,\"#bd3786\"],[0.5555555555555556,\"#d8576b\"],[0.6666666666666666,\"#ed7953\"],[0.7777777777777778,\"#fb9f3a\"],[0.8888888888888888,\"#fdca26\"],[1.0,\"#f0f921\"]],\"type\":\"histogram2dcontour\"}],\"mesh3d\":[{\"colorbar\":{\"outlinewidth\":0,\"ticks\":\"\"},\"type\":\"mesh3d\"}],\"parcoords\":[{\"line\":{\"colorbar\":{\"outlinewidth\":0,\"ticks\":\"\"}},\"type\":\"parcoords\"}],\"pie\":[{\"automargin\":true,\"type\":\"pie\"}],\"scatter\":[{\"marker\":{\"colorbar\":{\"outlinewidth\":0,\"ticks\":\"\"}},\"type\":\"scatter\"}],\"scatter3d\":[{\"line\":{\"colorbar\":{\"outlinewidth\":0,\"ticks\":\"\"}},\"marker\":{\"colorbar\":{\"outlinewidth\":0,\"ticks\":\"\"}},\"type\":\"scatter3d\"}],\"scattercarpet\":[{\"marker\":{\"colorbar\":{\"outlinewidth\":0,\"ticks\":\"\"}},\"type\":\"scattercarpet\"}],\"scattergeo\":[{\"marker\":{\"colorbar\":{\"outlinewidth\":0,\"ticks\":\"\"}},\"type\":\"scattergeo\"}],\"scattergl\":[{\"marker\":{\"colorbar\":{\"outlinewidth\":0,\"ticks\":\"\"}},\"type\":\"scattergl\"}],\"scattermapbox\":[{\"marker\":{\"colorbar\":{\"outlinewidth\":0,\"ticks\":\"\"}},\"type\":\"scattermapbox\"}],\"scatterpolar\":[{\"marker\":{\"colorbar\":{\"outlinewidth\":0,\"ticks\":\"\"}},\"type\":\"scatterpolar\"}],\"scatterpolargl\":[{\"marker\":{\"colorbar\":{\"outlinewidth\":0,\"ticks\":\"\"}},\"type\":\"scatterpolargl\"}],\"scatterternary\":[{\"marker\":{\"colorbar\":{\"outlinewidth\":0,\"ticks\":\"\"}},\"type\":\"scatterternary\"}],\"surface\":[{\"colorbar\":{\"outlinewidth\":0,\"ticks\":\"\"},\"colorscale\":[[0.0,\"#0d0887\"],[0.1111111111111111,\"#46039f\"],[0.2222222222222222,\"#7201a8\"],[0.3333333333333333,\"#9c179e\"],[0.4444444444444444,\"#bd3786\"],[0.5555555555555556,\"#d8576b\"],[0.6666666666666666,\"#ed7953\"],[0.7777777777777778,\"#fb9f3a\"],[0.8888888888888888,\"#fdca26\"],[1.0,\"#f0f921\"]],\"type\":\"surface\"}],\"table\":[{\"cells\":{\"fill\":{\"color\":\"#EBF0F8\"},\"line\":{\"color\":\"white\"}},\"header\":{\"fill\":{\"color\":\"#C8D4E3\"},\"line\":{\"color\":\"white\"}},\"type\":\"table\"}]},\"layout\":{\"annotationdefaults\":{\"arrowcolor\":\"#2a3f5f\",\"arrowhead\":0,\"arrowwidth\":1},\"autotypenumbers\":\"strict\",\"coloraxis\":{\"colorbar\":{\"outlinewidth\":0,\"ticks\":\"\"}},\"colorscale\":{\"diverging\":[[0,\"#8e0152\"],[0.1,\"#c51b7d\"],[0.2,\"#de77ae\"],[0.3,\"#f1b6da\"],[0.4,\"#fde0ef\"],[0.5,\"#f7f7f7\"],[0.6,\"#e6f5d0\"],[0.7,\"#b8e186\"],[0.8,\"#7fbc41\"],[0.9,\"#4d9221\"],[1,\"#276419\"]],\"sequential\":[[0.0,\"#0d0887\"],[0.1111111111111111,\"#46039f\"],[0.2222222222222222,\"#7201a8\"],[0.3333333333333333,\"#9c179e\"],[0.4444444444444444,\"#bd3786\"],[0.5555555555555556,\"#d8576b\"],[0.6666666666666666,\"#ed7953\"],[0.7777777777777778,\"#fb9f3a\"],[0.8888888888888888,\"#fdca26\"],[1.0,\"#f0f921\"]],\"sequentialminus\":[[0.0,\"#0d0887\"],[0.1111111111111111,\"#46039f\"],[0.2222222222222222,\"#7201a8\"],[0.3333333333333333,\"#9c179e\"],[0.4444444444444444,\"#bd3786\"],[0.5555555555555556,\"#d8576b\"],[0.6666666666666666,\"#ed7953\"],[0.7777777777777778,\"#fb9f3a\"],[0.8888888888888888,\"#fdca26\"],[1.0,\"#f0f921\"]]},\"colorway\":[\"#636efa\",\"#EF553B\",\"#00cc96\",\"#ab63fa\",\"#FFA15A\",\"#19d3f3\",\"#FF6692\",\"#B6E880\",\"#FF97FF\",\"#FECB52\"],\"font\":{\"color\":\"#2a3f5f\"},\"geo\":{\"bgcolor\":\"white\",\"lakecolor\":\"white\",\"landcolor\":\"white\",\"showlakes\":true,\"showland\":true,\"subunitcolor\":\"#C8D4E3\"},\"hoverlabel\":{\"align\":\"left\"},\"hovermode\":\"closest\",\"mapbox\":{\"style\":\"light\"},\"paper_bgcolor\":\"white\",\"plot_bgcolor\":\"white\",\"polar\":{\"angularaxis\":{\"gridcolor\":\"#EBF0F8\",\"linecolor\":\"#EBF0F8\",\"ticks\":\"\"},\"bgcolor\":\"white\",\"radialaxis\":{\"gridcolor\":\"#EBF0F8\",\"linecolor\":\"#EBF0F8\",\"ticks\":\"\"}},\"scene\":{\"xaxis\":{\"backgroundcolor\":\"white\",\"gridcolor\":\"#DFE8F3\",\"gridwidth\":2,\"linecolor\":\"#EBF0F8\",\"showbackground\":true,\"ticks\":\"\",\"zerolinecolor\":\"#EBF0F8\"},\"yaxis\":{\"backgroundcolor\":\"white\",\"gridcolor\":\"#DFE8F3\",\"gridwidth\":2,\"linecolor\":\"#EBF0F8\",\"showbackground\":true,\"ticks\":\"\",\"zerolinecolor\":\"#EBF0F8\"},\"zaxis\":{\"backgroundcolor\":\"white\",\"gridcolor\":\"#DFE8F3\",\"gridwidth\":2,\"linecolor\":\"#EBF0F8\",\"showbackground\":true,\"ticks\":\"\",\"zerolinecolor\":\"#EBF0F8\"}},\"shapedefaults\":{\"line\":{\"color\":\"#2a3f5f\"}},\"ternary\":{\"aaxis\":{\"gridcolor\":\"#DFE8F3\",\"linecolor\":\"#A2B1C6\",\"ticks\":\"\"},\"baxis\":{\"gridcolor\":\"#DFE8F3\",\"linecolor\":\"#A2B1C6\",\"ticks\":\"\"},\"bgcolor\":\"white\",\"caxis\":{\"gridcolor\":\"#DFE8F3\",\"linecolor\":\"#A2B1C6\",\"ticks\":\"\"}},\"title\":{\"x\":0.05},\"xaxis\":{\"automargin\":true,\"gridcolor\":\"#EBF0F8\",\"linecolor\":\"#EBF0F8\",\"ticks\":\"\",\"title\":{\"standoff\":15},\"zerolinecolor\":\"#EBF0F8\",\"zerolinewidth\":2},\"yaxis\":{\"automargin\":true,\"gridcolor\":\"#EBF0F8\",\"linecolor\":\"#EBF0F8\",\"ticks\":\"\",\"title\":{\"standoff\":15},\"zerolinecolor\":\"#EBF0F8\",\"zerolinewidth\":2}}},\"xaxis\":{\"anchor\":\"y\",\"domain\":[0.0,1.0],\"title\":{\"text\":\"MAE\",\"font\":{\"size\":15}},\"tickfont\":{\"size\":15},\"range\":[0,0.2]},\"yaxis\":{\"anchor\":\"x\",\"domain\":[0.0,0.7326],\"title\":{\"text\":\"Probability Density\",\"font\":{\"size\":15}},\"tickfont\":{\"size\":15}},\"xaxis2\":{\"anchor\":\"y2\",\"domain\":[0.0,1.0],\"matches\":\"x\",\"showticklabels\":false,\"showgrid\":true},\"yaxis2\":{\"anchor\":\"x2\",\"domain\":[0.7426,1.0],\"matches\":\"y2\",\"showticklabels\":false,\"showline\":false,\"ticks\":\"\",\"showgrid\":false},\"legend\":{\"title\":{},\"tracegroupgap\":0,\"font\":{\"size\":15},\"orientation\":\"h\",\"yanchor\":\"bottom\",\"y\":0.98,\"xanchor\":\"right\",\"x\":1},\"margin\":{\"t\":60},\"barmode\":\"overlay\",\"title\":{\"font\":{\"size\":20},\"text\":\"Distribution of MAE in the dataset\",\"x\":0.5,\"xanchor\":\"center\",\"yanchor\":\"top\"},\"autosize\":false,\"width\":900,\"height\":500},                        {\"responsive\": true}                    ).then(function(){\n",
       "                            \n",
       "var gd = document.getElementById('2c4970a6-bdd6-4116-b3b4-0e18876c93b9');\n",
       "var x = new MutationObserver(function (mutations, observer) {{\n",
       "        var display = window.getComputedStyle(gd).display;\n",
       "        if (!display || display === 'none') {{\n",
       "            console.log([gd, 'removed!']);\n",
       "            Plotly.purge(gd);\n",
       "            observer.disconnect();\n",
       "        }}\n",
       "}});\n",
       "\n",
       "// Listen for the removal of the full notebook cells\n",
       "var notebookContainer = gd.closest('#notebook-container');\n",
       "if (notebookContainer) {{\n",
       "    x.observe(notebookContainer, {childList: true});\n",
       "}}\n",
       "\n",
       "// Listen for the clearing of the current output cell\n",
       "var outputEl = gd.closest('.output');\n",
       "if (outputEl) {{\n",
       "    x.observe(outputEl, {childList: true});\n",
       "}}\n",
       "\n",
       "                        })                };                });            </script>        </div>"
      ]
     },
     "metadata": {},
     "output_type": "display_data"
    }
   ],
   "source": [
    "fig = px.histogram(metrics_df, \n",
    "                   x=\"MAE\", \n",
    "                   color=\"Algorithm\",\n",
    "                   pattern_shape=\"Algorithm\", \n",
    "                   marginal=\"box\", \n",
    "                   nbins=100, \n",
    "                   barmode=\"overlay\",\n",
    "                   histnorm=\"probability density\")\n",
    "fig = format_plot(fig, xlabel=\"MAE\", ylabel=\"Probability Density\", title=\"Distribution of MAE in the dataset\")\n",
    "# fig.write_image(\"imgs/chapter_12/ft_mae_dist.png\")\n",
    "fig.update_layout(xaxis_range=[0,0.2])\n",
    "fig.show()"
   ]
  },
  {
   "cell_type": "code",
   "execution_count": 36,
   "id": "9e89266e-ab40-4f44-9461-ec0c755c6a61",
   "metadata": {},
   "outputs": [
    {
     "data": {
      "application/vnd.plotly.v1+json": {
       "config": {
        "plotlyServerURL": "https://plot.ly"
       },
       "data": [
        {
         "alignmentgroup": "True",
         "bingroup": "x",
         "histnorm": "probability density",
         "hovertemplate": "Algorithm=FTTransformerModel<br>MSE=%{x}<br>probability density=%{y}<extra></extra>",
         "legendgroup": "FTTransformerModel",
         "marker": {
          "color": "#636efa",
          "opacity": 0.5,
          "pattern": {
           "shape": ""
          }
         },
         "name": "FTTransformerModel",
         "nbinsx": 500,
         "offsetgroup": "FTTransformerModel",
         "orientation": "v",
         "showlegend": true,
         "type": "histogram",
         "x": [
          0.009730893187224865,
          0.03149721771478653,
          0.018326707184314728,
          0.008045565336942673,
          0.07513068616390228,
          0.009847510606050491,
          0.17814090847969055,
          0.009606105275452137,
          0.0874560996890068,
          0.003915851004421711,
          0.027389001101255417,
          0.010308457538485527,
          0.016738051548600197,
          0.003523461287841201,
          0.02082829363644123,
          0.0008204039186239243,
          0.000576246005948633,
          0.0010409962851554155,
          0.018575668334960938,
          0.03316524997353554,
          0.026060426607728004,
          0.040351640433073044,
          0.011213953606784344,
          0.012631767429411411,
          0.008575914427638054,
          0.004793392028659582,
          0.012390396557748318,
          0.00006397374090738595,
          0.09551449120044708,
          0.01827460527420044,
          0.059699930250644684,
          0.0022996356710791588,
          0.016614176332950592,
          0.00722334161400795,
          0.12273091822862625,
          0.009138161316514015,
          0.012915005907416344,
          0.016408750787377357,
          0.014735841192305088,
          0.004785863216966391,
          0.003344644093886018,
          0.07217279076576233,
          0.011235211044549942,
          0.0169292651116848,
          0.0342530682682991,
          0.03087737038731575,
          0.028129566460847855,
          0.04465511441230774,
          0.07681746780872345,
          0.014392212964594364,
          0.04047711566090584,
          0.038592301309108734,
          0.09318016469478607,
          0.004710756242275238,
          0.17112532258033752,
          0.003700774861499667,
          0.001895796274766326,
          0.011953159235417843,
          0.03641286492347717,
          0.007296797353774309,
          0.09147502481937408,
          0.016422035172581673,
          0.0058599067851901054,
          0.005319150630384684,
          0.11613976955413818,
          0.07158613950014114,
          0.002323461463674903,
          0.019352992996573448,
          0.1572038233280182
         ],
         "xaxis": "x",
         "yaxis": "y"
        },
        {
         "alignmentgroup": "True",
         "hovertemplate": "Algorithm=FTTransformerModel<br>MSE=%{x}<extra></extra>",
         "legendgroup": "FTTransformerModel",
         "marker": {
          "color": "#636efa"
         },
         "name": "FTTransformerModel",
         "notched": true,
         "offsetgroup": "FTTransformerModel",
         "showlegend": false,
         "type": "box",
         "x": [
          0.009730893187224865,
          0.03149721771478653,
          0.018326707184314728,
          0.008045565336942673,
          0.07513068616390228,
          0.009847510606050491,
          0.17814090847969055,
          0.009606105275452137,
          0.0874560996890068,
          0.003915851004421711,
          0.027389001101255417,
          0.010308457538485527,
          0.016738051548600197,
          0.003523461287841201,
          0.02082829363644123,
          0.0008204039186239243,
          0.000576246005948633,
          0.0010409962851554155,
          0.018575668334960938,
          0.03316524997353554,
          0.026060426607728004,
          0.040351640433073044,
          0.011213953606784344,
          0.012631767429411411,
          0.008575914427638054,
          0.004793392028659582,
          0.012390396557748318,
          0.00006397374090738595,
          0.09551449120044708,
          0.01827460527420044,
          0.059699930250644684,
          0.0022996356710791588,
          0.016614176332950592,
          0.00722334161400795,
          0.12273091822862625,
          0.009138161316514015,
          0.012915005907416344,
          0.016408750787377357,
          0.014735841192305088,
          0.004785863216966391,
          0.003344644093886018,
          0.07217279076576233,
          0.011235211044549942,
          0.0169292651116848,
          0.0342530682682991,
          0.03087737038731575,
          0.028129566460847855,
          0.04465511441230774,
          0.07681746780872345,
          0.014392212964594364,
          0.04047711566090584,
          0.038592301309108734,
          0.09318016469478607,
          0.004710756242275238,
          0.17112532258033752,
          0.003700774861499667,
          0.001895796274766326,
          0.011953159235417843,
          0.03641286492347717,
          0.007296797353774309,
          0.09147502481937408,
          0.016422035172581673,
          0.0058599067851901054,
          0.005319150630384684,
          0.11613976955413818,
          0.07158613950014114,
          0.002323461463674903,
          0.019352992996573448,
          0.1572038233280182
         ],
         "xaxis": "x2",
         "yaxis": "y2"
        },
        {
         "alignmentgroup": "True",
         "bingroup": "x",
         "histnorm": "probability density",
         "hovertemplate": "Algorithm=GFM<br>MSE=%{x}<br>probability density=%{y}<extra></extra>",
         "legendgroup": "GFM",
         "marker": {
          "color": "#EF553B",
          "opacity": 0.5,
          "pattern": {
           "shape": "/"
          }
         },
         "name": "GFM",
         "nbinsx": 500,
         "offsetgroup": "GFM",
         "orientation": "v",
         "showlegend": true,
         "type": "histogram",
         "x": [
          0.009639046553835627,
          0.026336483654306662,
          0.01738922251724669,
          0.007536849502179467,
          0.07479899591465751,
          0.009151003058131236,
          0.1983255775685869,
          0.008682648498062048,
          0.08743603597601236,
          0.0036542771514655693,
          0.026364623720808892,
          0.01035372966236574,
          0.016149344349067993,
          0.0033241841742626533,
          0.020004465431268065,
          0.0006916023051087092,
          0.0005343421371475598,
          0.00022099579340951483,
          0.0176071759892225,
          0.03457001336359042,
          0.02686895394583018,
          0.0400810438933227,
          0.01097734906503619,
          0.011884039186124847,
          0.008409421675852425,
          0.00432583770363796,
          0.01182955646852212,
          0.000005866344332738341,
          0.13360973281409608,
          0.018133550931499324,
          0.059196040378283875,
          0.0022052823917157573,
          0.015808458038989406,
          0.0069810583745280284,
          0.13625927516840466,
          0.008334846299471168,
          0.012639555936107947,
          0.01559602441332955,
          0.014343498505030762,
          0.00418406605695555,
          0.002950255960981349,
          0.06702063414780415,
          0.010797701152804196,
          0.016305679082632314,
          0.029676635252717798,
          0.028342770008294285,
          0.023097229382995292,
          0.04319183665828356,
          0.07696431903314004,
          0.013352451944633983,
          0.03881529234537661,
          0.03838234262537125,
          0.11086116530300094,
          0.004931042212318896,
          0.17062148903048385,
          0.003502478919173334,
          0.0017965651619511382,
          0.011051540915356086,
          0.03459330918841514,
          0.00685027616669128,
          0.09349323332742851,
          0.015277662849099892,
          0.005909095099325499,
          0.005072886250881558,
          0.1293813069593056,
          0.07719252599652843,
          0.0022169300740791805,
          0.018750982624736175,
          0.15265597182010981
         ],
         "xaxis": "x",
         "yaxis": "y"
        },
        {
         "alignmentgroup": "True",
         "hovertemplate": "Algorithm=GFM<br>MSE=%{x}<extra></extra>",
         "legendgroup": "GFM",
         "marker": {
          "color": "#EF553B"
         },
         "name": "GFM",
         "notched": true,
         "offsetgroup": "GFM",
         "showlegend": false,
         "type": "box",
         "x": [
          0.009639046553835627,
          0.026336483654306662,
          0.01738922251724669,
          0.007536849502179467,
          0.07479899591465751,
          0.009151003058131236,
          0.1983255775685869,
          0.008682648498062048,
          0.08743603597601236,
          0.0036542771514655693,
          0.026364623720808892,
          0.01035372966236574,
          0.016149344349067993,
          0.0033241841742626533,
          0.020004465431268065,
          0.0006916023051087092,
          0.0005343421371475598,
          0.00022099579340951483,
          0.0176071759892225,
          0.03457001336359042,
          0.02686895394583018,
          0.0400810438933227,
          0.01097734906503619,
          0.011884039186124847,
          0.008409421675852425,
          0.00432583770363796,
          0.01182955646852212,
          0.000005866344332738341,
          0.13360973281409608,
          0.018133550931499324,
          0.059196040378283875,
          0.0022052823917157573,
          0.015808458038989406,
          0.0069810583745280284,
          0.13625927516840466,
          0.008334846299471168,
          0.012639555936107947,
          0.01559602441332955,
          0.014343498505030762,
          0.00418406605695555,
          0.002950255960981349,
          0.06702063414780415,
          0.010797701152804196,
          0.016305679082632314,
          0.029676635252717798,
          0.028342770008294285,
          0.023097229382995292,
          0.04319183665828356,
          0.07696431903314004,
          0.013352451944633983,
          0.03881529234537661,
          0.03838234262537125,
          0.11086116530300094,
          0.004931042212318896,
          0.17062148903048385,
          0.003502478919173334,
          0.0017965651619511382,
          0.011051540915356086,
          0.03459330918841514,
          0.00685027616669128,
          0.09349323332742851,
          0.015277662849099892,
          0.005909095099325499,
          0.005072886250881558,
          0.1293813069593056,
          0.07719252599652843,
          0.0022169300740791805,
          0.018750982624736175,
          0.15265597182010981
         ],
         "xaxis": "x2",
         "yaxis": "y2"
        }
       ],
       "layout": {
        "autosize": false,
        "barmode": "overlay",
        "height": 500,
        "legend": {
         "font": {
          "size": 15
         },
         "orientation": "h",
         "title": {},
         "tracegroupgap": 0,
         "x": 1,
         "xanchor": "right",
         "y": 0.98,
         "yanchor": "bottom"
        },
        "margin": {
         "t": 60
        },
        "template": {
         "data": {
          "bar": [
           {
            "error_x": {
             "color": "#2a3f5f"
            },
            "error_y": {
             "color": "#2a3f5f"
            },
            "marker": {
             "line": {
              "color": "white",
              "width": 0.5
             },
             "pattern": {
              "fillmode": "overlay",
              "size": 10,
              "solidity": 0.2
             }
            },
            "type": "bar"
           }
          ],
          "barpolar": [
           {
            "marker": {
             "line": {
              "color": "white",
              "width": 0.5
             },
             "pattern": {
              "fillmode": "overlay",
              "size": 10,
              "solidity": 0.2
             }
            },
            "type": "barpolar"
           }
          ],
          "carpet": [
           {
            "aaxis": {
             "endlinecolor": "#2a3f5f",
             "gridcolor": "#C8D4E3",
             "linecolor": "#C8D4E3",
             "minorgridcolor": "#C8D4E3",
             "startlinecolor": "#2a3f5f"
            },
            "baxis": {
             "endlinecolor": "#2a3f5f",
             "gridcolor": "#C8D4E3",
             "linecolor": "#C8D4E3",
             "minorgridcolor": "#C8D4E3",
             "startlinecolor": "#2a3f5f"
            },
            "type": "carpet"
           }
          ],
          "choropleth": [
           {
            "colorbar": {
             "outlinewidth": 0,
             "ticks": ""
            },
            "type": "choropleth"
           }
          ],
          "contour": [
           {
            "colorbar": {
             "outlinewidth": 0,
             "ticks": ""
            },
            "colorscale": [
             [
              0,
              "#0d0887"
             ],
             [
              0.1111111111111111,
              "#46039f"
             ],
             [
              0.2222222222222222,
              "#7201a8"
             ],
             [
              0.3333333333333333,
              "#9c179e"
             ],
             [
              0.4444444444444444,
              "#bd3786"
             ],
             [
              0.5555555555555556,
              "#d8576b"
             ],
             [
              0.6666666666666666,
              "#ed7953"
             ],
             [
              0.7777777777777778,
              "#fb9f3a"
             ],
             [
              0.8888888888888888,
              "#fdca26"
             ],
             [
              1,
              "#f0f921"
             ]
            ],
            "type": "contour"
           }
          ],
          "contourcarpet": [
           {
            "colorbar": {
             "outlinewidth": 0,
             "ticks": ""
            },
            "type": "contourcarpet"
           }
          ],
          "heatmap": [
           {
            "colorbar": {
             "outlinewidth": 0,
             "ticks": ""
            },
            "colorscale": [
             [
              0,
              "#0d0887"
             ],
             [
              0.1111111111111111,
              "#46039f"
             ],
             [
              0.2222222222222222,
              "#7201a8"
             ],
             [
              0.3333333333333333,
              "#9c179e"
             ],
             [
              0.4444444444444444,
              "#bd3786"
             ],
             [
              0.5555555555555556,
              "#d8576b"
             ],
             [
              0.6666666666666666,
              "#ed7953"
             ],
             [
              0.7777777777777778,
              "#fb9f3a"
             ],
             [
              0.8888888888888888,
              "#fdca26"
             ],
             [
              1,
              "#f0f921"
             ]
            ],
            "type": "heatmap"
           }
          ],
          "heatmapgl": [
           {
            "colorbar": {
             "outlinewidth": 0,
             "ticks": ""
            },
            "colorscale": [
             [
              0,
              "#0d0887"
             ],
             [
              0.1111111111111111,
              "#46039f"
             ],
             [
              0.2222222222222222,
              "#7201a8"
             ],
             [
              0.3333333333333333,
              "#9c179e"
             ],
             [
              0.4444444444444444,
              "#bd3786"
             ],
             [
              0.5555555555555556,
              "#d8576b"
             ],
             [
              0.6666666666666666,
              "#ed7953"
             ],
             [
              0.7777777777777778,
              "#fb9f3a"
             ],
             [
              0.8888888888888888,
              "#fdca26"
             ],
             [
              1,
              "#f0f921"
             ]
            ],
            "type": "heatmapgl"
           }
          ],
          "histogram": [
           {
            "marker": {
             "pattern": {
              "fillmode": "overlay",
              "size": 10,
              "solidity": 0.2
             }
            },
            "type": "histogram"
           }
          ],
          "histogram2d": [
           {
            "colorbar": {
             "outlinewidth": 0,
             "ticks": ""
            },
            "colorscale": [
             [
              0,
              "#0d0887"
             ],
             [
              0.1111111111111111,
              "#46039f"
             ],
             [
              0.2222222222222222,
              "#7201a8"
             ],
             [
              0.3333333333333333,
              "#9c179e"
             ],
             [
              0.4444444444444444,
              "#bd3786"
             ],
             [
              0.5555555555555556,
              "#d8576b"
             ],
             [
              0.6666666666666666,
              "#ed7953"
             ],
             [
              0.7777777777777778,
              "#fb9f3a"
             ],
             [
              0.8888888888888888,
              "#fdca26"
             ],
             [
              1,
              "#f0f921"
             ]
            ],
            "type": "histogram2d"
           }
          ],
          "histogram2dcontour": [
           {
            "colorbar": {
             "outlinewidth": 0,
             "ticks": ""
            },
            "colorscale": [
             [
              0,
              "#0d0887"
             ],
             [
              0.1111111111111111,
              "#46039f"
             ],
             [
              0.2222222222222222,
              "#7201a8"
             ],
             [
              0.3333333333333333,
              "#9c179e"
             ],
             [
              0.4444444444444444,
              "#bd3786"
             ],
             [
              0.5555555555555556,
              "#d8576b"
             ],
             [
              0.6666666666666666,
              "#ed7953"
             ],
             [
              0.7777777777777778,
              "#fb9f3a"
             ],
             [
              0.8888888888888888,
              "#fdca26"
             ],
             [
              1,
              "#f0f921"
             ]
            ],
            "type": "histogram2dcontour"
           }
          ],
          "mesh3d": [
           {
            "colorbar": {
             "outlinewidth": 0,
             "ticks": ""
            },
            "type": "mesh3d"
           }
          ],
          "parcoords": [
           {
            "line": {
             "colorbar": {
              "outlinewidth": 0,
              "ticks": ""
             }
            },
            "type": "parcoords"
           }
          ],
          "pie": [
           {
            "automargin": true,
            "type": "pie"
           }
          ],
          "scatter": [
           {
            "marker": {
             "colorbar": {
              "outlinewidth": 0,
              "ticks": ""
             }
            },
            "type": "scatter"
           }
          ],
          "scatter3d": [
           {
            "line": {
             "colorbar": {
              "outlinewidth": 0,
              "ticks": ""
             }
            },
            "marker": {
             "colorbar": {
              "outlinewidth": 0,
              "ticks": ""
             }
            },
            "type": "scatter3d"
           }
          ],
          "scattercarpet": [
           {
            "marker": {
             "colorbar": {
              "outlinewidth": 0,
              "ticks": ""
             }
            },
            "type": "scattercarpet"
           }
          ],
          "scattergeo": [
           {
            "marker": {
             "colorbar": {
              "outlinewidth": 0,
              "ticks": ""
             }
            },
            "type": "scattergeo"
           }
          ],
          "scattergl": [
           {
            "marker": {
             "colorbar": {
              "outlinewidth": 0,
              "ticks": ""
             }
            },
            "type": "scattergl"
           }
          ],
          "scattermapbox": [
           {
            "marker": {
             "colorbar": {
              "outlinewidth": 0,
              "ticks": ""
             }
            },
            "type": "scattermapbox"
           }
          ],
          "scatterpolar": [
           {
            "marker": {
             "colorbar": {
              "outlinewidth": 0,
              "ticks": ""
             }
            },
            "type": "scatterpolar"
           }
          ],
          "scatterpolargl": [
           {
            "marker": {
             "colorbar": {
              "outlinewidth": 0,
              "ticks": ""
             }
            },
            "type": "scatterpolargl"
           }
          ],
          "scatterternary": [
           {
            "marker": {
             "colorbar": {
              "outlinewidth": 0,
              "ticks": ""
             }
            },
            "type": "scatterternary"
           }
          ],
          "surface": [
           {
            "colorbar": {
             "outlinewidth": 0,
             "ticks": ""
            },
            "colorscale": [
             [
              0,
              "#0d0887"
             ],
             [
              0.1111111111111111,
              "#46039f"
             ],
             [
              0.2222222222222222,
              "#7201a8"
             ],
             [
              0.3333333333333333,
              "#9c179e"
             ],
             [
              0.4444444444444444,
              "#bd3786"
             ],
             [
              0.5555555555555556,
              "#d8576b"
             ],
             [
              0.6666666666666666,
              "#ed7953"
             ],
             [
              0.7777777777777778,
              "#fb9f3a"
             ],
             [
              0.8888888888888888,
              "#fdca26"
             ],
             [
              1,
              "#f0f921"
             ]
            ],
            "type": "surface"
           }
          ],
          "table": [
           {
            "cells": {
             "fill": {
              "color": "#EBF0F8"
             },
             "line": {
              "color": "white"
             }
            },
            "header": {
             "fill": {
              "color": "#C8D4E3"
             },
             "line": {
              "color": "white"
             }
            },
            "type": "table"
           }
          ]
         },
         "layout": {
          "annotationdefaults": {
           "arrowcolor": "#2a3f5f",
           "arrowhead": 0,
           "arrowwidth": 1
          },
          "autotypenumbers": "strict",
          "coloraxis": {
           "colorbar": {
            "outlinewidth": 0,
            "ticks": ""
           }
          },
          "colorscale": {
           "diverging": [
            [
             0,
             "#8e0152"
            ],
            [
             0.1,
             "#c51b7d"
            ],
            [
             0.2,
             "#de77ae"
            ],
            [
             0.3,
             "#f1b6da"
            ],
            [
             0.4,
             "#fde0ef"
            ],
            [
             0.5,
             "#f7f7f7"
            ],
            [
             0.6,
             "#e6f5d0"
            ],
            [
             0.7,
             "#b8e186"
            ],
            [
             0.8,
             "#7fbc41"
            ],
            [
             0.9,
             "#4d9221"
            ],
            [
             1,
             "#276419"
            ]
           ],
           "sequential": [
            [
             0,
             "#0d0887"
            ],
            [
             0.1111111111111111,
             "#46039f"
            ],
            [
             0.2222222222222222,
             "#7201a8"
            ],
            [
             0.3333333333333333,
             "#9c179e"
            ],
            [
             0.4444444444444444,
             "#bd3786"
            ],
            [
             0.5555555555555556,
             "#d8576b"
            ],
            [
             0.6666666666666666,
             "#ed7953"
            ],
            [
             0.7777777777777778,
             "#fb9f3a"
            ],
            [
             0.8888888888888888,
             "#fdca26"
            ],
            [
             1,
             "#f0f921"
            ]
           ],
           "sequentialminus": [
            [
             0,
             "#0d0887"
            ],
            [
             0.1111111111111111,
             "#46039f"
            ],
            [
             0.2222222222222222,
             "#7201a8"
            ],
            [
             0.3333333333333333,
             "#9c179e"
            ],
            [
             0.4444444444444444,
             "#bd3786"
            ],
            [
             0.5555555555555556,
             "#d8576b"
            ],
            [
             0.6666666666666666,
             "#ed7953"
            ],
            [
             0.7777777777777778,
             "#fb9f3a"
            ],
            [
             0.8888888888888888,
             "#fdca26"
            ],
            [
             1,
             "#f0f921"
            ]
           ]
          },
          "colorway": [
           "#636efa",
           "#EF553B",
           "#00cc96",
           "#ab63fa",
           "#FFA15A",
           "#19d3f3",
           "#FF6692",
           "#B6E880",
           "#FF97FF",
           "#FECB52"
          ],
          "font": {
           "color": "#2a3f5f"
          },
          "geo": {
           "bgcolor": "white",
           "lakecolor": "white",
           "landcolor": "white",
           "showlakes": true,
           "showland": true,
           "subunitcolor": "#C8D4E3"
          },
          "hoverlabel": {
           "align": "left"
          },
          "hovermode": "closest",
          "mapbox": {
           "style": "light"
          },
          "paper_bgcolor": "white",
          "plot_bgcolor": "white",
          "polar": {
           "angularaxis": {
            "gridcolor": "#EBF0F8",
            "linecolor": "#EBF0F8",
            "ticks": ""
           },
           "bgcolor": "white",
           "radialaxis": {
            "gridcolor": "#EBF0F8",
            "linecolor": "#EBF0F8",
            "ticks": ""
           }
          },
          "scene": {
           "xaxis": {
            "backgroundcolor": "white",
            "gridcolor": "#DFE8F3",
            "gridwidth": 2,
            "linecolor": "#EBF0F8",
            "showbackground": true,
            "ticks": "",
            "zerolinecolor": "#EBF0F8"
           },
           "yaxis": {
            "backgroundcolor": "white",
            "gridcolor": "#DFE8F3",
            "gridwidth": 2,
            "linecolor": "#EBF0F8",
            "showbackground": true,
            "ticks": "",
            "zerolinecolor": "#EBF0F8"
           },
           "zaxis": {
            "backgroundcolor": "white",
            "gridcolor": "#DFE8F3",
            "gridwidth": 2,
            "linecolor": "#EBF0F8",
            "showbackground": true,
            "ticks": "",
            "zerolinecolor": "#EBF0F8"
           }
          },
          "shapedefaults": {
           "line": {
            "color": "#2a3f5f"
           }
          },
          "ternary": {
           "aaxis": {
            "gridcolor": "#DFE8F3",
            "linecolor": "#A2B1C6",
            "ticks": ""
           },
           "baxis": {
            "gridcolor": "#DFE8F3",
            "linecolor": "#A2B1C6",
            "ticks": ""
           },
           "bgcolor": "white",
           "caxis": {
            "gridcolor": "#DFE8F3",
            "linecolor": "#A2B1C6",
            "ticks": ""
           }
          },
          "title": {
           "x": 0.05
          },
          "xaxis": {
           "automargin": true,
           "gridcolor": "#EBF0F8",
           "linecolor": "#EBF0F8",
           "ticks": "",
           "title": {
            "standoff": 15
           },
           "zerolinecolor": "#EBF0F8",
           "zerolinewidth": 2
          },
          "yaxis": {
           "automargin": true,
           "gridcolor": "#EBF0F8",
           "linecolor": "#EBF0F8",
           "ticks": "",
           "title": {
            "standoff": 15
           },
           "zerolinecolor": "#EBF0F8",
           "zerolinewidth": 2
          }
         }
        },
        "title": {
         "font": {
          "size": 20
         },
         "text": "Distribution of MSE in the dataset",
         "x": 0.5,
         "xanchor": "center",
         "yanchor": "top"
        },
        "width": 900,
        "xaxis": {
         "anchor": "y",
         "domain": [
          0,
          1
         ],
         "range": [
          0,
          0.05
         ],
         "tickfont": {
          "size": 15
         },
         "title": {
          "font": {
           "size": 15
          },
          "text": "MSE"
         },
         "type": "linear"
        },
        "xaxis2": {
         "anchor": "y2",
         "domain": [
          0,
          1
         ],
         "matches": "x",
         "showgrid": true,
         "showticklabels": false,
         "type": "linear"
        },
        "yaxis": {
         "anchor": "x",
         "autorange": true,
         "domain": [
          0,
          0.7326
         ],
         "range": [
          0,
          91.53318077803203
         ],
         "tickfont": {
          "size": 15
         },
         "title": {
          "font": {
           "size": 15
          },
          "text": "Probability Density"
         }
        },
        "yaxis2": {
         "anchor": "x2",
         "autorange": true,
         "domain": [
          0.7426,
          1
         ],
         "matches": "y2",
         "range": [
          -0.5,
          1.5
         ],
         "showgrid": false,
         "showline": false,
         "showticklabels": false,
         "ticks": "",
         "type": "category"
        }
       }
      },
      "image/png": "[encoded data removed]",
      "text/html": [
       "<div>                            <div id=\"a2aa6be0-e087-4862-82d9-e3c1a20077f3\" class=\"plotly-graph-div\" style=\"height:500px; width:900px;\"></div>            <script type=\"text/javascript\">                require([\"plotly\"], function(Plotly) {                    window.PLOTLYENV=window.PLOTLYENV || {};                                    if (document.getElementById(\"a2aa6be0-e087-4862-82d9-e3c1a20077f3\")) {                    Plotly.newPlot(                        \"a2aa6be0-e087-4862-82d9-e3c1a20077f3\",                        [{\"alignmentgroup\":\"True\",\"bingroup\":\"x\",\"histnorm\":\"probability density\",\"hovertemplate\":\"Algorithm=FTTransformerModel<br>MSE=%{x}<br>probability density=%{y}<extra></extra>\",\"legendgroup\":\"FTTransformerModel\",\"marker\":{\"color\":\"#636efa\",\"opacity\":0.5,\"pattern\":{\"shape\":\"\"}},\"name\":\"FTTransformerModel\",\"nbinsx\":500,\"offsetgroup\":\"FTTransformerModel\",\"orientation\":\"v\",\"showlegend\":true,\"x\":[0.009730893187224865,0.03149721771478653,0.018326707184314728,0.008045565336942673,0.07513068616390228,0.009847510606050491,0.17814090847969055,0.009606105275452137,0.0874560996890068,0.003915851004421711,0.027389001101255417,0.010308457538485527,0.016738051548600197,0.003523461287841201,0.02082829363644123,0.0008204039186239243,0.000576246005948633,0.0010409962851554155,0.018575668334960938,0.03316524997353554,0.026060426607728004,0.040351640433073044,0.011213953606784344,0.012631767429411411,0.008575914427638054,0.004793392028659582,0.012390396557748318,6.397374090738595e-05,0.09551449120044708,0.01827460527420044,0.059699930250644684,0.0022996356710791588,0.016614176332950592,0.00722334161400795,0.12273091822862625,0.009138161316514015,0.012915005907416344,0.016408750787377357,0.014735841192305088,0.004785863216966391,0.003344644093886018,0.07217279076576233,0.011235211044549942,0.0169292651116848,0.0342530682682991,0.03087737038731575,0.028129566460847855,0.04465511441230774,0.07681746780872345,0.014392212964594364,0.04047711566090584,0.038592301309108734,0.09318016469478607,0.004710756242275238,0.17112532258033752,0.003700774861499667,0.001895796274766326,0.011953159235417843,0.03641286492347717,0.007296797353774309,0.09147502481937408,0.016422035172581673,0.0058599067851901054,0.005319150630384684,0.11613976955413818,0.07158613950014114,0.002323461463674903,0.019352992996573448,0.1572038233280182],\"xaxis\":\"x\",\"yaxis\":\"y\",\"type\":\"histogram\"},{\"alignmentgroup\":\"True\",\"hovertemplate\":\"Algorithm=FTTransformerModel<br>MSE=%{x}<extra></extra>\",\"legendgroup\":\"FTTransformerModel\",\"marker\":{\"color\":\"#636efa\"},\"name\":\"FTTransformerModel\",\"notched\":true,\"offsetgroup\":\"FTTransformerModel\",\"showlegend\":false,\"x\":[0.009730893187224865,0.03149721771478653,0.018326707184314728,0.008045565336942673,0.07513068616390228,0.009847510606050491,0.17814090847969055,0.009606105275452137,0.0874560996890068,0.003915851004421711,0.027389001101255417,0.010308457538485527,0.016738051548600197,0.003523461287841201,0.02082829363644123,0.0008204039186239243,0.000576246005948633,0.0010409962851554155,0.018575668334960938,0.03316524997353554,0.026060426607728004,0.040351640433073044,0.011213953606784344,0.012631767429411411,0.008575914427638054,0.004793392028659582,0.012390396557748318,6.397374090738595e-05,0.09551449120044708,0.01827460527420044,0.059699930250644684,0.0022996356710791588,0.016614176332950592,0.00722334161400795,0.12273091822862625,0.009138161316514015,0.012915005907416344,0.016408750787377357,0.014735841192305088,0.004785863216966391,0.003344644093886018,0.07217279076576233,0.011235211044549942,0.0169292651116848,0.0342530682682991,0.03087737038731575,0.028129566460847855,0.04465511441230774,0.07681746780872345,0.014392212964594364,0.04047711566090584,0.038592301309108734,0.09318016469478607,0.004710756242275238,0.17112532258033752,0.003700774861499667,0.001895796274766326,0.011953159235417843,0.03641286492347717,0.007296797353774309,0.09147502481937408,0.016422035172581673,0.0058599067851901054,0.005319150630384684,0.11613976955413818,0.07158613950014114,0.002323461463674903,0.019352992996573448,0.1572038233280182],\"xaxis\":\"x2\",\"yaxis\":\"y2\",\"type\":\"box\"},{\"alignmentgroup\":\"True\",\"bingroup\":\"x\",\"histnorm\":\"probability density\",\"hovertemplate\":\"Algorithm=GFM<br>MSE=%{x}<br>probability density=%{y}<extra></extra>\",\"legendgroup\":\"GFM\",\"marker\":{\"color\":\"#EF553B\",\"opacity\":0.5,\"pattern\":{\"shape\":\"/\"}},\"name\":\"GFM\",\"nbinsx\":500,\"offsetgroup\":\"GFM\",\"orientation\":\"v\",\"showlegend\":true,\"x\":[0.009639046553835627,0.026336483654306662,0.01738922251724669,0.007536849502179467,0.07479899591465751,0.009151003058131236,0.1983255775685869,0.008682648498062048,0.08743603597601236,0.0036542771514655693,0.026364623720808892,0.01035372966236574,0.016149344349067993,0.0033241841742626533,0.020004465431268065,0.0006916023051087092,0.0005343421371475598,0.00022099579340951483,0.0176071759892225,0.03457001336359042,0.02686895394583018,0.0400810438933227,0.01097734906503619,0.011884039186124847,0.008409421675852425,0.00432583770363796,0.01182955646852212,5.866344332738341e-06,0.13360973281409608,0.018133550931499324,0.059196040378283875,0.0022052823917157573,0.015808458038989406,0.0069810583745280284,0.13625927516840466,0.008334846299471168,0.012639555936107947,0.01559602441332955,0.014343498505030762,0.00418406605695555,0.002950255960981349,0.06702063414780415,0.010797701152804196,0.016305679082632314,0.029676635252717798,0.028342770008294285,0.023097229382995292,0.04319183665828356,0.07696431903314004,0.013352451944633983,0.03881529234537661,0.03838234262537125,0.11086116530300094,0.004931042212318896,0.17062148903048385,0.003502478919173334,0.0017965651619511382,0.011051540915356086,0.03459330918841514,0.00685027616669128,0.09349323332742851,0.015277662849099892,0.005909095099325499,0.005072886250881558,0.1293813069593056,0.07719252599652843,0.0022169300740791805,0.018750982624736175,0.15265597182010981],\"xaxis\":\"x\",\"yaxis\":\"y\",\"type\":\"histogram\"},{\"alignmentgroup\":\"True\",\"hovertemplate\":\"Algorithm=GFM<br>MSE=%{x}<extra></extra>\",\"legendgroup\":\"GFM\",\"marker\":{\"color\":\"#EF553B\"},\"name\":\"GFM\",\"notched\":true,\"offsetgroup\":\"GFM\",\"showlegend\":false,\"x\":[0.009639046553835627,0.026336483654306662,0.01738922251724669,0.007536849502179467,0.07479899591465751,0.009151003058131236,0.1983255775685869,0.008682648498062048,0.08743603597601236,0.0036542771514655693,0.026364623720808892,0.01035372966236574,0.016149344349067993,0.0033241841742626533,0.020004465431268065,0.0006916023051087092,0.0005343421371475598,0.00022099579340951483,0.0176071759892225,0.03457001336359042,0.02686895394583018,0.0400810438933227,0.01097734906503619,0.011884039186124847,0.008409421675852425,0.00432583770363796,0.01182955646852212,5.866344332738341e-06,0.13360973281409608,0.018133550931499324,0.059196040378283875,0.0022052823917157573,0.015808458038989406,0.0069810583745280284,0.13625927516840466,0.008334846299471168,0.012639555936107947,0.01559602441332955,0.014343498505030762,0.00418406605695555,0.002950255960981349,0.06702063414780415,0.010797701152804196,0.016305679082632314,0.029676635252717798,0.028342770008294285,0.023097229382995292,0.04319183665828356,0.07696431903314004,0.013352451944633983,0.03881529234537661,0.03838234262537125,0.11086116530300094,0.004931042212318896,0.17062148903048385,0.003502478919173334,0.0017965651619511382,0.011051540915356086,0.03459330918841514,0.00685027616669128,0.09349323332742851,0.015277662849099892,0.005909095099325499,0.005072886250881558,0.1293813069593056,0.07719252599652843,0.0022169300740791805,0.018750982624736175,0.15265597182010981],\"xaxis\":\"x2\",\"yaxis\":\"y2\",\"type\":\"box\"}],                        {\"template\":{\"data\":{\"bar\":[{\"error_x\":{\"color\":\"#2a3f5f\"},\"error_y\":{\"color\":\"#2a3f5f\"},\"marker\":{\"line\":{\"color\":\"white\",\"width\":0.5},\"pattern\":{\"fillmode\":\"overlay\",\"size\":10,\"solidity\":0.2}},\"type\":\"bar\"}],\"barpolar\":[{\"marker\":{\"line\":{\"color\":\"white\",\"width\":0.5},\"pattern\":{\"fillmode\":\"overlay\",\"size\":10,\"solidity\":0.2}},\"type\":\"barpolar\"}],\"carpet\":[{\"aaxis\":{\"endlinecolor\":\"#2a3f5f\",\"gridcolor\":\"#C8D4E3\",\"linecolor\":\"#C8D4E3\",\"minorgridcolor\":\"#C8D4E3\",\"startlinecolor\":\"#2a3f5f\"},\"baxis\":{\"endlinecolor\":\"#2a3f5f\",\"gridcolor\":\"#C8D4E3\",\"linecolor\":\"#C8D4E3\",\"minorgridcolor\":\"#C8D4E3\",\"startlinecolor\":\"#2a3f5f\"},\"type\":\"carpet\"}],\"choropleth\":[{\"colorbar\":{\"outlinewidth\":0,\"ticks\":\"\"},\"type\":\"choropleth\"}],\"contour\":[{\"colorbar\":{\"outlinewidth\":0,\"ticks\":\"\"},\"colorscale\":[[0.0,\"#0d0887\"],[0.1111111111111111,\"#46039f\"],[0.2222222222222222,\"#7201a8\"],[0.3333333333333333,\"#9c179e\"],[0.4444444444444444,\"#bd3786\"],[0.5555555555555556,\"#d8576b\"],[0.6666666666666666,\"#ed7953\"],[0.7777777777777778,\"#fb9f3a\"],[0.8888888888888888,\"#fdca26\"],[1.0,\"#f0f921\"]],\"type\":\"contour\"}],\"contourcarpet\":[{\"colorbar\":{\"outlinewidth\":0,\"ticks\":\"\"},\"type\":\"contourcarpet\"}],\"heatmap\":[{\"colorbar\":{\"outlinewidth\":0,\"ticks\":\"\"},\"colorscale\":[[0.0,\"#0d0887\"],[0.1111111111111111,\"#46039f\"],[0.2222222222222222,\"#7201a8\"],[0.3333333333333333,\"#9c179e\"],[0.4444444444444444,\"#bd3786\"],[0.5555555555555556,\"#d8576b\"],[0.6666666666666666,\"#ed7953\"],[0.7777777777777778,\"#fb9f3a\"],[0.8888888888888888,\"#fdca26\"],[1.0,\"#f0f921\"]],\"type\":\"heatmap\"}],\"heatmapgl\":[{\"colorbar\":{\"outlinewidth\":0,\"ticks\":\"\"},\"colorscale\":[[0.0,\"#0d0887\"],[0.1111111111111111,\"#46039f\"],[0.2222222222222222,\"#7201a8\"],[0.3333333333333333,\"#9c179e\"],[0.4444444444444444,\"#bd3786\"],[0.5555555555555556,\"#d8576b\"],[0.6666666666666666,\"#ed7953\"],[0.7777777777777778,\"#fb9f3a\"],[0.8888888888888888,\"#fdca26\"],[1.0,\"#f0f921\"]],\"type\":\"heatmapgl\"}],\"histogram\":[{\"marker\":{\"pattern\":{\"fillmode\":\"overlay\",\"size\":10,\"solidity\":0.2}},\"type\":\"histogram\"}],\"histogram2d\":[{\"colorbar\":{\"outlinewidth\":0,\"ticks\":\"\"},\"colorscale\":[[0.0,\"#0d0887\"],[0.1111111111111111,\"#46039f\"],[0.2222222222222222,\"#7201a8\"],[0.3333333333333333,\"#9c179e\"],[0.4444444444444444,\"#bd3786\"],[0.5555555555555556,\"#d8576b\"],[0.6666666666666666,\"#ed7953\"],[0.7777777777777778,\"#fb9f3a\"],[0.8888888888888888,\"#fdca26\"],[1.0,\"#f0f921\"]],\"type\":\"histogram2d\"}],\"histogram2dcontour\":[{\"colorbar\":{\"outlinewidth\":0,\"ticks\":\"\"},\"colorscale\":[[0.0,\"#0d0887\"],[0.1111111111111111,\"#46039f\"],[0.2222222222222222,\"#7201a8\"],[0.3333333333333333,\"#9c179e\"],[0.4444444444444444,\"#bd3786\"],[0.5555555555555556,\"#d8576b\"],[0.6666666666666666,\"#ed7953\"],[0.7777777777777778,\"#fb9f3a\"],[0.8888888888888888,\"#fdca26\"],[1.0,\"#f0f921\"]],\"type\":\"histogram2dcontour\"}],\"mesh3d\":[{\"colorbar\":{\"outlinewidth\":0,\"ticks\":\"\"},\"type\":\"mesh3d\"}],\"parcoords\":[{\"line\":{\"colorbar\":{\"outlinewidth\":0,\"ticks\":\"\"}},\"type\":\"parcoords\"}],\"pie\":[{\"automargin\":true,\"type\":\"pie\"}],\"scatter\":[{\"marker\":{\"colorbar\":{\"outlinewidth\":0,\"ticks\":\"\"}},\"type\":\"scatter\"}],\"scatter3d\":[{\"line\":{\"colorbar\":{\"outlinewidth\":0,\"ticks\":\"\"}},\"marker\":{\"colorbar\":{\"outlinewidth\":0,\"ticks\":\"\"}},\"type\":\"scatter3d\"}],\"scattercarpet\":[{\"marker\":{\"colorbar\":{\"outlinewidth\":0,\"ticks\":\"\"}},\"type\":\"scattercarpet\"}],\"scattergeo\":[{\"marker\":{\"colorbar\":{\"outlinewidth\":0,\"ticks\":\"\"}},\"type\":\"scattergeo\"}],\"scattergl\":[{\"marker\":{\"colorbar\":{\"outlinewidth\":0,\"ticks\":\"\"}},\"type\":\"scattergl\"}],\"scattermapbox\":[{\"marker\":{\"colorbar\":{\"outlinewidth\":0,\"ticks\":\"\"}},\"type\":\"scattermapbox\"}],\"scatterpolar\":[{\"marker\":{\"colorbar\":{\"outlinewidth\":0,\"ticks\":\"\"}},\"type\":\"scatterpolar\"}],\"scatterpolargl\":[{\"marker\":{\"colorbar\":{\"outlinewidth\":0,\"ticks\":\"\"}},\"type\":\"scatterpolargl\"}],\"scatterternary\":[{\"marker\":{\"colorbar\":{\"outlinewidth\":0,\"ticks\":\"\"}},\"type\":\"scatterternary\"}],\"surface\":[{\"colorbar\":{\"outlinewidth\":0,\"ticks\":\"\"},\"colorscale\":[[0.0,\"#0d0887\"],[0.1111111111111111,\"#46039f\"],[0.2222222222222222,\"#7201a8\"],[0.3333333333333333,\"#9c179e\"],[0.4444444444444444,\"#bd3786\"],[0.5555555555555556,\"#d8576b\"],[0.6666666666666666,\"#ed7953\"],[0.7777777777777778,\"#fb9f3a\"],[0.8888888888888888,\"#fdca26\"],[1.0,\"#f0f921\"]],\"type\":\"surface\"}],\"table\":[{\"cells\":{\"fill\":{\"color\":\"#EBF0F8\"},\"line\":{\"color\":\"white\"}},\"header\":{\"fill\":{\"color\":\"#C8D4E3\"},\"line\":{\"color\":\"white\"}},\"type\":\"table\"}]},\"layout\":{\"annotationdefaults\":{\"arrowcolor\":\"#2a3f5f\",\"arrowhead\":0,\"arrowwidth\":1},\"autotypenumbers\":\"strict\",\"coloraxis\":{\"colorbar\":{\"outlinewidth\":0,\"ticks\":\"\"}},\"colorscale\":{\"diverging\":[[0,\"#8e0152\"],[0.1,\"#c51b7d\"],[0.2,\"#de77ae\"],[0.3,\"#f1b6da\"],[0.4,\"#fde0ef\"],[0.5,\"#f7f7f7\"],[0.6,\"#e6f5d0\"],[0.7,\"#b8e186\"],[0.8,\"#7fbc41\"],[0.9,\"#4d9221\"],[1,\"#276419\"]],\"sequential\":[[0.0,\"#0d0887\"],[0.1111111111111111,\"#46039f\"],[0.2222222222222222,\"#7201a8\"],[0.3333333333333333,\"#9c179e\"],[0.4444444444444444,\"#bd3786\"],[0.5555555555555556,\"#d8576b\"],[0.6666666666666666,\"#ed7953\"],[0.7777777777777778,\"#fb9f3a\"],[0.8888888888888888,\"#fdca26\"],[1.0,\"#f0f921\"]],\"sequentialminus\":[[0.0,\"#0d0887\"],[0.1111111111111111,\"#46039f\"],[0.2222222222222222,\"#7201a8\"],[0.3333333333333333,\"#9c179e\"],[0.4444444444444444,\"#bd3786\"],[0.5555555555555556,\"#d8576b\"],[0.6666666666666666,\"#ed7953\"],[0.7777777777777778,\"#fb9f3a\"],[0.8888888888888888,\"#fdca26\"],[1.0,\"#f0f921\"]]},\"colorway\":[\"#636efa\",\"#EF553B\",\"#00cc96\",\"#ab63fa\",\"#FFA15A\",\"#19d3f3\",\"#FF6692\",\"#B6E880\",\"#FF97FF\",\"#FECB52\"],\"font\":{\"color\":\"#2a3f5f\"},\"geo\":{\"bgcolor\":\"white\",\"lakecolor\":\"white\",\"landcolor\":\"white\",\"showlakes\":true,\"showland\":true,\"subunitcolor\":\"#C8D4E3\"},\"hoverlabel\":{\"align\":\"left\"},\"hovermode\":\"closest\",\"mapbox\":{\"style\":\"light\"},\"paper_bgcolor\":\"white\",\"plot_bgcolor\":\"white\",\"polar\":{\"angularaxis\":{\"gridcolor\":\"#EBF0F8\",\"linecolor\":\"#EBF0F8\",\"ticks\":\"\"},\"bgcolor\":\"white\",\"radialaxis\":{\"gridcolor\":\"#EBF0F8\",\"linecolor\":\"#EBF0F8\",\"ticks\":\"\"}},\"scene\":{\"xaxis\":{\"backgroundcolor\":\"white\",\"gridcolor\":\"#DFE8F3\",\"gridwidth\":2,\"linecolor\":\"#EBF0F8\",\"showbackground\":true,\"ticks\":\"\",\"zerolinecolor\":\"#EBF0F8\"},\"yaxis\":{\"backgroundcolor\":\"white\",\"gridcolor\":\"#DFE8F3\",\"gridwidth\":2,\"linecolor\":\"#EBF0F8\",\"showbackground\":true,\"ticks\":\"\",\"zerolinecolor\":\"#EBF0F8\"},\"zaxis\":{\"backgroundcolor\":\"white\",\"gridcolor\":\"#DFE8F3\",\"gridwidth\":2,\"linecolor\":\"#EBF0F8\",\"showbackground\":true,\"ticks\":\"\",\"zerolinecolor\":\"#EBF0F8\"}},\"shapedefaults\":{\"line\":{\"color\":\"#2a3f5f\"}},\"ternary\":{\"aaxis\":{\"gridcolor\":\"#DFE8F3\",\"linecolor\":\"#A2B1C6\",\"ticks\":\"\"},\"baxis\":{\"gridcolor\":\"#DFE8F3\",\"linecolor\":\"#A2B1C6\",\"ticks\":\"\"},\"bgcolor\":\"white\",\"caxis\":{\"gridcolor\":\"#DFE8F3\",\"linecolor\":\"#A2B1C6\",\"ticks\":\"\"}},\"title\":{\"x\":0.05},\"xaxis\":{\"automargin\":true,\"gridcolor\":\"#EBF0F8\",\"linecolor\":\"#EBF0F8\",\"ticks\":\"\",\"title\":{\"standoff\":15},\"zerolinecolor\":\"#EBF0F8\",\"zerolinewidth\":2},\"yaxis\":{\"automargin\":true,\"gridcolor\":\"#EBF0F8\",\"linecolor\":\"#EBF0F8\",\"ticks\":\"\",\"title\":{\"standoff\":15},\"zerolinecolor\":\"#EBF0F8\",\"zerolinewidth\":2}}},\"xaxis\":{\"anchor\":\"y\",\"domain\":[0.0,1.0],\"title\":{\"text\":\"MSE\",\"font\":{\"size\":15}},\"tickfont\":{\"size\":15},\"range\":[0,0.05]},\"yaxis\":{\"anchor\":\"x\",\"domain\":[0.0,0.7326],\"title\":{\"text\":\"Probability Density\",\"font\":{\"size\":15}},\"tickfont\":{\"size\":15}},\"xaxis2\":{\"anchor\":\"y2\",\"domain\":[0.0,1.0],\"matches\":\"x\",\"showticklabels\":false,\"showgrid\":true},\"yaxis2\":{\"anchor\":\"x2\",\"domain\":[0.7426,1.0],\"matches\":\"y2\",\"showticklabels\":false,\"showline\":false,\"ticks\":\"\",\"showgrid\":false},\"legend\":{\"title\":{},\"tracegroupgap\":0,\"font\":{\"size\":15},\"orientation\":\"h\",\"yanchor\":\"bottom\",\"y\":0.98,\"xanchor\":\"right\",\"x\":1},\"margin\":{\"t\":60},\"barmode\":\"overlay\",\"title\":{\"font\":{\"size\":20},\"text\":\"Distribution of MSE in the dataset\",\"x\":0.5,\"xanchor\":\"center\",\"yanchor\":\"top\"},\"autosize\":false,\"width\":900,\"height\":500},                        {\"responsive\": true}                    ).then(function(){\n",
       "                            \n",
       "var gd = document.getElementById('a2aa6be0-e087-4862-82d9-e3c1a20077f3');\n",
       "var x = new MutationObserver(function (mutations, observer) {{\n",
       "        var display = window.getComputedStyle(gd).display;\n",
       "        if (!display || display === 'none') {{\n",
       "            console.log([gd, 'removed!']);\n",
       "            Plotly.purge(gd);\n",
       "            observer.disconnect();\n",
       "        }}\n",
       "}});\n",
       "\n",
       "// Listen for the removal of the full notebook cells\n",
       "var notebookContainer = gd.closest('#notebook-container');\n",
       "if (notebookContainer) {{\n",
       "    x.observe(notebookContainer, {childList: true});\n",
       "}}\n",
       "\n",
       "// Listen for the clearing of the current output cell\n",
       "var outputEl = gd.closest('.output');\n",
       "if (outputEl) {{\n",
       "    x.observe(outputEl, {childList: true});\n",
       "}}\n",
       "\n",
       "                        })                };                });            </script>        </div>"
      ]
     },
     "metadata": {},
     "output_type": "display_data"
    }
   ],
   "source": [
    "fig = px.histogram(metrics_df, \n",
    "                   x=\"MSE\", \n",
    "                   color=\"Algorithm\",\n",
    "                   pattern_shape=\"Algorithm\", \n",
    "                   marginal=\"box\", \n",
    "                   nbins=500, \n",
    "                   barmode=\"overlay\",\n",
    "                   histnorm=\"probability density\")\n",
    "fig = format_plot(fig, xlabel=\"MSE\", ylabel=\"Probability Density\", title=\"Distribution of MSE in the dataset\")\n",
    "fig.update_layout(xaxis_range=[0,0.05])\n",
    "# fig.write_image(\"imgs/chapter_12/ft_mse_dist.png\")\n",
    "fig.show()"
   ]
  },
  {
   "cell_type": "code",
   "execution_count": 38,
   "id": "2695707d-1e83-4289-9aea-859bbf83586c",
   "metadata": {},
   "outputs": [
    {
     "data": {
      "application/vnd.plotly.v1+json": {
       "config": {
        "plotlyServerURL": "https://plot.ly"
       },
       "data": [
        {
         "alignmentgroup": "True",
         "bingroup": "x",
         "histnorm": "probability density",
         "hovertemplate": "Algorithm=FTTransformerModel<br>Forecast Bias=%{x}<br>probability density=%{y}<extra></extra>",
         "legendgroup": "FTTransformerModel",
         "marker": {
          "color": "#636efa",
          "opacity": 0.5,
          "pattern": {
           "shape": ""
          }
         },
         "name": "FTTransformerModel",
         "nbinsx": 250,
         "offsetgroup": "FTTransformerModel",
         "orientation": "v",
         "showlegend": true,
         "type": "histogram",
         "x": [
          -9.123142063617706,
          -4.180191829800606,
          -8.06674063205719,
          -10.489439219236374,
          -4.247961565852165,
          -8.54482501745224,
          4.742119461297989,
          -8.834756165742874,
          -1.4465211890637875,
          -7.280585914850235,
          -8.748658746480942,
          -4.9415383487939835,
          -4.652205854654312,
          -9.982532262802124,
          -7.752631604671478,
          -7.609488070011139,
          -14.044013619422913,
          -7.99335241317749,
          -10.229180753231049,
          -0.4230812191963196,
          -4.349635913968086,
          -8.827164024114609,
          -6.04294128715992,
          -7.030755281448364,
          -12.316116690635681,
          -11.29055842757225,
          -2.4015063419938087,
          -11.092933267354965,
          -0.09051402448676527,
          -9.341192990541458,
          -5.253405869007111,
          -9.821509569883347,
          -12.348879873752594,
          -5.404748395085335,
          -4.856759682297707,
          -9.210949391126633,
          -7.6434895396232605,
          -9.679202735424042,
          -7.0327721536159515,
          -14.529991149902344,
          -9.530381858348846,
          -11.415256559848785,
          -6.053439155220985,
          -7.808960974216461,
          -13.46106231212616,
          -9.91571992635727,
          -13.114123046398163,
          -7.5729116797447205,
          -4.3755825608968735,
          -11.05775535106659,
          -4.9480728805065155,
          -7.816809415817261,
          -2.9248882085084915,
          -15.742199122905731,
          2.38706786185503,
          -13.38404268026352,
          -14.473849534988403,
          -3.1465351581573486,
          -9.851556271314621,
          -7.628224790096283,
          -4.028690978884697,
          -14.859852194786072,
          -11.6591215133667,
          -7.653065770864487,
          -2.577640675008297,
          -4.35369648039341,
          -11.310584098100662,
          -5.922793224453926,
          0.2540387213230133
         ],
         "xaxis": "x",
         "yaxis": "y"
        },
        {
         "alignmentgroup": "True",
         "hovertemplate": "Algorithm=FTTransformerModel<br>Forecast Bias=%{x}<extra></extra>",
         "legendgroup": "FTTransformerModel",
         "marker": {
          "color": "#636efa"
         },
         "name": "FTTransformerModel",
         "notched": true,
         "offsetgroup": "FTTransformerModel",
         "showlegend": false,
         "type": "box",
         "x": [
          -9.123142063617706,
          -4.180191829800606,
          -8.06674063205719,
          -10.489439219236374,
          -4.247961565852165,
          -8.54482501745224,
          4.742119461297989,
          -8.834756165742874,
          -1.4465211890637875,
          -7.280585914850235,
          -8.748658746480942,
          -4.9415383487939835,
          -4.652205854654312,
          -9.982532262802124,
          -7.752631604671478,
          -7.609488070011139,
          -14.044013619422913,
          -7.99335241317749,
          -10.229180753231049,
          -0.4230812191963196,
          -4.349635913968086,
          -8.827164024114609,
          -6.04294128715992,
          -7.030755281448364,
          -12.316116690635681,
          -11.29055842757225,
          -2.4015063419938087,
          -11.092933267354965,
          -0.09051402448676527,
          -9.341192990541458,
          -5.253405869007111,
          -9.821509569883347,
          -12.348879873752594,
          -5.404748395085335,
          -4.856759682297707,
          -9.210949391126633,
          -7.6434895396232605,
          -9.679202735424042,
          -7.0327721536159515,
          -14.529991149902344,
          -9.530381858348846,
          -11.415256559848785,
          -6.053439155220985,
          -7.808960974216461,
          -13.46106231212616,
          -9.91571992635727,
          -13.114123046398163,
          -7.5729116797447205,
          -4.3755825608968735,
          -11.05775535106659,
          -4.9480728805065155,
          -7.816809415817261,
          -2.9248882085084915,
          -15.742199122905731,
          2.38706786185503,
          -13.38404268026352,
          -14.473849534988403,
          -3.1465351581573486,
          -9.851556271314621,
          -7.628224790096283,
          -4.028690978884697,
          -14.859852194786072,
          -11.6591215133667,
          -7.653065770864487,
          -2.577640675008297,
          -4.35369648039341,
          -11.310584098100662,
          -5.922793224453926,
          0.2540387213230133
         ],
         "xaxis": "x2",
         "yaxis": "y2"
        },
        {
         "alignmentgroup": "True",
         "bingroup": "x",
         "histnorm": "probability density",
         "hovertemplate": "Algorithm=GFM<br>Forecast Bias=%{x}<br>probability density=%{y}<extra></extra>",
         "legendgroup": "GFM",
         "marker": {
          "color": "#EF553B",
          "opacity": 0.5,
          "pattern": {
           "shape": "/"
          }
         },
         "name": "GFM",
         "nbinsx": 250,
         "offsetgroup": "GFM",
         "orientation": "v",
         "showlegend": true,
         "type": "histogram",
         "x": [
          -1.5728172886497533,
          8.859833723337896,
          0.7377959809659556,
          0.7577298895822433,
          1.027081609759177,
          -6.1322649432902265,
          4.328265537734814,
          2.839658065089241,
          2.2545717417687765,
          -1.026870252650314,
          -0.5445528473991031,
          4.8829290761833,
          1.5897515837572398,
          -2.093720529585469,
          -0.6181862638313023,
          -2.105105856351282,
          0.43530392384166455,
          -0.6695610600573632,
          -3.2900826247094006,
          10.569060687754252,
          3.5156125323224936,
          0.1280741122772238,
          -4.160293910101553,
          0.6347843077961255,
          -4.864535186986551,
          3.7636705859378137,
          3.7667954495050866,
          1.5956609075456314,
          16.038523193095116,
          -2.3313895131337388,
          3.5734019305788225,
          -1.5780874230852608,
          -0.7153408722627628,
          0.15235427213998431,
          -3.8234112556273603,
          -1.4261784035311997,
          -2.5916536097150686,
          -4.7605466106713505,
          0.5939762242673496,
          -2.4111778247049482,
          2.3064818117325774,
          0.3078059026453959,
          -0.4751717216688602,
          -1.0122873656606757,
          -4.011098552855059,
          -3.395800993117315,
          -2.035895564459218,
          0.01905328000370182,
          -1.5484161307289257,
          -2.312933677081025,
          -0.1725329896910931,
          -0.03132303303069155,
          1.4595197838077036,
          -12.807256278130422,
          7.355256878271235,
          -2.4410757779213483,
          -0.09506815481807901,
          1.105995001482912,
          -2.657371989798864,
          2.60613398315537,
          3.273068613291775,
          -5.228517845932474,
          -5.443793187148093,
          0.096138405107304,
          0.2702011299344933,
          -1.738038585370262,
          -0.7829556824580166,
          1.8661860155792396,
          8.375730915987216
         ],
         "xaxis": "x",
         "yaxis": "y"
        },
        {
         "alignmentgroup": "True",
         "hovertemplate": "Algorithm=GFM<br>Forecast Bias=%{x}<extra></extra>",
         "legendgroup": "GFM",
         "marker": {
          "color": "#EF553B"
         },
         "name": "GFM",
         "notched": true,
         "offsetgroup": "GFM",
         "showlegend": false,
         "type": "box",
         "x": [
          -1.5728172886497533,
          8.859833723337896,
          0.7377959809659556,
          0.7577298895822433,
          1.027081609759177,
          -6.1322649432902265,
          4.328265537734814,
          2.839658065089241,
          2.2545717417687765,
          -1.026870252650314,
          -0.5445528473991031,
          4.8829290761833,
          1.5897515837572398,
          -2.093720529585469,
          -0.6181862638313023,
          -2.105105856351282,
          0.43530392384166455,
          -0.6695610600573632,
          -3.2900826247094006,
          10.569060687754252,
          3.5156125323224936,
          0.1280741122772238,
          -4.160293910101553,
          0.6347843077961255,
          -4.864535186986551,
          3.7636705859378137,
          3.7667954495050866,
          1.5956609075456314,
          16.038523193095116,
          -2.3313895131337388,
          3.5734019305788225,
          -1.5780874230852608,
          -0.7153408722627628,
          0.15235427213998431,
          -3.8234112556273603,
          -1.4261784035311997,
          -2.5916536097150686,
          -4.7605466106713505,
          0.5939762242673496,
          -2.4111778247049482,
          2.3064818117325774,
          0.3078059026453959,
          -0.4751717216688602,
          -1.0122873656606757,
          -4.011098552855059,
          -3.395800993117315,
          -2.035895564459218,
          0.01905328000370182,
          -1.5484161307289257,
          -2.312933677081025,
          -0.1725329896910931,
          -0.03132303303069155,
          1.4595197838077036,
          -12.807256278130422,
          7.355256878271235,
          -2.4410757779213483,
          -0.09506815481807901,
          1.105995001482912,
          -2.657371989798864,
          2.60613398315537,
          3.273068613291775,
          -5.228517845932474,
          -5.443793187148093,
          0.096138405107304,
          0.2702011299344933,
          -1.738038585370262,
          -0.7829556824580166,
          1.8661860155792396,
          8.375730915987216
         ],
         "xaxis": "x2",
         "yaxis": "y2"
        }
       ],
       "layout": {
        "autosize": false,
        "barmode": "overlay",
        "height": 500,
        "legend": {
         "font": {
          "size": 15
         },
         "orientation": "h",
         "title": {},
         "tracegroupgap": 0,
         "x": 1,
         "xanchor": "right",
         "y": 0.98,
         "yanchor": "bottom"
        },
        "margin": {
         "t": 60
        },
        "template": {
         "data": {
          "bar": [
           {
            "error_x": {
             "color": "#2a3f5f"
            },
            "error_y": {
             "color": "#2a3f5f"
            },
            "marker": {
             "line": {
              "color": "white",
              "width": 0.5
             },
             "pattern": {
              "fillmode": "overlay",
              "size": 10,
              "solidity": 0.2
             }
            },
            "type": "bar"
           }
          ],
          "barpolar": [
           {
            "marker": {
             "line": {
              "color": "white",
              "width": 0.5
             },
             "pattern": {
              "fillmode": "overlay",
              "size": 10,
              "solidity": 0.2
             }
            },
            "type": "barpolar"
           }
          ],
          "carpet": [
           {
            "aaxis": {
             "endlinecolor": "#2a3f5f",
             "gridcolor": "#C8D4E3",
             "linecolor": "#C8D4E3",
             "minorgridcolor": "#C8D4E3",
             "startlinecolor": "#2a3f5f"
            },
            "baxis": {
             "endlinecolor": "#2a3f5f",
             "gridcolor": "#C8D4E3",
             "linecolor": "#C8D4E3",
             "minorgridcolor": "#C8D4E3",
             "startlinecolor": "#2a3f5f"
            },
            "type": "carpet"
           }
          ],
          "choropleth": [
           {
            "colorbar": {
             "outlinewidth": 0,
             "ticks": ""
            },
            "type": "choropleth"
           }
          ],
          "contour": [
           {
            "colorbar": {
             "outlinewidth": 0,
             "ticks": ""
            },
            "colorscale": [
             [
              0,
              "#0d0887"
             ],
             [
              0.1111111111111111,
              "#46039f"
             ],
             [
              0.2222222222222222,
              "#7201a8"
             ],
             [
              0.3333333333333333,
              "#9c179e"
             ],
             [
              0.4444444444444444,
              "#bd3786"
             ],
             [
              0.5555555555555556,
              "#d8576b"
             ],
             [
              0.6666666666666666,
              "#ed7953"
             ],
             [
              0.7777777777777778,
              "#fb9f3a"
             ],
             [
              0.8888888888888888,
              "#fdca26"
             ],
             [
              1,
              "#f0f921"
             ]
            ],
            "type": "contour"
           }
          ],
          "contourcarpet": [
           {
            "colorbar": {
             "outlinewidth": 0,
             "ticks": ""
            },
            "type": "contourcarpet"
           }
          ],
          "heatmap": [
           {
            "colorbar": {
             "outlinewidth": 0,
             "ticks": ""
            },
            "colorscale": [
             [
              0,
              "#0d0887"
             ],
             [
              0.1111111111111111,
              "#46039f"
             ],
             [
              0.2222222222222222,
              "#7201a8"
             ],
             [
              0.3333333333333333,
              "#9c179e"
             ],
             [
              0.4444444444444444,
              "#bd3786"
             ],
             [
              0.5555555555555556,
              "#d8576b"
             ],
             [
              0.6666666666666666,
              "#ed7953"
             ],
             [
              0.7777777777777778,
              "#fb9f3a"
             ],
             [
              0.8888888888888888,
              "#fdca26"
             ],
             [
              1,
              "#f0f921"
             ]
            ],
            "type": "heatmap"
           }
          ],
          "heatmapgl": [
           {
            "colorbar": {
             "outlinewidth": 0,
             "ticks": ""
            },
            "colorscale": [
             [
              0,
              "#0d0887"
             ],
             [
              0.1111111111111111,
              "#46039f"
             ],
             [
              0.2222222222222222,
              "#7201a8"
             ],
             [
              0.3333333333333333,
              "#9c179e"
             ],
             [
              0.4444444444444444,
              "#bd3786"
             ],
             [
              0.5555555555555556,
              "#d8576b"
             ],
             [
              0.6666666666666666,
              "#ed7953"
             ],
             [
              0.7777777777777778,
              "#fb9f3a"
             ],
             [
              0.8888888888888888,
              "#fdca26"
             ],
             [
              1,
              "#f0f921"
             ]
            ],
            "type": "heatmapgl"
           }
          ],
          "histogram": [
           {
            "marker": {
             "pattern": {
              "fillmode": "overlay",
              "size": 10,
              "solidity": 0.2
             }
            },
            "type": "histogram"
           }
          ],
          "histogram2d": [
           {
            "colorbar": {
             "outlinewidth": 0,
             "ticks": ""
            },
            "colorscale": [
             [
              0,
              "#0d0887"
             ],
             [
              0.1111111111111111,
              "#46039f"
             ],
             [
              0.2222222222222222,
              "#7201a8"
             ],
             [
              0.3333333333333333,
              "#9c179e"
             ],
             [
              0.4444444444444444,
              "#bd3786"
             ],
             [
              0.5555555555555556,
              "#d8576b"
             ],
             [
              0.6666666666666666,
              "#ed7953"
             ],
             [
              0.7777777777777778,
              "#fb9f3a"
             ],
             [
              0.8888888888888888,
              "#fdca26"
             ],
             [
              1,
              "#f0f921"
             ]
            ],
            "type": "histogram2d"
           }
          ],
          "histogram2dcontour": [
           {
            "colorbar": {
             "outlinewidth": 0,
             "ticks": ""
            },
            "colorscale": [
             [
              0,
              "#0d0887"
             ],
             [
              0.1111111111111111,
              "#46039f"
             ],
             [
              0.2222222222222222,
              "#7201a8"
             ],
             [
              0.3333333333333333,
              "#9c179e"
             ],
             [
              0.4444444444444444,
              "#bd3786"
             ],
             [
              0.5555555555555556,
              "#d8576b"
             ],
             [
              0.6666666666666666,
              "#ed7953"
             ],
             [
              0.7777777777777778,
              "#fb9f3a"
             ],
             [
              0.8888888888888888,
              "#fdca26"
             ],
             [
              1,
              "#f0f921"
             ]
            ],
            "type": "histogram2dcontour"
           }
          ],
          "mesh3d": [
           {
            "colorbar": {
             "outlinewidth": 0,
             "ticks": ""
            },
            "type": "mesh3d"
           }
          ],
          "parcoords": [
           {
            "line": {
             "colorbar": {
              "outlinewidth": 0,
              "ticks": ""
             }
            },
            "type": "parcoords"
           }
          ],
          "pie": [
           {
            "automargin": true,
            "type": "pie"
           }
          ],
          "scatter": [
           {
            "marker": {
             "colorbar": {
              "outlinewidth": 0,
              "ticks": ""
             }
            },
            "type": "scatter"
           }
          ],
          "scatter3d": [
           {
            "line": {
             "colorbar": {
              "outlinewidth": 0,
              "ticks": ""
             }
            },
            "marker": {
             "colorbar": {
              "outlinewidth": 0,
              "ticks": ""
             }
            },
            "type": "scatter3d"
           }
          ],
          "scattercarpet": [
           {
            "marker": {
             "colorbar": {
              "outlinewidth": 0,
              "ticks": ""
             }
            },
            "type": "scattercarpet"
           }
          ],
          "scattergeo": [
           {
            "marker": {
             "colorbar": {
              "outlinewidth": 0,
              "ticks": ""
             }
            },
            "type": "scattergeo"
           }
          ],
          "scattergl": [
           {
            "marker": {
             "colorbar": {
              "outlinewidth": 0,
              "ticks": ""
             }
            },
            "type": "scattergl"
           }
          ],
          "scattermapbox": [
           {
            "marker": {
             "colorbar": {
              "outlinewidth": 0,
              "ticks": ""
             }
            },
            "type": "scattermapbox"
           }
          ],
          "scatterpolar": [
           {
            "marker": {
             "colorbar": {
              "outlinewidth": 0,
              "ticks": ""
             }
            },
            "type": "scatterpolar"
           }
          ],
          "scatterpolargl": [
           {
            "marker": {
             "colorbar": {
              "outlinewidth": 0,
              "ticks": ""
             }
            },
            "type": "scatterpolargl"
           }
          ],
          "scatterternary": [
           {
            "marker": {
             "colorbar": {
              "outlinewidth": 0,
              "ticks": ""
             }
            },
            "type": "scatterternary"
           }
          ],
          "surface": [
           {
            "colorbar": {
             "outlinewidth": 0,
             "ticks": ""
            },
            "colorscale": [
             [
              0,
              "#0d0887"
             ],
             [
              0.1111111111111111,
              "#46039f"
             ],
             [
              0.2222222222222222,
              "#7201a8"
             ],
             [
              0.3333333333333333,
              "#9c179e"
             ],
             [
              0.4444444444444444,
              "#bd3786"
             ],
             [
              0.5555555555555556,
              "#d8576b"
             ],
             [
              0.6666666666666666,
              "#ed7953"
             ],
             [
              0.7777777777777778,
              "#fb9f3a"
             ],
             [
              0.8888888888888888,
              "#fdca26"
             ],
             [
              1,
              "#f0f921"
             ]
            ],
            "type": "surface"
           }
          ],
          "table": [
           {
            "cells": {
             "fill": {
              "color": "#EBF0F8"
             },
             "line": {
              "color": "white"
             }
            },
            "header": {
             "fill": {
              "color": "#C8D4E3"
             },
             "line": {
              "color": "white"
             }
            },
            "type": "table"
           }
          ]
         },
         "layout": {
          "annotationdefaults": {
           "arrowcolor": "#2a3f5f",
           "arrowhead": 0,
           "arrowwidth": 1
          },
          "autotypenumbers": "strict",
          "coloraxis": {
           "colorbar": {
            "outlinewidth": 0,
            "ticks": ""
           }
          },
          "colorscale": {
           "diverging": [
            [
             0,
             "#8e0152"
            ],
            [
             0.1,
             "#c51b7d"
            ],
            [
             0.2,
             "#de77ae"
            ],
            [
             0.3,
             "#f1b6da"
            ],
            [
             0.4,
             "#fde0ef"
            ],
            [
             0.5,
             "#f7f7f7"
            ],
            [
             0.6,
             "#e6f5d0"
            ],
            [
             0.7,
             "#b8e186"
            ],
            [
             0.8,
             "#7fbc41"
            ],
            [
             0.9,
             "#4d9221"
            ],
            [
             1,
             "#276419"
            ]
           ],
           "sequential": [
            [
             0,
             "#0d0887"
            ],
            [
             0.1111111111111111,
             "#46039f"
            ],
            [
             0.2222222222222222,
             "#7201a8"
            ],
            [
             0.3333333333333333,
             "#9c179e"
            ],
            [
             0.4444444444444444,
             "#bd3786"
            ],
            [
             0.5555555555555556,
             "#d8576b"
            ],
            [
             0.6666666666666666,
             "#ed7953"
            ],
            [
             0.7777777777777778,
             "#fb9f3a"
            ],
            [
             0.8888888888888888,
             "#fdca26"
            ],
            [
             1,
             "#f0f921"
            ]
           ],
           "sequentialminus": [
            [
             0,
             "#0d0887"
            ],
            [
             0.1111111111111111,
             "#46039f"
            ],
            [
             0.2222222222222222,
             "#7201a8"
            ],
            [
             0.3333333333333333,
             "#9c179e"
            ],
            [
             0.4444444444444444,
             "#bd3786"
            ],
            [
             0.5555555555555556,
             "#d8576b"
            ],
            [
             0.6666666666666666,
             "#ed7953"
            ],
            [
             0.7777777777777778,
             "#fb9f3a"
            ],
            [
             0.8888888888888888,
             "#fdca26"
            ],
            [
             1,
             "#f0f921"
            ]
           ]
          },
          "colorway": [
           "#636efa",
           "#EF553B",
           "#00cc96",
           "#ab63fa",
           "#FFA15A",
           "#19d3f3",
           "#FF6692",
           "#B6E880",
           "#FF97FF",
           "#FECB52"
          ],
          "font": {
           "color": "#2a3f5f"
          },
          "geo": {
           "bgcolor": "white",
           "lakecolor": "white",
           "landcolor": "white",
           "showlakes": true,
           "showland": true,
           "subunitcolor": "#C8D4E3"
          },
          "hoverlabel": {
           "align": "left"
          },
          "hovermode": "closest",
          "mapbox": {
           "style": "light"
          },
          "paper_bgcolor": "white",
          "plot_bgcolor": "white",
          "polar": {
           "angularaxis": {
            "gridcolor": "#EBF0F8",
            "linecolor": "#EBF0F8",
            "ticks": ""
           },
           "bgcolor": "white",
           "radialaxis": {
            "gridcolor": "#EBF0F8",
            "linecolor": "#EBF0F8",
            "ticks": ""
           }
          },
          "scene": {
           "xaxis": {
            "backgroundcolor": "white",
            "gridcolor": "#DFE8F3",
            "gridwidth": 2,
            "linecolor": "#EBF0F8",
            "showbackground": true,
            "ticks": "",
            "zerolinecolor": "#EBF0F8"
           },
           "yaxis": {
            "backgroundcolor": "white",
            "gridcolor": "#DFE8F3",
            "gridwidth": 2,
            "linecolor": "#EBF0F8",
            "showbackground": true,
            "ticks": "",
            "zerolinecolor": "#EBF0F8"
           },
           "zaxis": {
            "backgroundcolor": "white",
            "gridcolor": "#DFE8F3",
            "gridwidth": 2,
            "linecolor": "#EBF0F8",
            "showbackground": true,
            "ticks": "",
            "zerolinecolor": "#EBF0F8"
           }
          },
          "shapedefaults": {
           "line": {
            "color": "#2a3f5f"
           }
          },
          "ternary": {
           "aaxis": {
            "gridcolor": "#DFE8F3",
            "linecolor": "#A2B1C6",
            "ticks": ""
           },
           "baxis": {
            "gridcolor": "#DFE8F3",
            "linecolor": "#A2B1C6",
            "ticks": ""
           },
           "bgcolor": "white",
           "caxis": {
            "gridcolor": "#DFE8F3",
            "linecolor": "#A2B1C6",
            "ticks": ""
           }
          },
          "title": {
           "x": 0.05
          },
          "xaxis": {
           "automargin": true,
           "gridcolor": "#EBF0F8",
           "linecolor": "#EBF0F8",
           "ticks": "",
           "title": {
            "standoff": 15
           },
           "zerolinecolor": "#EBF0F8",
           "zerolinewidth": 2
          },
          "yaxis": {
           "automargin": true,
           "gridcolor": "#EBF0F8",
           "linecolor": "#EBF0F8",
           "ticks": "",
           "title": {
            "standoff": 15
           },
           "zerolinecolor": "#EBF0F8",
           "zerolinewidth": 2
          }
         }
        },
        "title": {
         "font": {
          "size": 20
         },
         "text": "Distribution of Forecast Bias in the dataset",
         "x": 0.5,
         "xanchor": "center",
         "yanchor": "top"
        },
        "width": 900,
        "xaxis": {
         "anchor": "y",
         "domain": [
          0,
          1
         ],
         "range": [
          -15,
          10
         ],
         "tickfont": {
          "size": 15
         },
         "title": {
          "font": {
           "size": 15
          },
          "text": "Forecast Bias"
         },
         "type": "linear"
        },
        "xaxis2": {
         "anchor": "y2",
         "domain": [
          0,
          1
         ],
         "matches": "x",
         "showgrid": true,
         "showticklabels": false,
         "type": "linear"
        },
        "yaxis": {
         "anchor": "x",
         "autorange": true,
         "domain": [
          0,
          0.7326
         ],
         "range": [
          0,
          0.3813882532417998
         ],
         "tickfont": {
          "size": 15
         },
         "title": {
          "font": {
           "size": 15
          },
          "text": "Probability Density"
         }
        },
        "yaxis2": {
         "anchor": "x2",
         "autorange": true,
         "domain": [
          0.7426,
          1
         ],
         "matches": "y2",
         "range": [
          -0.5,
          1.5
         ],
         "showgrid": false,
         "showline": false,
         "showticklabels": false,
         "ticks": "",
         "type": "category"
        }
       }
      },
      "image/png": "[encoded data removed]",
      "text/html": [
       "<div>                            <div id=\"72f06eab-b71f-44d0-95f5-4f5e4d208436\" class=\"plotly-graph-div\" style=\"height:500px; width:900px;\"></div>            <script type=\"text/javascript\">                require([\"plotly\"], function(Plotly) {                    window.PLOTLYENV=window.PLOTLYENV || {};                                    if (document.getElementById(\"72f06eab-b71f-44d0-95f5-4f5e4d208436\")) {                    Plotly.newPlot(                        \"72f06eab-b71f-44d0-95f5-4f5e4d208436\",                        [{\"alignmentgroup\":\"True\",\"bingroup\":\"x\",\"histnorm\":\"probability density\",\"hovertemplate\":\"Algorithm=FTTransformerModel<br>Forecast Bias=%{x}<br>probability density=%{y}<extra></extra>\",\"legendgroup\":\"FTTransformerModel\",\"marker\":{\"color\":\"#636efa\",\"opacity\":0.5,\"pattern\":{\"shape\":\"\"}},\"name\":\"FTTransformerModel\",\"nbinsx\":250,\"offsetgroup\":\"FTTransformerModel\",\"orientation\":\"v\",\"showlegend\":true,\"x\":[-9.123142063617706,-4.180191829800606,-8.06674063205719,-10.489439219236374,-4.247961565852165,-8.54482501745224,4.742119461297989,-8.834756165742874,-1.4465211890637875,-7.280585914850235,-8.748658746480942,-4.9415383487939835,-4.652205854654312,-9.982532262802124,-7.752631604671478,-7.609488070011139,-14.044013619422913,-7.99335241317749,-10.229180753231049,-0.4230812191963196,-4.349635913968086,-8.827164024114609,-6.04294128715992,-7.030755281448364,-12.316116690635681,-11.29055842757225,-2.4015063419938087,-11.092933267354965,-0.09051402448676527,-9.341192990541458,-5.253405869007111,-9.821509569883347,-12.348879873752594,-5.404748395085335,-4.856759682297707,-9.210949391126633,-7.6434895396232605,-9.679202735424042,-7.0327721536159515,-14.529991149902344,-9.530381858348846,-11.415256559848785,-6.053439155220985,-7.808960974216461,-13.46106231212616,-9.91571992635727,-13.114123046398163,-7.5729116797447205,-4.3755825608968735,-11.05775535106659,-4.9480728805065155,-7.816809415817261,-2.9248882085084915,-15.742199122905731,2.38706786185503,-13.38404268026352,-14.473849534988403,-3.1465351581573486,-9.851556271314621,-7.628224790096283,-4.028690978884697,-14.859852194786072,-11.6591215133667,-7.653065770864487,-2.577640675008297,-4.35369648039341,-11.310584098100662,-5.922793224453926,0.2540387213230133],\"xaxis\":\"x\",\"yaxis\":\"y\",\"type\":\"histogram\"},{\"alignmentgroup\":\"True\",\"hovertemplate\":\"Algorithm=FTTransformerModel<br>Forecast Bias=%{x}<extra></extra>\",\"legendgroup\":\"FTTransformerModel\",\"marker\":{\"color\":\"#636efa\"},\"name\":\"FTTransformerModel\",\"notched\":true,\"offsetgroup\":\"FTTransformerModel\",\"showlegend\":false,\"x\":[-9.123142063617706,-4.180191829800606,-8.06674063205719,-10.489439219236374,-4.247961565852165,-8.54482501745224,4.742119461297989,-8.834756165742874,-1.4465211890637875,-7.280585914850235,-8.748658746480942,-4.9415383487939835,-4.652205854654312,-9.982532262802124,-7.752631604671478,-7.609488070011139,-14.044013619422913,-7.99335241317749,-10.229180753231049,-0.4230812191963196,-4.349635913968086,-8.827164024114609,-6.04294128715992,-7.030755281448364,-12.316116690635681,-11.29055842757225,-2.4015063419938087,-11.092933267354965,-0.09051402448676527,-9.341192990541458,-5.253405869007111,-9.821509569883347,-12.348879873752594,-5.404748395085335,-4.856759682297707,-9.210949391126633,-7.6434895396232605,-9.679202735424042,-7.0327721536159515,-14.529991149902344,-9.530381858348846,-11.415256559848785,-6.053439155220985,-7.808960974216461,-13.46106231212616,-9.91571992635727,-13.114123046398163,-7.5729116797447205,-4.3755825608968735,-11.05775535106659,-4.9480728805065155,-7.816809415817261,-2.9248882085084915,-15.742199122905731,2.38706786185503,-13.38404268026352,-14.473849534988403,-3.1465351581573486,-9.851556271314621,-7.628224790096283,-4.028690978884697,-14.859852194786072,-11.6591215133667,-7.653065770864487,-2.577640675008297,-4.35369648039341,-11.310584098100662,-5.922793224453926,0.2540387213230133],\"xaxis\":\"x2\",\"yaxis\":\"y2\",\"type\":\"box\"},{\"alignmentgroup\":\"True\",\"bingroup\":\"x\",\"histnorm\":\"probability density\",\"hovertemplate\":\"Algorithm=GFM<br>Forecast Bias=%{x}<br>probability density=%{y}<extra></extra>\",\"legendgroup\":\"GFM\",\"marker\":{\"color\":\"#EF553B\",\"opacity\":0.5,\"pattern\":{\"shape\":\"/\"}},\"name\":\"GFM\",\"nbinsx\":250,\"offsetgroup\":\"GFM\",\"orientation\":\"v\",\"showlegend\":true,\"x\":[-1.5728172886497533,8.859833723337896,0.7377959809659556,0.7577298895822433,1.027081609759177,-6.1322649432902265,4.328265537734814,2.839658065089241,2.2545717417687765,-1.026870252650314,-0.5445528473991031,4.8829290761833,1.5897515837572398,-2.093720529585469,-0.6181862638313023,-2.105105856351282,0.43530392384166455,-0.6695610600573632,-3.2900826247094006,10.569060687754252,3.5156125323224936,0.1280741122772238,-4.160293910101553,0.6347843077961255,-4.864535186986551,3.7636705859378137,3.7667954495050866,1.5956609075456314,16.038523193095116,-2.3313895131337388,3.5734019305788225,-1.5780874230852608,-0.7153408722627628,0.15235427213998431,-3.8234112556273603,-1.4261784035311997,-2.5916536097150686,-4.7605466106713505,0.5939762242673496,-2.4111778247049482,2.3064818117325774,0.3078059026453959,-0.4751717216688602,-1.0122873656606757,-4.011098552855059,-3.395800993117315,-2.035895564459218,0.01905328000370182,-1.5484161307289257,-2.312933677081025,-0.1725329896910931,-0.03132303303069155,1.4595197838077036,-12.807256278130422,7.355256878271235,-2.4410757779213483,-0.09506815481807901,1.105995001482912,-2.657371989798864,2.60613398315537,3.273068613291775,-5.228517845932474,-5.443793187148093,0.096138405107304,0.2702011299344933,-1.738038585370262,-0.7829556824580166,1.8661860155792396,8.375730915987216],\"xaxis\":\"x\",\"yaxis\":\"y\",\"type\":\"histogram\"},{\"alignmentgroup\":\"True\",\"hovertemplate\":\"Algorithm=GFM<br>Forecast Bias=%{x}<extra></extra>\",\"legendgroup\":\"GFM\",\"marker\":{\"color\":\"#EF553B\"},\"name\":\"GFM\",\"notched\":true,\"offsetgroup\":\"GFM\",\"showlegend\":false,\"x\":[-1.5728172886497533,8.859833723337896,0.7377959809659556,0.7577298895822433,1.027081609759177,-6.1322649432902265,4.328265537734814,2.839658065089241,2.2545717417687765,-1.026870252650314,-0.5445528473991031,4.8829290761833,1.5897515837572398,-2.093720529585469,-0.6181862638313023,-2.105105856351282,0.43530392384166455,-0.6695610600573632,-3.2900826247094006,10.569060687754252,3.5156125323224936,0.1280741122772238,-4.160293910101553,0.6347843077961255,-4.864535186986551,3.7636705859378137,3.7667954495050866,1.5956609075456314,16.038523193095116,-2.3313895131337388,3.5734019305788225,-1.5780874230852608,-0.7153408722627628,0.15235427213998431,-3.8234112556273603,-1.4261784035311997,-2.5916536097150686,-4.7605466106713505,0.5939762242673496,-2.4111778247049482,2.3064818117325774,0.3078059026453959,-0.4751717216688602,-1.0122873656606757,-4.011098552855059,-3.395800993117315,-2.035895564459218,0.01905328000370182,-1.5484161307289257,-2.312933677081025,-0.1725329896910931,-0.03132303303069155,1.4595197838077036,-12.807256278130422,7.355256878271235,-2.4410757779213483,-0.09506815481807901,1.105995001482912,-2.657371989798864,2.60613398315537,3.273068613291775,-5.228517845932474,-5.443793187148093,0.096138405107304,0.2702011299344933,-1.738038585370262,-0.7829556824580166,1.8661860155792396,8.375730915987216],\"xaxis\":\"x2\",\"yaxis\":\"y2\",\"type\":\"box\"}],                        {\"template\":{\"data\":{\"bar\":[{\"error_x\":{\"color\":\"#2a3f5f\"},\"error_y\":{\"color\":\"#2a3f5f\"},\"marker\":{\"line\":{\"color\":\"white\",\"width\":0.5},\"pattern\":{\"fillmode\":\"overlay\",\"size\":10,\"solidity\":0.2}},\"type\":\"bar\"}],\"barpolar\":[{\"marker\":{\"line\":{\"color\":\"white\",\"width\":0.5},\"pattern\":{\"fillmode\":\"overlay\",\"size\":10,\"solidity\":0.2}},\"type\":\"barpolar\"}],\"carpet\":[{\"aaxis\":{\"endlinecolor\":\"#2a3f5f\",\"gridcolor\":\"#C8D4E3\",\"linecolor\":\"#C8D4E3\",\"minorgridcolor\":\"#C8D4E3\",\"startlinecolor\":\"#2a3f5f\"},\"baxis\":{\"endlinecolor\":\"#2a3f5f\",\"gridcolor\":\"#C8D4E3\",\"linecolor\":\"#C8D4E3\",\"minorgridcolor\":\"#C8D4E3\",\"startlinecolor\":\"#2a3f5f\"},\"type\":\"carpet\"}],\"choropleth\":[{\"colorbar\":{\"outlinewidth\":0,\"ticks\":\"\"},\"type\":\"choropleth\"}],\"contour\":[{\"colorbar\":{\"outlinewidth\":0,\"ticks\":\"\"},\"colorscale\":[[0.0,\"#0d0887\"],[0.1111111111111111,\"#46039f\"],[0.2222222222222222,\"#7201a8\"],[0.3333333333333333,\"#9c179e\"],[0.4444444444444444,\"#bd3786\"],[0.5555555555555556,\"#d8576b\"],[0.6666666666666666,\"#ed7953\"],[0.7777777777777778,\"#fb9f3a\"],[0.8888888888888888,\"#fdca26\"],[1.0,\"#f0f921\"]],\"type\":\"contour\"}],\"contourcarpet\":[{\"colorbar\":{\"outlinewidth\":0,\"ticks\":\"\"},\"type\":\"contourcarpet\"}],\"heatmap\":[{\"colorbar\":{\"outlinewidth\":0,\"ticks\":\"\"},\"colorscale\":[[0.0,\"#0d0887\"],[0.1111111111111111,\"#46039f\"],[0.2222222222222222,\"#7201a8\"],[0.3333333333333333,\"#9c179e\"],[0.4444444444444444,\"#bd3786\"],[0.5555555555555556,\"#d8576b\"],[0.6666666666666666,\"#ed7953\"],[0.7777777777777778,\"#fb9f3a\"],[0.8888888888888888,\"#fdca26\"],[1.0,\"#f0f921\"]],\"type\":\"heatmap\"}],\"heatmapgl\":[{\"colorbar\":{\"outlinewidth\":0,\"ticks\":\"\"},\"colorscale\":[[0.0,\"#0d0887\"],[0.1111111111111111,\"#46039f\"],[0.2222222222222222,\"#7201a8\"],[0.3333333333333333,\"#9c179e\"],[0.4444444444444444,\"#bd3786\"],[0.5555555555555556,\"#d8576b\"],[0.6666666666666666,\"#ed7953\"],[0.7777777777777778,\"#fb9f3a\"],[0.8888888888888888,\"#fdca26\"],[1.0,\"#f0f921\"]],\"type\":\"heatmapgl\"}],\"histogram\":[{\"marker\":{\"pattern\":{\"fillmode\":\"overlay\",\"size\":10,\"solidity\":0.2}},\"type\":\"histogram\"}],\"histogram2d\":[{\"colorbar\":{\"outlinewidth\":0,\"ticks\":\"\"},\"colorscale\":[[0.0,\"#0d0887\"],[0.1111111111111111,\"#46039f\"],[0.2222222222222222,\"#7201a8\"],[0.3333333333333333,\"#9c179e\"],[0.4444444444444444,\"#bd3786\"],[0.5555555555555556,\"#d8576b\"],[0.6666666666666666,\"#ed7953\"],[0.7777777777777778,\"#fb9f3a\"],[0.8888888888888888,\"#fdca26\"],[1.0,\"#f0f921\"]],\"type\":\"histogram2d\"}],\"histogram2dcontour\":[{\"colorbar\":{\"outlinewidth\":0,\"ticks\":\"\"},\"colorscale\":[[0.0,\"#0d0887\"],[0.1111111111111111,\"#46039f\"],[0.2222222222222222,\"#7201a8\"],[0.3333333333333333,\"#9c179e\"],[0.4444444444444444,\"#bd3786\"],[0.5555555555555556,\"#d8576b\"],[0.6666666666666666,\"#ed7953\"],[0.7777777777777778,\"#fb9f3a\"],[0.8888888888888888,\"#fdca26\"],[1.0,\"#f0f921\"]],\"type\":\"histogram2dcontour\"}],\"mesh3d\":[{\"colorbar\":{\"outlinewidth\":0,\"ticks\":\"\"},\"type\":\"mesh3d\"}],\"parcoords\":[{\"line\":{\"colorbar\":{\"outlinewidth\":0,\"ticks\":\"\"}},\"type\":\"parcoords\"}],\"pie\":[{\"automargin\":true,\"type\":\"pie\"}],\"scatter\":[{\"marker\":{\"colorbar\":{\"outlinewidth\":0,\"ticks\":\"\"}},\"type\":\"scatter\"}],\"scatter3d\":[{\"line\":{\"colorbar\":{\"outlinewidth\":0,\"ticks\":\"\"}},\"marker\":{\"colorbar\":{\"outlinewidth\":0,\"ticks\":\"\"}},\"type\":\"scatter3d\"}],\"scattercarpet\":[{\"marker\":{\"colorbar\":{\"outlinewidth\":0,\"ticks\":\"\"}},\"type\":\"scattercarpet\"}],\"scattergeo\":[{\"marker\":{\"colorbar\":{\"outlinewidth\":0,\"ticks\":\"\"}},\"type\":\"scattergeo\"}],\"scattergl\":[{\"marker\":{\"colorbar\":{\"outlinewidth\":0,\"ticks\":\"\"}},\"type\":\"scattergl\"}],\"scattermapbox\":[{\"marker\":{\"colorbar\":{\"outlinewidth\":0,\"ticks\":\"\"}},\"type\":\"scattermapbox\"}],\"scatterpolar\":[{\"marker\":{\"colorbar\":{\"outlinewidth\":0,\"ticks\":\"\"}},\"type\":\"scatterpolar\"}],\"scatterpolargl\":[{\"marker\":{\"colorbar\":{\"outlinewidth\":0,\"ticks\":\"\"}},\"type\":\"scatterpolargl\"}],\"scatterternary\":[{\"marker\":{\"colorbar\":{\"outlinewidth\":0,\"ticks\":\"\"}},\"type\":\"scatterternary\"}],\"surface\":[{\"colorbar\":{\"outlinewidth\":0,\"ticks\":\"\"},\"colorscale\":[[0.0,\"#0d0887\"],[0.1111111111111111,\"#46039f\"],[0.2222222222222222,\"#7201a8\"],[0.3333333333333333,\"#9c179e\"],[0.4444444444444444,\"#bd3786\"],[0.5555555555555556,\"#d8576b\"],[0.6666666666666666,\"#ed7953\"],[0.7777777777777778,\"#fb9f3a\"],[0.8888888888888888,\"#fdca26\"],[1.0,\"#f0f921\"]],\"type\":\"surface\"}],\"table\":[{\"cells\":{\"fill\":{\"color\":\"#EBF0F8\"},\"line\":{\"color\":\"white\"}},\"header\":{\"fill\":{\"color\":\"#C8D4E3\"},\"line\":{\"color\":\"white\"}},\"type\":\"table\"}]},\"layout\":{\"annotationdefaults\":{\"arrowcolor\":\"#2a3f5f\",\"arrowhead\":0,\"arrowwidth\":1},\"autotypenumbers\":\"strict\",\"coloraxis\":{\"colorbar\":{\"outlinewidth\":0,\"ticks\":\"\"}},\"colorscale\":{\"diverging\":[[0,\"#8e0152\"],[0.1,\"#c51b7d\"],[0.2,\"#de77ae\"],[0.3,\"#f1b6da\"],[0.4,\"#fde0ef\"],[0.5,\"#f7f7f7\"],[0.6,\"#e6f5d0\"],[0.7,\"#b8e186\"],[0.8,\"#7fbc41\"],[0.9,\"#4d9221\"],[1,\"#276419\"]],\"sequential\":[[0.0,\"#0d0887\"],[0.1111111111111111,\"#46039f\"],[0.2222222222222222,\"#7201a8\"],[0.3333333333333333,\"#9c179e\"],[0.4444444444444444,\"#bd3786\"],[0.5555555555555556,\"#d8576b\"],[0.6666666666666666,\"#ed7953\"],[0.7777777777777778,\"#fb9f3a\"],[0.8888888888888888,\"#fdca26\"],[1.0,\"#f0f921\"]],\"sequentialminus\":[[0.0,\"#0d0887\"],[0.1111111111111111,\"#46039f\"],[0.2222222222222222,\"#7201a8\"],[0.3333333333333333,\"#9c179e\"],[0.4444444444444444,\"#bd3786\"],[0.5555555555555556,\"#d8576b\"],[0.6666666666666666,\"#ed7953\"],[0.7777777777777778,\"#fb9f3a\"],[0.8888888888888888,\"#fdca26\"],[1.0,\"#f0f921\"]]},\"colorway\":[\"#636efa\",\"#EF553B\",\"#00cc96\",\"#ab63fa\",\"#FFA15A\",\"#19d3f3\",\"#FF6692\",\"#B6E880\",\"#FF97FF\",\"#FECB52\"],\"font\":{\"color\":\"#2a3f5f\"},\"geo\":{\"bgcolor\":\"white\",\"lakecolor\":\"white\",\"landcolor\":\"white\",\"showlakes\":true,\"showland\":true,\"subunitcolor\":\"#C8D4E3\"},\"hoverlabel\":{\"align\":\"left\"},\"hovermode\":\"closest\",\"mapbox\":{\"style\":\"light\"},\"paper_bgcolor\":\"white\",\"plot_bgcolor\":\"white\",\"polar\":{\"angularaxis\":{\"gridcolor\":\"#EBF0F8\",\"linecolor\":\"#EBF0F8\",\"ticks\":\"\"},\"bgcolor\":\"white\",\"radialaxis\":{\"gridcolor\":\"#EBF0F8\",\"linecolor\":\"#EBF0F8\",\"ticks\":\"\"}},\"scene\":{\"xaxis\":{\"backgroundcolor\":\"white\",\"gridcolor\":\"#DFE8F3\",\"gridwidth\":2,\"linecolor\":\"#EBF0F8\",\"showbackground\":true,\"ticks\":\"\",\"zerolinecolor\":\"#EBF0F8\"},\"yaxis\":{\"backgroundcolor\":\"white\",\"gridcolor\":\"#DFE8F3\",\"gridwidth\":2,\"linecolor\":\"#EBF0F8\",\"showbackground\":true,\"ticks\":\"\",\"zerolinecolor\":\"#EBF0F8\"},\"zaxis\":{\"backgroundcolor\":\"white\",\"gridcolor\":\"#DFE8F3\",\"gridwidth\":2,\"linecolor\":\"#EBF0F8\",\"showbackground\":true,\"ticks\":\"\",\"zerolinecolor\":\"#EBF0F8\"}},\"shapedefaults\":{\"line\":{\"color\":\"#2a3f5f\"}},\"ternary\":{\"aaxis\":{\"gridcolor\":\"#DFE8F3\",\"linecolor\":\"#A2B1C6\",\"ticks\":\"\"},\"baxis\":{\"gridcolor\":\"#DFE8F3\",\"linecolor\":\"#A2B1C6\",\"ticks\":\"\"},\"bgcolor\":\"white\",\"caxis\":{\"gridcolor\":\"#DFE8F3\",\"linecolor\":\"#A2B1C6\",\"ticks\":\"\"}},\"title\":{\"x\":0.05},\"xaxis\":{\"automargin\":true,\"gridcolor\":\"#EBF0F8\",\"linecolor\":\"#EBF0F8\",\"ticks\":\"\",\"title\":{\"standoff\":15},\"zerolinecolor\":\"#EBF0F8\",\"zerolinewidth\":2},\"yaxis\":{\"automargin\":true,\"gridcolor\":\"#EBF0F8\",\"linecolor\":\"#EBF0F8\",\"ticks\":\"\",\"title\":{\"standoff\":15},\"zerolinecolor\":\"#EBF0F8\",\"zerolinewidth\":2}}},\"xaxis\":{\"anchor\":\"y\",\"domain\":[0.0,1.0],\"title\":{\"text\":\"Forecast Bias\",\"font\":{\"size\":15}},\"tickfont\":{\"size\":15},\"range\":[-15,10]},\"yaxis\":{\"anchor\":\"x\",\"domain\":[0.0,0.7326],\"title\":{\"text\":\"Probability Density\",\"font\":{\"size\":15}},\"tickfont\":{\"size\":15}},\"xaxis2\":{\"anchor\":\"y2\",\"domain\":[0.0,1.0],\"matches\":\"x\",\"showticklabels\":false,\"showgrid\":true},\"yaxis2\":{\"anchor\":\"x2\",\"domain\":[0.7426,1.0],\"matches\":\"y2\",\"showticklabels\":false,\"showline\":false,\"ticks\":\"\",\"showgrid\":false},\"legend\":{\"title\":{},\"tracegroupgap\":0,\"font\":{\"size\":15},\"orientation\":\"h\",\"yanchor\":\"bottom\",\"y\":0.98,\"xanchor\":\"right\",\"x\":1},\"margin\":{\"t\":60},\"barmode\":\"overlay\",\"title\":{\"font\":{\"size\":20},\"text\":\"Distribution of Forecast Bias in the dataset\",\"x\":0.5,\"xanchor\":\"center\",\"yanchor\":\"top\"},\"autosize\":false,\"width\":900,\"height\":500},                        {\"responsive\": true}                    ).then(function(){\n",
       "                            \n",
       "var gd = document.getElementById('72f06eab-b71f-44d0-95f5-4f5e4d208436');\n",
       "var x = new MutationObserver(function (mutations, observer) {{\n",
       "        var display = window.getComputedStyle(gd).display;\n",
       "        if (!display || display === 'none') {{\n",
       "            console.log([gd, 'removed!']);\n",
       "            Plotly.purge(gd);\n",
       "            observer.disconnect();\n",
       "        }}\n",
       "}});\n",
       "\n",
       "// Listen for the removal of the full notebook cells\n",
       "var notebookContainer = gd.closest('#notebook-container');\n",
       "if (notebookContainer) {{\n",
       "    x.observe(notebookContainer, {childList: true});\n",
       "}}\n",
       "\n",
       "// Listen for the clearing of the current output cell\n",
       "var outputEl = gd.closest('.output');\n",
       "if (outputEl) {{\n",
       "    x.observe(outputEl, {childList: true});\n",
       "}}\n",
       "\n",
       "                        })                };                });            </script>        </div>"
      ]
     },
     "metadata": {},
     "output_type": "display_data"
    }
   ],
   "source": [
    "fig = px.histogram(metrics_df, \n",
    "                   x=\"Forecast Bias\", \n",
    "                   color=\"Algorithm\",\n",
    "                   pattern_shape=\"Algorithm\", \n",
    "                   marginal=\"box\", \n",
    "                   nbins=250,\n",
    "                   barmode=\"overlay\",\n",
    "                   histnorm=\"probability density\")\n",
    "fig = format_plot(fig, xlabel=\"Forecast Bias\", ylabel=\"Probability Density\", title=\"Distribution of Forecast Bias in the dataset\")\n",
    "fig.update_layout(xaxis_range=[-15,10])\n",
    "# fig.write_image(\"imgs/chapter_12/ft_bias_dist.png\")\n",
    "fig.show()"
   ]
  },
  {
   "cell_type": "markdown",
   "id": "8563e46a-8c50-4ae4-8321-2a36e9d104d8",
   "metadata": {
    "tags": []
   },
   "source": [
    "# Saving the Forecasts and Metrics"
   ]
  },
  {
   "cell_type": "code",
   "execution_count": 35,
   "id": "330d2005-faba-44da-89a9-29b088758998",
   "metadata": {},
   "outputs": [],
   "source": [
    "os.makedirs(\"data/london_smart_meters/output\", exist_ok=True)\n",
    "output = Path(\"data/london_smart_meters/output\")"
   ]
  },
  {
   "cell_type": "code",
   "execution_count": 45,
   "id": "b93cdcae-b729-42f3-80a8-c6bb368f534f",
   "metadata": {},
   "outputs": [],
   "source": [
    "pred_df.to_pickle(output/\"ft_transformer_val_df.pkl\")\n",
    "metrics_df.to_pickle(output/\"ft_transformer_metrics_val_df.pkl\")\n",
    "agg_metrics_df.to_pickle(output/\"ft_transformer_aggregate_metrics_val.pkl\")"
   ]
  }
 ],
 "metadata": {
  "kernelspec": {
   "display_name": "Python 3 (ipykernel)",
   "language": "python",
   "name": "python3"
  },
  "language_info": {
   "codemirror_mode": {
    "name": "ipython",
    "version": 3
   },
   "file_extension": ".py",
   "mimetype": "text/x-python",
   "name": "python",
   "nbconvert_exporter": "python",
   "pygments_lexer": "ipython3",
   "version": "3.9.0"
  },
  "varInspector": {
   "cols": {
    "lenName": 16,
    "lenType": 16,
    "lenVar": 40
   },
   "kernels_config": {
    "python": {
     "delete_cmd_postfix": "",
     "delete_cmd_prefix": "del ",
     "library": "var_list.py",
     "varRefreshCmd": "print(var_dic_list())"
    },
    "r": {
     "delete_cmd_postfix": ") ",
     "delete_cmd_prefix": "rm(",
     "library": "var_list.r",
     "varRefreshCmd": "cat(var_dic_list()) "
    }
   },
   "types_to_exclude": [
    "module",
    "function",
    "builtin_function_or_method",
    "instance",
    "_Feature"
   ],
   "window_display": false
  }
 },
 "nbformat": 4,
 "nbformat_minor": 5
}

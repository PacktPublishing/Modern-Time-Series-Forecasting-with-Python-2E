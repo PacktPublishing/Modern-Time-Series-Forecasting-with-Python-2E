{
 "cells": [
  {
   "cell_type": "code",
   "execution_count": 1,
   "id": "b25018c9-2624-434c-aa23-04be1d73e729",
   "metadata": {},
   "outputs": [
    {
     "name": "stdout",
     "output_type": "stream",
     "text": [
      "c:\\Users\\tacke\\OneDrive\\Documents\\GitHub\\Modern-Time-Series-Forecasting-with-Python-2E-1\n"
     ]
    }
   ],
   "source": [
    "%cd ../.."
   ]
  },
  {
   "cell_type": "code",
   "execution_count": 2,
   "id": "4f023467-970a-461e-a60f-7a66fce6a497",
   "metadata": {},
   "outputs": [],
   "source": [
    "import os\n",
    "import time\n",
    "import shutil\n",
    "\n",
    "import numpy as np\n",
    "import pandas as pd\n",
    "import plotly.express as px\n",
    "import plotly.graph_objects as go\n",
    "import plotly.io as pio\n",
    "import joblib\n",
    "pio.templates.default = \"plotly_white\"\n",
    "\n",
    "import warnings\n",
    "from pathlib import Path\n",
    "\n",
    "import humanize\n",
    "\n",
    "from sklearn.preprocessing import StandardScaler\n",
    "from src.forecasting.ml_forecasting import (\n",
    "    FeatureConfig,\n",
    "    MissingValueConfig,\n",
    "    MLForecast,\n",
    "    ModelConfig,\n",
    "    calculate_metrics,\n",
    ")\n",
    "from src.utils import plotting_utils\n",
    "from src.utils.general import LogTime\n",
    "from src.utils.ts_utils import metrics_adapter, forecast_bias, mae, mase, mse\n",
    "from tqdm.autonotebook import tqdm\n",
    "from src.forecasting.ml_forecasting import calculate_metrics\n",
    "from src.utils import ts_utils\n",
    "from IPython.display import display, HTML\n",
    "# %load_ext autoreload\n",
    "# %autoreload 2\n",
    "np.random.seed(42)\n",
    "tqdm.pandas()"
   ]
  },
  {
   "cell_type": "code",
   "execution_count": 3,
   "id": "41ae72a1-3721-4b36-b211-b78d4b09c855",
   "metadata": {},
   "outputs": [],
   "source": [
    "os.makedirs(\"imgs/chapter_13\", exist_ok=True)\n",
    "preprocessed = Path(\"data/london_smart_meters/preprocessed\")\n",
    "output = Path(\"data/london_smart_meters/output\")"
   ]
  },
  {
   "cell_type": "markdown",
   "id": "b5ee3229-29b1-41ea-a4f0-25237abd617a",
   "metadata": {},
   "source": [
    "## Utility Functions"
   ]
  },
  {
   "cell_type": "code",
   "execution_count": 4,
   "id": "8900cd43-718f-4dc1-ace9-ef9dc99b600d",
   "metadata": {},
   "outputs": [],
   "source": [
    "def format_plot(fig, legends=None, xlabel=\"Time\", ylabel=\"Value\", title=\"\", font_size=15):\n",
    "    if legends:\n",
    "        names = cycle(legends)\n",
    "        fig.for_each_trace(lambda t: t.update(name=next(names)))\n",
    "    fig.update_layout(\n",
    "        autosize=False,\n",
    "        width=900,\n",
    "        height=500,\n",
    "        title_text=title,\n",
    "        title={\"x\": 0.5, \"xanchor\": \"center\", \"yanchor\": \"top\"},\n",
    "        titlefont={\"size\": 20},\n",
    "        legend_title=None,\n",
    "        legend=dict(\n",
    "            font=dict(size=font_size),\n",
    "            orientation=\"h\",\n",
    "            yanchor=\"bottom\",\n",
    "            y=0.98,\n",
    "            xanchor=\"right\",\n",
    "            x=1,\n",
    "        ),\n",
    "        yaxis=dict(\n",
    "            title_text=ylabel,\n",
    "            titlefont=dict(size=font_size),\n",
    "            tickfont=dict(size=font_size),\n",
    "        ),\n",
    "        xaxis=dict(\n",
    "            title_text=xlabel,\n",
    "            titlefont=dict(size=font_size),\n",
    "            tickfont=dict(size=font_size),\n",
    "        )\n",
    "    )\n",
    "    return fig"
   ]
  },
  {
   "cell_type": "code",
   "execution_count": 5,
   "id": "f0d3bcb3-f823-47ab-a591-a2bca4636139",
   "metadata": {},
   "outputs": [],
   "source": [
    "def evaluate_forecast(y_pred, test_target, train_target, model_name):\n",
    "    metric_l = []\n",
    "    for _id in tqdm(test_target.index.get_level_values(0).remove_unused_categories().categories, desc=\"Calculating metrics...\"):\n",
    "        target = test_target.xs(_id)\n",
    "        _y_pred = y_pred.xs(_id)\n",
    "        history = train_target.xs(_id)\n",
    "        metric_l.append(\n",
    "            calculate_metrics(target, _y_pred, name=model_name, y_train=history)\n",
    "        )\n",
    "    eval_metrics_df = pd.DataFrame(metric_l)\n",
    "    agg_metrics = {\n",
    "            \"Algorithm\": model_name,\n",
    "            \"MAE\": ts_utils.mae(\n",
    "                test_target, y_pred\n",
    "            ),\n",
    "            \"MSE\": ts_utils.mse(\n",
    "                test_target, y_pred\n",
    "            ),\n",
    "            \"meanMASE\": eval_metrics_df.loc[:, \"MASE\"].mean(),\n",
    "            \"Forecast Bias\": ts_utils.forecast_bias_aggregate(\n",
    "                test_target, y_pred\n",
    "            )\n",
    "    }\n",
    "    return agg_metrics, eval_metrics_df"
   ]
  },
  {
   "cell_type": "code",
   "execution_count": 6,
   "id": "ad04560f-5130-437f-83b0-9929adf63f37",
   "metadata": {
    "tags": []
   },
   "outputs": [],
   "source": [
    "from itertools import cycle\n",
    "\n",
    "\n",
    "def plot_forecast(pred_df, forecast_columns, forecast_display_names=None):\n",
    "    if forecast_display_names is None:\n",
    "        forecast_display_names = forecast_columns\n",
    "    else:\n",
    "        assert len(forecast_columns) == len(forecast_display_names)\n",
    "    mask = ~pred_df[forecast_columns[0]].isnull()\n",
    "    colors = [\n",
    "        \"rgba(\" + \",\".join([str(c) for c in plotting_utils.hex_to_rgb(c)]) + \",<alpha>)\"\n",
    "        for c in px.colors.qualitative.Plotly\n",
    "    ]\n",
    "    act_color = colors[0]\n",
    "    colors = cycle(colors[1:])\n",
    "    fig = go.Figure()\n",
    "    fig.add_trace(\n",
    "        go.Scatter(\n",
    "            x=pred_df[mask].index,\n",
    "            y=pred_df[mask].energy_consumption,\n",
    "            mode=\"lines\",\n",
    "            line=dict(color=act_color.replace(\"<alpha>\", \"0.9\")),\n",
    "            name=\"Actual Consumption\",\n",
    "        )\n",
    "    )\n",
    "    for col, display_col in zip(forecast_columns, forecast_display_names):\n",
    "        fig.add_trace(\n",
    "            go.Scatter(\n",
    "                x=pred_df[mask].index,\n",
    "                y=pred_df.loc[mask, col],\n",
    "                mode=\"lines\",\n",
    "                line=dict(dash=\"dot\", color=next(colors).replace(\"<alpha>\", \"1\")),\n",
    "                name=display_col,\n",
    "            )\n",
    "        )\n",
    "    return fig\n",
    "\n",
    "def highlight_abs_min(s, props=''):\n",
    "    return np.where(s == np.nanmin(np.abs(s.values)), props, '')"
   ]
  },
  {
   "cell_type": "markdown",
   "id": "28b5c5f4-29e5-4a80-825f-83eb976c5eb3",
   "metadata": {},
   "source": [
    "## Reading the data"
   ]
  },
  {
   "cell_type": "code",
   "execution_count": 7,
   "id": "91a45da0-76e2-46ed-9eef-5cd1a1b5623c",
   "metadata": {},
   "outputs": [],
   "source": [
    "try:\n",
    "    #Reading the missing value imputed and train test split data\n",
    "    train_df = pd.read_parquet(preprocessed/\"selected_blocks_train_missing_imputed_feature_engg.parquet\")\n",
    "    # Read in the Validation dataset as test_df so that we predict on it\n",
    "    test_df = pd.read_parquet(preprocessed/\"selected_blocks_val_missing_imputed_feature_engg.parquet\")\n",
    "    # test_df = pd.read_parquet(preprocessed/\"block_0-7_test_missing_imputed_feature_engg.parquet\")\n",
    "except FileNotFoundError:\n",
    "    display(HTML(\"\"\"\n",
    "    <div class=\"alert alert-block alert-warning\">\n",
    "    <b>Warning!</b> File not found. Please make sure you have run 01-Feature Engineering.ipynb in Chapter06\n",
    "    </div>\n",
    "    \"\"\"))"
   ]
  },
  {
   "cell_type": "markdown",
   "id": "1a785ca6-9eb3-4aff-88c5-18816959ceb3",
   "metadata": {},
   "source": [
    "Selecting only half the blocks to make deep learning training smoother, faster and fit in GPU memory. This is purely a hardware constraint and done beacause dealing with the engineering challenges of handling huge datasets is out of scope for this book."
   ]
  },
  {
   "cell_type": "code",
   "execution_count": 8,
   "id": "a1b2bac1-0add-4a72-9782-7b765d46fe0b",
   "metadata": {},
   "outputs": [],
   "source": [
    "uniq_blocks = train_df.file.unique().tolist()\n",
    "sel_blocks = sorted(uniq_blocks, key=lambda x: int(x.replace(\"block_\",\"\")))[:len(uniq_blocks)//2]\n",
    "train_df = train_df.loc[train_df.file.isin(sel_blocks)]\n",
    "test_df = test_df.loc[test_df.file.isin(sel_blocks)]\n",
    "sel_lclids = train_df.LCLid.unique().tolist()"
   ]
  },
  {
   "cell_type": "code",
   "execution_count": 9,
   "id": "5fe10433-e8a0-490d-a476-54ef6b73240a",
   "metadata": {},
   "outputs": [],
   "source": [
    "target = \"energy_consumption\"\n",
    "index_cols = [\"LCLid\", \"timestamp\"]"
   ]
  },
  {
   "cell_type": "code",
   "execution_count": 10,
   "id": "bd73612f-5cfc-4331-bf7f-158f5a77251e",
   "metadata": {},
   "outputs": [],
   "source": [
    "# Setting the indices\n",
    "train_df.set_index(index_cols, inplace=True, drop=False)\n",
    "test_df.set_index(index_cols, inplace=True, drop=False)\n",
    "# Creating a pred_df with actuals\n",
    "pred_df = pd.concat([train_df[[target]], test_df[[target]]])"
   ]
  },
  {
   "cell_type": "markdown",
   "id": "60dac12a-86d0-44eb-8497-c94f0cf51dbf",
   "metadata": {},
   "source": [
    "### Loading the GFM Forecast and calculating the aggregate metrics on selected LCLids"
   ]
  },
  {
   "cell_type": "code",
   "execution_count": 11,
   "id": "e1be72a3-0a54-4444-88fa-740ea826d0e6",
   "metadata": {},
   "outputs": [
    {
     "data": {
      "application/vnd.jupyter.widget-view+json": {
       "model_id": "8da83a7b0adb4f73b8dba36133fbdc55",
       "version_major": 2,
       "version_minor": 0
      },
      "text/plain": [
       "Calculating metrics...:   0%|          | 0/69 [00:00<?, ?it/s]"
      ]
     },
     "metadata": {},
     "output_type": "display_data"
    }
   ],
   "source": [
    "try:\n",
    "    global_ml_fc_df = pd.read_pickle(output/\"gfm_predictions_val_df.pkl\")\n",
    "    global_ml_fc_df = global_ml_fc_df.loc[global_ml_fc_df.index.get_level_values(0).isin(sel_lclids)]\n",
    "\n",
    "    baseline_agg_metrics, baseline_metrics_df = evaluate_forecast(y_pred=global_ml_fc_df[\"GFM+Meta  (NativeLGBM)\"], \n",
    "                                                     test_target = global_ml_fc_df[\"energy_consumption\"], train_target = train_df[\"energy_consumption\"], model_name=\"GFM+Meta  (NativeLGBM)\")\n",
    "except FileNotFoundError:\n",
    "    display(HTML(\"\"\"\n",
    "    <div class=\"alert alert-block alert-warning\">\n",
    "    <b>Warning!</b> File not found. Please make sure you have run 01-Global Forecasting Models-ML.ipynb in Chapter10\n",
    "    </div>\n",
    "    \"\"\"))"
   ]
  },
  {
   "cell_type": "markdown",
   "id": "26327070-5ebf-4648-bfcb-951eca45e5d7",
   "metadata": {
    "tags": []
   },
   "source": [
    "# Missing Value Handling"
   ]
  },
  {
   "cell_type": "markdown",
   "id": "bbc19bb7-6477-4821-8d0b-300d115d32cf",
   "metadata": {
    "tags": []
   },
   "source": [
    "## Null check"
   ]
  },
  {
   "cell_type": "code",
   "execution_count": 12,
   "id": "34e44aa9-8f06-465d-a07b-279f923f11f7",
   "metadata": {},
   "outputs": [
    {
     "data": {
      "text/plain": [
       "pressure                                           1450\n",
       "energy_consumption_lag_1                             69\n",
       "energy_consumption_lag_2                            138\n",
       "energy_consumption_lag_3                            207\n",
       "energy_consumption_lag_4                            276\n",
       "energy_consumption_lag_5                            345\n",
       "energy_consumption_lag_46                          3174\n",
       "energy_consumption_lag_47                          3243\n",
       "energy_consumption_lag_48                          3312\n",
       "energy_consumption_lag_49                          3381\n",
       "energy_consumption_lag_50                          3450\n",
       "energy_consumption_lag_334                        23046\n",
       "energy_consumption_lag_335                        23115\n",
       "energy_consumption_lag_336                        23184\n",
       "energy_consumption_lag_337                        23253\n",
       "energy_consumption_lag_338                        23322\n",
       "energy_consumption_rolling_3_mean                   207\n",
       "energy_consumption_rolling_3_std                    207\n",
       "energy_consumption_rolling_6_mean                   414\n",
       "energy_consumption_rolling_6_std                    414\n",
       "energy_consumption_rolling_12_mean                  828\n",
       "energy_consumption_rolling_12_std                   828\n",
       "energy_consumption_rolling_48_mean                 3312\n",
       "energy_consumption_rolling_48_std                  3312\n",
       "energy_consumption_48_seasonal_rolling_3_mean      9936\n",
       "energy_consumption_48_seasonal_rolling_3_std       9936\n",
       "energy_consumption_336_seasonal_rolling_3_mean    69552\n",
       "energy_consumption_336_seasonal_rolling_3_std     69552\n",
       "dtype: int64"
      ]
     },
     "execution_count": 12,
     "metadata": {},
     "output_type": "execute_result"
    }
   ],
   "source": [
    "nc = train_df.isnull().sum()\n",
    "nc[nc>0]"
   ]
  },
  {
   "cell_type": "code",
   "execution_count": 13,
   "id": "5cd8e682-74bf-4f37-9dec-df9b63fee673",
   "metadata": {},
   "outputs": [],
   "source": [
    "missing_value_config = MissingValueConfig(\n",
    "    bfill_columns=[\n",
    "        \"energy_consumption_lag_1\",\n",
    "        \"energy_consumption_lag_2\",\n",
    "        \"energy_consumption_lag_3\",\n",
    "        \"energy_consumption_lag_4\",\n",
    "        \"energy_consumption_lag_5\",\n",
    "        \"energy_consumption_lag_46\",\n",
    "        \"energy_consumption_lag_47\",\n",
    "        \"energy_consumption_lag_48\",\n",
    "        \"energy_consumption_lag_49\",\n",
    "        \"energy_consumption_lag_50\",\n",
    "        \"energy_consumption_lag_334\",\n",
    "        \"energy_consumption_lag_335\",\n",
    "        \"energy_consumption_lag_336\",\n",
    "        \"energy_consumption_lag_337\",\n",
    "        \"energy_consumption_lag_338\",\n",
    "        \"energy_consumption_rolling_3_mean\",\n",
    "        \"energy_consumption_rolling_3_std\",\n",
    "        \"energy_consumption_rolling_6_mean\",\n",
    "        \"energy_consumption_rolling_6_std\",\n",
    "        \"energy_consumption_rolling_12_mean\",\n",
    "        \"energy_consumption_rolling_12_std\",\n",
    "        \"energy_consumption_rolling_48_mean\",\n",
    "        \"energy_consumption_rolling_48_std\",\n",
    "        \"energy_consumption_48_seasonal_rolling_3_mean\",\n",
    "        \"energy_consumption_48_seasonal_rolling_3_std\",\n",
    "        \"energy_consumption_336_seasonal_rolling_3_mean\",\n",
    "        \"energy_consumption_336_seasonal_rolling_3_std\",\n",
    "        \"energy_consumption_ewma__span_2880\",\n",
    "        \"energy_consumption_ewma__span_336\",\n",
    "        \"energy_consumption_ewma__span_48\",\n",
    "    ],\n",
    "    ffill_columns=[],\n",
    "    zero_fill_columns=[],\n",
    ")"
   ]
  },
  {
   "cell_type": "code",
   "execution_count": 14,
   "id": "aef8b031-fe0b-4062-9a39-1e3d21e7b5dc",
   "metadata": {},
   "outputs": [
    {
     "name": "stderr",
     "output_type": "stream",
     "text": [
      "c:\\Users\\tacke\\OneDrive\\Documents\\GitHub\\Modern-Time-Series-Forecasting-with-Python-2E-1\\src\\forecasting\\ml_forecasting.py:38: FutureWarning: DataFrame.fillna with 'method' is deprecated and will raise in a future version. Use obj.ffill() or obj.bfill() instead.\n",
      "  df[bfill_columns] = df[bfill_columns].fillna(method=\"bfill\")\n",
      "c:\\Users\\tacke\\OneDrive\\Documents\\GitHub\\Modern-Time-Series-Forecasting-with-Python-2E-1\\src\\forecasting\\ml_forecasting.py:41: FutureWarning: DataFrame.fillna with 'method' is deprecated and will raise in a future version. Use obj.ffill() or obj.bfill() instead.\n",
      "  df[ffill_columns] = df[ffill_columns].fillna(method=\"ffill\")\n",
      "c:\\Users\\tacke\\OneDrive\\Documents\\GitHub\\Modern-Time-Series-Forecasting-with-Python-2E-1\\src\\forecasting\\ml_forecasting.py:38: FutureWarning: DataFrame.fillna with 'method' is deprecated and will raise in a future version. Use obj.ffill() or obj.bfill() instead.\n",
      "  df[bfill_columns] = df[bfill_columns].fillna(method=\"bfill\")\n",
      "c:\\Users\\tacke\\OneDrive\\Documents\\GitHub\\Modern-Time-Series-Forecasting-with-Python-2E-1\\src\\forecasting\\ml_forecasting.py:41: FutureWarning: DataFrame.fillna with 'method' is deprecated and will raise in a future version. Use obj.ffill() or obj.bfill() instead.\n",
      "  df[ffill_columns] = df[ffill_columns].fillna(method=\"ffill\")\n"
     ]
    }
   ],
   "source": [
    "train_df = missing_value_config.impute_missing_values(train_df)\n",
    "test_df = missing_value_config.impute_missing_values(test_df)"
   ]
  },
  {
   "cell_type": "code",
   "execution_count": 15,
   "id": "94f7375c-b378-4213-95db-57ac7ed5733b",
   "metadata": {},
   "outputs": [
    {
     "data": {
      "text/plain": [
       "Series([], dtype: int64)"
      ]
     },
     "execution_count": 15,
     "metadata": {},
     "output_type": "execute_result"
    }
   ],
   "source": [
    "nc = train_df.isnull().sum()\n",
    "nc[nc>0]"
   ]
  },
  {
   "cell_type": "markdown",
   "id": "a3f58137-48c8-4a7a-b459-5579612385bf",
   "metadata": {
    "tags": []
   },
   "source": [
    "# Running DL Global models"
   ]
  },
  {
   "cell_type": "code",
   "execution_count": 16,
   "id": "edd4c88d-f1ea-4566-8dcb-7c0010f4e22c",
   "metadata": {
    "tags": []
   },
   "outputs": [],
   "source": [
    "metric_record = [baseline_agg_metrics]"
   ]
  },
  {
   "cell_type": "markdown",
   "id": "b2952da7-8f29-4917-a9e7-38587e75471c",
   "metadata": {
    "tags": []
   },
   "source": [
    "## PyTorch Tabular"
   ]
  },
  {
   "cell_type": "code",
   "execution_count": 17,
   "id": "e2450814-97e9-41a4-ba4f-406c87b5f3ce",
   "metadata": {},
   "outputs": [],
   "source": [
    "from pytorch_tabular import TabularModel\n",
    "from pytorch_tabular.models import FTTransformerConfig\n",
    "from pytorch_tabular.config import DataConfig, OptimizerConfig, TrainerConfig, ExperimentConfig\n",
    "from pytorch_tabular.models.common.heads import LinearHeadConfig"
   ]
  },
  {
   "cell_type": "code",
   "execution_count": 18,
   "id": "f35084e8-9864-4bdc-9407-86c5f309c5cb",
   "metadata": {},
   "outputs": [],
   "source": [
    "data_config = DataConfig(\n",
    "    target=[target], #target should always be a list. Multi-targets are only supported for regression. Multi-Task Classification is not implemented\n",
    "    continuous_cols=[\n",
    "        \"visibility\",\n",
    "        \"windBearing\",\n",
    "        \"temperature\",\n",
    "        \"dewPoint\",\n",
    "        \"pressure\",\n",
    "        \"apparentTemperature\",\n",
    "        \"windSpeed\",\n",
    "        \"humidity\",\n",
    "        \"energy_consumption_lag_1\",\n",
    "        \"energy_consumption_lag_2\",\n",
    "        \"energy_consumption_lag_3\",\n",
    "        \"energy_consumption_lag_4\",\n",
    "        \"energy_consumption_lag_5\",\n",
    "        \"energy_consumption_lag_46\",\n",
    "        \"energy_consumption_lag_47\",\n",
    "        \"energy_consumption_lag_48\",\n",
    "        \"energy_consumption_lag_49\",\n",
    "        \"energy_consumption_lag_50\",\n",
    "        \"energy_consumption_lag_334\",\n",
    "        \"energy_consumption_lag_335\",\n",
    "        \"energy_consumption_lag_336\",\n",
    "        \"energy_consumption_lag_337\",\n",
    "        \"energy_consumption_lag_338\",\n",
    "        \"energy_consumption_rolling_3_mean\",\n",
    "        \"energy_consumption_rolling_3_std\",\n",
    "        \"energy_consumption_rolling_6_mean\",\n",
    "        \"energy_consumption_rolling_6_std\",\n",
    "        \"energy_consumption_rolling_12_mean\",\n",
    "        \"energy_consumption_rolling_12_std\",\n",
    "        \"energy_consumption_rolling_48_mean\",\n",
    "        \"energy_consumption_rolling_48_std\",\n",
    "        \"energy_consumption_48_seasonal_rolling_3_mean\",\n",
    "        \"energy_consumption_48_seasonal_rolling_3_std\",\n",
    "        \"energy_consumption_336_seasonal_rolling_3_mean\",\n",
    "        \"energy_consumption_336_seasonal_rolling_3_std\",\n",
    "        \"energy_consumption_ewma_span_2880\",\n",
    "        \"energy_consumption_ewma_span_336\",\n",
    "        \"energy_consumption_ewma_span_48\",\n",
    "        \"timestamp_Elapsed\",\n",
    "        \"timestamp_Month_sin_1\",\n",
    "        \"timestamp_Month_sin_2\",\n",
    "        \"timestamp_Month_sin_3\",\n",
    "        \"timestamp_Month_sin_4\",\n",
    "        \"timestamp_Month_sin_5\",\n",
    "        \"timestamp_Month_cos_1\",\n",
    "        \"timestamp_Month_cos_2\",\n",
    "        \"timestamp_Month_cos_3\",\n",
    "        \"timestamp_Month_cos_4\",\n",
    "        \"timestamp_Month_cos_5\",\n",
    "        \"timestamp_Hour_sin_1\",\n",
    "        \"timestamp_Hour_sin_2\",\n",
    "        \"timestamp_Hour_sin_3\",\n",
    "        \"timestamp_Hour_sin_4\",\n",
    "        \"timestamp_Hour_sin_5\",\n",
    "        \"timestamp_Hour_cos_1\",\n",
    "        \"timestamp_Hour_cos_2\",\n",
    "        \"timestamp_Hour_cos_3\",\n",
    "        \"timestamp_Hour_cos_4\",\n",
    "        \"timestamp_Hour_cos_5\",\n",
    "        \"timestamp_Minute_sin_1\",\n",
    "        \"timestamp_Minute_sin_2\",\n",
    "        \"timestamp_Minute_sin_3\",\n",
    "        \"timestamp_Minute_sin_4\",\n",
    "        \"timestamp_Minute_sin_5\",\n",
    "        \"timestamp_Minute_cos_1\",\n",
    "        \"timestamp_Minute_cos_2\",\n",
    "        \"timestamp_Minute_cos_3\",\n",
    "        \"timestamp_Minute_cos_4\",\n",
    "        \"timestamp_Minute_cos_5\",\n",
    "        \"timestamp_Is_quarter_end\",\n",
    "        \"timestamp_Is_quarter_start\",\n",
    "        \"timestamp_Is_year_end\",\n",
    "        \"timestamp_Is_year_start\",\n",
    "        \"timestamp_Is_month_start\",\n",
    "    ],\n",
    "    categorical_cols=[\n",
    "        \"holidays\",\n",
    "        \"precipType\",\n",
    "        \"icon\",\n",
    "        \"summary\",\n",
    "        \"timestamp_Month\",\n",
    "        \"timestamp_Quarter\",\n",
    "        \"timestamp_WeekDay\",\n",
    "        \"timestamp_Dayofweek\",\n",
    "        \"timestamp_Dayofyear\",\n",
    "        \"timestamp_Hour\",\n",
    "        \"timestamp_Minute\",\n",
    "        \"stdorToU\", \n",
    "        \"Acorn\", \n",
    "        \"Acorn_grouped\", \n",
    "        \"LCLid\"\n",
    "    ],\n",
    "    normalize_continuous_features=True\n",
    ")\n",
    "trainer_config = TrainerConfig(\n",
    "    auto_lr_find=True, # Runs the LRFinder to automatically derive a learning rate\n",
    "    batch_size=1024,\n",
    "    max_epochs=1000,\n",
    "    accelerator=\"auto\"\n",
    ")\n",
    "optimizer_config = OptimizerConfig()"
   ]
  },
  {
   "cell_type": "code",
   "execution_count": 19,
   "id": "34b4c005-2478-4809-8b22-fa1261ed9141",
   "metadata": {},
   "outputs": [],
   "source": [
    "# Making categorical columns as string because PyTorch Tabular currently doenst support categorical dtype\n",
    "train_df[data_config.categorical_cols] = train_df[data_config.categorical_cols].astype(str)\n",
    "test_df[data_config.categorical_cols] = test_df[data_config.categorical_cols].astype(str)"
   ]
  },
  {
   "cell_type": "markdown",
   "id": "a9ba1476-5dff-4973-b794-c7892ae3897a",
   "metadata": {
    "tags": []
   },
   "source": [
    "### FT Transformer Model"
   ]
  },
  {
   "cell_type": "code",
   "execution_count": 20,
   "id": "f020b2d6-bbcf-4eff-9c46-2ae66b18d24c",
   "metadata": {},
   "outputs": [
    {
     "data": {
      "text/html": [
       "<pre style=\"white-space:pre;overflow-x:auto;line-height:normal;font-family:Menlo,'DejaVu Sans Mono',consolas,'Courier New',monospace\"><span style=\"color: #008080; text-decoration-color: #008080; font-weight: bold\">2024</span>-<span style=\"color: #008080; text-decoration-color: #008080; font-weight: bold\">07</span>-<span style=\"color: #008080; text-decoration-color: #008080; font-weight: bold\">05</span> <span style=\"color: #00ff00; text-decoration-color: #00ff00; font-weight: bold\">12:11:21</span>,<span style=\"color: #008080; text-decoration-color: #008080; font-weight: bold\">630</span> - <span style=\"font-weight: bold\">{</span>pytorch_tabular.tabular_model:<span style=\"color: #008080; text-decoration-color: #008080; font-weight: bold\">140</span><span style=\"font-weight: bold\">}</span> - INFO - Experiment Tracking is turned off           \n",
       "</pre>\n"
      ],
      "text/plain": [
       "\u001b[1;36m2024\u001b[0m-\u001b[1;36m07\u001b[0m-\u001b[1;36m05\u001b[0m \u001b[1;92m12:11:21\u001b[0m,\u001b[1;36m630\u001b[0m - \u001b[1m{\u001b[0mpytorch_tabular.tabular_model:\u001b[1;36m140\u001b[0m\u001b[1m}\u001b[0m - INFO - Experiment Tracking is turned off           \n"
      ]
     },
     "metadata": {},
     "output_type": "display_data"
    }
   ],
   "source": [
    "linear_head_config = LinearHeadConfig(\n",
    "    layers=\"32\",\n",
    "    activation=\"ReLU\"\n",
    ")\n",
    "model_config = FTTransformerConfig(\n",
    "    task=\"regression\",\n",
    "    num_attn_blocks=3,\n",
    "    num_heads=4,\n",
    "    transformer_head_dim=64,\n",
    "    attn_dropout=0.2,\n",
    "    ff_dropout=0.1,\n",
    "    learning_rate = 1e-3,\n",
    "    head_config=linear_head_config.__dict__,\n",
    "    metrics=[\"mean_squared_error\"]\n",
    ")\n",
    "tabular_model = TabularModel(\n",
    "    data_config=data_config,\n",
    "    model_config=model_config,\n",
    "    optimizer_config=optimizer_config,\n",
    "    trainer_config=trainer_config,\n",
    ")"
   ]
  },
  {
   "cell_type": "code",
   "execution_count": 21,
   "id": "b08cee3f-9224-48c7-9a4d-154c01e7d79a",
   "metadata": {},
   "outputs": [],
   "source": [
    "# tabular_model = TabularModel.load_from_checkpoint(\"notebooks/Chapter12/ft_transformer_global\")"
   ]
  },
  {
   "cell_type": "markdown",
   "id": "46ca9fcc",
   "metadata": {},
   "source": [
    "Warning - this next block takes a very long time. It can take upwards of 13 hours to run."
   ]
  },
  {
   "cell_type": "code",
   "execution_count": 22,
   "id": "7f1c1600-7f53-4698-af3c-04794b59a494",
   "metadata": {},
   "outputs": [
    {
     "name": "stderr",
     "output_type": "stream",
     "text": [
      "Seed set to 42\n"
     ]
    },
    {
     "data": {
      "text/html": [
       "<pre style=\"white-space:pre;overflow-x:auto;line-height:normal;font-family:Menlo,'DejaVu Sans Mono',consolas,'Courier New',monospace\"><span style=\"color: #008080; text-decoration-color: #008080; font-weight: bold\">2024</span>-<span style=\"color: #008080; text-decoration-color: #008080; font-weight: bold\">07</span>-<span style=\"color: #008080; text-decoration-color: #008080; font-weight: bold\">05</span> <span style=\"color: #00ff00; text-decoration-color: #00ff00; font-weight: bold\">12:11:21</span>,<span style=\"color: #008080; text-decoration-color: #008080; font-weight: bold\">762</span> - <span style=\"font-weight: bold\">{</span>pytorch_tabular.tabular_model:<span style=\"color: #008080; text-decoration-color: #008080; font-weight: bold\">524</span><span style=\"font-weight: bold\">}</span> - INFO - Preparing the DataLoaders                   \n",
       "</pre>\n"
      ],
      "text/plain": [
       "\u001b[1;36m2024\u001b[0m-\u001b[1;36m07\u001b[0m-\u001b[1;36m05\u001b[0m \u001b[1;92m12:11:21\u001b[0m,\u001b[1;36m762\u001b[0m - \u001b[1m{\u001b[0mpytorch_tabular.tabular_model:\u001b[1;36m524\u001b[0m\u001b[1m}\u001b[0m - INFO - Preparing the DataLoaders                   \n"
      ]
     },
     "metadata": {},
     "output_type": "display_data"
    },
    {
     "data": {
      "text/html": [
       "<pre style=\"white-space:pre;overflow-x:auto;line-height:normal;font-family:Menlo,'DejaVu Sans Mono',consolas,'Courier New',monospace\"><span style=\"color: #008080; text-decoration-color: #008080; font-weight: bold\">2024</span>-<span style=\"color: #008080; text-decoration-color: #008080; font-weight: bold\">07</span>-<span style=\"color: #008080; text-decoration-color: #008080; font-weight: bold\">05</span> <span style=\"color: #00ff00; text-decoration-color: #00ff00; font-weight: bold\">12:11:30</span>,<span style=\"color: #008080; text-decoration-color: #008080; font-weight: bold\">935</span> - <span style=\"font-weight: bold\">{</span>pytorch_tabular.tabular_datamodul<span style=\"color: #00ff00; text-decoration-color: #00ff00; font-weight: bold\">e:499</span><span style=\"font-weight: bold\">}</span> - INFO - Setting up the datamodule for          \n",
       "regression task                                                                                                    \n",
       "</pre>\n"
      ],
      "text/plain": [
       "\u001b[1;36m2024\u001b[0m-\u001b[1;36m07\u001b[0m-\u001b[1;36m05\u001b[0m \u001b[1;92m12:11:30\u001b[0m,\u001b[1;36m935\u001b[0m - \u001b[1m{\u001b[0mpytorch_tabular.tabular_datamodul\u001b[1;92me:499\u001b[0m\u001b[1m}\u001b[0m - INFO - Setting up the datamodule for          \n",
       "regression task                                                                                                    \n"
      ]
     },
     "metadata": {},
     "output_type": "display_data"
    },
    {
     "name": "stderr",
     "output_type": "stream",
     "text": [
      "c:\\Users\\tacke\\anaconda3\\envs\\modern_ts_2E\\Lib\\site-packages\\pytorch_tabular\\categorical_encoders.py:67: FutureWarning: A value is trying to be set on a copy of a DataFrame or Series through chained assignment using an inplace method.\n",
      "The behavior will change in pandas 3.0. This inplace method will never work because the intermediate object on which we are setting values always behaves as a copy.\n",
      "\n",
      "For example, when doing 'df[col].method(value, inplace=True)', try using 'df.method({col: value}, inplace=True)' or df[col] = df[col].method(value) instead, to perform the operation inplace on the original object.\n",
      "\n",
      "\n",
      "  X_encoded[col].fillna(self._imputed, inplace=True)\n",
      "c:\\Users\\tacke\\anaconda3\\envs\\modern_ts_2E\\Lib\\site-packages\\pytorch_tabular\\categorical_encoders.py:67: FutureWarning: A value is trying to be set on a copy of a DataFrame or Series through chained assignment using an inplace method.\n",
      "The behavior will change in pandas 3.0. This inplace method will never work because the intermediate object on which we are setting values always behaves as a copy.\n",
      "\n",
      "For example, when doing 'df[col].method(value, inplace=True)', try using 'df.method({col: value}, inplace=True)' or df[col] = df[col].method(value) instead, to perform the operation inplace on the original object.\n",
      "\n",
      "\n",
      "  X_encoded[col].fillna(self._imputed, inplace=True)\n",
      "c:\\Users\\tacke\\anaconda3\\envs\\modern_ts_2E\\Lib\\site-packages\\pytorch_tabular\\categorical_encoders.py:67: FutureWarning: A value is trying to be set on a copy of a DataFrame or Series through chained assignment using an inplace method.\n",
      "The behavior will change in pandas 3.0. This inplace method will never work because the intermediate object on which we are setting values always behaves as a copy.\n",
      "\n",
      "For example, when doing 'df[col].method(value, inplace=True)', try using 'df.method({col: value}, inplace=True)' or df[col] = df[col].method(value) instead, to perform the operation inplace on the original object.\n",
      "\n",
      "\n",
      "  X_encoded[col].fillna(self._imputed, inplace=True)\n",
      "c:\\Users\\tacke\\anaconda3\\envs\\modern_ts_2E\\Lib\\site-packages\\pytorch_tabular\\categorical_encoders.py:67: FutureWarning: A value is trying to be set on a copy of a DataFrame or Series through chained assignment using an inplace method.\n",
      "The behavior will change in pandas 3.0. This inplace method will never work because the intermediate object on which we are setting values always behaves as a copy.\n",
      "\n",
      "For example, when doing 'df[col].method(value, inplace=True)', try using 'df.method({col: value}, inplace=True)' or df[col] = df[col].method(value) instead, to perform the operation inplace on the original object.\n",
      "\n",
      "\n",
      "  X_encoded[col].fillna(self._imputed, inplace=True)\n",
      "c:\\Users\\tacke\\anaconda3\\envs\\modern_ts_2E\\Lib\\site-packages\\pytorch_tabular\\categorical_encoders.py:67: FutureWarning: A value is trying to be set on a copy of a DataFrame or Series through chained assignment using an inplace method.\n",
      "The behavior will change in pandas 3.0. This inplace method will never work because the intermediate object on which we are setting values always behaves as a copy.\n",
      "\n",
      "For example, when doing 'df[col].method(value, inplace=True)', try using 'df.method({col: value}, inplace=True)' or df[col] = df[col].method(value) instead, to perform the operation inplace on the original object.\n",
      "\n",
      "\n",
      "  X_encoded[col].fillna(self._imputed, inplace=True)\n",
      "c:\\Users\\tacke\\anaconda3\\envs\\modern_ts_2E\\Lib\\site-packages\\pytorch_tabular\\categorical_encoders.py:67: FutureWarning: A value is trying to be set on a copy of a DataFrame or Series through chained assignment using an inplace method.\n",
      "The behavior will change in pandas 3.0. This inplace method will never work because the intermediate object on which we are setting values always behaves as a copy.\n",
      "\n",
      "For example, when doing 'df[col].method(value, inplace=True)', try using 'df.method({col: value}, inplace=True)' or df[col] = df[col].method(value) instead, to perform the operation inplace on the original object.\n",
      "\n",
      "\n",
      "  X_encoded[col].fillna(self._imputed, inplace=True)\n",
      "c:\\Users\\tacke\\anaconda3\\envs\\modern_ts_2E\\Lib\\site-packages\\pytorch_tabular\\categorical_encoders.py:67: FutureWarning: A value is trying to be set on a copy of a DataFrame or Series through chained assignment using an inplace method.\n",
      "The behavior will change in pandas 3.0. This inplace method will never work because the intermediate object on which we are setting values always behaves as a copy.\n",
      "\n",
      "For example, when doing 'df[col].method(value, inplace=True)', try using 'df.method({col: value}, inplace=True)' or df[col] = df[col].method(value) instead, to perform the operation inplace on the original object.\n",
      "\n",
      "\n",
      "  X_encoded[col].fillna(self._imputed, inplace=True)\n",
      "c:\\Users\\tacke\\anaconda3\\envs\\modern_ts_2E\\Lib\\site-packages\\pytorch_tabular\\categorical_encoders.py:67: FutureWarning: A value is trying to be set on a copy of a DataFrame or Series through chained assignment using an inplace method.\n",
      "The behavior will change in pandas 3.0. This inplace method will never work because the intermediate object on which we are setting values always behaves as a copy.\n",
      "\n",
      "For example, when doing 'df[col].method(value, inplace=True)', try using 'df.method({col: value}, inplace=True)' or df[col] = df[col].method(value) instead, to perform the operation inplace on the original object.\n",
      "\n",
      "\n",
      "  X_encoded[col].fillna(self._imputed, inplace=True)\n",
      "c:\\Users\\tacke\\anaconda3\\envs\\modern_ts_2E\\Lib\\site-packages\\pytorch_tabular\\categorical_encoders.py:67: FutureWarning: A value is trying to be set on a copy of a DataFrame or Series through chained assignment using an inplace method.\n",
      "The behavior will change in pandas 3.0. This inplace method will never work because the intermediate object on which we are setting values always behaves as a copy.\n",
      "\n",
      "For example, when doing 'df[col].method(value, inplace=True)', try using 'df.method({col: value}, inplace=True)' or df[col] = df[col].method(value) instead, to perform the operation inplace on the original object.\n",
      "\n",
      "\n",
      "  X_encoded[col].fillna(self._imputed, inplace=True)\n",
      "c:\\Users\\tacke\\anaconda3\\envs\\modern_ts_2E\\Lib\\site-packages\\pytorch_tabular\\categorical_encoders.py:67: FutureWarning: A value is trying to be set on a copy of a DataFrame or Series through chained assignment using an inplace method.\n",
      "The behavior will change in pandas 3.0. This inplace method will never work because the intermediate object on which we are setting values always behaves as a copy.\n",
      "\n",
      "For example, when doing 'df[col].method(value, inplace=True)', try using 'df.method({col: value}, inplace=True)' or df[col] = df[col].method(value) instead, to perform the operation inplace on the original object.\n",
      "\n",
      "\n",
      "  X_encoded[col].fillna(self._imputed, inplace=True)\n",
      "c:\\Users\\tacke\\anaconda3\\envs\\modern_ts_2E\\Lib\\site-packages\\pytorch_tabular\\categorical_encoders.py:67: FutureWarning: A value is trying to be set on a copy of a DataFrame or Series through chained assignment using an inplace method.\n",
      "The behavior will change in pandas 3.0. This inplace method will never work because the intermediate object on which we are setting values always behaves as a copy.\n",
      "\n",
      "For example, when doing 'df[col].method(value, inplace=True)', try using 'df.method({col: value}, inplace=True)' or df[col] = df[col].method(value) instead, to perform the operation inplace on the original object.\n",
      "\n",
      "\n",
      "  X_encoded[col].fillna(self._imputed, inplace=True)\n",
      "c:\\Users\\tacke\\anaconda3\\envs\\modern_ts_2E\\Lib\\site-packages\\pytorch_tabular\\categorical_encoders.py:67: FutureWarning: A value is trying to be set on a copy of a DataFrame or Series through chained assignment using an inplace method.\n",
      "The behavior will change in pandas 3.0. This inplace method will never work because the intermediate object on which we are setting values always behaves as a copy.\n",
      "\n",
      "For example, when doing 'df[col].method(value, inplace=True)', try using 'df.method({col: value}, inplace=True)' or df[col] = df[col].method(value) instead, to perform the operation inplace on the original object.\n",
      "\n",
      "\n",
      "  X_encoded[col].fillna(self._imputed, inplace=True)\n",
      "c:\\Users\\tacke\\anaconda3\\envs\\modern_ts_2E\\Lib\\site-packages\\pytorch_tabular\\categorical_encoders.py:67: FutureWarning: A value is trying to be set on a copy of a DataFrame or Series through chained assignment using an inplace method.\n",
      "The behavior will change in pandas 3.0. This inplace method will never work because the intermediate object on which we are setting values always behaves as a copy.\n",
      "\n",
      "For example, when doing 'df[col].method(value, inplace=True)', try using 'df.method({col: value}, inplace=True)' or df[col] = df[col].method(value) instead, to perform the operation inplace on the original object.\n",
      "\n",
      "\n",
      "  X_encoded[col].fillna(self._imputed, inplace=True)\n",
      "c:\\Users\\tacke\\anaconda3\\envs\\modern_ts_2E\\Lib\\site-packages\\pytorch_tabular\\categorical_encoders.py:67: FutureWarning: A value is trying to be set on a copy of a DataFrame or Series through chained assignment using an inplace method.\n",
      "The behavior will change in pandas 3.0. This inplace method will never work because the intermediate object on which we are setting values always behaves as a copy.\n",
      "\n",
      "For example, when doing 'df[col].method(value, inplace=True)', try using 'df.method({col: value}, inplace=True)' or df[col] = df[col].method(value) instead, to perform the operation inplace on the original object.\n",
      "\n",
      "\n",
      "  X_encoded[col].fillna(self._imputed, inplace=True)\n",
      "c:\\Users\\tacke\\anaconda3\\envs\\modern_ts_2E\\Lib\\site-packages\\pytorch_tabular\\categorical_encoders.py:67: FutureWarning: A value is trying to be set on a copy of a DataFrame or Series through chained assignment using an inplace method.\n",
      "The behavior will change in pandas 3.0. This inplace method will never work because the intermediate object on which we are setting values always behaves as a copy.\n",
      "\n",
      "For example, when doing 'df[col].method(value, inplace=True)', try using 'df.method({col: value}, inplace=True)' or df[col] = df[col].method(value) instead, to perform the operation inplace on the original object.\n",
      "\n",
      "\n",
      "  X_encoded[col].fillna(self._imputed, inplace=True)\n",
      "c:\\Users\\tacke\\anaconda3\\envs\\modern_ts_2E\\Lib\\site-packages\\pytorch_tabular\\tabular_datamodule.py:368: FutureWarning: Setting an item of incompatible dtype is deprecated and will raise in a future error of pandas. Value '[0.5633109  0.5633109  0.53018024 ... 0.64613799 0.21212417 0.21212417]' has dtype incompatible with float32, please explicitly cast to a compatible dtype first.\n",
      "  data.loc[:, self.config.continuous_cols] = self.scaler.fit_transform(\n",
      "c:\\Users\\tacke\\anaconda3\\envs\\modern_ts_2E\\Lib\\site-packages\\pytorch_tabular\\tabular_datamodule.py:368: FutureWarning: Setting an item of incompatible dtype is deprecated and will raise in a future error of pandas. Value '[ 0.37094364  0.37094364  0.46718937 ... -0.03542723  0.02873659\n",
      "  0.02873659]' has dtype incompatible with int32, please explicitly cast to a compatible dtype first.\n",
      "  data.loc[:, self.config.continuous_cols] = self.scaler.fit_transform(\n",
      "c:\\Users\\tacke\\anaconda3\\envs\\modern_ts_2E\\Lib\\site-packages\\pytorch_tabular\\tabular_datamodule.py:368: FutureWarning: Setting an item of incompatible dtype is deprecated and will raise in a future error of pandas. Value '[ 0.1238764   0.1238764   0.20018376 ... -0.7820701  -0.63757328\n",
      " -0.63757328]' has dtype incompatible with float32, please explicitly cast to a compatible dtype first.\n",
      "  data.loc[:, self.config.continuous_cols] = self.scaler.fit_transform(\n",
      "c:\\Users\\tacke\\anaconda3\\envs\\modern_ts_2E\\Lib\\site-packages\\pytorch_tabular\\tabular_datamodule.py:368: FutureWarning: Setting an item of incompatible dtype is deprecated and will raise in a future error of pandas. Value '[ 0.6994818   0.6994818   0.70889643 ... -0.52064938 -0.35495255\n",
      " -0.35495255]' has dtype incompatible with float32, please explicitly cast to a compatible dtype first.\n",
      "  data.loc[:, self.config.continuous_cols] = self.scaler.fit_transform(\n",
      "c:\\Users\\tacke\\anaconda3\\envs\\modern_ts_2E\\Lib\\site-packages\\pytorch_tabular\\tabular_datamodule.py:368: FutureWarning: Setting an item of incompatible dtype is deprecated and will raise in a future error of pandas. Value '[-0.60428604 -0.60428604 -0.62575518 ... -1.12156477 -1.14401086\n",
      " -1.14401086]' has dtype incompatible with float32, please explicitly cast to a compatible dtype first.\n",
      "  data.loc[:, self.config.continuous_cols] = self.scaler.fit_transform(\n",
      "c:\\Users\\tacke\\anaconda3\\envs\\modern_ts_2E\\Lib\\site-packages\\pytorch_tabular\\tabular_datamodule.py:368: FutureWarning: Setting an item of incompatible dtype is deprecated and will raise in a future error of pandas. Value '[ 0.2470106   0.2470106   0.31118581 ... -0.95456699 -0.83577464\n",
      " -0.83577464]' has dtype incompatible with float32, please explicitly cast to a compatible dtype first.\n",
      "  data.loc[:, self.config.continuous_cols] = self.scaler.fit_transform(\n",
      "c:\\Users\\tacke\\anaconda3\\envs\\modern_ts_2E\\Lib\\site-packages\\pytorch_tabular\\tabular_datamodule.py:368: FutureWarning: Setting an item of incompatible dtype is deprecated and will raise in a future error of pandas. Value '[1.07563014 1.07563014 1.15737021 ... 0.56475423 0.85084471 0.85084471]' has dtype incompatible with float32, please explicitly cast to a compatible dtype first.\n",
      "  data.loc[:, self.config.continuous_cols] = self.scaler.fit_transform(\n",
      "c:\\Users\\tacke\\anaconda3\\envs\\modern_ts_2E\\Lib\\site-packages\\pytorch_tabular\\tabular_datamodule.py:368: FutureWarning: Setting an item of incompatible dtype is deprecated and will raise in a future error of pandas. Value '[1.05575697 1.05575697 0.84958458 ... 0.64341261 0.64341261 0.64341261]' has dtype incompatible with float32, please explicitly cast to a compatible dtype first.\n",
      "  data.loc[:, self.config.continuous_cols] = self.scaler.fit_transform(\n",
      "c:\\Users\\tacke\\anaconda3\\envs\\modern_ts_2E\\Lib\\site-packages\\pytorch_tabular\\tabular_datamodule.py:368: FutureWarning: Setting an item of incompatible dtype is deprecated and will raise in a future error of pandas. Value '[ 0.1609721   0.1609721  -0.08102022 ...  0.126845   -0.11514737\n",
      " -0.23304108]' has dtype incompatible with float32, please explicitly cast to a compatible dtype first.\n",
      "  data.loc[:, self.config.continuous_cols] = self.scaler.fit_transform(\n",
      "c:\\Users\\tacke\\anaconda3\\envs\\modern_ts_2E\\Lib\\site-packages\\pytorch_tabular\\tabular_datamodule.py:368: FutureWarning: Setting an item of incompatible dtype is deprecated and will raise in a future error of pandas. Value '[ 0.1601869   0.1601869   0.1601869  ...  0.36449022  0.12613638\n",
      " -0.11531297]' has dtype incompatible with float32, please explicitly cast to a compatible dtype first.\n",
      "  data.loc[:, self.config.continuous_cols] = self.scaler.fit_transform(\n",
      "c:\\Users\\tacke\\anaconda3\\envs\\modern_ts_2E\\Lib\\site-packages\\pytorch_tabular\\tabular_datamodule.py:368: FutureWarning: Setting an item of incompatible dtype is deprecated and will raise in a future error of pandas. Value '[0.16027449 0.16027449 0.16027449 ... 0.06116098 0.36469612 0.12620425]' has dtype incompatible with float32, please explicitly cast to a compatible dtype first.\n",
      "  data.loc[:, self.config.continuous_cols] = self.scaler.fit_transform(\n",
      "c:\\Users\\tacke\\anaconda3\\envs\\modern_ts_2E\\Lib\\site-packages\\pytorch_tabular\\tabular_datamodule.py:368: FutureWarning: Setting an item of incompatible dtype is deprecated and will raise in a future error of pandas. Value '[ 0.16082565  0.16082565  0.16082565 ... -0.31054232  0.06159028\n",
      "  0.36549863]' has dtype incompatible with float32, please explicitly cast to a compatible dtype first.\n",
      "  data.loc[:, self.config.continuous_cols] = self.scaler.fit_transform(\n",
      "c:\\Users\\tacke\\anaconda3\\envs\\modern_ts_2E\\Lib\\site-packages\\pytorch_tabular\\tabular_datamodule.py:368: FutureWarning: Setting an item of incompatible dtype is deprecated and will raise in a future error of pandas. Value '[ 0.16074684  0.16074684  0.16074684 ... -0.16492061 -0.31069555\n",
      "  0.0614958 ]' has dtype incompatible with float32, please explicitly cast to a compatible dtype first.\n",
      "  data.loc[:, self.config.continuous_cols] = self.scaler.fit_transform(\n",
      "c:\\Users\\tacke\\anaconda3\\envs\\modern_ts_2E\\Lib\\site-packages\\pytorch_tabular\\tabular_datamodule.py:368: FutureWarning: Setting an item of incompatible dtype is deprecated and will raise in a future error of pandas. Value '[ 0.16096472  0.16096472  0.16096472 ... -0.02826561 -0.15855533\n",
      " -0.09961476]' has dtype incompatible with float32, please explicitly cast to a compatible dtype first.\n",
      "  data.loc[:, self.config.continuous_cols] = self.scaler.fit_transform(\n",
      "c:\\Users\\tacke\\anaconda3\\envs\\modern_ts_2E\\Lib\\site-packages\\pytorch_tabular\\tabular_datamodule.py:368: FutureWarning: Setting an item of incompatible dtype is deprecated and will raise in a future error of pandas. Value '[ 0.16022237  0.16022237  0.16022237 ... -0.31057573 -0.02871635\n",
      " -0.15880528]' has dtype incompatible with float32, please explicitly cast to a compatible dtype first.\n",
      "  data.loc[:, self.config.continuous_cols] = self.scaler.fit_transform(\n",
      "c:\\Users\\tacke\\anaconda3\\envs\\modern_ts_2E\\Lib\\site-packages\\pytorch_tabular\\tabular_datamodule.py:368: FutureWarning: Setting an item of incompatible dtype is deprecated and will raise in a future error of pandas. Value '[ 0.16073864  0.16073864  0.16073864 ...  0.45509655 -0.31023404\n",
      " -0.02827014]' has dtype incompatible with float32, please explicitly cast to a compatible dtype first.\n",
      "  data.loc[:, self.config.continuous_cols] = self.scaler.fit_transform(\n",
      "c:\\Users\\tacke\\anaconda3\\envs\\modern_ts_2E\\Lib\\site-packages\\pytorch_tabular\\tabular_datamodule.py:368: FutureWarning: Setting an item of incompatible dtype is deprecated and will raise in a future error of pandas. Value '[ 0.16044505  0.16044505  0.16044505 ... -0.26664225  0.45445443\n",
      " -0.30996997]' has dtype incompatible with float32, please explicitly cast to a compatible dtype first.\n",
      "  data.loc[:, self.config.continuous_cols] = self.scaler.fit_transform(\n",
      "c:\\Users\\tacke\\anaconda3\\envs\\modern_ts_2E\\Lib\\site-packages\\pytorch_tabular\\tabular_datamodule.py:368: FutureWarning: Setting an item of incompatible dtype is deprecated and will raise in a future error of pandas. Value '[ 0.1606858   0.1606858   0.1606858  ... -0.35671289 -0.26686521\n",
      "  0.4550144 ]' has dtype incompatible with float32, please explicitly cast to a compatible dtype first.\n",
      "  data.loc[:, self.config.continuous_cols] = self.scaler.fit_transform(\n",
      "c:\\Users\\tacke\\anaconda3\\envs\\modern_ts_2E\\Lib\\site-packages\\pytorch_tabular\\tabular_datamodule.py:368: FutureWarning: Setting an item of incompatible dtype is deprecated and will raise in a future error of pandas. Value '[ 0.16134547  0.16134547  0.16134547 ... -0.41128161 -0.52580701\n",
      " -0.42056745]' has dtype incompatible with float32, please explicitly cast to a compatible dtype first.\n",
      "  data.loc[:, self.config.continuous_cols] = self.scaler.fit_transform(\n",
      "c:\\Users\\tacke\\anaconda3\\envs\\modern_ts_2E\\Lib\\site-packages\\pytorch_tabular\\tabular_datamodule.py:368: FutureWarning: Setting an item of incompatible dtype is deprecated and will raise in a future error of pandas. Value '[ 0.16052463  0.16052463  0.16052463 ... -0.44777645 -0.41072258\n",
      " -0.52497201]' has dtype incompatible with float32, please explicitly cast to a compatible dtype first.\n",
      "  data.loc[:, self.config.continuous_cols] = self.scaler.fit_transform(\n",
      "c:\\Users\\tacke\\anaconda3\\envs\\modern_ts_2E\\Lib\\site-packages\\pytorch_tabular\\tabular_datamodule.py:368: FutureWarning: Setting an item of incompatible dtype is deprecated and will raise in a future error of pandas. Value '[ 0.16115107  0.16115107  0.16115107 ... -0.35225908 -0.44813688\n",
      " -0.4110229 ]' has dtype incompatible with float32, please explicitly cast to a compatible dtype first.\n",
      "  data.loc[:, self.config.continuous_cols] = self.scaler.fit_transform(\n",
      "c:\\Users\\tacke\\anaconda3\\envs\\modern_ts_2E\\Lib\\site-packages\\pytorch_tabular\\tabular_datamodule.py:368: FutureWarning: Setting an item of incompatible dtype is deprecated and will raise in a future error of pandas. Value '[ 0.16046844  0.16046844  0.16046844 ...  0.01544503 -0.35174186\n",
      " -0.44739559]' has dtype incompatible with float32, please explicitly cast to a compatible dtype first.\n",
      "  data.loc[:, self.config.continuous_cols] = self.scaler.fit_transform(\n",
      "c:\\Users\\tacke\\anaconda3\\envs\\modern_ts_2E\\Lib\\site-packages\\pytorch_tabular\\tabular_datamodule.py:368: FutureWarning: Setting an item of incompatible dtype is deprecated and will raise in a future error of pandas. Value '[ 0.16054999  0.16054999  0.16054999 ...  0.0988108   0.01546283\n",
      " -0.35188545]' has dtype incompatible with float32, please explicitly cast to a compatible dtype first.\n",
      "  data.loc[:, self.config.continuous_cols] = self.scaler.fit_transform(\n",
      "c:\\Users\\tacke\\anaconda3\\envs\\modern_ts_2E\\Lib\\site-packages\\pytorch_tabular\\tabular_datamodule.py:368: FutureWarning: Setting an item of incompatible dtype is deprecated and will raise in a future error of pandas. Value '[-0.00980368 -0.00980368 -0.00980368 ...  0.20281305  0.13800473\n",
      " -0.08143389]' has dtype incompatible with float32, please explicitly cast to a compatible dtype first.\n",
      "  data.loc[:, self.config.continuous_cols] = self.scaler.fit_transform(\n",
      "c:\\Users\\tacke\\anaconda3\\envs\\modern_ts_2E\\Lib\\site-packages\\pytorch_tabular\\tabular_datamodule.py:368: FutureWarning: Setting an item of incompatible dtype is deprecated and will raise in a future error of pandas. Value '[-0.18596527 -0.18596527 -0.18596527 ... -0.15824031  0.01750113\n",
      " -0.10708087]' has dtype incompatible with float32, please explicitly cast to a compatible dtype first.\n",
      "  data.loc[:, self.config.continuous_cols] = self.scaler.fit_transform(\n",
      "c:\\Users\\tacke\\anaconda3\\envs\\modern_ts_2E\\Lib\\site-packages\\pytorch_tabular\\tabular_datamodule.py:368: FutureWarning: Setting an item of incompatible dtype is deprecated and will raise in a future error of pandas. Value '[-0.10507707 -0.10507707 -0.10507707 ...  0.00302105 -0.00742026\n",
      " -0.02093254]' has dtype incompatible with float32, please explicitly cast to a compatible dtype first.\n",
      "  data.loc[:, self.config.continuous_cols] = self.scaler.fit_transform(\n",
      "c:\\Users\\tacke\\anaconda3\\envs\\modern_ts_2E\\Lib\\site-packages\\pytorch_tabular\\tabular_datamodule.py:368: FutureWarning: Setting an item of incompatible dtype is deprecated and will raise in a future error of pandas. Value '[-0.35186544 -0.35186544 -0.35186544 ... -0.14270119 -0.13510197\n",
      " -0.11458478]' has dtype incompatible with float32, please explicitly cast to a compatible dtype first.\n",
      "  data.loc[:, self.config.continuous_cols] = self.scaler.fit_transform(\n",
      "c:\\Users\\tacke\\anaconda3\\envs\\modern_ts_2E\\Lib\\site-packages\\pytorch_tabular\\tabular_datamodule.py:368: FutureWarning: Setting an item of incompatible dtype is deprecated and will raise in a future error of pandas. Value '[-0.11983785 -0.11983785 -0.11983785 ...  0.39376002  0.32232351\n",
      "  0.24817858]' has dtype incompatible with float32, please explicitly cast to a compatible dtype first.\n",
      "  data.loc[:, self.config.continuous_cols] = self.scaler.fit_transform(\n",
      "c:\\Users\\tacke\\anaconda3\\envs\\modern_ts_2E\\Lib\\site-packages\\pytorch_tabular\\tabular_datamodule.py:368: FutureWarning: Setting an item of incompatible dtype is deprecated and will raise in a future error of pandas. Value '[-0.54098494 -0.54098494 -0.54098494 ...  0.25688248  0.26924979\n",
      "  0.29211299]' has dtype incompatible with float32, please explicitly cast to a compatible dtype first.\n",
      "  data.loc[:, self.config.continuous_cols] = self.scaler.fit_transform(\n",
      "c:\\Users\\tacke\\anaconda3\\envs\\modern_ts_2E\\Lib\\site-packages\\pytorch_tabular\\tabular_datamodule.py:368: FutureWarning: Setting an item of incompatible dtype is deprecated and will raise in a future error of pandas. Value '[0.26481051 0.26481051 0.26481051 ... 0.14722982 0.12787841 0.13050763]' has dtype incompatible with float32, please explicitly cast to a compatible dtype first.\n",
      "  data.loc[:, self.config.continuous_cols] = self.scaler.fit_transform(\n",
      "c:\\Users\\tacke\\anaconda3\\envs\\modern_ts_2E\\Lib\\site-packages\\pytorch_tabular\\tabular_datamodule.py:368: FutureWarning: Setting an item of incompatible dtype is deprecated and will raise in a future error of pandas. Value '[0.35501187 0.35501187 0.35501187 ... 0.36591697 0.36354443 0.36221144]' has dtype incompatible with float32, please explicitly cast to a compatible dtype first.\n",
      "  data.loc[:, self.config.continuous_cols] = self.scaler.fit_transform(\n",
      "c:\\Users\\tacke\\anaconda3\\envs\\modern_ts_2E\\Lib\\site-packages\\pytorch_tabular\\tabular_datamodule.py:368: FutureWarning: Setting an item of incompatible dtype is deprecated and will raise in a future error of pandas. Value '[-0.01794964 -0.01794964 -0.01794964 ...  0.49680495  0.87578807\n",
      " -0.10767739]' has dtype incompatible with float32, please explicitly cast to a compatible dtype first.\n",
      "  data.loc[:, self.config.continuous_cols] = self.scaler.fit_transform(\n",
      "c:\\Users\\tacke\\anaconda3\\envs\\modern_ts_2E\\Lib\\site-packages\\pytorch_tabular\\tabular_datamodule.py:368: FutureWarning: Setting an item of incompatible dtype is deprecated and will raise in a future error of pandas. Value '[-0.28554954 -0.28554954 -0.28554954 ...  0.10942436  1.23058196\n",
      " -0.48056684]' has dtype incompatible with float32, please explicitly cast to a compatible dtype first.\n",
      "  data.loc[:, self.config.continuous_cols] = self.scaler.fit_transform(\n",
      "c:\\Users\\tacke\\anaconda3\\envs\\modern_ts_2E\\Lib\\site-packages\\pytorch_tabular\\tabular_datamodule.py:368: FutureWarning: Setting an item of incompatible dtype is deprecated and will raise in a future error of pandas. Value '[ 0.10153356  0.10153356  0.10153356 ... -0.33674933 -0.43668737\n",
      " -0.41380996]' has dtype incompatible with float32, please explicitly cast to a compatible dtype first.\n",
      "  data.loc[:, self.config.continuous_cols] = self.scaler.fit_transform(\n",
      "c:\\Users\\tacke\\anaconda3\\envs\\modern_ts_2E\\Lib\\site-packages\\pytorch_tabular\\tabular_datamodule.py:368: FutureWarning: Setting an item of incompatible dtype is deprecated and will raise in a future error of pandas. Value '[-0.41181886 -0.41181886 -0.41181886 ... -0.44928571 -0.44442249\n",
      " -0.49951021]' has dtype incompatible with float32, please explicitly cast to a compatible dtype first.\n",
      "  data.loc[:, self.config.continuous_cols] = self.scaler.fit_transform(\n",
      "c:\\Users\\tacke\\anaconda3\\envs\\modern_ts_2E\\Lib\\site-packages\\pytorch_tabular\\tabular_datamodule.py:368: FutureWarning: Setting an item of incompatible dtype is deprecated and will raise in a future error of pandas. Value '[0.3745862  0.37454137 0.37417458 ... 0.06930501 0.06910478 0.06874783]' has dtype incompatible with float32, please explicitly cast to a compatible dtype first.\n",
      "  data.loc[:, self.config.continuous_cols] = self.scaler.fit_transform(\n",
      "c:\\Users\\tacke\\anaconda3\\envs\\modern_ts_2E\\Lib\\site-packages\\pytorch_tabular\\tabular_datamodule.py:368: FutureWarning: Setting an item of incompatible dtype is deprecated and will raise in a future error of pandas. Value '[0.35268583 0.35225354 0.34932575 ... 0.16445546 0.16228945 0.15891794]' has dtype incompatible with float32, please explicitly cast to a compatible dtype first.\n",
      "  data.loc[:, self.config.continuous_cols] = self.scaler.fit_transform(\n",
      "c:\\Users\\tacke\\anaconda3\\envs\\modern_ts_2E\\Lib\\site-packages\\pytorch_tabular\\tabular_datamodule.py:368: FutureWarning: Setting an item of incompatible dtype is deprecated and will raise in a future error of pandas. Value '[0.52102567 0.50984054 0.4837036  ... 0.15293304 0.13912904 0.1181685 ]' has dtype incompatible with float32, please explicitly cast to a compatible dtype first.\n",
      "  data.loc[:, self.config.continuous_cols] = self.scaler.fit_transform(\n",
      "c:\\Users\\tacke\\anaconda3\\envs\\modern_ts_2E\\Lib\\site-packages\\pytorch_tabular\\tabular_datamodule.py:368: FutureWarning: Setting an item of incompatible dtype is deprecated and will raise in a future error of pandas. Value '[-2.26074817 -2.2606355  -2.26052282 ...  1.69237671  1.69248938\n",
      "  1.69260206]' has dtype incompatible with int32, please explicitly cast to a compatible dtype first.\n",
      "  data.loc[:, self.config.continuous_cols] = self.scaler.fit_transform(\n",
      "c:\\Users\\tacke\\anaconda3\\envs\\modern_ts_2E\\Lib\\site-packages\\pytorch_tabular\\tabular_datamodule.py:368: FutureWarning: Setting an item of incompatible dtype is deprecated and will raise in a future error of pandas. Value '[0.91781951 0.91781951 0.91781951 ... 0.18624188 0.18624188 0.18624188]' has dtype incompatible with float32, please explicitly cast to a compatible dtype first.\n",
      "  data.loc[:, self.config.continuous_cols] = self.scaler.fit_transform(\n",
      "c:\\Users\\tacke\\anaconda3\\envs\\modern_ts_2E\\Lib\\site-packages\\pytorch_tabular\\tabular_datamodule.py:368: FutureWarning: Setting an item of incompatible dtype is deprecated and will raise in a future error of pandas. Value '[1.27824425 1.27824425 1.27824425 ... 0.03880492 0.03880492 0.03880492]' has dtype incompatible with float32, please explicitly cast to a compatible dtype first.\n",
      "  data.loc[:, self.config.continuous_cols] = self.scaler.fit_transform(\n",
      "c:\\Users\\tacke\\anaconda3\\envs\\modern_ts_2E\\Lib\\site-packages\\pytorch_tabular\\tabular_datamodule.py:368: FutureWarning: Setting an item of incompatible dtype is deprecated and will raise in a future error of pandas. Value '[1.46470343 1.46470343 1.46470343 ... 0.03761484 0.03761484 0.03761484]' has dtype incompatible with float32, please explicitly cast to a compatible dtype first.\n",
      "  data.loc[:, self.config.continuous_cols] = self.scaler.fit_transform(\n",
      "c:\\Users\\tacke\\anaconda3\\envs\\modern_ts_2E\\Lib\\site-packages\\pytorch_tabular\\tabular_datamodule.py:368: FutureWarning: Setting an item of incompatible dtype is deprecated and will raise in a future error of pandas. Value '[1.25078515 1.25078515 1.25078515 ... 0.01218601 0.01218601 0.01218601]' has dtype incompatible with float32, please explicitly cast to a compatible dtype first.\n",
      "  data.loc[:, self.config.continuous_cols] = self.scaler.fit_transform(\n",
      "c:\\Users\\tacke\\anaconda3\\envs\\modern_ts_2E\\Lib\\site-packages\\pytorch_tabular\\tabular_datamodule.py:368: FutureWarning: Setting an item of incompatible dtype is deprecated and will raise in a future error of pandas. Value '[ 0.70999732  0.70999732  0.70999732 ... -0.00924408 -0.00924408\n",
      " -0.00924408]' has dtype incompatible with float32, please explicitly cast to a compatible dtype first.\n",
      "  data.loc[:, self.config.continuous_cols] = self.scaler.fit_transform(\n",
      "c:\\Users\\tacke\\anaconda3\\envs\\modern_ts_2E\\Lib\\site-packages\\pytorch_tabular\\tabular_datamodule.py:368: FutureWarning: Setting an item of incompatible dtype is deprecated and will raise in a future error of pandas. Value '[1.21849822 1.21849822 1.21849822 ... 1.40489932 1.40489932 1.40489932]' has dtype incompatible with float32, please explicitly cast to a compatible dtype first.\n",
      "  data.loc[:, self.config.continuous_cols] = self.scaler.fit_transform(\n",
      "c:\\Users\\tacke\\anaconda3\\envs\\modern_ts_2E\\Lib\\site-packages\\pytorch_tabular\\tabular_datamodule.py:368: FutureWarning: Setting an item of incompatible dtype is deprecated and will raise in a future error of pandas. Value '[0.65344568 0.65344568 0.65344568 ... 1.35362942 1.35362942 1.35362942]' has dtype incompatible with float32, please explicitly cast to a compatible dtype first.\n",
      "  data.loc[:, self.config.continuous_cols] = self.scaler.fit_transform(\n",
      "c:\\Users\\tacke\\anaconda3\\envs\\modern_ts_2E\\Lib\\site-packages\\pytorch_tabular\\tabular_datamodule.py:368: FutureWarning: Setting an item of incompatible dtype is deprecated and will raise in a future error of pandas. Value '[-0.02904402 -0.02904402 -0.02904402 ...  1.37418588  1.37418588\n",
      "  1.37418588]' has dtype incompatible with float32, please explicitly cast to a compatible dtype first.\n",
      "  data.loc[:, self.config.continuous_cols] = self.scaler.fit_transform(\n",
      "c:\\Users\\tacke\\anaconda3\\envs\\modern_ts_2E\\Lib\\site-packages\\pytorch_tabular\\tabular_datamodule.py:368: FutureWarning: Setting an item of incompatible dtype is deprecated and will raise in a future error of pandas. Value '[-0.73068465 -0.73068465 -0.73068465 ...  1.36857945  1.36857945\n",
      "  1.36857945]' has dtype incompatible with float32, please explicitly cast to a compatible dtype first.\n",
      "  data.loc[:, self.config.continuous_cols] = self.scaler.fit_transform(\n",
      "c:\\Users\\tacke\\anaconda3\\envs\\modern_ts_2E\\Lib\\site-packages\\pytorch_tabular\\tabular_datamodule.py:368: FutureWarning: Setting an item of incompatible dtype is deprecated and will raise in a future error of pandas. Value '[-1.24368844 -1.24368844 -1.24368844 ...  1.3541792   1.3541792\n",
      "  1.3541792 ]' has dtype incompatible with float32, please explicitly cast to a compatible dtype first.\n",
      "  data.loc[:, self.config.continuous_cols] = self.scaler.fit_transform(\n",
      "c:\\Users\\tacke\\anaconda3\\envs\\modern_ts_2E\\Lib\\site-packages\\pytorch_tabular\\tabular_datamodule.py:368: FutureWarning: Setting an item of incompatible dtype is deprecated and will raise in a future error of pandas. Value '[-3.48587979e-06 -3.48587979e-06  3.65953155e-01 ... -7.06977432e-01\n",
      " -3.65960127e-01 -3.65960127e-01]' has dtype incompatible with float32, please explicitly cast to a compatible dtype first.\n",
      "  data.loc[:, self.config.continuous_cols] = self.scaler.fit_transform(\n",
      "c:\\Users\\tacke\\anaconda3\\envs\\modern_ts_2E\\Lib\\site-packages\\pytorch_tabular\\tabular_datamodule.py:368: FutureWarning: Setting an item of incompatible dtype is deprecated and will raise in a future error of pandas. Value '[ 1.80825223e-04  1.80825223e-04  7.07325167e-01 ... -1.22462908e+00\n",
      " -7.06963516e-01 -7.06963516e-01]' has dtype incompatible with float32, please explicitly cast to a compatible dtype first.\n",
      "  data.loc[:, self.config.continuous_cols] = self.scaler.fit_transform(\n",
      "c:\\Users\\tacke\\anaconda3\\envs\\modern_ts_2E\\Lib\\site-packages\\pytorch_tabular\\tabular_datamodule.py:368: FutureWarning: Setting an item of incompatible dtype is deprecated and will raise in a future error of pandas. Value '[ 2.09252457e-04  2.09252457e-04  1.00044764e+00 ... -1.41434147e+00\n",
      " -1.00002914e+00 -1.00002914e+00]' has dtype incompatible with float32, please explicitly cast to a compatible dtype first.\n",
      "  data.loc[:, self.config.continuous_cols] = self.scaler.fit_transform(\n",
      "c:\\Users\\tacke\\anaconda3\\envs\\modern_ts_2E\\Lib\\site-packages\\pytorch_tabular\\tabular_datamodule.py:368: FutureWarning: Setting an item of incompatible dtype is deprecated and will raise in a future error of pandas. Value '[ 1.49484965e-04  1.49484965e-04  1.22499864e+00 ... -1.22469967e+00\n",
      " -1.22469967e+00 -1.22469967e+00]' has dtype incompatible with float32, please explicitly cast to a compatible dtype first.\n",
      "  data.loc[:, self.config.continuous_cols] = self.scaler.fit_transform(\n",
      "c:\\Users\\tacke\\anaconda3\\envs\\modern_ts_2E\\Lib\\site-packages\\pytorch_tabular\\tabular_datamodule.py:368: FutureWarning: Setting an item of incompatible dtype is deprecated and will raise in a future error of pandas. Value '[-3.58182490e-04 -3.58182490e-04  1.36568853e+00 ... -7.07476003e-01\n",
      " -1.36640489e+00 -1.36640489e+00]' has dtype incompatible with float32, please explicitly cast to a compatible dtype first.\n",
      "  data.loc[:, self.config.continuous_cols] = self.scaler.fit_transform(\n",
      "c:\\Users\\tacke\\anaconda3\\envs\\modern_ts_2E\\Lib\\site-packages\\pytorch_tabular\\tabular_datamodule.py:368: FutureWarning: Setting an item of incompatible dtype is deprecated and will raise in a future error of pandas. Value '[1.41448591 1.41448591 1.36628867 ... 1.22498158 1.36628867 1.36628867]' has dtype incompatible with float32, please explicitly cast to a compatible dtype first.\n",
      "  data.loc[:, self.config.continuous_cols] = self.scaler.fit_transform(\n",
      "c:\\Users\\tacke\\anaconda3\\envs\\modern_ts_2E\\Lib\\site-packages\\pytorch_tabular\\tabular_datamodule.py:368: FutureWarning: Setting an item of incompatible dtype is deprecated and will raise in a future error of pandas. Value '[1.4146702  1.4146702  1.22521152 ... 0.70760085 1.22521152 1.22521152]' has dtype incompatible with float32, please explicitly cast to a compatible dtype first.\n",
      "  data.loc[:, self.config.continuous_cols] = self.scaler.fit_transform(\n",
      "c:\\Users\\tacke\\anaconda3\\envs\\modern_ts_2E\\Lib\\site-packages\\pytorch_tabular\\tabular_datamodule.py:368: FutureWarning: Setting an item of incompatible dtype is deprecated and will raise in a future error of pandas. Value '[ 1.41362928e+00  1.41362928e+00  9.99514354e-01 ... -2.47463416e-04\n",
      "  9.99514354e-01  9.99514354e-01]' has dtype incompatible with float32, please explicitly cast to a compatible dtype first.\n",
      "  data.loc[:, self.config.continuous_cols] = self.scaler.fit_transform(\n",
      "c:\\Users\\tacke\\anaconda3\\envs\\modern_ts_2E\\Lib\\site-packages\\pytorch_tabular\\tabular_datamodule.py:368: FutureWarning: Setting an item of incompatible dtype is deprecated and will raise in a future error of pandas. Value '[ 1.41394306  1.41394306  0.70689646 ... -0.70719675  0.70689646\n",
      "  0.70689646]' has dtype incompatible with float32, please explicitly cast to a compatible dtype first.\n",
      "  data.loc[:, self.config.continuous_cols] = self.scaler.fit_transform(\n",
      "c:\\Users\\tacke\\anaconda3\\envs\\modern_ts_2E\\Lib\\site-packages\\pytorch_tabular\\tabular_datamodule.py:368: FutureWarning: Setting an item of incompatible dtype is deprecated and will raise in a future error of pandas. Value '[ 1.41457227  1.41457227  0.3664003  ... -1.22434537  0.3664003\n",
      "  0.3664003 ]' has dtype incompatible with float32, please explicitly cast to a compatible dtype first.\n",
      "  data.loc[:, self.config.continuous_cols] = self.scaler.fit_transform(\n",
      "c:\\Users\\tacke\\anaconda3\\envs\\modern_ts_2E\\Lib\\site-packages\\pytorch_tabular\\tabular_datamodule.py:368: FutureWarning: Setting an item of incompatible dtype is deprecated and will raise in a future error of pandas. Value '[-1.00050478  0.99949548 -1.00050478 ...  0.99949548 -1.00050478\n",
      "  0.99949548]' has dtype incompatible with float32, please explicitly cast to a compatible dtype first.\n",
      "  data.loc[:, self.config.continuous_cols] = self.scaler.fit_transform(\n",
      "c:\\Users\\tacke\\anaconda3\\envs\\modern_ts_2E\\Lib\\site-packages\\pytorch_tabular\\tabular_datamodule.py:368: FutureWarning: Setting an item of incompatible dtype is deprecated and will raise in a future error of pandas. Value '[ 1.00050478 -0.99949548  1.00050478 ... -0.99949548  1.00050478\n",
      " -0.99949548]' has dtype incompatible with float32, please explicitly cast to a compatible dtype first.\n",
      "  data.loc[:, self.config.continuous_cols] = self.scaler.fit_transform(\n",
      "c:\\Users\\tacke\\anaconda3\\envs\\modern_ts_2E\\Lib\\site-packages\\pytorch_tabular\\tabular_datamodule.py:368: FutureWarning: Setting an item of incompatible dtype is deprecated and will raise in a future error of pandas. Value '[-1.00050478  0.99949548 -1.00050478 ...  0.99949548 -1.00050478\n",
      "  0.99949548]' has dtype incompatible with float32, please explicitly cast to a compatible dtype first.\n",
      "  data.loc[:, self.config.continuous_cols] = self.scaler.fit_transform(\n",
      "c:\\Users\\tacke\\anaconda3\\envs\\modern_ts_2E\\Lib\\site-packages\\pytorch_tabular\\tabular_datamodule.py:368: FutureWarning: Setting an item of incompatible dtype is deprecated and will raise in a future error of pandas. Value '[ 1.00050478 -0.99949548  1.00050478 ... -0.99949548  1.00050478\n",
      " -0.99949548]' has dtype incompatible with float32, please explicitly cast to a compatible dtype first.\n",
      "  data.loc[:, self.config.continuous_cols] = self.scaler.fit_transform(\n",
      "c:\\Users\\tacke\\anaconda3\\envs\\modern_ts_2E\\Lib\\site-packages\\pytorch_tabular\\tabular_datamodule.py:368: FutureWarning: Setting an item of incompatible dtype is deprecated and will raise in a future error of pandas. Value '[-1.00050478  0.99949548 -1.00050478 ...  0.99949548 -1.00050478\n",
      "  0.99949548]' has dtype incompatible with float32, please explicitly cast to a compatible dtype first.\n",
      "  data.loc[:, self.config.continuous_cols] = self.scaler.fit_transform(\n",
      "c:\\Users\\tacke\\anaconda3\\envs\\modern_ts_2E\\Lib\\site-packages\\pytorch_tabular\\tabular_datamodule.py:368: FutureWarning: Setting an item of incompatible dtype is deprecated and will raise in a future error of pandas. Value '[ 1.00050478 -0.99949548  1.00050478 ... -0.99949548  1.00050478\n",
      " -0.99949548]' has dtype incompatible with float32, please explicitly cast to a compatible dtype first.\n",
      "  data.loc[:, self.config.continuous_cols] = self.scaler.fit_transform(\n",
      "c:\\Users\\tacke\\anaconda3\\envs\\modern_ts_2E\\Lib\\site-packages\\pytorch_tabular\\tabular_datamodule.py:368: FutureWarning: Setting an item of incompatible dtype is deprecated and will raise in a future error of pandas. Value '[ 1.00050478 -0.99949548  1.00050478 ... -0.99949548  1.00050478\n",
      " -0.99949548]' has dtype incompatible with float32, please explicitly cast to a compatible dtype first.\n",
      "  data.loc[:, self.config.continuous_cols] = self.scaler.fit_transform(\n",
      "c:\\Users\\tacke\\anaconda3\\envs\\modern_ts_2E\\Lib\\site-packages\\pytorch_tabular\\tabular_datamodule.py:368: FutureWarning: Setting an item of incompatible dtype is deprecated and will raise in a future error of pandas. Value '[ 1.00050478 -0.99949548  1.00050478 ... -0.99949548  1.00050478\n",
      " -0.99949548]' has dtype incompatible with float32, please explicitly cast to a compatible dtype first.\n",
      "  data.loc[:, self.config.continuous_cols] = self.scaler.fit_transform(\n",
      "c:\\Users\\tacke\\anaconda3\\envs\\modern_ts_2E\\Lib\\site-packages\\pytorch_tabular\\tabular_datamodule.py:368: FutureWarning: Setting an item of incompatible dtype is deprecated and will raise in a future error of pandas. Value '[-0.10850169 -0.10850169 -0.10850169 ...  9.21644664  9.21644664\n",
      "  9.21644664]' has dtype incompatible with int32, please explicitly cast to a compatible dtype first.\n",
      "  data.loc[:, self.config.continuous_cols] = self.scaler.fit_transform(\n",
      "c:\\Users\\tacke\\anaconda3\\envs\\modern_ts_2E\\Lib\\site-packages\\pytorch_tabular\\tabular_datamodule.py:368: FutureWarning: Setting an item of incompatible dtype is deprecated and will raise in a future error of pandas. Value '[ 9.81541553  9.81541553  9.81541553 ... -0.10188056 -0.10188056\n",
      " -0.10188056]' has dtype incompatible with int32, please explicitly cast to a compatible dtype first.\n",
      "  data.loc[:, self.config.continuous_cols] = self.scaler.fit_transform(\n",
      "c:\\Users\\tacke\\anaconda3\\envs\\modern_ts_2E\\Lib\\site-packages\\pytorch_tabular\\tabular_datamodule.py:368: FutureWarning: Setting an item of incompatible dtype is deprecated and will raise in a future error of pandas. Value '[-0.05709106 -0.05709106 -0.05709106 ... 17.51587774 17.51587774\n",
      " 17.51587774]' has dtype incompatible with int32, please explicitly cast to a compatible dtype first.\n",
      "  data.loc[:, self.config.continuous_cols] = self.scaler.fit_transform(\n",
      "c:\\Users\\tacke\\anaconda3\\envs\\modern_ts_2E\\Lib\\site-packages\\pytorch_tabular\\tabular_datamodule.py:368: FutureWarning: Setting an item of incompatible dtype is deprecated and will raise in a future error of pandas. Value '[23.24224136 23.24224136 23.24224136 ... -0.04302511 -0.04302511\n",
      " -0.04302511]' has dtype incompatible with int32, please explicitly cast to a compatible dtype first.\n",
      "  data.loc[:, self.config.continuous_cols] = self.scaler.fit_transform(\n",
      "c:\\Users\\tacke\\anaconda3\\envs\\modern_ts_2E\\Lib\\site-packages\\pytorch_tabular\\tabular_datamodule.py:368: FutureWarning: Setting an item of incompatible dtype is deprecated and will raise in a future error of pandas. Value '[ 5.48646586  5.48646586  5.48646586 ... -0.1822667  -0.1822667\n",
      " -0.1822667 ]' has dtype incompatible with int32, please explicitly cast to a compatible dtype first.\n",
      "  data.loc[:, self.config.continuous_cols] = self.scaler.fit_transform(\n",
      "c:\\Users\\tacke\\anaconda3\\envs\\modern_ts_2E\\Lib\\site-packages\\pytorch_tabular\\categorical_encoders.py:67: FutureWarning: A value is trying to be set on a copy of a DataFrame or Series through chained assignment using an inplace method.\n",
      "The behavior will change in pandas 3.0. This inplace method will never work because the intermediate object on which we are setting values always behaves as a copy.\n",
      "\n",
      "For example, when doing 'df[col].method(value, inplace=True)', try using 'df.method({col: value}, inplace=True)' or df[col] = df[col].method(value) instead, to perform the operation inplace on the original object.\n",
      "\n",
      "\n",
      "  X_encoded[col].fillna(self._imputed, inplace=True)\n",
      "c:\\Users\\tacke\\anaconda3\\envs\\modern_ts_2E\\Lib\\site-packages\\pytorch_tabular\\categorical_encoders.py:67: FutureWarning: A value is trying to be set on a copy of a DataFrame or Series through chained assignment using an inplace method.\n",
      "The behavior will change in pandas 3.0. This inplace method will never work because the intermediate object on which we are setting values always behaves as a copy.\n",
      "\n",
      "For example, when doing 'df[col].method(value, inplace=True)', try using 'df.method({col: value}, inplace=True)' or df[col] = df[col].method(value) instead, to perform the operation inplace on the original object.\n",
      "\n",
      "\n",
      "  X_encoded[col].fillna(self._imputed, inplace=True)\n",
      "c:\\Users\\tacke\\anaconda3\\envs\\modern_ts_2E\\Lib\\site-packages\\pytorch_tabular\\categorical_encoders.py:67: FutureWarning: A value is trying to be set on a copy of a DataFrame or Series through chained assignment using an inplace method.\n",
      "The behavior will change in pandas 3.0. This inplace method will never work because the intermediate object on which we are setting values always behaves as a copy.\n",
      "\n",
      "For example, when doing 'df[col].method(value, inplace=True)', try using 'df.method({col: value}, inplace=True)' or df[col] = df[col].method(value) instead, to perform the operation inplace on the original object.\n",
      "\n",
      "\n",
      "  X_encoded[col].fillna(self._imputed, inplace=True)\n",
      "c:\\Users\\tacke\\anaconda3\\envs\\modern_ts_2E\\Lib\\site-packages\\pytorch_tabular\\categorical_encoders.py:67: FutureWarning: A value is trying to be set on a copy of a DataFrame or Series through chained assignment using an inplace method.\n",
      "The behavior will change in pandas 3.0. This inplace method will never work because the intermediate object on which we are setting values always behaves as a copy.\n",
      "\n",
      "For example, when doing 'df[col].method(value, inplace=True)', try using 'df.method({col: value}, inplace=True)' or df[col] = df[col].method(value) instead, to perform the operation inplace on the original object.\n",
      "\n",
      "\n",
      "  X_encoded[col].fillna(self._imputed, inplace=True)\n",
      "c:\\Users\\tacke\\anaconda3\\envs\\modern_ts_2E\\Lib\\site-packages\\pytorch_tabular\\categorical_encoders.py:67: FutureWarning: A value is trying to be set on a copy of a DataFrame or Series through chained assignment using an inplace method.\n",
      "The behavior will change in pandas 3.0. This inplace method will never work because the intermediate object on which we are setting values always behaves as a copy.\n",
      "\n",
      "For example, when doing 'df[col].method(value, inplace=True)', try using 'df.method({col: value}, inplace=True)' or df[col] = df[col].method(value) instead, to perform the operation inplace on the original object.\n",
      "\n",
      "\n",
      "  X_encoded[col].fillna(self._imputed, inplace=True)\n",
      "c:\\Users\\tacke\\anaconda3\\envs\\modern_ts_2E\\Lib\\site-packages\\pytorch_tabular\\categorical_encoders.py:67: FutureWarning: A value is trying to be set on a copy of a DataFrame or Series through chained assignment using an inplace method.\n",
      "The behavior will change in pandas 3.0. This inplace method will never work because the intermediate object on which we are setting values always behaves as a copy.\n",
      "\n",
      "For example, when doing 'df[col].method(value, inplace=True)', try using 'df.method({col: value}, inplace=True)' or df[col] = df[col].method(value) instead, to perform the operation inplace on the original object.\n",
      "\n",
      "\n",
      "  X_encoded[col].fillna(self._imputed, inplace=True)\n",
      "c:\\Users\\tacke\\anaconda3\\envs\\modern_ts_2E\\Lib\\site-packages\\pytorch_tabular\\categorical_encoders.py:67: FutureWarning: A value is trying to be set on a copy of a DataFrame or Series through chained assignment using an inplace method.\n",
      "The behavior will change in pandas 3.0. This inplace method will never work because the intermediate object on which we are setting values always behaves as a copy.\n",
      "\n",
      "For example, when doing 'df[col].method(value, inplace=True)', try using 'df.method({col: value}, inplace=True)' or df[col] = df[col].method(value) instead, to perform the operation inplace on the original object.\n",
      "\n",
      "\n",
      "  X_encoded[col].fillna(self._imputed, inplace=True)\n",
      "c:\\Users\\tacke\\anaconda3\\envs\\modern_ts_2E\\Lib\\site-packages\\pytorch_tabular\\categorical_encoders.py:67: FutureWarning: A value is trying to be set on a copy of a DataFrame or Series through chained assignment using an inplace method.\n",
      "The behavior will change in pandas 3.0. This inplace method will never work because the intermediate object on which we are setting values always behaves as a copy.\n",
      "\n",
      "For example, when doing 'df[col].method(value, inplace=True)', try using 'df.method({col: value}, inplace=True)' or df[col] = df[col].method(value) instead, to perform the operation inplace on the original object.\n",
      "\n",
      "\n",
      "  X_encoded[col].fillna(self._imputed, inplace=True)\n",
      "c:\\Users\\tacke\\anaconda3\\envs\\modern_ts_2E\\Lib\\site-packages\\pytorch_tabular\\categorical_encoders.py:67: FutureWarning: A value is trying to be set on a copy of a DataFrame or Series through chained assignment using an inplace method.\n",
      "The behavior will change in pandas 3.0. This inplace method will never work because the intermediate object on which we are setting values always behaves as a copy.\n",
      "\n",
      "For example, when doing 'df[col].method(value, inplace=True)', try using 'df.method({col: value}, inplace=True)' or df[col] = df[col].method(value) instead, to perform the operation inplace on the original object.\n",
      "\n",
      "\n",
      "  X_encoded[col].fillna(self._imputed, inplace=True)\n",
      "c:\\Users\\tacke\\anaconda3\\envs\\modern_ts_2E\\Lib\\site-packages\\pytorch_tabular\\categorical_encoders.py:67: FutureWarning: A value is trying to be set on a copy of a DataFrame or Series through chained assignment using an inplace method.\n",
      "The behavior will change in pandas 3.0. This inplace method will never work because the intermediate object on which we are setting values always behaves as a copy.\n",
      "\n",
      "For example, when doing 'df[col].method(value, inplace=True)', try using 'df.method({col: value}, inplace=True)' or df[col] = df[col].method(value) instead, to perform the operation inplace on the original object.\n",
      "\n",
      "\n",
      "  X_encoded[col].fillna(self._imputed, inplace=True)\n",
      "c:\\Users\\tacke\\anaconda3\\envs\\modern_ts_2E\\Lib\\site-packages\\pytorch_tabular\\categorical_encoders.py:67: FutureWarning: A value is trying to be set on a copy of a DataFrame or Series through chained assignment using an inplace method.\n",
      "The behavior will change in pandas 3.0. This inplace method will never work because the intermediate object on which we are setting values always behaves as a copy.\n",
      "\n",
      "For example, when doing 'df[col].method(value, inplace=True)', try using 'df.method({col: value}, inplace=True)' or df[col] = df[col].method(value) instead, to perform the operation inplace on the original object.\n",
      "\n",
      "\n",
      "  X_encoded[col].fillna(self._imputed, inplace=True)\n",
      "c:\\Users\\tacke\\anaconda3\\envs\\modern_ts_2E\\Lib\\site-packages\\pytorch_tabular\\categorical_encoders.py:67: FutureWarning: A value is trying to be set on a copy of a DataFrame or Series through chained assignment using an inplace method.\n",
      "The behavior will change in pandas 3.0. This inplace method will never work because the intermediate object on which we are setting values always behaves as a copy.\n",
      "\n",
      "For example, when doing 'df[col].method(value, inplace=True)', try using 'df.method({col: value}, inplace=True)' or df[col] = df[col].method(value) instead, to perform the operation inplace on the original object.\n",
      "\n",
      "\n",
      "  X_encoded[col].fillna(self._imputed, inplace=True)\n",
      "c:\\Users\\tacke\\anaconda3\\envs\\modern_ts_2E\\Lib\\site-packages\\pytorch_tabular\\categorical_encoders.py:67: FutureWarning: A value is trying to be set on a copy of a DataFrame or Series through chained assignment using an inplace method.\n",
      "The behavior will change in pandas 3.0. This inplace method will never work because the intermediate object on which we are setting values always behaves as a copy.\n",
      "\n",
      "For example, when doing 'df[col].method(value, inplace=True)', try using 'df.method({col: value}, inplace=True)' or df[col] = df[col].method(value) instead, to perform the operation inplace on the original object.\n",
      "\n",
      "\n",
      "  X_encoded[col].fillna(self._imputed, inplace=True)\n",
      "c:\\Users\\tacke\\anaconda3\\envs\\modern_ts_2E\\Lib\\site-packages\\pytorch_tabular\\categorical_encoders.py:67: FutureWarning: A value is trying to be set on a copy of a DataFrame or Series through chained assignment using an inplace method.\n",
      "The behavior will change in pandas 3.0. This inplace method will never work because the intermediate object on which we are setting values always behaves as a copy.\n",
      "\n",
      "For example, when doing 'df[col].method(value, inplace=True)', try using 'df.method({col: value}, inplace=True)' or df[col] = df[col].method(value) instead, to perform the operation inplace on the original object.\n",
      "\n",
      "\n",
      "  X_encoded[col].fillna(self._imputed, inplace=True)\n",
      "c:\\Users\\tacke\\anaconda3\\envs\\modern_ts_2E\\Lib\\site-packages\\pytorch_tabular\\categorical_encoders.py:67: FutureWarning: A value is trying to be set on a copy of a DataFrame or Series through chained assignment using an inplace method.\n",
      "The behavior will change in pandas 3.0. This inplace method will never work because the intermediate object on which we are setting values always behaves as a copy.\n",
      "\n",
      "For example, when doing 'df[col].method(value, inplace=True)', try using 'df.method({col: value}, inplace=True)' or df[col] = df[col].method(value) instead, to perform the operation inplace on the original object.\n",
      "\n",
      "\n",
      "  X_encoded[col].fillna(self._imputed, inplace=True)\n",
      "c:\\Users\\tacke\\anaconda3\\envs\\modern_ts_2E\\Lib\\site-packages\\pytorch_tabular\\tabular_datamodule.py:372: FutureWarning: Setting an item of incompatible dtype is deprecated and will raise in a future error of pandas. Value '[ 0.53018024  0.68589496  0.14586224 ...  0.27838579 -0.07280126\n",
      "  1.07352582]' has dtype incompatible with float32, please explicitly cast to a compatible dtype first.\n",
      "  data.loc[:, self.config.continuous_cols] = self.scaler.transform(data.loc[:, self.config.continuous_cols])\n",
      "c:\\Users\\tacke\\anaconda3\\envs\\modern_ts_2E\\Lib\\site-packages\\pytorch_tabular\\tabular_datamodule.py:372: FutureWarning: Setting an item of incompatible dtype is deprecated and will raise in a future error of pandas. Value '[ 0.46718937  0.32816776  0.23192203 ... -0.18514281  0.1356763\n",
      " -0.02473326]' has dtype incompatible with int32, please explicitly cast to a compatible dtype first.\n",
      "  data.loc[:, self.config.continuous_cols] = self.scaler.transform(data.loc[:, self.config.continuous_cols])\n",
      "c:\\Users\\tacke\\anaconda3\\envs\\modern_ts_2E\\Lib\\site-packages\\pytorch_tabular\\tabular_datamodule.py:372: FutureWarning: Setting an item of incompatible dtype is deprecated and will raise in a future error of pandas. Value '[ 0.20018376  0.1027701   0.10764089 ... -0.16836444 -0.70413921\n",
      " -0.80967063]' has dtype incompatible with float32, please explicitly cast to a compatible dtype first.\n",
      "  data.loc[:, self.config.continuous_cols] = self.scaler.transform(data.loc[:, self.config.continuous_cols])\n",
      "c:\\Users\\tacke\\anaconda3\\envs\\modern_ts_2E\\Lib\\site-packages\\pytorch_tabular\\tabular_datamodule.py:372: FutureWarning: Setting an item of incompatible dtype is deprecated and will raise in a future error of pandas. Value '[ 0.70889643  0.66747217  0.48859496 ...  0.02351408 -0.33800625\n",
      " -0.73341913]' has dtype incompatible with float32, please explicitly cast to a compatible dtype first.\n",
      "  data.loc[:, self.config.continuous_cols] = self.scaler.transform(data.loc[:, self.config.continuous_cols])\n",
      "c:\\Users\\tacke\\anaconda3\\envs\\modern_ts_2E\\Lib\\site-packages\\pytorch_tabular\\tabular_datamodule.py:372: FutureWarning: Setting an item of incompatible dtype is deprecated and will raise in a future error of pandas. Value '[-0.62575518 -0.66772246 -0.73018788 ... -1.17036476 -1.19476476\n",
      " -1.11570901]' has dtype incompatible with float32, please explicitly cast to a compatible dtype first.\n",
      "  data.loc[:, self.config.continuous_cols] = self.scaler.transform(data.loc[:, self.config.continuous_cols])\n",
      "c:\\Users\\tacke\\anaconda3\\envs\\modern_ts_2E\\Lib\\site-packages\\pytorch_tabular\\tabular_datamodule.py:372: FutureWarning: Setting an item of incompatible dtype is deprecated and will raise in a future error of pandas. Value '[ 0.31118581  0.22926001  0.23335639 ...  0.00123334 -0.79208089\n",
      " -0.89994982]' has dtype incompatible with float32, please explicitly cast to a compatible dtype first.\n",
      "  data.loc[:, self.config.continuous_cols] = self.scaler.transform(data.loc[:, self.config.continuous_cols])\n",
      "c:\\Users\\tacke\\anaconda3\\envs\\modern_ts_2E\\Lib\\site-packages\\pytorch_tabular\\tabular_datamodule.py:372: FutureWarning: Setting an item of incompatible dtype is deprecated and will raise in a future error of pandas. Value '[ 1.15737021  0.53921034  0.96323731 ...  1.75509506 -0.05851439\n",
      " -0.04829688]' has dtype incompatible with float32, please explicitly cast to a compatible dtype first.\n",
      "  data.loc[:, self.config.continuous_cols] = self.scaler.transform(data.loc[:, self.config.continuous_cols])\n",
      "c:\\Users\\tacke\\anaconda3\\envs\\modern_ts_2E\\Lib\\site-packages\\pytorch_tabular\\tabular_datamodule.py:372: FutureWarning: Setting an item of incompatible dtype is deprecated and will raise in a future error of pandas. Value '[0.84958458 0.98703297 0.64341261 ... 0.29979225 0.84958458 0.23106826]' has dtype incompatible with float32, please explicitly cast to a compatible dtype first.\n",
      "  data.loc[:, self.config.continuous_cols] = self.scaler.transform(data.loc[:, self.config.continuous_cols])\n",
      "c:\\Users\\tacke\\anaconda3\\envs\\modern_ts_2E\\Lib\\site-packages\\pytorch_tabular\\tabular_datamodule.py:372: FutureWarning: Setting an item of incompatible dtype is deprecated and will raise in a future error of pandas. Value '[-0.10583995 -0.10273748 -0.16168436 ... -0.53398025 -0.18960656\n",
      "  1.22511797]' has dtype incompatible with float32, please explicitly cast to a compatible dtype first.\n",
      "  data.loc[:, self.config.continuous_cols] = self.scaler.transform(data.loc[:, self.config.continuous_cols])\n",
      "c:\\Users\\tacke\\anaconda3\\envs\\modern_ts_2E\\Lib\\site-packages\\pytorch_tabular\\tabular_datamodule.py:372: FutureWarning: Setting an item of incompatible dtype is deprecated and will raise in a future error of pandas. Value '[-0.0812624  -0.14626798 -0.19270054 ...  0.07970382 -0.44034089\n",
      "  0.44497331]' has dtype incompatible with float32, please explicitly cast to a compatible dtype first.\n",
      "  data.loc[:, self.config.continuous_cols] = self.scaler.transform(data.loc[:, self.config.continuous_cols])\n",
      "c:\\Users\\tacke\\anaconda3\\envs\\modern_ts_2E\\Lib\\site-packages\\pytorch_tabular\\tabular_datamodule.py:372: FutureWarning: Setting an item of incompatible dtype is deprecated and will raise in a future error of pandas. Value '[ 0.16027449 -0.06273086 -0.18662275 ... -0.42511456 -0.56139563\n",
      "  0.53814471]' has dtype incompatible with float32, please explicitly cast to a compatible dtype first.\n",
      "  data.loc[:, self.config.continuous_cols] = self.scaler.transform(data.loc[:, self.config.continuous_cols])\n",
      "c:\\Users\\tacke\\anaconda3\\envs\\modern_ts_2E\\Lib\\site-packages\\pytorch_tabular\\tabular_datamodule.py:372: FutureWarning: Setting an item of incompatible dtype is deprecated and will raise in a future error of pandas. Value '[ 0.16082565 -0.13377932 -0.17719479 ... -0.54312519  1.4167732\n",
      "  0.09570245]' has dtype incompatible with float32, please explicitly cast to a compatible dtype first.\n",
      "  data.loc[:, self.config.continuous_cols] = self.scaler.transform(data.loc[:, self.config.continuous_cols])\n",
      "c:\\Users\\tacke\\anaconda3\\envs\\modern_ts_2E\\Lib\\site-packages\\pytorch_tabular\\tabular_datamodule.py:372: FutureWarning: Setting an item of incompatible dtype is deprecated and will raise in a future error of pandas. Value '[ 0.16074684  0.05529264 -0.20213973 ... -0.35101627  1.53475324\n",
      "  0.17935645]' has dtype incompatible with float32, please explicitly cast to a compatible dtype first.\n",
      "  data.loc[:, self.config.continuous_cols] = self.scaler.transform(data.loc[:, self.config.continuous_cols])\n",
      "c:\\Users\\tacke\\anaconda3\\envs\\modern_ts_2E\\Lib\\site-packages\\pytorch_tabular\\tabular_datamodule.py:372: FutureWarning: Setting an item of incompatible dtype is deprecated and will raise in a future error of pandas. Value '[ 0.16096472  0.16096472  0.16096472 ... -0.4873818  -0.36329634\n",
      " -0.29815148]' has dtype incompatible with float32, please explicitly cast to a compatible dtype first.\n",
      "  data.loc[:, self.config.continuous_cols] = self.scaler.transform(data.loc[:, self.config.continuous_cols])\n",
      "c:\\Users\\tacke\\anaconda3\\envs\\modern_ts_2E\\Lib\\site-packages\\pytorch_tabular\\tabular_datamodule.py:372: FutureWarning: Setting an item of incompatible dtype is deprecated and will raise in a future error of pandas. Value '[ 0.16022237  0.16022237  0.16022237 ... -0.49022236 -0.53668269\n",
      " -0.19287617]' has dtype incompatible with float32, please explicitly cast to a compatible dtype first.\n",
      "  data.loc[:, self.config.continuous_cols] = self.scaler.transform(data.loc[:, self.config.continuous_cols])\n",
      "c:\\Users\\tacke\\anaconda3\\envs\\modern_ts_2E\\Lib\\site-packages\\pytorch_tabular\\tabular_datamodule.py:372: FutureWarning: Setting an item of incompatible dtype is deprecated and will raise in a future error of pandas. Value '[ 0.16073864  0.16073864  0.16073864 ... -0.55501588  0.42101298\n",
      " -0.21727888]' has dtype incompatible with float32, please explicitly cast to a compatible dtype first.\n",
      "  data.loc[:, self.config.continuous_cols] = self.scaler.transform(data.loc[:, self.config.continuous_cols])\n",
      "c:\\Users\\tacke\\anaconda3\\envs\\modern_ts_2E\\Lib\\site-packages\\pytorch_tabular\\tabular_datamodule.py:372: FutureWarning: Setting an item of incompatible dtype is deprecated and will raise in a future error of pandas. Value '[ 0.16044505  0.16044505  0.16044505 ... -0.4368582  -0.52351362\n",
      " -0.38424601]' has dtype incompatible with float32, please explicitly cast to a compatible dtype first.\n",
      "  data.loc[:, self.config.continuous_cols] = self.scaler.transform(data.loc[:, self.config.continuous_cols])\n",
      "c:\\Users\\tacke\\anaconda3\\envs\\modern_ts_2E\\Lib\\site-packages\\pytorch_tabular\\tabular_datamodule.py:372: FutureWarning: Setting an item of incompatible dtype is deprecated and will raise in a future error of pandas. Value '[ 0.1606858   0.1606858   0.1606858  ...  0.12660567  0.43952344\n",
      " -0.41557861]' has dtype incompatible with float32, please explicitly cast to a compatible dtype first.\n",
      "  data.loc[:, self.config.continuous_cols] = self.scaler.transform(data.loc[:, self.config.continuous_cols])\n",
      "c:\\Users\\tacke\\anaconda3\\envs\\modern_ts_2E\\Lib\\site-packages\\pytorch_tabular\\tabular_datamodule.py:372: FutureWarning: Setting an item of incompatible dtype is deprecated and will raise in a future error of pandas. Value '[ 0.16134547  0.16134547  0.16134547 ... -0.48247308  0.0096767\n",
      "  0.00658141]' has dtype incompatible with float32, please explicitly cast to a compatible dtype first.\n",
      "  data.loc[:, self.config.continuous_cols] = self.scaler.transform(data.loc[:, self.config.continuous_cols])\n",
      "c:\\Users\\tacke\\anaconda3\\envs\\modern_ts_2E\\Lib\\site-packages\\pytorch_tabular\\tabular_datamodule.py:372: FutureWarning: Setting an item of incompatible dtype is deprecated and will raise in a future error of pandas. Value '[ 0.16052463  0.16052463  0.16052463 ... -0.42924951  0.87689949\n",
      "  0.18831505]' has dtype incompatible with float32, please explicitly cast to a compatible dtype first.\n",
      "  data.loc[:, self.config.continuous_cols] = self.scaler.transform(data.loc[:, self.config.continuous_cols])\n",
      "c:\\Users\\tacke\\anaconda3\\envs\\modern_ts_2E\\Lib\\site-packages\\pytorch_tabular\\tabular_datamodule.py:372: FutureWarning: Setting an item of incompatible dtype is deprecated and will raise in a future error of pandas. Value '[ 0.16115107  0.16115107  0.16115107 ... -0.3831874   2.02303617\n",
      "  0.11475859]' has dtype incompatible with float32, please explicitly cast to a compatible dtype first.\n",
      "  data.loc[:, self.config.continuous_cols] = self.scaler.transform(data.loc[:, self.config.continuous_cols])\n",
      "c:\\Users\\tacke\\anaconda3\\envs\\modern_ts_2E\\Lib\\site-packages\\pytorch_tabular\\tabular_datamodule.py:372: FutureWarning: Setting an item of incompatible dtype is deprecated and will raise in a future error of pandas. Value '[ 0.16046844  0.16046844  0.16046844 ... -0.47825162  1.09540652\n",
      "  0.11418438]' has dtype incompatible with float32, please explicitly cast to a compatible dtype first.\n",
      "  data.loc[:, self.config.continuous_cols] = self.scaler.transform(data.loc[:, self.config.continuous_cols])\n",
      "c:\\Users\\tacke\\anaconda3\\envs\\modern_ts_2E\\Lib\\site-packages\\pytorch_tabular\\tabular_datamodule.py:372: FutureWarning: Setting an item of incompatible dtype is deprecated and will raise in a future error of pandas. Value '[ 0.16054999  0.16054999  0.16054999 ...  0.24081095 -0.31175496\n",
      "  0.79337694]' has dtype incompatible with float32, please explicitly cast to a compatible dtype first.\n",
      "  data.loc[:, self.config.continuous_cols] = self.scaler.transform(data.loc[:, self.config.continuous_cols])\n",
      "c:\\Users\\tacke\\anaconda3\\envs\\modern_ts_2E\\Lib\\site-packages\\pytorch_tabular\\tabular_datamodule.py:372: FutureWarning: Setting an item of incompatible dtype is deprecated and will raise in a future error of pandas. Value '[-0.00980368 -0.11440653 -0.19854362 ... -0.32247526 -0.43731103\n",
      "  0.80996447]' has dtype incompatible with float32, please explicitly cast to a compatible dtype first.\n",
      "  data.loc[:, self.config.continuous_cols] = self.scaler.transform(data.loc[:, self.config.continuous_cols])\n",
      "c:\\Users\\tacke\\anaconda3\\envs\\modern_ts_2E\\Lib\\site-packages\\pytorch_tabular\\tabular_datamodule.py:372: FutureWarning: Setting an item of incompatible dtype is deprecated and will raise in a future error of pandas. Value '[-0.18596527 -0.4167004  -0.47241327 ...  0.20862749 -0.09300621\n",
      "  0.4217134 ]' has dtype incompatible with float32, please explicitly cast to a compatible dtype first.\n",
      "  data.loc[:, self.config.continuous_cols] = self.scaler.transform(data.loc[:, self.config.continuous_cols])\n",
      "c:\\Users\\tacke\\anaconda3\\envs\\modern_ts_2E\\Lib\\site-packages\\pytorch_tabular\\tabular_datamodule.py:372: FutureWarning: Setting an item of incompatible dtype is deprecated and will raise in a future error of pandas. Value '[-0.10507707 -0.11674679 -0.21378944 ...  0.25238378  0.24255673\n",
      "  0.45998149]' has dtype incompatible with float32, please explicitly cast to a compatible dtype first.\n",
      "  data.loc[:, self.config.continuous_cols] = self.scaler.transform(data.loc[:, self.config.continuous_cols])\n",
      "c:\\Users\\tacke\\anaconda3\\envs\\modern_ts_2E\\Lib\\site-packages\\pytorch_tabular\\tabular_datamodule.py:372: FutureWarning: Setting an item of incompatible dtype is deprecated and will raise in a future error of pandas. Value '[-0.35186544 -0.43764846 -0.57726061 ...  2.17240309  1.35467518\n",
      "  0.33985606]' has dtype incompatible with float32, please explicitly cast to a compatible dtype first.\n",
      "  data.loc[:, self.config.continuous_cols] = self.scaler.transform(data.loc[:, self.config.continuous_cols])\n",
      "c:\\Users\\tacke\\anaconda3\\envs\\modern_ts_2E\\Lib\\site-packages\\pytorch_tabular\\tabular_datamodule.py:372: FutureWarning: Setting an item of incompatible dtype is deprecated and will raise in a future error of pandas. Value '[-0.11983785 -0.11983785 -0.20583248 ...  0.07043369 -0.12423919\n",
      "  0.38732733]' has dtype incompatible with float32, please explicitly cast to a compatible dtype first.\n",
      "  data.loc[:, self.config.continuous_cols] = self.scaler.transform(data.loc[:, self.config.continuous_cols])\n",
      "c:\\Users\\tacke\\anaconda3\\envs\\modern_ts_2E\\Lib\\site-packages\\pytorch_tabular\\tabular_datamodule.py:372: FutureWarning: Setting an item of incompatible dtype is deprecated and will raise in a future error of pandas. Value '[-0.54098494 -0.54098494 -0.65034506 ...  1.31373543  0.65628229\n",
      "  0.64589508]' has dtype incompatible with float32, please explicitly cast to a compatible dtype first.\n",
      "  data.loc[:, self.config.continuous_cols] = self.scaler.transform(data.loc[:, self.config.continuous_cols])\n",
      "c:\\Users\\tacke\\anaconda3\\envs\\modern_ts_2E\\Lib\\site-packages\\pytorch_tabular\\tabular_datamodule.py:372: FutureWarning: Setting an item of incompatible dtype is deprecated and will raise in a future error of pandas. Value '[ 0.26481051  0.26481051  0.26481051 ... -0.11096398 -0.10928129\n",
      "  0.02807154]' has dtype incompatible with float32, please explicitly cast to a compatible dtype first.\n",
      "  data.loc[:, self.config.continuous_cols] = self.scaler.transform(data.loc[:, self.config.continuous_cols])\n",
      "c:\\Users\\tacke\\anaconda3\\envs\\modern_ts_2E\\Lib\\site-packages\\pytorch_tabular\\tabular_datamodule.py:372: FutureWarning: Setting an item of incompatible dtype is deprecated and will raise in a future error of pandas. Value '[0.35501187 0.35501187 0.35501187 ... 0.28600903 0.30496454 0.33365933]' has dtype incompatible with float32, please explicitly cast to a compatible dtype first.\n",
      "  data.loc[:, self.config.continuous_cols] = self.scaler.transform(data.loc[:, self.config.continuous_cols])\n",
      "c:\\Users\\tacke\\anaconda3\\envs\\modern_ts_2E\\Lib\\site-packages\\pytorch_tabular\\tabular_datamodule.py:372: FutureWarning: Setting an item of incompatible dtype is deprecated and will raise in a future error of pandas. Value '[-0.01794964 -0.01794964 -0.01794964 ... -0.56458139  0.77543372\n",
      " -0.32491365]' has dtype incompatible with float32, please explicitly cast to a compatible dtype first.\n",
      "  data.loc[:, self.config.continuous_cols] = self.scaler.transform(data.loc[:, self.config.continuous_cols])\n",
      "c:\\Users\\tacke\\anaconda3\\envs\\modern_ts_2E\\Lib\\site-packages\\pytorch_tabular\\tabular_datamodule.py:372: FutureWarning: Setting an item of incompatible dtype is deprecated and will raise in a future error of pandas. Value '[-0.28554954 -0.28554954 -0.28554954 ... -0.48119392  1.64406341\n",
      " -0.44261175]' has dtype incompatible with float32, please explicitly cast to a compatible dtype first.\n",
      "  data.loc[:, self.config.continuous_cols] = self.scaler.transform(data.loc[:, self.config.continuous_cols])\n",
      "c:\\Users\\tacke\\anaconda3\\envs\\modern_ts_2E\\Lib\\site-packages\\pytorch_tabular\\tabular_datamodule.py:372: FutureWarning: Setting an item of incompatible dtype is deprecated and will raise in a future error of pandas. Value '[ 0.10153356  0.10153356  0.10153356 ... -0.22477046  0.49526562\n",
      " -0.0285064 ]' has dtype incompatible with float32, please explicitly cast to a compatible dtype first.\n",
      "  data.loc[:, self.config.continuous_cols] = self.scaler.transform(data.loc[:, self.config.continuous_cols])\n",
      "c:\\Users\\tacke\\anaconda3\\envs\\modern_ts_2E\\Lib\\site-packages\\pytorch_tabular\\tabular_datamodule.py:372: FutureWarning: Setting an item of incompatible dtype is deprecated and will raise in a future error of pandas. Value '[-0.41181886 -0.41181886 -0.41181886 ... -0.03907698  1.99830005\n",
      " -0.2331155 ]' has dtype incompatible with float32, please explicitly cast to a compatible dtype first.\n",
      "  data.loc[:, self.config.continuous_cols] = self.scaler.transform(data.loc[:, self.config.continuous_cols])\n",
      "c:\\Users\\tacke\\anaconda3\\envs\\modern_ts_2E\\Lib\\site-packages\\pytorch_tabular\\tabular_datamodule.py:372: FutureWarning: Setting an item of incompatible dtype is deprecated and will raise in a future error of pandas. Value '[0.37377501 0.37052743 0.36614122 ... 0.06577826 0.06503902 0.06786603]' has dtype incompatible with float32, please explicitly cast to a compatible dtype first.\n",
      "  data.loc[:, self.config.continuous_cols] = self.scaler.transform(data.loc[:, self.config.continuous_cols])\n",
      "c:\\Users\\tacke\\anaconda3\\envs\\modern_ts_2E\\Lib\\site-packages\\pytorch_tabular\\tabular_datamodule.py:372: FutureWarning: Setting an item of incompatible dtype is deprecated and will raise in a future error of pandas. Value '[0.34615872 0.32103933 0.28840718 ... 0.15009981 0.13985795 0.15886868]' has dtype incompatible with float32, please explicitly cast to a compatible dtype first.\n",
      "  data.loc[:, self.config.continuous_cols] = self.scaler.transform(data.loc[:, self.config.continuous_cols])\n",
      "c:\\Users\\tacke\\anaconda3\\envs\\modern_ts_2E\\Lib\\site-packages\\pytorch_tabular\\tabular_datamodule.py:372: FutureWarning: Setting an item of incompatible dtype is deprecated and will raise in a future error of pandas. Value '[ 0.45700832  0.27725644  0.10231562 ... -0.03593527 -0.03283787\n",
      "  0.1219668 ]' has dtype incompatible with float32, please explicitly cast to a compatible dtype first.\n",
      "  data.loc[:, self.config.continuous_cols] = self.scaler.transform(data.loc[:, self.config.continuous_cols])\n",
      "c:\\Users\\tacke\\anaconda3\\envs\\modern_ts_2E\\Lib\\site-packages\\pytorch_tabular\\tabular_datamodule.py:372: FutureWarning: Setting an item of incompatible dtype is deprecated and will raise in a future error of pandas. Value '[-2.26041015 -2.25950877 -2.25849471 ...  1.68967256  1.69068662\n",
      "  1.69136266]' has dtype incompatible with int32, please explicitly cast to a compatible dtype first.\n",
      "  data.loc[:, self.config.continuous_cols] = self.scaler.transform(data.loc[:, self.config.continuous_cols])\n",
      "c:\\Users\\tacke\\anaconda3\\envs\\modern_ts_2E\\Lib\\site-packages\\pytorch_tabular\\tabular_datamodule.py:372: FutureWarning: Setting an item of incompatible dtype is deprecated and will raise in a future error of pandas. Value '[0.91781951 0.91781951 0.91781951 ... 0.18624188 0.18624188 0.18624188]' has dtype incompatible with float32, please explicitly cast to a compatible dtype first.\n",
      "  data.loc[:, self.config.continuous_cols] = self.scaler.transform(data.loc[:, self.config.continuous_cols])\n",
      "c:\\Users\\tacke\\anaconda3\\envs\\modern_ts_2E\\Lib\\site-packages\\pytorch_tabular\\tabular_datamodule.py:372: FutureWarning: Setting an item of incompatible dtype is deprecated and will raise in a future error of pandas. Value '[1.27824425 1.27824425 1.27824425 ... 0.03880492 0.03880492 0.03880492]' has dtype incompatible with float32, please explicitly cast to a compatible dtype first.\n",
      "  data.loc[:, self.config.continuous_cols] = self.scaler.transform(data.loc[:, self.config.continuous_cols])\n",
      "c:\\Users\\tacke\\anaconda3\\envs\\modern_ts_2E\\Lib\\site-packages\\pytorch_tabular\\tabular_datamodule.py:372: FutureWarning: Setting an item of incompatible dtype is deprecated and will raise in a future error of pandas. Value '[1.46470343 1.46470343 1.46470343 ... 0.03761484 0.03761484 0.03761484]' has dtype incompatible with float32, please explicitly cast to a compatible dtype first.\n",
      "  data.loc[:, self.config.continuous_cols] = self.scaler.transform(data.loc[:, self.config.continuous_cols])\n",
      "c:\\Users\\tacke\\anaconda3\\envs\\modern_ts_2E\\Lib\\site-packages\\pytorch_tabular\\tabular_datamodule.py:372: FutureWarning: Setting an item of incompatible dtype is deprecated and will raise in a future error of pandas. Value '[1.25078515 1.25078515 1.25078515 ... 0.01218601 0.01218601 0.01218601]' has dtype incompatible with float32, please explicitly cast to a compatible dtype first.\n",
      "  data.loc[:, self.config.continuous_cols] = self.scaler.transform(data.loc[:, self.config.continuous_cols])\n",
      "c:\\Users\\tacke\\anaconda3\\envs\\modern_ts_2E\\Lib\\site-packages\\pytorch_tabular\\tabular_datamodule.py:372: FutureWarning: Setting an item of incompatible dtype is deprecated and will raise in a future error of pandas. Value '[ 0.70999732  0.70999732  0.70999732 ... -0.00924408 -0.00924408\n",
      " -0.00924408]' has dtype incompatible with float32, please explicitly cast to a compatible dtype first.\n",
      "  data.loc[:, self.config.continuous_cols] = self.scaler.transform(data.loc[:, self.config.continuous_cols])\n",
      "c:\\Users\\tacke\\anaconda3\\envs\\modern_ts_2E\\Lib\\site-packages\\pytorch_tabular\\tabular_datamodule.py:372: FutureWarning: Setting an item of incompatible dtype is deprecated and will raise in a future error of pandas. Value '[1.21849822 1.21849822 1.21849822 ... 1.40489932 1.40489932 1.40489932]' has dtype incompatible with float32, please explicitly cast to a compatible dtype first.\n",
      "  data.loc[:, self.config.continuous_cols] = self.scaler.transform(data.loc[:, self.config.continuous_cols])\n",
      "c:\\Users\\tacke\\anaconda3\\envs\\modern_ts_2E\\Lib\\site-packages\\pytorch_tabular\\tabular_datamodule.py:372: FutureWarning: Setting an item of incompatible dtype is deprecated and will raise in a future error of pandas. Value '[0.65344568 0.65344568 0.65344568 ... 1.35362942 1.35362942 1.35362942]' has dtype incompatible with float32, please explicitly cast to a compatible dtype first.\n",
      "  data.loc[:, self.config.continuous_cols] = self.scaler.transform(data.loc[:, self.config.continuous_cols])\n",
      "c:\\Users\\tacke\\anaconda3\\envs\\modern_ts_2E\\Lib\\site-packages\\pytorch_tabular\\tabular_datamodule.py:372: FutureWarning: Setting an item of incompatible dtype is deprecated and will raise in a future error of pandas. Value '[-0.02904402 -0.02904402 -0.02904402 ...  1.37418588  1.37418588\n",
      "  1.37418588]' has dtype incompatible with float32, please explicitly cast to a compatible dtype first.\n",
      "  data.loc[:, self.config.continuous_cols] = self.scaler.transform(data.loc[:, self.config.continuous_cols])\n",
      "c:\\Users\\tacke\\anaconda3\\envs\\modern_ts_2E\\Lib\\site-packages\\pytorch_tabular\\tabular_datamodule.py:372: FutureWarning: Setting an item of incompatible dtype is deprecated and will raise in a future error of pandas. Value '[-0.73068465 -0.73068465 -0.73068465 ...  1.36857945  1.36857945\n",
      "  1.36857945]' has dtype incompatible with float32, please explicitly cast to a compatible dtype first.\n",
      "  data.loc[:, self.config.continuous_cols] = self.scaler.transform(data.loc[:, self.config.continuous_cols])\n",
      "c:\\Users\\tacke\\anaconda3\\envs\\modern_ts_2E\\Lib\\site-packages\\pytorch_tabular\\tabular_datamodule.py:372: FutureWarning: Setting an item of incompatible dtype is deprecated and will raise in a future error of pandas. Value '[-1.24368844 -1.24368844 -1.24368844 ...  1.3541792   1.3541792\n",
      "  1.3541792 ]' has dtype incompatible with float32, please explicitly cast to a compatible dtype first.\n",
      "  data.loc[:, self.config.continuous_cols] = self.scaler.transform(data.loc[:, self.config.continuous_cols])\n",
      "c:\\Users\\tacke\\anaconda3\\envs\\modern_ts_2E\\Lib\\site-packages\\pytorch_tabular\\tabular_datamodule.py:372: FutureWarning: Setting an item of incompatible dtype is deprecated and will raise in a future error of pandas. Value '[ 0.36595316  1.36576528  0.70697046 ...  0.70697046 -0.99981561\n",
      " -1.41395138]' has dtype incompatible with float32, please explicitly cast to a compatible dtype first.\n",
      "  data.loc[:, self.config.continuous_cols] = self.scaler.transform(data.loc[:, self.config.continuous_cols])\n",
      "c:\\Users\\tacke\\anaconda3\\envs\\modern_ts_2E\\Lib\\site-packages\\pytorch_tabular\\tabular_datamodule.py:372: FutureWarning: Setting an item of incompatible dtype is deprecated and will raise in a future error of pandas. Value '[ 7.07325167e-01  7.07325167e-01 -1.22462908e+00 ... -1.22462908e+00\n",
      "  1.41446951e+00  1.80825223e-04]' has dtype incompatible with float32, please explicitly cast to a compatible dtype first.\n",
      "  data.loc[:, self.config.continuous_cols] = self.scaler.transform(data.loc[:, self.config.continuous_cols])\n",
      "c:\\Users\\tacke\\anaconda3\\envs\\modern_ts_2E\\Lib\\site-packages\\pytorch_tabular\\tabular_datamodule.py:372: FutureWarning: Setting an item of incompatible dtype is deprecated and will raise in a future error of pandas. Value '[ 1.00044764 -1.00002914  1.41475997 ...  1.41475997 -1.00002914\n",
      "  1.41475997]' has dtype incompatible with float32, please explicitly cast to a compatible dtype first.\n",
      "  data.loc[:, self.config.continuous_cols] = self.scaler.transform(data.loc[:, self.config.continuous_cols])\n",
      "c:\\Users\\tacke\\anaconda3\\envs\\modern_ts_2E\\Lib\\site-packages\\pytorch_tabular\\tabular_datamodule.py:372: FutureWarning: Setting an item of incompatible dtype is deprecated and will raise in a future error of pandas. Value '[ 1.22499864e+00 -1.22469967e+00 -1.22469967e+00 ... -1.22469967e+00\n",
      "  1.49484965e-04  1.49484965e-04]' has dtype incompatible with float32, please explicitly cast to a compatible dtype first.\n",
      "  data.loc[:, self.config.continuous_cols] = self.scaler.transform(data.loc[:, self.config.continuous_cols])\n",
      "c:\\Users\\tacke\\anaconda3\\envs\\modern_ts_2E\\Lib\\site-packages\\pytorch_tabular\\tabular_datamodule.py:372: FutureWarning: Setting an item of incompatible dtype is deprecated and will raise in a future error of pandas. Value '[ 1.36568853  0.36567293  0.70675964 ...  0.70675964  0.99965741\n",
      " -1.41459382]' has dtype incompatible with float32, please explicitly cast to a compatible dtype first.\n",
      "  data.loc[:, self.config.continuous_cols] = self.scaler.transform(data.loc[:, self.config.continuous_cols])\n",
      "c:\\Users\\tacke\\anaconda3\\envs\\modern_ts_2E\\Lib\\site-packages\\pytorch_tabular\\tabular_datamodule.py:372: FutureWarning: Setting an item of incompatible dtype is deprecated and will raise in a future error of pandas. Value '[ 1.36628867e+00  3.66100704e-01 -1.22496859e+00 ... -1.22496859e+00\n",
      " -1.00018148e+00  6.49394972e-06]' has dtype incompatible with float32, please explicitly cast to a compatible dtype first.\n",
      "  data.loc[:, self.config.continuous_cols] = self.scaler.transform(data.loc[:, self.config.continuous_cols])\n",
      "c:\\Users\\tacke\\anaconda3\\envs\\modern_ts_2E\\Lib\\site-packages\\pytorch_tabular\\tabular_datamodule.py:372: FutureWarning: Setting an item of incompatible dtype is deprecated and will raise in a future error of pandas. Value '[ 1.22521152e+00 -1.22414852e+00  7.07600848e-01 ...  7.07600848e-01\n",
      "  5.31497304e-04 -1.41360720e+00]' has dtype incompatible with float32, please explicitly cast to a compatible dtype first.\n",
      "  data.loc[:, self.config.continuous_cols] = self.scaler.transform(data.loc[:, self.config.continuous_cols])\n",
      "c:\\Users\\tacke\\anaconda3\\envs\\modern_ts_2E\\Lib\\site-packages\\pytorch_tabular\\tabular_datamodule.py:372: FutureWarning: Setting an item of incompatible dtype is deprecated and will raise in a future error of pandas. Value '[ 9.99514354e-01 -1.00000928e+00 -2.47463416e-04 ... -2.47463416e-04\n",
      "  9.99514354e-01 -2.47463416e-04]' has dtype incompatible with float32, please explicitly cast to a compatible dtype first.\n",
      "  data.loc[:, self.config.continuous_cols] = self.scaler.transform(data.loc[:, self.config.continuous_cols])\n",
      "c:\\Users\\tacke\\anaconda3\\envs\\modern_ts_2E\\Lib\\site-packages\\pytorch_tabular\\tabular_datamodule.py:372: FutureWarning: Setting an item of incompatible dtype is deprecated and will raise in a future error of pandas. Value '[ 0.70689646  0.70689646 -0.70719675 ... -0.70719675 -1.41424335\n",
      "  1.41394306]' has dtype incompatible with float32, please explicitly cast to a compatible dtype first.\n",
      "  data.loc[:, self.config.continuous_cols] = self.scaler.transform(data.loc[:, self.config.continuous_cols])\n",
      "c:\\Users\\tacke\\anaconda3\\envs\\modern_ts_2E\\Lib\\site-packages\\pytorch_tabular\\tabular_datamodule.py:372: FutureWarning: Setting an item of incompatible dtype is deprecated and will raise in a future error of pandas. Value '[3.66400304e-01 1.36638484e+00 1.22510648e+00 ... 1.22510648e+00\n",
      " 1.00036509e+00 3.80557525e-04]' has dtype incompatible with float32, please explicitly cast to a compatible dtype first.\n",
      "  data.loc[:, self.config.continuous_cols] = self.scaler.transform(data.loc[:, self.config.continuous_cols])\n",
      "c:\\Users\\tacke\\anaconda3\\envs\\modern_ts_2E\\Lib\\site-packages\\pytorch_tabular\\tabular_datamodule.py:372: FutureWarning: Setting an item of incompatible dtype is deprecated and will raise in a future error of pandas. Value '[ 0.99949548  0.99949548 -1.00050478 ...  0.99949548 -1.00050478\n",
      " -1.00050478]' has dtype incompatible with float32, please explicitly cast to a compatible dtype first.\n",
      "  data.loc[:, self.config.continuous_cols] = self.scaler.transform(data.loc[:, self.config.continuous_cols])\n",
      "c:\\Users\\tacke\\anaconda3\\envs\\modern_ts_2E\\Lib\\site-packages\\pytorch_tabular\\tabular_datamodule.py:372: FutureWarning: Setting an item of incompatible dtype is deprecated and will raise in a future error of pandas. Value '[-0.99949548 -0.99949548  1.00050478 ... -0.99949548  1.00050478\n",
      "  1.00050478]' has dtype incompatible with float32, please explicitly cast to a compatible dtype first.\n",
      "  data.loc[:, self.config.continuous_cols] = self.scaler.transform(data.loc[:, self.config.continuous_cols])\n",
      "c:\\Users\\tacke\\anaconda3\\envs\\modern_ts_2E\\Lib\\site-packages\\pytorch_tabular\\tabular_datamodule.py:372: FutureWarning: Setting an item of incompatible dtype is deprecated and will raise in a future error of pandas. Value '[ 0.99949548  0.99949548 -1.00050478 ...  0.99949548 -1.00050478\n",
      " -1.00050478]' has dtype incompatible with float32, please explicitly cast to a compatible dtype first.\n",
      "  data.loc[:, self.config.continuous_cols] = self.scaler.transform(data.loc[:, self.config.continuous_cols])\n",
      "c:\\Users\\tacke\\anaconda3\\envs\\modern_ts_2E\\Lib\\site-packages\\pytorch_tabular\\tabular_datamodule.py:372: FutureWarning: Setting an item of incompatible dtype is deprecated and will raise in a future error of pandas. Value '[-0.99949548 -0.99949548  1.00050478 ... -0.99949548  1.00050478\n",
      "  1.00050478]' has dtype incompatible with float32, please explicitly cast to a compatible dtype first.\n",
      "  data.loc[:, self.config.continuous_cols] = self.scaler.transform(data.loc[:, self.config.continuous_cols])\n",
      "c:\\Users\\tacke\\anaconda3\\envs\\modern_ts_2E\\Lib\\site-packages\\pytorch_tabular\\tabular_datamodule.py:372: FutureWarning: Setting an item of incompatible dtype is deprecated and will raise in a future error of pandas. Value '[ 0.99949548  0.99949548 -1.00050478 ...  0.99949548 -1.00050478\n",
      " -1.00050478]' has dtype incompatible with float32, please explicitly cast to a compatible dtype first.\n",
      "  data.loc[:, self.config.continuous_cols] = self.scaler.transform(data.loc[:, self.config.continuous_cols])\n",
      "c:\\Users\\tacke\\anaconda3\\envs\\modern_ts_2E\\Lib\\site-packages\\pytorch_tabular\\tabular_datamodule.py:372: FutureWarning: Setting an item of incompatible dtype is deprecated and will raise in a future error of pandas. Value '[-0.99949548 -0.99949548  1.00050478 ... -0.99949548  1.00050478\n",
      "  1.00050478]' has dtype incompatible with float32, please explicitly cast to a compatible dtype first.\n",
      "  data.loc[:, self.config.continuous_cols] = self.scaler.transform(data.loc[:, self.config.continuous_cols])\n",
      "c:\\Users\\tacke\\anaconda3\\envs\\modern_ts_2E\\Lib\\site-packages\\pytorch_tabular\\tabular_datamodule.py:372: FutureWarning: Setting an item of incompatible dtype is deprecated and will raise in a future error of pandas. Value '[-0.99949548 -0.99949548  1.00050478 ... -0.99949548  1.00050478\n",
      "  1.00050478]' has dtype incompatible with float32, please explicitly cast to a compatible dtype first.\n",
      "  data.loc[:, self.config.continuous_cols] = self.scaler.transform(data.loc[:, self.config.continuous_cols])\n",
      "c:\\Users\\tacke\\anaconda3\\envs\\modern_ts_2E\\Lib\\site-packages\\pytorch_tabular\\tabular_datamodule.py:372: FutureWarning: Setting an item of incompatible dtype is deprecated and will raise in a future error of pandas. Value '[-0.99949548 -0.99949548  1.00050478 ... -0.99949548  1.00050478\n",
      "  1.00050478]' has dtype incompatible with float32, please explicitly cast to a compatible dtype first.\n",
      "  data.loc[:, self.config.continuous_cols] = self.scaler.transform(data.loc[:, self.config.continuous_cols])\n",
      "c:\\Users\\tacke\\anaconda3\\envs\\modern_ts_2E\\Lib\\site-packages\\pytorch_tabular\\tabular_datamodule.py:372: FutureWarning: Setting an item of incompatible dtype is deprecated and will raise in a future error of pandas. Value '[-0.10850169 -0.10850169 -0.10850169 ...  9.21644664  9.21644664\n",
      "  9.21644664]' has dtype incompatible with int32, please explicitly cast to a compatible dtype first.\n",
      "  data.loc[:, self.config.continuous_cols] = self.scaler.transform(data.loc[:, self.config.continuous_cols])\n",
      "c:\\Users\\tacke\\anaconda3\\envs\\modern_ts_2E\\Lib\\site-packages\\pytorch_tabular\\tabular_datamodule.py:372: FutureWarning: Setting an item of incompatible dtype is deprecated and will raise in a future error of pandas. Value '[ 9.81541553  9.81541553  9.81541553 ... -0.10188056 -0.10188056\n",
      " -0.10188056]' has dtype incompatible with int32, please explicitly cast to a compatible dtype first.\n",
      "  data.loc[:, self.config.continuous_cols] = self.scaler.transform(data.loc[:, self.config.continuous_cols])\n",
      "c:\\Users\\tacke\\anaconda3\\envs\\modern_ts_2E\\Lib\\site-packages\\pytorch_tabular\\tabular_datamodule.py:372: FutureWarning: Setting an item of incompatible dtype is deprecated and will raise in a future error of pandas. Value '[-0.05709106 -0.05709106 -0.05709106 ... 17.51587774 17.51587774\n",
      " 17.51587774]' has dtype incompatible with int32, please explicitly cast to a compatible dtype first.\n",
      "  data.loc[:, self.config.continuous_cols] = self.scaler.transform(data.loc[:, self.config.continuous_cols])\n",
      "c:\\Users\\tacke\\anaconda3\\envs\\modern_ts_2E\\Lib\\site-packages\\pytorch_tabular\\tabular_datamodule.py:372: FutureWarning: Setting an item of incompatible dtype is deprecated and will raise in a future error of pandas. Value '[23.24224136 23.24224136 23.24224136 ... -0.04302511 -0.04302511\n",
      " -0.04302511]' has dtype incompatible with int32, please explicitly cast to a compatible dtype first.\n",
      "  data.loc[:, self.config.continuous_cols] = self.scaler.transform(data.loc[:, self.config.continuous_cols])\n",
      "c:\\Users\\tacke\\anaconda3\\envs\\modern_ts_2E\\Lib\\site-packages\\pytorch_tabular\\tabular_datamodule.py:372: FutureWarning: Setting an item of incompatible dtype is deprecated and will raise in a future error of pandas. Value '[ 5.48646586  5.48646586  5.48646586 ... -0.1822667  -0.1822667\n",
      " -0.1822667 ]' has dtype incompatible with int32, please explicitly cast to a compatible dtype first.\n",
      "  data.loc[:, self.config.continuous_cols] = self.scaler.transform(data.loc[:, self.config.continuous_cols])\n"
     ]
    },
    {
     "data": {
      "text/html": [
       "<pre style=\"white-space:pre;overflow-x:auto;line-height:normal;font-family:Menlo,'DejaVu Sans Mono',consolas,'Courier New',monospace\"><span style=\"color: #008080; text-decoration-color: #008080; font-weight: bold\">2024</span>-<span style=\"color: #008080; text-decoration-color: #008080; font-weight: bold\">07</span>-<span style=\"color: #008080; text-decoration-color: #008080; font-weight: bold\">05</span> <span style=\"color: #00ff00; text-decoration-color: #00ff00; font-weight: bold\">12:11:55</span>,<span style=\"color: #008080; text-decoration-color: #008080; font-weight: bold\">536</span> - <span style=\"font-weight: bold\">{</span>pytorch_tabular.tabular_model:<span style=\"color: #008080; text-decoration-color: #008080; font-weight: bold\">574</span><span style=\"font-weight: bold\">}</span> - INFO - Preparing the Model: FTTransformerModel     \n",
       "</pre>\n"
      ],
      "text/plain": [
       "\u001b[1;36m2024\u001b[0m-\u001b[1;36m07\u001b[0m-\u001b[1;36m05\u001b[0m \u001b[1;92m12:11:55\u001b[0m,\u001b[1;36m536\u001b[0m - \u001b[1m{\u001b[0mpytorch_tabular.tabular_model:\u001b[1;36m574\u001b[0m\u001b[1m}\u001b[0m - INFO - Preparing the Model: FTTransformerModel     \n"
      ]
     },
     "metadata": {},
     "output_type": "display_data"
    },
    {
     "data": {
      "text/html": [
       "<pre style=\"white-space:pre;overflow-x:auto;line-height:normal;font-family:Menlo,'DejaVu Sans Mono',consolas,'Courier New',monospace\"><span style=\"color: #008080; text-decoration-color: #008080; font-weight: bold\">2024</span>-<span style=\"color: #008080; text-decoration-color: #008080; font-weight: bold\">07</span>-<span style=\"color: #008080; text-decoration-color: #008080; font-weight: bold\">05</span> <span style=\"color: #00ff00; text-decoration-color: #00ff00; font-weight: bold\">12:12:02</span>,<span style=\"color: #008080; text-decoration-color: #008080; font-weight: bold\">556</span> - <span style=\"font-weight: bold\">{</span>pytorch_tabular.tabular_model:<span style=\"color: #008080; text-decoration-color: #008080; font-weight: bold\">340</span><span style=\"font-weight: bold\">}</span> - INFO - Preparing the Trainer                       \n",
       "</pre>\n"
      ],
      "text/plain": [
       "\u001b[1;36m2024\u001b[0m-\u001b[1;36m07\u001b[0m-\u001b[1;36m05\u001b[0m \u001b[1;92m12:12:02\u001b[0m,\u001b[1;36m556\u001b[0m - \u001b[1m{\u001b[0mpytorch_tabular.tabular_model:\u001b[1;36m340\u001b[0m\u001b[1m}\u001b[0m - INFO - Preparing the Trainer                       \n"
      ]
     },
     "metadata": {},
     "output_type": "display_data"
    },
    {
     "name": "stderr",
     "output_type": "stream",
     "text": [
      "GPU available: False, used: False\n",
      "TPU available: False, using: 0 TPU cores\n",
      "IPU available: False, using: 0 IPUs\n",
      "HPU available: False, using: 0 HPUs\n"
     ]
    },
    {
     "data": {
      "text/html": [
       "<pre style=\"white-space:pre;overflow-x:auto;line-height:normal;font-family:Menlo,'DejaVu Sans Mono',consolas,'Courier New',monospace\"><span style=\"color: #008080; text-decoration-color: #008080; font-weight: bold\">2024</span>-<span style=\"color: #008080; text-decoration-color: #008080; font-weight: bold\">07</span>-<span style=\"color: #008080; text-decoration-color: #008080; font-weight: bold\">05</span> <span style=\"color: #00ff00; text-decoration-color: #00ff00; font-weight: bold\">12:12:03</span>,<span style=\"color: #008080; text-decoration-color: #008080; font-weight: bold\">128</span> - <span style=\"font-weight: bold\">{</span>pytorch_tabular.tabular_model:<span style=\"color: #008080; text-decoration-color: #008080; font-weight: bold\">630</span><span style=\"font-weight: bold\">}</span> - INFO - Auto LR Find Started                        \n",
       "</pre>\n"
      ],
      "text/plain": [
       "\u001b[1;36m2024\u001b[0m-\u001b[1;36m07\u001b[0m-\u001b[1;36m05\u001b[0m \u001b[1;92m12:12:03\u001b[0m,\u001b[1;36m128\u001b[0m - \u001b[1m{\u001b[0mpytorch_tabular.tabular_model:\u001b[1;36m630\u001b[0m\u001b[1m}\u001b[0m - INFO - Auto LR Find Started                        \n"
      ]
     },
     "metadata": {},
     "output_type": "display_data"
    },
    {
     "name": "stderr",
     "output_type": "stream",
     "text": [
      "Missing logger folder: c:\\Users\\tacke\\OneDrive\\Documents\\GitHub\\Modern-Time-Series-Forecasting-with-Python-2E-1\\lightning_logs\n",
      "c:\\Users\\tacke\\anaconda3\\envs\\modern_ts_2E\\Lib\\site-packages\\pytorch_lightning\\trainer\\connectors\\data_connector.py:441: The 'train_dataloader' does not have many workers which may be a bottleneck. Consider increasing the value of the `num_workers` argument` to `num_workers=7` in the `DataLoader` to improve performance.\n",
      "c:\\Users\\tacke\\anaconda3\\envs\\modern_ts_2E\\Lib\\site-packages\\pytorch_lightning\\trainer\\connectors\\data_connector.py:441: The 'val_dataloader' does not have many workers which may be a bottleneck. Consider increasing the value of the `num_workers` argument` to `num_workers=7` in the `DataLoader` to improve performance.\n"
     ]
    },
    {
     "data": {
      "application/vnd.jupyter.widget-view+json": {
       "model_id": "63ae18ffbc704905bb871878fa432a38",
       "version_major": 2,
       "version_minor": 0
      },
      "text/plain": [
       "Finding best initial lr:   0%|          | 0/100 [00:00<?, ?it/s]"
      ]
     },
     "metadata": {},
     "output_type": "display_data"
    },
    {
     "name": "stderr",
     "output_type": "stream",
     "text": [
      "`Trainer.fit` stopped: `max_steps=100` reached.\n",
      "Learning rate set to 0.00012022644346174131\n",
      "Restoring states from the checkpoint path at c:\\Users\\tacke\\OneDrive\\Documents\\GitHub\\Modern-Time-Series-Forecasting-with-Python-2E-1\\.lr_find_2fdc5d94-fbf0-4848-8885-c8fdb1a7f810.ckpt\n",
      "Restored all states from the checkpoint at c:\\Users\\tacke\\OneDrive\\Documents\\GitHub\\Modern-Time-Series-Forecasting-with-Python-2E-1\\.lr_find_2fdc5d94-fbf0-4848-8885-c8fdb1a7f810.ckpt\n"
     ]
    },
    {
     "data": {
      "text/html": [
       "<pre style=\"white-space:pre;overflow-x:auto;line-height:normal;font-family:Menlo,'DejaVu Sans Mono',consolas,'Courier New',monospace\"><span style=\"color: #008080; text-decoration-color: #008080; font-weight: bold\">2024</span>-<span style=\"color: #008080; text-decoration-color: #008080; font-weight: bold\">07</span>-<span style=\"color: #008080; text-decoration-color: #008080; font-weight: bold\">05</span> <span style=\"color: #00ff00; text-decoration-color: #00ff00; font-weight: bold\">12:28:49</span>,<span style=\"color: #008080; text-decoration-color: #008080; font-weight: bold\">005</span> - <span style=\"font-weight: bold\">{</span>pytorch_tabular.tabular_model:<span style=\"color: #008080; text-decoration-color: #008080; font-weight: bold\">643</span><span style=\"font-weight: bold\">}</span> - INFO - Suggested LR: <span style=\"color: #008080; text-decoration-color: #008080; font-weight: bold\">0.00012022644346174131</span>. For   \n",
       "plot and detailed analysis, use `find_learning_rate` method.                                                       \n",
       "</pre>\n"
      ],
      "text/plain": [
       "\u001b[1;36m2024\u001b[0m-\u001b[1;36m07\u001b[0m-\u001b[1;36m05\u001b[0m \u001b[1;92m12:28:49\u001b[0m,\u001b[1;36m005\u001b[0m - \u001b[1m{\u001b[0mpytorch_tabular.tabular_model:\u001b[1;36m643\u001b[0m\u001b[1m}\u001b[0m - INFO - Suggested LR: \u001b[1;36m0.00012022644346174131\u001b[0m. For   \n",
       "plot and detailed analysis, use `find_learning_rate` method.                                                       \n"
      ]
     },
     "metadata": {},
     "output_type": "display_data"
    },
    {
     "data": {
      "text/html": [
       "<pre style=\"white-space:pre;overflow-x:auto;line-height:normal;font-family:Menlo,'DejaVu Sans Mono',consolas,'Courier New',monospace\"><span style=\"color: #008080; text-decoration-color: #008080; font-weight: bold\">2024</span>-<span style=\"color: #008080; text-decoration-color: #008080; font-weight: bold\">07</span>-<span style=\"color: #008080; text-decoration-color: #008080; font-weight: bold\">05</span> <span style=\"color: #00ff00; text-decoration-color: #00ff00; font-weight: bold\">12:28:49</span>,<span style=\"color: #008080; text-decoration-color: #008080; font-weight: bold\">035</span> - <span style=\"font-weight: bold\">{</span>pytorch_tabular.tabular_model:<span style=\"color: #008080; text-decoration-color: #008080; font-weight: bold\">652</span><span style=\"font-weight: bold\">}</span> - INFO - Training Started                            \n",
       "</pre>\n"
      ],
      "text/plain": [
       "\u001b[1;36m2024\u001b[0m-\u001b[1;36m07\u001b[0m-\u001b[1;36m05\u001b[0m \u001b[1;92m12:28:49\u001b[0m,\u001b[1;36m035\u001b[0m - \u001b[1m{\u001b[0mpytorch_tabular.tabular_model:\u001b[1;36m652\u001b[0m\u001b[1m}\u001b[0m - INFO - Training Started                            \n"
      ]
     },
     "metadata": {},
     "output_type": "display_data"
    },
    {
     "data": {
      "text/html": [
       "<pre style=\"white-space:pre;overflow-x:auto;line-height:normal;font-family:Menlo,'DejaVu Sans Mono',consolas,'Courier New',monospace\">┏━━━┳━━━━━━━━━━━━━━━━━━┳━━━━━━━━━━━━━━━━━━━━━━━┳━━━━━━━━┓\n",
       "┃<span style=\"color: #800080; text-decoration-color: #800080; font-weight: bold\">   </span>┃<span style=\"color: #800080; text-decoration-color: #800080; font-weight: bold\"> Name             </span>┃<span style=\"color: #800080; text-decoration-color: #800080; font-weight: bold\"> Type                  </span>┃<span style=\"color: #800080; text-decoration-color: #800080; font-weight: bold\"> Params </span>┃\n",
       "┡━━━╇━━━━━━━━━━━━━━━━━━╇━━━━━━━━━━━━━━━━━━━━━━━╇━━━━━━━━┩\n",
       "│<span style=\"color: #7f7f7f; text-decoration-color: #7f7f7f\"> 0 </span>│ _backbone        │ FTTransformerBackbone │ 86.7 K │\n",
       "│<span style=\"color: #7f7f7f; text-decoration-color: #7f7f7f\"> 1 </span>│ _embedding_layer │ Embedding2dLayer      │ 23.1 K │\n",
       "│<span style=\"color: #7f7f7f; text-decoration-color: #7f7f7f\"> 2 </span>│ _head            │ LinearHead            │  1.1 K │\n",
       "│<span style=\"color: #7f7f7f; text-decoration-color: #7f7f7f\"> 3 </span>│ loss             │ MSELoss               │      0 │\n",
       "└───┴──────────────────┴───────────────────────┴────────┘\n",
       "</pre>\n"
      ],
      "text/plain": [
       "┏━━━┳━━━━━━━━━━━━━━━━━━┳━━━━━━━━━━━━━━━━━━━━━━━┳━━━━━━━━┓\n",
       "┃\u001b[1;35m \u001b[0m\u001b[1;35m \u001b[0m\u001b[1;35m \u001b[0m┃\u001b[1;35m \u001b[0m\u001b[1;35mName            \u001b[0m\u001b[1;35m \u001b[0m┃\u001b[1;35m \u001b[0m\u001b[1;35mType                 \u001b[0m\u001b[1;35m \u001b[0m┃\u001b[1;35m \u001b[0m\u001b[1;35mParams\u001b[0m\u001b[1;35m \u001b[0m┃\n",
       "┡━━━╇━━━━━━━━━━━━━━━━━━╇━━━━━━━━━━━━━━━━━━━━━━━╇━━━━━━━━┩\n",
       "│\u001b[2m \u001b[0m\u001b[2m0\u001b[0m\u001b[2m \u001b[0m│ _backbone        │ FTTransformerBackbone │ 86.7 K │\n",
       "│\u001b[2m \u001b[0m\u001b[2m1\u001b[0m\u001b[2m \u001b[0m│ _embedding_layer │ Embedding2dLayer      │ 23.1 K │\n",
       "│\u001b[2m \u001b[0m\u001b[2m2\u001b[0m\u001b[2m \u001b[0m│ _head            │ LinearHead            │  1.1 K │\n",
       "│\u001b[2m \u001b[0m\u001b[2m3\u001b[0m\u001b[2m \u001b[0m│ loss             │ MSELoss               │      0 │\n",
       "└───┴──────────────────┴───────────────────────┴────────┘\n"
      ]
     },
     "metadata": {},
     "output_type": "display_data"
    },
    {
     "data": {
      "text/html": [
       "<pre style=\"white-space:pre;overflow-x:auto;line-height:normal;font-family:Menlo,'DejaVu Sans Mono',consolas,'Courier New',monospace\"><span style=\"font-weight: bold\">Trainable params</span>: 110 K                                                                                            \n",
       "<span style=\"font-weight: bold\">Non-trainable params</span>: 0                                                                                            \n",
       "<span style=\"font-weight: bold\">Total params</span>: 110 K                                                                                                \n",
       "<span style=\"font-weight: bold\">Total estimated model params size (MB)</span>: 0                                                                          \n",
       "</pre>\n"
      ],
      "text/plain": [
       "\u001b[1mTrainable params\u001b[0m: 110 K                                                                                            \n",
       "\u001b[1mNon-trainable params\u001b[0m: 0                                                                                            \n",
       "\u001b[1mTotal params\u001b[0m: 110 K                                                                                                \n",
       "\u001b[1mTotal estimated model params size (MB)\u001b[0m: 0                                                                          \n"
      ]
     },
     "metadata": {},
     "output_type": "display_data"
    },
    {
     "data": {
      "application/vnd.jupyter.widget-view+json": {
       "model_id": "2f9fb5a73b584579a81c63d0838196e1",
       "version_major": 2,
       "version_minor": 0
      },
      "text/plain": [
       "Output()"
      ]
     },
     "metadata": {},
     "output_type": "display_data"
    },
    {
     "data": {
      "text/html": [
       "<pre style=\"white-space:pre;overflow-x:auto;line-height:normal;font-family:Menlo,'DejaVu Sans Mono',consolas,'Courier New',monospace\"></pre>\n"
      ],
      "text/plain": []
     },
     "metadata": {},
     "output_type": "display_data"
    },
    {
     "data": {
      "text/html": [
       "<pre style=\"white-space:pre;overflow-x:auto;line-height:normal;font-family:Menlo,'DejaVu Sans Mono',consolas,'Courier New',monospace\">\n",
       "</pre>\n"
      ],
      "text/plain": [
       "\n"
      ]
     },
     "metadata": {},
     "output_type": "display_data"
    },
    {
     "data": {
      "text/html": [
       "<pre style=\"white-space:pre;overflow-x:auto;line-height:normal;font-family:Menlo,'DejaVu Sans Mono',consolas,'Courier New',monospace\"><span style=\"color: #008080; text-decoration-color: #008080; font-weight: bold\">2024</span>-<span style=\"color: #008080; text-decoration-color: #008080; font-weight: bold\">07</span>-<span style=\"color: #008080; text-decoration-color: #008080; font-weight: bold\">06</span> <span style=\"color: #00ff00; text-decoration-color: #00ff00; font-weight: bold\">01:44:40</span>,<span style=\"color: #008080; text-decoration-color: #008080; font-weight: bold\">985</span> - <span style=\"font-weight: bold\">{</span>pytorch_tabular.tabular_model:<span style=\"color: #008080; text-decoration-color: #008080; font-weight: bold\">663</span><span style=\"font-weight: bold\">}</span> - INFO - Training the model completed                \n",
       "</pre>\n"
      ],
      "text/plain": [
       "\u001b[1;36m2024\u001b[0m-\u001b[1;36m07\u001b[0m-\u001b[1;36m06\u001b[0m \u001b[1;92m01:44:40\u001b[0m,\u001b[1;36m985\u001b[0m - \u001b[1m{\u001b[0mpytorch_tabular.tabular_model:\u001b[1;36m663\u001b[0m\u001b[1m}\u001b[0m - INFO - Training the model completed                \n"
      ]
     },
     "metadata": {},
     "output_type": "display_data"
    },
    {
     "data": {
      "text/html": [
       "<pre style=\"white-space:pre;overflow-x:auto;line-height:normal;font-family:Menlo,'DejaVu Sans Mono',consolas,'Courier New',monospace\"><span style=\"color: #008080; text-decoration-color: #008080; font-weight: bold\">2024</span>-<span style=\"color: #008080; text-decoration-color: #008080; font-weight: bold\">07</span>-<span style=\"color: #008080; text-decoration-color: #008080; font-weight: bold\">06</span> <span style=\"color: #00ff00; text-decoration-color: #00ff00; font-weight: bold\">01:44:40</span>,<span style=\"color: #008080; text-decoration-color: #008080; font-weight: bold\">991</span> - <span style=\"font-weight: bold\">{</span>pytorch_tabular.tabular_model:<span style=\"color: #008080; text-decoration-color: #008080; font-weight: bold\">1489</span><span style=\"font-weight: bold\">}</span> - INFO - Loading the best model                     \n",
       "</pre>\n"
      ],
      "text/plain": [
       "\u001b[1;36m2024\u001b[0m-\u001b[1;36m07\u001b[0m-\u001b[1;36m06\u001b[0m \u001b[1;92m01:44:40\u001b[0m,\u001b[1;36m991\u001b[0m - \u001b[1m{\u001b[0mpytorch_tabular.tabular_model:\u001b[1;36m1489\u001b[0m\u001b[1m}\u001b[0m - INFO - Loading the best model                     \n"
      ]
     },
     "metadata": {},
     "output_type": "display_data"
    }
   ],
   "source": [
    "tabular_model.fit(train=train_df)\n",
    "#Saving because you need not train the model again after restarting your kernel or machine etc. and can use the previous cell to load the saved model\n",
    "tabular_model.save_model(\"notebooks/Chapter12/ft_transformer_global\")\n",
    "# Deleting automatically saved checkpoints\n",
    "shutil.rmtree(\"saved_models\")"
   ]
  },
  {
   "cell_type": "code",
   "execution_count": 23,
   "id": "aa9b187f-26e1-42b7-9695-adb74b31dc34",
   "metadata": {},
   "outputs": [
    {
     "name": "stderr",
     "output_type": "stream",
     "text": [
      "c:\\Users\\tacke\\anaconda3\\envs\\modern_ts_2E\\Lib\\site-packages\\pytorch_tabular\\categorical_encoders.py:67: FutureWarning: A value is trying to be set on a copy of a DataFrame or Series through chained assignment using an inplace method.\n",
      "The behavior will change in pandas 3.0. This inplace method will never work because the intermediate object on which we are setting values always behaves as a copy.\n",
      "\n",
      "For example, when doing 'df[col].method(value, inplace=True)', try using 'df.method({col: value}, inplace=True)' or df[col] = df[col].method(value) instead, to perform the operation inplace on the original object.\n",
      "\n",
      "\n",
      "  X_encoded[col].fillna(self._imputed, inplace=True)\n",
      "c:\\Users\\tacke\\anaconda3\\envs\\modern_ts_2E\\Lib\\site-packages\\pytorch_tabular\\categorical_encoders.py:67: FutureWarning: A value is trying to be set on a copy of a DataFrame or Series through chained assignment using an inplace method.\n",
      "The behavior will change in pandas 3.0. This inplace method will never work because the intermediate object on which we are setting values always behaves as a copy.\n",
      "\n",
      "For example, when doing 'df[col].method(value, inplace=True)', try using 'df.method({col: value}, inplace=True)' or df[col] = df[col].method(value) instead, to perform the operation inplace on the original object.\n",
      "\n",
      "\n",
      "  X_encoded[col].fillna(self._imputed, inplace=True)\n",
      "c:\\Users\\tacke\\anaconda3\\envs\\modern_ts_2E\\Lib\\site-packages\\pytorch_tabular\\categorical_encoders.py:67: FutureWarning: A value is trying to be set on a copy of a DataFrame or Series through chained assignment using an inplace method.\n",
      "The behavior will change in pandas 3.0. This inplace method will never work because the intermediate object on which we are setting values always behaves as a copy.\n",
      "\n",
      "For example, when doing 'df[col].method(value, inplace=True)', try using 'df.method({col: value}, inplace=True)' or df[col] = df[col].method(value) instead, to perform the operation inplace on the original object.\n",
      "\n",
      "\n",
      "  X_encoded[col].fillna(self._imputed, inplace=True)\n",
      "c:\\Users\\tacke\\anaconda3\\envs\\modern_ts_2E\\Lib\\site-packages\\pytorch_tabular\\categorical_encoders.py:67: FutureWarning: A value is trying to be set on a copy of a DataFrame or Series through chained assignment using an inplace method.\n",
      "The behavior will change in pandas 3.0. This inplace method will never work because the intermediate object on which we are setting values always behaves as a copy.\n",
      "\n",
      "For example, when doing 'df[col].method(value, inplace=True)', try using 'df.method({col: value}, inplace=True)' or df[col] = df[col].method(value) instead, to perform the operation inplace on the original object.\n",
      "\n",
      "\n",
      "  X_encoded[col].fillna(self._imputed, inplace=True)\n",
      "c:\\Users\\tacke\\anaconda3\\envs\\modern_ts_2E\\Lib\\site-packages\\pytorch_tabular\\categorical_encoders.py:67: FutureWarning: A value is trying to be set on a copy of a DataFrame or Series through chained assignment using an inplace method.\n",
      "The behavior will change in pandas 3.0. This inplace method will never work because the intermediate object on which we are setting values always behaves as a copy.\n",
      "\n",
      "For example, when doing 'df[col].method(value, inplace=True)', try using 'df.method({col: value}, inplace=True)' or df[col] = df[col].method(value) instead, to perform the operation inplace on the original object.\n",
      "\n",
      "\n",
      "  X_encoded[col].fillna(self._imputed, inplace=True)\n",
      "c:\\Users\\tacke\\anaconda3\\envs\\modern_ts_2E\\Lib\\site-packages\\pytorch_tabular\\categorical_encoders.py:67: FutureWarning: A value is trying to be set on a copy of a DataFrame or Series through chained assignment using an inplace method.\n",
      "The behavior will change in pandas 3.0. This inplace method will never work because the intermediate object on which we are setting values always behaves as a copy.\n",
      "\n",
      "For example, when doing 'df[col].method(value, inplace=True)', try using 'df.method({col: value}, inplace=True)' or df[col] = df[col].method(value) instead, to perform the operation inplace on the original object.\n",
      "\n",
      "\n",
      "  X_encoded[col].fillna(self._imputed, inplace=True)\n",
      "c:\\Users\\tacke\\anaconda3\\envs\\modern_ts_2E\\Lib\\site-packages\\pytorch_tabular\\categorical_encoders.py:67: FutureWarning: A value is trying to be set on a copy of a DataFrame or Series through chained assignment using an inplace method.\n",
      "The behavior will change in pandas 3.0. This inplace method will never work because the intermediate object on which we are setting values always behaves as a copy.\n",
      "\n",
      "For example, when doing 'df[col].method(value, inplace=True)', try using 'df.method({col: value}, inplace=True)' or df[col] = df[col].method(value) instead, to perform the operation inplace on the original object.\n",
      "\n",
      "\n",
      "  X_encoded[col].fillna(self._imputed, inplace=True)\n",
      "c:\\Users\\tacke\\anaconda3\\envs\\modern_ts_2E\\Lib\\site-packages\\pytorch_tabular\\categorical_encoders.py:67: FutureWarning: A value is trying to be set on a copy of a DataFrame or Series through chained assignment using an inplace method.\n",
      "The behavior will change in pandas 3.0. This inplace method will never work because the intermediate object on which we are setting values always behaves as a copy.\n",
      "\n",
      "For example, when doing 'df[col].method(value, inplace=True)', try using 'df.method({col: value}, inplace=True)' or df[col] = df[col].method(value) instead, to perform the operation inplace on the original object.\n",
      "\n",
      "\n",
      "  X_encoded[col].fillna(self._imputed, inplace=True)\n",
      "c:\\Users\\tacke\\anaconda3\\envs\\modern_ts_2E\\Lib\\site-packages\\pytorch_tabular\\categorical_encoders.py:67: FutureWarning: A value is trying to be set on a copy of a DataFrame or Series through chained assignment using an inplace method.\n",
      "The behavior will change in pandas 3.0. This inplace method will never work because the intermediate object on which we are setting values always behaves as a copy.\n",
      "\n",
      "For example, when doing 'df[col].method(value, inplace=True)', try using 'df.method({col: value}, inplace=True)' or df[col] = df[col].method(value) instead, to perform the operation inplace on the original object.\n",
      "\n",
      "\n",
      "  X_encoded[col].fillna(self._imputed, inplace=True)\n",
      "c:\\Users\\tacke\\anaconda3\\envs\\modern_ts_2E\\Lib\\site-packages\\pytorch_tabular\\categorical_encoders.py:67: FutureWarning: A value is trying to be set on a copy of a DataFrame or Series through chained assignment using an inplace method.\n",
      "The behavior will change in pandas 3.0. This inplace method will never work because the intermediate object on which we are setting values always behaves as a copy.\n",
      "\n",
      "For example, when doing 'df[col].method(value, inplace=True)', try using 'df.method({col: value}, inplace=True)' or df[col] = df[col].method(value) instead, to perform the operation inplace on the original object.\n",
      "\n",
      "\n",
      "  X_encoded[col].fillna(self._imputed, inplace=True)\n",
      "c:\\Users\\tacke\\anaconda3\\envs\\modern_ts_2E\\Lib\\site-packages\\pytorch_tabular\\categorical_encoders.py:67: FutureWarning: A value is trying to be set on a copy of a DataFrame or Series through chained assignment using an inplace method.\n",
      "The behavior will change in pandas 3.0. This inplace method will never work because the intermediate object on which we are setting values always behaves as a copy.\n",
      "\n",
      "For example, when doing 'df[col].method(value, inplace=True)', try using 'df.method({col: value}, inplace=True)' or df[col] = df[col].method(value) instead, to perform the operation inplace on the original object.\n",
      "\n",
      "\n",
      "  X_encoded[col].fillna(self._imputed, inplace=True)\n",
      "c:\\Users\\tacke\\anaconda3\\envs\\modern_ts_2E\\Lib\\site-packages\\pytorch_tabular\\categorical_encoders.py:67: FutureWarning: A value is trying to be set on a copy of a DataFrame or Series through chained assignment using an inplace method.\n",
      "The behavior will change in pandas 3.0. This inplace method will never work because the intermediate object on which we are setting values always behaves as a copy.\n",
      "\n",
      "For example, when doing 'df[col].method(value, inplace=True)', try using 'df.method({col: value}, inplace=True)' or df[col] = df[col].method(value) instead, to perform the operation inplace on the original object.\n",
      "\n",
      "\n",
      "  X_encoded[col].fillna(self._imputed, inplace=True)\n",
      "c:\\Users\\tacke\\anaconda3\\envs\\modern_ts_2E\\Lib\\site-packages\\pytorch_tabular\\categorical_encoders.py:67: FutureWarning: A value is trying to be set on a copy of a DataFrame or Series through chained assignment using an inplace method.\n",
      "The behavior will change in pandas 3.0. This inplace method will never work because the intermediate object on which we are setting values always behaves as a copy.\n",
      "\n",
      "For example, when doing 'df[col].method(value, inplace=True)', try using 'df.method({col: value}, inplace=True)' or df[col] = df[col].method(value) instead, to perform the operation inplace on the original object.\n",
      "\n",
      "\n",
      "  X_encoded[col].fillna(self._imputed, inplace=True)\n",
      "c:\\Users\\tacke\\anaconda3\\envs\\modern_ts_2E\\Lib\\site-packages\\pytorch_tabular\\categorical_encoders.py:67: FutureWarning: A value is trying to be set on a copy of a DataFrame or Series through chained assignment using an inplace method.\n",
      "The behavior will change in pandas 3.0. This inplace method will never work because the intermediate object on which we are setting values always behaves as a copy.\n",
      "\n",
      "For example, when doing 'df[col].method(value, inplace=True)', try using 'df.method({col: value}, inplace=True)' or df[col] = df[col].method(value) instead, to perform the operation inplace on the original object.\n",
      "\n",
      "\n",
      "  X_encoded[col].fillna(self._imputed, inplace=True)\n",
      "c:\\Users\\tacke\\anaconda3\\envs\\modern_ts_2E\\Lib\\site-packages\\pytorch_tabular\\categorical_encoders.py:67: FutureWarning: A value is trying to be set on a copy of a DataFrame or Series through chained assignment using an inplace method.\n",
      "The behavior will change in pandas 3.0. This inplace method will never work because the intermediate object on which we are setting values always behaves as a copy.\n",
      "\n",
      "For example, when doing 'df[col].method(value, inplace=True)', try using 'df.method({col: value}, inplace=True)' or df[col] = df[col].method(value) instead, to perform the operation inplace on the original object.\n",
      "\n",
      "\n",
      "  X_encoded[col].fillna(self._imputed, inplace=True)\n",
      "c:\\Users\\tacke\\anaconda3\\envs\\modern_ts_2E\\Lib\\site-packages\\pytorch_tabular\\tabular_datamodule.py:372: FutureWarning: Setting an item of incompatible dtype is deprecated and will raise in a future error of pandas. Value '[-0.1523152  -0.1523152   0.48711012 ... -1.72934309 -0.69566108\n",
      " -0.69566108]' has dtype incompatible with float32, please explicitly cast to a compatible dtype first.\n",
      "  data.loc[:, self.config.continuous_cols] = self.scaler.transform(data.loc[:, self.config.continuous_cols])\n",
      "c:\\Users\\tacke\\anaconda3\\envs\\modern_ts_2E\\Lib\\site-packages\\pytorch_tabular\\tabular_datamodule.py:372: FutureWarning: Setting an item of incompatible dtype is deprecated and will raise in a future error of pandas. Value '[ 0.11428836  0.11428836  0.05012453 ... -0.02473326  0.02873659\n",
      "  0.02873659]' has dtype incompatible with int32, please explicitly cast to a compatible dtype first.\n",
      "  data.loc[:, self.config.continuous_cols] = self.scaler.transform(data.loc[:, self.config.continuous_cols])\n",
      "c:\\Users\\tacke\\anaconda3\\envs\\modern_ts_2E\\Lib\\site-packages\\pytorch_tabular\\tabular_datamodule.py:372: FutureWarning: Setting an item of incompatible dtype is deprecated and will raise in a future error of pandas. Value '[-0.58399573 -0.58399573 -0.72362192 ... -0.4946999  -0.41027485\n",
      " -0.41027485]' has dtype incompatible with float32, please explicitly cast to a compatible dtype first.\n",
      "  data.loc[:, self.config.continuous_cols] = self.scaler.transform(data.loc[:, self.config.continuous_cols])\n",
      "c:\\Users\\tacke\\anaconda3\\envs\\modern_ts_2E\\Lib\\site-packages\\pytorch_tabular\\tabular_datamodule.py:372: FutureWarning: Setting an item of incompatible dtype is deprecated and will raise in a future error of pandas. Value '[-0.42273754 -0.42273754 -0.61667817 ... -0.00472971  0.09129908\n",
      "  0.09129908]' has dtype incompatible with float32, please explicitly cast to a compatible dtype first.\n",
      "  data.loc[:, self.config.continuous_cols] = self.scaler.transform(data.loc[:, self.config.continuous_cols])\n",
      "c:\\Users\\tacke\\anaconda3\\envs\\modern_ts_2E\\Lib\\site-packages\\pytorch_tabular\\tabular_datamodule.py:372: FutureWarning: Setting an item of incompatible dtype is deprecated and will raise in a future error of pandas. Value '[-1.16548595 -1.16548595 -1.188909   ... -2.68023366 -2.76319722\n",
      " -2.76319722]' has dtype incompatible with float32, please explicitly cast to a compatible dtype first.\n",
      "  data.loc[:, self.config.continuous_cols] = self.scaler.transform(data.loc[:, self.config.continuous_cols])\n",
      "c:\\Users\\tacke\\anaconda3\\envs\\modern_ts_2E\\Lib\\site-packages\\pytorch_tabular\\tabular_datamodule.py:372: FutureWarning: Setting an item of incompatible dtype is deprecated and will raise in a future error of pandas. Value '[-0.80300438 -0.80300438 -0.92316212 ... -0.79617721 -0.68830831\n",
      " -0.68830831]' has dtype incompatible with float32, please explicitly cast to a compatible dtype first.\n",
      "  data.loc[:, self.config.continuous_cols] = self.scaler.transform(data.loc[:, self.config.continuous_cols])\n",
      "c:\\Users\\tacke\\anaconda3\\envs\\modern_ts_2E\\Lib\\site-packages\\pytorch_tabular\\tabular_datamodule.py:372: FutureWarning: Setting an item of incompatible dtype is deprecated and will raise in a future error of pandas. Value '[1.07052127 1.07052127 0.80997468 ... 2.15868726 1.94411909 1.94411909]' has dtype incompatible with float32, please explicitly cast to a compatible dtype first.\n",
      "  data.loc[:, self.config.continuous_cols] = self.scaler.transform(data.loc[:, self.config.continuous_cols])\n",
      "c:\\Users\\tacke\\anaconda3\\envs\\modern_ts_2E\\Lib\\site-packages\\pytorch_tabular\\tabular_datamodule.py:372: FutureWarning: Setting an item of incompatible dtype is deprecated and will raise in a future error of pandas. Value '[0.36851624 0.36851624 0.29979225 ... 1.05575697 1.05575697 1.05575697]' has dtype incompatible with float32, please explicitly cast to a compatible dtype first.\n",
      "  data.loc[:, self.config.continuous_cols] = self.scaler.transform(data.loc[:, self.config.continuous_cols])\n",
      "c:\\Users\\tacke\\anaconda3\\envs\\modern_ts_2E\\Lib\\site-packages\\pytorch_tabular\\tabular_datamodule.py:372: FutureWarning: Setting an item of incompatible dtype is deprecated and will raise in a future error of pandas. Value '[-0.07171285  0.32850523 -0.10894242 ... -0.38506189 -0.26406573\n",
      "  0.35952995]' has dtype incompatible with float32, please explicitly cast to a compatible dtype first.\n",
      "  data.loc[:, self.config.continuous_cols] = self.scaler.transform(data.loc[:, self.config.continuous_cols])\n",
      "c:\\Users\\tacke\\anaconda3\\envs\\modern_ts_2E\\Lib\\site-packages\\pytorch_tabular\\tabular_datamodule.py:372: FutureWarning: Setting an item of incompatible dtype is deprecated and will raise in a future error of pandas. Value '[-0.03792535 -0.07197591  0.3273441  ... -0.28247018 -0.38462182\n",
      " -0.26389716]' has dtype incompatible with float32, please explicitly cast to a compatible dtype first.\n",
      "  data.loc[:, self.config.continuous_cols] = self.scaler.transform(data.loc[:, self.config.continuous_cols])\n",
      "c:\\Users\\tacke\\anaconda3\\envs\\modern_ts_2E\\Lib\\site-packages\\pytorch_tabular\\tabular_datamodule.py:372: FutureWarning: Setting an item of incompatible dtype is deprecated and will raise in a future error of pandas. Value '[-0.16803897 -0.03795248 -0.07202277 ... -0.30432    -0.28263893\n",
      " -0.38484972]' has dtype incompatible with float32, please explicitly cast to a compatible dtype first.\n",
      "  data.loc[:, self.config.continuous_cols] = self.scaler.transform(data.loc[:, self.config.continuous_cols])\n",
      "c:\\Users\\tacke\\anaconda3\\envs\\modern_ts_2E\\Lib\\site-packages\\pytorch_tabular\\tabular_datamodule.py:372: FutureWarning: Setting an item of incompatible dtype is deprecated and will raise in a future error of pandas. Value '[-0.20510474 -0.1678915  -0.03764506 ... -0.37876663 -0.3043401\n",
      " -0.28263236]' has dtype incompatible with float32, please explicitly cast to a compatible dtype first.\n",
      "  data.loc[:, self.config.continuous_cols] = self.scaler.transform(data.loc[:, self.config.continuous_cols])\n",
      "c:\\Users\\tacke\\anaconda3\\envs\\modern_ts_2E\\Lib\\site-packages\\pytorch_tabular\\tabular_datamodule.py:372: FutureWarning: Setting an item of incompatible dtype is deprecated and will raise in a future error of pandas. Value '[-0.11529508 -0.20524133 -0.16802221 ... -0.26417163 -0.37893063\n",
      " -0.30449235]' has dtype incompatible with float32, please explicitly cast to a compatible dtype first.\n",
      "  data.loc[:, self.config.continuous_cols] = self.scaler.transform(data.loc[:, self.config.continuous_cols])\n",
      "c:\\Users\\tacke\\anaconda3\\envs\\modern_ts_2E\\Lib\\site-packages\\pytorch_tabular\\tabular_datamodule.py:372: FutureWarning: Setting an item of incompatible dtype is deprecated and will raise in a future error of pandas. Value '[-0.14924891 -0.01585704 -0.0127549  ...  1.24050828 -0.29815148\n",
      "  0.29435663]' has dtype incompatible with float32, please explicitly cast to a compatible dtype first.\n",
      "  data.loc[:, self.config.continuous_cols] = self.scaler.transform(data.loc[:, self.config.continuous_cols])\n",
      "c:\\Users\\tacke\\anaconda3\\envs\\modern_ts_2E\\Lib\\site-packages\\pytorch_tabular\\tabular_datamodule.py:372: FutureWarning: Setting an item of incompatible dtype is deprecated and will raise in a future error of pandas. Value '[-0.07207933 -0.1495132  -0.0163269  ... -0.07517669  1.23810228\n",
      " -0.2981863 ]' has dtype incompatible with float32, please explicitly cast to a compatible dtype first.\n",
      "  data.loc[:, self.config.continuous_cols] = self.scaler.transform(data.loc[:, self.config.continuous_cols])\n",
      "c:\\Users\\tacke\\anaconda3\\envs\\modern_ts_2E\\Lib\\site-packages\\pytorch_tabular\\tabular_datamodule.py:372: FutureWarning: Setting an item of incompatible dtype is deprecated and will raise in a future error of pandas. Value '[-0.14291481 -0.0716492  -0.14911178 ...  0.93226619 -0.07474771\n",
      "  1.23901824]' has dtype incompatible with float32, please explicitly cast to a compatible dtype first.\n",
      "  data.loc[:, self.config.continuous_cols] = self.scaler.transform(data.loc[:, self.config.continuous_cols])\n",
      "c:\\Users\\tacke\\anaconda3\\envs\\modern_ts_2E\\Lib\\site-packages\\pytorch_tabular\\tabular_datamodule.py:372: FutureWarning: Setting an item of incompatible dtype is deprecated and will raise in a future error of pandas. Value '[-0.09952116 -0.14284885 -0.07166763 ... -0.06857279  0.93105905\n",
      " -0.07476247]' has dtype incompatible with float32, please explicitly cast to a compatible dtype first.\n",
      "  data.loc[:, self.config.continuous_cols] = self.scaler.transform(data.loc[:, self.config.continuous_cols])\n",
      "c:\\Users\\tacke\\anaconda3\\envs\\modern_ts_2E\\Lib\\site-packages\\pytorch_tabular\\tabular_datamodule.py:372: FutureWarning: Setting an item of incompatible dtype is deprecated and will raise in a future error of pandas. Value '[-0.06858069 -0.09956267 -0.1429374  ...  0.14209659 -0.06858069\n",
      "  0.93213651]' has dtype incompatible with float32, please explicitly cast to a compatible dtype first.\n",
      "  data.loc[:, self.config.continuous_cols] = self.scaler.transform(data.loc[:, self.config.continuous_cols])\n",
      "c:\\Users\\tacke\\anaconda3\\envs\\modern_ts_2E\\Lib\\site-packages\\pytorch_tabular\\tabular_datamodule.py:372: FutureWarning: Setting an item of incompatible dtype is deprecated and will raise in a future error of pandas. Value '[-0.19461188 -0.14199213 -0.23175529 ...  0.10872567 -0.44223442\n",
      " -0.35556652]' has dtype incompatible with float32, please explicitly cast to a compatible dtype first.\n",
      "  data.loc[:, self.config.continuous_cols] = self.scaler.transform(data.loc[:, self.config.continuous_cols])\n",
      "c:\\Users\\tacke\\anaconda3\\envs\\modern_ts_2E\\Lib\\site-packages\\pytorch_tabular\\tabular_datamodule.py:372: FutureWarning: Setting an item of incompatible dtype is deprecated and will raise in a future error of pandas. Value '[-0.19148714 -0.19457497 -0.14208201 ... -0.33352699  0.10803163\n",
      " -0.4416008 ]' has dtype incompatible with float32, please explicitly cast to a compatible dtype first.\n",
      "  data.loc[:, self.config.continuous_cols] = self.scaler.transform(data.loc[:, self.config.continuous_cols])\n",
      "c:\\Users\\tacke\\anaconda3\\envs\\modern_ts_2E\\Lib\\site-packages\\pytorch_tabular\\tabular_datamodule.py:372: FutureWarning: Setting an item of incompatible dtype is deprecated and will raise in a future error of pandas. Value '[-0.11101816 -0.19143178 -0.19452462 ... -0.39865157 -0.33370207\n",
      "  0.10857291]' has dtype incompatible with float32, please explicitly cast to a compatible dtype first.\n",
      "  data.loc[:, self.config.continuous_cols] = self.scaler.transform(data.loc[:, self.config.continuous_cols])\n",
      "c:\\Users\\tacke\\anaconda3\\envs\\modern_ts_2E\\Lib\\site-packages\\pytorch_tabular\\tabular_datamodule.py:372: FutureWarning: Setting an item of incompatible dtype is deprecated and will raise in a future error of pandas. Value '[-0.16969119 -0.11106473 -0.19129042 ... -0.24683131 -0.39802592\n",
      " -0.33322822]' has dtype incompatible with float32, please explicitly cast to a compatible dtype first.\n",
      "  data.loc[:, self.config.continuous_cols] = self.scaler.transform(data.loc[:, self.config.continuous_cols])\n",
      "c:\\Users\\tacke\\anaconda3\\envs\\modern_ts_2E\\Lib\\site-packages\\pytorch_tabular\\tabular_datamodule.py:372: FutureWarning: Setting an item of incompatible dtype is deprecated and will raise in a future error of pandas. Value '[-0.04010243 -0.16975476 -0.11110253 ...  0.16363692 -0.24692879\n",
      " -0.39818986]' has dtype incompatible with float32, please explicitly cast to a compatible dtype first.\n",
      "  data.loc[:, self.config.continuous_cols] = self.scaler.transform(data.loc[:, self.config.continuous_cols])\n",
      "c:\\Users\\tacke\\anaconda3\\envs\\modern_ts_2E\\Lib\\site-packages\\pytorch_tabular\\tabular_datamodule.py:372: FutureWarning: Setting an item of incompatible dtype is deprecated and will raise in a future error of pandas. Value '[-0.10189966  0.08001834  0.05386764 ... -0.35658491 -0.34180408\n",
      " -0.10644764]' has dtype incompatible with float32, please explicitly cast to a compatible dtype first.\n",
      "  data.loc[:, self.config.continuous_cols] = self.scaler.transform(data.loc[:, self.config.continuous_cols])\n",
      "c:\\Users\\tacke\\anaconda3\\envs\\modern_ts_2E\\Lib\\site-packages\\pytorch_tabular\\tabular_datamodule.py:372: FutureWarning: Setting an item of incompatible dtype is deprecated and will raise in a future error of pandas. Value '[-0.3605497  -0.02311177  0.02206269 ... -0.39034433 -0.36583631\n",
      "  0.36548665]' has dtype incompatible with float32, please explicitly cast to a compatible dtype first.\n",
      "  data.loc[:, self.config.continuous_cols] = self.scaler.transform(data.loc[:, self.config.continuous_cols])\n",
      "c:\\Users\\tacke\\anaconda3\\envs\\modern_ts_2E\\Lib\\site-packages\\pytorch_tabular\\tabular_datamodule.py:372: FutureWarning: Setting an item of incompatible dtype is deprecated and will raise in a future error of pandas. Value '[-0.15912618 -0.05348482 -0.05225642 ... -0.38392122 -0.37225153\n",
      " -0.24879849]' has dtype incompatible with float32, please explicitly cast to a compatible dtype first.\n",
      "  data.loc[:, self.config.continuous_cols] = self.scaler.transform(data.loc[:, self.config.continuous_cols])\n",
      "c:\\Users\\tacke\\anaconda3\\envs\\modern_ts_2E\\Lib\\site-packages\\pytorch_tabular\\tabular_datamodule.py:372: FutureWarning: Setting an item of incompatible dtype is deprecated and will raise in a future error of pandas. Value '[-0.47219672 -0.2302291  -0.23109167 ... -0.51288755 -0.50200389\n",
      " -0.05188845]' has dtype incompatible with float32, please explicitly cast to a compatible dtype first.\n",
      "  data.loc[:, self.config.continuous_cols] = self.scaler.transform(data.loc[:, self.config.continuous_cols])\n",
      "c:\\Users\\tacke\\anaconda3\\envs\\modern_ts_2E\\Lib\\site-packages\\pytorch_tabular\\tabular_datamodule.py:372: FutureWarning: Setting an item of incompatible dtype is deprecated and will raise in a future error of pandas. Value '[-0.17536197 -0.12322352 -0.12322352 ... -0.3740976  -0.35209109\n",
      " -0.31891207]' has dtype incompatible with float32, please explicitly cast to a compatible dtype first.\n",
      "  data.loc[:, self.config.continuous_cols] = self.scaler.transform(data.loc[:, self.config.continuous_cols])\n",
      "c:\\Users\\tacke\\anaconda3\\envs\\modern_ts_2E\\Lib\\site-packages\\pytorch_tabular\\tabular_datamodule.py:372: FutureWarning: Setting an item of incompatible dtype is deprecated and will raise in a future error of pandas. Value '[-0.6323441  -0.4692499  -0.4692499  ... -0.49892498 -0.52332485\n",
      " -0.3721294 ]' has dtype incompatible with float32, please explicitly cast to a compatible dtype first.\n",
      "  data.loc[:, self.config.continuous_cols] = self.scaler.transform(data.loc[:, self.config.continuous_cols])\n",
      "c:\\Users\\tacke\\anaconda3\\envs\\modern_ts_2E\\Lib\\site-packages\\pytorch_tabular\\tabular_datamodule.py:372: FutureWarning: Setting an item of incompatible dtype is deprecated and will raise in a future error of pandas. Value '[-0.13283953 -0.11685355 -0.11811558 ... -0.07278711 -0.11338295\n",
      " -0.09865901]' has dtype incompatible with float32, please explicitly cast to a compatible dtype first.\n",
      "  data.loc[:, self.config.continuous_cols] = self.scaler.transform(data.loc[:, self.config.continuous_cols])\n",
      "c:\\Users\\tacke\\anaconda3\\envs\\modern_ts_2E\\Lib\\site-packages\\pytorch_tabular\\tabular_datamodule.py:372: FutureWarning: Setting an item of incompatible dtype is deprecated and will raise in a future error of pandas. Value '[-0.55201988 -0.54024418 -0.54014268 ...  1.29069944  1.27705726\n",
      "  1.27968031]' has dtype incompatible with float32, please explicitly cast to a compatible dtype first.\n",
      "  data.loc[:, self.config.continuous_cols] = self.scaler.transform(data.loc[:, self.config.continuous_cols])\n",
      "c:\\Users\\tacke\\anaconda3\\envs\\modern_ts_2E\\Lib\\site-packages\\pytorch_tabular\\tabular_datamodule.py:372: FutureWarning: Setting an item of incompatible dtype is deprecated and will raise in a future error of pandas. Value '[-0.17143162 -0.04392348 -0.19386361 ...  0.1756734   1.01628305\n",
      "  0.64556491]' has dtype incompatible with float32, please explicitly cast to a compatible dtype first.\n",
      "  data.loc[:, self.config.continuous_cols] = self.scaler.transform(data.loc[:, self.config.continuous_cols])\n",
      "c:\\Users\\tacke\\anaconda3\\envs\\modern_ts_2E\\Lib\\site-packages\\pytorch_tabular\\tabular_datamodule.py:372: FutureWarning: Setting an item of incompatible dtype is deprecated and will raise in a future error of pandas. Value '[-0.58131478 -0.29195892 -0.5476703  ...  0.72620116  3.04688427\n",
      "  0.71425863]' has dtype incompatible with float32, please explicitly cast to a compatible dtype first.\n",
      "  data.loc[:, self.config.continuous_cols] = self.scaler.transform(data.loc[:, self.config.continuous_cols])\n",
      "c:\\Users\\tacke\\anaconda3\\envs\\modern_ts_2E\\Lib\\site-packages\\pytorch_tabular\\tabular_datamodule.py:372: FutureWarning: Setting an item of incompatible dtype is deprecated and will raise in a future error of pandas. Value '[-0.10677123 -0.234403   -0.16095455 ... -0.37768792 -0.39213662\n",
      "  0.09671718]' has dtype incompatible with float32, please explicitly cast to a compatible dtype first.\n",
      "  data.loc[:, self.config.continuous_cols] = self.scaler.transform(data.loc[:, self.config.continuous_cols])\n",
      "c:\\Users\\tacke\\anaconda3\\envs\\modern_ts_2E\\Lib\\site-packages\\pytorch_tabular\\tabular_datamodule.py:372: FutureWarning: Setting an item of incompatible dtype is deprecated and will raise in a future error of pandas. Value '[-0.5212423  -0.55707721 -0.49151595 ... -0.44812539 -0.48253111\n",
      "  0.20622833]' has dtype incompatible with float32, please explicitly cast to a compatible dtype first.\n",
      "  data.loc[:, self.config.continuous_cols] = self.scaler.transform(data.loc[:, self.config.continuous_cols])\n",
      "c:\\Users\\tacke\\anaconda3\\envs\\modern_ts_2E\\Lib\\site-packages\\pytorch_tabular\\tabular_datamodule.py:372: FutureWarning: Setting an item of incompatible dtype is deprecated and will raise in a future error of pandas. Value '[-0.15892262 -0.15837421 -0.15840814 ...  0.01071001  0.01035234\n",
      "  0.01082447]' has dtype incompatible with float32, please explicitly cast to a compatible dtype first.\n",
      "  data.loc[:, self.config.continuous_cols] = self.scaler.transform(data.loc[:, self.config.continuous_cols])\n",
      "c:\\Users\\tacke\\anaconda3\\envs\\modern_ts_2E\\Lib\\site-packages\\pytorch_tabular\\tabular_datamodule.py:372: FutureWarning: Setting an item of incompatible dtype is deprecated and will raise in a future error of pandas. Value '[-0.14353596 -0.13928942 -0.13958864 ... -0.09276957 -0.09494798\n",
      " -0.09066916]' has dtype incompatible with float32, please explicitly cast to a compatible dtype first.\n",
      "  data.loc[:, self.config.continuous_cols] = self.scaler.transform(data.loc[:, self.config.continuous_cols])\n",
      "c:\\Users\\tacke\\anaconda3\\envs\\modern_ts_2E\\Lib\\site-packages\\pytorch_tabular\\tabular_datamodule.py:372: FutureWarning: Setting an item of incompatible dtype is deprecated and will raise in a future error of pandas. Value '[-0.12002136 -0.09363299 -0.09696676 ... -0.2242893  -0.23244793\n",
      " -0.19943917]' has dtype incompatible with float32, please explicitly cast to a compatible dtype first.\n",
      "  data.loc[:, self.config.continuous_cols] = self.scaler.transform(data.loc[:, self.config.continuous_cols])\n",
      "c:\\Users\\tacke\\anaconda3\\envs\\modern_ts_2E\\Lib\\site-packages\\pytorch_tabular\\tabular_datamodule.py:372: FutureWarning: Setting an item of incompatible dtype is deprecated and will raise in a future error of pandas. Value '[1.69271473 1.6928274  1.69294008 ... 1.86003382 1.8601465  1.86025917]' has dtype incompatible with int32, please explicitly cast to a compatible dtype first.\n",
      "  data.loc[:, self.config.continuous_cols] = self.scaler.transform(data.loc[:, self.config.continuous_cols])\n",
      "c:\\Users\\tacke\\anaconda3\\envs\\modern_ts_2E\\Lib\\site-packages\\pytorch_tabular\\tabular_datamodule.py:372: FutureWarning: Setting an item of incompatible dtype is deprecated and will raise in a future error of pandas. Value '[0.91781951 0.91781951 0.91781951 ... 0.91781951 0.91781951 0.91781951]' has dtype incompatible with float32, please explicitly cast to a compatible dtype first.\n",
      "  data.loc[:, self.config.continuous_cols] = self.scaler.transform(data.loc[:, self.config.continuous_cols])\n",
      "c:\\Users\\tacke\\anaconda3\\envs\\modern_ts_2E\\Lib\\site-packages\\pytorch_tabular\\tabular_datamodule.py:372: FutureWarning: Setting an item of incompatible dtype is deprecated and will raise in a future error of pandas. Value '[1.27824425 1.27824425 1.27824425 ... 1.27824425 1.27824425 1.27824425]' has dtype incompatible with float32, please explicitly cast to a compatible dtype first.\n",
      "  data.loc[:, self.config.continuous_cols] = self.scaler.transform(data.loc[:, self.config.continuous_cols])\n",
      "c:\\Users\\tacke\\anaconda3\\envs\\modern_ts_2E\\Lib\\site-packages\\pytorch_tabular\\tabular_datamodule.py:372: FutureWarning: Setting an item of incompatible dtype is deprecated and will raise in a future error of pandas. Value '[1.46470343 1.46470343 1.46470343 ... 1.46470343 1.46470343 1.46470343]' has dtype incompatible with float32, please explicitly cast to a compatible dtype first.\n",
      "  data.loc[:, self.config.continuous_cols] = self.scaler.transform(data.loc[:, self.config.continuous_cols])\n",
      "c:\\Users\\tacke\\anaconda3\\envs\\modern_ts_2E\\Lib\\site-packages\\pytorch_tabular\\tabular_datamodule.py:372: FutureWarning: Setting an item of incompatible dtype is deprecated and will raise in a future error of pandas. Value '[1.25078515 1.25078515 1.25078515 ... 1.25078515 1.25078515 1.25078515]' has dtype incompatible with float32, please explicitly cast to a compatible dtype first.\n",
      "  data.loc[:, self.config.continuous_cols] = self.scaler.transform(data.loc[:, self.config.continuous_cols])\n",
      "c:\\Users\\tacke\\anaconda3\\envs\\modern_ts_2E\\Lib\\site-packages\\pytorch_tabular\\tabular_datamodule.py:372: FutureWarning: Setting an item of incompatible dtype is deprecated and will raise in a future error of pandas. Value '[0.70999732 0.70999732 0.70999732 ... 0.70999732 0.70999732 0.70999732]' has dtype incompatible with float32, please explicitly cast to a compatible dtype first.\n",
      "  data.loc[:, self.config.continuous_cols] = self.scaler.transform(data.loc[:, self.config.continuous_cols])\n",
      "c:\\Users\\tacke\\anaconda3\\envs\\modern_ts_2E\\Lib\\site-packages\\pytorch_tabular\\tabular_datamodule.py:372: FutureWarning: Setting an item of incompatible dtype is deprecated and will raise in a future error of pandas. Value '[1.21849822 1.21849822 1.21849822 ... 1.21849822 1.21849822 1.21849822]' has dtype incompatible with float32, please explicitly cast to a compatible dtype first.\n",
      "  data.loc[:, self.config.continuous_cols] = self.scaler.transform(data.loc[:, self.config.continuous_cols])\n",
      "c:\\Users\\tacke\\anaconda3\\envs\\modern_ts_2E\\Lib\\site-packages\\pytorch_tabular\\tabular_datamodule.py:372: FutureWarning: Setting an item of incompatible dtype is deprecated and will raise in a future error of pandas. Value '[0.65344568 0.65344568 0.65344568 ... 0.65344568 0.65344568 0.65344568]' has dtype incompatible with float32, please explicitly cast to a compatible dtype first.\n",
      "  data.loc[:, self.config.continuous_cols] = self.scaler.transform(data.loc[:, self.config.continuous_cols])\n",
      "c:\\Users\\tacke\\anaconda3\\envs\\modern_ts_2E\\Lib\\site-packages\\pytorch_tabular\\tabular_datamodule.py:372: FutureWarning: Setting an item of incompatible dtype is deprecated and will raise in a future error of pandas. Value '[-0.02904402 -0.02904402 -0.02904402 ... -0.02904402 -0.02904402\n",
      " -0.02904402]' has dtype incompatible with float32, please explicitly cast to a compatible dtype first.\n",
      "  data.loc[:, self.config.continuous_cols] = self.scaler.transform(data.loc[:, self.config.continuous_cols])\n",
      "c:\\Users\\tacke\\anaconda3\\envs\\modern_ts_2E\\Lib\\site-packages\\pytorch_tabular\\tabular_datamodule.py:372: FutureWarning: Setting an item of incompatible dtype is deprecated and will raise in a future error of pandas. Value '[-0.73068465 -0.73068465 -0.73068465 ... -0.73068465 -0.73068465\n",
      " -0.73068465]' has dtype incompatible with float32, please explicitly cast to a compatible dtype first.\n",
      "  data.loc[:, self.config.continuous_cols] = self.scaler.transform(data.loc[:, self.config.continuous_cols])\n",
      "c:\\Users\\tacke\\anaconda3\\envs\\modern_ts_2E\\Lib\\site-packages\\pytorch_tabular\\tabular_datamodule.py:372: FutureWarning: Setting an item of incompatible dtype is deprecated and will raise in a future error of pandas. Value '[-1.24368844 -1.24368844 -1.24368844 ... -1.24368844 -1.24368844\n",
      " -1.24368844]' has dtype incompatible with float32, please explicitly cast to a compatible dtype first.\n",
      "  data.loc[:, self.config.continuous_cols] = self.scaler.transform(data.loc[:, self.config.continuous_cols])\n",
      "c:\\Users\\tacke\\anaconda3\\envs\\modern_ts_2E\\Lib\\site-packages\\pytorch_tabular\\tabular_datamodule.py:372: FutureWarning: Setting an item of incompatible dtype is deprecated and will raise in a future error of pandas. Value '[-3.48587979e-06 -3.48587979e-06  3.65953155e-01 ... -7.06977432e-01\n",
      " -3.65960127e-01 -3.65960127e-01]' has dtype incompatible with float32, please explicitly cast to a compatible dtype first.\n",
      "  data.loc[:, self.config.continuous_cols] = self.scaler.transform(data.loc[:, self.config.continuous_cols])\n",
      "c:\\Users\\tacke\\anaconda3\\envs\\modern_ts_2E\\Lib\\site-packages\\pytorch_tabular\\tabular_datamodule.py:372: FutureWarning: Setting an item of incompatible dtype is deprecated and will raise in a future error of pandas. Value '[ 1.80825223e-04  1.80825223e-04  7.07325167e-01 ... -1.22462908e+00\n",
      " -7.06963516e-01 -7.06963516e-01]' has dtype incompatible with float32, please explicitly cast to a compatible dtype first.\n",
      "  data.loc[:, self.config.continuous_cols] = self.scaler.transform(data.loc[:, self.config.continuous_cols])\n",
      "c:\\Users\\tacke\\anaconda3\\envs\\modern_ts_2E\\Lib\\site-packages\\pytorch_tabular\\tabular_datamodule.py:372: FutureWarning: Setting an item of incompatible dtype is deprecated and will raise in a future error of pandas. Value '[ 2.09252457e-04  2.09252457e-04  1.00044764e+00 ... -1.41434147e+00\n",
      " -1.00002914e+00 -1.00002914e+00]' has dtype incompatible with float32, please explicitly cast to a compatible dtype first.\n",
      "  data.loc[:, self.config.continuous_cols] = self.scaler.transform(data.loc[:, self.config.continuous_cols])\n",
      "c:\\Users\\tacke\\anaconda3\\envs\\modern_ts_2E\\Lib\\site-packages\\pytorch_tabular\\tabular_datamodule.py:372: FutureWarning: Setting an item of incompatible dtype is deprecated and will raise in a future error of pandas. Value '[ 1.49484965e-04  1.49484965e-04  1.22499864e+00 ... -1.22469967e+00\n",
      " -1.22469967e+00 -1.22469967e+00]' has dtype incompatible with float32, please explicitly cast to a compatible dtype first.\n",
      "  data.loc[:, self.config.continuous_cols] = self.scaler.transform(data.loc[:, self.config.continuous_cols])\n",
      "c:\\Users\\tacke\\anaconda3\\envs\\modern_ts_2E\\Lib\\site-packages\\pytorch_tabular\\tabular_datamodule.py:372: FutureWarning: Setting an item of incompatible dtype is deprecated and will raise in a future error of pandas. Value '[-3.58182490e-04 -3.58182490e-04  1.36568853e+00 ... -7.07476003e-01\n",
      " -1.36640489e+00 -1.36640489e+00]' has dtype incompatible with float32, please explicitly cast to a compatible dtype first.\n",
      "  data.loc[:, self.config.continuous_cols] = self.scaler.transform(data.loc[:, self.config.continuous_cols])\n",
      "c:\\Users\\tacke\\anaconda3\\envs\\modern_ts_2E\\Lib\\site-packages\\pytorch_tabular\\tabular_datamodule.py:372: FutureWarning: Setting an item of incompatible dtype is deprecated and will raise in a future error of pandas. Value '[1.41448591 1.41448591 1.36628867 ... 1.22498158 1.36628867 1.36628867]' has dtype incompatible with float32, please explicitly cast to a compatible dtype first.\n",
      "  data.loc[:, self.config.continuous_cols] = self.scaler.transform(data.loc[:, self.config.continuous_cols])\n",
      "c:\\Users\\tacke\\anaconda3\\envs\\modern_ts_2E\\Lib\\site-packages\\pytorch_tabular\\tabular_datamodule.py:372: FutureWarning: Setting an item of incompatible dtype is deprecated and will raise in a future error of pandas. Value '[1.4146702  1.4146702  1.22521152 ... 0.70760085 1.22521152 1.22521152]' has dtype incompatible with float32, please explicitly cast to a compatible dtype first.\n",
      "  data.loc[:, self.config.continuous_cols] = self.scaler.transform(data.loc[:, self.config.continuous_cols])\n",
      "c:\\Users\\tacke\\anaconda3\\envs\\modern_ts_2E\\Lib\\site-packages\\pytorch_tabular\\tabular_datamodule.py:372: FutureWarning: Setting an item of incompatible dtype is deprecated and will raise in a future error of pandas. Value '[ 1.41362928e+00  1.41362928e+00  9.99514354e-01 ... -2.47463416e-04\n",
      "  9.99514354e-01  9.99514354e-01]' has dtype incompatible with float32, please explicitly cast to a compatible dtype first.\n",
      "  data.loc[:, self.config.continuous_cols] = self.scaler.transform(data.loc[:, self.config.continuous_cols])\n",
      "c:\\Users\\tacke\\anaconda3\\envs\\modern_ts_2E\\Lib\\site-packages\\pytorch_tabular\\tabular_datamodule.py:372: FutureWarning: Setting an item of incompatible dtype is deprecated and will raise in a future error of pandas. Value '[ 1.41394306  1.41394306  0.70689646 ... -0.70719675  0.70689646\n",
      "  0.70689646]' has dtype incompatible with float32, please explicitly cast to a compatible dtype first.\n",
      "  data.loc[:, self.config.continuous_cols] = self.scaler.transform(data.loc[:, self.config.continuous_cols])\n",
      "c:\\Users\\tacke\\anaconda3\\envs\\modern_ts_2E\\Lib\\site-packages\\pytorch_tabular\\tabular_datamodule.py:372: FutureWarning: Setting an item of incompatible dtype is deprecated and will raise in a future error of pandas. Value '[ 1.41457227  1.41457227  0.3664003  ... -1.22434537  0.3664003\n",
      "  0.3664003 ]' has dtype incompatible with float32, please explicitly cast to a compatible dtype first.\n",
      "  data.loc[:, self.config.continuous_cols] = self.scaler.transform(data.loc[:, self.config.continuous_cols])\n",
      "c:\\Users\\tacke\\anaconda3\\envs\\modern_ts_2E\\Lib\\site-packages\\pytorch_tabular\\tabular_datamodule.py:372: FutureWarning: Setting an item of incompatible dtype is deprecated and will raise in a future error of pandas. Value '[-1.00050478  0.99949548 -1.00050478 ...  0.99949548 -1.00050478\n",
      "  0.99949548]' has dtype incompatible with float32, please explicitly cast to a compatible dtype first.\n",
      "  data.loc[:, self.config.continuous_cols] = self.scaler.transform(data.loc[:, self.config.continuous_cols])\n",
      "c:\\Users\\tacke\\anaconda3\\envs\\modern_ts_2E\\Lib\\site-packages\\pytorch_tabular\\tabular_datamodule.py:372: FutureWarning: Setting an item of incompatible dtype is deprecated and will raise in a future error of pandas. Value '[ 1.00050478 -0.99949548  1.00050478 ... -0.99949548  1.00050478\n",
      " -0.99949548]' has dtype incompatible with float32, please explicitly cast to a compatible dtype first.\n",
      "  data.loc[:, self.config.continuous_cols] = self.scaler.transform(data.loc[:, self.config.continuous_cols])\n",
      "c:\\Users\\tacke\\anaconda3\\envs\\modern_ts_2E\\Lib\\site-packages\\pytorch_tabular\\tabular_datamodule.py:372: FutureWarning: Setting an item of incompatible dtype is deprecated and will raise in a future error of pandas. Value '[-1.00050478  0.99949548 -1.00050478 ...  0.99949548 -1.00050478\n",
      "  0.99949548]' has dtype incompatible with float32, please explicitly cast to a compatible dtype first.\n",
      "  data.loc[:, self.config.continuous_cols] = self.scaler.transform(data.loc[:, self.config.continuous_cols])\n",
      "c:\\Users\\tacke\\anaconda3\\envs\\modern_ts_2E\\Lib\\site-packages\\pytorch_tabular\\tabular_datamodule.py:372: FutureWarning: Setting an item of incompatible dtype is deprecated and will raise in a future error of pandas. Value '[ 1.00050478 -0.99949548  1.00050478 ... -0.99949548  1.00050478\n",
      " -0.99949548]' has dtype incompatible with float32, please explicitly cast to a compatible dtype first.\n",
      "  data.loc[:, self.config.continuous_cols] = self.scaler.transform(data.loc[:, self.config.continuous_cols])\n",
      "c:\\Users\\tacke\\anaconda3\\envs\\modern_ts_2E\\Lib\\site-packages\\pytorch_tabular\\tabular_datamodule.py:372: FutureWarning: Setting an item of incompatible dtype is deprecated and will raise in a future error of pandas. Value '[-1.00050478  0.99949548 -1.00050478 ...  0.99949548 -1.00050478\n",
      "  0.99949548]' has dtype incompatible with float32, please explicitly cast to a compatible dtype first.\n",
      "  data.loc[:, self.config.continuous_cols] = self.scaler.transform(data.loc[:, self.config.continuous_cols])\n",
      "c:\\Users\\tacke\\anaconda3\\envs\\modern_ts_2E\\Lib\\site-packages\\pytorch_tabular\\tabular_datamodule.py:372: FutureWarning: Setting an item of incompatible dtype is deprecated and will raise in a future error of pandas. Value '[ 1.00050478 -0.99949548  1.00050478 ... -0.99949548  1.00050478\n",
      " -0.99949548]' has dtype incompatible with float32, please explicitly cast to a compatible dtype first.\n",
      "  data.loc[:, self.config.continuous_cols] = self.scaler.transform(data.loc[:, self.config.continuous_cols])\n",
      "c:\\Users\\tacke\\anaconda3\\envs\\modern_ts_2E\\Lib\\site-packages\\pytorch_tabular\\tabular_datamodule.py:372: FutureWarning: Setting an item of incompatible dtype is deprecated and will raise in a future error of pandas. Value '[ 1.00050478 -0.99949548  1.00050478 ... -0.99949548  1.00050478\n",
      " -0.99949548]' has dtype incompatible with float32, please explicitly cast to a compatible dtype first.\n",
      "  data.loc[:, self.config.continuous_cols] = self.scaler.transform(data.loc[:, self.config.continuous_cols])\n",
      "c:\\Users\\tacke\\anaconda3\\envs\\modern_ts_2E\\Lib\\site-packages\\pytorch_tabular\\tabular_datamodule.py:372: FutureWarning: Setting an item of incompatible dtype is deprecated and will raise in a future error of pandas. Value '[ 1.00050478 -0.99949548  1.00050478 ... -0.99949548  1.00050478\n",
      " -0.99949548]' has dtype incompatible with float32, please explicitly cast to a compatible dtype first.\n",
      "  data.loc[:, self.config.continuous_cols] = self.scaler.transform(data.loc[:, self.config.continuous_cols])\n",
      "c:\\Users\\tacke\\anaconda3\\envs\\modern_ts_2E\\Lib\\site-packages\\pytorch_tabular\\tabular_datamodule.py:372: FutureWarning: Setting an item of incompatible dtype is deprecated and will raise in a future error of pandas. Value '[-0.10850169 -0.10850169 -0.10850169 ... -0.10850169 -0.10850169\n",
      " -0.10850169]' has dtype incompatible with int32, please explicitly cast to a compatible dtype first.\n",
      "  data.loc[:, self.config.continuous_cols] = self.scaler.transform(data.loc[:, self.config.continuous_cols])\n",
      "c:\\Users\\tacke\\anaconda3\\envs\\modern_ts_2E\\Lib\\site-packages\\pytorch_tabular\\tabular_datamodule.py:372: FutureWarning: Setting an item of incompatible dtype is deprecated and will raise in a future error of pandas. Value '[ 9.81541553  9.81541553  9.81541553 ... -0.10188056 -0.10188056\n",
      " -0.10188056]' has dtype incompatible with int32, please explicitly cast to a compatible dtype first.\n",
      "  data.loc[:, self.config.continuous_cols] = self.scaler.transform(data.loc[:, self.config.continuous_cols])\n",
      "c:\\Users\\tacke\\anaconda3\\envs\\modern_ts_2E\\Lib\\site-packages\\pytorch_tabular\\tabular_datamodule.py:372: FutureWarning: Setting an item of incompatible dtype is deprecated and will raise in a future error of pandas. Value '[-0.05709106 -0.05709106 -0.05709106 ... -0.05709106 -0.05709106\n",
      " -0.05709106]' has dtype incompatible with int32, please explicitly cast to a compatible dtype first.\n",
      "  data.loc[:, self.config.continuous_cols] = self.scaler.transform(data.loc[:, self.config.continuous_cols])\n",
      "c:\\Users\\tacke\\anaconda3\\envs\\modern_ts_2E\\Lib\\site-packages\\pytorch_tabular\\tabular_datamodule.py:372: FutureWarning: Setting an item of incompatible dtype is deprecated and will raise in a future error of pandas. Value '[23.24224136 23.24224136 23.24224136 ... -0.04302511 -0.04302511\n",
      " -0.04302511]' has dtype incompatible with int32, please explicitly cast to a compatible dtype first.\n",
      "  data.loc[:, self.config.continuous_cols] = self.scaler.transform(data.loc[:, self.config.continuous_cols])\n",
      "c:\\Users\\tacke\\anaconda3\\envs\\modern_ts_2E\\Lib\\site-packages\\pytorch_tabular\\tabular_datamodule.py:372: FutureWarning: Setting an item of incompatible dtype is deprecated and will raise in a future error of pandas. Value '[ 5.48646586  5.48646586  5.48646586 ... -0.1822667  -0.1822667\n",
      " -0.1822667 ]' has dtype incompatible with int32, please explicitly cast to a compatible dtype first.\n",
      "  data.loc[:, self.config.continuous_cols] = self.scaler.transform(data.loc[:, self.config.continuous_cols])\n"
     ]
    },
    {
     "data": {
      "application/vnd.jupyter.widget-view+json": {
       "model_id": "6722e5ea6c95429bbb21f6364edb3ea5",
       "version_major": 2,
       "version_minor": 0
      },
      "text/plain": [
       "Calculating metrics...:   0%|          | 0/69 [00:00<?, ?it/s]"
      ]
     },
     "metadata": {},
     "output_type": "display_data"
    }
   ],
   "source": [
    "forecast_df = tabular_model.predict(test_df, include_input_features=False)\n",
    "pred_df = pred_df.join(forecast_df[[\"energy_consumption_prediction\"]]).rename(\n",
    "    columns={\"energy_consumption_prediction\": model_config._model_name}\n",
    ")\n",
    "agg_metrics, eval_metrics_df = evaluate_forecast(\n",
    "    y_pred=forecast_df[f\"{target}_prediction\"],\n",
    "    test_target=test_df[\"energy_consumption\"],\n",
    "    train_target=train_df[\"energy_consumption\"],\n",
    "    model_name=model_config._model_name,\n",
    ")\n",
    "metric_record.append(agg_metrics)"
   ]
  },
  {
   "cell_type": "markdown",
   "id": "e5e51169-e983-44f0-97b0-c39d988ce549",
   "metadata": {
    "tags": []
   },
   "source": [
    "# Evaluation of ML Forecast"
   ]
  },
  {
   "cell_type": "code",
   "execution_count": 24,
   "id": "08744668-4986-43f1-b744-fd5ad49353c4",
   "metadata": {},
   "outputs": [
    {
     "data": {
      "text/html": [
       "<style type=\"text/css\">\n",
       "#T_24ea6_row0_col1, #T_24ea6_row0_col2, #T_24ea6_row0_col3 {\n",
       "  background-color: lightgreen;\n",
       "}\n",
       "#T_24ea6_row1_col4 {\n",
       "  color: black;\n",
       "  background-color: lightgreen;\n",
       "}\n",
       "</style>\n",
       "<table id=\"T_24ea6\">\n",
       "  <thead>\n",
       "    <tr>\n",
       "      <th class=\"blank level0\" >&nbsp;</th>\n",
       "      <th id=\"T_24ea6_level0_col0\" class=\"col_heading level0 col0\" >Algorithm</th>\n",
       "      <th id=\"T_24ea6_level0_col1\" class=\"col_heading level0 col1\" >MAE</th>\n",
       "      <th id=\"T_24ea6_level0_col2\" class=\"col_heading level0 col2\" >MSE</th>\n",
       "      <th id=\"T_24ea6_level0_col3\" class=\"col_heading level0 col3\" >meanMASE</th>\n",
       "      <th id=\"T_24ea6_level0_col4\" class=\"col_heading level0 col4\" >Forecast Bias</th>\n",
       "    </tr>\n",
       "  </thead>\n",
       "  <tbody>\n",
       "    <tr>\n",
       "      <th id=\"T_24ea6_level0_row0\" class=\"row_heading level0 row0\" >0</th>\n",
       "      <td id=\"T_24ea6_row0_col0\" class=\"data row0 col0\" >GFM+Meta  (NativeLGBM)</td>\n",
       "      <td id=\"T_24ea6_row0_col1\" class=\"data row0 col1\" >0.0871</td>\n",
       "      <td id=\"T_24ea6_row0_col2\" class=\"data row0 col2\" >0.0334</td>\n",
       "      <td id=\"T_24ea6_row0_col3\" class=\"data row0 col3\" >1.0685</td>\n",
       "      <td id=\"T_24ea6_row0_col4\" class=\"data row0 col4\" >-0.54%</td>\n",
       "    </tr>\n",
       "    <tr>\n",
       "      <th id=\"T_24ea6_level0_row1\" class=\"row_heading level0 row1\" >1</th>\n",
       "      <td id=\"T_24ea6_row1_col0\" class=\"data row1 col0\" >FTTransformerModel</td>\n",
       "      <td id=\"T_24ea6_row1_col1\" class=\"data row1 col1\" >0.0896</td>\n",
       "      <td id=\"T_24ea6_row1_col2\" class=\"data row1 col2\" >0.0338</td>\n",
       "      <td id=\"T_24ea6_row1_col3\" class=\"data row1 col3\" >1.1664</td>\n",
       "      <td id=\"T_24ea6_row1_col4\" class=\"data row1 col4\" >0.40%</td>\n",
       "    </tr>\n",
       "  </tbody>\n",
       "</table>\n"
      ],
      "text/plain": [
       "<pandas.io.formats.style.Styler at 0x17102ce5750>"
      ]
     },
     "execution_count": 24,
     "metadata": {},
     "output_type": "execute_result"
    }
   ],
   "source": [
    "agg_metrics_df = pd.DataFrame(metric_record)\n",
    "agg_metrics_df.style.format({\"MAE\": \"{:.4f}\", \n",
    "                          \"MSE\": \"{:.4f}\", \n",
    "                          \"meanMASE\": \"{:.4f}\", \n",
    "                          \"Forecast Bias\": \"{:.2f}%\"}).highlight_min(color='lightgreen', subset=[\"MAE\",\"MSE\",\"meanMASE\"]).apply(highlight_abs_min, props='color:black;background-color:lightgreen', axis=0, subset=['Forecast Bias'])"
   ]
  },
  {
   "cell_type": "code",
   "execution_count": 25,
   "id": "bc6f752c-58b2-4447-804a-1c69cb81f905",
   "metadata": {},
   "outputs": [],
   "source": [
    "metrics_df = pd.concat([eval_metrics_df,baseline_metrics_df])"
   ]
  },
  {
   "cell_type": "code",
   "execution_count": 26,
   "id": "9d164184-dca3-4472-a138-c260019eeb68",
   "metadata": {},
   "outputs": [
    {
     "data": {
      "application/vnd.plotly.v1+json": {
       "config": {
        "plotlyServerURL": "https://plot.ly"
       },
       "data": [
        {
         "alignmentgroup": "True",
         "bingroup": "x",
         "histnorm": "probability density",
         "hovertemplate": "Algorithm=FTTransformerModel<br>MASE=%{x}<br>probability density=%{y}<extra></extra>",
         "legendgroup": "FTTransformerModel",
         "marker": {
          "color": "#636efa",
          "opacity": 0.5,
          "pattern": {
           "shape": ""
          }
         },
         "name": "FTTransformerModel",
         "nbinsx": 500,
         "offsetgroup": "FTTransformerModel",
         "orientation": "v",
         "showlegend": true,
         "type": "histogram",
         "x": [
          1.241466999053955,
          1.602422833442688,
          1.076127529144287,
          0.9512639045715332,
          1.2433245182037354,
          0.6150515675544739,
          1.5861512422561646,
          1.0532578229904175,
          1.18375825881958,
          0.9006296992301941,
          1.0560907125473022,
          0.9950157403945923,
          1.0256521701812744,
          1.230441927909851,
          1.0069819688796997,
          0.8403621912002563,
          1.2139898538589478,
          0.40099090337753296,
          1.0745526552200317,
          0.8487341403961182,
          1.2440012693405151,
          1.1526278257369995,
          0.7144597768783569,
          0.9157044887542725,
          0.7498682141304016,
          0.8510658144950867,
          1.0661686658859253,
          4.3330817222595215,
          4.098567962646484,
          0.8833122253417969,
          1.2067680358886719,
          0.9947702884674072,
          1.7282882928848267,
          1.2701269388198853,
          0.9631494879722595,
          0.9470932483673096,
          1.042978286743164,
          0.7358283400535583,
          1.0488166809082031,
          0.9170342087745667,
          0.8785643577575684,
          1.2228409051895142,
          1.2231422662734985,
          0.9340842366218567,
          1.076518177986145,
          0.8671481609344482,
          1.6278266906738281,
          1.2108848094940186,
          0.7093039751052856,
          2.515436887741089,
          1.2702172994613647,
          1.139093279838562,
          0.9716126918792725,
          0.3462202548980713,
          0.9053655862808228,
          1.2506085634231567,
          0.9860711097717285,
          0.9023536443710327,
          1.065542221069336,
          0.8519144654273987,
          1.0827226638793945,
          1.0160462856292725,
          1.9126217365264893,
          0.7984133362770081,
          1.1452656984329224,
          0.7979117035865784,
          1.0316617488861084,
          1.4704874753952026,
          1.2631241083145142
         ],
         "xaxis": "x",
         "yaxis": "y"
        },
        {
         "alignmentgroup": "True",
         "hovertemplate": "Algorithm=FTTransformerModel<br>MASE=%{x}<extra></extra>",
         "legendgroup": "FTTransformerModel",
         "marker": {
          "color": "#636efa"
         },
         "name": "FTTransformerModel",
         "notched": true,
         "offsetgroup": "FTTransformerModel",
         "showlegend": false,
         "type": "box",
         "x": [
          1.241466999053955,
          1.602422833442688,
          1.076127529144287,
          0.9512639045715332,
          1.2433245182037354,
          0.6150515675544739,
          1.5861512422561646,
          1.0532578229904175,
          1.18375825881958,
          0.9006296992301941,
          1.0560907125473022,
          0.9950157403945923,
          1.0256521701812744,
          1.230441927909851,
          1.0069819688796997,
          0.8403621912002563,
          1.2139898538589478,
          0.40099090337753296,
          1.0745526552200317,
          0.8487341403961182,
          1.2440012693405151,
          1.1526278257369995,
          0.7144597768783569,
          0.9157044887542725,
          0.7498682141304016,
          0.8510658144950867,
          1.0661686658859253,
          4.3330817222595215,
          4.098567962646484,
          0.8833122253417969,
          1.2067680358886719,
          0.9947702884674072,
          1.7282882928848267,
          1.2701269388198853,
          0.9631494879722595,
          0.9470932483673096,
          1.042978286743164,
          0.7358283400535583,
          1.0488166809082031,
          0.9170342087745667,
          0.8785643577575684,
          1.2228409051895142,
          1.2231422662734985,
          0.9340842366218567,
          1.076518177986145,
          0.8671481609344482,
          1.6278266906738281,
          1.2108848094940186,
          0.7093039751052856,
          2.515436887741089,
          1.2702172994613647,
          1.139093279838562,
          0.9716126918792725,
          0.3462202548980713,
          0.9053655862808228,
          1.2506085634231567,
          0.9860711097717285,
          0.9023536443710327,
          1.065542221069336,
          0.8519144654273987,
          1.0827226638793945,
          1.0160462856292725,
          1.9126217365264893,
          0.7984133362770081,
          1.1452656984329224,
          0.7979117035865784,
          1.0316617488861084,
          1.4704874753952026,
          1.2631241083145142
         ],
         "xaxis": "x2",
         "yaxis": "y2"
        },
        {
         "alignmentgroup": "True",
         "bingroup": "x",
         "histnorm": "probability density",
         "hovertemplate": "Algorithm=GFM+Meta  (NativeLGBM)<br>MASE=%{x}<br>probability density=%{y}<extra></extra>",
         "legendgroup": "GFM+Meta  (NativeLGBM)",
         "marker": {
          "color": "#EF553B",
          "opacity": 0.5,
          "pattern": {
           "shape": "/"
          }
         },
         "name": "GFM+Meta  (NativeLGBM)",
         "nbinsx": 500,
         "offsetgroup": "GFM+Meta  (NativeLGBM)",
         "orientation": "v",
         "showlegend": true,
         "type": "histogram",
         "x": [
          1.1156064673504977,
          1.5694061682303089,
          1.038485901707348,
          0.9416353818974071,
          1.222709659807939,
          0.6045684846003362,
          1.7012002511158533,
          0.9548968347216007,
          1.1430579007355384,
          0.8503208604632088,
          1.045761235838203,
          0.9364604735241949,
          0.9308375807321815,
          1.1648983848215415,
          1.0284124849533087,
          0.7025438117621763,
          0.8872119478951508,
          0.22726612528052756,
          1.0190877060745536,
          0.7722534754784273,
          1.2067900498364406,
          1.1945710965477572,
          0.6955544418187801,
          0.8804843648660059,
          0.6977026858578667,
          0.8106395893948325,
          0.9498825141529403,
          1.0802815658263618,
          4.121594201912149,
          0.8241690953301579,
          1.2096088439471007,
          0.9720944576409613,
          1.604183743223173,
          1.2127688519423359,
          0.9261897029113306,
          0.933642395987092,
          1.023924000089946,
          0.6620321427631665,
          1.0012272009831955,
          0.8541125014140328,
          0.80138062341555,
          1.2611792624719416,
          1.2133509937696394,
          0.9512958320263699,
          1.1153861282102764,
          0.9153509253563079,
          1.4821161013597162,
          1.2000882645773907,
          0.7133676009735662,
          2.04854073215092,
          1.2776637476332806,
          1.0470025156168943,
          0.9658539663809327,
          0.24690483788065085,
          0.8692847693515316,
          1.1315936446769568,
          0.8937245488843378,
          0.8576454310697249,
          1.0596152338097036,
          0.843686701635508,
          1.0801183138929233,
          0.9428569727945649,
          1.734806904505733,
          0.702389167275541,
          1.2211652685664542,
          0.7895434510301774,
          0.9596020685660255,
          1.4563334480058958,
          1.2233414445790884
         ],
         "xaxis": "x",
         "yaxis": "y"
        },
        {
         "alignmentgroup": "True",
         "hovertemplate": "Algorithm=GFM+Meta  (NativeLGBM)<br>MASE=%{x}<extra></extra>",
         "legendgroup": "GFM+Meta  (NativeLGBM)",
         "marker": {
          "color": "#EF553B"
         },
         "name": "GFM+Meta  (NativeLGBM)",
         "notched": true,
         "offsetgroup": "GFM+Meta  (NativeLGBM)",
         "showlegend": false,
         "type": "box",
         "x": [
          1.1156064673504977,
          1.5694061682303089,
          1.038485901707348,
          0.9416353818974071,
          1.222709659807939,
          0.6045684846003362,
          1.7012002511158533,
          0.9548968347216007,
          1.1430579007355384,
          0.8503208604632088,
          1.045761235838203,
          0.9364604735241949,
          0.9308375807321815,
          1.1648983848215415,
          1.0284124849533087,
          0.7025438117621763,
          0.8872119478951508,
          0.22726612528052756,
          1.0190877060745536,
          0.7722534754784273,
          1.2067900498364406,
          1.1945710965477572,
          0.6955544418187801,
          0.8804843648660059,
          0.6977026858578667,
          0.8106395893948325,
          0.9498825141529403,
          1.0802815658263618,
          4.121594201912149,
          0.8241690953301579,
          1.2096088439471007,
          0.9720944576409613,
          1.604183743223173,
          1.2127688519423359,
          0.9261897029113306,
          0.933642395987092,
          1.023924000089946,
          0.6620321427631665,
          1.0012272009831955,
          0.8541125014140328,
          0.80138062341555,
          1.2611792624719416,
          1.2133509937696394,
          0.9512958320263699,
          1.1153861282102764,
          0.9153509253563079,
          1.4821161013597162,
          1.2000882645773907,
          0.7133676009735662,
          2.04854073215092,
          1.2776637476332806,
          1.0470025156168943,
          0.9658539663809327,
          0.24690483788065085,
          0.8692847693515316,
          1.1315936446769568,
          0.8937245488843378,
          0.8576454310697249,
          1.0596152338097036,
          0.843686701635508,
          1.0801183138929233,
          0.9428569727945649,
          1.734806904505733,
          0.702389167275541,
          1.2211652685664542,
          0.7895434510301774,
          0.9596020685660255,
          1.4563334480058958,
          1.2233414445790884
         ],
         "xaxis": "x2",
         "yaxis": "y2"
        }
       ],
       "layout": {
        "autosize": false,
        "barmode": "overlay",
        "height": 500,
        "legend": {
         "font": {
          "size": 15
         },
         "orientation": "h",
         "title": {},
         "tracegroupgap": 0,
         "x": 1,
         "xanchor": "right",
         "y": 0.98,
         "yanchor": "bottom"
        },
        "margin": {
         "t": 60
        },
        "template": {
         "data": {
          "bar": [
           {
            "error_x": {
             "color": "#2a3f5f"
            },
            "error_y": {
             "color": "#2a3f5f"
            },
            "marker": {
             "line": {
              "color": "white",
              "width": 0.5
             },
             "pattern": {
              "fillmode": "overlay",
              "size": 10,
              "solidity": 0.2
             }
            },
            "type": "bar"
           }
          ],
          "barpolar": [
           {
            "marker": {
             "line": {
              "color": "white",
              "width": 0.5
             },
             "pattern": {
              "fillmode": "overlay",
              "size": 10,
              "solidity": 0.2
             }
            },
            "type": "barpolar"
           }
          ],
          "carpet": [
           {
            "aaxis": {
             "endlinecolor": "#2a3f5f",
             "gridcolor": "#C8D4E3",
             "linecolor": "#C8D4E3",
             "minorgridcolor": "#C8D4E3",
             "startlinecolor": "#2a3f5f"
            },
            "baxis": {
             "endlinecolor": "#2a3f5f",
             "gridcolor": "#C8D4E3",
             "linecolor": "#C8D4E3",
             "minorgridcolor": "#C8D4E3",
             "startlinecolor": "#2a3f5f"
            },
            "type": "carpet"
           }
          ],
          "choropleth": [
           {
            "colorbar": {
             "outlinewidth": 0,
             "ticks": ""
            },
            "type": "choropleth"
           }
          ],
          "contour": [
           {
            "colorbar": {
             "outlinewidth": 0,
             "ticks": ""
            },
            "colorscale": [
             [
              0,
              "#0d0887"
             ],
             [
              0.1111111111111111,
              "#46039f"
             ],
             [
              0.2222222222222222,
              "#7201a8"
             ],
             [
              0.3333333333333333,
              "#9c179e"
             ],
             [
              0.4444444444444444,
              "#bd3786"
             ],
             [
              0.5555555555555556,
              "#d8576b"
             ],
             [
              0.6666666666666666,
              "#ed7953"
             ],
             [
              0.7777777777777778,
              "#fb9f3a"
             ],
             [
              0.8888888888888888,
              "#fdca26"
             ],
             [
              1,
              "#f0f921"
             ]
            ],
            "type": "contour"
           }
          ],
          "contourcarpet": [
           {
            "colorbar": {
             "outlinewidth": 0,
             "ticks": ""
            },
            "type": "contourcarpet"
           }
          ],
          "heatmap": [
           {
            "colorbar": {
             "outlinewidth": 0,
             "ticks": ""
            },
            "colorscale": [
             [
              0,
              "#0d0887"
             ],
             [
              0.1111111111111111,
              "#46039f"
             ],
             [
              0.2222222222222222,
              "#7201a8"
             ],
             [
              0.3333333333333333,
              "#9c179e"
             ],
             [
              0.4444444444444444,
              "#bd3786"
             ],
             [
              0.5555555555555556,
              "#d8576b"
             ],
             [
              0.6666666666666666,
              "#ed7953"
             ],
             [
              0.7777777777777778,
              "#fb9f3a"
             ],
             [
              0.8888888888888888,
              "#fdca26"
             ],
             [
              1,
              "#f0f921"
             ]
            ],
            "type": "heatmap"
           }
          ],
          "heatmapgl": [
           {
            "colorbar": {
             "outlinewidth": 0,
             "ticks": ""
            },
            "colorscale": [
             [
              0,
              "#0d0887"
             ],
             [
              0.1111111111111111,
              "#46039f"
             ],
             [
              0.2222222222222222,
              "#7201a8"
             ],
             [
              0.3333333333333333,
              "#9c179e"
             ],
             [
              0.4444444444444444,
              "#bd3786"
             ],
             [
              0.5555555555555556,
              "#d8576b"
             ],
             [
              0.6666666666666666,
              "#ed7953"
             ],
             [
              0.7777777777777778,
              "#fb9f3a"
             ],
             [
              0.8888888888888888,
              "#fdca26"
             ],
             [
              1,
              "#f0f921"
             ]
            ],
            "type": "heatmapgl"
           }
          ],
          "histogram": [
           {
            "marker": {
             "pattern": {
              "fillmode": "overlay",
              "size": 10,
              "solidity": 0.2
             }
            },
            "type": "histogram"
           }
          ],
          "histogram2d": [
           {
            "colorbar": {
             "outlinewidth": 0,
             "ticks": ""
            },
            "colorscale": [
             [
              0,
              "#0d0887"
             ],
             [
              0.1111111111111111,
              "#46039f"
             ],
             [
              0.2222222222222222,
              "#7201a8"
             ],
             [
              0.3333333333333333,
              "#9c179e"
             ],
             [
              0.4444444444444444,
              "#bd3786"
             ],
             [
              0.5555555555555556,
              "#d8576b"
             ],
             [
              0.6666666666666666,
              "#ed7953"
             ],
             [
              0.7777777777777778,
              "#fb9f3a"
             ],
             [
              0.8888888888888888,
              "#fdca26"
             ],
             [
              1,
              "#f0f921"
             ]
            ],
            "type": "histogram2d"
           }
          ],
          "histogram2dcontour": [
           {
            "colorbar": {
             "outlinewidth": 0,
             "ticks": ""
            },
            "colorscale": [
             [
              0,
              "#0d0887"
             ],
             [
              0.1111111111111111,
              "#46039f"
             ],
             [
              0.2222222222222222,
              "#7201a8"
             ],
             [
              0.3333333333333333,
              "#9c179e"
             ],
             [
              0.4444444444444444,
              "#bd3786"
             ],
             [
              0.5555555555555556,
              "#d8576b"
             ],
             [
              0.6666666666666666,
              "#ed7953"
             ],
             [
              0.7777777777777778,
              "#fb9f3a"
             ],
             [
              0.8888888888888888,
              "#fdca26"
             ],
             [
              1,
              "#f0f921"
             ]
            ],
            "type": "histogram2dcontour"
           }
          ],
          "mesh3d": [
           {
            "colorbar": {
             "outlinewidth": 0,
             "ticks": ""
            },
            "type": "mesh3d"
           }
          ],
          "parcoords": [
           {
            "line": {
             "colorbar": {
              "outlinewidth": 0,
              "ticks": ""
             }
            },
            "type": "parcoords"
           }
          ],
          "pie": [
           {
            "automargin": true,
            "type": "pie"
           }
          ],
          "scatter": [
           {
            "fillpattern": {
             "fillmode": "overlay",
             "size": 10,
             "solidity": 0.2
            },
            "type": "scatter"
           }
          ],
          "scatter3d": [
           {
            "line": {
             "colorbar": {
              "outlinewidth": 0,
              "ticks": ""
             }
            },
            "marker": {
             "colorbar": {
              "outlinewidth": 0,
              "ticks": ""
             }
            },
            "type": "scatter3d"
           }
          ],
          "scattercarpet": [
           {
            "marker": {
             "colorbar": {
              "outlinewidth": 0,
              "ticks": ""
             }
            },
            "type": "scattercarpet"
           }
          ],
          "scattergeo": [
           {
            "marker": {
             "colorbar": {
              "outlinewidth": 0,
              "ticks": ""
             }
            },
            "type": "scattergeo"
           }
          ],
          "scattergl": [
           {
            "marker": {
             "colorbar": {
              "outlinewidth": 0,
              "ticks": ""
             }
            },
            "type": "scattergl"
           }
          ],
          "scattermapbox": [
           {
            "marker": {
             "colorbar": {
              "outlinewidth": 0,
              "ticks": ""
             }
            },
            "type": "scattermapbox"
           }
          ],
          "scatterpolar": [
           {
            "marker": {
             "colorbar": {
              "outlinewidth": 0,
              "ticks": ""
             }
            },
            "type": "scatterpolar"
           }
          ],
          "scatterpolargl": [
           {
            "marker": {
             "colorbar": {
              "outlinewidth": 0,
              "ticks": ""
             }
            },
            "type": "scatterpolargl"
           }
          ],
          "scatterternary": [
           {
            "marker": {
             "colorbar": {
              "outlinewidth": 0,
              "ticks": ""
             }
            },
            "type": "scatterternary"
           }
          ],
          "surface": [
           {
            "colorbar": {
             "outlinewidth": 0,
             "ticks": ""
            },
            "colorscale": [
             [
              0,
              "#0d0887"
             ],
             [
              0.1111111111111111,
              "#46039f"
             ],
             [
              0.2222222222222222,
              "#7201a8"
             ],
             [
              0.3333333333333333,
              "#9c179e"
             ],
             [
              0.4444444444444444,
              "#bd3786"
             ],
             [
              0.5555555555555556,
              "#d8576b"
             ],
             [
              0.6666666666666666,
              "#ed7953"
             ],
             [
              0.7777777777777778,
              "#fb9f3a"
             ],
             [
              0.8888888888888888,
              "#fdca26"
             ],
             [
              1,
              "#f0f921"
             ]
            ],
            "type": "surface"
           }
          ],
          "table": [
           {
            "cells": {
             "fill": {
              "color": "#EBF0F8"
             },
             "line": {
              "color": "white"
             }
            },
            "header": {
             "fill": {
              "color": "#C8D4E3"
             },
             "line": {
              "color": "white"
             }
            },
            "type": "table"
           }
          ]
         },
         "layout": {
          "annotationdefaults": {
           "arrowcolor": "#2a3f5f",
           "arrowhead": 0,
           "arrowwidth": 1
          },
          "autotypenumbers": "strict",
          "coloraxis": {
           "colorbar": {
            "outlinewidth": 0,
            "ticks": ""
           }
          },
          "colorscale": {
           "diverging": [
            [
             0,
             "#8e0152"
            ],
            [
             0.1,
             "#c51b7d"
            ],
            [
             0.2,
             "#de77ae"
            ],
            [
             0.3,
             "#f1b6da"
            ],
            [
             0.4,
             "#fde0ef"
            ],
            [
             0.5,
             "#f7f7f7"
            ],
            [
             0.6,
             "#e6f5d0"
            ],
            [
             0.7,
             "#b8e186"
            ],
            [
             0.8,
             "#7fbc41"
            ],
            [
             0.9,
             "#4d9221"
            ],
            [
             1,
             "#276419"
            ]
           ],
           "sequential": [
            [
             0,
             "#0d0887"
            ],
            [
             0.1111111111111111,
             "#46039f"
            ],
            [
             0.2222222222222222,
             "#7201a8"
            ],
            [
             0.3333333333333333,
             "#9c179e"
            ],
            [
             0.4444444444444444,
             "#bd3786"
            ],
            [
             0.5555555555555556,
             "#d8576b"
            ],
            [
             0.6666666666666666,
             "#ed7953"
            ],
            [
             0.7777777777777778,
             "#fb9f3a"
            ],
            [
             0.8888888888888888,
             "#fdca26"
            ],
            [
             1,
             "#f0f921"
            ]
           ],
           "sequentialminus": [
            [
             0,
             "#0d0887"
            ],
            [
             0.1111111111111111,
             "#46039f"
            ],
            [
             0.2222222222222222,
             "#7201a8"
            ],
            [
             0.3333333333333333,
             "#9c179e"
            ],
            [
             0.4444444444444444,
             "#bd3786"
            ],
            [
             0.5555555555555556,
             "#d8576b"
            ],
            [
             0.6666666666666666,
             "#ed7953"
            ],
            [
             0.7777777777777778,
             "#fb9f3a"
            ],
            [
             0.8888888888888888,
             "#fdca26"
            ],
            [
             1,
             "#f0f921"
            ]
           ]
          },
          "colorway": [
           "#636efa",
           "#EF553B",
           "#00cc96",
           "#ab63fa",
           "#FFA15A",
           "#19d3f3",
           "#FF6692",
           "#B6E880",
           "#FF97FF",
           "#FECB52"
          ],
          "font": {
           "color": "#2a3f5f"
          },
          "geo": {
           "bgcolor": "white",
           "lakecolor": "white",
           "landcolor": "white",
           "showlakes": true,
           "showland": true,
           "subunitcolor": "#C8D4E3"
          },
          "hoverlabel": {
           "align": "left"
          },
          "hovermode": "closest",
          "mapbox": {
           "style": "light"
          },
          "paper_bgcolor": "white",
          "plot_bgcolor": "white",
          "polar": {
           "angularaxis": {
            "gridcolor": "#EBF0F8",
            "linecolor": "#EBF0F8",
            "ticks": ""
           },
           "bgcolor": "white",
           "radialaxis": {
            "gridcolor": "#EBF0F8",
            "linecolor": "#EBF0F8",
            "ticks": ""
           }
          },
          "scene": {
           "xaxis": {
            "backgroundcolor": "white",
            "gridcolor": "#DFE8F3",
            "gridwidth": 2,
            "linecolor": "#EBF0F8",
            "showbackground": true,
            "ticks": "",
            "zerolinecolor": "#EBF0F8"
           },
           "yaxis": {
            "backgroundcolor": "white",
            "gridcolor": "#DFE8F3",
            "gridwidth": 2,
            "linecolor": "#EBF0F8",
            "showbackground": true,
            "ticks": "",
            "zerolinecolor": "#EBF0F8"
           },
           "zaxis": {
            "backgroundcolor": "white",
            "gridcolor": "#DFE8F3",
            "gridwidth": 2,
            "linecolor": "#EBF0F8",
            "showbackground": true,
            "ticks": "",
            "zerolinecolor": "#EBF0F8"
           }
          },
          "shapedefaults": {
           "line": {
            "color": "#2a3f5f"
           }
          },
          "ternary": {
           "aaxis": {
            "gridcolor": "#DFE8F3",
            "linecolor": "#A2B1C6",
            "ticks": ""
           },
           "baxis": {
            "gridcolor": "#DFE8F3",
            "linecolor": "#A2B1C6",
            "ticks": ""
           },
           "bgcolor": "white",
           "caxis": {
            "gridcolor": "#DFE8F3",
            "linecolor": "#A2B1C6",
            "ticks": ""
           }
          },
          "title": {
           "x": 0.05
          },
          "xaxis": {
           "automargin": true,
           "gridcolor": "#EBF0F8",
           "linecolor": "#EBF0F8",
           "ticks": "",
           "title": {
            "standoff": 15
           },
           "zerolinecolor": "#EBF0F8",
           "zerolinewidth": 2
          },
          "yaxis": {
           "automargin": true,
           "gridcolor": "#EBF0F8",
           "linecolor": "#EBF0F8",
           "ticks": "",
           "title": {
            "standoff": 15
           },
           "zerolinecolor": "#EBF0F8",
           "zerolinewidth": 2
          }
         }
        },
        "title": {
         "font": {
          "size": 20
         },
         "text": "Distribution of MASE in the dataset",
         "x": 0.5,
         "xanchor": "center",
         "yanchor": "top"
        },
        "width": 900,
        "xaxis": {
         "anchor": "y",
         "domain": [
          0,
          1
         ],
         "range": [
          0,
          2
         ],
         "tickfont": {
          "size": 15
         },
         "title": {
          "font": {
           "size": 15
          },
          "text": "MASE"
         }
        },
        "xaxis2": {
         "anchor": "y2",
         "domain": [
          0,
          1
         ],
         "matches": "x",
         "showgrid": true,
         "showticklabels": false
        },
        "yaxis": {
         "anchor": "x",
         "domain": [
          0,
          0.7326
         ],
         "tickfont": {
          "size": 15
         },
         "title": {
          "font": {
           "size": 15
          },
          "text": "Probability Density"
         }
        },
        "yaxis2": {
         "anchor": "x2",
         "domain": [
          0.7426,
          1
         ],
         "matches": "y2",
         "showgrid": false,
         "showline": false,
         "showticklabels": false,
         "ticks": ""
        }
       }
      }
     },
     "metadata": {},
     "output_type": "display_data"
    }
   ],
   "source": [
    "fig = px.histogram(metrics_df, \n",
    "                   x=\"MASE\", \n",
    "                   color=\"Algorithm\",\n",
    "                   pattern_shape=\"Algorithm\", \n",
    "                   marginal=\"box\", \n",
    "                   nbins=500, \n",
    "                   barmode=\"overlay\",\n",
    "                   histnorm=\"probability density\")\n",
    "fig = format_plot(fig, xlabel=\"MASE\", ylabel=\"Probability Density\", title=\"Distribution of MASE in the dataset\")\n",
    "fig.update_layout(xaxis_range=[0,2])\n",
    "# fig.write_image(\"imgs/chapter_13/ft_mase_dist.png\")\n",
    "fig.show()"
   ]
  },
  {
   "cell_type": "code",
   "execution_count": 27,
   "id": "05599872-81eb-406c-b096-cece0d153817",
   "metadata": {},
   "outputs": [
    {
     "data": {
      "application/vnd.plotly.v1+json": {
       "config": {
        "plotlyServerURL": "https://plot.ly"
       },
       "data": [
        {
         "alignmentgroup": "True",
         "bingroup": "x",
         "histnorm": "probability density",
         "hovertemplate": "Algorithm=FTTransformerModel<br>MAE=%{x}<br>probability density=%{y}<extra></extra>",
         "legendgroup": "FTTransformerModel",
         "marker": {
          "color": "#636efa",
          "opacity": 0.5,
          "pattern": {
           "shape": ""
          }
         },
         "name": "FTTransformerModel",
         "nbinsx": 100,
         "offsetgroup": "FTTransformerModel",
         "orientation": "v",
         "showlegend": true,
         "type": "histogram",
         "x": [
          0.04794429987668991,
          0.13772201538085938,
          0.0709780901670456,
          0.054955143481492996,
          0.15954020619392395,
          0.06482794135808945,
          0.2816528081893921,
          0.06132575869560242,
          0.18011240661144257,
          0.04148469865322113,
          0.09878907352685928,
          0.05616733431816101,
          0.0751820057630539,
          0.030538199469447136,
          0.08466368168592453,
          0.024474112316966057,
          0.019870519638061523,
          0.02459806017577648,
          0.06709477305412292,
          0.08001787215471268,
          0.08859433233737946,
          0.1162119209766388,
          0.06279785931110382,
          0.06324370950460434,
          0.048086099326610565,
          0.04377160966396332,
          0.05569418892264366,
          0.00874744076281786,
          0.18324923515319824,
          0.07429344207048416,
          0.15888561308383942,
          0.03149678558111191,
          0.06846833974123001,
          0.05319378897547722,
          0.2528013288974762,
          0.062151771038770676,
          0.06383246928453445,
          0.07469353824853897,
          0.06803389638662338,
          0.043625276535749435,
          0.03722313046455383,
          0.1477421522140503,
          0.054744843393564224,
          0.07348231971263885,
          0.10883846879005432,
          0.10087419301271439,
          0.09103323519229889,
          0.13401934504508972,
          0.11601179093122482,
          0.09510122984647751,
          0.1285354048013687,
          0.10092593729496002,
          0.14576679468154907,
          0.04526917636394501,
          0.17914921045303345,
          0.04123760387301445,
          0.02767784893512726,
          0.06752627342939377,
          0.12242347747087479,
          0.05156344920396805,
          0.16606365144252777,
          0.07663878053426743,
          0.04403744637966156,
          0.04225140064954758,
          0.23085550963878632,
          0.18888632953166962,
          0.03407654911279678,
          0.08043716102838516,
          0.1631222814321518
         ],
         "xaxis": "x",
         "yaxis": "y"
        },
        {
         "alignmentgroup": "True",
         "hovertemplate": "Algorithm=FTTransformerModel<br>MAE=%{x}<extra></extra>",
         "legendgroup": "FTTransformerModel",
         "marker": {
          "color": "#636efa"
         },
         "name": "FTTransformerModel",
         "notched": true,
         "offsetgroup": "FTTransformerModel",
         "showlegend": false,
         "type": "box",
         "x": [
          0.04794429987668991,
          0.13772201538085938,
          0.0709780901670456,
          0.054955143481492996,
          0.15954020619392395,
          0.06482794135808945,
          0.2816528081893921,
          0.06132575869560242,
          0.18011240661144257,
          0.04148469865322113,
          0.09878907352685928,
          0.05616733431816101,
          0.0751820057630539,
          0.030538199469447136,
          0.08466368168592453,
          0.024474112316966057,
          0.019870519638061523,
          0.02459806017577648,
          0.06709477305412292,
          0.08001787215471268,
          0.08859433233737946,
          0.1162119209766388,
          0.06279785931110382,
          0.06324370950460434,
          0.048086099326610565,
          0.04377160966396332,
          0.05569418892264366,
          0.00874744076281786,
          0.18324923515319824,
          0.07429344207048416,
          0.15888561308383942,
          0.03149678558111191,
          0.06846833974123001,
          0.05319378897547722,
          0.2528013288974762,
          0.062151771038770676,
          0.06383246928453445,
          0.07469353824853897,
          0.06803389638662338,
          0.043625276535749435,
          0.03722313046455383,
          0.1477421522140503,
          0.054744843393564224,
          0.07348231971263885,
          0.10883846879005432,
          0.10087419301271439,
          0.09103323519229889,
          0.13401934504508972,
          0.11601179093122482,
          0.09510122984647751,
          0.1285354048013687,
          0.10092593729496002,
          0.14576679468154907,
          0.04526917636394501,
          0.17914921045303345,
          0.04123760387301445,
          0.02767784893512726,
          0.06752627342939377,
          0.12242347747087479,
          0.05156344920396805,
          0.16606365144252777,
          0.07663878053426743,
          0.04403744637966156,
          0.04225140064954758,
          0.23085550963878632,
          0.18888632953166962,
          0.03407654911279678,
          0.08043716102838516,
          0.1631222814321518
         ],
         "xaxis": "x2",
         "yaxis": "y2"
        },
        {
         "alignmentgroup": "True",
         "bingroup": "x",
         "histnorm": "probability density",
         "hovertemplate": "Algorithm=GFM+Meta  (NativeLGBM)<br>MAE=%{x}<br>probability density=%{y}<extra></extra>",
         "legendgroup": "GFM+Meta  (NativeLGBM)",
         "marker": {
          "color": "#EF553B",
          "opacity": 0.5,
          "pattern": {
           "shape": "/"
          }
         },
         "name": "GFM+Meta  (NativeLGBM)",
         "nbinsx": 100,
         "offsetgroup": "GFM+Meta  (NativeLGBM)",
         "orientation": "v",
         "showlegend": true,
         "type": "histogram",
         "x": [
          0.04308368148824954,
          0.1348843596754326,
          0.06849536288952272,
          0.05439889587611983,
          0.15689496193521527,
          0.06372299782721214,
          0.3020820530358938,
          0.055598706610635824,
          0.17391972310565038,
          0.03916737819000904,
          0.0978228335081006,
          0.052861967522768775,
          0.06823193802832843,
          0.028911480297694456,
          0.08646548466853379,
          0.020460388132425577,
          0.01452183709408714,
          0.013941228104498644,
          0.063631555917386,
          0.07280734768092545,
          0.08594425528502016,
          0.12044078467009761,
          0.06113616601440798,
          0.06081120774846209,
          0.04474092908419079,
          0.04169242769229036,
          0.04961967136972168,
          0.0021808264021884586,
          0.18427874552885748,
          0.06931904438206545,
          0.15925964124218125,
          0.030778815374192577,
          0.06355177927440937,
          0.05079159127997643,
          0.2431003576685379,
          0.06126907603540158,
          0.06266630430347364,
          0.06720252486218556,
          0.06494689307367828,
          0.04063195601276035,
          0.033953000532809655,
          0.15237414782768519,
          0.054306611697589074,
          0.07483631919097988,
          0.11276810293707014,
          0.10648155717127336,
          0.0828846382055284,
          0.1328243998887713,
          0.11667642980441449,
          0.07744926886244632,
          0.12928892794140345,
          0.09276650802500881,
          0.14490284115623805,
          0.032283433129322595,
          0.17200971772507878,
          0.03731320371814061,
          0.025085790175877077,
          0.06418060075045472,
          0.12174250392852644,
          0.051065451461705096,
          0.1656642084069357,
          0.07111822467638343,
          0.039943322297977396,
          0.037169876528208946,
          0.24615487393278024,
          0.18690534605199344,
          0.0316963637351653,
          0.07966292372401818,
          0.15798467124496254
         ],
         "xaxis": "x",
         "yaxis": "y"
        },
        {
         "alignmentgroup": "True",
         "hovertemplate": "Algorithm=GFM+Meta  (NativeLGBM)<br>MAE=%{x}<extra></extra>",
         "legendgroup": "GFM+Meta  (NativeLGBM)",
         "marker": {
          "color": "#EF553B"
         },
         "name": "GFM+Meta  (NativeLGBM)",
         "notched": true,
         "offsetgroup": "GFM+Meta  (NativeLGBM)",
         "showlegend": false,
         "type": "box",
         "x": [
          0.04308368148824954,
          0.1348843596754326,
          0.06849536288952272,
          0.05439889587611983,
          0.15689496193521527,
          0.06372299782721214,
          0.3020820530358938,
          0.055598706610635824,
          0.17391972310565038,
          0.03916737819000904,
          0.0978228335081006,
          0.052861967522768775,
          0.06823193802832843,
          0.028911480297694456,
          0.08646548466853379,
          0.020460388132425577,
          0.01452183709408714,
          0.013941228104498644,
          0.063631555917386,
          0.07280734768092545,
          0.08594425528502016,
          0.12044078467009761,
          0.06113616601440798,
          0.06081120774846209,
          0.04474092908419079,
          0.04169242769229036,
          0.04961967136972168,
          0.0021808264021884586,
          0.18427874552885748,
          0.06931904438206545,
          0.15925964124218125,
          0.030778815374192577,
          0.06355177927440937,
          0.05079159127997643,
          0.2431003576685379,
          0.06126907603540158,
          0.06266630430347364,
          0.06720252486218556,
          0.06494689307367828,
          0.04063195601276035,
          0.033953000532809655,
          0.15237414782768519,
          0.054306611697589074,
          0.07483631919097988,
          0.11276810293707014,
          0.10648155717127336,
          0.0828846382055284,
          0.1328243998887713,
          0.11667642980441449,
          0.07744926886244632,
          0.12928892794140345,
          0.09276650802500881,
          0.14490284115623805,
          0.032283433129322595,
          0.17200971772507878,
          0.03731320371814061,
          0.025085790175877077,
          0.06418060075045472,
          0.12174250392852644,
          0.051065451461705096,
          0.1656642084069357,
          0.07111822467638343,
          0.039943322297977396,
          0.037169876528208946,
          0.24615487393278024,
          0.18690534605199344,
          0.0316963637351653,
          0.07966292372401818,
          0.15798467124496254
         ],
         "xaxis": "x2",
         "yaxis": "y2"
        }
       ],
       "layout": {
        "autosize": false,
        "barmode": "overlay",
        "height": 500,
        "legend": {
         "font": {
          "size": 15
         },
         "orientation": "h",
         "title": {},
         "tracegroupgap": 0,
         "x": 1,
         "xanchor": "right",
         "y": 0.98,
         "yanchor": "bottom"
        },
        "margin": {
         "t": 60
        },
        "template": {
         "data": {
          "bar": [
           {
            "error_x": {
             "color": "#2a3f5f"
            },
            "error_y": {
             "color": "#2a3f5f"
            },
            "marker": {
             "line": {
              "color": "white",
              "width": 0.5
             },
             "pattern": {
              "fillmode": "overlay",
              "size": 10,
              "solidity": 0.2
             }
            },
            "type": "bar"
           }
          ],
          "barpolar": [
           {
            "marker": {
             "line": {
              "color": "white",
              "width": 0.5
             },
             "pattern": {
              "fillmode": "overlay",
              "size": 10,
              "solidity": 0.2
             }
            },
            "type": "barpolar"
           }
          ],
          "carpet": [
           {
            "aaxis": {
             "endlinecolor": "#2a3f5f",
             "gridcolor": "#C8D4E3",
             "linecolor": "#C8D4E3",
             "minorgridcolor": "#C8D4E3",
             "startlinecolor": "#2a3f5f"
            },
            "baxis": {
             "endlinecolor": "#2a3f5f",
             "gridcolor": "#C8D4E3",
             "linecolor": "#C8D4E3",
             "minorgridcolor": "#C8D4E3",
             "startlinecolor": "#2a3f5f"
            },
            "type": "carpet"
           }
          ],
          "choropleth": [
           {
            "colorbar": {
             "outlinewidth": 0,
             "ticks": ""
            },
            "type": "choropleth"
           }
          ],
          "contour": [
           {
            "colorbar": {
             "outlinewidth": 0,
             "ticks": ""
            },
            "colorscale": [
             [
              0,
              "#0d0887"
             ],
             [
              0.1111111111111111,
              "#46039f"
             ],
             [
              0.2222222222222222,
              "#7201a8"
             ],
             [
              0.3333333333333333,
              "#9c179e"
             ],
             [
              0.4444444444444444,
              "#bd3786"
             ],
             [
              0.5555555555555556,
              "#d8576b"
             ],
             [
              0.6666666666666666,
              "#ed7953"
             ],
             [
              0.7777777777777778,
              "#fb9f3a"
             ],
             [
              0.8888888888888888,
              "#fdca26"
             ],
             [
              1,
              "#f0f921"
             ]
            ],
            "type": "contour"
           }
          ],
          "contourcarpet": [
           {
            "colorbar": {
             "outlinewidth": 0,
             "ticks": ""
            },
            "type": "contourcarpet"
           }
          ],
          "heatmap": [
           {
            "colorbar": {
             "outlinewidth": 0,
             "ticks": ""
            },
            "colorscale": [
             [
              0,
              "#0d0887"
             ],
             [
              0.1111111111111111,
              "#46039f"
             ],
             [
              0.2222222222222222,
              "#7201a8"
             ],
             [
              0.3333333333333333,
              "#9c179e"
             ],
             [
              0.4444444444444444,
              "#bd3786"
             ],
             [
              0.5555555555555556,
              "#d8576b"
             ],
             [
              0.6666666666666666,
              "#ed7953"
             ],
             [
              0.7777777777777778,
              "#fb9f3a"
             ],
             [
              0.8888888888888888,
              "#fdca26"
             ],
             [
              1,
              "#f0f921"
             ]
            ],
            "type": "heatmap"
           }
          ],
          "heatmapgl": [
           {
            "colorbar": {
             "outlinewidth": 0,
             "ticks": ""
            },
            "colorscale": [
             [
              0,
              "#0d0887"
             ],
             [
              0.1111111111111111,
              "#46039f"
             ],
             [
              0.2222222222222222,
              "#7201a8"
             ],
             [
              0.3333333333333333,
              "#9c179e"
             ],
             [
              0.4444444444444444,
              "#bd3786"
             ],
             [
              0.5555555555555556,
              "#d8576b"
             ],
             [
              0.6666666666666666,
              "#ed7953"
             ],
             [
              0.7777777777777778,
              "#fb9f3a"
             ],
             [
              0.8888888888888888,
              "#fdca26"
             ],
             [
              1,
              "#f0f921"
             ]
            ],
            "type": "heatmapgl"
           }
          ],
          "histogram": [
           {
            "marker": {
             "pattern": {
              "fillmode": "overlay",
              "size": 10,
              "solidity": 0.2
             }
            },
            "type": "histogram"
           }
          ],
          "histogram2d": [
           {
            "colorbar": {
             "outlinewidth": 0,
             "ticks": ""
            },
            "colorscale": [
             [
              0,
              "#0d0887"
             ],
             [
              0.1111111111111111,
              "#46039f"
             ],
             [
              0.2222222222222222,
              "#7201a8"
             ],
             [
              0.3333333333333333,
              "#9c179e"
             ],
             [
              0.4444444444444444,
              "#bd3786"
             ],
             [
              0.5555555555555556,
              "#d8576b"
             ],
             [
              0.6666666666666666,
              "#ed7953"
             ],
             [
              0.7777777777777778,
              "#fb9f3a"
             ],
             [
              0.8888888888888888,
              "#fdca26"
             ],
             [
              1,
              "#f0f921"
             ]
            ],
            "type": "histogram2d"
           }
          ],
          "histogram2dcontour": [
           {
            "colorbar": {
             "outlinewidth": 0,
             "ticks": ""
            },
            "colorscale": [
             [
              0,
              "#0d0887"
             ],
             [
              0.1111111111111111,
              "#46039f"
             ],
             [
              0.2222222222222222,
              "#7201a8"
             ],
             [
              0.3333333333333333,
              "#9c179e"
             ],
             [
              0.4444444444444444,
              "#bd3786"
             ],
             [
              0.5555555555555556,
              "#d8576b"
             ],
             [
              0.6666666666666666,
              "#ed7953"
             ],
             [
              0.7777777777777778,
              "#fb9f3a"
             ],
             [
              0.8888888888888888,
              "#fdca26"
             ],
             [
              1,
              "#f0f921"
             ]
            ],
            "type": "histogram2dcontour"
           }
          ],
          "mesh3d": [
           {
            "colorbar": {
             "outlinewidth": 0,
             "ticks": ""
            },
            "type": "mesh3d"
           }
          ],
          "parcoords": [
           {
            "line": {
             "colorbar": {
              "outlinewidth": 0,
              "ticks": ""
             }
            },
            "type": "parcoords"
           }
          ],
          "pie": [
           {
            "automargin": true,
            "type": "pie"
           }
          ],
          "scatter": [
           {
            "fillpattern": {
             "fillmode": "overlay",
             "size": 10,
             "solidity": 0.2
            },
            "type": "scatter"
           }
          ],
          "scatter3d": [
           {
            "line": {
             "colorbar": {
              "outlinewidth": 0,
              "ticks": ""
             }
            },
            "marker": {
             "colorbar": {
              "outlinewidth": 0,
              "ticks": ""
             }
            },
            "type": "scatter3d"
           }
          ],
          "scattercarpet": [
           {
            "marker": {
             "colorbar": {
              "outlinewidth": 0,
              "ticks": ""
             }
            },
            "type": "scattercarpet"
           }
          ],
          "scattergeo": [
           {
            "marker": {
             "colorbar": {
              "outlinewidth": 0,
              "ticks": ""
             }
            },
            "type": "scattergeo"
           }
          ],
          "scattergl": [
           {
            "marker": {
             "colorbar": {
              "outlinewidth": 0,
              "ticks": ""
             }
            },
            "type": "scattergl"
           }
          ],
          "scattermapbox": [
           {
            "marker": {
             "colorbar": {
              "outlinewidth": 0,
              "ticks": ""
             }
            },
            "type": "scattermapbox"
           }
          ],
          "scatterpolar": [
           {
            "marker": {
             "colorbar": {
              "outlinewidth": 0,
              "ticks": ""
             }
            },
            "type": "scatterpolar"
           }
          ],
          "scatterpolargl": [
           {
            "marker": {
             "colorbar": {
              "outlinewidth": 0,
              "ticks": ""
             }
            },
            "type": "scatterpolargl"
           }
          ],
          "scatterternary": [
           {
            "marker": {
             "colorbar": {
              "outlinewidth": 0,
              "ticks": ""
             }
            },
            "type": "scatterternary"
           }
          ],
          "surface": [
           {
            "colorbar": {
             "outlinewidth": 0,
             "ticks": ""
            },
            "colorscale": [
             [
              0,
              "#0d0887"
             ],
             [
              0.1111111111111111,
              "#46039f"
             ],
             [
              0.2222222222222222,
              "#7201a8"
             ],
             [
              0.3333333333333333,
              "#9c179e"
             ],
             [
              0.4444444444444444,
              "#bd3786"
             ],
             [
              0.5555555555555556,
              "#d8576b"
             ],
             [
              0.6666666666666666,
              "#ed7953"
             ],
             [
              0.7777777777777778,
              "#fb9f3a"
             ],
             [
              0.8888888888888888,
              "#fdca26"
             ],
             [
              1,
              "#f0f921"
             ]
            ],
            "type": "surface"
           }
          ],
          "table": [
           {
            "cells": {
             "fill": {
              "color": "#EBF0F8"
             },
             "line": {
              "color": "white"
             }
            },
            "header": {
             "fill": {
              "color": "#C8D4E3"
             },
             "line": {
              "color": "white"
             }
            },
            "type": "table"
           }
          ]
         },
         "layout": {
          "annotationdefaults": {
           "arrowcolor": "#2a3f5f",
           "arrowhead": 0,
           "arrowwidth": 1
          },
          "autotypenumbers": "strict",
          "coloraxis": {
           "colorbar": {
            "outlinewidth": 0,
            "ticks": ""
           }
          },
          "colorscale": {
           "diverging": [
            [
             0,
             "#8e0152"
            ],
            [
             0.1,
             "#c51b7d"
            ],
            [
             0.2,
             "#de77ae"
            ],
            [
             0.3,
             "#f1b6da"
            ],
            [
             0.4,
             "#fde0ef"
            ],
            [
             0.5,
             "#f7f7f7"
            ],
            [
             0.6,
             "#e6f5d0"
            ],
            [
             0.7,
             "#b8e186"
            ],
            [
             0.8,
             "#7fbc41"
            ],
            [
             0.9,
             "#4d9221"
            ],
            [
             1,
             "#276419"
            ]
           ],
           "sequential": [
            [
             0,
             "#0d0887"
            ],
            [
             0.1111111111111111,
             "#46039f"
            ],
            [
             0.2222222222222222,
             "#7201a8"
            ],
            [
             0.3333333333333333,
             "#9c179e"
            ],
            [
             0.4444444444444444,
             "#bd3786"
            ],
            [
             0.5555555555555556,
             "#d8576b"
            ],
            [
             0.6666666666666666,
             "#ed7953"
            ],
            [
             0.7777777777777778,
             "#fb9f3a"
            ],
            [
             0.8888888888888888,
             "#fdca26"
            ],
            [
             1,
             "#f0f921"
            ]
           ],
           "sequentialminus": [
            [
             0,
             "#0d0887"
            ],
            [
             0.1111111111111111,
             "#46039f"
            ],
            [
             0.2222222222222222,
             "#7201a8"
            ],
            [
             0.3333333333333333,
             "#9c179e"
            ],
            [
             0.4444444444444444,
             "#bd3786"
            ],
            [
             0.5555555555555556,
             "#d8576b"
            ],
            [
             0.6666666666666666,
             "#ed7953"
            ],
            [
             0.7777777777777778,
             "#fb9f3a"
            ],
            [
             0.8888888888888888,
             "#fdca26"
            ],
            [
             1,
             "#f0f921"
            ]
           ]
          },
          "colorway": [
           "#636efa",
           "#EF553B",
           "#00cc96",
           "#ab63fa",
           "#FFA15A",
           "#19d3f3",
           "#FF6692",
           "#B6E880",
           "#FF97FF",
           "#FECB52"
          ],
          "font": {
           "color": "#2a3f5f"
          },
          "geo": {
           "bgcolor": "white",
           "lakecolor": "white",
           "landcolor": "white",
           "showlakes": true,
           "showland": true,
           "subunitcolor": "#C8D4E3"
          },
          "hoverlabel": {
           "align": "left"
          },
          "hovermode": "closest",
          "mapbox": {
           "style": "light"
          },
          "paper_bgcolor": "white",
          "plot_bgcolor": "white",
          "polar": {
           "angularaxis": {
            "gridcolor": "#EBF0F8",
            "linecolor": "#EBF0F8",
            "ticks": ""
           },
           "bgcolor": "white",
           "radialaxis": {
            "gridcolor": "#EBF0F8",
            "linecolor": "#EBF0F8",
            "ticks": ""
           }
          },
          "scene": {
           "xaxis": {
            "backgroundcolor": "white",
            "gridcolor": "#DFE8F3",
            "gridwidth": 2,
            "linecolor": "#EBF0F8",
            "showbackground": true,
            "ticks": "",
            "zerolinecolor": "#EBF0F8"
           },
           "yaxis": {
            "backgroundcolor": "white",
            "gridcolor": "#DFE8F3",
            "gridwidth": 2,
            "linecolor": "#EBF0F8",
            "showbackground": true,
            "ticks": "",
            "zerolinecolor": "#EBF0F8"
           },
           "zaxis": {
            "backgroundcolor": "white",
            "gridcolor": "#DFE8F3",
            "gridwidth": 2,
            "linecolor": "#EBF0F8",
            "showbackground": true,
            "ticks": "",
            "zerolinecolor": "#EBF0F8"
           }
          },
          "shapedefaults": {
           "line": {
            "color": "#2a3f5f"
           }
          },
          "ternary": {
           "aaxis": {
            "gridcolor": "#DFE8F3",
            "linecolor": "#A2B1C6",
            "ticks": ""
           },
           "baxis": {
            "gridcolor": "#DFE8F3",
            "linecolor": "#A2B1C6",
            "ticks": ""
           },
           "bgcolor": "white",
           "caxis": {
            "gridcolor": "#DFE8F3",
            "linecolor": "#A2B1C6",
            "ticks": ""
           }
          },
          "title": {
           "x": 0.05
          },
          "xaxis": {
           "automargin": true,
           "gridcolor": "#EBF0F8",
           "linecolor": "#EBF0F8",
           "ticks": "",
           "title": {
            "standoff": 15
           },
           "zerolinecolor": "#EBF0F8",
           "zerolinewidth": 2
          },
          "yaxis": {
           "automargin": true,
           "gridcolor": "#EBF0F8",
           "linecolor": "#EBF0F8",
           "ticks": "",
           "title": {
            "standoff": 15
           },
           "zerolinecolor": "#EBF0F8",
           "zerolinewidth": 2
          }
         }
        },
        "title": {
         "font": {
          "size": 20
         },
         "text": "Distribution of MAE in the dataset",
         "x": 0.5,
         "xanchor": "center",
         "yanchor": "top"
        },
        "width": 900,
        "xaxis": {
         "anchor": "y",
         "domain": [
          0,
          1
         ],
         "range": [
          0,
          0.2
         ],
         "tickfont": {
          "size": 15
         },
         "title": {
          "font": {
           "size": 15
          },
          "text": "MAE"
         }
        },
        "xaxis2": {
         "anchor": "y2",
         "domain": [
          0,
          1
         ],
         "matches": "x",
         "showgrid": true,
         "showticklabels": false
        },
        "yaxis": {
         "anchor": "x",
         "domain": [
          0,
          0.7326
         ],
         "tickfont": {
          "size": 15
         },
         "title": {
          "font": {
           "size": 15
          },
          "text": "Probability Density"
         }
        },
        "yaxis2": {
         "anchor": "x2",
         "domain": [
          0.7426,
          1
         ],
         "matches": "y2",
         "showgrid": false,
         "showline": false,
         "showticklabels": false,
         "ticks": ""
        }
       }
      }
     },
     "metadata": {},
     "output_type": "display_data"
    }
   ],
   "source": [
    "fig = px.histogram(metrics_df, \n",
    "                   x=\"MAE\", \n",
    "                   color=\"Algorithm\",\n",
    "                   pattern_shape=\"Algorithm\", \n",
    "                   marginal=\"box\", \n",
    "                   nbins=100, \n",
    "                   barmode=\"overlay\",\n",
    "                   histnorm=\"probability density\")\n",
    "fig = format_plot(fig, xlabel=\"MAE\", ylabel=\"Probability Density\", title=\"Distribution of MAE in the dataset\")\n",
    "# fig.write_image(\"imgs/chapter_13/ft_mae_dist.png\")\n",
    "fig.update_layout(xaxis_range=[0,0.2])\n",
    "fig.show()"
   ]
  },
  {
   "cell_type": "code",
   "execution_count": 28,
   "id": "9e89266e-ab40-4f44-9461-ec0c755c6a61",
   "metadata": {},
   "outputs": [
    {
     "data": {
      "application/vnd.plotly.v1+json": {
       "config": {
        "plotlyServerURL": "https://plot.ly"
       },
       "data": [
        {
         "alignmentgroup": "True",
         "bingroup": "x",
         "histnorm": "probability density",
         "hovertemplate": "Algorithm=FTTransformerModel<br>MSE=%{x}<br>probability density=%{y}<extra></extra>",
         "legendgroup": "FTTransformerModel",
         "marker": {
          "color": "#636efa",
          "opacity": 0.5,
          "pattern": {
           "shape": ""
          }
         },
         "name": "FTTransformerModel",
         "nbinsx": 500,
         "offsetgroup": "FTTransformerModel",
         "orientation": "v",
         "showlegend": true,
         "type": "histogram",
         "x": [
          0.010027974843978882,
          0.029753828421235085,
          0.01824244298040867,
          0.007927694357931614,
          0.07769123464822769,
          0.009270078502595425,
          0.1579073965549469,
          0.009586337022483349,
          0.08854056149721146,
          0.004167001694440842,
          0.028045061975717545,
          0.010616122744977474,
          0.01795807294547558,
          0.0035021144431084394,
          0.021130546927452087,
          0.0009847946930676699,
          0.0007399971946142614,
          0.0012973494594916701,
          0.018358824774622917,
          0.034508202224969864,
          0.026890939101576805,
          0.039634741842746735,
          0.01174899097532034,
          0.013034088537096977,
          0.008418451994657516,
          0.00464449729770422,
          0.012116588652133942,
          0.00011550765339052305,
          0.09601511061191559,
          0.0185623187571764,
          0.06261596828699112,
          0.002240564441308379,
          0.01603764109313488,
          0.0073601482436060905,
          0.13471762835979462,
          0.008892976678907871,
          0.013127224519848824,
          0.016888504847884178,
          0.014680147171020508,
          0.004958379082381725,
          0.00322878360748291,
          0.07211379706859589,
          0.010956843383610249,
          0.016799816861748695,
          0.03057193011045456,
          0.02867789939045906,
          0.024788320064544678,
          0.045911286026239395,
          0.08001343905925751,
          0.017863573506474495,
          0.03955315425992012,
          0.040683574974536896,
          0.09819447994232178,
          0.006303824950009584,
          0.18550921976566315,
          0.0038571518380194902,
          0.0019164008554071188,
          0.012170127592980862,
          0.036228857934474945,
          0.0069358013570308685,
          0.09377466142177582,
          0.01700655184686184,
          0.006109781097620726,
          0.005384016316384077,
          0.12235127389431,
          0.07419603317975998,
          0.002378960372880101,
          0.021767713129520416,
          0.16231437027454376
         ],
         "xaxis": "x",
         "yaxis": "y"
        },
        {
         "alignmentgroup": "True",
         "hovertemplate": "Algorithm=FTTransformerModel<br>MSE=%{x}<extra></extra>",
         "legendgroup": "FTTransformerModel",
         "marker": {
          "color": "#636efa"
         },
         "name": "FTTransformerModel",
         "notched": true,
         "offsetgroup": "FTTransformerModel",
         "showlegend": false,
         "type": "box",
         "x": [
          0.010027974843978882,
          0.029753828421235085,
          0.01824244298040867,
          0.007927694357931614,
          0.07769123464822769,
          0.009270078502595425,
          0.1579073965549469,
          0.009586337022483349,
          0.08854056149721146,
          0.004167001694440842,
          0.028045061975717545,
          0.010616122744977474,
          0.01795807294547558,
          0.0035021144431084394,
          0.021130546927452087,
          0.0009847946930676699,
          0.0007399971946142614,
          0.0012973494594916701,
          0.018358824774622917,
          0.034508202224969864,
          0.026890939101576805,
          0.039634741842746735,
          0.01174899097532034,
          0.013034088537096977,
          0.008418451994657516,
          0.00464449729770422,
          0.012116588652133942,
          0.00011550765339052305,
          0.09601511061191559,
          0.0185623187571764,
          0.06261596828699112,
          0.002240564441308379,
          0.01603764109313488,
          0.0073601482436060905,
          0.13471762835979462,
          0.008892976678907871,
          0.013127224519848824,
          0.016888504847884178,
          0.014680147171020508,
          0.004958379082381725,
          0.00322878360748291,
          0.07211379706859589,
          0.010956843383610249,
          0.016799816861748695,
          0.03057193011045456,
          0.02867789939045906,
          0.024788320064544678,
          0.045911286026239395,
          0.08001343905925751,
          0.017863573506474495,
          0.03955315425992012,
          0.040683574974536896,
          0.09819447994232178,
          0.006303824950009584,
          0.18550921976566315,
          0.0038571518380194902,
          0.0019164008554071188,
          0.012170127592980862,
          0.036228857934474945,
          0.0069358013570308685,
          0.09377466142177582,
          0.01700655184686184,
          0.006109781097620726,
          0.005384016316384077,
          0.12235127389431,
          0.07419603317975998,
          0.002378960372880101,
          0.021767713129520416,
          0.16231437027454376
         ],
         "xaxis": "x2",
         "yaxis": "y2"
        },
        {
         "alignmentgroup": "True",
         "bingroup": "x",
         "histnorm": "probability density",
         "hovertemplate": "Algorithm=GFM+Meta  (NativeLGBM)<br>MSE=%{x}<br>probability density=%{y}<extra></extra>",
         "legendgroup": "GFM+Meta  (NativeLGBM)",
         "marker": {
          "color": "#EF553B",
          "opacity": 0.5,
          "pattern": {
           "shape": "/"
          }
         },
         "name": "GFM+Meta  (NativeLGBM)",
         "nbinsx": 500,
         "offsetgroup": "GFM+Meta  (NativeLGBM)",
         "orientation": "v",
         "showlegend": true,
         "type": "histogram",
         "x": [
          0.00945962502660277,
          0.0298370129301725,
          0.018032564948948646,
          0.00781489970890761,
          0.07541638173294571,
          0.009250997617458836,
          0.1832706594470358,
          0.008771852590807946,
          0.08706242327962735,
          0.003736688874559215,
          0.026833002741338242,
          0.010492539059313785,
          0.01655566637643793,
          0.0033465216780594886,
          0.020279398962807782,
          0.0007085776269883001,
          0.000531219609147479,
          0.0005270075447560461,
          0.017941998789067753,
          0.033768422729122755,
          0.026357829620455714,
          0.038796538197344896,
          0.011438625040528293,
          0.012316031691513348,
          0.008384955213731934,
          0.004458202352754685,
          0.011805452946216783,
          0.000006946357910880157,
          0.09951283543495565,
          0.018161346450786462,
          0.06025065194297985,
          0.002229865352605377,
          0.01584450762408458,
          0.007092058808034445,
          0.1286143445097046,
          0.008530078213189527,
          0.01281203459684794,
          0.01596882335466352,
          0.014227148923222951,
          0.004529632734869606,
          0.0030139262317281095,
          0.07010018107047794,
          0.01097856026414244,
          0.016320778049113086,
          0.02989367517082896,
          0.028729844723405677,
          0.02389015183942272,
          0.04329630144379111,
          0.07755725011530959,
          0.014592021070429206,
          0.039270725422251775,
          0.04000507134080888,
          0.10235466680515014,
          0.004849863162419879,
          0.1787851472012114,
          0.0036475010707354414,
          0.0018173840856238427,
          0.011548642364061265,
          0.03519426232229582,
          0.0068379195571935504,
          0.09653940478578826,
          0.016054236071121865,
          0.005934683044838605,
          0.005049200404122645,
          0.1243676624058398,
          0.07381050275112788,
          0.002255162131029622,
          0.02172097515592479,
          0.15411786017978804
         ],
         "xaxis": "x",
         "yaxis": "y"
        },
        {
         "alignmentgroup": "True",
         "hovertemplate": "Algorithm=GFM+Meta  (NativeLGBM)<br>MSE=%{x}<extra></extra>",
         "legendgroup": "GFM+Meta  (NativeLGBM)",
         "marker": {
          "color": "#EF553B"
         },
         "name": "GFM+Meta  (NativeLGBM)",
         "notched": true,
         "offsetgroup": "GFM+Meta  (NativeLGBM)",
         "showlegend": false,
         "type": "box",
         "x": [
          0.00945962502660277,
          0.0298370129301725,
          0.018032564948948646,
          0.00781489970890761,
          0.07541638173294571,
          0.009250997617458836,
          0.1832706594470358,
          0.008771852590807946,
          0.08706242327962735,
          0.003736688874559215,
          0.026833002741338242,
          0.010492539059313785,
          0.01655566637643793,
          0.0033465216780594886,
          0.020279398962807782,
          0.0007085776269883001,
          0.000531219609147479,
          0.0005270075447560461,
          0.017941998789067753,
          0.033768422729122755,
          0.026357829620455714,
          0.038796538197344896,
          0.011438625040528293,
          0.012316031691513348,
          0.008384955213731934,
          0.004458202352754685,
          0.011805452946216783,
          0.000006946357910880157,
          0.09951283543495565,
          0.018161346450786462,
          0.06025065194297985,
          0.002229865352605377,
          0.01584450762408458,
          0.007092058808034445,
          0.1286143445097046,
          0.008530078213189527,
          0.01281203459684794,
          0.01596882335466352,
          0.014227148923222951,
          0.004529632734869606,
          0.0030139262317281095,
          0.07010018107047794,
          0.01097856026414244,
          0.016320778049113086,
          0.02989367517082896,
          0.028729844723405677,
          0.02389015183942272,
          0.04329630144379111,
          0.07755725011530959,
          0.014592021070429206,
          0.039270725422251775,
          0.04000507134080888,
          0.10235466680515014,
          0.004849863162419879,
          0.1787851472012114,
          0.0036475010707354414,
          0.0018173840856238427,
          0.011548642364061265,
          0.03519426232229582,
          0.0068379195571935504,
          0.09653940478578826,
          0.016054236071121865,
          0.005934683044838605,
          0.005049200404122645,
          0.1243676624058398,
          0.07381050275112788,
          0.002255162131029622,
          0.02172097515592479,
          0.15411786017978804
         ],
         "xaxis": "x2",
         "yaxis": "y2"
        }
       ],
       "layout": {
        "autosize": false,
        "barmode": "overlay",
        "height": 500,
        "legend": {
         "font": {
          "size": 15
         },
         "orientation": "h",
         "title": {},
         "tracegroupgap": 0,
         "x": 1,
         "xanchor": "right",
         "y": 0.98,
         "yanchor": "bottom"
        },
        "margin": {
         "t": 60
        },
        "template": {
         "data": {
          "bar": [
           {
            "error_x": {
             "color": "#2a3f5f"
            },
            "error_y": {
             "color": "#2a3f5f"
            },
            "marker": {
             "line": {
              "color": "white",
              "width": 0.5
             },
             "pattern": {
              "fillmode": "overlay",
              "size": 10,
              "solidity": 0.2
             }
            },
            "type": "bar"
           }
          ],
          "barpolar": [
           {
            "marker": {
             "line": {
              "color": "white",
              "width": 0.5
             },
             "pattern": {
              "fillmode": "overlay",
              "size": 10,
              "solidity": 0.2
             }
            },
            "type": "barpolar"
           }
          ],
          "carpet": [
           {
            "aaxis": {
             "endlinecolor": "#2a3f5f",
             "gridcolor": "#C8D4E3",
             "linecolor": "#C8D4E3",
             "minorgridcolor": "#C8D4E3",
             "startlinecolor": "#2a3f5f"
            },
            "baxis": {
             "endlinecolor": "#2a3f5f",
             "gridcolor": "#C8D4E3",
             "linecolor": "#C8D4E3",
             "minorgridcolor": "#C8D4E3",
             "startlinecolor": "#2a3f5f"
            },
            "type": "carpet"
           }
          ],
          "choropleth": [
           {
            "colorbar": {
             "outlinewidth": 0,
             "ticks": ""
            },
            "type": "choropleth"
           }
          ],
          "contour": [
           {
            "colorbar": {
             "outlinewidth": 0,
             "ticks": ""
            },
            "colorscale": [
             [
              0,
              "#0d0887"
             ],
             [
              0.1111111111111111,
              "#46039f"
             ],
             [
              0.2222222222222222,
              "#7201a8"
             ],
             [
              0.3333333333333333,
              "#9c179e"
             ],
             [
              0.4444444444444444,
              "#bd3786"
             ],
             [
              0.5555555555555556,
              "#d8576b"
             ],
             [
              0.6666666666666666,
              "#ed7953"
             ],
             [
              0.7777777777777778,
              "#fb9f3a"
             ],
             [
              0.8888888888888888,
              "#fdca26"
             ],
             [
              1,
              "#f0f921"
             ]
            ],
            "type": "contour"
           }
          ],
          "contourcarpet": [
           {
            "colorbar": {
             "outlinewidth": 0,
             "ticks": ""
            },
            "type": "contourcarpet"
           }
          ],
          "heatmap": [
           {
            "colorbar": {
             "outlinewidth": 0,
             "ticks": ""
            },
            "colorscale": [
             [
              0,
              "#0d0887"
             ],
             [
              0.1111111111111111,
              "#46039f"
             ],
             [
              0.2222222222222222,
              "#7201a8"
             ],
             [
              0.3333333333333333,
              "#9c179e"
             ],
             [
              0.4444444444444444,
              "#bd3786"
             ],
             [
              0.5555555555555556,
              "#d8576b"
             ],
             [
              0.6666666666666666,
              "#ed7953"
             ],
             [
              0.7777777777777778,
              "#fb9f3a"
             ],
             [
              0.8888888888888888,
              "#fdca26"
             ],
             [
              1,
              "#f0f921"
             ]
            ],
            "type": "heatmap"
           }
          ],
          "heatmapgl": [
           {
            "colorbar": {
             "outlinewidth": 0,
             "ticks": ""
            },
            "colorscale": [
             [
              0,
              "#0d0887"
             ],
             [
              0.1111111111111111,
              "#46039f"
             ],
             [
              0.2222222222222222,
              "#7201a8"
             ],
             [
              0.3333333333333333,
              "#9c179e"
             ],
             [
              0.4444444444444444,
              "#bd3786"
             ],
             [
              0.5555555555555556,
              "#d8576b"
             ],
             [
              0.6666666666666666,
              "#ed7953"
             ],
             [
              0.7777777777777778,
              "#fb9f3a"
             ],
             [
              0.8888888888888888,
              "#fdca26"
             ],
             [
              1,
              "#f0f921"
             ]
            ],
            "type": "heatmapgl"
           }
          ],
          "histogram": [
           {
            "marker": {
             "pattern": {
              "fillmode": "overlay",
              "size": 10,
              "solidity": 0.2
             }
            },
            "type": "histogram"
           }
          ],
          "histogram2d": [
           {
            "colorbar": {
             "outlinewidth": 0,
             "ticks": ""
            },
            "colorscale": [
             [
              0,
              "#0d0887"
             ],
             [
              0.1111111111111111,
              "#46039f"
             ],
             [
              0.2222222222222222,
              "#7201a8"
             ],
             [
              0.3333333333333333,
              "#9c179e"
             ],
             [
              0.4444444444444444,
              "#bd3786"
             ],
             [
              0.5555555555555556,
              "#d8576b"
             ],
             [
              0.6666666666666666,
              "#ed7953"
             ],
             [
              0.7777777777777778,
              "#fb9f3a"
             ],
             [
              0.8888888888888888,
              "#fdca26"
             ],
             [
              1,
              "#f0f921"
             ]
            ],
            "type": "histogram2d"
           }
          ],
          "histogram2dcontour": [
           {
            "colorbar": {
             "outlinewidth": 0,
             "ticks": ""
            },
            "colorscale": [
             [
              0,
              "#0d0887"
             ],
             [
              0.1111111111111111,
              "#46039f"
             ],
             [
              0.2222222222222222,
              "#7201a8"
             ],
             [
              0.3333333333333333,
              "#9c179e"
             ],
             [
              0.4444444444444444,
              "#bd3786"
             ],
             [
              0.5555555555555556,
              "#d8576b"
             ],
             [
              0.6666666666666666,
              "#ed7953"
             ],
             [
              0.7777777777777778,
              "#fb9f3a"
             ],
             [
              0.8888888888888888,
              "#fdca26"
             ],
             [
              1,
              "#f0f921"
             ]
            ],
            "type": "histogram2dcontour"
           }
          ],
          "mesh3d": [
           {
            "colorbar": {
             "outlinewidth": 0,
             "ticks": ""
            },
            "type": "mesh3d"
           }
          ],
          "parcoords": [
           {
            "line": {
             "colorbar": {
              "outlinewidth": 0,
              "ticks": ""
             }
            },
            "type": "parcoords"
           }
          ],
          "pie": [
           {
            "automargin": true,
            "type": "pie"
           }
          ],
          "scatter": [
           {
            "fillpattern": {
             "fillmode": "overlay",
             "size": 10,
             "solidity": 0.2
            },
            "type": "scatter"
           }
          ],
          "scatter3d": [
           {
            "line": {
             "colorbar": {
              "outlinewidth": 0,
              "ticks": ""
             }
            },
            "marker": {
             "colorbar": {
              "outlinewidth": 0,
              "ticks": ""
             }
            },
            "type": "scatter3d"
           }
          ],
          "scattercarpet": [
           {
            "marker": {
             "colorbar": {
              "outlinewidth": 0,
              "ticks": ""
             }
            },
            "type": "scattercarpet"
           }
          ],
          "scattergeo": [
           {
            "marker": {
             "colorbar": {
              "outlinewidth": 0,
              "ticks": ""
             }
            },
            "type": "scattergeo"
           }
          ],
          "scattergl": [
           {
            "marker": {
             "colorbar": {
              "outlinewidth": 0,
              "ticks": ""
             }
            },
            "type": "scattergl"
           }
          ],
          "scattermapbox": [
           {
            "marker": {
             "colorbar": {
              "outlinewidth": 0,
              "ticks": ""
             }
            },
            "type": "scattermapbox"
           }
          ],
          "scatterpolar": [
           {
            "marker": {
             "colorbar": {
              "outlinewidth": 0,
              "ticks": ""
             }
            },
            "type": "scatterpolar"
           }
          ],
          "scatterpolargl": [
           {
            "marker": {
             "colorbar": {
              "outlinewidth": 0,
              "ticks": ""
             }
            },
            "type": "scatterpolargl"
           }
          ],
          "scatterternary": [
           {
            "marker": {
             "colorbar": {
              "outlinewidth": 0,
              "ticks": ""
             }
            },
            "type": "scatterternary"
           }
          ],
          "surface": [
           {
            "colorbar": {
             "outlinewidth": 0,
             "ticks": ""
            },
            "colorscale": [
             [
              0,
              "#0d0887"
             ],
             [
              0.1111111111111111,
              "#46039f"
             ],
             [
              0.2222222222222222,
              "#7201a8"
             ],
             [
              0.3333333333333333,
              "#9c179e"
             ],
             [
              0.4444444444444444,
              "#bd3786"
             ],
             [
              0.5555555555555556,
              "#d8576b"
             ],
             [
              0.6666666666666666,
              "#ed7953"
             ],
             [
              0.7777777777777778,
              "#fb9f3a"
             ],
             [
              0.8888888888888888,
              "#fdca26"
             ],
             [
              1,
              "#f0f921"
             ]
            ],
            "type": "surface"
           }
          ],
          "table": [
           {
            "cells": {
             "fill": {
              "color": "#EBF0F8"
             },
             "line": {
              "color": "white"
             }
            },
            "header": {
             "fill": {
              "color": "#C8D4E3"
             },
             "line": {
              "color": "white"
             }
            },
            "type": "table"
           }
          ]
         },
         "layout": {
          "annotationdefaults": {
           "arrowcolor": "#2a3f5f",
           "arrowhead": 0,
           "arrowwidth": 1
          },
          "autotypenumbers": "strict",
          "coloraxis": {
           "colorbar": {
            "outlinewidth": 0,
            "ticks": ""
           }
          },
          "colorscale": {
           "diverging": [
            [
             0,
             "#8e0152"
            ],
            [
             0.1,
             "#c51b7d"
            ],
            [
             0.2,
             "#de77ae"
            ],
            [
             0.3,
             "#f1b6da"
            ],
            [
             0.4,
             "#fde0ef"
            ],
            [
             0.5,
             "#f7f7f7"
            ],
            [
             0.6,
             "#e6f5d0"
            ],
            [
             0.7,
             "#b8e186"
            ],
            [
             0.8,
             "#7fbc41"
            ],
            [
             0.9,
             "#4d9221"
            ],
            [
             1,
             "#276419"
            ]
           ],
           "sequential": [
            [
             0,
             "#0d0887"
            ],
            [
             0.1111111111111111,
             "#46039f"
            ],
            [
             0.2222222222222222,
             "#7201a8"
            ],
            [
             0.3333333333333333,
             "#9c179e"
            ],
            [
             0.4444444444444444,
             "#bd3786"
            ],
            [
             0.5555555555555556,
             "#d8576b"
            ],
            [
             0.6666666666666666,
             "#ed7953"
            ],
            [
             0.7777777777777778,
             "#fb9f3a"
            ],
            [
             0.8888888888888888,
             "#fdca26"
            ],
            [
             1,
             "#f0f921"
            ]
           ],
           "sequentialminus": [
            [
             0,
             "#0d0887"
            ],
            [
             0.1111111111111111,
             "#46039f"
            ],
            [
             0.2222222222222222,
             "#7201a8"
            ],
            [
             0.3333333333333333,
             "#9c179e"
            ],
            [
             0.4444444444444444,
             "#bd3786"
            ],
            [
             0.5555555555555556,
             "#d8576b"
            ],
            [
             0.6666666666666666,
             "#ed7953"
            ],
            [
             0.7777777777777778,
             "#fb9f3a"
            ],
            [
             0.8888888888888888,
             "#fdca26"
            ],
            [
             1,
             "#f0f921"
            ]
           ]
          },
          "colorway": [
           "#636efa",
           "#EF553B",
           "#00cc96",
           "#ab63fa",
           "#FFA15A",
           "#19d3f3",
           "#FF6692",
           "#B6E880",
           "#FF97FF",
           "#FECB52"
          ],
          "font": {
           "color": "#2a3f5f"
          },
          "geo": {
           "bgcolor": "white",
           "lakecolor": "white",
           "landcolor": "white",
           "showlakes": true,
           "showland": true,
           "subunitcolor": "#C8D4E3"
          },
          "hoverlabel": {
           "align": "left"
          },
          "hovermode": "closest",
          "mapbox": {
           "style": "light"
          },
          "paper_bgcolor": "white",
          "plot_bgcolor": "white",
          "polar": {
           "angularaxis": {
            "gridcolor": "#EBF0F8",
            "linecolor": "#EBF0F8",
            "ticks": ""
           },
           "bgcolor": "white",
           "radialaxis": {
            "gridcolor": "#EBF0F8",
            "linecolor": "#EBF0F8",
            "ticks": ""
           }
          },
          "scene": {
           "xaxis": {
            "backgroundcolor": "white",
            "gridcolor": "#DFE8F3",
            "gridwidth": 2,
            "linecolor": "#EBF0F8",
            "showbackground": true,
            "ticks": "",
            "zerolinecolor": "#EBF0F8"
           },
           "yaxis": {
            "backgroundcolor": "white",
            "gridcolor": "#DFE8F3",
            "gridwidth": 2,
            "linecolor": "#EBF0F8",
            "showbackground": true,
            "ticks": "",
            "zerolinecolor": "#EBF0F8"
           },
           "zaxis": {
            "backgroundcolor": "white",
            "gridcolor": "#DFE8F3",
            "gridwidth": 2,
            "linecolor": "#EBF0F8",
            "showbackground": true,
            "ticks": "",
            "zerolinecolor": "#EBF0F8"
           }
          },
          "shapedefaults": {
           "line": {
            "color": "#2a3f5f"
           }
          },
          "ternary": {
           "aaxis": {
            "gridcolor": "#DFE8F3",
            "linecolor": "#A2B1C6",
            "ticks": ""
           },
           "baxis": {
            "gridcolor": "#DFE8F3",
            "linecolor": "#A2B1C6",
            "ticks": ""
           },
           "bgcolor": "white",
           "caxis": {
            "gridcolor": "#DFE8F3",
            "linecolor": "#A2B1C6",
            "ticks": ""
           }
          },
          "title": {
           "x": 0.05
          },
          "xaxis": {
           "automargin": true,
           "gridcolor": "#EBF0F8",
           "linecolor": "#EBF0F8",
           "ticks": "",
           "title": {
            "standoff": 15
           },
           "zerolinecolor": "#EBF0F8",
           "zerolinewidth": 2
          },
          "yaxis": {
           "automargin": true,
           "gridcolor": "#EBF0F8",
           "linecolor": "#EBF0F8",
           "ticks": "",
           "title": {
            "standoff": 15
           },
           "zerolinecolor": "#EBF0F8",
           "zerolinewidth": 2
          }
         }
        },
        "title": {
         "font": {
          "size": 20
         },
         "text": "Distribution of MSE in the dataset",
         "x": 0.5,
         "xanchor": "center",
         "yanchor": "top"
        },
        "width": 900,
        "xaxis": {
         "anchor": "y",
         "domain": [
          0,
          1
         ],
         "range": [
          0,
          0.05
         ],
         "tickfont": {
          "size": 15
         },
         "title": {
          "font": {
           "size": 15
          },
          "text": "MSE"
         }
        },
        "xaxis2": {
         "anchor": "y2",
         "domain": [
          0,
          1
         ],
         "matches": "x",
         "showgrid": true,
         "showticklabels": false
        },
        "yaxis": {
         "anchor": "x",
         "domain": [
          0,
          0.7326
         ],
         "tickfont": {
          "size": 15
         },
         "title": {
          "font": {
           "size": 15
          },
          "text": "Probability Density"
         }
        },
        "yaxis2": {
         "anchor": "x2",
         "domain": [
          0.7426,
          1
         ],
         "matches": "y2",
         "showgrid": false,
         "showline": false,
         "showticklabels": false,
         "ticks": ""
        }
       }
      }
     },
     "metadata": {},
     "output_type": "display_data"
    }
   ],
   "source": [
    "fig = px.histogram(metrics_df, \n",
    "                   x=\"MSE\", \n",
    "                   color=\"Algorithm\",\n",
    "                   pattern_shape=\"Algorithm\", \n",
    "                   marginal=\"box\", \n",
    "                   nbins=500, \n",
    "                   barmode=\"overlay\",\n",
    "                   histnorm=\"probability density\")\n",
    "fig = format_plot(fig, xlabel=\"MSE\", ylabel=\"Probability Density\", title=\"Distribution of MSE in the dataset\")\n",
    "fig.update_layout(xaxis_range=[0,0.05])\n",
    "# fig.write_image(\"imgs/chapter_13/ft_mse_dist.png\")\n",
    "fig.show()"
   ]
  },
  {
   "cell_type": "code",
   "execution_count": 29,
   "id": "2695707d-1e83-4289-9aea-859bbf83586c",
   "metadata": {},
   "outputs": [
    {
     "data": {
      "application/vnd.plotly.v1+json": {
       "config": {
        "plotlyServerURL": "https://plot.ly"
       },
       "data": [
        {
         "alignmentgroup": "True",
         "bingroup": "x",
         "histnorm": "probability density",
         "hovertemplate": "Algorithm=FTTransformerModel<br>Forecast Bias=%{x}<br>probability density=%{y}<extra></extra>",
         "legendgroup": "FTTransformerModel",
         "marker": {
          "color": "#636efa",
          "opacity": 0.5,
          "pattern": {
           "shape": ""
          }
         },
         "name": "FTTransformerModel",
         "nbinsx": 250,
         "offsetgroup": "FTTransformerModel",
         "orientation": "v",
         "showlegend": true,
         "type": "histogram",
         "x": [
          -5.641750618815422,
          -0.30355944763869047,
          -3.672404959797859,
          -2.8130849823355675,
          5.34684844315052,
          -3.3521726727485657,
          -1.374620571732521,
          -0.25624404661357403,
          3.1913794577121735,
          -2.5844918563961983,
          2.920621633529663,
          1.2645983137190342,
          1.4054344035685062,
          -6.2942057847976685,
          5.220874398946762,
          -13.245582580566406,
          -24.848484992980957,
          -1.7309864982962608,
          -5.279053375124931,
          1.3959628529846668,
          3.288508951663971,
          3.0352063477039337,
          -2.2961128503084183,
          -3.1785529106855392,
          -8.041248470544815,
          -7.563427835702896,
          -4.412583634257317,
          -13.887566328048706,
          0.8924673311412334,
          -6.763104349374771,
          7.444480806589127,
          -7.426058501005173,
          -8.701562136411667,
          -2.651245892047882,
          -5.116092786192894,
          0.39833723567426205,
          -1.5360360033810139,
          -6.649670749902725,
          -3.216017782688141,
          -11.657430976629257,
          -5.878988653421402,
          7.201532274484634,
          -3.8528207689523697,
          2.150915376842022,
          -0.6192358210682869,
          2.5524266064167023,
          0.6497996393591166,
          2.0151717588305473,
          7.352746278047562,
          -0.34995710011571646,
          1.3684006407856941,
          -1.6783235594630241,
          -5.483730882406235,
          1.9721593707799911,
          12.14151680469513,
          -14.56034779548645,
          -10.776212811470032,
          -4.637652635574341,
          -0.17590521601960063,
          2.492249570786953,
          1.852065697312355,
          -8.049707859754562,
          -13.67461234331131,
          -11.99709102511406,
          -0.6341791711747646,
          -1.836574636399746,
          -12.22088560461998,
          2.670852653682232,
          10.059382766485214
         ],
         "xaxis": "x",
         "yaxis": "y"
        },
        {
         "alignmentgroup": "True",
         "hovertemplate": "Algorithm=FTTransformerModel<br>Forecast Bias=%{x}<extra></extra>",
         "legendgroup": "FTTransformerModel",
         "marker": {
          "color": "#636efa"
         },
         "name": "FTTransformerModel",
         "notched": true,
         "offsetgroup": "FTTransformerModel",
         "showlegend": false,
         "type": "box",
         "x": [
          -5.641750618815422,
          -0.30355944763869047,
          -3.672404959797859,
          -2.8130849823355675,
          5.34684844315052,
          -3.3521726727485657,
          -1.374620571732521,
          -0.25624404661357403,
          3.1913794577121735,
          -2.5844918563961983,
          2.920621633529663,
          1.2645983137190342,
          1.4054344035685062,
          -6.2942057847976685,
          5.220874398946762,
          -13.245582580566406,
          -24.848484992980957,
          -1.7309864982962608,
          -5.279053375124931,
          1.3959628529846668,
          3.288508951663971,
          3.0352063477039337,
          -2.2961128503084183,
          -3.1785529106855392,
          -8.041248470544815,
          -7.563427835702896,
          -4.412583634257317,
          -13.887566328048706,
          0.8924673311412334,
          -6.763104349374771,
          7.444480806589127,
          -7.426058501005173,
          -8.701562136411667,
          -2.651245892047882,
          -5.116092786192894,
          0.39833723567426205,
          -1.5360360033810139,
          -6.649670749902725,
          -3.216017782688141,
          -11.657430976629257,
          -5.878988653421402,
          7.201532274484634,
          -3.8528207689523697,
          2.150915376842022,
          -0.6192358210682869,
          2.5524266064167023,
          0.6497996393591166,
          2.0151717588305473,
          7.352746278047562,
          -0.34995710011571646,
          1.3684006407856941,
          -1.6783235594630241,
          -5.483730882406235,
          1.9721593707799911,
          12.14151680469513,
          -14.56034779548645,
          -10.776212811470032,
          -4.637652635574341,
          -0.17590521601960063,
          2.492249570786953,
          1.852065697312355,
          -8.049707859754562,
          -13.67461234331131,
          -11.99709102511406,
          -0.6341791711747646,
          -1.836574636399746,
          -12.22088560461998,
          2.670852653682232,
          10.059382766485214
         ],
         "xaxis": "x2",
         "yaxis": "y2"
        },
        {
         "alignmentgroup": "True",
         "bingroup": "x",
         "histnorm": "probability density",
         "hovertemplate": "Algorithm=GFM+Meta  (NativeLGBM)<br>Forecast Bias=%{x}<br>probability density=%{y}<extra></extra>",
         "legendgroup": "GFM+Meta  (NativeLGBM)",
         "marker": {
          "color": "#EF553B",
          "opacity": 0.5,
          "pattern": {
           "shape": "/"
          }
         },
         "name": "GFM+Meta  (NativeLGBM)",
         "nbinsx": 250,
         "offsetgroup": "GFM+Meta  (NativeLGBM)",
         "orientation": "v",
         "showlegend": true,
         "type": "histogram",
         "x": [
          -1.5544897380352019,
          1.1380811207400148,
          1.4350532051243452,
          -3.6498518762593557,
          2.720463810133677,
          -1.9848741590926648,
          3.706341238729449,
          -0.2810155980027444,
          6.620656936774756,
          -2.752068600295634,
          -1.0502404569579347,
          4.103610354622498,
          2.38407232560651,
          -1.6092183639804156,
          -0.8537752386436793,
          -2.7571507457538584,
          0.5965671634901143,
          -0.9131653734010132,
          1.1100800883508553,
          9.90732693369153,
          4.05893894820093,
          -1.4519769359454777,
          -2.426340464326587,
          -0.7379579961584684,
          -1.6731394946122413,
          -0.006615616307915396,
          5.5708740050774335,
          -0.12879388599535438,
          2.6757143232663236,
          0.10610948888624255,
          3.5220706499146526,
          -3.38571104906047,
          -1.9592144459573875,
          -0.7824603988721199,
          -0.5994859372707981,
          -3.627656427398455,
          -1.3218734229066982,
          -0.12097779872777863,
          -0.9808991102351996,
          -4.973888504315597,
          0.16407466138356458,
          1.0071024557396493,
          -0.818533308817281,
          -2.228126282831455,
          -5.288577461570654,
          -3.687442207272731,
          -0.7525525405664947,
          -1.0038791400582388,
          4.632545004661303,
          -4.227064358203856,
          0.508344019019584,
          3.525664780350325,
          -0.2825871329709481,
          5.606986119064655,
          13.18855859161927,
          -7.015763999383849,
          -2.0581657657662773,
          -1.3826190294469256,
          -3.381295876314816,
          -1.7109991252018704,
          8.206336945549698,
          -6.127138473201168,
          -6.290340390620848,
          2.2367635239353767,
          -0.031036234330259805,
          -0.4252691960786378,
          -2.7167391727649126,
          2.357170636585549,
          10.985661358738922
         ],
         "xaxis": "x",
         "yaxis": "y"
        },
        {
         "alignmentgroup": "True",
         "hovertemplate": "Algorithm=GFM+Meta  (NativeLGBM)<br>Forecast Bias=%{x}<extra></extra>",
         "legendgroup": "GFM+Meta  (NativeLGBM)",
         "marker": {
          "color": "#EF553B"
         },
         "name": "GFM+Meta  (NativeLGBM)",
         "notched": true,
         "offsetgroup": "GFM+Meta  (NativeLGBM)",
         "showlegend": false,
         "type": "box",
         "x": [
          -1.5544897380352019,
          1.1380811207400148,
          1.4350532051243452,
          -3.6498518762593557,
          2.720463810133677,
          -1.9848741590926648,
          3.706341238729449,
          -0.2810155980027444,
          6.620656936774756,
          -2.752068600295634,
          -1.0502404569579347,
          4.103610354622498,
          2.38407232560651,
          -1.6092183639804156,
          -0.8537752386436793,
          -2.7571507457538584,
          0.5965671634901143,
          -0.9131653734010132,
          1.1100800883508553,
          9.90732693369153,
          4.05893894820093,
          -1.4519769359454777,
          -2.426340464326587,
          -0.7379579961584684,
          -1.6731394946122413,
          -0.006615616307915396,
          5.5708740050774335,
          -0.12879388599535438,
          2.6757143232663236,
          0.10610948888624255,
          3.5220706499146526,
          -3.38571104906047,
          -1.9592144459573875,
          -0.7824603988721199,
          -0.5994859372707981,
          -3.627656427398455,
          -1.3218734229066982,
          -0.12097779872777863,
          -0.9808991102351996,
          -4.973888504315597,
          0.16407466138356458,
          1.0071024557396493,
          -0.818533308817281,
          -2.228126282831455,
          -5.288577461570654,
          -3.687442207272731,
          -0.7525525405664947,
          -1.0038791400582388,
          4.632545004661303,
          -4.227064358203856,
          0.508344019019584,
          3.525664780350325,
          -0.2825871329709481,
          5.606986119064655,
          13.18855859161927,
          -7.015763999383849,
          -2.0581657657662773,
          -1.3826190294469256,
          -3.381295876314816,
          -1.7109991252018704,
          8.206336945549698,
          -6.127138473201168,
          -6.290340390620848,
          2.2367635239353767,
          -0.031036234330259805,
          -0.4252691960786378,
          -2.7167391727649126,
          2.357170636585549,
          10.985661358738922
         ],
         "xaxis": "x2",
         "yaxis": "y2"
        }
       ],
       "layout": {
        "autosize": false,
        "barmode": "overlay",
        "height": 500,
        "legend": {
         "font": {
          "size": 15
         },
         "orientation": "h",
         "title": {},
         "tracegroupgap": 0,
         "x": 1,
         "xanchor": "right",
         "y": 0.98,
         "yanchor": "bottom"
        },
        "margin": {
         "t": 60
        },
        "template": {
         "data": {
          "bar": [
           {
            "error_x": {
             "color": "#2a3f5f"
            },
            "error_y": {
             "color": "#2a3f5f"
            },
            "marker": {
             "line": {
              "color": "white",
              "width": 0.5
             },
             "pattern": {
              "fillmode": "overlay",
              "size": 10,
              "solidity": 0.2
             }
            },
            "type": "bar"
           }
          ],
          "barpolar": [
           {
            "marker": {
             "line": {
              "color": "white",
              "width": 0.5
             },
             "pattern": {
              "fillmode": "overlay",
              "size": 10,
              "solidity": 0.2
             }
            },
            "type": "barpolar"
           }
          ],
          "carpet": [
           {
            "aaxis": {
             "endlinecolor": "#2a3f5f",
             "gridcolor": "#C8D4E3",
             "linecolor": "#C8D4E3",
             "minorgridcolor": "#C8D4E3",
             "startlinecolor": "#2a3f5f"
            },
            "baxis": {
             "endlinecolor": "#2a3f5f",
             "gridcolor": "#C8D4E3",
             "linecolor": "#C8D4E3",
             "minorgridcolor": "#C8D4E3",
             "startlinecolor": "#2a3f5f"
            },
            "type": "carpet"
           }
          ],
          "choropleth": [
           {
            "colorbar": {
             "outlinewidth": 0,
             "ticks": ""
            },
            "type": "choropleth"
           }
          ],
          "contour": [
           {
            "colorbar": {
             "outlinewidth": 0,
             "ticks": ""
            },
            "colorscale": [
             [
              0,
              "#0d0887"
             ],
             [
              0.1111111111111111,
              "#46039f"
             ],
             [
              0.2222222222222222,
              "#7201a8"
             ],
             [
              0.3333333333333333,
              "#9c179e"
             ],
             [
              0.4444444444444444,
              "#bd3786"
             ],
             [
              0.5555555555555556,
              "#d8576b"
             ],
             [
              0.6666666666666666,
              "#ed7953"
             ],
             [
              0.7777777777777778,
              "#fb9f3a"
             ],
             [
              0.8888888888888888,
              "#fdca26"
             ],
             [
              1,
              "#f0f921"
             ]
            ],
            "type": "contour"
           }
          ],
          "contourcarpet": [
           {
            "colorbar": {
             "outlinewidth": 0,
             "ticks": ""
            },
            "type": "contourcarpet"
           }
          ],
          "heatmap": [
           {
            "colorbar": {
             "outlinewidth": 0,
             "ticks": ""
            },
            "colorscale": [
             [
              0,
              "#0d0887"
             ],
             [
              0.1111111111111111,
              "#46039f"
             ],
             [
              0.2222222222222222,
              "#7201a8"
             ],
             [
              0.3333333333333333,
              "#9c179e"
             ],
             [
              0.4444444444444444,
              "#bd3786"
             ],
             [
              0.5555555555555556,
              "#d8576b"
             ],
             [
              0.6666666666666666,
              "#ed7953"
             ],
             [
              0.7777777777777778,
              "#fb9f3a"
             ],
             [
              0.8888888888888888,
              "#fdca26"
             ],
             [
              1,
              "#f0f921"
             ]
            ],
            "type": "heatmap"
           }
          ],
          "heatmapgl": [
           {
            "colorbar": {
             "outlinewidth": 0,
             "ticks": ""
            },
            "colorscale": [
             [
              0,
              "#0d0887"
             ],
             [
              0.1111111111111111,
              "#46039f"
             ],
             [
              0.2222222222222222,
              "#7201a8"
             ],
             [
              0.3333333333333333,
              "#9c179e"
             ],
             [
              0.4444444444444444,
              "#bd3786"
             ],
             [
              0.5555555555555556,
              "#d8576b"
             ],
             [
              0.6666666666666666,
              "#ed7953"
             ],
             [
              0.7777777777777778,
              "#fb9f3a"
             ],
             [
              0.8888888888888888,
              "#fdca26"
             ],
             [
              1,
              "#f0f921"
             ]
            ],
            "type": "heatmapgl"
           }
          ],
          "histogram": [
           {
            "marker": {
             "pattern": {
              "fillmode": "overlay",
              "size": 10,
              "solidity": 0.2
             }
            },
            "type": "histogram"
           }
          ],
          "histogram2d": [
           {
            "colorbar": {
             "outlinewidth": 0,
             "ticks": ""
            },
            "colorscale": [
             [
              0,
              "#0d0887"
             ],
             [
              0.1111111111111111,
              "#46039f"
             ],
             [
              0.2222222222222222,
              "#7201a8"
             ],
             [
              0.3333333333333333,
              "#9c179e"
             ],
             [
              0.4444444444444444,
              "#bd3786"
             ],
             [
              0.5555555555555556,
              "#d8576b"
             ],
             [
              0.6666666666666666,
              "#ed7953"
             ],
             [
              0.7777777777777778,
              "#fb9f3a"
             ],
             [
              0.8888888888888888,
              "#fdca26"
             ],
             [
              1,
              "#f0f921"
             ]
            ],
            "type": "histogram2d"
           }
          ],
          "histogram2dcontour": [
           {
            "colorbar": {
             "outlinewidth": 0,
             "ticks": ""
            },
            "colorscale": [
             [
              0,
              "#0d0887"
             ],
             [
              0.1111111111111111,
              "#46039f"
             ],
             [
              0.2222222222222222,
              "#7201a8"
             ],
             [
              0.3333333333333333,
              "#9c179e"
             ],
             [
              0.4444444444444444,
              "#bd3786"
             ],
             [
              0.5555555555555556,
              "#d8576b"
             ],
             [
              0.6666666666666666,
              "#ed7953"
             ],
             [
              0.7777777777777778,
              "#fb9f3a"
             ],
             [
              0.8888888888888888,
              "#fdca26"
             ],
             [
              1,
              "#f0f921"
             ]
            ],
            "type": "histogram2dcontour"
           }
          ],
          "mesh3d": [
           {
            "colorbar": {
             "outlinewidth": 0,
             "ticks": ""
            },
            "type": "mesh3d"
           }
          ],
          "parcoords": [
           {
            "line": {
             "colorbar": {
              "outlinewidth": 0,
              "ticks": ""
             }
            },
            "type": "parcoords"
           }
          ],
          "pie": [
           {
            "automargin": true,
            "type": "pie"
           }
          ],
          "scatter": [
           {
            "fillpattern": {
             "fillmode": "overlay",
             "size": 10,
             "solidity": 0.2
            },
            "type": "scatter"
           }
          ],
          "scatter3d": [
           {
            "line": {
             "colorbar": {
              "outlinewidth": 0,
              "ticks": ""
             }
            },
            "marker": {
             "colorbar": {
              "outlinewidth": 0,
              "ticks": ""
             }
            },
            "type": "scatter3d"
           }
          ],
          "scattercarpet": [
           {
            "marker": {
             "colorbar": {
              "outlinewidth": 0,
              "ticks": ""
             }
            },
            "type": "scattercarpet"
           }
          ],
          "scattergeo": [
           {
            "marker": {
             "colorbar": {
              "outlinewidth": 0,
              "ticks": ""
             }
            },
            "type": "scattergeo"
           }
          ],
          "scattergl": [
           {
            "marker": {
             "colorbar": {
              "outlinewidth": 0,
              "ticks": ""
             }
            },
            "type": "scattergl"
           }
          ],
          "scattermapbox": [
           {
            "marker": {
             "colorbar": {
              "outlinewidth": 0,
              "ticks": ""
             }
            },
            "type": "scattermapbox"
           }
          ],
          "scatterpolar": [
           {
            "marker": {
             "colorbar": {
              "outlinewidth": 0,
              "ticks": ""
             }
            },
            "type": "scatterpolar"
           }
          ],
          "scatterpolargl": [
           {
            "marker": {
             "colorbar": {
              "outlinewidth": 0,
              "ticks": ""
             }
            },
            "type": "scatterpolargl"
           }
          ],
          "scatterternary": [
           {
            "marker": {
             "colorbar": {
              "outlinewidth": 0,
              "ticks": ""
             }
            },
            "type": "scatterternary"
           }
          ],
          "surface": [
           {
            "colorbar": {
             "outlinewidth": 0,
             "ticks": ""
            },
            "colorscale": [
             [
              0,
              "#0d0887"
             ],
             [
              0.1111111111111111,
              "#46039f"
             ],
             [
              0.2222222222222222,
              "#7201a8"
             ],
             [
              0.3333333333333333,
              "#9c179e"
             ],
             [
              0.4444444444444444,
              "#bd3786"
             ],
             [
              0.5555555555555556,
              "#d8576b"
             ],
             [
              0.6666666666666666,
              "#ed7953"
             ],
             [
              0.7777777777777778,
              "#fb9f3a"
             ],
             [
              0.8888888888888888,
              "#fdca26"
             ],
             [
              1,
              "#f0f921"
             ]
            ],
            "type": "surface"
           }
          ],
          "table": [
           {
            "cells": {
             "fill": {
              "color": "#EBF0F8"
             },
             "line": {
              "color": "white"
             }
            },
            "header": {
             "fill": {
              "color": "#C8D4E3"
             },
             "line": {
              "color": "white"
             }
            },
            "type": "table"
           }
          ]
         },
         "layout": {
          "annotationdefaults": {
           "arrowcolor": "#2a3f5f",
           "arrowhead": 0,
           "arrowwidth": 1
          },
          "autotypenumbers": "strict",
          "coloraxis": {
           "colorbar": {
            "outlinewidth": 0,
            "ticks": ""
           }
          },
          "colorscale": {
           "diverging": [
            [
             0,
             "#8e0152"
            ],
            [
             0.1,
             "#c51b7d"
            ],
            [
             0.2,
             "#de77ae"
            ],
            [
             0.3,
             "#f1b6da"
            ],
            [
             0.4,
             "#fde0ef"
            ],
            [
             0.5,
             "#f7f7f7"
            ],
            [
             0.6,
             "#e6f5d0"
            ],
            [
             0.7,
             "#b8e186"
            ],
            [
             0.8,
             "#7fbc41"
            ],
            [
             0.9,
             "#4d9221"
            ],
            [
             1,
             "#276419"
            ]
           ],
           "sequential": [
            [
             0,
             "#0d0887"
            ],
            [
             0.1111111111111111,
             "#46039f"
            ],
            [
             0.2222222222222222,
             "#7201a8"
            ],
            [
             0.3333333333333333,
             "#9c179e"
            ],
            [
             0.4444444444444444,
             "#bd3786"
            ],
            [
             0.5555555555555556,
             "#d8576b"
            ],
            [
             0.6666666666666666,
             "#ed7953"
            ],
            [
             0.7777777777777778,
             "#fb9f3a"
            ],
            [
             0.8888888888888888,
             "#fdca26"
            ],
            [
             1,
             "#f0f921"
            ]
           ],
           "sequentialminus": [
            [
             0,
             "#0d0887"
            ],
            [
             0.1111111111111111,
             "#46039f"
            ],
            [
             0.2222222222222222,
             "#7201a8"
            ],
            [
             0.3333333333333333,
             "#9c179e"
            ],
            [
             0.4444444444444444,
             "#bd3786"
            ],
            [
             0.5555555555555556,
             "#d8576b"
            ],
            [
             0.6666666666666666,
             "#ed7953"
            ],
            [
             0.7777777777777778,
             "#fb9f3a"
            ],
            [
             0.8888888888888888,
             "#fdca26"
            ],
            [
             1,
             "#f0f921"
            ]
           ]
          },
          "colorway": [
           "#636efa",
           "#EF553B",
           "#00cc96",
           "#ab63fa",
           "#FFA15A",
           "#19d3f3",
           "#FF6692",
           "#B6E880",
           "#FF97FF",
           "#FECB52"
          ],
          "font": {
           "color": "#2a3f5f"
          },
          "geo": {
           "bgcolor": "white",
           "lakecolor": "white",
           "landcolor": "white",
           "showlakes": true,
           "showland": true,
           "subunitcolor": "#C8D4E3"
          },
          "hoverlabel": {
           "align": "left"
          },
          "hovermode": "closest",
          "mapbox": {
           "style": "light"
          },
          "paper_bgcolor": "white",
          "plot_bgcolor": "white",
          "polar": {
           "angularaxis": {
            "gridcolor": "#EBF0F8",
            "linecolor": "#EBF0F8",
            "ticks": ""
           },
           "bgcolor": "white",
           "radialaxis": {
            "gridcolor": "#EBF0F8",
            "linecolor": "#EBF0F8",
            "ticks": ""
           }
          },
          "scene": {
           "xaxis": {
            "backgroundcolor": "white",
            "gridcolor": "#DFE8F3",
            "gridwidth": 2,
            "linecolor": "#EBF0F8",
            "showbackground": true,
            "ticks": "",
            "zerolinecolor": "#EBF0F8"
           },
           "yaxis": {
            "backgroundcolor": "white",
            "gridcolor": "#DFE8F3",
            "gridwidth": 2,
            "linecolor": "#EBF0F8",
            "showbackground": true,
            "ticks": "",
            "zerolinecolor": "#EBF0F8"
           },
           "zaxis": {
            "backgroundcolor": "white",
            "gridcolor": "#DFE8F3",
            "gridwidth": 2,
            "linecolor": "#EBF0F8",
            "showbackground": true,
            "ticks": "",
            "zerolinecolor": "#EBF0F8"
           }
          },
          "shapedefaults": {
           "line": {
            "color": "#2a3f5f"
           }
          },
          "ternary": {
           "aaxis": {
            "gridcolor": "#DFE8F3",
            "linecolor": "#A2B1C6",
            "ticks": ""
           },
           "baxis": {
            "gridcolor": "#DFE8F3",
            "linecolor": "#A2B1C6",
            "ticks": ""
           },
           "bgcolor": "white",
           "caxis": {
            "gridcolor": "#DFE8F3",
            "linecolor": "#A2B1C6",
            "ticks": ""
           }
          },
          "title": {
           "x": 0.05
          },
          "xaxis": {
           "automargin": true,
           "gridcolor": "#EBF0F8",
           "linecolor": "#EBF0F8",
           "ticks": "",
           "title": {
            "standoff": 15
           },
           "zerolinecolor": "#EBF0F8",
           "zerolinewidth": 2
          },
          "yaxis": {
           "automargin": true,
           "gridcolor": "#EBF0F8",
           "linecolor": "#EBF0F8",
           "ticks": "",
           "title": {
            "standoff": 15
           },
           "zerolinecolor": "#EBF0F8",
           "zerolinewidth": 2
          }
         }
        },
        "title": {
         "font": {
          "size": 20
         },
         "text": "Distribution of Forecast Bias in the dataset",
         "x": 0.5,
         "xanchor": "center",
         "yanchor": "top"
        },
        "width": 900,
        "xaxis": {
         "anchor": "y",
         "domain": [
          0,
          1
         ],
         "range": [
          -15,
          10
         ],
         "tickfont": {
          "size": 15
         },
         "title": {
          "font": {
           "size": 15
          },
          "text": "Forecast Bias"
         }
        },
        "xaxis2": {
         "anchor": "y2",
         "domain": [
          0,
          1
         ],
         "matches": "x",
         "showgrid": true,
         "showticklabels": false
        },
        "yaxis": {
         "anchor": "x",
         "domain": [
          0,
          0.7326
         ],
         "tickfont": {
          "size": 15
         },
         "title": {
          "font": {
           "size": 15
          },
          "text": "Probability Density"
         }
        },
        "yaxis2": {
         "anchor": "x2",
         "domain": [
          0.7426,
          1
         ],
         "matches": "y2",
         "showgrid": false,
         "showline": false,
         "showticklabels": false,
         "ticks": ""
        }
       }
      }
     },
     "metadata": {},
     "output_type": "display_data"
    }
   ],
   "source": [
    "fig = px.histogram(metrics_df, \n",
    "                   x=\"Forecast Bias\", \n",
    "                   color=\"Algorithm\",\n",
    "                   pattern_shape=\"Algorithm\", \n",
    "                   marginal=\"box\", \n",
    "                   nbins=250,\n",
    "                   barmode=\"overlay\",\n",
    "                   histnorm=\"probability density\")\n",
    "fig = format_plot(fig, xlabel=\"Forecast Bias\", ylabel=\"Probability Density\", title=\"Distribution of Forecast Bias in the dataset\")\n",
    "fig.update_layout(xaxis_range=[-15,10])\n",
    "# fig.write_image(\"imgs/chapter_13/ft_bias_dist.png\")\n",
    "fig.show()"
   ]
  },
  {
   "cell_type": "markdown",
   "id": "8563e46a-8c50-4ae4-8321-2a36e9d104d8",
   "metadata": {
    "tags": []
   },
   "source": [
    "# Saving the Forecasts and Metrics"
   ]
  },
  {
   "cell_type": "code",
   "execution_count": 30,
   "id": "330d2005-faba-44da-89a9-29b088758998",
   "metadata": {},
   "outputs": [],
   "source": [
    "os.makedirs(\"data/london_smart_meters/output\", exist_ok=True)\n",
    "output = Path(\"data/london_smart_meters/output\")"
   ]
  },
  {
   "cell_type": "code",
   "execution_count": 31,
   "id": "b93cdcae-b729-42f3-80a8-c6bb368f534f",
   "metadata": {},
   "outputs": [],
   "source": [
    "pred_df.to_pickle(output/\"ft_transformer_val_df.pkl\")\n",
    "metrics_df.to_pickle(output/\"ft_transformer_metrics_val_df.pkl\")\n",
    "agg_metrics_df.to_pickle(output/\"ft_transformer_aggregate_metrics_val.pkl\")"
   ]
  }
 ],
 "metadata": {
  "kernelspec": {
   "display_name": "Python 3 (ipykernel)",
   "language": "python",
   "name": "python3"
  },
  "language_info": {
   "codemirror_mode": {
    "name": "ipython",
    "version": 3
   },
   "file_extension": ".py",
   "mimetype": "text/x-python",
   "name": "python",
   "nbconvert_exporter": "python",
   "pygments_lexer": "ipython3",
   "version": "3.11.0"
  },
  "varInspector": {
   "cols": {
    "lenName": 16,
    "lenType": 16,
    "lenVar": 40
   },
   "kernels_config": {
    "python": {
     "delete_cmd_postfix": "",
     "delete_cmd_prefix": "del ",
     "library": "var_list.py",
     "varRefreshCmd": "print(var_dic_list())"
    },
    "r": {
     "delete_cmd_postfix": ") ",
     "delete_cmd_prefix": "rm(",
     "library": "var_list.r",
     "varRefreshCmd": "cat(var_dic_list()) "
    }
   },
   "types_to_exclude": [
    "module",
    "function",
    "builtin_function_or_method",
    "instance",
    "_Feature"
   ],
   "window_display": false
  }
 },
 "nbformat": 4,
 "nbformat_minor": 5
}

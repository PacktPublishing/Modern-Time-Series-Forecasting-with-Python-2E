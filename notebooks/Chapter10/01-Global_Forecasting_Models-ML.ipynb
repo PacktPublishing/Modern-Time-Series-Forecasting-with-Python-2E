{
 "cells": [
  {
   "cell_type": "code",
   "execution_count": 1,
   "id": "b25018c9-2624-434c-aa23-04be1d73e729",
   "metadata": {},
   "outputs": [
    {
     "name": "stdout",
     "output_type": "stream",
     "text": [
      "c:\\Users\\tacke\\OneDrive\\Documents\\GitHub\\Modern-Time-Series-Forecasting-with-Python-2E-1\n"
     ]
    }
   ],
   "source": [
    "%cd ../.."
   ]
  },
  {
   "cell_type": "code",
   "execution_count": 2,
   "id": "4f023467-970a-461e-a60f-7a66fce6a497",
   "metadata": {},
   "outputs": [],
   "source": [
    "import os\n",
    "import random\n",
    "import time\n",
    "\n",
    "random.seed(42)\n",
    "import joblib\n",
    "import numpy as np\n",
    "import pandas as pd\n",
    "import plotly.express as px\n",
    "import plotly.graph_objects as go\n",
    "import plotly.io as pio\n",
    "\n",
    "pio.templates.default = \"plotly_white\"\n",
    "\n",
    "import copy\n",
    "import warnings\n",
    "from pathlib import Path\n",
    "\n",
    "import humanize\n",
    "from sklearn.preprocessing import StandardScaler\n",
    "from src.forecasting.ml_forecasting import (\n",
    "    FeatureConfig,\n",
    "    MissingValueConfig,\n",
    "    MLForecast,\n",
    "    ModelConfig,\n",
    "    calculate_metrics,\n",
    ")\n",
    "from src.utils import plotting_utils\n",
    "from src.utils.general import LogTime\n",
    "from src.utils.ts_utils import metrics_adapter, forecast_bias,mae, mase, mse\n",
    "from tqdm.autonotebook import tqdm\n",
    "from IPython.display import display, HTML\n",
    "# %load_ext autoreload\n",
    "# %autoreload 2\n",
    "np.random.seed(42)\n",
    "tqdm.pandas()"
   ]
  },
  {
   "cell_type": "code",
   "execution_count": 3,
   "id": "41ae72a1-3721-4b36-b211-b78d4b09c855",
   "metadata": {},
   "outputs": [],
   "source": [
    "os.makedirs(\"imgs/chapter_10\", exist_ok=True)\n",
    "preprocessed = Path(\"data/london_smart_meters/preprocessed\")\n",
    "output = Path(\"data/london_smart_meters/output\")"
   ]
  },
  {
   "cell_type": "code",
   "execution_count": 4,
   "id": "8900cd43-718f-4dc1-ace9-ef9dc99b600d",
   "metadata": {},
   "outputs": [],
   "source": [
    "from itertools import cycle\n",
    "def format_plot(fig, legends=None, xlabel=\"Time\", ylabel=\"Value\", title=\"\", font_size=15):\n",
    "    if legends:\n",
    "        names = cycle(legends)\n",
    "        fig.for_each_trace(lambda t: t.update(name=next(names)))\n",
    "    fig.update_layout(\n",
    "        autosize=False,\n",
    "        width=900,\n",
    "        height=500,\n",
    "        title_text=title,\n",
    "        title={\"x\": 0.5, \"xanchor\": \"center\", \"yanchor\": \"top\"},\n",
    "        titlefont={\"size\": 20},\n",
    "        legend_title=None,\n",
    "        legend=dict(\n",
    "            font=dict(size=font_size),\n",
    "            orientation=\"h\",\n",
    "            yanchor=\"bottom\",\n",
    "            y=0.9,\n",
    "            xanchor=\"right\",\n",
    "            x=1,\n",
    "        ),\n",
    "        yaxis=dict(\n",
    "            title_text=ylabel,\n",
    "            titlefont=dict(size=font_size),\n",
    "            tickfont=dict(size=font_size),\n",
    "        ),\n",
    "        xaxis=dict(\n",
    "            title_text=xlabel,\n",
    "            titlefont=dict(size=font_size),\n",
    "            tickfont=dict(size=font_size),\n",
    "        )\n",
    "    )\n",
    "    return fig"
   ]
  },
  {
   "cell_type": "code",
   "execution_count": 5,
   "id": "91a45da0-76e2-46ed-9eef-5cd1a1b5623c",
   "metadata": {},
   "outputs": [],
   "source": [
    "try:\n",
    "    #Readin the missing value imputed and train test split data\n",
    "    train_df = pd.read_parquet(preprocessed/\"selected_blocks_train_missing_imputed_feature_engg.parquet\")\n",
    "    # Read in the Validation dataset as test_df so that we predict on it\n",
    "    test_df = pd.read_parquet(preprocessed/\"selected_blocks_val_missing_imputed_feature_engg.parquet\")\n",
    "    # test_df = pd.read_parquet(preprocessed/\"block_0-7_test_missing_imputed_feature_engg.parquet\")\n",
    "except FileNotFoundError:\n",
    "    display(HTML(\"\"\"\n",
    "    <div class=\"alert alert-block alert-warning\">\n",
    "    <b>Warning!</b> File not found. Please make sure you have run 01-Feature Engineering.ipynb in Chapter06\n",
    "    </div>\n",
    "    \"\"\"))"
   ]
  },
  {
   "cell_type": "markdown",
   "id": "60dac12a-86d0-44eb-8497-c94f0cf51dbf",
   "metadata": {},
   "source": [
    "### Loading the single step backtesting baselines for validation"
   ]
  },
  {
   "cell_type": "code",
   "execution_count": 6,
   "id": "a9e10931-52a6-47d5-ad5c-5d3819d36bc6",
   "metadata": {
    "tags": []
   },
   "outputs": [],
   "source": [
    "try:\n",
    "    baseline_aggregate_metrics_df = pd.read_pickle(output/\"ml_single_step_aggregate_metrics_auto_stationary_val.pkl\")\n",
    "except FileNotFoundError:\n",
    "    display(HTML(\"\"\"\n",
    "    <div class=\"alert alert-block alert-warning\">\n",
    "    <b>Warning!</b> File not found. Please make sure you have run 02-Forecasting with Target Transformation.ipynb in Chapter08\n",
    "    </div>\n",
    "    \"\"\"))"
   ]
  },
  {
   "cell_type": "code",
   "execution_count": 7,
   "id": "6046a8fe-283d-4f4b-ab1f-a5b23bad55e7",
   "metadata": {},
   "outputs": [
    {
     "data": {
      "text/plain": [
       "150"
      ]
     },
     "execution_count": 7,
     "metadata": {},
     "output_type": "execute_result"
    }
   ],
   "source": [
    "len(train_df.LCLid.unique())"
   ]
  },
  {
   "cell_type": "markdown",
   "id": "debe3f31-9081-49ee-beed-b56c040cebc2",
   "metadata": {
    "jp-MarkdownHeadingCollapsed": true,
    "tags": []
   },
   "source": [
    "# Feature Definition"
   ]
  },
  {
   "cell_type": "code",
   "execution_count": 8,
   "id": "54fa543e-0881-4408-bcca-be7ee37d4ac1",
   "metadata": {},
   "outputs": [],
   "source": [
    "feat_config = FeatureConfig(\n",
    "    date=\"timestamp\",\n",
    "    target=\"energy_consumption\",\n",
    "    continuous_features=[\n",
    "        \"visibility\",\n",
    "        \"windBearing\",\n",
    "        \"temperature\",\n",
    "        \"dewPoint\",\n",
    "        \"pressure\",\n",
    "        \"apparentTemperature\",\n",
    "        \"windSpeed\",\n",
    "        \"humidity\",\n",
    "        \"energy_consumption_lag_1\",\n",
    "        \"energy_consumption_lag_2\",\n",
    "        \"energy_consumption_lag_3\",\n",
    "        \"energy_consumption_lag_4\",\n",
    "        \"energy_consumption_lag_5\",\n",
    "        \"energy_consumption_lag_46\",\n",
    "        \"energy_consumption_lag_47\",\n",
    "        \"energy_consumption_lag_48\",\n",
    "        \"energy_consumption_lag_49\",\n",
    "        \"energy_consumption_lag_50\",\n",
    "        \"energy_consumption_lag_334\",\n",
    "        \"energy_consumption_lag_335\",\n",
    "        \"energy_consumption_lag_336\",\n",
    "        \"energy_consumption_lag_337\",\n",
    "        \"energy_consumption_lag_338\",\n",
    "        \"energy_consumption_rolling_3_mean\",\n",
    "        \"energy_consumption_rolling_3_std\",\n",
    "        \"energy_consumption_rolling_6_mean\",\n",
    "        \"energy_consumption_rolling_6_std\",\n",
    "        \"energy_consumption_rolling_12_mean\",\n",
    "        \"energy_consumption_rolling_12_std\",\n",
    "        \"energy_consumption_rolling_48_mean\",\n",
    "        \"energy_consumption_rolling_48_std\",\n",
    "        \"energy_consumption_48_seasonal_rolling_3_mean\",\n",
    "        \"energy_consumption_48_seasonal_rolling_3_std\",\n",
    "        \"energy_consumption_336_seasonal_rolling_3_mean\",\n",
    "        \"energy_consumption_336_seasonal_rolling_3_std\",\n",
    "        \"energy_consumption_ewma_span_2880\",\n",
    "        \"energy_consumption_ewma_span_336\",\n",
    "        \"energy_consumption_ewma_span_48\",\n",
    "        \"timestamp_Elapsed\",\n",
    "        \"timestamp_Month_sin_1\",\n",
    "        \"timestamp_Month_sin_2\",\n",
    "        \"timestamp_Month_sin_3\",\n",
    "        \"timestamp_Month_sin_4\",\n",
    "        \"timestamp_Month_sin_5\",\n",
    "        \"timestamp_Month_cos_1\",\n",
    "        \"timestamp_Month_cos_2\",\n",
    "        \"timestamp_Month_cos_3\",\n",
    "        \"timestamp_Month_cos_4\",\n",
    "        \"timestamp_Month_cos_5\",\n",
    "        \"timestamp_Hour_sin_1\",\n",
    "        \"timestamp_Hour_sin_2\",\n",
    "        \"timestamp_Hour_sin_3\",\n",
    "        \"timestamp_Hour_sin_4\",\n",
    "        \"timestamp_Hour_sin_5\",\n",
    "        \"timestamp_Hour_cos_1\",\n",
    "        \"timestamp_Hour_cos_2\",\n",
    "        \"timestamp_Hour_cos_3\",\n",
    "        \"timestamp_Hour_cos_4\",\n",
    "        \"timestamp_Hour_cos_5\",\n",
    "        \"timestamp_Minute_sin_1\",\n",
    "        \"timestamp_Minute_sin_2\",\n",
    "        \"timestamp_Minute_sin_3\",\n",
    "        \"timestamp_Minute_sin_4\",\n",
    "        \"timestamp_Minute_sin_5\",\n",
    "        \"timestamp_Minute_cos_1\",\n",
    "        \"timestamp_Minute_cos_2\",\n",
    "        \"timestamp_Minute_cos_3\",\n",
    "        \"timestamp_Minute_cos_4\",\n",
    "        \"timestamp_Minute_cos_5\",\n",
    "    ],\n",
    "    categorical_features=[\n",
    "        \"holidays\",\n",
    "        \"precipType\",\n",
    "        \"icon\",\n",
    "        \"summary\",\n",
    "        \"timestamp_Month\",\n",
    "        \"timestamp_Quarter\",\n",
    "        \"timestamp_WeekDay\",\n",
    "        \"timestamp_Dayofweek\",\n",
    "        \"timestamp_Dayofyear\",\n",
    "        \"timestamp_Hour\",\n",
    "        \"timestamp_Minute\"\n",
    "    ],\n",
    "    boolean_features=[\n",
    "        \"timestamp_Is_quarter_end\",\n",
    "        \"timestamp_Is_quarter_start\",\n",
    "        \"timestamp_Is_year_end\",\n",
    "        \"timestamp_Is_year_start\",\n",
    "        \"timestamp_Is_month_start\",\n",
    "    ],\n",
    "    index_cols=[\"LCLid\",\"timestamp\"],\n",
    "    exogenous_features=[\n",
    "        \"holidays\",\n",
    "        \"precipType\",\n",
    "        \"icon\",\n",
    "        \"summary\",\n",
    "        \"visibility\",\n",
    "        \"windBearing\",\n",
    "        \"temperature\",\n",
    "        \"dewPoint\",\n",
    "        \"pressure\",\n",
    "        \"apparentTemperature\",\n",
    "        \"windSpeed\",\n",
    "        \"humidity\",\n",
    "    ],\n",
    ")\n"
   ]
  },
  {
   "cell_type": "markdown",
   "id": "26327070-5ebf-4648-bfcb-951eca45e5d7",
   "metadata": {
    "jp-MarkdownHeadingCollapsed": true,
    "tags": []
   },
   "source": [
    "# Missing Value Handling"
   ]
  },
  {
   "cell_type": "code",
   "execution_count": 9,
   "id": "5cd8e682-74bf-4f37-9dec-df9b63fee673",
   "metadata": {},
   "outputs": [],
   "source": [
    "missing_value_config = MissingValueConfig(\n",
    "    bfill_columns=[\n",
    "        \"energy_consumption_lag_1\",\n",
    "        \"energy_consumption_lag_2\",\n",
    "        \"energy_consumption_lag_3\",\n",
    "        \"energy_consumption_lag_4\",\n",
    "        \"energy_consumption_lag_5\",\n",
    "        \"energy_consumption_lag_46\",\n",
    "        \"energy_consumption_lag_47\",\n",
    "        \"energy_consumption_lag_48\",\n",
    "        \"energy_consumption_lag_49\",\n",
    "        \"energy_consumption_lag_50\",\n",
    "        \"energy_consumption_lag_334\",\n",
    "        \"energy_consumption_lag_335\",\n",
    "        \"energy_consumption_lag_336\",\n",
    "        \"energy_consumption_lag_337\",\n",
    "        \"energy_consumption_lag_338\",\n",
    "        \"energy_consumption_rolling_3_mean\",\n",
    "        \"energy_consumption_rolling_3_std\",\n",
    "        \"energy_consumption_rolling_6_mean\",\n",
    "        \"energy_consumption_rolling_6_std\",\n",
    "        \"energy_consumption_rolling_12_mean\",\n",
    "        \"energy_consumption_rolling_12_std\",\n",
    "        \"energy_consumption_rolling_48_mean\",\n",
    "        \"energy_consumption_rolling_48_std\",\n",
    "        \"energy_consumption_48_seasonal_rolling_3_mean\",\n",
    "        \"energy_consumption_48_seasonal_rolling_3_std\",\n",
    "        \"energy_consumption_336_seasonal_rolling_3_mean\",\n",
    "        \"energy_consumption_336_seasonal_rolling_3_std\",\n",
    "        \"energy_consumption_ewma__span_2880\",\n",
    "        \"energy_consumption_ewma__span_336\",\n",
    "        \"energy_consumption_ewma__span_48\",\n",
    "    ],\n",
    "    ffill_columns=[],\n",
    "    zero_fill_columns=[],\n",
    ")"
   ]
  },
  {
   "cell_type": "markdown",
   "id": "caf09030-bd42-4329-a8c5-938d4c0bc0d3",
   "metadata": {
    "tags": []
   },
   "source": [
    "# Training Global ML Model"
   ]
  },
  {
   "cell_type": "code",
   "execution_count": 10,
   "id": "b0340df1-0e8a-42d0-9ec5-c92c2e7726f3",
   "metadata": {},
   "outputs": [],
   "source": [
    "from src.forecasting.ml_forecasting import calculate_metrics\n",
    "from src.utils import ts_utils"
   ]
  },
  {
   "cell_type": "code",
   "execution_count": 11,
   "id": "ad04560f-5130-437f-83b0-9929adf63f37",
   "metadata": {},
   "outputs": [],
   "source": [
    "def train_model(\n",
    "    model_config,\n",
    "    feature_config,\n",
    "    missing_config,\n",
    "    train_features,\n",
    "    train_target,\n",
    "    test_features,\n",
    "    fit_kwargs={}\n",
    "):\n",
    "    ml_model = MLForecast(\n",
    "        model_config=model_config,\n",
    "        feature_config=feature_config,\n",
    "        missing_config=missing_config,\n",
    "    )\n",
    "    ml_model.fit(train_features, train_target, fit_kwargs=fit_kwargs)\n",
    "    y_pred = ml_model.predict(test_features)\n",
    "    feat_df = ml_model.feature_importance()\n",
    "    return y_pred, feat_df\n",
    "\n",
    "def evaluate_forecast(y_pred, test_target, train_target, model_config):\n",
    "    metric_l = []\n",
    "    for _id in tqdm(test_target.index.get_level_values(0).remove_unused_categories().categories, desc=\"Calculating metrics...\"):\n",
    "        target = test_target.xs(_id)\n",
    "        _y_pred = y_pred.xs(_id)\n",
    "        history = train_target.xs(_id)\n",
    "        metric_l.append(\n",
    "            calculate_metrics(target, _y_pred, name=model_config.name, y_train=history)\n",
    "        )\n",
    "    eval_metrics_df = pd.DataFrame(metric_l)\n",
    "    agg_metrics = {\n",
    "            \"Algorithm\": model_config.name,\n",
    "            \"MAE\": ts_utils.mae(\n",
    "                test_target['energy_consumption'], y_pred\n",
    "            ),\n",
    "            \"MSE\": ts_utils.mse(\n",
    "                test_target['energy_consumption'], y_pred\n",
    "            ),\n",
    "            \"meanMASE\": eval_metrics_df.loc[:, \"MASE\"].mean(),\n",
    "            \"Forecast Bias\": ts_utils.forecast_bias_aggregate(\n",
    "                test_target['energy_consumption'], y_pred\n",
    "            )\n",
    "    }\n",
    "    return agg_metrics, eval_metrics_df"
   ]
  },
  {
   "cell_type": "code",
   "execution_count": 12,
   "id": "a192e7a1-6204-42fd-836d-3719c364cc81",
   "metadata": {},
   "outputs": [],
   "source": [
    "metric_record = []\n",
    "individual_metrics = dict()\n",
    "\n",
    "metric_record = (\n",
    "    baseline_aggregate_metrics_df.iloc[[4]]\n",
    "    .to_dict(orient=\"records\")\n",
    ")"
   ]
  },
  {
   "cell_type": "markdown",
   "id": "1115a0b2-ca85-4a0a-ac02-b3fc13fa0547",
   "metadata": {
    "tags": []
   },
   "source": [
    "## Baseline"
   ]
  },
  {
   "cell_type": "code",
   "execution_count": 13,
   "id": "7656d613-a218-4ae1-a325-c197ef5f07fc",
   "metadata": {},
   "outputs": [],
   "source": [
    "_feat_config = copy.deepcopy(feat_config)\n",
    "\n",
    "train_features, train_target, train_original_target = _feat_config.get_X_y(\n",
    "    train_df, categorical=False, exogenous=False\n",
    ")\n",
    "\n",
    "test_features, test_target, test_original_target = _feat_config.get_X_y(\n",
    "    test_df, categorical=False, exogenous=False\n",
    ")\n",
    "\n",
    "pred_df = test_target.copy()"
   ]
  },
  {
   "cell_type": "code",
   "execution_count": 14,
   "id": "c51ab2f3-9c9e-4738-8a0c-d580a1ff7e54",
   "metadata": {},
   "outputs": [],
   "source": [
    "from lightgbm import LGBMRegressor\n",
    "model_config = ModelConfig(\n",
    "    model=LGBMRegressor(random_state=42),\n",
    "    name=\"GFM Baseline\",\n",
    "    # LGBM is not sensitive to normalized data\n",
    "    normalize=False,\n",
    "    # LGBM can handle missing values\n",
    "    fill_missing=False,\n",
    ")"
   ]
  },
  {
   "cell_type": "code",
   "execution_count": 15,
   "id": "9be832fb-51c0-484b-be98-b3444204b137",
   "metadata": {},
   "outputs": [
    {
     "name": "stdout",
     "output_type": "stream",
     "text": [
      "[LightGBM] [Info] Auto-choosing col-wise multi-threading, the overhead of testing was 1.002769 seconds.\n",
      "You can set `force_col_wise=true` to remove the overhead.\n",
      "[LightGBM] [Info] Total Bins 8119\n",
      "[LightGBM] [Info] Number of data points in the train set: 4293840, number of used features: 61\n",
      "[LightGBM] [Info] Start training from score 0.194160\n",
      "Time Elapsed: 39 seconds\n"
     ]
    },
    {
     "data": {
      "application/vnd.jupyter.widget-view+json": {
       "model_id": "911bb8bf7bc14aea95e4687742eada81",
       "version_major": 2,
       "version_minor": 0
      },
      "text/plain": [
       "Calculating metrics...:   0%|          | 0/150 [00:00<?, ?it/s]"
      ]
     },
     "metadata": {},
     "output_type": "display_data"
    }
   ],
   "source": [
    "with LogTime() as timer:\n",
    "    y_pred, feat_df = train_model(\n",
    "        model_config,\n",
    "        _feat_config,\n",
    "        missing_value_config,\n",
    "        train_features,\n",
    "        train_target,\n",
    "        test_features,\n",
    "    )\n",
    "agg_metrics, eval_metrics_df = evaluate_forecast(\n",
    "    y_pred, test_target, train_target, model_config\n",
    ")\n",
    "agg_metrics[\"Time Elapsed\"] = timer.elapsed\n",
    "metric_record.append(agg_metrics)\n",
    "individual_metrics[model_config.name]=eval_metrics_df\n",
    "pred_df = pred_df.join(y_pred)"
   ]
  },
  {
   "cell_type": "code",
   "execution_count": 16,
   "id": "cee0760c-ee94-4b39-8682-778f9a5f163a",
   "metadata": {},
   "outputs": [
    {
     "data": {
      "text/html": [
       "<div>\n",
       "<style scoped>\n",
       "    .dataframe tbody tr th:only-of-type {\n",
       "        vertical-align: middle;\n",
       "    }\n",
       "\n",
       "    .dataframe tbody tr th {\n",
       "        vertical-align: top;\n",
       "    }\n",
       "\n",
       "    .dataframe thead th {\n",
       "        text-align: right;\n",
       "    }\n",
       "</style>\n",
       "<table border=\"1\" class=\"dataframe\">\n",
       "  <thead>\n",
       "    <tr style=\"text-align: right;\">\n",
       "      <th></th>\n",
       "      <th>Algorithm</th>\n",
       "      <th>MAE</th>\n",
       "      <th>MSE</th>\n",
       "      <th>meanMASE</th>\n",
       "      <th>Forecast Bias</th>\n",
       "      <th>Time Elapsed</th>\n",
       "    </tr>\n",
       "  </thead>\n",
       "  <tbody>\n",
       "    <tr>\n",
       "      <th>0</th>\n",
       "      <td>LightGBM</td>\n",
       "      <td>0.077107</td>\n",
       "      <td>0.027468</td>\n",
       "      <td>0.977439</td>\n",
       "      <td>0.032495</td>\n",
       "      <td>NaN</td>\n",
       "    </tr>\n",
       "    <tr>\n",
       "      <th>1</th>\n",
       "      <td>GFM Baseline</td>\n",
       "      <td>0.079552</td>\n",
       "      <td>0.027332</td>\n",
       "      <td>1.012078</td>\n",
       "      <td>0.190848</td>\n",
       "      <td>39.544276</td>\n",
       "    </tr>\n",
       "  </tbody>\n",
       "</table>\n",
       "</div>"
      ],
      "text/plain": [
       "      Algorithm       MAE       MSE  meanMASE  Forecast Bias  Time Elapsed\n",
       "0      LightGBM  0.077107  0.027468  0.977439       0.032495           NaN\n",
       "1  GFM Baseline  0.079552  0.027332  1.012078       0.190848     39.544276"
      ]
     },
     "execution_count": 16,
     "metadata": {},
     "output_type": "execute_result"
    }
   ],
   "source": [
    "pd.DataFrame(metric_record)"
   ]
  },
  {
   "cell_type": "code",
   "execution_count": 17,
   "id": "654c6a36-f053-41c1-9661-2ed13970b0f4",
   "metadata": {},
   "outputs": [
    {
     "data": {
      "application/vnd.plotly.v1+json": {
       "config": {
        "plotlyServerURL": "https://plot.ly"
       },
       "data": [
        {
         "alignmentgroup": "True",
         "hovertemplate": "feature=%{x}<br>importance=%{y}<extra></extra>",
         "legendgroup": "",
         "marker": {
          "color": "#636efa",
          "pattern": {
           "shape": ""
          }
         },
         "name": "",
         "offsetgroup": "",
         "orientation": "v",
         "showlegend": false,
         "textposition": "auto",
         "type": "bar",
         "x": [
          "energy_consumption_lag_1",
          "energy_consumption_48_seasonal_rolling_3_mean",
          "energy_consumption_336_seasonal_rolling_3_mean",
          "energy_consumption_lag_2",
          "energy_consumption_lag_48",
          "energy_consumption_rolling_48_std",
          "energy_consumption_rolling_3_std",
          "timestamp_Hour_sin_1",
          "energy_consumption_lag_47",
          "energy_consumption_lag_49",
          "energy_consumption_lag_336",
          "energy_consumption_lag_337",
          "timestamp_Hour_cos_1",
          "energy_consumption_lag_3",
          "energy_consumption_lag_335"
         ],
         "xaxis": "x",
         "y": [
          420,
          195,
          175,
          133,
          119,
          115,
          93,
          92,
          87,
          87,
          85,
          81,
          79,
          79,
          74
         ],
         "yaxis": "y"
        }
       ],
       "layout": {
        "autosize": false,
        "barmode": "relative",
        "height": 500,
        "legend": {
         "font": {
          "size": 12
         },
         "orientation": "h",
         "title": {},
         "tracegroupgap": 0,
         "x": 1,
         "xanchor": "right",
         "y": 0.9,
         "yanchor": "bottom"
        },
        "margin": {
         "t": 60
        },
        "template": {
         "data": {
          "bar": [
           {
            "error_x": {
             "color": "#2a3f5f"
            },
            "error_y": {
             "color": "#2a3f5f"
            },
            "marker": {
             "line": {
              "color": "white",
              "width": 0.5
             },
             "pattern": {
              "fillmode": "overlay",
              "size": 10,
              "solidity": 0.2
             }
            },
            "type": "bar"
           }
          ],
          "barpolar": [
           {
            "marker": {
             "line": {
              "color": "white",
              "width": 0.5
             },
             "pattern": {
              "fillmode": "overlay",
              "size": 10,
              "solidity": 0.2
             }
            },
            "type": "barpolar"
           }
          ],
          "carpet": [
           {
            "aaxis": {
             "endlinecolor": "#2a3f5f",
             "gridcolor": "#C8D4E3",
             "linecolor": "#C8D4E3",
             "minorgridcolor": "#C8D4E3",
             "startlinecolor": "#2a3f5f"
            },
            "baxis": {
             "endlinecolor": "#2a3f5f",
             "gridcolor": "#C8D4E3",
             "linecolor": "#C8D4E3",
             "minorgridcolor": "#C8D4E3",
             "startlinecolor": "#2a3f5f"
            },
            "type": "carpet"
           }
          ],
          "choropleth": [
           {
            "colorbar": {
             "outlinewidth": 0,
             "ticks": ""
            },
            "type": "choropleth"
           }
          ],
          "contour": [
           {
            "colorbar": {
             "outlinewidth": 0,
             "ticks": ""
            },
            "colorscale": [
             [
              0,
              "#0d0887"
             ],
             [
              0.1111111111111111,
              "#46039f"
             ],
             [
              0.2222222222222222,
              "#7201a8"
             ],
             [
              0.3333333333333333,
              "#9c179e"
             ],
             [
              0.4444444444444444,
              "#bd3786"
             ],
             [
              0.5555555555555556,
              "#d8576b"
             ],
             [
              0.6666666666666666,
              "#ed7953"
             ],
             [
              0.7777777777777778,
              "#fb9f3a"
             ],
             [
              0.8888888888888888,
              "#fdca26"
             ],
             [
              1,
              "#f0f921"
             ]
            ],
            "type": "contour"
           }
          ],
          "contourcarpet": [
           {
            "colorbar": {
             "outlinewidth": 0,
             "ticks": ""
            },
            "type": "contourcarpet"
           }
          ],
          "heatmap": [
           {
            "colorbar": {
             "outlinewidth": 0,
             "ticks": ""
            },
            "colorscale": [
             [
              0,
              "#0d0887"
             ],
             [
              0.1111111111111111,
              "#46039f"
             ],
             [
              0.2222222222222222,
              "#7201a8"
             ],
             [
              0.3333333333333333,
              "#9c179e"
             ],
             [
              0.4444444444444444,
              "#bd3786"
             ],
             [
              0.5555555555555556,
              "#d8576b"
             ],
             [
              0.6666666666666666,
              "#ed7953"
             ],
             [
              0.7777777777777778,
              "#fb9f3a"
             ],
             [
              0.8888888888888888,
              "#fdca26"
             ],
             [
              1,
              "#f0f921"
             ]
            ],
            "type": "heatmap"
           }
          ],
          "heatmapgl": [
           {
            "colorbar": {
             "outlinewidth": 0,
             "ticks": ""
            },
            "colorscale": [
             [
              0,
              "#0d0887"
             ],
             [
              0.1111111111111111,
              "#46039f"
             ],
             [
              0.2222222222222222,
              "#7201a8"
             ],
             [
              0.3333333333333333,
              "#9c179e"
             ],
             [
              0.4444444444444444,
              "#bd3786"
             ],
             [
              0.5555555555555556,
              "#d8576b"
             ],
             [
              0.6666666666666666,
              "#ed7953"
             ],
             [
              0.7777777777777778,
              "#fb9f3a"
             ],
             [
              0.8888888888888888,
              "#fdca26"
             ],
             [
              1,
              "#f0f921"
             ]
            ],
            "type": "heatmapgl"
           }
          ],
          "histogram": [
           {
            "marker": {
             "pattern": {
              "fillmode": "overlay",
              "size": 10,
              "solidity": 0.2
             }
            },
            "type": "histogram"
           }
          ],
          "histogram2d": [
           {
            "colorbar": {
             "outlinewidth": 0,
             "ticks": ""
            },
            "colorscale": [
             [
              0,
              "#0d0887"
             ],
             [
              0.1111111111111111,
              "#46039f"
             ],
             [
              0.2222222222222222,
              "#7201a8"
             ],
             [
              0.3333333333333333,
              "#9c179e"
             ],
             [
              0.4444444444444444,
              "#bd3786"
             ],
             [
              0.5555555555555556,
              "#d8576b"
             ],
             [
              0.6666666666666666,
              "#ed7953"
             ],
             [
              0.7777777777777778,
              "#fb9f3a"
             ],
             [
              0.8888888888888888,
              "#fdca26"
             ],
             [
              1,
              "#f0f921"
             ]
            ],
            "type": "histogram2d"
           }
          ],
          "histogram2dcontour": [
           {
            "colorbar": {
             "outlinewidth": 0,
             "ticks": ""
            },
            "colorscale": [
             [
              0,
              "#0d0887"
             ],
             [
              0.1111111111111111,
              "#46039f"
             ],
             [
              0.2222222222222222,
              "#7201a8"
             ],
             [
              0.3333333333333333,
              "#9c179e"
             ],
             [
              0.4444444444444444,
              "#bd3786"
             ],
             [
              0.5555555555555556,
              "#d8576b"
             ],
             [
              0.6666666666666666,
              "#ed7953"
             ],
             [
              0.7777777777777778,
              "#fb9f3a"
             ],
             [
              0.8888888888888888,
              "#fdca26"
             ],
             [
              1,
              "#f0f921"
             ]
            ],
            "type": "histogram2dcontour"
           }
          ],
          "mesh3d": [
           {
            "colorbar": {
             "outlinewidth": 0,
             "ticks": ""
            },
            "type": "mesh3d"
           }
          ],
          "parcoords": [
           {
            "line": {
             "colorbar": {
              "outlinewidth": 0,
              "ticks": ""
             }
            },
            "type": "parcoords"
           }
          ],
          "pie": [
           {
            "automargin": true,
            "type": "pie"
           }
          ],
          "scatter": [
           {
            "fillpattern": {
             "fillmode": "overlay",
             "size": 10,
             "solidity": 0.2
            },
            "type": "scatter"
           }
          ],
          "scatter3d": [
           {
            "line": {
             "colorbar": {
              "outlinewidth": 0,
              "ticks": ""
             }
            },
            "marker": {
             "colorbar": {
              "outlinewidth": 0,
              "ticks": ""
             }
            },
            "type": "scatter3d"
           }
          ],
          "scattercarpet": [
           {
            "marker": {
             "colorbar": {
              "outlinewidth": 0,
              "ticks": ""
             }
            },
            "type": "scattercarpet"
           }
          ],
          "scattergeo": [
           {
            "marker": {
             "colorbar": {
              "outlinewidth": 0,
              "ticks": ""
             }
            },
            "type": "scattergeo"
           }
          ],
          "scattergl": [
           {
            "marker": {
             "colorbar": {
              "outlinewidth": 0,
              "ticks": ""
             }
            },
            "type": "scattergl"
           }
          ],
          "scattermapbox": [
           {
            "marker": {
             "colorbar": {
              "outlinewidth": 0,
              "ticks": ""
             }
            },
            "type": "scattermapbox"
           }
          ],
          "scatterpolar": [
           {
            "marker": {
             "colorbar": {
              "outlinewidth": 0,
              "ticks": ""
             }
            },
            "type": "scatterpolar"
           }
          ],
          "scatterpolargl": [
           {
            "marker": {
             "colorbar": {
              "outlinewidth": 0,
              "ticks": ""
             }
            },
            "type": "scatterpolargl"
           }
          ],
          "scatterternary": [
           {
            "marker": {
             "colorbar": {
              "outlinewidth": 0,
              "ticks": ""
             }
            },
            "type": "scatterternary"
           }
          ],
          "surface": [
           {
            "colorbar": {
             "outlinewidth": 0,
             "ticks": ""
            },
            "colorscale": [
             [
              0,
              "#0d0887"
             ],
             [
              0.1111111111111111,
              "#46039f"
             ],
             [
              0.2222222222222222,
              "#7201a8"
             ],
             [
              0.3333333333333333,
              "#9c179e"
             ],
             [
              0.4444444444444444,
              "#bd3786"
             ],
             [
              0.5555555555555556,
              "#d8576b"
             ],
             [
              0.6666666666666666,
              "#ed7953"
             ],
             [
              0.7777777777777778,
              "#fb9f3a"
             ],
             [
              0.8888888888888888,
              "#fdca26"
             ],
             [
              1,
              "#f0f921"
             ]
            ],
            "type": "surface"
           }
          ],
          "table": [
           {
            "cells": {
             "fill": {
              "color": "#EBF0F8"
             },
             "line": {
              "color": "white"
             }
            },
            "header": {
             "fill": {
              "color": "#C8D4E3"
             },
             "line": {
              "color": "white"
             }
            },
            "type": "table"
           }
          ]
         },
         "layout": {
          "annotationdefaults": {
           "arrowcolor": "#2a3f5f",
           "arrowhead": 0,
           "arrowwidth": 1
          },
          "autotypenumbers": "strict",
          "coloraxis": {
           "colorbar": {
            "outlinewidth": 0,
            "ticks": ""
           }
          },
          "colorscale": {
           "diverging": [
            [
             0,
             "#8e0152"
            ],
            [
             0.1,
             "#c51b7d"
            ],
            [
             0.2,
             "#de77ae"
            ],
            [
             0.3,
             "#f1b6da"
            ],
            [
             0.4,
             "#fde0ef"
            ],
            [
             0.5,
             "#f7f7f7"
            ],
            [
             0.6,
             "#e6f5d0"
            ],
            [
             0.7,
             "#b8e186"
            ],
            [
             0.8,
             "#7fbc41"
            ],
            [
             0.9,
             "#4d9221"
            ],
            [
             1,
             "#276419"
            ]
           ],
           "sequential": [
            [
             0,
             "#0d0887"
            ],
            [
             0.1111111111111111,
             "#46039f"
            ],
            [
             0.2222222222222222,
             "#7201a8"
            ],
            [
             0.3333333333333333,
             "#9c179e"
            ],
            [
             0.4444444444444444,
             "#bd3786"
            ],
            [
             0.5555555555555556,
             "#d8576b"
            ],
            [
             0.6666666666666666,
             "#ed7953"
            ],
            [
             0.7777777777777778,
             "#fb9f3a"
            ],
            [
             0.8888888888888888,
             "#fdca26"
            ],
            [
             1,
             "#f0f921"
            ]
           ],
           "sequentialminus": [
            [
             0,
             "#0d0887"
            ],
            [
             0.1111111111111111,
             "#46039f"
            ],
            [
             0.2222222222222222,
             "#7201a8"
            ],
            [
             0.3333333333333333,
             "#9c179e"
            ],
            [
             0.4444444444444444,
             "#bd3786"
            ],
            [
             0.5555555555555556,
             "#d8576b"
            ],
            [
             0.6666666666666666,
             "#ed7953"
            ],
            [
             0.7777777777777778,
             "#fb9f3a"
            ],
            [
             0.8888888888888888,
             "#fdca26"
            ],
            [
             1,
             "#f0f921"
            ]
           ]
          },
          "colorway": [
           "#636efa",
           "#EF553B",
           "#00cc96",
           "#ab63fa",
           "#FFA15A",
           "#19d3f3",
           "#FF6692",
           "#B6E880",
           "#FF97FF",
           "#FECB52"
          ],
          "font": {
           "color": "#2a3f5f"
          },
          "geo": {
           "bgcolor": "white",
           "lakecolor": "white",
           "landcolor": "white",
           "showlakes": true,
           "showland": true,
           "subunitcolor": "#C8D4E3"
          },
          "hoverlabel": {
           "align": "left"
          },
          "hovermode": "closest",
          "mapbox": {
           "style": "light"
          },
          "paper_bgcolor": "white",
          "plot_bgcolor": "white",
          "polar": {
           "angularaxis": {
            "gridcolor": "#EBF0F8",
            "linecolor": "#EBF0F8",
            "ticks": ""
           },
           "bgcolor": "white",
           "radialaxis": {
            "gridcolor": "#EBF0F8",
            "linecolor": "#EBF0F8",
            "ticks": ""
           }
          },
          "scene": {
           "xaxis": {
            "backgroundcolor": "white",
            "gridcolor": "#DFE8F3",
            "gridwidth": 2,
            "linecolor": "#EBF0F8",
            "showbackground": true,
            "ticks": "",
            "zerolinecolor": "#EBF0F8"
           },
           "yaxis": {
            "backgroundcolor": "white",
            "gridcolor": "#DFE8F3",
            "gridwidth": 2,
            "linecolor": "#EBF0F8",
            "showbackground": true,
            "ticks": "",
            "zerolinecolor": "#EBF0F8"
           },
           "zaxis": {
            "backgroundcolor": "white",
            "gridcolor": "#DFE8F3",
            "gridwidth": 2,
            "linecolor": "#EBF0F8",
            "showbackground": true,
            "ticks": "",
            "zerolinecolor": "#EBF0F8"
           }
          },
          "shapedefaults": {
           "line": {
            "color": "#2a3f5f"
           }
          },
          "ternary": {
           "aaxis": {
            "gridcolor": "#DFE8F3",
            "linecolor": "#A2B1C6",
            "ticks": ""
           },
           "baxis": {
            "gridcolor": "#DFE8F3",
            "linecolor": "#A2B1C6",
            "ticks": ""
           },
           "bgcolor": "white",
           "caxis": {
            "gridcolor": "#DFE8F3",
            "linecolor": "#A2B1C6",
            "ticks": ""
           }
          },
          "title": {
           "x": 0.05
          },
          "xaxis": {
           "automargin": true,
           "gridcolor": "#EBF0F8",
           "linecolor": "#EBF0F8",
           "ticks": "",
           "title": {
            "standoff": 15
           },
           "zerolinecolor": "#EBF0F8",
           "zerolinewidth": 2
          },
          "yaxis": {
           "automargin": true,
           "gridcolor": "#EBF0F8",
           "linecolor": "#EBF0F8",
           "ticks": "",
           "title": {
            "standoff": 15
           },
           "zerolinecolor": "#EBF0F8",
           "zerolinewidth": 2
          }
         }
        },
        "title": {
         "font": {
          "size": 20
         },
         "text": "Feature Importance - GFM Baseline",
         "x": 0.5,
         "xanchor": "center",
         "yanchor": "top"
        },
        "width": 900,
        "xaxis": {
         "anchor": "y",
         "domain": [
          0,
          1
         ],
         "tickfont": {
          "size": 12
         },
         "title": {
          "font": {
           "size": 12
          },
          "text": "Features"
         }
        },
        "yaxis": {
         "anchor": "x",
         "domain": [
          0,
          1
         ],
         "tickfont": {
          "size": 12
         },
         "title": {
          "font": {
           "size": 12
          },
          "text": "Importance"
         }
        }
       }
      }
     },
     "metadata": {},
     "output_type": "display_data"
    }
   ],
   "source": [
    "fig = px.bar(feat_df.head(15), x=\"feature\", y=\"importance\")\n",
    "format_plot(fig, xlabel=\"Features\", ylabel=\"Importance\", title=f\"Feature Importance - {model_config.name}\", font_size=12)\n",
    "fig.write_image(\"imgs/chapter_10/baseline_fimp.png\")\n",
    "fig.show()"
   ]
  },
  {
   "cell_type": "markdown",
   "id": "54e2b6ac-44bd-4700-b89a-94d980ff5287",
   "metadata": {
    "tags": []
   },
   "source": [
    "## With Metadata"
   ]
  },
  {
   "cell_type": "code",
   "execution_count": 18,
   "id": "8209e880-7d71-4d1c-82ef-0a3d2f63f2f9",
   "metadata": {},
   "outputs": [],
   "source": [
    "feat_conf_dict = copy.deepcopy(feat_config.__dict__)\n",
    "feat_conf_dict.pop(\"feature_list\")\n",
    "feat_conf_dict['categorical_features']+=[\"stdorToU\", \"Acorn\", \"Acorn_grouped\", \"LCLid\"]\n",
    "_feat_config = FeatureConfig(**feat_conf_dict)\n",
    "\n",
    "train_features, train_target, train_original_target = _feat_config.get_X_y(\n",
    "    train_df, categorical=True, exogenous=False\n",
    ")\n",
    "# Loading the Validation as test\n",
    "test_features, test_target, test_original_target = _feat_config.get_X_y(\n",
    "    test_df, categorical=True, exogenous=False\n",
    ")\n",
    "\n",
    "cat_features = set(train_features.columns).intersection(_feat_config.categorical_features)"
   ]
  },
  {
   "cell_type": "markdown",
   "id": "559d9f26-6b60-4407-be1e-13dea9009f94",
   "metadata": {},
   "source": [
    "### CountEncoder"
   ]
  },
  {
   "cell_type": "code",
   "execution_count": 19,
   "id": "14a23efe-f875-4ed1-b5ad-c5759027829c",
   "metadata": {},
   "outputs": [],
   "source": [
    "from category_encoders import CountEncoder\n",
    "from lightgbm import LGBMRegressor\n",
    "\n",
    "cat_encoder = CountEncoder(cols=cat_features)\n",
    "\n",
    "model_config = ModelConfig(\n",
    "    model=LGBMRegressor(random_state=42),\n",
    "    name=\"GFM+Meta (CountEncoder)\",\n",
    "    # LGBM is not sensitive to normalized data\n",
    "    normalize=False,\n",
    "    # LGBM can handle missing values\n",
    "    fill_missing=False,\n",
    "    encode_categorical=True,\n",
    "    categorical_encoder=cat_encoder\n",
    ")"
   ]
  },
  {
   "cell_type": "code",
   "execution_count": 20,
   "id": "c7e409fa",
   "metadata": {},
   "outputs": [
    {
     "data": {
      "text/plain": [
       "FeatureConfig(date='timestamp', target='energy_consumption', original_target='energy_consumption', continuous_features=['visibility', 'windBearing', 'temperature', 'dewPoint', 'pressure', 'apparentTemperature', 'windSpeed', 'humidity', 'energy_consumption_lag_1', 'energy_consumption_lag_2', 'energy_consumption_lag_3', 'energy_consumption_lag_4', 'energy_consumption_lag_5', 'energy_consumption_lag_46', 'energy_consumption_lag_47', 'energy_consumption_lag_48', 'energy_consumption_lag_49', 'energy_consumption_lag_50', 'energy_consumption_lag_334', 'energy_consumption_lag_335', 'energy_consumption_lag_336', 'energy_consumption_lag_337', 'energy_consumption_lag_338', 'energy_consumption_rolling_3_mean', 'energy_consumption_rolling_3_std', 'energy_consumption_rolling_6_mean', 'energy_consumption_rolling_6_std', 'energy_consumption_rolling_12_mean', 'energy_consumption_rolling_12_std', 'energy_consumption_rolling_48_mean', 'energy_consumption_rolling_48_std', 'energy_consumption_48_seasonal_rolling_3_mean', 'energy_consumption_48_seasonal_rolling_3_std', 'energy_consumption_336_seasonal_rolling_3_mean', 'energy_consumption_336_seasonal_rolling_3_std', 'energy_consumption_ewma_span_2880', 'energy_consumption_ewma_span_336', 'energy_consumption_ewma_span_48', 'timestamp_Elapsed', 'timestamp_Month_sin_1', 'timestamp_Month_sin_2', 'timestamp_Month_sin_3', 'timestamp_Month_sin_4', 'timestamp_Month_sin_5', 'timestamp_Month_cos_1', 'timestamp_Month_cos_2', 'timestamp_Month_cos_3', 'timestamp_Month_cos_4', 'timestamp_Month_cos_5', 'timestamp_Hour_sin_1', 'timestamp_Hour_sin_2', 'timestamp_Hour_sin_3', 'timestamp_Hour_sin_4', 'timestamp_Hour_sin_5', 'timestamp_Hour_cos_1', 'timestamp_Hour_cos_2', 'timestamp_Hour_cos_3', 'timestamp_Hour_cos_4', 'timestamp_Hour_cos_5', 'timestamp_Minute_sin_1', 'timestamp_Minute_sin_2', 'timestamp_Minute_sin_3', 'timestamp_Minute_sin_4', 'timestamp_Minute_sin_5', 'timestamp_Minute_cos_1', 'timestamp_Minute_cos_2', 'timestamp_Minute_cos_3', 'timestamp_Minute_cos_4', 'timestamp_Minute_cos_5'], categorical_features=['holidays', 'precipType', 'icon', 'summary', 'timestamp_Month', 'timestamp_Quarter', 'timestamp_WeekDay', 'timestamp_Dayofweek', 'timestamp_Dayofyear', 'timestamp_Hour', 'timestamp_Minute', 'stdorToU', 'Acorn', 'Acorn_grouped', 'LCLid'], boolean_features=['timestamp_Is_quarter_end', 'timestamp_Is_quarter_start', 'timestamp_Is_year_end', 'timestamp_Is_year_start', 'timestamp_Is_month_start'], index_cols=['LCLid', 'timestamp'], exogenous_features=['holidays', 'precipType', 'icon', 'summary', 'visibility', 'windBearing', 'temperature', 'dewPoint', 'pressure', 'apparentTemperature', 'windSpeed', 'humidity'], feature_list=['holidays', 'precipType', 'icon', 'summary', 'timestamp_Month', 'timestamp_Quarter', 'timestamp_WeekDay', 'timestamp_Dayofweek', 'timestamp_Dayofyear', 'timestamp_Hour', 'timestamp_Minute', 'stdorToU', 'Acorn', 'Acorn_grouped', 'LCLid', 'visibility', 'windBearing', 'temperature', 'dewPoint', 'pressure', 'apparentTemperature', 'windSpeed', 'humidity', 'energy_consumption_lag_1', 'energy_consumption_lag_2', 'energy_consumption_lag_3', 'energy_consumption_lag_4', 'energy_consumption_lag_5', 'energy_consumption_lag_46', 'energy_consumption_lag_47', 'energy_consumption_lag_48', 'energy_consumption_lag_49', 'energy_consumption_lag_50', 'energy_consumption_lag_334', 'energy_consumption_lag_335', 'energy_consumption_lag_336', 'energy_consumption_lag_337', 'energy_consumption_lag_338', 'energy_consumption_rolling_3_mean', 'energy_consumption_rolling_3_std', 'energy_consumption_rolling_6_mean', 'energy_consumption_rolling_6_std', 'energy_consumption_rolling_12_mean', 'energy_consumption_rolling_12_std', 'energy_consumption_rolling_48_mean', 'energy_consumption_rolling_48_std', 'energy_consumption_48_seasonal_rolling_3_mean', 'energy_consumption_48_seasonal_rolling_3_std', 'energy_consumption_336_seasonal_rolling_3_mean', 'energy_consumption_336_seasonal_rolling_3_std', 'energy_consumption_ewma_span_2880', 'energy_consumption_ewma_span_336', 'energy_consumption_ewma_span_48', 'timestamp_Elapsed', 'timestamp_Month_sin_1', 'timestamp_Month_sin_2', 'timestamp_Month_sin_3', 'timestamp_Month_sin_4', 'timestamp_Month_sin_5', 'timestamp_Month_cos_1', 'timestamp_Month_cos_2', 'timestamp_Month_cos_3', 'timestamp_Month_cos_4', 'timestamp_Month_cos_5', 'timestamp_Hour_sin_1', 'timestamp_Hour_sin_2', 'timestamp_Hour_sin_3', 'timestamp_Hour_sin_4', 'timestamp_Hour_sin_5', 'timestamp_Hour_cos_1', 'timestamp_Hour_cos_2', 'timestamp_Hour_cos_3', 'timestamp_Hour_cos_4', 'timestamp_Hour_cos_5', 'timestamp_Minute_sin_1', 'timestamp_Minute_sin_2', 'timestamp_Minute_sin_3', 'timestamp_Minute_sin_4', 'timestamp_Minute_sin_5', 'timestamp_Minute_cos_1', 'timestamp_Minute_cos_2', 'timestamp_Minute_cos_3', 'timestamp_Minute_cos_4', 'timestamp_Minute_cos_5', 'timestamp_Is_quarter_end', 'timestamp_Is_quarter_start', 'timestamp_Is_year_end', 'timestamp_Is_year_start', 'timestamp_Is_month_start'])"
      ]
     },
     "execution_count": 20,
     "metadata": {},
     "output_type": "execute_result"
    }
   ],
   "source": [
    "_feat_config"
   ]
  },
  {
   "cell_type": "code",
   "execution_count": 21,
   "id": "3cfeaafc-01cf-4b79-977a-b48b80fa1843",
   "metadata": {
    "tags": []
   },
   "outputs": [
    {
     "name": "stdout",
     "output_type": "stream",
     "text": [
      "[LightGBM] [Info] Auto-choosing col-wise multi-threading, the overhead of testing was 1.299152 seconds.\n",
      "You can set `force_col_wise=true` to remove the overhead.\n",
      "[LightGBM] [Info] Total Bins 8374\n",
      "[LightGBM] [Info] Number of data points in the train set: 4293840, number of used features: 77\n",
      "[LightGBM] [Info] Start training from score 0.194160\n",
      "Time Elapsed: 1 minute and 52 seconds\n"
     ]
    },
    {
     "data": {
      "application/vnd.jupyter.widget-view+json": {
       "model_id": "f4ff323dbdb3440db056bef08e3e3c9c",
       "version_major": 2,
       "version_minor": 0
      },
      "text/plain": [
       "Calculating metrics...:   0%|          | 0/150 [00:00<?, ?it/s]"
      ]
     },
     "metadata": {},
     "output_type": "display_data"
    }
   ],
   "source": [
    "with LogTime() as timer:\n",
    "    y_pred, feat_df = train_model(\n",
    "        model_config,\n",
    "        _feat_config,\n",
    "        missing_value_config,\n",
    "        train_features,\n",
    "        train_target,\n",
    "        test_features,\n",
    "    )\n",
    "agg_metrics, eval_metrics_df = evaluate_forecast(y_pred, test_target, train_target, model_config)\n",
    "agg_metrics[\"Time Elapsed\"] = timer.elapsed\n",
    "metric_record.append(agg_metrics)\n",
    "individual_metrics[model_config.name]=eval_metrics_df\n",
    "pred_df = pred_df.join(y_pred)"
   ]
  },
  {
   "cell_type": "code",
   "execution_count": 22,
   "id": "29badbc3-a104-4118-ba2b-9245fee7766f",
   "metadata": {},
   "outputs": [
    {
     "data": {
      "text/html": [
       "<div>\n",
       "<style scoped>\n",
       "    .dataframe tbody tr th:only-of-type {\n",
       "        vertical-align: middle;\n",
       "    }\n",
       "\n",
       "    .dataframe tbody tr th {\n",
       "        vertical-align: top;\n",
       "    }\n",
       "\n",
       "    .dataframe thead th {\n",
       "        text-align: right;\n",
       "    }\n",
       "</style>\n",
       "<table border=\"1\" class=\"dataframe\">\n",
       "  <thead>\n",
       "    <tr style=\"text-align: right;\">\n",
       "      <th></th>\n",
       "      <th>Algorithm</th>\n",
       "      <th>MAE</th>\n",
       "      <th>MSE</th>\n",
       "      <th>meanMASE</th>\n",
       "      <th>Forecast Bias</th>\n",
       "      <th>Time Elapsed</th>\n",
       "    </tr>\n",
       "  </thead>\n",
       "  <tbody>\n",
       "    <tr>\n",
       "      <th>0</th>\n",
       "      <td>LightGBM</td>\n",
       "      <td>0.077107</td>\n",
       "      <td>0.027468</td>\n",
       "      <td>0.977439</td>\n",
       "      <td>0.032495</td>\n",
       "      <td>NaN</td>\n",
       "    </tr>\n",
       "    <tr>\n",
       "      <th>1</th>\n",
       "      <td>GFM Baseline</td>\n",
       "      <td>0.079552</td>\n",
       "      <td>0.027332</td>\n",
       "      <td>1.012078</td>\n",
       "      <td>0.190848</td>\n",
       "      <td>39.544276</td>\n",
       "    </tr>\n",
       "    <tr>\n",
       "      <th>2</th>\n",
       "      <td>GFM+Meta (CountEncoder)</td>\n",
       "      <td>0.079412</td>\n",
       "      <td>0.027232</td>\n",
       "      <td>1.011083</td>\n",
       "      <td>0.091026</td>\n",
       "      <td>112.729089</td>\n",
       "    </tr>\n",
       "  </tbody>\n",
       "</table>\n",
       "</div>"
      ],
      "text/plain": [
       "                 Algorithm       MAE       MSE  meanMASE  Forecast Bias  \\\n",
       "0                 LightGBM  0.077107  0.027468  0.977439       0.032495   \n",
       "1             GFM Baseline  0.079552  0.027332  1.012078       0.190848   \n",
       "2  GFM+Meta (CountEncoder)  0.079412  0.027232  1.011083       0.091026   \n",
       "\n",
       "   Time Elapsed  \n",
       "0           NaN  \n",
       "1     39.544276  \n",
       "2    112.729089  "
      ]
     },
     "execution_count": 22,
     "metadata": {},
     "output_type": "execute_result"
    }
   ],
   "source": [
    "pd.DataFrame(metric_record)"
   ]
  },
  {
   "cell_type": "code",
   "execution_count": 23,
   "id": "040ac6a7-b448-4bf3-a0c5-8df1b39f6eef",
   "metadata": {},
   "outputs": [
    {
     "data": {
      "application/vnd.plotly.v1+json": {
       "config": {
        "plotlyServerURL": "https://plot.ly"
       },
       "data": [
        {
         "alignmentgroup": "True",
         "hovertemplate": "feature=%{x}<br>importance=%{y}<extra></extra>",
         "legendgroup": "",
         "marker": {
          "color": "#636efa",
          "pattern": {
           "shape": ""
          }
         },
         "name": "",
         "offsetgroup": "",
         "orientation": "v",
         "showlegend": false,
         "textposition": "auto",
         "type": "bar",
         "x": [
          "energy_consumption_lag_1",
          "energy_consumption_48_seasonal_rolling_3_mean",
          "energy_consumption_336_seasonal_rolling_3_mean",
          "energy_consumption_lag_48",
          "energy_consumption_lag_2",
          "LCLid",
          "energy_consumption_rolling_48_std",
          "energy_consumption_rolling_3_std",
          "timestamp_Hour_sin_1",
          "energy_consumption_lag_49",
          "energy_consumption_lag_47",
          "timestamp_Hour_cos_1",
          "energy_consumption_lag_335",
          "energy_consumption_rolling_3_mean",
          "energy_consumption_lag_336"
         ],
         "xaxis": "x",
         "y": [
          415,
          189,
          167,
          123,
          117,
          103,
          97,
          91,
          91,
          88,
          83,
          83,
          74,
          73,
          72
         ],
         "yaxis": "y"
        }
       ],
       "layout": {
        "autosize": false,
        "barmode": "relative",
        "height": 500,
        "legend": {
         "font": {
          "size": 12
         },
         "orientation": "h",
         "title": {},
         "tracegroupgap": 0,
         "x": 1,
         "xanchor": "right",
         "y": 0.9,
         "yanchor": "bottom"
        },
        "margin": {
         "t": 60
        },
        "template": {
         "data": {
          "bar": [
           {
            "error_x": {
             "color": "#2a3f5f"
            },
            "error_y": {
             "color": "#2a3f5f"
            },
            "marker": {
             "line": {
              "color": "white",
              "width": 0.5
             },
             "pattern": {
              "fillmode": "overlay",
              "size": 10,
              "solidity": 0.2
             }
            },
            "type": "bar"
           }
          ],
          "barpolar": [
           {
            "marker": {
             "line": {
              "color": "white",
              "width": 0.5
             },
             "pattern": {
              "fillmode": "overlay",
              "size": 10,
              "solidity": 0.2
             }
            },
            "type": "barpolar"
           }
          ],
          "carpet": [
           {
            "aaxis": {
             "endlinecolor": "#2a3f5f",
             "gridcolor": "#C8D4E3",
             "linecolor": "#C8D4E3",
             "minorgridcolor": "#C8D4E3",
             "startlinecolor": "#2a3f5f"
            },
            "baxis": {
             "endlinecolor": "#2a3f5f",
             "gridcolor": "#C8D4E3",
             "linecolor": "#C8D4E3",
             "minorgridcolor": "#C8D4E3",
             "startlinecolor": "#2a3f5f"
            },
            "type": "carpet"
           }
          ],
          "choropleth": [
           {
            "colorbar": {
             "outlinewidth": 0,
             "ticks": ""
            },
            "type": "choropleth"
           }
          ],
          "contour": [
           {
            "colorbar": {
             "outlinewidth": 0,
             "ticks": ""
            },
            "colorscale": [
             [
              0,
              "#0d0887"
             ],
             [
              0.1111111111111111,
              "#46039f"
             ],
             [
              0.2222222222222222,
              "#7201a8"
             ],
             [
              0.3333333333333333,
              "#9c179e"
             ],
             [
              0.4444444444444444,
              "#bd3786"
             ],
             [
              0.5555555555555556,
              "#d8576b"
             ],
             [
              0.6666666666666666,
              "#ed7953"
             ],
             [
              0.7777777777777778,
              "#fb9f3a"
             ],
             [
              0.8888888888888888,
              "#fdca26"
             ],
             [
              1,
              "#f0f921"
             ]
            ],
            "type": "contour"
           }
          ],
          "contourcarpet": [
           {
            "colorbar": {
             "outlinewidth": 0,
             "ticks": ""
            },
            "type": "contourcarpet"
           }
          ],
          "heatmap": [
           {
            "colorbar": {
             "outlinewidth": 0,
             "ticks": ""
            },
            "colorscale": [
             [
              0,
              "#0d0887"
             ],
             [
              0.1111111111111111,
              "#46039f"
             ],
             [
              0.2222222222222222,
              "#7201a8"
             ],
             [
              0.3333333333333333,
              "#9c179e"
             ],
             [
              0.4444444444444444,
              "#bd3786"
             ],
             [
              0.5555555555555556,
              "#d8576b"
             ],
             [
              0.6666666666666666,
              "#ed7953"
             ],
             [
              0.7777777777777778,
              "#fb9f3a"
             ],
             [
              0.8888888888888888,
              "#fdca26"
             ],
             [
              1,
              "#f0f921"
             ]
            ],
            "type": "heatmap"
           }
          ],
          "heatmapgl": [
           {
            "colorbar": {
             "outlinewidth": 0,
             "ticks": ""
            },
            "colorscale": [
             [
              0,
              "#0d0887"
             ],
             [
              0.1111111111111111,
              "#46039f"
             ],
             [
              0.2222222222222222,
              "#7201a8"
             ],
             [
              0.3333333333333333,
              "#9c179e"
             ],
             [
              0.4444444444444444,
              "#bd3786"
             ],
             [
              0.5555555555555556,
              "#d8576b"
             ],
             [
              0.6666666666666666,
              "#ed7953"
             ],
             [
              0.7777777777777778,
              "#fb9f3a"
             ],
             [
              0.8888888888888888,
              "#fdca26"
             ],
             [
              1,
              "#f0f921"
             ]
            ],
            "type": "heatmapgl"
           }
          ],
          "histogram": [
           {
            "marker": {
             "pattern": {
              "fillmode": "overlay",
              "size": 10,
              "solidity": 0.2
             }
            },
            "type": "histogram"
           }
          ],
          "histogram2d": [
           {
            "colorbar": {
             "outlinewidth": 0,
             "ticks": ""
            },
            "colorscale": [
             [
              0,
              "#0d0887"
             ],
             [
              0.1111111111111111,
              "#46039f"
             ],
             [
              0.2222222222222222,
              "#7201a8"
             ],
             [
              0.3333333333333333,
              "#9c179e"
             ],
             [
              0.4444444444444444,
              "#bd3786"
             ],
             [
              0.5555555555555556,
              "#d8576b"
             ],
             [
              0.6666666666666666,
              "#ed7953"
             ],
             [
              0.7777777777777778,
              "#fb9f3a"
             ],
             [
              0.8888888888888888,
              "#fdca26"
             ],
             [
              1,
              "#f0f921"
             ]
            ],
            "type": "histogram2d"
           }
          ],
          "histogram2dcontour": [
           {
            "colorbar": {
             "outlinewidth": 0,
             "ticks": ""
            },
            "colorscale": [
             [
              0,
              "#0d0887"
             ],
             [
              0.1111111111111111,
              "#46039f"
             ],
             [
              0.2222222222222222,
              "#7201a8"
             ],
             [
              0.3333333333333333,
              "#9c179e"
             ],
             [
              0.4444444444444444,
              "#bd3786"
             ],
             [
              0.5555555555555556,
              "#d8576b"
             ],
             [
              0.6666666666666666,
              "#ed7953"
             ],
             [
              0.7777777777777778,
              "#fb9f3a"
             ],
             [
              0.8888888888888888,
              "#fdca26"
             ],
             [
              1,
              "#f0f921"
             ]
            ],
            "type": "histogram2dcontour"
           }
          ],
          "mesh3d": [
           {
            "colorbar": {
             "outlinewidth": 0,
             "ticks": ""
            },
            "type": "mesh3d"
           }
          ],
          "parcoords": [
           {
            "line": {
             "colorbar": {
              "outlinewidth": 0,
              "ticks": ""
             }
            },
            "type": "parcoords"
           }
          ],
          "pie": [
           {
            "automargin": true,
            "type": "pie"
           }
          ],
          "scatter": [
           {
            "fillpattern": {
             "fillmode": "overlay",
             "size": 10,
             "solidity": 0.2
            },
            "type": "scatter"
           }
          ],
          "scatter3d": [
           {
            "line": {
             "colorbar": {
              "outlinewidth": 0,
              "ticks": ""
             }
            },
            "marker": {
             "colorbar": {
              "outlinewidth": 0,
              "ticks": ""
             }
            },
            "type": "scatter3d"
           }
          ],
          "scattercarpet": [
           {
            "marker": {
             "colorbar": {
              "outlinewidth": 0,
              "ticks": ""
             }
            },
            "type": "scattercarpet"
           }
          ],
          "scattergeo": [
           {
            "marker": {
             "colorbar": {
              "outlinewidth": 0,
              "ticks": ""
             }
            },
            "type": "scattergeo"
           }
          ],
          "scattergl": [
           {
            "marker": {
             "colorbar": {
              "outlinewidth": 0,
              "ticks": ""
             }
            },
            "type": "scattergl"
           }
          ],
          "scattermapbox": [
           {
            "marker": {
             "colorbar": {
              "outlinewidth": 0,
              "ticks": ""
             }
            },
            "type": "scattermapbox"
           }
          ],
          "scatterpolar": [
           {
            "marker": {
             "colorbar": {
              "outlinewidth": 0,
              "ticks": ""
             }
            },
            "type": "scatterpolar"
           }
          ],
          "scatterpolargl": [
           {
            "marker": {
             "colorbar": {
              "outlinewidth": 0,
              "ticks": ""
             }
            },
            "type": "scatterpolargl"
           }
          ],
          "scatterternary": [
           {
            "marker": {
             "colorbar": {
              "outlinewidth": 0,
              "ticks": ""
             }
            },
            "type": "scatterternary"
           }
          ],
          "surface": [
           {
            "colorbar": {
             "outlinewidth": 0,
             "ticks": ""
            },
            "colorscale": [
             [
              0,
              "#0d0887"
             ],
             [
              0.1111111111111111,
              "#46039f"
             ],
             [
              0.2222222222222222,
              "#7201a8"
             ],
             [
              0.3333333333333333,
              "#9c179e"
             ],
             [
              0.4444444444444444,
              "#bd3786"
             ],
             [
              0.5555555555555556,
              "#d8576b"
             ],
             [
              0.6666666666666666,
              "#ed7953"
             ],
             [
              0.7777777777777778,
              "#fb9f3a"
             ],
             [
              0.8888888888888888,
              "#fdca26"
             ],
             [
              1,
              "#f0f921"
             ]
            ],
            "type": "surface"
           }
          ],
          "table": [
           {
            "cells": {
             "fill": {
              "color": "#EBF0F8"
             },
             "line": {
              "color": "white"
             }
            },
            "header": {
             "fill": {
              "color": "#C8D4E3"
             },
             "line": {
              "color": "white"
             }
            },
            "type": "table"
           }
          ]
         },
         "layout": {
          "annotationdefaults": {
           "arrowcolor": "#2a3f5f",
           "arrowhead": 0,
           "arrowwidth": 1
          },
          "autotypenumbers": "strict",
          "coloraxis": {
           "colorbar": {
            "outlinewidth": 0,
            "ticks": ""
           }
          },
          "colorscale": {
           "diverging": [
            [
             0,
             "#8e0152"
            ],
            [
             0.1,
             "#c51b7d"
            ],
            [
             0.2,
             "#de77ae"
            ],
            [
             0.3,
             "#f1b6da"
            ],
            [
             0.4,
             "#fde0ef"
            ],
            [
             0.5,
             "#f7f7f7"
            ],
            [
             0.6,
             "#e6f5d0"
            ],
            [
             0.7,
             "#b8e186"
            ],
            [
             0.8,
             "#7fbc41"
            ],
            [
             0.9,
             "#4d9221"
            ],
            [
             1,
             "#276419"
            ]
           ],
           "sequential": [
            [
             0,
             "#0d0887"
            ],
            [
             0.1111111111111111,
             "#46039f"
            ],
            [
             0.2222222222222222,
             "#7201a8"
            ],
            [
             0.3333333333333333,
             "#9c179e"
            ],
            [
             0.4444444444444444,
             "#bd3786"
            ],
            [
             0.5555555555555556,
             "#d8576b"
            ],
            [
             0.6666666666666666,
             "#ed7953"
            ],
            [
             0.7777777777777778,
             "#fb9f3a"
            ],
            [
             0.8888888888888888,
             "#fdca26"
            ],
            [
             1,
             "#f0f921"
            ]
           ],
           "sequentialminus": [
            [
             0,
             "#0d0887"
            ],
            [
             0.1111111111111111,
             "#46039f"
            ],
            [
             0.2222222222222222,
             "#7201a8"
            ],
            [
             0.3333333333333333,
             "#9c179e"
            ],
            [
             0.4444444444444444,
             "#bd3786"
            ],
            [
             0.5555555555555556,
             "#d8576b"
            ],
            [
             0.6666666666666666,
             "#ed7953"
            ],
            [
             0.7777777777777778,
             "#fb9f3a"
            ],
            [
             0.8888888888888888,
             "#fdca26"
            ],
            [
             1,
             "#f0f921"
            ]
           ]
          },
          "colorway": [
           "#636efa",
           "#EF553B",
           "#00cc96",
           "#ab63fa",
           "#FFA15A",
           "#19d3f3",
           "#FF6692",
           "#B6E880",
           "#FF97FF",
           "#FECB52"
          ],
          "font": {
           "color": "#2a3f5f"
          },
          "geo": {
           "bgcolor": "white",
           "lakecolor": "white",
           "landcolor": "white",
           "showlakes": true,
           "showland": true,
           "subunitcolor": "#C8D4E3"
          },
          "hoverlabel": {
           "align": "left"
          },
          "hovermode": "closest",
          "mapbox": {
           "style": "light"
          },
          "paper_bgcolor": "white",
          "plot_bgcolor": "white",
          "polar": {
           "angularaxis": {
            "gridcolor": "#EBF0F8",
            "linecolor": "#EBF0F8",
            "ticks": ""
           },
           "bgcolor": "white",
           "radialaxis": {
            "gridcolor": "#EBF0F8",
            "linecolor": "#EBF0F8",
            "ticks": ""
           }
          },
          "scene": {
           "xaxis": {
            "backgroundcolor": "white",
            "gridcolor": "#DFE8F3",
            "gridwidth": 2,
            "linecolor": "#EBF0F8",
            "showbackground": true,
            "ticks": "",
            "zerolinecolor": "#EBF0F8"
           },
           "yaxis": {
            "backgroundcolor": "white",
            "gridcolor": "#DFE8F3",
            "gridwidth": 2,
            "linecolor": "#EBF0F8",
            "showbackground": true,
            "ticks": "",
            "zerolinecolor": "#EBF0F8"
           },
           "zaxis": {
            "backgroundcolor": "white",
            "gridcolor": "#DFE8F3",
            "gridwidth": 2,
            "linecolor": "#EBF0F8",
            "showbackground": true,
            "ticks": "",
            "zerolinecolor": "#EBF0F8"
           }
          },
          "shapedefaults": {
           "line": {
            "color": "#2a3f5f"
           }
          },
          "ternary": {
           "aaxis": {
            "gridcolor": "#DFE8F3",
            "linecolor": "#A2B1C6",
            "ticks": ""
           },
           "baxis": {
            "gridcolor": "#DFE8F3",
            "linecolor": "#A2B1C6",
            "ticks": ""
           },
           "bgcolor": "white",
           "caxis": {
            "gridcolor": "#DFE8F3",
            "linecolor": "#A2B1C6",
            "ticks": ""
           }
          },
          "title": {
           "x": 0.05
          },
          "xaxis": {
           "automargin": true,
           "gridcolor": "#EBF0F8",
           "linecolor": "#EBF0F8",
           "ticks": "",
           "title": {
            "standoff": 15
           },
           "zerolinecolor": "#EBF0F8",
           "zerolinewidth": 2
          },
          "yaxis": {
           "automargin": true,
           "gridcolor": "#EBF0F8",
           "linecolor": "#EBF0F8",
           "ticks": "",
           "title": {
            "standoff": 15
           },
           "zerolinecolor": "#EBF0F8",
           "zerolinewidth": 2
          }
         }
        },
        "title": {
         "font": {
          "size": 20
         },
         "text": "Feature Importance - GFM+Meta (CountEncoder)",
         "x": 0.5,
         "xanchor": "center",
         "yanchor": "top"
        },
        "width": 900,
        "xaxis": {
         "anchor": "y",
         "domain": [
          0,
          1
         ],
         "tickfont": {
          "size": 12
         },
         "title": {
          "font": {
           "size": 12
          },
          "text": "Features"
         }
        },
        "yaxis": {
         "anchor": "x",
         "domain": [
          0,
          1
         ],
         "tickfont": {
          "size": 12
         },
         "title": {
          "font": {
           "size": 12
          },
          "text": "Importance"
         }
        }
       }
      }
     },
     "metadata": {},
     "output_type": "display_data"
    }
   ],
   "source": [
    "fig = px.bar(feat_df.head(15), x=\"feature\", y=\"importance\")\n",
    "format_plot(fig, xlabel=\"Features\", ylabel=\"Importance\", title=f\"Feature Importance - {model_config.name}\", font_size=12)\n",
    "fig.write_image(\"imgs/chapter_10/baseline_w_meta_cnt_encoder_fimp.png\")\n",
    "fig.show()"
   ]
  },
  {
   "cell_type": "markdown",
   "id": "4ece7b59-ec4f-4b25-a8cb-655848b0d6cc",
   "metadata": {},
   "source": [
    "### Target Encoding"
   ]
  },
  {
   "cell_type": "code",
   "execution_count": 24,
   "id": "cdd738e2-51b6-48ec-a3b6-a7582548df2f",
   "metadata": {},
   "outputs": [],
   "source": [
    "from category_encoders import TargetEncoder"
   ]
  },
  {
   "cell_type": "code",
   "execution_count": 25,
   "id": "3e890f67-0a79-4361-8de5-5518a9731904",
   "metadata": {},
   "outputs": [],
   "source": [
    "from category_encoders import TargetEncoder\n",
    "from lightgbm import LGBMRegressor\n",
    "\n",
    "cat_encoder = TargetEncoder(cols=cat_features)\n",
    "\n",
    "model_config = ModelConfig(\n",
    "    model=LGBMRegressor(random_state=42),\n",
    "    name=\"GFM+Meta  (TargetEncoder)\",\n",
    "    # LGBM is not sensitive to normalized data\n",
    "    normalize=False,\n",
    "    # LGBM can handle missing values\n",
    "    fill_missing=False,\n",
    "    encode_categorical=True,\n",
    "    categorical_encoder=cat_encoder\n",
    ")"
   ]
  },
  {
   "cell_type": "code",
   "execution_count": 26,
   "id": "55c75825-640c-4e22-b0e1-e7596c53a7b1",
   "metadata": {
    "tags": []
   },
   "outputs": [
    {
     "name": "stdout",
     "output_type": "stream",
     "text": [
      "[LightGBM] [Info] Auto-choosing row-wise multi-threading, the overhead of testing was 0.835759 seconds.\n",
      "You can set `force_row_wise=true` to remove the overhead.\n",
      "And if memory is not enough, you can set `force_col_wise=true`.\n",
      "[LightGBM] [Info] Total Bins 8609\n",
      "[LightGBM] [Info] Number of data points in the train set: 4293840, number of used features: 77\n",
      "[LightGBM] [Info] Start training from score 0.194160\n",
      "Time Elapsed: 1 minute and 42 seconds\n"
     ]
    },
    {
     "data": {
      "application/vnd.jupyter.widget-view+json": {
       "model_id": "b2f85e046c4e4f0ba90ab4922f004cf6",
       "version_major": 2,
       "version_minor": 0
      },
      "text/plain": [
       "Calculating metrics...:   0%|          | 0/150 [00:00<?, ?it/s]"
      ]
     },
     "metadata": {},
     "output_type": "display_data"
    }
   ],
   "source": [
    "with LogTime() as timer:\n",
    "    y_pred, feat_df = train_model(\n",
    "        model_config,\n",
    "        _feat_config,\n",
    "        missing_value_config,\n",
    "        train_features,\n",
    "        train_target,\n",
    "        test_features,\n",
    "    )\n",
    "agg_metrics, eval_metrics_df = evaluate_forecast(y_pred, test_target, train_target, model_config)\n",
    "agg_metrics[\"Time Elapsed\"] = timer.elapsed\n",
    "metric_record.append(agg_metrics)\n",
    "individual_metrics[model_config.name]=eval_metrics_df\n",
    "pred_df = pred_df.join(y_pred)"
   ]
  },
  {
   "cell_type": "code",
   "execution_count": 27,
   "id": "393cc1d8-f7a7-41f5-96a6-c4affba6cf9c",
   "metadata": {},
   "outputs": [
    {
     "data": {
      "text/html": [
       "<div>\n",
       "<style scoped>\n",
       "    .dataframe tbody tr th:only-of-type {\n",
       "        vertical-align: middle;\n",
       "    }\n",
       "\n",
       "    .dataframe tbody tr th {\n",
       "        vertical-align: top;\n",
       "    }\n",
       "\n",
       "    .dataframe thead th {\n",
       "        text-align: right;\n",
       "    }\n",
       "</style>\n",
       "<table border=\"1\" class=\"dataframe\">\n",
       "  <thead>\n",
       "    <tr style=\"text-align: right;\">\n",
       "      <th></th>\n",
       "      <th>Algorithm</th>\n",
       "      <th>MAE</th>\n",
       "      <th>MSE</th>\n",
       "      <th>meanMASE</th>\n",
       "      <th>Forecast Bias</th>\n",
       "      <th>Time Elapsed</th>\n",
       "    </tr>\n",
       "  </thead>\n",
       "  <tbody>\n",
       "    <tr>\n",
       "      <th>0</th>\n",
       "      <td>LightGBM</td>\n",
       "      <td>0.077107</td>\n",
       "      <td>0.027468</td>\n",
       "      <td>0.977439</td>\n",
       "      <td>0.032495</td>\n",
       "      <td>NaN</td>\n",
       "    </tr>\n",
       "    <tr>\n",
       "      <th>1</th>\n",
       "      <td>GFM Baseline</td>\n",
       "      <td>0.079552</td>\n",
       "      <td>0.027332</td>\n",
       "      <td>1.012078</td>\n",
       "      <td>0.190848</td>\n",
       "      <td>39.544276</td>\n",
       "    </tr>\n",
       "    <tr>\n",
       "      <th>2</th>\n",
       "      <td>GFM+Meta (CountEncoder)</td>\n",
       "      <td>0.079412</td>\n",
       "      <td>0.027232</td>\n",
       "      <td>1.011083</td>\n",
       "      <td>0.091026</td>\n",
       "      <td>112.729089</td>\n",
       "    </tr>\n",
       "    <tr>\n",
       "      <th>3</th>\n",
       "      <td>GFM+Meta  (TargetEncoder)</td>\n",
       "      <td>0.079553</td>\n",
       "      <td>0.027241</td>\n",
       "      <td>1.011387</td>\n",
       "      <td>0.299803</td>\n",
       "      <td>102.253439</td>\n",
       "    </tr>\n",
       "  </tbody>\n",
       "</table>\n",
       "</div>"
      ],
      "text/plain": [
       "                   Algorithm       MAE       MSE  meanMASE  Forecast Bias  \\\n",
       "0                   LightGBM  0.077107  0.027468  0.977439       0.032495   \n",
       "1               GFM Baseline  0.079552  0.027332  1.012078       0.190848   \n",
       "2    GFM+Meta (CountEncoder)  0.079412  0.027232  1.011083       0.091026   \n",
       "3  GFM+Meta  (TargetEncoder)  0.079553  0.027241  1.011387       0.299803   \n",
       "\n",
       "   Time Elapsed  \n",
       "0           NaN  \n",
       "1     39.544276  \n",
       "2    112.729089  \n",
       "3    102.253439  "
      ]
     },
     "execution_count": 27,
     "metadata": {},
     "output_type": "execute_result"
    }
   ],
   "source": [
    "pd.DataFrame(metric_record)"
   ]
  },
  {
   "cell_type": "code",
   "execution_count": 28,
   "id": "bf291684-759b-409f-86b6-55e563a22393",
   "metadata": {},
   "outputs": [
    {
     "data": {
      "application/vnd.plotly.v1+json": {
       "config": {
        "plotlyServerURL": "https://plot.ly"
       },
       "data": [
        {
         "alignmentgroup": "True",
         "hovertemplate": "feature=%{x}<br>importance=%{y}<extra></extra>",
         "legendgroup": "",
         "marker": {
          "color": "#636efa",
          "pattern": {
           "shape": ""
          }
         },
         "name": "",
         "offsetgroup": "",
         "orientation": "v",
         "showlegend": false,
         "textposition": "auto",
         "type": "bar",
         "x": [
          "energy_consumption_lag_1",
          "energy_consumption_48_seasonal_rolling_3_mean",
          "LCLid",
          "energy_consumption_336_seasonal_rolling_3_mean",
          "energy_consumption_lag_2",
          "energy_consumption_lag_48",
          "energy_consumption_rolling_3_std",
          "energy_consumption_rolling_48_std",
          "energy_consumption_lag_47",
          "energy_consumption_lag_49",
          "energy_consumption_lag_336",
          "energy_consumption_lag_335",
          "timestamp_Hour_cos_1",
          "energy_consumption_lag_3",
          "energy_consumption_lag_337"
         ],
         "xaxis": "x",
         "y": [
          406,
          176,
          174,
          154,
          134,
          117,
          99,
          91,
          89,
          73,
          72,
          72,
          71,
          64,
          63
         ],
         "yaxis": "y"
        }
       ],
       "layout": {
        "autosize": false,
        "barmode": "relative",
        "height": 500,
        "legend": {
         "font": {
          "size": 12
         },
         "orientation": "h",
         "title": {},
         "tracegroupgap": 0,
         "x": 1,
         "xanchor": "right",
         "y": 0.9,
         "yanchor": "bottom"
        },
        "margin": {
         "t": 60
        },
        "template": {
         "data": {
          "bar": [
           {
            "error_x": {
             "color": "#2a3f5f"
            },
            "error_y": {
             "color": "#2a3f5f"
            },
            "marker": {
             "line": {
              "color": "white",
              "width": 0.5
             },
             "pattern": {
              "fillmode": "overlay",
              "size": 10,
              "solidity": 0.2
             }
            },
            "type": "bar"
           }
          ],
          "barpolar": [
           {
            "marker": {
             "line": {
              "color": "white",
              "width": 0.5
             },
             "pattern": {
              "fillmode": "overlay",
              "size": 10,
              "solidity": 0.2
             }
            },
            "type": "barpolar"
           }
          ],
          "carpet": [
           {
            "aaxis": {
             "endlinecolor": "#2a3f5f",
             "gridcolor": "#C8D4E3",
             "linecolor": "#C8D4E3",
             "minorgridcolor": "#C8D4E3",
             "startlinecolor": "#2a3f5f"
            },
            "baxis": {
             "endlinecolor": "#2a3f5f",
             "gridcolor": "#C8D4E3",
             "linecolor": "#C8D4E3",
             "minorgridcolor": "#C8D4E3",
             "startlinecolor": "#2a3f5f"
            },
            "type": "carpet"
           }
          ],
          "choropleth": [
           {
            "colorbar": {
             "outlinewidth": 0,
             "ticks": ""
            },
            "type": "choropleth"
           }
          ],
          "contour": [
           {
            "colorbar": {
             "outlinewidth": 0,
             "ticks": ""
            },
            "colorscale": [
             [
              0,
              "#0d0887"
             ],
             [
              0.1111111111111111,
              "#46039f"
             ],
             [
              0.2222222222222222,
              "#7201a8"
             ],
             [
              0.3333333333333333,
              "#9c179e"
             ],
             [
              0.4444444444444444,
              "#bd3786"
             ],
             [
              0.5555555555555556,
              "#d8576b"
             ],
             [
              0.6666666666666666,
              "#ed7953"
             ],
             [
              0.7777777777777778,
              "#fb9f3a"
             ],
             [
              0.8888888888888888,
              "#fdca26"
             ],
             [
              1,
              "#f0f921"
             ]
            ],
            "type": "contour"
           }
          ],
          "contourcarpet": [
           {
            "colorbar": {
             "outlinewidth": 0,
             "ticks": ""
            },
            "type": "contourcarpet"
           }
          ],
          "heatmap": [
           {
            "colorbar": {
             "outlinewidth": 0,
             "ticks": ""
            },
            "colorscale": [
             [
              0,
              "#0d0887"
             ],
             [
              0.1111111111111111,
              "#46039f"
             ],
             [
              0.2222222222222222,
              "#7201a8"
             ],
             [
              0.3333333333333333,
              "#9c179e"
             ],
             [
              0.4444444444444444,
              "#bd3786"
             ],
             [
              0.5555555555555556,
              "#d8576b"
             ],
             [
              0.6666666666666666,
              "#ed7953"
             ],
             [
              0.7777777777777778,
              "#fb9f3a"
             ],
             [
              0.8888888888888888,
              "#fdca26"
             ],
             [
              1,
              "#f0f921"
             ]
            ],
            "type": "heatmap"
           }
          ],
          "heatmapgl": [
           {
            "colorbar": {
             "outlinewidth": 0,
             "ticks": ""
            },
            "colorscale": [
             [
              0,
              "#0d0887"
             ],
             [
              0.1111111111111111,
              "#46039f"
             ],
             [
              0.2222222222222222,
              "#7201a8"
             ],
             [
              0.3333333333333333,
              "#9c179e"
             ],
             [
              0.4444444444444444,
              "#bd3786"
             ],
             [
              0.5555555555555556,
              "#d8576b"
             ],
             [
              0.6666666666666666,
              "#ed7953"
             ],
             [
              0.7777777777777778,
              "#fb9f3a"
             ],
             [
              0.8888888888888888,
              "#fdca26"
             ],
             [
              1,
              "#f0f921"
             ]
            ],
            "type": "heatmapgl"
           }
          ],
          "histogram": [
           {
            "marker": {
             "pattern": {
              "fillmode": "overlay",
              "size": 10,
              "solidity": 0.2
             }
            },
            "type": "histogram"
           }
          ],
          "histogram2d": [
           {
            "colorbar": {
             "outlinewidth": 0,
             "ticks": ""
            },
            "colorscale": [
             [
              0,
              "#0d0887"
             ],
             [
              0.1111111111111111,
              "#46039f"
             ],
             [
              0.2222222222222222,
              "#7201a8"
             ],
             [
              0.3333333333333333,
              "#9c179e"
             ],
             [
              0.4444444444444444,
              "#bd3786"
             ],
             [
              0.5555555555555556,
              "#d8576b"
             ],
             [
              0.6666666666666666,
              "#ed7953"
             ],
             [
              0.7777777777777778,
              "#fb9f3a"
             ],
             [
              0.8888888888888888,
              "#fdca26"
             ],
             [
              1,
              "#f0f921"
             ]
            ],
            "type": "histogram2d"
           }
          ],
          "histogram2dcontour": [
           {
            "colorbar": {
             "outlinewidth": 0,
             "ticks": ""
            },
            "colorscale": [
             [
              0,
              "#0d0887"
             ],
             [
              0.1111111111111111,
              "#46039f"
             ],
             [
              0.2222222222222222,
              "#7201a8"
             ],
             [
              0.3333333333333333,
              "#9c179e"
             ],
             [
              0.4444444444444444,
              "#bd3786"
             ],
             [
              0.5555555555555556,
              "#d8576b"
             ],
             [
              0.6666666666666666,
              "#ed7953"
             ],
             [
              0.7777777777777778,
              "#fb9f3a"
             ],
             [
              0.8888888888888888,
              "#fdca26"
             ],
             [
              1,
              "#f0f921"
             ]
            ],
            "type": "histogram2dcontour"
           }
          ],
          "mesh3d": [
           {
            "colorbar": {
             "outlinewidth": 0,
             "ticks": ""
            },
            "type": "mesh3d"
           }
          ],
          "parcoords": [
           {
            "line": {
             "colorbar": {
              "outlinewidth": 0,
              "ticks": ""
             }
            },
            "type": "parcoords"
           }
          ],
          "pie": [
           {
            "automargin": true,
            "type": "pie"
           }
          ],
          "scatter": [
           {
            "fillpattern": {
             "fillmode": "overlay",
             "size": 10,
             "solidity": 0.2
            },
            "type": "scatter"
           }
          ],
          "scatter3d": [
           {
            "line": {
             "colorbar": {
              "outlinewidth": 0,
              "ticks": ""
             }
            },
            "marker": {
             "colorbar": {
              "outlinewidth": 0,
              "ticks": ""
             }
            },
            "type": "scatter3d"
           }
          ],
          "scattercarpet": [
           {
            "marker": {
             "colorbar": {
              "outlinewidth": 0,
              "ticks": ""
             }
            },
            "type": "scattercarpet"
           }
          ],
          "scattergeo": [
           {
            "marker": {
             "colorbar": {
              "outlinewidth": 0,
              "ticks": ""
             }
            },
            "type": "scattergeo"
           }
          ],
          "scattergl": [
           {
            "marker": {
             "colorbar": {
              "outlinewidth": 0,
              "ticks": ""
             }
            },
            "type": "scattergl"
           }
          ],
          "scattermapbox": [
           {
            "marker": {
             "colorbar": {
              "outlinewidth": 0,
              "ticks": ""
             }
            },
            "type": "scattermapbox"
           }
          ],
          "scatterpolar": [
           {
            "marker": {
             "colorbar": {
              "outlinewidth": 0,
              "ticks": ""
             }
            },
            "type": "scatterpolar"
           }
          ],
          "scatterpolargl": [
           {
            "marker": {
             "colorbar": {
              "outlinewidth": 0,
              "ticks": ""
             }
            },
            "type": "scatterpolargl"
           }
          ],
          "scatterternary": [
           {
            "marker": {
             "colorbar": {
              "outlinewidth": 0,
              "ticks": ""
             }
            },
            "type": "scatterternary"
           }
          ],
          "surface": [
           {
            "colorbar": {
             "outlinewidth": 0,
             "ticks": ""
            },
            "colorscale": [
             [
              0,
              "#0d0887"
             ],
             [
              0.1111111111111111,
              "#46039f"
             ],
             [
              0.2222222222222222,
              "#7201a8"
             ],
             [
              0.3333333333333333,
              "#9c179e"
             ],
             [
              0.4444444444444444,
              "#bd3786"
             ],
             [
              0.5555555555555556,
              "#d8576b"
             ],
             [
              0.6666666666666666,
              "#ed7953"
             ],
             [
              0.7777777777777778,
              "#fb9f3a"
             ],
             [
              0.8888888888888888,
              "#fdca26"
             ],
             [
              1,
              "#f0f921"
             ]
            ],
            "type": "surface"
           }
          ],
          "table": [
           {
            "cells": {
             "fill": {
              "color": "#EBF0F8"
             },
             "line": {
              "color": "white"
             }
            },
            "header": {
             "fill": {
              "color": "#C8D4E3"
             },
             "line": {
              "color": "white"
             }
            },
            "type": "table"
           }
          ]
         },
         "layout": {
          "annotationdefaults": {
           "arrowcolor": "#2a3f5f",
           "arrowhead": 0,
           "arrowwidth": 1
          },
          "autotypenumbers": "strict",
          "coloraxis": {
           "colorbar": {
            "outlinewidth": 0,
            "ticks": ""
           }
          },
          "colorscale": {
           "diverging": [
            [
             0,
             "#8e0152"
            ],
            [
             0.1,
             "#c51b7d"
            ],
            [
             0.2,
             "#de77ae"
            ],
            [
             0.3,
             "#f1b6da"
            ],
            [
             0.4,
             "#fde0ef"
            ],
            [
             0.5,
             "#f7f7f7"
            ],
            [
             0.6,
             "#e6f5d0"
            ],
            [
             0.7,
             "#b8e186"
            ],
            [
             0.8,
             "#7fbc41"
            ],
            [
             0.9,
             "#4d9221"
            ],
            [
             1,
             "#276419"
            ]
           ],
           "sequential": [
            [
             0,
             "#0d0887"
            ],
            [
             0.1111111111111111,
             "#46039f"
            ],
            [
             0.2222222222222222,
             "#7201a8"
            ],
            [
             0.3333333333333333,
             "#9c179e"
            ],
            [
             0.4444444444444444,
             "#bd3786"
            ],
            [
             0.5555555555555556,
             "#d8576b"
            ],
            [
             0.6666666666666666,
             "#ed7953"
            ],
            [
             0.7777777777777778,
             "#fb9f3a"
            ],
            [
             0.8888888888888888,
             "#fdca26"
            ],
            [
             1,
             "#f0f921"
            ]
           ],
           "sequentialminus": [
            [
             0,
             "#0d0887"
            ],
            [
             0.1111111111111111,
             "#46039f"
            ],
            [
             0.2222222222222222,
             "#7201a8"
            ],
            [
             0.3333333333333333,
             "#9c179e"
            ],
            [
             0.4444444444444444,
             "#bd3786"
            ],
            [
             0.5555555555555556,
             "#d8576b"
            ],
            [
             0.6666666666666666,
             "#ed7953"
            ],
            [
             0.7777777777777778,
             "#fb9f3a"
            ],
            [
             0.8888888888888888,
             "#fdca26"
            ],
            [
             1,
             "#f0f921"
            ]
           ]
          },
          "colorway": [
           "#636efa",
           "#EF553B",
           "#00cc96",
           "#ab63fa",
           "#FFA15A",
           "#19d3f3",
           "#FF6692",
           "#B6E880",
           "#FF97FF",
           "#FECB52"
          ],
          "font": {
           "color": "#2a3f5f"
          },
          "geo": {
           "bgcolor": "white",
           "lakecolor": "white",
           "landcolor": "white",
           "showlakes": true,
           "showland": true,
           "subunitcolor": "#C8D4E3"
          },
          "hoverlabel": {
           "align": "left"
          },
          "hovermode": "closest",
          "mapbox": {
           "style": "light"
          },
          "paper_bgcolor": "white",
          "plot_bgcolor": "white",
          "polar": {
           "angularaxis": {
            "gridcolor": "#EBF0F8",
            "linecolor": "#EBF0F8",
            "ticks": ""
           },
           "bgcolor": "white",
           "radialaxis": {
            "gridcolor": "#EBF0F8",
            "linecolor": "#EBF0F8",
            "ticks": ""
           }
          },
          "scene": {
           "xaxis": {
            "backgroundcolor": "white",
            "gridcolor": "#DFE8F3",
            "gridwidth": 2,
            "linecolor": "#EBF0F8",
            "showbackground": true,
            "ticks": "",
            "zerolinecolor": "#EBF0F8"
           },
           "yaxis": {
            "backgroundcolor": "white",
            "gridcolor": "#DFE8F3",
            "gridwidth": 2,
            "linecolor": "#EBF0F8",
            "showbackground": true,
            "ticks": "",
            "zerolinecolor": "#EBF0F8"
           },
           "zaxis": {
            "backgroundcolor": "white",
            "gridcolor": "#DFE8F3",
            "gridwidth": 2,
            "linecolor": "#EBF0F8",
            "showbackground": true,
            "ticks": "",
            "zerolinecolor": "#EBF0F8"
           }
          },
          "shapedefaults": {
           "line": {
            "color": "#2a3f5f"
           }
          },
          "ternary": {
           "aaxis": {
            "gridcolor": "#DFE8F3",
            "linecolor": "#A2B1C6",
            "ticks": ""
           },
           "baxis": {
            "gridcolor": "#DFE8F3",
            "linecolor": "#A2B1C6",
            "ticks": ""
           },
           "bgcolor": "white",
           "caxis": {
            "gridcolor": "#DFE8F3",
            "linecolor": "#A2B1C6",
            "ticks": ""
           }
          },
          "title": {
           "x": 0.05
          },
          "xaxis": {
           "automargin": true,
           "gridcolor": "#EBF0F8",
           "linecolor": "#EBF0F8",
           "ticks": "",
           "title": {
            "standoff": 15
           },
           "zerolinecolor": "#EBF0F8",
           "zerolinewidth": 2
          },
          "yaxis": {
           "automargin": true,
           "gridcolor": "#EBF0F8",
           "linecolor": "#EBF0F8",
           "ticks": "",
           "title": {
            "standoff": 15
           },
           "zerolinecolor": "#EBF0F8",
           "zerolinewidth": 2
          }
         }
        },
        "title": {
         "font": {
          "size": 20
         },
         "text": "Feature Importance - GFM+Meta  (TargetEncoder)",
         "x": 0.5,
         "xanchor": "center",
         "yanchor": "top"
        },
        "width": 900,
        "xaxis": {
         "anchor": "y",
         "domain": [
          0,
          1
         ],
         "tickfont": {
          "size": 12
         },
         "title": {
          "font": {
           "size": 12
          },
          "text": "Features"
         }
        },
        "yaxis": {
         "anchor": "x",
         "domain": [
          0,
          1
         ],
         "tickfont": {
          "size": 12
         },
         "title": {
          "font": {
           "size": 12
          },
          "text": "Importance"
         }
        }
       }
      }
     },
     "metadata": {},
     "output_type": "display_data"
    }
   ],
   "source": [
    "fig = px.bar(feat_df.head(15), x=\"feature\", y=\"importance\")\n",
    "format_plot(fig, xlabel=\"Features\", ylabel=\"Importance\", title=f\"Feature Importance - {model_config.name}\", font_size=12)\n",
    "fig.write_image(\"imgs/chapter_10/baseline_w_meta_tgt_encoder_fimp.png\")\n",
    "fig.show()"
   ]
  },
  {
   "cell_type": "markdown",
   "id": "0ceeb63e-0e27-4297-a76f-fbed9f56b26c",
   "metadata": {},
   "source": [
    "### Native LightGBM Encoding"
   ]
  },
  {
   "cell_type": "code",
   "execution_count": 29,
   "id": "e23edfee-9e48-4247-b3d3-8a9d4c047180",
   "metadata": {},
   "outputs": [],
   "source": [
    "from lightgbm import LGBMRegressor\n",
    "model_config = ModelConfig(\n",
    "    model=LGBMRegressor(random_state=42),\n",
    "    name=\"GFM+Meta  (NativeLGBM)\",\n",
    "    # LGBM is not sensitive to normalized data\n",
    "    normalize=False,\n",
    "    # LGBM can handle missing values\n",
    "    fill_missing=False,\n",
    "    # We are using inbuilt categorical feature handling\n",
    "    encode_categorical=False,\n",
    ")"
   ]
  },
  {
   "cell_type": "code",
   "execution_count": 30,
   "id": "fc4ee083-a3d3-413f-9db3-34a2fe2ba64e",
   "metadata": {
    "tags": []
   },
   "outputs": [
    {
     "name": "stdout",
     "output_type": "stream",
     "text": [
      "[LightGBM] [Info] Auto-choosing row-wise multi-threading, the overhead of testing was 0.620726 seconds.\n",
      "You can set `force_row_wise=true` to remove the overhead.\n",
      "And if memory is not enough, you can set `force_col_wise=true`.\n",
      "[LightGBM] [Info] Total Bins 8600\n",
      "[LightGBM] [Info] Number of data points in the train set: 4293840, number of used features: 77\n",
      "[LightGBM] [Info] Start training from score 0.194160\n",
      "Time Elapsed: 1 minute and 6 seconds\n"
     ]
    },
    {
     "data": {
      "application/vnd.jupyter.widget-view+json": {
       "model_id": "fdf003ff709b47169874fb99348078f3",
       "version_major": 2,
       "version_minor": 0
      },
      "text/plain": [
       "Calculating metrics...:   0%|          | 0/150 [00:00<?, ?it/s]"
      ]
     },
     "metadata": {},
     "output_type": "display_data"
    }
   ],
   "source": [
    "with LogTime() as timer:\n",
    "    y_pred, feat_df = train_model(\n",
    "        model_config,\n",
    "        _feat_config,\n",
    "        missing_value_config,\n",
    "        train_features,\n",
    "        train_target,\n",
    "        test_features,\n",
    "        fit_kwargs=dict(categorical_feature=cat_features),\n",
    "    )\n",
    "agg_metrics, eval_metrics_df = evaluate_forecast(y_pred, test_target, train_target, model_config)\n",
    "agg_metrics[\"Time Elapsed\"] = timer.elapsed\n",
    "metric_record.append(agg_metrics)\n",
    "individual_metrics[model_config.name]=eval_metrics_df\n",
    "pred_df = pred_df.join(y_pred)"
   ]
  },
  {
   "cell_type": "code",
   "execution_count": 31,
   "id": "d3cd175c-1cd4-47ae-a3f1-92a09bd13c6f",
   "metadata": {},
   "outputs": [
    {
     "data": {
      "text/html": [
       "<div>\n",
       "<style scoped>\n",
       "    .dataframe tbody tr th:only-of-type {\n",
       "        vertical-align: middle;\n",
       "    }\n",
       "\n",
       "    .dataframe tbody tr th {\n",
       "        vertical-align: top;\n",
       "    }\n",
       "\n",
       "    .dataframe thead th {\n",
       "        text-align: right;\n",
       "    }\n",
       "</style>\n",
       "<table border=\"1\" class=\"dataframe\">\n",
       "  <thead>\n",
       "    <tr style=\"text-align: right;\">\n",
       "      <th></th>\n",
       "      <th>Algorithm</th>\n",
       "      <th>MAE</th>\n",
       "      <th>MSE</th>\n",
       "      <th>meanMASE</th>\n",
       "      <th>Forecast Bias</th>\n",
       "      <th>Time Elapsed</th>\n",
       "    </tr>\n",
       "  </thead>\n",
       "  <tbody>\n",
       "    <tr>\n",
       "      <th>0</th>\n",
       "      <td>LightGBM</td>\n",
       "      <td>0.077107</td>\n",
       "      <td>0.027468</td>\n",
       "      <td>0.977439</td>\n",
       "      <td>0.032495</td>\n",
       "      <td>NaN</td>\n",
       "    </tr>\n",
       "    <tr>\n",
       "      <th>1</th>\n",
       "      <td>GFM Baseline</td>\n",
       "      <td>0.079552</td>\n",
       "      <td>0.027332</td>\n",
       "      <td>1.012078</td>\n",
       "      <td>0.190848</td>\n",
       "      <td>39.544276</td>\n",
       "    </tr>\n",
       "    <tr>\n",
       "      <th>2</th>\n",
       "      <td>GFM+Meta (CountEncoder)</td>\n",
       "      <td>0.079412</td>\n",
       "      <td>0.027232</td>\n",
       "      <td>1.011083</td>\n",
       "      <td>0.091026</td>\n",
       "      <td>112.729089</td>\n",
       "    </tr>\n",
       "    <tr>\n",
       "      <th>3</th>\n",
       "      <td>GFM+Meta  (TargetEncoder)</td>\n",
       "      <td>0.079553</td>\n",
       "      <td>0.027241</td>\n",
       "      <td>1.011387</td>\n",
       "      <td>0.299803</td>\n",
       "      <td>102.253439</td>\n",
       "    </tr>\n",
       "    <tr>\n",
       "      <th>4</th>\n",
       "      <td>GFM+Meta  (NativeLGBM)</td>\n",
       "      <td>0.079338</td>\n",
       "      <td>0.027199</td>\n",
       "      <td>1.011089</td>\n",
       "      <td>0.047789</td>\n",
       "      <td>66.527437</td>\n",
       "    </tr>\n",
       "  </tbody>\n",
       "</table>\n",
       "</div>"
      ],
      "text/plain": [
       "                   Algorithm       MAE       MSE  meanMASE  Forecast Bias  \\\n",
       "0                   LightGBM  0.077107  0.027468  0.977439       0.032495   \n",
       "1               GFM Baseline  0.079552  0.027332  1.012078       0.190848   \n",
       "2    GFM+Meta (CountEncoder)  0.079412  0.027232  1.011083       0.091026   \n",
       "3  GFM+Meta  (TargetEncoder)  0.079553  0.027241  1.011387       0.299803   \n",
       "4     GFM+Meta  (NativeLGBM)  0.079338  0.027199  1.011089       0.047789   \n",
       "\n",
       "   Time Elapsed  \n",
       "0           NaN  \n",
       "1     39.544276  \n",
       "2    112.729089  \n",
       "3    102.253439  \n",
       "4     66.527437  "
      ]
     },
     "execution_count": 31,
     "metadata": {},
     "output_type": "execute_result"
    }
   ],
   "source": [
    "pd.DataFrame(metric_record)"
   ]
  },
  {
   "cell_type": "code",
   "execution_count": 32,
   "id": "b3a1fb67-b621-433d-ab2e-925d5b73a8ca",
   "metadata": {},
   "outputs": [
    {
     "data": {
      "application/vnd.plotly.v1+json": {
       "config": {
        "plotlyServerURL": "https://plot.ly"
       },
       "data": [
        {
         "alignmentgroup": "True",
         "hovertemplate": "feature=%{x}<br>importance=%{y}<extra></extra>",
         "legendgroup": "",
         "marker": {
          "color": "#636efa",
          "pattern": {
           "shape": ""
          }
         },
         "name": "",
         "offsetgroup": "",
         "orientation": "v",
         "showlegend": false,
         "textposition": "auto",
         "type": "bar",
         "x": [
          "energy_consumption_lag_1",
          "energy_consumption_48_seasonal_rolling_3_mean",
          "energy_consumption_336_seasonal_rolling_3_mean",
          "energy_consumption_lag_2",
          "energy_consumption_lag_48",
          "LCLid",
          "energy_consumption_rolling_3_std",
          "energy_consumption_rolling_48_std",
          "timestamp_Hour",
          "energy_consumption_lag_49",
          "energy_consumption_lag_47",
          "energy_consumption_lag_336",
          "energy_consumption_ewma_span_2880",
          "energy_consumption_48_seasonal_rolling_3_std",
          "energy_consumption_lag_335"
         ],
         "xaxis": "x",
         "y": [
          416,
          182,
          159,
          124,
          121,
          115,
          93,
          91,
          89,
          83,
          83,
          71,
          70,
          66,
          66
         ],
         "yaxis": "y"
        }
       ],
       "layout": {
        "autosize": false,
        "barmode": "relative",
        "height": 500,
        "legend": {
         "font": {
          "size": 12
         },
         "orientation": "h",
         "title": {},
         "tracegroupgap": 0,
         "x": 1,
         "xanchor": "right",
         "y": 0.9,
         "yanchor": "bottom"
        },
        "margin": {
         "t": 60
        },
        "template": {
         "data": {
          "bar": [
           {
            "error_x": {
             "color": "#2a3f5f"
            },
            "error_y": {
             "color": "#2a3f5f"
            },
            "marker": {
             "line": {
              "color": "white",
              "width": 0.5
             },
             "pattern": {
              "fillmode": "overlay",
              "size": 10,
              "solidity": 0.2
             }
            },
            "type": "bar"
           }
          ],
          "barpolar": [
           {
            "marker": {
             "line": {
              "color": "white",
              "width": 0.5
             },
             "pattern": {
              "fillmode": "overlay",
              "size": 10,
              "solidity": 0.2
             }
            },
            "type": "barpolar"
           }
          ],
          "carpet": [
           {
            "aaxis": {
             "endlinecolor": "#2a3f5f",
             "gridcolor": "#C8D4E3",
             "linecolor": "#C8D4E3",
             "minorgridcolor": "#C8D4E3",
             "startlinecolor": "#2a3f5f"
            },
            "baxis": {
             "endlinecolor": "#2a3f5f",
             "gridcolor": "#C8D4E3",
             "linecolor": "#C8D4E3",
             "minorgridcolor": "#C8D4E3",
             "startlinecolor": "#2a3f5f"
            },
            "type": "carpet"
           }
          ],
          "choropleth": [
           {
            "colorbar": {
             "outlinewidth": 0,
             "ticks": ""
            },
            "type": "choropleth"
           }
          ],
          "contour": [
           {
            "colorbar": {
             "outlinewidth": 0,
             "ticks": ""
            },
            "colorscale": [
             [
              0,
              "#0d0887"
             ],
             [
              0.1111111111111111,
              "#46039f"
             ],
             [
              0.2222222222222222,
              "#7201a8"
             ],
             [
              0.3333333333333333,
              "#9c179e"
             ],
             [
              0.4444444444444444,
              "#bd3786"
             ],
             [
              0.5555555555555556,
              "#d8576b"
             ],
             [
              0.6666666666666666,
              "#ed7953"
             ],
             [
              0.7777777777777778,
              "#fb9f3a"
             ],
             [
              0.8888888888888888,
              "#fdca26"
             ],
             [
              1,
              "#f0f921"
             ]
            ],
            "type": "contour"
           }
          ],
          "contourcarpet": [
           {
            "colorbar": {
             "outlinewidth": 0,
             "ticks": ""
            },
            "type": "contourcarpet"
           }
          ],
          "heatmap": [
           {
            "colorbar": {
             "outlinewidth": 0,
             "ticks": ""
            },
            "colorscale": [
             [
              0,
              "#0d0887"
             ],
             [
              0.1111111111111111,
              "#46039f"
             ],
             [
              0.2222222222222222,
              "#7201a8"
             ],
             [
              0.3333333333333333,
              "#9c179e"
             ],
             [
              0.4444444444444444,
              "#bd3786"
             ],
             [
              0.5555555555555556,
              "#d8576b"
             ],
             [
              0.6666666666666666,
              "#ed7953"
             ],
             [
              0.7777777777777778,
              "#fb9f3a"
             ],
             [
              0.8888888888888888,
              "#fdca26"
             ],
             [
              1,
              "#f0f921"
             ]
            ],
            "type": "heatmap"
           }
          ],
          "heatmapgl": [
           {
            "colorbar": {
             "outlinewidth": 0,
             "ticks": ""
            },
            "colorscale": [
             [
              0,
              "#0d0887"
             ],
             [
              0.1111111111111111,
              "#46039f"
             ],
             [
              0.2222222222222222,
              "#7201a8"
             ],
             [
              0.3333333333333333,
              "#9c179e"
             ],
             [
              0.4444444444444444,
              "#bd3786"
             ],
             [
              0.5555555555555556,
              "#d8576b"
             ],
             [
              0.6666666666666666,
              "#ed7953"
             ],
             [
              0.7777777777777778,
              "#fb9f3a"
             ],
             [
              0.8888888888888888,
              "#fdca26"
             ],
             [
              1,
              "#f0f921"
             ]
            ],
            "type": "heatmapgl"
           }
          ],
          "histogram": [
           {
            "marker": {
             "pattern": {
              "fillmode": "overlay",
              "size": 10,
              "solidity": 0.2
             }
            },
            "type": "histogram"
           }
          ],
          "histogram2d": [
           {
            "colorbar": {
             "outlinewidth": 0,
             "ticks": ""
            },
            "colorscale": [
             [
              0,
              "#0d0887"
             ],
             [
              0.1111111111111111,
              "#46039f"
             ],
             [
              0.2222222222222222,
              "#7201a8"
             ],
             [
              0.3333333333333333,
              "#9c179e"
             ],
             [
              0.4444444444444444,
              "#bd3786"
             ],
             [
              0.5555555555555556,
              "#d8576b"
             ],
             [
              0.6666666666666666,
              "#ed7953"
             ],
             [
              0.7777777777777778,
              "#fb9f3a"
             ],
             [
              0.8888888888888888,
              "#fdca26"
             ],
             [
              1,
              "#f0f921"
             ]
            ],
            "type": "histogram2d"
           }
          ],
          "histogram2dcontour": [
           {
            "colorbar": {
             "outlinewidth": 0,
             "ticks": ""
            },
            "colorscale": [
             [
              0,
              "#0d0887"
             ],
             [
              0.1111111111111111,
              "#46039f"
             ],
             [
              0.2222222222222222,
              "#7201a8"
             ],
             [
              0.3333333333333333,
              "#9c179e"
             ],
             [
              0.4444444444444444,
              "#bd3786"
             ],
             [
              0.5555555555555556,
              "#d8576b"
             ],
             [
              0.6666666666666666,
              "#ed7953"
             ],
             [
              0.7777777777777778,
              "#fb9f3a"
             ],
             [
              0.8888888888888888,
              "#fdca26"
             ],
             [
              1,
              "#f0f921"
             ]
            ],
            "type": "histogram2dcontour"
           }
          ],
          "mesh3d": [
           {
            "colorbar": {
             "outlinewidth": 0,
             "ticks": ""
            },
            "type": "mesh3d"
           }
          ],
          "parcoords": [
           {
            "line": {
             "colorbar": {
              "outlinewidth": 0,
              "ticks": ""
             }
            },
            "type": "parcoords"
           }
          ],
          "pie": [
           {
            "automargin": true,
            "type": "pie"
           }
          ],
          "scatter": [
           {
            "fillpattern": {
             "fillmode": "overlay",
             "size": 10,
             "solidity": 0.2
            },
            "type": "scatter"
           }
          ],
          "scatter3d": [
           {
            "line": {
             "colorbar": {
              "outlinewidth": 0,
              "ticks": ""
             }
            },
            "marker": {
             "colorbar": {
              "outlinewidth": 0,
              "ticks": ""
             }
            },
            "type": "scatter3d"
           }
          ],
          "scattercarpet": [
           {
            "marker": {
             "colorbar": {
              "outlinewidth": 0,
              "ticks": ""
             }
            },
            "type": "scattercarpet"
           }
          ],
          "scattergeo": [
           {
            "marker": {
             "colorbar": {
              "outlinewidth": 0,
              "ticks": ""
             }
            },
            "type": "scattergeo"
           }
          ],
          "scattergl": [
           {
            "marker": {
             "colorbar": {
              "outlinewidth": 0,
              "ticks": ""
             }
            },
            "type": "scattergl"
           }
          ],
          "scattermapbox": [
           {
            "marker": {
             "colorbar": {
              "outlinewidth": 0,
              "ticks": ""
             }
            },
            "type": "scattermapbox"
           }
          ],
          "scatterpolar": [
           {
            "marker": {
             "colorbar": {
              "outlinewidth": 0,
              "ticks": ""
             }
            },
            "type": "scatterpolar"
           }
          ],
          "scatterpolargl": [
           {
            "marker": {
             "colorbar": {
              "outlinewidth": 0,
              "ticks": ""
             }
            },
            "type": "scatterpolargl"
           }
          ],
          "scatterternary": [
           {
            "marker": {
             "colorbar": {
              "outlinewidth": 0,
              "ticks": ""
             }
            },
            "type": "scatterternary"
           }
          ],
          "surface": [
           {
            "colorbar": {
             "outlinewidth": 0,
             "ticks": ""
            },
            "colorscale": [
             [
              0,
              "#0d0887"
             ],
             [
              0.1111111111111111,
              "#46039f"
             ],
             [
              0.2222222222222222,
              "#7201a8"
             ],
             [
              0.3333333333333333,
              "#9c179e"
             ],
             [
              0.4444444444444444,
              "#bd3786"
             ],
             [
              0.5555555555555556,
              "#d8576b"
             ],
             [
              0.6666666666666666,
              "#ed7953"
             ],
             [
              0.7777777777777778,
              "#fb9f3a"
             ],
             [
              0.8888888888888888,
              "#fdca26"
             ],
             [
              1,
              "#f0f921"
             ]
            ],
            "type": "surface"
           }
          ],
          "table": [
           {
            "cells": {
             "fill": {
              "color": "#EBF0F8"
             },
             "line": {
              "color": "white"
             }
            },
            "header": {
             "fill": {
              "color": "#C8D4E3"
             },
             "line": {
              "color": "white"
             }
            },
            "type": "table"
           }
          ]
         },
         "layout": {
          "annotationdefaults": {
           "arrowcolor": "#2a3f5f",
           "arrowhead": 0,
           "arrowwidth": 1
          },
          "autotypenumbers": "strict",
          "coloraxis": {
           "colorbar": {
            "outlinewidth": 0,
            "ticks": ""
           }
          },
          "colorscale": {
           "diverging": [
            [
             0,
             "#8e0152"
            ],
            [
             0.1,
             "#c51b7d"
            ],
            [
             0.2,
             "#de77ae"
            ],
            [
             0.3,
             "#f1b6da"
            ],
            [
             0.4,
             "#fde0ef"
            ],
            [
             0.5,
             "#f7f7f7"
            ],
            [
             0.6,
             "#e6f5d0"
            ],
            [
             0.7,
             "#b8e186"
            ],
            [
             0.8,
             "#7fbc41"
            ],
            [
             0.9,
             "#4d9221"
            ],
            [
             1,
             "#276419"
            ]
           ],
           "sequential": [
            [
             0,
             "#0d0887"
            ],
            [
             0.1111111111111111,
             "#46039f"
            ],
            [
             0.2222222222222222,
             "#7201a8"
            ],
            [
             0.3333333333333333,
             "#9c179e"
            ],
            [
             0.4444444444444444,
             "#bd3786"
            ],
            [
             0.5555555555555556,
             "#d8576b"
            ],
            [
             0.6666666666666666,
             "#ed7953"
            ],
            [
             0.7777777777777778,
             "#fb9f3a"
            ],
            [
             0.8888888888888888,
             "#fdca26"
            ],
            [
             1,
             "#f0f921"
            ]
           ],
           "sequentialminus": [
            [
             0,
             "#0d0887"
            ],
            [
             0.1111111111111111,
             "#46039f"
            ],
            [
             0.2222222222222222,
             "#7201a8"
            ],
            [
             0.3333333333333333,
             "#9c179e"
            ],
            [
             0.4444444444444444,
             "#bd3786"
            ],
            [
             0.5555555555555556,
             "#d8576b"
            ],
            [
             0.6666666666666666,
             "#ed7953"
            ],
            [
             0.7777777777777778,
             "#fb9f3a"
            ],
            [
             0.8888888888888888,
             "#fdca26"
            ],
            [
             1,
             "#f0f921"
            ]
           ]
          },
          "colorway": [
           "#636efa",
           "#EF553B",
           "#00cc96",
           "#ab63fa",
           "#FFA15A",
           "#19d3f3",
           "#FF6692",
           "#B6E880",
           "#FF97FF",
           "#FECB52"
          ],
          "font": {
           "color": "#2a3f5f"
          },
          "geo": {
           "bgcolor": "white",
           "lakecolor": "white",
           "landcolor": "white",
           "showlakes": true,
           "showland": true,
           "subunitcolor": "#C8D4E3"
          },
          "hoverlabel": {
           "align": "left"
          },
          "hovermode": "closest",
          "mapbox": {
           "style": "light"
          },
          "paper_bgcolor": "white",
          "plot_bgcolor": "white",
          "polar": {
           "angularaxis": {
            "gridcolor": "#EBF0F8",
            "linecolor": "#EBF0F8",
            "ticks": ""
           },
           "bgcolor": "white",
           "radialaxis": {
            "gridcolor": "#EBF0F8",
            "linecolor": "#EBF0F8",
            "ticks": ""
           }
          },
          "scene": {
           "xaxis": {
            "backgroundcolor": "white",
            "gridcolor": "#DFE8F3",
            "gridwidth": 2,
            "linecolor": "#EBF0F8",
            "showbackground": true,
            "ticks": "",
            "zerolinecolor": "#EBF0F8"
           },
           "yaxis": {
            "backgroundcolor": "white",
            "gridcolor": "#DFE8F3",
            "gridwidth": 2,
            "linecolor": "#EBF0F8",
            "showbackground": true,
            "ticks": "",
            "zerolinecolor": "#EBF0F8"
           },
           "zaxis": {
            "backgroundcolor": "white",
            "gridcolor": "#DFE8F3",
            "gridwidth": 2,
            "linecolor": "#EBF0F8",
            "showbackground": true,
            "ticks": "",
            "zerolinecolor": "#EBF0F8"
           }
          },
          "shapedefaults": {
           "line": {
            "color": "#2a3f5f"
           }
          },
          "ternary": {
           "aaxis": {
            "gridcolor": "#DFE8F3",
            "linecolor": "#A2B1C6",
            "ticks": ""
           },
           "baxis": {
            "gridcolor": "#DFE8F3",
            "linecolor": "#A2B1C6",
            "ticks": ""
           },
           "bgcolor": "white",
           "caxis": {
            "gridcolor": "#DFE8F3",
            "linecolor": "#A2B1C6",
            "ticks": ""
           }
          },
          "title": {
           "x": 0.05
          },
          "xaxis": {
           "automargin": true,
           "gridcolor": "#EBF0F8",
           "linecolor": "#EBF0F8",
           "ticks": "",
           "title": {
            "standoff": 15
           },
           "zerolinecolor": "#EBF0F8",
           "zerolinewidth": 2
          },
          "yaxis": {
           "automargin": true,
           "gridcolor": "#EBF0F8",
           "linecolor": "#EBF0F8",
           "ticks": "",
           "title": {
            "standoff": 15
           },
           "zerolinecolor": "#EBF0F8",
           "zerolinewidth": 2
          }
         }
        },
        "title": {
         "font": {
          "size": 20
         },
         "text": "Feature Importance - GFM+Meta  (NativeLGBM)",
         "x": 0.5,
         "xanchor": "center",
         "yanchor": "top"
        },
        "width": 900,
        "xaxis": {
         "anchor": "y",
         "domain": [
          0,
          1
         ],
         "tickfont": {
          "size": 12
         },
         "title": {
          "font": {
           "size": 12
          },
          "text": "Features"
         }
        },
        "yaxis": {
         "anchor": "x",
         "domain": [
          0,
          1
         ],
         "tickfont": {
          "size": 12
         },
         "title": {
          "font": {
           "size": 12
          },
          "text": "Importance"
         }
        }
       }
      }
     },
     "metadata": {},
     "output_type": "display_data"
    }
   ],
   "source": [
    "fig = px.bar(feat_df.head(15), x=\"feature\", y=\"importance\")\n",
    "format_plot(fig, xlabel=\"Features\", ylabel=\"Importance\", title=f\"Feature Importance - {model_config.name}\", font_size=12)\n",
    "fig.write_image(\"imgs/chapter_10/baseline_w_meta_native_lgbm_fimp.png\")\n",
    "fig.show()"
   ]
  },
  {
   "cell_type": "markdown",
   "id": "655a2540-5ddc-43dc-a0fb-59d18813b53e",
   "metadata": {
    "jp-MarkdownHeadingCollapsed": true,
    "tags": []
   },
   "source": [
    "## Hyperparameter Tuning"
   ]
  },
  {
   "cell_type": "code",
   "execution_count": 33,
   "id": "a4e4f820-c076-4b75-9ca6-7988bc587d5f",
   "metadata": {},
   "outputs": [],
   "source": [
    "feat_conf_dict = copy.deepcopy(feat_config.__dict__)\n",
    "feat_conf_dict.pop(\"feature_list\")\n",
    "feat_conf_dict['categorical_features']+=[\"stdorToU\", \"Acorn\", \"Acorn_grouped\", \"LCLid\"]\n",
    "_feat_config = FeatureConfig(**feat_conf_dict)\n",
    "\n",
    "train_features, train_target, train_original_target = _feat_config.get_X_y(\n",
    "    train_df, categorical=True, exogenous=False\n",
    ")\n",
    "# Loading the Validation as test\n",
    "test_features, test_target, test_original_target = _feat_config.get_X_y(\n",
    "    test_df, categorical=True, exogenous=False\n",
    ")\n",
    "\n",
    "cat_features = set(train_features.columns).intersection(_feat_config.categorical_features)"
   ]
  },
  {
   "cell_type": "markdown",
   "id": "fd0e5f0d-9209-4c2b-b2b4-7473b78b28ef",
   "metadata": {},
   "source": [
    "<div class=\"alert alert-block alert-warning\"><b>Important: </b> Run the following cells for Hyperparameter Tuning only if needed. <br/>The best parameters are hardcoded in the section after the tuning so that these cells need not be run everytime (Takes a lot of time).<br/> Skip to <b>Using the tuned parameters</b></div>"
   ]
  },
  {
   "cell_type": "markdown",
   "id": "8cc5b513-a862-4beb-b3f7-60820dd92a39",
   "metadata": {
    "jp-MarkdownHeadingCollapsed": true,
    "tags": []
   },
   "source": [
    "### Grid Search"
   ]
  },
  {
   "cell_type": "code",
   "execution_count": 34,
   "id": "a9f5b212-e55c-4c3a-af24-e8614fdfc830",
   "metadata": {},
   "outputs": [],
   "source": [
    "from sklearn.model_selection import ParameterGrid\n",
    "\n",
    "grid_params = {\n",
    "    \"num_leaves\": [16, 31, 63],\n",
    "    \"objective\": [\"regression\", \"regression_l1\", \"huber\"],\n",
    "    \"random_state\": [42],\n",
    "    \"colsample_bytree\": [0.5, 0.8, 1.0],\n",
    "}\n",
    "parameter_space = list(ParameterGrid(grid_params))"
   ]
  },
  {
   "cell_type": "code",
   "execution_count": 35,
   "id": "947e7f0c-68de-4e91-b987-a310deda4ddf",
   "metadata": {},
   "outputs": [
    {
     "data": {
      "application/vnd.jupyter.widget-view+json": {
       "model_id": "6e85693b641a4996ab7e15f0aff49577",
       "version_major": 2,
       "version_minor": 0
      },
      "text/plain": [
       "Performing Grid Search:   0%|          | 0/27 [00:00<?, ?it/s]"
      ]
     },
     "metadata": {},
     "output_type": "display_data"
    }
   ],
   "source": [
    "# Can use PredefinedSplit along with GridSearchCV to have the search done faster using multi-processing\n",
    "# Or we can parallelize the loop ourselves\n",
    "scores = []\n",
    "for p in tqdm(parameter_space, desc=\"Performing Grid Search\"):\n",
    "    _model_config = ModelConfig(\n",
    "        model=LGBMRegressor(**p, verbose=-1),\n",
    "        name=\"Global Meta LightGBM Tuning\",\n",
    "        # LGBM is not sensitive to normalized data\n",
    "        normalize=False,\n",
    "        # LGBM can handle missing values\n",
    "        fill_missing=False,\n",
    "    )\n",
    "    y_pred, feat_df = train_model(\n",
    "        _model_config,\n",
    "        _feat_config,\n",
    "        missing_value_config,\n",
    "        train_features,\n",
    "        train_target,\n",
    "        test_features,\n",
    "        fit_kwargs=dict(categorical_feature=cat_features),\n",
    "    )\n",
    "    scores.append(ts_utils.mae(\n",
    "                test_target['energy_consumption'], y_pred\n",
    "            ))\n",
    "    "
   ]
  },
  {
   "cell_type": "code",
   "execution_count": 36,
   "id": "acab81ae-d306-4d2b-8a31-768c9f3e5fcd",
   "metadata": {},
   "outputs": [
    {
     "data": {
      "text/html": [
       "<div>\n",
       "<style scoped>\n",
       "    .dataframe tbody tr th:only-of-type {\n",
       "        vertical-align: middle;\n",
       "    }\n",
       "\n",
       "    .dataframe tbody tr th {\n",
       "        vertical-align: top;\n",
       "    }\n",
       "\n",
       "    .dataframe thead th {\n",
       "        text-align: right;\n",
       "    }\n",
       "</style>\n",
       "<table border=\"1\" class=\"dataframe\">\n",
       "  <thead>\n",
       "    <tr style=\"text-align: right;\">\n",
       "      <th></th>\n",
       "      <th>params</th>\n",
       "      <th>score</th>\n",
       "    </tr>\n",
       "  </thead>\n",
       "  <tbody>\n",
       "    <tr>\n",
       "      <th>16</th>\n",
       "      <td>{'colsample_bytree': 0.8, 'num_leaves': 63, 'o...</td>\n",
       "      <td>0.074434</td>\n",
       "    </tr>\n",
       "    <tr>\n",
       "      <th>25</th>\n",
       "      <td>{'colsample_bytree': 1.0, 'num_leaves': 63, 'o...</td>\n",
       "      <td>0.074708</td>\n",
       "    </tr>\n",
       "    <tr>\n",
       "      <th>7</th>\n",
       "      <td>{'colsample_bytree': 0.5, 'num_leaves': 63, 'o...</td>\n",
       "      <td>0.074765</td>\n",
       "    </tr>\n",
       "    <tr>\n",
       "      <th>13</th>\n",
       "      <td>{'colsample_bytree': 0.8, 'num_leaves': 31, 'o...</td>\n",
       "      <td>0.075569</td>\n",
       "    </tr>\n",
       "    <tr>\n",
       "      <th>22</th>\n",
       "      <td>{'colsample_bytree': 1.0, 'num_leaves': 31, 'o...</td>\n",
       "      <td>0.075706</td>\n",
       "    </tr>\n",
       "  </tbody>\n",
       "</table>\n",
       "</div>"
      ],
      "text/plain": [
       "                                               params     score\n",
       "16  {'colsample_bytree': 0.8, 'num_leaves': 63, 'o...  0.074434\n",
       "25  {'colsample_bytree': 1.0, 'num_leaves': 63, 'o...  0.074708\n",
       "7   {'colsample_bytree': 0.5, 'num_leaves': 63, 'o...  0.074765\n",
       "13  {'colsample_bytree': 0.8, 'num_leaves': 31, 'o...  0.075569\n",
       "22  {'colsample_bytree': 1.0, 'num_leaves': 31, 'o...  0.075706"
      ]
     },
     "execution_count": 36,
     "metadata": {},
     "output_type": "execute_result"
    }
   ],
   "source": [
    "grid_search_trials = pd.DataFrame({\"params\":parameter_space, \"score\":scores}).sort_values(\"score\")\n",
    "best_params_gs = grid_search_trials.iloc[0,0]\n",
    "best_score_gs = grid_search_trials.iloc[0,1]\n",
    "grid_search_trials.head()"
   ]
  },
  {
   "cell_type": "markdown",
   "id": "f8a43550-fae9-4507-b351-fb91e186e448",
   "metadata": {
    "jp-MarkdownHeadingCollapsed": true,
    "tags": []
   },
   "source": [
    "### Random Search"
   ]
  },
  {
   "cell_type": "code",
   "execution_count": 37,
   "id": "e8ef9ec5-9f9d-45bb-a411-b21b2fcfd0b4",
   "metadata": {},
   "outputs": [],
   "source": [
    "import scipy\n",
    "from sklearn.model_selection import ParameterSampler\n",
    "\n",
    "random_search_params = {\n",
    "    # A uniform distribution between 10 and 100, but only integers\n",
    "    \"num_leaves\": scipy.stats.randint(10,100),\n",
    "    # A list of categorical string values\n",
    "    \"objective\": [\"regression\", \"regression_l1\", \"huber\"],\n",
    "    \"random_state\": [42],\n",
    "    # List of floating point numbers between 0.3 and 1.0 with a resolution of 0.05\n",
    "    \"colsample_bytree\": np.arange(0.3,1.0,0.05),\n",
    "    # List of floating point numbers between 0 and 10 with a resolution of 0.1\n",
    "    \"lambda_l1\":np.arange(0,10,0.1),\n",
    "    # List of floating point numbers between 0 and 10 with a resolution of 0.1\n",
    "    \"lambda_l2\":np.arange(0,10,0.1)\n",
    "}\n",
    "# Sampling from the search space number of iterations times\n",
    "parameter_space = list(ParameterSampler(random_search_params, n_iter=27, random_state=42))"
   ]
  },
  {
   "cell_type": "code",
   "execution_count": 38,
   "id": "26cbda65-24c7-45d5-aadb-16c49fc35d6a",
   "metadata": {
    "tags": []
   },
   "outputs": [
    {
     "data": {
      "application/vnd.jupyter.widget-view+json": {
       "model_id": "9f68ddcd661344a5accbcd181b25833f",
       "version_major": 2,
       "version_minor": 0
      },
      "text/plain": [
       "Performing Random Search:   0%|          | 0/27 [00:00<?, ?it/s]"
      ]
     },
     "metadata": {},
     "output_type": "display_data"
    }
   ],
   "source": [
    "# Can use PredefinedSplit along with RandomSearchCV to have the search done faster using multi-processing\n",
    "# Or we can parallelize the loop ourselves\n",
    "scores = []\n",
    "for p in tqdm(parameter_space, desc=\"Performing Random Search\"):\n",
    "    _model_config = ModelConfig(\n",
    "        model=LGBMRegressor(**p, verbose=-1),\n",
    "        name=\"Global Meta LightGBM Tuning\",\n",
    "        # LGBM is not sensitive to normalized data\n",
    "        normalize=False,\n",
    "        # LGBM can handle missing values\n",
    "        fill_missing=False,\n",
    "    )\n",
    "    y_pred, feat_df = train_model(\n",
    "        _model_config,\n",
    "        _feat_config,\n",
    "        missing_value_config,\n",
    "        train_features,\n",
    "        train_target,\n",
    "        test_features,\n",
    "        fit_kwargs=dict(categorical_feature=cat_features),\n",
    "    )\n",
    "    scores.append(ts_utils.mae(\n",
    "                test_target['energy_consumption'], y_pred\n",
    "            ))\n",
    "    "
   ]
  },
  {
   "cell_type": "code",
   "execution_count": 39,
   "id": "37787670-3bb4-4341-9f97-b2a4f9bff8ba",
   "metadata": {},
   "outputs": [
    {
     "data": {
      "text/html": [
       "<div>\n",
       "<style scoped>\n",
       "    .dataframe tbody tr th:only-of-type {\n",
       "        vertical-align: middle;\n",
       "    }\n",
       "\n",
       "    .dataframe tbody tr th {\n",
       "        vertical-align: top;\n",
       "    }\n",
       "\n",
       "    .dataframe thead th {\n",
       "        text-align: right;\n",
       "    }\n",
       "</style>\n",
       "<table border=\"1\" class=\"dataframe\">\n",
       "  <thead>\n",
       "    <tr style=\"text-align: right;\">\n",
       "      <th></th>\n",
       "      <th>params</th>\n",
       "      <th>score</th>\n",
       "    </tr>\n",
       "  </thead>\n",
       "  <tbody>\n",
       "    <tr>\n",
       "      <th>3</th>\n",
       "      <td>{'colsample_bytree': 0.5499999999999999, 'lamb...</td>\n",
       "      <td>0.074283</td>\n",
       "    </tr>\n",
       "    <tr>\n",
       "      <th>20</th>\n",
       "      <td>{'colsample_bytree': 0.8999999999999999, 'lamb...</td>\n",
       "      <td>0.075432</td>\n",
       "    </tr>\n",
       "    <tr>\n",
       "      <th>11</th>\n",
       "      <td>{'colsample_bytree': 0.35, 'lambda_l1': 0.3000...</td>\n",
       "      <td>0.075581</td>\n",
       "    </tr>\n",
       "    <tr>\n",
       "      <th>12</th>\n",
       "      <td>{'colsample_bytree': 0.35, 'lambda_l1': 0.8, '...</td>\n",
       "      <td>0.075640</td>\n",
       "    </tr>\n",
       "    <tr>\n",
       "      <th>17</th>\n",
       "      <td>{'colsample_bytree': 0.35, 'lambda_l1': 8.9, '...</td>\n",
       "      <td>0.076090</td>\n",
       "    </tr>\n",
       "  </tbody>\n",
       "</table>\n",
       "</div>"
      ],
      "text/plain": [
       "                                               params     score\n",
       "3   {'colsample_bytree': 0.5499999999999999, 'lamb...  0.074283\n",
       "20  {'colsample_bytree': 0.8999999999999999, 'lamb...  0.075432\n",
       "11  {'colsample_bytree': 0.35, 'lambda_l1': 0.3000...  0.075581\n",
       "12  {'colsample_bytree': 0.35, 'lambda_l1': 0.8, '...  0.075640\n",
       "17  {'colsample_bytree': 0.35, 'lambda_l1': 8.9, '...  0.076090"
      ]
     },
     "execution_count": 39,
     "metadata": {},
     "output_type": "execute_result"
    }
   ],
   "source": [
    "random_search_trials = pd.DataFrame({\"params\":parameter_space, \"score\":scores}).sort_values(\"score\")\n",
    "best_params_rs = random_search_trials.iloc[0,0]\n",
    "best_score_rs = random_search_trials.iloc[0,1]\n",
    "random_search_trials.head()"
   ]
  },
  {
   "cell_type": "markdown",
   "id": "08ddd510-bc20-4842-b9c1-77ead2f4bea9",
   "metadata": {
    "jp-MarkdownHeadingCollapsed": true,
    "tags": []
   },
   "source": [
    "### Bayesian Optimization"
   ]
  },
  {
   "cell_type": "code",
   "execution_count": 40,
   "id": "c5656438-a027-4370-af30-3cc5850a551d",
   "metadata": {},
   "outputs": [],
   "source": [
    "import optuna"
   ]
  },
  {
   "cell_type": "code",
   "execution_count": 41,
   "id": "159bb43f-11a8-4f0c-9944-1b365a809bfb",
   "metadata": {},
   "outputs": [],
   "source": [
    "# Define an objective functions which takes in trial as a parameter \n",
    "# and evaluates the model with the generated params\n",
    "def objective(trial):\n",
    "    params = {\n",
    "        # Sample an integer between 10 and 100\n",
    "        \"num_leaves\": trial.suggest_int(\"num_leaves\", 10, 100),\n",
    "        # Sample a categorical value from the list provided\n",
    "        \"objective\": trial.suggest_categorical(\n",
    "            \"objective\", [\"regression\", \"regression_l1\", \"huber\"]\n",
    "        ),\n",
    "        \"random_state\": [42],\n",
    "        # Sample from a uniform distribution between 0.3 and 1.0\n",
    "        \"colsample_bytree\": trial.suggest_float (\"colsample_bytree\", 0.3, 1.0),\n",
    "        # Sample from a uniform distribution between 0 and 10\n",
    "        \"lambda_l1\": trial.suggest_float (\"lambda_l1\", 0, 10),\n",
    "        # Sample from a uniform distribution between 0 and 10\n",
    "        \"lambda_l2\": trial.suggest_float (\"lambda_l2\", 0, 10),\n",
    "    }\n",
    "    _model_config = ModelConfig(\n",
    "        # Use the sampled params to initialize the model\n",
    "        model=LGBMRegressor(**params, verbose=-1),\n",
    "        name=\"Global Meta LightGBM Tuning\",\n",
    "        # LGBM is not sensitive to normalized data\n",
    "        normalize=False,\n",
    "        # LGBM can handle missing values\n",
    "        fill_missing=False,\n",
    "    )\n",
    "    y_pred, feat_df = train_model(\n",
    "        _model_config,\n",
    "        _feat_config,\n",
    "        missing_value_config,\n",
    "        train_features,\n",
    "        train_target,\n",
    "        test_features,\n",
    "        fit_kwargs=dict(categorical_feature=cat_features),\n",
    "    )\n",
    "    # Return the MAE metric as the value\n",
    "    return ts_utils.mae(test_target[\"energy_consumption\"], y_pred)"
   ]
  },
  {
   "cell_type": "code",
   "execution_count": 42,
   "id": "6fb753e8-3735-4b32-90f9-62f52b6ebd3f",
   "metadata": {
    "collapsed": true,
    "jupyter": {
     "outputs_hidden": true
    },
    "tags": []
   },
   "outputs": [
    {
     "name": "stderr",
     "output_type": "stream",
     "text": [
      "[I 2024-10-26 08:01:58,515] A new study created in memory with name: no-name-78e3483a-0be9-43fe-ba14-2ef745b277f0\n"
     ]
    },
    {
     "data": {
      "application/vnd.jupyter.widget-view+json": {
       "model_id": "80aae435cd8340e6980cd32248236a58",
       "version_major": 2,
       "version_minor": 0
      },
      "text/plain": [
       "  0%|          | 0/27 [00:00<?, ?it/s]"
      ]
     },
     "metadata": {},
     "output_type": "display_data"
    },
    {
     "name": "stdout",
     "output_type": "stream",
     "text": [
      "[I 2024-10-26 08:02:41,912] Trial 0 finished with value: 0.07918144764005784 and parameters: {'num_leaves': 44, 'objective': 'regression', 'colsample_bytree': 0.40921304830970556, 'lambda_l1': 1.5599452033620265, 'lambda_l2': 0.5808361216819946}. Best is trial 0 with value: 0.07918144764005784.\n",
      "[I 2024-10-26 08:04:10,903] Trial 1 finished with value: 0.07403915567918215 and parameters: {'num_leaves': 88, 'objective': 'regression_l1', 'colsample_bytree': 0.978936896513396, 'lambda_l1': 8.324426408004218, 'lambda_l2': 2.1233911067827616}. Best is trial 1 with value: 0.07403915567918215.\n",
      "[I 2024-10-26 08:04:51,586] Trial 2 finished with value: 0.07938443582566357 and parameters: {'num_leaves': 26, 'objective': 'huber', 'colsample_bytree': 0.602361513049481, 'lambda_l1': 2.9122914019804194, 'lambda_l2': 6.118528947223795}. Best is trial 1 with value: 0.07403915567918215.\n",
      "[I 2024-10-26 08:05:38,137] Trial 3 finished with value: 0.07954560123687912 and parameters: {'num_leaves': 22, 'objective': 'huber', 'colsample_bytree': 0.8496231729751094, 'lambda_l1': 1.9967378215835974, 'lambda_l2': 5.142344384136116}. Best is trial 1 with value: 0.07403915567918215.\n",
      "[I 2024-10-26 08:06:29,068] Trial 4 finished with value: 0.07571133305795809 and parameters: {'num_leaves': 63, 'objective': 'regression_l1', 'colsample_bytree': 0.3455361150896956, 'lambda_l1': 9.488855372533333, 'lambda_l2': 9.656320330745594}. Best is trial 1 with value: 0.07403915567918215.\n",
      "[I 2024-10-26 08:08:00,133] Trial 5 finished with value: 0.07407330327188258 and parameters: {'num_leaves': 99, 'objective': 'regression_l1', 'colsample_bytree': 0.978675977551506, 'lambda_l1': 8.160098582954642, 'lambda_l2': 0.1784088875749723}. Best is trial 1 with value: 0.07403915567918215.\n",
      "[I 2024-10-26 08:09:16,288] Trial 6 finished with value: 0.07410905913744738 and parameters: {'num_leaves': 92, 'objective': 'regression_l1', 'colsample_bytree': 0.7465802286477425, 'lambda_l1': 6.268836449065677, 'lambda_l2': 2.9994432441628858}. Best is trial 1 with value: 0.07403915567918215.\n",
      "[I 2024-10-26 08:10:17,625] Trial 7 finished with value: 0.07800550768595722 and parameters: {'num_leaves': 71, 'objective': 'regression', 'colsample_bytree': 0.947190136362631, 'lambda_l1': 5.356242640354899, 'lambda_l2': 2.6455518804340588}. Best is trial 1 with value: 0.07403915567918215.\n",
      "[I 2024-10-26 08:11:27,648] Trial 8 finished with value: 0.07456584571416411 and parameters: {'num_leaves': 80, 'objective': 'regression_l1', 'colsample_bytree': 0.5857827885576627, 'lambda_l1': 7.534253262400842, 'lambda_l2': 7.007038892855814}. Best is trial 1 with value: 0.07403915567918215.\n",
      "[I 2024-10-26 08:12:33,872] Trial 9 finished with value: 0.07511805904301844 and parameters: {'num_leaves': 45, 'objective': 'regression_l1', 'colsample_bytree': 0.7367816059116807, 'lambda_l1': 3.774942853855178, 'lambda_l2': 3.4763343049658286}. Best is trial 1 with value: 0.07403915567918215.\n",
      "[I 2024-10-26 08:13:19,141] Trial 10 finished with value: 0.07800794169992618 and parameters: {'num_leaves': 82, 'objective': 'regression', 'colsample_bytree': 0.48569186433682954, 'lambda_l1': 9.816393066642362, 'lambda_l2': 1.5578379319318545}. Best is trial 1 with value: 0.07403915567918215.\n",
      "[I 2024-10-26 08:14:47,620] Trial 11 finished with value: 0.07390339977237843 and parameters: {'num_leaves': 100, 'objective': 'regression_l1', 'colsample_bytree': 0.9470293712110213, 'lambda_l1': 7.719985379615895, 'lambda_l2': 0.5503957469570449}. Best is trial 11 with value: 0.07390339977237843.\n",
      "[I 2024-10-26 08:16:12,495] Trial 12 finished with value: 0.07387683948537982 and parameters: {'num_leaves': 100, 'objective': 'regression_l1', 'colsample_bytree': 0.8582137604867677, 'lambda_l1': 7.744168753581634, 'lambda_l2': 1.86719591350861}. Best is trial 12 with value: 0.07387683948537982.\n",
      "[I 2024-10-26 08:17:34,720] Trial 13 finished with value: 0.07408928398733215 and parameters: {'num_leaves': 100, 'objective': 'regression_l1', 'colsample_bytree': 0.8472589711954592, 'lambda_l1': 6.295403788851194, 'lambda_l2': 4.007849247085496}. Best is trial 12 with value: 0.07387683948537982.\n",
      "[I 2024-10-26 08:18:31,938] Trial 14 finished with value: 0.077617650964152 and parameters: {'num_leaves': 70, 'objective': 'huber', 'colsample_bytree': 0.8514630614814858, 'lambda_l1': 0.10989189243771325, 'lambda_l2': 1.1841772434379012}. Best is trial 12 with value: 0.07387683948537982.\n",
      "[I 2024-10-26 08:19:41,167] Trial 15 finished with value: 0.07479249429937891 and parameters: {'num_leaves': 57, 'objective': 'regression_l1', 'colsample_bytree': 0.7319544329664467, 'lambda_l1': 6.90254589136424, 'lambda_l2': 0.0474011965308927}. Best is trial 12 with value: 0.07387683948537982.\n",
      "[I 2024-10-26 08:20:37,417] Trial 16 finished with value: 0.07750919305838558 and parameters: {'num_leaves': 11, 'objective': 'regression_l1', 'colsample_bytree': 0.8852509703438317, 'lambda_l1': 4.778257400389071, 'lambda_l2': 8.596498751955513}. Best is trial 12 with value: 0.07387683948537982.\n",
      "[I 2024-10-26 08:21:53,828] Trial 17 finished with value: 0.07431419656254794 and parameters: {'num_leaves': 78, 'objective': 'regression_l1', 'colsample_bytree': 0.7847914653851341, 'lambda_l1': 8.231593232381364, 'lambda_l2': 4.387990835848136}. Best is trial 12 with value: 0.07387683948537982.\n",
      "[I 2024-10-26 08:22:46,933] Trial 18 finished with value: 0.07732832342330091 and parameters: {'num_leaves': 91, 'objective': 'huber', 'colsample_bytree': 0.6552442348975493, 'lambda_l1': 5.0637422483909, 'lambda_l2': 1.6405553597722977}. Best is trial 12 with value: 0.07387683948537982.\n",
      "[I 2024-10-26 08:23:48,202] Trial 19 finished with value: 0.07755639038093946 and parameters: {'num_leaves': 100, 'objective': 'regression', 'colsample_bytree': 0.9133132660816118, 'lambda_l1': 9.078071963018555, 'lambda_l2': 5.505694458003196}. Best is trial 12 with value: 0.07387683948537982.\n",
      "[I 2024-10-26 08:24:50,181] Trial 20 finished with value: 0.07495897553158988 and parameters: {'num_leaves': 48, 'objective': 'regression_l1', 'colsample_bytree': 0.6510199107956567, 'lambda_l1': 6.831470772340531, 'lambda_l2': 2.2915558625596386}. Best is trial 12 with value: 0.07387683948537982.\n",
      "[I 2024-10-26 08:26:22,250] Trial 21 finished with value: 0.07402797680279141 and parameters: {'num_leaves': 89, 'objective': 'regression_l1', 'colsample_bytree': 0.98735353997752, 'lambda_l1': 8.387200033093137, 'lambda_l2': 2.182660382974033}. Best is trial 12 with value: 0.07387683948537982.\n",
      "[I 2024-10-26 08:27:49,129] Trial 22 finished with value: 0.07399321657215932 and parameters: {'num_leaves': 89, 'objective': 'regression_l1', 'colsample_bytree': 0.9825023023294297, 'lambda_l1': 8.840503795682555, 'lambda_l2': 0.8192914457716183}. Best is trial 12 with value: 0.07387683948537982.\n",
      "[I 2024-10-26 08:29:11,742] Trial 23 finished with value: 0.07410083538884497 and parameters: {'num_leaves': 93, 'objective': 'regression_l1', 'colsample_bytree': 0.9022137642160039, 'lambda_l1': 8.981762569111186, 'lambda_l2': 0.8723133883973843}. Best is trial 12 with value: 0.07387683948537982.\n",
      "[I 2024-10-26 08:30:28,631] Trial 24 finished with value: 0.07422942675146392 and parameters: {'num_leaves': 84, 'objective': 'regression_l1', 'colsample_bytree': 0.8088592586791998, 'lambda_l1': 7.472485123959904, 'lambda_l2': 1.0396930113792244}. Best is trial 12 with value: 0.07387683948537982.\n",
      "[I 2024-10-26 08:31:47,294] Trial 25 finished with value: 0.07436516476115436 and parameters: {'num_leaves': 73, 'objective': 'regression_l1', 'colsample_bytree': 0.911906148589483, 'lambda_l1': 9.821785394734372, 'lambda_l2': 3.5809571175330905}. Best is trial 12 with value: 0.07387683948537982.\n",
      "[I 2024-10-26 08:33:17,460] Trial 26 finished with value: 0.07399589993336501 and parameters: {'num_leaves': 96, 'objective': 'regression_l1', 'colsample_bytree': 0.9962732300874337, 'lambda_l1': 5.991646380470701, 'lambda_l2': 1.4089064219786038}. Best is trial 12 with value: 0.07387683948537982.\n"
     ]
    }
   ],
   "source": [
    "# Create a sampler and set seed for repeatability. \n",
    "# Set startup trials as 5 because out total trials is lower.\n",
    "sampler = optuna.samplers.TPESampler(n_startup_trials=5, seed=42)\n",
    "# Create a study\n",
    "study = optuna.create_study(direction=\"minimize\", sampler=sampler)\n",
    "# Start the optimization run\n",
    "study.optimize(objective, n_trials=27, show_progress_bar=True)"
   ]
  },
  {
   "cell_type": "code",
   "execution_count": 43,
   "id": "1c2ffc91-7d9b-490e-a7ac-0dbcfc949a6b",
   "metadata": {},
   "outputs": [
    {
     "data": {
      "text/html": [
       "<div>\n",
       "<style scoped>\n",
       "    .dataframe tbody tr th:only-of-type {\n",
       "        vertical-align: middle;\n",
       "    }\n",
       "\n",
       "    .dataframe tbody tr th {\n",
       "        vertical-align: top;\n",
       "    }\n",
       "\n",
       "    .dataframe thead th {\n",
       "        text-align: right;\n",
       "    }\n",
       "</style>\n",
       "<table border=\"1\" class=\"dataframe\">\n",
       "  <thead>\n",
       "    <tr style=\"text-align: right;\">\n",
       "      <th></th>\n",
       "      <th>number</th>\n",
       "      <th>value</th>\n",
       "      <th>datetime_start</th>\n",
       "      <th>datetime_complete</th>\n",
       "      <th>duration</th>\n",
       "      <th>params_colsample_bytree</th>\n",
       "      <th>params_lambda_l1</th>\n",
       "      <th>params_lambda_l2</th>\n",
       "      <th>params_num_leaves</th>\n",
       "      <th>params_objective</th>\n",
       "      <th>state</th>\n",
       "    </tr>\n",
       "  </thead>\n",
       "  <tbody>\n",
       "    <tr>\n",
       "      <th>12</th>\n",
       "      <td>12</td>\n",
       "      <td>0.073877</td>\n",
       "      <td>2024-10-26 08:14:47.622270</td>\n",
       "      <td>2024-10-26 08:16:12.494486</td>\n",
       "      <td>0 days 00:01:24.872216</td>\n",
       "      <td>0.858214</td>\n",
       "      <td>7.744169</td>\n",
       "      <td>1.867196</td>\n",
       "      <td>100</td>\n",
       "      <td>regression_l1</td>\n",
       "      <td>COMPLETE</td>\n",
       "    </tr>\n",
       "    <tr>\n",
       "      <th>11</th>\n",
       "      <td>11</td>\n",
       "      <td>0.073903</td>\n",
       "      <td>2024-10-26 08:13:19.146745</td>\n",
       "      <td>2024-10-26 08:14:47.620269</td>\n",
       "      <td>0 days 00:01:28.473524</td>\n",
       "      <td>0.947029</td>\n",
       "      <td>7.719985</td>\n",
       "      <td>0.550396</td>\n",
       "      <td>100</td>\n",
       "      <td>regression_l1</td>\n",
       "      <td>COMPLETE</td>\n",
       "    </tr>\n",
       "    <tr>\n",
       "      <th>22</th>\n",
       "      <td>22</td>\n",
       "      <td>0.073993</td>\n",
       "      <td>2024-10-26 08:26:22.254759</td>\n",
       "      <td>2024-10-26 08:27:49.128422</td>\n",
       "      <td>0 days 00:01:26.873663</td>\n",
       "      <td>0.982502</td>\n",
       "      <td>8.840504</td>\n",
       "      <td>0.819291</td>\n",
       "      <td>89</td>\n",
       "      <td>regression_l1</td>\n",
       "      <td>COMPLETE</td>\n",
       "    </tr>\n",
       "    <tr>\n",
       "      <th>26</th>\n",
       "      <td>26</td>\n",
       "      <td>0.073996</td>\n",
       "      <td>2024-10-26 08:31:47.298719</td>\n",
       "      <td>2024-10-26 08:33:17.459890</td>\n",
       "      <td>0 days 00:01:30.161171</td>\n",
       "      <td>0.996273</td>\n",
       "      <td>5.991646</td>\n",
       "      <td>1.408906</td>\n",
       "      <td>96</td>\n",
       "      <td>regression_l1</td>\n",
       "      <td>COMPLETE</td>\n",
       "    </tr>\n",
       "    <tr>\n",
       "      <th>21</th>\n",
       "      <td>21</td>\n",
       "      <td>0.074028</td>\n",
       "      <td>2024-10-26 08:24:50.184739</td>\n",
       "      <td>2024-10-26 08:26:22.250753</td>\n",
       "      <td>0 days 00:01:32.066014</td>\n",
       "      <td>0.987354</td>\n",
       "      <td>8.387200</td>\n",
       "      <td>2.182660</td>\n",
       "      <td>89</td>\n",
       "      <td>regression_l1</td>\n",
       "      <td>COMPLETE</td>\n",
       "    </tr>\n",
       "  </tbody>\n",
       "</table>\n",
       "</div>"
      ],
      "text/plain": [
       "    number     value             datetime_start          datetime_complete  \\\n",
       "12      12  0.073877 2024-10-26 08:14:47.622270 2024-10-26 08:16:12.494486   \n",
       "11      11  0.073903 2024-10-26 08:13:19.146745 2024-10-26 08:14:47.620269   \n",
       "22      22  0.073993 2024-10-26 08:26:22.254759 2024-10-26 08:27:49.128422   \n",
       "26      26  0.073996 2024-10-26 08:31:47.298719 2024-10-26 08:33:17.459890   \n",
       "21      21  0.074028 2024-10-26 08:24:50.184739 2024-10-26 08:26:22.250753   \n",
       "\n",
       "                 duration  params_colsample_bytree  params_lambda_l1  \\\n",
       "12 0 days 00:01:24.872216                 0.858214          7.744169   \n",
       "11 0 days 00:01:28.473524                 0.947029          7.719985   \n",
       "22 0 days 00:01:26.873663                 0.982502          8.840504   \n",
       "26 0 days 00:01:30.161171                 0.996273          5.991646   \n",
       "21 0 days 00:01:32.066014                 0.987354          8.387200   \n",
       "\n",
       "    params_lambda_l2  params_num_leaves params_objective     state  \n",
       "12          1.867196                100    regression_l1  COMPLETE  \n",
       "11          0.550396                100    regression_l1  COMPLETE  \n",
       "22          0.819291                 89    regression_l1  COMPLETE  \n",
       "26          1.408906                 96    regression_l1  COMPLETE  \n",
       "21          2.182660                 89    regression_l1  COMPLETE  "
      ]
     },
     "execution_count": 43,
     "metadata": {},
     "output_type": "execute_result"
    }
   ],
   "source": [
    "bo_search_trials = study.trials_dataframe()\n",
    "best_params_bo = study.best_params\n",
    "best_score_bo = study.best_value\n",
    "bo_search_trials.sort_values(\"value\").head()"
   ]
  },
  {
   "cell_type": "code",
   "execution_count": 44,
   "id": "3ed49d44-3ec4-492d-a2e4-e4cf03da396f",
   "metadata": {},
   "outputs": [
    {
     "data": {
      "application/vnd.plotly.v1+json": {
       "config": {
        "plotlyServerURL": "https://plot.ly"
       },
       "data": [
        {
         "cliponaxis": false,
         "hovertemplate": [
          "colsample_bytree (FloatDistribution): 0.016422264155939236<extra></extra>",
          "lambda_l2 (FloatDistribution): 0.03240245170891676<extra></extra>",
          "num_leaves (IntDistribution): 0.07673310708928853<extra></extra>",
          "lambda_l1 (FloatDistribution): 0.0846851386762506<extra></extra>",
          "objective (CategoricalDistribution): 0.789757038369605<extra></extra>"
         ],
         "name": "Objective Value",
         "orientation": "h",
         "text": [
          "0.02",
          "0.03",
          "0.08",
          "0.08",
          "0.79"
         ],
         "textposition": "outside",
         "type": "bar",
         "x": [
          0.016422264155939236,
          0.03240245170891676,
          0.07673310708928853,
          0.0846851386762506,
          0.789757038369605
         ],
         "y": [
          "colsample_bytree",
          "lambda_l2",
          "num_leaves",
          "lambda_l1",
          "objective"
         ]
        }
       ],
       "layout": {
        "template": {
         "data": {
          "bar": [
           {
            "error_x": {
             "color": "#2a3f5f"
            },
            "error_y": {
             "color": "#2a3f5f"
            },
            "marker": {
             "line": {
              "color": "white",
              "width": 0.5
             },
             "pattern": {
              "fillmode": "overlay",
              "size": 10,
              "solidity": 0.2
             }
            },
            "type": "bar"
           }
          ],
          "barpolar": [
           {
            "marker": {
             "line": {
              "color": "white",
              "width": 0.5
             },
             "pattern": {
              "fillmode": "overlay",
              "size": 10,
              "solidity": 0.2
             }
            },
            "type": "barpolar"
           }
          ],
          "carpet": [
           {
            "aaxis": {
             "endlinecolor": "#2a3f5f",
             "gridcolor": "#C8D4E3",
             "linecolor": "#C8D4E3",
             "minorgridcolor": "#C8D4E3",
             "startlinecolor": "#2a3f5f"
            },
            "baxis": {
             "endlinecolor": "#2a3f5f",
             "gridcolor": "#C8D4E3",
             "linecolor": "#C8D4E3",
             "minorgridcolor": "#C8D4E3",
             "startlinecolor": "#2a3f5f"
            },
            "type": "carpet"
           }
          ],
          "choropleth": [
           {
            "colorbar": {
             "outlinewidth": 0,
             "ticks": ""
            },
            "type": "choropleth"
           }
          ],
          "contour": [
           {
            "colorbar": {
             "outlinewidth": 0,
             "ticks": ""
            },
            "colorscale": [
             [
              0,
              "#0d0887"
             ],
             [
              0.1111111111111111,
              "#46039f"
             ],
             [
              0.2222222222222222,
              "#7201a8"
             ],
             [
              0.3333333333333333,
              "#9c179e"
             ],
             [
              0.4444444444444444,
              "#bd3786"
             ],
             [
              0.5555555555555556,
              "#d8576b"
             ],
             [
              0.6666666666666666,
              "#ed7953"
             ],
             [
              0.7777777777777778,
              "#fb9f3a"
             ],
             [
              0.8888888888888888,
              "#fdca26"
             ],
             [
              1,
              "#f0f921"
             ]
            ],
            "type": "contour"
           }
          ],
          "contourcarpet": [
           {
            "colorbar": {
             "outlinewidth": 0,
             "ticks": ""
            },
            "type": "contourcarpet"
           }
          ],
          "heatmap": [
           {
            "colorbar": {
             "outlinewidth": 0,
             "ticks": ""
            },
            "colorscale": [
             [
              0,
              "#0d0887"
             ],
             [
              0.1111111111111111,
              "#46039f"
             ],
             [
              0.2222222222222222,
              "#7201a8"
             ],
             [
              0.3333333333333333,
              "#9c179e"
             ],
             [
              0.4444444444444444,
              "#bd3786"
             ],
             [
              0.5555555555555556,
              "#d8576b"
             ],
             [
              0.6666666666666666,
              "#ed7953"
             ],
             [
              0.7777777777777778,
              "#fb9f3a"
             ],
             [
              0.8888888888888888,
              "#fdca26"
             ],
             [
              1,
              "#f0f921"
             ]
            ],
            "type": "heatmap"
           }
          ],
          "heatmapgl": [
           {
            "colorbar": {
             "outlinewidth": 0,
             "ticks": ""
            },
            "colorscale": [
             [
              0,
              "#0d0887"
             ],
             [
              0.1111111111111111,
              "#46039f"
             ],
             [
              0.2222222222222222,
              "#7201a8"
             ],
             [
              0.3333333333333333,
              "#9c179e"
             ],
             [
              0.4444444444444444,
              "#bd3786"
             ],
             [
              0.5555555555555556,
              "#d8576b"
             ],
             [
              0.6666666666666666,
              "#ed7953"
             ],
             [
              0.7777777777777778,
              "#fb9f3a"
             ],
             [
              0.8888888888888888,
              "#fdca26"
             ],
             [
              1,
              "#f0f921"
             ]
            ],
            "type": "heatmapgl"
           }
          ],
          "histogram": [
           {
            "marker": {
             "pattern": {
              "fillmode": "overlay",
              "size": 10,
              "solidity": 0.2
             }
            },
            "type": "histogram"
           }
          ],
          "histogram2d": [
           {
            "colorbar": {
             "outlinewidth": 0,
             "ticks": ""
            },
            "colorscale": [
             [
              0,
              "#0d0887"
             ],
             [
              0.1111111111111111,
              "#46039f"
             ],
             [
              0.2222222222222222,
              "#7201a8"
             ],
             [
              0.3333333333333333,
              "#9c179e"
             ],
             [
              0.4444444444444444,
              "#bd3786"
             ],
             [
              0.5555555555555556,
              "#d8576b"
             ],
             [
              0.6666666666666666,
              "#ed7953"
             ],
             [
              0.7777777777777778,
              "#fb9f3a"
             ],
             [
              0.8888888888888888,
              "#fdca26"
             ],
             [
              1,
              "#f0f921"
             ]
            ],
            "type": "histogram2d"
           }
          ],
          "histogram2dcontour": [
           {
            "colorbar": {
             "outlinewidth": 0,
             "ticks": ""
            },
            "colorscale": [
             [
              0,
              "#0d0887"
             ],
             [
              0.1111111111111111,
              "#46039f"
             ],
             [
              0.2222222222222222,
              "#7201a8"
             ],
             [
              0.3333333333333333,
              "#9c179e"
             ],
             [
              0.4444444444444444,
              "#bd3786"
             ],
             [
              0.5555555555555556,
              "#d8576b"
             ],
             [
              0.6666666666666666,
              "#ed7953"
             ],
             [
              0.7777777777777778,
              "#fb9f3a"
             ],
             [
              0.8888888888888888,
              "#fdca26"
             ],
             [
              1,
              "#f0f921"
             ]
            ],
            "type": "histogram2dcontour"
           }
          ],
          "mesh3d": [
           {
            "colorbar": {
             "outlinewidth": 0,
             "ticks": ""
            },
            "type": "mesh3d"
           }
          ],
          "parcoords": [
           {
            "line": {
             "colorbar": {
              "outlinewidth": 0,
              "ticks": ""
             }
            },
            "type": "parcoords"
           }
          ],
          "pie": [
           {
            "automargin": true,
            "type": "pie"
           }
          ],
          "scatter": [
           {
            "fillpattern": {
             "fillmode": "overlay",
             "size": 10,
             "solidity": 0.2
            },
            "type": "scatter"
           }
          ],
          "scatter3d": [
           {
            "line": {
             "colorbar": {
              "outlinewidth": 0,
              "ticks": ""
             }
            },
            "marker": {
             "colorbar": {
              "outlinewidth": 0,
              "ticks": ""
             }
            },
            "type": "scatter3d"
           }
          ],
          "scattercarpet": [
           {
            "marker": {
             "colorbar": {
              "outlinewidth": 0,
              "ticks": ""
             }
            },
            "type": "scattercarpet"
           }
          ],
          "scattergeo": [
           {
            "marker": {
             "colorbar": {
              "outlinewidth": 0,
              "ticks": ""
             }
            },
            "type": "scattergeo"
           }
          ],
          "scattergl": [
           {
            "marker": {
             "colorbar": {
              "outlinewidth": 0,
              "ticks": ""
             }
            },
            "type": "scattergl"
           }
          ],
          "scattermapbox": [
           {
            "marker": {
             "colorbar": {
              "outlinewidth": 0,
              "ticks": ""
             }
            },
            "type": "scattermapbox"
           }
          ],
          "scatterpolar": [
           {
            "marker": {
             "colorbar": {
              "outlinewidth": 0,
              "ticks": ""
             }
            },
            "type": "scatterpolar"
           }
          ],
          "scatterpolargl": [
           {
            "marker": {
             "colorbar": {
              "outlinewidth": 0,
              "ticks": ""
             }
            },
            "type": "scatterpolargl"
           }
          ],
          "scatterternary": [
           {
            "marker": {
             "colorbar": {
              "outlinewidth": 0,
              "ticks": ""
             }
            },
            "type": "scatterternary"
           }
          ],
          "surface": [
           {
            "colorbar": {
             "outlinewidth": 0,
             "ticks": ""
            },
            "colorscale": [
             [
              0,
              "#0d0887"
             ],
             [
              0.1111111111111111,
              "#46039f"
             ],
             [
              0.2222222222222222,
              "#7201a8"
             ],
             [
              0.3333333333333333,
              "#9c179e"
             ],
             [
              0.4444444444444444,
              "#bd3786"
             ],
             [
              0.5555555555555556,
              "#d8576b"
             ],
             [
              0.6666666666666666,
              "#ed7953"
             ],
             [
              0.7777777777777778,
              "#fb9f3a"
             ],
             [
              0.8888888888888888,
              "#fdca26"
             ],
             [
              1,
              "#f0f921"
             ]
            ],
            "type": "surface"
           }
          ],
          "table": [
           {
            "cells": {
             "fill": {
              "color": "#EBF0F8"
             },
             "line": {
              "color": "white"
             }
            },
            "header": {
             "fill": {
              "color": "#C8D4E3"
             },
             "line": {
              "color": "white"
             }
            },
            "type": "table"
           }
          ]
         },
         "layout": {
          "annotationdefaults": {
           "arrowcolor": "#2a3f5f",
           "arrowhead": 0,
           "arrowwidth": 1
          },
          "autotypenumbers": "strict",
          "coloraxis": {
           "colorbar": {
            "outlinewidth": 0,
            "ticks": ""
           }
          },
          "colorscale": {
           "diverging": [
            [
             0,
             "#8e0152"
            ],
            [
             0.1,
             "#c51b7d"
            ],
            [
             0.2,
             "#de77ae"
            ],
            [
             0.3,
             "#f1b6da"
            ],
            [
             0.4,
             "#fde0ef"
            ],
            [
             0.5,
             "#f7f7f7"
            ],
            [
             0.6,
             "#e6f5d0"
            ],
            [
             0.7,
             "#b8e186"
            ],
            [
             0.8,
             "#7fbc41"
            ],
            [
             0.9,
             "#4d9221"
            ],
            [
             1,
             "#276419"
            ]
           ],
           "sequential": [
            [
             0,
             "#0d0887"
            ],
            [
             0.1111111111111111,
             "#46039f"
            ],
            [
             0.2222222222222222,
             "#7201a8"
            ],
            [
             0.3333333333333333,
             "#9c179e"
            ],
            [
             0.4444444444444444,
             "#bd3786"
            ],
            [
             0.5555555555555556,
             "#d8576b"
            ],
            [
             0.6666666666666666,
             "#ed7953"
            ],
            [
             0.7777777777777778,
             "#fb9f3a"
            ],
            [
             0.8888888888888888,
             "#fdca26"
            ],
            [
             1,
             "#f0f921"
            ]
           ],
           "sequentialminus": [
            [
             0,
             "#0d0887"
            ],
            [
             0.1111111111111111,
             "#46039f"
            ],
            [
             0.2222222222222222,
             "#7201a8"
            ],
            [
             0.3333333333333333,
             "#9c179e"
            ],
            [
             0.4444444444444444,
             "#bd3786"
            ],
            [
             0.5555555555555556,
             "#d8576b"
            ],
            [
             0.6666666666666666,
             "#ed7953"
            ],
            [
             0.7777777777777778,
             "#fb9f3a"
            ],
            [
             0.8888888888888888,
             "#fdca26"
            ],
            [
             1,
             "#f0f921"
            ]
           ]
          },
          "colorway": [
           "#636efa",
           "#EF553B",
           "#00cc96",
           "#ab63fa",
           "#FFA15A",
           "#19d3f3",
           "#FF6692",
           "#B6E880",
           "#FF97FF",
           "#FECB52"
          ],
          "font": {
           "color": "#2a3f5f"
          },
          "geo": {
           "bgcolor": "white",
           "lakecolor": "white",
           "landcolor": "white",
           "showlakes": true,
           "showland": true,
           "subunitcolor": "#C8D4E3"
          },
          "hoverlabel": {
           "align": "left"
          },
          "hovermode": "closest",
          "mapbox": {
           "style": "light"
          },
          "paper_bgcolor": "white",
          "plot_bgcolor": "white",
          "polar": {
           "angularaxis": {
            "gridcolor": "#EBF0F8",
            "linecolor": "#EBF0F8",
            "ticks": ""
           },
           "bgcolor": "white",
           "radialaxis": {
            "gridcolor": "#EBF0F8",
            "linecolor": "#EBF0F8",
            "ticks": ""
           }
          },
          "scene": {
           "xaxis": {
            "backgroundcolor": "white",
            "gridcolor": "#DFE8F3",
            "gridwidth": 2,
            "linecolor": "#EBF0F8",
            "showbackground": true,
            "ticks": "",
            "zerolinecolor": "#EBF0F8"
           },
           "yaxis": {
            "backgroundcolor": "white",
            "gridcolor": "#DFE8F3",
            "gridwidth": 2,
            "linecolor": "#EBF0F8",
            "showbackground": true,
            "ticks": "",
            "zerolinecolor": "#EBF0F8"
           },
           "zaxis": {
            "backgroundcolor": "white",
            "gridcolor": "#DFE8F3",
            "gridwidth": 2,
            "linecolor": "#EBF0F8",
            "showbackground": true,
            "ticks": "",
            "zerolinecolor": "#EBF0F8"
           }
          },
          "shapedefaults": {
           "line": {
            "color": "#2a3f5f"
           }
          },
          "ternary": {
           "aaxis": {
            "gridcolor": "#DFE8F3",
            "linecolor": "#A2B1C6",
            "ticks": ""
           },
           "baxis": {
            "gridcolor": "#DFE8F3",
            "linecolor": "#A2B1C6",
            "ticks": ""
           },
           "bgcolor": "white",
           "caxis": {
            "gridcolor": "#DFE8F3",
            "linecolor": "#A2B1C6",
            "ticks": ""
           }
          },
          "title": {
           "x": 0.05
          },
          "xaxis": {
           "automargin": true,
           "gridcolor": "#EBF0F8",
           "linecolor": "#EBF0F8",
           "ticks": "",
           "title": {
            "standoff": 15
           },
           "zerolinecolor": "#EBF0F8",
           "zerolinewidth": 2
          },
          "yaxis": {
           "automargin": true,
           "gridcolor": "#EBF0F8",
           "linecolor": "#EBF0F8",
           "ticks": "",
           "title": {
            "standoff": 15
           },
           "zerolinecolor": "#EBF0F8",
           "zerolinewidth": 2
          }
         }
        },
        "title": {
         "text": "Hyperparameter Importances"
        },
        "xaxis": {
         "title": {
          "text": "Hyperparameter Importance"
         }
        },
        "yaxis": {
         "title": {
          "text": "Hyperparameter"
         }
        }
       }
      }
     },
     "metadata": {},
     "output_type": "display_data"
    }
   ],
   "source": [
    "fig = optuna.visualization.plot_param_importances(study)\n",
    "fig.show()"
   ]
  },
  {
   "cell_type": "markdown",
   "id": "7627d20d-292e-4574-93e7-7c264c05fc13",
   "metadata": {
    "jp-MarkdownHeadingCollapsed": true,
    "tags": []
   },
   "source": [
    "### Hyperparameter Tuning Techniques (Comparison)"
   ]
  },
  {
   "cell_type": "code",
   "execution_count": 45,
   "id": "a341474c-a7c7-4201-abc7-60014105fb20",
   "metadata": {},
   "outputs": [],
   "source": [
    "def plot_optimization_history(trials_df):\n",
    "    plot_df = trials_df.sort_index()\n",
    "    plot_df['best'] = plot_df.score.expanding().min()\n",
    "\n",
    "    x = plot_df.reset_index().index\n",
    "    fig = go.Figure(layout=dict(title=\"Optimization History Plot\"))\n",
    "\n",
    "    fig.add_trace(\n",
    "        go.Scatter(\n",
    "            x=x,\n",
    "            y=plot_df.score,\n",
    "            mode='markers',\n",
    "            name=\"Objective\"\n",
    "        ))\n",
    "\n",
    "    fig.add_trace(\n",
    "        go.Scatter(\n",
    "            x=x,\n",
    "            y=plot_df.best,\n",
    "            mode='lines',\n",
    "            name=\"Best Value\"\n",
    "        ))\n",
    "\n",
    "    return fig"
   ]
  },
  {
   "cell_type": "code",
   "execution_count": 46,
   "id": "0d6e332d-728e-4268-9f99-72fb4aa922ab",
   "metadata": {},
   "outputs": [
    {
     "data": {
      "application/vnd.plotly.v1+json": {
       "config": {
        "plotlyServerURL": "https://plot.ly"
       },
       "data": [
        {
         "mode": "markers",
         "name": "Objective",
         "type": "scatter",
         "x": [
          0,
          1,
          2,
          3,
          4,
          5,
          6,
          7,
          8,
          9,
          10,
          11,
          12,
          13,
          14,
          15,
          16,
          17,
          18,
          19,
          20,
          21,
          22,
          23,
          24,
          25,
          26
         ],
         "y": [
          0.08084866667994198,
          0.07734503570288655,
          0.08038182320966986,
          0.0795963460213354,
          0.07595277948059327,
          0.07912640129003023,
          0.07855733820600122,
          0.07476549757328992,
          0.07802710163587509,
          0.08069776965136365,
          0.07701249101584962,
          0.08025664964839663,
          0.07930867780728781,
          0.0755692238101561,
          0.07887644900631435,
          0.0784025076804603,
          0.07443432205083593,
          0.07775523119913039,
          0.08052695675747042,
          0.07681635091325674,
          0.08028182567670578,
          0.0793382982060365,
          0.07570645669285175,
          0.07881731424836964,
          0.07835498019901062,
          0.07470831986277864,
          0.07783377297274938
         ]
        },
        {
         "mode": "lines",
         "name": "Best Value",
         "type": "scatter",
         "x": [
          0,
          1,
          2,
          3,
          4,
          5,
          6,
          7,
          8,
          9,
          10,
          11,
          12,
          13,
          14,
          15,
          16,
          17,
          18,
          19,
          20,
          21,
          22,
          23,
          24,
          25,
          26
         ],
         "y": [
          0.08084866667994198,
          0.07734503570288655,
          0.07734503570288655,
          0.07734503570288655,
          0.07595277948059327,
          0.07595277948059327,
          0.07595277948059327,
          0.07476549757328992,
          0.07476549757328992,
          0.07476549757328992,
          0.07476549757328992,
          0.07476549757328992,
          0.07476549757328992,
          0.07476549757328992,
          0.07476549757328992,
          0.07476549757328992,
          0.07443432205083593,
          0.07443432205083593,
          0.07443432205083593,
          0.07443432205083593,
          0.07443432205083593,
          0.07443432205083593,
          0.07443432205083593,
          0.07443432205083593,
          0.07443432205083593,
          0.07443432205083593,
          0.07443432205083593
         ]
        }
       ],
       "layout": {
        "autosize": false,
        "height": 500,
        "legend": {
         "font": {
          "size": 15
         },
         "orientation": "h",
         "title": {},
         "x": 1,
         "xanchor": "right",
         "y": 0.9,
         "yanchor": "bottom"
        },
        "template": {
         "data": {
          "bar": [
           {
            "error_x": {
             "color": "#2a3f5f"
            },
            "error_y": {
             "color": "#2a3f5f"
            },
            "marker": {
             "line": {
              "color": "white",
              "width": 0.5
             },
             "pattern": {
              "fillmode": "overlay",
              "size": 10,
              "solidity": 0.2
             }
            },
            "type": "bar"
           }
          ],
          "barpolar": [
           {
            "marker": {
             "line": {
              "color": "white",
              "width": 0.5
             },
             "pattern": {
              "fillmode": "overlay",
              "size": 10,
              "solidity": 0.2
             }
            },
            "type": "barpolar"
           }
          ],
          "carpet": [
           {
            "aaxis": {
             "endlinecolor": "#2a3f5f",
             "gridcolor": "#C8D4E3",
             "linecolor": "#C8D4E3",
             "minorgridcolor": "#C8D4E3",
             "startlinecolor": "#2a3f5f"
            },
            "baxis": {
             "endlinecolor": "#2a3f5f",
             "gridcolor": "#C8D4E3",
             "linecolor": "#C8D4E3",
             "minorgridcolor": "#C8D4E3",
             "startlinecolor": "#2a3f5f"
            },
            "type": "carpet"
           }
          ],
          "choropleth": [
           {
            "colorbar": {
             "outlinewidth": 0,
             "ticks": ""
            },
            "type": "choropleth"
           }
          ],
          "contour": [
           {
            "colorbar": {
             "outlinewidth": 0,
             "ticks": ""
            },
            "colorscale": [
             [
              0,
              "#0d0887"
             ],
             [
              0.1111111111111111,
              "#46039f"
             ],
             [
              0.2222222222222222,
              "#7201a8"
             ],
             [
              0.3333333333333333,
              "#9c179e"
             ],
             [
              0.4444444444444444,
              "#bd3786"
             ],
             [
              0.5555555555555556,
              "#d8576b"
             ],
             [
              0.6666666666666666,
              "#ed7953"
             ],
             [
              0.7777777777777778,
              "#fb9f3a"
             ],
             [
              0.8888888888888888,
              "#fdca26"
             ],
             [
              1,
              "#f0f921"
             ]
            ],
            "type": "contour"
           }
          ],
          "contourcarpet": [
           {
            "colorbar": {
             "outlinewidth": 0,
             "ticks": ""
            },
            "type": "contourcarpet"
           }
          ],
          "heatmap": [
           {
            "colorbar": {
             "outlinewidth": 0,
             "ticks": ""
            },
            "colorscale": [
             [
              0,
              "#0d0887"
             ],
             [
              0.1111111111111111,
              "#46039f"
             ],
             [
              0.2222222222222222,
              "#7201a8"
             ],
             [
              0.3333333333333333,
              "#9c179e"
             ],
             [
              0.4444444444444444,
              "#bd3786"
             ],
             [
              0.5555555555555556,
              "#d8576b"
             ],
             [
              0.6666666666666666,
              "#ed7953"
             ],
             [
              0.7777777777777778,
              "#fb9f3a"
             ],
             [
              0.8888888888888888,
              "#fdca26"
             ],
             [
              1,
              "#f0f921"
             ]
            ],
            "type": "heatmap"
           }
          ],
          "heatmapgl": [
           {
            "colorbar": {
             "outlinewidth": 0,
             "ticks": ""
            },
            "colorscale": [
             [
              0,
              "#0d0887"
             ],
             [
              0.1111111111111111,
              "#46039f"
             ],
             [
              0.2222222222222222,
              "#7201a8"
             ],
             [
              0.3333333333333333,
              "#9c179e"
             ],
             [
              0.4444444444444444,
              "#bd3786"
             ],
             [
              0.5555555555555556,
              "#d8576b"
             ],
             [
              0.6666666666666666,
              "#ed7953"
             ],
             [
              0.7777777777777778,
              "#fb9f3a"
             ],
             [
              0.8888888888888888,
              "#fdca26"
             ],
             [
              1,
              "#f0f921"
             ]
            ],
            "type": "heatmapgl"
           }
          ],
          "histogram": [
           {
            "marker": {
             "pattern": {
              "fillmode": "overlay",
              "size": 10,
              "solidity": 0.2
             }
            },
            "type": "histogram"
           }
          ],
          "histogram2d": [
           {
            "colorbar": {
             "outlinewidth": 0,
             "ticks": ""
            },
            "colorscale": [
             [
              0,
              "#0d0887"
             ],
             [
              0.1111111111111111,
              "#46039f"
             ],
             [
              0.2222222222222222,
              "#7201a8"
             ],
             [
              0.3333333333333333,
              "#9c179e"
             ],
             [
              0.4444444444444444,
              "#bd3786"
             ],
             [
              0.5555555555555556,
              "#d8576b"
             ],
             [
              0.6666666666666666,
              "#ed7953"
             ],
             [
              0.7777777777777778,
              "#fb9f3a"
             ],
             [
              0.8888888888888888,
              "#fdca26"
             ],
             [
              1,
              "#f0f921"
             ]
            ],
            "type": "histogram2d"
           }
          ],
          "histogram2dcontour": [
           {
            "colorbar": {
             "outlinewidth": 0,
             "ticks": ""
            },
            "colorscale": [
             [
              0,
              "#0d0887"
             ],
             [
              0.1111111111111111,
              "#46039f"
             ],
             [
              0.2222222222222222,
              "#7201a8"
             ],
             [
              0.3333333333333333,
              "#9c179e"
             ],
             [
              0.4444444444444444,
              "#bd3786"
             ],
             [
              0.5555555555555556,
              "#d8576b"
             ],
             [
              0.6666666666666666,
              "#ed7953"
             ],
             [
              0.7777777777777778,
              "#fb9f3a"
             ],
             [
              0.8888888888888888,
              "#fdca26"
             ],
             [
              1,
              "#f0f921"
             ]
            ],
            "type": "histogram2dcontour"
           }
          ],
          "mesh3d": [
           {
            "colorbar": {
             "outlinewidth": 0,
             "ticks": ""
            },
            "type": "mesh3d"
           }
          ],
          "parcoords": [
           {
            "line": {
             "colorbar": {
              "outlinewidth": 0,
              "ticks": ""
             }
            },
            "type": "parcoords"
           }
          ],
          "pie": [
           {
            "automargin": true,
            "type": "pie"
           }
          ],
          "scatter": [
           {
            "fillpattern": {
             "fillmode": "overlay",
             "size": 10,
             "solidity": 0.2
            },
            "type": "scatter"
           }
          ],
          "scatter3d": [
           {
            "line": {
             "colorbar": {
              "outlinewidth": 0,
              "ticks": ""
             }
            },
            "marker": {
             "colorbar": {
              "outlinewidth": 0,
              "ticks": ""
             }
            },
            "type": "scatter3d"
           }
          ],
          "scattercarpet": [
           {
            "marker": {
             "colorbar": {
              "outlinewidth": 0,
              "ticks": ""
             }
            },
            "type": "scattercarpet"
           }
          ],
          "scattergeo": [
           {
            "marker": {
             "colorbar": {
              "outlinewidth": 0,
              "ticks": ""
             }
            },
            "type": "scattergeo"
           }
          ],
          "scattergl": [
           {
            "marker": {
             "colorbar": {
              "outlinewidth": 0,
              "ticks": ""
             }
            },
            "type": "scattergl"
           }
          ],
          "scattermapbox": [
           {
            "marker": {
             "colorbar": {
              "outlinewidth": 0,
              "ticks": ""
             }
            },
            "type": "scattermapbox"
           }
          ],
          "scatterpolar": [
           {
            "marker": {
             "colorbar": {
              "outlinewidth": 0,
              "ticks": ""
             }
            },
            "type": "scatterpolar"
           }
          ],
          "scatterpolargl": [
           {
            "marker": {
             "colorbar": {
              "outlinewidth": 0,
              "ticks": ""
             }
            },
            "type": "scatterpolargl"
           }
          ],
          "scatterternary": [
           {
            "marker": {
             "colorbar": {
              "outlinewidth": 0,
              "ticks": ""
             }
            },
            "type": "scatterternary"
           }
          ],
          "surface": [
           {
            "colorbar": {
             "outlinewidth": 0,
             "ticks": ""
            },
            "colorscale": [
             [
              0,
              "#0d0887"
             ],
             [
              0.1111111111111111,
              "#46039f"
             ],
             [
              0.2222222222222222,
              "#7201a8"
             ],
             [
              0.3333333333333333,
              "#9c179e"
             ],
             [
              0.4444444444444444,
              "#bd3786"
             ],
             [
              0.5555555555555556,
              "#d8576b"
             ],
             [
              0.6666666666666666,
              "#ed7953"
             ],
             [
              0.7777777777777778,
              "#fb9f3a"
             ],
             [
              0.8888888888888888,
              "#fdca26"
             ],
             [
              1,
              "#f0f921"
             ]
            ],
            "type": "surface"
           }
          ],
          "table": [
           {
            "cells": {
             "fill": {
              "color": "#EBF0F8"
             },
             "line": {
              "color": "white"
             }
            },
            "header": {
             "fill": {
              "color": "#C8D4E3"
             },
             "line": {
              "color": "white"
             }
            },
            "type": "table"
           }
          ]
         },
         "layout": {
          "annotationdefaults": {
           "arrowcolor": "#2a3f5f",
           "arrowhead": 0,
           "arrowwidth": 1
          },
          "autotypenumbers": "strict",
          "coloraxis": {
           "colorbar": {
            "outlinewidth": 0,
            "ticks": ""
           }
          },
          "colorscale": {
           "diverging": [
            [
             0,
             "#8e0152"
            ],
            [
             0.1,
             "#c51b7d"
            ],
            [
             0.2,
             "#de77ae"
            ],
            [
             0.3,
             "#f1b6da"
            ],
            [
             0.4,
             "#fde0ef"
            ],
            [
             0.5,
             "#f7f7f7"
            ],
            [
             0.6,
             "#e6f5d0"
            ],
            [
             0.7,
             "#b8e186"
            ],
            [
             0.8,
             "#7fbc41"
            ],
            [
             0.9,
             "#4d9221"
            ],
            [
             1,
             "#276419"
            ]
           ],
           "sequential": [
            [
             0,
             "#0d0887"
            ],
            [
             0.1111111111111111,
             "#46039f"
            ],
            [
             0.2222222222222222,
             "#7201a8"
            ],
            [
             0.3333333333333333,
             "#9c179e"
            ],
            [
             0.4444444444444444,
             "#bd3786"
            ],
            [
             0.5555555555555556,
             "#d8576b"
            ],
            [
             0.6666666666666666,
             "#ed7953"
            ],
            [
             0.7777777777777778,
             "#fb9f3a"
            ],
            [
             0.8888888888888888,
             "#fdca26"
            ],
            [
             1,
             "#f0f921"
            ]
           ],
           "sequentialminus": [
            [
             0,
             "#0d0887"
            ],
            [
             0.1111111111111111,
             "#46039f"
            ],
            [
             0.2222222222222222,
             "#7201a8"
            ],
            [
             0.3333333333333333,
             "#9c179e"
            ],
            [
             0.4444444444444444,
             "#bd3786"
            ],
            [
             0.5555555555555556,
             "#d8576b"
            ],
            [
             0.6666666666666666,
             "#ed7953"
            ],
            [
             0.7777777777777778,
             "#fb9f3a"
            ],
            [
             0.8888888888888888,
             "#fdca26"
            ],
            [
             1,
             "#f0f921"
            ]
           ]
          },
          "colorway": [
           "#636efa",
           "#EF553B",
           "#00cc96",
           "#ab63fa",
           "#FFA15A",
           "#19d3f3",
           "#FF6692",
           "#B6E880",
           "#FF97FF",
           "#FECB52"
          ],
          "font": {
           "color": "#2a3f5f"
          },
          "geo": {
           "bgcolor": "white",
           "lakecolor": "white",
           "landcolor": "white",
           "showlakes": true,
           "showland": true,
           "subunitcolor": "#C8D4E3"
          },
          "hoverlabel": {
           "align": "left"
          },
          "hovermode": "closest",
          "mapbox": {
           "style": "light"
          },
          "paper_bgcolor": "white",
          "plot_bgcolor": "white",
          "polar": {
           "angularaxis": {
            "gridcolor": "#EBF0F8",
            "linecolor": "#EBF0F8",
            "ticks": ""
           },
           "bgcolor": "white",
           "radialaxis": {
            "gridcolor": "#EBF0F8",
            "linecolor": "#EBF0F8",
            "ticks": ""
           }
          },
          "scene": {
           "xaxis": {
            "backgroundcolor": "white",
            "gridcolor": "#DFE8F3",
            "gridwidth": 2,
            "linecolor": "#EBF0F8",
            "showbackground": true,
            "ticks": "",
            "zerolinecolor": "#EBF0F8"
           },
           "yaxis": {
            "backgroundcolor": "white",
            "gridcolor": "#DFE8F3",
            "gridwidth": 2,
            "linecolor": "#EBF0F8",
            "showbackground": true,
            "ticks": "",
            "zerolinecolor": "#EBF0F8"
           },
           "zaxis": {
            "backgroundcolor": "white",
            "gridcolor": "#DFE8F3",
            "gridwidth": 2,
            "linecolor": "#EBF0F8",
            "showbackground": true,
            "ticks": "",
            "zerolinecolor": "#EBF0F8"
           }
          },
          "shapedefaults": {
           "line": {
            "color": "#2a3f5f"
           }
          },
          "ternary": {
           "aaxis": {
            "gridcolor": "#DFE8F3",
            "linecolor": "#A2B1C6",
            "ticks": ""
           },
           "baxis": {
            "gridcolor": "#DFE8F3",
            "linecolor": "#A2B1C6",
            "ticks": ""
           },
           "bgcolor": "white",
           "caxis": {
            "gridcolor": "#DFE8F3",
            "linecolor": "#A2B1C6",
            "ticks": ""
           }
          },
          "title": {
           "x": 0.05
          },
          "xaxis": {
           "automargin": true,
           "gridcolor": "#EBF0F8",
           "linecolor": "#EBF0F8",
           "ticks": "",
           "title": {
            "standoff": 15
           },
           "zerolinecolor": "#EBF0F8",
           "zerolinewidth": 2
          },
          "yaxis": {
           "automargin": true,
           "gridcolor": "#EBF0F8",
           "linecolor": "#EBF0F8",
           "ticks": "",
           "title": {
            "standoff": 15
           },
           "zerolinecolor": "#EBF0F8",
           "zerolinewidth": 2
          }
         }
        },
        "title": {
         "font": {
          "size": 20
         },
         "text": "Optimization History Plot (Grid Search)",
         "x": 0.5,
         "xanchor": "center",
         "yanchor": "top"
        },
        "width": 900,
        "xaxis": {
         "tickfont": {
          "size": 15
         },
         "title": {
          "font": {
           "size": 15
          },
          "text": "# Trials"
         }
        },
        "yaxis": {
         "tickfont": {
          "size": 15
         },
         "title": {
          "font": {
           "size": 15
          },
          "text": "Objective Value"
         }
        }
       }
      }
     },
     "metadata": {},
     "output_type": "display_data"
    }
   ],
   "source": [
    "fig = plot_optimization_history(grid_search_trials)\n",
    "fig = format_plot(fig, xlabel=\"# Trials\", ylabel=\"Objective Value\", title=\"Optimization History Plot (Grid Search)\")\n",
    "fig.write_image(\"imgs/chapter_10/opt_history_gs.png\")\n",
    "fig.show()"
   ]
  },
  {
   "cell_type": "code",
   "execution_count": 47,
   "id": "3efba200-b06a-4f6d-85f9-a757c45648e1",
   "metadata": {},
   "outputs": [
    {
     "data": {
      "application/vnd.plotly.v1+json": {
       "config": {
        "plotlyServerURL": "https://plot.ly"
       },
       "data": [
        {
         "mode": "markers",
         "name": "Objective",
         "type": "scatter",
         "x": [
          0,
          1,
          2,
          3,
          4,
          5,
          6,
          7,
          8,
          9,
          10,
          11,
          12,
          13,
          14,
          15,
          16,
          17,
          18,
          19,
          20,
          21,
          22,
          23,
          24,
          25,
          26
         ],
         "y": [
          0.07955403220718371,
          0.07736809763243717,
          0.07870317466359875,
          0.07428345041602065,
          0.07842270767583,
          0.0802518584355335,
          0.07753565075436457,
          0.07722410420094669,
          0.0775006520456515,
          0.08119455435411249,
          0.07807788454372212,
          0.07558111034779408,
          0.07564009058435266,
          0.07821917393317031,
          0.0779739308941917,
          0.07832665429589383,
          0.07834959577392664,
          0.07609028090233963,
          0.07776415085352853,
          0.07811965254594529,
          0.07543208160347635,
          0.0785034121845741,
          0.07786721683556229,
          0.07737682807749785,
          0.07818109683131125,
          0.07980178899525436,
          0.078837715410061
         ]
        },
        {
         "mode": "lines",
         "name": "Best Value",
         "type": "scatter",
         "x": [
          0,
          1,
          2,
          3,
          4,
          5,
          6,
          7,
          8,
          9,
          10,
          11,
          12,
          13,
          14,
          15,
          16,
          17,
          18,
          19,
          20,
          21,
          22,
          23,
          24,
          25,
          26
         ],
         "y": [
          0.07955403220718371,
          0.07736809763243717,
          0.07736809763243717,
          0.07428345041602065,
          0.07428345041602065,
          0.07428345041602065,
          0.07428345041602065,
          0.07428345041602065,
          0.07428345041602065,
          0.07428345041602065,
          0.07428345041602065,
          0.07428345041602065,
          0.07428345041602065,
          0.07428345041602065,
          0.07428345041602065,
          0.07428345041602065,
          0.07428345041602065,
          0.07428345041602065,
          0.07428345041602065,
          0.07428345041602065,
          0.07428345041602065,
          0.07428345041602065,
          0.07428345041602065,
          0.07428345041602065,
          0.07428345041602065,
          0.07428345041602065,
          0.07428345041602065
         ]
        }
       ],
       "layout": {
        "autosize": false,
        "height": 500,
        "legend": {
         "font": {
          "size": 15
         },
         "orientation": "h",
         "title": {},
         "x": 1,
         "xanchor": "right",
         "y": 0.9,
         "yanchor": "bottom"
        },
        "template": {
         "data": {
          "bar": [
           {
            "error_x": {
             "color": "#2a3f5f"
            },
            "error_y": {
             "color": "#2a3f5f"
            },
            "marker": {
             "line": {
              "color": "white",
              "width": 0.5
             },
             "pattern": {
              "fillmode": "overlay",
              "size": 10,
              "solidity": 0.2
             }
            },
            "type": "bar"
           }
          ],
          "barpolar": [
           {
            "marker": {
             "line": {
              "color": "white",
              "width": 0.5
             },
             "pattern": {
              "fillmode": "overlay",
              "size": 10,
              "solidity": 0.2
             }
            },
            "type": "barpolar"
           }
          ],
          "carpet": [
           {
            "aaxis": {
             "endlinecolor": "#2a3f5f",
             "gridcolor": "#C8D4E3",
             "linecolor": "#C8D4E3",
             "minorgridcolor": "#C8D4E3",
             "startlinecolor": "#2a3f5f"
            },
            "baxis": {
             "endlinecolor": "#2a3f5f",
             "gridcolor": "#C8D4E3",
             "linecolor": "#C8D4E3",
             "minorgridcolor": "#C8D4E3",
             "startlinecolor": "#2a3f5f"
            },
            "type": "carpet"
           }
          ],
          "choropleth": [
           {
            "colorbar": {
             "outlinewidth": 0,
             "ticks": ""
            },
            "type": "choropleth"
           }
          ],
          "contour": [
           {
            "colorbar": {
             "outlinewidth": 0,
             "ticks": ""
            },
            "colorscale": [
             [
              0,
              "#0d0887"
             ],
             [
              0.1111111111111111,
              "#46039f"
             ],
             [
              0.2222222222222222,
              "#7201a8"
             ],
             [
              0.3333333333333333,
              "#9c179e"
             ],
             [
              0.4444444444444444,
              "#bd3786"
             ],
             [
              0.5555555555555556,
              "#d8576b"
             ],
             [
              0.6666666666666666,
              "#ed7953"
             ],
             [
              0.7777777777777778,
              "#fb9f3a"
             ],
             [
              0.8888888888888888,
              "#fdca26"
             ],
             [
              1,
              "#f0f921"
             ]
            ],
            "type": "contour"
           }
          ],
          "contourcarpet": [
           {
            "colorbar": {
             "outlinewidth": 0,
             "ticks": ""
            },
            "type": "contourcarpet"
           }
          ],
          "heatmap": [
           {
            "colorbar": {
             "outlinewidth": 0,
             "ticks": ""
            },
            "colorscale": [
             [
              0,
              "#0d0887"
             ],
             [
              0.1111111111111111,
              "#46039f"
             ],
             [
              0.2222222222222222,
              "#7201a8"
             ],
             [
              0.3333333333333333,
              "#9c179e"
             ],
             [
              0.4444444444444444,
              "#bd3786"
             ],
             [
              0.5555555555555556,
              "#d8576b"
             ],
             [
              0.6666666666666666,
              "#ed7953"
             ],
             [
              0.7777777777777778,
              "#fb9f3a"
             ],
             [
              0.8888888888888888,
              "#fdca26"
             ],
             [
              1,
              "#f0f921"
             ]
            ],
            "type": "heatmap"
           }
          ],
          "heatmapgl": [
           {
            "colorbar": {
             "outlinewidth": 0,
             "ticks": ""
            },
            "colorscale": [
             [
              0,
              "#0d0887"
             ],
             [
              0.1111111111111111,
              "#46039f"
             ],
             [
              0.2222222222222222,
              "#7201a8"
             ],
             [
              0.3333333333333333,
              "#9c179e"
             ],
             [
              0.4444444444444444,
              "#bd3786"
             ],
             [
              0.5555555555555556,
              "#d8576b"
             ],
             [
              0.6666666666666666,
              "#ed7953"
             ],
             [
              0.7777777777777778,
              "#fb9f3a"
             ],
             [
              0.8888888888888888,
              "#fdca26"
             ],
             [
              1,
              "#f0f921"
             ]
            ],
            "type": "heatmapgl"
           }
          ],
          "histogram": [
           {
            "marker": {
             "pattern": {
              "fillmode": "overlay",
              "size": 10,
              "solidity": 0.2
             }
            },
            "type": "histogram"
           }
          ],
          "histogram2d": [
           {
            "colorbar": {
             "outlinewidth": 0,
             "ticks": ""
            },
            "colorscale": [
             [
              0,
              "#0d0887"
             ],
             [
              0.1111111111111111,
              "#46039f"
             ],
             [
              0.2222222222222222,
              "#7201a8"
             ],
             [
              0.3333333333333333,
              "#9c179e"
             ],
             [
              0.4444444444444444,
              "#bd3786"
             ],
             [
              0.5555555555555556,
              "#d8576b"
             ],
             [
              0.6666666666666666,
              "#ed7953"
             ],
             [
              0.7777777777777778,
              "#fb9f3a"
             ],
             [
              0.8888888888888888,
              "#fdca26"
             ],
             [
              1,
              "#f0f921"
             ]
            ],
            "type": "histogram2d"
           }
          ],
          "histogram2dcontour": [
           {
            "colorbar": {
             "outlinewidth": 0,
             "ticks": ""
            },
            "colorscale": [
             [
              0,
              "#0d0887"
             ],
             [
              0.1111111111111111,
              "#46039f"
             ],
             [
              0.2222222222222222,
              "#7201a8"
             ],
             [
              0.3333333333333333,
              "#9c179e"
             ],
             [
              0.4444444444444444,
              "#bd3786"
             ],
             [
              0.5555555555555556,
              "#d8576b"
             ],
             [
              0.6666666666666666,
              "#ed7953"
             ],
             [
              0.7777777777777778,
              "#fb9f3a"
             ],
             [
              0.8888888888888888,
              "#fdca26"
             ],
             [
              1,
              "#f0f921"
             ]
            ],
            "type": "histogram2dcontour"
           }
          ],
          "mesh3d": [
           {
            "colorbar": {
             "outlinewidth": 0,
             "ticks": ""
            },
            "type": "mesh3d"
           }
          ],
          "parcoords": [
           {
            "line": {
             "colorbar": {
              "outlinewidth": 0,
              "ticks": ""
             }
            },
            "type": "parcoords"
           }
          ],
          "pie": [
           {
            "automargin": true,
            "type": "pie"
           }
          ],
          "scatter": [
           {
            "fillpattern": {
             "fillmode": "overlay",
             "size": 10,
             "solidity": 0.2
            },
            "type": "scatter"
           }
          ],
          "scatter3d": [
           {
            "line": {
             "colorbar": {
              "outlinewidth": 0,
              "ticks": ""
             }
            },
            "marker": {
             "colorbar": {
              "outlinewidth": 0,
              "ticks": ""
             }
            },
            "type": "scatter3d"
           }
          ],
          "scattercarpet": [
           {
            "marker": {
             "colorbar": {
              "outlinewidth": 0,
              "ticks": ""
             }
            },
            "type": "scattercarpet"
           }
          ],
          "scattergeo": [
           {
            "marker": {
             "colorbar": {
              "outlinewidth": 0,
              "ticks": ""
             }
            },
            "type": "scattergeo"
           }
          ],
          "scattergl": [
           {
            "marker": {
             "colorbar": {
              "outlinewidth": 0,
              "ticks": ""
             }
            },
            "type": "scattergl"
           }
          ],
          "scattermapbox": [
           {
            "marker": {
             "colorbar": {
              "outlinewidth": 0,
              "ticks": ""
             }
            },
            "type": "scattermapbox"
           }
          ],
          "scatterpolar": [
           {
            "marker": {
             "colorbar": {
              "outlinewidth": 0,
              "ticks": ""
             }
            },
            "type": "scatterpolar"
           }
          ],
          "scatterpolargl": [
           {
            "marker": {
             "colorbar": {
              "outlinewidth": 0,
              "ticks": ""
             }
            },
            "type": "scatterpolargl"
           }
          ],
          "scatterternary": [
           {
            "marker": {
             "colorbar": {
              "outlinewidth": 0,
              "ticks": ""
             }
            },
            "type": "scatterternary"
           }
          ],
          "surface": [
           {
            "colorbar": {
             "outlinewidth": 0,
             "ticks": ""
            },
            "colorscale": [
             [
              0,
              "#0d0887"
             ],
             [
              0.1111111111111111,
              "#46039f"
             ],
             [
              0.2222222222222222,
              "#7201a8"
             ],
             [
              0.3333333333333333,
              "#9c179e"
             ],
             [
              0.4444444444444444,
              "#bd3786"
             ],
             [
              0.5555555555555556,
              "#d8576b"
             ],
             [
              0.6666666666666666,
              "#ed7953"
             ],
             [
              0.7777777777777778,
              "#fb9f3a"
             ],
             [
              0.8888888888888888,
              "#fdca26"
             ],
             [
              1,
              "#f0f921"
             ]
            ],
            "type": "surface"
           }
          ],
          "table": [
           {
            "cells": {
             "fill": {
              "color": "#EBF0F8"
             },
             "line": {
              "color": "white"
             }
            },
            "header": {
             "fill": {
              "color": "#C8D4E3"
             },
             "line": {
              "color": "white"
             }
            },
            "type": "table"
           }
          ]
         },
         "layout": {
          "annotationdefaults": {
           "arrowcolor": "#2a3f5f",
           "arrowhead": 0,
           "arrowwidth": 1
          },
          "autotypenumbers": "strict",
          "coloraxis": {
           "colorbar": {
            "outlinewidth": 0,
            "ticks": ""
           }
          },
          "colorscale": {
           "diverging": [
            [
             0,
             "#8e0152"
            ],
            [
             0.1,
             "#c51b7d"
            ],
            [
             0.2,
             "#de77ae"
            ],
            [
             0.3,
             "#f1b6da"
            ],
            [
             0.4,
             "#fde0ef"
            ],
            [
             0.5,
             "#f7f7f7"
            ],
            [
             0.6,
             "#e6f5d0"
            ],
            [
             0.7,
             "#b8e186"
            ],
            [
             0.8,
             "#7fbc41"
            ],
            [
             0.9,
             "#4d9221"
            ],
            [
             1,
             "#276419"
            ]
           ],
           "sequential": [
            [
             0,
             "#0d0887"
            ],
            [
             0.1111111111111111,
             "#46039f"
            ],
            [
             0.2222222222222222,
             "#7201a8"
            ],
            [
             0.3333333333333333,
             "#9c179e"
            ],
            [
             0.4444444444444444,
             "#bd3786"
            ],
            [
             0.5555555555555556,
             "#d8576b"
            ],
            [
             0.6666666666666666,
             "#ed7953"
            ],
            [
             0.7777777777777778,
             "#fb9f3a"
            ],
            [
             0.8888888888888888,
             "#fdca26"
            ],
            [
             1,
             "#f0f921"
            ]
           ],
           "sequentialminus": [
            [
             0,
             "#0d0887"
            ],
            [
             0.1111111111111111,
             "#46039f"
            ],
            [
             0.2222222222222222,
             "#7201a8"
            ],
            [
             0.3333333333333333,
             "#9c179e"
            ],
            [
             0.4444444444444444,
             "#bd3786"
            ],
            [
             0.5555555555555556,
             "#d8576b"
            ],
            [
             0.6666666666666666,
             "#ed7953"
            ],
            [
             0.7777777777777778,
             "#fb9f3a"
            ],
            [
             0.8888888888888888,
             "#fdca26"
            ],
            [
             1,
             "#f0f921"
            ]
           ]
          },
          "colorway": [
           "#636efa",
           "#EF553B",
           "#00cc96",
           "#ab63fa",
           "#FFA15A",
           "#19d3f3",
           "#FF6692",
           "#B6E880",
           "#FF97FF",
           "#FECB52"
          ],
          "font": {
           "color": "#2a3f5f"
          },
          "geo": {
           "bgcolor": "white",
           "lakecolor": "white",
           "landcolor": "white",
           "showlakes": true,
           "showland": true,
           "subunitcolor": "#C8D4E3"
          },
          "hoverlabel": {
           "align": "left"
          },
          "hovermode": "closest",
          "mapbox": {
           "style": "light"
          },
          "paper_bgcolor": "white",
          "plot_bgcolor": "white",
          "polar": {
           "angularaxis": {
            "gridcolor": "#EBF0F8",
            "linecolor": "#EBF0F8",
            "ticks": ""
           },
           "bgcolor": "white",
           "radialaxis": {
            "gridcolor": "#EBF0F8",
            "linecolor": "#EBF0F8",
            "ticks": ""
           }
          },
          "scene": {
           "xaxis": {
            "backgroundcolor": "white",
            "gridcolor": "#DFE8F3",
            "gridwidth": 2,
            "linecolor": "#EBF0F8",
            "showbackground": true,
            "ticks": "",
            "zerolinecolor": "#EBF0F8"
           },
           "yaxis": {
            "backgroundcolor": "white",
            "gridcolor": "#DFE8F3",
            "gridwidth": 2,
            "linecolor": "#EBF0F8",
            "showbackground": true,
            "ticks": "",
            "zerolinecolor": "#EBF0F8"
           },
           "zaxis": {
            "backgroundcolor": "white",
            "gridcolor": "#DFE8F3",
            "gridwidth": 2,
            "linecolor": "#EBF0F8",
            "showbackground": true,
            "ticks": "",
            "zerolinecolor": "#EBF0F8"
           }
          },
          "shapedefaults": {
           "line": {
            "color": "#2a3f5f"
           }
          },
          "ternary": {
           "aaxis": {
            "gridcolor": "#DFE8F3",
            "linecolor": "#A2B1C6",
            "ticks": ""
           },
           "baxis": {
            "gridcolor": "#DFE8F3",
            "linecolor": "#A2B1C6",
            "ticks": ""
           },
           "bgcolor": "white",
           "caxis": {
            "gridcolor": "#DFE8F3",
            "linecolor": "#A2B1C6",
            "ticks": ""
           }
          },
          "title": {
           "x": 0.05
          },
          "xaxis": {
           "automargin": true,
           "gridcolor": "#EBF0F8",
           "linecolor": "#EBF0F8",
           "ticks": "",
           "title": {
            "standoff": 15
           },
           "zerolinecolor": "#EBF0F8",
           "zerolinewidth": 2
          },
          "yaxis": {
           "automargin": true,
           "gridcolor": "#EBF0F8",
           "linecolor": "#EBF0F8",
           "ticks": "",
           "title": {
            "standoff": 15
           },
           "zerolinecolor": "#EBF0F8",
           "zerolinewidth": 2
          }
         }
        },
        "title": {
         "font": {
          "size": 20
         },
         "text": "Optimization History Plot (Random Search)",
         "x": 0.5,
         "xanchor": "center",
         "yanchor": "top"
        },
        "width": 900,
        "xaxis": {
         "tickfont": {
          "size": 15
         },
         "title": {
          "font": {
           "size": 15
          },
          "text": "# Trials"
         }
        },
        "yaxis": {
         "tickfont": {
          "size": 15
         },
         "title": {
          "font": {
           "size": 15
          },
          "text": "Objective Value"
         }
        }
       }
      }
     },
     "metadata": {},
     "output_type": "display_data"
    }
   ],
   "source": [
    "fig = plot_optimization_history(random_search_trials)\n",
    "fig = format_plot(fig, xlabel=\"# Trials\", ylabel=\"Objective Value\", title=\"Optimization History Plot (Random Search)\")\n",
    "fig.write_image(\"imgs/chapter_10/opt_history_rs.png\")\n",
    "fig.show()"
   ]
  },
  {
   "cell_type": "code",
   "execution_count": 48,
   "id": "ac91c989-eb77-40c6-99a7-9cc099c8ce88",
   "metadata": {},
   "outputs": [
    {
     "data": {
      "application/vnd.plotly.v1+json": {
       "config": {
        "plotlyServerURL": "https://plot.ly"
       },
       "data": [
        {
         "mode": "markers",
         "name": "Objective Value",
         "type": "scatter",
         "x": [
          0,
          1,
          2,
          3,
          4,
          5,
          6,
          7,
          8,
          9,
          10,
          11,
          12,
          13,
          14,
          15,
          16,
          17,
          18,
          19,
          20,
          21,
          22,
          23,
          24,
          25,
          26
         ],
         "y": [
          0.07918144764005784,
          0.07403915567918215,
          0.07938443582566357,
          0.07954560123687912,
          0.07571133305795809,
          0.07407330327188258,
          0.07410905913744738,
          0.07800550768595722,
          0.07456584571416411,
          0.07511805904301844,
          0.07800794169992618,
          0.07390339977237843,
          0.07387683948537982,
          0.07408928398733215,
          0.077617650964152,
          0.07479249429937891,
          0.07750919305838558,
          0.07431419656254794,
          0.07732832342330091,
          0.07755639038093946,
          0.07495897553158988,
          0.07402797680279141,
          0.07399321657215932,
          0.07410083538884497,
          0.07422942675146392,
          0.07436516476115436,
          0.07399589993336501
         ]
        },
        {
         "mode": "lines",
         "name": "Best Value",
         "type": "scatter",
         "x": [
          0,
          1,
          2,
          3,
          4,
          5,
          6,
          7,
          8,
          9,
          10,
          11,
          12,
          13,
          14,
          15,
          16,
          17,
          18,
          19,
          20,
          21,
          22,
          23,
          24,
          25,
          26
         ],
         "y": [
          0.07918144764005784,
          0.07403915567918215,
          0.07403915567918215,
          0.07403915567918215,
          0.07403915567918215,
          0.07403915567918215,
          0.07403915567918215,
          0.07403915567918215,
          0.07403915567918215,
          0.07403915567918215,
          0.07403915567918215,
          0.07390339977237843,
          0.07387683948537982,
          0.07387683948537982,
          0.07387683948537982,
          0.07387683948537982,
          0.07387683948537982,
          0.07387683948537982,
          0.07387683948537982,
          0.07387683948537982,
          0.07387683948537982,
          0.07387683948537982,
          0.07387683948537982,
          0.07387683948537982,
          0.07387683948537982,
          0.07387683948537982,
          0.07387683948537982
         ]
        },
        {
         "marker": {
          "color": "#cccccc"
         },
         "mode": "markers",
         "name": "Infeasible Trial",
         "showlegend": false,
         "type": "scatter",
         "x": [],
         "y": []
        }
       ],
       "layout": {
        "autosize": false,
        "height": 500,
        "legend": {
         "font": {
          "size": 15
         },
         "orientation": "h",
         "title": {},
         "x": 1,
         "xanchor": "right",
         "y": 0.9,
         "yanchor": "bottom"
        },
        "template": {
         "data": {
          "bar": [
           {
            "error_x": {
             "color": "#2a3f5f"
            },
            "error_y": {
             "color": "#2a3f5f"
            },
            "marker": {
             "line": {
              "color": "white",
              "width": 0.5
             },
             "pattern": {
              "fillmode": "overlay",
              "size": 10,
              "solidity": 0.2
             }
            },
            "type": "bar"
           }
          ],
          "barpolar": [
           {
            "marker": {
             "line": {
              "color": "white",
              "width": 0.5
             },
             "pattern": {
              "fillmode": "overlay",
              "size": 10,
              "solidity": 0.2
             }
            },
            "type": "barpolar"
           }
          ],
          "carpet": [
           {
            "aaxis": {
             "endlinecolor": "#2a3f5f",
             "gridcolor": "#C8D4E3",
             "linecolor": "#C8D4E3",
             "minorgridcolor": "#C8D4E3",
             "startlinecolor": "#2a3f5f"
            },
            "baxis": {
             "endlinecolor": "#2a3f5f",
             "gridcolor": "#C8D4E3",
             "linecolor": "#C8D4E3",
             "minorgridcolor": "#C8D4E3",
             "startlinecolor": "#2a3f5f"
            },
            "type": "carpet"
           }
          ],
          "choropleth": [
           {
            "colorbar": {
             "outlinewidth": 0,
             "ticks": ""
            },
            "type": "choropleth"
           }
          ],
          "contour": [
           {
            "colorbar": {
             "outlinewidth": 0,
             "ticks": ""
            },
            "colorscale": [
             [
              0,
              "#0d0887"
             ],
             [
              0.1111111111111111,
              "#46039f"
             ],
             [
              0.2222222222222222,
              "#7201a8"
             ],
             [
              0.3333333333333333,
              "#9c179e"
             ],
             [
              0.4444444444444444,
              "#bd3786"
             ],
             [
              0.5555555555555556,
              "#d8576b"
             ],
             [
              0.6666666666666666,
              "#ed7953"
             ],
             [
              0.7777777777777778,
              "#fb9f3a"
             ],
             [
              0.8888888888888888,
              "#fdca26"
             ],
             [
              1,
              "#f0f921"
             ]
            ],
            "type": "contour"
           }
          ],
          "contourcarpet": [
           {
            "colorbar": {
             "outlinewidth": 0,
             "ticks": ""
            },
            "type": "contourcarpet"
           }
          ],
          "heatmap": [
           {
            "colorbar": {
             "outlinewidth": 0,
             "ticks": ""
            },
            "colorscale": [
             [
              0,
              "#0d0887"
             ],
             [
              0.1111111111111111,
              "#46039f"
             ],
             [
              0.2222222222222222,
              "#7201a8"
             ],
             [
              0.3333333333333333,
              "#9c179e"
             ],
             [
              0.4444444444444444,
              "#bd3786"
             ],
             [
              0.5555555555555556,
              "#d8576b"
             ],
             [
              0.6666666666666666,
              "#ed7953"
             ],
             [
              0.7777777777777778,
              "#fb9f3a"
             ],
             [
              0.8888888888888888,
              "#fdca26"
             ],
             [
              1,
              "#f0f921"
             ]
            ],
            "type": "heatmap"
           }
          ],
          "heatmapgl": [
           {
            "colorbar": {
             "outlinewidth": 0,
             "ticks": ""
            },
            "colorscale": [
             [
              0,
              "#0d0887"
             ],
             [
              0.1111111111111111,
              "#46039f"
             ],
             [
              0.2222222222222222,
              "#7201a8"
             ],
             [
              0.3333333333333333,
              "#9c179e"
             ],
             [
              0.4444444444444444,
              "#bd3786"
             ],
             [
              0.5555555555555556,
              "#d8576b"
             ],
             [
              0.6666666666666666,
              "#ed7953"
             ],
             [
              0.7777777777777778,
              "#fb9f3a"
             ],
             [
              0.8888888888888888,
              "#fdca26"
             ],
             [
              1,
              "#f0f921"
             ]
            ],
            "type": "heatmapgl"
           }
          ],
          "histogram": [
           {
            "marker": {
             "pattern": {
              "fillmode": "overlay",
              "size": 10,
              "solidity": 0.2
             }
            },
            "type": "histogram"
           }
          ],
          "histogram2d": [
           {
            "colorbar": {
             "outlinewidth": 0,
             "ticks": ""
            },
            "colorscale": [
             [
              0,
              "#0d0887"
             ],
             [
              0.1111111111111111,
              "#46039f"
             ],
             [
              0.2222222222222222,
              "#7201a8"
             ],
             [
              0.3333333333333333,
              "#9c179e"
             ],
             [
              0.4444444444444444,
              "#bd3786"
             ],
             [
              0.5555555555555556,
              "#d8576b"
             ],
             [
              0.6666666666666666,
              "#ed7953"
             ],
             [
              0.7777777777777778,
              "#fb9f3a"
             ],
             [
              0.8888888888888888,
              "#fdca26"
             ],
             [
              1,
              "#f0f921"
             ]
            ],
            "type": "histogram2d"
           }
          ],
          "histogram2dcontour": [
           {
            "colorbar": {
             "outlinewidth": 0,
             "ticks": ""
            },
            "colorscale": [
             [
              0,
              "#0d0887"
             ],
             [
              0.1111111111111111,
              "#46039f"
             ],
             [
              0.2222222222222222,
              "#7201a8"
             ],
             [
              0.3333333333333333,
              "#9c179e"
             ],
             [
              0.4444444444444444,
              "#bd3786"
             ],
             [
              0.5555555555555556,
              "#d8576b"
             ],
             [
              0.6666666666666666,
              "#ed7953"
             ],
             [
              0.7777777777777778,
              "#fb9f3a"
             ],
             [
              0.8888888888888888,
              "#fdca26"
             ],
             [
              1,
              "#f0f921"
             ]
            ],
            "type": "histogram2dcontour"
           }
          ],
          "mesh3d": [
           {
            "colorbar": {
             "outlinewidth": 0,
             "ticks": ""
            },
            "type": "mesh3d"
           }
          ],
          "parcoords": [
           {
            "line": {
             "colorbar": {
              "outlinewidth": 0,
              "ticks": ""
             }
            },
            "type": "parcoords"
           }
          ],
          "pie": [
           {
            "automargin": true,
            "type": "pie"
           }
          ],
          "scatter": [
           {
            "fillpattern": {
             "fillmode": "overlay",
             "size": 10,
             "solidity": 0.2
            },
            "type": "scatter"
           }
          ],
          "scatter3d": [
           {
            "line": {
             "colorbar": {
              "outlinewidth": 0,
              "ticks": ""
             }
            },
            "marker": {
             "colorbar": {
              "outlinewidth": 0,
              "ticks": ""
             }
            },
            "type": "scatter3d"
           }
          ],
          "scattercarpet": [
           {
            "marker": {
             "colorbar": {
              "outlinewidth": 0,
              "ticks": ""
             }
            },
            "type": "scattercarpet"
           }
          ],
          "scattergeo": [
           {
            "marker": {
             "colorbar": {
              "outlinewidth": 0,
              "ticks": ""
             }
            },
            "type": "scattergeo"
           }
          ],
          "scattergl": [
           {
            "marker": {
             "colorbar": {
              "outlinewidth": 0,
              "ticks": ""
             }
            },
            "type": "scattergl"
           }
          ],
          "scattermapbox": [
           {
            "marker": {
             "colorbar": {
              "outlinewidth": 0,
              "ticks": ""
             }
            },
            "type": "scattermapbox"
           }
          ],
          "scatterpolar": [
           {
            "marker": {
             "colorbar": {
              "outlinewidth": 0,
              "ticks": ""
             }
            },
            "type": "scatterpolar"
           }
          ],
          "scatterpolargl": [
           {
            "marker": {
             "colorbar": {
              "outlinewidth": 0,
              "ticks": ""
             }
            },
            "type": "scatterpolargl"
           }
          ],
          "scatterternary": [
           {
            "marker": {
             "colorbar": {
              "outlinewidth": 0,
              "ticks": ""
             }
            },
            "type": "scatterternary"
           }
          ],
          "surface": [
           {
            "colorbar": {
             "outlinewidth": 0,
             "ticks": ""
            },
            "colorscale": [
             [
              0,
              "#0d0887"
             ],
             [
              0.1111111111111111,
              "#46039f"
             ],
             [
              0.2222222222222222,
              "#7201a8"
             ],
             [
              0.3333333333333333,
              "#9c179e"
             ],
             [
              0.4444444444444444,
              "#bd3786"
             ],
             [
              0.5555555555555556,
              "#d8576b"
             ],
             [
              0.6666666666666666,
              "#ed7953"
             ],
             [
              0.7777777777777778,
              "#fb9f3a"
             ],
             [
              0.8888888888888888,
              "#fdca26"
             ],
             [
              1,
              "#f0f921"
             ]
            ],
            "type": "surface"
           }
          ],
          "table": [
           {
            "cells": {
             "fill": {
              "color": "#EBF0F8"
             },
             "line": {
              "color": "white"
             }
            },
            "header": {
             "fill": {
              "color": "#C8D4E3"
             },
             "line": {
              "color": "white"
             }
            },
            "type": "table"
           }
          ]
         },
         "layout": {
          "annotationdefaults": {
           "arrowcolor": "#2a3f5f",
           "arrowhead": 0,
           "arrowwidth": 1
          },
          "autotypenumbers": "strict",
          "coloraxis": {
           "colorbar": {
            "outlinewidth": 0,
            "ticks": ""
           }
          },
          "colorscale": {
           "diverging": [
            [
             0,
             "#8e0152"
            ],
            [
             0.1,
             "#c51b7d"
            ],
            [
             0.2,
             "#de77ae"
            ],
            [
             0.3,
             "#f1b6da"
            ],
            [
             0.4,
             "#fde0ef"
            ],
            [
             0.5,
             "#f7f7f7"
            ],
            [
             0.6,
             "#e6f5d0"
            ],
            [
             0.7,
             "#b8e186"
            ],
            [
             0.8,
             "#7fbc41"
            ],
            [
             0.9,
             "#4d9221"
            ],
            [
             1,
             "#276419"
            ]
           ],
           "sequential": [
            [
             0,
             "#0d0887"
            ],
            [
             0.1111111111111111,
             "#46039f"
            ],
            [
             0.2222222222222222,
             "#7201a8"
            ],
            [
             0.3333333333333333,
             "#9c179e"
            ],
            [
             0.4444444444444444,
             "#bd3786"
            ],
            [
             0.5555555555555556,
             "#d8576b"
            ],
            [
             0.6666666666666666,
             "#ed7953"
            ],
            [
             0.7777777777777778,
             "#fb9f3a"
            ],
            [
             0.8888888888888888,
             "#fdca26"
            ],
            [
             1,
             "#f0f921"
            ]
           ],
           "sequentialminus": [
            [
             0,
             "#0d0887"
            ],
            [
             0.1111111111111111,
             "#46039f"
            ],
            [
             0.2222222222222222,
             "#7201a8"
            ],
            [
             0.3333333333333333,
             "#9c179e"
            ],
            [
             0.4444444444444444,
             "#bd3786"
            ],
            [
             0.5555555555555556,
             "#d8576b"
            ],
            [
             0.6666666666666666,
             "#ed7953"
            ],
            [
             0.7777777777777778,
             "#fb9f3a"
            ],
            [
             0.8888888888888888,
             "#fdca26"
            ],
            [
             1,
             "#f0f921"
            ]
           ]
          },
          "colorway": [
           "#636efa",
           "#EF553B",
           "#00cc96",
           "#ab63fa",
           "#FFA15A",
           "#19d3f3",
           "#FF6692",
           "#B6E880",
           "#FF97FF",
           "#FECB52"
          ],
          "font": {
           "color": "#2a3f5f"
          },
          "geo": {
           "bgcolor": "white",
           "lakecolor": "white",
           "landcolor": "white",
           "showlakes": true,
           "showland": true,
           "subunitcolor": "#C8D4E3"
          },
          "hoverlabel": {
           "align": "left"
          },
          "hovermode": "closest",
          "mapbox": {
           "style": "light"
          },
          "paper_bgcolor": "white",
          "plot_bgcolor": "white",
          "polar": {
           "angularaxis": {
            "gridcolor": "#EBF0F8",
            "linecolor": "#EBF0F8",
            "ticks": ""
           },
           "bgcolor": "white",
           "radialaxis": {
            "gridcolor": "#EBF0F8",
            "linecolor": "#EBF0F8",
            "ticks": ""
           }
          },
          "scene": {
           "xaxis": {
            "backgroundcolor": "white",
            "gridcolor": "#DFE8F3",
            "gridwidth": 2,
            "linecolor": "#EBF0F8",
            "showbackground": true,
            "ticks": "",
            "zerolinecolor": "#EBF0F8"
           },
           "yaxis": {
            "backgroundcolor": "white",
            "gridcolor": "#DFE8F3",
            "gridwidth": 2,
            "linecolor": "#EBF0F8",
            "showbackground": true,
            "ticks": "",
            "zerolinecolor": "#EBF0F8"
           },
           "zaxis": {
            "backgroundcolor": "white",
            "gridcolor": "#DFE8F3",
            "gridwidth": 2,
            "linecolor": "#EBF0F8",
            "showbackground": true,
            "ticks": "",
            "zerolinecolor": "#EBF0F8"
           }
          },
          "shapedefaults": {
           "line": {
            "color": "#2a3f5f"
           }
          },
          "ternary": {
           "aaxis": {
            "gridcolor": "#DFE8F3",
            "linecolor": "#A2B1C6",
            "ticks": ""
           },
           "baxis": {
            "gridcolor": "#DFE8F3",
            "linecolor": "#A2B1C6",
            "ticks": ""
           },
           "bgcolor": "white",
           "caxis": {
            "gridcolor": "#DFE8F3",
            "linecolor": "#A2B1C6",
            "ticks": ""
           }
          },
          "title": {
           "x": 0.05
          },
          "xaxis": {
           "automargin": true,
           "gridcolor": "#EBF0F8",
           "linecolor": "#EBF0F8",
           "ticks": "",
           "title": {
            "standoff": 15
           },
           "zerolinecolor": "#EBF0F8",
           "zerolinewidth": 2
          },
          "yaxis": {
           "automargin": true,
           "gridcolor": "#EBF0F8",
           "linecolor": "#EBF0F8",
           "ticks": "",
           "title": {
            "standoff": 15
           },
           "zerolinecolor": "#EBF0F8",
           "zerolinewidth": 2
          }
         }
        },
        "title": {
         "font": {
          "size": 20
         },
         "text": "Optimization History Plot (Bayesian Optimization)",
         "x": 0.5,
         "xanchor": "center",
         "yanchor": "top"
        },
        "width": 900,
        "xaxis": {
         "tickfont": {
          "size": 15
         },
         "title": {
          "font": {
           "size": 15
          },
          "text": "# Trials"
         }
        },
        "yaxis": {
         "tickfont": {
          "size": 15
         },
         "title": {
          "font": {
           "size": 15
          },
          "text": "Objective Value"
         }
        }
       }
      }
     },
     "metadata": {},
     "output_type": "display_data"
    }
   ],
   "source": [
    "fig = optuna.visualization.plot_optimization_history(study)\n",
    "fig = format_plot(fig, xlabel=\"# Trials\", ylabel=\"Objective Value\", title=\"Optimization History Plot (Bayesian Optimization)\")\n",
    "fig.write_image(\"imgs/chapter_10/opt_history_bo.png\")\n",
    "fig.show()"
   ]
  },
  {
   "cell_type": "markdown",
   "id": "b17555ad-3ce3-4785-9259-bf82fddbf35e",
   "metadata": {},
   "source": [
    "This makes the distinction clearer. Grid Search has a pattern which indicates that it is just executing the defined trials blindly in the order it was given. Even after seeing a particular region is of low value, it still executes those trials because it is not self-aware. Random Search is pretty much what we expected. We can see that the objective values are also pretty randomly distributed and even towards the end, it is still exploring low value regions in the search space. But Bayesian Optimization can be seen to improve the objective value and focus most of its trials on regions which gives best objective value."
   ]
  },
  {
   "cell_type": "code",
   "execution_count": 49,
   "id": "2e482164-efcd-4492-a890-8b35a67d4327",
   "metadata": {},
   "outputs": [
    {
     "data": {
      "text/html": [
       "<div>\n",
       "<style scoped>\n",
       "    .dataframe tbody tr th:only-of-type {\n",
       "        vertical-align: middle;\n",
       "    }\n",
       "\n",
       "    .dataframe tbody tr th {\n",
       "        vertical-align: top;\n",
       "    }\n",
       "\n",
       "    .dataframe thead th {\n",
       "        text-align: right;\n",
       "    }\n",
       "</style>\n",
       "<table border=\"1\" class=\"dataframe\">\n",
       "  <thead>\n",
       "    <tr style=\"text-align: right;\">\n",
       "      <th></th>\n",
       "      <th>Optimization</th>\n",
       "      <th>Best Score</th>\n",
       "    </tr>\n",
       "  </thead>\n",
       "  <tbody>\n",
       "    <tr>\n",
       "      <th>2</th>\n",
       "      <td>Bayesian Optimization</td>\n",
       "      <td>0.073877</td>\n",
       "    </tr>\n",
       "    <tr>\n",
       "      <th>1</th>\n",
       "      <td>Random Search</td>\n",
       "      <td>0.074283</td>\n",
       "    </tr>\n",
       "    <tr>\n",
       "      <th>0</th>\n",
       "      <td>Grid Search</td>\n",
       "      <td>0.074434</td>\n",
       "    </tr>\n",
       "  </tbody>\n",
       "</table>\n",
       "</div>"
      ],
      "text/plain": [
       "            Optimization  Best Score\n",
       "2  Bayesian Optimization    0.073877\n",
       "1          Random Search    0.074283\n",
       "0            Grid Search    0.074434"
      ]
     },
     "execution_count": 49,
     "metadata": {},
     "output_type": "execute_result"
    }
   ],
   "source": [
    "plot_df = pd.DataFrame({\"Optimization\": [\"Grid Search\", \"Random Search\", \"Bayesian Optimization\"], \"Best Score\": [best_score_gs, best_score_rs, best_score_bo]}).sort_values(by = ['Best Score'],\n",
    "                    ascending = True)\n",
    "plot_df"
   ]
  },
  {
   "cell_type": "code",
   "execution_count": 50,
   "id": "752b6da2-ba94-45c9-96e3-72f40e7c0e5d",
   "metadata": {},
   "outputs": [
    {
     "data": {
      "application/vnd.plotly.v1+json": {
       "config": {
        "plotlyServerURL": "https://plot.ly"
       },
       "data": [
        {
         "alignmentgroup": "True",
         "box": {
          "visible": false
         },
         "hovertemplate": "optimization=Grid Search<br>score=%{y}<extra></extra>",
         "legendgroup": "Grid Search",
         "marker": {
          "color": "#636efa"
         },
         "name": "Grid Search",
         "offsetgroup": "Grid Search",
         "orientation": "v",
         "points": false,
         "scalegroup": "True",
         "showlegend": true,
         "type": "violin",
         "x0": " ",
         "xaxis": "x",
         "y": [
          0.07443432205083593,
          0.07470831986277864,
          0.07476549757328992,
          0.0755692238101561,
          0.07570645669285175,
          0.07595277948059327,
          0.07681635091325674,
          0.07701249101584962,
          0.07734503570288655,
          0.07775523119913039,
          0.07783377297274938,
          0.07802710163587509,
          0.07835498019901062,
          0.0784025076804603,
          0.07855733820600122,
          0.07881731424836964,
          0.07887644900631435,
          0.07912640129003023,
          0.07930867780728781,
          0.0793382982060365,
          0.0795963460213354,
          0.08025664964839663,
          0.08028182567670578,
          0.08038182320966986,
          0.08052695675747042,
          0.08069776965136365,
          0.08084866667994198
         ],
         "y0": " ",
         "yaxis": "y"
        },
        {
         "alignmentgroup": "True",
         "box": {
          "visible": false
         },
         "hovertemplate": "optimization=Random Search<br>score=%{y}<extra></extra>",
         "legendgroup": "Random Search",
         "marker": {
          "color": "#EF553B"
         },
         "name": "Random Search",
         "offsetgroup": "Random Search",
         "orientation": "v",
         "points": false,
         "scalegroup": "True",
         "showlegend": true,
         "type": "violin",
         "x0": " ",
         "xaxis": "x",
         "y": [
          0.07428345041602065,
          0.07543208160347635,
          0.07558111034779408,
          0.07564009058435266,
          0.07609028090233963,
          0.07722410420094669,
          0.07736809763243717,
          0.07737682807749785,
          0.0775006520456515,
          0.07753565075436457,
          0.07776415085352853,
          0.07786721683556229,
          0.0779739308941917,
          0.07807788454372212,
          0.07811965254594529,
          0.07818109683131125,
          0.07821917393317031,
          0.07832665429589383,
          0.07834959577392664,
          0.07842270767583,
          0.0785034121845741,
          0.07870317466359875,
          0.078837715410061,
          0.07955403220718371,
          0.07980178899525436,
          0.0802518584355335,
          0.08119455435411249
         ],
         "y0": " ",
         "yaxis": "y"
        },
        {
         "alignmentgroup": "True",
         "box": {
          "visible": false
         },
         "hovertemplate": "optimization=Bayesian Optimization<br>score=%{y}<extra></extra>",
         "legendgroup": "Bayesian Optimization",
         "marker": {
          "color": "#00cc96"
         },
         "name": "Bayesian Optimization",
         "offsetgroup": "Bayesian Optimization",
         "orientation": "v",
         "points": false,
         "scalegroup": "True",
         "showlegend": true,
         "type": "violin",
         "x0": " ",
         "xaxis": "x",
         "y": [
          0.07918144764005784,
          0.07403915567918215,
          0.07938443582566357,
          0.07954560123687912,
          0.07571133305795809,
          0.07407330327188258,
          0.07410905913744738,
          0.07800550768595722,
          0.07456584571416411,
          0.07511805904301844,
          0.07800794169992618,
          0.07390339977237843,
          0.07387683948537982,
          0.07408928398733215,
          0.077617650964152,
          0.07479249429937891,
          0.07750919305838558,
          0.07431419656254794,
          0.07732832342330091,
          0.07755639038093946,
          0.07495897553158988,
          0.07402797680279141,
          0.07399321657215932,
          0.07410083538884497,
          0.07422942675146392,
          0.07436516476115436,
          0.07399589993336501
         ],
         "y0": " ",
         "yaxis": "y"
        }
       ],
       "layout": {
        "autosize": false,
        "height": 500,
        "legend": {
         "font": {
          "size": 15
         },
         "orientation": "h",
         "title": {},
         "tracegroupgap": 0,
         "x": 1,
         "xanchor": "right",
         "y": 0.9,
         "yanchor": "bottom"
        },
        "margin": {
         "t": 60
        },
        "template": {
         "data": {
          "bar": [
           {
            "error_x": {
             "color": "#2a3f5f"
            },
            "error_y": {
             "color": "#2a3f5f"
            },
            "marker": {
             "line": {
              "color": "white",
              "width": 0.5
             },
             "pattern": {
              "fillmode": "overlay",
              "size": 10,
              "solidity": 0.2
             }
            },
            "type": "bar"
           }
          ],
          "barpolar": [
           {
            "marker": {
             "line": {
              "color": "white",
              "width": 0.5
             },
             "pattern": {
              "fillmode": "overlay",
              "size": 10,
              "solidity": 0.2
             }
            },
            "type": "barpolar"
           }
          ],
          "carpet": [
           {
            "aaxis": {
             "endlinecolor": "#2a3f5f",
             "gridcolor": "#C8D4E3",
             "linecolor": "#C8D4E3",
             "minorgridcolor": "#C8D4E3",
             "startlinecolor": "#2a3f5f"
            },
            "baxis": {
             "endlinecolor": "#2a3f5f",
             "gridcolor": "#C8D4E3",
             "linecolor": "#C8D4E3",
             "minorgridcolor": "#C8D4E3",
             "startlinecolor": "#2a3f5f"
            },
            "type": "carpet"
           }
          ],
          "choropleth": [
           {
            "colorbar": {
             "outlinewidth": 0,
             "ticks": ""
            },
            "type": "choropleth"
           }
          ],
          "contour": [
           {
            "colorbar": {
             "outlinewidth": 0,
             "ticks": ""
            },
            "colorscale": [
             [
              0,
              "#0d0887"
             ],
             [
              0.1111111111111111,
              "#46039f"
             ],
             [
              0.2222222222222222,
              "#7201a8"
             ],
             [
              0.3333333333333333,
              "#9c179e"
             ],
             [
              0.4444444444444444,
              "#bd3786"
             ],
             [
              0.5555555555555556,
              "#d8576b"
             ],
             [
              0.6666666666666666,
              "#ed7953"
             ],
             [
              0.7777777777777778,
              "#fb9f3a"
             ],
             [
              0.8888888888888888,
              "#fdca26"
             ],
             [
              1,
              "#f0f921"
             ]
            ],
            "type": "contour"
           }
          ],
          "contourcarpet": [
           {
            "colorbar": {
             "outlinewidth": 0,
             "ticks": ""
            },
            "type": "contourcarpet"
           }
          ],
          "heatmap": [
           {
            "colorbar": {
             "outlinewidth": 0,
             "ticks": ""
            },
            "colorscale": [
             [
              0,
              "#0d0887"
             ],
             [
              0.1111111111111111,
              "#46039f"
             ],
             [
              0.2222222222222222,
              "#7201a8"
             ],
             [
              0.3333333333333333,
              "#9c179e"
             ],
             [
              0.4444444444444444,
              "#bd3786"
             ],
             [
              0.5555555555555556,
              "#d8576b"
             ],
             [
              0.6666666666666666,
              "#ed7953"
             ],
             [
              0.7777777777777778,
              "#fb9f3a"
             ],
             [
              0.8888888888888888,
              "#fdca26"
             ],
             [
              1,
              "#f0f921"
             ]
            ],
            "type": "heatmap"
           }
          ],
          "heatmapgl": [
           {
            "colorbar": {
             "outlinewidth": 0,
             "ticks": ""
            },
            "colorscale": [
             [
              0,
              "#0d0887"
             ],
             [
              0.1111111111111111,
              "#46039f"
             ],
             [
              0.2222222222222222,
              "#7201a8"
             ],
             [
              0.3333333333333333,
              "#9c179e"
             ],
             [
              0.4444444444444444,
              "#bd3786"
             ],
             [
              0.5555555555555556,
              "#d8576b"
             ],
             [
              0.6666666666666666,
              "#ed7953"
             ],
             [
              0.7777777777777778,
              "#fb9f3a"
             ],
             [
              0.8888888888888888,
              "#fdca26"
             ],
             [
              1,
              "#f0f921"
             ]
            ],
            "type": "heatmapgl"
           }
          ],
          "histogram": [
           {
            "marker": {
             "pattern": {
              "fillmode": "overlay",
              "size": 10,
              "solidity": 0.2
             }
            },
            "type": "histogram"
           }
          ],
          "histogram2d": [
           {
            "colorbar": {
             "outlinewidth": 0,
             "ticks": ""
            },
            "colorscale": [
             [
              0,
              "#0d0887"
             ],
             [
              0.1111111111111111,
              "#46039f"
             ],
             [
              0.2222222222222222,
              "#7201a8"
             ],
             [
              0.3333333333333333,
              "#9c179e"
             ],
             [
              0.4444444444444444,
              "#bd3786"
             ],
             [
              0.5555555555555556,
              "#d8576b"
             ],
             [
              0.6666666666666666,
              "#ed7953"
             ],
             [
              0.7777777777777778,
              "#fb9f3a"
             ],
             [
              0.8888888888888888,
              "#fdca26"
             ],
             [
              1,
              "#f0f921"
             ]
            ],
            "type": "histogram2d"
           }
          ],
          "histogram2dcontour": [
           {
            "colorbar": {
             "outlinewidth": 0,
             "ticks": ""
            },
            "colorscale": [
             [
              0,
              "#0d0887"
             ],
             [
              0.1111111111111111,
              "#46039f"
             ],
             [
              0.2222222222222222,
              "#7201a8"
             ],
             [
              0.3333333333333333,
              "#9c179e"
             ],
             [
              0.4444444444444444,
              "#bd3786"
             ],
             [
              0.5555555555555556,
              "#d8576b"
             ],
             [
              0.6666666666666666,
              "#ed7953"
             ],
             [
              0.7777777777777778,
              "#fb9f3a"
             ],
             [
              0.8888888888888888,
              "#fdca26"
             ],
             [
              1,
              "#f0f921"
             ]
            ],
            "type": "histogram2dcontour"
           }
          ],
          "mesh3d": [
           {
            "colorbar": {
             "outlinewidth": 0,
             "ticks": ""
            },
            "type": "mesh3d"
           }
          ],
          "parcoords": [
           {
            "line": {
             "colorbar": {
              "outlinewidth": 0,
              "ticks": ""
             }
            },
            "type": "parcoords"
           }
          ],
          "pie": [
           {
            "automargin": true,
            "type": "pie"
           }
          ],
          "scatter": [
           {
            "fillpattern": {
             "fillmode": "overlay",
             "size": 10,
             "solidity": 0.2
            },
            "type": "scatter"
           }
          ],
          "scatter3d": [
           {
            "line": {
             "colorbar": {
              "outlinewidth": 0,
              "ticks": ""
             }
            },
            "marker": {
             "colorbar": {
              "outlinewidth": 0,
              "ticks": ""
             }
            },
            "type": "scatter3d"
           }
          ],
          "scattercarpet": [
           {
            "marker": {
             "colorbar": {
              "outlinewidth": 0,
              "ticks": ""
             }
            },
            "type": "scattercarpet"
           }
          ],
          "scattergeo": [
           {
            "marker": {
             "colorbar": {
              "outlinewidth": 0,
              "ticks": ""
             }
            },
            "type": "scattergeo"
           }
          ],
          "scattergl": [
           {
            "marker": {
             "colorbar": {
              "outlinewidth": 0,
              "ticks": ""
             }
            },
            "type": "scattergl"
           }
          ],
          "scattermapbox": [
           {
            "marker": {
             "colorbar": {
              "outlinewidth": 0,
              "ticks": ""
             }
            },
            "type": "scattermapbox"
           }
          ],
          "scatterpolar": [
           {
            "marker": {
             "colorbar": {
              "outlinewidth": 0,
              "ticks": ""
             }
            },
            "type": "scatterpolar"
           }
          ],
          "scatterpolargl": [
           {
            "marker": {
             "colorbar": {
              "outlinewidth": 0,
              "ticks": ""
             }
            },
            "type": "scatterpolargl"
           }
          ],
          "scatterternary": [
           {
            "marker": {
             "colorbar": {
              "outlinewidth": 0,
              "ticks": ""
             }
            },
            "type": "scatterternary"
           }
          ],
          "surface": [
           {
            "colorbar": {
             "outlinewidth": 0,
             "ticks": ""
            },
            "colorscale": [
             [
              0,
              "#0d0887"
             ],
             [
              0.1111111111111111,
              "#46039f"
             ],
             [
              0.2222222222222222,
              "#7201a8"
             ],
             [
              0.3333333333333333,
              "#9c179e"
             ],
             [
              0.4444444444444444,
              "#bd3786"
             ],
             [
              0.5555555555555556,
              "#d8576b"
             ],
             [
              0.6666666666666666,
              "#ed7953"
             ],
             [
              0.7777777777777778,
              "#fb9f3a"
             ],
             [
              0.8888888888888888,
              "#fdca26"
             ],
             [
              1,
              "#f0f921"
             ]
            ],
            "type": "surface"
           }
          ],
          "table": [
           {
            "cells": {
             "fill": {
              "color": "#EBF0F8"
             },
             "line": {
              "color": "white"
             }
            },
            "header": {
             "fill": {
              "color": "#C8D4E3"
             },
             "line": {
              "color": "white"
             }
            },
            "type": "table"
           }
          ]
         },
         "layout": {
          "annotationdefaults": {
           "arrowcolor": "#2a3f5f",
           "arrowhead": 0,
           "arrowwidth": 1
          },
          "autotypenumbers": "strict",
          "coloraxis": {
           "colorbar": {
            "outlinewidth": 0,
            "ticks": ""
           }
          },
          "colorscale": {
           "diverging": [
            [
             0,
             "#8e0152"
            ],
            [
             0.1,
             "#c51b7d"
            ],
            [
             0.2,
             "#de77ae"
            ],
            [
             0.3,
             "#f1b6da"
            ],
            [
             0.4,
             "#fde0ef"
            ],
            [
             0.5,
             "#f7f7f7"
            ],
            [
             0.6,
             "#e6f5d0"
            ],
            [
             0.7,
             "#b8e186"
            ],
            [
             0.8,
             "#7fbc41"
            ],
            [
             0.9,
             "#4d9221"
            ],
            [
             1,
             "#276419"
            ]
           ],
           "sequential": [
            [
             0,
             "#0d0887"
            ],
            [
             0.1111111111111111,
             "#46039f"
            ],
            [
             0.2222222222222222,
             "#7201a8"
            ],
            [
             0.3333333333333333,
             "#9c179e"
            ],
            [
             0.4444444444444444,
             "#bd3786"
            ],
            [
             0.5555555555555556,
             "#d8576b"
            ],
            [
             0.6666666666666666,
             "#ed7953"
            ],
            [
             0.7777777777777778,
             "#fb9f3a"
            ],
            [
             0.8888888888888888,
             "#fdca26"
            ],
            [
             1,
             "#f0f921"
            ]
           ],
           "sequentialminus": [
            [
             0,
             "#0d0887"
            ],
            [
             0.1111111111111111,
             "#46039f"
            ],
            [
             0.2222222222222222,
             "#7201a8"
            ],
            [
             0.3333333333333333,
             "#9c179e"
            ],
            [
             0.4444444444444444,
             "#bd3786"
            ],
            [
             0.5555555555555556,
             "#d8576b"
            ],
            [
             0.6666666666666666,
             "#ed7953"
            ],
            [
             0.7777777777777778,
             "#fb9f3a"
            ],
            [
             0.8888888888888888,
             "#fdca26"
            ],
            [
             1,
             "#f0f921"
            ]
           ]
          },
          "colorway": [
           "#636efa",
           "#EF553B",
           "#00cc96",
           "#ab63fa",
           "#FFA15A",
           "#19d3f3",
           "#FF6692",
           "#B6E880",
           "#FF97FF",
           "#FECB52"
          ],
          "font": {
           "color": "#2a3f5f"
          },
          "geo": {
           "bgcolor": "white",
           "lakecolor": "white",
           "landcolor": "white",
           "showlakes": true,
           "showland": true,
           "subunitcolor": "#C8D4E3"
          },
          "hoverlabel": {
           "align": "left"
          },
          "hovermode": "closest",
          "mapbox": {
           "style": "light"
          },
          "paper_bgcolor": "white",
          "plot_bgcolor": "white",
          "polar": {
           "angularaxis": {
            "gridcolor": "#EBF0F8",
            "linecolor": "#EBF0F8",
            "ticks": ""
           },
           "bgcolor": "white",
           "radialaxis": {
            "gridcolor": "#EBF0F8",
            "linecolor": "#EBF0F8",
            "ticks": ""
           }
          },
          "scene": {
           "xaxis": {
            "backgroundcolor": "white",
            "gridcolor": "#DFE8F3",
            "gridwidth": 2,
            "linecolor": "#EBF0F8",
            "showbackground": true,
            "ticks": "",
            "zerolinecolor": "#EBF0F8"
           },
           "yaxis": {
            "backgroundcolor": "white",
            "gridcolor": "#DFE8F3",
            "gridwidth": 2,
            "linecolor": "#EBF0F8",
            "showbackground": true,
            "ticks": "",
            "zerolinecolor": "#EBF0F8"
           },
           "zaxis": {
            "backgroundcolor": "white",
            "gridcolor": "#DFE8F3",
            "gridwidth": 2,
            "linecolor": "#EBF0F8",
            "showbackground": true,
            "ticks": "",
            "zerolinecolor": "#EBF0F8"
           }
          },
          "shapedefaults": {
           "line": {
            "color": "#2a3f5f"
           }
          },
          "ternary": {
           "aaxis": {
            "gridcolor": "#DFE8F3",
            "linecolor": "#A2B1C6",
            "ticks": ""
           },
           "baxis": {
            "gridcolor": "#DFE8F3",
            "linecolor": "#A2B1C6",
            "ticks": ""
           },
           "bgcolor": "white",
           "caxis": {
            "gridcolor": "#DFE8F3",
            "linecolor": "#A2B1C6",
            "ticks": ""
           }
          },
          "title": {
           "x": 0.05
          },
          "xaxis": {
           "automargin": true,
           "gridcolor": "#EBF0F8",
           "linecolor": "#EBF0F8",
           "ticks": "",
           "title": {
            "standoff": 15
           },
           "zerolinecolor": "#EBF0F8",
           "zerolinewidth": 2
          },
          "yaxis": {
           "automargin": true,
           "gridcolor": "#EBF0F8",
           "linecolor": "#EBF0F8",
           "ticks": "",
           "title": {
            "standoff": 15
           },
           "zerolinecolor": "#EBF0F8",
           "zerolinewidth": 2
          }
         }
        },
        "title": {
         "font": {
          "size": 20
         },
         "text": "Objective Function Evaluation of Different Optimization Techniques",
         "x": 0.5,
         "xanchor": "center",
         "yanchor": "top"
        },
        "violinmode": "group",
        "width": 900,
        "xaxis": {
         "anchor": "y",
         "domain": [
          0,
          1
         ],
         "tickfont": {
          "size": 15
         },
         "title": {
          "font": {
           "size": 15
          },
          "text": "Optimization Techniques"
         }
        },
        "yaxis": {
         "anchor": "x",
         "domain": [
          0,
          1
         ],
         "tickfont": {
          "size": 15
         },
         "title": {
          "font": {
           "size": 15
          },
          "text": "Objective Value"
         }
        }
       }
      }
     },
     "metadata": {},
     "output_type": "display_data"
    }
   ],
   "source": [
    "plot_df = grid_search_trials.copy()\n",
    "plot_df['optimization'] = \"Grid Search\"\n",
    "plot_df.drop(columns=\"params\", inplace=True)\n",
    "\n",
    "df_ = random_search_trials.copy()\n",
    "df_['optimization'] = \"Random Search\"\n",
    "df_.drop(columns=\"params\", inplace=True)\n",
    "plot_df = pd.concat([plot_df, df_])\n",
    "\n",
    "df_ = bo_search_trials.copy()\n",
    "df_['optimization'] = \"Bayesian Optimization\"\n",
    "df_.rename(columns={\"value\": \"score\"}, inplace=True)\n",
    "df_ = df_[[\"score\", \"optimization\"]]\n",
    "plot_df = pd.concat([plot_df, df_])\n",
    "\n",
    "fig = px.violin(plot_df, y=\"score\", color=\"optimization\",  points=False)\n",
    "fig = format_plot(fig, xlabel=\"Optimization Techniques\", ylabel=\"Objective Value\", title=\"Objective Function Evaluation of Different Optimization Techniques\")\n",
    "fig.write_image(\"imgs/chapter_10/opt_violin.png\")\n",
    "fig.show()"
   ]
  },
  {
   "cell_type": "markdown",
   "id": "b6d04d49-0de4-4d29-9987-d22719e41602",
   "metadata": {},
   "source": [
    "We can see that the Bayesian Optimization has a fat tail on the lower side indicating that it spent most of its computational budget evaluating and exploiting optimal regions of the search space. "
   ]
  },
  {
   "cell_type": "markdown",
   "id": "bdbee72b-04a0-47fe-a158-010a125fc44b",
   "metadata": {
    "tags": []
   },
   "source": [
    "<a id=\"using_tuned_parameters\"></a>\n",
    "### Using the tuned parameters"
   ]
  },
  {
   "cell_type": "code",
   "execution_count": 51,
   "id": "a8fafd7d-c617-4125-8221-011a947f6ed1",
   "metadata": {},
   "outputs": [],
   "source": [
    "# best_params = study.best_params\n",
    "# best_params['random_state'] = 42\n",
    "# best_params"
   ]
  },
  {
   "cell_type": "code",
   "execution_count": 52,
   "id": "dd794cfa-5a5a-4763-8ee8-482d150e15f9",
   "metadata": {},
   "outputs": [],
   "source": [
    "best_params = {\n",
    "    \"num_leaves\": 99,\n",
    "    \"objective\": \"regression_l1\",\n",
    "    \"colsample_bytree\": 0.9786759775515064,\n",
    "    \"lambda_l1\": 8.160098582954642,\n",
    "    \"lambda_l2\": 0.17840888757497253,\n",
    "    \"random_state\": 42,\n",
    "}"
   ]
  },
  {
   "cell_type": "code",
   "execution_count": 53,
   "id": "de306204-74db-4aa7-9f27-a0b453a1ed5b",
   "metadata": {},
   "outputs": [],
   "source": [
    "from lightgbm import LGBMRegressor\n",
    "model_config = ModelConfig(\n",
    "    model=LGBMRegressor(**best_params),\n",
    "    name=\"Tuned GFM+Meta\",\n",
    "    # LGBM is not sensitive to normalized data\n",
    "    normalize=False,\n",
    "    # LGBM can handle missing values\n",
    "    fill_missing=False,\n",
    ")"
   ]
  },
  {
   "cell_type": "code",
   "execution_count": 54,
   "id": "9f243d9f-9e6d-443b-a5b2-46a834e94f35",
   "metadata": {
    "tags": []
   },
   "outputs": [
    {
     "name": "stdout",
     "output_type": "stream",
     "text": [
      "[LightGBM] [Warning] lambda_l1 is set=8.160098582954642, reg_alpha=0.0 will be ignored. Current value: lambda_l1=8.160098582954642\n",
      "[LightGBM] [Warning] lambda_l2 is set=0.17840888757497253, reg_lambda=0.0 will be ignored. Current value: lambda_l2=0.17840888757497253\n",
      "[LightGBM] [Warning] lambda_l1 is set=8.160098582954642, reg_alpha=0.0 will be ignored. Current value: lambda_l1=8.160098582954642\n",
      "[LightGBM] [Warning] lambda_l2 is set=0.17840888757497253, reg_lambda=0.0 will be ignored. Current value: lambda_l2=0.17840888757497253\n",
      "[LightGBM] [Info] Auto-choosing row-wise multi-threading, the overhead of testing was 0.708362 seconds.\n",
      "You can set `force_row_wise=true` to remove the overhead.\n",
      "And if memory is not enough, you can set `force_col_wise=true`.\n",
      "[LightGBM] [Info] Total Bins 8600\n",
      "[LightGBM] [Info] Number of data points in the train set: 4293840, number of used features: 77\n",
      "[LightGBM] [Info] Start training from score 0.111000\n",
      "[LightGBM] [Warning] lambda_l1 is set=8.160098582954642, reg_alpha=0.0 will be ignored. Current value: lambda_l1=8.160098582954642\n",
      "[LightGBM] [Warning] lambda_l2 is set=0.17840888757497253, reg_lambda=0.0 will be ignored. Current value: lambda_l2=0.17840888757497253\n",
      "Time Elapsed: 1 minute and 34 seconds\n"
     ]
    },
    {
     "data": {
      "application/vnd.jupyter.widget-view+json": {
       "model_id": "1a157a6da446421dbbbde6f09e1d56c9",
       "version_major": 2,
       "version_minor": 0
      },
      "text/plain": [
       "Calculating metrics...:   0%|          | 0/150 [00:00<?, ?it/s]"
      ]
     },
     "metadata": {},
     "output_type": "display_data"
    }
   ],
   "source": [
    "with LogTime() as timer:\n",
    "    y_pred, feat_df = train_model(\n",
    "        model_config,\n",
    "        _feat_config,\n",
    "        missing_value_config,\n",
    "        train_features,\n",
    "        train_target,\n",
    "        test_features,\n",
    "        fit_kwargs=dict(categorical_feature=cat_features)\n",
    "    )\n",
    "agg_metrics, eval_metrics_df = evaluate_forecast(y_pred, test_target, train_target, model_config)\n",
    "agg_metrics[\"Time Elapsed\"] = timer.elapsed\n",
    "metric_record.append(agg_metrics)\n",
    "individual_metrics[model_config.name]=eval_metrics_df\n",
    "pred_df = pred_df.join(y_pred)"
   ]
  },
  {
   "cell_type": "code",
   "execution_count": 55,
   "id": "98daf3f5-7f88-4ef7-8899-a1e347ec5dd9",
   "metadata": {},
   "outputs": [
    {
     "data": {
      "text/html": [
       "<div>\n",
       "<style scoped>\n",
       "    .dataframe tbody tr th:only-of-type {\n",
       "        vertical-align: middle;\n",
       "    }\n",
       "\n",
       "    .dataframe tbody tr th {\n",
       "        vertical-align: top;\n",
       "    }\n",
       "\n",
       "    .dataframe thead th {\n",
       "        text-align: right;\n",
       "    }\n",
       "</style>\n",
       "<table border=\"1\" class=\"dataframe\">\n",
       "  <thead>\n",
       "    <tr style=\"text-align: right;\">\n",
       "      <th></th>\n",
       "      <th>Algorithm</th>\n",
       "      <th>MAE</th>\n",
       "      <th>MSE</th>\n",
       "      <th>meanMASE</th>\n",
       "      <th>Forecast Bias</th>\n",
       "      <th>Time Elapsed</th>\n",
       "    </tr>\n",
       "  </thead>\n",
       "  <tbody>\n",
       "    <tr>\n",
       "      <th>0</th>\n",
       "      <td>LightGBM</td>\n",
       "      <td>0.077107</td>\n",
       "      <td>0.027468</td>\n",
       "      <td>0.977439</td>\n",
       "      <td>0.032495</td>\n",
       "      <td>NaN</td>\n",
       "    </tr>\n",
       "    <tr>\n",
       "      <th>1</th>\n",
       "      <td>GFM Baseline</td>\n",
       "      <td>0.079552</td>\n",
       "      <td>0.027332</td>\n",
       "      <td>1.012078</td>\n",
       "      <td>0.190848</td>\n",
       "      <td>39.544276</td>\n",
       "    </tr>\n",
       "    <tr>\n",
       "      <th>2</th>\n",
       "      <td>GFM+Meta (CountEncoder)</td>\n",
       "      <td>0.079412</td>\n",
       "      <td>0.027232</td>\n",
       "      <td>1.011083</td>\n",
       "      <td>0.091026</td>\n",
       "      <td>112.729089</td>\n",
       "    </tr>\n",
       "    <tr>\n",
       "      <th>3</th>\n",
       "      <td>GFM+Meta  (TargetEncoder)</td>\n",
       "      <td>0.079553</td>\n",
       "      <td>0.027241</td>\n",
       "      <td>1.011387</td>\n",
       "      <td>0.299803</td>\n",
       "      <td>102.253439</td>\n",
       "    </tr>\n",
       "    <tr>\n",
       "      <th>4</th>\n",
       "      <td>GFM+Meta  (NativeLGBM)</td>\n",
       "      <td>0.079338</td>\n",
       "      <td>0.027199</td>\n",
       "      <td>1.011089</td>\n",
       "      <td>0.047789</td>\n",
       "      <td>66.527437</td>\n",
       "    </tr>\n",
       "    <tr>\n",
       "      <th>5</th>\n",
       "      <td>Tuned GFM+Meta</td>\n",
       "      <td>0.074073</td>\n",
       "      <td>0.030878</td>\n",
       "      <td>0.916890</td>\n",
       "      <td>-12.179570</td>\n",
       "      <td>94.305064</td>\n",
       "    </tr>\n",
       "  </tbody>\n",
       "</table>\n",
       "</div>"
      ],
      "text/plain": [
       "                   Algorithm       MAE       MSE  meanMASE  Forecast Bias  \\\n",
       "0                   LightGBM  0.077107  0.027468  0.977439       0.032495   \n",
       "1               GFM Baseline  0.079552  0.027332  1.012078       0.190848   \n",
       "2    GFM+Meta (CountEncoder)  0.079412  0.027232  1.011083       0.091026   \n",
       "3  GFM+Meta  (TargetEncoder)  0.079553  0.027241  1.011387       0.299803   \n",
       "4     GFM+Meta  (NativeLGBM)  0.079338  0.027199  1.011089       0.047789   \n",
       "5             Tuned GFM+Meta  0.074073  0.030878  0.916890     -12.179570   \n",
       "\n",
       "   Time Elapsed  \n",
       "0           NaN  \n",
       "1     39.544276  \n",
       "2    112.729089  \n",
       "3    102.253439  \n",
       "4     66.527437  \n",
       "5     94.305064  "
      ]
     },
     "execution_count": 55,
     "metadata": {},
     "output_type": "execute_result"
    }
   ],
   "source": [
    "pd.DataFrame(metric_record)"
   ]
  },
  {
   "cell_type": "code",
   "execution_count": 56,
   "id": "c9ba4ecd-bf0b-43f7-827a-403828113f4e",
   "metadata": {},
   "outputs": [
    {
     "data": {
      "application/vnd.plotly.v1+json": {
       "config": {
        "plotlyServerURL": "https://plot.ly"
       },
       "data": [
        {
         "alignmentgroup": "True",
         "hovertemplate": "feature=%{x}<br>importance=%{y}<extra></extra>",
         "legendgroup": "",
         "marker": {
          "color": "#636efa",
          "pattern": {
           "shape": ""
          }
         },
         "name": "",
         "offsetgroup": "",
         "orientation": "v",
         "showlegend": false,
         "textposition": "auto",
         "type": "bar",
         "x": [
          "energy_consumption_lag_1",
          "energy_consumption_lag_2",
          "LCLid",
          "energy_consumption_336_seasonal_rolling_3_mean",
          "energy_consumption_rolling_3_std",
          "energy_consumption_lag_3",
          "energy_consumption_48_seasonal_rolling_3_mean",
          "energy_consumption_rolling_6_std",
          "energy_consumption_336_seasonal_rolling_3_std",
          "energy_consumption_lag_47",
          "energy_consumption_rolling_3_mean",
          "energy_consumption_lag_48",
          "energy_consumption_lag_46",
          "energy_consumption_lag_4",
          "energy_consumption_lag_336"
         ],
         "xaxis": "x",
         "y": [
          1095,
          589,
          541,
          505,
          501,
          425,
          423,
          342,
          340,
          323,
          311,
          292,
          268,
          261,
          258
         ],
         "yaxis": "y"
        }
       ],
       "layout": {
        "autosize": false,
        "barmode": "relative",
        "height": 500,
        "legend": {
         "font": {
          "size": 12
         },
         "orientation": "h",
         "title": {},
         "tracegroupgap": 0,
         "x": 1,
         "xanchor": "right",
         "y": 0.9,
         "yanchor": "bottom"
        },
        "margin": {
         "t": 60
        },
        "template": {
         "data": {
          "bar": [
           {
            "error_x": {
             "color": "#2a3f5f"
            },
            "error_y": {
             "color": "#2a3f5f"
            },
            "marker": {
             "line": {
              "color": "white",
              "width": 0.5
             },
             "pattern": {
              "fillmode": "overlay",
              "size": 10,
              "solidity": 0.2
             }
            },
            "type": "bar"
           }
          ],
          "barpolar": [
           {
            "marker": {
             "line": {
              "color": "white",
              "width": 0.5
             },
             "pattern": {
              "fillmode": "overlay",
              "size": 10,
              "solidity": 0.2
             }
            },
            "type": "barpolar"
           }
          ],
          "carpet": [
           {
            "aaxis": {
             "endlinecolor": "#2a3f5f",
             "gridcolor": "#C8D4E3",
             "linecolor": "#C8D4E3",
             "minorgridcolor": "#C8D4E3",
             "startlinecolor": "#2a3f5f"
            },
            "baxis": {
             "endlinecolor": "#2a3f5f",
             "gridcolor": "#C8D4E3",
             "linecolor": "#C8D4E3",
             "minorgridcolor": "#C8D4E3",
             "startlinecolor": "#2a3f5f"
            },
            "type": "carpet"
           }
          ],
          "choropleth": [
           {
            "colorbar": {
             "outlinewidth": 0,
             "ticks": ""
            },
            "type": "choropleth"
           }
          ],
          "contour": [
           {
            "colorbar": {
             "outlinewidth": 0,
             "ticks": ""
            },
            "colorscale": [
             [
              0,
              "#0d0887"
             ],
             [
              0.1111111111111111,
              "#46039f"
             ],
             [
              0.2222222222222222,
              "#7201a8"
             ],
             [
              0.3333333333333333,
              "#9c179e"
             ],
             [
              0.4444444444444444,
              "#bd3786"
             ],
             [
              0.5555555555555556,
              "#d8576b"
             ],
             [
              0.6666666666666666,
              "#ed7953"
             ],
             [
              0.7777777777777778,
              "#fb9f3a"
             ],
             [
              0.8888888888888888,
              "#fdca26"
             ],
             [
              1,
              "#f0f921"
             ]
            ],
            "type": "contour"
           }
          ],
          "contourcarpet": [
           {
            "colorbar": {
             "outlinewidth": 0,
             "ticks": ""
            },
            "type": "contourcarpet"
           }
          ],
          "heatmap": [
           {
            "colorbar": {
             "outlinewidth": 0,
             "ticks": ""
            },
            "colorscale": [
             [
              0,
              "#0d0887"
             ],
             [
              0.1111111111111111,
              "#46039f"
             ],
             [
              0.2222222222222222,
              "#7201a8"
             ],
             [
              0.3333333333333333,
              "#9c179e"
             ],
             [
              0.4444444444444444,
              "#bd3786"
             ],
             [
              0.5555555555555556,
              "#d8576b"
             ],
             [
              0.6666666666666666,
              "#ed7953"
             ],
             [
              0.7777777777777778,
              "#fb9f3a"
             ],
             [
              0.8888888888888888,
              "#fdca26"
             ],
             [
              1,
              "#f0f921"
             ]
            ],
            "type": "heatmap"
           }
          ],
          "heatmapgl": [
           {
            "colorbar": {
             "outlinewidth": 0,
             "ticks": ""
            },
            "colorscale": [
             [
              0,
              "#0d0887"
             ],
             [
              0.1111111111111111,
              "#46039f"
             ],
             [
              0.2222222222222222,
              "#7201a8"
             ],
             [
              0.3333333333333333,
              "#9c179e"
             ],
             [
              0.4444444444444444,
              "#bd3786"
             ],
             [
              0.5555555555555556,
              "#d8576b"
             ],
             [
              0.6666666666666666,
              "#ed7953"
             ],
             [
              0.7777777777777778,
              "#fb9f3a"
             ],
             [
              0.8888888888888888,
              "#fdca26"
             ],
             [
              1,
              "#f0f921"
             ]
            ],
            "type": "heatmapgl"
           }
          ],
          "histogram": [
           {
            "marker": {
             "pattern": {
              "fillmode": "overlay",
              "size": 10,
              "solidity": 0.2
             }
            },
            "type": "histogram"
           }
          ],
          "histogram2d": [
           {
            "colorbar": {
             "outlinewidth": 0,
             "ticks": ""
            },
            "colorscale": [
             [
              0,
              "#0d0887"
             ],
             [
              0.1111111111111111,
              "#46039f"
             ],
             [
              0.2222222222222222,
              "#7201a8"
             ],
             [
              0.3333333333333333,
              "#9c179e"
             ],
             [
              0.4444444444444444,
              "#bd3786"
             ],
             [
              0.5555555555555556,
              "#d8576b"
             ],
             [
              0.6666666666666666,
              "#ed7953"
             ],
             [
              0.7777777777777778,
              "#fb9f3a"
             ],
             [
              0.8888888888888888,
              "#fdca26"
             ],
             [
              1,
              "#f0f921"
             ]
            ],
            "type": "histogram2d"
           }
          ],
          "histogram2dcontour": [
           {
            "colorbar": {
             "outlinewidth": 0,
             "ticks": ""
            },
            "colorscale": [
             [
              0,
              "#0d0887"
             ],
             [
              0.1111111111111111,
              "#46039f"
             ],
             [
              0.2222222222222222,
              "#7201a8"
             ],
             [
              0.3333333333333333,
              "#9c179e"
             ],
             [
              0.4444444444444444,
              "#bd3786"
             ],
             [
              0.5555555555555556,
              "#d8576b"
             ],
             [
              0.6666666666666666,
              "#ed7953"
             ],
             [
              0.7777777777777778,
              "#fb9f3a"
             ],
             [
              0.8888888888888888,
              "#fdca26"
             ],
             [
              1,
              "#f0f921"
             ]
            ],
            "type": "histogram2dcontour"
           }
          ],
          "mesh3d": [
           {
            "colorbar": {
             "outlinewidth": 0,
             "ticks": ""
            },
            "type": "mesh3d"
           }
          ],
          "parcoords": [
           {
            "line": {
             "colorbar": {
              "outlinewidth": 0,
              "ticks": ""
             }
            },
            "type": "parcoords"
           }
          ],
          "pie": [
           {
            "automargin": true,
            "type": "pie"
           }
          ],
          "scatter": [
           {
            "fillpattern": {
             "fillmode": "overlay",
             "size": 10,
             "solidity": 0.2
            },
            "type": "scatter"
           }
          ],
          "scatter3d": [
           {
            "line": {
             "colorbar": {
              "outlinewidth": 0,
              "ticks": ""
             }
            },
            "marker": {
             "colorbar": {
              "outlinewidth": 0,
              "ticks": ""
             }
            },
            "type": "scatter3d"
           }
          ],
          "scattercarpet": [
           {
            "marker": {
             "colorbar": {
              "outlinewidth": 0,
              "ticks": ""
             }
            },
            "type": "scattercarpet"
           }
          ],
          "scattergeo": [
           {
            "marker": {
             "colorbar": {
              "outlinewidth": 0,
              "ticks": ""
             }
            },
            "type": "scattergeo"
           }
          ],
          "scattergl": [
           {
            "marker": {
             "colorbar": {
              "outlinewidth": 0,
              "ticks": ""
             }
            },
            "type": "scattergl"
           }
          ],
          "scattermapbox": [
           {
            "marker": {
             "colorbar": {
              "outlinewidth": 0,
              "ticks": ""
             }
            },
            "type": "scattermapbox"
           }
          ],
          "scatterpolar": [
           {
            "marker": {
             "colorbar": {
              "outlinewidth": 0,
              "ticks": ""
             }
            },
            "type": "scatterpolar"
           }
          ],
          "scatterpolargl": [
           {
            "marker": {
             "colorbar": {
              "outlinewidth": 0,
              "ticks": ""
             }
            },
            "type": "scatterpolargl"
           }
          ],
          "scatterternary": [
           {
            "marker": {
             "colorbar": {
              "outlinewidth": 0,
              "ticks": ""
             }
            },
            "type": "scatterternary"
           }
          ],
          "surface": [
           {
            "colorbar": {
             "outlinewidth": 0,
             "ticks": ""
            },
            "colorscale": [
             [
              0,
              "#0d0887"
             ],
             [
              0.1111111111111111,
              "#46039f"
             ],
             [
              0.2222222222222222,
              "#7201a8"
             ],
             [
              0.3333333333333333,
              "#9c179e"
             ],
             [
              0.4444444444444444,
              "#bd3786"
             ],
             [
              0.5555555555555556,
              "#d8576b"
             ],
             [
              0.6666666666666666,
              "#ed7953"
             ],
             [
              0.7777777777777778,
              "#fb9f3a"
             ],
             [
              0.8888888888888888,
              "#fdca26"
             ],
             [
              1,
              "#f0f921"
             ]
            ],
            "type": "surface"
           }
          ],
          "table": [
           {
            "cells": {
             "fill": {
              "color": "#EBF0F8"
             },
             "line": {
              "color": "white"
             }
            },
            "header": {
             "fill": {
              "color": "#C8D4E3"
             },
             "line": {
              "color": "white"
             }
            },
            "type": "table"
           }
          ]
         },
         "layout": {
          "annotationdefaults": {
           "arrowcolor": "#2a3f5f",
           "arrowhead": 0,
           "arrowwidth": 1
          },
          "autotypenumbers": "strict",
          "coloraxis": {
           "colorbar": {
            "outlinewidth": 0,
            "ticks": ""
           }
          },
          "colorscale": {
           "diverging": [
            [
             0,
             "#8e0152"
            ],
            [
             0.1,
             "#c51b7d"
            ],
            [
             0.2,
             "#de77ae"
            ],
            [
             0.3,
             "#f1b6da"
            ],
            [
             0.4,
             "#fde0ef"
            ],
            [
             0.5,
             "#f7f7f7"
            ],
            [
             0.6,
             "#e6f5d0"
            ],
            [
             0.7,
             "#b8e186"
            ],
            [
             0.8,
             "#7fbc41"
            ],
            [
             0.9,
             "#4d9221"
            ],
            [
             1,
             "#276419"
            ]
           ],
           "sequential": [
            [
             0,
             "#0d0887"
            ],
            [
             0.1111111111111111,
             "#46039f"
            ],
            [
             0.2222222222222222,
             "#7201a8"
            ],
            [
             0.3333333333333333,
             "#9c179e"
            ],
            [
             0.4444444444444444,
             "#bd3786"
            ],
            [
             0.5555555555555556,
             "#d8576b"
            ],
            [
             0.6666666666666666,
             "#ed7953"
            ],
            [
             0.7777777777777778,
             "#fb9f3a"
            ],
            [
             0.8888888888888888,
             "#fdca26"
            ],
            [
             1,
             "#f0f921"
            ]
           ],
           "sequentialminus": [
            [
             0,
             "#0d0887"
            ],
            [
             0.1111111111111111,
             "#46039f"
            ],
            [
             0.2222222222222222,
             "#7201a8"
            ],
            [
             0.3333333333333333,
             "#9c179e"
            ],
            [
             0.4444444444444444,
             "#bd3786"
            ],
            [
             0.5555555555555556,
             "#d8576b"
            ],
            [
             0.6666666666666666,
             "#ed7953"
            ],
            [
             0.7777777777777778,
             "#fb9f3a"
            ],
            [
             0.8888888888888888,
             "#fdca26"
            ],
            [
             1,
             "#f0f921"
            ]
           ]
          },
          "colorway": [
           "#636efa",
           "#EF553B",
           "#00cc96",
           "#ab63fa",
           "#FFA15A",
           "#19d3f3",
           "#FF6692",
           "#B6E880",
           "#FF97FF",
           "#FECB52"
          ],
          "font": {
           "color": "#2a3f5f"
          },
          "geo": {
           "bgcolor": "white",
           "lakecolor": "white",
           "landcolor": "white",
           "showlakes": true,
           "showland": true,
           "subunitcolor": "#C8D4E3"
          },
          "hoverlabel": {
           "align": "left"
          },
          "hovermode": "closest",
          "mapbox": {
           "style": "light"
          },
          "paper_bgcolor": "white",
          "plot_bgcolor": "white",
          "polar": {
           "angularaxis": {
            "gridcolor": "#EBF0F8",
            "linecolor": "#EBF0F8",
            "ticks": ""
           },
           "bgcolor": "white",
           "radialaxis": {
            "gridcolor": "#EBF0F8",
            "linecolor": "#EBF0F8",
            "ticks": ""
           }
          },
          "scene": {
           "xaxis": {
            "backgroundcolor": "white",
            "gridcolor": "#DFE8F3",
            "gridwidth": 2,
            "linecolor": "#EBF0F8",
            "showbackground": true,
            "ticks": "",
            "zerolinecolor": "#EBF0F8"
           },
           "yaxis": {
            "backgroundcolor": "white",
            "gridcolor": "#DFE8F3",
            "gridwidth": 2,
            "linecolor": "#EBF0F8",
            "showbackground": true,
            "ticks": "",
            "zerolinecolor": "#EBF0F8"
           },
           "zaxis": {
            "backgroundcolor": "white",
            "gridcolor": "#DFE8F3",
            "gridwidth": 2,
            "linecolor": "#EBF0F8",
            "showbackground": true,
            "ticks": "",
            "zerolinecolor": "#EBF0F8"
           }
          },
          "shapedefaults": {
           "line": {
            "color": "#2a3f5f"
           }
          },
          "ternary": {
           "aaxis": {
            "gridcolor": "#DFE8F3",
            "linecolor": "#A2B1C6",
            "ticks": ""
           },
           "baxis": {
            "gridcolor": "#DFE8F3",
            "linecolor": "#A2B1C6",
            "ticks": ""
           },
           "bgcolor": "white",
           "caxis": {
            "gridcolor": "#DFE8F3",
            "linecolor": "#A2B1C6",
            "ticks": ""
           }
          },
          "title": {
           "x": 0.05
          },
          "xaxis": {
           "automargin": true,
           "gridcolor": "#EBF0F8",
           "linecolor": "#EBF0F8",
           "ticks": "",
           "title": {
            "standoff": 15
           },
           "zerolinecolor": "#EBF0F8",
           "zerolinewidth": 2
          },
          "yaxis": {
           "automargin": true,
           "gridcolor": "#EBF0F8",
           "linecolor": "#EBF0F8",
           "ticks": "",
           "title": {
            "standoff": 15
           },
           "zerolinecolor": "#EBF0F8",
           "zerolinewidth": 2
          }
         }
        },
        "title": {
         "font": {
          "size": 20
         },
         "text": "Feature Importance - Tuned GFM+Meta",
         "x": 0.5,
         "xanchor": "center",
         "yanchor": "top"
        },
        "width": 900,
        "xaxis": {
         "anchor": "y",
         "domain": [
          0,
          1
         ],
         "tickfont": {
          "size": 12
         },
         "title": {
          "font": {
           "size": 12
          },
          "text": "Features"
         }
        },
        "yaxis": {
         "anchor": "x",
         "domain": [
          0,
          1
         ],
         "tickfont": {
          "size": 12
         },
         "title": {
          "font": {
           "size": 12
          },
          "text": "Importance"
         }
        }
       }
      }
     },
     "metadata": {},
     "output_type": "display_data"
    }
   ],
   "source": [
    "fig = px.bar(feat_df.head(15), x=\"feature\", y=\"importance\")\n",
    "format_plot(fig, xlabel=\"Features\", ylabel=\"Importance\", title=f\"Feature Importance - {model_config.name}\", font_size=12)\n",
    "fig.write_image(\"imgs/chapter_10/tuned_meta_fimp.png\")\n",
    "fig.show()"
   ]
  },
  {
   "cell_type": "markdown",
   "id": "80b8a683-8449-4137-9832-223fb9e34395",
   "metadata": {
    "tags": []
   },
   "source": [
    "## Partitioning"
   ]
  },
  {
   "cell_type": "code",
   "execution_count": 57,
   "id": "45ee8824-c9fe-43da-a947-0de69f9f67d3",
   "metadata": {},
   "outputs": [],
   "source": [
    "best_params = {\n",
    "    \"num_leaves\": 99,\n",
    "    \"objective\": \"regression_l1\",\n",
    "    \"colsample_bytree\": 0.9786759775515064,\n",
    "    \"lambda_l1\": 8.160098582954642,\n",
    "    \"lambda_l2\": 0.17840888757497253,\n",
    "    \"random_state\": 42,\n",
    "}"
   ]
  },
  {
   "cell_type": "markdown",
   "id": "22985a4c-6c0f-42dd-90c0-c085e2aa76ff",
   "metadata": {
    "jp-MarkdownHeadingCollapsed": true,
    "tags": []
   },
   "source": [
    "### Random"
   ]
  },
  {
   "cell_type": "markdown",
   "id": "82ced82f-2ac5-4dda-ac99-afacab27e409",
   "metadata": {},
   "source": [
    "We can partition Randomly"
   ]
  },
  {
   "cell_type": "code",
   "execution_count": 58,
   "id": "17704ffc-d9fe-4e93-aef0-be0b2de6c1a4",
   "metadata": {},
   "outputs": [],
   "source": [
    "feat_conf_dict = copy.deepcopy(feat_config.__dict__)\n",
    "feat_conf_dict.pop(\"feature_list\")\n",
    "feat_conf_dict['categorical_features']+=[\"stdorToU\", \"Acorn\", \"LCLid\", \"Acorn_grouped\"]\n",
    "_feat_config = FeatureConfig(**feat_conf_dict)"
   ]
  },
  {
   "cell_type": "code",
   "execution_count": 59,
   "id": "f8a4b078-f10f-4e06-82d6-f24e530d13d7",
   "metadata": {},
   "outputs": [],
   "source": [
    "from lightgbm import LGBMRegressor\n",
    "model_config = ModelConfig(\n",
    "    model=LGBMRegressor(**best_params, verbose=-1),\n",
    "    name=\"Tuned GFM+Meta+Random Part\",\n",
    "    # LGBM is not sensitive to normalized data\n",
    "    normalize=False,\n",
    "    # LGBM can handle missing values\n",
    "    fill_missing=False,\n",
    ")"
   ]
  },
  {
   "cell_type": "code",
   "execution_count": 60,
   "id": "e23784f1-8324-4f63-afdf-15596e89706a",
   "metadata": {},
   "outputs": [],
   "source": [
    "def partition (list_in, n):\n",
    "    random.shuffle(list_in)\n",
    "    return [list_in[i::n] for i in range(n)]\n",
    "\n",
    "partitions = partition(train_df.LCLid.cat.categories.tolist(), 3)"
   ]
  },
  {
   "cell_type": "code",
   "execution_count": 61,
   "id": "46b5d162-c38d-4151-97ce-343773a23db9",
   "metadata": {},
   "outputs": [
    {
     "data": {
      "application/vnd.jupyter.widget-view+json": {
       "model_id": "bdabcc8561f94dd29ea6468d8eb9b7a5",
       "version_major": 2,
       "version_minor": 0
      },
      "text/plain": [
       "Training groups...:   0%|          | 0/3 [00:00<?, ?it/s]"
      ]
     },
     "metadata": {},
     "output_type": "display_data"
    },
    {
     "name": "stdout",
     "output_type": "stream",
     "text": [
      "Time Elapsed: 34 seconds\n",
      "Time Elapsed: 37 seconds\n",
      "Time Elapsed: 31 seconds\n"
     ]
    }
   ],
   "source": [
    "y_pred_l = []\n",
    "feat_df_l = []\n",
    "time_elapsed_l = []\n",
    "for lclids in tqdm(partitions, desc=\"Training groups...\"):\n",
    "    _train_df = train_df.loc[train_df.LCLid.isin(lclids)]\n",
    "    _test_df = test_df.loc[test_df.LCLid.isin(lclids)]\n",
    "    train_features, train_target, train_original_target = _feat_config.get_X_y(\n",
    "        _train_df, categorical=True, exogenous=False\n",
    "    )\n",
    "    # Loading the Validation as test\n",
    "    test_features, test_target, test_original_target = _feat_config.get_X_y(\n",
    "        _test_df, categorical=True, exogenous=False\n",
    "    )\n",
    "    cat_features = set(train_features.columns).intersection(\n",
    "        _feat_config.categorical_features\n",
    "    )\n",
    "    _model_config = model_config.clone()\n",
    "    with LogTime() as timer:\n",
    "        y_pred, feat_df = train_model(\n",
    "            _model_config,\n",
    "            _feat_config,\n",
    "            missing_value_config,\n",
    "            train_features,\n",
    "            train_target,\n",
    "            test_features,\n",
    "            fit_kwargs=dict(categorical_feature=cat_features),\n",
    "        )\n",
    "    y_pred_l.append(y_pred)\n",
    "    feat_df_l.append(feat_df)\n",
    "    time_elapsed_l.append(timer.elapsed)"
   ]
  },
  {
   "cell_type": "code",
   "execution_count": 62,
   "id": "54eb6340-582f-4f20-b425-9a72a8879a7b",
   "metadata": {
    "tags": []
   },
   "outputs": [
    {
     "data": {
      "application/vnd.jupyter.widget-view+json": {
       "model_id": "0f455d0bc20f452a845f8b79d775b94d",
       "version_major": 2,
       "version_minor": 0
      },
      "text/plain": [
       "Calculating metrics...:   0%|          | 0/150 [00:00<?, ?it/s]"
      ]
     },
     "metadata": {},
     "output_type": "display_data"
    }
   ],
   "source": [
    "y_pred = pd.concat(y_pred_l)\n",
    "\n",
    "test_features, test_target, test_original_target = _feat_config.get_X_y(\n",
    "    test_df, categorical=True, exogenous=False\n",
    ")\n",
    "train_features, train_target, train_original_target = _feat_config.get_X_y(\n",
    "    train_df, categorical=True, exogenous=False\n",
    ")\n",
    "\n",
    "agg_metrics, eval_metrics_df = evaluate_forecast(y_pred, test_target, train_target, model_config)\n",
    "agg_metrics[\"Time Elapsed\"] = np.sum(time_elapsed_l)\n",
    "metric_record.append(agg_metrics)\n",
    "individual_metrics[model_config.name]=eval_metrics_df\n",
    "pred_df = pred_df.join(y_pred)"
   ]
  },
  {
   "cell_type": "code",
   "execution_count": 63,
   "id": "a95ebaf1-a4b0-4730-9984-f80129b282ea",
   "metadata": {},
   "outputs": [
    {
     "data": {
      "text/html": [
       "<div>\n",
       "<style scoped>\n",
       "    .dataframe tbody tr th:only-of-type {\n",
       "        vertical-align: middle;\n",
       "    }\n",
       "\n",
       "    .dataframe tbody tr th {\n",
       "        vertical-align: top;\n",
       "    }\n",
       "\n",
       "    .dataframe thead th {\n",
       "        text-align: right;\n",
       "    }\n",
       "</style>\n",
       "<table border=\"1\" class=\"dataframe\">\n",
       "  <thead>\n",
       "    <tr style=\"text-align: right;\">\n",
       "      <th></th>\n",
       "      <th>Algorithm</th>\n",
       "      <th>MAE</th>\n",
       "      <th>MSE</th>\n",
       "      <th>meanMASE</th>\n",
       "      <th>Forecast Bias</th>\n",
       "      <th>Time Elapsed</th>\n",
       "    </tr>\n",
       "  </thead>\n",
       "  <tbody>\n",
       "    <tr>\n",
       "      <th>0</th>\n",
       "      <td>LightGBM</td>\n",
       "      <td>0.077107</td>\n",
       "      <td>0.027468</td>\n",
       "      <td>0.977439</td>\n",
       "      <td>0.032495</td>\n",
       "      <td>NaN</td>\n",
       "    </tr>\n",
       "    <tr>\n",
       "      <th>1</th>\n",
       "      <td>GFM Baseline</td>\n",
       "      <td>0.079552</td>\n",
       "      <td>0.027332</td>\n",
       "      <td>1.012078</td>\n",
       "      <td>0.190848</td>\n",
       "      <td>39.544276</td>\n",
       "    </tr>\n",
       "    <tr>\n",
       "      <th>2</th>\n",
       "      <td>GFM+Meta (CountEncoder)</td>\n",
       "      <td>0.079412</td>\n",
       "      <td>0.027232</td>\n",
       "      <td>1.011083</td>\n",
       "      <td>0.091026</td>\n",
       "      <td>112.729089</td>\n",
       "    </tr>\n",
       "    <tr>\n",
       "      <th>3</th>\n",
       "      <td>GFM+Meta  (TargetEncoder)</td>\n",
       "      <td>0.079553</td>\n",
       "      <td>0.027241</td>\n",
       "      <td>1.011387</td>\n",
       "      <td>0.299803</td>\n",
       "      <td>102.253439</td>\n",
       "    </tr>\n",
       "    <tr>\n",
       "      <th>4</th>\n",
       "      <td>GFM+Meta  (NativeLGBM)</td>\n",
       "      <td>0.079338</td>\n",
       "      <td>0.027199</td>\n",
       "      <td>1.011089</td>\n",
       "      <td>0.047789</td>\n",
       "      <td>66.527437</td>\n",
       "    </tr>\n",
       "    <tr>\n",
       "      <th>5</th>\n",
       "      <td>Tuned GFM+Meta</td>\n",
       "      <td>0.074073</td>\n",
       "      <td>0.030878</td>\n",
       "      <td>0.916890</td>\n",
       "      <td>-12.179570</td>\n",
       "      <td>94.305064</td>\n",
       "    </tr>\n",
       "    <tr>\n",
       "      <th>6</th>\n",
       "      <td>Tuned GFM+Meta+Random Part</td>\n",
       "      <td>0.073132</td>\n",
       "      <td>0.030865</td>\n",
       "      <td>0.905318</td>\n",
       "      <td>-12.380182</td>\n",
       "      <td>103.310471</td>\n",
       "    </tr>\n",
       "  </tbody>\n",
       "</table>\n",
       "</div>"
      ],
      "text/plain": [
       "                    Algorithm       MAE       MSE  meanMASE  Forecast Bias  \\\n",
       "0                    LightGBM  0.077107  0.027468  0.977439       0.032495   \n",
       "1                GFM Baseline  0.079552  0.027332  1.012078       0.190848   \n",
       "2     GFM+Meta (CountEncoder)  0.079412  0.027232  1.011083       0.091026   \n",
       "3   GFM+Meta  (TargetEncoder)  0.079553  0.027241  1.011387       0.299803   \n",
       "4      GFM+Meta  (NativeLGBM)  0.079338  0.027199  1.011089       0.047789   \n",
       "5              Tuned GFM+Meta  0.074073  0.030878  0.916890     -12.179570   \n",
       "6  Tuned GFM+Meta+Random Part  0.073132  0.030865  0.905318     -12.380182   \n",
       "\n",
       "   Time Elapsed  \n",
       "0           NaN  \n",
       "1     39.544276  \n",
       "2    112.729089  \n",
       "3    102.253439  \n",
       "4     66.527437  \n",
       "5     94.305064  \n",
       "6    103.310471  "
      ]
     },
     "execution_count": 63,
     "metadata": {},
     "output_type": "execute_result"
    }
   ],
   "source": [
    "pd.DataFrame(metric_record)"
   ]
  },
  {
   "cell_type": "code",
   "execution_count": 64,
   "id": "6824ac93",
   "metadata": {},
   "outputs": [
    {
     "data": {
      "text/plain": [
       "[                                           feature  importance\n",
       " 45                        energy_consumption_lag_1         847\n",
       " 35                                           LCLid         645\n",
       " 4                 energy_consumption_rolling_3_std         581\n",
       " 12  energy_consumption_336_seasonal_rolling_3_mean         498\n",
       " 25   energy_consumption_336_seasonal_rolling_3_std         406\n",
       " ..                                             ...         ...\n",
       " 46                           timestamp_Month_cos_3           0\n",
       " 14                           timestamp_Month_cos_2           0\n",
       " 39                           timestamp_Is_year_end           0\n",
       " 17                      timestamp_Is_quarter_start           0\n",
       " 23                          timestamp_Minute_cos_2           0\n",
       " \n",
       " [77 rows x 2 columns],\n",
       "                              feature  importance\n",
       " 45          energy_consumption_lag_1        1200\n",
       " 35                             LCLid        1084\n",
       " 73          energy_consumption_lag_2         690\n",
       " 4   energy_consumption_rolling_3_std         480\n",
       " 44          energy_consumption_lag_3         471\n",
       " ..                               ...         ...\n",
       " 55                 timestamp_Quarter           0\n",
       " 23            timestamp_Minute_cos_2           0\n",
       " 47            timestamp_Minute_cos_1           0\n",
       " 51            timestamp_Minute_sin_4           0\n",
       " 34                  timestamp_Minute           0\n",
       " \n",
       " [77 rows x 2 columns],\n",
       "                                            feature  importance\n",
       " 45                        energy_consumption_lag_1         751\n",
       " 35                                           LCLid         562\n",
       " 12  energy_consumption_336_seasonal_rolling_3_mean         532\n",
       " 4                 energy_consumption_rolling_3_std         442\n",
       " 25   energy_consumption_336_seasonal_rolling_3_std         437\n",
       " ..                                             ...         ...\n",
       " 31                                 timestamp_Month           0\n",
       " 51                          timestamp_Minute_sin_4           0\n",
       " 14                           timestamp_Month_cos_2           0\n",
       " 46                           timestamp_Month_cos_3           0\n",
       " 23                          timestamp_Minute_cos_2           0\n",
       " \n",
       " [77 rows x 2 columns]]"
      ]
     },
     "execution_count": 64,
     "metadata": {},
     "output_type": "execute_result"
    }
   ],
   "source": [
    "feat_df_l"
   ]
  },
  {
   "cell_type": "code",
   "execution_count": 65,
   "id": "ffb81d17",
   "metadata": {},
   "outputs": [],
   "source": [
    "temp = feat_df_l.copy()"
   ]
  },
  {
   "cell_type": "code",
   "execution_count": 66,
   "id": "c5dafe36",
   "metadata": {},
   "outputs": [
    {
     "data": {
      "text/html": [
       "<div>\n",
       "<style scoped>\n",
       "    .dataframe tbody tr th:only-of-type {\n",
       "        vertical-align: middle;\n",
       "    }\n",
       "\n",
       "    .dataframe tbody tr th {\n",
       "        vertical-align: top;\n",
       "    }\n",
       "\n",
       "    .dataframe thead th {\n",
       "        text-align: right;\n",
       "    }\n",
       "</style>\n",
       "<table border=\"1\" class=\"dataframe\">\n",
       "  <thead>\n",
       "    <tr style=\"text-align: right;\">\n",
       "      <th></th>\n",
       "      <th>feature</th>\n",
       "      <th>importance</th>\n",
       "    </tr>\n",
       "  </thead>\n",
       "  <tbody>\n",
       "    <tr>\n",
       "      <th>45</th>\n",
       "      <td>energy_consumption_lag_1</td>\n",
       "      <td>751</td>\n",
       "    </tr>\n",
       "    <tr>\n",
       "      <th>35</th>\n",
       "      <td>LCLid</td>\n",
       "      <td>562</td>\n",
       "    </tr>\n",
       "    <tr>\n",
       "      <th>12</th>\n",
       "      <td>energy_consumption_336_seasonal_rolling_3_mean</td>\n",
       "      <td>532</td>\n",
       "    </tr>\n",
       "    <tr>\n",
       "      <th>4</th>\n",
       "      <td>energy_consumption_rolling_3_std</td>\n",
       "      <td>442</td>\n",
       "    </tr>\n",
       "    <tr>\n",
       "      <th>25</th>\n",
       "      <td>energy_consumption_336_seasonal_rolling_3_std</td>\n",
       "      <td>437</td>\n",
       "    </tr>\n",
       "    <tr>\n",
       "      <th>...</th>\n",
       "      <td>...</td>\n",
       "      <td>...</td>\n",
       "    </tr>\n",
       "    <tr>\n",
       "      <th>31</th>\n",
       "      <td>timestamp_Month</td>\n",
       "      <td>0</td>\n",
       "    </tr>\n",
       "    <tr>\n",
       "      <th>51</th>\n",
       "      <td>timestamp_Minute_sin_4</td>\n",
       "      <td>0</td>\n",
       "    </tr>\n",
       "    <tr>\n",
       "      <th>14</th>\n",
       "      <td>timestamp_Month_cos_2</td>\n",
       "      <td>0</td>\n",
       "    </tr>\n",
       "    <tr>\n",
       "      <th>46</th>\n",
       "      <td>timestamp_Month_cos_3</td>\n",
       "      <td>0</td>\n",
       "    </tr>\n",
       "    <tr>\n",
       "      <th>23</th>\n",
       "      <td>timestamp_Minute_cos_2</td>\n",
       "      <td>0</td>\n",
       "    </tr>\n",
       "  </tbody>\n",
       "</table>\n",
       "<p>77 rows × 2 columns</p>\n",
       "</div>"
      ],
      "text/plain": [
       "                                           feature  importance\n",
       "45                        energy_consumption_lag_1         751\n",
       "35                                           LCLid         562\n",
       "12  energy_consumption_336_seasonal_rolling_3_mean         532\n",
       "4                 energy_consumption_rolling_3_std         442\n",
       "25   energy_consumption_336_seasonal_rolling_3_std         437\n",
       "..                                             ...         ...\n",
       "31                                 timestamp_Month           0\n",
       "51                          timestamp_Minute_sin_4           0\n",
       "14                           timestamp_Month_cos_2           0\n",
       "46                           timestamp_Month_cos_3           0\n",
       "23                          timestamp_Minute_cos_2           0\n",
       "\n",
       "[77 rows x 2 columns]"
      ]
     },
     "execution_count": 66,
     "metadata": {},
     "output_type": "execute_result"
    }
   ],
   "source": [
    "feat_df"
   ]
  },
  {
   "cell_type": "code",
   "execution_count": 67,
   "id": "355e30ed-bd7b-4b0c-896b-73b307c96674",
   "metadata": {},
   "outputs": [],
   "source": [
    "#Averaging feature importance across partitions (Dirty Approximation)\n",
    "feat_df = feat_df_l.pop(0)\n",
    "for i, d in enumerate(feat_df_l):\n",
    "    feat_df = feat_df.merge(d, on=\"feature\",suffixes=(\"\",\"_{i}\"))\n",
    "\n",
    "feat_df = feat_df.set_index('feature')\n",
    "feat_df[\"importance\"] = feat_df.sum(axis=1)\n",
    "feat_df = feat_df.reset_index()\n",
    "feat_df = feat_df.loc[:, [\"feature\", \"importance\"]]"
   ]
  },
  {
   "cell_type": "code",
   "execution_count": 68,
   "id": "1757313b-d885-445d-9782-6976d208d2b6",
   "metadata": {},
   "outputs": [
    {
     "data": {
      "application/vnd.plotly.v1+json": {
       "config": {
        "plotlyServerURL": "https://plot.ly"
       },
       "data": [
        {
         "alignmentgroup": "True",
         "hovertemplate": "feature=%{x}<br>importance=%{y}<extra></extra>",
         "legendgroup": "",
         "marker": {
          "color": "#636efa",
          "pattern": {
           "shape": ""
          }
         },
         "name": "",
         "offsetgroup": "",
         "orientation": "v",
         "showlegend": false,
         "textposition": "auto",
         "type": "bar",
         "x": [
          "energy_consumption_lag_1",
          "LCLid",
          "energy_consumption_rolling_3_std",
          "energy_consumption_336_seasonal_rolling_3_mean",
          "energy_consumption_336_seasonal_rolling_3_std",
          "energy_consumption_lag_2",
          "energy_consumption_rolling_3_mean",
          "energy_consumption_lag_3",
          "energy_consumption_rolling_6_std",
          "energy_consumption_48_seasonal_rolling_3_mean",
          "energy_consumption_lag_335",
          "energy_consumption_lag_47",
          "energy_consumption_lag_46",
          "energy_consumption_48_seasonal_rolling_3_std",
          "energy_consumption_lag_48"
         ],
         "xaxis": "x",
         "y": [
          2798,
          2291,
          1503,
          1438,
          962,
          1459,
          1023,
          1125,
          731,
          1007,
          733,
          858,
          658,
          659,
          725
         ],
         "yaxis": "y"
        }
       ],
       "layout": {
        "autosize": false,
        "barmode": "relative",
        "height": 500,
        "legend": {
         "font": {
          "size": 12
         },
         "orientation": "h",
         "title": {},
         "tracegroupgap": 0,
         "x": 1,
         "xanchor": "right",
         "y": 0.9,
         "yanchor": "bottom"
        },
        "margin": {
         "t": 60
        },
        "template": {
         "data": {
          "bar": [
           {
            "error_x": {
             "color": "#2a3f5f"
            },
            "error_y": {
             "color": "#2a3f5f"
            },
            "marker": {
             "line": {
              "color": "white",
              "width": 0.5
             },
             "pattern": {
              "fillmode": "overlay",
              "size": 10,
              "solidity": 0.2
             }
            },
            "type": "bar"
           }
          ],
          "barpolar": [
           {
            "marker": {
             "line": {
              "color": "white",
              "width": 0.5
             },
             "pattern": {
              "fillmode": "overlay",
              "size": 10,
              "solidity": 0.2
             }
            },
            "type": "barpolar"
           }
          ],
          "carpet": [
           {
            "aaxis": {
             "endlinecolor": "#2a3f5f",
             "gridcolor": "#C8D4E3",
             "linecolor": "#C8D4E3",
             "minorgridcolor": "#C8D4E3",
             "startlinecolor": "#2a3f5f"
            },
            "baxis": {
             "endlinecolor": "#2a3f5f",
             "gridcolor": "#C8D4E3",
             "linecolor": "#C8D4E3",
             "minorgridcolor": "#C8D4E3",
             "startlinecolor": "#2a3f5f"
            },
            "type": "carpet"
           }
          ],
          "choropleth": [
           {
            "colorbar": {
             "outlinewidth": 0,
             "ticks": ""
            },
            "type": "choropleth"
           }
          ],
          "contour": [
           {
            "colorbar": {
             "outlinewidth": 0,
             "ticks": ""
            },
            "colorscale": [
             [
              0,
              "#0d0887"
             ],
             [
              0.1111111111111111,
              "#46039f"
             ],
             [
              0.2222222222222222,
              "#7201a8"
             ],
             [
              0.3333333333333333,
              "#9c179e"
             ],
             [
              0.4444444444444444,
              "#bd3786"
             ],
             [
              0.5555555555555556,
              "#d8576b"
             ],
             [
              0.6666666666666666,
              "#ed7953"
             ],
             [
              0.7777777777777778,
              "#fb9f3a"
             ],
             [
              0.8888888888888888,
              "#fdca26"
             ],
             [
              1,
              "#f0f921"
             ]
            ],
            "type": "contour"
           }
          ],
          "contourcarpet": [
           {
            "colorbar": {
             "outlinewidth": 0,
             "ticks": ""
            },
            "type": "contourcarpet"
           }
          ],
          "heatmap": [
           {
            "colorbar": {
             "outlinewidth": 0,
             "ticks": ""
            },
            "colorscale": [
             [
              0,
              "#0d0887"
             ],
             [
              0.1111111111111111,
              "#46039f"
             ],
             [
              0.2222222222222222,
              "#7201a8"
             ],
             [
              0.3333333333333333,
              "#9c179e"
             ],
             [
              0.4444444444444444,
              "#bd3786"
             ],
             [
              0.5555555555555556,
              "#d8576b"
             ],
             [
              0.6666666666666666,
              "#ed7953"
             ],
             [
              0.7777777777777778,
              "#fb9f3a"
             ],
             [
              0.8888888888888888,
              "#fdca26"
             ],
             [
              1,
              "#f0f921"
             ]
            ],
            "type": "heatmap"
           }
          ],
          "heatmapgl": [
           {
            "colorbar": {
             "outlinewidth": 0,
             "ticks": ""
            },
            "colorscale": [
             [
              0,
              "#0d0887"
             ],
             [
              0.1111111111111111,
              "#46039f"
             ],
             [
              0.2222222222222222,
              "#7201a8"
             ],
             [
              0.3333333333333333,
              "#9c179e"
             ],
             [
              0.4444444444444444,
              "#bd3786"
             ],
             [
              0.5555555555555556,
              "#d8576b"
             ],
             [
              0.6666666666666666,
              "#ed7953"
             ],
             [
              0.7777777777777778,
              "#fb9f3a"
             ],
             [
              0.8888888888888888,
              "#fdca26"
             ],
             [
              1,
              "#f0f921"
             ]
            ],
            "type": "heatmapgl"
           }
          ],
          "histogram": [
           {
            "marker": {
             "pattern": {
              "fillmode": "overlay",
              "size": 10,
              "solidity": 0.2
             }
            },
            "type": "histogram"
           }
          ],
          "histogram2d": [
           {
            "colorbar": {
             "outlinewidth": 0,
             "ticks": ""
            },
            "colorscale": [
             [
              0,
              "#0d0887"
             ],
             [
              0.1111111111111111,
              "#46039f"
             ],
             [
              0.2222222222222222,
              "#7201a8"
             ],
             [
              0.3333333333333333,
              "#9c179e"
             ],
             [
              0.4444444444444444,
              "#bd3786"
             ],
             [
              0.5555555555555556,
              "#d8576b"
             ],
             [
              0.6666666666666666,
              "#ed7953"
             ],
             [
              0.7777777777777778,
              "#fb9f3a"
             ],
             [
              0.8888888888888888,
              "#fdca26"
             ],
             [
              1,
              "#f0f921"
             ]
            ],
            "type": "histogram2d"
           }
          ],
          "histogram2dcontour": [
           {
            "colorbar": {
             "outlinewidth": 0,
             "ticks": ""
            },
            "colorscale": [
             [
              0,
              "#0d0887"
             ],
             [
              0.1111111111111111,
              "#46039f"
             ],
             [
              0.2222222222222222,
              "#7201a8"
             ],
             [
              0.3333333333333333,
              "#9c179e"
             ],
             [
              0.4444444444444444,
              "#bd3786"
             ],
             [
              0.5555555555555556,
              "#d8576b"
             ],
             [
              0.6666666666666666,
              "#ed7953"
             ],
             [
              0.7777777777777778,
              "#fb9f3a"
             ],
             [
              0.8888888888888888,
              "#fdca26"
             ],
             [
              1,
              "#f0f921"
             ]
            ],
            "type": "histogram2dcontour"
           }
          ],
          "mesh3d": [
           {
            "colorbar": {
             "outlinewidth": 0,
             "ticks": ""
            },
            "type": "mesh3d"
           }
          ],
          "parcoords": [
           {
            "line": {
             "colorbar": {
              "outlinewidth": 0,
              "ticks": ""
             }
            },
            "type": "parcoords"
           }
          ],
          "pie": [
           {
            "automargin": true,
            "type": "pie"
           }
          ],
          "scatter": [
           {
            "fillpattern": {
             "fillmode": "overlay",
             "size": 10,
             "solidity": 0.2
            },
            "type": "scatter"
           }
          ],
          "scatter3d": [
           {
            "line": {
             "colorbar": {
              "outlinewidth": 0,
              "ticks": ""
             }
            },
            "marker": {
             "colorbar": {
              "outlinewidth": 0,
              "ticks": ""
             }
            },
            "type": "scatter3d"
           }
          ],
          "scattercarpet": [
           {
            "marker": {
             "colorbar": {
              "outlinewidth": 0,
              "ticks": ""
             }
            },
            "type": "scattercarpet"
           }
          ],
          "scattergeo": [
           {
            "marker": {
             "colorbar": {
              "outlinewidth": 0,
              "ticks": ""
             }
            },
            "type": "scattergeo"
           }
          ],
          "scattergl": [
           {
            "marker": {
             "colorbar": {
              "outlinewidth": 0,
              "ticks": ""
             }
            },
            "type": "scattergl"
           }
          ],
          "scattermapbox": [
           {
            "marker": {
             "colorbar": {
              "outlinewidth": 0,
              "ticks": ""
             }
            },
            "type": "scattermapbox"
           }
          ],
          "scatterpolar": [
           {
            "marker": {
             "colorbar": {
              "outlinewidth": 0,
              "ticks": ""
             }
            },
            "type": "scatterpolar"
           }
          ],
          "scatterpolargl": [
           {
            "marker": {
             "colorbar": {
              "outlinewidth": 0,
              "ticks": ""
             }
            },
            "type": "scatterpolargl"
           }
          ],
          "scatterternary": [
           {
            "marker": {
             "colorbar": {
              "outlinewidth": 0,
              "ticks": ""
             }
            },
            "type": "scatterternary"
           }
          ],
          "surface": [
           {
            "colorbar": {
             "outlinewidth": 0,
             "ticks": ""
            },
            "colorscale": [
             [
              0,
              "#0d0887"
             ],
             [
              0.1111111111111111,
              "#46039f"
             ],
             [
              0.2222222222222222,
              "#7201a8"
             ],
             [
              0.3333333333333333,
              "#9c179e"
             ],
             [
              0.4444444444444444,
              "#bd3786"
             ],
             [
              0.5555555555555556,
              "#d8576b"
             ],
             [
              0.6666666666666666,
              "#ed7953"
             ],
             [
              0.7777777777777778,
              "#fb9f3a"
             ],
             [
              0.8888888888888888,
              "#fdca26"
             ],
             [
              1,
              "#f0f921"
             ]
            ],
            "type": "surface"
           }
          ],
          "table": [
           {
            "cells": {
             "fill": {
              "color": "#EBF0F8"
             },
             "line": {
              "color": "white"
             }
            },
            "header": {
             "fill": {
              "color": "#C8D4E3"
             },
             "line": {
              "color": "white"
             }
            },
            "type": "table"
           }
          ]
         },
         "layout": {
          "annotationdefaults": {
           "arrowcolor": "#2a3f5f",
           "arrowhead": 0,
           "arrowwidth": 1
          },
          "autotypenumbers": "strict",
          "coloraxis": {
           "colorbar": {
            "outlinewidth": 0,
            "ticks": ""
           }
          },
          "colorscale": {
           "diverging": [
            [
             0,
             "#8e0152"
            ],
            [
             0.1,
             "#c51b7d"
            ],
            [
             0.2,
             "#de77ae"
            ],
            [
             0.3,
             "#f1b6da"
            ],
            [
             0.4,
             "#fde0ef"
            ],
            [
             0.5,
             "#f7f7f7"
            ],
            [
             0.6,
             "#e6f5d0"
            ],
            [
             0.7,
             "#b8e186"
            ],
            [
             0.8,
             "#7fbc41"
            ],
            [
             0.9,
             "#4d9221"
            ],
            [
             1,
             "#276419"
            ]
           ],
           "sequential": [
            [
             0,
             "#0d0887"
            ],
            [
             0.1111111111111111,
             "#46039f"
            ],
            [
             0.2222222222222222,
             "#7201a8"
            ],
            [
             0.3333333333333333,
             "#9c179e"
            ],
            [
             0.4444444444444444,
             "#bd3786"
            ],
            [
             0.5555555555555556,
             "#d8576b"
            ],
            [
             0.6666666666666666,
             "#ed7953"
            ],
            [
             0.7777777777777778,
             "#fb9f3a"
            ],
            [
             0.8888888888888888,
             "#fdca26"
            ],
            [
             1,
             "#f0f921"
            ]
           ],
           "sequentialminus": [
            [
             0,
             "#0d0887"
            ],
            [
             0.1111111111111111,
             "#46039f"
            ],
            [
             0.2222222222222222,
             "#7201a8"
            ],
            [
             0.3333333333333333,
             "#9c179e"
            ],
            [
             0.4444444444444444,
             "#bd3786"
            ],
            [
             0.5555555555555556,
             "#d8576b"
            ],
            [
             0.6666666666666666,
             "#ed7953"
            ],
            [
             0.7777777777777778,
             "#fb9f3a"
            ],
            [
             0.8888888888888888,
             "#fdca26"
            ],
            [
             1,
             "#f0f921"
            ]
           ]
          },
          "colorway": [
           "#636efa",
           "#EF553B",
           "#00cc96",
           "#ab63fa",
           "#FFA15A",
           "#19d3f3",
           "#FF6692",
           "#B6E880",
           "#FF97FF",
           "#FECB52"
          ],
          "font": {
           "color": "#2a3f5f"
          },
          "geo": {
           "bgcolor": "white",
           "lakecolor": "white",
           "landcolor": "white",
           "showlakes": true,
           "showland": true,
           "subunitcolor": "#C8D4E3"
          },
          "hoverlabel": {
           "align": "left"
          },
          "hovermode": "closest",
          "mapbox": {
           "style": "light"
          },
          "paper_bgcolor": "white",
          "plot_bgcolor": "white",
          "polar": {
           "angularaxis": {
            "gridcolor": "#EBF0F8",
            "linecolor": "#EBF0F8",
            "ticks": ""
           },
           "bgcolor": "white",
           "radialaxis": {
            "gridcolor": "#EBF0F8",
            "linecolor": "#EBF0F8",
            "ticks": ""
           }
          },
          "scene": {
           "xaxis": {
            "backgroundcolor": "white",
            "gridcolor": "#DFE8F3",
            "gridwidth": 2,
            "linecolor": "#EBF0F8",
            "showbackground": true,
            "ticks": "",
            "zerolinecolor": "#EBF0F8"
           },
           "yaxis": {
            "backgroundcolor": "white",
            "gridcolor": "#DFE8F3",
            "gridwidth": 2,
            "linecolor": "#EBF0F8",
            "showbackground": true,
            "ticks": "",
            "zerolinecolor": "#EBF0F8"
           },
           "zaxis": {
            "backgroundcolor": "white",
            "gridcolor": "#DFE8F3",
            "gridwidth": 2,
            "linecolor": "#EBF0F8",
            "showbackground": true,
            "ticks": "",
            "zerolinecolor": "#EBF0F8"
           }
          },
          "shapedefaults": {
           "line": {
            "color": "#2a3f5f"
           }
          },
          "ternary": {
           "aaxis": {
            "gridcolor": "#DFE8F3",
            "linecolor": "#A2B1C6",
            "ticks": ""
           },
           "baxis": {
            "gridcolor": "#DFE8F3",
            "linecolor": "#A2B1C6",
            "ticks": ""
           },
           "bgcolor": "white",
           "caxis": {
            "gridcolor": "#DFE8F3",
            "linecolor": "#A2B1C6",
            "ticks": ""
           }
          },
          "title": {
           "x": 0.05
          },
          "xaxis": {
           "automargin": true,
           "gridcolor": "#EBF0F8",
           "linecolor": "#EBF0F8",
           "ticks": "",
           "title": {
            "standoff": 15
           },
           "zerolinecolor": "#EBF0F8",
           "zerolinewidth": 2
          },
          "yaxis": {
           "automargin": true,
           "gridcolor": "#EBF0F8",
           "linecolor": "#EBF0F8",
           "ticks": "",
           "title": {
            "standoff": 15
           },
           "zerolinecolor": "#EBF0F8",
           "zerolinewidth": 2
          }
         }
        },
        "title": {
         "font": {
          "size": 20
         },
         "text": "Aggregate Feature Importance - Tuned GFM+Meta+Random Part",
         "x": 0.5,
         "xanchor": "center",
         "yanchor": "top"
        },
        "width": 900,
        "xaxis": {
         "anchor": "y",
         "domain": [
          0,
          1
         ],
         "tickfont": {
          "size": 12
         },
         "title": {
          "font": {
           "size": 12
          },
          "text": "Features"
         }
        },
        "yaxis": {
         "anchor": "x",
         "domain": [
          0,
          1
         ],
         "tickfont": {
          "size": 12
         },
         "title": {
          "font": {
           "size": 12
          },
          "text": "Importance"
         }
        }
       }
      }
     },
     "metadata": {},
     "output_type": "display_data"
    }
   ],
   "source": [
    "fig = px.bar(feat_df.head(15), x=\"feature\", y=\"importance\")\n",
    "format_plot(fig, xlabel=\"Features\", ylabel=\"Importance\", title=f\"Aggregate Feature Importance - {model_config.name}\", font_size=12)\n",
    "fig.write_image(\"imgs/chapter_10/random_partition_fimp.png\")\n",
    "fig.show()"
   ]
  },
  {
   "cell_type": "markdown",
   "id": "66565e08-088e-4de0-a9bf-05656d8bd1bc",
   "metadata": {
    "jp-MarkdownHeadingCollapsed": true,
    "tags": []
   },
   "source": [
    "### Judgmental"
   ]
  },
  {
   "cell_type": "markdown",
   "id": "c41b3154-ee87-4f75-b6ae-81b189db6a5c",
   "metadata": {},
   "source": [
    "We can partition based on ACORN Groups"
   ]
  },
  {
   "cell_type": "code",
   "execution_count": 69,
   "id": "b4362d44-71fe-438a-ba1f-ba0f8521af51",
   "metadata": {},
   "outputs": [],
   "source": [
    "feat_conf_dict = copy.deepcopy(feat_config.__dict__)\n",
    "feat_conf_dict.pop(\"feature_list\")\n",
    "feat_conf_dict['categorical_features']+=[\"stdorToU\", \"Acorn\", \"LCLid\"]\n",
    "_feat_config = FeatureConfig(**feat_conf_dict)"
   ]
  },
  {
   "cell_type": "code",
   "execution_count": 70,
   "id": "0c28b935-c661-40a2-9e33-5f7997d4b01b",
   "metadata": {},
   "outputs": [],
   "source": [
    "from lightgbm import LGBMRegressor\n",
    "model_config = ModelConfig(\n",
    "    model=LGBMRegressor(**best_params, verbose=-1),\n",
    "    name=\"Tuned GFM+Meta+ACORN Part\",\n",
    "    # LGBM is not sensitive to normalized data\n",
    "    normalize=False,\n",
    "    # LGBM can handle missing values\n",
    "    fill_missing=False,\n",
    ")"
   ]
  },
  {
   "cell_type": "code",
   "execution_count": 71,
   "id": "9c5f11ab-575d-4eae-b6ec-999f8c28ce93",
   "metadata": {},
   "outputs": [
    {
     "data": {
      "application/vnd.jupyter.widget-view+json": {
       "model_id": "b36e0789fa7e46a99901d020e98b4afc",
       "version_major": 2,
       "version_minor": 0
      },
      "text/plain": [
       "Training groups...:   0%|          | 0/3 [00:00<?, ?it/s]"
      ]
     },
     "metadata": {},
     "output_type": "display_data"
    },
    {
     "name": "stdout",
     "output_type": "stream",
     "text": [
      "Time Elapsed: 34 seconds\n",
      "Time Elapsed: 29 seconds\n",
      "Time Elapsed: 30 seconds\n"
     ]
    }
   ],
   "source": [
    "y_pred_l = []\n",
    "feat_df_l = []\n",
    "time_elapsed_l = []\n",
    "for acn in tqdm(train_df[\"Acorn_grouped\"].unique(), desc=\"Training groups...\"):\n",
    "    _train_df = train_df.loc[train_df.Acorn_grouped == acn]\n",
    "    _test_df = test_df.loc[test_df.Acorn_grouped == acn]\n",
    "    train_features, train_target, train_original_target = _feat_config.get_X_y(\n",
    "        _train_df, categorical=True, exogenous=False\n",
    "    )\n",
    "    # Loading the Validation as test\n",
    "    test_features, test_target, test_original_target = _feat_config.get_X_y(\n",
    "        _test_df, categorical=True, exogenous=False\n",
    "    )\n",
    "    cat_features = set(train_features.columns).intersection(\n",
    "        _feat_config.categorical_features\n",
    "    )\n",
    "    _model_config = model_config.clone()\n",
    "    with LogTime() as timer:\n",
    "        y_pred, feat_df = train_model(\n",
    "            _model_config,\n",
    "            _feat_config,\n",
    "            missing_value_config,\n",
    "            train_features,\n",
    "            train_target,\n",
    "            test_features,\n",
    "            fit_kwargs=dict(categorical_feature=cat_features),\n",
    "        )\n",
    "    y_pred_l.append(y_pred)\n",
    "    feat_df_l.append(feat_df)\n",
    "    time_elapsed_l.append(timer.elapsed)"
   ]
  },
  {
   "cell_type": "code",
   "execution_count": 72,
   "id": "03b4dce7",
   "metadata": {},
   "outputs": [
    {
     "data": {
      "text/html": [
       "<div>\n",
       "<style scoped>\n",
       "    .dataframe tbody tr th:only-of-type {\n",
       "        vertical-align: middle;\n",
       "    }\n",
       "\n",
       "    .dataframe tbody tr th {\n",
       "        vertical-align: top;\n",
       "    }\n",
       "\n",
       "    .dataframe thead th {\n",
       "        text-align: right;\n",
       "    }\n",
       "</style>\n",
       "<table border=\"1\" class=\"dataframe\">\n",
       "  <thead>\n",
       "    <tr style=\"text-align: right;\">\n",
       "      <th></th>\n",
       "      <th></th>\n",
       "      <th>energy_consumption</th>\n",
       "      <th>GFM Baseline</th>\n",
       "      <th>GFM+Meta (CountEncoder)</th>\n",
       "      <th>GFM+Meta  (TargetEncoder)</th>\n",
       "      <th>GFM+Meta  (NativeLGBM)</th>\n",
       "      <th>Tuned GFM+Meta</th>\n",
       "      <th>Tuned GFM+Meta+Random Part</th>\n",
       "    </tr>\n",
       "    <tr>\n",
       "      <th>LCLid</th>\n",
       "      <th>timestamp</th>\n",
       "      <th></th>\n",
       "      <th></th>\n",
       "      <th></th>\n",
       "      <th></th>\n",
       "      <th></th>\n",
       "      <th></th>\n",
       "      <th></th>\n",
       "    </tr>\n",
       "  </thead>\n",
       "  <tbody>\n",
       "    <tr>\n",
       "      <th rowspan=\"2\" valign=\"top\">MAC000061</th>\n",
       "      <th>2014-01-01 00:00:00</th>\n",
       "      <td>0.165</td>\n",
       "      <td>0.130170</td>\n",
       "      <td>0.127625</td>\n",
       "      <td>0.130004</td>\n",
       "      <td>0.128841</td>\n",
       "      <td>0.113652</td>\n",
       "      <td>0.128507</td>\n",
       "    </tr>\n",
       "    <tr>\n",
       "      <th>2014-01-01 00:30:00</th>\n",
       "      <td>0.167</td>\n",
       "      <td>0.117602</td>\n",
       "      <td>0.120527</td>\n",
       "      <td>0.119749</td>\n",
       "      <td>0.117148</td>\n",
       "      <td>0.099891</td>\n",
       "      <td>0.117822</td>\n",
       "    </tr>\n",
       "  </tbody>\n",
       "</table>\n",
       "</div>"
      ],
      "text/plain": [
       "                               energy_consumption  GFM Baseline  \\\n",
       "LCLid     timestamp                                               \n",
       "MAC000061 2014-01-01 00:00:00               0.165      0.130170   \n",
       "          2014-01-01 00:30:00               0.167      0.117602   \n",
       "\n",
       "                               GFM+Meta (CountEncoder)  \\\n",
       "LCLid     timestamp                                      \n",
       "MAC000061 2014-01-01 00:00:00                 0.127625   \n",
       "          2014-01-01 00:30:00                 0.120527   \n",
       "\n",
       "                               GFM+Meta  (TargetEncoder)  \\\n",
       "LCLid     timestamp                                        \n",
       "MAC000061 2014-01-01 00:00:00                   0.130004   \n",
       "          2014-01-01 00:30:00                   0.119749   \n",
       "\n",
       "                               GFM+Meta  (NativeLGBM)  Tuned GFM+Meta  \\\n",
       "LCLid     timestamp                                                     \n",
       "MAC000061 2014-01-01 00:00:00                0.128841        0.113652   \n",
       "          2014-01-01 00:30:00                0.117148        0.099891   \n",
       "\n",
       "                               Tuned GFM+Meta+Random Part  \n",
       "LCLid     timestamp                                        \n",
       "MAC000061 2014-01-01 00:00:00                    0.128507  \n",
       "          2014-01-01 00:30:00                    0.117822  "
      ]
     },
     "execution_count": 72,
     "metadata": {},
     "output_type": "execute_result"
    }
   ],
   "source": [
    "pred_df.head(2)"
   ]
  },
  {
   "cell_type": "code",
   "execution_count": 73,
   "id": "a63e6c12",
   "metadata": {},
   "outputs": [
    {
     "data": {
      "text/html": [
       "<div>\n",
       "<style scoped>\n",
       "    .dataframe tbody tr th:only-of-type {\n",
       "        vertical-align: middle;\n",
       "    }\n",
       "\n",
       "    .dataframe tbody tr th {\n",
       "        vertical-align: top;\n",
       "    }\n",
       "\n",
       "    .dataframe thead th {\n",
       "        text-align: right;\n",
       "    }\n",
       "</style>\n",
       "<table border=\"1\" class=\"dataframe\">\n",
       "  <thead>\n",
       "    <tr style=\"text-align: right;\">\n",
       "      <th></th>\n",
       "      <th></th>\n",
       "      <th>Tuned GFM+Meta+ACORN Part</th>\n",
       "    </tr>\n",
       "    <tr>\n",
       "      <th>LCLid</th>\n",
       "      <th>timestamp</th>\n",
       "      <th></th>\n",
       "    </tr>\n",
       "  </thead>\n",
       "  <tbody>\n",
       "    <tr>\n",
       "      <th rowspan=\"5\" valign=\"top\">MAC000066</th>\n",
       "      <th>2014-01-01 00:00:00</th>\n",
       "      <td>0.162444</td>\n",
       "    </tr>\n",
       "    <tr>\n",
       "      <th>2014-01-01 00:30:00</th>\n",
       "      <td>0.174698</td>\n",
       "    </tr>\n",
       "    <tr>\n",
       "      <th>2014-01-01 01:00:00</th>\n",
       "      <td>0.155056</td>\n",
       "    </tr>\n",
       "    <tr>\n",
       "      <th>2014-01-01 01:30:00</th>\n",
       "      <td>0.155971</td>\n",
       "    </tr>\n",
       "    <tr>\n",
       "      <th>2014-01-01 02:00:00</th>\n",
       "      <td>0.162342</td>\n",
       "    </tr>\n",
       "    <tr>\n",
       "      <th>...</th>\n",
       "      <th>...</th>\n",
       "      <td>...</td>\n",
       "    </tr>\n",
       "    <tr>\n",
       "      <th rowspan=\"5\" valign=\"top\">MAC005521</th>\n",
       "      <th>2014-01-31 21:30:00</th>\n",
       "      <td>0.107321</td>\n",
       "    </tr>\n",
       "    <tr>\n",
       "      <th>2014-01-31 22:00:00</th>\n",
       "      <td>0.111724</td>\n",
       "    </tr>\n",
       "    <tr>\n",
       "      <th>2014-01-31 22:30:00</th>\n",
       "      <td>0.093813</td>\n",
       "    </tr>\n",
       "    <tr>\n",
       "      <th>2014-01-31 23:00:00</th>\n",
       "      <td>0.114839</td>\n",
       "    </tr>\n",
       "    <tr>\n",
       "      <th>2014-01-31 23:30:00</th>\n",
       "      <td>0.191802</td>\n",
       "    </tr>\n",
       "  </tbody>\n",
       "</table>\n",
       "<p>74400 rows × 1 columns</p>\n",
       "</div>"
      ],
      "text/plain": [
       "                               Tuned GFM+Meta+ACORN Part\n",
       "LCLid     timestamp                                     \n",
       "MAC000066 2014-01-01 00:00:00                   0.162444\n",
       "          2014-01-01 00:30:00                   0.174698\n",
       "          2014-01-01 01:00:00                   0.155056\n",
       "          2014-01-01 01:30:00                   0.155971\n",
       "          2014-01-01 02:00:00                   0.162342\n",
       "...                                                  ...\n",
       "MAC005521 2014-01-31 21:30:00                   0.107321\n",
       "          2014-01-31 22:00:00                   0.111724\n",
       "          2014-01-31 22:30:00                   0.093813\n",
       "          2014-01-31 23:00:00                   0.114839\n",
       "          2014-01-31 23:30:00                   0.191802\n",
       "\n",
       "[74400 rows x 1 columns]"
      ]
     },
     "execution_count": 73,
     "metadata": {},
     "output_type": "execute_result"
    }
   ],
   "source": [
    "y_pred.reset_index().set_index(['LCLid','timestamp'])"
   ]
  },
  {
   "cell_type": "code",
   "execution_count": 74,
   "id": "0cf334e7-1391-43cd-b30f-fd25b885835e",
   "metadata": {},
   "outputs": [
    {
     "data": {
      "application/vnd.jupyter.widget-view+json": {
       "model_id": "a24ed897b04c45df8bc74086f28fd5fb",
       "version_major": 2,
       "version_minor": 0
      },
      "text/plain": [
       "Calculating metrics...:   0%|          | 0/150 [00:00<?, ?it/s]"
      ]
     },
     "metadata": {},
     "output_type": "display_data"
    }
   ],
   "source": [
    "y_pred = pd.concat(y_pred_l)\n",
    "\n",
    "test_features, test_target, test_original_target = _feat_config.get_X_y(\n",
    "    test_df, categorical=True, exogenous=False\n",
    ")\n",
    "train_features, train_target, train_original_target = _feat_config.get_X_y(\n",
    "    train_df, categorical=True, exogenous=False\n",
    ")\n",
    "\n",
    "agg_metrics, eval_metrics_df = evaluate_forecast(y_pred, test_target, train_target, model_config)\n",
    "agg_metrics[\"Time Elapsed\"] = np.sum(time_elapsed_l)\n",
    "metric_record.append(agg_metrics)\n",
    "individual_metrics[model_config.name]=eval_metrics_df\n",
    "#pred_df = pred_df.join(y_pred.reset_index().set_index(['LCLid','timestamp']))"
   ]
  },
  {
   "cell_type": "code",
   "execution_count": 75,
   "id": "9f8b8d69-952a-4bce-bdc6-137a5e0193bf",
   "metadata": {},
   "outputs": [
    {
     "data": {
      "text/html": [
       "<div>\n",
       "<style scoped>\n",
       "    .dataframe tbody tr th:only-of-type {\n",
       "        vertical-align: middle;\n",
       "    }\n",
       "\n",
       "    .dataframe tbody tr th {\n",
       "        vertical-align: top;\n",
       "    }\n",
       "\n",
       "    .dataframe thead th {\n",
       "        text-align: right;\n",
       "    }\n",
       "</style>\n",
       "<table border=\"1\" class=\"dataframe\">\n",
       "  <thead>\n",
       "    <tr style=\"text-align: right;\">\n",
       "      <th></th>\n",
       "      <th>Algorithm</th>\n",
       "      <th>MAE</th>\n",
       "      <th>MSE</th>\n",
       "      <th>meanMASE</th>\n",
       "      <th>Forecast Bias</th>\n",
       "      <th>Time Elapsed</th>\n",
       "    </tr>\n",
       "  </thead>\n",
       "  <tbody>\n",
       "    <tr>\n",
       "      <th>0</th>\n",
       "      <td>LightGBM</td>\n",
       "      <td>0.077107</td>\n",
       "      <td>0.027468</td>\n",
       "      <td>0.977439</td>\n",
       "      <td>0.032495</td>\n",
       "      <td>NaN</td>\n",
       "    </tr>\n",
       "    <tr>\n",
       "      <th>1</th>\n",
       "      <td>GFM Baseline</td>\n",
       "      <td>0.079552</td>\n",
       "      <td>0.027332</td>\n",
       "      <td>1.012078</td>\n",
       "      <td>0.190848</td>\n",
       "      <td>39.544276</td>\n",
       "    </tr>\n",
       "    <tr>\n",
       "      <th>2</th>\n",
       "      <td>GFM+Meta (CountEncoder)</td>\n",
       "      <td>0.079412</td>\n",
       "      <td>0.027232</td>\n",
       "      <td>1.011083</td>\n",
       "      <td>0.091026</td>\n",
       "      <td>112.729089</td>\n",
       "    </tr>\n",
       "    <tr>\n",
       "      <th>3</th>\n",
       "      <td>GFM+Meta  (TargetEncoder)</td>\n",
       "      <td>0.079553</td>\n",
       "      <td>0.027241</td>\n",
       "      <td>1.011387</td>\n",
       "      <td>0.299803</td>\n",
       "      <td>102.253439</td>\n",
       "    </tr>\n",
       "    <tr>\n",
       "      <th>4</th>\n",
       "      <td>GFM+Meta  (NativeLGBM)</td>\n",
       "      <td>0.079338</td>\n",
       "      <td>0.027199</td>\n",
       "      <td>1.011089</td>\n",
       "      <td>0.047789</td>\n",
       "      <td>66.527437</td>\n",
       "    </tr>\n",
       "    <tr>\n",
       "      <th>5</th>\n",
       "      <td>Tuned GFM+Meta</td>\n",
       "      <td>0.074073</td>\n",
       "      <td>0.030878</td>\n",
       "      <td>0.916890</td>\n",
       "      <td>-12.179570</td>\n",
       "      <td>94.305064</td>\n",
       "    </tr>\n",
       "    <tr>\n",
       "      <th>6</th>\n",
       "      <td>Tuned GFM+Meta+Random Part</td>\n",
       "      <td>0.073132</td>\n",
       "      <td>0.030865</td>\n",
       "      <td>0.905318</td>\n",
       "      <td>-12.380182</td>\n",
       "      <td>103.310471</td>\n",
       "    </tr>\n",
       "    <tr>\n",
       "      <th>7</th>\n",
       "      <td>Tuned GFM+Meta+ACORN Part</td>\n",
       "      <td>0.073037</td>\n",
       "      <td>0.030535</td>\n",
       "      <td>0.904966</td>\n",
       "      <td>-12.221540</td>\n",
       "      <td>95.054462</td>\n",
       "    </tr>\n",
       "  </tbody>\n",
       "</table>\n",
       "</div>"
      ],
      "text/plain": [
       "                    Algorithm       MAE       MSE  meanMASE  Forecast Bias  \\\n",
       "0                    LightGBM  0.077107  0.027468  0.977439       0.032495   \n",
       "1                GFM Baseline  0.079552  0.027332  1.012078       0.190848   \n",
       "2     GFM+Meta (CountEncoder)  0.079412  0.027232  1.011083       0.091026   \n",
       "3   GFM+Meta  (TargetEncoder)  0.079553  0.027241  1.011387       0.299803   \n",
       "4      GFM+Meta  (NativeLGBM)  0.079338  0.027199  1.011089       0.047789   \n",
       "5              Tuned GFM+Meta  0.074073  0.030878  0.916890     -12.179570   \n",
       "6  Tuned GFM+Meta+Random Part  0.073132  0.030865  0.905318     -12.380182   \n",
       "7   Tuned GFM+Meta+ACORN Part  0.073037  0.030535  0.904966     -12.221540   \n",
       "\n",
       "   Time Elapsed  \n",
       "0           NaN  \n",
       "1     39.544276  \n",
       "2    112.729089  \n",
       "3    102.253439  \n",
       "4     66.527437  \n",
       "5     94.305064  \n",
       "6    103.310471  \n",
       "7     95.054462  "
      ]
     },
     "execution_count": 75,
     "metadata": {},
     "output_type": "execute_result"
    }
   ],
   "source": [
    "pd.DataFrame(metric_record)"
   ]
  },
  {
   "cell_type": "code",
   "execution_count": 76,
   "id": "a7f8ad9d",
   "metadata": {},
   "outputs": [
    {
     "data": {
      "text/html": [
       "<div>\n",
       "<style scoped>\n",
       "    .dataframe tbody tr th:only-of-type {\n",
       "        vertical-align: middle;\n",
       "    }\n",
       "\n",
       "    .dataframe tbody tr th {\n",
       "        vertical-align: top;\n",
       "    }\n",
       "\n",
       "    .dataframe thead th {\n",
       "        text-align: right;\n",
       "    }\n",
       "</style>\n",
       "<table border=\"1\" class=\"dataframe\">\n",
       "  <thead>\n",
       "    <tr style=\"text-align: right;\">\n",
       "      <th></th>\n",
       "      <th>feature</th>\n",
       "      <th>importance</th>\n",
       "    </tr>\n",
       "  </thead>\n",
       "  <tbody>\n",
       "    <tr>\n",
       "      <th>45</th>\n",
       "      <td>energy_consumption_lag_1</td>\n",
       "      <td>857</td>\n",
       "    </tr>\n",
       "    <tr>\n",
       "      <th>35</th>\n",
       "      <td>LCLid</td>\n",
       "      <td>600</td>\n",
       "    </tr>\n",
       "    <tr>\n",
       "      <th>4</th>\n",
       "      <td>energy_consumption_rolling_3_std</td>\n",
       "      <td>474</td>\n",
       "    </tr>\n",
       "    <tr>\n",
       "      <th>72</th>\n",
       "      <td>energy_consumption_lag_2</td>\n",
       "      <td>458</td>\n",
       "    </tr>\n",
       "    <tr>\n",
       "      <th>12</th>\n",
       "      <td>energy_consumption_336_seasonal_rolling_3_mean</td>\n",
       "      <td>432</td>\n",
       "    </tr>\n",
       "    <tr>\n",
       "      <th>...</th>\n",
       "      <td>...</td>\n",
       "      <td>...</td>\n",
       "    </tr>\n",
       "    <tr>\n",
       "      <th>18</th>\n",
       "      <td>timestamp_Is_month_start</td>\n",
       "      <td>0</td>\n",
       "    </tr>\n",
       "    <tr>\n",
       "      <th>51</th>\n",
       "      <td>timestamp_Minute_sin_4</td>\n",
       "      <td>0</td>\n",
       "    </tr>\n",
       "    <tr>\n",
       "      <th>19</th>\n",
       "      <td>timestamp_Is_year_start</td>\n",
       "      <td>0</td>\n",
       "    </tr>\n",
       "    <tr>\n",
       "      <th>46</th>\n",
       "      <td>timestamp_Month_cos_3</td>\n",
       "      <td>0</td>\n",
       "    </tr>\n",
       "    <tr>\n",
       "      <th>61</th>\n",
       "      <td>timestamp_Minute_cos_3</td>\n",
       "      <td>0</td>\n",
       "    </tr>\n",
       "  </tbody>\n",
       "</table>\n",
       "<p>76 rows × 2 columns</p>\n",
       "</div>"
      ],
      "text/plain": [
       "                                           feature  importance\n",
       "45                        energy_consumption_lag_1         857\n",
       "35                                           LCLid         600\n",
       "4                 energy_consumption_rolling_3_std         474\n",
       "72                        energy_consumption_lag_2         458\n",
       "12  energy_consumption_336_seasonal_rolling_3_mean         432\n",
       "..                                             ...         ...\n",
       "18                        timestamp_Is_month_start           0\n",
       "51                          timestamp_Minute_sin_4           0\n",
       "19                         timestamp_Is_year_start           0\n",
       "46                           timestamp_Month_cos_3           0\n",
       "61                          timestamp_Minute_cos_3           0\n",
       "\n",
       "[76 rows x 2 columns]"
      ]
     },
     "execution_count": 76,
     "metadata": {},
     "output_type": "execute_result"
    }
   ],
   "source": [
    "feat_df"
   ]
  },
  {
   "cell_type": "code",
   "execution_count": 77,
   "id": "b345d3b1-8daa-4bac-927e-900a29bc61eb",
   "metadata": {},
   "outputs": [],
   "source": [
    "#Averaging feature importance across partitions (Dirty Approximation)\n",
    "feat_df = feat_df_l.pop(0)\n",
    "for i, d in enumerate(feat_df_l):\n",
    "    feat_df = feat_df.merge(d, on=\"feature\",suffixes=(\"\",\"_{i}\"))\n",
    "\n",
    "feat_df = feat_df.set_index('feature')\n",
    "feat_df[\"importance\"] = feat_df.sum(axis=1)\n",
    "    \n",
    "feat_df = feat_df.reset_index()\n",
    "\n",
    "feat_df = feat_df.loc[:, [\"feature\", \"importance\"]]"
   ]
  },
  {
   "cell_type": "code",
   "execution_count": 78,
   "id": "c5ffef38-941f-4cbb-9fbb-11a3d1d6a93c",
   "metadata": {},
   "outputs": [
    {
     "data": {
      "application/vnd.plotly.v1+json": {
       "config": {
        "plotlyServerURL": "https://plot.ly"
       },
       "data": [
        {
         "alignmentgroup": "True",
         "hovertemplate": "feature=%{x}<br>importance=%{y}<extra></extra>",
         "legendgroup": "",
         "marker": {
          "color": "#636efa",
          "pattern": {
           "shape": ""
          }
         },
         "name": "",
         "offsetgroup": "",
         "orientation": "v",
         "showlegend": false,
         "textposition": "auto",
         "type": "bar",
         "x": [
          "energy_consumption_lag_1",
          "LCLid",
          "energy_consumption_rolling_3_std",
          "energy_consumption_336_seasonal_rolling_3_mean",
          "energy_consumption_lag_2",
          "energy_consumption_lag_3",
          "energy_consumption_rolling_3_mean",
          "energy_consumption_48_seasonal_rolling_3_mean",
          "energy_consumption_336_seasonal_rolling_3_std",
          "energy_consumption_lag_47",
          "energy_consumption_48_seasonal_rolling_3_std",
          "energy_consumption_rolling_6_std",
          "energy_consumption_ewma_span_2880",
          "energy_consumption_lag_4",
          "Acorn"
         ],
         "xaxis": "x",
         "y": [
          3185,
          2599,
          1487,
          1447,
          1646,
          1233,
          970,
          950,
          930,
          796,
          736,
          795,
          528,
          761,
          505
         ],
         "yaxis": "y"
        }
       ],
       "layout": {
        "autosize": false,
        "barmode": "relative",
        "height": 500,
        "legend": {
         "font": {
          "size": 12
         },
         "orientation": "h",
         "title": {},
         "tracegroupgap": 0,
         "x": 1,
         "xanchor": "right",
         "y": 0.9,
         "yanchor": "bottom"
        },
        "margin": {
         "t": 60
        },
        "template": {
         "data": {
          "bar": [
           {
            "error_x": {
             "color": "#2a3f5f"
            },
            "error_y": {
             "color": "#2a3f5f"
            },
            "marker": {
             "line": {
              "color": "white",
              "width": 0.5
             },
             "pattern": {
              "fillmode": "overlay",
              "size": 10,
              "solidity": 0.2
             }
            },
            "type": "bar"
           }
          ],
          "barpolar": [
           {
            "marker": {
             "line": {
              "color": "white",
              "width": 0.5
             },
             "pattern": {
              "fillmode": "overlay",
              "size": 10,
              "solidity": 0.2
             }
            },
            "type": "barpolar"
           }
          ],
          "carpet": [
           {
            "aaxis": {
             "endlinecolor": "#2a3f5f",
             "gridcolor": "#C8D4E3",
             "linecolor": "#C8D4E3",
             "minorgridcolor": "#C8D4E3",
             "startlinecolor": "#2a3f5f"
            },
            "baxis": {
             "endlinecolor": "#2a3f5f",
             "gridcolor": "#C8D4E3",
             "linecolor": "#C8D4E3",
             "minorgridcolor": "#C8D4E3",
             "startlinecolor": "#2a3f5f"
            },
            "type": "carpet"
           }
          ],
          "choropleth": [
           {
            "colorbar": {
             "outlinewidth": 0,
             "ticks": ""
            },
            "type": "choropleth"
           }
          ],
          "contour": [
           {
            "colorbar": {
             "outlinewidth": 0,
             "ticks": ""
            },
            "colorscale": [
             [
              0,
              "#0d0887"
             ],
             [
              0.1111111111111111,
              "#46039f"
             ],
             [
              0.2222222222222222,
              "#7201a8"
             ],
             [
              0.3333333333333333,
              "#9c179e"
             ],
             [
              0.4444444444444444,
              "#bd3786"
             ],
             [
              0.5555555555555556,
              "#d8576b"
             ],
             [
              0.6666666666666666,
              "#ed7953"
             ],
             [
              0.7777777777777778,
              "#fb9f3a"
             ],
             [
              0.8888888888888888,
              "#fdca26"
             ],
             [
              1,
              "#f0f921"
             ]
            ],
            "type": "contour"
           }
          ],
          "contourcarpet": [
           {
            "colorbar": {
             "outlinewidth": 0,
             "ticks": ""
            },
            "type": "contourcarpet"
           }
          ],
          "heatmap": [
           {
            "colorbar": {
             "outlinewidth": 0,
             "ticks": ""
            },
            "colorscale": [
             [
              0,
              "#0d0887"
             ],
             [
              0.1111111111111111,
              "#46039f"
             ],
             [
              0.2222222222222222,
              "#7201a8"
             ],
             [
              0.3333333333333333,
              "#9c179e"
             ],
             [
              0.4444444444444444,
              "#bd3786"
             ],
             [
              0.5555555555555556,
              "#d8576b"
             ],
             [
              0.6666666666666666,
              "#ed7953"
             ],
             [
              0.7777777777777778,
              "#fb9f3a"
             ],
             [
              0.8888888888888888,
              "#fdca26"
             ],
             [
              1,
              "#f0f921"
             ]
            ],
            "type": "heatmap"
           }
          ],
          "heatmapgl": [
           {
            "colorbar": {
             "outlinewidth": 0,
             "ticks": ""
            },
            "colorscale": [
             [
              0,
              "#0d0887"
             ],
             [
              0.1111111111111111,
              "#46039f"
             ],
             [
              0.2222222222222222,
              "#7201a8"
             ],
             [
              0.3333333333333333,
              "#9c179e"
             ],
             [
              0.4444444444444444,
              "#bd3786"
             ],
             [
              0.5555555555555556,
              "#d8576b"
             ],
             [
              0.6666666666666666,
              "#ed7953"
             ],
             [
              0.7777777777777778,
              "#fb9f3a"
             ],
             [
              0.8888888888888888,
              "#fdca26"
             ],
             [
              1,
              "#f0f921"
             ]
            ],
            "type": "heatmapgl"
           }
          ],
          "histogram": [
           {
            "marker": {
             "pattern": {
              "fillmode": "overlay",
              "size": 10,
              "solidity": 0.2
             }
            },
            "type": "histogram"
           }
          ],
          "histogram2d": [
           {
            "colorbar": {
             "outlinewidth": 0,
             "ticks": ""
            },
            "colorscale": [
             [
              0,
              "#0d0887"
             ],
             [
              0.1111111111111111,
              "#46039f"
             ],
             [
              0.2222222222222222,
              "#7201a8"
             ],
             [
              0.3333333333333333,
              "#9c179e"
             ],
             [
              0.4444444444444444,
              "#bd3786"
             ],
             [
              0.5555555555555556,
              "#d8576b"
             ],
             [
              0.6666666666666666,
              "#ed7953"
             ],
             [
              0.7777777777777778,
              "#fb9f3a"
             ],
             [
              0.8888888888888888,
              "#fdca26"
             ],
             [
              1,
              "#f0f921"
             ]
            ],
            "type": "histogram2d"
           }
          ],
          "histogram2dcontour": [
           {
            "colorbar": {
             "outlinewidth": 0,
             "ticks": ""
            },
            "colorscale": [
             [
              0,
              "#0d0887"
             ],
             [
              0.1111111111111111,
              "#46039f"
             ],
             [
              0.2222222222222222,
              "#7201a8"
             ],
             [
              0.3333333333333333,
              "#9c179e"
             ],
             [
              0.4444444444444444,
              "#bd3786"
             ],
             [
              0.5555555555555556,
              "#d8576b"
             ],
             [
              0.6666666666666666,
              "#ed7953"
             ],
             [
              0.7777777777777778,
              "#fb9f3a"
             ],
             [
              0.8888888888888888,
              "#fdca26"
             ],
             [
              1,
              "#f0f921"
             ]
            ],
            "type": "histogram2dcontour"
           }
          ],
          "mesh3d": [
           {
            "colorbar": {
             "outlinewidth": 0,
             "ticks": ""
            },
            "type": "mesh3d"
           }
          ],
          "parcoords": [
           {
            "line": {
             "colorbar": {
              "outlinewidth": 0,
              "ticks": ""
             }
            },
            "type": "parcoords"
           }
          ],
          "pie": [
           {
            "automargin": true,
            "type": "pie"
           }
          ],
          "scatter": [
           {
            "fillpattern": {
             "fillmode": "overlay",
             "size": 10,
             "solidity": 0.2
            },
            "type": "scatter"
           }
          ],
          "scatter3d": [
           {
            "line": {
             "colorbar": {
              "outlinewidth": 0,
              "ticks": ""
             }
            },
            "marker": {
             "colorbar": {
              "outlinewidth": 0,
              "ticks": ""
             }
            },
            "type": "scatter3d"
           }
          ],
          "scattercarpet": [
           {
            "marker": {
             "colorbar": {
              "outlinewidth": 0,
              "ticks": ""
             }
            },
            "type": "scattercarpet"
           }
          ],
          "scattergeo": [
           {
            "marker": {
             "colorbar": {
              "outlinewidth": 0,
              "ticks": ""
             }
            },
            "type": "scattergeo"
           }
          ],
          "scattergl": [
           {
            "marker": {
             "colorbar": {
              "outlinewidth": 0,
              "ticks": ""
             }
            },
            "type": "scattergl"
           }
          ],
          "scattermapbox": [
           {
            "marker": {
             "colorbar": {
              "outlinewidth": 0,
              "ticks": ""
             }
            },
            "type": "scattermapbox"
           }
          ],
          "scatterpolar": [
           {
            "marker": {
             "colorbar": {
              "outlinewidth": 0,
              "ticks": ""
             }
            },
            "type": "scatterpolar"
           }
          ],
          "scatterpolargl": [
           {
            "marker": {
             "colorbar": {
              "outlinewidth": 0,
              "ticks": ""
             }
            },
            "type": "scatterpolargl"
           }
          ],
          "scatterternary": [
           {
            "marker": {
             "colorbar": {
              "outlinewidth": 0,
              "ticks": ""
             }
            },
            "type": "scatterternary"
           }
          ],
          "surface": [
           {
            "colorbar": {
             "outlinewidth": 0,
             "ticks": ""
            },
            "colorscale": [
             [
              0,
              "#0d0887"
             ],
             [
              0.1111111111111111,
              "#46039f"
             ],
             [
              0.2222222222222222,
              "#7201a8"
             ],
             [
              0.3333333333333333,
              "#9c179e"
             ],
             [
              0.4444444444444444,
              "#bd3786"
             ],
             [
              0.5555555555555556,
              "#d8576b"
             ],
             [
              0.6666666666666666,
              "#ed7953"
             ],
             [
              0.7777777777777778,
              "#fb9f3a"
             ],
             [
              0.8888888888888888,
              "#fdca26"
             ],
             [
              1,
              "#f0f921"
             ]
            ],
            "type": "surface"
           }
          ],
          "table": [
           {
            "cells": {
             "fill": {
              "color": "#EBF0F8"
             },
             "line": {
              "color": "white"
             }
            },
            "header": {
             "fill": {
              "color": "#C8D4E3"
             },
             "line": {
              "color": "white"
             }
            },
            "type": "table"
           }
          ]
         },
         "layout": {
          "annotationdefaults": {
           "arrowcolor": "#2a3f5f",
           "arrowhead": 0,
           "arrowwidth": 1
          },
          "autotypenumbers": "strict",
          "coloraxis": {
           "colorbar": {
            "outlinewidth": 0,
            "ticks": ""
           }
          },
          "colorscale": {
           "diverging": [
            [
             0,
             "#8e0152"
            ],
            [
             0.1,
             "#c51b7d"
            ],
            [
             0.2,
             "#de77ae"
            ],
            [
             0.3,
             "#f1b6da"
            ],
            [
             0.4,
             "#fde0ef"
            ],
            [
             0.5,
             "#f7f7f7"
            ],
            [
             0.6,
             "#e6f5d0"
            ],
            [
             0.7,
             "#b8e186"
            ],
            [
             0.8,
             "#7fbc41"
            ],
            [
             0.9,
             "#4d9221"
            ],
            [
             1,
             "#276419"
            ]
           ],
           "sequential": [
            [
             0,
             "#0d0887"
            ],
            [
             0.1111111111111111,
             "#46039f"
            ],
            [
             0.2222222222222222,
             "#7201a8"
            ],
            [
             0.3333333333333333,
             "#9c179e"
            ],
            [
             0.4444444444444444,
             "#bd3786"
            ],
            [
             0.5555555555555556,
             "#d8576b"
            ],
            [
             0.6666666666666666,
             "#ed7953"
            ],
            [
             0.7777777777777778,
             "#fb9f3a"
            ],
            [
             0.8888888888888888,
             "#fdca26"
            ],
            [
             1,
             "#f0f921"
            ]
           ],
           "sequentialminus": [
            [
             0,
             "#0d0887"
            ],
            [
             0.1111111111111111,
             "#46039f"
            ],
            [
             0.2222222222222222,
             "#7201a8"
            ],
            [
             0.3333333333333333,
             "#9c179e"
            ],
            [
             0.4444444444444444,
             "#bd3786"
            ],
            [
             0.5555555555555556,
             "#d8576b"
            ],
            [
             0.6666666666666666,
             "#ed7953"
            ],
            [
             0.7777777777777778,
             "#fb9f3a"
            ],
            [
             0.8888888888888888,
             "#fdca26"
            ],
            [
             1,
             "#f0f921"
            ]
           ]
          },
          "colorway": [
           "#636efa",
           "#EF553B",
           "#00cc96",
           "#ab63fa",
           "#FFA15A",
           "#19d3f3",
           "#FF6692",
           "#B6E880",
           "#FF97FF",
           "#FECB52"
          ],
          "font": {
           "color": "#2a3f5f"
          },
          "geo": {
           "bgcolor": "white",
           "lakecolor": "white",
           "landcolor": "white",
           "showlakes": true,
           "showland": true,
           "subunitcolor": "#C8D4E3"
          },
          "hoverlabel": {
           "align": "left"
          },
          "hovermode": "closest",
          "mapbox": {
           "style": "light"
          },
          "paper_bgcolor": "white",
          "plot_bgcolor": "white",
          "polar": {
           "angularaxis": {
            "gridcolor": "#EBF0F8",
            "linecolor": "#EBF0F8",
            "ticks": ""
           },
           "bgcolor": "white",
           "radialaxis": {
            "gridcolor": "#EBF0F8",
            "linecolor": "#EBF0F8",
            "ticks": ""
           }
          },
          "scene": {
           "xaxis": {
            "backgroundcolor": "white",
            "gridcolor": "#DFE8F3",
            "gridwidth": 2,
            "linecolor": "#EBF0F8",
            "showbackground": true,
            "ticks": "",
            "zerolinecolor": "#EBF0F8"
           },
           "yaxis": {
            "backgroundcolor": "white",
            "gridcolor": "#DFE8F3",
            "gridwidth": 2,
            "linecolor": "#EBF0F8",
            "showbackground": true,
            "ticks": "",
            "zerolinecolor": "#EBF0F8"
           },
           "zaxis": {
            "backgroundcolor": "white",
            "gridcolor": "#DFE8F3",
            "gridwidth": 2,
            "linecolor": "#EBF0F8",
            "showbackground": true,
            "ticks": "",
            "zerolinecolor": "#EBF0F8"
           }
          },
          "shapedefaults": {
           "line": {
            "color": "#2a3f5f"
           }
          },
          "ternary": {
           "aaxis": {
            "gridcolor": "#DFE8F3",
            "linecolor": "#A2B1C6",
            "ticks": ""
           },
           "baxis": {
            "gridcolor": "#DFE8F3",
            "linecolor": "#A2B1C6",
            "ticks": ""
           },
           "bgcolor": "white",
           "caxis": {
            "gridcolor": "#DFE8F3",
            "linecolor": "#A2B1C6",
            "ticks": ""
           }
          },
          "title": {
           "x": 0.05
          },
          "xaxis": {
           "automargin": true,
           "gridcolor": "#EBF0F8",
           "linecolor": "#EBF0F8",
           "ticks": "",
           "title": {
            "standoff": 15
           },
           "zerolinecolor": "#EBF0F8",
           "zerolinewidth": 2
          },
          "yaxis": {
           "automargin": true,
           "gridcolor": "#EBF0F8",
           "linecolor": "#EBF0F8",
           "ticks": "",
           "title": {
            "standoff": 15
           },
           "zerolinecolor": "#EBF0F8",
           "zerolinewidth": 2
          }
         }
        },
        "title": {
         "font": {
          "size": 20
         },
         "text": "Aggregate Feature Importance - Tuned GFM+Meta+ACORN Part",
         "x": 0.5,
         "xanchor": "center",
         "yanchor": "top"
        },
        "width": 900,
        "xaxis": {
         "anchor": "y",
         "domain": [
          0,
          1
         ],
         "tickfont": {
          "size": 12
         },
         "title": {
          "font": {
           "size": 12
          },
          "text": "Features"
         }
        },
        "yaxis": {
         "anchor": "x",
         "domain": [
          0,
          1
         ],
         "tickfont": {
          "size": 12
         },
         "title": {
          "font": {
           "size": 12
          },
          "text": "Importance"
         }
        }
       }
      }
     },
     "metadata": {},
     "output_type": "display_data"
    }
   ],
   "source": [
    "fig = px.bar(feat_df.head(15), x=\"feature\", y=\"importance\")\n",
    "format_plot(fig, xlabel=\"Features\", ylabel=\"Importance\", title=f\"Aggregate Feature Importance - {model_config.name}\", font_size=12)\n",
    "fig.write_image(\"imgs/chapter_10/acorn_partition_fimp.png\")\n",
    "fig.show()"
   ]
  },
  {
   "cell_type": "markdown",
   "id": "9d144616-1571-4695-affe-ff44398b61c3",
   "metadata": {
    "tags": []
   },
   "source": [
    "### Algorithmic"
   ]
  },
  {
   "cell_type": "code",
   "execution_count": 79,
   "id": "06b31297-e413-4da1-abf9-084435fe5a27",
   "metadata": {},
   "outputs": [],
   "source": [
    "feat_conf_dict = copy.deepcopy(feat_config.__dict__)\n",
    "feat_conf_dict.pop(\"feature_list\")\n",
    "feat_conf_dict['categorical_features']+=[\"stdorToU\", \"Acorn\", \"LCLid\", \"Acorn_grouped\"]\n",
    "_feat_config = FeatureConfig(**feat_conf_dict)"
   ]
  },
  {
   "cell_type": "markdown",
   "id": "9fc3cdc5-9db1-4fba-b66b-a1d38b826376",
   "metadata": {},
   "source": [
    "#### Creating Statistical Features for the different households"
   ]
  },
  {
   "cell_type": "code",
   "execution_count": 80,
   "id": "2ff1bafb-3f01-48f4-a706-0fa588b92644",
   "metadata": {},
   "outputs": [
    {
     "data": {
      "application/vnd.jupyter.widget-view+json": {
       "model_id": "6ce79150c7db483da720b1d26d091803",
       "version_major": 2,
       "version_minor": 0
      },
      "text/plain": [
       "Calculating features for all households:   0%|          | 0/150 [00:00<?, ?it/s]"
      ]
     },
     "metadata": {},
     "output_type": "display_data"
    },
    {
     "data": {
      "text/html": [
       "<div>\n",
       "<style scoped>\n",
       "    .dataframe tbody tr th:only-of-type {\n",
       "        vertical-align: middle;\n",
       "    }\n",
       "\n",
       "    .dataframe tbody tr th {\n",
       "        vertical-align: top;\n",
       "    }\n",
       "\n",
       "    .dataframe thead th {\n",
       "        text-align: right;\n",
       "    }\n",
       "</style>\n",
       "<table border=\"1\" class=\"dataframe\">\n",
       "  <thead>\n",
       "    <tr style=\"text-align: right;\">\n",
       "      <th></th>\n",
       "      <th>0_Absolute energy</th>\n",
       "      <th>0_Area under the curve</th>\n",
       "      <th>0_Autocorrelation</th>\n",
       "      <th>0_Average power</th>\n",
       "      <th>0_Centroid</th>\n",
       "      <th>0_ECDF Percentile Count_0</th>\n",
       "      <th>0_ECDF Percentile Count_1</th>\n",
       "      <th>0_ECDF Percentile_0</th>\n",
       "      <th>0_ECDF Percentile_1</th>\n",
       "      <th>0_ECDF_0</th>\n",
       "      <th>...</th>\n",
       "      <th>0_Peak to peak distance</th>\n",
       "      <th>0_Positive turning points</th>\n",
       "      <th>0_Root mean square</th>\n",
       "      <th>0_Signal distance</th>\n",
       "      <th>0_Skewness</th>\n",
       "      <th>0_Slope</th>\n",
       "      <th>0_Standard deviation</th>\n",
       "      <th>0_Sum absolute diff</th>\n",
       "      <th>0_Variance</th>\n",
       "      <th>0_Zero crossing rate</th>\n",
       "    </tr>\n",
       "    <tr>\n",
       "      <th>LCLid</th>\n",
       "      <th></th>\n",
       "      <th></th>\n",
       "      <th></th>\n",
       "      <th></th>\n",
       "      <th></th>\n",
       "      <th></th>\n",
       "      <th></th>\n",
       "      <th></th>\n",
       "      <th></th>\n",
       "      <th></th>\n",
       "      <th></th>\n",
       "      <th></th>\n",
       "      <th></th>\n",
       "      <th></th>\n",
       "      <th></th>\n",
       "      <th></th>\n",
       "      <th></th>\n",
       "      <th></th>\n",
       "      <th></th>\n",
       "      <th></th>\n",
       "      <th></th>\n",
       "    </tr>\n",
       "  </thead>\n",
       "  <tbody>\n",
       "    <tr>\n",
       "      <th>MAC000061</th>\n",
       "      <td>851.246317</td>\n",
       "      <td>43.296783</td>\n",
       "      <td>851.246317</td>\n",
       "      <td>2.426102</td>\n",
       "      <td>174.431914</td>\n",
       "      <td>7017.0</td>\n",
       "      <td>28070.0</td>\n",
       "      <td>0.048</td>\n",
       "      <td>0.209</td>\n",
       "      <td>0.000028</td>\n",
       "      <td>...</td>\n",
       "      <td>1.152000</td>\n",
       "      <td>7989.0</td>\n",
       "      <td>0.155757</td>\n",
       "      <td>35156.343443</td>\n",
       "      <td>1.227616</td>\n",
       "      <td>1.339344e-07</td>\n",
       "      <td>0.095042</td>\n",
       "      <td>1226.050345</td>\n",
       "      <td>0.009033</td>\n",
       "      <td>106.0</td>\n",
       "    </tr>\n",
       "    <tr>\n",
       "      <th>MAC000062</th>\n",
       "      <td>2627.987007</td>\n",
       "      <td>84.536642</td>\n",
       "      <td>2627.987007</td>\n",
       "      <td>7.489917</td>\n",
       "      <td>184.162699</td>\n",
       "      <td>7017.0</td>\n",
       "      <td>28070.0</td>\n",
       "      <td>0.158</td>\n",
       "      <td>0.296</td>\n",
       "      <td>0.000028</td>\n",
       "      <td>...</td>\n",
       "      <td>2.655000</td>\n",
       "      <td>11613.0</td>\n",
       "      <td>0.273673</td>\n",
       "      <td>35374.532035</td>\n",
       "      <td>4.173890</td>\n",
       "      <td>1.153972e-06</td>\n",
       "      <td>0.129790</td>\n",
       "      <td>2641.711059</td>\n",
       "      <td>0.016845</td>\n",
       "      <td>0.0</td>\n",
       "    </tr>\n",
       "    <tr>\n",
       "      <th>MAC000066</th>\n",
       "      <td>1123.258387</td>\n",
       "      <td>49.577472</td>\n",
       "      <td>1123.258387</td>\n",
       "      <td>3.201352</td>\n",
       "      <td>173.921136</td>\n",
       "      <td>7017.0</td>\n",
       "      <td>28070.0</td>\n",
       "      <td>0.057</td>\n",
       "      <td>0.174</td>\n",
       "      <td>0.000028</td>\n",
       "      <td>...</td>\n",
       "      <td>1.935000</td>\n",
       "      <td>10943.0</td>\n",
       "      <td>0.178921</td>\n",
       "      <td>35227.173610</td>\n",
       "      <td>4.097960</td>\n",
       "      <td>8.020245e-08</td>\n",
       "      <td>0.109757</td>\n",
       "      <td>1355.027212</td>\n",
       "      <td>0.012047</td>\n",
       "      <td>0.0</td>\n",
       "    </tr>\n",
       "    <tr>\n",
       "      <th>MAC000086</th>\n",
       "      <td>1243.110599</td>\n",
       "      <td>43.137558</td>\n",
       "      <td>1243.110599</td>\n",
       "      <td>3.542938</td>\n",
       "      <td>175.534717</td>\n",
       "      <td>7017.0</td>\n",
       "      <td>28070.0</td>\n",
       "      <td>0.045</td>\n",
       "      <td>0.157</td>\n",
       "      <td>0.000028</td>\n",
       "      <td>...</td>\n",
       "      <td>1.820000</td>\n",
       "      <td>10518.0</td>\n",
       "      <td>0.188224</td>\n",
       "      <td>35457.316250</td>\n",
       "      <td>4.638430</td>\n",
       "      <td>4.580171e-07</td>\n",
       "      <td>0.142524</td>\n",
       "      <td>3015.591537</td>\n",
       "      <td>0.020313</td>\n",
       "      <td>0.0</td>\n",
       "    </tr>\n",
       "    <tr>\n",
       "      <th>MAC000126</th>\n",
       "      <td>1300.694345</td>\n",
       "      <td>38.672155</td>\n",
       "      <td>1300.694345</td>\n",
       "      <td>3.707055</td>\n",
       "      <td>166.246341</td>\n",
       "      <td>7017.0</td>\n",
       "      <td>28070.0</td>\n",
       "      <td>0.025</td>\n",
       "      <td>0.157</td>\n",
       "      <td>0.000028</td>\n",
       "      <td>...</td>\n",
       "      <td>2.005673</td>\n",
       "      <td>11023.0</td>\n",
       "      <td>0.192534</td>\n",
       "      <td>35386.910614</td>\n",
       "      <td>3.814583</td>\n",
       "      <td>-3.559724e-07</td>\n",
       "      <td>0.157884</td>\n",
       "      <td>2314.231594</td>\n",
       "      <td>0.024927</td>\n",
       "      <td>1068.0</td>\n",
       "    </tr>\n",
       "  </tbody>\n",
       "</table>\n",
       "<p>5 rows × 54 columns</p>\n",
       "</div>"
      ],
      "text/plain": [
       "           0_Absolute energy  0_Area under the curve  0_Autocorrelation  \\\n",
       "LCLid                                                                     \n",
       "MAC000061         851.246317               43.296783         851.246317   \n",
       "MAC000062        2627.987007               84.536642        2627.987007   \n",
       "MAC000066        1123.258387               49.577472        1123.258387   \n",
       "MAC000086        1243.110599               43.137558        1243.110599   \n",
       "MAC000126        1300.694345               38.672155        1300.694345   \n",
       "\n",
       "           0_Average power  0_Centroid  0_ECDF Percentile Count_0  \\\n",
       "LCLid                                                               \n",
       "MAC000061         2.426102  174.431914                     7017.0   \n",
       "MAC000062         7.489917  184.162699                     7017.0   \n",
       "MAC000066         3.201352  173.921136                     7017.0   \n",
       "MAC000086         3.542938  175.534717                     7017.0   \n",
       "MAC000126         3.707055  166.246341                     7017.0   \n",
       "\n",
       "           0_ECDF Percentile Count_1  0_ECDF Percentile_0  \\\n",
       "LCLid                                                       \n",
       "MAC000061                    28070.0                0.048   \n",
       "MAC000062                    28070.0                0.158   \n",
       "MAC000066                    28070.0                0.057   \n",
       "MAC000086                    28070.0                0.045   \n",
       "MAC000126                    28070.0                0.025   \n",
       "\n",
       "           0_ECDF Percentile_1  0_ECDF_0  ...  0_Peak to peak distance  \\\n",
       "LCLid                                     ...                            \n",
       "MAC000061                0.209  0.000028  ...                 1.152000   \n",
       "MAC000062                0.296  0.000028  ...                 2.655000   \n",
       "MAC000066                0.174  0.000028  ...                 1.935000   \n",
       "MAC000086                0.157  0.000028  ...                 1.820000   \n",
       "MAC000126                0.157  0.000028  ...                 2.005673   \n",
       "\n",
       "           0_Positive turning points  0_Root mean square  0_Signal distance  \\\n",
       "LCLid                                                                         \n",
       "MAC000061                     7989.0            0.155757       35156.343443   \n",
       "MAC000062                    11613.0            0.273673       35374.532035   \n",
       "MAC000066                    10943.0            0.178921       35227.173610   \n",
       "MAC000086                    10518.0            0.188224       35457.316250   \n",
       "MAC000126                    11023.0            0.192534       35386.910614   \n",
       "\n",
       "           0_Skewness       0_Slope  0_Standard deviation  \\\n",
       "LCLid                                                       \n",
       "MAC000061    1.227616  1.339344e-07              0.095042   \n",
       "MAC000062    4.173890  1.153972e-06              0.129790   \n",
       "MAC000066    4.097960  8.020245e-08              0.109757   \n",
       "MAC000086    4.638430  4.580171e-07              0.142524   \n",
       "MAC000126    3.814583 -3.559724e-07              0.157884   \n",
       "\n",
       "           0_Sum absolute diff  0_Variance  0_Zero crossing rate  \n",
       "LCLid                                                             \n",
       "MAC000061          1226.050345    0.009033                 106.0  \n",
       "MAC000062          2641.711059    0.016845                   0.0  \n",
       "MAC000066          1355.027212    0.012047                   0.0  \n",
       "MAC000086          3015.591537    0.020313                   0.0  \n",
       "MAC000126          2314.231594    0.024927                1068.0  \n",
       "\n",
       "[5 rows x 54 columns]"
      ]
     },
     "execution_count": 80,
     "metadata": {},
     "output_type": "execute_result"
    }
   ],
   "source": [
    "import tsfel\n",
    "cfg = tsfel.get_features_by_domain(\"statistical\")\n",
    "cfg = {**cfg, **tsfel.get_features_by_domain(\"temporal\")}\n",
    "\n",
    "uniq_ids = train_df.LCLid.cat.categories\n",
    "\n",
    "stat_df = []\n",
    "for id_ in tqdm(uniq_ids, desc=\"Calculating features for all households\"):\n",
    "    ts = train_df.loc[train_df.LCLid==id_, \"energy_consumption\"]\n",
    "    res = tsfel.time_series_features_extractor(cfg, ts, verbose=False)\n",
    "    res['LCLid'] = id_\n",
    "    stat_df.append(res)\n",
    "\n",
    "stat_df = pd.concat(stat_df).set_index(\"LCLid\")\n",
    "del res\n",
    "stat_df.head()"
   ]
  },
  {
   "cell_type": "markdown",
   "id": "5b6467e3-4d33-489c-8d17-b165581f4906",
   "metadata": {},
   "source": [
    "#### Clustering the different households"
   ]
  },
  {
   "cell_type": "code",
   "execution_count": 81,
   "id": "46ee0787-1672-42cb-8d94-9a2a3af3f82b",
   "metadata": {},
   "outputs": [],
   "source": [
    "from sklearn.preprocessing import StandardScaler\n",
    "from sklearn.cluster import KMeans\n",
    "from src.utils.data_utils import replace_array_in_dataframe\n",
    "from sklearn.manifold import TSNE #T-Distributed Stochastic Neighbor Embedding"
   ]
  },
  {
   "cell_type": "code",
   "execution_count": 82,
   "id": "d0bae97a-0337-4993-b7da-a1c6eafb17d0",
   "metadata": {},
   "outputs": [],
   "source": [
    "# Standardizing to make distance calculation fair\n",
    "X_std = replace_array_in_dataframe(stat_df, StandardScaler().fit_transform(stat_df))\n",
    "#Non-Linear Dimensionality Reduction\n",
    "tsne = TSNE(n_components=2, perplexity=50, learning_rate=\"auto\", init=\"pca\", random_state=42, metric=\"cosine\")\n",
    "X_tsne = tsne.fit_transform(X_std.values)\n",
    "# Clustering reduced dimensions into 3 clusters\n",
    "kmeans = KMeans(n_clusters=3, random_state=42).fit(X_tsne)\n",
    "cluster_df = pd.Series(kmeans.labels_, index=X_std.index)"
   ]
  },
  {
   "cell_type": "code",
   "execution_count": 83,
   "id": "80bc67db-f66f-4df1-bf5b-3f8cb5b38972",
   "metadata": {
    "tags": []
   },
   "outputs": [],
   "source": [
    "plot_df = pd.DataFrame(X_tsne, columns=[\"dim_1\", \"dim_2\"], index=stat_df.index).reset_index()\n",
    "plot_df[\"clusters\"] = kmeans.labels_\n",
    "plot_df[\"clusters\"] = plot_df[\"clusters\"].astype(str)"
   ]
  },
  {
   "cell_type": "code",
   "execution_count": 84,
   "id": "6e81c800-de01-4529-b735-dc8b2f2fcf67",
   "metadata": {},
   "outputs": [
    {
     "data": {
      "application/vnd.plotly.v1+json": {
       "config": {
        "plotlyServerURL": "https://plot.ly"
       },
       "data": [
        {
         "hovertemplate": "<b>%{hovertext}</b><br><br>clusters=2<br>dim_1=%{x}<br>dim_2=%{y}<extra></extra>",
         "hovertext": [
          "MAC000061",
          "MAC000062",
          "MAC000066",
          "MAC000086",
          "MAC000126",
          "MAC000154",
          "MAC000173",
          "MAC000187",
          "MAC000201",
          "MAC000269",
          "MAC000290",
          "MAC000591",
          "MAC000662",
          "MAC000676",
          "MAC000909",
          "MAC000922",
          "MAC001230",
          "MAC001243",
          "MAC001288",
          "MAC002242",
          "MAC002440",
          "MAC002477",
          "MAC002653",
          "MAC002721",
          "MAC002745",
          "MAC004331",
          "MAC004338",
          "MAC004423",
          "MAC004508",
          "MAC004584",
          "MAC004782",
          "MAC004796",
          "MAC004811",
          "MAC004849",
          "MAC004990",
          "MAC005065",
          "MAC005193",
          "MAC005217",
          "MAC005300",
          "MAC005328",
          "MAC005336",
          "MAC005375",
          "MAC005529"
         ],
         "legendgroup": "2",
         "marker": {
          "color": "#636efa",
          "size": 8,
          "symbol": "circle"
         },
         "mode": "markers",
         "name": "Cluster 1",
         "orientation": "v",
         "showlegend": true,
         "type": "scatter",
         "x": [
          1.3081604,
          0.27084818,
          1.64949,
          1.149903,
          1.3315097,
          1.1592747,
          1.3393209,
          0.5862027,
          0.4713456,
          2.0451684,
          1.2830572,
          0.3632516,
          2.918027,
          0.40469575,
          3.3526604,
          2.26268,
          3.9617987,
          1.7555102,
          2.4786313,
          0.29251415,
          2.7875793,
          2.6819232,
          0.3745482,
          2.743768,
          2.3300912,
          2.6352236,
          1.568896,
          1.436472,
          1.5695708,
          2.2270238,
          2.3930917,
          0.80961716,
          2.533837,
          1.624158,
          0.6720379,
          3.6397052,
          1.8206936,
          1.9894525,
          2.5667925,
          3.218144,
          -0.20265818,
          0.6609856,
          1.7195913
         ],
         "xaxis": "x",
         "y": [
          2.523321,
          1.0185728,
          2.3893282,
          1.9553351,
          2.1675146,
          1.7909238,
          2.5126579,
          1.8047085,
          1.3882511,
          2.5462558,
          2.9209936,
          3.1641104,
          2.0766053,
          3.0786788,
          2.3732378,
          3.516139,
          4.041583,
          0.29082772,
          4.678684,
          1.4875612,
          1.6164777,
          3.3851051,
          2.9967952,
          4.2570834,
          3.9556334,
          2.710192,
          1.4374641,
          2.5927103,
          2.1145809,
          2.2990155,
          2.8730369,
          2.5188262,
          2.8360305,
          2.10525,
          2.3998952,
          3.2367196,
          2.477328,
          2.7941947,
          1.9998364,
          2.3191972,
          0.37138006,
          1.6575524,
          4.0299087
         ],
         "yaxis": "y"
        },
        {
         "hovertemplate": "<b>%{hovertext}</b><br><br>clusters=1<br>dim_1=%{x}<br>dim_2=%{y}<extra></extra>",
         "hovertext": [
          "MAC000193",
          "MAC000227",
          "MAC000321",
          "MAC000633",
          "MAC000711",
          "MAC000768",
          "MAC000899",
          "MAC000948",
          "MAC001009",
          "MAC001400",
          "MAC001511",
          "MAC001536",
          "MAC001623",
          "MAC001696",
          "MAC001728",
          "MAC001923",
          "MAC002076",
          "MAC002148",
          "MAC002191",
          "MAC002235",
          "MAC002324",
          "MAC002432",
          "MAC002516",
          "MAC002550",
          "MAC002561",
          "MAC002735",
          "MAC002925",
          "MAC002998",
          "MAC003126",
          "MAC003157",
          "MAC003216",
          "MAC003299",
          "MAC003306",
          "MAC003363",
          "MAC003406",
          "MAC003416",
          "MAC003432",
          "MAC003457",
          "MAC003458",
          "MAC003493",
          "MAC003494",
          "MAC003534",
          "MAC003541",
          "MAC003543",
          "MAC003624",
          "MAC003641",
          "MAC003697",
          "MAC003750",
          "MAC003784",
          "MAC003836",
          "MAC003911",
          "MAC003981",
          "MAC004135",
          "MAC004278",
          "MAC004428",
          "MAC004459",
          "MAC004552",
          "MAC004571",
          "MAC004676",
          "MAC004710",
          "MAC004895",
          "MAC004902",
          "MAC005008",
          "MAC005096",
          "MAC005220",
          "MAC005290",
          "MAC005521"
         ],
         "legendgroup": "1",
         "marker": {
          "color": "#EF553B",
          "size": 8,
          "symbol": "diamond"
         },
         "mode": "markers",
         "name": "Cluster 2",
         "orientation": "v",
         "showlegend": true,
         "type": "scatter",
         "x": [
          -0.24366306,
          -0.018404514,
          -0.18761414,
          -1.3504131,
          0.95958734,
          0.6858118,
          0.42754954,
          0.6858904,
          0.5161884,
          2.7056026,
          2.037137,
          2.5612674,
          3.2883627,
          0.9205703,
          2.4289014,
          1.4756762,
          3.4576385,
          1.049655,
          3.4634662,
          0.24230939,
          -0.5772658,
          1.0105265,
          2.4212146,
          3.5709028,
          3.1142907,
          4.3893614,
          5.2818985,
          1.6603165,
          1.1922579,
          1.5170391,
          3.842292,
          2.6875684,
          4.851813,
          4.512282,
          3.75644,
          4.795748,
          3.4701717,
          4.366615,
          3.2009776,
          4.6175804,
          4.6909013,
          4.305366,
          4.5972805,
          4.662911,
          4.7396274,
          4.2442894,
          2.944496,
          3.5195637,
          3.3419132,
          3.4014373,
          3.9053578,
          1.5404476,
          -0.76957047,
          -0.68686676,
          -0.80098015,
          0.13234508,
          -0.63427377,
          -0.48094264,
          2.6966531,
          4.32031,
          -0.04034642,
          -0.9723275,
          -0.5880927,
          0.3848809,
          -0.6335544,
          -0.2148167,
          -0.65312123
         ],
         "xaxis": "x",
         "y": [
          -0.49768832,
          -1.3706208,
          -2.3740168,
          -1.6854862,
          -2.2847898,
          -2.121654,
          -2.918859,
          -2.5132198,
          -2.9309063,
          -0.5348266,
          -2.2721815,
          -0.61541665,
          -1.5685457,
          -3.1720073,
          -2.4697592,
          -3.7615483,
          -2.4923778,
          -3.2983377,
          -2.2034209,
          -2.3984542,
          -2.1547265,
          -2.818725,
          -3.0462866,
          -3.8577046,
          -3.0896695,
          -1.6771358,
          -2.2067778,
          -3.1792943,
          -2.8370633,
          -3.4745133,
          -2.9781702,
          -3.4836442,
          -2.3544035,
          -3.5891278,
          -3.4470532,
          -2.1875608,
          -3.4560385,
          -3.2953832,
          -3.312652,
          -2.8253038,
          -2.491975,
          -3.4303997,
          -2.8346918,
          -2.3222625,
          -2.7178438,
          -2.9465697,
          -3.7431457,
          -3.580524,
          -3.7257118,
          -3.8947117,
          -3.213703,
          -3.3979423,
          -1.0934969,
          -2.4435375,
          -1.1555676,
          -1.8613975,
          -0.50348216,
          -0.88810384,
          -3.8884795,
          -4.047268,
          -1.5710983,
          -1.6275551,
          -1.2050291,
          -2.9022584,
          -1.7905886,
          -2.2448783,
          -0.2413085
         ],
         "yaxis": "y"
        },
        {
         "hovertemplate": "<b>%{hovertext}</b><br><br>clusters=0<br>dim_1=%{x}<br>dim_2=%{y}<extra></extra>",
         "hovertext": [
          "MAC000615",
          "MAC000751",
          "MAC000752",
          "MAC000805",
          "MAC000910",
          "MAC000936",
          "MAC001019",
          "MAC001169",
          "MAC001245",
          "MAC001267",
          "MAC001444",
          "MAC001453",
          "MAC001475",
          "MAC001589",
          "MAC001778",
          "MAC001807",
          "MAC001823",
          "MAC001884",
          "MAC001916",
          "MAC001957",
          "MAC001979",
          "MAC001985",
          "MAC002055",
          "MAC002220",
          "MAC002224",
          "MAC002322",
          "MAC002364",
          "MAC002809",
          "MAC002938",
          "MAC002968",
          "MAC003031",
          "MAC003069",
          "MAC003635",
          "MAC004079",
          "MAC004191",
          "MAC004642",
          "MAC004650",
          "MAC005089",
          "MAC005098",
          "MAC005463"
         ],
         "legendgroup": "0",
         "marker": {
          "color": "#00cc96",
          "size": 8,
          "symbol": "square"
         },
         "mode": "markers",
         "name": "Cluster 3",
         "orientation": "v",
         "showlegend": true,
         "type": "scatter",
         "x": [
          3.7035255,
          4.4493656,
          4.886886,
          3.500626,
          3.6864192,
          4.055037,
          4.434199,
          4.166823,
          3.800817,
          4.2260675,
          6.2428412,
          5.466045,
          4.0988765,
          4.74815,
          4.9917846,
          5.5161443,
          4.643405,
          5.1409073,
          5.1194177,
          5.9535728,
          4.238974,
          6.0549026,
          5.1232038,
          4.988019,
          4.651105,
          3.6169016,
          4.6860166,
          4.202516,
          6.0487413,
          5.324934,
          4.945514,
          4.345348,
          5.0688305,
          4.414872,
          4.2018814,
          4.984255,
          5.10492,
          6.146204,
          4.1910458,
          3.2016735
         ],
         "xaxis": "x",
         "y": [
          2.1881847,
          2.0674696,
          3.392231,
          2.360506,
          1.9043583,
          2.0266695,
          2.7697682,
          1.8770207,
          -0.797897,
          2.0765502,
          1.3054148,
          1.7033492,
          0.53241897,
          3.5124314,
          -0.3080763,
          1.4579698,
          1.4858303,
          1.2723405,
          1.7044423,
          2.3428154,
          -0.34826696,
          1.44775,
          1.2562698,
          0.83378386,
          0.1595681,
          1.2863657,
          3.2891796,
          2.5579658,
          0.5076924,
          0.58223855,
          2.5647764,
          1.7525305,
          -1.4952841,
          1.1592621,
          0.99034363,
          -0.47072795,
          0.48106593,
          0.7864207,
          0.5487092,
          1.1980982
         ],
         "yaxis": "y"
        }
       ],
       "layout": {
        "autosize": false,
        "height": 500,
        "legend": {
         "font": {
          "size": 16
         },
         "orientation": "h",
         "title": {},
         "tracegroupgap": 0,
         "x": 1,
         "xanchor": "right",
         "y": 0.9,
         "yanchor": "bottom"
        },
        "margin": {
         "t": 60
        },
        "template": {
         "data": {
          "bar": [
           {
            "error_x": {
             "color": "#2a3f5f"
            },
            "error_y": {
             "color": "#2a3f5f"
            },
            "marker": {
             "line": {
              "color": "white",
              "width": 0.5
             },
             "pattern": {
              "fillmode": "overlay",
              "size": 10,
              "solidity": 0.2
             }
            },
            "type": "bar"
           }
          ],
          "barpolar": [
           {
            "marker": {
             "line": {
              "color": "white",
              "width": 0.5
             },
             "pattern": {
              "fillmode": "overlay",
              "size": 10,
              "solidity": 0.2
             }
            },
            "type": "barpolar"
           }
          ],
          "carpet": [
           {
            "aaxis": {
             "endlinecolor": "#2a3f5f",
             "gridcolor": "#C8D4E3",
             "linecolor": "#C8D4E3",
             "minorgridcolor": "#C8D4E3",
             "startlinecolor": "#2a3f5f"
            },
            "baxis": {
             "endlinecolor": "#2a3f5f",
             "gridcolor": "#C8D4E3",
             "linecolor": "#C8D4E3",
             "minorgridcolor": "#C8D4E3",
             "startlinecolor": "#2a3f5f"
            },
            "type": "carpet"
           }
          ],
          "choropleth": [
           {
            "colorbar": {
             "outlinewidth": 0,
             "ticks": ""
            },
            "type": "choropleth"
           }
          ],
          "contour": [
           {
            "colorbar": {
             "outlinewidth": 0,
             "ticks": ""
            },
            "colorscale": [
             [
              0,
              "#0d0887"
             ],
             [
              0.1111111111111111,
              "#46039f"
             ],
             [
              0.2222222222222222,
              "#7201a8"
             ],
             [
              0.3333333333333333,
              "#9c179e"
             ],
             [
              0.4444444444444444,
              "#bd3786"
             ],
             [
              0.5555555555555556,
              "#d8576b"
             ],
             [
              0.6666666666666666,
              "#ed7953"
             ],
             [
              0.7777777777777778,
              "#fb9f3a"
             ],
             [
              0.8888888888888888,
              "#fdca26"
             ],
             [
              1,
              "#f0f921"
             ]
            ],
            "type": "contour"
           }
          ],
          "contourcarpet": [
           {
            "colorbar": {
             "outlinewidth": 0,
             "ticks": ""
            },
            "type": "contourcarpet"
           }
          ],
          "heatmap": [
           {
            "colorbar": {
             "outlinewidth": 0,
             "ticks": ""
            },
            "colorscale": [
             [
              0,
              "#0d0887"
             ],
             [
              0.1111111111111111,
              "#46039f"
             ],
             [
              0.2222222222222222,
              "#7201a8"
             ],
             [
              0.3333333333333333,
              "#9c179e"
             ],
             [
              0.4444444444444444,
              "#bd3786"
             ],
             [
              0.5555555555555556,
              "#d8576b"
             ],
             [
              0.6666666666666666,
              "#ed7953"
             ],
             [
              0.7777777777777778,
              "#fb9f3a"
             ],
             [
              0.8888888888888888,
              "#fdca26"
             ],
             [
              1,
              "#f0f921"
             ]
            ],
            "type": "heatmap"
           }
          ],
          "heatmapgl": [
           {
            "colorbar": {
             "outlinewidth": 0,
             "ticks": ""
            },
            "colorscale": [
             [
              0,
              "#0d0887"
             ],
             [
              0.1111111111111111,
              "#46039f"
             ],
             [
              0.2222222222222222,
              "#7201a8"
             ],
             [
              0.3333333333333333,
              "#9c179e"
             ],
             [
              0.4444444444444444,
              "#bd3786"
             ],
             [
              0.5555555555555556,
              "#d8576b"
             ],
             [
              0.6666666666666666,
              "#ed7953"
             ],
             [
              0.7777777777777778,
              "#fb9f3a"
             ],
             [
              0.8888888888888888,
              "#fdca26"
             ],
             [
              1,
              "#f0f921"
             ]
            ],
            "type": "heatmapgl"
           }
          ],
          "histogram": [
           {
            "marker": {
             "pattern": {
              "fillmode": "overlay",
              "size": 10,
              "solidity": 0.2
             }
            },
            "type": "histogram"
           }
          ],
          "histogram2d": [
           {
            "colorbar": {
             "outlinewidth": 0,
             "ticks": ""
            },
            "colorscale": [
             [
              0,
              "#0d0887"
             ],
             [
              0.1111111111111111,
              "#46039f"
             ],
             [
              0.2222222222222222,
              "#7201a8"
             ],
             [
              0.3333333333333333,
              "#9c179e"
             ],
             [
              0.4444444444444444,
              "#bd3786"
             ],
             [
              0.5555555555555556,
              "#d8576b"
             ],
             [
              0.6666666666666666,
              "#ed7953"
             ],
             [
              0.7777777777777778,
              "#fb9f3a"
             ],
             [
              0.8888888888888888,
              "#fdca26"
             ],
             [
              1,
              "#f0f921"
             ]
            ],
            "type": "histogram2d"
           }
          ],
          "histogram2dcontour": [
           {
            "colorbar": {
             "outlinewidth": 0,
             "ticks": ""
            },
            "colorscale": [
             [
              0,
              "#0d0887"
             ],
             [
              0.1111111111111111,
              "#46039f"
             ],
             [
              0.2222222222222222,
              "#7201a8"
             ],
             [
              0.3333333333333333,
              "#9c179e"
             ],
             [
              0.4444444444444444,
              "#bd3786"
             ],
             [
              0.5555555555555556,
              "#d8576b"
             ],
             [
              0.6666666666666666,
              "#ed7953"
             ],
             [
              0.7777777777777778,
              "#fb9f3a"
             ],
             [
              0.8888888888888888,
              "#fdca26"
             ],
             [
              1,
              "#f0f921"
             ]
            ],
            "type": "histogram2dcontour"
           }
          ],
          "mesh3d": [
           {
            "colorbar": {
             "outlinewidth": 0,
             "ticks": ""
            },
            "type": "mesh3d"
           }
          ],
          "parcoords": [
           {
            "line": {
             "colorbar": {
              "outlinewidth": 0,
              "ticks": ""
             }
            },
            "type": "parcoords"
           }
          ],
          "pie": [
           {
            "automargin": true,
            "type": "pie"
           }
          ],
          "scatter": [
           {
            "fillpattern": {
             "fillmode": "overlay",
             "size": 10,
             "solidity": 0.2
            },
            "type": "scatter"
           }
          ],
          "scatter3d": [
           {
            "line": {
             "colorbar": {
              "outlinewidth": 0,
              "ticks": ""
             }
            },
            "marker": {
             "colorbar": {
              "outlinewidth": 0,
              "ticks": ""
             }
            },
            "type": "scatter3d"
           }
          ],
          "scattercarpet": [
           {
            "marker": {
             "colorbar": {
              "outlinewidth": 0,
              "ticks": ""
             }
            },
            "type": "scattercarpet"
           }
          ],
          "scattergeo": [
           {
            "marker": {
             "colorbar": {
              "outlinewidth": 0,
              "ticks": ""
             }
            },
            "type": "scattergeo"
           }
          ],
          "scattergl": [
           {
            "marker": {
             "colorbar": {
              "outlinewidth": 0,
              "ticks": ""
             }
            },
            "type": "scattergl"
           }
          ],
          "scattermapbox": [
           {
            "marker": {
             "colorbar": {
              "outlinewidth": 0,
              "ticks": ""
             }
            },
            "type": "scattermapbox"
           }
          ],
          "scatterpolar": [
           {
            "marker": {
             "colorbar": {
              "outlinewidth": 0,
              "ticks": ""
             }
            },
            "type": "scatterpolar"
           }
          ],
          "scatterpolargl": [
           {
            "marker": {
             "colorbar": {
              "outlinewidth": 0,
              "ticks": ""
             }
            },
            "type": "scatterpolargl"
           }
          ],
          "scatterternary": [
           {
            "marker": {
             "colorbar": {
              "outlinewidth": 0,
              "ticks": ""
             }
            },
            "type": "scatterternary"
           }
          ],
          "surface": [
           {
            "colorbar": {
             "outlinewidth": 0,
             "ticks": ""
            },
            "colorscale": [
             [
              0,
              "#0d0887"
             ],
             [
              0.1111111111111111,
              "#46039f"
             ],
             [
              0.2222222222222222,
              "#7201a8"
             ],
             [
              0.3333333333333333,
              "#9c179e"
             ],
             [
              0.4444444444444444,
              "#bd3786"
             ],
             [
              0.5555555555555556,
              "#d8576b"
             ],
             [
              0.6666666666666666,
              "#ed7953"
             ],
             [
              0.7777777777777778,
              "#fb9f3a"
             ],
             [
              0.8888888888888888,
              "#fdca26"
             ],
             [
              1,
              "#f0f921"
             ]
            ],
            "type": "surface"
           }
          ],
          "table": [
           {
            "cells": {
             "fill": {
              "color": "#EBF0F8"
             },
             "line": {
              "color": "white"
             }
            },
            "header": {
             "fill": {
              "color": "#C8D4E3"
             },
             "line": {
              "color": "white"
             }
            },
            "type": "table"
           }
          ]
         },
         "layout": {
          "annotationdefaults": {
           "arrowcolor": "#2a3f5f",
           "arrowhead": 0,
           "arrowwidth": 1
          },
          "autotypenumbers": "strict",
          "coloraxis": {
           "colorbar": {
            "outlinewidth": 0,
            "ticks": ""
           }
          },
          "colorscale": {
           "diverging": [
            [
             0,
             "#8e0152"
            ],
            [
             0.1,
             "#c51b7d"
            ],
            [
             0.2,
             "#de77ae"
            ],
            [
             0.3,
             "#f1b6da"
            ],
            [
             0.4,
             "#fde0ef"
            ],
            [
             0.5,
             "#f7f7f7"
            ],
            [
             0.6,
             "#e6f5d0"
            ],
            [
             0.7,
             "#b8e186"
            ],
            [
             0.8,
             "#7fbc41"
            ],
            [
             0.9,
             "#4d9221"
            ],
            [
             1,
             "#276419"
            ]
           ],
           "sequential": [
            [
             0,
             "#0d0887"
            ],
            [
             0.1111111111111111,
             "#46039f"
            ],
            [
             0.2222222222222222,
             "#7201a8"
            ],
            [
             0.3333333333333333,
             "#9c179e"
            ],
            [
             0.4444444444444444,
             "#bd3786"
            ],
            [
             0.5555555555555556,
             "#d8576b"
            ],
            [
             0.6666666666666666,
             "#ed7953"
            ],
            [
             0.7777777777777778,
             "#fb9f3a"
            ],
            [
             0.8888888888888888,
             "#fdca26"
            ],
            [
             1,
             "#f0f921"
            ]
           ],
           "sequentialminus": [
            [
             0,
             "#0d0887"
            ],
            [
             0.1111111111111111,
             "#46039f"
            ],
            [
             0.2222222222222222,
             "#7201a8"
            ],
            [
             0.3333333333333333,
             "#9c179e"
            ],
            [
             0.4444444444444444,
             "#bd3786"
            ],
            [
             0.5555555555555556,
             "#d8576b"
            ],
            [
             0.6666666666666666,
             "#ed7953"
            ],
            [
             0.7777777777777778,
             "#fb9f3a"
            ],
            [
             0.8888888888888888,
             "#fdca26"
            ],
            [
             1,
             "#f0f921"
            ]
           ]
          },
          "colorway": [
           "#636efa",
           "#EF553B",
           "#00cc96",
           "#ab63fa",
           "#FFA15A",
           "#19d3f3",
           "#FF6692",
           "#B6E880",
           "#FF97FF",
           "#FECB52"
          ],
          "font": {
           "color": "#2a3f5f"
          },
          "geo": {
           "bgcolor": "white",
           "lakecolor": "white",
           "landcolor": "white",
           "showlakes": true,
           "showland": true,
           "subunitcolor": "#C8D4E3"
          },
          "hoverlabel": {
           "align": "left"
          },
          "hovermode": "closest",
          "mapbox": {
           "style": "light"
          },
          "paper_bgcolor": "white",
          "plot_bgcolor": "white",
          "polar": {
           "angularaxis": {
            "gridcolor": "#EBF0F8",
            "linecolor": "#EBF0F8",
            "ticks": ""
           },
           "bgcolor": "white",
           "radialaxis": {
            "gridcolor": "#EBF0F8",
            "linecolor": "#EBF0F8",
            "ticks": ""
           }
          },
          "scene": {
           "xaxis": {
            "backgroundcolor": "white",
            "gridcolor": "#DFE8F3",
            "gridwidth": 2,
            "linecolor": "#EBF0F8",
            "showbackground": true,
            "ticks": "",
            "zerolinecolor": "#EBF0F8"
           },
           "yaxis": {
            "backgroundcolor": "white",
            "gridcolor": "#DFE8F3",
            "gridwidth": 2,
            "linecolor": "#EBF0F8",
            "showbackground": true,
            "ticks": "",
            "zerolinecolor": "#EBF0F8"
           },
           "zaxis": {
            "backgroundcolor": "white",
            "gridcolor": "#DFE8F3",
            "gridwidth": 2,
            "linecolor": "#EBF0F8",
            "showbackground": true,
            "ticks": "",
            "zerolinecolor": "#EBF0F8"
           }
          },
          "shapedefaults": {
           "line": {
            "color": "#2a3f5f"
           }
          },
          "ternary": {
           "aaxis": {
            "gridcolor": "#DFE8F3",
            "linecolor": "#A2B1C6",
            "ticks": ""
           },
           "baxis": {
            "gridcolor": "#DFE8F3",
            "linecolor": "#A2B1C6",
            "ticks": ""
           },
           "bgcolor": "white",
           "caxis": {
            "gridcolor": "#DFE8F3",
            "linecolor": "#A2B1C6",
            "ticks": ""
           }
          },
          "title": {
           "x": 0.05
          },
          "xaxis": {
           "automargin": true,
           "gridcolor": "#EBF0F8",
           "linecolor": "#EBF0F8",
           "ticks": "",
           "title": {
            "standoff": 15
           },
           "zerolinecolor": "#EBF0F8",
           "zerolinewidth": 2
          },
          "yaxis": {
           "automargin": true,
           "gridcolor": "#EBF0F8",
           "linecolor": "#EBF0F8",
           "ticks": "",
           "title": {
            "standoff": 15
           },
           "zerolinecolor": "#EBF0F8",
           "zerolinewidth": 2
          }
         }
        },
        "title": {
         "font": {
          "size": 20
         },
         "text": "Clustered t-SNE",
         "x": 0.5,
         "xanchor": "center",
         "yanchor": "top"
        },
        "width": 900,
        "xaxis": {
         "anchor": "y",
         "domain": [
          0,
          1
         ],
         "tickfont": {
          "size": 16
         },
         "title": {
          "font": {
           "size": 16
          },
          "text": "Dimension 1"
         }
        },
        "yaxis": {
         "anchor": "x",
         "domain": [
          0,
          1
         ],
         "tickfont": {
          "size": 16
         },
         "title": {
          "font": {
           "size": 16
          },
          "text": "Dimension 1"
         }
        }
       }
      }
     },
     "metadata": {},
     "output_type": "display_data"
    }
   ],
   "source": [
    "fig = px.scatter(plot_df, x=\"dim_1\", y=\"dim_2\", color=\"clusters\", symbol=\"clusters\", hover_name=\"LCLid\")\n",
    "fig.update_traces(marker=dict(size=8), selector=dict(mode='markers'))\n",
    "format_plot(fig, xlabel=\"Dimension 1\", ylabel=\"Dimension 1\", title=f\"Clustered t-SNE\", font_size=16, legends=[\"Cluster 1\", \"Cluster 2\", \"Cluster 3\"])\n",
    "fig.write_image(\"imgs/chapter_10/clusters_tsne.png\")\n",
    "fig.show()"
   ]
  },
  {
   "cell_type": "markdown",
   "id": "ac30e83f-c152-4ba4-b6ca-fd6e4afa17bb",
   "metadata": {},
   "source": [
    "#### Using the clusters to partition"
   ]
  },
  {
   "cell_type": "code",
   "execution_count": 85,
   "id": "0c9c82ea-c9b7-4702-a543-25359f2071d3",
   "metadata": {},
   "outputs": [],
   "source": [
    "from lightgbm import LGBMRegressor\n",
    "model_config = ModelConfig(\n",
    "    model=LGBMRegressor(**best_params, verbose=-1),\n",
    "    name=\"Tuned GFM+Meta+Clustered Part\",\n",
    "    # LGBM is not sensitive to normalized data\n",
    "    normalize=False,\n",
    "    # LGBM can handle missing values\n",
    "    fill_missing=False,\n",
    ")"
   ]
  },
  {
   "cell_type": "code",
   "execution_count": 86,
   "id": "a8421518-da1b-4f15-a32c-7ced17a8ef7c",
   "metadata": {},
   "outputs": [
    {
     "data": {
      "application/vnd.jupyter.widget-view+json": {
       "model_id": "925319ccd57646bba90dc775ba7ae162",
       "version_major": 2,
       "version_minor": 0
      },
      "text/plain": [
       "Training groups...:   0%|          | 0/3 [00:00<?, ?it/s]"
      ]
     },
     "metadata": {},
     "output_type": "display_data"
    },
    {
     "name": "stdout",
     "output_type": "stream",
     "text": [
      "Time Elapsed: 33 seconds\n",
      "Time Elapsed: 41 seconds\n",
      "Time Elapsed: 24 seconds\n"
     ]
    }
   ],
   "source": [
    "y_pred_l = []\n",
    "feat_df_l = []\n",
    "time_elapsed_l = []\n",
    "for acn in tqdm(cluster_df.unique(), desc=\"Training groups...\"):\n",
    "    lclids = cluster_df[cluster_df==acn].index\n",
    "    _train_df = train_df.loc[train_df.LCLid.isin(lclids)]\n",
    "    _test_df = test_df.loc[test_df.LCLid.isin(lclids)]\n",
    "    train_features, train_target, train_original_target = _feat_config.get_X_y(\n",
    "        _train_df, categorical=True, exogenous=False\n",
    "    )\n",
    "    # Loading the Validation as test\n",
    "    test_features, test_target, test_original_target = _feat_config.get_X_y(\n",
    "        _test_df, categorical=True, exogenous=False\n",
    "    )\n",
    "    cat_features = set(train_features.columns).intersection(\n",
    "        _feat_config.categorical_features\n",
    "    )\n",
    "    _model_config = model_config.clone()\n",
    "    with LogTime() as timer:\n",
    "        y_pred, feat_df = train_model(\n",
    "            _model_config,\n",
    "            _feat_config,\n",
    "            missing_value_config,\n",
    "            train_features,\n",
    "            train_target,\n",
    "            test_features,\n",
    "            fit_kwargs=dict(categorical_feature=cat_features),\n",
    "        )\n",
    "    y_pred_l.append(y_pred)\n",
    "    feat_df_l.append(feat_df)\n",
    "    time_elapsed_l.append(timer.elapsed)"
   ]
  },
  {
   "cell_type": "code",
   "execution_count": 87,
   "id": "46466bb1-c44b-4843-b5a4-c5a2dc1f5b0a",
   "metadata": {},
   "outputs": [
    {
     "data": {
      "application/vnd.jupyter.widget-view+json": {
       "model_id": "3d1e66924dfd4abb8edafb7830021a2d",
       "version_major": 2,
       "version_minor": 0
      },
      "text/plain": [
       "Calculating metrics...:   0%|          | 0/150 [00:00<?, ?it/s]"
      ]
     },
     "metadata": {},
     "output_type": "display_data"
    }
   ],
   "source": [
    "y_pred = pd.concat(y_pred_l)\n",
    "\n",
    "test_features, test_target, test_original_target = _feat_config.get_X_y(\n",
    "    test_df, categorical=True, exogenous=False\n",
    ")\n",
    "train_features, train_target, train_original_target = _feat_config.get_X_y(\n",
    "    train_df, categorical=True, exogenous=False\n",
    ")\n",
    "\n",
    "agg_metrics, eval_metrics_df = evaluate_forecast(y_pred, test_target, train_target, model_config)\n",
    "agg_metrics[\"Time Elapsed\"] = np.sum(time_elapsed_l)\n",
    "metric_record.append(agg_metrics)\n",
    "individual_metrics[model_config.name]=eval_metrics_df\n",
    "#pred_df = pred_df.join(y_pred)"
   ]
  },
  {
   "cell_type": "code",
   "execution_count": 88,
   "id": "0bbca7ce-0785-4567-8b58-5b7f3b035ad6",
   "metadata": {},
   "outputs": [
    {
     "data": {
      "text/html": [
       "<div>\n",
       "<style scoped>\n",
       "    .dataframe tbody tr th:only-of-type {\n",
       "        vertical-align: middle;\n",
       "    }\n",
       "\n",
       "    .dataframe tbody tr th {\n",
       "        vertical-align: top;\n",
       "    }\n",
       "\n",
       "    .dataframe thead th {\n",
       "        text-align: right;\n",
       "    }\n",
       "</style>\n",
       "<table border=\"1\" class=\"dataframe\">\n",
       "  <thead>\n",
       "    <tr style=\"text-align: right;\">\n",
       "      <th></th>\n",
       "      <th>Algorithm</th>\n",
       "      <th>MAE</th>\n",
       "      <th>MSE</th>\n",
       "      <th>meanMASE</th>\n",
       "      <th>Forecast Bias</th>\n",
       "      <th>Time Elapsed</th>\n",
       "    </tr>\n",
       "  </thead>\n",
       "  <tbody>\n",
       "    <tr>\n",
       "      <th>0</th>\n",
       "      <td>LightGBM</td>\n",
       "      <td>0.077107</td>\n",
       "      <td>0.027468</td>\n",
       "      <td>0.977439</td>\n",
       "      <td>0.032495</td>\n",
       "      <td>NaN</td>\n",
       "    </tr>\n",
       "    <tr>\n",
       "      <th>1</th>\n",
       "      <td>GFM Baseline</td>\n",
       "      <td>0.079552</td>\n",
       "      <td>0.027332</td>\n",
       "      <td>1.012078</td>\n",
       "      <td>0.190848</td>\n",
       "      <td>39.544276</td>\n",
       "    </tr>\n",
       "    <tr>\n",
       "      <th>2</th>\n",
       "      <td>GFM+Meta (CountEncoder)</td>\n",
       "      <td>0.079412</td>\n",
       "      <td>0.027232</td>\n",
       "      <td>1.011083</td>\n",
       "      <td>0.091026</td>\n",
       "      <td>112.729089</td>\n",
       "    </tr>\n",
       "    <tr>\n",
       "      <th>3</th>\n",
       "      <td>GFM+Meta  (TargetEncoder)</td>\n",
       "      <td>0.079553</td>\n",
       "      <td>0.027241</td>\n",
       "      <td>1.011387</td>\n",
       "      <td>0.299803</td>\n",
       "      <td>102.253439</td>\n",
       "    </tr>\n",
       "    <tr>\n",
       "      <th>4</th>\n",
       "      <td>GFM+Meta  (NativeLGBM)</td>\n",
       "      <td>0.079338</td>\n",
       "      <td>0.027199</td>\n",
       "      <td>1.011089</td>\n",
       "      <td>0.047789</td>\n",
       "      <td>66.527437</td>\n",
       "    </tr>\n",
       "    <tr>\n",
       "      <th>5</th>\n",
       "      <td>Tuned GFM+Meta</td>\n",
       "      <td>0.074073</td>\n",
       "      <td>0.030878</td>\n",
       "      <td>0.916890</td>\n",
       "      <td>-12.179570</td>\n",
       "      <td>94.305064</td>\n",
       "    </tr>\n",
       "    <tr>\n",
       "      <th>6</th>\n",
       "      <td>Tuned GFM+Meta+Random Part</td>\n",
       "      <td>0.073132</td>\n",
       "      <td>0.030865</td>\n",
       "      <td>0.905318</td>\n",
       "      <td>-12.380182</td>\n",
       "      <td>103.310471</td>\n",
       "    </tr>\n",
       "    <tr>\n",
       "      <th>7</th>\n",
       "      <td>Tuned GFM+Meta+ACORN Part</td>\n",
       "      <td>0.073037</td>\n",
       "      <td>0.030535</td>\n",
       "      <td>0.904966</td>\n",
       "      <td>-12.221540</td>\n",
       "      <td>95.054462</td>\n",
       "    </tr>\n",
       "    <tr>\n",
       "      <th>8</th>\n",
       "      <td>Tuned GFM+Meta+Clustered Part</td>\n",
       "      <td>0.073181</td>\n",
       "      <td>0.030572</td>\n",
       "      <td>0.915675</td>\n",
       "      <td>-12.595349</td>\n",
       "      <td>99.653251</td>\n",
       "    </tr>\n",
       "  </tbody>\n",
       "</table>\n",
       "</div>"
      ],
      "text/plain": [
       "                       Algorithm       MAE       MSE  meanMASE  Forecast Bias  \\\n",
       "0                       LightGBM  0.077107  0.027468  0.977439       0.032495   \n",
       "1                   GFM Baseline  0.079552  0.027332  1.012078       0.190848   \n",
       "2        GFM+Meta (CountEncoder)  0.079412  0.027232  1.011083       0.091026   \n",
       "3      GFM+Meta  (TargetEncoder)  0.079553  0.027241  1.011387       0.299803   \n",
       "4         GFM+Meta  (NativeLGBM)  0.079338  0.027199  1.011089       0.047789   \n",
       "5                 Tuned GFM+Meta  0.074073  0.030878  0.916890     -12.179570   \n",
       "6     Tuned GFM+Meta+Random Part  0.073132  0.030865  0.905318     -12.380182   \n",
       "7      Tuned GFM+Meta+ACORN Part  0.073037  0.030535  0.904966     -12.221540   \n",
       "8  Tuned GFM+Meta+Clustered Part  0.073181  0.030572  0.915675     -12.595349   \n",
       "\n",
       "   Time Elapsed  \n",
       "0           NaN  \n",
       "1     39.544276  \n",
       "2    112.729089  \n",
       "3    102.253439  \n",
       "4     66.527437  \n",
       "5     94.305064  \n",
       "6    103.310471  \n",
       "7     95.054462  \n",
       "8     99.653251  "
      ]
     },
     "execution_count": 88,
     "metadata": {},
     "output_type": "execute_result"
    }
   ],
   "source": [
    "pd.DataFrame(metric_record)"
   ]
  },
  {
   "cell_type": "code",
   "execution_count": 89,
   "id": "581b97c0-2605-48d8-92eb-161341d1dd37",
   "metadata": {},
   "outputs": [],
   "source": [
    "#Averaging feature importance across partitions (Dirty Approximation)\n",
    "feat_df = feat_df_l.pop(0)\n",
    "for i, d in enumerate(feat_df_l):\n",
    "    feat_df = feat_df.merge(d, on=\"feature\",suffixes=(\"\",\"_{i}\"))\n",
    "feat_df = feat_df.set_index('feature')\n",
    "feat_df[\"importance\"] = feat_df.sum(axis=1)\n",
    "feat_df = feat_df.reset_index()\n",
    "feat_df = feat_df.loc[:, [\"feature\", \"importance\"]].sort_values(\"importance\", ascending=False)"
   ]
  },
  {
   "cell_type": "code",
   "execution_count": 90,
   "id": "e53221f0-6102-4c2a-95e5-5803e18e25ea",
   "metadata": {},
   "outputs": [
    {
     "data": {
      "application/vnd.plotly.v1+json": {
       "config": {
        "plotlyServerURL": "https://plot.ly"
       },
       "data": [
        {
         "alignmentgroup": "True",
         "hovertemplate": "feature=%{x}<br>importance=%{y}<extra></extra>",
         "legendgroup": "",
         "marker": {
          "color": "#636efa",
          "pattern": {
           "shape": ""
          }
         },
         "name": "",
         "offsetgroup": "",
         "orientation": "v",
         "showlegend": false,
         "textposition": "auto",
         "type": "bar",
         "x": [
          "energy_consumption_lag_1",
          "LCLid",
          "energy_consumption_lag_2",
          "energy_consumption_rolling_3_std",
          "energy_consumption_lag_3",
          "energy_consumption_336_seasonal_rolling_3_mean",
          "energy_consumption_48_seasonal_rolling_3_mean",
          "energy_consumption_rolling_3_mean",
          "energy_consumption_336_seasonal_rolling_3_std",
          "Acorn",
          "energy_consumption_lag_47",
          "energy_consumption_lag_4",
          "energy_consumption_rolling_6_std",
          "energy_consumption_lag_46",
          "energy_consumption_48_seasonal_rolling_3_std"
         ],
         "xaxis": "x",
         "y": [
          3033,
          2429,
          1677,
          1450,
          1259,
          1181,
          1157,
          987,
          846,
          821,
          809,
          799,
          782,
          727,
          672
         ],
         "yaxis": "y"
        }
       ],
       "layout": {
        "autosize": false,
        "barmode": "relative",
        "height": 500,
        "legend": {
         "font": {
          "size": 12
         },
         "orientation": "h",
         "title": {},
         "tracegroupgap": 0,
         "x": 1,
         "xanchor": "right",
         "y": 0.9,
         "yanchor": "bottom"
        },
        "margin": {
         "t": 60
        },
        "template": {
         "data": {
          "bar": [
           {
            "error_x": {
             "color": "#2a3f5f"
            },
            "error_y": {
             "color": "#2a3f5f"
            },
            "marker": {
             "line": {
              "color": "white",
              "width": 0.5
             },
             "pattern": {
              "fillmode": "overlay",
              "size": 10,
              "solidity": 0.2
             }
            },
            "type": "bar"
           }
          ],
          "barpolar": [
           {
            "marker": {
             "line": {
              "color": "white",
              "width": 0.5
             },
             "pattern": {
              "fillmode": "overlay",
              "size": 10,
              "solidity": 0.2
             }
            },
            "type": "barpolar"
           }
          ],
          "carpet": [
           {
            "aaxis": {
             "endlinecolor": "#2a3f5f",
             "gridcolor": "#C8D4E3",
             "linecolor": "#C8D4E3",
             "minorgridcolor": "#C8D4E3",
             "startlinecolor": "#2a3f5f"
            },
            "baxis": {
             "endlinecolor": "#2a3f5f",
             "gridcolor": "#C8D4E3",
             "linecolor": "#C8D4E3",
             "minorgridcolor": "#C8D4E3",
             "startlinecolor": "#2a3f5f"
            },
            "type": "carpet"
           }
          ],
          "choropleth": [
           {
            "colorbar": {
             "outlinewidth": 0,
             "ticks": ""
            },
            "type": "choropleth"
           }
          ],
          "contour": [
           {
            "colorbar": {
             "outlinewidth": 0,
             "ticks": ""
            },
            "colorscale": [
             [
              0,
              "#0d0887"
             ],
             [
              0.1111111111111111,
              "#46039f"
             ],
             [
              0.2222222222222222,
              "#7201a8"
             ],
             [
              0.3333333333333333,
              "#9c179e"
             ],
             [
              0.4444444444444444,
              "#bd3786"
             ],
             [
              0.5555555555555556,
              "#d8576b"
             ],
             [
              0.6666666666666666,
              "#ed7953"
             ],
             [
              0.7777777777777778,
              "#fb9f3a"
             ],
             [
              0.8888888888888888,
              "#fdca26"
             ],
             [
              1,
              "#f0f921"
             ]
            ],
            "type": "contour"
           }
          ],
          "contourcarpet": [
           {
            "colorbar": {
             "outlinewidth": 0,
             "ticks": ""
            },
            "type": "contourcarpet"
           }
          ],
          "heatmap": [
           {
            "colorbar": {
             "outlinewidth": 0,
             "ticks": ""
            },
            "colorscale": [
             [
              0,
              "#0d0887"
             ],
             [
              0.1111111111111111,
              "#46039f"
             ],
             [
              0.2222222222222222,
              "#7201a8"
             ],
             [
              0.3333333333333333,
              "#9c179e"
             ],
             [
              0.4444444444444444,
              "#bd3786"
             ],
             [
              0.5555555555555556,
              "#d8576b"
             ],
             [
              0.6666666666666666,
              "#ed7953"
             ],
             [
              0.7777777777777778,
              "#fb9f3a"
             ],
             [
              0.8888888888888888,
              "#fdca26"
             ],
             [
              1,
              "#f0f921"
             ]
            ],
            "type": "heatmap"
           }
          ],
          "heatmapgl": [
           {
            "colorbar": {
             "outlinewidth": 0,
             "ticks": ""
            },
            "colorscale": [
             [
              0,
              "#0d0887"
             ],
             [
              0.1111111111111111,
              "#46039f"
             ],
             [
              0.2222222222222222,
              "#7201a8"
             ],
             [
              0.3333333333333333,
              "#9c179e"
             ],
             [
              0.4444444444444444,
              "#bd3786"
             ],
             [
              0.5555555555555556,
              "#d8576b"
             ],
             [
              0.6666666666666666,
              "#ed7953"
             ],
             [
              0.7777777777777778,
              "#fb9f3a"
             ],
             [
              0.8888888888888888,
              "#fdca26"
             ],
             [
              1,
              "#f0f921"
             ]
            ],
            "type": "heatmapgl"
           }
          ],
          "histogram": [
           {
            "marker": {
             "pattern": {
              "fillmode": "overlay",
              "size": 10,
              "solidity": 0.2
             }
            },
            "type": "histogram"
           }
          ],
          "histogram2d": [
           {
            "colorbar": {
             "outlinewidth": 0,
             "ticks": ""
            },
            "colorscale": [
             [
              0,
              "#0d0887"
             ],
             [
              0.1111111111111111,
              "#46039f"
             ],
             [
              0.2222222222222222,
              "#7201a8"
             ],
             [
              0.3333333333333333,
              "#9c179e"
             ],
             [
              0.4444444444444444,
              "#bd3786"
             ],
             [
              0.5555555555555556,
              "#d8576b"
             ],
             [
              0.6666666666666666,
              "#ed7953"
             ],
             [
              0.7777777777777778,
              "#fb9f3a"
             ],
             [
              0.8888888888888888,
              "#fdca26"
             ],
             [
              1,
              "#f0f921"
             ]
            ],
            "type": "histogram2d"
           }
          ],
          "histogram2dcontour": [
           {
            "colorbar": {
             "outlinewidth": 0,
             "ticks": ""
            },
            "colorscale": [
             [
              0,
              "#0d0887"
             ],
             [
              0.1111111111111111,
              "#46039f"
             ],
             [
              0.2222222222222222,
              "#7201a8"
             ],
             [
              0.3333333333333333,
              "#9c179e"
             ],
             [
              0.4444444444444444,
              "#bd3786"
             ],
             [
              0.5555555555555556,
              "#d8576b"
             ],
             [
              0.6666666666666666,
              "#ed7953"
             ],
             [
              0.7777777777777778,
              "#fb9f3a"
             ],
             [
              0.8888888888888888,
              "#fdca26"
             ],
             [
              1,
              "#f0f921"
             ]
            ],
            "type": "histogram2dcontour"
           }
          ],
          "mesh3d": [
           {
            "colorbar": {
             "outlinewidth": 0,
             "ticks": ""
            },
            "type": "mesh3d"
           }
          ],
          "parcoords": [
           {
            "line": {
             "colorbar": {
              "outlinewidth": 0,
              "ticks": ""
             }
            },
            "type": "parcoords"
           }
          ],
          "pie": [
           {
            "automargin": true,
            "type": "pie"
           }
          ],
          "scatter": [
           {
            "fillpattern": {
             "fillmode": "overlay",
             "size": 10,
             "solidity": 0.2
            },
            "type": "scatter"
           }
          ],
          "scatter3d": [
           {
            "line": {
             "colorbar": {
              "outlinewidth": 0,
              "ticks": ""
             }
            },
            "marker": {
             "colorbar": {
              "outlinewidth": 0,
              "ticks": ""
             }
            },
            "type": "scatter3d"
           }
          ],
          "scattercarpet": [
           {
            "marker": {
             "colorbar": {
              "outlinewidth": 0,
              "ticks": ""
             }
            },
            "type": "scattercarpet"
           }
          ],
          "scattergeo": [
           {
            "marker": {
             "colorbar": {
              "outlinewidth": 0,
              "ticks": ""
             }
            },
            "type": "scattergeo"
           }
          ],
          "scattergl": [
           {
            "marker": {
             "colorbar": {
              "outlinewidth": 0,
              "ticks": ""
             }
            },
            "type": "scattergl"
           }
          ],
          "scattermapbox": [
           {
            "marker": {
             "colorbar": {
              "outlinewidth": 0,
              "ticks": ""
             }
            },
            "type": "scattermapbox"
           }
          ],
          "scatterpolar": [
           {
            "marker": {
             "colorbar": {
              "outlinewidth": 0,
              "ticks": ""
             }
            },
            "type": "scatterpolar"
           }
          ],
          "scatterpolargl": [
           {
            "marker": {
             "colorbar": {
              "outlinewidth": 0,
              "ticks": ""
             }
            },
            "type": "scatterpolargl"
           }
          ],
          "scatterternary": [
           {
            "marker": {
             "colorbar": {
              "outlinewidth": 0,
              "ticks": ""
             }
            },
            "type": "scatterternary"
           }
          ],
          "surface": [
           {
            "colorbar": {
             "outlinewidth": 0,
             "ticks": ""
            },
            "colorscale": [
             [
              0,
              "#0d0887"
             ],
             [
              0.1111111111111111,
              "#46039f"
             ],
             [
              0.2222222222222222,
              "#7201a8"
             ],
             [
              0.3333333333333333,
              "#9c179e"
             ],
             [
              0.4444444444444444,
              "#bd3786"
             ],
             [
              0.5555555555555556,
              "#d8576b"
             ],
             [
              0.6666666666666666,
              "#ed7953"
             ],
             [
              0.7777777777777778,
              "#fb9f3a"
             ],
             [
              0.8888888888888888,
              "#fdca26"
             ],
             [
              1,
              "#f0f921"
             ]
            ],
            "type": "surface"
           }
          ],
          "table": [
           {
            "cells": {
             "fill": {
              "color": "#EBF0F8"
             },
             "line": {
              "color": "white"
             }
            },
            "header": {
             "fill": {
              "color": "#C8D4E3"
             },
             "line": {
              "color": "white"
             }
            },
            "type": "table"
           }
          ]
         },
         "layout": {
          "annotationdefaults": {
           "arrowcolor": "#2a3f5f",
           "arrowhead": 0,
           "arrowwidth": 1
          },
          "autotypenumbers": "strict",
          "coloraxis": {
           "colorbar": {
            "outlinewidth": 0,
            "ticks": ""
           }
          },
          "colorscale": {
           "diverging": [
            [
             0,
             "#8e0152"
            ],
            [
             0.1,
             "#c51b7d"
            ],
            [
             0.2,
             "#de77ae"
            ],
            [
             0.3,
             "#f1b6da"
            ],
            [
             0.4,
             "#fde0ef"
            ],
            [
             0.5,
             "#f7f7f7"
            ],
            [
             0.6,
             "#e6f5d0"
            ],
            [
             0.7,
             "#b8e186"
            ],
            [
             0.8,
             "#7fbc41"
            ],
            [
             0.9,
             "#4d9221"
            ],
            [
             1,
             "#276419"
            ]
           ],
           "sequential": [
            [
             0,
             "#0d0887"
            ],
            [
             0.1111111111111111,
             "#46039f"
            ],
            [
             0.2222222222222222,
             "#7201a8"
            ],
            [
             0.3333333333333333,
             "#9c179e"
            ],
            [
             0.4444444444444444,
             "#bd3786"
            ],
            [
             0.5555555555555556,
             "#d8576b"
            ],
            [
             0.6666666666666666,
             "#ed7953"
            ],
            [
             0.7777777777777778,
             "#fb9f3a"
            ],
            [
             0.8888888888888888,
             "#fdca26"
            ],
            [
             1,
             "#f0f921"
            ]
           ],
           "sequentialminus": [
            [
             0,
             "#0d0887"
            ],
            [
             0.1111111111111111,
             "#46039f"
            ],
            [
             0.2222222222222222,
             "#7201a8"
            ],
            [
             0.3333333333333333,
             "#9c179e"
            ],
            [
             0.4444444444444444,
             "#bd3786"
            ],
            [
             0.5555555555555556,
             "#d8576b"
            ],
            [
             0.6666666666666666,
             "#ed7953"
            ],
            [
             0.7777777777777778,
             "#fb9f3a"
            ],
            [
             0.8888888888888888,
             "#fdca26"
            ],
            [
             1,
             "#f0f921"
            ]
           ]
          },
          "colorway": [
           "#636efa",
           "#EF553B",
           "#00cc96",
           "#ab63fa",
           "#FFA15A",
           "#19d3f3",
           "#FF6692",
           "#B6E880",
           "#FF97FF",
           "#FECB52"
          ],
          "font": {
           "color": "#2a3f5f"
          },
          "geo": {
           "bgcolor": "white",
           "lakecolor": "white",
           "landcolor": "white",
           "showlakes": true,
           "showland": true,
           "subunitcolor": "#C8D4E3"
          },
          "hoverlabel": {
           "align": "left"
          },
          "hovermode": "closest",
          "mapbox": {
           "style": "light"
          },
          "paper_bgcolor": "white",
          "plot_bgcolor": "white",
          "polar": {
           "angularaxis": {
            "gridcolor": "#EBF0F8",
            "linecolor": "#EBF0F8",
            "ticks": ""
           },
           "bgcolor": "white",
           "radialaxis": {
            "gridcolor": "#EBF0F8",
            "linecolor": "#EBF0F8",
            "ticks": ""
           }
          },
          "scene": {
           "xaxis": {
            "backgroundcolor": "white",
            "gridcolor": "#DFE8F3",
            "gridwidth": 2,
            "linecolor": "#EBF0F8",
            "showbackground": true,
            "ticks": "",
            "zerolinecolor": "#EBF0F8"
           },
           "yaxis": {
            "backgroundcolor": "white",
            "gridcolor": "#DFE8F3",
            "gridwidth": 2,
            "linecolor": "#EBF0F8",
            "showbackground": true,
            "ticks": "",
            "zerolinecolor": "#EBF0F8"
           },
           "zaxis": {
            "backgroundcolor": "white",
            "gridcolor": "#DFE8F3",
            "gridwidth": 2,
            "linecolor": "#EBF0F8",
            "showbackground": true,
            "ticks": "",
            "zerolinecolor": "#EBF0F8"
           }
          },
          "shapedefaults": {
           "line": {
            "color": "#2a3f5f"
           }
          },
          "ternary": {
           "aaxis": {
            "gridcolor": "#DFE8F3",
            "linecolor": "#A2B1C6",
            "ticks": ""
           },
           "baxis": {
            "gridcolor": "#DFE8F3",
            "linecolor": "#A2B1C6",
            "ticks": ""
           },
           "bgcolor": "white",
           "caxis": {
            "gridcolor": "#DFE8F3",
            "linecolor": "#A2B1C6",
            "ticks": ""
           }
          },
          "title": {
           "x": 0.05
          },
          "xaxis": {
           "automargin": true,
           "gridcolor": "#EBF0F8",
           "linecolor": "#EBF0F8",
           "ticks": "",
           "title": {
            "standoff": 15
           },
           "zerolinecolor": "#EBF0F8",
           "zerolinewidth": 2
          },
          "yaxis": {
           "automargin": true,
           "gridcolor": "#EBF0F8",
           "linecolor": "#EBF0F8",
           "ticks": "",
           "title": {
            "standoff": 15
           },
           "zerolinecolor": "#EBF0F8",
           "zerolinewidth": 2
          }
         }
        },
        "title": {
         "font": {
          "size": 20
         },
         "text": "Aggregate Feature Importance - Tuned GFM+Meta+Clustered Part",
         "x": 0.5,
         "xanchor": "center",
         "yanchor": "top"
        },
        "width": 900,
        "xaxis": {
         "anchor": "y",
         "domain": [
          0,
          1
         ],
         "tickfont": {
          "size": 12
         },
         "title": {
          "font": {
           "size": 12
          },
          "text": "Features"
         }
        },
        "yaxis": {
         "anchor": "x",
         "domain": [
          0,
          1
         ],
         "tickfont": {
          "size": 12
         },
         "title": {
          "font": {
           "size": 12
          },
          "text": "Importance"
         }
        }
       }
      }
     },
     "metadata": {},
     "output_type": "display_data"
    }
   ],
   "source": [
    "fig = px.bar(feat_df.head(15), x=\"feature\", y=\"importance\")\n",
    "format_plot(fig, xlabel=\"Features\", ylabel=\"Importance\", title=f\"Aggregate Feature Importance - {model_config.name}\", font_size=12)\n",
    "fig.write_image(\"imgs/chapter_10/clustered_partition_fimp.png\")\n",
    "fig.show()"
   ]
  },
  {
   "cell_type": "markdown",
   "id": "57fe977a-ac4c-468a-a976-64cb37dbd77b",
   "metadata": {},
   "source": [
    "## Summary"
   ]
  },
  {
   "cell_type": "code",
   "execution_count": 91,
   "id": "91593f9b-c700-4cea-bc0e-1ff2b871cc85",
   "metadata": {},
   "outputs": [],
   "source": [
    "def highlight_abs_min(s, props=''):\n",
    "    return np.where(s == np.nanmin(np.abs(s.values)), props, '')"
   ]
  },
  {
   "cell_type": "code",
   "execution_count": 92,
   "id": "ba2d5867-03b4-4c90-b9fe-540e97559e7d",
   "metadata": {},
   "outputs": [
    {
     "data": {
      "text/html": [
       "<style type=\"text/css\">\n",
       "#T_abb68_row0_col4 {\n",
       "  color: black;\n",
       "  background-color: lightgreen;\n",
       "}\n",
       "#T_abb68_row4_col2, #T_abb68_row7_col1, #T_abb68_row7_col3 {\n",
       "  background-color: lightgreen;\n",
       "}\n",
       "</style>\n",
       "<table id=\"T_abb68\">\n",
       "  <thead>\n",
       "    <tr>\n",
       "      <th class=\"blank level0\" >&nbsp;</th>\n",
       "      <th id=\"T_abb68_level0_col0\" class=\"col_heading level0 col0\" >Algorithm</th>\n",
       "      <th id=\"T_abb68_level0_col1\" class=\"col_heading level0 col1\" >MAE</th>\n",
       "      <th id=\"T_abb68_level0_col2\" class=\"col_heading level0 col2\" >MSE</th>\n",
       "      <th id=\"T_abb68_level0_col3\" class=\"col_heading level0 col3\" >meanMASE</th>\n",
       "      <th id=\"T_abb68_level0_col4\" class=\"col_heading level0 col4\" >Forecast Bias</th>\n",
       "      <th id=\"T_abb68_level0_col5\" class=\"col_heading level0 col5\" >Time Elapsed</th>\n",
       "    </tr>\n",
       "  </thead>\n",
       "  <tbody>\n",
       "    <tr>\n",
       "      <th id=\"T_abb68_level0_row0\" class=\"row_heading level0 row0\" >0</th>\n",
       "      <td id=\"T_abb68_row0_col0\" class=\"data row0 col0\" >LightGBM</td>\n",
       "      <td id=\"T_abb68_row0_col1\" class=\"data row0 col1\" >0.0771</td>\n",
       "      <td id=\"T_abb68_row0_col2\" class=\"data row0 col2\" >0.0275</td>\n",
       "      <td id=\"T_abb68_row0_col3\" class=\"data row0 col3\" >0.9774</td>\n",
       "      <td id=\"T_abb68_row0_col4\" class=\"data row0 col4\" >0.03%</td>\n",
       "      <td id=\"T_abb68_row0_col5\" class=\"data row0 col5\" >nan</td>\n",
       "    </tr>\n",
       "    <tr>\n",
       "      <th id=\"T_abb68_level0_row1\" class=\"row_heading level0 row1\" >1</th>\n",
       "      <td id=\"T_abb68_row1_col0\" class=\"data row1 col0\" >GFM Baseline</td>\n",
       "      <td id=\"T_abb68_row1_col1\" class=\"data row1 col1\" >0.0796</td>\n",
       "      <td id=\"T_abb68_row1_col2\" class=\"data row1 col2\" >0.0273</td>\n",
       "      <td id=\"T_abb68_row1_col3\" class=\"data row1 col3\" >1.0121</td>\n",
       "      <td id=\"T_abb68_row1_col4\" class=\"data row1 col4\" >0.19%</td>\n",
       "      <td id=\"T_abb68_row1_col5\" class=\"data row1 col5\" >39.544276</td>\n",
       "    </tr>\n",
       "    <tr>\n",
       "      <th id=\"T_abb68_level0_row2\" class=\"row_heading level0 row2\" >2</th>\n",
       "      <td id=\"T_abb68_row2_col0\" class=\"data row2 col0\" >GFM+Meta (CountEncoder)</td>\n",
       "      <td id=\"T_abb68_row2_col1\" class=\"data row2 col1\" >0.0794</td>\n",
       "      <td id=\"T_abb68_row2_col2\" class=\"data row2 col2\" >0.0272</td>\n",
       "      <td id=\"T_abb68_row2_col3\" class=\"data row2 col3\" >1.0111</td>\n",
       "      <td id=\"T_abb68_row2_col4\" class=\"data row2 col4\" >0.09%</td>\n",
       "      <td id=\"T_abb68_row2_col5\" class=\"data row2 col5\" >112.729089</td>\n",
       "    </tr>\n",
       "    <tr>\n",
       "      <th id=\"T_abb68_level0_row3\" class=\"row_heading level0 row3\" >3</th>\n",
       "      <td id=\"T_abb68_row3_col0\" class=\"data row3 col0\" >GFM+Meta  (TargetEncoder)</td>\n",
       "      <td id=\"T_abb68_row3_col1\" class=\"data row3 col1\" >0.0796</td>\n",
       "      <td id=\"T_abb68_row3_col2\" class=\"data row3 col2\" >0.0272</td>\n",
       "      <td id=\"T_abb68_row3_col3\" class=\"data row3 col3\" >1.0114</td>\n",
       "      <td id=\"T_abb68_row3_col4\" class=\"data row3 col4\" >0.30%</td>\n",
       "      <td id=\"T_abb68_row3_col5\" class=\"data row3 col5\" >102.253439</td>\n",
       "    </tr>\n",
       "    <tr>\n",
       "      <th id=\"T_abb68_level0_row4\" class=\"row_heading level0 row4\" >4</th>\n",
       "      <td id=\"T_abb68_row4_col0\" class=\"data row4 col0\" >GFM+Meta  (NativeLGBM)</td>\n",
       "      <td id=\"T_abb68_row4_col1\" class=\"data row4 col1\" >0.0793</td>\n",
       "      <td id=\"T_abb68_row4_col2\" class=\"data row4 col2\" >0.0272</td>\n",
       "      <td id=\"T_abb68_row4_col3\" class=\"data row4 col3\" >1.0111</td>\n",
       "      <td id=\"T_abb68_row4_col4\" class=\"data row4 col4\" >0.05%</td>\n",
       "      <td id=\"T_abb68_row4_col5\" class=\"data row4 col5\" >66.527437</td>\n",
       "    </tr>\n",
       "    <tr>\n",
       "      <th id=\"T_abb68_level0_row5\" class=\"row_heading level0 row5\" >5</th>\n",
       "      <td id=\"T_abb68_row5_col0\" class=\"data row5 col0\" >Tuned GFM+Meta</td>\n",
       "      <td id=\"T_abb68_row5_col1\" class=\"data row5 col1\" >0.0741</td>\n",
       "      <td id=\"T_abb68_row5_col2\" class=\"data row5 col2\" >0.0309</td>\n",
       "      <td id=\"T_abb68_row5_col3\" class=\"data row5 col3\" >0.9169</td>\n",
       "      <td id=\"T_abb68_row5_col4\" class=\"data row5 col4\" >-12.18%</td>\n",
       "      <td id=\"T_abb68_row5_col5\" class=\"data row5 col5\" >94.305064</td>\n",
       "    </tr>\n",
       "    <tr>\n",
       "      <th id=\"T_abb68_level0_row6\" class=\"row_heading level0 row6\" >6</th>\n",
       "      <td id=\"T_abb68_row6_col0\" class=\"data row6 col0\" >Tuned GFM+Meta+Random Part</td>\n",
       "      <td id=\"T_abb68_row6_col1\" class=\"data row6 col1\" >0.0731</td>\n",
       "      <td id=\"T_abb68_row6_col2\" class=\"data row6 col2\" >0.0309</td>\n",
       "      <td id=\"T_abb68_row6_col3\" class=\"data row6 col3\" >0.9053</td>\n",
       "      <td id=\"T_abb68_row6_col4\" class=\"data row6 col4\" >-12.38%</td>\n",
       "      <td id=\"T_abb68_row6_col5\" class=\"data row6 col5\" >103.310471</td>\n",
       "    </tr>\n",
       "    <tr>\n",
       "      <th id=\"T_abb68_level0_row7\" class=\"row_heading level0 row7\" >7</th>\n",
       "      <td id=\"T_abb68_row7_col0\" class=\"data row7 col0\" >Tuned GFM+Meta+ACORN Part</td>\n",
       "      <td id=\"T_abb68_row7_col1\" class=\"data row7 col1\" >0.0730</td>\n",
       "      <td id=\"T_abb68_row7_col2\" class=\"data row7 col2\" >0.0305</td>\n",
       "      <td id=\"T_abb68_row7_col3\" class=\"data row7 col3\" >0.9050</td>\n",
       "      <td id=\"T_abb68_row7_col4\" class=\"data row7 col4\" >-12.22%</td>\n",
       "      <td id=\"T_abb68_row7_col5\" class=\"data row7 col5\" >95.054462</td>\n",
       "    </tr>\n",
       "    <tr>\n",
       "      <th id=\"T_abb68_level0_row8\" class=\"row_heading level0 row8\" >8</th>\n",
       "      <td id=\"T_abb68_row8_col0\" class=\"data row8 col0\" >Tuned GFM+Meta+Clustered Part</td>\n",
       "      <td id=\"T_abb68_row8_col1\" class=\"data row8 col1\" >0.0732</td>\n",
       "      <td id=\"T_abb68_row8_col2\" class=\"data row8 col2\" >0.0306</td>\n",
       "      <td id=\"T_abb68_row8_col3\" class=\"data row8 col3\" >0.9157</td>\n",
       "      <td id=\"T_abb68_row8_col4\" class=\"data row8 col4\" >-12.60%</td>\n",
       "      <td id=\"T_abb68_row8_col5\" class=\"data row8 col5\" >99.653251</td>\n",
       "    </tr>\n",
       "  </tbody>\n",
       "</table>\n"
      ],
      "text/plain": [
       "<pandas.io.formats.style.Styler at 0x1f95eb34750>"
      ]
     },
     "execution_count": 92,
     "metadata": {},
     "output_type": "execute_result"
    }
   ],
   "source": [
    "agg_metrics = pd.DataFrame(metric_record)\n",
    "agg_metrics.style.format(\n",
    "    {\"MAE\": \"{:.4f}\", \"MSE\": \"{:.4f}\", \"meanMASE\": \"{:.4f}\", \"Forecast Bias\": \"{:.2f}%\"}\n",
    ").highlight_min(color=\"lightgreen\", subset=[\"MAE\", \"MSE\", \"meanMASE\"]).apply(\n",
    "    highlight_abs_min,\n",
    "    props=\"color:black;background-color:lightgreen\",\n",
    "    axis=0,\n",
    "    subset=[\"Forecast Bias\"],\n",
    ")"
   ]
  },
  {
   "cell_type": "code",
   "execution_count": 93,
   "id": "1504f340-0b4c-4dd2-b8c9-d82d5be13deb",
   "metadata": {},
   "outputs": [
    {
     "data": {
      "text/html": [
       "<div>\n",
       "<style scoped>\n",
       "    .dataframe tbody tr th:only-of-type {\n",
       "        vertical-align: middle;\n",
       "    }\n",
       "\n",
       "    .dataframe tbody tr th {\n",
       "        vertical-align: top;\n",
       "    }\n",
       "\n",
       "    .dataframe thead th {\n",
       "        text-align: right;\n",
       "    }\n",
       "</style>\n",
       "<table border=\"1\" class=\"dataframe\">\n",
       "  <thead>\n",
       "    <tr style=\"text-align: right;\">\n",
       "      <th></th>\n",
       "      <th></th>\n",
       "      <th>energy_consumption</th>\n",
       "      <th>GFM Baseline</th>\n",
       "      <th>GFM+Meta (CountEncoder)</th>\n",
       "      <th>GFM+Meta  (TargetEncoder)</th>\n",
       "      <th>GFM+Meta  (NativeLGBM)</th>\n",
       "      <th>Tuned GFM+Meta</th>\n",
       "      <th>Tuned GFM+Meta+Random Part</th>\n",
       "    </tr>\n",
       "    <tr>\n",
       "      <th>LCLid</th>\n",
       "      <th>timestamp</th>\n",
       "      <th></th>\n",
       "      <th></th>\n",
       "      <th></th>\n",
       "      <th></th>\n",
       "      <th></th>\n",
       "      <th></th>\n",
       "      <th></th>\n",
       "    </tr>\n",
       "  </thead>\n",
       "  <tbody>\n",
       "    <tr>\n",
       "      <th rowspan=\"5\" valign=\"top\">MAC000061</th>\n",
       "      <th>2014-01-01 00:00:00</th>\n",
       "      <td>0.165</td>\n",
       "      <td>0.130170</td>\n",
       "      <td>0.127625</td>\n",
       "      <td>0.130004</td>\n",
       "      <td>0.128841</td>\n",
       "      <td>0.113652</td>\n",
       "      <td>0.128507</td>\n",
       "    </tr>\n",
       "    <tr>\n",
       "      <th>2014-01-01 00:30:00</th>\n",
       "      <td>0.167</td>\n",
       "      <td>0.117602</td>\n",
       "      <td>0.120527</td>\n",
       "      <td>0.119749</td>\n",
       "      <td>0.117148</td>\n",
       "      <td>0.099891</td>\n",
       "      <td>0.117822</td>\n",
       "    </tr>\n",
       "    <tr>\n",
       "      <th>2014-01-01 01:00:00</th>\n",
       "      <td>0.150</td>\n",
       "      <td>0.121907</td>\n",
       "      <td>0.126834</td>\n",
       "      <td>0.127883</td>\n",
       "      <td>0.128681</td>\n",
       "      <td>0.137708</td>\n",
       "      <td>0.152569</td>\n",
       "    </tr>\n",
       "    <tr>\n",
       "      <th>2014-01-01 01:30:00</th>\n",
       "      <td>0.091</td>\n",
       "      <td>0.115268</td>\n",
       "      <td>0.115479</td>\n",
       "      <td>0.117781</td>\n",
       "      <td>0.119456</td>\n",
       "      <td>0.129633</td>\n",
       "      <td>0.152024</td>\n",
       "    </tr>\n",
       "    <tr>\n",
       "      <th>2014-01-01 02:00:00</th>\n",
       "      <td>0.047</td>\n",
       "      <td>0.077152</td>\n",
       "      <td>0.078502</td>\n",
       "      <td>0.079642</td>\n",
       "      <td>0.079606</td>\n",
       "      <td>0.063214</td>\n",
       "      <td>0.070015</td>\n",
       "    </tr>\n",
       "  </tbody>\n",
       "</table>\n",
       "</div>"
      ],
      "text/plain": [
       "                               energy_consumption  GFM Baseline  \\\n",
       "LCLid     timestamp                                               \n",
       "MAC000061 2014-01-01 00:00:00               0.165      0.130170   \n",
       "          2014-01-01 00:30:00               0.167      0.117602   \n",
       "          2014-01-01 01:00:00               0.150      0.121907   \n",
       "          2014-01-01 01:30:00               0.091      0.115268   \n",
       "          2014-01-01 02:00:00               0.047      0.077152   \n",
       "\n",
       "                               GFM+Meta (CountEncoder)  \\\n",
       "LCLid     timestamp                                      \n",
       "MAC000061 2014-01-01 00:00:00                 0.127625   \n",
       "          2014-01-01 00:30:00                 0.120527   \n",
       "          2014-01-01 01:00:00                 0.126834   \n",
       "          2014-01-01 01:30:00                 0.115479   \n",
       "          2014-01-01 02:00:00                 0.078502   \n",
       "\n",
       "                               GFM+Meta  (TargetEncoder)  \\\n",
       "LCLid     timestamp                                        \n",
       "MAC000061 2014-01-01 00:00:00                   0.130004   \n",
       "          2014-01-01 00:30:00                   0.119749   \n",
       "          2014-01-01 01:00:00                   0.127883   \n",
       "          2014-01-01 01:30:00                   0.117781   \n",
       "          2014-01-01 02:00:00                   0.079642   \n",
       "\n",
       "                               GFM+Meta  (NativeLGBM)  Tuned GFM+Meta  \\\n",
       "LCLid     timestamp                                                     \n",
       "MAC000061 2014-01-01 00:00:00                0.128841        0.113652   \n",
       "          2014-01-01 00:30:00                0.117148        0.099891   \n",
       "          2014-01-01 01:00:00                0.128681        0.137708   \n",
       "          2014-01-01 01:30:00                0.119456        0.129633   \n",
       "          2014-01-01 02:00:00                0.079606        0.063214   \n",
       "\n",
       "                               Tuned GFM+Meta+Random Part  \n",
       "LCLid     timestamp                                        \n",
       "MAC000061 2014-01-01 00:00:00                    0.128507  \n",
       "          2014-01-01 00:30:00                    0.117822  \n",
       "          2014-01-01 01:00:00                    0.152569  \n",
       "          2014-01-01 01:30:00                    0.152024  \n",
       "          2014-01-01 02:00:00                    0.070015  "
      ]
     },
     "execution_count": 93,
     "metadata": {},
     "output_type": "execute_result"
    }
   ],
   "source": [
    "pred_df.head()"
   ]
  },
  {
   "cell_type": "code",
   "execution_count": 94,
   "id": "ededff54-9127-494f-a4ea-b2acdbd02826",
   "metadata": {},
   "outputs": [
    {
     "data": {
      "text/plain": [
       "dict_keys(['GFM Baseline', 'GFM+Meta (CountEncoder)', 'GFM+Meta  (TargetEncoder)', 'GFM+Meta  (NativeLGBM)', 'Tuned GFM+Meta', 'Tuned GFM+Meta+Random Part', 'Tuned GFM+Meta+ACORN Part', 'Tuned GFM+Meta+Clustered Part'])"
      ]
     },
     "execution_count": 94,
     "metadata": {},
     "output_type": "execute_result"
    }
   ],
   "source": [
    "individual_metrics.keys()"
   ]
  },
  {
   "cell_type": "markdown",
   "id": "8563e46a-8c50-4ae4-8321-2a36e9d104d8",
   "metadata": {
    "tags": []
   },
   "source": [
    "# Saving the GFM Forecasts and Metrics"
   ]
  },
  {
   "cell_type": "code",
   "execution_count": 95,
   "id": "330d2005-faba-44da-89a9-29b088758998",
   "metadata": {},
   "outputs": [],
   "source": [
    "os.makedirs(\"data/london_smart_meters/output\", exist_ok=True)\n",
    "output = Path(\"data/london_smart_meters/output\")"
   ]
  },
  {
   "cell_type": "code",
   "execution_count": 96,
   "id": "b93cdcae-b729-42f3-80a8-c6bb368f534f",
   "metadata": {},
   "outputs": [],
   "source": [
    "pred_df.to_pickle(output/\"gfm_predictions_val_df.pkl\")\n",
    "joblib.dump(individual_metrics, output/\"gfm_metrics_val_df.pkl\")\n",
    "agg_metrics.to_pickle(output/\"gfm_aggregate_metrics_val.pkl\")"
   ]
  }
 ],
 "metadata": {
  "kernelspec": {
   "display_name": "modern_ts_2E",
   "language": "python",
   "name": "python3"
  },
  "language_info": {
   "codemirror_mode": {
    "name": "ipython",
    "version": 3
   },
   "file_extension": ".py",
   "mimetype": "text/x-python",
   "name": "python",
   "nbconvert_exporter": "python",
   "pygments_lexer": "ipython3",
   "version": "3.11.0"
  },
  "toc-showtags": false,
  "varInspector": {
   "cols": {
    "lenName": 16,
    "lenType": 16,
    "lenVar": 40
   },
   "kernels_config": {
    "python": {
     "delete_cmd_postfix": "",
     "delete_cmd_prefix": "del ",
     "library": "var_list.py",
     "varRefreshCmd": "print(var_dic_list())"
    },
    "r": {
     "delete_cmd_postfix": ") ",
     "delete_cmd_prefix": "rm(",
     "library": "var_list.r",
     "varRefreshCmd": "cat(var_dic_list()) "
    }
   },
   "types_to_exclude": [
    "module",
    "function",
    "builtin_function_or_method",
    "instance",
    "_Feature"
   ],
   "window_display": false
  }
 },
 "nbformat": 4,
 "nbformat_minor": 5
}

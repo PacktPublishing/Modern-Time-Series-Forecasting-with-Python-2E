{
 "cells": [
  {
   "cell_type": "code",
   "execution_count": 1,
   "id": "1251a793-ca7b-479d-9797-578c4d0e8373",
   "metadata": {},
   "outputs": [
    {
     "name": "stdout",
     "output_type": "stream",
     "text": [
      "C:\\Users\\ManuJoseph\\OneDrive - Thoucentric\\Work\\Projects\\Playground\\AdvancedTimeSeriesForecastingBook\\Github\\Modern-Time-Series-Forecasting-with-Python-\n"
     ]
    }
   ],
   "source": [
    "%cd ../.."
   ]
  },
  {
   "cell_type": "code",
   "execution_count": 8,
   "id": "a8bf5b43-aecb-47df-9baa-2314ebc492ad",
   "metadata": {},
   "outputs": [],
   "source": [
    "import numpy as np\n",
    "import pandas as pd\n",
    "import plotly.express as px\n",
    "from tqdm.autonotebook import tqdm\n",
    "import os\n",
    "import warnings\n",
    "from pathlib import Path\n",
    "import random\n",
    "import plotly.graph_objects as go\n",
    "from plotly.subplots import make_subplots\n",
    "from darts import TimeSeries\n",
    "from darts.models import (\n",
    "    NaiveSeasonal,\n",
    "    ExponentialSmoothing,\n",
    "    Theta, \n",
    "    FFT,\n",
    "    LightGBMModel\n",
    ")\n",
    "from darts.utils.utils import ModelMode, SeasonalityMode\n",
    "from darts.metrics import mase\n",
    "from src.utils.ts_utils import rmsse\n",
    "import plotly.figure_factory as ff\n",
    "\n",
    "np.random.seed()"
   ]
  },
  {
   "cell_type": "code",
   "execution_count": 4,
   "id": "7dd3af1b-49e2-4dc5-be50-45daf2265ed9",
   "metadata": {},
   "outputs": [],
   "source": [
    "os.makedirs(\"imgs/chapter_17\", exist_ok=True)\n",
    "preprocessed = Path(\"data/london_smart_meters/preprocessed\")\n",
    "output = Path(\"data/london_smart_meters/output\")"
   ]
  },
  {
   "cell_type": "code",
   "execution_count": 5,
   "id": "10abaa86-3bbb-4724-8df5-f376fe315ba2",
   "metadata": {},
   "outputs": [],
   "source": [
    "from itertools import cycle\n",
    "def format_plot(fig, legends=None, xlabel=\"Time\", ylabel=\"Value\", title=\"\", font_size=15):\n",
    "    if legends:\n",
    "        names = cycle(legends)\n",
    "        fig.for_each_trace(lambda t: t.update(name=next(names)))\n",
    "    fig.update_layout(\n",
    "        autosize=False,\n",
    "        width=900,\n",
    "        height=500,\n",
    "        title_text=title,\n",
    "        title={\"x\": 0.5, \"xanchor\": \"center\", \"yanchor\": \"top\"},\n",
    "        titlefont={\"size\": 20},\n",
    "        legend_title=None,\n",
    "        legend=dict(\n",
    "            font=dict(size=font_size),\n",
    "            orientation=\"h\",\n",
    "            yanchor=\"bottom\",\n",
    "            y=0.9,\n",
    "            xanchor=\"right\",\n",
    "            x=1,\n",
    "        ),\n",
    "        yaxis=dict(\n",
    "            title_text=ylabel,\n",
    "            titlefont=dict(size=font_size),\n",
    "            tickfont=dict(size=font_size),\n",
    "        ),\n",
    "        xaxis=dict(\n",
    "            title_text=xlabel,\n",
    "            titlefont=dict(size=font_size),\n",
    "            tickfont=dict(size=font_size),\n",
    "        )\n",
    "    )\n",
    "    return fig"
   ]
  },
  {
   "cell_type": "code",
   "execution_count": 7,
   "id": "9b810a4e-1a9e-4d08-9d01-63924af6e3d1",
   "metadata": {},
   "outputs": [],
   "source": [
    "def format_y_pred(y_pred, name):\n",
    "    y_pred = y_pred.data_array().to_series()\n",
    "    y_pred.index = y_pred.index.get_level_values(0)\n",
    "    y_pred.name = name\n",
    "    return y_pred"
   ]
  },
  {
   "cell_type": "markdown",
   "id": "2234fc67-9433-4a9e-a545-4a9825cfd5a7",
   "metadata": {},
   "source": [
    "# Reading Files"
   ]
  },
  {
   "cell_type": "code",
   "execution_count": 6,
   "id": "6bed7f3a-f3c3-427f-aab8-573369bb9dc2",
   "metadata": {},
   "outputs": [],
   "source": [
    "#Readin the missing value imputed and train test split data\n",
    "try:\n",
    "    train_df = pd.read_parquet(preprocessed/\"selected_blocks_train_missing_imputed.parquet\")\n",
    "    val_df = pd.read_parquet(preprocessed/\"selected_blocks_val_missing_imputed.parquet\")\n",
    "    test_df = pd.read_parquet(preprocessed/\"selected_blocks_test_missing_imputed.parquet\")\n",
    "except FileNotFoundError:\n",
    "    display(HTML(\"\"\"\n",
    "    <div class=\"alert alert-block alert-warning\">\n",
    "    <b>Warning!</b> File not found. Please make sure you have run 01-Setting up Experiment Harness.ipynb in Chapter04\n",
    "    </div>\n",
    "    \"\"\"))"
   ]
  },
  {
   "cell_type": "markdown",
   "id": "3ec48ffa-4de5-4288-a7ce-3b4fca5b467a",
   "metadata": {
    "tags": []
   },
   "source": [
    "# Generating Forecasts"
   ]
  },
  {
   "cell_type": "code",
   "execution_count": 10,
   "id": "324babfd-586e-4e51-b313-18b79e80a699",
   "metadata": {},
   "outputs": [],
   "source": [
    "lcl_ids = sorted(train_df.LCLid.unique())"
   ]
  },
  {
   "cell_type": "code",
   "execution_count": 11,
   "id": "1616a293-2955-4dd6-9892-c86e9478cf8d",
   "metadata": {},
   "outputs": [
    {
     "data": {
      "application/vnd.jupyter.widget-view+json": {
       "model_id": "6be05a71dca44bd19d5dccd8f72b4376",
       "version_major": 2,
       "version_minor": 0
      },
      "text/plain": [
       "  0%|          | 0/150 [00:00<?, ?it/s]"
      ]
     },
     "metadata": {},
     "output_type": "display_data"
    }
   ],
   "source": [
    "name = \"Naive\"\n",
    "preds = []\n",
    "metrics = []\n",
    "with warnings.catch_warnings():\n",
    "    warnings.filterwarnings(\"ignore\", category=FutureWarning)\n",
    "    for lcl_id in tqdm(lcl_ids):\n",
    "        model = NaiveSeasonal(K=1)\n",
    "        tr = TimeSeries.from_series(train_df.loc[train_df.LCLid==lcl_id, [\"timestamp\",\"energy_consumption\"]].set_index(\"timestamp\"))\n",
    "        vl = TimeSeries.from_series(val_df.loc[val_df.LCLid==lcl_id, [\"timestamp\",\"energy_consumption\"]].set_index(\"timestamp\"))\n",
    "        model.fit(tr)\n",
    "        y_pred = model.predict(len(vl))\n",
    "        _mase = mase(vl, y_pred, tr)\n",
    "        _rmsse = rmsse(vl, y_pred, tr)\n",
    "        y_pred = format_y_pred(y_pred, \"predictions\").to_frame()\n",
    "        y_pred['LCLid'] = lcl_id\n",
    "        y_pred['Algorithm'] = name\n",
    "        y_pred['energy_consumption'] = vl.data_array().to_series().values\n",
    "        metric_dict = dict()\n",
    "        metric_dict[\"LCLid\"] = lcl_id\n",
    "        metric_dict['Algorithm'] = name\n",
    "        metric_dict['MASE'] = _mase\n",
    "        metric_dict['RMSSE'] = _rmsse\n",
    "        preds.append(y_pred)\n",
    "        metrics.append(metric_dict)"
   ]
  },
  {
   "cell_type": "code",
   "execution_count": 12,
   "id": "a1a5dc41-3492-4952-8c9c-0099c4df98f7",
   "metadata": {},
   "outputs": [
    {
     "data": {
      "application/vnd.jupyter.widget-view+json": {
       "model_id": "286aa88c392143c1bfd84323ceba8e6c",
       "version_major": 2,
       "version_minor": 0
      },
      "text/plain": [
       "  0%|          | 0/150 [00:00<?, ?it/s]"
      ]
     },
     "metadata": {},
     "output_type": "display_data"
    }
   ],
   "source": [
    "name = \"SeasonalNaive\"\n",
    "with warnings.catch_warnings():\n",
    "    warnings.filterwarnings(\"ignore\", category=FutureWarning)\n",
    "    for lcl_id in tqdm(lcl_ids):\n",
    "        model = NaiveSeasonal(K=48*7)\n",
    "        tr = TimeSeries.from_series(train_df.loc[train_df.LCLid==lcl_id, [\"timestamp\",\"energy_consumption\"]].set_index(\"timestamp\"))\n",
    "        vl = TimeSeries.from_series(val_df.loc[val_df.LCLid==lcl_id, [\"timestamp\",\"energy_consumption\"]].set_index(\"timestamp\"))\n",
    "        model.fit(tr)\n",
    "        y_pred = model.predict(len(vl))\n",
    "        _mase = mase(vl, y_pred, tr)\n",
    "        _rmsse = rmsse(vl, y_pred, tr)\n",
    "        y_pred = format_y_pred(y_pred, \"predictions\").to_frame()\n",
    "        y_pred['LCLid'] = lcl_id\n",
    "        y_pred['Algorithm'] = name\n",
    "        y_pred['energy_consumption'] = vl.data_array().to_series().values\n",
    "        metric_dict = dict()\n",
    "        metric_dict[\"LCLid\"] = lcl_id\n",
    "        metric_dict['Algorithm'] = name\n",
    "        metric_dict['MASE'] = _mase\n",
    "        metric_dict['RMSSE'] = _rmsse\n",
    "        preds.append(y_pred)\n",
    "        metrics.append(metric_dict)"
   ]
  },
  {
   "cell_type": "code",
   "execution_count": 13,
   "id": "aff3479a-febe-4e5a-958c-0ae95e9f40cd",
   "metadata": {},
   "outputs": [
    {
     "data": {
      "application/vnd.jupyter.widget-view+json": {
       "model_id": "c1e8405e8dd24a1f97df8799d2582cce",
       "version_major": 2,
       "version_minor": 0
      },
      "text/plain": [
       "  0%|          | 0/150 [00:00<?, ?it/s]"
      ]
     },
     "metadata": {},
     "output_type": "display_data"
    }
   ],
   "source": [
    "name = \"Theta\"\n",
    "with warnings.catch_warnings():\n",
    "    warnings.filterwarnings(\"ignore\", category=FutureWarning)\n",
    "    for lcl_id in tqdm(lcl_ids):\n",
    "        model = Theta(theta=3, seasonality_period=48*7, season_mode=SeasonalityMode.ADDITIVE)\n",
    "        tr = TimeSeries.from_series(train_df.loc[train_df.LCLid==lcl_id, [\"timestamp\",\"energy_consumption\"]].set_index(\"timestamp\"))\n",
    "        vl = TimeSeries.from_series(val_df.loc[val_df.LCLid==lcl_id, [\"timestamp\",\"energy_consumption\"]].set_index(\"timestamp\"))\n",
    "        model.fit(tr)\n",
    "        y_pred = model.predict(len(vl))\n",
    "        _mase = mase(vl, y_pred, tr)\n",
    "        _rmsse = rmsse(vl, y_pred, tr)\n",
    "        y_pred = format_y_pred(y_pred, \"predictions\").to_frame()\n",
    "        y_pred['LCLid'] = lcl_id\n",
    "        y_pred['Algorithm'] = name\n",
    "        y_pred['energy_consumption'] = vl.data_array().to_series().values\n",
    "        metric_dict = dict()\n",
    "        metric_dict[\"LCLid\"] = lcl_id\n",
    "        metric_dict['Algorithm'] = name\n",
    "        metric_dict['MASE'] = _mase\n",
    "        metric_dict['RMSSE'] = _rmsse\n",
    "        preds.append(y_pred)\n",
    "        metrics.append(metric_dict)"
   ]
  },
  {
   "cell_type": "code",
   "execution_count": 14,
   "id": "9d6362ae-0e61-4adb-a864-87cb57f35d1f",
   "metadata": {
    "tags": []
   },
   "outputs": [
    {
     "data": {
      "application/vnd.jupyter.widget-view+json": {
       "model_id": "d8c92432de1146fdb019231d0aee4b04",
       "version_major": 2,
       "version_minor": 0
      },
      "text/plain": [
       "  0%|          | 0/150 [00:00<?, ?it/s]"
      ]
     },
     "metadata": {},
     "output_type": "display_data"
    }
   ],
   "source": [
    "name = \"FFT\"\n",
    "with warnings.catch_warnings():\n",
    "    warnings.filterwarnings(\"ignore\", category=FutureWarning)\n",
    "    for lcl_id in tqdm(lcl_ids):\n",
    "        model = FFT(nr_freqs_to_keep=35, trend=\"poly\", trend_poly_degree=2)\n",
    "        tr = TimeSeries.from_series(train_df.loc[train_df.LCLid==lcl_id, [\"timestamp\",\"energy_consumption\"]].set_index(\"timestamp\"))\n",
    "        vl = TimeSeries.from_series(val_df.loc[val_df.LCLid==lcl_id, [\"timestamp\",\"energy_consumption\"]].set_index(\"timestamp\"))\n",
    "        model.fit(tr)\n",
    "        y_pred = model.predict(len(vl))\n",
    "        _mase = mase(vl, y_pred, tr)\n",
    "        _rmsse = rmsse(vl, y_pred, tr)\n",
    "        y_pred = format_y_pred(y_pred, \"predictions\").to_frame()\n",
    "        y_pred['LCLid'] = lcl_id\n",
    "        y_pred['Algorithm'] = name\n",
    "        y_pred['energy_consumption'] = vl.data_array().to_series().values\n",
    "        metric_dict = dict()\n",
    "        metric_dict[\"LCLid\"] = lcl_id\n",
    "        metric_dict['Algorithm'] = name\n",
    "        metric_dict['MASE'] = _mase\n",
    "        metric_dict['RMSSE'] = _rmsse\n",
    "        preds.append(y_pred)\n",
    "        metrics.append(metric_dict)"
   ]
  },
  {
   "cell_type": "code",
   "execution_count": 15,
   "id": "da33ed4d-8fca-459b-b9ec-c81b6de04b8b",
   "metadata": {
    "tags": []
   },
   "outputs": [
    {
     "data": {
      "application/vnd.jupyter.widget-view+json": {
       "model_id": "016d625a5c494d90b6d9b329f0f15846",
       "version_major": 2,
       "version_minor": 0
      },
      "text/plain": [
       "  0%|          | 0/150 [00:00<?, ?it/s]"
      ]
     },
     "metadata": {},
     "output_type": "display_data"
    }
   ],
   "source": [
    "name = \"LightGBM\"\n",
    "with warnings.catch_warnings():\n",
    "    warnings.filterwarnings(\"ignore\", category=FutureWarning)\n",
    "    for lcl_id in tqdm(lcl_ids):\n",
    "        model = LightGBMModel(lags=[-1,-2,-3,-4,-5,-6,-48,-48*7], output_chunk_length=48)\n",
    "        tr = TimeSeries.from_series(train_df.loc[train_df.LCLid==lcl_id, [\"timestamp\",\"energy_consumption\"]].set_index(\"timestamp\"))\n",
    "        vl = TimeSeries.from_series(val_df.loc[val_df.LCLid==lcl_id, [\"timestamp\",\"energy_consumption\"]].set_index(\"timestamp\"))\n",
    "        model.fit(tr)\n",
    "        y_pred = model.predict(len(vl))\n",
    "        _mase = mase(vl, y_pred, tr)\n",
    "        _rmsse = rmsse(vl, y_pred, tr)\n",
    "        y_pred = format_y_pred(y_pred, \"predictions\").to_frame()\n",
    "        y_pred['LCLid'] = lcl_id\n",
    "        y_pred['Algorithm'] = name\n",
    "        y_pred['energy_consumption'] = vl.data_array().to_series().values\n",
    "        metric_dict = dict()\n",
    "        metric_dict[\"LCLid\"] = lcl_id\n",
    "        metric_dict['Algorithm'] = name\n",
    "        metric_dict['MASE'] = _mase\n",
    "        metric_dict['RMSSE'] = _rmsse\n",
    "        preds.append(y_pred)\n",
    "        metrics.append(metric_dict)"
   ]
  },
  {
   "cell_type": "code",
   "execution_count": 16,
   "id": "fa9cf6f2-f4d4-45a1-a2f5-b02f4447c237",
   "metadata": {
    "collapsed": true,
    "jupyter": {
     "outputs_hidden": true
    },
    "tags": []
   },
   "outputs": [
    {
     "data": {
      "application/vnd.jupyter.widget-view+json": {
       "model_id": "09a37552e31b4b0da1cb9c087d8acad3",
       "version_major": 2,
       "version_minor": 0
      },
      "text/plain": [
       "  0%|          | 0/150 [00:00<?, ?it/s]"
      ]
     },
     "metadata": {},
     "output_type": "display_data"
    },
    {
     "name": "stderr",
     "output_type": "stream",
     "text": [
      "C:\\Users\\ManuJoseph\\miniconda3\\envs\\modern_ts_v3\\lib\\site-packages\\statsmodels\\tsa\\holtwinters\\model.py:915: ConvergenceWarning: Optimization failed to converge. Check mle_retvals.\n",
      "  warnings.warn(\n",
      "C:\\Users\\ManuJoseph\\miniconda3\\envs\\modern_ts_v3\\lib\\site-packages\\statsmodels\\tsa\\holtwinters\\model.py:915: ConvergenceWarning: Optimization failed to converge. Check mle_retvals.\n",
      "  warnings.warn(\n",
      "C:\\Users\\ManuJoseph\\miniconda3\\envs\\modern_ts_v3\\lib\\site-packages\\statsmodels\\tsa\\holtwinters\\model.py:915: ConvergenceWarning: Optimization failed to converge. Check mle_retvals.\n",
      "  warnings.warn(\n",
      "C:\\Users\\ManuJoseph\\miniconda3\\envs\\modern_ts_v3\\lib\\site-packages\\statsmodels\\tsa\\holtwinters\\model.py:915: ConvergenceWarning: Optimization failed to converge. Check mle_retvals.\n",
      "  warnings.warn(\n",
      "C:\\Users\\ManuJoseph\\miniconda3\\envs\\modern_ts_v3\\lib\\site-packages\\statsmodels\\tsa\\holtwinters\\model.py:915: ConvergenceWarning: Optimization failed to converge. Check mle_retvals.\n",
      "  warnings.warn(\n",
      "C:\\Users\\ManuJoseph\\miniconda3\\envs\\modern_ts_v3\\lib\\site-packages\\statsmodels\\tsa\\holtwinters\\model.py:915: ConvergenceWarning: Optimization failed to converge. Check mle_retvals.\n",
      "  warnings.warn(\n",
      "C:\\Users\\ManuJoseph\\miniconda3\\envs\\modern_ts_v3\\lib\\site-packages\\statsmodels\\tsa\\holtwinters\\model.py:915: ConvergenceWarning: Optimization failed to converge. Check mle_retvals.\n",
      "  warnings.warn(\n",
      "C:\\Users\\ManuJoseph\\miniconda3\\envs\\modern_ts_v3\\lib\\site-packages\\statsmodels\\tsa\\holtwinters\\model.py:915: ConvergenceWarning: Optimization failed to converge. Check mle_retvals.\n",
      "  warnings.warn(\n",
      "C:\\Users\\ManuJoseph\\miniconda3\\envs\\modern_ts_v3\\lib\\site-packages\\statsmodels\\tsa\\holtwinters\\model.py:915: ConvergenceWarning: Optimization failed to converge. Check mle_retvals.\n",
      "  warnings.warn(\n",
      "C:\\Users\\ManuJoseph\\miniconda3\\envs\\modern_ts_v3\\lib\\site-packages\\statsmodels\\tsa\\holtwinters\\model.py:915: ConvergenceWarning: Optimization failed to converge. Check mle_retvals.\n",
      "  warnings.warn(\n",
      "C:\\Users\\ManuJoseph\\miniconda3\\envs\\modern_ts_v3\\lib\\site-packages\\statsmodels\\tsa\\holtwinters\\model.py:915: ConvergenceWarning: Optimization failed to converge. Check mle_retvals.\n",
      "  warnings.warn(\n",
      "C:\\Users\\ManuJoseph\\miniconda3\\envs\\modern_ts_v3\\lib\\site-packages\\statsmodels\\tsa\\holtwinters\\model.py:915: ConvergenceWarning: Optimization failed to converge. Check mle_retvals.\n",
      "  warnings.warn(\n",
      "C:\\Users\\ManuJoseph\\miniconda3\\envs\\modern_ts_v3\\lib\\site-packages\\statsmodels\\tsa\\holtwinters\\model.py:915: ConvergenceWarning: Optimization failed to converge. Check mle_retvals.\n",
      "  warnings.warn(\n",
      "C:\\Users\\ManuJoseph\\miniconda3\\envs\\modern_ts_v3\\lib\\site-packages\\statsmodels\\tsa\\holtwinters\\model.py:915: ConvergenceWarning: Optimization failed to converge. Check mle_retvals.\n",
      "  warnings.warn(\n",
      "C:\\Users\\ManuJoseph\\miniconda3\\envs\\modern_ts_v3\\lib\\site-packages\\statsmodels\\tsa\\holtwinters\\model.py:915: ConvergenceWarning: Optimization failed to converge. Check mle_retvals.\n",
      "  warnings.warn(\n",
      "C:\\Users\\ManuJoseph\\miniconda3\\envs\\modern_ts_v3\\lib\\site-packages\\statsmodels\\tsa\\holtwinters\\model.py:915: ConvergenceWarning: Optimization failed to converge. Check mle_retvals.\n",
      "  warnings.warn(\n",
      "C:\\Users\\ManuJoseph\\miniconda3\\envs\\modern_ts_v3\\lib\\site-packages\\statsmodels\\tsa\\holtwinters\\model.py:915: ConvergenceWarning: Optimization failed to converge. Check mle_retvals.\n",
      "  warnings.warn(\n",
      "C:\\Users\\ManuJoseph\\miniconda3\\envs\\modern_ts_v3\\lib\\site-packages\\statsmodels\\tsa\\holtwinters\\model.py:915: ConvergenceWarning: Optimization failed to converge. Check mle_retvals.\n",
      "  warnings.warn(\n",
      "C:\\Users\\ManuJoseph\\miniconda3\\envs\\modern_ts_v3\\lib\\site-packages\\statsmodels\\tsa\\holtwinters\\model.py:915: ConvergenceWarning: Optimization failed to converge. Check mle_retvals.\n",
      "  warnings.warn(\n",
      "C:\\Users\\ManuJoseph\\miniconda3\\envs\\modern_ts_v3\\lib\\site-packages\\statsmodels\\tsa\\holtwinters\\model.py:915: ConvergenceWarning: Optimization failed to converge. Check mle_retvals.\n",
      "  warnings.warn(\n",
      "C:\\Users\\ManuJoseph\\miniconda3\\envs\\modern_ts_v3\\lib\\site-packages\\statsmodels\\tsa\\holtwinters\\model.py:915: ConvergenceWarning: Optimization failed to converge. Check mle_retvals.\n",
      "  warnings.warn(\n",
      "C:\\Users\\ManuJoseph\\miniconda3\\envs\\modern_ts_v3\\lib\\site-packages\\statsmodels\\tsa\\holtwinters\\model.py:915: ConvergenceWarning: Optimization failed to converge. Check mle_retvals.\n",
      "  warnings.warn(\n",
      "C:\\Users\\ManuJoseph\\miniconda3\\envs\\modern_ts_v3\\lib\\site-packages\\statsmodels\\tsa\\holtwinters\\model.py:915: ConvergenceWarning: Optimization failed to converge. Check mle_retvals.\n",
      "  warnings.warn(\n",
      "C:\\Users\\ManuJoseph\\miniconda3\\envs\\modern_ts_v3\\lib\\site-packages\\statsmodels\\tsa\\holtwinters\\model.py:915: ConvergenceWarning: Optimization failed to converge. Check mle_retvals.\n",
      "  warnings.warn(\n",
      "C:\\Users\\ManuJoseph\\miniconda3\\envs\\modern_ts_v3\\lib\\site-packages\\statsmodels\\tsa\\holtwinters\\model.py:915: ConvergenceWarning: Optimization failed to converge. Check mle_retvals.\n",
      "  warnings.warn(\n",
      "C:\\Users\\ManuJoseph\\miniconda3\\envs\\modern_ts_v3\\lib\\site-packages\\statsmodels\\tsa\\holtwinters\\model.py:915: ConvergenceWarning: Optimization failed to converge. Check mle_retvals.\n",
      "  warnings.warn(\n",
      "C:\\Users\\ManuJoseph\\miniconda3\\envs\\modern_ts_v3\\lib\\site-packages\\statsmodels\\tsa\\holtwinters\\model.py:915: ConvergenceWarning: Optimization failed to converge. Check mle_retvals.\n",
      "  warnings.warn(\n",
      "C:\\Users\\ManuJoseph\\miniconda3\\envs\\modern_ts_v3\\lib\\site-packages\\statsmodels\\tsa\\holtwinters\\model.py:915: ConvergenceWarning: Optimization failed to converge. Check mle_retvals.\n",
      "  warnings.warn(\n",
      "C:\\Users\\ManuJoseph\\miniconda3\\envs\\modern_ts_v3\\lib\\site-packages\\statsmodels\\tsa\\holtwinters\\model.py:915: ConvergenceWarning: Optimization failed to converge. Check mle_retvals.\n",
      "  warnings.warn(\n",
      "C:\\Users\\ManuJoseph\\miniconda3\\envs\\modern_ts_v3\\lib\\site-packages\\statsmodels\\tsa\\holtwinters\\model.py:915: ConvergenceWarning: Optimization failed to converge. Check mle_retvals.\n",
      "  warnings.warn(\n",
      "C:\\Users\\ManuJoseph\\miniconda3\\envs\\modern_ts_v3\\lib\\site-packages\\statsmodels\\tsa\\holtwinters\\model.py:915: ConvergenceWarning: Optimization failed to converge. Check mle_retvals.\n",
      "  warnings.warn(\n",
      "C:\\Users\\ManuJoseph\\miniconda3\\envs\\modern_ts_v3\\lib\\site-packages\\statsmodels\\tsa\\holtwinters\\model.py:915: ConvergenceWarning: Optimization failed to converge. Check mle_retvals.\n",
      "  warnings.warn(\n",
      "C:\\Users\\ManuJoseph\\miniconda3\\envs\\modern_ts_v3\\lib\\site-packages\\statsmodels\\tsa\\holtwinters\\model.py:915: ConvergenceWarning: Optimization failed to converge. Check mle_retvals.\n",
      "  warnings.warn(\n",
      "C:\\Users\\ManuJoseph\\miniconda3\\envs\\modern_ts_v3\\lib\\site-packages\\statsmodels\\tsa\\holtwinters\\model.py:915: ConvergenceWarning: Optimization failed to converge. Check mle_retvals.\n",
      "  warnings.warn(\n",
      "C:\\Users\\ManuJoseph\\miniconda3\\envs\\modern_ts_v3\\lib\\site-packages\\statsmodels\\tsa\\holtwinters\\model.py:915: ConvergenceWarning: Optimization failed to converge. Check mle_retvals.\n",
      "  warnings.warn(\n",
      "C:\\Users\\ManuJoseph\\miniconda3\\envs\\modern_ts_v3\\lib\\site-packages\\statsmodels\\tsa\\holtwinters\\model.py:915: ConvergenceWarning: Optimization failed to converge. Check mle_retvals.\n",
      "  warnings.warn(\n",
      "C:\\Users\\ManuJoseph\\miniconda3\\envs\\modern_ts_v3\\lib\\site-packages\\statsmodels\\tsa\\holtwinters\\model.py:915: ConvergenceWarning: Optimization failed to converge. Check mle_retvals.\n",
      "  warnings.warn(\n",
      "C:\\Users\\ManuJoseph\\miniconda3\\envs\\modern_ts_v3\\lib\\site-packages\\statsmodels\\tsa\\holtwinters\\model.py:915: ConvergenceWarning: Optimization failed to converge. Check mle_retvals.\n",
      "  warnings.warn(\n",
      "C:\\Users\\ManuJoseph\\miniconda3\\envs\\modern_ts_v3\\lib\\site-packages\\statsmodels\\tsa\\holtwinters\\model.py:915: ConvergenceWarning: Optimization failed to converge. Check mle_retvals.\n",
      "  warnings.warn(\n",
      "C:\\Users\\ManuJoseph\\miniconda3\\envs\\modern_ts_v3\\lib\\site-packages\\statsmodels\\tsa\\holtwinters\\model.py:915: ConvergenceWarning: Optimization failed to converge. Check mle_retvals.\n",
      "  warnings.warn(\n",
      "C:\\Users\\ManuJoseph\\miniconda3\\envs\\modern_ts_v3\\lib\\site-packages\\statsmodels\\tsa\\holtwinters\\model.py:915: ConvergenceWarning: Optimization failed to converge. Check mle_retvals.\n",
      "  warnings.warn(\n",
      "C:\\Users\\ManuJoseph\\miniconda3\\envs\\modern_ts_v3\\lib\\site-packages\\statsmodels\\tsa\\holtwinters\\model.py:915: ConvergenceWarning: Optimization failed to converge. Check mle_retvals.\n",
      "  warnings.warn(\n",
      "C:\\Users\\ManuJoseph\\miniconda3\\envs\\modern_ts_v3\\lib\\site-packages\\statsmodels\\tsa\\holtwinters\\model.py:915: ConvergenceWarning: Optimization failed to converge. Check mle_retvals.\n",
      "  warnings.warn(\n",
      "C:\\Users\\ManuJoseph\\miniconda3\\envs\\modern_ts_v3\\lib\\site-packages\\statsmodels\\tsa\\holtwinters\\model.py:915: ConvergenceWarning: Optimization failed to converge. Check mle_retvals.\n",
      "  warnings.warn(\n",
      "C:\\Users\\ManuJoseph\\miniconda3\\envs\\modern_ts_v3\\lib\\site-packages\\statsmodels\\tsa\\holtwinters\\model.py:915: ConvergenceWarning: Optimization failed to converge. Check mle_retvals.\n",
      "  warnings.warn(\n",
      "C:\\Users\\ManuJoseph\\miniconda3\\envs\\modern_ts_v3\\lib\\site-packages\\statsmodels\\tsa\\holtwinters\\model.py:915: ConvergenceWarning: Optimization failed to converge. Check mle_retvals.\n",
      "  warnings.warn(\n",
      "C:\\Users\\ManuJoseph\\miniconda3\\envs\\modern_ts_v3\\lib\\site-packages\\statsmodels\\tsa\\holtwinters\\model.py:915: ConvergenceWarning: Optimization failed to converge. Check mle_retvals.\n",
      "  warnings.warn(\n",
      "C:\\Users\\ManuJoseph\\miniconda3\\envs\\modern_ts_v3\\lib\\site-packages\\statsmodels\\tsa\\holtwinters\\model.py:915: ConvergenceWarning: Optimization failed to converge. Check mle_retvals.\n",
      "  warnings.warn(\n",
      "C:\\Users\\ManuJoseph\\miniconda3\\envs\\modern_ts_v3\\lib\\site-packages\\statsmodels\\tsa\\holtwinters\\model.py:915: ConvergenceWarning: Optimization failed to converge. Check mle_retvals.\n",
      "  warnings.warn(\n",
      "C:\\Users\\ManuJoseph\\miniconda3\\envs\\modern_ts_v3\\lib\\site-packages\\statsmodels\\tsa\\holtwinters\\model.py:915: ConvergenceWarning: Optimization failed to converge. Check mle_retvals.\n",
      "  warnings.warn(\n",
      "C:\\Users\\ManuJoseph\\miniconda3\\envs\\modern_ts_v3\\lib\\site-packages\\statsmodels\\tsa\\holtwinters\\model.py:915: ConvergenceWarning: Optimization failed to converge. Check mle_retvals.\n",
      "  warnings.warn(\n",
      "C:\\Users\\ManuJoseph\\miniconda3\\envs\\modern_ts_v3\\lib\\site-packages\\statsmodels\\tsa\\holtwinters\\model.py:915: ConvergenceWarning: Optimization failed to converge. Check mle_retvals.\n",
      "  warnings.warn(\n",
      "C:\\Users\\ManuJoseph\\miniconda3\\envs\\modern_ts_v3\\lib\\site-packages\\statsmodels\\tsa\\holtwinters\\model.py:915: ConvergenceWarning: Optimization failed to converge. Check mle_retvals.\n",
      "  warnings.warn(\n",
      "C:\\Users\\ManuJoseph\\miniconda3\\envs\\modern_ts_v3\\lib\\site-packages\\statsmodels\\tsa\\holtwinters\\model.py:915: ConvergenceWarning: Optimization failed to converge. Check mle_retvals.\n",
      "  warnings.warn(\n",
      "C:\\Users\\ManuJoseph\\miniconda3\\envs\\modern_ts_v3\\lib\\site-packages\\statsmodels\\tsa\\holtwinters\\model.py:915: ConvergenceWarning: Optimization failed to converge. Check mle_retvals.\n",
      "  warnings.warn(\n",
      "C:\\Users\\ManuJoseph\\miniconda3\\envs\\modern_ts_v3\\lib\\site-packages\\statsmodels\\tsa\\holtwinters\\model.py:915: ConvergenceWarning: Optimization failed to converge. Check mle_retvals.\n",
      "  warnings.warn(\n",
      "C:\\Users\\ManuJoseph\\miniconda3\\envs\\modern_ts_v3\\lib\\site-packages\\statsmodels\\tsa\\holtwinters\\model.py:915: ConvergenceWarning: Optimization failed to converge. Check mle_retvals.\n",
      "  warnings.warn(\n",
      "C:\\Users\\ManuJoseph\\miniconda3\\envs\\modern_ts_v3\\lib\\site-packages\\statsmodels\\tsa\\holtwinters\\model.py:915: ConvergenceWarning: Optimization failed to converge. Check mle_retvals.\n",
      "  warnings.warn(\n",
      "C:\\Users\\ManuJoseph\\miniconda3\\envs\\modern_ts_v3\\lib\\site-packages\\statsmodels\\tsa\\holtwinters\\model.py:915: ConvergenceWarning: Optimization failed to converge. Check mle_retvals.\n",
      "  warnings.warn(\n",
      "C:\\Users\\ManuJoseph\\miniconda3\\envs\\modern_ts_v3\\lib\\site-packages\\statsmodels\\tsa\\holtwinters\\model.py:915: ConvergenceWarning: Optimization failed to converge. Check mle_retvals.\n",
      "  warnings.warn(\n",
      "C:\\Users\\ManuJoseph\\miniconda3\\envs\\modern_ts_v3\\lib\\site-packages\\statsmodels\\tsa\\holtwinters\\model.py:915: ConvergenceWarning: Optimization failed to converge. Check mle_retvals.\n",
      "  warnings.warn(\n",
      "C:\\Users\\ManuJoseph\\miniconda3\\envs\\modern_ts_v3\\lib\\site-packages\\statsmodels\\tsa\\holtwinters\\model.py:915: ConvergenceWarning: Optimization failed to converge. Check mle_retvals.\n",
      "  warnings.warn(\n",
      "C:\\Users\\ManuJoseph\\miniconda3\\envs\\modern_ts_v3\\lib\\site-packages\\statsmodels\\tsa\\holtwinters\\model.py:915: ConvergenceWarning: Optimization failed to converge. Check mle_retvals.\n",
      "  warnings.warn(\n",
      "C:\\Users\\ManuJoseph\\miniconda3\\envs\\modern_ts_v3\\lib\\site-packages\\statsmodels\\tsa\\holtwinters\\model.py:915: ConvergenceWarning: Optimization failed to converge. Check mle_retvals.\n",
      "  warnings.warn(\n",
      "C:\\Users\\ManuJoseph\\miniconda3\\envs\\modern_ts_v3\\lib\\site-packages\\statsmodels\\tsa\\holtwinters\\model.py:915: ConvergenceWarning: Optimization failed to converge. Check mle_retvals.\n",
      "  warnings.warn(\n",
      "C:\\Users\\ManuJoseph\\miniconda3\\envs\\modern_ts_v3\\lib\\site-packages\\statsmodels\\tsa\\holtwinters\\model.py:915: ConvergenceWarning: Optimization failed to converge. Check mle_retvals.\n",
      "  warnings.warn(\n",
      "C:\\Users\\ManuJoseph\\miniconda3\\envs\\modern_ts_v3\\lib\\site-packages\\statsmodels\\tsa\\holtwinters\\model.py:915: ConvergenceWarning: Optimization failed to converge. Check mle_retvals.\n",
      "  warnings.warn(\n",
      "C:\\Users\\ManuJoseph\\miniconda3\\envs\\modern_ts_v3\\lib\\site-packages\\statsmodels\\tsa\\holtwinters\\model.py:915: ConvergenceWarning: Optimization failed to converge. Check mle_retvals.\n",
      "  warnings.warn(\n",
      "C:\\Users\\ManuJoseph\\miniconda3\\envs\\modern_ts_v3\\lib\\site-packages\\statsmodels\\tsa\\holtwinters\\model.py:915: ConvergenceWarning: Optimization failed to converge. Check mle_retvals.\n",
      "  warnings.warn(\n",
      "C:\\Users\\ManuJoseph\\miniconda3\\envs\\modern_ts_v3\\lib\\site-packages\\statsmodels\\tsa\\holtwinters\\model.py:915: ConvergenceWarning: Optimization failed to converge. Check mle_retvals.\n",
      "  warnings.warn(\n",
      "C:\\Users\\ManuJoseph\\miniconda3\\envs\\modern_ts_v3\\lib\\site-packages\\statsmodels\\tsa\\holtwinters\\model.py:915: ConvergenceWarning: Optimization failed to converge. Check mle_retvals.\n",
      "  warnings.warn(\n",
      "C:\\Users\\ManuJoseph\\miniconda3\\envs\\modern_ts_v3\\lib\\site-packages\\statsmodels\\tsa\\holtwinters\\model.py:915: ConvergenceWarning: Optimization failed to converge. Check mle_retvals.\n",
      "  warnings.warn(\n",
      "C:\\Users\\ManuJoseph\\miniconda3\\envs\\modern_ts_v3\\lib\\site-packages\\statsmodels\\tsa\\holtwinters\\model.py:915: ConvergenceWarning: Optimization failed to converge. Check mle_retvals.\n",
      "  warnings.warn(\n",
      "C:\\Users\\ManuJoseph\\miniconda3\\envs\\modern_ts_v3\\lib\\site-packages\\statsmodels\\tsa\\holtwinters\\model.py:915: ConvergenceWarning: Optimization failed to converge. Check mle_retvals.\n",
      "  warnings.warn(\n",
      "C:\\Users\\ManuJoseph\\miniconda3\\envs\\modern_ts_v3\\lib\\site-packages\\statsmodels\\tsa\\holtwinters\\model.py:915: ConvergenceWarning: Optimization failed to converge. Check mle_retvals.\n",
      "  warnings.warn(\n",
      "C:\\Users\\ManuJoseph\\miniconda3\\envs\\modern_ts_v3\\lib\\site-packages\\statsmodels\\tsa\\holtwinters\\model.py:915: ConvergenceWarning: Optimization failed to converge. Check mle_retvals.\n",
      "  warnings.warn(\n",
      "C:\\Users\\ManuJoseph\\miniconda3\\envs\\modern_ts_v3\\lib\\site-packages\\statsmodels\\tsa\\holtwinters\\model.py:915: ConvergenceWarning: Optimization failed to converge. Check mle_retvals.\n",
      "  warnings.warn(\n",
      "C:\\Users\\ManuJoseph\\miniconda3\\envs\\modern_ts_v3\\lib\\site-packages\\statsmodels\\tsa\\holtwinters\\model.py:915: ConvergenceWarning: Optimization failed to converge. Check mle_retvals.\n",
      "  warnings.warn(\n",
      "C:\\Users\\ManuJoseph\\miniconda3\\envs\\modern_ts_v3\\lib\\site-packages\\statsmodels\\tsa\\holtwinters\\model.py:915: ConvergenceWarning: Optimization failed to converge. Check mle_retvals.\n",
      "  warnings.warn(\n",
      "C:\\Users\\ManuJoseph\\miniconda3\\envs\\modern_ts_v3\\lib\\site-packages\\statsmodels\\tsa\\holtwinters\\model.py:915: ConvergenceWarning: Optimization failed to converge. Check mle_retvals.\n",
      "  warnings.warn(\n",
      "C:\\Users\\ManuJoseph\\miniconda3\\envs\\modern_ts_v3\\lib\\site-packages\\statsmodels\\tsa\\holtwinters\\model.py:915: ConvergenceWarning: Optimization failed to converge. Check mle_retvals.\n",
      "  warnings.warn(\n",
      "C:\\Users\\ManuJoseph\\miniconda3\\envs\\modern_ts_v3\\lib\\site-packages\\statsmodels\\tsa\\holtwinters\\model.py:915: ConvergenceWarning: Optimization failed to converge. Check mle_retvals.\n",
      "  warnings.warn(\n",
      "C:\\Users\\ManuJoseph\\miniconda3\\envs\\modern_ts_v3\\lib\\site-packages\\statsmodels\\tsa\\holtwinters\\model.py:915: ConvergenceWarning: Optimization failed to converge. Check mle_retvals.\n",
      "  warnings.warn(\n",
      "C:\\Users\\ManuJoseph\\miniconda3\\envs\\modern_ts_v3\\lib\\site-packages\\statsmodels\\tsa\\holtwinters\\model.py:915: ConvergenceWarning: Optimization failed to converge. Check mle_retvals.\n",
      "  warnings.warn(\n",
      "C:\\Users\\ManuJoseph\\miniconda3\\envs\\modern_ts_v3\\lib\\site-packages\\statsmodels\\tsa\\holtwinters\\model.py:915: ConvergenceWarning: Optimization failed to converge. Check mle_retvals.\n",
      "  warnings.warn(\n",
      "C:\\Users\\ManuJoseph\\miniconda3\\envs\\modern_ts_v3\\lib\\site-packages\\statsmodels\\tsa\\holtwinters\\model.py:915: ConvergenceWarning: Optimization failed to converge. Check mle_retvals.\n",
      "  warnings.warn(\n",
      "C:\\Users\\ManuJoseph\\miniconda3\\envs\\modern_ts_v3\\lib\\site-packages\\statsmodels\\tsa\\holtwinters\\model.py:915: ConvergenceWarning: Optimization failed to converge. Check mle_retvals.\n",
      "  warnings.warn(\n",
      "C:\\Users\\ManuJoseph\\miniconda3\\envs\\modern_ts_v3\\lib\\site-packages\\statsmodels\\tsa\\holtwinters\\model.py:915: ConvergenceWarning: Optimization failed to converge. Check mle_retvals.\n",
      "  warnings.warn(\n",
      "C:\\Users\\ManuJoseph\\miniconda3\\envs\\modern_ts_v3\\lib\\site-packages\\statsmodels\\tsa\\holtwinters\\model.py:915: ConvergenceWarning: Optimization failed to converge. Check mle_retvals.\n",
      "  warnings.warn(\n",
      "C:\\Users\\ManuJoseph\\miniconda3\\envs\\modern_ts_v3\\lib\\site-packages\\statsmodels\\tsa\\holtwinters\\model.py:915: ConvergenceWarning: Optimization failed to converge. Check mle_retvals.\n",
      "  warnings.warn(\n",
      "C:\\Users\\ManuJoseph\\miniconda3\\envs\\modern_ts_v3\\lib\\site-packages\\statsmodels\\tsa\\holtwinters\\model.py:915: ConvergenceWarning: Optimization failed to converge. Check mle_retvals.\n",
      "  warnings.warn(\n",
      "C:\\Users\\ManuJoseph\\miniconda3\\envs\\modern_ts_v3\\lib\\site-packages\\statsmodels\\tsa\\holtwinters\\model.py:915: ConvergenceWarning: Optimization failed to converge. Check mle_retvals.\n",
      "  warnings.warn(\n",
      "C:\\Users\\ManuJoseph\\miniconda3\\envs\\modern_ts_v3\\lib\\site-packages\\statsmodels\\tsa\\holtwinters\\model.py:915: ConvergenceWarning: Optimization failed to converge. Check mle_retvals.\n",
      "  warnings.warn(\n",
      "C:\\Users\\ManuJoseph\\miniconda3\\envs\\modern_ts_v3\\lib\\site-packages\\statsmodels\\tsa\\holtwinters\\model.py:915: ConvergenceWarning: Optimization failed to converge. Check mle_retvals.\n",
      "  warnings.warn(\n",
      "C:\\Users\\ManuJoseph\\miniconda3\\envs\\modern_ts_v3\\lib\\site-packages\\statsmodels\\tsa\\holtwinters\\model.py:915: ConvergenceWarning: Optimization failed to converge. Check mle_retvals.\n",
      "  warnings.warn(\n",
      "C:\\Users\\ManuJoseph\\miniconda3\\envs\\modern_ts_v3\\lib\\site-packages\\statsmodels\\tsa\\holtwinters\\model.py:915: ConvergenceWarning: Optimization failed to converge. Check mle_retvals.\n",
      "  warnings.warn(\n",
      "C:\\Users\\ManuJoseph\\miniconda3\\envs\\modern_ts_v3\\lib\\site-packages\\statsmodels\\tsa\\holtwinters\\model.py:915: ConvergenceWarning: Optimization failed to converge. Check mle_retvals.\n",
      "  warnings.warn(\n"
     ]
    }
   ],
   "source": [
    "name = \"ETS\"\n",
    "with warnings.catch_warnings():\n",
    "    warnings.filterwarnings(\"ignore\", category=FutureWarning)\n",
    "    for lcl_id in tqdm(lcl_ids):\n",
    "        model = ExponentialSmoothing(trend=ModelMode.ADDITIVE, damped=True, seasonal=SeasonalityMode.ADDITIVE, seasonal_periods=48*7, random_state=42)\n",
    "        tr = TimeSeries.from_series(train_df.loc[train_df.LCLid==lcl_id, [\"timestamp\",\"energy_consumption\"]].set_index(\"timestamp\"))\n",
    "        vl = TimeSeries.from_series(val_df.loc[val_df.LCLid==lcl_id, [\"timestamp\",\"energy_consumption\"]].set_index(\"timestamp\"))\n",
    "        model.fit(tr)\n",
    "        y_pred = model.predict(len(vl))\n",
    "        _mase = mase(vl, y_pred, tr)\n",
    "        _rmsse = rmsse(vl, y_pred, tr)\n",
    "        y_pred = format_y_pred(y_pred, \"predictions\").to_frame()\n",
    "        y_pred['LCLid'] = lcl_id\n",
    "        y_pred['Algorithm'] = name\n",
    "        y_pred['energy_consumption'] = vl.data_array().to_series().values\n",
    "        metric_dict = dict()\n",
    "        metric_dict[\"LCLid\"] = lcl_id\n",
    "        metric_dict['Algorithm'] = name\n",
    "        metric_dict['MASE'] = _mase\n",
    "        metric_dict['RMSSE'] = _rmsse\n",
    "        preds.append(y_pred)\n",
    "        metrics.append(metric_dict)"
   ]
  },
  {
   "cell_type": "code",
   "execution_count": 17,
   "id": "af43811e-28e7-457c-8807-8e847ec773cd",
   "metadata": {},
   "outputs": [
    {
     "data": {
      "text/html": [
       "<div>\n",
       "<style scoped>\n",
       "    .dataframe tbody tr th:only-of-type {\n",
       "        vertical-align: middle;\n",
       "    }\n",
       "\n",
       "    .dataframe tbody tr th {\n",
       "        vertical-align: top;\n",
       "    }\n",
       "\n",
       "    .dataframe thead th {\n",
       "        text-align: right;\n",
       "    }\n",
       "</style>\n",
       "<table border=\"1\" class=\"dataframe\">\n",
       "  <thead>\n",
       "    <tr style=\"text-align: right;\">\n",
       "      <th></th>\n",
       "      <th>predictions</th>\n",
       "      <th>LCLid</th>\n",
       "      <th>Algorithm</th>\n",
       "      <th>energy_consumption</th>\n",
       "    </tr>\n",
       "    <tr>\n",
       "      <th>timestamp</th>\n",
       "      <th></th>\n",
       "      <th></th>\n",
       "      <th></th>\n",
       "      <th></th>\n",
       "    </tr>\n",
       "  </thead>\n",
       "  <tbody>\n",
       "    <tr>\n",
       "      <th>2014-01-01 00:00:00</th>\n",
       "      <td>0.179</td>\n",
       "      <td>MAC000061</td>\n",
       "      <td>Naive</td>\n",
       "      <td>0.165</td>\n",
       "    </tr>\n",
       "    <tr>\n",
       "      <th>2014-01-01 00:30:00</th>\n",
       "      <td>0.179</td>\n",
       "      <td>MAC000061</td>\n",
       "      <td>Naive</td>\n",
       "      <td>0.167</td>\n",
       "    </tr>\n",
       "    <tr>\n",
       "      <th>2014-01-01 01:00:00</th>\n",
       "      <td>0.179</td>\n",
       "      <td>MAC000061</td>\n",
       "      <td>Naive</td>\n",
       "      <td>0.150</td>\n",
       "    </tr>\n",
       "    <tr>\n",
       "      <th>2014-01-01 01:30:00</th>\n",
       "      <td>0.179</td>\n",
       "      <td>MAC000061</td>\n",
       "      <td>Naive</td>\n",
       "      <td>0.091</td>\n",
       "    </tr>\n",
       "    <tr>\n",
       "      <th>2014-01-01 02:00:00</th>\n",
       "      <td>0.179</td>\n",
       "      <td>MAC000061</td>\n",
       "      <td>Naive</td>\n",
       "      <td>0.047</td>\n",
       "    </tr>\n",
       "  </tbody>\n",
       "</table>\n",
       "</div>"
      ],
      "text/plain": [
       "                     predictions      LCLid Algorithm  energy_consumption\n",
       "timestamp                                                                \n",
       "2014-01-01 00:00:00        0.179  MAC000061     Naive               0.165\n",
       "2014-01-01 00:30:00        0.179  MAC000061     Naive               0.167\n",
       "2014-01-01 01:00:00        0.179  MAC000061     Naive               0.150\n",
       "2014-01-01 01:30:00        0.179  MAC000061     Naive               0.091\n",
       "2014-01-01 02:00:00        0.179  MAC000061     Naive               0.047"
      ]
     },
     "execution_count": 17,
     "metadata": {},
     "output_type": "execute_result"
    }
   ],
   "source": [
    "pred_df = pd.concat(preds)\n",
    "pred_df.head()"
   ]
  },
  {
   "cell_type": "code",
   "execution_count": 18,
   "id": "7057718c-535c-4907-8f23-966311365aa8",
   "metadata": {},
   "outputs": [
    {
     "data": {
      "text/html": [
       "<div>\n",
       "<style scoped>\n",
       "    .dataframe tbody tr th:only-of-type {\n",
       "        vertical-align: middle;\n",
       "    }\n",
       "\n",
       "    .dataframe tbody tr th {\n",
       "        vertical-align: top;\n",
       "    }\n",
       "\n",
       "    .dataframe thead th {\n",
       "        text-align: right;\n",
       "    }\n",
       "</style>\n",
       "<table border=\"1\" class=\"dataframe\">\n",
       "  <thead>\n",
       "    <tr style=\"text-align: right;\">\n",
       "      <th>Algorithm</th>\n",
       "      <th>timestamp</th>\n",
       "      <th>energy_consumption</th>\n",
       "      <th>ETS</th>\n",
       "      <th>FFT</th>\n",
       "      <th>LightGBM</th>\n",
       "      <th>Naive</th>\n",
       "      <th>SeasonalNaive</th>\n",
       "      <th>Theta</th>\n",
       "    </tr>\n",
       "    <tr>\n",
       "      <th>LCLid</th>\n",
       "      <th></th>\n",
       "      <th></th>\n",
       "      <th></th>\n",
       "      <th></th>\n",
       "      <th></th>\n",
       "      <th></th>\n",
       "      <th></th>\n",
       "      <th></th>\n",
       "    </tr>\n",
       "  </thead>\n",
       "  <tbody>\n",
       "    <tr>\n",
       "      <th>MAC000061</th>\n",
       "      <td>2014-01-01 00:00:00</td>\n",
       "      <td>0.165</td>\n",
       "      <td>0.158096</td>\n",
       "      <td>0.111663</td>\n",
       "      <td>0.142895</td>\n",
       "      <td>0.179</td>\n",
       "      <td>0.157</td>\n",
       "      <td>0.157925</td>\n",
       "    </tr>\n",
       "    <tr>\n",
       "      <th>MAC000061</th>\n",
       "      <td>2014-01-01 00:30:00</td>\n",
       "      <td>0.167</td>\n",
       "      <td>0.150456</td>\n",
       "      <td>0.088207</td>\n",
       "      <td>0.127311</td>\n",
       "      <td>0.179</td>\n",
       "      <td>0.083</td>\n",
       "      <td>0.150391</td>\n",
       "    </tr>\n",
       "    <tr>\n",
       "      <th>MAC000061</th>\n",
       "      <td>2014-01-01 01:00:00</td>\n",
       "      <td>0.150</td>\n",
       "      <td>0.147509</td>\n",
       "      <td>0.070980</td>\n",
       "      <td>0.095174</td>\n",
       "      <td>0.179</td>\n",
       "      <td>0.054</td>\n",
       "      <td>0.147510</td>\n",
       "    </tr>\n",
       "    <tr>\n",
       "      <th>MAC000061</th>\n",
       "      <td>2014-01-01 01:30:00</td>\n",
       "      <td>0.091</td>\n",
       "      <td>0.146653</td>\n",
       "      <td>0.060706</td>\n",
       "      <td>0.120303</td>\n",
       "      <td>0.179</td>\n",
       "      <td>0.053</td>\n",
       "      <td>0.146589</td>\n",
       "    </tr>\n",
       "    <tr>\n",
       "      <th>MAC000061</th>\n",
       "      <td>2014-01-01 02:00:00</td>\n",
       "      <td>0.047</td>\n",
       "      <td>0.147875</td>\n",
       "      <td>0.056753</td>\n",
       "      <td>0.094570</td>\n",
       "      <td>0.179</td>\n",
       "      <td>0.049</td>\n",
       "      <td>0.147600</td>\n",
       "    </tr>\n",
       "  </tbody>\n",
       "</table>\n",
       "</div>"
      ],
      "text/plain": [
       "Algorithm           timestamp  energy_consumption       ETS       FFT  \\\n",
       "LCLid                                                                   \n",
       "MAC000061 2014-01-01 00:00:00               0.165  0.158096  0.111663   \n",
       "MAC000061 2014-01-01 00:30:00               0.167  0.150456  0.088207   \n",
       "MAC000061 2014-01-01 01:00:00               0.150  0.147509  0.070980   \n",
       "MAC000061 2014-01-01 01:30:00               0.091  0.146653  0.060706   \n",
       "MAC000061 2014-01-01 02:00:00               0.047  0.147875  0.056753   \n",
       "\n",
       "Algorithm  LightGBM  Naive  SeasonalNaive     Theta  \n",
       "LCLid                                                \n",
       "MAC000061  0.142895  0.179          0.157  0.157925  \n",
       "MAC000061  0.127311  0.179          0.083  0.150391  \n",
       "MAC000061  0.095174  0.179          0.054  0.147510  \n",
       "MAC000061  0.120303  0.179          0.053  0.146589  \n",
       "MAC000061  0.094570  0.179          0.049  0.147600  "
      ]
     },
     "execution_count": 18,
     "metadata": {},
     "output_type": "execute_result"
    }
   ],
   "source": [
    "pivot_df = pd.pivot_table(pred_df.reset_index(), index=[\"LCLid\", \"timestamp\", \"energy_consumption\"], columns=['Algorithm'], values=['predictions'])\n",
    "pivot_df.columns = pivot_df.columns.get_level_values(-1)\n",
    "pivot_df = pivot_df.reset_index().set_index(['LCLid'])\n",
    "pivot_df.head()"
   ]
  },
  {
   "cell_type": "code",
   "execution_count": 36,
   "id": "55d88652-10f7-4d2d-a3ee-e7f9967c8508",
   "metadata": {},
   "outputs": [
    {
     "data": {
      "text/html": [
       "<div>\n",
       "<style scoped>\n",
       "    .dataframe tbody tr th:only-of-type {\n",
       "        vertical-align: middle;\n",
       "    }\n",
       "\n",
       "    .dataframe tbody tr th {\n",
       "        vertical-align: top;\n",
       "    }\n",
       "\n",
       "    .dataframe thead th {\n",
       "        text-align: right;\n",
       "    }\n",
       "</style>\n",
       "<table border=\"1\" class=\"dataframe\">\n",
       "  <thead>\n",
       "    <tr style=\"text-align: right;\">\n",
       "      <th></th>\n",
       "      <th></th>\n",
       "      <th>MASE</th>\n",
       "      <th>RMSSE</th>\n",
       "    </tr>\n",
       "    <tr>\n",
       "      <th>LCLid</th>\n",
       "      <th>Algorithm</th>\n",
       "      <th></th>\n",
       "      <th></th>\n",
       "    </tr>\n",
       "  </thead>\n",
       "  <tbody>\n",
       "    <tr>\n",
       "      <th>MAC000061</th>\n",
       "      <th>SeasonalNaive</th>\n",
       "      <td>1.897168</td>\n",
       "      <td>1.529994</td>\n",
       "    </tr>\n",
       "    <tr>\n",
       "      <th>MAC000062</th>\n",
       "      <th>SeasonalNaive</th>\n",
       "      <td>1.528590</td>\n",
       "      <td>1.730176</td>\n",
       "    </tr>\n",
       "    <tr>\n",
       "      <th>MAC000066</th>\n",
       "      <th>SeasonalNaive</th>\n",
       "      <td>2.023330</td>\n",
       "      <td>1.585089</td>\n",
       "    </tr>\n",
       "    <tr>\n",
       "      <th>MAC000086</th>\n",
       "      <th>SeasonalNaive</th>\n",
       "      <td>1.836727</td>\n",
       "      <td>1.475517</td>\n",
       "    </tr>\n",
       "    <tr>\n",
       "      <th>MAC000126</th>\n",
       "      <th>SeasonalNaive</th>\n",
       "      <td>1.878985</td>\n",
       "      <td>1.795475</td>\n",
       "    </tr>\n",
       "  </tbody>\n",
       "</table>\n",
       "</div>"
      ],
      "text/plain": [
       "                             MASE     RMSSE\n",
       "LCLid     Algorithm                        \n",
       "MAC000061 SeasonalNaive  1.897168  1.529994\n",
       "MAC000062 SeasonalNaive  1.528590  1.730176\n",
       "MAC000066 SeasonalNaive  2.023330  1.585089\n",
       "MAC000086 SeasonalNaive  1.836727  1.475517\n",
       "MAC000126 SeasonalNaive  1.878985  1.795475"
      ]
     },
     "execution_count": 36,
     "metadata": {},
     "output_type": "execute_result"
    }
   ],
   "source": [
    "metric_df = pd.DataFrame(metrics)\n",
    "benchmark_metric_df = metric_df.loc[metric_df.Algorithm==\"Naive\",[\"LCLid\",'MASE','RMSSE']].set_index(\"LCLid\")\n",
    "metric_df = metric_df.loc[metric_df.Algorithm!=\"Naive\",[\"LCLid\",\"Algorithm\",'MASE','RMSSE']]\n",
    "metric_df.set_index([\"LCLid\", \"Algorithm\"], inplace=True)\n",
    "metric_df.head()"
   ]
  },
  {
   "cell_type": "code",
   "execution_count": 37,
   "id": "20c83f00-1ab4-4eed-9174-a049e6d29241",
   "metadata": {},
   "outputs": [
    {
     "data": {
      "text/html": [
       "<div>\n",
       "<style scoped>\n",
       "    .dataframe tbody tr th:only-of-type {\n",
       "        vertical-align: middle;\n",
       "    }\n",
       "\n",
       "    .dataframe tbody tr th {\n",
       "        vertical-align: top;\n",
       "    }\n",
       "\n",
       "    .dataframe thead th {\n",
       "        text-align: right;\n",
       "    }\n",
       "</style>\n",
       "<table border=\"1\" class=\"dataframe\">\n",
       "  <thead>\n",
       "    <tr style=\"text-align: right;\">\n",
       "      <th></th>\n",
       "      <th>MASE</th>\n",
       "      <th>RMSSE</th>\n",
       "    </tr>\n",
       "    <tr>\n",
       "      <th>LCLid</th>\n",
       "      <th></th>\n",
       "      <th></th>\n",
       "    </tr>\n",
       "  </thead>\n",
       "  <tbody>\n",
       "    <tr>\n",
       "      <th>MAC000061</th>\n",
       "      <td>2.583152</td>\n",
       "      <td>1.671148</td>\n",
       "    </tr>\n",
       "    <tr>\n",
       "      <th>MAC000062</th>\n",
       "      <td>3.834833</td>\n",
       "      <td>2.321079</td>\n",
       "    </tr>\n",
       "    <tr>\n",
       "      <th>MAC000066</th>\n",
       "      <td>1.899568</td>\n",
       "      <td>1.449708</td>\n",
       "    </tr>\n",
       "    <tr>\n",
       "      <th>MAC000086</th>\n",
       "      <td>1.715957</td>\n",
       "      <td>1.461549</td>\n",
       "    </tr>\n",
       "    <tr>\n",
       "      <th>MAC000126</th>\n",
       "      <td>2.340603</td>\n",
       "      <td>1.412106</td>\n",
       "    </tr>\n",
       "  </tbody>\n",
       "</table>\n",
       "</div>"
      ],
      "text/plain": [
       "               MASE     RMSSE\n",
       "LCLid                        \n",
       "MAC000061  2.583152  1.671148\n",
       "MAC000062  3.834833  2.321079\n",
       "MAC000066  1.899568  1.449708\n",
       "MAC000086  1.715957  1.461549\n",
       "MAC000126  2.340603  1.412106"
      ]
     },
     "execution_count": 37,
     "metadata": {},
     "output_type": "execute_result"
    }
   ],
   "source": [
    "benchmark_metric_df.head()"
   ]
  },
  {
   "cell_type": "code",
   "execution_count": 38,
   "id": "cd4e09bb-f145-4a3a-beb4-c5b23561f5bc",
   "metadata": {},
   "outputs": [],
   "source": [
    "pred_df.to_pickle(output/\"preds_for_metric_analysis.pkl\")\n",
    "pivot_df.to_pickle(output/\"pivoted_preds_for_metric_analysis.pkl\")\n",
    "metric_df.to_pickle(output/\"metrics_for_metric_analysis.pkl\")\n",
    "benchmark_metric_df.to_pickle(output/\"benchmark_metrics_for_metric_analysis.pkl\")"
   ]
  },
  {
   "cell_type": "markdown",
   "id": "a4625703-f75f-43c7-af51-71a616a4f54f",
   "metadata": {},
   "source": [
    "## Metric Definitions"
   ]
  },
  {
   "cell_type": "code",
   "execution_count": 39,
   "id": "59571fda-70b7-4c06-8f61-7f196fcb8444",
   "metadata": {},
   "outputs": [],
   "source": [
    "def geo_mean(iterable):\n",
    "    a = np.array(iterable)\n",
    "    a = a[~np.isnan(a)]\n",
    "    return a.prod()**(1.0/len(a))\n",
    "\n",
    "def geo_mean_overflow(iterable):\n",
    "    return np.exp(np.log(iterable).mean())"
   ]
  },
  {
   "cell_type": "code",
   "execution_count": 40,
   "id": "adf932ba-0916-4b18-82bb-0a6286bd5468",
   "metadata": {},
   "outputs": [],
   "source": [
    "def clean_inf(array):\n",
    "    array[np.isinf(array)] = np.nan\n",
    "    return array"
   ]
  },
  {
   "cell_type": "code",
   "execution_count": 41,
   "id": "6a7ac521-3126-4f22-9e4d-065f2eb57079",
   "metadata": {},
   "outputs": [],
   "source": [
    "#MAPE\n",
    "def calc_mape(df, fc_col, ac_col, benchmark_col=None):\n",
    "    a = df[ac_col].values\n",
    "    f = df[fc_col].values\n",
    "    abs_err = np.abs(a-f)\n",
    "    ape = clean_inf(abs_err/a)\n",
    "    return np.nanmean(ape)\n",
    "\n",
    "#WAPE\n",
    "def calc_wape(df, fc_col, ac_col, benchmark_col=None):\n",
    "    a = df[ac_col].values\n",
    "    f = df[fc_col].values\n",
    "    abs_err = np.abs(a-f)\n",
    "    return np.sum(abs_err)/np.sum(np.abs(a))\n",
    "\n",
    "#sMAPE\n",
    "def calc_smape(df, fc_col, ac_col, benchmark_col=None):\n",
    "    a = df[ac_col].values\n",
    "    f = df[fc_col].values\n",
    "    abs_err = np.abs(a-f)\n",
    "    ape = 2*abs_err/(a+f)\n",
    "    return np.mean(ape)\n",
    "\n",
    "#MAE\n",
    "def calc_mae(df, fc_col, ac_col, benchmark_col=None):\n",
    "    a = df[ac_col].values\n",
    "    f = df[fc_col].values\n",
    "    abs_err = np.abs(a-f)\n",
    "    return np.mean(abs_err)\n",
    "\n",
    "#MdAE\n",
    "def calc_mdae(df, fc_col, ac_col, benchmark_col=None):\n",
    "    a = df[ac_col].values\n",
    "    f = df[fc_col].values\n",
    "    abs_err = np.abs(a-f)\n",
    "    return np.median(abs_err)\n",
    "\n",
    "#GMAE\n",
    "def calc_gmae(df, fc_col, ac_col, benchmark_col=None):\n",
    "    a = df[ac_col].values\n",
    "    f = df[fc_col].values\n",
    "    abs_err = np.abs(a-f)\n",
    "    return geo_mean(abs_err)\n",
    "\n",
    "#MSE\n",
    "def calc_mse(df, fc_col, ac_col, benchmark_col=None):\n",
    "    a = df[ac_col].values\n",
    "    f = df[fc_col].values\n",
    "    sq_err = np.power(np.abs(a-f),2)\n",
    "    return np.mean(sq_err)\n",
    "\n",
    "\n",
    "#RMSE\n",
    "def calc_rmse(df, fc_col, ac_col, benchmark_col=None):\n",
    "    a = df[ac_col].values\n",
    "    f = df[fc_col].values\n",
    "    sq_err = np.power(np.abs(a-f),2)\n",
    "    return np.sqrt(np.mean(sq_err))\n",
    "\n",
    "#MRAE\n",
    "def calc_mrae(df, fc_col, ac_col, benchmark_col):\n",
    "    a = df[ac_col].values\n",
    "    f = df[fc_col].values\n",
    "    f_star = df[benchmark_col].values\n",
    "    abs_err = np.abs(a-f)\n",
    "    ape = clean_inf(abs_err/np.abs((a-f_star)))\n",
    "    return np.nanmean(ape)\n",
    "\n",
    "#GMRAE\n",
    "def calc_gmrae(df, fc_col, ac_col, benchmark_col):\n",
    "    a = df[ac_col].values\n",
    "    f = df[fc_col].values\n",
    "    f_star = df[benchmark_col].values\n",
    "    abs_err = np.abs(a-f)\n",
    "    ape = clean_inf(abs_err/np.abs((a-f_star)))\n",
    "    return geo_mean(ape)\n",
    "\n",
    "#MdRAE\n",
    "def calc_mdrae(df, fc_col, ac_col, benchmark_col):\n",
    "    a = df[ac_col].values\n",
    "    f = df[fc_col].values\n",
    "    f_star = df[benchmark_col].values\n",
    "    abs_err = np.abs(a-f)\n",
    "    ape = clean_inf(abs_err/np.abs((a-f_star)))\n",
    "    return np.nanmedian(ape)\n",
    "\n",
    "# #MASE\n",
    "# def calc_mase(df, fc_col, ac_col, benchmark_col):\n",
    "#     a = df[ac_col].values[1:]\n",
    "#     f = df[fc_col].values[1:]\n",
    "#     f_star = df[ac_col].shift(1).values[1:]\n",
    "#     abs_err = np.abs(a-f)\n",
    "#     ape = abs_err/np.mean(np.abs(a-f_star))\n",
    "#     return np.mean(ape)\n",
    "\n",
    "# # RMSSE\n",
    "# def calc_rmsse(df, fc_col, ac_col):\n",
    "#     a = df[ac_col].values[1:]\n",
    "#     f = df[fc_col].values[1:]\n",
    "#     f_star = df[ac_col].shift(1).values[1:]\n",
    "#     sq_err = np.square(a-f)\n",
    "#     scale = np.mean(np.square(a-f_star))\n",
    "#     return np.sqrt(np.mean(sq_err/scale))\n",
    "\n",
    "#RelMAE\n",
    "def calc_rmae(df, fc_col, ac_col, benchmark_col):\n",
    "    a = df[ac_col].values\n",
    "    f = df[fc_col].values\n",
    "    f_star = df[benchmark_col].values\n",
    "    abs_err = np.abs(a-f)\n",
    "    abs_err_star = np.abs(a-f_star)\n",
    "    return np.mean(abs_err)/np.mean(abs_err_star)\n",
    "\n",
    "#RelRMSE\n",
    "def calc_rrmse(df, fc_col, ac_col, benchmark_col):\n",
    "    a = df[ac_col].values\n",
    "    f = df[fc_col].values\n",
    "    f_star = df[benchmark_col].values\n",
    "    sq_err = np.square(a-f)\n",
    "    sq_err_star = np.square(a-f_star)\n",
    "    return np.sqrt(np.mean(sq_err))/np.sqrt(np.mean(sq_err_star))\n",
    "\n",
    "#RelMAPE\n",
    "def calc_rmape(df, fc_col, ac_col, benchmark_col):\n",
    "    a = df[ac_col].values\n",
    "    f = df[fc_col].values\n",
    "    f_star = df[benchmark_col].values\n",
    "    perc_err = clean_inf(np.abs(a-f)/a)\n",
    "    perc_err_star = clean_inf(np.abs(a-f_star)/a)\n",
    "    return np.nanmean(perc_err)/np.nanmean(perc_err_star)\n",
    "\n",
    "#CFE\n",
    "def calc_cfe(df, fc_col, ac_col, benchmark_col=None):\n",
    "    a = df[ac_col].values\n",
    "    f = df[fc_col].values\n",
    "    err = a-f\n",
    "    return np.sum(err)\n",
    "\n",
    "#FB\n",
    "def calc_fb(df, fc_col, ac_col, benchmark_col=None):\n",
    "    a = df[ac_col].values\n",
    "    f = df[fc_col].values\n",
    "    err = a-f\n",
    "    return np.sum(err)/np.sum(a)\n",
    "\n",
    "#PB\n",
    "def calc_pbmae(df, fc_col, ac_col, benchmark_col=None):\n",
    "    a = df[ac_col].values\n",
    "    f = df[fc_col].values\n",
    "    f_star = df[benchmark_col].values\n",
    "    abs_err = np.abs(a-f)\n",
    "    abs_err_star = np.abs(a-f_star)\n",
    "    # mae_star = np.mean(abs_err_star)\n",
    "    # mae = np.mean(abs_err)\n",
    "    mask = abs_err<abs_err_star\n",
    "    return np.sum(mask)/len(mask)"
   ]
  },
  {
   "cell_type": "markdown",
   "id": "9d138a1c-2b73-425d-9d22-b9fce2c5260d",
   "metadata": {},
   "source": [
    "## Calculating Item-Level Metrics"
   ]
  },
  {
   "cell_type": "code",
   "execution_count": 42,
   "id": "565d2a4c-9086-4106-8d94-46381bb67328",
   "metadata": {},
   "outputs": [],
   "source": [
    "fns = {\n",
    "    \"MAPE\": calc_mape,\n",
    "    \"WAPE\": calc_wape,\n",
    "    \"sMAPE\": calc_smape,\n",
    "    \"MAE\": calc_mae,\n",
    "    \"MdAE\" : calc_mdae,\n",
    "    # \"GMAE\": calc_gmae,\n",
    "    \"MSE\": calc_mse,\n",
    "    \"RMSE\": calc_rmse,\n",
    "    \"MRAE\": calc_mrae,\n",
    "    # \"GMRAE\": calc_gmrae,\n",
    "    # \"RMSSE\": calc_rmsse,\n",
    "    \"RelMAE\": calc_rmae,\n",
    "    \"RelRMSE\": calc_rrmse,\n",
    "    \"RelMAPE\": calc_rmape,\n",
    "    \"CFE\": calc_cfe,\n",
    "    \"FB\" : calc_fb,\n",
    "    \"PB(MAE)\": calc_pbmae\n",
    "}\n",
    "\n",
    "fcs = metric_df.reset_index()[\"Algorithm\"].unique()"
   ]
  },
  {
   "cell_type": "code",
   "execution_count": 43,
   "id": "b420613b-f632-438a-9309-db81d2b1a327",
   "metadata": {},
   "outputs": [
    {
     "data": {
      "application/vnd.jupyter.widget-view+json": {
       "model_id": "4e9a00cc78e7470487fc44ab89feff4f",
       "version_major": 2,
       "version_minor": 0
      },
      "text/plain": [
       "  0%|          | 0/150 [00:00<?, ?it/s]"
      ]
     },
     "metadata": {},
     "output_type": "display_data"
    },
    {
     "name": "stderr",
     "output_type": "stream",
     "text": [
      "C:\\Users\\ManuJoseph\\AppData\\Local\\Temp\\ipykernel_56272\\1128455912.py:66: RuntimeWarning: divide by zero encountered in true_divide\n",
      "  ape = clean_inf(abs_err/np.abs((a-f_star)))\n",
      "C:\\Users\\ManuJoseph\\AppData\\Local\\Temp\\ipykernel_56272\\1128455912.py:66: RuntimeWarning: divide by zero encountered in true_divide\n",
      "  ape = clean_inf(abs_err/np.abs((a-f_star)))\n",
      "C:\\Users\\ManuJoseph\\AppData\\Local\\Temp\\ipykernel_56272\\1128455912.py:66: RuntimeWarning: divide by zero encountered in true_divide\n",
      "  ape = clean_inf(abs_err/np.abs((a-f_star)))\n",
      "C:\\Users\\ManuJoseph\\AppData\\Local\\Temp\\ipykernel_56272\\1128455912.py:6: RuntimeWarning: divide by zero encountered in true_divide\n",
      "  ape = clean_inf(abs_err/a)\n",
      "C:\\Users\\ManuJoseph\\AppData\\Local\\Temp\\ipykernel_56272\\1128455912.py:128: RuntimeWarning: divide by zero encountered in true_divide\n",
      "  perc_err = clean_inf(np.abs(a-f)/a)\n",
      "C:\\Users\\ManuJoseph\\AppData\\Local\\Temp\\ipykernel_56272\\1128455912.py:129: RuntimeWarning: divide by zero encountered in true_divide\n",
      "  perc_err_star = clean_inf(np.abs(a-f_star)/a)\n",
      "C:\\Users\\ManuJoseph\\AppData\\Local\\Temp\\ipykernel_56272\\1128455912.py:66: RuntimeWarning: invalid value encountered in true_divide\n",
      "  ape = clean_inf(abs_err/np.abs((a-f_star)))\n",
      "C:\\Users\\ManuJoseph\\AppData\\Local\\Temp\\ipykernel_56272\\1128455912.py:6: RuntimeWarning: invalid value encountered in true_divide\n",
      "  ape = clean_inf(abs_err/a)\n",
      "C:\\Users\\ManuJoseph\\AppData\\Local\\Temp\\ipykernel_56272\\1128455912.py:21: RuntimeWarning: invalid value encountered in true_divide\n",
      "  ape = 2*abs_err/(a+f)\n",
      "C:\\Users\\ManuJoseph\\AppData\\Local\\Temp\\ipykernel_56272\\1128455912.py:128: RuntimeWarning: invalid value encountered in true_divide\n",
      "  perc_err = clean_inf(np.abs(a-f)/a)\n"
     ]
    }
   ],
   "source": [
    "for lcl_id in tqdm(lcl_ids):\n",
    "    df = pivot_df.xs(lcl_id)\n",
    "    for metric, fn in fns.items():\n",
    "        for fc in fcs:\n",
    "            metric_df.loc[(lcl_id,fc), metric] = fn(df, fc, \"energy_consumption\", \"Naive\")"
   ]
  },
  {
   "cell_type": "code",
   "execution_count": 44,
   "id": "4da26620-b6b4-442a-b960-6ce892eb842f",
   "metadata": {},
   "outputs": [
    {
     "data": {
      "text/html": [
       "<div>\n",
       "<style scoped>\n",
       "    .dataframe tbody tr th:only-of-type {\n",
       "        vertical-align: middle;\n",
       "    }\n",
       "\n",
       "    .dataframe tbody tr th {\n",
       "        vertical-align: top;\n",
       "    }\n",
       "\n",
       "    .dataframe thead th {\n",
       "        text-align: right;\n",
       "    }\n",
       "</style>\n",
       "<table border=\"1\" class=\"dataframe\">\n",
       "  <thead>\n",
       "    <tr style=\"text-align: right;\">\n",
       "      <th></th>\n",
       "      <th></th>\n",
       "      <th>MASE</th>\n",
       "      <th>RMSSE</th>\n",
       "      <th>MAPE</th>\n",
       "      <th>WAPE</th>\n",
       "      <th>sMAPE</th>\n",
       "      <th>MAE</th>\n",
       "      <th>MdAE</th>\n",
       "      <th>MSE</th>\n",
       "      <th>RMSE</th>\n",
       "      <th>MRAE</th>\n",
       "      <th>RelMAE</th>\n",
       "      <th>RelRMSE</th>\n",
       "      <th>RelMAPE</th>\n",
       "      <th>CFE</th>\n",
       "      <th>FB</th>\n",
       "      <th>PB(MAE)</th>\n",
       "    </tr>\n",
       "    <tr>\n",
       "      <th>LCLid</th>\n",
       "      <th>Algorithm</th>\n",
       "      <th></th>\n",
       "      <th></th>\n",
       "      <th></th>\n",
       "      <th></th>\n",
       "      <th></th>\n",
       "      <th></th>\n",
       "      <th></th>\n",
       "      <th></th>\n",
       "      <th></th>\n",
       "      <th></th>\n",
       "      <th></th>\n",
       "      <th></th>\n",
       "      <th></th>\n",
       "      <th></th>\n",
       "      <th></th>\n",
       "      <th></th>\n",
       "    </tr>\n",
       "  </thead>\n",
       "  <tbody>\n",
       "    <tr>\n",
       "      <th>MAC000061</th>\n",
       "      <th>SeasonalNaive</th>\n",
       "      <td>1.897168</td>\n",
       "      <td>1.529994</td>\n",
       "      <td>0.951624</td>\n",
       "      <td>0.530025</td>\n",
       "      <td>0.541489</td>\n",
       "      <td>0.066293</td>\n",
       "      <td>0.040000</td>\n",
       "      <td>0.009415</td>\n",
       "      <td>0.097029</td>\n",
       "      <td>2.773427</td>\n",
       "      <td>0.734439</td>\n",
       "      <td>0.915535</td>\n",
       "      <td>0.451851</td>\n",
       "      <td>-7.448000</td>\n",
       "      <td>-0.040019</td>\n",
       "      <td>0.605511</td>\n",
       "    </tr>\n",
       "    <tr>\n",
       "      <th>MAC000062</th>\n",
       "      <th>SeasonalNaive</th>\n",
       "      <td>1.528590</td>\n",
       "      <td>1.730176</td>\n",
       "      <td>0.417136</td>\n",
       "      <td>0.428145</td>\n",
       "      <td>0.326829</td>\n",
       "      <td>0.115088</td>\n",
       "      <td>0.053000</td>\n",
       "      <td>0.054056</td>\n",
       "      <td>0.232500</td>\n",
       "      <td>0.694436</td>\n",
       "      <td>0.398607</td>\n",
       "      <td>0.745419</td>\n",
       "      <td>0.319750</td>\n",
       "      <td>-20.757000</td>\n",
       "      <td>-0.051895</td>\n",
       "      <td>0.878360</td>\n",
       "    </tr>\n",
       "    <tr>\n",
       "      <th>MAC000066</th>\n",
       "      <th>SeasonalNaive</th>\n",
       "      <td>2.023330</td>\n",
       "      <td>1.585089</td>\n",
       "      <td>0.863568</td>\n",
       "      <td>0.483872</td>\n",
       "      <td>0.441342</td>\n",
       "      <td>0.078139</td>\n",
       "      <td>0.038000</td>\n",
       "      <td>0.021352</td>\n",
       "      <td>0.146122</td>\n",
       "      <td>2.311459</td>\n",
       "      <td>1.065153</td>\n",
       "      <td>1.093385</td>\n",
       "      <td>1.035467</td>\n",
       "      <td>-30.640999</td>\n",
       "      <td>-0.127515</td>\n",
       "      <td>0.551075</td>\n",
       "    </tr>\n",
       "    <tr>\n",
       "      <th>MAC000086</th>\n",
       "      <th>SeasonalNaive</th>\n",
       "      <td>1.836727</td>\n",
       "      <td>1.475517</td>\n",
       "      <td>1.791734</td>\n",
       "      <td>0.905448</td>\n",
       "      <td>0.810602</td>\n",
       "      <td>0.157860</td>\n",
       "      <td>0.108500</td>\n",
       "      <td>0.048209</td>\n",
       "      <td>0.219566</td>\n",
       "      <td>6.704939</td>\n",
       "      <td>1.070380</td>\n",
       "      <td>1.009558</td>\n",
       "      <td>2.702580</td>\n",
       "      <td>-26.433000</td>\n",
       "      <td>-0.101891</td>\n",
       "      <td>0.557796</td>\n",
       "    </tr>\n",
       "    <tr>\n",
       "      <th>MAC000126</th>\n",
       "      <th>SeasonalNaive</th>\n",
       "      <td>1.878985</td>\n",
       "      <td>1.795475</td>\n",
       "      <td>1.922482</td>\n",
       "      <td>0.970257</td>\n",
       "      <td>0.777872</td>\n",
       "      <td>0.123932</td>\n",
       "      <td>0.047000</td>\n",
       "      <td>0.059956</td>\n",
       "      <td>0.244860</td>\n",
       "      <td>2.075620</td>\n",
       "      <td>0.802778</td>\n",
       "      <td>1.271487</td>\n",
       "      <td>0.410881</td>\n",
       "      <td>-8.808999</td>\n",
       "      <td>-0.046348</td>\n",
       "      <td>0.706989</td>\n",
       "    </tr>\n",
       "    <tr>\n",
       "      <th>...</th>\n",
       "      <th>...</th>\n",
       "      <td>...</td>\n",
       "      <td>...</td>\n",
       "      <td>...</td>\n",
       "      <td>...</td>\n",
       "      <td>...</td>\n",
       "      <td>...</td>\n",
       "      <td>...</td>\n",
       "      <td>...</td>\n",
       "      <td>...</td>\n",
       "      <td>...</td>\n",
       "      <td>...</td>\n",
       "      <td>...</td>\n",
       "      <td>...</td>\n",
       "      <td>...</td>\n",
       "      <td>...</td>\n",
       "      <td>...</td>\n",
       "    </tr>\n",
       "    <tr>\n",
       "      <th>MAC005336</th>\n",
       "      <th>ETS</th>\n",
       "      <td>2.916418</td>\n",
       "      <td>1.809797</td>\n",
       "      <td>1.691181</td>\n",
       "      <td>0.638176</td>\n",
       "      <td>0.773611</td>\n",
       "      <td>0.260747</td>\n",
       "      <td>0.112325</td>\n",
       "      <td>0.211541</td>\n",
       "      <td>0.459935</td>\n",
       "      <td>1.046477</td>\n",
       "      <td>0.686529</td>\n",
       "      <td>0.620530</td>\n",
       "      <td>1.033327</td>\n",
       "      <td>206.980151</td>\n",
       "      <td>0.340445</td>\n",
       "      <td>0.569220</td>\n",
       "    </tr>\n",
       "    <tr>\n",
       "      <th>MAC005375</th>\n",
       "      <th>ETS</th>\n",
       "      <td>4.412716</td>\n",
       "      <td>2.799472</td>\n",
       "      <td>0.867657</td>\n",
       "      <td>0.889136</td>\n",
       "      <td>1.710135</td>\n",
       "      <td>0.241380</td>\n",
       "      <td>0.153995</td>\n",
       "      <td>0.136372</td>\n",
       "      <td>0.369285</td>\n",
       "      <td>2.439134</td>\n",
       "      <td>1.168561</td>\n",
       "      <td>1.060955</td>\n",
       "      <td>1.436400</td>\n",
       "      <td>354.501549</td>\n",
       "      <td>0.877570</td>\n",
       "      <td>0.241935</td>\n",
       "    </tr>\n",
       "    <tr>\n",
       "      <th>MAC005463</th>\n",
       "      <th>ETS</th>\n",
       "      <td>3.659451</td>\n",
       "      <td>1.860985</td>\n",
       "      <td>4.817678</td>\n",
       "      <td>1.792612</td>\n",
       "      <td>1.150070</td>\n",
       "      <td>0.206756</td>\n",
       "      <td>0.203729</td>\n",
       "      <td>0.050053</td>\n",
       "      <td>0.223724</td>\n",
       "      <td>1.941704</td>\n",
       "      <td>1.124312</td>\n",
       "      <td>1.099837</td>\n",
       "      <td>1.060664</td>\n",
       "      <td>-273.806698</td>\n",
       "      <td>-1.595396</td>\n",
       "      <td>0.467070</td>\n",
       "    </tr>\n",
       "    <tr>\n",
       "      <th>MAC005521</th>\n",
       "      <th>ETS</th>\n",
       "      <td>1.459234</td>\n",
       "      <td>1.129159</td>\n",
       "      <td>1.779270</td>\n",
       "      <td>0.919715</td>\n",
       "      <td>0.830015</td>\n",
       "      <td>0.188448</td>\n",
       "      <td>0.120176</td>\n",
       "      <td>0.159460</td>\n",
       "      <td>0.399324</td>\n",
       "      <td>0.895969</td>\n",
       "      <td>0.701749</td>\n",
       "      <td>0.944136</td>\n",
       "      <td>0.532499</td>\n",
       "      <td>-15.881605</td>\n",
       "      <td>-0.052090</td>\n",
       "      <td>0.829973</td>\n",
       "    </tr>\n",
       "    <tr>\n",
       "      <th>MAC005529</th>\n",
       "      <th>ETS</th>\n",
       "      <td>4.502382</td>\n",
       "      <td>1.809946</td>\n",
       "      <td>12.476100</td>\n",
       "      <td>1.406965</td>\n",
       "      <td>1.118343</td>\n",
       "      <td>0.242940</td>\n",
       "      <td>0.293039</td>\n",
       "      <td>0.081895</td>\n",
       "      <td>0.286173</td>\n",
       "      <td>1.850644</td>\n",
       "      <td>0.917541</td>\n",
       "      <td>0.918178</td>\n",
       "      <td>0.866894</td>\n",
       "      <td>-322.683170</td>\n",
       "      <td>-1.255908</td>\n",
       "      <td>0.659946</td>\n",
       "    </tr>\n",
       "  </tbody>\n",
       "</table>\n",
       "<p>750 rows × 16 columns</p>\n",
       "</div>"
      ],
      "text/plain": [
       "                             MASE     RMSSE       MAPE      WAPE     sMAPE  \\\n",
       "LCLid     Algorithm                                                          \n",
       "MAC000061 SeasonalNaive  1.897168  1.529994   0.951624  0.530025  0.541489   \n",
       "MAC000062 SeasonalNaive  1.528590  1.730176   0.417136  0.428145  0.326829   \n",
       "MAC000066 SeasonalNaive  2.023330  1.585089   0.863568  0.483872  0.441342   \n",
       "MAC000086 SeasonalNaive  1.836727  1.475517   1.791734  0.905448  0.810602   \n",
       "MAC000126 SeasonalNaive  1.878985  1.795475   1.922482  0.970257  0.777872   \n",
       "...                           ...       ...        ...       ...       ...   \n",
       "MAC005336 ETS            2.916418  1.809797   1.691181  0.638176  0.773611   \n",
       "MAC005375 ETS            4.412716  2.799472   0.867657  0.889136  1.710135   \n",
       "MAC005463 ETS            3.659451  1.860985   4.817678  1.792612  1.150070   \n",
       "MAC005521 ETS            1.459234  1.129159   1.779270  0.919715  0.830015   \n",
       "MAC005529 ETS            4.502382  1.809946  12.476100  1.406965  1.118343   \n",
       "\n",
       "                              MAE      MdAE       MSE      RMSE      MRAE  \\\n",
       "LCLid     Algorithm                                                         \n",
       "MAC000061 SeasonalNaive  0.066293  0.040000  0.009415  0.097029  2.773427   \n",
       "MAC000062 SeasonalNaive  0.115088  0.053000  0.054056  0.232500  0.694436   \n",
       "MAC000066 SeasonalNaive  0.078139  0.038000  0.021352  0.146122  2.311459   \n",
       "MAC000086 SeasonalNaive  0.157860  0.108500  0.048209  0.219566  6.704939   \n",
       "MAC000126 SeasonalNaive  0.123932  0.047000  0.059956  0.244860  2.075620   \n",
       "...                           ...       ...       ...       ...       ...   \n",
       "MAC005336 ETS            0.260747  0.112325  0.211541  0.459935  1.046477   \n",
       "MAC005375 ETS            0.241380  0.153995  0.136372  0.369285  2.439134   \n",
       "MAC005463 ETS            0.206756  0.203729  0.050053  0.223724  1.941704   \n",
       "MAC005521 ETS            0.188448  0.120176  0.159460  0.399324  0.895969   \n",
       "MAC005529 ETS            0.242940  0.293039  0.081895  0.286173  1.850644   \n",
       "\n",
       "                           RelMAE   RelRMSE   RelMAPE         CFE        FB  \\\n",
       "LCLid     Algorithm                                                           \n",
       "MAC000061 SeasonalNaive  0.734439  0.915535  0.451851   -7.448000 -0.040019   \n",
       "MAC000062 SeasonalNaive  0.398607  0.745419  0.319750  -20.757000 -0.051895   \n",
       "MAC000066 SeasonalNaive  1.065153  1.093385  1.035467  -30.640999 -0.127515   \n",
       "MAC000086 SeasonalNaive  1.070380  1.009558  2.702580  -26.433000 -0.101891   \n",
       "MAC000126 SeasonalNaive  0.802778  1.271487  0.410881   -8.808999 -0.046348   \n",
       "...                           ...       ...       ...         ...       ...   \n",
       "MAC005336 ETS            0.686529  0.620530  1.033327  206.980151  0.340445   \n",
       "MAC005375 ETS            1.168561  1.060955  1.436400  354.501549  0.877570   \n",
       "MAC005463 ETS            1.124312  1.099837  1.060664 -273.806698 -1.595396   \n",
       "MAC005521 ETS            0.701749  0.944136  0.532499  -15.881605 -0.052090   \n",
       "MAC005529 ETS            0.917541  0.918178  0.866894 -322.683170 -1.255908   \n",
       "\n",
       "                          PB(MAE)  \n",
       "LCLid     Algorithm                \n",
       "MAC000061 SeasonalNaive  0.605511  \n",
       "MAC000062 SeasonalNaive  0.878360  \n",
       "MAC000066 SeasonalNaive  0.551075  \n",
       "MAC000086 SeasonalNaive  0.557796  \n",
       "MAC000126 SeasonalNaive  0.706989  \n",
       "...                           ...  \n",
       "MAC005336 ETS            0.569220  \n",
       "MAC005375 ETS            0.241935  \n",
       "MAC005463 ETS            0.467070  \n",
       "MAC005521 ETS            0.829973  \n",
       "MAC005529 ETS            0.659946  \n",
       "\n",
       "[750 rows x 16 columns]"
      ]
     },
     "execution_count": 44,
     "metadata": {},
     "output_type": "execute_result"
    }
   ],
   "source": [
    "metric_df"
   ]
  },
  {
   "cell_type": "markdown",
   "id": "03ee2a52-a4e2-440c-91ba-f987cf42b7c4",
   "metadata": {},
   "source": [
    "## Calculating Aggregate Metrics"
   ]
  },
  {
   "cell_type": "code",
   "execution_count": 197,
   "id": "dcf02627-6e28-46bc-96b6-ca5324785c4f",
   "metadata": {
    "tags": []
   },
   "outputs": [],
   "source": [
    "def calc_nd(df, fc_col, ac_col, benchmark_col=None):\n",
    "    a = df[ac_col].values\n",
    "    f = df[fc_col].values\n",
    "    abs_err = np.abs(a-f)\n",
    "    return np.sum(abs_err)/np.sum(np.abs(a))\n",
    "\n",
    "def calc_nrmse(df, fc_col, ac_col, benchmark_col=None):\n",
    "    a = df[ac_col].values\n",
    "    f = df[fc_col].values\n",
    "    sq_err = np.square(a-f)\n",
    "    return np.sum(sq_err)/np.sum(np.square(a))\n",
    "\n",
    "def calc_forecast_bias(df, fc_col, ac_col, benchmark_col=None):\n",
    "    a = df[ac_col].values\n",
    "    f = df[fc_col].values\n",
    "    err = a-f\n",
    "    return np.sum(err)/np.sum(a)"
   ]
  },
  {
   "cell_type": "code",
   "execution_count": 198,
   "id": "1207d4fe-0a10-484f-a7dc-6875f798e436",
   "metadata": {},
   "outputs": [],
   "source": [
    "agg_metrics = []\n",
    "for fc in fcs:\n",
    "    met_dict = {\n",
    "        \"Algorithm\": fc,\n",
    "        \"meanMASE\": metric_df.xs(fc, level=1)[\"MASE\"].mean(), \n",
    "        \"meanRMSSE\": metric_df.xs(fc, level=1)[\"RMSSE\"].mean(), \n",
    "        \"meanWAPE\":  metric_df.xs(fc, level=1)[\"WAPE\"].mean(),\n",
    "        \"meanMRAE\": metric_df.xs(fc, level=1)[\"MRAE\"].mean(),\n",
    "        \"AvgRelRMSE\": geo_mean(clean_inf(metric_df.xs(fc, level=1)[\"RelRMSE\"].values)),\n",
    "        \"ND\": calc_nd(pivot_df, fc_col = fc, ac_col=\"energy_consumption\"),\n",
    "        \"NRMSE\": calc_nrmse(pivot_df, fc_col = fc, ac_col=\"energy_consumption\"),\n",
    "        \"Forecast Bias\": calc_forecast_bias(pivot_df, fc_col = fc, ac_col=\"energy_consumption\"),\n",
    "    }\n",
    "    agg_metrics.append(met_dict)"
   ]
  },
  {
   "cell_type": "code",
   "execution_count": 199,
   "id": "8d539bfd-5555-4ec6-8328-11c86c3d64a4",
   "metadata": {},
   "outputs": [
    {
     "data": {
      "text/html": [
       "<div>\n",
       "<style scoped>\n",
       "    .dataframe tbody tr th:only-of-type {\n",
       "        vertical-align: middle;\n",
       "    }\n",
       "\n",
       "    .dataframe tbody tr th {\n",
       "        vertical-align: top;\n",
       "    }\n",
       "\n",
       "    .dataframe thead th {\n",
       "        text-align: right;\n",
       "    }\n",
       "</style>\n",
       "<table border=\"1\" class=\"dataframe\">\n",
       "  <thead>\n",
       "    <tr style=\"text-align: right;\">\n",
       "      <th></th>\n",
       "      <th>Algorithm</th>\n",
       "      <th>meanMASE</th>\n",
       "      <th>meanRMSSE</th>\n",
       "      <th>meanWAPE</th>\n",
       "      <th>meanMRAE</th>\n",
       "      <th>AvgRelRMSE</th>\n",
       "      <th>ND</th>\n",
       "      <th>NRMSE</th>\n",
       "      <th>Forecast Bias</th>\n",
       "    </tr>\n",
       "  </thead>\n",
       "  <tbody>\n",
       "    <tr>\n",
       "      <th>0</th>\n",
       "      <td>SeasonalNaive</td>\n",
       "      <td>1.875866</td>\n",
       "      <td>1.562892</td>\n",
       "      <td>0.672265</td>\n",
       "      <td>3.401273</td>\n",
       "      <td>0.000000</td>\n",
       "      <td>0.667409</td>\n",
       "      <td>0.615014</td>\n",
       "      <td>0.008958</td>\n",
       "    </tr>\n",
       "    <tr>\n",
       "      <th>1</th>\n",
       "      <td>Theta</td>\n",
       "      <td>2.025960</td>\n",
       "      <td>1.350071</td>\n",
       "      <td>0.709430</td>\n",
       "      <td>3.230300</td>\n",
       "      <td>0.844399</td>\n",
       "      <td>0.683573</td>\n",
       "      <td>0.480506</td>\n",
       "      <td>-0.019637</td>\n",
       "    </tr>\n",
       "    <tr>\n",
       "      <th>2</th>\n",
       "      <td>FFT</td>\n",
       "      <td>1.639406</td>\n",
       "      <td>1.205949</td>\n",
       "      <td>0.565284</td>\n",
       "      <td>3.447706</td>\n",
       "      <td>0.792171</td>\n",
       "      <td>0.550400</td>\n",
       "      <td>0.390569</td>\n",
       "      <td>0.135705</td>\n",
       "    </tr>\n",
       "    <tr>\n",
       "      <th>3</th>\n",
       "      <td>LightGBM</td>\n",
       "      <td>1.868580</td>\n",
       "      <td>1.339632</td>\n",
       "      <td>0.699452</td>\n",
       "      <td>4.711123</td>\n",
       "      <td>0.869761</td>\n",
       "      <td>0.669670</td>\n",
       "      <td>0.505878</td>\n",
       "      <td>-0.005706</td>\n",
       "    </tr>\n",
       "    <tr>\n",
       "      <th>4</th>\n",
       "      <td>ETS</td>\n",
       "      <td>2.012408</td>\n",
       "      <td>1.335142</td>\n",
       "      <td>0.703046</td>\n",
       "      <td>3.375641</td>\n",
       "      <td>0.754607</td>\n",
       "      <td>0.683709</td>\n",
       "      <td>0.471532</td>\n",
       "      <td>-0.007773</td>\n",
       "    </tr>\n",
       "  </tbody>\n",
       "</table>\n",
       "</div>"
      ],
      "text/plain": [
       "       Algorithm  meanMASE  meanRMSSE  meanWAPE  meanMRAE  AvgRelRMSE  \\\n",
       "0  SeasonalNaive  1.875866   1.562892  0.672265  3.401273    0.000000   \n",
       "1          Theta  2.025960   1.350071  0.709430  3.230300    0.844399   \n",
       "2            FFT  1.639406   1.205949  0.565284  3.447706    0.792171   \n",
       "3       LightGBM  1.868580   1.339632  0.699452  4.711123    0.869761   \n",
       "4            ETS  2.012408   1.335142  0.703046  3.375641    0.754607   \n",
       "\n",
       "         ND     NRMSE  Forecast Bias  \n",
       "0  0.667409  0.615014       0.008958  \n",
       "1  0.683573  0.480506      -0.019637  \n",
       "2  0.550400  0.390569       0.135705  \n",
       "3  0.669670  0.505878      -0.005706  \n",
       "4  0.683709  0.471532      -0.007773  "
      ]
     },
     "execution_count": 199,
     "metadata": {},
     "output_type": "execute_result"
    }
   ],
   "source": [
    "agg_metrics_df = pd.DataFrame(agg_metrics)\n",
    "agg_metrics_df"
   ]
  },
  {
   "cell_type": "markdown",
   "id": "9b7486c6-f97d-4dc4-956b-7bda3adaaf77",
   "metadata": {},
   "source": [
    "## Ranking and Plotting Aggregate Metrics"
   ]
  },
  {
   "cell_type": "code",
   "execution_count": 200,
   "id": "6d1ec702-5ff0-426e-a282-f67397ea6b68",
   "metadata": {},
   "outputs": [
    {
     "data": {
      "text/html": [
       "<div>\n",
       "<style scoped>\n",
       "    .dataframe tbody tr th:only-of-type {\n",
       "        vertical-align: middle;\n",
       "    }\n",
       "\n",
       "    .dataframe tbody tr th {\n",
       "        vertical-align: top;\n",
       "    }\n",
       "\n",
       "    .dataframe thead th {\n",
       "        text-align: right;\n",
       "    }\n",
       "</style>\n",
       "<table border=\"1\" class=\"dataframe\">\n",
       "  <thead>\n",
       "    <tr style=\"text-align: right;\">\n",
       "      <th></th>\n",
       "      <th>Algorithm</th>\n",
       "      <th>meanMASE</th>\n",
       "      <th>meanRMSSE</th>\n",
       "      <th>meanWAPE</th>\n",
       "      <th>meanMRAE</th>\n",
       "      <th>AvgRelRMSE</th>\n",
       "      <th>ND</th>\n",
       "      <th>NRMSE</th>\n",
       "      <th>Forecast Bias</th>\n",
       "    </tr>\n",
       "  </thead>\n",
       "  <tbody>\n",
       "    <tr>\n",
       "      <th>0</th>\n",
       "      <td>SeasonalNaive</td>\n",
       "      <td>3.0</td>\n",
       "      <td>5.0</td>\n",
       "      <td>2.0</td>\n",
       "      <td>3.0</td>\n",
       "      <td>1.0</td>\n",
       "      <td>2.0</td>\n",
       "      <td>5.0</td>\n",
       "      <td>4.0</td>\n",
       "    </tr>\n",
       "    <tr>\n",
       "      <th>1</th>\n",
       "      <td>Theta</td>\n",
       "      <td>5.0</td>\n",
       "      <td>4.0</td>\n",
       "      <td>5.0</td>\n",
       "      <td>1.0</td>\n",
       "      <td>4.0</td>\n",
       "      <td>4.0</td>\n",
       "      <td>3.0</td>\n",
       "      <td>1.0</td>\n",
       "    </tr>\n",
       "    <tr>\n",
       "      <th>2</th>\n",
       "      <td>FFT</td>\n",
       "      <td>1.0</td>\n",
       "      <td>1.0</td>\n",
       "      <td>1.0</td>\n",
       "      <td>4.0</td>\n",
       "      <td>3.0</td>\n",
       "      <td>1.0</td>\n",
       "      <td>1.0</td>\n",
       "      <td>5.0</td>\n",
       "    </tr>\n",
       "    <tr>\n",
       "      <th>3</th>\n",
       "      <td>LightGBM</td>\n",
       "      <td>2.0</td>\n",
       "      <td>3.0</td>\n",
       "      <td>3.0</td>\n",
       "      <td>5.0</td>\n",
       "      <td>5.0</td>\n",
       "      <td>3.0</td>\n",
       "      <td>4.0</td>\n",
       "      <td>3.0</td>\n",
       "    </tr>\n",
       "    <tr>\n",
       "      <th>4</th>\n",
       "      <td>ETS</td>\n",
       "      <td>4.0</td>\n",
       "      <td>2.0</td>\n",
       "      <td>4.0</td>\n",
       "      <td>2.0</td>\n",
       "      <td>2.0</td>\n",
       "      <td>5.0</td>\n",
       "      <td>2.0</td>\n",
       "      <td>2.0</td>\n",
       "    </tr>\n",
       "  </tbody>\n",
       "</table>\n",
       "</div>"
      ],
      "text/plain": [
       "       Algorithm  meanMASE  meanRMSSE  meanWAPE  meanMRAE  AvgRelRMSE   ND  \\\n",
       "0  SeasonalNaive       3.0        5.0       2.0       3.0         1.0  2.0   \n",
       "1          Theta       5.0        4.0       5.0       1.0         4.0  4.0   \n",
       "2            FFT       1.0        1.0       1.0       4.0         3.0  1.0   \n",
       "3       LightGBM       2.0        3.0       3.0       5.0         5.0  3.0   \n",
       "4            ETS       4.0        2.0       4.0       2.0         2.0  5.0   \n",
       "\n",
       "   NRMSE  Forecast Bias  \n",
       "0    5.0            4.0  \n",
       "1    3.0            1.0  \n",
       "2    1.0            5.0  \n",
       "3    4.0            3.0  \n",
       "4    2.0            2.0  "
      ]
     },
     "execution_count": 200,
     "metadata": {},
     "output_type": "execute_result"
    }
   ],
   "source": [
    "# Ranking each algorithm based on different metrics\n",
    "rank_df = agg_metrics_df.copy()\n",
    "cols = agg_metrics_df.columns.tolist()\n",
    "cols.remove(\"Algorithm\")\n",
    "for col in cols:\n",
    "    rank_df[col] = rank_df[col].rank(ascending=True)\n",
    "rank_df.head()"
   ]
  },
  {
   "cell_type": "code",
   "execution_count": 203,
   "id": "df766961-37d3-4016-b09e-838512123b8d",
   "metadata": {},
   "outputs": [],
   "source": [
    "cols = [\"meanMASE\", \"meanWAPE\", \"ND\", \"meanRMSSE\", \"NRMSE\", \"meanMRAE\", \"Forecast Bias\",\"AvgRelRMSE\"]"
   ]
  },
  {
   "cell_type": "code",
   "execution_count": 204,
   "id": "d0433a6f-8059-4514-a208-6ac2dc88766d",
   "metadata": {
    "tags": []
   },
   "outputs": [
    {
     "data": {
      "application/vnd.plotly.v1+json": {
       "config": {
        "plotlyServerURL": "https://plot.ly"
       },
       "data": [
        {
         "colorbar": {
          "thickness": 30,
          "ticklen": 3
         },
         "colorscale": [
          [
           0,
           "rgb(165,0,38)"
          ],
          [
           0.1,
           "rgb(215,48,39)"
          ],
          [
           0.2,
           "rgb(244,109,67)"
          ],
          [
           0.3,
           "rgb(253,174,97)"
          ],
          [
           0.4,
           "rgb(254,224,139)"
          ],
          [
           0.5,
           "rgb(255,255,191)"
          ],
          [
           0.6,
           "rgb(217,239,139)"
          ],
          [
           0.7,
           "rgb(166,217,106)"
          ],
          [
           0.8,
           "rgb(102,189,99)"
          ],
          [
           0.9,
           "rgb(26,152,80)"
          ],
          [
           1,
           "rgb(0,104,55)"
          ]
         ],
         "reversescale": false,
         "showscale": true,
         "type": "heatmap",
         "x": [
          "meanMASE",
          "meanWAPE",
          "ND",
          "meanRMSSE",
          "NRMSE",
          "meanMRAE",
          "Forecast Bias",
          "AvgRelRMSE"
         ],
         "xgap": 3,
         "y": [
          "meanMASE",
          "meanWAPE",
          "ND",
          "meanRMSSE",
          "NRMSE",
          "meanMRAE",
          "Forecast Bias",
          "AvgRelRMSE"
         ],
         "ygap": 3,
         "z": [
          [
           1,
           0.9,
           0.8,
           0.5,
           0.2,
           -0.9,
           -0.9,
           -0.1
          ],
          [
           0.9,
           1,
           0.9,
           0.3,
           0.1,
           -0.7,
           -1,
           0.3
          ],
          [
           0.8,
           0.9,
           1,
           0.1,
           0,
           -0.6,
           -0.9,
           0.1
          ],
          [
           0.5,
           0.3,
           0.1,
           1,
           0.9,
           -0.3,
           -0.3,
           -0.2
          ],
          [
           0.2,
           0.1,
           0,
           0.9,
           1,
           0.1,
           -0.1,
           -0.1
          ],
          [
           -0.9,
           -0.7,
           -0.6,
           -0.3,
           0.1,
           1,
           0.7,
           0.3
          ],
          [
           -0.9,
           -1,
           -0.9,
           -0.3,
           -0.1,
           0.7,
           1,
           -0.3
          ],
          [
           -0.1,
           0.3,
           0.1,
           -0.2,
           -0.1,
           0.3,
           -0.3,
           1
          ]
         ],
         "zmax": 1,
         "zmin": -1
        }
       ],
       "layout": {
        "annotations": [
         {
          "font": {
           "color": "#FFFFFF"
          },
          "showarrow": false,
          "text": "1.0",
          "x": "meanMASE",
          "xref": "x",
          "y": "meanMASE",
          "yref": "y"
         },
         {
          "font": {
           "color": "#FFFFFF"
          },
          "showarrow": false,
          "text": "0.9",
          "x": "meanWAPE",
          "xref": "x",
          "y": "meanMASE",
          "yref": "y"
         },
         {
          "font": {
           "color": "#FFFFFF"
          },
          "showarrow": false,
          "text": "0.8",
          "x": "ND",
          "xref": "x",
          "y": "meanMASE",
          "yref": "y"
         },
         {
          "font": {
           "color": "#FFFFFF"
          },
          "showarrow": false,
          "text": "0.5",
          "x": "meanRMSSE",
          "xref": "x",
          "y": "meanMASE",
          "yref": "y"
         },
         {
          "font": {
           "color": "#000000"
          },
          "showarrow": false,
          "text": "0.2",
          "x": "NRMSE",
          "xref": "x",
          "y": "meanMASE",
          "yref": "y"
         },
         {
          "font": {
           "color": "#FFFFFF"
          },
          "showarrow": false,
          "text": "-0.9",
          "x": "meanMRAE",
          "xref": "x",
          "y": "meanMASE",
          "yref": "y"
         },
         {
          "font": {
           "color": "#FFFFFF"
          },
          "showarrow": false,
          "text": "-0.9",
          "x": "Forecast Bias",
          "xref": "x",
          "y": "meanMASE",
          "yref": "y"
         },
         {
          "font": {
           "color": "#000000"
          },
          "showarrow": false,
          "text": "-0.1",
          "x": "AvgRelRMSE",
          "xref": "x",
          "y": "meanMASE",
          "yref": "y"
         },
         {
          "font": {
           "color": "#FFFFFF"
          },
          "showarrow": false,
          "text": "0.9",
          "x": "meanMASE",
          "xref": "x",
          "y": "meanWAPE",
          "yref": "y"
         },
         {
          "font": {
           "color": "#FFFFFF"
          },
          "showarrow": false,
          "text": "1.0",
          "x": "meanWAPE",
          "xref": "x",
          "y": "meanWAPE",
          "yref": "y"
         },
         {
          "font": {
           "color": "#FFFFFF"
          },
          "showarrow": false,
          "text": "0.9",
          "x": "ND",
          "xref": "x",
          "y": "meanWAPE",
          "yref": "y"
         },
         {
          "font": {
           "color": "#000000"
          },
          "showarrow": false,
          "text": "0.3",
          "x": "meanRMSSE",
          "xref": "x",
          "y": "meanWAPE",
          "yref": "y"
         },
         {
          "font": {
           "color": "#000000"
          },
          "showarrow": false,
          "text": "0.1",
          "x": "NRMSE",
          "xref": "x",
          "y": "meanWAPE",
          "yref": "y"
         },
         {
          "font": {
           "color": "#FFFFFF"
          },
          "showarrow": false,
          "text": "-0.7",
          "x": "meanMRAE",
          "xref": "x",
          "y": "meanWAPE",
          "yref": "y"
         },
         {
          "font": {
           "color": "#FFFFFF"
          },
          "showarrow": false,
          "text": "-1.0",
          "x": "Forecast Bias",
          "xref": "x",
          "y": "meanWAPE",
          "yref": "y"
         },
         {
          "font": {
           "color": "#000000"
          },
          "showarrow": false,
          "text": "0.3",
          "x": "AvgRelRMSE",
          "xref": "x",
          "y": "meanWAPE",
          "yref": "y"
         },
         {
          "font": {
           "color": "#FFFFFF"
          },
          "showarrow": false,
          "text": "0.8",
          "x": "meanMASE",
          "xref": "x",
          "y": "ND",
          "yref": "y"
         },
         {
          "font": {
           "color": "#FFFFFF"
          },
          "showarrow": false,
          "text": "0.9",
          "x": "meanWAPE",
          "xref": "x",
          "y": "ND",
          "yref": "y"
         },
         {
          "font": {
           "color": "#FFFFFF"
          },
          "showarrow": false,
          "text": "1.0",
          "x": "ND",
          "xref": "x",
          "y": "ND",
          "yref": "y"
         },
         {
          "font": {
           "color": "#000000"
          },
          "showarrow": false,
          "text": "0.1",
          "x": "meanRMSSE",
          "xref": "x",
          "y": "ND",
          "yref": "y"
         },
         {
          "font": {
           "color": "#000000"
          },
          "showarrow": false,
          "text": "0.0",
          "x": "NRMSE",
          "xref": "x",
          "y": "ND",
          "yref": "y"
         },
         {
          "font": {
           "color": "#FFFFFF"
          },
          "showarrow": false,
          "text": "-0.6",
          "x": "meanMRAE",
          "xref": "x",
          "y": "ND",
          "yref": "y"
         },
         {
          "font": {
           "color": "#FFFFFF"
          },
          "showarrow": false,
          "text": "-0.9",
          "x": "Forecast Bias",
          "xref": "x",
          "y": "ND",
          "yref": "y"
         },
         {
          "font": {
           "color": "#000000"
          },
          "showarrow": false,
          "text": "0.1",
          "x": "AvgRelRMSE",
          "xref": "x",
          "y": "ND",
          "yref": "y"
         },
         {
          "font": {
           "color": "#FFFFFF"
          },
          "showarrow": false,
          "text": "0.5",
          "x": "meanMASE",
          "xref": "x",
          "y": "meanRMSSE",
          "yref": "y"
         },
         {
          "font": {
           "color": "#000000"
          },
          "showarrow": false,
          "text": "0.3",
          "x": "meanWAPE",
          "xref": "x",
          "y": "meanRMSSE",
          "yref": "y"
         },
         {
          "font": {
           "color": "#000000"
          },
          "showarrow": false,
          "text": "0.1",
          "x": "ND",
          "xref": "x",
          "y": "meanRMSSE",
          "yref": "y"
         },
         {
          "font": {
           "color": "#FFFFFF"
          },
          "showarrow": false,
          "text": "1.0",
          "x": "meanRMSSE",
          "xref": "x",
          "y": "meanRMSSE",
          "yref": "y"
         },
         {
          "font": {
           "color": "#FFFFFF"
          },
          "showarrow": false,
          "text": "0.9",
          "x": "NRMSE",
          "xref": "x",
          "y": "meanRMSSE",
          "yref": "y"
         },
         {
          "font": {
           "color": "#000000"
          },
          "showarrow": false,
          "text": "-0.3",
          "x": "meanMRAE",
          "xref": "x",
          "y": "meanRMSSE",
          "yref": "y"
         },
         {
          "font": {
           "color": "#000000"
          },
          "showarrow": false,
          "text": "-0.3",
          "x": "Forecast Bias",
          "xref": "x",
          "y": "meanRMSSE",
          "yref": "y"
         },
         {
          "font": {
           "color": "#000000"
          },
          "showarrow": false,
          "text": "-0.2",
          "x": "AvgRelRMSE",
          "xref": "x",
          "y": "meanRMSSE",
          "yref": "y"
         },
         {
          "font": {
           "color": "#000000"
          },
          "showarrow": false,
          "text": "0.2",
          "x": "meanMASE",
          "xref": "x",
          "y": "NRMSE",
          "yref": "y"
         },
         {
          "font": {
           "color": "#000000"
          },
          "showarrow": false,
          "text": "0.1",
          "x": "meanWAPE",
          "xref": "x",
          "y": "NRMSE",
          "yref": "y"
         },
         {
          "font": {
           "color": "#000000"
          },
          "showarrow": false,
          "text": "0.0",
          "x": "ND",
          "xref": "x",
          "y": "NRMSE",
          "yref": "y"
         },
         {
          "font": {
           "color": "#FFFFFF"
          },
          "showarrow": false,
          "text": "0.9",
          "x": "meanRMSSE",
          "xref": "x",
          "y": "NRMSE",
          "yref": "y"
         },
         {
          "font": {
           "color": "#FFFFFF"
          },
          "showarrow": false,
          "text": "1.0",
          "x": "NRMSE",
          "xref": "x",
          "y": "NRMSE",
          "yref": "y"
         },
         {
          "font": {
           "color": "#000000"
          },
          "showarrow": false,
          "text": "0.1",
          "x": "meanMRAE",
          "xref": "x",
          "y": "NRMSE",
          "yref": "y"
         },
         {
          "font": {
           "color": "#000000"
          },
          "showarrow": false,
          "text": "-0.1",
          "x": "Forecast Bias",
          "xref": "x",
          "y": "NRMSE",
          "yref": "y"
         },
         {
          "font": {
           "color": "#000000"
          },
          "showarrow": false,
          "text": "-0.1",
          "x": "AvgRelRMSE",
          "xref": "x",
          "y": "NRMSE",
          "yref": "y"
         },
         {
          "font": {
           "color": "#FFFFFF"
          },
          "showarrow": false,
          "text": "-0.9",
          "x": "meanMASE",
          "xref": "x",
          "y": "meanMRAE",
          "yref": "y"
         },
         {
          "font": {
           "color": "#FFFFFF"
          },
          "showarrow": false,
          "text": "-0.7",
          "x": "meanWAPE",
          "xref": "x",
          "y": "meanMRAE",
          "yref": "y"
         },
         {
          "font": {
           "color": "#FFFFFF"
          },
          "showarrow": false,
          "text": "-0.6",
          "x": "ND",
          "xref": "x",
          "y": "meanMRAE",
          "yref": "y"
         },
         {
          "font": {
           "color": "#000000"
          },
          "showarrow": false,
          "text": "-0.3",
          "x": "meanRMSSE",
          "xref": "x",
          "y": "meanMRAE",
          "yref": "y"
         },
         {
          "font": {
           "color": "#000000"
          },
          "showarrow": false,
          "text": "0.1",
          "x": "NRMSE",
          "xref": "x",
          "y": "meanMRAE",
          "yref": "y"
         },
         {
          "font": {
           "color": "#FFFFFF"
          },
          "showarrow": false,
          "text": "1.0",
          "x": "meanMRAE",
          "xref": "x",
          "y": "meanMRAE",
          "yref": "y"
         },
         {
          "font": {
           "color": "#FFFFFF"
          },
          "showarrow": false,
          "text": "0.7",
          "x": "Forecast Bias",
          "xref": "x",
          "y": "meanMRAE",
          "yref": "y"
         },
         {
          "font": {
           "color": "#000000"
          },
          "showarrow": false,
          "text": "0.3",
          "x": "AvgRelRMSE",
          "xref": "x",
          "y": "meanMRAE",
          "yref": "y"
         },
         {
          "font": {
           "color": "#FFFFFF"
          },
          "showarrow": false,
          "text": "-0.9",
          "x": "meanMASE",
          "xref": "x",
          "y": "Forecast Bias",
          "yref": "y"
         },
         {
          "font": {
           "color": "#FFFFFF"
          },
          "showarrow": false,
          "text": "-1.0",
          "x": "meanWAPE",
          "xref": "x",
          "y": "Forecast Bias",
          "yref": "y"
         },
         {
          "font": {
           "color": "#FFFFFF"
          },
          "showarrow": false,
          "text": "-0.9",
          "x": "ND",
          "xref": "x",
          "y": "Forecast Bias",
          "yref": "y"
         },
         {
          "font": {
           "color": "#000000"
          },
          "showarrow": false,
          "text": "-0.3",
          "x": "meanRMSSE",
          "xref": "x",
          "y": "Forecast Bias",
          "yref": "y"
         },
         {
          "font": {
           "color": "#000000"
          },
          "showarrow": false,
          "text": "-0.1",
          "x": "NRMSE",
          "xref": "x",
          "y": "Forecast Bias",
          "yref": "y"
         },
         {
          "font": {
           "color": "#FFFFFF"
          },
          "showarrow": false,
          "text": "0.7",
          "x": "meanMRAE",
          "xref": "x",
          "y": "Forecast Bias",
          "yref": "y"
         },
         {
          "font": {
           "color": "#FFFFFF"
          },
          "showarrow": false,
          "text": "1.0",
          "x": "Forecast Bias",
          "xref": "x",
          "y": "Forecast Bias",
          "yref": "y"
         },
         {
          "font": {
           "color": "#000000"
          },
          "showarrow": false,
          "text": "-0.3",
          "x": "AvgRelRMSE",
          "xref": "x",
          "y": "Forecast Bias",
          "yref": "y"
         },
         {
          "font": {
           "color": "#000000"
          },
          "showarrow": false,
          "text": "-0.1",
          "x": "meanMASE",
          "xref": "x",
          "y": "AvgRelRMSE",
          "yref": "y"
         },
         {
          "font": {
           "color": "#000000"
          },
          "showarrow": false,
          "text": "0.3",
          "x": "meanWAPE",
          "xref": "x",
          "y": "AvgRelRMSE",
          "yref": "y"
         },
         {
          "font": {
           "color": "#000000"
          },
          "showarrow": false,
          "text": "0.1",
          "x": "ND",
          "xref": "x",
          "y": "AvgRelRMSE",
          "yref": "y"
         },
         {
          "font": {
           "color": "#000000"
          },
          "showarrow": false,
          "text": "-0.2",
          "x": "meanRMSSE",
          "xref": "x",
          "y": "AvgRelRMSE",
          "yref": "y"
         },
         {
          "font": {
           "color": "#000000"
          },
          "showarrow": false,
          "text": "-0.1",
          "x": "NRMSE",
          "xref": "x",
          "y": "AvgRelRMSE",
          "yref": "y"
         },
         {
          "font": {
           "color": "#000000"
          },
          "showarrow": false,
          "text": "0.3",
          "x": "meanMRAE",
          "xref": "x",
          "y": "AvgRelRMSE",
          "yref": "y"
         },
         {
          "font": {
           "color": "#000000"
          },
          "showarrow": false,
          "text": "-0.3",
          "x": "Forecast Bias",
          "xref": "x",
          "y": "AvgRelRMSE",
          "yref": "y"
         },
         {
          "font": {
           "color": "#FFFFFF"
          },
          "showarrow": false,
          "text": "1.0",
          "x": "AvgRelRMSE",
          "xref": "x",
          "y": "AvgRelRMSE",
          "yref": "y"
         }
        ],
        "height": 600,
        "template": {
         "data": {
          "bar": [
           {
            "error_x": {
             "color": "#2a3f5f"
            },
            "error_y": {
             "color": "#2a3f5f"
            },
            "marker": {
             "line": {
              "color": "white",
              "width": 0.5
             },
             "pattern": {
              "fillmode": "overlay",
              "size": 10,
              "solidity": 0.2
             }
            },
            "type": "bar"
           }
          ],
          "barpolar": [
           {
            "marker": {
             "line": {
              "color": "white",
              "width": 0.5
             },
             "pattern": {
              "fillmode": "overlay",
              "size": 10,
              "solidity": 0.2
             }
            },
            "type": "barpolar"
           }
          ],
          "carpet": [
           {
            "aaxis": {
             "endlinecolor": "#2a3f5f",
             "gridcolor": "#C8D4E3",
             "linecolor": "#C8D4E3",
             "minorgridcolor": "#C8D4E3",
             "startlinecolor": "#2a3f5f"
            },
            "baxis": {
             "endlinecolor": "#2a3f5f",
             "gridcolor": "#C8D4E3",
             "linecolor": "#C8D4E3",
             "minorgridcolor": "#C8D4E3",
             "startlinecolor": "#2a3f5f"
            },
            "type": "carpet"
           }
          ],
          "choropleth": [
           {
            "colorbar": {
             "outlinewidth": 0,
             "ticks": ""
            },
            "type": "choropleth"
           }
          ],
          "contour": [
           {
            "colorbar": {
             "outlinewidth": 0,
             "ticks": ""
            },
            "colorscale": [
             [
              0,
              "#0d0887"
             ],
             [
              0.1111111111111111,
              "#46039f"
             ],
             [
              0.2222222222222222,
              "#7201a8"
             ],
             [
              0.3333333333333333,
              "#9c179e"
             ],
             [
              0.4444444444444444,
              "#bd3786"
             ],
             [
              0.5555555555555556,
              "#d8576b"
             ],
             [
              0.6666666666666666,
              "#ed7953"
             ],
             [
              0.7777777777777778,
              "#fb9f3a"
             ],
             [
              0.8888888888888888,
              "#fdca26"
             ],
             [
              1,
              "#f0f921"
             ]
            ],
            "type": "contour"
           }
          ],
          "contourcarpet": [
           {
            "colorbar": {
             "outlinewidth": 0,
             "ticks": ""
            },
            "type": "contourcarpet"
           }
          ],
          "heatmap": [
           {
            "colorbar": {
             "outlinewidth": 0,
             "ticks": ""
            },
            "colorscale": [
             [
              0,
              "#0d0887"
             ],
             [
              0.1111111111111111,
              "#46039f"
             ],
             [
              0.2222222222222222,
              "#7201a8"
             ],
             [
              0.3333333333333333,
              "#9c179e"
             ],
             [
              0.4444444444444444,
              "#bd3786"
             ],
             [
              0.5555555555555556,
              "#d8576b"
             ],
             [
              0.6666666666666666,
              "#ed7953"
             ],
             [
              0.7777777777777778,
              "#fb9f3a"
             ],
             [
              0.8888888888888888,
              "#fdca26"
             ],
             [
              1,
              "#f0f921"
             ]
            ],
            "type": "heatmap"
           }
          ],
          "heatmapgl": [
           {
            "colorbar": {
             "outlinewidth": 0,
             "ticks": ""
            },
            "colorscale": [
             [
              0,
              "#0d0887"
             ],
             [
              0.1111111111111111,
              "#46039f"
             ],
             [
              0.2222222222222222,
              "#7201a8"
             ],
             [
              0.3333333333333333,
              "#9c179e"
             ],
             [
              0.4444444444444444,
              "#bd3786"
             ],
             [
              0.5555555555555556,
              "#d8576b"
             ],
             [
              0.6666666666666666,
              "#ed7953"
             ],
             [
              0.7777777777777778,
              "#fb9f3a"
             ],
             [
              0.8888888888888888,
              "#fdca26"
             ],
             [
              1,
              "#f0f921"
             ]
            ],
            "type": "heatmapgl"
           }
          ],
          "histogram": [
           {
            "marker": {
             "pattern": {
              "fillmode": "overlay",
              "size": 10,
              "solidity": 0.2
             }
            },
            "type": "histogram"
           }
          ],
          "histogram2d": [
           {
            "colorbar": {
             "outlinewidth": 0,
             "ticks": ""
            },
            "colorscale": [
             [
              0,
              "#0d0887"
             ],
             [
              0.1111111111111111,
              "#46039f"
             ],
             [
              0.2222222222222222,
              "#7201a8"
             ],
             [
              0.3333333333333333,
              "#9c179e"
             ],
             [
              0.4444444444444444,
              "#bd3786"
             ],
             [
              0.5555555555555556,
              "#d8576b"
             ],
             [
              0.6666666666666666,
              "#ed7953"
             ],
             [
              0.7777777777777778,
              "#fb9f3a"
             ],
             [
              0.8888888888888888,
              "#fdca26"
             ],
             [
              1,
              "#f0f921"
             ]
            ],
            "type": "histogram2d"
           }
          ],
          "histogram2dcontour": [
           {
            "colorbar": {
             "outlinewidth": 0,
             "ticks": ""
            },
            "colorscale": [
             [
              0,
              "#0d0887"
             ],
             [
              0.1111111111111111,
              "#46039f"
             ],
             [
              0.2222222222222222,
              "#7201a8"
             ],
             [
              0.3333333333333333,
              "#9c179e"
             ],
             [
              0.4444444444444444,
              "#bd3786"
             ],
             [
              0.5555555555555556,
              "#d8576b"
             ],
             [
              0.6666666666666666,
              "#ed7953"
             ],
             [
              0.7777777777777778,
              "#fb9f3a"
             ],
             [
              0.8888888888888888,
              "#fdca26"
             ],
             [
              1,
              "#f0f921"
             ]
            ],
            "type": "histogram2dcontour"
           }
          ],
          "mesh3d": [
           {
            "colorbar": {
             "outlinewidth": 0,
             "ticks": ""
            },
            "type": "mesh3d"
           }
          ],
          "parcoords": [
           {
            "line": {
             "colorbar": {
              "outlinewidth": 0,
              "ticks": ""
             }
            },
            "type": "parcoords"
           }
          ],
          "pie": [
           {
            "automargin": true,
            "type": "pie"
           }
          ],
          "scatter": [
           {
            "fillpattern": {
             "fillmode": "overlay",
             "size": 10,
             "solidity": 0.2
            },
            "type": "scatter"
           }
          ],
          "scatter3d": [
           {
            "line": {
             "colorbar": {
              "outlinewidth": 0,
              "ticks": ""
             }
            },
            "marker": {
             "colorbar": {
              "outlinewidth": 0,
              "ticks": ""
             }
            },
            "type": "scatter3d"
           }
          ],
          "scattercarpet": [
           {
            "marker": {
             "colorbar": {
              "outlinewidth": 0,
              "ticks": ""
             }
            },
            "type": "scattercarpet"
           }
          ],
          "scattergeo": [
           {
            "marker": {
             "colorbar": {
              "outlinewidth": 0,
              "ticks": ""
             }
            },
            "type": "scattergeo"
           }
          ],
          "scattergl": [
           {
            "marker": {
             "colorbar": {
              "outlinewidth": 0,
              "ticks": ""
             }
            },
            "type": "scattergl"
           }
          ],
          "scattermapbox": [
           {
            "marker": {
             "colorbar": {
              "outlinewidth": 0,
              "ticks": ""
             }
            },
            "type": "scattermapbox"
           }
          ],
          "scatterpolar": [
           {
            "marker": {
             "colorbar": {
              "outlinewidth": 0,
              "ticks": ""
             }
            },
            "type": "scatterpolar"
           }
          ],
          "scatterpolargl": [
           {
            "marker": {
             "colorbar": {
              "outlinewidth": 0,
              "ticks": ""
             }
            },
            "type": "scatterpolargl"
           }
          ],
          "scatterternary": [
           {
            "marker": {
             "colorbar": {
              "outlinewidth": 0,
              "ticks": ""
             }
            },
            "type": "scatterternary"
           }
          ],
          "surface": [
           {
            "colorbar": {
             "outlinewidth": 0,
             "ticks": ""
            },
            "colorscale": [
             [
              0,
              "#0d0887"
             ],
             [
              0.1111111111111111,
              "#46039f"
             ],
             [
              0.2222222222222222,
              "#7201a8"
             ],
             [
              0.3333333333333333,
              "#9c179e"
             ],
             [
              0.4444444444444444,
              "#bd3786"
             ],
             [
              0.5555555555555556,
              "#d8576b"
             ],
             [
              0.6666666666666666,
              "#ed7953"
             ],
             [
              0.7777777777777778,
              "#fb9f3a"
             ],
             [
              0.8888888888888888,
              "#fdca26"
             ],
             [
              1,
              "#f0f921"
             ]
            ],
            "type": "surface"
           }
          ],
          "table": [
           {
            "cells": {
             "fill": {
              "color": "#EBF0F8"
             },
             "line": {
              "color": "white"
             }
            },
            "header": {
             "fill": {
              "color": "#C8D4E3"
             },
             "line": {
              "color": "white"
             }
            },
            "type": "table"
           }
          ]
         },
         "layout": {
          "annotationdefaults": {
           "arrowcolor": "#2a3f5f",
           "arrowhead": 0,
           "arrowwidth": 1
          },
          "autotypenumbers": "strict",
          "coloraxis": {
           "colorbar": {
            "outlinewidth": 0,
            "ticks": ""
           }
          },
          "colorscale": {
           "diverging": [
            [
             0,
             "#8e0152"
            ],
            [
             0.1,
             "#c51b7d"
            ],
            [
             0.2,
             "#de77ae"
            ],
            [
             0.3,
             "#f1b6da"
            ],
            [
             0.4,
             "#fde0ef"
            ],
            [
             0.5,
             "#f7f7f7"
            ],
            [
             0.6,
             "#e6f5d0"
            ],
            [
             0.7,
             "#b8e186"
            ],
            [
             0.8,
             "#7fbc41"
            ],
            [
             0.9,
             "#4d9221"
            ],
            [
             1,
             "#276419"
            ]
           ],
           "sequential": [
            [
             0,
             "#0d0887"
            ],
            [
             0.1111111111111111,
             "#46039f"
            ],
            [
             0.2222222222222222,
             "#7201a8"
            ],
            [
             0.3333333333333333,
             "#9c179e"
            ],
            [
             0.4444444444444444,
             "#bd3786"
            ],
            [
             0.5555555555555556,
             "#d8576b"
            ],
            [
             0.6666666666666666,
             "#ed7953"
            ],
            [
             0.7777777777777778,
             "#fb9f3a"
            ],
            [
             0.8888888888888888,
             "#fdca26"
            ],
            [
             1,
             "#f0f921"
            ]
           ],
           "sequentialminus": [
            [
             0,
             "#0d0887"
            ],
            [
             0.1111111111111111,
             "#46039f"
            ],
            [
             0.2222222222222222,
             "#7201a8"
            ],
            [
             0.3333333333333333,
             "#9c179e"
            ],
            [
             0.4444444444444444,
             "#bd3786"
            ],
            [
             0.5555555555555556,
             "#d8576b"
            ],
            [
             0.6666666666666666,
             "#ed7953"
            ],
            [
             0.7777777777777778,
             "#fb9f3a"
            ],
            [
             0.8888888888888888,
             "#fdca26"
            ],
            [
             1,
             "#f0f921"
            ]
           ]
          },
          "colorway": [
           "#636efa",
           "#EF553B",
           "#00cc96",
           "#ab63fa",
           "#FFA15A",
           "#19d3f3",
           "#FF6692",
           "#B6E880",
           "#FF97FF",
           "#FECB52"
          ],
          "font": {
           "color": "#2a3f5f"
          },
          "geo": {
           "bgcolor": "white",
           "lakecolor": "white",
           "landcolor": "white",
           "showlakes": true,
           "showland": true,
           "subunitcolor": "#C8D4E3"
          },
          "hoverlabel": {
           "align": "left"
          },
          "hovermode": "closest",
          "mapbox": {
           "style": "light"
          },
          "paper_bgcolor": "white",
          "plot_bgcolor": "white",
          "polar": {
           "angularaxis": {
            "gridcolor": "#EBF0F8",
            "linecolor": "#EBF0F8",
            "ticks": ""
           },
           "bgcolor": "white",
           "radialaxis": {
            "gridcolor": "#EBF0F8",
            "linecolor": "#EBF0F8",
            "ticks": ""
           }
          },
          "scene": {
           "xaxis": {
            "backgroundcolor": "white",
            "gridcolor": "#DFE8F3",
            "gridwidth": 2,
            "linecolor": "#EBF0F8",
            "showbackground": true,
            "ticks": "",
            "zerolinecolor": "#EBF0F8"
           },
           "yaxis": {
            "backgroundcolor": "white",
            "gridcolor": "#DFE8F3",
            "gridwidth": 2,
            "linecolor": "#EBF0F8",
            "showbackground": true,
            "ticks": "",
            "zerolinecolor": "#EBF0F8"
           },
           "zaxis": {
            "backgroundcolor": "white",
            "gridcolor": "#DFE8F3",
            "gridwidth": 2,
            "linecolor": "#EBF0F8",
            "showbackground": true,
            "ticks": "",
            "zerolinecolor": "#EBF0F8"
           }
          },
          "shapedefaults": {
           "line": {
            "color": "#2a3f5f"
           }
          },
          "ternary": {
           "aaxis": {
            "gridcolor": "#DFE8F3",
            "linecolor": "#A2B1C6",
            "ticks": ""
           },
           "baxis": {
            "gridcolor": "#DFE8F3",
            "linecolor": "#A2B1C6",
            "ticks": ""
           },
           "bgcolor": "white",
           "caxis": {
            "gridcolor": "#DFE8F3",
            "linecolor": "#A2B1C6",
            "ticks": ""
           }
          },
          "title": {
           "x": 0.05
          },
          "xaxis": {
           "automargin": true,
           "gridcolor": "#EBF0F8",
           "linecolor": "#EBF0F8",
           "ticks": "",
           "title": {
            "standoff": 15
           },
           "zerolinecolor": "#EBF0F8",
           "zerolinewidth": 2
          },
          "yaxis": {
           "automargin": true,
           "gridcolor": "#EBF0F8",
           "linecolor": "#EBF0F8",
           "ticks": "",
           "title": {
            "standoff": 15
           },
           "zerolinecolor": "#EBF0F8",
           "zerolinewidth": 2
          }
         }
        },
        "title": {
         "font": {
          "size": 24
         },
         "x": 0.5
        },
        "width": 600,
        "xaxis": {
         "autorange": true,
         "dtick": 1,
         "gridcolor": "rgb(0, 0, 0)",
         "range": [
          -0.5,
          7.5
         ],
         "showgrid": false,
         "side": "bottom",
         "tickfont": {
          "size": 18
         },
         "ticks": "",
         "type": "category"
        },
        "yaxis": {
         "autorange": true,
         "dtick": 1,
         "range": [
          7.5,
          -0.5
         ],
         "showgrid": false,
         "tickfont": {
          "size": 18
         },
         "ticks": "",
         "ticksuffix": "  ",
         "type": "category"
        }
       }
      },
      "image/png": "[encoded data removed]",
      "text/html": [
       "<div>                            <div id=\"128080d0-2126-47d7-b9bb-91966c2718dd\" class=\"plotly-graph-div\" style=\"height:600px; width:600px;\"></div>            <script type=\"text/javascript\">                require([\"plotly\"], function(Plotly) {                    window.PLOTLYENV=window.PLOTLYENV || {};                                    if (document.getElementById(\"128080d0-2126-47d7-b9bb-91966c2718dd\")) {                    Plotly.newPlot(                        \"128080d0-2126-47d7-b9bb-91966c2718dd\",                        [{\"colorscale\":[[0.0,\"rgb(165,0,38)\"],[0.1,\"rgb(215,48,39)\"],[0.2,\"rgb(244,109,67)\"],[0.3,\"rgb(253,174,97)\"],[0.4,\"rgb(254,224,139)\"],[0.5,\"rgb(255,255,191)\"],[0.6,\"rgb(217,239,139)\"],[0.7,\"rgb(166,217,106)\"],[0.8,\"rgb(102,189,99)\"],[0.9,\"rgb(26,152,80)\"],[1.0,\"rgb(0,104,55)\"]],\"reversescale\":false,\"showscale\":true,\"x\":[\"meanMASE\",\"meanWAPE\",\"ND\",\"meanRMSSE\",\"NRMSE\",\"meanMRAE\",\"Forecast Bias\",\"AvgRelRMSE\"],\"xgap\":3,\"y\":[\"meanMASE\",\"meanWAPE\",\"ND\",\"meanRMSSE\",\"NRMSE\",\"meanMRAE\",\"Forecast Bias\",\"AvgRelRMSE\"],\"ygap\":3,\"z\":[[1.0,0.9,0.8,0.5,0.2,-0.9,-0.9,-0.1],[0.9,1.0,0.9,0.3,0.1,-0.7,-1.0,0.3],[0.8,0.9,1.0,0.1,0.0,-0.6,-0.9,0.1],[0.5,0.3,0.1,1.0,0.9,-0.3,-0.3,-0.2],[0.2,0.1,0.0,0.9,1.0,0.1,-0.1,-0.1],[-0.9,-0.7,-0.6,-0.3,0.1,1.0,0.7,0.3],[-0.9,-1.0,-0.9,-0.3,-0.1,0.7,1.0,-0.3],[-0.1,0.3,0.1,-0.2,-0.1,0.3,-0.3,1.0]],\"zmax\":1,\"zmin\":-1,\"type\":\"heatmap\",\"colorbar\":{\"thickness\":30,\"ticklen\":3}}],                        {\"annotations\":[{\"font\":{\"color\":\"#FFFFFF\"},\"showarrow\":false,\"text\":\"1.0\",\"x\":\"meanMASE\",\"xref\":\"x\",\"y\":\"meanMASE\",\"yref\":\"y\"},{\"font\":{\"color\":\"#FFFFFF\"},\"showarrow\":false,\"text\":\"0.9\",\"x\":\"meanWAPE\",\"xref\":\"x\",\"y\":\"meanMASE\",\"yref\":\"y\"},{\"font\":{\"color\":\"#FFFFFF\"},\"showarrow\":false,\"text\":\"0.8\",\"x\":\"ND\",\"xref\":\"x\",\"y\":\"meanMASE\",\"yref\":\"y\"},{\"font\":{\"color\":\"#FFFFFF\"},\"showarrow\":false,\"text\":\"0.5\",\"x\":\"meanRMSSE\",\"xref\":\"x\",\"y\":\"meanMASE\",\"yref\":\"y\"},{\"font\":{\"color\":\"#000000\"},\"showarrow\":false,\"text\":\"0.2\",\"x\":\"NRMSE\",\"xref\":\"x\",\"y\":\"meanMASE\",\"yref\":\"y\"},{\"font\":{\"color\":\"#FFFFFF\"},\"showarrow\":false,\"text\":\"-0.9\",\"x\":\"meanMRAE\",\"xref\":\"x\",\"y\":\"meanMASE\",\"yref\":\"y\"},{\"font\":{\"color\":\"#FFFFFF\"},\"showarrow\":false,\"text\":\"-0.9\",\"x\":\"Forecast Bias\",\"xref\":\"x\",\"y\":\"meanMASE\",\"yref\":\"y\"},{\"font\":{\"color\":\"#000000\"},\"showarrow\":false,\"text\":\"-0.1\",\"x\":\"AvgRelRMSE\",\"xref\":\"x\",\"y\":\"meanMASE\",\"yref\":\"y\"},{\"font\":{\"color\":\"#FFFFFF\"},\"showarrow\":false,\"text\":\"0.9\",\"x\":\"meanMASE\",\"xref\":\"x\",\"y\":\"meanWAPE\",\"yref\":\"y\"},{\"font\":{\"color\":\"#FFFFFF\"},\"showarrow\":false,\"text\":\"1.0\",\"x\":\"meanWAPE\",\"xref\":\"x\",\"y\":\"meanWAPE\",\"yref\":\"y\"},{\"font\":{\"color\":\"#FFFFFF\"},\"showarrow\":false,\"text\":\"0.9\",\"x\":\"ND\",\"xref\":\"x\",\"y\":\"meanWAPE\",\"yref\":\"y\"},{\"font\":{\"color\":\"#000000\"},\"showarrow\":false,\"text\":\"0.3\",\"x\":\"meanRMSSE\",\"xref\":\"x\",\"y\":\"meanWAPE\",\"yref\":\"y\"},{\"font\":{\"color\":\"#000000\"},\"showarrow\":false,\"text\":\"0.1\",\"x\":\"NRMSE\",\"xref\":\"x\",\"y\":\"meanWAPE\",\"yref\":\"y\"},{\"font\":{\"color\":\"#FFFFFF\"},\"showarrow\":false,\"text\":\"-0.7\",\"x\":\"meanMRAE\",\"xref\":\"x\",\"y\":\"meanWAPE\",\"yref\":\"y\"},{\"font\":{\"color\":\"#FFFFFF\"},\"showarrow\":false,\"text\":\"-1.0\",\"x\":\"Forecast Bias\",\"xref\":\"x\",\"y\":\"meanWAPE\",\"yref\":\"y\"},{\"font\":{\"color\":\"#000000\"},\"showarrow\":false,\"text\":\"0.3\",\"x\":\"AvgRelRMSE\",\"xref\":\"x\",\"y\":\"meanWAPE\",\"yref\":\"y\"},{\"font\":{\"color\":\"#FFFFFF\"},\"showarrow\":false,\"text\":\"0.8\",\"x\":\"meanMASE\",\"xref\":\"x\",\"y\":\"ND\",\"yref\":\"y\"},{\"font\":{\"color\":\"#FFFFFF\"},\"showarrow\":false,\"text\":\"0.9\",\"x\":\"meanWAPE\",\"xref\":\"x\",\"y\":\"ND\",\"yref\":\"y\"},{\"font\":{\"color\":\"#FFFFFF\"},\"showarrow\":false,\"text\":\"1.0\",\"x\":\"ND\",\"xref\":\"x\",\"y\":\"ND\",\"yref\":\"y\"},{\"font\":{\"color\":\"#000000\"},\"showarrow\":false,\"text\":\"0.1\",\"x\":\"meanRMSSE\",\"xref\":\"x\",\"y\":\"ND\",\"yref\":\"y\"},{\"font\":{\"color\":\"#000000\"},\"showarrow\":false,\"text\":\"0.0\",\"x\":\"NRMSE\",\"xref\":\"x\",\"y\":\"ND\",\"yref\":\"y\"},{\"font\":{\"color\":\"#FFFFFF\"},\"showarrow\":false,\"text\":\"-0.6\",\"x\":\"meanMRAE\",\"xref\":\"x\",\"y\":\"ND\",\"yref\":\"y\"},{\"font\":{\"color\":\"#FFFFFF\"},\"showarrow\":false,\"text\":\"-0.9\",\"x\":\"Forecast Bias\",\"xref\":\"x\",\"y\":\"ND\",\"yref\":\"y\"},{\"font\":{\"color\":\"#000000\"},\"showarrow\":false,\"text\":\"0.1\",\"x\":\"AvgRelRMSE\",\"xref\":\"x\",\"y\":\"ND\",\"yref\":\"y\"},{\"font\":{\"color\":\"#FFFFFF\"},\"showarrow\":false,\"text\":\"0.5\",\"x\":\"meanMASE\",\"xref\":\"x\",\"y\":\"meanRMSSE\",\"yref\":\"y\"},{\"font\":{\"color\":\"#000000\"},\"showarrow\":false,\"text\":\"0.3\",\"x\":\"meanWAPE\",\"xref\":\"x\",\"y\":\"meanRMSSE\",\"yref\":\"y\"},{\"font\":{\"color\":\"#000000\"},\"showarrow\":false,\"text\":\"0.1\",\"x\":\"ND\",\"xref\":\"x\",\"y\":\"meanRMSSE\",\"yref\":\"y\"},{\"font\":{\"color\":\"#FFFFFF\"},\"showarrow\":false,\"text\":\"1.0\",\"x\":\"meanRMSSE\",\"xref\":\"x\",\"y\":\"meanRMSSE\",\"yref\":\"y\"},{\"font\":{\"color\":\"#FFFFFF\"},\"showarrow\":false,\"text\":\"0.9\",\"x\":\"NRMSE\",\"xref\":\"x\",\"y\":\"meanRMSSE\",\"yref\":\"y\"},{\"font\":{\"color\":\"#000000\"},\"showarrow\":false,\"text\":\"-0.3\",\"x\":\"meanMRAE\",\"xref\":\"x\",\"y\":\"meanRMSSE\",\"yref\":\"y\"},{\"font\":{\"color\":\"#000000\"},\"showarrow\":false,\"text\":\"-0.3\",\"x\":\"Forecast Bias\",\"xref\":\"x\",\"y\":\"meanRMSSE\",\"yref\":\"y\"},{\"font\":{\"color\":\"#000000\"},\"showarrow\":false,\"text\":\"-0.2\",\"x\":\"AvgRelRMSE\",\"xref\":\"x\",\"y\":\"meanRMSSE\",\"yref\":\"y\"},{\"font\":{\"color\":\"#000000\"},\"showarrow\":false,\"text\":\"0.2\",\"x\":\"meanMASE\",\"xref\":\"x\",\"y\":\"NRMSE\",\"yref\":\"y\"},{\"font\":{\"color\":\"#000000\"},\"showarrow\":false,\"text\":\"0.1\",\"x\":\"meanWAPE\",\"xref\":\"x\",\"y\":\"NRMSE\",\"yref\":\"y\"},{\"font\":{\"color\":\"#000000\"},\"showarrow\":false,\"text\":\"0.0\",\"x\":\"ND\",\"xref\":\"x\",\"y\":\"NRMSE\",\"yref\":\"y\"},{\"font\":{\"color\":\"#FFFFFF\"},\"showarrow\":false,\"text\":\"0.9\",\"x\":\"meanRMSSE\",\"xref\":\"x\",\"y\":\"NRMSE\",\"yref\":\"y\"},{\"font\":{\"color\":\"#FFFFFF\"},\"showarrow\":false,\"text\":\"1.0\",\"x\":\"NRMSE\",\"xref\":\"x\",\"y\":\"NRMSE\",\"yref\":\"y\"},{\"font\":{\"color\":\"#000000\"},\"showarrow\":false,\"text\":\"0.1\",\"x\":\"meanMRAE\",\"xref\":\"x\",\"y\":\"NRMSE\",\"yref\":\"y\"},{\"font\":{\"color\":\"#000000\"},\"showarrow\":false,\"text\":\"-0.1\",\"x\":\"Forecast Bias\",\"xref\":\"x\",\"y\":\"NRMSE\",\"yref\":\"y\"},{\"font\":{\"color\":\"#000000\"},\"showarrow\":false,\"text\":\"-0.1\",\"x\":\"AvgRelRMSE\",\"xref\":\"x\",\"y\":\"NRMSE\",\"yref\":\"y\"},{\"font\":{\"color\":\"#FFFFFF\"},\"showarrow\":false,\"text\":\"-0.9\",\"x\":\"meanMASE\",\"xref\":\"x\",\"y\":\"meanMRAE\",\"yref\":\"y\"},{\"font\":{\"color\":\"#FFFFFF\"},\"showarrow\":false,\"text\":\"-0.7\",\"x\":\"meanWAPE\",\"xref\":\"x\",\"y\":\"meanMRAE\",\"yref\":\"y\"},{\"font\":{\"color\":\"#FFFFFF\"},\"showarrow\":false,\"text\":\"-0.6\",\"x\":\"ND\",\"xref\":\"x\",\"y\":\"meanMRAE\",\"yref\":\"y\"},{\"font\":{\"color\":\"#000000\"},\"showarrow\":false,\"text\":\"-0.3\",\"x\":\"meanRMSSE\",\"xref\":\"x\",\"y\":\"meanMRAE\",\"yref\":\"y\"},{\"font\":{\"color\":\"#000000\"},\"showarrow\":false,\"text\":\"0.1\",\"x\":\"NRMSE\",\"xref\":\"x\",\"y\":\"meanMRAE\",\"yref\":\"y\"},{\"font\":{\"color\":\"#FFFFFF\"},\"showarrow\":false,\"text\":\"1.0\",\"x\":\"meanMRAE\",\"xref\":\"x\",\"y\":\"meanMRAE\",\"yref\":\"y\"},{\"font\":{\"color\":\"#FFFFFF\"},\"showarrow\":false,\"text\":\"0.7\",\"x\":\"Forecast Bias\",\"xref\":\"x\",\"y\":\"meanMRAE\",\"yref\":\"y\"},{\"font\":{\"color\":\"#000000\"},\"showarrow\":false,\"text\":\"0.3\",\"x\":\"AvgRelRMSE\",\"xref\":\"x\",\"y\":\"meanMRAE\",\"yref\":\"y\"},{\"font\":{\"color\":\"#FFFFFF\"},\"showarrow\":false,\"text\":\"-0.9\",\"x\":\"meanMASE\",\"xref\":\"x\",\"y\":\"Forecast Bias\",\"yref\":\"y\"},{\"font\":{\"color\":\"#FFFFFF\"},\"showarrow\":false,\"text\":\"-1.0\",\"x\":\"meanWAPE\",\"xref\":\"x\",\"y\":\"Forecast Bias\",\"yref\":\"y\"},{\"font\":{\"color\":\"#FFFFFF\"},\"showarrow\":false,\"text\":\"-0.9\",\"x\":\"ND\",\"xref\":\"x\",\"y\":\"Forecast Bias\",\"yref\":\"y\"},{\"font\":{\"color\":\"#000000\"},\"showarrow\":false,\"text\":\"-0.3\",\"x\":\"meanRMSSE\",\"xref\":\"x\",\"y\":\"Forecast Bias\",\"yref\":\"y\"},{\"font\":{\"color\":\"#000000\"},\"showarrow\":false,\"text\":\"-0.1\",\"x\":\"NRMSE\",\"xref\":\"x\",\"y\":\"Forecast Bias\",\"yref\":\"y\"},{\"font\":{\"color\":\"#FFFFFF\"},\"showarrow\":false,\"text\":\"0.7\",\"x\":\"meanMRAE\",\"xref\":\"x\",\"y\":\"Forecast Bias\",\"yref\":\"y\"},{\"font\":{\"color\":\"#FFFFFF\"},\"showarrow\":false,\"text\":\"1.0\",\"x\":\"Forecast Bias\",\"xref\":\"x\",\"y\":\"Forecast Bias\",\"yref\":\"y\"},{\"font\":{\"color\":\"#000000\"},\"showarrow\":false,\"text\":\"-0.3\",\"x\":\"AvgRelRMSE\",\"xref\":\"x\",\"y\":\"Forecast Bias\",\"yref\":\"y\"},{\"font\":{\"color\":\"#000000\"},\"showarrow\":false,\"text\":\"-0.1\",\"x\":\"meanMASE\",\"xref\":\"x\",\"y\":\"AvgRelRMSE\",\"yref\":\"y\"},{\"font\":{\"color\":\"#000000\"},\"showarrow\":false,\"text\":\"0.3\",\"x\":\"meanWAPE\",\"xref\":\"x\",\"y\":\"AvgRelRMSE\",\"yref\":\"y\"},{\"font\":{\"color\":\"#000000\"},\"showarrow\":false,\"text\":\"0.1\",\"x\":\"ND\",\"xref\":\"x\",\"y\":\"AvgRelRMSE\",\"yref\":\"y\"},{\"font\":{\"color\":\"#000000\"},\"showarrow\":false,\"text\":\"-0.2\",\"x\":\"meanRMSSE\",\"xref\":\"x\",\"y\":\"AvgRelRMSE\",\"yref\":\"y\"},{\"font\":{\"color\":\"#000000\"},\"showarrow\":false,\"text\":\"-0.1\",\"x\":\"NRMSE\",\"xref\":\"x\",\"y\":\"AvgRelRMSE\",\"yref\":\"y\"},{\"font\":{\"color\":\"#000000\"},\"showarrow\":false,\"text\":\"0.3\",\"x\":\"meanMRAE\",\"xref\":\"x\",\"y\":\"AvgRelRMSE\",\"yref\":\"y\"},{\"font\":{\"color\":\"#000000\"},\"showarrow\":false,\"text\":\"-0.3\",\"x\":\"Forecast Bias\",\"xref\":\"x\",\"y\":\"AvgRelRMSE\",\"yref\":\"y\"},{\"font\":{\"color\":\"#FFFFFF\"},\"showarrow\":false,\"text\":\"1.0\",\"x\":\"AvgRelRMSE\",\"xref\":\"x\",\"y\":\"AvgRelRMSE\",\"yref\":\"y\"}],\"xaxis\":{\"dtick\":1,\"gridcolor\":\"rgb(0, 0, 0)\",\"side\":\"bottom\",\"ticks\":\"\",\"tickfont\":{\"size\":18},\"showgrid\":false},\"yaxis\":{\"dtick\":1,\"ticks\":\"\",\"ticksuffix\":\"  \",\"tickfont\":{\"size\":18},\"showgrid\":false,\"autorange\":\"reversed\"},\"template\":{\"data\":{\"barpolar\":[{\"marker\":{\"line\":{\"color\":\"white\",\"width\":0.5},\"pattern\":{\"fillmode\":\"overlay\",\"size\":10,\"solidity\":0.2}},\"type\":\"barpolar\"}],\"bar\":[{\"error_x\":{\"color\":\"#2a3f5f\"},\"error_y\":{\"color\":\"#2a3f5f\"},\"marker\":{\"line\":{\"color\":\"white\",\"width\":0.5},\"pattern\":{\"fillmode\":\"overlay\",\"size\":10,\"solidity\":0.2}},\"type\":\"bar\"}],\"carpet\":[{\"aaxis\":{\"endlinecolor\":\"#2a3f5f\",\"gridcolor\":\"#C8D4E3\",\"linecolor\":\"#C8D4E3\",\"minorgridcolor\":\"#C8D4E3\",\"startlinecolor\":\"#2a3f5f\"},\"baxis\":{\"endlinecolor\":\"#2a3f5f\",\"gridcolor\":\"#C8D4E3\",\"linecolor\":\"#C8D4E3\",\"minorgridcolor\":\"#C8D4E3\",\"startlinecolor\":\"#2a3f5f\"},\"type\":\"carpet\"}],\"choropleth\":[{\"colorbar\":{\"outlinewidth\":0,\"ticks\":\"\"},\"type\":\"choropleth\"}],\"contourcarpet\":[{\"colorbar\":{\"outlinewidth\":0,\"ticks\":\"\"},\"type\":\"contourcarpet\"}],\"contour\":[{\"colorbar\":{\"outlinewidth\":0,\"ticks\":\"\"},\"colorscale\":[[0.0,\"#0d0887\"],[0.1111111111111111,\"#46039f\"],[0.2222222222222222,\"#7201a8\"],[0.3333333333333333,\"#9c179e\"],[0.4444444444444444,\"#bd3786\"],[0.5555555555555556,\"#d8576b\"],[0.6666666666666666,\"#ed7953\"],[0.7777777777777778,\"#fb9f3a\"],[0.8888888888888888,\"#fdca26\"],[1.0,\"#f0f921\"]],\"type\":\"contour\"}],\"heatmapgl\":[{\"colorbar\":{\"outlinewidth\":0,\"ticks\":\"\"},\"colorscale\":[[0.0,\"#0d0887\"],[0.1111111111111111,\"#46039f\"],[0.2222222222222222,\"#7201a8\"],[0.3333333333333333,\"#9c179e\"],[0.4444444444444444,\"#bd3786\"],[0.5555555555555556,\"#d8576b\"],[0.6666666666666666,\"#ed7953\"],[0.7777777777777778,\"#fb9f3a\"],[0.8888888888888888,\"#fdca26\"],[1.0,\"#f0f921\"]],\"type\":\"heatmapgl\"}],\"heatmap\":[{\"colorbar\":{\"outlinewidth\":0,\"ticks\":\"\"},\"colorscale\":[[0.0,\"#0d0887\"],[0.1111111111111111,\"#46039f\"],[0.2222222222222222,\"#7201a8\"],[0.3333333333333333,\"#9c179e\"],[0.4444444444444444,\"#bd3786\"],[0.5555555555555556,\"#d8576b\"],[0.6666666666666666,\"#ed7953\"],[0.7777777777777778,\"#fb9f3a\"],[0.8888888888888888,\"#fdca26\"],[1.0,\"#f0f921\"]],\"type\":\"heatmap\"}],\"histogram2dcontour\":[{\"colorbar\":{\"outlinewidth\":0,\"ticks\":\"\"},\"colorscale\":[[0.0,\"#0d0887\"],[0.1111111111111111,\"#46039f\"],[0.2222222222222222,\"#7201a8\"],[0.3333333333333333,\"#9c179e\"],[0.4444444444444444,\"#bd3786\"],[0.5555555555555556,\"#d8576b\"],[0.6666666666666666,\"#ed7953\"],[0.7777777777777778,\"#fb9f3a\"],[0.8888888888888888,\"#fdca26\"],[1.0,\"#f0f921\"]],\"type\":\"histogram2dcontour\"}],\"histogram2d\":[{\"colorbar\":{\"outlinewidth\":0,\"ticks\":\"\"},\"colorscale\":[[0.0,\"#0d0887\"],[0.1111111111111111,\"#46039f\"],[0.2222222222222222,\"#7201a8\"],[0.3333333333333333,\"#9c179e\"],[0.4444444444444444,\"#bd3786\"],[0.5555555555555556,\"#d8576b\"],[0.6666666666666666,\"#ed7953\"],[0.7777777777777778,\"#fb9f3a\"],[0.8888888888888888,\"#fdca26\"],[1.0,\"#f0f921\"]],\"type\":\"histogram2d\"}],\"histogram\":[{\"marker\":{\"pattern\":{\"fillmode\":\"overlay\",\"size\":10,\"solidity\":0.2}},\"type\":\"histogram\"}],\"mesh3d\":[{\"colorbar\":{\"outlinewidth\":0,\"ticks\":\"\"},\"type\":\"mesh3d\"}],\"parcoords\":[{\"line\":{\"colorbar\":{\"outlinewidth\":0,\"ticks\":\"\"}},\"type\":\"parcoords\"}],\"pie\":[{\"automargin\":true,\"type\":\"pie\"}],\"scatter3d\":[{\"line\":{\"colorbar\":{\"outlinewidth\":0,\"ticks\":\"\"}},\"marker\":{\"colorbar\":{\"outlinewidth\":0,\"ticks\":\"\"}},\"type\":\"scatter3d\"}],\"scattercarpet\":[{\"marker\":{\"colorbar\":{\"outlinewidth\":0,\"ticks\":\"\"}},\"type\":\"scattercarpet\"}],\"scattergeo\":[{\"marker\":{\"colorbar\":{\"outlinewidth\":0,\"ticks\":\"\"}},\"type\":\"scattergeo\"}],\"scattergl\":[{\"marker\":{\"colorbar\":{\"outlinewidth\":0,\"ticks\":\"\"}},\"type\":\"scattergl\"}],\"scattermapbox\":[{\"marker\":{\"colorbar\":{\"outlinewidth\":0,\"ticks\":\"\"}},\"type\":\"scattermapbox\"}],\"scatterpolargl\":[{\"marker\":{\"colorbar\":{\"outlinewidth\":0,\"ticks\":\"\"}},\"type\":\"scatterpolargl\"}],\"scatterpolar\":[{\"marker\":{\"colorbar\":{\"outlinewidth\":0,\"ticks\":\"\"}},\"type\":\"scatterpolar\"}],\"scatter\":[{\"fillpattern\":{\"fillmode\":\"overlay\",\"size\":10,\"solidity\":0.2},\"type\":\"scatter\"}],\"scatterternary\":[{\"marker\":{\"colorbar\":{\"outlinewidth\":0,\"ticks\":\"\"}},\"type\":\"scatterternary\"}],\"surface\":[{\"colorbar\":{\"outlinewidth\":0,\"ticks\":\"\"},\"colorscale\":[[0.0,\"#0d0887\"],[0.1111111111111111,\"#46039f\"],[0.2222222222222222,\"#7201a8\"],[0.3333333333333333,\"#9c179e\"],[0.4444444444444444,\"#bd3786\"],[0.5555555555555556,\"#d8576b\"],[0.6666666666666666,\"#ed7953\"],[0.7777777777777778,\"#fb9f3a\"],[0.8888888888888888,\"#fdca26\"],[1.0,\"#f0f921\"]],\"type\":\"surface\"}],\"table\":[{\"cells\":{\"fill\":{\"color\":\"#EBF0F8\"},\"line\":{\"color\":\"white\"}},\"header\":{\"fill\":{\"color\":\"#C8D4E3\"},\"line\":{\"color\":\"white\"}},\"type\":\"table\"}]},\"layout\":{\"annotationdefaults\":{\"arrowcolor\":\"#2a3f5f\",\"arrowhead\":0,\"arrowwidth\":1},\"autotypenumbers\":\"strict\",\"coloraxis\":{\"colorbar\":{\"outlinewidth\":0,\"ticks\":\"\"}},\"colorscale\":{\"diverging\":[[0,\"#8e0152\"],[0.1,\"#c51b7d\"],[0.2,\"#de77ae\"],[0.3,\"#f1b6da\"],[0.4,\"#fde0ef\"],[0.5,\"#f7f7f7\"],[0.6,\"#e6f5d0\"],[0.7,\"#b8e186\"],[0.8,\"#7fbc41\"],[0.9,\"#4d9221\"],[1,\"#276419\"]],\"sequential\":[[0.0,\"#0d0887\"],[0.1111111111111111,\"#46039f\"],[0.2222222222222222,\"#7201a8\"],[0.3333333333333333,\"#9c179e\"],[0.4444444444444444,\"#bd3786\"],[0.5555555555555556,\"#d8576b\"],[0.6666666666666666,\"#ed7953\"],[0.7777777777777778,\"#fb9f3a\"],[0.8888888888888888,\"#fdca26\"],[1.0,\"#f0f921\"]],\"sequentialminus\":[[0.0,\"#0d0887\"],[0.1111111111111111,\"#46039f\"],[0.2222222222222222,\"#7201a8\"],[0.3333333333333333,\"#9c179e\"],[0.4444444444444444,\"#bd3786\"],[0.5555555555555556,\"#d8576b\"],[0.6666666666666666,\"#ed7953\"],[0.7777777777777778,\"#fb9f3a\"],[0.8888888888888888,\"#fdca26\"],[1.0,\"#f0f921\"]]},\"colorway\":[\"#636efa\",\"#EF553B\",\"#00cc96\",\"#ab63fa\",\"#FFA15A\",\"#19d3f3\",\"#FF6692\",\"#B6E880\",\"#FF97FF\",\"#FECB52\"],\"font\":{\"color\":\"#2a3f5f\"},\"geo\":{\"bgcolor\":\"white\",\"lakecolor\":\"white\",\"landcolor\":\"white\",\"showlakes\":true,\"showland\":true,\"subunitcolor\":\"#C8D4E3\"},\"hoverlabel\":{\"align\":\"left\"},\"hovermode\":\"closest\",\"mapbox\":{\"style\":\"light\"},\"paper_bgcolor\":\"white\",\"plot_bgcolor\":\"white\",\"polar\":{\"angularaxis\":{\"gridcolor\":\"#EBF0F8\",\"linecolor\":\"#EBF0F8\",\"ticks\":\"\"},\"bgcolor\":\"white\",\"radialaxis\":{\"gridcolor\":\"#EBF0F8\",\"linecolor\":\"#EBF0F8\",\"ticks\":\"\"}},\"scene\":{\"xaxis\":{\"backgroundcolor\":\"white\",\"gridcolor\":\"#DFE8F3\",\"gridwidth\":2,\"linecolor\":\"#EBF0F8\",\"showbackground\":true,\"ticks\":\"\",\"zerolinecolor\":\"#EBF0F8\"},\"yaxis\":{\"backgroundcolor\":\"white\",\"gridcolor\":\"#DFE8F3\",\"gridwidth\":2,\"linecolor\":\"#EBF0F8\",\"showbackground\":true,\"ticks\":\"\",\"zerolinecolor\":\"#EBF0F8\"},\"zaxis\":{\"backgroundcolor\":\"white\",\"gridcolor\":\"#DFE8F3\",\"gridwidth\":2,\"linecolor\":\"#EBF0F8\",\"showbackground\":true,\"ticks\":\"\",\"zerolinecolor\":\"#EBF0F8\"}},\"shapedefaults\":{\"line\":{\"color\":\"#2a3f5f\"}},\"ternary\":{\"aaxis\":{\"gridcolor\":\"#DFE8F3\",\"linecolor\":\"#A2B1C6\",\"ticks\":\"\"},\"baxis\":{\"gridcolor\":\"#DFE8F3\",\"linecolor\":\"#A2B1C6\",\"ticks\":\"\"},\"bgcolor\":\"white\",\"caxis\":{\"gridcolor\":\"#DFE8F3\",\"linecolor\":\"#A2B1C6\",\"ticks\":\"\"}},\"title\":{\"x\":0.05},\"xaxis\":{\"automargin\":true,\"gridcolor\":\"#EBF0F8\",\"linecolor\":\"#EBF0F8\",\"ticks\":\"\",\"title\":{\"standoff\":15},\"zerolinecolor\":\"#EBF0F8\",\"zerolinewidth\":2},\"yaxis\":{\"automargin\":true,\"gridcolor\":\"#EBF0F8\",\"linecolor\":\"#EBF0F8\",\"ticks\":\"\",\"title\":{\"standoff\":15},\"zerolinecolor\":\"#EBF0F8\",\"zerolinewidth\":2}}},\"title\":{\"font\":{\"size\":24},\"x\":0.5},\"width\":600,\"height\":600},                        {\"responsive\": true}                    ).then(function(){\n",
       "                            \n",
       "var gd = document.getElementById('128080d0-2126-47d7-b9bb-91966c2718dd');\n",
       "var x = new MutationObserver(function (mutations, observer) {{\n",
       "        var display = window.getComputedStyle(gd).display;\n",
       "        if (!display || display === 'none') {{\n",
       "            console.log([gd, 'removed!']);\n",
       "            Plotly.purge(gd);\n",
       "            observer.disconnect();\n",
       "        }}\n",
       "}});\n",
       "\n",
       "// Listen for the removal of the full notebook cells\n",
       "var notebookContainer = gd.closest('#notebook-container');\n",
       "if (notebookContainer) {{\n",
       "    x.observe(notebookContainer, {childList: true});\n",
       "}}\n",
       "\n",
       "// Listen for the clearing of the current output cell\n",
       "var outputEl = gd.closest('.output');\n",
       "if (outputEl) {{\n",
       "    x.observe(outputEl, {childList: true});\n",
       "}}\n",
       "\n",
       "                        })                };                });            </script>        </div>"
      ]
     },
     "metadata": {},
     "output_type": "display_data"
    }
   ],
   "source": [
    "#Plotting an annotated heatmap\n",
    "font_size = 18\n",
    "corr_df = rank_df[cols].corr(method=\"pearson\")\n",
    "# to mask upper triangle\n",
    "# mask = np.triu(np.ones_like(corr_df, dtype=np.bool))\n",
    "# corr_df = corr_df.mask(mask)\n",
    "\n",
    "fig = ff.create_annotated_heatmap(\n",
    "    z=corr_df.to_numpy().round(2),\n",
    "    x=list(corr_df.index.values),\n",
    "    y=list(corr_df.columns.values),\n",
    "    xgap=3,\n",
    "    ygap=3,\n",
    "    zmin=-1,\n",
    "    zmax=1,\n",
    "    colorscale=\"RdYlGn\",\n",
    "    showscale=True,\n",
    "    colorbar_thickness=30,\n",
    "    colorbar_ticklen=3,\n",
    ")\n",
    "fig.update_layout(\n",
    "    # title_text=\"Spearman's Correlation between <br> Aggregate Rankings of Forecast Methods\",\n",
    "    title_x=0.5,\n",
    "    titlefont={\"size\": 24},\n",
    "    width=600,\n",
    "    height=600,\n",
    "    xaxis_showgrid=False,\n",
    "    xaxis={\"side\": \"bottom\", \"tickfont\":dict(size=font_size)},\n",
    "    yaxis_showgrid=False,\n",
    "    yaxis_autorange=\"reversed\",\n",
    "    template=\"plotly_white\",\n",
    "    yaxis=dict(\n",
    "        tickfont=dict(size=font_size),\n",
    "    ))\n",
    "# NaN values are not handled automatically and are displayed in the figure\n",
    "# So we need to get rid of the text manually\n",
    "# Also annotation color needs to be switched to black when value is less than 0,5\n",
    "# for better visibility\n",
    "for i in range(len(fig.layout.annotations)):\n",
    "    if fig.layout.annotations[i].text == \"nan\":\n",
    "        fig.layout.annotations[i].text = \"\"\n",
    "    try:\n",
    "        annot = float(fig.layout.annotations[i].text)\n",
    "        if abs(annot) < 0.5:\n",
    "            fig.layout.annotations[i].font = {\"color\": \"#000000\"}\n",
    "    except ValueError:\n",
    "        pass\n",
    "fig.write_image(f\"imgs/chapter_17/aggregate_metric_correlation.png\")\n",
    "fig.show()"
   ]
  },
  {
   "cell_type": "markdown",
   "id": "d0fb9bce-a342-4c75-b03d-693213451425",
   "metadata": {},
   "source": [
    "## Ranking and Plotting Item Level Metrics"
   ]
  },
  {
   "cell_type": "code",
   "execution_count": 209,
   "id": "2d41a978-6cb6-45ce-8051-ca60623781fc",
   "metadata": {},
   "outputs": [],
   "source": [
    "# Calculating rank of households based on each metric for every algorithm\n",
    "def calc_rank(rank_df):\n",
    "    for col in metric_df.columns:\n",
    "        rank_df[col] = rank_df[col].rank(ascending=True)\n",
    "\n",
    "    for col in ['PB(MAE)']:\n",
    "        rank_df[col] = rank_df[col].rank(ascending=False)\n",
    "\n",
    "    for col in ['CFE', 'FB']:\n",
    "        rank_df[col] = np.abs(rank_df[col]).rank(ascending=True)\n",
    "    return rank_df\n",
    "\n",
    "item_rankings =metric_df.groupby('Algorithm').apply(calc_rank)"
   ]
  },
  {
   "cell_type": "code",
   "execution_count": 210,
   "id": "c1bbf468-9fbc-440c-abf7-b14f69b962ba",
   "metadata": {},
   "outputs": [],
   "source": [
    "cols = [\n",
    "    \"MASE\",\n",
    "    \"RMSSE\",\n",
    "    \"MAPE\",\n",
    "    \"WAPE\",\n",
    "    \"sMAPE\",\n",
    "    \"MAE\",\n",
    "    \"MdAE\",\n",
    "    \"MSE\",\n",
    "    \"RMSE\",\n",
    "    \"MRAE\",\n",
    "    \"RelMAE\",\n",
    "    \"RelRMSE\",\n",
    "    \"RelMAPE\",\n",
    "    \"PB(MAE)\",\n",
    "    \"CFE\",\n",
    "    \"FB\",\n",
    "]"
   ]
  },
  {
   "cell_type": "code",
   "execution_count": 211,
   "id": "d6a873a1-1166-4437-aad1-c32c460ebcc4",
   "metadata": {
    "tags": []
   },
   "outputs": [
    {
     "data": {
      "application/vnd.plotly.v1+json": {
       "config": {
        "plotlyServerURL": "https://plot.ly"
       },
       "data": [
        {
         "coloraxis": "coloraxis",
         "hovertemplate": "x: %{x}<br>y: %{y}<br>color: %{z}<extra></extra>",
         "name": "0",
         "type": "heatmap",
         "x": [
          "MASE",
          "RMSSE",
          "MAPE",
          "WAPE",
          "sMAPE",
          "MAE",
          "MdAE",
          "MSE",
          "RMSE",
          "MRAE",
          "RelMAE",
          "RelRMSE",
          "RelMAPE",
          "PB(MAE)",
          "CFE",
          "FB"
         ],
         "xaxis": "x",
         "y": [
          "MASE",
          "RMSSE",
          "MAPE",
          "WAPE",
          "sMAPE",
          "MAE",
          "MdAE",
          "MSE",
          "RMSE",
          "MRAE",
          "RelMAE",
          "RelRMSE",
          "RelMAPE",
          "PB(MAE)",
          "CFE",
          "FB"
         ],
         "yaxis": "y",
         "z": [
          [
           1,
           0.9053035623169894,
           0.43325718125912266,
           0.5486330850834982,
           0.47779916145409945,
           0.6503385952342433,
           0.6680252003166118,
           0.5721386524816399,
           0.5721386524816399,
           0.0813791288795335,
           0.3328303148073412,
           0.34771250428911016,
           0.15848319291127896,
           0.19754849828476514,
           -0.12177303363195612,
           -0.13093972844822238
          ],
          [
           0.9053035623169894,
           1,
           0.34203896734231554,
           0.4559086601798126,
           0.40292822208984425,
           0.6054729932743194,
           0.59248861982435,
           0.5570253399730818,
           0.5570253399730818,
           -0.0076124813545942974,
           0.2359293190226695,
           0.29031434509512477,
           0.07143017151106455,
           0.09237614394953178,
           0.007255485171680031,
           0.0021330877503018065
          ],
          [
           0.43325718125912266,
           0.34203896734231554,
           1,
           0.8398708555641083,
           0.7142122362451906,
           0.39762654430183936,
           0.4245725810430567,
           0.34289803385418965,
           0.34289803385418965,
           0.19634967847231213,
           0.2986433078327593,
           0.22819060893806067,
           0.30652922550673734,
           0.25414098057411183,
           -0.28860474584467444,
           -0.29658240158159277
          ],
          [
           0.5486330850834982,
           0.4559086601798126,
           0.8398708555641083,
           1,
           0.7860455591421536,
           0.4603383996686052,
           0.46127645745105506,
           0.4228744237480682,
           0.4228744237480682,
           0.2567211465124422,
           0.4991179989723914,
           0.4526366692682816,
           0.39510552544042243,
           0.3878776823877171,
           -0.16314405542685748,
           -0.16029519744129028
          ],
          [
           0.47779916145409945,
           0.40292822208984425,
           0.7142122362451906,
           0.7860455591421536,
           1,
           0.40717102953022727,
           0.40756358835665357,
           0.3662218326658369,
           0.3662218326658369,
           0.1591392776082205,
           0.3224056763265298,
           0.28137907403164286,
           0.2633106603210855,
           0.2859336334759537,
           -0.043243989622327686,
           -0.040830885092364586
          ],
          [
           0.6503385952342433,
           0.6054729932743194,
           0.39762654430183936,
           0.4603383996686052,
           0.40717102953022727,
           1,
           0.9480718233153592,
           0.9713571010772094,
           0.9713571010772094,
           0.1408268159602894,
           0.26694887380860527,
           0.24470772715393294,
           0.17100010489429693,
           0.18807161498802696,
           -0.025202010414759127,
           -0.05086946704807896
          ],
          [
           0.6680252003166118,
           0.59248861982435,
           0.4245725810430567,
           0.46127645745105506,
           0.40756358835665357,
           0.9480718233153592,
           1,
           0.8709568452859441,
           0.8709568452859441,
           0.16173685599223192,
           0.30231024205569096,
           0.2710153729320298,
           0.17537813626151472,
           0.21732168028270557,
           -0.14802019381759277,
           -0.17291080116119825
          ],
          [
           0.5721386524816399,
           0.5570253399730818,
           0.34289803385418965,
           0.4228744237480682,
           0.3662218326658369,
           0.9713571010772094,
           0.8709568452859441,
           1,
           1,
           0.12616721573201106,
           0.23392601574125588,
           0.23577855569442696,
           0.1651103790239852,
           0.1626438271509772,
           0.05746820724979608,
           0.036367741625790484
          ],
          [
           0.5721386524816399,
           0.5570253399730818,
           0.34289803385418965,
           0.4228744237480682,
           0.3662218326658369,
           0.9713571010772094,
           0.8709568452859441,
           1,
           1,
           0.12616721573201106,
           0.23392601574125588,
           0.23577855569442696,
           0.1651103790239852,
           0.1626438271509772,
           0.05746820724979608,
           0.036367741625790484
          ],
          [
           0.0813791288795335,
           -0.0076124813545942974,
           0.19634967847231213,
           0.2567211465124422,
           0.1591392776082205,
           0.1408268159602894,
           0.16173685599223192,
           0.12616721573201106,
           0.12616721573201106,
           1,
           0.6650209521913131,
           0.35709609917666846,
           0.7784013753597953,
           0.7517552253863965,
           -0.04752565021129969,
           -0.03087625850932762
          ],
          [
           0.3328303148073412,
           0.2359293190226695,
           0.2986433078327593,
           0.4991179989723914,
           0.3224056763265298,
           0.26694887380860527,
           0.30231024205569096,
           0.23392601574125588,
           0.23392601574125588,
           0.6650209521913131,
           1,
           0.8169612300011906,
           0.752415324523398,
           0.8726694039911002,
           -0.14419907870805787,
           -0.1210889094726663
          ],
          [
           0.34771250428911016,
           0.29031434509512477,
           0.22819060893806067,
           0.4526366692682816,
           0.28137907403164286,
           0.24470772715393294,
           0.2710153729320298,
           0.23577855569442696,
           0.23577855569442696,
           0.35709609917666846,
           0.8169612300011906,
           1,
           0.3944114452122863,
           0.5984030250336727,
           -0.12774169690526258,
           -0.11061299160312268
          ],
          [
           0.15848319291127896,
           0.07143017151106455,
           0.30652922550673734,
           0.39510552544042243,
           0.2633106603210855,
           0.17100010489429693,
           0.17537813626151472,
           0.1651103790239852,
           0.1651103790239852,
           0.7784013753597953,
           0.752415324523398,
           0.3944114452122863,
           1,
           0.8056456651959331,
           -0.04158329940565817,
           -0.03030378455067031
          ],
          [
           0.19754849828476514,
           0.09237614394953178,
           0.25414098057411183,
           0.3878776823877171,
           0.2859336334759537,
           0.18807161498802696,
           0.21732168028270557,
           0.1626438271509772,
           0.1626438271509772,
           0.7517552253863965,
           0.8726694039911002,
           0.5984030250336727,
           0.8056456651959331,
           1,
           -0.04130864337505517,
           -0.021287429548470283
          ],
          [
           -0.12177303363195612,
           0.007255485171680031,
           -0.28860474584467444,
           -0.16314405542685748,
           -0.043243989622327686,
           -0.025202010414759127,
           -0.14802019381759277,
           0.05746820724979608,
           0.05746820724979608,
           -0.04752565021129969,
           -0.14419907870805787,
           -0.12774169690526258,
           -0.04158329940565817,
           -0.04130864337505517,
           1,
           0.9588266772864754
          ],
          [
           -0.13093972844822238,
           0.0021330877503018065,
           -0.29658240158159277,
           -0.16029519744129028,
           -0.040830885092364586,
           -0.05086946704807896,
           -0.17291080116119825,
           0.036367741625790484,
           0.036367741625790484,
           -0.03087625850932762,
           -0.1210889094726663,
           -0.11061299160312268,
           -0.03030378455067031,
           -0.021287429548470283,
           0.9588266772864754,
           1
          ]
         ]
        }
       ],
       "layout": {
        "coloraxis": {
         "cmax": 1,
         "cmin": -1,
         "colorscale": [
          [
           0,
           "rgb(165,0,38)"
          ],
          [
           0.1,
           "rgb(215,48,39)"
          ],
          [
           0.2,
           "rgb(244,109,67)"
          ],
          [
           0.3,
           "rgb(253,174,97)"
          ],
          [
           0.4,
           "rgb(254,224,139)"
          ],
          [
           0.5,
           "rgb(255,255,191)"
          ],
          [
           0.6,
           "rgb(217,239,139)"
          ],
          [
           0.7,
           "rgb(166,217,106)"
          ],
          [
           0.8,
           "rgb(102,189,99)"
          ],
          [
           0.9,
           "rgb(26,152,80)"
          ],
          [
           1,
           "rgb(0,104,55)"
          ]
         ]
        },
        "height": 600,
        "margin": {
         "t": 60
        },
        "template": {
         "data": {
          "bar": [
           {
            "error_x": {
             "color": "#2a3f5f"
            },
            "error_y": {
             "color": "#2a3f5f"
            },
            "marker": {
             "line": {
              "color": "white",
              "width": 0.5
             },
             "pattern": {
              "fillmode": "overlay",
              "size": 10,
              "solidity": 0.2
             }
            },
            "type": "bar"
           }
          ],
          "barpolar": [
           {
            "marker": {
             "line": {
              "color": "white",
              "width": 0.5
             },
             "pattern": {
              "fillmode": "overlay",
              "size": 10,
              "solidity": 0.2
             }
            },
            "type": "barpolar"
           }
          ],
          "carpet": [
           {
            "aaxis": {
             "endlinecolor": "#2a3f5f",
             "gridcolor": "#C8D4E3",
             "linecolor": "#C8D4E3",
             "minorgridcolor": "#C8D4E3",
             "startlinecolor": "#2a3f5f"
            },
            "baxis": {
             "endlinecolor": "#2a3f5f",
             "gridcolor": "#C8D4E3",
             "linecolor": "#C8D4E3",
             "minorgridcolor": "#C8D4E3",
             "startlinecolor": "#2a3f5f"
            },
            "type": "carpet"
           }
          ],
          "choropleth": [
           {
            "colorbar": {
             "outlinewidth": 0,
             "ticks": ""
            },
            "type": "choropleth"
           }
          ],
          "contour": [
           {
            "colorbar": {
             "outlinewidth": 0,
             "ticks": ""
            },
            "colorscale": [
             [
              0,
              "#0d0887"
             ],
             [
              0.1111111111111111,
              "#46039f"
             ],
             [
              0.2222222222222222,
              "#7201a8"
             ],
             [
              0.3333333333333333,
              "#9c179e"
             ],
             [
              0.4444444444444444,
              "#bd3786"
             ],
             [
              0.5555555555555556,
              "#d8576b"
             ],
             [
              0.6666666666666666,
              "#ed7953"
             ],
             [
              0.7777777777777778,
              "#fb9f3a"
             ],
             [
              0.8888888888888888,
              "#fdca26"
             ],
             [
              1,
              "#f0f921"
             ]
            ],
            "type": "contour"
           }
          ],
          "contourcarpet": [
           {
            "colorbar": {
             "outlinewidth": 0,
             "ticks": ""
            },
            "type": "contourcarpet"
           }
          ],
          "heatmap": [
           {
            "colorbar": {
             "outlinewidth": 0,
             "ticks": ""
            },
            "colorscale": [
             [
              0,
              "#0d0887"
             ],
             [
              0.1111111111111111,
              "#46039f"
             ],
             [
              0.2222222222222222,
              "#7201a8"
             ],
             [
              0.3333333333333333,
              "#9c179e"
             ],
             [
              0.4444444444444444,
              "#bd3786"
             ],
             [
              0.5555555555555556,
              "#d8576b"
             ],
             [
              0.6666666666666666,
              "#ed7953"
             ],
             [
              0.7777777777777778,
              "#fb9f3a"
             ],
             [
              0.8888888888888888,
              "#fdca26"
             ],
             [
              1,
              "#f0f921"
             ]
            ],
            "type": "heatmap"
           }
          ],
          "heatmapgl": [
           {
            "colorbar": {
             "outlinewidth": 0,
             "ticks": ""
            },
            "colorscale": [
             [
              0,
              "#0d0887"
             ],
             [
              0.1111111111111111,
              "#46039f"
             ],
             [
              0.2222222222222222,
              "#7201a8"
             ],
             [
              0.3333333333333333,
              "#9c179e"
             ],
             [
              0.4444444444444444,
              "#bd3786"
             ],
             [
              0.5555555555555556,
              "#d8576b"
             ],
             [
              0.6666666666666666,
              "#ed7953"
             ],
             [
              0.7777777777777778,
              "#fb9f3a"
             ],
             [
              0.8888888888888888,
              "#fdca26"
             ],
             [
              1,
              "#f0f921"
             ]
            ],
            "type": "heatmapgl"
           }
          ],
          "histogram": [
           {
            "marker": {
             "pattern": {
              "fillmode": "overlay",
              "size": 10,
              "solidity": 0.2
             }
            },
            "type": "histogram"
           }
          ],
          "histogram2d": [
           {
            "colorbar": {
             "outlinewidth": 0,
             "ticks": ""
            },
            "colorscale": [
             [
              0,
              "#0d0887"
             ],
             [
              0.1111111111111111,
              "#46039f"
             ],
             [
              0.2222222222222222,
              "#7201a8"
             ],
             [
              0.3333333333333333,
              "#9c179e"
             ],
             [
              0.4444444444444444,
              "#bd3786"
             ],
             [
              0.5555555555555556,
              "#d8576b"
             ],
             [
              0.6666666666666666,
              "#ed7953"
             ],
             [
              0.7777777777777778,
              "#fb9f3a"
             ],
             [
              0.8888888888888888,
              "#fdca26"
             ],
             [
              1,
              "#f0f921"
             ]
            ],
            "type": "histogram2d"
           }
          ],
          "histogram2dcontour": [
           {
            "colorbar": {
             "outlinewidth": 0,
             "ticks": ""
            },
            "colorscale": [
             [
              0,
              "#0d0887"
             ],
             [
              0.1111111111111111,
              "#46039f"
             ],
             [
              0.2222222222222222,
              "#7201a8"
             ],
             [
              0.3333333333333333,
              "#9c179e"
             ],
             [
              0.4444444444444444,
              "#bd3786"
             ],
             [
              0.5555555555555556,
              "#d8576b"
             ],
             [
              0.6666666666666666,
              "#ed7953"
             ],
             [
              0.7777777777777778,
              "#fb9f3a"
             ],
             [
              0.8888888888888888,
              "#fdca26"
             ],
             [
              1,
              "#f0f921"
             ]
            ],
            "type": "histogram2dcontour"
           }
          ],
          "mesh3d": [
           {
            "colorbar": {
             "outlinewidth": 0,
             "ticks": ""
            },
            "type": "mesh3d"
           }
          ],
          "parcoords": [
           {
            "line": {
             "colorbar": {
              "outlinewidth": 0,
              "ticks": ""
             }
            },
            "type": "parcoords"
           }
          ],
          "pie": [
           {
            "automargin": true,
            "type": "pie"
           }
          ],
          "scatter": [
           {
            "fillpattern": {
             "fillmode": "overlay",
             "size": 10,
             "solidity": 0.2
            },
            "type": "scatter"
           }
          ],
          "scatter3d": [
           {
            "line": {
             "colorbar": {
              "outlinewidth": 0,
              "ticks": ""
             }
            },
            "marker": {
             "colorbar": {
              "outlinewidth": 0,
              "ticks": ""
             }
            },
            "type": "scatter3d"
           }
          ],
          "scattercarpet": [
           {
            "marker": {
             "colorbar": {
              "outlinewidth": 0,
              "ticks": ""
             }
            },
            "type": "scattercarpet"
           }
          ],
          "scattergeo": [
           {
            "marker": {
             "colorbar": {
              "outlinewidth": 0,
              "ticks": ""
             }
            },
            "type": "scattergeo"
           }
          ],
          "scattergl": [
           {
            "marker": {
             "colorbar": {
              "outlinewidth": 0,
              "ticks": ""
             }
            },
            "type": "scattergl"
           }
          ],
          "scattermapbox": [
           {
            "marker": {
             "colorbar": {
              "outlinewidth": 0,
              "ticks": ""
             }
            },
            "type": "scattermapbox"
           }
          ],
          "scatterpolar": [
           {
            "marker": {
             "colorbar": {
              "outlinewidth": 0,
              "ticks": ""
             }
            },
            "type": "scatterpolar"
           }
          ],
          "scatterpolargl": [
           {
            "marker": {
             "colorbar": {
              "outlinewidth": 0,
              "ticks": ""
             }
            },
            "type": "scatterpolargl"
           }
          ],
          "scatterternary": [
           {
            "marker": {
             "colorbar": {
              "outlinewidth": 0,
              "ticks": ""
             }
            },
            "type": "scatterternary"
           }
          ],
          "surface": [
           {
            "colorbar": {
             "outlinewidth": 0,
             "ticks": ""
            },
            "colorscale": [
             [
              0,
              "#0d0887"
             ],
             [
              0.1111111111111111,
              "#46039f"
             ],
             [
              0.2222222222222222,
              "#7201a8"
             ],
             [
              0.3333333333333333,
              "#9c179e"
             ],
             [
              0.4444444444444444,
              "#bd3786"
             ],
             [
              0.5555555555555556,
              "#d8576b"
             ],
             [
              0.6666666666666666,
              "#ed7953"
             ],
             [
              0.7777777777777778,
              "#fb9f3a"
             ],
             [
              0.8888888888888888,
              "#fdca26"
             ],
             [
              1,
              "#f0f921"
             ]
            ],
            "type": "surface"
           }
          ],
          "table": [
           {
            "cells": {
             "fill": {
              "color": "#EBF0F8"
             },
             "line": {
              "color": "white"
             }
            },
            "header": {
             "fill": {
              "color": "#C8D4E3"
             },
             "line": {
              "color": "white"
             }
            },
            "type": "table"
           }
          ]
         },
         "layout": {
          "annotationdefaults": {
           "arrowcolor": "#2a3f5f",
           "arrowhead": 0,
           "arrowwidth": 1
          },
          "autotypenumbers": "strict",
          "coloraxis": {
           "colorbar": {
            "outlinewidth": 0,
            "ticks": ""
           }
          },
          "colorscale": {
           "diverging": [
            [
             0,
             "#8e0152"
            ],
            [
             0.1,
             "#c51b7d"
            ],
            [
             0.2,
             "#de77ae"
            ],
            [
             0.3,
             "#f1b6da"
            ],
            [
             0.4,
             "#fde0ef"
            ],
            [
             0.5,
             "#f7f7f7"
            ],
            [
             0.6,
             "#e6f5d0"
            ],
            [
             0.7,
             "#b8e186"
            ],
            [
             0.8,
             "#7fbc41"
            ],
            [
             0.9,
             "#4d9221"
            ],
            [
             1,
             "#276419"
            ]
           ],
           "sequential": [
            [
             0,
             "#0d0887"
            ],
            [
             0.1111111111111111,
             "#46039f"
            ],
            [
             0.2222222222222222,
             "#7201a8"
            ],
            [
             0.3333333333333333,
             "#9c179e"
            ],
            [
             0.4444444444444444,
             "#bd3786"
            ],
            [
             0.5555555555555556,
             "#d8576b"
            ],
            [
             0.6666666666666666,
             "#ed7953"
            ],
            [
             0.7777777777777778,
             "#fb9f3a"
            ],
            [
             0.8888888888888888,
             "#fdca26"
            ],
            [
             1,
             "#f0f921"
            ]
           ],
           "sequentialminus": [
            [
             0,
             "#0d0887"
            ],
            [
             0.1111111111111111,
             "#46039f"
            ],
            [
             0.2222222222222222,
             "#7201a8"
            ],
            [
             0.3333333333333333,
             "#9c179e"
            ],
            [
             0.4444444444444444,
             "#bd3786"
            ],
            [
             0.5555555555555556,
             "#d8576b"
            ],
            [
             0.6666666666666666,
             "#ed7953"
            ],
            [
             0.7777777777777778,
             "#fb9f3a"
            ],
            [
             0.8888888888888888,
             "#fdca26"
            ],
            [
             1,
             "#f0f921"
            ]
           ]
          },
          "colorway": [
           "#636efa",
           "#EF553B",
           "#00cc96",
           "#ab63fa",
           "#FFA15A",
           "#19d3f3",
           "#FF6692",
           "#B6E880",
           "#FF97FF",
           "#FECB52"
          ],
          "font": {
           "color": "#2a3f5f"
          },
          "geo": {
           "bgcolor": "white",
           "lakecolor": "white",
           "landcolor": "white",
           "showlakes": true,
           "showland": true,
           "subunitcolor": "#C8D4E3"
          },
          "hoverlabel": {
           "align": "left"
          },
          "hovermode": "closest",
          "mapbox": {
           "style": "light"
          },
          "paper_bgcolor": "white",
          "plot_bgcolor": "white",
          "polar": {
           "angularaxis": {
            "gridcolor": "#EBF0F8",
            "linecolor": "#EBF0F8",
            "ticks": ""
           },
           "bgcolor": "white",
           "radialaxis": {
            "gridcolor": "#EBF0F8",
            "linecolor": "#EBF0F8",
            "ticks": ""
           }
          },
          "scene": {
           "xaxis": {
            "backgroundcolor": "white",
            "gridcolor": "#DFE8F3",
            "gridwidth": 2,
            "linecolor": "#EBF0F8",
            "showbackground": true,
            "ticks": "",
            "zerolinecolor": "#EBF0F8"
           },
           "yaxis": {
            "backgroundcolor": "white",
            "gridcolor": "#DFE8F3",
            "gridwidth": 2,
            "linecolor": "#EBF0F8",
            "showbackground": true,
            "ticks": "",
            "zerolinecolor": "#EBF0F8"
           },
           "zaxis": {
            "backgroundcolor": "white",
            "gridcolor": "#DFE8F3",
            "gridwidth": 2,
            "linecolor": "#EBF0F8",
            "showbackground": true,
            "ticks": "",
            "zerolinecolor": "#EBF0F8"
           }
          },
          "shapedefaults": {
           "line": {
            "color": "#2a3f5f"
           }
          },
          "ternary": {
           "aaxis": {
            "gridcolor": "#DFE8F3",
            "linecolor": "#A2B1C6",
            "ticks": ""
           },
           "baxis": {
            "gridcolor": "#DFE8F3",
            "linecolor": "#A2B1C6",
            "ticks": ""
           },
           "bgcolor": "white",
           "caxis": {
            "gridcolor": "#DFE8F3",
            "linecolor": "#A2B1C6",
            "ticks": ""
           }
          },
          "title": {
           "x": 0.05
          },
          "xaxis": {
           "automargin": true,
           "gridcolor": "#EBF0F8",
           "linecolor": "#EBF0F8",
           "ticks": "",
           "title": {
            "standoff": 15
           },
           "zerolinecolor": "#EBF0F8",
           "zerolinewidth": 2
          },
          "yaxis": {
           "automargin": true,
           "gridcolor": "#EBF0F8",
           "linecolor": "#EBF0F8",
           "ticks": "",
           "title": {
            "standoff": 15
           },
           "zerolinecolor": "#EBF0F8",
           "zerolinewidth": 2
          }
         }
        },
        "width": 600,
        "xaxis": {
         "anchor": "y",
         "autorange": true,
         "constrain": "domain",
         "domain": [
          0,
          1
         ],
         "range": [
          -0.5,
          15.5
         ],
         "scaleanchor": "y",
         "showgrid": false,
         "side": "bottom",
         "tickfont": {
          "size": 18
         },
         "type": "category"
        },
        "yaxis": {
         "anchor": "x",
         "autorange": true,
         "constrain": "domain",
         "domain": [
          0.05652173913043479,
          0.9434782608695652
         ],
         "range": [
          15.5,
          -0.5
         ],
         "showgrid": false,
         "tickfont": {
          "size": 18
         },
         "type": "category"
        }
       }
      },
      "image/png": "[encoded data removed]",
      "text/html": [
       "<div>                            <div id=\"11e500a5-c6d8-4c8c-869b-78a13d1b24d6\" class=\"plotly-graph-div\" style=\"height:600px; width:600px;\"></div>            <script type=\"text/javascript\">                require([\"plotly\"], function(Plotly) {                    window.PLOTLYENV=window.PLOTLYENV || {};                                    if (document.getElementById(\"11e500a5-c6d8-4c8c-869b-78a13d1b24d6\")) {                    Plotly.newPlot(                        \"11e500a5-c6d8-4c8c-869b-78a13d1b24d6\",                        [{\"coloraxis\":\"coloraxis\",\"name\":\"0\",\"x\":[\"MASE\",\"RMSSE\",\"MAPE\",\"WAPE\",\"sMAPE\",\"MAE\",\"MdAE\",\"MSE\",\"RMSE\",\"MRAE\",\"RelMAE\",\"RelRMSE\",\"RelMAPE\",\"PB(MAE)\",\"CFE\",\"FB\"],\"y\":[\"MASE\",\"RMSSE\",\"MAPE\",\"WAPE\",\"sMAPE\",\"MAE\",\"MdAE\",\"MSE\",\"RMSE\",\"MRAE\",\"RelMAE\",\"RelRMSE\",\"RelMAPE\",\"PB(MAE)\",\"CFE\",\"FB\"],\"z\":[[1.0,0.9053035623169894,0.43325718125912266,0.5486330850834982,0.47779916145409945,0.6503385952342433,0.6680252003166118,0.5721386524816399,0.5721386524816399,0.0813791288795335,0.3328303148073412,0.34771250428911016,0.15848319291127896,0.19754849828476514,-0.12177303363195612,-0.13093972844822238],[0.9053035623169894,1.0,0.34203896734231554,0.4559086601798126,0.40292822208984425,0.6054729932743194,0.59248861982435,0.5570253399730818,0.5570253399730818,-0.0076124813545942974,0.2359293190226695,0.29031434509512477,0.07143017151106455,0.09237614394953178,0.007255485171680031,0.0021330877503018065],[0.43325718125912266,0.34203896734231554,1.0,0.8398708555641083,0.7142122362451906,0.39762654430183936,0.4245725810430567,0.34289803385418965,0.34289803385418965,0.19634967847231213,0.2986433078327593,0.22819060893806067,0.30652922550673734,0.25414098057411183,-0.28860474584467444,-0.29658240158159277],[0.5486330850834982,0.4559086601798126,0.8398708555641083,1.0,0.7860455591421536,0.4603383996686052,0.46127645745105506,0.4228744237480682,0.4228744237480682,0.2567211465124422,0.4991179989723914,0.4526366692682816,0.39510552544042243,0.3878776823877171,-0.16314405542685748,-0.16029519744129028],[0.47779916145409945,0.40292822208984425,0.7142122362451906,0.7860455591421536,1.0,0.40717102953022727,0.40756358835665357,0.3662218326658369,0.3662218326658369,0.1591392776082205,0.3224056763265298,0.28137907403164286,0.2633106603210855,0.2859336334759537,-0.043243989622327686,-0.040830885092364586],[0.6503385952342433,0.6054729932743194,0.39762654430183936,0.4603383996686052,0.40717102953022727,1.0,0.9480718233153592,0.9713571010772094,0.9713571010772094,0.1408268159602894,0.26694887380860527,0.24470772715393294,0.17100010489429693,0.18807161498802696,-0.025202010414759127,-0.05086946704807896],[0.6680252003166118,0.59248861982435,0.4245725810430567,0.46127645745105506,0.40756358835665357,0.9480718233153592,1.0,0.8709568452859441,0.8709568452859441,0.16173685599223192,0.30231024205569096,0.2710153729320298,0.17537813626151472,0.21732168028270557,-0.14802019381759277,-0.17291080116119825],[0.5721386524816399,0.5570253399730818,0.34289803385418965,0.4228744237480682,0.3662218326658369,0.9713571010772094,0.8709568452859441,1.0,1.0,0.12616721573201106,0.23392601574125588,0.23577855569442696,0.1651103790239852,0.1626438271509772,0.05746820724979608,0.036367741625790484],[0.5721386524816399,0.5570253399730818,0.34289803385418965,0.4228744237480682,0.3662218326658369,0.9713571010772094,0.8709568452859441,1.0,1.0,0.12616721573201106,0.23392601574125588,0.23577855569442696,0.1651103790239852,0.1626438271509772,0.05746820724979608,0.036367741625790484],[0.0813791288795335,-0.0076124813545942974,0.19634967847231213,0.2567211465124422,0.1591392776082205,0.1408268159602894,0.16173685599223192,0.12616721573201106,0.12616721573201106,1.0,0.6650209521913131,0.35709609917666846,0.7784013753597953,0.7517552253863965,-0.04752565021129969,-0.03087625850932762],[0.3328303148073412,0.2359293190226695,0.2986433078327593,0.4991179989723914,0.3224056763265298,0.26694887380860527,0.30231024205569096,0.23392601574125588,0.23392601574125588,0.6650209521913131,1.0,0.8169612300011906,0.752415324523398,0.8726694039911002,-0.14419907870805787,-0.1210889094726663],[0.34771250428911016,0.29031434509512477,0.22819060893806067,0.4526366692682816,0.28137907403164286,0.24470772715393294,0.2710153729320298,0.23577855569442696,0.23577855569442696,0.35709609917666846,0.8169612300011906,1.0,0.3944114452122863,0.5984030250336727,-0.12774169690526258,-0.11061299160312268],[0.15848319291127896,0.07143017151106455,0.30652922550673734,0.39510552544042243,0.2633106603210855,0.17100010489429693,0.17537813626151472,0.1651103790239852,0.1651103790239852,0.7784013753597953,0.752415324523398,0.3944114452122863,1.0,0.8056456651959331,-0.04158329940565817,-0.03030378455067031],[0.19754849828476514,0.09237614394953178,0.25414098057411183,0.3878776823877171,0.2859336334759537,0.18807161498802696,0.21732168028270557,0.1626438271509772,0.1626438271509772,0.7517552253863965,0.8726694039911002,0.5984030250336727,0.8056456651959331,1.0,-0.04130864337505517,-0.021287429548470283],[-0.12177303363195612,0.007255485171680031,-0.28860474584467444,-0.16314405542685748,-0.043243989622327686,-0.025202010414759127,-0.14802019381759277,0.05746820724979608,0.05746820724979608,-0.04752565021129969,-0.14419907870805787,-0.12774169690526258,-0.04158329940565817,-0.04130864337505517,1.0,0.9588266772864754],[-0.13093972844822238,0.0021330877503018065,-0.29658240158159277,-0.16029519744129028,-0.040830885092364586,-0.05086946704807896,-0.17291080116119825,0.036367741625790484,0.036367741625790484,-0.03087625850932762,-0.1210889094726663,-0.11061299160312268,-0.03030378455067031,-0.021287429548470283,0.9588266772864754,1.0]],\"type\":\"heatmap\",\"xaxis\":\"x\",\"yaxis\":\"y\",\"hovertemplate\":\"x: %{x}<br>y: %{y}<br>color: %{z}<extra></extra>\"}],                        {\"template\":{\"data\":{\"barpolar\":[{\"marker\":{\"line\":{\"color\":\"white\",\"width\":0.5},\"pattern\":{\"fillmode\":\"overlay\",\"size\":10,\"solidity\":0.2}},\"type\":\"barpolar\"}],\"bar\":[{\"error_x\":{\"color\":\"#2a3f5f\"},\"error_y\":{\"color\":\"#2a3f5f\"},\"marker\":{\"line\":{\"color\":\"white\",\"width\":0.5},\"pattern\":{\"fillmode\":\"overlay\",\"size\":10,\"solidity\":0.2}},\"type\":\"bar\"}],\"carpet\":[{\"aaxis\":{\"endlinecolor\":\"#2a3f5f\",\"gridcolor\":\"#C8D4E3\",\"linecolor\":\"#C8D4E3\",\"minorgridcolor\":\"#C8D4E3\",\"startlinecolor\":\"#2a3f5f\"},\"baxis\":{\"endlinecolor\":\"#2a3f5f\",\"gridcolor\":\"#C8D4E3\",\"linecolor\":\"#C8D4E3\",\"minorgridcolor\":\"#C8D4E3\",\"startlinecolor\":\"#2a3f5f\"},\"type\":\"carpet\"}],\"choropleth\":[{\"colorbar\":{\"outlinewidth\":0,\"ticks\":\"\"},\"type\":\"choropleth\"}],\"contourcarpet\":[{\"colorbar\":{\"outlinewidth\":0,\"ticks\":\"\"},\"type\":\"contourcarpet\"}],\"contour\":[{\"colorbar\":{\"outlinewidth\":0,\"ticks\":\"\"},\"colorscale\":[[0.0,\"#0d0887\"],[0.1111111111111111,\"#46039f\"],[0.2222222222222222,\"#7201a8\"],[0.3333333333333333,\"#9c179e\"],[0.4444444444444444,\"#bd3786\"],[0.5555555555555556,\"#d8576b\"],[0.6666666666666666,\"#ed7953\"],[0.7777777777777778,\"#fb9f3a\"],[0.8888888888888888,\"#fdca26\"],[1.0,\"#f0f921\"]],\"type\":\"contour\"}],\"heatmapgl\":[{\"colorbar\":{\"outlinewidth\":0,\"ticks\":\"\"},\"colorscale\":[[0.0,\"#0d0887\"],[0.1111111111111111,\"#46039f\"],[0.2222222222222222,\"#7201a8\"],[0.3333333333333333,\"#9c179e\"],[0.4444444444444444,\"#bd3786\"],[0.5555555555555556,\"#d8576b\"],[0.6666666666666666,\"#ed7953\"],[0.7777777777777778,\"#fb9f3a\"],[0.8888888888888888,\"#fdca26\"],[1.0,\"#f0f921\"]],\"type\":\"heatmapgl\"}],\"heatmap\":[{\"colorbar\":{\"outlinewidth\":0,\"ticks\":\"\"},\"colorscale\":[[0.0,\"#0d0887\"],[0.1111111111111111,\"#46039f\"],[0.2222222222222222,\"#7201a8\"],[0.3333333333333333,\"#9c179e\"],[0.4444444444444444,\"#bd3786\"],[0.5555555555555556,\"#d8576b\"],[0.6666666666666666,\"#ed7953\"],[0.7777777777777778,\"#fb9f3a\"],[0.8888888888888888,\"#fdca26\"],[1.0,\"#f0f921\"]],\"type\":\"heatmap\"}],\"histogram2dcontour\":[{\"colorbar\":{\"outlinewidth\":0,\"ticks\":\"\"},\"colorscale\":[[0.0,\"#0d0887\"],[0.1111111111111111,\"#46039f\"],[0.2222222222222222,\"#7201a8\"],[0.3333333333333333,\"#9c179e\"],[0.4444444444444444,\"#bd3786\"],[0.5555555555555556,\"#d8576b\"],[0.6666666666666666,\"#ed7953\"],[0.7777777777777778,\"#fb9f3a\"],[0.8888888888888888,\"#fdca26\"],[1.0,\"#f0f921\"]],\"type\":\"histogram2dcontour\"}],\"histogram2d\":[{\"colorbar\":{\"outlinewidth\":0,\"ticks\":\"\"},\"colorscale\":[[0.0,\"#0d0887\"],[0.1111111111111111,\"#46039f\"],[0.2222222222222222,\"#7201a8\"],[0.3333333333333333,\"#9c179e\"],[0.4444444444444444,\"#bd3786\"],[0.5555555555555556,\"#d8576b\"],[0.6666666666666666,\"#ed7953\"],[0.7777777777777778,\"#fb9f3a\"],[0.8888888888888888,\"#fdca26\"],[1.0,\"#f0f921\"]],\"type\":\"histogram2d\"}],\"histogram\":[{\"marker\":{\"pattern\":{\"fillmode\":\"overlay\",\"size\":10,\"solidity\":0.2}},\"type\":\"histogram\"}],\"mesh3d\":[{\"colorbar\":{\"outlinewidth\":0,\"ticks\":\"\"},\"type\":\"mesh3d\"}],\"parcoords\":[{\"line\":{\"colorbar\":{\"outlinewidth\":0,\"ticks\":\"\"}},\"type\":\"parcoords\"}],\"pie\":[{\"automargin\":true,\"type\":\"pie\"}],\"scatter3d\":[{\"line\":{\"colorbar\":{\"outlinewidth\":0,\"ticks\":\"\"}},\"marker\":{\"colorbar\":{\"outlinewidth\":0,\"ticks\":\"\"}},\"type\":\"scatter3d\"}],\"scattercarpet\":[{\"marker\":{\"colorbar\":{\"outlinewidth\":0,\"ticks\":\"\"}},\"type\":\"scattercarpet\"}],\"scattergeo\":[{\"marker\":{\"colorbar\":{\"outlinewidth\":0,\"ticks\":\"\"}},\"type\":\"scattergeo\"}],\"scattergl\":[{\"marker\":{\"colorbar\":{\"outlinewidth\":0,\"ticks\":\"\"}},\"type\":\"scattergl\"}],\"scattermapbox\":[{\"marker\":{\"colorbar\":{\"outlinewidth\":0,\"ticks\":\"\"}},\"type\":\"scattermapbox\"}],\"scatterpolargl\":[{\"marker\":{\"colorbar\":{\"outlinewidth\":0,\"ticks\":\"\"}},\"type\":\"scatterpolargl\"}],\"scatterpolar\":[{\"marker\":{\"colorbar\":{\"outlinewidth\":0,\"ticks\":\"\"}},\"type\":\"scatterpolar\"}],\"scatter\":[{\"fillpattern\":{\"fillmode\":\"overlay\",\"size\":10,\"solidity\":0.2},\"type\":\"scatter\"}],\"scatterternary\":[{\"marker\":{\"colorbar\":{\"outlinewidth\":0,\"ticks\":\"\"}},\"type\":\"scatterternary\"}],\"surface\":[{\"colorbar\":{\"outlinewidth\":0,\"ticks\":\"\"},\"colorscale\":[[0.0,\"#0d0887\"],[0.1111111111111111,\"#46039f\"],[0.2222222222222222,\"#7201a8\"],[0.3333333333333333,\"#9c179e\"],[0.4444444444444444,\"#bd3786\"],[0.5555555555555556,\"#d8576b\"],[0.6666666666666666,\"#ed7953\"],[0.7777777777777778,\"#fb9f3a\"],[0.8888888888888888,\"#fdca26\"],[1.0,\"#f0f921\"]],\"type\":\"surface\"}],\"table\":[{\"cells\":{\"fill\":{\"color\":\"#EBF0F8\"},\"line\":{\"color\":\"white\"}},\"header\":{\"fill\":{\"color\":\"#C8D4E3\"},\"line\":{\"color\":\"white\"}},\"type\":\"table\"}]},\"layout\":{\"annotationdefaults\":{\"arrowcolor\":\"#2a3f5f\",\"arrowhead\":0,\"arrowwidth\":1},\"autotypenumbers\":\"strict\",\"coloraxis\":{\"colorbar\":{\"outlinewidth\":0,\"ticks\":\"\"}},\"colorscale\":{\"diverging\":[[0,\"#8e0152\"],[0.1,\"#c51b7d\"],[0.2,\"#de77ae\"],[0.3,\"#f1b6da\"],[0.4,\"#fde0ef\"],[0.5,\"#f7f7f7\"],[0.6,\"#e6f5d0\"],[0.7,\"#b8e186\"],[0.8,\"#7fbc41\"],[0.9,\"#4d9221\"],[1,\"#276419\"]],\"sequential\":[[0.0,\"#0d0887\"],[0.1111111111111111,\"#46039f\"],[0.2222222222222222,\"#7201a8\"],[0.3333333333333333,\"#9c179e\"],[0.4444444444444444,\"#bd3786\"],[0.5555555555555556,\"#d8576b\"],[0.6666666666666666,\"#ed7953\"],[0.7777777777777778,\"#fb9f3a\"],[0.8888888888888888,\"#fdca26\"],[1.0,\"#f0f921\"]],\"sequentialminus\":[[0.0,\"#0d0887\"],[0.1111111111111111,\"#46039f\"],[0.2222222222222222,\"#7201a8\"],[0.3333333333333333,\"#9c179e\"],[0.4444444444444444,\"#bd3786\"],[0.5555555555555556,\"#d8576b\"],[0.6666666666666666,\"#ed7953\"],[0.7777777777777778,\"#fb9f3a\"],[0.8888888888888888,\"#fdca26\"],[1.0,\"#f0f921\"]]},\"colorway\":[\"#636efa\",\"#EF553B\",\"#00cc96\",\"#ab63fa\",\"#FFA15A\",\"#19d3f3\",\"#FF6692\",\"#B6E880\",\"#FF97FF\",\"#FECB52\"],\"font\":{\"color\":\"#2a3f5f\"},\"geo\":{\"bgcolor\":\"white\",\"lakecolor\":\"white\",\"landcolor\":\"white\",\"showlakes\":true,\"showland\":true,\"subunitcolor\":\"#C8D4E3\"},\"hoverlabel\":{\"align\":\"left\"},\"hovermode\":\"closest\",\"mapbox\":{\"style\":\"light\"},\"paper_bgcolor\":\"white\",\"plot_bgcolor\":\"white\",\"polar\":{\"angularaxis\":{\"gridcolor\":\"#EBF0F8\",\"linecolor\":\"#EBF0F8\",\"ticks\":\"\"},\"bgcolor\":\"white\",\"radialaxis\":{\"gridcolor\":\"#EBF0F8\",\"linecolor\":\"#EBF0F8\",\"ticks\":\"\"}},\"scene\":{\"xaxis\":{\"backgroundcolor\":\"white\",\"gridcolor\":\"#DFE8F3\",\"gridwidth\":2,\"linecolor\":\"#EBF0F8\",\"showbackground\":true,\"ticks\":\"\",\"zerolinecolor\":\"#EBF0F8\"},\"yaxis\":{\"backgroundcolor\":\"white\",\"gridcolor\":\"#DFE8F3\",\"gridwidth\":2,\"linecolor\":\"#EBF0F8\",\"showbackground\":true,\"ticks\":\"\",\"zerolinecolor\":\"#EBF0F8\"},\"zaxis\":{\"backgroundcolor\":\"white\",\"gridcolor\":\"#DFE8F3\",\"gridwidth\":2,\"linecolor\":\"#EBF0F8\",\"showbackground\":true,\"ticks\":\"\",\"zerolinecolor\":\"#EBF0F8\"}},\"shapedefaults\":{\"line\":{\"color\":\"#2a3f5f\"}},\"ternary\":{\"aaxis\":{\"gridcolor\":\"#DFE8F3\",\"linecolor\":\"#A2B1C6\",\"ticks\":\"\"},\"baxis\":{\"gridcolor\":\"#DFE8F3\",\"linecolor\":\"#A2B1C6\",\"ticks\":\"\"},\"bgcolor\":\"white\",\"caxis\":{\"gridcolor\":\"#DFE8F3\",\"linecolor\":\"#A2B1C6\",\"ticks\":\"\"}},\"title\":{\"x\":0.05},\"xaxis\":{\"automargin\":true,\"gridcolor\":\"#EBF0F8\",\"linecolor\":\"#EBF0F8\",\"ticks\":\"\",\"title\":{\"standoff\":15},\"zerolinecolor\":\"#EBF0F8\",\"zerolinewidth\":2},\"yaxis\":{\"automargin\":true,\"gridcolor\":\"#EBF0F8\",\"linecolor\":\"#EBF0F8\",\"ticks\":\"\",\"title\":{\"standoff\":15},\"zerolinecolor\":\"#EBF0F8\",\"zerolinewidth\":2}}},\"xaxis\":{\"anchor\":\"y\",\"domain\":[0.0,1.0],\"scaleanchor\":\"y\",\"constrain\":\"domain\",\"tickfont\":{\"size\":18},\"showgrid\":false,\"side\":\"bottom\"},\"yaxis\":{\"anchor\":\"x\",\"domain\":[0.0,1.0],\"autorange\":\"reversed\",\"constrain\":\"domain\",\"tickfont\":{\"size\":18},\"showgrid\":false},\"coloraxis\":{\"colorscale\":[[0.0,\"rgb(165,0,38)\"],[0.1,\"rgb(215,48,39)\"],[0.2,\"rgb(244,109,67)\"],[0.3,\"rgb(253,174,97)\"],[0.4,\"rgb(254,224,139)\"],[0.5,\"rgb(255,255,191)\"],[0.6,\"rgb(217,239,139)\"],[0.7,\"rgb(166,217,106)\"],[0.8,\"rgb(102,189,99)\"],[0.9,\"rgb(26,152,80)\"],[1.0,\"rgb(0,104,55)\"]],\"cmin\":-1,\"cmax\":1},\"margin\":{\"t\":60},\"width\":600,\"height\":600},                        {\"responsive\": true}                    ).then(function(){\n",
       "                            \n",
       "var gd = document.getElementById('11e500a5-c6d8-4c8c-869b-78a13d1b24d6');\n",
       "var x = new MutationObserver(function (mutations, observer) {{\n",
       "        var display = window.getComputedStyle(gd).display;\n",
       "        if (!display || display === 'none') {{\n",
       "            console.log([gd, 'removed!']);\n",
       "            Plotly.purge(gd);\n",
       "            observer.disconnect();\n",
       "        }}\n",
       "}});\n",
       "\n",
       "// Listen for the removal of the full notebook cells\n",
       "var notebookContainer = gd.closest('#notebook-container');\n",
       "if (notebookContainer) {{\n",
       "    x.observe(notebookContainer, {childList: true});\n",
       "}}\n",
       "\n",
       "// Listen for the clearing of the current output cell\n",
       "var outputEl = gd.closest('.output');\n",
       "if (outputEl) {{\n",
       "    x.observe(outputEl, {childList: true});\n",
       "}}\n",
       "\n",
       "                        })                };                });            </script>        </div>"
      ]
     },
     "metadata": {},
     "output_type": "display_data"
    }
   ],
   "source": [
    "corr_df = item_rankings[cols].corr(method='pearson')\n",
    "# to mask upper triangle\n",
    "# mask = np.triu(np.ones_like(corr_df, dtype=np.bool))\n",
    "# corr_df = corr_df.mask(mask)\n",
    "fig = px.imshow(corr_df, template=\"plotly_white\", color_continuous_scale=\"RdYlGn\", range_color=[-1,1])\n",
    "fig.update_layout(\n",
    "    # title_text=\"Spearman's Correlation between <br> Aggregate Rankings of Forecast Methods\",\n",
    "    # title_x=0.5,\n",
    "    # titlefont={\"size\": 24},\n",
    "    width=600,\n",
    "    height=600,\n",
    "    xaxis_showgrid=False,\n",
    "    xaxis={\"side\": \"bottom\", \"tickfont\":dict(size=font_size)},\n",
    "    yaxis_showgrid=False,\n",
    "    yaxis_autorange=\"reversed\",\n",
    "    template=\"plotly_white\",\n",
    "    yaxis=dict(\n",
    "        tickfont=dict(size=font_size),\n",
    "    ))\n",
    "fig.write_image(f\"imgs/chapter_17/item_lvl_metric_correlation.png\")\n",
    "fig.show()"
   ]
  }
 ],
 "metadata": {
  "kernelspec": {
   "display_name": "Python 3 (ipykernel)",
   "language": "python",
   "name": "python3"
  },
  "language_info": {
   "codemirror_mode": {
    "name": "ipython",
    "version": 3
   },
   "file_extension": ".py",
   "mimetype": "text/x-python",
   "name": "python",
   "nbconvert_exporter": "python",
   "pygments_lexer": "ipython3",
   "version": "3.9.0"
  }
 },
 "nbformat": 4,
 "nbformat_minor": 5
}

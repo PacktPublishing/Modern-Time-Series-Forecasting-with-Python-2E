{
 "cells": [
  {
   "cell_type": "code",
   "execution_count": 1,
   "id": "b25018c9-2624-434c-aa23-04be1d73e729",
   "metadata": {},
   "outputs": [
    {
     "name": "stdout",
     "output_type": "stream",
     "text": [
      "c:\\Users\\tacke\\OneDrive\\Documents\\GitHub\\Modern-Time-Series-Forecasting-with-Python-2E-1\n"
     ]
    }
   ],
   "source": [
    "%cd ../.."
   ]
  },
  {
   "cell_type": "code",
   "execution_count": 2,
   "id": "4f023467-970a-461e-a60f-7a66fce6a497",
   "metadata": {},
   "outputs": [
    {
     "name": "stderr",
     "output_type": "stream",
     "text": [
      "C:\\Users\\tacke\\AppData\\Local\\Temp\\ipykernel_44304\\4214604171.py:11: TqdmExperimentalWarning: Using `tqdm.autonotebook.tqdm` in notebook mode. Use `tqdm.tqdm` instead to force console mode (e.g. in jupyter console)\n",
      "  from tqdm.autonotebook import tqdm\n"
     ]
    }
   ],
   "source": [
    "import numpy as np\n",
    "import pandas as pd\n",
    "import time\n",
    "import plotly.express as px\n",
    "import plotly.graph_objects as go\n",
    "import os\n",
    "import plotly.io as pio\n",
    "pio.templates.default = \"plotly_white\"\n",
    "\n",
    "from pathlib import Path\n",
    "from tqdm.autonotebook import tqdm\n",
    "import warnings\n",
    "import humanize\n",
    "\n",
    "from sklearn.preprocessing import StandardScaler\n",
    "\n",
    "from src.utils.ts_utils import forecast_bias, metrics_adapter,mase, mse, mae\n",
    "from src.utils.general import LogTime\n",
    "from src.utils import plotting_utils\n",
    "from src.forecasting.ml_forecasting import MissingValueConfig, FeatureConfig, ModelConfig, MLForecast, calculate_metrics\n",
    "from IPython.display import display, HTML\n",
    "# %load_ext autoreload\n",
    "# %autoreload 2\n",
    "np.random.seed(42)\n",
    "tqdm.pandas()"
   ]
  },
  {
   "cell_type": "code",
   "execution_count": 3,
   "id": "41ae72a1-3721-4b36-b211-b78d4b09c855",
   "metadata": {},
   "outputs": [],
   "source": [
    "os.makedirs(\"imgs/chapter_8\", exist_ok=True)\n",
    "preprocessed = Path(\"data/london_smart_meters/preprocessed\")\n",
    "output = Path(\"data/london_smart_meters/output\")"
   ]
  },
  {
   "cell_type": "code",
   "execution_count": 4,
   "id": "9158a79f-5aa1-4863-9308-58ffba8142b7",
   "metadata": {},
   "outputs": [],
   "source": [
    "def format_plot(fig, legends = None, xlabel=\"Time\", ylabel=\"Value\", title=\"\"):\n",
    "    if legends:\n",
    "        names = cycle(legends)\n",
    "        fig.for_each_trace(lambda t:  t.update(name = next(names)))\n",
    "    fig.update_layout(\n",
    "            autosize=False,\n",
    "            width=900,\n",
    "            height=500,\n",
    "            title_text=title,\n",
    "            title={\n",
    "            'x':0.5,\n",
    "            'xanchor': 'center',\n",
    "            'yanchor': 'top'},\n",
    "            titlefont={\n",
    "                \"size\": 20\n",
    "            },\n",
    "            legend_title = None,\n",
    "            yaxis=dict(\n",
    "                title_text=ylabel,\n",
    "                titlefont=dict(size=12),\n",
    "            ),\n",
    "            xaxis=dict(\n",
    "                title_text=xlabel,\n",
    "                titlefont=dict(size=12),\n",
    "            )\n",
    "        )\n",
    "    return fig\n",
    "\n",
    "def highlight_abs_min(s, props=''):\n",
    "    return np.where(s == np.nanmin(np.abs(s.values)), props, '')"
   ]
  },
  {
   "cell_type": "code",
   "execution_count": 5,
   "id": "91a45da0-76e2-46ed-9eef-5cd1a1b5623c",
   "metadata": {},
   "outputs": [],
   "source": [
    "#Readin the missing value imputed and train test split data\n",
    "try:\n",
    "    train_df = pd.read_parquet(preprocessed/\"selected_blocks_train_missing_imputed_feature_engg.parquet\")\n",
    "    val_df = pd.read_parquet(preprocessed/\"selected_blocks_val_missing_imputed_feature_engg.parquet\")\n",
    "\n",
    "    # Combine train and val into new train\n",
    "    train_df = pd.concat([train_df, val_df])\n",
    "    del val_df\n",
    "    test_df = pd.read_parquet(preprocessed/\"selected_blocks_test_missing_imputed_feature_engg.parquet\")\n",
    "except FileNotFoundError:\n",
    "    display(HTML(\"\"\"\n",
    "    <div class=\"alert alert-block alert-warning\">\n",
    "    <b>Warning!</b> File not found. Please make sure you have run 01-Feature Engineering.ipynb in Chapter06\n",
    "    </div>\n",
    "    \"\"\"))"
   ]
  },
  {
   "cell_type": "markdown",
   "id": "f9e0d943-62c0-48dd-a48e-b7bc4ba055bb",
   "metadata": {},
   "source": [
    "### Loading the single step backtesting baselines for test"
   ]
  },
  {
   "cell_type": "code",
   "execution_count": 6,
   "id": "61408f34-fcb9-414c-95b3-5d7619467d6d",
   "metadata": {
    "tags": []
   },
   "outputs": [],
   "source": [
    "try:\n",
    "    # baseline_metrics_df = pd.read_pickle(output/\"single_step_backtesting_baseline_metrics_val_df.pkl\")\n",
    "    # baseline_aggregate_metrics_df = pd.read_pickle(output/\"single_step_backtesting_baseline_aggregate_metrics_val.pkl\")\n",
    "    baseline_metrics_df = pd.read_pickle(output/\"single_step_backtesting_baseline_metrics_test_df.pkl\")\n",
    "    baseline_aggregate_metrics_df = pd.read_pickle(output/\"single_step_backtesting_baseline_aggregate_metrics_test.pkl\")\n",
    "except FileNotFoundError:\n",
    "    display(HTML(\"\"\"\n",
    "    <div class=\"alert alert-block alert-warning\">\n",
    "    <b>Warning!</b> File not found. Please make sure you have run 00-Single Step Backtesting Baselines.ipynb in Chapter08\n",
    "    </div>\n",
    "    \"\"\"))"
   ]
  },
  {
   "cell_type": "code",
   "execution_count": 7,
   "id": "6046a8fe-283d-4f4b-ab1f-a5b23bad55e7",
   "metadata": {},
   "outputs": [
    {
     "data": {
      "text/plain": [
       "150"
      ]
     },
     "execution_count": 7,
     "metadata": {},
     "output_type": "execute_result"
    }
   ],
   "source": [
    "len(train_df.LCLid.unique())"
   ]
  },
  {
   "cell_type": "markdown",
   "id": "debe3f31-9081-49ee-beed-b56c040cebc2",
   "metadata": {
    "tags": []
   },
   "source": [
    "# Feature Definition"
   ]
  },
  {
   "cell_type": "code",
   "execution_count": 8,
   "id": "ac11fa11-5a07-4355-94f6-a6e241aa6d16",
   "metadata": {},
   "outputs": [],
   "source": [
    "feat_config = FeatureConfig(\n",
    "    date=\"timestamp\",\n",
    "    target=\"energy_consumption\",\n",
    "    continuous_features=[\n",
    "        \"visibility\",\n",
    "        \"windBearing\",\n",
    "        \"temperature\",\n",
    "        \"dewPoint\",\n",
    "        \"pressure\",\n",
    "        \"apparentTemperature\",\n",
    "        \"windSpeed\",\n",
    "        \"humidity\",\n",
    "        \"energy_consumption_lag_1\",\n",
    "        \"energy_consumption_lag_2\",\n",
    "        \"energy_consumption_lag_3\",\n",
    "        \"energy_consumption_lag_4\",\n",
    "        \"energy_consumption_lag_5\",\n",
    "        \"energy_consumption_lag_46\",\n",
    "        \"energy_consumption_lag_47\",\n",
    "        \"energy_consumption_lag_48\",\n",
    "        \"energy_consumption_lag_49\",\n",
    "        \"energy_consumption_lag_50\",\n",
    "        \"energy_consumption_lag_334\",\n",
    "        \"energy_consumption_lag_335\",\n",
    "        \"energy_consumption_lag_336\",\n",
    "        \"energy_consumption_lag_337\",\n",
    "        \"energy_consumption_lag_338\",\n",
    "        \"energy_consumption_rolling_3_mean\",\n",
    "        \"energy_consumption_rolling_3_std\",\n",
    "        \"energy_consumption_rolling_6_mean\",\n",
    "        \"energy_consumption_rolling_6_std\",\n",
    "        \"energy_consumption_rolling_12_mean\",\n",
    "        \"energy_consumption_rolling_12_std\",\n",
    "        \"energy_consumption_rolling_48_mean\",\n",
    "        \"energy_consumption_rolling_48_std\",\n",
    "        \"energy_consumption_48_seasonal_rolling_3_mean\",\n",
    "        \"energy_consumption_48_seasonal_rolling_3_std\",\n",
    "        \"energy_consumption_336_seasonal_rolling_3_mean\",\n",
    "        \"energy_consumption_336_seasonal_rolling_3_std\",\n",
    "        \"energy_consumption_ewma_span_2880\",\n",
    "        \"energy_consumption_ewma_span_336\",\n",
    "        \"energy_consumption_ewma_span_48\",\n",
    "        \"timestamp_Elapsed\",\n",
    "        \"timestamp_Month_sin_1\",\n",
    "        \"timestamp_Month_sin_2\",\n",
    "        \"timestamp_Month_sin_3\",\n",
    "        \"timestamp_Month_sin_4\",\n",
    "        \"timestamp_Month_sin_5\",\n",
    "        \"timestamp_Month_cos_1\",\n",
    "        \"timestamp_Month_cos_2\",\n",
    "        \"timestamp_Month_cos_3\",\n",
    "        \"timestamp_Month_cos_4\",\n",
    "        \"timestamp_Month_cos_5\",\n",
    "        \"timestamp_Hour_sin_1\",\n",
    "        \"timestamp_Hour_sin_2\",\n",
    "        \"timestamp_Hour_sin_3\",\n",
    "        \"timestamp_Hour_sin_4\",\n",
    "        \"timestamp_Hour_sin_5\",\n",
    "        \"timestamp_Hour_cos_1\",\n",
    "        \"timestamp_Hour_cos_2\",\n",
    "        \"timestamp_Hour_cos_3\",\n",
    "        \"timestamp_Hour_cos_4\",\n",
    "        \"timestamp_Hour_cos_5\",\n",
    "        \"timestamp_Minute_sin_1\",\n",
    "        \"timestamp_Minute_sin_2\",\n",
    "        \"timestamp_Minute_sin_3\",\n",
    "        \"timestamp_Minute_sin_4\",\n",
    "        \"timestamp_Minute_sin_5\",\n",
    "        \"timestamp_Minute_cos_1\",\n",
    "        \"timestamp_Minute_cos_2\",\n",
    "        \"timestamp_Minute_cos_3\",\n",
    "        \"timestamp_Minute_cos_4\",\n",
    "        \"timestamp_Minute_cos_5\",\n",
    "    ],\n",
    "    categorical_features=[\n",
    "        \"holidays\",\n",
    "        \"precipType\",\n",
    "        \"icon\",\n",
    "        \"summary\",\n",
    "        \"timestamp_Month\",\n",
    "        \"timestamp_Quarter\",\n",
    "        \"timestamp_WeekDay\",\n",
    "        \"timestamp_Dayofweek\",\n",
    "        \"timestamp_Dayofyear\",\n",
    "        \"timestamp_Hour\",\n",
    "        \"timestamp_Minute\",\n",
    "    ],\n",
    "    boolean_features=[\n",
    "        \"timestamp_Is_quarter_end\",\n",
    "        \"timestamp_Is_quarter_start\",\n",
    "        \"timestamp_Is_year_end\",\n",
    "        \"timestamp_Is_year_start\",\n",
    "        \"timestamp_Is_month_start\",\n",
    "    ],\n",
    "    index_cols=[\"timestamp\"],\n",
    "    exogenous_features=[\n",
    "        \"holidays\",\n",
    "        \"precipType\",\n",
    "        \"icon\",\n",
    "        \"summary\",\n",
    "        \"visibility\",\n",
    "        \"windBearing\",\n",
    "        \"temperature\",\n",
    "        \"dewPoint\",\n",
    "        \"pressure\",\n",
    "        \"apparentTemperature\",\n",
    "        \"windSpeed\",\n",
    "        \"humidity\",\n",
    "    ],\n",
    ")"
   ]
  },
  {
   "cell_type": "markdown",
   "id": "0bcc8075-486a-42ab-9ec8-ddd06355dd93",
   "metadata": {
    "tags": []
   },
   "source": [
    "# Missing Value Handling"
   ]
  },
  {
   "cell_type": "code",
   "execution_count": 9,
   "id": "4377661a-4b94-41cd-a599-7636907eeba4",
   "metadata": {},
   "outputs": [],
   "source": [
    "missing_value_config = MissingValueConfig(\n",
    "    bfill_columns=[\n",
    "        \"energy_consumption_lag_1\",\n",
    "        \"energy_consumption_lag_2\",\n",
    "        \"energy_consumption_lag_3\",\n",
    "        \"energy_consumption_lag_4\",\n",
    "        \"energy_consumption_lag_5\",\n",
    "        \"energy_consumption_lag_46\",\n",
    "        \"energy_consumption_lag_47\",\n",
    "        \"energy_consumption_lag_48\",\n",
    "        \"energy_consumption_lag_49\",\n",
    "        \"energy_consumption_lag_50\",\n",
    "        \"energy_consumption_lag_334\",\n",
    "        \"energy_consumption_lag_335\",\n",
    "        \"energy_consumption_lag_336\",\n",
    "        \"energy_consumption_lag_337\",\n",
    "        \"energy_consumption_lag_338\",\n",
    "        \"energy_consumption_rolling_3_mean\",\n",
    "        \"energy_consumption_rolling_3_std\",\n",
    "        \"energy_consumption_rolling_6_mean\",\n",
    "        \"energy_consumption_rolling_6_std\",\n",
    "        \"energy_consumption_rolling_12_mean\",\n",
    "        \"energy_consumption_rolling_12_std\",\n",
    "        \"energy_consumption_rolling_48_mean\",\n",
    "        \"energy_consumption_rolling_48_std\",\n",
    "        \"energy_consumption_48_seasonal_rolling_3_mean\",\n",
    "        \"energy_consumption_48_seasonal_rolling_3_std\",\n",
    "        \"energy_consumption_336_seasonal_rolling_3_mean\",\n",
    "        \"energy_consumption_336_seasonal_rolling_3_std\",\n",
    "        \"energy_consumption_ewma__span_2880\",\n",
    "        \"energy_consumption_ewma__span_336\",\n",
    "        \"energy_consumption_ewma__span_48\",\n",
    "    ],\n",
    "    ffill_columns=[],\n",
    "    zero_fill_columns=[],\n",
    ")"
   ]
  },
  {
   "cell_type": "markdown",
   "id": "783e372f-6459-49cc-b2d1-640c6b2b5401",
   "metadata": {
    "tags": []
   },
   "source": [
    "# Running ML Forecast for all consumers"
   ]
  },
  {
   "cell_type": "markdown",
   "id": "3c24cf01-6f27-41a9-a065-14b2229c98c4",
   "metadata": {},
   "source": [
    "Running Lasso Regression, XGB Random Forest, and LightGBM"
   ]
  },
  {
   "cell_type": "code",
   "execution_count": 10,
   "id": "22216902-0e86-4a8e-9b60-7be779e58c97",
   "metadata": {},
   "outputs": [],
   "source": [
    "def evaluate_model(model_config, feature_config, missing_config, train_features, train_target, test_features, test_target):\n",
    "    ml_model = MLForecast(model_config=model_config, feature_config=feat_config, missing_config=missing_value_config)\n",
    "    ml_model.fit(train_features, train_target)\n",
    "    y_pred = ml_model.predict(test_features)\n",
    "    feat_df = ml_model.feature_importance()\n",
    "    metrics = calculate_metrics(test_target, y_pred, model_config.name, train_target)\n",
    "    return y_pred, metrics, feat_df"
   ]
  },
  {
   "cell_type": "code",
   "execution_count": 11,
   "id": "866a7bbe-621b-4c6a-8fd9-75a60ca5fd81",
   "metadata": {},
   "outputs": [],
   "source": [
    "from sklearn.linear_model import LassoCV\n",
    "from xgboost import XGBRFRegressor\n",
    "from lightgbm import LGBMRegressor"
   ]
  },
  {
   "cell_type": "code",
   "execution_count": 12,
   "id": "366fe44b-bbb7-46e0-a898-2b9b5e0bba04",
   "metadata": {},
   "outputs": [],
   "source": [
    "lcl_ids = sorted(train_df.LCLid.unique())\n",
    "models_to_run = [\n",
    "    ModelConfig(model = LassoCV(), name=\"Lasso Regression\", normalize=True, fill_missing=True),\n",
    "    ModelConfig(model = XGBRFRegressor(random_state=42, max_depth=4), name=\"XGB Random Forest\", normalize=False, fill_missing=False),\n",
    "    ModelConfig(model = LGBMRegressor(random_state=42), name=\"LightGBM\", normalize=False, fill_missing=False)\n",
    "]"
   ]
  },
  {
   "cell_type": "code",
   "execution_count": 13,
   "id": "fb50d352-fb06-47d8-b54a-a32d26034120",
   "metadata": {
    "tags": []
   },
   "outputs": [
    {
     "data": {
      "application/vnd.jupyter.widget-view+json": {
       "model_id": "a9a946526c824e6fb370bdc4f14efdb3",
       "version_major": 2,
       "version_minor": 0
      },
      "text/plain": [
       "  0%|          | 0/150 [00:00<?, ?it/s]"
      ]
     },
     "metadata": {},
     "output_type": "display_data"
    },
    {
     "name": "stdout",
     "output_type": "stream",
     "text": [
      "[LightGBM] [Info] Auto-choosing col-wise multi-threading, the overhead of testing was 0.009506 seconds.\n",
      "You can set `force_col_wise=true` to remove the overhead.\n",
      "[LightGBM] [Info] Total Bins 8115\n",
      "[LightGBM] [Info] Number of data points in the train set: 36576, number of used features: 59\n",
      "[LightGBM] [Info] Start training from score 0.123467\n",
      "[LightGBM] [Info] Auto-choosing col-wise multi-threading, the overhead of testing was 0.009288 seconds.\n",
      "You can set `force_col_wise=true` to remove the overhead.\n",
      "[LightGBM] [Info] Total Bins 8115\n",
      "[LightGBM] [Info] Number of data points in the train set: 36576, number of used features: 59\n",
      "[LightGBM] [Info] Start training from score 0.242073\n",
      "[LightGBM] [Info] Auto-choosing col-wise multi-threading, the overhead of testing was 0.009855 seconds.\n",
      "You can set `force_col_wise=true` to remove the overhead.\n",
      "[LightGBM] [Info] Total Bins 8115\n",
      "[LightGBM] [Info] Number of data points in the train set: 36576, number of used features: 59\n",
      "[LightGBM] [Info] Start training from score 0.142122\n",
      "[LightGBM] [Info] Auto-choosing col-wise multi-threading, the overhead of testing was 0.009346 seconds.\n",
      "You can set `force_col_wise=true` to remove the overhead.\n",
      "[LightGBM] [Info] Total Bins 8115\n",
      "[LightGBM] [Info] Number of data points in the train set: 36576, number of used features: 59\n",
      "[LightGBM] [Info] Start training from score 0.125035\n",
      "[LightGBM] [Info] Auto-choosing col-wise multi-threading, the overhead of testing was 0.008287 seconds.\n",
      "You can set `force_col_wise=true` to remove the overhead.\n",
      "[LightGBM] [Info] Total Bins 8115\n",
      "[LightGBM] [Info] Number of data points in the train set: 36576, number of used features: 59\n",
      "[LightGBM] [Info] Start training from score 0.110905\n",
      "[LightGBM] [Info] Auto-choosing col-wise multi-threading, the overhead of testing was 0.009127 seconds.\n",
      "You can set `force_col_wise=true` to remove the overhead.\n",
      "[LightGBM] [Info] Total Bins 8115\n",
      "[LightGBM] [Info] Number of data points in the train set: 36576, number of used features: 59\n",
      "[LightGBM] [Info] Start training from score 0.172506\n",
      "[LightGBM] [Info] Auto-choosing col-wise multi-threading, the overhead of testing was 0.007889 seconds.\n",
      "You can set `force_col_wise=true` to remove the overhead.\n",
      "[LightGBM] [Info] Total Bins 8115\n",
      "[LightGBM] [Info] Number of data points in the train set: 36576, number of used features: 59\n",
      "[LightGBM] [Info] Start training from score 0.120096\n",
      "[LightGBM] [Info] Auto-choosing col-wise multi-threading, the overhead of testing was 0.008320 seconds.\n",
      "You can set `force_col_wise=true` to remove the overhead.\n",
      "[LightGBM] [Info] Total Bins 8115\n",
      "[LightGBM] [Info] Number of data points in the train set: 36576, number of used features: 59\n",
      "[LightGBM] [Info] Start training from score 0.177212\n",
      "[LightGBM] [Info] Auto-choosing row-wise multi-threading, the overhead of testing was 0.002653 seconds.\n",
      "You can set `force_row_wise=true` to remove the overhead.\n",
      "And if memory is not enough, you can set `force_col_wise=true`.\n",
      "[LightGBM] [Info] Total Bins 8115\n",
      "[LightGBM] [Info] Number of data points in the train set: 36576, number of used features: 59\n",
      "[LightGBM] [Info] Start training from score 0.238680\n",
      "[LightGBM] [Info] Auto-choosing col-wise multi-threading, the overhead of testing was 0.008882 seconds.\n",
      "You can set `force_col_wise=true` to remove the overhead.\n",
      "[LightGBM] [Info] Total Bins 8115\n",
      "[LightGBM] [Info] Number of data points in the train set: 36576, number of used features: 59\n",
      "[LightGBM] [Info] Start training from score 0.183493\n",
      "[LightGBM] [Info] Auto-choosing col-wise multi-threading, the overhead of testing was 0.013795 seconds.\n",
      "You can set `force_col_wise=true` to remove the overhead.\n",
      "[LightGBM] [Info] Total Bins 8115\n",
      "[LightGBM] [Info] Number of data points in the train set: 36576, number of used features: 59\n",
      "[LightGBM] [Info] Start training from score 0.315927\n",
      "[LightGBM] [Info] Auto-choosing col-wise multi-threading, the overhead of testing was 0.010871 seconds.\n",
      "You can set `force_col_wise=true` to remove the overhead.\n",
      "[LightGBM] [Info] Total Bins 8115\n",
      "[LightGBM] [Info] Number of data points in the train set: 36576, number of used features: 59\n",
      "[LightGBM] [Info] Start training from score 0.061067\n",
      "[LightGBM] [Info] Auto-choosing col-wise multi-threading, the overhead of testing was 0.008843 seconds.\n",
      "You can set `force_col_wise=true` to remove the overhead.\n",
      "[LightGBM] [Info] Total Bins 8115\n",
      "[LightGBM] [Info] Number of data points in the train set: 33600, number of used features: 59\n",
      "[LightGBM] [Info] Start training from score 0.141832\n",
      "[LightGBM] [Info] Auto-choosing col-wise multi-threading, the overhead of testing was 0.008975 seconds.\n",
      "You can set `force_col_wise=true` to remove the overhead.\n",
      "[LightGBM] [Info] Total Bins 8115\n",
      "[LightGBM] [Info] Number of data points in the train set: 33408, number of used features: 59\n",
      "[LightGBM] [Info] Start training from score 0.775839\n",
      "[LightGBM] [Info] Auto-choosing col-wise multi-threading, the overhead of testing was 0.007394 seconds.\n",
      "You can set `force_col_wise=true` to remove the overhead.\n",
      "[LightGBM] [Info] Total Bins 8115\n",
      "[LightGBM] [Info] Number of data points in the train set: 31632, number of used features: 59\n",
      "[LightGBM] [Info] Start training from score 0.158899\n",
      "[LightGBM] [Info] Auto-choosing col-wise multi-threading, the overhead of testing was 0.009509 seconds.\n",
      "You can set `force_col_wise=true` to remove the overhead.\n",
      "[LightGBM] [Info] Total Bins 8115\n",
      "[LightGBM] [Info] Number of data points in the train set: 31632, number of used features: 59\n",
      "[LightGBM] [Info] Start training from score 0.049075\n",
      "[LightGBM] [Info] Auto-choosing col-wise multi-threading, the overhead of testing was 0.009521 seconds.\n",
      "You can set `force_col_wise=true` to remove the overhead.\n",
      "[LightGBM] [Info] Total Bins 8115\n",
      "[LightGBM] [Info] Number of data points in the train set: 31584, number of used features: 59\n",
      "[LightGBM] [Info] Start training from score 0.226089\n",
      "[LightGBM] [Info] Auto-choosing col-wise multi-threading, the overhead of testing was 0.009701 seconds.\n",
      "You can set `force_col_wise=true` to remove the overhead.\n",
      "[LightGBM] [Info] Total Bins 8115\n",
      "[LightGBM] [Info] Number of data points in the train set: 31536, number of used features: 59\n",
      "[LightGBM] [Info] Start training from score 0.113288\n",
      "[LightGBM] [Info] Auto-choosing col-wise multi-threading, the overhead of testing was 0.008252 seconds.\n",
      "You can set `force_col_wise=true` to remove the overhead.\n",
      "[LightGBM] [Info] Total Bins 8115\n",
      "[LightGBM] [Info] Number of data points in the train set: 31344, number of used features: 59\n",
      "[LightGBM] [Info] Start training from score 0.171429\n",
      "[LightGBM] [Info] Auto-choosing col-wise multi-threading, the overhead of testing was 0.009962 seconds.\n",
      "You can set `force_col_wise=true` to remove the overhead.\n",
      "[LightGBM] [Info] Total Bins 8115\n",
      "[LightGBM] [Info] Number of data points in the train set: 31296, number of used features: 59\n",
      "[LightGBM] [Info] Start training from score 0.271001\n",
      "[LightGBM] [Info] Auto-choosing col-wise multi-threading, the overhead of testing was 0.010534 seconds.\n",
      "You can set `force_col_wise=true` to remove the overhead.\n",
      "[LightGBM] [Info] Total Bins 8115\n",
      "[LightGBM] [Info] Number of data points in the train set: 31248, number of used features: 59\n",
      "[LightGBM] [Info] Start training from score 0.053735\n",
      "[LightGBM] [Info] Auto-choosing col-wise multi-threading, the overhead of testing was 0.011104 seconds.\n",
      "You can set `force_col_wise=true` to remove the overhead.\n",
      "[LightGBM] [Info] Total Bins 8115\n",
      "[LightGBM] [Info] Number of data points in the train set: 31248, number of used features: 59\n",
      "[LightGBM] [Info] Start training from score 0.050996\n",
      "[LightGBM] [Info] Auto-choosing col-wise multi-threading, the overhead of testing was 0.010536 seconds.\n",
      "You can set `force_col_wise=true` to remove the overhead.\n",
      "[LightGBM] [Info] Total Bins 8115\n",
      "[LightGBM] [Info] Number of data points in the train set: 31248, number of used features: 59\n",
      "[LightGBM] [Info] Start training from score 0.239869\n",
      "[LightGBM] [Info] Auto-choosing col-wise multi-threading, the overhead of testing was 0.009904 seconds.\n",
      "You can set `force_col_wise=true` to remove the overhead.\n",
      "[LightGBM] [Info] Total Bins 8115\n",
      "[LightGBM] [Info] Number of data points in the train set: 31008, number of used features: 59\n",
      "[LightGBM] [Info] Start training from score 0.092584\n",
      "[LightGBM] [Info] Auto-choosing col-wise multi-threading, the overhead of testing was 0.010592 seconds.\n",
      "You can set `force_col_wise=true` to remove the overhead.\n",
      "[LightGBM] [Info] Total Bins 8115\n",
      "[LightGBM] [Info] Number of data points in the train set: 30912, number of used features: 59\n",
      "[LightGBM] [Info] Start training from score 0.386448\n",
      "[LightGBM] [Info] Auto-choosing col-wise multi-threading, the overhead of testing was 0.010765 seconds.\n",
      "You can set `force_col_wise=true` to remove the overhead.\n",
      "[LightGBM] [Info] Total Bins 8115\n",
      "[LightGBM] [Info] Number of data points in the train set: 30912, number of used features: 59\n",
      "[LightGBM] [Info] Start training from score 0.136276\n",
      "[LightGBM] [Info] Auto-choosing col-wise multi-threading, the overhead of testing was 0.010192 seconds.\n",
      "You can set `force_col_wise=true` to remove the overhead.\n",
      "[LightGBM] [Info] Total Bins 8115\n",
      "[LightGBM] [Info] Number of data points in the train set: 30912, number of used features: 59\n",
      "[LightGBM] [Info] Start training from score 0.110939\n",
      "[LightGBM] [Info] Auto-choosing col-wise multi-threading, the overhead of testing was 0.008261 seconds.\n",
      "You can set `force_col_wise=true` to remove the overhead.\n",
      "[LightGBM] [Info] Total Bins 8115\n",
      "[LightGBM] [Info] Number of data points in the train set: 30912, number of used features: 59\n",
      "[LightGBM] [Info] Start training from score 0.143375\n",
      "[LightGBM] [Info] Auto-choosing col-wise multi-threading, the overhead of testing was 0.008341 seconds.\n",
      "You can set `force_col_wise=true` to remove the overhead.\n",
      "[LightGBM] [Info] Total Bins 8115\n",
      "[LightGBM] [Info] Number of data points in the train set: 30720, number of used features: 59\n",
      "[LightGBM] [Info] Start training from score 0.094401\n",
      "[LightGBM] [Info] Auto-choosing col-wise multi-threading, the overhead of testing was 0.008101 seconds.\n",
      "You can set `force_col_wise=true` to remove the overhead.\n",
      "[LightGBM] [Info] Total Bins 8115\n",
      "[LightGBM] [Info] Number of data points in the train set: 30720, number of used features: 59\n",
      "[LightGBM] [Info] Start training from score 0.266552\n",
      "[LightGBM] [Info] Auto-choosing col-wise multi-threading, the overhead of testing was 0.009561 seconds.\n",
      "You can set `force_col_wise=true` to remove the overhead.\n",
      "[LightGBM] [Info] Total Bins 8115\n",
      "[LightGBM] [Info] Number of data points in the train set: 30672, number of used features: 59\n",
      "[LightGBM] [Info] Start training from score 0.625966\n",
      "[LightGBM] [Info] Auto-choosing col-wise multi-threading, the overhead of testing was 0.010159 seconds.\n",
      "You can set `force_col_wise=true` to remove the overhead.\n",
      "[LightGBM] [Info] Total Bins 8115\n",
      "[LightGBM] [Info] Number of data points in the train set: 30672, number of used features: 59\n",
      "[LightGBM] [Info] Start training from score 0.080034\n",
      "[LightGBM] [Info] Auto-choosing row-wise multi-threading, the overhead of testing was 0.003497 seconds.\n",
      "You can set `force_row_wise=true` to remove the overhead.\n",
      "And if memory is not enough, you can set `force_col_wise=true`.\n",
      "[LightGBM] [Info] Total Bins 8055\n",
      "[LightGBM] [Info] Number of data points in the train set: 30336, number of used features: 59\n",
      "[LightGBM] [Info] Start training from score 0.037950\n",
      "[LightGBM] [Info] Auto-choosing col-wise multi-threading, the overhead of testing was 0.009677 seconds.\n",
      "You can set `force_col_wise=true` to remove the overhead.\n",
      "[LightGBM] [Info] Total Bins 8115\n",
      "[LightGBM] [Info] Number of data points in the train set: 30096, number of used features: 59\n",
      "[LightGBM] [Info] Start training from score 0.156456\n",
      "[LightGBM] [Info] Auto-choosing col-wise multi-threading, the overhead of testing was 0.009266 seconds.\n",
      "You can set `force_col_wise=true` to remove the overhead.\n",
      "[LightGBM] [Info] Total Bins 8115\n",
      "[LightGBM] [Info] Number of data points in the train set: 30096, number of used features: 59\n",
      "[LightGBM] [Info] Start training from score 0.191943\n",
      "[LightGBM] [Info] Auto-choosing col-wise multi-threading, the overhead of testing was 0.009113 seconds.\n",
      "You can set `force_col_wise=true` to remove the overhead.\n",
      "[LightGBM] [Info] Total Bins 8115\n",
      "[LightGBM] [Info] Number of data points in the train set: 30096, number of used features: 59\n",
      "[LightGBM] [Info] Start training from score 0.227541\n",
      "[LightGBM] [Info] Auto-choosing col-wise multi-threading, the overhead of testing was 0.009267 seconds.\n",
      "You can set `force_col_wise=true` to remove the overhead.\n",
      "[LightGBM] [Info] Total Bins 7885\n",
      "[LightGBM] [Info] Number of data points in the train set: 30096, number of used features: 59\n",
      "[LightGBM] [Info] Start training from score 0.028999\n",
      "[LightGBM] [Info] Auto-choosing col-wise multi-threading, the overhead of testing was 0.011612 seconds.\n",
      "You can set `force_col_wise=true` to remove the overhead.\n",
      "[LightGBM] [Info] Total Bins 8115\n",
      "[LightGBM] [Info] Number of data points in the train set: 30096, number of used features: 59\n",
      "[LightGBM] [Info] Start training from score 0.181251\n",
      "[LightGBM] [Info] Auto-choosing col-wise multi-threading, the overhead of testing was 0.015246 seconds.\n",
      "You can set `force_col_wise=true` to remove the overhead.\n",
      "[LightGBM] [Info] Total Bins 8115\n",
      "[LightGBM] [Info] Number of data points in the train set: 29952, number of used features: 59\n",
      "[LightGBM] [Info] Start training from score 0.216098\n",
      "[LightGBM] [Info] Auto-choosing row-wise multi-threading, the overhead of testing was 0.008214 seconds.\n",
      "You can set `force_row_wise=true` to remove the overhead.\n",
      "And if memory is not enough, you can set `force_col_wise=true`.\n",
      "[LightGBM] [Info] Total Bins 8115\n",
      "[LightGBM] [Info] Number of data points in the train set: 29904, number of used features: 59\n",
      "[LightGBM] [Info] Start training from score 0.131575\n",
      "[LightGBM] [Info] Auto-choosing col-wise multi-threading, the overhead of testing was 0.012942 seconds.\n",
      "You can set `force_col_wise=true` to remove the overhead.\n",
      "[LightGBM] [Info] Total Bins 8115\n",
      "[LightGBM] [Info] Number of data points in the train set: 29760, number of used features: 59\n",
      "[LightGBM] [Info] Start training from score 0.133578\n",
      "[LightGBM] [Info] Auto-choosing col-wise multi-threading, the overhead of testing was 0.011895 seconds.\n",
      "You can set `force_col_wise=true` to remove the overhead.\n",
      "[LightGBM] [Info] Total Bins 8115\n",
      "[LightGBM] [Info] Number of data points in the train set: 29712, number of used features: 59\n",
      "[LightGBM] [Info] Start training from score 0.115152\n",
      "[LightGBM] [Info] Auto-choosing row-wise multi-threading, the overhead of testing was 0.004160 seconds.\n",
      "You can set `force_row_wise=true` to remove the overhead.\n",
      "And if memory is not enough, you can set `force_col_wise=true`.\n",
      "[LightGBM] [Info] Total Bins 8115\n",
      "[LightGBM] [Info] Number of data points in the train set: 29712, number of used features: 59\n",
      "[LightGBM] [Info] Start training from score 0.223146\n",
      "[LightGBM] [Info] Auto-choosing row-wise multi-threading, the overhead of testing was 0.005115 seconds.\n",
      "You can set `force_row_wise=true` to remove the overhead.\n",
      "And if memory is not enough, you can set `force_col_wise=true`.\n",
      "[LightGBM] [Info] Total Bins 8115\n",
      "[LightGBM] [Info] Number of data points in the train set: 29712, number of used features: 59\n",
      "[LightGBM] [Info] Start training from score 0.207952\n",
      "[LightGBM] [Info] Auto-choosing col-wise multi-threading, the overhead of testing was 0.011015 seconds.\n",
      "You can set `force_col_wise=true` to remove the overhead.\n",
      "[LightGBM] [Info] Total Bins 8115\n",
      "[LightGBM] [Info] Number of data points in the train set: 29568, number of used features: 59\n",
      "[LightGBM] [Info] Start training from score 0.101889\n",
      "[LightGBM] [Info] Auto-choosing col-wise multi-threading, the overhead of testing was 0.016255 seconds.\n",
      "You can set `force_col_wise=true` to remove the overhead.\n",
      "[LightGBM] [Info] Total Bins 8115\n",
      "[LightGBM] [Info] Number of data points in the train set: 29520, number of used features: 59\n",
      "[LightGBM] [Info] Start training from score 0.185686\n",
      "[LightGBM] [Info] Auto-choosing row-wise multi-threading, the overhead of testing was 0.003086 seconds.\n",
      "You can set `force_row_wise=true` to remove the overhead.\n",
      "And if memory is not enough, you can set `force_col_wise=true`.\n",
      "[LightGBM] [Info] Total Bins 8115\n",
      "[LightGBM] [Info] Number of data points in the train set: 29376, number of used features: 59\n",
      "[LightGBM] [Info] Start training from score 0.422422\n",
      "[LightGBM] [Info] Auto-choosing row-wise multi-threading, the overhead of testing was 0.004208 seconds.\n",
      "You can set `force_row_wise=true` to remove the overhead.\n",
      "And if memory is not enough, you can set `force_col_wise=true`.\n",
      "[LightGBM] [Info] Total Bins 8115\n",
      "[LightGBM] [Info] Number of data points in the train set: 29232, number of used features: 59\n",
      "[LightGBM] [Info] Start training from score 0.195888\n",
      "[LightGBM] [Info] Auto-choosing col-wise multi-threading, the overhead of testing was 0.010136 seconds.\n",
      "You can set `force_col_wise=true` to remove the overhead.\n",
      "[LightGBM] [Info] Total Bins 8115\n",
      "[LightGBM] [Info] Number of data points in the train set: 28992, number of used features: 59\n",
      "[LightGBM] [Info] Start training from score 0.138898\n",
      "[LightGBM] [Info] Auto-choosing row-wise multi-threading, the overhead of testing was 0.004195 seconds.\n",
      "You can set `force_row_wise=true` to remove the overhead.\n",
      "And if memory is not enough, you can set `force_col_wise=true`.\n",
      "[LightGBM] [Info] Total Bins 8115\n",
      "[LightGBM] [Info] Number of data points in the train set: 28992, number of used features: 59\n",
      "[LightGBM] [Info] Start training from score 0.113193\n",
      "[LightGBM] [Info] Auto-choosing col-wise multi-threading, the overhead of testing was 0.010417 seconds.\n",
      "You can set `force_col_wise=true` to remove the overhead.\n",
      "[LightGBM] [Info] Total Bins 8115\n",
      "[LightGBM] [Info] Number of data points in the train set: 28944, number of used features: 59\n",
      "[LightGBM] [Info] Start training from score 0.061946\n",
      "[LightGBM] [Info] Auto-choosing row-wise multi-threading, the overhead of testing was 0.007175 seconds.\n",
      "You can set `force_row_wise=true` to remove the overhead.\n",
      "And if memory is not enough, you can set `force_col_wise=true`.\n",
      "[LightGBM] [Info] Total Bins 8115\n",
      "[LightGBM] [Info] Number of data points in the train set: 28896, number of used features: 59\n",
      "[LightGBM] [Info] Start training from score 0.088772\n",
      "[LightGBM] [Info] Auto-choosing row-wise multi-threading, the overhead of testing was 0.001942 seconds.\n",
      "You can set `force_row_wise=true` to remove the overhead.\n",
      "And if memory is not enough, you can set `force_col_wise=true`.\n",
      "[LightGBM] [Info] Total Bins 8115\n",
      "[LightGBM] [Info] Number of data points in the train set: 28848, number of used features: 59\n",
      "[LightGBM] [Info] Start training from score 0.083288\n",
      "[LightGBM] [Info] Auto-choosing col-wise multi-threading, the overhead of testing was 0.010114 seconds.\n",
      "You can set `force_col_wise=true` to remove the overhead.\n",
      "[LightGBM] [Info] Total Bins 8115\n",
      "[LightGBM] [Info] Number of data points in the train set: 28848, number of used features: 59\n",
      "[LightGBM] [Info] Start training from score 0.222832\n",
      "[LightGBM] [Info] Auto-choosing col-wise multi-threading, the overhead of testing was 0.010056 seconds.\n",
      "You can set `force_col_wise=true` to remove the overhead.\n",
      "[LightGBM] [Info] Total Bins 8115\n",
      "[LightGBM] [Info] Number of data points in the train set: 28752, number of used features: 59\n",
      "[LightGBM] [Info] Start training from score 0.056893\n",
      "[LightGBM] [Info] Auto-choosing col-wise multi-threading, the overhead of testing was 0.008775 seconds.\n",
      "You can set `force_col_wise=true` to remove the overhead.\n",
      "[LightGBM] [Info] Total Bins 8115\n",
      "[LightGBM] [Info] Number of data points in the train set: 28704, number of used features: 59\n",
      "[LightGBM] [Info] Start training from score 0.191456\n",
      "[LightGBM] [Info] Auto-choosing col-wise multi-threading, the overhead of testing was 0.009666 seconds.\n",
      "You can set `force_col_wise=true` to remove the overhead.\n",
      "[LightGBM] [Info] Total Bins 8115\n",
      "[LightGBM] [Info] Number of data points in the train set: 28704, number of used features: 59\n",
      "[LightGBM] [Info] Start training from score 0.124212\n",
      "[LightGBM] [Info] Auto-choosing col-wise multi-threading, the overhead of testing was 0.010129 seconds.\n",
      "You can set `force_col_wise=true` to remove the overhead.\n",
      "[LightGBM] [Info] Total Bins 8115\n",
      "[LightGBM] [Info] Number of data points in the train set: 28512, number of used features: 59\n",
      "[LightGBM] [Info] Start training from score 0.097266\n",
      "[LightGBM] [Info] Auto-choosing col-wise multi-threading, the overhead of testing was 0.010086 seconds.\n",
      "You can set `force_col_wise=true` to remove the overhead.\n",
      "[LightGBM] [Info] Total Bins 8115\n",
      "[LightGBM] [Info] Number of data points in the train set: 28464, number of used features: 59\n",
      "[LightGBM] [Info] Start training from score 0.190289\n",
      "[LightGBM] [Info] Auto-choosing row-wise multi-threading, the overhead of testing was 0.003808 seconds.\n",
      "You can set `force_row_wise=true` to remove the overhead.\n",
      "And if memory is not enough, you can set `force_col_wise=true`.\n",
      "[LightGBM] [Info] Total Bins 8115\n",
      "[LightGBM] [Info] Number of data points in the train set: 28368, number of used features: 59\n",
      "[LightGBM] [Info] Start training from score 0.387232\n",
      "[LightGBM] [Info] Auto-choosing col-wise multi-threading, the overhead of testing was 0.009570 seconds.\n",
      "You can set `force_col_wise=true` to remove the overhead.\n",
      "[LightGBM] [Info] Total Bins 8115\n",
      "[LightGBM] [Info] Number of data points in the train set: 28176, number of used features: 59\n",
      "[LightGBM] [Info] Start training from score 0.214233\n",
      "[LightGBM] [Info] Auto-choosing col-wise multi-threading, the overhead of testing was 0.008471 seconds.\n",
      "You can set `force_col_wise=true` to remove the overhead.\n",
      "[LightGBM] [Info] Total Bins 8115\n",
      "[LightGBM] [Info] Number of data points in the train set: 27888, number of used features: 59\n",
      "[LightGBM] [Info] Start training from score 0.097248\n",
      "[LightGBM] [Info] Auto-choosing row-wise multi-threading, the overhead of testing was 0.003520 seconds.\n",
      "You can set `force_row_wise=true` to remove the overhead.\n",
      "And if memory is not enough, you can set `force_col_wise=true`.\n",
      "[LightGBM] [Info] Total Bins 8115\n",
      "[LightGBM] [Info] Number of data points in the train set: 27840, number of used features: 59\n",
      "[LightGBM] [Info] Start training from score 0.067911\n",
      "[LightGBM] [Info] Auto-choosing row-wise multi-threading, the overhead of testing was 0.003508 seconds.\n",
      "You can set `force_row_wise=true` to remove the overhead.\n",
      "And if memory is not enough, you can set `force_col_wise=true`.\n",
      "[LightGBM] [Info] Total Bins 8115\n",
      "[LightGBM] [Info] Number of data points in the train set: 31200, number of used features: 59\n",
      "[LightGBM] [Info] Start training from score 0.285587\n",
      "[LightGBM] [Info] Auto-choosing col-wise multi-threading, the overhead of testing was 0.011886 seconds.\n",
      "You can set `force_col_wise=true` to remove the overhead.\n",
      "[LightGBM] [Info] Total Bins 8115\n",
      "[LightGBM] [Info] Number of data points in the train set: 31200, number of used features: 59\n",
      "[LightGBM] [Info] Start training from score 0.176982\n",
      "[LightGBM] [Info] Auto-choosing row-wise multi-threading, the overhead of testing was 0.013821 seconds.\n",
      "You can set `force_row_wise=true` to remove the overhead.\n",
      "And if memory is not enough, you can set `force_col_wise=true`.\n",
      "[LightGBM] [Info] Total Bins 8115\n",
      "[LightGBM] [Info] Number of data points in the train set: 31056, number of used features: 59\n",
      "[LightGBM] [Info] Start training from score 0.121321\n",
      "[LightGBM] [Info] Auto-choosing col-wise multi-threading, the overhead of testing was 0.011010 seconds.\n",
      "You can set `force_col_wise=true` to remove the overhead.\n",
      "[LightGBM] [Info] Total Bins 8115\n",
      "[LightGBM] [Info] Number of data points in the train set: 31056, number of used features: 59\n",
      "[LightGBM] [Info] Start training from score 0.645457\n",
      "[LightGBM] [Info] Auto-choosing col-wise multi-threading, the overhead of testing was 0.014382 seconds.\n",
      "You can set `force_col_wise=true` to remove the overhead.\n",
      "[LightGBM] [Info] Total Bins 8115\n",
      "[LightGBM] [Info] Number of data points in the train set: 30912, number of used features: 59\n",
      "[LightGBM] [Info] Start training from score 0.085938\n",
      "[LightGBM] [Info] Auto-choosing col-wise multi-threading, the overhead of testing was 0.012205 seconds.\n",
      "You can set `force_col_wise=true` to remove the overhead.\n",
      "[LightGBM] [Info] Total Bins 8115\n",
      "[LightGBM] [Info] Number of data points in the train set: 30720, number of used features: 59\n",
      "[LightGBM] [Info] Start training from score 0.291882\n",
      "[LightGBM] [Info] Auto-choosing row-wise multi-threading, the overhead of testing was 0.003316 seconds.\n",
      "You can set `force_row_wise=true` to remove the overhead.\n",
      "And if memory is not enough, you can set `force_col_wise=true`.\n",
      "[LightGBM] [Info] Total Bins 8115\n",
      "[LightGBM] [Info] Number of data points in the train set: 30768, number of used features: 59\n",
      "[LightGBM] [Info] Start training from score 0.167562\n",
      "[LightGBM] [Info] Auto-choosing row-wise multi-threading, the overhead of testing was 0.003940 seconds.\n",
      "You can set `force_row_wise=true` to remove the overhead.\n",
      "And if memory is not enough, you can set `force_col_wise=true`.\n",
      "[LightGBM] [Info] Total Bins 8115\n",
      "[LightGBM] [Info] Number of data points in the train set: 30720, number of used features: 59\n",
      "[LightGBM] [Info] Start training from score 0.145661\n",
      "[LightGBM] [Info] Auto-choosing col-wise multi-threading, the overhead of testing was 0.011294 seconds.\n",
      "You can set `force_col_wise=true` to remove the overhead.\n",
      "[LightGBM] [Info] Total Bins 8115\n",
      "[LightGBM] [Info] Number of data points in the train set: 27408, number of used features: 59\n",
      "[LightGBM] [Info] Start training from score 0.287420\n",
      "[LightGBM] [Info] Auto-choosing col-wise multi-threading, the overhead of testing was 0.011324 seconds.\n",
      "You can set `force_col_wise=true` to remove the overhead.\n",
      "[LightGBM] [Info] Total Bins 8115\n",
      "[LightGBM] [Info] Number of data points in the train set: 27408, number of used features: 59\n",
      "[LightGBM] [Info] Start training from score 0.209191\n",
      "[LightGBM] [Info] Auto-choosing col-wise multi-threading, the overhead of testing was 0.009751 seconds.\n",
      "You can set `force_col_wise=true` to remove the overhead.\n",
      "[LightGBM] [Info] Total Bins 8115\n",
      "[LightGBM] [Info] Number of data points in the train set: 27408, number of used features: 59\n",
      "[LightGBM] [Info] Start training from score 0.243575\n",
      "[LightGBM] [Info] Auto-choosing col-wise multi-threading, the overhead of testing was 0.017895 seconds.\n",
      "You can set `force_col_wise=true` to remove the overhead.\n",
      "[LightGBM] [Info] Total Bins 8115\n",
      "[LightGBM] [Info] Number of data points in the train set: 30576, number of used features: 59\n",
      "[LightGBM] [Info] Start training from score 0.175446\n",
      "[LightGBM] [Info] Auto-choosing row-wise multi-threading, the overhead of testing was 0.009733 seconds.\n",
      "You can set `force_row_wise=true` to remove the overhead.\n",
      "And if memory is not enough, you can set `force_col_wise=true`.\n",
      "[LightGBM] [Info] Total Bins 8115\n",
      "[LightGBM] [Info] Number of data points in the train set: 30384, number of used features: 59\n",
      "[LightGBM] [Info] Start training from score 0.111036\n",
      "[LightGBM] [Info] Auto-choosing col-wise multi-threading, the overhead of testing was 0.012557 seconds.\n",
      "You can set `force_col_wise=true` to remove the overhead.\n",
      "[LightGBM] [Info] Total Bins 8115\n",
      "[LightGBM] [Info] Number of data points in the train set: 28272, number of used features: 59\n",
      "[LightGBM] [Info] Start training from score 0.150479\n",
      "[LightGBM] [Info] Auto-choosing col-wise multi-threading, the overhead of testing was 0.011270 seconds.\n",
      "You can set `force_col_wise=true` to remove the overhead.\n",
      "[LightGBM] [Info] Total Bins 8115\n",
      "[LightGBM] [Info] Number of data points in the train set: 30336, number of used features: 59\n",
      "[LightGBM] [Info] Start training from score 0.124408\n",
      "[LightGBM] [Info] Auto-choosing col-wise multi-threading, the overhead of testing was 0.016807 seconds.\n",
      "You can set `force_col_wise=true` to remove the overhead.\n",
      "[LightGBM] [Info] Total Bins 8115\n",
      "[LightGBM] [Info] Number of data points in the train set: 30288, number of used features: 59\n",
      "[LightGBM] [Info] Start training from score 0.069322\n",
      "[LightGBM] [Info] Auto-choosing col-wise multi-threading, the overhead of testing was 0.011006 seconds.\n",
      "You can set `force_col_wise=true` to remove the overhead.\n",
      "[LightGBM] [Info] Total Bins 8115\n",
      "[LightGBM] [Info] Number of data points in the train set: 27744, number of used features: 59\n",
      "[LightGBM] [Info] Start training from score 0.145792\n",
      "[LightGBM] [Info] Auto-choosing col-wise multi-threading, the overhead of testing was 0.011642 seconds.\n",
      "You can set `force_col_wise=true` to remove the overhead.\n",
      "[LightGBM] [Info] Total Bins 8115\n",
      "[LightGBM] [Info] Number of data points in the train set: 27600, number of used features: 59\n",
      "[LightGBM] [Info] Start training from score 0.124636\n",
      "[LightGBM] [Info] Auto-choosing col-wise multi-threading, the overhead of testing was 0.026365 seconds.\n",
      "You can set `force_col_wise=true` to remove the overhead.\n",
      "[LightGBM] [Info] Total Bins 8115\n",
      "[LightGBM] [Info] Number of data points in the train set: 27696, number of used features: 59\n",
      "[LightGBM] [Info] Start training from score 0.097242\n",
      "[LightGBM] [Info] Auto-choosing col-wise multi-threading, the overhead of testing was 0.009154 seconds.\n",
      "You can set `force_col_wise=true` to remove the overhead.\n",
      "[LightGBM] [Info] Total Bins 8115\n",
      "[LightGBM] [Info] Number of data points in the train set: 27648, number of used features: 59\n",
      "[LightGBM] [Info] Start training from score 0.395200\n",
      "[LightGBM] [Info] Auto-choosing col-wise multi-threading, the overhead of testing was 0.014948 seconds.\n",
      "You can set `force_col_wise=true` to remove the overhead.\n",
      "[LightGBM] [Info] Total Bins 6840\n",
      "[LightGBM] [Info] Number of data points in the train set: 29952, number of used features: 59\n",
      "[LightGBM] [Info] Start training from score 0.016397\n",
      "[LightGBM] [Info] Auto-choosing col-wise multi-threading, the overhead of testing was 0.010428 seconds.\n",
      "You can set `force_col_wise=true` to remove the overhead.\n",
      "[LightGBM] [Info] Total Bins 8115\n",
      "[LightGBM] [Info] Number of data points in the train set: 30048, number of used features: 59\n",
      "[LightGBM] [Info] Start training from score 0.113217\n",
      "[LightGBM] [Info] Auto-choosing col-wise multi-threading, the overhead of testing was 0.013836 seconds.\n",
      "You can set `force_col_wise=true` to remove the overhead.\n",
      "[LightGBM] [Info] Total Bins 8115\n",
      "[LightGBM] [Info] Number of data points in the train set: 30000, number of used features: 59\n",
      "[LightGBM] [Info] Start training from score 0.271242\n",
      "[LightGBM] [Info] Auto-choosing col-wise multi-threading, the overhead of testing was 0.015006 seconds.\n",
      "You can set `force_col_wise=true` to remove the overhead.\n",
      "[LightGBM] [Info] Total Bins 8115\n",
      "[LightGBM] [Info] Number of data points in the train set: 27168, number of used features: 59\n",
      "[LightGBM] [Info] Start training from score 0.386544\n",
      "[LightGBM] [Info] Auto-choosing row-wise multi-threading, the overhead of testing was 0.007429 seconds.\n",
      "You can set `force_row_wise=true` to remove the overhead.\n",
      "And if memory is not enough, you can set `force_col_wise=true`.\n",
      "[LightGBM] [Info] Total Bins 8115\n",
      "[LightGBM] [Info] Number of data points in the train set: 24048, number of used features: 59\n",
      "[LightGBM] [Info] Start training from score 0.278622\n",
      "[LightGBM] [Info] Auto-choosing col-wise multi-threading, the overhead of testing was 0.009243 seconds.\n",
      "You can set `force_col_wise=true` to remove the overhead.\n",
      "[LightGBM] [Info] Total Bins 8115\n",
      "[LightGBM] [Info] Number of data points in the train set: 23712, number of used features: 59\n",
      "[LightGBM] [Info] Start training from score 0.395440\n",
      "[LightGBM] [Info] Auto-choosing col-wise multi-threading, the overhead of testing was 0.013431 seconds.\n",
      "You can set `force_col_wise=true` to remove the overhead.\n",
      "[LightGBM] [Info] Total Bins 8115\n",
      "[LightGBM] [Info] Number of data points in the train set: 23712, number of used features: 59\n",
      "[LightGBM] [Info] Start training from score 0.114331\n",
      "[LightGBM] [Info] Auto-choosing col-wise multi-threading, the overhead of testing was 0.011135 seconds.\n",
      "You can set `force_col_wise=true` to remove the overhead.\n",
      "[LightGBM] [Info] Total Bins 8115\n",
      "[LightGBM] [Info] Number of data points in the train set: 23568, number of used features: 59\n",
      "[LightGBM] [Info] Start training from score 0.236390\n",
      "[LightGBM] [Info] Auto-choosing row-wise multi-threading, the overhead of testing was 0.003596 seconds.\n",
      "You can set `force_row_wise=true` to remove the overhead.\n",
      "And if memory is not enough, you can set `force_col_wise=true`.\n",
      "[LightGBM] [Info] Total Bins 8115\n",
      "[LightGBM] [Info] Number of data points in the train set: 23520, number of used features: 59\n",
      "[LightGBM] [Info] Start training from score 0.262965\n",
      "[LightGBM] [Info] Auto-choosing col-wise multi-threading, the overhead of testing was 0.010451 seconds.\n",
      "You can set `force_col_wise=true` to remove the overhead.\n",
      "[LightGBM] [Info] Total Bins 8115\n",
      "[LightGBM] [Info] Number of data points in the train set: 23376, number of used features: 59\n",
      "[LightGBM] [Info] Start training from score 0.132954\n",
      "[LightGBM] [Info] Auto-choosing col-wise multi-threading, the overhead of testing was 0.007993 seconds.\n",
      "You can set `force_col_wise=true` to remove the overhead.\n",
      "[LightGBM] [Info] Total Bins 8115\n",
      "[LightGBM] [Info] Number of data points in the train set: 23328, number of used features: 59\n",
      "[LightGBM] [Info] Start training from score 0.305120\n",
      "[LightGBM] [Info] Auto-choosing row-wise multi-threading, the overhead of testing was 0.003438 seconds.\n",
      "You can set `force_row_wise=true` to remove the overhead.\n",
      "And if memory is not enough, you can set `force_col_wise=true`.\n",
      "[LightGBM] [Info] Total Bins 8115\n",
      "[LightGBM] [Info] Number of data points in the train set: 23328, number of used features: 59\n",
      "[LightGBM] [Info] Start training from score 0.211704\n",
      "[LightGBM] [Info] Auto-choosing col-wise multi-threading, the overhead of testing was 0.010632 seconds.\n",
      "You can set `force_col_wise=true` to remove the overhead.\n",
      "[LightGBM] [Info] Total Bins 8115\n",
      "[LightGBM] [Info] Number of data points in the train set: 23328, number of used features: 59\n",
      "[LightGBM] [Info] Start training from score 0.298490\n",
      "[LightGBM] [Info] Auto-choosing row-wise multi-threading, the overhead of testing was 0.001325 seconds.\n",
      "You can set `force_row_wise=true` to remove the overhead.\n",
      "And if memory is not enough, you can set `force_col_wise=true`.\n",
      "[LightGBM] [Info] Total Bins 8115\n",
      "[LightGBM] [Info] Number of data points in the train set: 19776, number of used features: 59\n",
      "[LightGBM] [Info] Start training from score 0.136507\n",
      "[LightGBM] [Info] Auto-choosing col-wise multi-threading, the overhead of testing was 0.007874 seconds.\n",
      "You can set `force_col_wise=true` to remove the overhead.\n",
      "[LightGBM] [Info] Total Bins 8115\n",
      "[LightGBM] [Info] Number of data points in the train set: 23232, number of used features: 59\n",
      "[LightGBM] [Info] Start training from score 0.125020\n",
      "[LightGBM] [Info] Auto-choosing col-wise multi-threading, the overhead of testing was 0.009686 seconds.\n",
      "You can set `force_col_wise=true` to remove the overhead.\n",
      "[LightGBM] [Info] Total Bins 8115\n",
      "[LightGBM] [Info] Number of data points in the train set: 23040, number of used features: 59\n",
      "[LightGBM] [Info] Start training from score 0.285474\n",
      "[LightGBM] [Info] Auto-choosing col-wise multi-threading, the overhead of testing was 0.010321 seconds.\n",
      "You can set `force_col_wise=true` to remove the overhead.\n",
      "[LightGBM] [Info] Total Bins 8115\n",
      "[LightGBM] [Info] Number of data points in the train set: 23040, number of used features: 59\n",
      "[LightGBM] [Info] Start training from score 0.156489\n",
      "[LightGBM] [Info] Auto-choosing col-wise multi-threading, the overhead of testing was 0.007831 seconds.\n",
      "You can set `force_col_wise=true` to remove the overhead.\n",
      "[LightGBM] [Info] Total Bins 8115\n",
      "[LightGBM] [Info] Number of data points in the train set: 23040, number of used features: 59\n",
      "[LightGBM] [Info] Start training from score 0.123744\n",
      "[LightGBM] [Info] Auto-choosing col-wise multi-threading, the overhead of testing was 0.011543 seconds.\n",
      "You can set `force_col_wise=true` to remove the overhead.\n",
      "[LightGBM] [Info] Total Bins 8115\n",
      "[LightGBM] [Info] Number of data points in the train set: 22896, number of used features: 59\n",
      "[LightGBM] [Info] Start training from score 0.129898\n",
      "[LightGBM] [Info] Auto-choosing col-wise multi-threading, the overhead of testing was 0.007705 seconds.\n",
      "You can set `force_col_wise=true` to remove the overhead.\n",
      "[LightGBM] [Info] Total Bins 7976\n",
      "[LightGBM] [Info] Number of data points in the train set: 22848, number of used features: 59\n",
      "[LightGBM] [Info] Start training from score 0.045554\n",
      "[LightGBM] [Info] Auto-choosing row-wise multi-threading, the overhead of testing was 0.005806 seconds.\n",
      "You can set `force_row_wise=true` to remove the overhead.\n",
      "And if memory is not enough, you can set `force_col_wise=true`.\n",
      "[LightGBM] [Info] Total Bins 8115\n",
      "[LightGBM] [Info] Number of data points in the train set: 22848, number of used features: 59\n",
      "[LightGBM] [Info] Start training from score 0.197112\n",
      "[LightGBM] [Info] Auto-choosing col-wise multi-threading, the overhead of testing was 0.015459 seconds.\n",
      "You can set `force_col_wise=true` to remove the overhead.\n",
      "[LightGBM] [Info] Total Bins 8115\n",
      "[LightGBM] [Info] Number of data points in the train set: 22656, number of used features: 59\n",
      "[LightGBM] [Info] Start training from score 0.414128\n",
      "[LightGBM] [Info] Auto-choosing col-wise multi-threading, the overhead of testing was 0.011383 seconds.\n",
      "You can set `force_col_wise=true` to remove the overhead.\n",
      "[LightGBM] [Info] Total Bins 8115\n",
      "[LightGBM] [Info] Number of data points in the train set: 22560, number of used features: 59\n",
      "[LightGBM] [Info] Start training from score 0.323619\n",
      "[LightGBM] [Info] Auto-choosing col-wise multi-threading, the overhead of testing was 0.006909 seconds.\n",
      "You can set `force_col_wise=true` to remove the overhead.\n",
      "[LightGBM] [Info] Total Bins 8115\n",
      "[LightGBM] [Info] Number of data points in the train set: 22464, number of used features: 59\n",
      "[LightGBM] [Info] Start training from score 0.389694\n",
      "[LightGBM] [Info] Auto-choosing row-wise multi-threading, the overhead of testing was 0.003668 seconds.\n",
      "You can set `force_row_wise=true` to remove the overhead.\n",
      "And if memory is not enough, you can set `force_col_wise=true`.\n",
      "[LightGBM] [Info] Total Bins 8115\n",
      "[LightGBM] [Info] Number of data points in the train set: 22320, number of used features: 59\n",
      "[LightGBM] [Info] Start training from score 0.380992\n",
      "[LightGBM] [Info] Auto-choosing row-wise multi-threading, the overhead of testing was 0.022997 seconds.\n",
      "You can set `force_row_wise=true` to remove the overhead.\n",
      "And if memory is not enough, you can set `force_col_wise=true`.\n",
      "[LightGBM] [Info] Total Bins 8115\n",
      "[LightGBM] [Info] Number of data points in the train set: 22176, number of used features: 59\n",
      "[LightGBM] [Info] Start training from score 0.284950\n",
      "[LightGBM] [Info] Auto-choosing col-wise multi-threading, the overhead of testing was 0.009183 seconds.\n",
      "You can set `force_col_wise=true` to remove the overhead.\n",
      "[LightGBM] [Info] Total Bins 8115\n",
      "[LightGBM] [Info] Number of data points in the train set: 27552, number of used features: 59\n",
      "[LightGBM] [Info] Start training from score 0.384962\n",
      "[LightGBM] [Info] Auto-choosing col-wise multi-threading, the overhead of testing was 0.010594 seconds.\n",
      "You can set `force_col_wise=true` to remove the overhead.\n",
      "[LightGBM] [Info] Total Bins 8115\n",
      "[LightGBM] [Info] Number of data points in the train set: 29856, number of used features: 59\n",
      "[LightGBM] [Info] Start training from score 0.104285\n",
      "[LightGBM] [Info] Auto-choosing row-wise multi-threading, the overhead of testing was 0.009076 seconds.\n",
      "You can set `force_row_wise=true` to remove the overhead.\n",
      "And if memory is not enough, you can set `force_col_wise=true`.\n",
      "[LightGBM] [Info] Total Bins 8115\n",
      "[LightGBM] [Info] Number of data points in the train set: 29856, number of used features: 59\n",
      "[LightGBM] [Info] Start training from score 0.224351\n",
      "[LightGBM] [Info] Auto-choosing col-wise multi-threading, the overhead of testing was 0.010333 seconds.\n",
      "You can set `force_col_wise=true` to remove the overhead.\n",
      "[LightGBM] [Info] Total Bins 8115\n",
      "[LightGBM] [Info] Number of data points in the train set: 29760, number of used features: 59\n",
      "[LightGBM] [Info] Start training from score 0.099726\n",
      "[LightGBM] [Info] Auto-choosing col-wise multi-threading, the overhead of testing was 0.009454 seconds.\n",
      "You can set `force_col_wise=true` to remove the overhead.\n",
      "[LightGBM] [Info] Total Bins 8115\n",
      "[LightGBM] [Info] Number of data points in the train set: 29616, number of used features: 59\n",
      "[LightGBM] [Info] Start training from score 0.244295\n",
      "[LightGBM] [Info] Auto-choosing col-wise multi-threading, the overhead of testing was 0.010406 seconds.\n",
      "You can set `force_col_wise=true` to remove the overhead.\n",
      "[LightGBM] [Info] Total Bins 8115\n",
      "[LightGBM] [Info] Number of data points in the train set: 33024, number of used features: 59\n",
      "[LightGBM] [Info] Start training from score 0.119819\n",
      "[LightGBM] [Info] Auto-choosing col-wise multi-threading, the overhead of testing was 0.010646 seconds.\n",
      "You can set `force_col_wise=true` to remove the overhead.\n",
      "[LightGBM] [Info] Total Bins 8115\n",
      "[LightGBM] [Info] Number of data points in the train set: 32976, number of used features: 59\n",
      "[LightGBM] [Info] Start training from score 0.145223\n",
      "[LightGBM] [Info] Auto-choosing col-wise multi-threading, the overhead of testing was 0.010548 seconds.\n",
      "You can set `force_col_wise=true` to remove the overhead.\n",
      "[LightGBM] [Info] Total Bins 8115\n",
      "[LightGBM] [Info] Number of data points in the train set: 32784, number of used features: 59\n",
      "[LightGBM] [Info] Start training from score 0.132377\n",
      "[LightGBM] [Info] Auto-choosing col-wise multi-threading, the overhead of testing was 0.012787 seconds.\n",
      "You can set `force_col_wise=true` to remove the overhead.\n",
      "[LightGBM] [Info] Total Bins 8115\n",
      "[LightGBM] [Info] Number of data points in the train set: 32784, number of used features: 59\n",
      "[LightGBM] [Info] Start training from score 0.305821\n",
      "[LightGBM] [Info] Auto-choosing col-wise multi-threading, the overhead of testing was 0.026513 seconds.\n",
      "You can set `force_col_wise=true` to remove the overhead.\n",
      "[LightGBM] [Info] Total Bins 8115\n",
      "[LightGBM] [Info] Number of data points in the train set: 36576, number of used features: 59\n",
      "[LightGBM] [Info] Start training from score 0.395914\n",
      "[LightGBM] [Info] Auto-choosing col-wise multi-threading, the overhead of testing was 0.015610 seconds.\n",
      "You can set `force_col_wise=true` to remove the overhead.\n",
      "[LightGBM] [Info] Total Bins 8115\n",
      "[LightGBM] [Info] Number of data points in the train set: 36576, number of used features: 59\n",
      "[LightGBM] [Info] Start training from score 0.114683\n",
      "[LightGBM] [Info] Auto-choosing row-wise multi-threading, the overhead of testing was 0.005365 seconds.\n",
      "You can set `force_row_wise=true` to remove the overhead.\n",
      "And if memory is not enough, you can set `force_col_wise=true`.\n",
      "[LightGBM] [Info] Total Bins 8115\n",
      "[LightGBM] [Info] Number of data points in the train set: 36576, number of used features: 59\n",
      "[LightGBM] [Info] Start training from score 0.253672\n",
      "[LightGBM] [Info] Auto-choosing col-wise multi-threading, the overhead of testing was 0.011941 seconds.\n",
      "You can set `force_col_wise=true` to remove the overhead.\n",
      "[LightGBM] [Info] Total Bins 8115\n",
      "[LightGBM] [Info] Number of data points in the train set: 36576, number of used features: 59\n",
      "[LightGBM] [Info] Start training from score 0.267405\n",
      "[LightGBM] [Info] Auto-choosing row-wise multi-threading, the overhead of testing was 0.004340 seconds.\n",
      "You can set `force_row_wise=true` to remove the overhead.\n",
      "And if memory is not enough, you can set `force_col_wise=true`.\n",
      "[LightGBM] [Info] Total Bins 8115\n",
      "[LightGBM] [Info] Number of data points in the train set: 36576, number of used features: 59\n",
      "[LightGBM] [Info] Start training from score 0.067055\n",
      "[LightGBM] [Info] Auto-choosing col-wise multi-threading, the overhead of testing was 0.009585 seconds.\n",
      "You can set `force_col_wise=true` to remove the overhead.\n",
      "[LightGBM] [Info] Total Bins 8115\n",
      "[LightGBM] [Info] Number of data points in the train set: 27264, number of used features: 59\n",
      "[LightGBM] [Info] Start training from score 0.109435\n",
      "[LightGBM] [Info] Auto-choosing col-wise multi-threading, the overhead of testing was 0.006348 seconds.\n",
      "You can set `force_col_wise=true` to remove the overhead.\n",
      "[LightGBM] [Info] Total Bins 8115\n",
      "[LightGBM] [Info] Number of data points in the train set: 27264, number of used features: 59\n",
      "[LightGBM] [Info] Start training from score 0.074699\n",
      "[LightGBM] [Info] Auto-choosing col-wise multi-threading, the overhead of testing was 0.007807 seconds.\n",
      "You can set `force_col_wise=true` to remove the overhead.\n",
      "[LightGBM] [Info] Total Bins 8115\n",
      "[LightGBM] [Info] Number of data points in the train set: 27264, number of used features: 59\n",
      "[LightGBM] [Info] Start training from score 0.268671\n",
      "[LightGBM] [Info] Auto-choosing col-wise multi-threading, the overhead of testing was 0.009777 seconds.\n",
      "You can set `force_col_wise=true` to remove the overhead.\n",
      "[LightGBM] [Info] Total Bins 8115\n",
      "[LightGBM] [Info] Number of data points in the train set: 27216, number of used features: 59\n",
      "[LightGBM] [Info] Start training from score 0.211870\n",
      "[LightGBM] [Info] Auto-choosing row-wise multi-threading, the overhead of testing was 0.003499 seconds.\n",
      "You can set `force_row_wise=true` to remove the overhead.\n",
      "And if memory is not enough, you can set `force_col_wise=true`.\n",
      "[LightGBM] [Info] Total Bins 8115\n",
      "[LightGBM] [Info] Number of data points in the train set: 32016, number of used features: 59\n",
      "[LightGBM] [Info] Start training from score 0.092972\n",
      "[LightGBM] [Info] Auto-choosing col-wise multi-threading, the overhead of testing was 0.009700 seconds.\n",
      "You can set `force_col_wise=true` to remove the overhead.\n",
      "[LightGBM] [Info] Total Bins 8115\n",
      "[LightGBM] [Info] Number of data points in the train set: 31968, number of used features: 59\n",
      "[LightGBM] [Info] Start training from score 0.143447\n",
      "[LightGBM] [Info] Auto-choosing col-wise multi-threading, the overhead of testing was 0.009414 seconds.\n",
      "You can set `force_col_wise=true` to remove the overhead.\n",
      "[LightGBM] [Info] Total Bins 8115\n",
      "[LightGBM] [Info] Number of data points in the train set: 31968, number of used features: 59\n",
      "[LightGBM] [Info] Start training from score 0.105475\n",
      "[LightGBM] [Info] Auto-choosing col-wise multi-threading, the overhead of testing was 0.011974 seconds.\n",
      "You can set `force_col_wise=true` to remove the overhead.\n",
      "[LightGBM] [Info] Total Bins 8115\n",
      "[LightGBM] [Info] Number of data points in the train set: 36576, number of used features: 59\n",
      "[LightGBM] [Info] Start training from score 0.099291\n",
      "[LightGBM] [Info] Auto-choosing col-wise multi-threading, the overhead of testing was 0.009876 seconds.\n",
      "You can set `force_col_wise=true` to remove the overhead.\n",
      "[LightGBM] [Info] Total Bins 8115\n",
      "[LightGBM] [Info] Number of data points in the train set: 35904, number of used features: 59\n",
      "[LightGBM] [Info] Start training from score 0.328767\n",
      "[LightGBM] [Info] Auto-choosing col-wise multi-threading, the overhead of testing was 0.028727 seconds.\n",
      "You can set `force_col_wise=true` to remove the overhead.\n",
      "[LightGBM] [Info] Total Bins 8115\n",
      "[LightGBM] [Info] Number of data points in the train set: 35808, number of used features: 59\n",
      "[LightGBM] [Info] Start training from score 0.444823\n",
      "[LightGBM] [Info] Auto-choosing col-wise multi-threading, the overhead of testing was 0.014324 seconds.\n",
      "You can set `force_col_wise=true` to remove the overhead.\n",
      "[LightGBM] [Info] Total Bins 8115\n",
      "[LightGBM] [Info] Number of data points in the train set: 35328, number of used features: 59\n",
      "[LightGBM] [Info] Start training from score 0.181924\n",
      "[LightGBM] [Info] Auto-choosing col-wise multi-threading, the overhead of testing was 0.012744 seconds.\n",
      "You can set `force_col_wise=true` to remove the overhead.\n",
      "[LightGBM] [Info] Total Bins 8115\n",
      "[LightGBM] [Info] Number of data points in the train set: 35232, number of used features: 59\n",
      "[LightGBM] [Info] Start training from score 0.311914\n",
      "[LightGBM] [Info] Auto-choosing row-wise multi-threading, the overhead of testing was 0.003270 seconds.\n",
      "You can set `force_row_wise=true` to remove the overhead.\n",
      "And if memory is not enough, you can set `force_col_wise=true`.\n",
      "[LightGBM] [Info] Total Bins 8115\n",
      "[LightGBM] [Info] Number of data points in the train set: 29376, number of used features: 59\n",
      "[LightGBM] [Info] Start training from score 0.133619\n",
      "[LightGBM] [Info] Auto-choosing col-wise multi-threading, the overhead of testing was 0.009493 seconds.\n",
      "You can set `force_col_wise=true` to remove the overhead.\n",
      "[LightGBM] [Info] Total Bins 8115\n",
      "[LightGBM] [Info] Number of data points in the train set: 29328, number of used features: 59\n",
      "[LightGBM] [Info] Start training from score 0.159213\n",
      "[LightGBM] [Info] Auto-choosing col-wise multi-threading, the overhead of testing was 0.009532 seconds.\n",
      "You can set `force_col_wise=true` to remove the overhead.\n",
      "[LightGBM] [Info] Total Bins 8115\n",
      "[LightGBM] [Info] Number of data points in the train set: 29328, number of used features: 59\n",
      "[LightGBM] [Info] Start training from score 0.301225\n",
      "[LightGBM] [Info] Auto-choosing col-wise multi-threading, the overhead of testing was 0.009059 seconds.\n",
      "You can set `force_col_wise=true` to remove the overhead.\n",
      "[LightGBM] [Info] Total Bins 8115\n",
      "[LightGBM] [Info] Number of data points in the train set: 29328, number of used features: 59\n",
      "[LightGBM] [Info] Start training from score 0.118121\n",
      "[LightGBM] [Info] Auto-choosing col-wise multi-threading, the overhead of testing was 0.011449 seconds.\n",
      "You can set `force_col_wise=true` to remove the overhead.\n",
      "[LightGBM] [Info] Total Bins 8115\n",
      "[LightGBM] [Info] Number of data points in the train set: 34992, number of used features: 59\n",
      "[LightGBM] [Info] Start training from score 0.133715\n",
      "[LightGBM] [Info] Auto-choosing col-wise multi-threading, the overhead of testing was 0.011755 seconds.\n",
      "You can set `force_col_wise=true` to remove the overhead.\n",
      "[LightGBM] [Info] Total Bins 8115\n",
      "[LightGBM] [Info] Number of data points in the train set: 34896, number of used features: 59\n",
      "[LightGBM] [Info] Start training from score 0.081407\n",
      "[LightGBM] [Info] Auto-choosing col-wise multi-threading, the overhead of testing was 0.013010 seconds.\n",
      "You can set `force_col_wise=true` to remove the overhead.\n",
      "[LightGBM] [Info] Total Bins 8115\n",
      "[LightGBM] [Info] Number of data points in the train set: 34896, number of used features: 59\n",
      "[LightGBM] [Info] Start training from score 0.474402\n",
      "[LightGBM] [Info] Auto-choosing row-wise multi-threading, the overhead of testing was 0.002452 seconds.\n",
      "You can set `force_row_wise=true` to remove the overhead.\n",
      "And if memory is not enough, you can set `force_col_wise=true`.\n",
      "[LightGBM] [Info] Total Bins 8115\n",
      "[LightGBM] [Info] Number of data points in the train set: 34464, number of used features: 59\n",
      "[LightGBM] [Info] Start training from score 0.655740\n",
      "[LightGBM] [Info] Auto-choosing col-wise multi-threading, the overhead of testing was 0.011080 seconds.\n",
      "You can set `force_col_wise=true` to remove the overhead.\n",
      "[LightGBM] [Info] Total Bins 8115\n",
      "[LightGBM] [Info] Number of data points in the train set: 34416, number of used features: 59\n",
      "[LightGBM] [Info] Start training from score 0.090753\n",
      "[LightGBM] [Info] Auto-choosing col-wise multi-threading, the overhead of testing was 0.010977 seconds.\n",
      "You can set `force_col_wise=true` to remove the overhead.\n",
      "[LightGBM] [Info] Total Bins 8115\n",
      "[LightGBM] [Info] Number of data points in the train set: 34128, number of used features: 59\n",
      "[LightGBM] [Info] Start training from score 0.076921\n",
      "[LightGBM] [Info] Auto-choosing col-wise multi-threading, the overhead of testing was 0.011356 seconds.\n",
      "You can set `force_col_wise=true` to remove the overhead.\n",
      "[LightGBM] [Info] Total Bins 8115\n",
      "[LightGBM] [Info] Number of data points in the train set: 34080, number of used features: 59\n",
      "[LightGBM] [Info] Start training from score 0.198798\n",
      "[LightGBM] [Info] Auto-choosing col-wise multi-threading, the overhead of testing was 0.010900 seconds.\n",
      "You can set `force_col_wise=true` to remove the overhead.\n",
      "[LightGBM] [Info] Total Bins 8115\n",
      "[LightGBM] [Info] Number of data points in the train set: 33984, number of used features: 59\n",
      "[LightGBM] [Info] Start training from score 0.204994\n",
      "[LightGBM] [Info] Auto-choosing row-wise multi-threading, the overhead of testing was 0.002444 seconds.\n",
      "You can set `force_row_wise=true` to remove the overhead.\n",
      "And if memory is not enough, you can set `force_col_wise=true`.\n",
      "[LightGBM] [Info] Total Bins 8115\n",
      "[LightGBM] [Info] Number of data points in the train set: 31440, number of used features: 59\n",
      "[LightGBM] [Info] Start training from score 0.126474\n",
      "[LightGBM] [Info] Auto-choosing col-wise multi-threading, the overhead of testing was 0.010185 seconds.\n",
      "You can set `force_col_wise=true` to remove the overhead.\n",
      "[LightGBM] [Info] Total Bins 8115\n",
      "[LightGBM] [Info] Number of data points in the train set: 31392, number of used features: 59\n",
      "[LightGBM] [Info] Start training from score 0.173649\n",
      "[LightGBM] [Info] Auto-choosing row-wise multi-threading, the overhead of testing was 0.003745 seconds.\n",
      "You can set `force_row_wise=true` to remove the overhead.\n",
      "And if memory is not enough, you can set `force_col_wise=true`.\n",
      "[LightGBM] [Info] Total Bins 8115\n",
      "[LightGBM] [Info] Number of data points in the train set: 31392, number of used features: 59\n",
      "[LightGBM] [Info] Start training from score 0.161892\n"
     ]
    }
   ],
   "source": [
    "all_preds = []\n",
    "all_metrics = []\n",
    "#We can parallelize this loop to run this faster\n",
    "for lcl_id in tqdm(lcl_ids):\n",
    "    for model_config in models_to_run:\n",
    "        model_config = model_config.clone()\n",
    "        X_train, y_train, _ = feat_config.get_X_y(train_df.loc[train_df.LCLid==lcl_id,:], categorical=False, exogenous=False)\n",
    "        X_test, y_test, _ = feat_config.get_X_y(test_df.loc[test_df.LCLid==lcl_id,:], categorical=False, exogenous=False)\n",
    "        with warnings.catch_warnings():\n",
    "            warnings.simplefilter(\"ignore\")\n",
    "            y_pred, metrics, feat_df = evaluate_model(model_config, feat_config, missing_value_config, X_train, y_train, X_test, y_test)\n",
    "        y_pred.name = \"predictions\"\n",
    "        y_pred = y_pred.to_frame()\n",
    "        y_pred['LCLid'] = lcl_id\n",
    "        y_pred['Algorithm'] = model_config.name\n",
    "        metrics[\"LCLid\"] = lcl_id\n",
    "        metrics[\"Algorithm\"] = model_config.name\n",
    "        y_pred['energy_consumption'] = y_test.values\n",
    "        all_preds.append(y_pred)\n",
    "        all_metrics.append(metrics)"
   ]
  },
  {
   "cell_type": "code",
   "execution_count": 14,
   "id": "5ef397c8-d658-48e7-91e1-224319042e57",
   "metadata": {},
   "outputs": [
    {
     "data": {
      "text/html": [
       "<div>\n",
       "<style scoped>\n",
       "    .dataframe tbody tr th:only-of-type {\n",
       "        vertical-align: middle;\n",
       "    }\n",
       "\n",
       "    .dataframe tbody tr th {\n",
       "        vertical-align: top;\n",
       "    }\n",
       "\n",
       "    .dataframe thead th {\n",
       "        text-align: right;\n",
       "    }\n",
       "</style>\n",
       "<table border=\"1\" class=\"dataframe\">\n",
       "  <thead>\n",
       "    <tr style=\"text-align: right;\">\n",
       "      <th></th>\n",
       "      <th>predictions</th>\n",
       "      <th>LCLid</th>\n",
       "      <th>Algorithm</th>\n",
       "      <th>energy_consumption</th>\n",
       "    </tr>\n",
       "    <tr>\n",
       "      <th>timestamp</th>\n",
       "      <th></th>\n",
       "      <th></th>\n",
       "      <th></th>\n",
       "      <th></th>\n",
       "    </tr>\n",
       "  </thead>\n",
       "  <tbody>\n",
       "    <tr>\n",
       "      <th>2014-02-01 00:00:00</th>\n",
       "      <td>0.057977</td>\n",
       "      <td>MAC000061</td>\n",
       "      <td>Lasso Regression</td>\n",
       "      <td>0.066</td>\n",
       "    </tr>\n",
       "    <tr>\n",
       "      <th>2014-02-01 00:30:00</th>\n",
       "      <td>0.052880</td>\n",
       "      <td>MAC000061</td>\n",
       "      <td>Lasso Regression</td>\n",
       "      <td>0.063</td>\n",
       "    </tr>\n",
       "    <tr>\n",
       "      <th>2014-02-01 01:00:00</th>\n",
       "      <td>0.055570</td>\n",
       "      <td>MAC000061</td>\n",
       "      <td>Lasso Regression</td>\n",
       "      <td>0.040</td>\n",
       "    </tr>\n",
       "    <tr>\n",
       "      <th>2014-02-01 01:30:00</th>\n",
       "      <td>0.039004</td>\n",
       "      <td>MAC000061</td>\n",
       "      <td>Lasso Regression</td>\n",
       "      <td>0.020</td>\n",
       "    </tr>\n",
       "    <tr>\n",
       "      <th>2014-02-01 02:00:00</th>\n",
       "      <td>0.026240</td>\n",
       "      <td>MAC000061</td>\n",
       "      <td>Lasso Regression</td>\n",
       "      <td>0.018</td>\n",
       "    </tr>\n",
       "  </tbody>\n",
       "</table>\n",
       "</div>"
      ],
      "text/plain": [
       "                     predictions      LCLid         Algorithm  \\\n",
       "timestamp                                                       \n",
       "2014-02-01 00:00:00     0.057977  MAC000061  Lasso Regression   \n",
       "2014-02-01 00:30:00     0.052880  MAC000061  Lasso Regression   \n",
       "2014-02-01 01:00:00     0.055570  MAC000061  Lasso Regression   \n",
       "2014-02-01 01:30:00     0.039004  MAC000061  Lasso Regression   \n",
       "2014-02-01 02:00:00     0.026240  MAC000061  Lasso Regression   \n",
       "\n",
       "                     energy_consumption  \n",
       "timestamp                                \n",
       "2014-02-01 00:00:00               0.066  \n",
       "2014-02-01 00:30:00               0.063  \n",
       "2014-02-01 01:00:00               0.040  \n",
       "2014-02-01 01:30:00               0.020  \n",
       "2014-02-01 02:00:00               0.018  "
      ]
     },
     "execution_count": 14,
     "metadata": {},
     "output_type": "execute_result"
    }
   ],
   "source": [
    "pred_df = pd.concat(all_preds)\n",
    "pred_df.head()"
   ]
  },
  {
   "cell_type": "code",
   "execution_count": 15,
   "id": "be827e9e-a406-4ee8-8fd8-9923f1c8bda7",
   "metadata": {},
   "outputs": [
    {
     "data": {
      "text/html": [
       "<div>\n",
       "<style scoped>\n",
       "    .dataframe tbody tr th:only-of-type {\n",
       "        vertical-align: middle;\n",
       "    }\n",
       "\n",
       "    .dataframe tbody tr th {\n",
       "        vertical-align: top;\n",
       "    }\n",
       "\n",
       "    .dataframe thead th {\n",
       "        text-align: right;\n",
       "    }\n",
       "</style>\n",
       "<table border=\"1\" class=\"dataframe\">\n",
       "  <thead>\n",
       "    <tr style=\"text-align: right;\">\n",
       "      <th></th>\n",
       "      <th>Algorithm</th>\n",
       "      <th>MAE</th>\n",
       "      <th>MSE</th>\n",
       "      <th>MASE</th>\n",
       "      <th>Forecast Bias</th>\n",
       "      <th>LCLid</th>\n",
       "    </tr>\n",
       "  </thead>\n",
       "  <tbody>\n",
       "    <tr>\n",
       "      <th>0</th>\n",
       "      <td>Lasso Regression</td>\n",
       "      <td>0.037020</td>\n",
       "      <td>0.003086</td>\n",
       "      <td>1.061489</td>\n",
       "      <td>0.985681</td>\n",
       "      <td>MAC000061</td>\n",
       "    </tr>\n",
       "    <tr>\n",
       "      <th>1</th>\n",
       "      <td>XGB Random Forest</td>\n",
       "      <td>0.035339</td>\n",
       "      <td>0.003018</td>\n",
       "      <td>1.013265</td>\n",
       "      <td>0.403921</td>\n",
       "      <td>MAC000061</td>\n",
       "    </tr>\n",
       "    <tr>\n",
       "      <th>2</th>\n",
       "      <td>LightGBM</td>\n",
       "      <td>0.034040</td>\n",
       "      <td>0.002957</td>\n",
       "      <td>0.976033</td>\n",
       "      <td>2.168387</td>\n",
       "      <td>MAC000061</td>\n",
       "    </tr>\n",
       "    <tr>\n",
       "      <th>3</th>\n",
       "      <td>Lasso Regression</td>\n",
       "      <td>0.071291</td>\n",
       "      <td>0.024936</td>\n",
       "      <td>0.940152</td>\n",
       "      <td>-0.100707</td>\n",
       "      <td>MAC000062</td>\n",
       "    </tr>\n",
       "    <tr>\n",
       "      <th>4</th>\n",
       "      <td>XGB Random Forest</td>\n",
       "      <td>0.067831</td>\n",
       "      <td>0.025030</td>\n",
       "      <td>0.894525</td>\n",
       "      <td>3.073401</td>\n",
       "      <td>MAC000062</td>\n",
       "    </tr>\n",
       "  </tbody>\n",
       "</table>\n",
       "</div>"
      ],
      "text/plain": [
       "           Algorithm       MAE       MSE      MASE  Forecast Bias      LCLid\n",
       "0   Lasso Regression  0.037020  0.003086  1.061489       0.985681  MAC000061\n",
       "1  XGB Random Forest  0.035339  0.003018  1.013265       0.403921  MAC000061\n",
       "2           LightGBM  0.034040  0.002957  0.976033       2.168387  MAC000061\n",
       "3   Lasso Regression  0.071291  0.024936  0.940152      -0.100707  MAC000062\n",
       "4  XGB Random Forest  0.067831  0.025030  0.894525       3.073401  MAC000062"
      ]
     },
     "execution_count": 15,
     "metadata": {},
     "output_type": "execute_result"
    }
   ],
   "source": [
    "metrics_df = pd.DataFrame(all_metrics)\n",
    "metrics_df.head()"
   ]
  },
  {
   "cell_type": "markdown",
   "id": "e5e51169-e983-44f0-97b0-c39d988ce549",
   "metadata": {
    "tags": []
   },
   "source": [
    "# Evaluation of ML Forecast"
   ]
  },
  {
   "cell_type": "code",
   "execution_count": 16,
   "id": "e288dfc0-63a6-422e-8dde-a436bacb22cc",
   "metadata": {},
   "outputs": [],
   "source": [
    "from src.utils import ts_utils"
   ]
  },
  {
   "cell_type": "code",
   "execution_count": 17,
   "id": "40cab8d2-3a10-4eff-a580-4a849f2eb44b",
   "metadata": {},
   "outputs": [
    {
     "data": {
      "text/html": [
       "<div>\n",
       "<style scoped>\n",
       "    .dataframe tbody tr th:only-of-type {\n",
       "        vertical-align: middle;\n",
       "    }\n",
       "\n",
       "    .dataframe tbody tr th {\n",
       "        vertical-align: top;\n",
       "    }\n",
       "\n",
       "    .dataframe thead th {\n",
       "        text-align: right;\n",
       "    }\n",
       "</style>\n",
       "<table border=\"1\" class=\"dataframe\">\n",
       "  <thead>\n",
       "    <tr style=\"text-align: right;\">\n",
       "      <th></th>\n",
       "      <th>MAE</th>\n",
       "      <th>MSE</th>\n",
       "      <th>meanMASE</th>\n",
       "      <th>Forecast Bias</th>\n",
       "    </tr>\n",
       "  </thead>\n",
       "  <tbody>\n",
       "    <tr>\n",
       "      <th>Naive</th>\n",
       "      <td>0.085661</td>\n",
       "      <td>0.044766</td>\n",
       "      <td>1.049933</td>\n",
       "      <td>0.017577</td>\n",
       "    </tr>\n",
       "    <tr>\n",
       "      <th>Seasonal Naive</th>\n",
       "      <td>0.121700</td>\n",
       "      <td>0.071501</td>\n",
       "      <td>1.486788</td>\n",
       "      <td>4.066731</td>\n",
       "    </tr>\n",
       "  </tbody>\n",
       "</table>\n",
       "</div>"
      ],
      "text/plain": [
       "                     MAE       MSE  meanMASE  Forecast Bias\n",
       "Naive           0.085661  0.044766  1.049933       0.017577\n",
       "Seasonal Naive  0.121700  0.071501  1.486788       4.066731"
      ]
     },
     "execution_count": 17,
     "metadata": {},
     "output_type": "execute_result"
    }
   ],
   "source": [
    "baseline_aggregate_metrics_df"
   ]
  },
  {
   "cell_type": "code",
   "execution_count": 18,
   "id": "64157814-0544-485a-bdcc-d97f4ae9e0ed",
   "metadata": {},
   "outputs": [],
   "source": [
    "metrics = baseline_aggregate_metrics_df.reset_index().rename(columns={\"index\":\"Algorithm\"}).to_dict(orient=\"records\")"
   ]
  },
  {
   "cell_type": "code",
   "execution_count": 19,
   "id": "3ca44213-d681-4d4d-bd23-fcd4e32e491c",
   "metadata": {},
   "outputs": [],
   "source": [
    "\n",
    "for model_config in models_to_run:\n",
    "    pred_mask = pred_df.Algorithm==model_config.name\n",
    "    metric_mask = metrics_df.Algorithm==model_config.name\n",
    "    metrics.append({\n",
    "    \"Algorithm\": model_config.name,\n",
    "    \"MAE\": ts_utils.mae(pred_df.loc[pred_mask,\"energy_consumption\"], pred_df.loc[pred_mask,\"predictions\"]),\n",
    "    \"MSE\": ts_utils.mse(pred_df.loc[pred_mask,\"energy_consumption\"], pred_df.loc[pred_mask,\"predictions\"]),\n",
    "    \"meanMASE\": metrics_df.loc[metric_mask, \"MASE\"].mean(),\n",
    "    \"Forecast Bias\": ts_utils.forecast_bias_aggregate(pred_df.loc[pred_mask,\"energy_consumption\"], pred_df.loc[pred_mask,\"predictions\"])\n",
    "})"
   ]
  },
  {
   "cell_type": "code",
   "execution_count": 20,
   "id": "08744668-4986-43f1-b744-fd5ad49353c4",
   "metadata": {},
   "outputs": [
    {
     "data": {
      "text/html": [
       "<style type=\"text/css\">\n",
       "#T_d1759_row0_col4 {\n",
       "  color: black;\n",
       "  background-color: lightgreen;\n",
       "}\n",
       "#T_d1759_row2_col2, #T_d1759_row4_col1, #T_d1759_row4_col3 {\n",
       "  background-color: lightgreen;\n",
       "}\n",
       "</style>\n",
       "<table id=\"T_d1759\">\n",
       "  <thead>\n",
       "    <tr>\n",
       "      <th class=\"blank level0\" >&nbsp;</th>\n",
       "      <th id=\"T_d1759_level0_col0\" class=\"col_heading level0 col0\" >Algorithm</th>\n",
       "      <th id=\"T_d1759_level0_col1\" class=\"col_heading level0 col1\" >MAE</th>\n",
       "      <th id=\"T_d1759_level0_col2\" class=\"col_heading level0 col2\" >MSE</th>\n",
       "      <th id=\"T_d1759_level0_col3\" class=\"col_heading level0 col3\" >meanMASE</th>\n",
       "      <th id=\"T_d1759_level0_col4\" class=\"col_heading level0 col4\" >Forecast Bias</th>\n",
       "    </tr>\n",
       "  </thead>\n",
       "  <tbody>\n",
       "    <tr>\n",
       "      <th id=\"T_d1759_level0_row0\" class=\"row_heading level0 row0\" >0</th>\n",
       "      <td id=\"T_d1759_row0_col0\" class=\"data row0 col0\" >Naive</td>\n",
       "      <td id=\"T_d1759_row0_col1\" class=\"data row0 col1\" >0.086</td>\n",
       "      <td id=\"T_d1759_row0_col2\" class=\"data row0 col2\" >0.045</td>\n",
       "      <td id=\"T_d1759_row0_col3\" class=\"data row0 col3\" >1.050</td>\n",
       "      <td id=\"T_d1759_row0_col4\" class=\"data row0 col4\" >0.02%</td>\n",
       "    </tr>\n",
       "    <tr>\n",
       "      <th id=\"T_d1759_level0_row1\" class=\"row_heading level0 row1\" >1</th>\n",
       "      <td id=\"T_d1759_row1_col0\" class=\"data row1 col0\" >Seasonal Naive</td>\n",
       "      <td id=\"T_d1759_row1_col1\" class=\"data row1 col1\" >0.122</td>\n",
       "      <td id=\"T_d1759_row1_col2\" class=\"data row1 col2\" >0.072</td>\n",
       "      <td id=\"T_d1759_row1_col3\" class=\"data row1 col3\" >1.487</td>\n",
       "      <td id=\"T_d1759_row1_col4\" class=\"data row1 col4\" >4.07%</td>\n",
       "    </tr>\n",
       "    <tr>\n",
       "      <th id=\"T_d1759_level0_row2\" class=\"row_heading level0 row2\" >2</th>\n",
       "      <td id=\"T_d1759_row2_col0\" class=\"data row2 col0\" >Lasso Regression</td>\n",
       "      <td id=\"T_d1759_row2_col1\" class=\"data row2 col1\" >0.077</td>\n",
       "      <td id=\"T_d1759_row2_col2\" class=\"data row2 col2\" >0.026</td>\n",
       "      <td id=\"T_d1759_row2_col3\" class=\"data row2 col3\" >0.946</td>\n",
       "      <td id=\"T_d1759_row2_col4\" class=\"data row2 col4\" >0.99%</td>\n",
       "    </tr>\n",
       "    <tr>\n",
       "      <th id=\"T_d1759_level0_row3\" class=\"row_heading level0 row3\" >3</th>\n",
       "      <td id=\"T_d1759_row3_col0\" class=\"data row3 col0\" >XGB Random Forest</td>\n",
       "      <td id=\"T_d1759_row3_col1\" class=\"data row3 col1\" >0.077</td>\n",
       "      <td id=\"T_d1759_row3_col2\" class=\"data row3 col2\" >0.030</td>\n",
       "      <td id=\"T_d1759_row3_col3\" class=\"data row3 col3\" >0.929</td>\n",
       "      <td id=\"T_d1759_row3_col4\" class=\"data row3 col4\" >-0.76%</td>\n",
       "    </tr>\n",
       "    <tr>\n",
       "      <th id=\"T_d1759_level0_row4\" class=\"row_heading level0 row4\" >4</th>\n",
       "      <td id=\"T_d1759_row4_col0\" class=\"data row4 col0\" >LightGBM</td>\n",
       "      <td id=\"T_d1759_row4_col1\" class=\"data row4 col1\" >0.075</td>\n",
       "      <td id=\"T_d1759_row4_col2\" class=\"data row4 col2\" >0.027</td>\n",
       "      <td id=\"T_d1759_row4_col3\" class=\"data row4 col3\" >0.914</td>\n",
       "      <td id=\"T_d1759_row4_col4\" class=\"data row4 col4\" >2.61%</td>\n",
       "    </tr>\n",
       "  </tbody>\n",
       "</table>\n"
      ],
      "text/plain": [
       "<pandas.io.formats.style.Styler at 0x2996a2a29d0>"
      ]
     },
     "execution_count": 20,
     "metadata": {},
     "output_type": "execute_result"
    }
   ],
   "source": [
    "agg_metrics_df = pd.DataFrame(metrics)\n",
    "agg_metrics_df.style.format({\"MAE\": \"{:.3f}\", \n",
    "                          \"MSE\": \"{:.3f}\", \n",
    "                          \"meanMASE\": \"{:.3f}\", \n",
    "                          \"Forecast Bias\": \"{:.2f}%\"}).highlight_min(color='lightgreen', subset=[\"MAE\",\"MSE\",\"meanMASE\"]).apply(highlight_abs_min, props='color:black;background-color:lightgreen', axis=0, subset=['Forecast Bias'])"
   ]
  },
  {
   "cell_type": "code",
   "execution_count": 21,
   "id": "9d164184-dca3-4472-a138-c260019eeb68",
   "metadata": {},
   "outputs": [
    {
     "data": {
      "application/vnd.plotly.v1+json": {
       "config": {
        "plotlyServerURL": "https://plot.ly"
       },
       "data": [
        {
         "alignmentgroup": "True",
         "bingroup": "x",
         "histnorm": "probability density",
         "hovertemplate": "Algorithm=Lasso Regression<br>MASE=%{x}<br>probability density=%{y}<extra></extra>",
         "legendgroup": "Lasso Regression",
         "marker": {
          "color": "#636efa",
          "opacity": 0.5,
          "pattern": {
           "shape": ""
          }
         },
         "name": "Lasso Regression",
         "nbinsx": 500,
         "offsetgroup": "Lasso Regression",
         "orientation": "v",
         "showlegend": true,
         "type": "histogram",
         "x": [
          1.0614889594656243,
          0.9401516529313021,
          0.33669979740321787,
          1.4487840348888101,
          0.7806617023724227,
          0.17325273278948927,
          0.8034211999110595,
          1.080581284942371,
          1.2527111368093584,
          0.6648629280448799,
          1.1223216789868806,
          0.7498515550223611,
          0.6679200036934146,
          1.5070428552214405,
          0.9750248761330342,
          1.0517279351851576,
          1.1145677477002223,
          1.1238200951459738,
          0.7597248950972827,
          0.947424313381813,
          0.9928860073982502,
          0.8175290566011792,
          1.119739750203874,
          0.9609039152346356,
          0.9549605039616166,
          0.794550829327766,
          1.0973931431317987,
          0.8926480003920975,
          0.947577545214593,
          1.1005349109073892,
          0.9687471737163192,
          0.7363870401660999,
          0.8803423591387771,
          0.6942919496624197,
          0.9483299002977249,
          0.15074222332529114,
          0.555814485042594,
          0.18331168341156603,
          1.1528092997646036,
          0.7980779176475482,
          1.1387433290444784,
          1.074714745495695,
          0.798096583766338,
          1.1266945777384783,
          1.2391073489357711,
          1.3912355287748095,
          1.0446837852644861,
          0.6675000099112885,
          0.8144852471603616,
          0.7370369023651437,
          1.2320419863086542,
          0.8066593537268533,
          1.173532151347249,
          0.9272581472235543,
          0.4543916921910324,
          2.3081042514747803,
          0.8802229912055585,
          0.5415629954843043,
          0.9938506461414127,
          1.0379844284281377,
          0.805053407770218,
          0.752392734310027,
          0.7886292064060049,
          1.1317020382094936,
          1.1680132719204444,
          1.1399441020929386,
          0.8774101386399772,
          0.6414617548027374,
          0.903789708632863,
          0.8854742755718676,
          0.6188021286677987,
          0.9579876011666002,
          0.5892615430941633,
          0.817533263738741,
          0.8900808975318538,
          0.6113868473980505,
          0.8988003148058225,
          0.8761676835322356,
          0.7173603566297397,
          0.1502615069142528,
          0.934285514699417,
          0.8002320162925385,
          0.9140582253862503,
          1.207737239869119,
          1.2257309285723137,
          0.9162075895614544,
          0.9514334325325868,
          1.1013949901033648,
          0.9277635724288207,
          0.8186551656763422,
          1.2797002772154136,
          0.9257897383760582,
          1.0092742623983275,
          1.0005046242239575,
          0.9803620025820957,
          0.8636721928657125,
          1.1430368856134272,
          0.7739503750087513,
          1.3408248703049739,
          0.9318222509449081,
          1.0249781709761048,
          0.8086939258736927,
          1.0570678917148097,
          0.888003569263046,
          1.0351658361086864,
          1.1142774562617057,
          0.8599010332264132,
          1.0706672112607514,
          0.9901522519808328,
          1.1181231032171546,
          1.0312167425004266,
          0.8748425875794008,
          1.7186640621980496,
          1.136417635165343,
          0.6180878400239253,
          1.0146576536909298,
          0.8363524267632872,
          1.3254770089170258,
          1.1612483510110567,
          0.563396623217675,
          0.4298376877680139,
          0.9514677010900369,
          1.0080900399046022,
          1.6309233222931974,
          0.9588250286038452,
          1.1691008445192477,
          0.9862626858731827,
          1.1042375764712296,
          1.2602996015624377,
          0.985886707082818,
          0.7866200281166971,
          0.9726500550828205,
          0.7125936393498947,
          0.8084898219368527,
          1.404612144626468,
          0.30096612830805825,
          0.8273238011613077,
          0.831858683310602,
          1.3870175772480469,
          0.9177349965392678,
          0.9948678648696037,
          1.1285641631733,
          0.7487859113174067,
          0.9130018628927488,
          0.9852646692584542,
          1.01347664003026,
          1.031609663557626,
          1.0481324402883765,
          1.134703517811063,
          1.2483554402484656
         ],
         "xaxis": "x",
         "yaxis": "y"
        },
        {
         "alignmentgroup": "True",
         "hovertemplate": "Algorithm=Lasso Regression<br>MASE=%{x}<extra></extra>",
         "legendgroup": "Lasso Regression",
         "marker": {
          "color": "#636efa"
         },
         "name": "Lasso Regression",
         "notched": true,
         "offsetgroup": "Lasso Regression",
         "showlegend": false,
         "type": "box",
         "x": [
          1.0614889594656243,
          0.9401516529313021,
          0.33669979740321787,
          1.4487840348888101,
          0.7806617023724227,
          0.17325273278948927,
          0.8034211999110595,
          1.080581284942371,
          1.2527111368093584,
          0.6648629280448799,
          1.1223216789868806,
          0.7498515550223611,
          0.6679200036934146,
          1.5070428552214405,
          0.9750248761330342,
          1.0517279351851576,
          1.1145677477002223,
          1.1238200951459738,
          0.7597248950972827,
          0.947424313381813,
          0.9928860073982502,
          0.8175290566011792,
          1.119739750203874,
          0.9609039152346356,
          0.9549605039616166,
          0.794550829327766,
          1.0973931431317987,
          0.8926480003920975,
          0.947577545214593,
          1.1005349109073892,
          0.9687471737163192,
          0.7363870401660999,
          0.8803423591387771,
          0.6942919496624197,
          0.9483299002977249,
          0.15074222332529114,
          0.555814485042594,
          0.18331168341156603,
          1.1528092997646036,
          0.7980779176475482,
          1.1387433290444784,
          1.074714745495695,
          0.798096583766338,
          1.1266945777384783,
          1.2391073489357711,
          1.3912355287748095,
          1.0446837852644861,
          0.6675000099112885,
          0.8144852471603616,
          0.7370369023651437,
          1.2320419863086542,
          0.8066593537268533,
          1.173532151347249,
          0.9272581472235543,
          0.4543916921910324,
          2.3081042514747803,
          0.8802229912055585,
          0.5415629954843043,
          0.9938506461414127,
          1.0379844284281377,
          0.805053407770218,
          0.752392734310027,
          0.7886292064060049,
          1.1317020382094936,
          1.1680132719204444,
          1.1399441020929386,
          0.8774101386399772,
          0.6414617548027374,
          0.903789708632863,
          0.8854742755718676,
          0.6188021286677987,
          0.9579876011666002,
          0.5892615430941633,
          0.817533263738741,
          0.8900808975318538,
          0.6113868473980505,
          0.8988003148058225,
          0.8761676835322356,
          0.7173603566297397,
          0.1502615069142528,
          0.934285514699417,
          0.8002320162925385,
          0.9140582253862503,
          1.207737239869119,
          1.2257309285723137,
          0.9162075895614544,
          0.9514334325325868,
          1.1013949901033648,
          0.9277635724288207,
          0.8186551656763422,
          1.2797002772154136,
          0.9257897383760582,
          1.0092742623983275,
          1.0005046242239575,
          0.9803620025820957,
          0.8636721928657125,
          1.1430368856134272,
          0.7739503750087513,
          1.3408248703049739,
          0.9318222509449081,
          1.0249781709761048,
          0.8086939258736927,
          1.0570678917148097,
          0.888003569263046,
          1.0351658361086864,
          1.1142774562617057,
          0.8599010332264132,
          1.0706672112607514,
          0.9901522519808328,
          1.1181231032171546,
          1.0312167425004266,
          0.8748425875794008,
          1.7186640621980496,
          1.136417635165343,
          0.6180878400239253,
          1.0146576536909298,
          0.8363524267632872,
          1.3254770089170258,
          1.1612483510110567,
          0.563396623217675,
          0.4298376877680139,
          0.9514677010900369,
          1.0080900399046022,
          1.6309233222931974,
          0.9588250286038452,
          1.1691008445192477,
          0.9862626858731827,
          1.1042375764712296,
          1.2602996015624377,
          0.985886707082818,
          0.7866200281166971,
          0.9726500550828205,
          0.7125936393498947,
          0.8084898219368527,
          1.404612144626468,
          0.30096612830805825,
          0.8273238011613077,
          0.831858683310602,
          1.3870175772480469,
          0.9177349965392678,
          0.9948678648696037,
          1.1285641631733,
          0.7487859113174067,
          0.9130018628927488,
          0.9852646692584542,
          1.01347664003026,
          1.031609663557626,
          1.0481324402883765,
          1.134703517811063,
          1.2483554402484656
         ],
         "xaxis": "x2",
         "yaxis": "y2"
        },
        {
         "alignmentgroup": "True",
         "bingroup": "x",
         "histnorm": "probability density",
         "hovertemplate": "Algorithm=XGB Random Forest<br>MASE=%{x}<br>probability density=%{y}<extra></extra>",
         "legendgroup": "XGB Random Forest",
         "marker": {
          "color": "#EF553B",
          "opacity": 0.5,
          "pattern": {
           "shape": "/"
          }
         },
         "name": "XGB Random Forest",
         "nbinsx": 500,
         "offsetgroup": "XGB Random Forest",
         "orientation": "v",
         "showlegend": true,
         "type": "histogram",
         "x": [
          1.0132653713226318,
          0.8945251703262329,
          0.21328824758529663,
          1.3285605907440186,
          0.7802248001098633,
          0.20100267231464386,
          0.8119260668754578,
          1.0746617317199707,
          1.2813255786895752,
          0.683800995349884,
          1.082337737083435,
          0.7355270385742188,
          0.6603199243545532,
          2.7603564262390137,
          0.9202321171760559,
          1.039024829864502,
          1.1287165880203247,
          1.0708621740341187,
          0.7881544232368469,
          0.9512390494346619,
          0.9400773644447327,
          0.7896690368652344,
          1.0968483686447144,
          0.93048495054245,
          0.9593676328659058,
          0.782126247882843,
          1.0361520051956177,
          0.9187859892845154,
          0.9035302400588989,
          1.13097083568573,
          0.9737722873687744,
          0.7062522172927856,
          0.811549961566925,
          0.7247205376625061,
          0.9182792901992798,
          0.3222199082374573,
          0.5197324156761169,
          0.2682649493217468,
          1.008886694908142,
          0.7654290199279785,
          1.1342219114303589,
          1.090799331665039,
          0.8467119336128235,
          1.102162480354309,
          1.171533226966858,
          1.3511314392089844,
          1.085203766822815,
          0.690403163433075,
          0.8230197429656982,
          0.7575340270996094,
          1.1625112295150757,
          0.6981960535049438,
          1.1068627834320068,
          0.9297929406166077,
          0.39027440547943115,
          2.0376100540161133,
          0.8616465330123901,
          0.5382637977600098,
          0.9787918329238892,
          1.0117132663726807,
          0.7642765045166016,
          0.7788775563240051,
          0.7790427207946777,
          1.1496074199676514,
          1.1001256704330444,
          1.1094366312026978,
          0.8510310053825378,
          0.5556763410568237,
          0.9054859280586243,
          0.8967264890670776,
          0.5059567093849182,
          1.0453522205352783,
          0.5516548156738281,
          0.7751204371452332,
          0.8635581135749817,
          0.5735669136047363,
          0.8813587427139282,
          0.762820839881897,
          0.7215873599052429,
          0.1551799476146698,
          0.833673357963562,
          0.8269826173782349,
          0.8983943462371826,
          1.131666660308838,
          1.143283486366272,
          0.9388964772224426,
          0.92363440990448,
          1.1102051734924316,
          0.9344171285629272,
          0.8249021768569946,
          1.262237548828125,
          0.9429013133049011,
          0.9734892249107361,
          0.9955746531486511,
          0.8959904313087463,
          0.8612009286880493,
          1.089329719543457,
          0.8048527240753174,
          1.3120208978652954,
          0.927431583404541,
          0.9187666177749634,
          0.8107293248176575,
          1.0275574922561646,
          0.850378155708313,
          0.9899986982345581,
          1.0333455801010132,
          0.8909844160079956,
          1.0367485284805298,
          0.9318007230758667,
          1.1022251844406128,
          1.0074570178985596,
          0.8847156167030334,
          1.3022525310516357,
          1.144433856010437,
          0.5918759107589722,
          0.9390674233436584,
          0.8619235157966614,
          1.0582149028778076,
          1.1681122779846191,
          0.5797370076179504,
          0.4580194056034088,
          0.9557862281799316,
          0.9476993680000305,
          1.695654273033142,
          0.9357314109802246,
          1.1282471418380737,
          0.9247859716415405,
          1.0376039743423462,
          1.231131911277771,
          0.8975858688354492,
          0.8084334135055542,
          0.9448590278625488,
          0.8231803774833679,
          0.8163263201713562,
          1.4586750268936157,
          0.47141730785369873,
          0.7891998887062073,
          0.7966252565383911,
          1.4645928144454956,
          0.9359630346298218,
          0.8599643111228943,
          1.2464367151260376,
          0.7671529054641724,
          0.9048015475273132,
          0.835564136505127,
          0.917062520980835,
          0.9335454106330872,
          1.0316139459609985,
          1.051268458366394,
          1.0526856184005737
         ],
         "xaxis": "x",
         "yaxis": "y"
        },
        {
         "alignmentgroup": "True",
         "hovertemplate": "Algorithm=XGB Random Forest<br>MASE=%{x}<extra></extra>",
         "legendgroup": "XGB Random Forest",
         "marker": {
          "color": "#EF553B"
         },
         "name": "XGB Random Forest",
         "notched": true,
         "offsetgroup": "XGB Random Forest",
         "showlegend": false,
         "type": "box",
         "x": [
          1.0132653713226318,
          0.8945251703262329,
          0.21328824758529663,
          1.3285605907440186,
          0.7802248001098633,
          0.20100267231464386,
          0.8119260668754578,
          1.0746617317199707,
          1.2813255786895752,
          0.683800995349884,
          1.082337737083435,
          0.7355270385742188,
          0.6603199243545532,
          2.7603564262390137,
          0.9202321171760559,
          1.039024829864502,
          1.1287165880203247,
          1.0708621740341187,
          0.7881544232368469,
          0.9512390494346619,
          0.9400773644447327,
          0.7896690368652344,
          1.0968483686447144,
          0.93048495054245,
          0.9593676328659058,
          0.782126247882843,
          1.0361520051956177,
          0.9187859892845154,
          0.9035302400588989,
          1.13097083568573,
          0.9737722873687744,
          0.7062522172927856,
          0.811549961566925,
          0.7247205376625061,
          0.9182792901992798,
          0.3222199082374573,
          0.5197324156761169,
          0.2682649493217468,
          1.008886694908142,
          0.7654290199279785,
          1.1342219114303589,
          1.090799331665039,
          0.8467119336128235,
          1.102162480354309,
          1.171533226966858,
          1.3511314392089844,
          1.085203766822815,
          0.690403163433075,
          0.8230197429656982,
          0.7575340270996094,
          1.1625112295150757,
          0.6981960535049438,
          1.1068627834320068,
          0.9297929406166077,
          0.39027440547943115,
          2.0376100540161133,
          0.8616465330123901,
          0.5382637977600098,
          0.9787918329238892,
          1.0117132663726807,
          0.7642765045166016,
          0.7788775563240051,
          0.7790427207946777,
          1.1496074199676514,
          1.1001256704330444,
          1.1094366312026978,
          0.8510310053825378,
          0.5556763410568237,
          0.9054859280586243,
          0.8967264890670776,
          0.5059567093849182,
          1.0453522205352783,
          0.5516548156738281,
          0.7751204371452332,
          0.8635581135749817,
          0.5735669136047363,
          0.8813587427139282,
          0.762820839881897,
          0.7215873599052429,
          0.1551799476146698,
          0.833673357963562,
          0.8269826173782349,
          0.8983943462371826,
          1.131666660308838,
          1.143283486366272,
          0.9388964772224426,
          0.92363440990448,
          1.1102051734924316,
          0.9344171285629272,
          0.8249021768569946,
          1.262237548828125,
          0.9429013133049011,
          0.9734892249107361,
          0.9955746531486511,
          0.8959904313087463,
          0.8612009286880493,
          1.089329719543457,
          0.8048527240753174,
          1.3120208978652954,
          0.927431583404541,
          0.9187666177749634,
          0.8107293248176575,
          1.0275574922561646,
          0.850378155708313,
          0.9899986982345581,
          1.0333455801010132,
          0.8909844160079956,
          1.0367485284805298,
          0.9318007230758667,
          1.1022251844406128,
          1.0074570178985596,
          0.8847156167030334,
          1.3022525310516357,
          1.144433856010437,
          0.5918759107589722,
          0.9390674233436584,
          0.8619235157966614,
          1.0582149028778076,
          1.1681122779846191,
          0.5797370076179504,
          0.4580194056034088,
          0.9557862281799316,
          0.9476993680000305,
          1.695654273033142,
          0.9357314109802246,
          1.1282471418380737,
          0.9247859716415405,
          1.0376039743423462,
          1.231131911277771,
          0.8975858688354492,
          0.8084334135055542,
          0.9448590278625488,
          0.8231803774833679,
          0.8163263201713562,
          1.4586750268936157,
          0.47141730785369873,
          0.7891998887062073,
          0.7966252565383911,
          1.4645928144454956,
          0.9359630346298218,
          0.8599643111228943,
          1.2464367151260376,
          0.7671529054641724,
          0.9048015475273132,
          0.835564136505127,
          0.917062520980835,
          0.9335454106330872,
          1.0316139459609985,
          1.051268458366394,
          1.0526856184005737
         ],
         "xaxis": "x2",
         "yaxis": "y2"
        },
        {
         "alignmentgroup": "True",
         "bingroup": "x",
         "histnorm": "probability density",
         "hovertemplate": "Algorithm=LightGBM<br>MASE=%{x}<br>probability density=%{y}<extra></extra>",
         "legendgroup": "LightGBM",
         "marker": {
          "color": "#00cc96",
          "opacity": 0.5,
          "pattern": {
           "shape": "\\"
          }
         },
         "name": "LightGBM",
         "nbinsx": 500,
         "offsetgroup": "LightGBM",
         "orientation": "v",
         "showlegend": true,
         "type": "histogram",
         "x": [
          0.9760334405442478,
          1.0132940068344543,
          0.22209553912779648,
          1.2144109886111163,
          0.7719108939196039,
          0.10769773154623069,
          0.7745417445162248,
          1.0320068651524457,
          1.1575481187385224,
          0.6367733942439868,
          1.022318874809133,
          0.6856389472284702,
          0.6224647521366775,
          2.471071926173747,
          0.8987795066922944,
          0.959836490638295,
          1.1536915012373052,
          1.0450183693354347,
          0.6919652378585077,
          0.927354084729662,
          0.8793504461084765,
          0.8366065570766847,
          1.0560300671619927,
          0.9000133554416865,
          0.9089105471224602,
          0.7268753882611524,
          1.0458532066067658,
          0.8247241671805183,
          0.9425425828263012,
          1.1232244570590495,
          0.9756212994034897,
          0.5998505398234016,
          0.7234928903908542,
          0.6610188104263895,
          0.8972664580543535,
          0.05154639257132313,
          0.45763694318331744,
          0.1592674950277544,
          0.9680962639629552,
          0.7687650160174793,
          1.0837390561588045,
          1.1249340788532387,
          0.7842758582857017,
          1.107107811874317,
          1.1669389860234958,
          1.5535089740873345,
          1.0787001007743293,
          0.6413086954951464,
          0.7854016140429658,
          0.7432375427098136,
          1.0941724982880392,
          0.6099442044900149,
          1.080559836669179,
          0.8568083604272316,
          0.02247957544510019,
          4.588859026813271,
          0.8344041316380847,
          0.47630224207465083,
          0.9509642961641714,
          1.025754960533503,
          0.7269020492400295,
          0.7703146017890605,
          0.7927426020899899,
          1.1517918350940357,
          1.0627628524891575,
          1.0940250471162836,
          0.7215472440718361,
          0.5162829884300588,
          0.8348458644685021,
          0.9279480358398808,
          0.4937299077078198,
          0.9236347157386956,
          0.5365343474845674,
          0.7704849572728102,
          0.8209430983579352,
          0.5330361976643396,
          0.8818879402154787,
          0.7327794772512161,
          0.6725727566344142,
          0.09962796591391213,
          0.8531436282874246,
          0.7681416605030619,
          0.9450802858259354,
          1.239266791239776,
          1.1759810632456407,
          0.8729778858408721,
          0.8626498231643025,
          1.066670910798159,
          0.8922325089824966,
          0.7620270275432971,
          1.356335508914156,
          0.9085309270889211,
          0.9945343775257537,
          0.9553108235411876,
          0.8568538304247875,
          0.8713258500256943,
          1.291561039751905,
          0.7256855506297999,
          1.3043992325108387,
          0.8239809704339605,
          0.8778672511489491,
          0.8490746090842359,
          0.9422017627222915,
          0.7913446143090344,
          0.951188263639702,
          1.0647737661911658,
          0.8329723758466435,
          1.0092428335363746,
          0.9614937603615299,
          1.1255682600976729,
          1.0349510450306894,
          0.9437893691618028,
          1.2275569466109415,
          1.1437670753197515,
          0.5583975335988269,
          0.888380213608648,
          0.7842109900284867,
          0.917992929846408,
          1.1712496645774924,
          0.5881196724780894,
          0.29925355366409084,
          0.9583228841420318,
          0.8161627377375731,
          1.9242670356662974,
          0.9603979704252469,
          1.12863205974759,
          0.8895380216892045,
          1.0283897846188546,
          1.2525311759565643,
          0.8706600877789841,
          0.7420628437564464,
          0.913567517014614,
          0.6555043313874975,
          0.7568120506643934,
          1.3632460520328509,
          0.435301870142117,
          0.7667876989647231,
          0.8199099812665969,
          1.6114020473972797,
          0.8963249734117034,
          0.8534864136778606,
          1.1273884117474338,
          0.7081360314184578,
          0.795857537345437,
          1.0122638107597937,
          0.7909818706822819,
          0.9177842988924751,
          0.9843194047550866,
          1.0976105260855764,
          0.9660403794473277
         ],
         "xaxis": "x",
         "yaxis": "y"
        },
        {
         "alignmentgroup": "True",
         "hovertemplate": "Algorithm=LightGBM<br>MASE=%{x}<extra></extra>",
         "legendgroup": "LightGBM",
         "marker": {
          "color": "#00cc96"
         },
         "name": "LightGBM",
         "notched": true,
         "offsetgroup": "LightGBM",
         "showlegend": false,
         "type": "box",
         "x": [
          0.9760334405442478,
          1.0132940068344543,
          0.22209553912779648,
          1.2144109886111163,
          0.7719108939196039,
          0.10769773154623069,
          0.7745417445162248,
          1.0320068651524457,
          1.1575481187385224,
          0.6367733942439868,
          1.022318874809133,
          0.6856389472284702,
          0.6224647521366775,
          2.471071926173747,
          0.8987795066922944,
          0.959836490638295,
          1.1536915012373052,
          1.0450183693354347,
          0.6919652378585077,
          0.927354084729662,
          0.8793504461084765,
          0.8366065570766847,
          1.0560300671619927,
          0.9000133554416865,
          0.9089105471224602,
          0.7268753882611524,
          1.0458532066067658,
          0.8247241671805183,
          0.9425425828263012,
          1.1232244570590495,
          0.9756212994034897,
          0.5998505398234016,
          0.7234928903908542,
          0.6610188104263895,
          0.8972664580543535,
          0.05154639257132313,
          0.45763694318331744,
          0.1592674950277544,
          0.9680962639629552,
          0.7687650160174793,
          1.0837390561588045,
          1.1249340788532387,
          0.7842758582857017,
          1.107107811874317,
          1.1669389860234958,
          1.5535089740873345,
          1.0787001007743293,
          0.6413086954951464,
          0.7854016140429658,
          0.7432375427098136,
          1.0941724982880392,
          0.6099442044900149,
          1.080559836669179,
          0.8568083604272316,
          0.02247957544510019,
          4.588859026813271,
          0.8344041316380847,
          0.47630224207465083,
          0.9509642961641714,
          1.025754960533503,
          0.7269020492400295,
          0.7703146017890605,
          0.7927426020899899,
          1.1517918350940357,
          1.0627628524891575,
          1.0940250471162836,
          0.7215472440718361,
          0.5162829884300588,
          0.8348458644685021,
          0.9279480358398808,
          0.4937299077078198,
          0.9236347157386956,
          0.5365343474845674,
          0.7704849572728102,
          0.8209430983579352,
          0.5330361976643396,
          0.8818879402154787,
          0.7327794772512161,
          0.6725727566344142,
          0.09962796591391213,
          0.8531436282874246,
          0.7681416605030619,
          0.9450802858259354,
          1.239266791239776,
          1.1759810632456407,
          0.8729778858408721,
          0.8626498231643025,
          1.066670910798159,
          0.8922325089824966,
          0.7620270275432971,
          1.356335508914156,
          0.9085309270889211,
          0.9945343775257537,
          0.9553108235411876,
          0.8568538304247875,
          0.8713258500256943,
          1.291561039751905,
          0.7256855506297999,
          1.3043992325108387,
          0.8239809704339605,
          0.8778672511489491,
          0.8490746090842359,
          0.9422017627222915,
          0.7913446143090344,
          0.951188263639702,
          1.0647737661911658,
          0.8329723758466435,
          1.0092428335363746,
          0.9614937603615299,
          1.1255682600976729,
          1.0349510450306894,
          0.9437893691618028,
          1.2275569466109415,
          1.1437670753197515,
          0.5583975335988269,
          0.888380213608648,
          0.7842109900284867,
          0.917992929846408,
          1.1712496645774924,
          0.5881196724780894,
          0.29925355366409084,
          0.9583228841420318,
          0.8161627377375731,
          1.9242670356662974,
          0.9603979704252469,
          1.12863205974759,
          0.8895380216892045,
          1.0283897846188546,
          1.2525311759565643,
          0.8706600877789841,
          0.7420628437564464,
          0.913567517014614,
          0.6555043313874975,
          0.7568120506643934,
          1.3632460520328509,
          0.435301870142117,
          0.7667876989647231,
          0.8199099812665969,
          1.6114020473972797,
          0.8963249734117034,
          0.8534864136778606,
          1.1273884117474338,
          0.7081360314184578,
          0.795857537345437,
          1.0122638107597937,
          0.7909818706822819,
          0.9177842988924751,
          0.9843194047550866,
          1.0976105260855764,
          0.9660403794473277
         ],
         "xaxis": "x2",
         "yaxis": "y2"
        }
       ],
       "layout": {
        "autosize": false,
        "barmode": "overlay",
        "height": 500,
        "legend": {
         "title": {},
         "tracegroupgap": 0
        },
        "margin": {
         "t": 60
        },
        "template": {
         "data": {
          "bar": [
           {
            "error_x": {
             "color": "#2a3f5f"
            },
            "error_y": {
             "color": "#2a3f5f"
            },
            "marker": {
             "line": {
              "color": "white",
              "width": 0.5
             },
             "pattern": {
              "fillmode": "overlay",
              "size": 10,
              "solidity": 0.2
             }
            },
            "type": "bar"
           }
          ],
          "barpolar": [
           {
            "marker": {
             "line": {
              "color": "white",
              "width": 0.5
             },
             "pattern": {
              "fillmode": "overlay",
              "size": 10,
              "solidity": 0.2
             }
            },
            "type": "barpolar"
           }
          ],
          "carpet": [
           {
            "aaxis": {
             "endlinecolor": "#2a3f5f",
             "gridcolor": "#C8D4E3",
             "linecolor": "#C8D4E3",
             "minorgridcolor": "#C8D4E3",
             "startlinecolor": "#2a3f5f"
            },
            "baxis": {
             "endlinecolor": "#2a3f5f",
             "gridcolor": "#C8D4E3",
             "linecolor": "#C8D4E3",
             "minorgridcolor": "#C8D4E3",
             "startlinecolor": "#2a3f5f"
            },
            "type": "carpet"
           }
          ],
          "choropleth": [
           {
            "colorbar": {
             "outlinewidth": 0,
             "ticks": ""
            },
            "type": "choropleth"
           }
          ],
          "contour": [
           {
            "colorbar": {
             "outlinewidth": 0,
             "ticks": ""
            },
            "colorscale": [
             [
              0,
              "#0d0887"
             ],
             [
              0.1111111111111111,
              "#46039f"
             ],
             [
              0.2222222222222222,
              "#7201a8"
             ],
             [
              0.3333333333333333,
              "#9c179e"
             ],
             [
              0.4444444444444444,
              "#bd3786"
             ],
             [
              0.5555555555555556,
              "#d8576b"
             ],
             [
              0.6666666666666666,
              "#ed7953"
             ],
             [
              0.7777777777777778,
              "#fb9f3a"
             ],
             [
              0.8888888888888888,
              "#fdca26"
             ],
             [
              1,
              "#f0f921"
             ]
            ],
            "type": "contour"
           }
          ],
          "contourcarpet": [
           {
            "colorbar": {
             "outlinewidth": 0,
             "ticks": ""
            },
            "type": "contourcarpet"
           }
          ],
          "heatmap": [
           {
            "colorbar": {
             "outlinewidth": 0,
             "ticks": ""
            },
            "colorscale": [
             [
              0,
              "#0d0887"
             ],
             [
              0.1111111111111111,
              "#46039f"
             ],
             [
              0.2222222222222222,
              "#7201a8"
             ],
             [
              0.3333333333333333,
              "#9c179e"
             ],
             [
              0.4444444444444444,
              "#bd3786"
             ],
             [
              0.5555555555555556,
              "#d8576b"
             ],
             [
              0.6666666666666666,
              "#ed7953"
             ],
             [
              0.7777777777777778,
              "#fb9f3a"
             ],
             [
              0.8888888888888888,
              "#fdca26"
             ],
             [
              1,
              "#f0f921"
             ]
            ],
            "type": "heatmap"
           }
          ],
          "heatmapgl": [
           {
            "colorbar": {
             "outlinewidth": 0,
             "ticks": ""
            },
            "colorscale": [
             [
              0,
              "#0d0887"
             ],
             [
              0.1111111111111111,
              "#46039f"
             ],
             [
              0.2222222222222222,
              "#7201a8"
             ],
             [
              0.3333333333333333,
              "#9c179e"
             ],
             [
              0.4444444444444444,
              "#bd3786"
             ],
             [
              0.5555555555555556,
              "#d8576b"
             ],
             [
              0.6666666666666666,
              "#ed7953"
             ],
             [
              0.7777777777777778,
              "#fb9f3a"
             ],
             [
              0.8888888888888888,
              "#fdca26"
             ],
             [
              1,
              "#f0f921"
             ]
            ],
            "type": "heatmapgl"
           }
          ],
          "histogram": [
           {
            "marker": {
             "pattern": {
              "fillmode": "overlay",
              "size": 10,
              "solidity": 0.2
             }
            },
            "type": "histogram"
           }
          ],
          "histogram2d": [
           {
            "colorbar": {
             "outlinewidth": 0,
             "ticks": ""
            },
            "colorscale": [
             [
              0,
              "#0d0887"
             ],
             [
              0.1111111111111111,
              "#46039f"
             ],
             [
              0.2222222222222222,
              "#7201a8"
             ],
             [
              0.3333333333333333,
              "#9c179e"
             ],
             [
              0.4444444444444444,
              "#bd3786"
             ],
             [
              0.5555555555555556,
              "#d8576b"
             ],
             [
              0.6666666666666666,
              "#ed7953"
             ],
             [
              0.7777777777777778,
              "#fb9f3a"
             ],
             [
              0.8888888888888888,
              "#fdca26"
             ],
             [
              1,
              "#f0f921"
             ]
            ],
            "type": "histogram2d"
           }
          ],
          "histogram2dcontour": [
           {
            "colorbar": {
             "outlinewidth": 0,
             "ticks": ""
            },
            "colorscale": [
             [
              0,
              "#0d0887"
             ],
             [
              0.1111111111111111,
              "#46039f"
             ],
             [
              0.2222222222222222,
              "#7201a8"
             ],
             [
              0.3333333333333333,
              "#9c179e"
             ],
             [
              0.4444444444444444,
              "#bd3786"
             ],
             [
              0.5555555555555556,
              "#d8576b"
             ],
             [
              0.6666666666666666,
              "#ed7953"
             ],
             [
              0.7777777777777778,
              "#fb9f3a"
             ],
             [
              0.8888888888888888,
              "#fdca26"
             ],
             [
              1,
              "#f0f921"
             ]
            ],
            "type": "histogram2dcontour"
           }
          ],
          "mesh3d": [
           {
            "colorbar": {
             "outlinewidth": 0,
             "ticks": ""
            },
            "type": "mesh3d"
           }
          ],
          "parcoords": [
           {
            "line": {
             "colorbar": {
              "outlinewidth": 0,
              "ticks": ""
             }
            },
            "type": "parcoords"
           }
          ],
          "pie": [
           {
            "automargin": true,
            "type": "pie"
           }
          ],
          "scatter": [
           {
            "fillpattern": {
             "fillmode": "overlay",
             "size": 10,
             "solidity": 0.2
            },
            "type": "scatter"
           }
          ],
          "scatter3d": [
           {
            "line": {
             "colorbar": {
              "outlinewidth": 0,
              "ticks": ""
             }
            },
            "marker": {
             "colorbar": {
              "outlinewidth": 0,
              "ticks": ""
             }
            },
            "type": "scatter3d"
           }
          ],
          "scattercarpet": [
           {
            "marker": {
             "colorbar": {
              "outlinewidth": 0,
              "ticks": ""
             }
            },
            "type": "scattercarpet"
           }
          ],
          "scattergeo": [
           {
            "marker": {
             "colorbar": {
              "outlinewidth": 0,
              "ticks": ""
             }
            },
            "type": "scattergeo"
           }
          ],
          "scattergl": [
           {
            "marker": {
             "colorbar": {
              "outlinewidth": 0,
              "ticks": ""
             }
            },
            "type": "scattergl"
           }
          ],
          "scattermapbox": [
           {
            "marker": {
             "colorbar": {
              "outlinewidth": 0,
              "ticks": ""
             }
            },
            "type": "scattermapbox"
           }
          ],
          "scatterpolar": [
           {
            "marker": {
             "colorbar": {
              "outlinewidth": 0,
              "ticks": ""
             }
            },
            "type": "scatterpolar"
           }
          ],
          "scatterpolargl": [
           {
            "marker": {
             "colorbar": {
              "outlinewidth": 0,
              "ticks": ""
             }
            },
            "type": "scatterpolargl"
           }
          ],
          "scatterternary": [
           {
            "marker": {
             "colorbar": {
              "outlinewidth": 0,
              "ticks": ""
             }
            },
            "type": "scatterternary"
           }
          ],
          "surface": [
           {
            "colorbar": {
             "outlinewidth": 0,
             "ticks": ""
            },
            "colorscale": [
             [
              0,
              "#0d0887"
             ],
             [
              0.1111111111111111,
              "#46039f"
             ],
             [
              0.2222222222222222,
              "#7201a8"
             ],
             [
              0.3333333333333333,
              "#9c179e"
             ],
             [
              0.4444444444444444,
              "#bd3786"
             ],
             [
              0.5555555555555556,
              "#d8576b"
             ],
             [
              0.6666666666666666,
              "#ed7953"
             ],
             [
              0.7777777777777778,
              "#fb9f3a"
             ],
             [
              0.8888888888888888,
              "#fdca26"
             ],
             [
              1,
              "#f0f921"
             ]
            ],
            "type": "surface"
           }
          ],
          "table": [
           {
            "cells": {
             "fill": {
              "color": "#EBF0F8"
             },
             "line": {
              "color": "white"
             }
            },
            "header": {
             "fill": {
              "color": "#C8D4E3"
             },
             "line": {
              "color": "white"
             }
            },
            "type": "table"
           }
          ]
         },
         "layout": {
          "annotationdefaults": {
           "arrowcolor": "#2a3f5f",
           "arrowhead": 0,
           "arrowwidth": 1
          },
          "autotypenumbers": "strict",
          "coloraxis": {
           "colorbar": {
            "outlinewidth": 0,
            "ticks": ""
           }
          },
          "colorscale": {
           "diverging": [
            [
             0,
             "#8e0152"
            ],
            [
             0.1,
             "#c51b7d"
            ],
            [
             0.2,
             "#de77ae"
            ],
            [
             0.3,
             "#f1b6da"
            ],
            [
             0.4,
             "#fde0ef"
            ],
            [
             0.5,
             "#f7f7f7"
            ],
            [
             0.6,
             "#e6f5d0"
            ],
            [
             0.7,
             "#b8e186"
            ],
            [
             0.8,
             "#7fbc41"
            ],
            [
             0.9,
             "#4d9221"
            ],
            [
             1,
             "#276419"
            ]
           ],
           "sequential": [
            [
             0,
             "#0d0887"
            ],
            [
             0.1111111111111111,
             "#46039f"
            ],
            [
             0.2222222222222222,
             "#7201a8"
            ],
            [
             0.3333333333333333,
             "#9c179e"
            ],
            [
             0.4444444444444444,
             "#bd3786"
            ],
            [
             0.5555555555555556,
             "#d8576b"
            ],
            [
             0.6666666666666666,
             "#ed7953"
            ],
            [
             0.7777777777777778,
             "#fb9f3a"
            ],
            [
             0.8888888888888888,
             "#fdca26"
            ],
            [
             1,
             "#f0f921"
            ]
           ],
           "sequentialminus": [
            [
             0,
             "#0d0887"
            ],
            [
             0.1111111111111111,
             "#46039f"
            ],
            [
             0.2222222222222222,
             "#7201a8"
            ],
            [
             0.3333333333333333,
             "#9c179e"
            ],
            [
             0.4444444444444444,
             "#bd3786"
            ],
            [
             0.5555555555555556,
             "#d8576b"
            ],
            [
             0.6666666666666666,
             "#ed7953"
            ],
            [
             0.7777777777777778,
             "#fb9f3a"
            ],
            [
             0.8888888888888888,
             "#fdca26"
            ],
            [
             1,
             "#f0f921"
            ]
           ]
          },
          "colorway": [
           "#636efa",
           "#EF553B",
           "#00cc96",
           "#ab63fa",
           "#FFA15A",
           "#19d3f3",
           "#FF6692",
           "#B6E880",
           "#FF97FF",
           "#FECB52"
          ],
          "font": {
           "color": "#2a3f5f"
          },
          "geo": {
           "bgcolor": "white",
           "lakecolor": "white",
           "landcolor": "white",
           "showlakes": true,
           "showland": true,
           "subunitcolor": "#C8D4E3"
          },
          "hoverlabel": {
           "align": "left"
          },
          "hovermode": "closest",
          "mapbox": {
           "style": "light"
          },
          "paper_bgcolor": "white",
          "plot_bgcolor": "white",
          "polar": {
           "angularaxis": {
            "gridcolor": "#EBF0F8",
            "linecolor": "#EBF0F8",
            "ticks": ""
           },
           "bgcolor": "white",
           "radialaxis": {
            "gridcolor": "#EBF0F8",
            "linecolor": "#EBF0F8",
            "ticks": ""
           }
          },
          "scene": {
           "xaxis": {
            "backgroundcolor": "white",
            "gridcolor": "#DFE8F3",
            "gridwidth": 2,
            "linecolor": "#EBF0F8",
            "showbackground": true,
            "ticks": "",
            "zerolinecolor": "#EBF0F8"
           },
           "yaxis": {
            "backgroundcolor": "white",
            "gridcolor": "#DFE8F3",
            "gridwidth": 2,
            "linecolor": "#EBF0F8",
            "showbackground": true,
            "ticks": "",
            "zerolinecolor": "#EBF0F8"
           },
           "zaxis": {
            "backgroundcolor": "white",
            "gridcolor": "#DFE8F3",
            "gridwidth": 2,
            "linecolor": "#EBF0F8",
            "showbackground": true,
            "ticks": "",
            "zerolinecolor": "#EBF0F8"
           }
          },
          "shapedefaults": {
           "line": {
            "color": "#2a3f5f"
           }
          },
          "ternary": {
           "aaxis": {
            "gridcolor": "#DFE8F3",
            "linecolor": "#A2B1C6",
            "ticks": ""
           },
           "baxis": {
            "gridcolor": "#DFE8F3",
            "linecolor": "#A2B1C6",
            "ticks": ""
           },
           "bgcolor": "white",
           "caxis": {
            "gridcolor": "#DFE8F3",
            "linecolor": "#A2B1C6",
            "ticks": ""
           }
          },
          "title": {
           "x": 0.05
          },
          "xaxis": {
           "automargin": true,
           "gridcolor": "#EBF0F8",
           "linecolor": "#EBF0F8",
           "ticks": "",
           "title": {
            "standoff": 15
           },
           "zerolinecolor": "#EBF0F8",
           "zerolinewidth": 2
          },
          "yaxis": {
           "automargin": true,
           "gridcolor": "#EBF0F8",
           "linecolor": "#EBF0F8",
           "ticks": "",
           "title": {
            "standoff": 15
           },
           "zerolinecolor": "#EBF0F8",
           "zerolinewidth": 2
          }
         }
        },
        "title": {
         "font": {
          "size": 20
         },
         "text": "Distribution of MASE in the dataset",
         "x": 0.5,
         "xanchor": "center",
         "yanchor": "top"
        },
        "width": 900,
        "xaxis": {
         "anchor": "y",
         "domain": [
          0,
          1
         ],
         "range": [
          0,
          2.5
         ],
         "title": {
          "font": {
           "size": 12
          },
          "text": "MASE"
         }
        },
        "xaxis2": {
         "anchor": "y2",
         "domain": [
          0,
          1
         ],
         "matches": "x",
         "showgrid": true,
         "showticklabels": false
        },
        "yaxis": {
         "anchor": "x",
         "domain": [
          0,
          0.7326
         ],
         "title": {
          "font": {
           "size": 12
          },
          "text": "Probability Density"
         }
        },
        "yaxis2": {
         "anchor": "x2",
         "domain": [
          0.7426,
          1
         ],
         "matches": "y2",
         "showgrid": false,
         "showline": false,
         "showticklabels": false,
         "ticks": ""
        }
       }
      }
     },
     "metadata": {},
     "output_type": "display_data"
    }
   ],
   "source": [
    "fig = px.histogram(metrics_df, \n",
    "                   x=\"MASE\", \n",
    "                   color=\"Algorithm\",\n",
    "                   pattern_shape=\"Algorithm\", \n",
    "                   marginal=\"box\", \n",
    "                   nbins=500, \n",
    "                   barmode=\"overlay\",\n",
    "                   histnorm=\"probability density\")\n",
    "fig = format_plot(fig, xlabel=\"MASE\", ylabel=\"Probability Density\", title=\"Distribution of MASE in the dataset\")\n",
    "fig.update_layout(xaxis_range=[0,2.5])\n",
    "# fig.write_image(\"imgs/chapter_8/mase_dist.png\")\n",
    "fig.show()"
   ]
  },
  {
   "cell_type": "code",
   "execution_count": 22,
   "id": "05599872-81eb-406c-b096-cece0d153817",
   "metadata": {},
   "outputs": [
    {
     "data": {
      "application/vnd.plotly.v1+json": {
       "config": {
        "plotlyServerURL": "https://plot.ly"
       },
       "data": [
        {
         "alignmentgroup": "True",
         "bingroup": "x",
         "histnorm": "probability density",
         "hovertemplate": "Algorithm=Lasso Regression<br>MAE=%{x}<br>probability density=%{y}<extra></extra>",
         "legendgroup": "Lasso Regression",
         "marker": {
          "color": "#636efa",
          "opacity": 0.5,
          "pattern": {
           "shape": ""
          }
         },
         "name": "Lasso Regression",
         "nbinsx": 100,
         "offsetgroup": "Lasso Regression",
         "orientation": "v",
         "showlegend": true,
         "type": "histogram",
         "x": [
          0.037020390235967975,
          0.07129087809357873,
          0.013064405328487636,
          0.12930494418130684,
          0.05165511651528412,
          0.0074222497358872085,
          0.04664234420846685,
          0.08700204111492799,
          0.16314082598641821,
          0.06927916660517495,
          0.13389908930196684,
          0.028945003011417048,
          0.038037073268522556,
          0.27607381536758785,
          0.05711097851387101,
          0.032392485604700524,
          0.17173907972455163,
          0.06585640299338398,
          0.03481402320973444,
          0.11088647891937851,
          0.02147700867126109,
          0.032530834005489895,
          0.10515953333668465,
          0.047258440394613,
          0.1257485273407728,
          0.05112906291663868,
          0.06211118127803833,
          0.065660193596475,
          0.023763531948510684,
          0.09295956427434414,
          0.14884673359103204,
          0.021270142852727006,
          0.014426062613295303,
          0.04932616562035822,
          0.07190446349294076,
          0.008990473079623364,
          0.011893991519255817,
          0.014388226261010646,
          0.09462885638543861,
          0.06508203689910282,
          0.08173273885394407,
          0.06743981214725925,
          0.06010049075645753,
          0.09406661289361831,
          0.11603807128986741,
          0.10072017098007816,
          0.10663216993848122,
          0.05831954103876557,
          0.05629895973033826,
          0.0466851590372529,
          0.04099219578904747,
          0.041734585177647006,
          0.061828022288800945,
          0.09163762688003219,
          0.0008902835673627853,
          0.12036370700324193,
          0.07371238806248044,
          0.03176530149829452,
          0.07767782912168618,
          0.13853905349748227,
          0.03955586993398879,
          0.023867706331658443,
          0.03245523826299739,
          0.11392531026016893,
          0.10192794842599798,
          0.04818196462540803,
          0.2295407057199957,
          0.02103225104813041,
          0.05920920743584806,
          0.04117274053369129,
          0.037945568565391566,
          0.08515893788908135,
          0.05866572018193626,
          0.07399817274603744,
          0.06333747676502953,
          0.03400552990487566,
          0.058733288945605235,
          0.05431743424315997,
          0.03427516493751256,
          0.006354846604945455,
          0.06877086364511636,
          0.03392098859931464,
          0.11177489590927335,
          0.010693613591685752,
          0.05590115319202034,
          0.07201932690587454,
          0.09725672236212343,
          0.06796184122675428,
          0.10779672632737924,
          0.06164330110091536,
          0.07266643411683305,
          0.11438757633334047,
          0.03716586047248061,
          0.09364772972772603,
          0.10519471120314951,
          0.08728820980831771,
          0.05810844574778234,
          0.03797443838485754,
          0.1356556023233736,
          0.05007125958400743,
          0.037212075992602664,
          0.049004891796386264,
          0.016461798585762456,
          0.0651651033992969,
          0.15203986803218322,
          0.16134374756703007,
          0.08716892317637728,
          0.1884046901738201,
          0.10102023408694488,
          0.1261749388399013,
          0.03620954693842165,
          0.14204260823553025,
          0.06587451098007557,
          0.11656862780831759,
          0.027722353598288504,
          0.09087801075639272,
          0.06776460535786202,
          0.20128675909468063,
          0.17206029278671076,
          0.032842925103232265,
          0.05433155797132398,
          0.18938205530981644,
          0.03351045055850188,
          0.05933783951666231,
          0.02675457687708952,
          0.15912224851846635,
          0.08652819623036204,
          0.06893316877803178,
          0.09148847329345028,
          0.052573963347425784,
          0.058838509655848005,
          0.11237644879796237,
          0.1943588038458064,
          0.04887076014514188,
          0.2157304146290694,
          0.022719378517060514,
          0.06622217184054761,
          0.12929740991079672,
          0.03255308990219955,
          0.039750693840578576,
          0.05256311605307779,
          0.23162394851854567,
          0.1775526862164187,
          0.030075019693351298,
          0.03409737070257442,
          0.09276508260613373,
          0.056675197798856276,
          0.059665168235224816,
          0.15001178155861394,
          0.0673330115444652
         ],
         "xaxis": "x",
         "yaxis": "y"
        },
        {
         "alignmentgroup": "True",
         "hovertemplate": "Algorithm=Lasso Regression<br>MAE=%{x}<extra></extra>",
         "legendgroup": "Lasso Regression",
         "marker": {
          "color": "#636efa"
         },
         "name": "Lasso Regression",
         "notched": true,
         "offsetgroup": "Lasso Regression",
         "showlegend": false,
         "type": "box",
         "x": [
          0.037020390235967975,
          0.07129087809357873,
          0.013064405328487636,
          0.12930494418130684,
          0.05165511651528412,
          0.0074222497358872085,
          0.04664234420846685,
          0.08700204111492799,
          0.16314082598641821,
          0.06927916660517495,
          0.13389908930196684,
          0.028945003011417048,
          0.038037073268522556,
          0.27607381536758785,
          0.05711097851387101,
          0.032392485604700524,
          0.17173907972455163,
          0.06585640299338398,
          0.03481402320973444,
          0.11088647891937851,
          0.02147700867126109,
          0.032530834005489895,
          0.10515953333668465,
          0.047258440394613,
          0.1257485273407728,
          0.05112906291663868,
          0.06211118127803833,
          0.065660193596475,
          0.023763531948510684,
          0.09295956427434414,
          0.14884673359103204,
          0.021270142852727006,
          0.014426062613295303,
          0.04932616562035822,
          0.07190446349294076,
          0.008990473079623364,
          0.011893991519255817,
          0.014388226261010646,
          0.09462885638543861,
          0.06508203689910282,
          0.08173273885394407,
          0.06743981214725925,
          0.06010049075645753,
          0.09406661289361831,
          0.11603807128986741,
          0.10072017098007816,
          0.10663216993848122,
          0.05831954103876557,
          0.05629895973033826,
          0.0466851590372529,
          0.04099219578904747,
          0.041734585177647006,
          0.061828022288800945,
          0.09163762688003219,
          0.0008902835673627853,
          0.12036370700324193,
          0.07371238806248044,
          0.03176530149829452,
          0.07767782912168618,
          0.13853905349748227,
          0.03955586993398879,
          0.023867706331658443,
          0.03245523826299739,
          0.11392531026016893,
          0.10192794842599798,
          0.04818196462540803,
          0.2295407057199957,
          0.02103225104813041,
          0.05920920743584806,
          0.04117274053369129,
          0.037945568565391566,
          0.08515893788908135,
          0.05866572018193626,
          0.07399817274603744,
          0.06333747676502953,
          0.03400552990487566,
          0.058733288945605235,
          0.05431743424315997,
          0.03427516493751256,
          0.006354846604945455,
          0.06877086364511636,
          0.03392098859931464,
          0.11177489590927335,
          0.010693613591685752,
          0.05590115319202034,
          0.07201932690587454,
          0.09725672236212343,
          0.06796184122675428,
          0.10779672632737924,
          0.06164330110091536,
          0.07266643411683305,
          0.11438757633334047,
          0.03716586047248061,
          0.09364772972772603,
          0.10519471120314951,
          0.08728820980831771,
          0.05810844574778234,
          0.03797443838485754,
          0.1356556023233736,
          0.05007125958400743,
          0.037212075992602664,
          0.049004891796386264,
          0.016461798585762456,
          0.0651651033992969,
          0.15203986803218322,
          0.16134374756703007,
          0.08716892317637728,
          0.1884046901738201,
          0.10102023408694488,
          0.1261749388399013,
          0.03620954693842165,
          0.14204260823553025,
          0.06587451098007557,
          0.11656862780831759,
          0.027722353598288504,
          0.09087801075639272,
          0.06776460535786202,
          0.20128675909468063,
          0.17206029278671076,
          0.032842925103232265,
          0.05433155797132398,
          0.18938205530981644,
          0.03351045055850188,
          0.05933783951666231,
          0.02675457687708952,
          0.15912224851846635,
          0.08652819623036204,
          0.06893316877803178,
          0.09148847329345028,
          0.052573963347425784,
          0.058838509655848005,
          0.11237644879796237,
          0.1943588038458064,
          0.04887076014514188,
          0.2157304146290694,
          0.022719378517060514,
          0.06622217184054761,
          0.12929740991079672,
          0.03255308990219955,
          0.039750693840578576,
          0.05256311605307779,
          0.23162394851854567,
          0.1775526862164187,
          0.030075019693351298,
          0.03409737070257442,
          0.09276508260613373,
          0.056675197798856276,
          0.059665168235224816,
          0.15001178155861394,
          0.0673330115444652
         ],
         "xaxis": "x2",
         "yaxis": "y2"
        },
        {
         "alignmentgroup": "True",
         "bingroup": "x",
         "histnorm": "probability density",
         "hovertemplate": "Algorithm=XGB Random Forest<br>MAE=%{x}<br>probability density=%{y}<extra></extra>",
         "legendgroup": "XGB Random Forest",
         "marker": {
          "color": "#EF553B",
          "opacity": 0.5,
          "pattern": {
           "shape": "/"
          }
         },
         "name": "XGB Random Forest",
         "nbinsx": 100,
         "offsetgroup": "XGB Random Forest",
         "orientation": "v",
         "showlegend": true,
         "type": "histogram",
         "x": [
          0.03533855080604553,
          0.06783106178045273,
          0.00827587116509676,
          0.11857491731643677,
          0.05162620544433594,
          0.008611073717474937,
          0.047136090695858,
          0.08652543276548386,
          0.16686728596687317,
          0.07125252485275269,
          0.12912878394126892,
          0.028392061591148376,
          0.03760426118969917,
          0.5056672096252441,
          0.0539015531539917,
          0.03200123831629753,
          0.173919215798378,
          0.06275304406881332,
          0.036116793751716614,
          0.1113329529762268,
          0.02033471129834652,
          0.03142223879694939,
          0.10300970822572708,
          0.04576239734888077,
          0.12632885575294495,
          0.0503295436501503,
          0.05864500626921654,
          0.06758281588554382,
          0.022658905014395714,
          0.09553041309118271,
          0.14961883425712585,
          0.02039971388876438,
          0.013298770412802696,
          0.05148797109723091,
          0.06962595880031586,
          0.019217638298869133,
          0.01112186349928379,
          0.021056249737739563,
          0.08281490206718445,
          0.06241956725716591,
          0.08140821754932404,
          0.06844913959503174,
          0.06376145780086517,
          0.09201844781637192,
          0.10970998555421829,
          0.09781678766012192,
          0.11076809465885162,
          0.060320593416690826,
          0.0568888820707798,
          0.04798348248004913,
          0.03867878392338753,
          0.03612295910716057,
          0.058315519243478775,
          0.09188812971115112,
          0.000764659431297332,
          0.10625790059566498,
          0.07215674221515656,
          0.03157178685069084,
          0.07650085538625717,
          0.13503265380859375,
          0.03755231946706772,
          0.024707868695259094,
          0.032060716301202774,
          0.11572778970003128,
          0.09600365906953812,
          0.04689250886440277,
          0.22263962030410767,
          0.018219517543911934,
          0.05932033061981201,
          0.04169594496488571,
          0.031025774776935577,
          0.09292508661746979,
          0.05492166802287102,
          0.07015921920537949,
          0.061450134962797165,
          0.031901974231004715,
          0.05759354680776596,
          0.04729057103395462,
          0.03447712957859039,
          0.006562856957316399,
          0.06136500462889671,
          0.03505491837859154,
          0.10985945165157318,
          0.010020065121352673,
          0.05214102566242218,
          0.07380280643701553,
          0.09441506862640381,
          0.06850547343492508,
          0.10856980085372925,
          0.0621136911213398,
          0.07167483121156693,
          0.1165018305182457,
          0.03584809973835945,
          0.09318628162145615,
          0.09614147990942001,
          0.08703844994306564,
          0.05537814274430275,
          0.03949068486690521,
          0.13274140655994415,
          0.04983532801270485,
          0.033356040716171265,
          0.04912823066115379,
          0.01600223034620285,
          0.06240400671958923,
          0.14540594816207886,
          0.14962507784366608,
          0.09031987190246582,
          0.1824360340833664,
          0.09506691992282867,
          0.1243809387087822,
          0.035375259816646576,
          0.14364562928676605,
          0.0499139130115509,
          0.11739090085029602,
          0.026546701788902283,
          0.08410775661468506,
          0.06983647495508194,
          0.16070036590099335,
          0.1730773150920868,
          0.03379547968506813,
          0.05789373070001602,
          0.19024161994457245,
          0.03150297328829765,
          0.061692945659160614,
          0.02611018344759941,
          0.1535617858171463,
          0.08113463222980499,
          0.06477349996566772,
          0.08937111496925354,
          0.04786518216133118,
          0.060470134019851685,
          0.10916557163000107,
          0.22452116012573242,
          0.04934445396065712,
          0.22403377294540405,
          0.03558642417192459,
          0.06317058950662613,
          0.12382101267576218,
          0.03437376767396927,
          0.04054022207856178,
          0.0454355850815773,
          0.2558158338069916,
          0.18190787732601166,
          0.0298048947006464,
          0.02891663648188114,
          0.08394014835357666,
          0.051287684589624405,
          0.05872485041618347,
          0.13898137211799622,
          0.05677909776568413
         ],
         "xaxis": "x",
         "yaxis": "y"
        },
        {
         "alignmentgroup": "True",
         "hovertemplate": "Algorithm=XGB Random Forest<br>MAE=%{x}<extra></extra>",
         "legendgroup": "XGB Random Forest",
         "marker": {
          "color": "#EF553B"
         },
         "name": "XGB Random Forest",
         "notched": true,
         "offsetgroup": "XGB Random Forest",
         "showlegend": false,
         "type": "box",
         "x": [
          0.03533855080604553,
          0.06783106178045273,
          0.00827587116509676,
          0.11857491731643677,
          0.05162620544433594,
          0.008611073717474937,
          0.047136090695858,
          0.08652543276548386,
          0.16686728596687317,
          0.07125252485275269,
          0.12912878394126892,
          0.028392061591148376,
          0.03760426118969917,
          0.5056672096252441,
          0.0539015531539917,
          0.03200123831629753,
          0.173919215798378,
          0.06275304406881332,
          0.036116793751716614,
          0.1113329529762268,
          0.02033471129834652,
          0.03142223879694939,
          0.10300970822572708,
          0.04576239734888077,
          0.12632885575294495,
          0.0503295436501503,
          0.05864500626921654,
          0.06758281588554382,
          0.022658905014395714,
          0.09553041309118271,
          0.14961883425712585,
          0.02039971388876438,
          0.013298770412802696,
          0.05148797109723091,
          0.06962595880031586,
          0.019217638298869133,
          0.01112186349928379,
          0.021056249737739563,
          0.08281490206718445,
          0.06241956725716591,
          0.08140821754932404,
          0.06844913959503174,
          0.06376145780086517,
          0.09201844781637192,
          0.10970998555421829,
          0.09781678766012192,
          0.11076809465885162,
          0.060320593416690826,
          0.0568888820707798,
          0.04798348248004913,
          0.03867878392338753,
          0.03612295910716057,
          0.058315519243478775,
          0.09188812971115112,
          0.000764659431297332,
          0.10625790059566498,
          0.07215674221515656,
          0.03157178685069084,
          0.07650085538625717,
          0.13503265380859375,
          0.03755231946706772,
          0.024707868695259094,
          0.032060716301202774,
          0.11572778970003128,
          0.09600365906953812,
          0.04689250886440277,
          0.22263962030410767,
          0.018219517543911934,
          0.05932033061981201,
          0.04169594496488571,
          0.031025774776935577,
          0.09292508661746979,
          0.05492166802287102,
          0.07015921920537949,
          0.061450134962797165,
          0.031901974231004715,
          0.05759354680776596,
          0.04729057103395462,
          0.03447712957859039,
          0.006562856957316399,
          0.06136500462889671,
          0.03505491837859154,
          0.10985945165157318,
          0.010020065121352673,
          0.05214102566242218,
          0.07380280643701553,
          0.09441506862640381,
          0.06850547343492508,
          0.10856980085372925,
          0.0621136911213398,
          0.07167483121156693,
          0.1165018305182457,
          0.03584809973835945,
          0.09318628162145615,
          0.09614147990942001,
          0.08703844994306564,
          0.05537814274430275,
          0.03949068486690521,
          0.13274140655994415,
          0.04983532801270485,
          0.033356040716171265,
          0.04912823066115379,
          0.01600223034620285,
          0.06240400671958923,
          0.14540594816207886,
          0.14962507784366608,
          0.09031987190246582,
          0.1824360340833664,
          0.09506691992282867,
          0.1243809387087822,
          0.035375259816646576,
          0.14364562928676605,
          0.0499139130115509,
          0.11739090085029602,
          0.026546701788902283,
          0.08410775661468506,
          0.06983647495508194,
          0.16070036590099335,
          0.1730773150920868,
          0.03379547968506813,
          0.05789373070001602,
          0.19024161994457245,
          0.03150297328829765,
          0.061692945659160614,
          0.02611018344759941,
          0.1535617858171463,
          0.08113463222980499,
          0.06477349996566772,
          0.08937111496925354,
          0.04786518216133118,
          0.060470134019851685,
          0.10916557163000107,
          0.22452116012573242,
          0.04934445396065712,
          0.22403377294540405,
          0.03558642417192459,
          0.06317058950662613,
          0.12382101267576218,
          0.03437376767396927,
          0.04054022207856178,
          0.0454355850815773,
          0.2558158338069916,
          0.18190787732601166,
          0.0298048947006464,
          0.02891663648188114,
          0.08394014835357666,
          0.051287684589624405,
          0.05872485041618347,
          0.13898137211799622,
          0.05677909776568413
         ],
         "xaxis": "x2",
         "yaxis": "y2"
        },
        {
         "alignmentgroup": "True",
         "bingroup": "x",
         "histnorm": "probability density",
         "hovertemplate": "Algorithm=LightGBM<br>MAE=%{x}<br>probability density=%{y}<extra></extra>",
         "legendgroup": "LightGBM",
         "marker": {
          "color": "#00cc96",
          "opacity": 0.5,
          "pattern": {
           "shape": "\\"
          }
         },
         "name": "LightGBM",
         "nbinsx": 100,
         "offsetgroup": "LightGBM",
         "orientation": "v",
         "showlegend": true,
         "type": "histogram",
         "x": [
          0.034040051505097785,
          0.0768371988593074,
          0.008617605853025642,
          0.1083869930328005,
          0.05107608973728337,
          0.004613834637147825,
          0.044965757258523205,
          0.08309111490642694,
          0.15074772679917975,
          0.06635221819224975,
          0.1219682100738914,
          0.02646633358209288,
          0.03544846276974737,
          0.45267342752922607,
          0.05264499229905558,
          0.029562293313425737,
          0.17776749517232754,
          0.06123858361644987,
          0.03170896992660845,
          0.10853746068656589,
          0.019021133358135732,
          0.03328995931877045,
          0.09917628541100147,
          0.04426376751947226,
          0.11968470142063525,
          0.04677417238416807,
          0.059194080546545576,
          0.06066394419410369,
          0.02363726419324573,
          0.09487609622888424,
          0.1499029339935626,
          0.01732635961307963,
          0.01185578954449373,
          0.046962266143396596,
          0.06803272074027665,
          0.0030742975958642765,
          0.009793069571951526,
          0.012500985817356425,
          0.07946660592392542,
          0.06269161448128768,
          0.07778483439035598,
          0.07059114362567052,
          0.05905972401106358,
          0.0924313332368366,
          0.10927975640481728,
          0.11246815241051028,
          0.11010425746131787,
          0.05603120334098124,
          0.054288636897117167,
          0.04707791804252765,
          0.03640503633419027,
          0.03155702371551544,
          0.05692973779139037,
          0.08467532485491687,
          0.000044043931621115225,
          0.239301185390399,
          0.06987538585876364,
          0.027937441165611254,
          0.07432589834806472,
          0.13690679499677796,
          0.035715944603137935,
          0.024436231053387367,
          0.03262452090674086,
          0.11594769447956675,
          0.092743156111123,
          0.04624110605308395,
          0.18876515818621856,
          0.016927889064686712,
          0.05469254793910813,
          0.043147683408091234,
          0.030276014250379638,
          0.08210518726339147,
          0.05341630429884941,
          0.06973964423876555,
          0.058417683787889904,
          0.029647641975285504,
          0.05762812757971767,
          0.04542817752632355,
          0.03213523294544201,
          0.004213457284884932,
          0.06279817379971944,
          0.03256071236602175,
          0.11556840433164081,
          0.010972784282086544,
          0.0536322418199723,
          0.06862121691446206,
          0.0881811501240807,
          0.06581918361010382,
          0.10366837678201272,
          0.05737930141450819,
          0.07701808513575949,
          0.11225513360720585,
          0.03662307391290589,
          0.08941756753832932,
          0.09194204895481953,
          0.08806173712284744,
          0.06565895252636221,
          0.035606289652435605,
          0.13197030236779286,
          0.044276432571817244,
          0.03187117910039225,
          0.051451863324284065,
          0.014672979632295274,
          0.05807189903383076,
          0.13970567133588987,
          0.15417577442937577,
          0.08443914152048984,
          0.17759587793733284,
          0.09809635290991478,
          0.127015089813752,
          0.036340671072833924,
          0.15323705718492017,
          0.047050913169598876,
          0.11732250044056876,
          0.02504513577591116,
          0.07956794719323652,
          0.06353989843999028,
          0.13940628202339578,
          0.17354217126601654,
          0.03428414292691381,
          0.037825700867347635,
          0.19074652480723028,
          0.027130494289215143,
          0.07001055597698011,
          0.026798467463618282,
          0.1536141830185017,
          0.07804221086083818,
          0.06419829220019507,
          0.0909245427822496,
          0.04642932216664287,
          0.055505670129126626,
          0.10555026729580831,
          0.17878778412960575,
          0.045746995446853414,
          0.20937711322772157,
          0.032860136163961426,
          0.061376629917793774,
          0.1274401999578547,
          0.03781935901748929,
          0.038823341960490275,
          0.045093330477363996,
          0.23138263996328395,
          0.16791375570057235,
          0.026216190877123985,
          0.03503173865988208,
          0.07239979263025269,
          0.050421790832235705,
          0.056032597241003346,
          0.14510795806222318,
          0.05210567913958863
         ],
         "xaxis": "x",
         "yaxis": "y"
        },
        {
         "alignmentgroup": "True",
         "hovertemplate": "Algorithm=LightGBM<br>MAE=%{x}<extra></extra>",
         "legendgroup": "LightGBM",
         "marker": {
          "color": "#00cc96"
         },
         "name": "LightGBM",
         "notched": true,
         "offsetgroup": "LightGBM",
         "showlegend": false,
         "type": "box",
         "x": [
          0.034040051505097785,
          0.0768371988593074,
          0.008617605853025642,
          0.1083869930328005,
          0.05107608973728337,
          0.004613834637147825,
          0.044965757258523205,
          0.08309111490642694,
          0.15074772679917975,
          0.06635221819224975,
          0.1219682100738914,
          0.02646633358209288,
          0.03544846276974737,
          0.45267342752922607,
          0.05264499229905558,
          0.029562293313425737,
          0.17776749517232754,
          0.06123858361644987,
          0.03170896992660845,
          0.10853746068656589,
          0.019021133358135732,
          0.03328995931877045,
          0.09917628541100147,
          0.04426376751947226,
          0.11968470142063525,
          0.04677417238416807,
          0.059194080546545576,
          0.06066394419410369,
          0.02363726419324573,
          0.09487609622888424,
          0.1499029339935626,
          0.01732635961307963,
          0.01185578954449373,
          0.046962266143396596,
          0.06803272074027665,
          0.0030742975958642765,
          0.009793069571951526,
          0.012500985817356425,
          0.07946660592392542,
          0.06269161448128768,
          0.07778483439035598,
          0.07059114362567052,
          0.05905972401106358,
          0.0924313332368366,
          0.10927975640481728,
          0.11246815241051028,
          0.11010425746131787,
          0.05603120334098124,
          0.054288636897117167,
          0.04707791804252765,
          0.03640503633419027,
          0.03155702371551544,
          0.05692973779139037,
          0.08467532485491687,
          0.000044043931621115225,
          0.239301185390399,
          0.06987538585876364,
          0.027937441165611254,
          0.07432589834806472,
          0.13690679499677796,
          0.035715944603137935,
          0.024436231053387367,
          0.03262452090674086,
          0.11594769447956675,
          0.092743156111123,
          0.04624110605308395,
          0.18876515818621856,
          0.016927889064686712,
          0.05469254793910813,
          0.043147683408091234,
          0.030276014250379638,
          0.08210518726339147,
          0.05341630429884941,
          0.06973964423876555,
          0.058417683787889904,
          0.029647641975285504,
          0.05762812757971767,
          0.04542817752632355,
          0.03213523294544201,
          0.004213457284884932,
          0.06279817379971944,
          0.03256071236602175,
          0.11556840433164081,
          0.010972784282086544,
          0.0536322418199723,
          0.06862121691446206,
          0.0881811501240807,
          0.06581918361010382,
          0.10366837678201272,
          0.05737930141450819,
          0.07701808513575949,
          0.11225513360720585,
          0.03662307391290589,
          0.08941756753832932,
          0.09194204895481953,
          0.08806173712284744,
          0.06565895252636221,
          0.035606289652435605,
          0.13197030236779286,
          0.044276432571817244,
          0.03187117910039225,
          0.051451863324284065,
          0.014672979632295274,
          0.05807189903383076,
          0.13970567133588987,
          0.15417577442937577,
          0.08443914152048984,
          0.17759587793733284,
          0.09809635290991478,
          0.127015089813752,
          0.036340671072833924,
          0.15323705718492017,
          0.047050913169598876,
          0.11732250044056876,
          0.02504513577591116,
          0.07956794719323652,
          0.06353989843999028,
          0.13940628202339578,
          0.17354217126601654,
          0.03428414292691381,
          0.037825700867347635,
          0.19074652480723028,
          0.027130494289215143,
          0.07001055597698011,
          0.026798467463618282,
          0.1536141830185017,
          0.07804221086083818,
          0.06419829220019507,
          0.0909245427822496,
          0.04642932216664287,
          0.055505670129126626,
          0.10555026729580831,
          0.17878778412960575,
          0.045746995446853414,
          0.20937711322772157,
          0.032860136163961426,
          0.061376629917793774,
          0.1274401999578547,
          0.03781935901748929,
          0.038823341960490275,
          0.045093330477363996,
          0.23138263996328395,
          0.16791375570057235,
          0.026216190877123985,
          0.03503173865988208,
          0.07239979263025269,
          0.050421790832235705,
          0.056032597241003346,
          0.14510795806222318,
          0.05210567913958863
         ],
         "xaxis": "x2",
         "yaxis": "y2"
        }
       ],
       "layout": {
        "autosize": false,
        "barmode": "overlay",
        "height": 500,
        "legend": {
         "title": {},
         "tracegroupgap": 0
        },
        "margin": {
         "t": 60
        },
        "template": {
         "data": {
          "bar": [
           {
            "error_x": {
             "color": "#2a3f5f"
            },
            "error_y": {
             "color": "#2a3f5f"
            },
            "marker": {
             "line": {
              "color": "white",
              "width": 0.5
             },
             "pattern": {
              "fillmode": "overlay",
              "size": 10,
              "solidity": 0.2
             }
            },
            "type": "bar"
           }
          ],
          "barpolar": [
           {
            "marker": {
             "line": {
              "color": "white",
              "width": 0.5
             },
             "pattern": {
              "fillmode": "overlay",
              "size": 10,
              "solidity": 0.2
             }
            },
            "type": "barpolar"
           }
          ],
          "carpet": [
           {
            "aaxis": {
             "endlinecolor": "#2a3f5f",
             "gridcolor": "#C8D4E3",
             "linecolor": "#C8D4E3",
             "minorgridcolor": "#C8D4E3",
             "startlinecolor": "#2a3f5f"
            },
            "baxis": {
             "endlinecolor": "#2a3f5f",
             "gridcolor": "#C8D4E3",
             "linecolor": "#C8D4E3",
             "minorgridcolor": "#C8D4E3",
             "startlinecolor": "#2a3f5f"
            },
            "type": "carpet"
           }
          ],
          "choropleth": [
           {
            "colorbar": {
             "outlinewidth": 0,
             "ticks": ""
            },
            "type": "choropleth"
           }
          ],
          "contour": [
           {
            "colorbar": {
             "outlinewidth": 0,
             "ticks": ""
            },
            "colorscale": [
             [
              0,
              "#0d0887"
             ],
             [
              0.1111111111111111,
              "#46039f"
             ],
             [
              0.2222222222222222,
              "#7201a8"
             ],
             [
              0.3333333333333333,
              "#9c179e"
             ],
             [
              0.4444444444444444,
              "#bd3786"
             ],
             [
              0.5555555555555556,
              "#d8576b"
             ],
             [
              0.6666666666666666,
              "#ed7953"
             ],
             [
              0.7777777777777778,
              "#fb9f3a"
             ],
             [
              0.8888888888888888,
              "#fdca26"
             ],
             [
              1,
              "#f0f921"
             ]
            ],
            "type": "contour"
           }
          ],
          "contourcarpet": [
           {
            "colorbar": {
             "outlinewidth": 0,
             "ticks": ""
            },
            "type": "contourcarpet"
           }
          ],
          "heatmap": [
           {
            "colorbar": {
             "outlinewidth": 0,
             "ticks": ""
            },
            "colorscale": [
             [
              0,
              "#0d0887"
             ],
             [
              0.1111111111111111,
              "#46039f"
             ],
             [
              0.2222222222222222,
              "#7201a8"
             ],
             [
              0.3333333333333333,
              "#9c179e"
             ],
             [
              0.4444444444444444,
              "#bd3786"
             ],
             [
              0.5555555555555556,
              "#d8576b"
             ],
             [
              0.6666666666666666,
              "#ed7953"
             ],
             [
              0.7777777777777778,
              "#fb9f3a"
             ],
             [
              0.8888888888888888,
              "#fdca26"
             ],
             [
              1,
              "#f0f921"
             ]
            ],
            "type": "heatmap"
           }
          ],
          "heatmapgl": [
           {
            "colorbar": {
             "outlinewidth": 0,
             "ticks": ""
            },
            "colorscale": [
             [
              0,
              "#0d0887"
             ],
             [
              0.1111111111111111,
              "#46039f"
             ],
             [
              0.2222222222222222,
              "#7201a8"
             ],
             [
              0.3333333333333333,
              "#9c179e"
             ],
             [
              0.4444444444444444,
              "#bd3786"
             ],
             [
              0.5555555555555556,
              "#d8576b"
             ],
             [
              0.6666666666666666,
              "#ed7953"
             ],
             [
              0.7777777777777778,
              "#fb9f3a"
             ],
             [
              0.8888888888888888,
              "#fdca26"
             ],
             [
              1,
              "#f0f921"
             ]
            ],
            "type": "heatmapgl"
           }
          ],
          "histogram": [
           {
            "marker": {
             "pattern": {
              "fillmode": "overlay",
              "size": 10,
              "solidity": 0.2
             }
            },
            "type": "histogram"
           }
          ],
          "histogram2d": [
           {
            "colorbar": {
             "outlinewidth": 0,
             "ticks": ""
            },
            "colorscale": [
             [
              0,
              "#0d0887"
             ],
             [
              0.1111111111111111,
              "#46039f"
             ],
             [
              0.2222222222222222,
              "#7201a8"
             ],
             [
              0.3333333333333333,
              "#9c179e"
             ],
             [
              0.4444444444444444,
              "#bd3786"
             ],
             [
              0.5555555555555556,
              "#d8576b"
             ],
             [
              0.6666666666666666,
              "#ed7953"
             ],
             [
              0.7777777777777778,
              "#fb9f3a"
             ],
             [
              0.8888888888888888,
              "#fdca26"
             ],
             [
              1,
              "#f0f921"
             ]
            ],
            "type": "histogram2d"
           }
          ],
          "histogram2dcontour": [
           {
            "colorbar": {
             "outlinewidth": 0,
             "ticks": ""
            },
            "colorscale": [
             [
              0,
              "#0d0887"
             ],
             [
              0.1111111111111111,
              "#46039f"
             ],
             [
              0.2222222222222222,
              "#7201a8"
             ],
             [
              0.3333333333333333,
              "#9c179e"
             ],
             [
              0.4444444444444444,
              "#bd3786"
             ],
             [
              0.5555555555555556,
              "#d8576b"
             ],
             [
              0.6666666666666666,
              "#ed7953"
             ],
             [
              0.7777777777777778,
              "#fb9f3a"
             ],
             [
              0.8888888888888888,
              "#fdca26"
             ],
             [
              1,
              "#f0f921"
             ]
            ],
            "type": "histogram2dcontour"
           }
          ],
          "mesh3d": [
           {
            "colorbar": {
             "outlinewidth": 0,
             "ticks": ""
            },
            "type": "mesh3d"
           }
          ],
          "parcoords": [
           {
            "line": {
             "colorbar": {
              "outlinewidth": 0,
              "ticks": ""
             }
            },
            "type": "parcoords"
           }
          ],
          "pie": [
           {
            "automargin": true,
            "type": "pie"
           }
          ],
          "scatter": [
           {
            "fillpattern": {
             "fillmode": "overlay",
             "size": 10,
             "solidity": 0.2
            },
            "type": "scatter"
           }
          ],
          "scatter3d": [
           {
            "line": {
             "colorbar": {
              "outlinewidth": 0,
              "ticks": ""
             }
            },
            "marker": {
             "colorbar": {
              "outlinewidth": 0,
              "ticks": ""
             }
            },
            "type": "scatter3d"
           }
          ],
          "scattercarpet": [
           {
            "marker": {
             "colorbar": {
              "outlinewidth": 0,
              "ticks": ""
             }
            },
            "type": "scattercarpet"
           }
          ],
          "scattergeo": [
           {
            "marker": {
             "colorbar": {
              "outlinewidth": 0,
              "ticks": ""
             }
            },
            "type": "scattergeo"
           }
          ],
          "scattergl": [
           {
            "marker": {
             "colorbar": {
              "outlinewidth": 0,
              "ticks": ""
             }
            },
            "type": "scattergl"
           }
          ],
          "scattermapbox": [
           {
            "marker": {
             "colorbar": {
              "outlinewidth": 0,
              "ticks": ""
             }
            },
            "type": "scattermapbox"
           }
          ],
          "scatterpolar": [
           {
            "marker": {
             "colorbar": {
              "outlinewidth": 0,
              "ticks": ""
             }
            },
            "type": "scatterpolar"
           }
          ],
          "scatterpolargl": [
           {
            "marker": {
             "colorbar": {
              "outlinewidth": 0,
              "ticks": ""
             }
            },
            "type": "scatterpolargl"
           }
          ],
          "scatterternary": [
           {
            "marker": {
             "colorbar": {
              "outlinewidth": 0,
              "ticks": ""
             }
            },
            "type": "scatterternary"
           }
          ],
          "surface": [
           {
            "colorbar": {
             "outlinewidth": 0,
             "ticks": ""
            },
            "colorscale": [
             [
              0,
              "#0d0887"
             ],
             [
              0.1111111111111111,
              "#46039f"
             ],
             [
              0.2222222222222222,
              "#7201a8"
             ],
             [
              0.3333333333333333,
              "#9c179e"
             ],
             [
              0.4444444444444444,
              "#bd3786"
             ],
             [
              0.5555555555555556,
              "#d8576b"
             ],
             [
              0.6666666666666666,
              "#ed7953"
             ],
             [
              0.7777777777777778,
              "#fb9f3a"
             ],
             [
              0.8888888888888888,
              "#fdca26"
             ],
             [
              1,
              "#f0f921"
             ]
            ],
            "type": "surface"
           }
          ],
          "table": [
           {
            "cells": {
             "fill": {
              "color": "#EBF0F8"
             },
             "line": {
              "color": "white"
             }
            },
            "header": {
             "fill": {
              "color": "#C8D4E3"
             },
             "line": {
              "color": "white"
             }
            },
            "type": "table"
           }
          ]
         },
         "layout": {
          "annotationdefaults": {
           "arrowcolor": "#2a3f5f",
           "arrowhead": 0,
           "arrowwidth": 1
          },
          "autotypenumbers": "strict",
          "coloraxis": {
           "colorbar": {
            "outlinewidth": 0,
            "ticks": ""
           }
          },
          "colorscale": {
           "diverging": [
            [
             0,
             "#8e0152"
            ],
            [
             0.1,
             "#c51b7d"
            ],
            [
             0.2,
             "#de77ae"
            ],
            [
             0.3,
             "#f1b6da"
            ],
            [
             0.4,
             "#fde0ef"
            ],
            [
             0.5,
             "#f7f7f7"
            ],
            [
             0.6,
             "#e6f5d0"
            ],
            [
             0.7,
             "#b8e186"
            ],
            [
             0.8,
             "#7fbc41"
            ],
            [
             0.9,
             "#4d9221"
            ],
            [
             1,
             "#276419"
            ]
           ],
           "sequential": [
            [
             0,
             "#0d0887"
            ],
            [
             0.1111111111111111,
             "#46039f"
            ],
            [
             0.2222222222222222,
             "#7201a8"
            ],
            [
             0.3333333333333333,
             "#9c179e"
            ],
            [
             0.4444444444444444,
             "#bd3786"
            ],
            [
             0.5555555555555556,
             "#d8576b"
            ],
            [
             0.6666666666666666,
             "#ed7953"
            ],
            [
             0.7777777777777778,
             "#fb9f3a"
            ],
            [
             0.8888888888888888,
             "#fdca26"
            ],
            [
             1,
             "#f0f921"
            ]
           ],
           "sequentialminus": [
            [
             0,
             "#0d0887"
            ],
            [
             0.1111111111111111,
             "#46039f"
            ],
            [
             0.2222222222222222,
             "#7201a8"
            ],
            [
             0.3333333333333333,
             "#9c179e"
            ],
            [
             0.4444444444444444,
             "#bd3786"
            ],
            [
             0.5555555555555556,
             "#d8576b"
            ],
            [
             0.6666666666666666,
             "#ed7953"
            ],
            [
             0.7777777777777778,
             "#fb9f3a"
            ],
            [
             0.8888888888888888,
             "#fdca26"
            ],
            [
             1,
             "#f0f921"
            ]
           ]
          },
          "colorway": [
           "#636efa",
           "#EF553B",
           "#00cc96",
           "#ab63fa",
           "#FFA15A",
           "#19d3f3",
           "#FF6692",
           "#B6E880",
           "#FF97FF",
           "#FECB52"
          ],
          "font": {
           "color": "#2a3f5f"
          },
          "geo": {
           "bgcolor": "white",
           "lakecolor": "white",
           "landcolor": "white",
           "showlakes": true,
           "showland": true,
           "subunitcolor": "#C8D4E3"
          },
          "hoverlabel": {
           "align": "left"
          },
          "hovermode": "closest",
          "mapbox": {
           "style": "light"
          },
          "paper_bgcolor": "white",
          "plot_bgcolor": "white",
          "polar": {
           "angularaxis": {
            "gridcolor": "#EBF0F8",
            "linecolor": "#EBF0F8",
            "ticks": ""
           },
           "bgcolor": "white",
           "radialaxis": {
            "gridcolor": "#EBF0F8",
            "linecolor": "#EBF0F8",
            "ticks": ""
           }
          },
          "scene": {
           "xaxis": {
            "backgroundcolor": "white",
            "gridcolor": "#DFE8F3",
            "gridwidth": 2,
            "linecolor": "#EBF0F8",
            "showbackground": true,
            "ticks": "",
            "zerolinecolor": "#EBF0F8"
           },
           "yaxis": {
            "backgroundcolor": "white",
            "gridcolor": "#DFE8F3",
            "gridwidth": 2,
            "linecolor": "#EBF0F8",
            "showbackground": true,
            "ticks": "",
            "zerolinecolor": "#EBF0F8"
           },
           "zaxis": {
            "backgroundcolor": "white",
            "gridcolor": "#DFE8F3",
            "gridwidth": 2,
            "linecolor": "#EBF0F8",
            "showbackground": true,
            "ticks": "",
            "zerolinecolor": "#EBF0F8"
           }
          },
          "shapedefaults": {
           "line": {
            "color": "#2a3f5f"
           }
          },
          "ternary": {
           "aaxis": {
            "gridcolor": "#DFE8F3",
            "linecolor": "#A2B1C6",
            "ticks": ""
           },
           "baxis": {
            "gridcolor": "#DFE8F3",
            "linecolor": "#A2B1C6",
            "ticks": ""
           },
           "bgcolor": "white",
           "caxis": {
            "gridcolor": "#DFE8F3",
            "linecolor": "#A2B1C6",
            "ticks": ""
           }
          },
          "title": {
           "x": 0.05
          },
          "xaxis": {
           "automargin": true,
           "gridcolor": "#EBF0F8",
           "linecolor": "#EBF0F8",
           "ticks": "",
           "title": {
            "standoff": 15
           },
           "zerolinecolor": "#EBF0F8",
           "zerolinewidth": 2
          },
          "yaxis": {
           "automargin": true,
           "gridcolor": "#EBF0F8",
           "linecolor": "#EBF0F8",
           "ticks": "",
           "title": {
            "standoff": 15
           },
           "zerolinecolor": "#EBF0F8",
           "zerolinewidth": 2
          }
         }
        },
        "title": {
         "font": {
          "size": 20
         },
         "text": "Distribution of MAE in the dataset",
         "x": 0.5,
         "xanchor": "center",
         "yanchor": "top"
        },
        "width": 900,
        "xaxis": {
         "anchor": "y",
         "domain": [
          0,
          1
         ],
         "range": [
          0,
          0.4
         ],
         "title": {
          "font": {
           "size": 12
          },
          "text": "MAE"
         }
        },
        "xaxis2": {
         "anchor": "y2",
         "domain": [
          0,
          1
         ],
         "matches": "x",
         "showgrid": true,
         "showticklabels": false
        },
        "yaxis": {
         "anchor": "x",
         "domain": [
          0,
          0.7326
         ],
         "title": {
          "font": {
           "size": 12
          },
          "text": "Probability Density"
         }
        },
        "yaxis2": {
         "anchor": "x2",
         "domain": [
          0.7426,
          1
         ],
         "matches": "y2",
         "showgrid": false,
         "showline": false,
         "showticklabels": false,
         "ticks": ""
        }
       }
      }
     },
     "metadata": {},
     "output_type": "display_data"
    }
   ],
   "source": [
    "fig = px.histogram(metrics_df, \n",
    "                   x=\"MAE\", \n",
    "                   color=\"Algorithm\",\n",
    "                   pattern_shape=\"Algorithm\", \n",
    "                   marginal=\"box\", \n",
    "                   nbins=100, \n",
    "                   barmode=\"overlay\",\n",
    "                   histnorm=\"probability density\")\n",
    "fig = format_plot(fig, xlabel=\"MAE\", ylabel=\"Probability Density\", title=\"Distribution of MAE in the dataset\")\n",
    "# fig.write_image(\"imgs/chapter_8/mae_dist.png\")\n",
    "fig.update_layout(xaxis_range=[0,0.4])\n",
    "fig.show()"
   ]
  },
  {
   "cell_type": "code",
   "execution_count": 23,
   "id": "9e89266e-ab40-4f44-9461-ec0c755c6a61",
   "metadata": {},
   "outputs": [
    {
     "data": {
      "application/vnd.plotly.v1+json": {
       "config": {
        "plotlyServerURL": "https://plot.ly"
       },
       "data": [
        {
         "alignmentgroup": "True",
         "bingroup": "x",
         "histnorm": "probability density",
         "hovertemplate": "Algorithm=Lasso Regression<br>MSE=%{x}<br>probability density=%{y}<extra></extra>",
         "legendgroup": "Lasso Regression",
         "marker": {
          "color": "#636efa",
          "opacity": 0.5,
          "pattern": {
           "shape": ""
          }
         },
         "name": "Lasso Regression",
         "nbinsx": 500,
         "offsetgroup": "Lasso Regression",
         "orientation": "v",
         "showlegend": true,
         "type": "histogram",
         "x": [
          0.003085777947810539,
          0.024935922142667585,
          0.0008941686594544315,
          0.028463168219368715,
          0.007732151727884307,
          0.00009305764954220292,
          0.006010370164913054,
          0.023385679918018456,
          0.07895598266265229,
          0.011351120600019367,
          0.050130552065881545,
          0.0015568007601279162,
          0.0035671442222138367,
          0.1776428247486541,
          0.008724210108573415,
          0.003844537799568833,
          0.07938314123717631,
          0.013632460403653962,
          0.0033097662813756086,
          0.027426129891129816,
          0.0030321454710276795,
          0.004201678403481738,
          0.029375005365254923,
          0.009674505601992922,
          0.03818674840692989,
          0.010687947422298538,
          0.013897864895059316,
          0.015605048534820561,
          0.0015659375752357582,
          0.025834797906720375,
          0.05510904532638186,
          0.0007377068601304352,
          0.0007206648006923238,
          0.009250912997759013,
          0.01670661555993455,
          0.00024323953803505314,
          0.0003511062045349368,
          0.00037592013803492525,
          0.030018092959380963,
          0.021206261828594336,
          0.02383785488724476,
          0.02087536591109863,
          0.011223492802123532,
          0.025734259668775458,
          0.04897965197122116,
          0.035683606235678025,
          0.029705188979940702,
          0.011498578727472175,
          0.009625592187876062,
          0.010015760210686174,
          0.0060421032922458005,
          0.004268779069168608,
          0.01729511807095124,
          0.018784007219591364,
          0.000002524243910424971,
          0.03973769593046375,
          0.019254812815312033,
          0.0032081723365905072,
          0.01723192148805201,
          0.04720947359100139,
          0.008164652270597506,
          0.0016618323997527659,
          0.004812182874805403,
          0.0367530468426682,
          0.03952941973554694,
          0.006434333875730723,
          0.11245858394382698,
          0.0011642887248816088,
          0.008768360016657952,
          0.005444113556443018,
          0.004894326231203026,
          0.023125641370186883,
          0.012793535744522327,
          0.02147519467576937,
          0.012015091472641373,
          0.0035767820811158308,
          0.011323399902708668,
          0.00604824152015606,
          0.0029975207196490127,
          0.00006940356107252432,
          0.042722324656420105,
          0.0032088885169766807,
          0.03416513870836265,
          0.0002617340636059787,
          0.011925890810167435,
          0.016263430401158817,
          0.028735357340660093,
          0.01880110400693869,
          0.029501959469970834,
          0.01171151134431966,
          0.01890408480111489,
          0.031398474292758556,
          0.00761392011921412,
          0.018780489928110163,
          0.030002633409012276,
          0.023748041472704973,
          0.01875544296246501,
          0.004907836311859587,
          0.060529246535000414,
          0.009207776970046799,
          0.003615810014645954,
          0.009224302170260693,
          0.0005301125366619196,
          0.012486496718532933,
          0.05018337862020196,
          0.06160733533350619,
          0.02473787000577219,
          0.0894814721710193,
          0.03676148973481707,
          0.043407284582919765,
          0.005787806001974276,
          0.09608368141112261,
          0.01120787363175836,
          0.03379467803733503,
          0.0025825590988576537,
          0.038025604835807,
          0.013492786767274419,
          0.14295401739074876,
          0.07040973375268932,
          0.003936780121099537,
          0.006297321563750236,
          0.18823823706647402,
          0.0031732459050604987,
          0.010782312229205218,
          0.0020718716156403008,
          0.06465210807363604,
          0.019406175412538484,
          0.02133785310275296,
          0.016206681136493806,
          0.010456440341082505,
          0.010315728192609825,
          0.03330807952723699,
          0.10948833220400855,
          0.005454075740564384,
          0.12618586751743677,
          0.001366459920679196,
          0.022725485631127113,
          0.047394978733319076,
          0.004363429887921289,
          0.005541649387647561,
          0.007889136492116056,
          0.11393911854222759,
          0.0637352043778427,
          0.0024486347753444426,
          0.013597929679599002,
          0.03056442614659403,
          0.01459250192439659,
          0.011901725210617917,
          0.11279447058248597,
          0.018631213033690724
         ],
         "xaxis": "x",
         "yaxis": "y"
        },
        {
         "alignmentgroup": "True",
         "hovertemplate": "Algorithm=Lasso Regression<br>MSE=%{x}<extra></extra>",
         "legendgroup": "Lasso Regression",
         "marker": {
          "color": "#636efa"
         },
         "name": "Lasso Regression",
         "notched": true,
         "offsetgroup": "Lasso Regression",
         "showlegend": false,
         "type": "box",
         "x": [
          0.003085777947810539,
          0.024935922142667585,
          0.0008941686594544315,
          0.028463168219368715,
          0.007732151727884307,
          0.00009305764954220292,
          0.006010370164913054,
          0.023385679918018456,
          0.07895598266265229,
          0.011351120600019367,
          0.050130552065881545,
          0.0015568007601279162,
          0.0035671442222138367,
          0.1776428247486541,
          0.008724210108573415,
          0.003844537799568833,
          0.07938314123717631,
          0.013632460403653962,
          0.0033097662813756086,
          0.027426129891129816,
          0.0030321454710276795,
          0.004201678403481738,
          0.029375005365254923,
          0.009674505601992922,
          0.03818674840692989,
          0.010687947422298538,
          0.013897864895059316,
          0.015605048534820561,
          0.0015659375752357582,
          0.025834797906720375,
          0.05510904532638186,
          0.0007377068601304352,
          0.0007206648006923238,
          0.009250912997759013,
          0.01670661555993455,
          0.00024323953803505314,
          0.0003511062045349368,
          0.00037592013803492525,
          0.030018092959380963,
          0.021206261828594336,
          0.02383785488724476,
          0.02087536591109863,
          0.011223492802123532,
          0.025734259668775458,
          0.04897965197122116,
          0.035683606235678025,
          0.029705188979940702,
          0.011498578727472175,
          0.009625592187876062,
          0.010015760210686174,
          0.0060421032922458005,
          0.004268779069168608,
          0.01729511807095124,
          0.018784007219591364,
          0.000002524243910424971,
          0.03973769593046375,
          0.019254812815312033,
          0.0032081723365905072,
          0.01723192148805201,
          0.04720947359100139,
          0.008164652270597506,
          0.0016618323997527659,
          0.004812182874805403,
          0.0367530468426682,
          0.03952941973554694,
          0.006434333875730723,
          0.11245858394382698,
          0.0011642887248816088,
          0.008768360016657952,
          0.005444113556443018,
          0.004894326231203026,
          0.023125641370186883,
          0.012793535744522327,
          0.02147519467576937,
          0.012015091472641373,
          0.0035767820811158308,
          0.011323399902708668,
          0.00604824152015606,
          0.0029975207196490127,
          0.00006940356107252432,
          0.042722324656420105,
          0.0032088885169766807,
          0.03416513870836265,
          0.0002617340636059787,
          0.011925890810167435,
          0.016263430401158817,
          0.028735357340660093,
          0.01880110400693869,
          0.029501959469970834,
          0.01171151134431966,
          0.01890408480111489,
          0.031398474292758556,
          0.00761392011921412,
          0.018780489928110163,
          0.030002633409012276,
          0.023748041472704973,
          0.01875544296246501,
          0.004907836311859587,
          0.060529246535000414,
          0.009207776970046799,
          0.003615810014645954,
          0.009224302170260693,
          0.0005301125366619196,
          0.012486496718532933,
          0.05018337862020196,
          0.06160733533350619,
          0.02473787000577219,
          0.0894814721710193,
          0.03676148973481707,
          0.043407284582919765,
          0.005787806001974276,
          0.09608368141112261,
          0.01120787363175836,
          0.03379467803733503,
          0.0025825590988576537,
          0.038025604835807,
          0.013492786767274419,
          0.14295401739074876,
          0.07040973375268932,
          0.003936780121099537,
          0.006297321563750236,
          0.18823823706647402,
          0.0031732459050604987,
          0.010782312229205218,
          0.0020718716156403008,
          0.06465210807363604,
          0.019406175412538484,
          0.02133785310275296,
          0.016206681136493806,
          0.010456440341082505,
          0.010315728192609825,
          0.03330807952723699,
          0.10948833220400855,
          0.005454075740564384,
          0.12618586751743677,
          0.001366459920679196,
          0.022725485631127113,
          0.047394978733319076,
          0.004363429887921289,
          0.005541649387647561,
          0.007889136492116056,
          0.11393911854222759,
          0.0637352043778427,
          0.0024486347753444426,
          0.013597929679599002,
          0.03056442614659403,
          0.01459250192439659,
          0.011901725210617917,
          0.11279447058248597,
          0.018631213033690724
         ],
         "xaxis": "x2",
         "yaxis": "y2"
        },
        {
         "alignmentgroup": "True",
         "bingroup": "x",
         "histnorm": "probability density",
         "hovertemplate": "Algorithm=XGB Random Forest<br>MSE=%{x}<br>probability density=%{y}<extra></extra>",
         "legendgroup": "XGB Random Forest",
         "marker": {
          "color": "#EF553B",
          "opacity": 0.5,
          "pattern": {
           "shape": "/"
          }
         },
         "name": "XGB Random Forest",
         "nbinsx": 500,
         "offsetgroup": "XGB Random Forest",
         "orientation": "v",
         "showlegend": true,
         "type": "histogram",
         "x": [
          0.0030176222790032625,
          0.025029724463820457,
          0.000769481819588691,
          0.026272403076291084,
          0.00784641969949007,
          0.00012515450362116098,
          0.0061914450488984585,
          0.02314528450369835,
          0.0888206958770752,
          0.01180628314614296,
          0.05064978450536728,
          0.0015334499767050147,
          0.003656830405816436,
          0.683067798614502,
          0.008865585550665855,
          0.003746550064533949,
          0.08067811280488968,
          0.014525722712278366,
          0.003574314760044217,
          0.027942121028900146,
          0.0028489455580711365,
          0.004036338068544865,
          0.031924355775117874,
          0.009409009478986263,
          0.0376393087208271,
          0.010042782872915268,
          0.013676750473678112,
          0.016828253865242004,
          0.0015438415575772524,
          0.025775162503123283,
          0.056788817048072815,
          0.0006793995853513479,
          0.0006724718841724098,
          0.009348249062895775,
          0.017104454338550568,
          0.0007577403448522091,
          0.0003406250034458935,
          0.0007528190617449582,
          0.025865936651825905,
          0.021005289629101753,
          0.024782292544841766,
          0.020370284095406532,
          0.011530467309057713,
          0.025988014414906502,
          0.0626649558544159,
          0.03728816658258438,
          0.033246491104364395,
          0.011904061771929264,
          0.009768937714397907,
          0.010001852177083492,
          0.005975899752229452,
          0.0040018255822360516,
          0.01738516427576542,
          0.018802978098392487,
          0.000001131190401792992,
          0.03855888172984123,
          0.019807277247309685,
          0.0032678202260285616,
          0.017452813684940338,
          0.04725879058241844,
          0.008112176321446896,
          0.0016786829801276326,
          0.004757540300488472,
          0.03754445165395737,
          0.04036685451865196,
          0.006166913080960512,
          0.11547522246837616,
          0.001176174497231841,
          0.00866550300270319,
          0.005542066413909197,
          0.004410115536302328,
          0.023733824491500854,
          0.012296265922486782,
          0.020820848643779755,
          0.012327456846833229,
          0.0035152442287653685,
          0.01172506995499134,
          0.005486028268933296,
          0.0031796046532690525,
          0.0000761655464884825,
          0.03660609573125839,
          0.0032646667677909136,
          0.03510289639234543,
          0.00024596540606580675,
          0.011536745354533195,
          0.017536714673042297,
          0.02894124574959278,
          0.01892918348312378,
          0.029559334740042686,
          0.011741352267563343,
          0.019285982474684715,
          0.031836822628974915,
          0.007711769547313452,
          0.019279783591628075,
          0.0269284900277853,
          0.02408246137201786,
          0.017818953841924667,
          0.005119771230965853,
          0.06338181346654892,
          0.0095508499071002,
          0.0032942891120910645,
          0.00915366318076849,
          0.000531109282746911,
          0.012582781724631786,
          0.05249638110399246,
          0.0623808391392231,
          0.02444370649755001,
          0.08652814477682114,
          0.03495750203728676,
          0.04473721981048584,
          0.005572769325226545,
          0.0966099202632904,
          0.009562475606799126,
          0.035151686519384384,
          0.0025150130968540907,
          0.03363789618015289,
          0.014092998579144478,
          0.12786567211151123,
          0.07291607558727264,
          0.0038966010324656963,
          0.010568935424089432,
          0.1865842640399933,
          0.0029501516837626696,
          0.01261289045214653,
          0.002046062843874097,
          0.06359602510929108,
          0.018978551030158997,
          0.02045482024550438,
          0.016623059287667274,
          0.00967590045183897,
          0.010700826533138752,
          0.03472517058253288,
          0.13714686036109924,
          0.006009460426867008,
          0.1503078192472458,
          0.0018903149757534266,
          0.021307077258825302,
          0.04714913293719292,
          0.00455115083605051,
          0.00558660039678216,
          0.0076414053328335285,
          0.13966426253318787,
          0.06969397515058517,
          0.0024086355697363615,
          0.013398519717156887,
          0.026985550299286842,
          0.013706481084227562,
          0.011698723770678043,
          0.11154770851135254,
          0.017742503434419632
         ],
         "xaxis": "x",
         "yaxis": "y"
        },
        {
         "alignmentgroup": "True",
         "hovertemplate": "Algorithm=XGB Random Forest<br>MSE=%{x}<extra></extra>",
         "legendgroup": "XGB Random Forest",
         "marker": {
          "color": "#EF553B"
         },
         "name": "XGB Random Forest",
         "notched": true,
         "offsetgroup": "XGB Random Forest",
         "showlegend": false,
         "type": "box",
         "x": [
          0.0030176222790032625,
          0.025029724463820457,
          0.000769481819588691,
          0.026272403076291084,
          0.00784641969949007,
          0.00012515450362116098,
          0.0061914450488984585,
          0.02314528450369835,
          0.0888206958770752,
          0.01180628314614296,
          0.05064978450536728,
          0.0015334499767050147,
          0.003656830405816436,
          0.683067798614502,
          0.008865585550665855,
          0.003746550064533949,
          0.08067811280488968,
          0.014525722712278366,
          0.003574314760044217,
          0.027942121028900146,
          0.0028489455580711365,
          0.004036338068544865,
          0.031924355775117874,
          0.009409009478986263,
          0.0376393087208271,
          0.010042782872915268,
          0.013676750473678112,
          0.016828253865242004,
          0.0015438415575772524,
          0.025775162503123283,
          0.056788817048072815,
          0.0006793995853513479,
          0.0006724718841724098,
          0.009348249062895775,
          0.017104454338550568,
          0.0007577403448522091,
          0.0003406250034458935,
          0.0007528190617449582,
          0.025865936651825905,
          0.021005289629101753,
          0.024782292544841766,
          0.020370284095406532,
          0.011530467309057713,
          0.025988014414906502,
          0.0626649558544159,
          0.03728816658258438,
          0.033246491104364395,
          0.011904061771929264,
          0.009768937714397907,
          0.010001852177083492,
          0.005975899752229452,
          0.0040018255822360516,
          0.01738516427576542,
          0.018802978098392487,
          0.000001131190401792992,
          0.03855888172984123,
          0.019807277247309685,
          0.0032678202260285616,
          0.017452813684940338,
          0.04725879058241844,
          0.008112176321446896,
          0.0016786829801276326,
          0.004757540300488472,
          0.03754445165395737,
          0.04036685451865196,
          0.006166913080960512,
          0.11547522246837616,
          0.001176174497231841,
          0.00866550300270319,
          0.005542066413909197,
          0.004410115536302328,
          0.023733824491500854,
          0.012296265922486782,
          0.020820848643779755,
          0.012327456846833229,
          0.0035152442287653685,
          0.01172506995499134,
          0.005486028268933296,
          0.0031796046532690525,
          0.0000761655464884825,
          0.03660609573125839,
          0.0032646667677909136,
          0.03510289639234543,
          0.00024596540606580675,
          0.011536745354533195,
          0.017536714673042297,
          0.02894124574959278,
          0.01892918348312378,
          0.029559334740042686,
          0.011741352267563343,
          0.019285982474684715,
          0.031836822628974915,
          0.007711769547313452,
          0.019279783591628075,
          0.0269284900277853,
          0.02408246137201786,
          0.017818953841924667,
          0.005119771230965853,
          0.06338181346654892,
          0.0095508499071002,
          0.0032942891120910645,
          0.00915366318076849,
          0.000531109282746911,
          0.012582781724631786,
          0.05249638110399246,
          0.0623808391392231,
          0.02444370649755001,
          0.08652814477682114,
          0.03495750203728676,
          0.04473721981048584,
          0.005572769325226545,
          0.0966099202632904,
          0.009562475606799126,
          0.035151686519384384,
          0.0025150130968540907,
          0.03363789618015289,
          0.014092998579144478,
          0.12786567211151123,
          0.07291607558727264,
          0.0038966010324656963,
          0.010568935424089432,
          0.1865842640399933,
          0.0029501516837626696,
          0.01261289045214653,
          0.002046062843874097,
          0.06359602510929108,
          0.018978551030158997,
          0.02045482024550438,
          0.016623059287667274,
          0.00967590045183897,
          0.010700826533138752,
          0.03472517058253288,
          0.13714686036109924,
          0.006009460426867008,
          0.1503078192472458,
          0.0018903149757534266,
          0.021307077258825302,
          0.04714913293719292,
          0.00455115083605051,
          0.00558660039678216,
          0.0076414053328335285,
          0.13966426253318787,
          0.06969397515058517,
          0.0024086355697363615,
          0.013398519717156887,
          0.026985550299286842,
          0.013706481084227562,
          0.011698723770678043,
          0.11154770851135254,
          0.017742503434419632
         ],
         "xaxis": "x2",
         "yaxis": "y2"
        },
        {
         "alignmentgroup": "True",
         "bingroup": "x",
         "histnorm": "probability density",
         "hovertemplate": "Algorithm=LightGBM<br>MSE=%{x}<br>probability density=%{y}<extra></extra>",
         "legendgroup": "LightGBM",
         "marker": {
          "color": "#00cc96",
          "opacity": 0.5,
          "pattern": {
           "shape": "\\"
          }
         },
         "name": "LightGBM",
         "nbinsx": 500,
         "offsetgroup": "LightGBM",
         "orientation": "v",
         "showlegend": true,
         "type": "histogram",
         "x": [
          0.00295684271221944,
          0.02589770397730206,
          0.0008182657974680511,
          0.02421473574643471,
          0.007737568594089442,
          0.000037011191932487626,
          0.005737774437460879,
          0.021026314780273034,
          0.07265045661891181,
          0.010963194219309302,
          0.044356628614876284,
          0.0013992576566385783,
          0.0032538369790079307,
          0.5381881204501214,
          0.008141655116432639,
          0.003486273448368069,
          0.07624315916250092,
          0.012772799766095511,
          0.0028854015157710514,
          0.02671677795266636,
          0.0026064569718843196,
          0.003920231482055976,
          0.02862200086805433,
          0.008970311687710095,
          0.0357125800849674,
          0.009563846181493581,
          0.012981556039027257,
          0.01468637548241554,
          0.001707528908206803,
          0.02664514654196478,
          0.05465768029804991,
          0.0005267053562920898,
          0.0005568835244410119,
          0.009080797051448706,
          0.01683033669203966,
          0.00002822959034015521,
          0.00030530554886857854,
          0.00027195620805063885,
          0.024770937912638052,
          0.02096563910347613,
          0.02310531444586255,
          0.019777269785183446,
          0.011139749309203462,
          0.025159268436396362,
          0.05291878012222813,
          0.03754309506684996,
          0.030026233025665098,
          0.011053385139093826,
          0.009045035606794127,
          0.01007140102376548,
          0.005081363787348327,
          0.003102724291302551,
          0.016953078215475457,
          0.01608586948656008,
          6.208072616964998e-9,
          0.08806238926572314,
          0.019326629468331948,
          0.002607829819106278,
          0.01635372612409079,
          0.04659993665408637,
          0.007401698726818648,
          0.0016277332333273433,
          0.004901862381323471,
          0.037481076255254556,
          0.03511027052851973,
          0.005950730999335078,
          0.08733500872134173,
          0.0011033742028602235,
          0.0074391112355233395,
          0.005555598621365599,
          0.004292413986719777,
          0.021033058057893506,
          0.011620465861312069,
          0.019539314851434238,
          0.011358574019599091,
          0.0029655816119589203,
          0.010911387690994952,
          0.005138905042929083,
          0.0027612601252931745,
          0.00003332494250614554,
          0.03673083260492382,
          0.0030837328555396964,
          0.03612032004034015,
          0.0002548077603772898,
          0.011140216835797627,
          0.015655106910828838,
          0.02520060545074328,
          0.018423051966073033,
          0.028254678581921436,
          0.010635096131002768,
          0.018874003162115013,
          0.03157993437157343,
          0.007880886680002122,
          0.017980196260464498,
          0.023841000979681858,
          0.02469075745169557,
          0.018620255392858654,
          0.004701315956760205,
          0.06190470677630544,
          0.007958604383212746,
          0.0029886933642987883,
          0.009650820354802329,
          0.0004683890693643669,
          0.011613808753520931,
          0.046445227712161787,
          0.06401564625690048,
          0.02280162159369537,
          0.0854829871039905,
          0.03554577414115793,
          0.044726176932172776,
          0.0060474915383332,
          0.09566225087844327,
          0.008072845141679283,
          0.03333445569650326,
          0.002284550987242559,
          0.030682702133182513,
          0.012267778018653175,
          0.08661135559100898,
          0.07198599475221573,
          0.004429517698549232,
          0.005917950477872197,
          0.1834225347077088,
          0.002486552935950706,
          0.012267867935782965,
          0.0020202530707436415,
          0.06125540857218271,
          0.01758668743026353,
          0.01983430222838858,
          0.01626706291841679,
          0.008978660840643768,
          0.00917179760165644,
          0.03197480453285929,
          0.09399763061156292,
          0.005391938673696309,
          0.12789839217993856,
          0.003762858349323014,
          0.020603701505674647,
          0.04783935720040377,
          0.004691586280266461,
          0.00527160971533099,
          0.007355295178132568,
          0.11774716076821579,
          0.058580095261207776,
          0.0021765706177452842,
          0.01369992273931691,
          0.020997617774563743,
          0.013525918109321713,
          0.010714545435231948,
          0.10808457753797403,
          0.015462643076660109
         ],
         "xaxis": "x",
         "yaxis": "y"
        },
        {
         "alignmentgroup": "True",
         "hovertemplate": "Algorithm=LightGBM<br>MSE=%{x}<extra></extra>",
         "legendgroup": "LightGBM",
         "marker": {
          "color": "#00cc96"
         },
         "name": "LightGBM",
         "notched": true,
         "offsetgroup": "LightGBM",
         "showlegend": false,
         "type": "box",
         "x": [
          0.00295684271221944,
          0.02589770397730206,
          0.0008182657974680511,
          0.02421473574643471,
          0.007737568594089442,
          0.000037011191932487626,
          0.005737774437460879,
          0.021026314780273034,
          0.07265045661891181,
          0.010963194219309302,
          0.044356628614876284,
          0.0013992576566385783,
          0.0032538369790079307,
          0.5381881204501214,
          0.008141655116432639,
          0.003486273448368069,
          0.07624315916250092,
          0.012772799766095511,
          0.0028854015157710514,
          0.02671677795266636,
          0.0026064569718843196,
          0.003920231482055976,
          0.02862200086805433,
          0.008970311687710095,
          0.0357125800849674,
          0.009563846181493581,
          0.012981556039027257,
          0.01468637548241554,
          0.001707528908206803,
          0.02664514654196478,
          0.05465768029804991,
          0.0005267053562920898,
          0.0005568835244410119,
          0.009080797051448706,
          0.01683033669203966,
          0.00002822959034015521,
          0.00030530554886857854,
          0.00027195620805063885,
          0.024770937912638052,
          0.02096563910347613,
          0.02310531444586255,
          0.019777269785183446,
          0.011139749309203462,
          0.025159268436396362,
          0.05291878012222813,
          0.03754309506684996,
          0.030026233025665098,
          0.011053385139093826,
          0.009045035606794127,
          0.01007140102376548,
          0.005081363787348327,
          0.003102724291302551,
          0.016953078215475457,
          0.01608586948656008,
          6.208072616964998e-9,
          0.08806238926572314,
          0.019326629468331948,
          0.002607829819106278,
          0.01635372612409079,
          0.04659993665408637,
          0.007401698726818648,
          0.0016277332333273433,
          0.004901862381323471,
          0.037481076255254556,
          0.03511027052851973,
          0.005950730999335078,
          0.08733500872134173,
          0.0011033742028602235,
          0.0074391112355233395,
          0.005555598621365599,
          0.004292413986719777,
          0.021033058057893506,
          0.011620465861312069,
          0.019539314851434238,
          0.011358574019599091,
          0.0029655816119589203,
          0.010911387690994952,
          0.005138905042929083,
          0.0027612601252931745,
          0.00003332494250614554,
          0.03673083260492382,
          0.0030837328555396964,
          0.03612032004034015,
          0.0002548077603772898,
          0.011140216835797627,
          0.015655106910828838,
          0.02520060545074328,
          0.018423051966073033,
          0.028254678581921436,
          0.010635096131002768,
          0.018874003162115013,
          0.03157993437157343,
          0.007880886680002122,
          0.017980196260464498,
          0.023841000979681858,
          0.02469075745169557,
          0.018620255392858654,
          0.004701315956760205,
          0.06190470677630544,
          0.007958604383212746,
          0.0029886933642987883,
          0.009650820354802329,
          0.0004683890693643669,
          0.011613808753520931,
          0.046445227712161787,
          0.06401564625690048,
          0.02280162159369537,
          0.0854829871039905,
          0.03554577414115793,
          0.044726176932172776,
          0.0060474915383332,
          0.09566225087844327,
          0.008072845141679283,
          0.03333445569650326,
          0.002284550987242559,
          0.030682702133182513,
          0.012267778018653175,
          0.08661135559100898,
          0.07198599475221573,
          0.004429517698549232,
          0.005917950477872197,
          0.1834225347077088,
          0.002486552935950706,
          0.012267867935782965,
          0.0020202530707436415,
          0.06125540857218271,
          0.01758668743026353,
          0.01983430222838858,
          0.01626706291841679,
          0.008978660840643768,
          0.00917179760165644,
          0.03197480453285929,
          0.09399763061156292,
          0.005391938673696309,
          0.12789839217993856,
          0.003762858349323014,
          0.020603701505674647,
          0.04783935720040377,
          0.004691586280266461,
          0.00527160971533099,
          0.007355295178132568,
          0.11774716076821579,
          0.058580095261207776,
          0.0021765706177452842,
          0.01369992273931691,
          0.020997617774563743,
          0.013525918109321713,
          0.010714545435231948,
          0.10808457753797403,
          0.015462643076660109
         ],
         "xaxis": "x2",
         "yaxis": "y2"
        }
       ],
       "layout": {
        "autosize": false,
        "barmode": "overlay",
        "height": 500,
        "legend": {
         "title": {},
         "tracegroupgap": 0
        },
        "margin": {
         "t": 60
        },
        "template": {
         "data": {
          "bar": [
           {
            "error_x": {
             "color": "#2a3f5f"
            },
            "error_y": {
             "color": "#2a3f5f"
            },
            "marker": {
             "line": {
              "color": "white",
              "width": 0.5
             },
             "pattern": {
              "fillmode": "overlay",
              "size": 10,
              "solidity": 0.2
             }
            },
            "type": "bar"
           }
          ],
          "barpolar": [
           {
            "marker": {
             "line": {
              "color": "white",
              "width": 0.5
             },
             "pattern": {
              "fillmode": "overlay",
              "size": 10,
              "solidity": 0.2
             }
            },
            "type": "barpolar"
           }
          ],
          "carpet": [
           {
            "aaxis": {
             "endlinecolor": "#2a3f5f",
             "gridcolor": "#C8D4E3",
             "linecolor": "#C8D4E3",
             "minorgridcolor": "#C8D4E3",
             "startlinecolor": "#2a3f5f"
            },
            "baxis": {
             "endlinecolor": "#2a3f5f",
             "gridcolor": "#C8D4E3",
             "linecolor": "#C8D4E3",
             "minorgridcolor": "#C8D4E3",
             "startlinecolor": "#2a3f5f"
            },
            "type": "carpet"
           }
          ],
          "choropleth": [
           {
            "colorbar": {
             "outlinewidth": 0,
             "ticks": ""
            },
            "type": "choropleth"
           }
          ],
          "contour": [
           {
            "colorbar": {
             "outlinewidth": 0,
             "ticks": ""
            },
            "colorscale": [
             [
              0,
              "#0d0887"
             ],
             [
              0.1111111111111111,
              "#46039f"
             ],
             [
              0.2222222222222222,
              "#7201a8"
             ],
             [
              0.3333333333333333,
              "#9c179e"
             ],
             [
              0.4444444444444444,
              "#bd3786"
             ],
             [
              0.5555555555555556,
              "#d8576b"
             ],
             [
              0.6666666666666666,
              "#ed7953"
             ],
             [
              0.7777777777777778,
              "#fb9f3a"
             ],
             [
              0.8888888888888888,
              "#fdca26"
             ],
             [
              1,
              "#f0f921"
             ]
            ],
            "type": "contour"
           }
          ],
          "contourcarpet": [
           {
            "colorbar": {
             "outlinewidth": 0,
             "ticks": ""
            },
            "type": "contourcarpet"
           }
          ],
          "heatmap": [
           {
            "colorbar": {
             "outlinewidth": 0,
             "ticks": ""
            },
            "colorscale": [
             [
              0,
              "#0d0887"
             ],
             [
              0.1111111111111111,
              "#46039f"
             ],
             [
              0.2222222222222222,
              "#7201a8"
             ],
             [
              0.3333333333333333,
              "#9c179e"
             ],
             [
              0.4444444444444444,
              "#bd3786"
             ],
             [
              0.5555555555555556,
              "#d8576b"
             ],
             [
              0.6666666666666666,
              "#ed7953"
             ],
             [
              0.7777777777777778,
              "#fb9f3a"
             ],
             [
              0.8888888888888888,
              "#fdca26"
             ],
             [
              1,
              "#f0f921"
             ]
            ],
            "type": "heatmap"
           }
          ],
          "heatmapgl": [
           {
            "colorbar": {
             "outlinewidth": 0,
             "ticks": ""
            },
            "colorscale": [
             [
              0,
              "#0d0887"
             ],
             [
              0.1111111111111111,
              "#46039f"
             ],
             [
              0.2222222222222222,
              "#7201a8"
             ],
             [
              0.3333333333333333,
              "#9c179e"
             ],
             [
              0.4444444444444444,
              "#bd3786"
             ],
             [
              0.5555555555555556,
              "#d8576b"
             ],
             [
              0.6666666666666666,
              "#ed7953"
             ],
             [
              0.7777777777777778,
              "#fb9f3a"
             ],
             [
              0.8888888888888888,
              "#fdca26"
             ],
             [
              1,
              "#f0f921"
             ]
            ],
            "type": "heatmapgl"
           }
          ],
          "histogram": [
           {
            "marker": {
             "pattern": {
              "fillmode": "overlay",
              "size": 10,
              "solidity": 0.2
             }
            },
            "type": "histogram"
           }
          ],
          "histogram2d": [
           {
            "colorbar": {
             "outlinewidth": 0,
             "ticks": ""
            },
            "colorscale": [
             [
              0,
              "#0d0887"
             ],
             [
              0.1111111111111111,
              "#46039f"
             ],
             [
              0.2222222222222222,
              "#7201a8"
             ],
             [
              0.3333333333333333,
              "#9c179e"
             ],
             [
              0.4444444444444444,
              "#bd3786"
             ],
             [
              0.5555555555555556,
              "#d8576b"
             ],
             [
              0.6666666666666666,
              "#ed7953"
             ],
             [
              0.7777777777777778,
              "#fb9f3a"
             ],
             [
              0.8888888888888888,
              "#fdca26"
             ],
             [
              1,
              "#f0f921"
             ]
            ],
            "type": "histogram2d"
           }
          ],
          "histogram2dcontour": [
           {
            "colorbar": {
             "outlinewidth": 0,
             "ticks": ""
            },
            "colorscale": [
             [
              0,
              "#0d0887"
             ],
             [
              0.1111111111111111,
              "#46039f"
             ],
             [
              0.2222222222222222,
              "#7201a8"
             ],
             [
              0.3333333333333333,
              "#9c179e"
             ],
             [
              0.4444444444444444,
              "#bd3786"
             ],
             [
              0.5555555555555556,
              "#d8576b"
             ],
             [
              0.6666666666666666,
              "#ed7953"
             ],
             [
              0.7777777777777778,
              "#fb9f3a"
             ],
             [
              0.8888888888888888,
              "#fdca26"
             ],
             [
              1,
              "#f0f921"
             ]
            ],
            "type": "histogram2dcontour"
           }
          ],
          "mesh3d": [
           {
            "colorbar": {
             "outlinewidth": 0,
             "ticks": ""
            },
            "type": "mesh3d"
           }
          ],
          "parcoords": [
           {
            "line": {
             "colorbar": {
              "outlinewidth": 0,
              "ticks": ""
             }
            },
            "type": "parcoords"
           }
          ],
          "pie": [
           {
            "automargin": true,
            "type": "pie"
           }
          ],
          "scatter": [
           {
            "fillpattern": {
             "fillmode": "overlay",
             "size": 10,
             "solidity": 0.2
            },
            "type": "scatter"
           }
          ],
          "scatter3d": [
           {
            "line": {
             "colorbar": {
              "outlinewidth": 0,
              "ticks": ""
             }
            },
            "marker": {
             "colorbar": {
              "outlinewidth": 0,
              "ticks": ""
             }
            },
            "type": "scatter3d"
           }
          ],
          "scattercarpet": [
           {
            "marker": {
             "colorbar": {
              "outlinewidth": 0,
              "ticks": ""
             }
            },
            "type": "scattercarpet"
           }
          ],
          "scattergeo": [
           {
            "marker": {
             "colorbar": {
              "outlinewidth": 0,
              "ticks": ""
             }
            },
            "type": "scattergeo"
           }
          ],
          "scattergl": [
           {
            "marker": {
             "colorbar": {
              "outlinewidth": 0,
              "ticks": ""
             }
            },
            "type": "scattergl"
           }
          ],
          "scattermapbox": [
           {
            "marker": {
             "colorbar": {
              "outlinewidth": 0,
              "ticks": ""
             }
            },
            "type": "scattermapbox"
           }
          ],
          "scatterpolar": [
           {
            "marker": {
             "colorbar": {
              "outlinewidth": 0,
              "ticks": ""
             }
            },
            "type": "scatterpolar"
           }
          ],
          "scatterpolargl": [
           {
            "marker": {
             "colorbar": {
              "outlinewidth": 0,
              "ticks": ""
             }
            },
            "type": "scatterpolargl"
           }
          ],
          "scatterternary": [
           {
            "marker": {
             "colorbar": {
              "outlinewidth": 0,
              "ticks": ""
             }
            },
            "type": "scatterternary"
           }
          ],
          "surface": [
           {
            "colorbar": {
             "outlinewidth": 0,
             "ticks": ""
            },
            "colorscale": [
             [
              0,
              "#0d0887"
             ],
             [
              0.1111111111111111,
              "#46039f"
             ],
             [
              0.2222222222222222,
              "#7201a8"
             ],
             [
              0.3333333333333333,
              "#9c179e"
             ],
             [
              0.4444444444444444,
              "#bd3786"
             ],
             [
              0.5555555555555556,
              "#d8576b"
             ],
             [
              0.6666666666666666,
              "#ed7953"
             ],
             [
              0.7777777777777778,
              "#fb9f3a"
             ],
             [
              0.8888888888888888,
              "#fdca26"
             ],
             [
              1,
              "#f0f921"
             ]
            ],
            "type": "surface"
           }
          ],
          "table": [
           {
            "cells": {
             "fill": {
              "color": "#EBF0F8"
             },
             "line": {
              "color": "white"
             }
            },
            "header": {
             "fill": {
              "color": "#C8D4E3"
             },
             "line": {
              "color": "white"
             }
            },
            "type": "table"
           }
          ]
         },
         "layout": {
          "annotationdefaults": {
           "arrowcolor": "#2a3f5f",
           "arrowhead": 0,
           "arrowwidth": 1
          },
          "autotypenumbers": "strict",
          "coloraxis": {
           "colorbar": {
            "outlinewidth": 0,
            "ticks": ""
           }
          },
          "colorscale": {
           "diverging": [
            [
             0,
             "#8e0152"
            ],
            [
             0.1,
             "#c51b7d"
            ],
            [
             0.2,
             "#de77ae"
            ],
            [
             0.3,
             "#f1b6da"
            ],
            [
             0.4,
             "#fde0ef"
            ],
            [
             0.5,
             "#f7f7f7"
            ],
            [
             0.6,
             "#e6f5d0"
            ],
            [
             0.7,
             "#b8e186"
            ],
            [
             0.8,
             "#7fbc41"
            ],
            [
             0.9,
             "#4d9221"
            ],
            [
             1,
             "#276419"
            ]
           ],
           "sequential": [
            [
             0,
             "#0d0887"
            ],
            [
             0.1111111111111111,
             "#46039f"
            ],
            [
             0.2222222222222222,
             "#7201a8"
            ],
            [
             0.3333333333333333,
             "#9c179e"
            ],
            [
             0.4444444444444444,
             "#bd3786"
            ],
            [
             0.5555555555555556,
             "#d8576b"
            ],
            [
             0.6666666666666666,
             "#ed7953"
            ],
            [
             0.7777777777777778,
             "#fb9f3a"
            ],
            [
             0.8888888888888888,
             "#fdca26"
            ],
            [
             1,
             "#f0f921"
            ]
           ],
           "sequentialminus": [
            [
             0,
             "#0d0887"
            ],
            [
             0.1111111111111111,
             "#46039f"
            ],
            [
             0.2222222222222222,
             "#7201a8"
            ],
            [
             0.3333333333333333,
             "#9c179e"
            ],
            [
             0.4444444444444444,
             "#bd3786"
            ],
            [
             0.5555555555555556,
             "#d8576b"
            ],
            [
             0.6666666666666666,
             "#ed7953"
            ],
            [
             0.7777777777777778,
             "#fb9f3a"
            ],
            [
             0.8888888888888888,
             "#fdca26"
            ],
            [
             1,
             "#f0f921"
            ]
           ]
          },
          "colorway": [
           "#636efa",
           "#EF553B",
           "#00cc96",
           "#ab63fa",
           "#FFA15A",
           "#19d3f3",
           "#FF6692",
           "#B6E880",
           "#FF97FF",
           "#FECB52"
          ],
          "font": {
           "color": "#2a3f5f"
          },
          "geo": {
           "bgcolor": "white",
           "lakecolor": "white",
           "landcolor": "white",
           "showlakes": true,
           "showland": true,
           "subunitcolor": "#C8D4E3"
          },
          "hoverlabel": {
           "align": "left"
          },
          "hovermode": "closest",
          "mapbox": {
           "style": "light"
          },
          "paper_bgcolor": "white",
          "plot_bgcolor": "white",
          "polar": {
           "angularaxis": {
            "gridcolor": "#EBF0F8",
            "linecolor": "#EBF0F8",
            "ticks": ""
           },
           "bgcolor": "white",
           "radialaxis": {
            "gridcolor": "#EBF0F8",
            "linecolor": "#EBF0F8",
            "ticks": ""
           }
          },
          "scene": {
           "xaxis": {
            "backgroundcolor": "white",
            "gridcolor": "#DFE8F3",
            "gridwidth": 2,
            "linecolor": "#EBF0F8",
            "showbackground": true,
            "ticks": "",
            "zerolinecolor": "#EBF0F8"
           },
           "yaxis": {
            "backgroundcolor": "white",
            "gridcolor": "#DFE8F3",
            "gridwidth": 2,
            "linecolor": "#EBF0F8",
            "showbackground": true,
            "ticks": "",
            "zerolinecolor": "#EBF0F8"
           },
           "zaxis": {
            "backgroundcolor": "white",
            "gridcolor": "#DFE8F3",
            "gridwidth": 2,
            "linecolor": "#EBF0F8",
            "showbackground": true,
            "ticks": "",
            "zerolinecolor": "#EBF0F8"
           }
          },
          "shapedefaults": {
           "line": {
            "color": "#2a3f5f"
           }
          },
          "ternary": {
           "aaxis": {
            "gridcolor": "#DFE8F3",
            "linecolor": "#A2B1C6",
            "ticks": ""
           },
           "baxis": {
            "gridcolor": "#DFE8F3",
            "linecolor": "#A2B1C6",
            "ticks": ""
           },
           "bgcolor": "white",
           "caxis": {
            "gridcolor": "#DFE8F3",
            "linecolor": "#A2B1C6",
            "ticks": ""
           }
          },
          "title": {
           "x": 0.05
          },
          "xaxis": {
           "automargin": true,
           "gridcolor": "#EBF0F8",
           "linecolor": "#EBF0F8",
           "ticks": "",
           "title": {
            "standoff": 15
           },
           "zerolinecolor": "#EBF0F8",
           "zerolinewidth": 2
          },
          "yaxis": {
           "automargin": true,
           "gridcolor": "#EBF0F8",
           "linecolor": "#EBF0F8",
           "ticks": "",
           "title": {
            "standoff": 15
           },
           "zerolinecolor": "#EBF0F8",
           "zerolinewidth": 2
          }
         }
        },
        "title": {
         "font": {
          "size": 20
         },
         "text": "Distribution of MSE in the dataset",
         "x": 0.5,
         "xanchor": "center",
         "yanchor": "top"
        },
        "width": 900,
        "xaxis": {
         "anchor": "y",
         "domain": [
          0,
          1
         ],
         "range": [
          0,
          0.3
         ],
         "title": {
          "font": {
           "size": 12
          },
          "text": "MSE"
         }
        },
        "xaxis2": {
         "anchor": "y2",
         "domain": [
          0,
          1
         ],
         "matches": "x",
         "showgrid": true,
         "showticklabels": false
        },
        "yaxis": {
         "anchor": "x",
         "domain": [
          0,
          0.7326
         ],
         "title": {
          "font": {
           "size": 12
          },
          "text": "Probability Density"
         }
        },
        "yaxis2": {
         "anchor": "x2",
         "domain": [
          0.7426,
          1
         ],
         "matches": "y2",
         "showgrid": false,
         "showline": false,
         "showticklabels": false,
         "ticks": ""
        }
       }
      }
     },
     "metadata": {},
     "output_type": "display_data"
    }
   ],
   "source": [
    "fig = px.histogram(metrics_df, \n",
    "                   x=\"MSE\", \n",
    "                   color=\"Algorithm\",\n",
    "                   pattern_shape=\"Algorithm\", \n",
    "                   marginal=\"box\", \n",
    "                   nbins=500, \n",
    "                   barmode=\"overlay\",\n",
    "                   histnorm=\"probability density\")\n",
    "fig = format_plot(fig, xlabel=\"MSE\", ylabel=\"Probability Density\", title=\"Distribution of MSE in the dataset\")\n",
    "fig.update_layout(xaxis_range=[0,0.3])\n",
    "# fig.write_image(\"imgs/chapter_8/mse_dist.png\")\n",
    "fig.show()"
   ]
  },
  {
   "cell_type": "code",
   "execution_count": 24,
   "id": "2695707d-1e83-4289-9aea-859bbf83586c",
   "metadata": {},
   "outputs": [
    {
     "data": {
      "application/vnd.plotly.v1+json": {
       "config": {
        "plotlyServerURL": "https://plot.ly"
       },
       "data": [
        {
         "alignmentgroup": "True",
         "bingroup": "x",
         "histnorm": "probability density",
         "hovertemplate": "Algorithm=Lasso Regression<br>Forecast Bias=%{x}<br>probability density=%{y}<extra></extra>",
         "legendgroup": "Lasso Regression",
         "marker": {
          "color": "#636efa",
          "opacity": 0.5,
          "pattern": {
           "shape": ""
          }
         },
         "name": "Lasso Regression",
         "nbinsx": 250,
         "offsetgroup": "Lasso Regression",
         "orientation": "v",
         "showlegend": true,
         "type": "histogram",
         "x": [
          0.9856813041552981,
          -0.10070738657886891,
          -5.224840947032163,
          1.3944707565331727,
          -2.444645636994553,
          0.43914237143332585,
          -0.8434035500723464,
          1.743088452141299,
          2.084130682658149,
          -3.364697599345981,
          -2.774733321916177,
          0.08866298457311188,
          -2.3113132665743463,
          1.3526680264475621,
          0.9936115318209121,
          -1.1117474376121763,
          1.5404076477671402,
          0.28518198889823365,
          -0.9104429665180022,
          -4.343551213491301,
          0.20556120221976842,
          3.918560624897977,
          -0.7502374473073192,
          -1.4406789029581362,
          -1.5481259186954637,
          -0.26079026021224666,
          1.2739209176413586,
          2.366658164627096,
          -1.5246846760519719,
          3.1387163463627514,
          -2.023649056504408,
          0.8066230196607534,
          0.6839310019544892,
          3.2252264669775106,
          -2.5423522494528514,
          0.1919384110312501,
          0.82813560216938,
          -0.583499220895366,
          -2.4678151296033417,
          -2.7201845428293363,
          1.0219790294747,
          3.089910326756296,
          -0.5814076113232794,
          0.49622090050134154,
          -4.9559343535327836,
          -1.1995000139045522,
          -0.6080477131673936,
          -2.404628963792157,
          -3.0040270751087257,
          7.571356070278274,
          -5.747122980191167,
          -1.5092036782747196,
          -0.21150791831515686,
          -1.0941240875229712,
          -0.03741949197985253,
          -19.78788260449659,
          1.6799230363399995,
          -0.7562870579555033,
          -1.543356350406772,
          0.9087885144241643,
          -0.20644688093676747,
          -2.133829206039911,
          -13.454952198692311,
          0.4371101915109421,
          -1.0499352595631177,
          2.1088013286712504,
          -3.6803974226520646,
          -0.05950531467889947,
          0.2113412458273604,
          -0.2339072049990019,
          -10.673704211861192,
          -1.3884792022398302,
          -14.885990261811708,
          0.516246890201748,
          1.349235388535405,
          -5.910105989857614,
          -1.4218140273364666,
          -1.2692095690224976,
          -0.552326919670534,
          -1.9088045320264722,
          8.845591157948398,
          3.4333934170605644,
          -5.573399566635571,
          -1.5421342018844744,
          3.4431749546933057,
          -2.332429764474852,
          1.33238253370503,
          4.050735862567023,
          0.615254460033303,
          -1.5795197931302425,
          -0.7011638013743855,
          0.430739241616087,
          2.689949005019747,
          0.6027781917427403,
          -0.8208564820920676,
          -2.082110901557801,
          -2.427457697790218,
          2.521697524301538,
          -2.594435743996424,
          1.6093338399031167,
          0.13491934919343387,
          0.11574578654964289,
          -1.3049025370937624,
          -5.0014797717539,
          -2.8627151026876163,
          -3.4575715447263913,
          0.16743463099024167,
          -1.5829876871531305,
          -2.487145123532471,
          -0.6211529134366253,
          -3.075665007054565,
          3.0059501408610823,
          -2.9050600898770536,
          -1.2809840571885764,
          -0.5513849614625892,
          -2.6624766242534896,
          -2.8854651937051883,
          -2.2199034283312735,
          1.0542206464786839,
          -13.648146124964757,
          -15.061695173621844,
          3.8983605408875626,
          -2.8957690211733595,
          -1.746121193208408,
          -0.5360473392153225,
          2.482431273349139,
          -1.1203982986696641,
          5.772484878027611,
          1.124262621240452,
          -0.45454796421363786,
          2.229277753976157,
          -2.0106732219573833,
          1.6645088921543736,
          -1.0792258161672919,
          -0.4812173712452443,
          -22.93763490217801,
          -0.526816966212581,
          -7.041587973493785,
          -2.3401812442266654,
          -0.9136133531127781,
          -2.762582401599747,
          -1.022524337485149,
          -4.483705589472843,
          -2.749279286131207,
          -3.402716550508332,
          -2.0383801005224695,
          -4.640213264344735,
          1.1139953444552786,
          -1.984198918800498,
          3.4584140117428794
         ],
         "xaxis": "x",
         "yaxis": "y"
        },
        {
         "alignmentgroup": "True",
         "hovertemplate": "Algorithm=Lasso Regression<br>Forecast Bias=%{x}<extra></extra>",
         "legendgroup": "Lasso Regression",
         "marker": {
          "color": "#636efa"
         },
         "name": "Lasso Regression",
         "notched": true,
         "offsetgroup": "Lasso Regression",
         "showlegend": false,
         "type": "box",
         "x": [
          0.9856813041552981,
          -0.10070738657886891,
          -5.224840947032163,
          1.3944707565331727,
          -2.444645636994553,
          0.43914237143332585,
          -0.8434035500723464,
          1.743088452141299,
          2.084130682658149,
          -3.364697599345981,
          -2.774733321916177,
          0.08866298457311188,
          -2.3113132665743463,
          1.3526680264475621,
          0.9936115318209121,
          -1.1117474376121763,
          1.5404076477671402,
          0.28518198889823365,
          -0.9104429665180022,
          -4.343551213491301,
          0.20556120221976842,
          3.918560624897977,
          -0.7502374473073192,
          -1.4406789029581362,
          -1.5481259186954637,
          -0.26079026021224666,
          1.2739209176413586,
          2.366658164627096,
          -1.5246846760519719,
          3.1387163463627514,
          -2.023649056504408,
          0.8066230196607534,
          0.6839310019544892,
          3.2252264669775106,
          -2.5423522494528514,
          0.1919384110312501,
          0.82813560216938,
          -0.583499220895366,
          -2.4678151296033417,
          -2.7201845428293363,
          1.0219790294747,
          3.089910326756296,
          -0.5814076113232794,
          0.49622090050134154,
          -4.9559343535327836,
          -1.1995000139045522,
          -0.6080477131673936,
          -2.404628963792157,
          -3.0040270751087257,
          7.571356070278274,
          -5.747122980191167,
          -1.5092036782747196,
          -0.21150791831515686,
          -1.0941240875229712,
          -0.03741949197985253,
          -19.78788260449659,
          1.6799230363399995,
          -0.7562870579555033,
          -1.543356350406772,
          0.9087885144241643,
          -0.20644688093676747,
          -2.133829206039911,
          -13.454952198692311,
          0.4371101915109421,
          -1.0499352595631177,
          2.1088013286712504,
          -3.6803974226520646,
          -0.05950531467889947,
          0.2113412458273604,
          -0.2339072049990019,
          -10.673704211861192,
          -1.3884792022398302,
          -14.885990261811708,
          0.516246890201748,
          1.349235388535405,
          -5.910105989857614,
          -1.4218140273364666,
          -1.2692095690224976,
          -0.552326919670534,
          -1.9088045320264722,
          8.845591157948398,
          3.4333934170605644,
          -5.573399566635571,
          -1.5421342018844744,
          3.4431749546933057,
          -2.332429764474852,
          1.33238253370503,
          4.050735862567023,
          0.615254460033303,
          -1.5795197931302425,
          -0.7011638013743855,
          0.430739241616087,
          2.689949005019747,
          0.6027781917427403,
          -0.8208564820920676,
          -2.082110901557801,
          -2.427457697790218,
          2.521697524301538,
          -2.594435743996424,
          1.6093338399031167,
          0.13491934919343387,
          0.11574578654964289,
          -1.3049025370937624,
          -5.0014797717539,
          -2.8627151026876163,
          -3.4575715447263913,
          0.16743463099024167,
          -1.5829876871531305,
          -2.487145123532471,
          -0.6211529134366253,
          -3.075665007054565,
          3.0059501408610823,
          -2.9050600898770536,
          -1.2809840571885764,
          -0.5513849614625892,
          -2.6624766242534896,
          -2.8854651937051883,
          -2.2199034283312735,
          1.0542206464786839,
          -13.648146124964757,
          -15.061695173621844,
          3.8983605408875626,
          -2.8957690211733595,
          -1.746121193208408,
          -0.5360473392153225,
          2.482431273349139,
          -1.1203982986696641,
          5.772484878027611,
          1.124262621240452,
          -0.45454796421363786,
          2.229277753976157,
          -2.0106732219573833,
          1.6645088921543736,
          -1.0792258161672919,
          -0.4812173712452443,
          -22.93763490217801,
          -0.526816966212581,
          -7.041587973493785,
          -2.3401812442266654,
          -0.9136133531127781,
          -2.762582401599747,
          -1.022524337485149,
          -4.483705589472843,
          -2.749279286131207,
          -3.402716550508332,
          -2.0383801005224695,
          -4.640213264344735,
          1.1139953444552786,
          -1.984198918800498,
          3.4584140117428794
         ],
         "xaxis": "x2",
         "yaxis": "y2"
        },
        {
         "alignmentgroup": "True",
         "bingroup": "x",
         "histnorm": "probability density",
         "hovertemplate": "Algorithm=XGB Random Forest<br>Forecast Bias=%{x}<br>probability density=%{y}<extra></extra>",
         "legendgroup": "XGB Random Forest",
         "marker": {
          "color": "#EF553B",
          "opacity": 0.5,
          "pattern": {
           "shape": "/"
          }
         },
         "name": "XGB Random Forest",
         "nbinsx": 250,
         "offsetgroup": "XGB Random Forest",
         "orientation": "v",
         "showlegend": true,
         "type": "histogram",
         "x": [
          0.4039212130010128,
          3.073401004076004,
          -3.515678644180298,
          9.686045348644257,
          -7.478485256433487,
          -1.8955070525407791,
          0.1357799512334168,
          -1.6024481505155563,
          8.882676810026169,
          -4.7317542135715485,
          0.4615290090441704,
          -2.8626741841435432,
          -1.9288072362542152,
          17.579585313796997,
          6.223118677735329,
          -2.425200678408146,
          2.8039876371622086,
          2.2772790864109993,
          -1.7119904980063438,
          -2.848072350025177,
          -0.6083790678530931,
          2.3209115490317345,
          4.527109116315842,
          -2.0090121775865555,
          -1.7144620418548584,
          -0.6900922395288944,
          4.735662043094635,
          4.198531061410904,
          3.4161806106567383,
          1.2839850038290024,
          -0.3070646431297064,
          -8.887717127799988,
          2.496633306145668,
          -16.637317836284637,
          -0.7427961565554142,
          0.33544874750077724,
          -1.3356243260204792,
          -23.013998568058014,
          -0.0678790733218193,
          -2.2787902504205704,
          4.654800519347191,
          1.0144399479031563,
          -4.56085279583931,
          1.6085462644696236,
          26.018795371055603,
          4.414819926023483,
          -0.8586681447923183,
          -8.445508033037186,
          -3.579523414373398,
          -3.7427686154842377,
          -3.5911094397306442,
          -1.3785796239972115,
          6.0007113963365555,
          -0.30867753084748983,
          0.11103455908596516,
          -13.5014608502388,
          0.4880450665950775,
          0.23499266244471073,
          0.794601533561945,
          0.5331202410161495,
          0.19665306899696589,
          -2.025861106812954,
          -17.028333246707916,
          -0.28400474693626165,
          4.8422664403915405,
          2.3059308528900146,
          -2.7662351727485657,
          -0.7056820206344128,
          -3.020959347486496,
          0.40729776956140995,
          -8.684032410383224,
          -4.386662319302559,
          -19.999690353870392,
          1.2590788304805756,
          2.910100482404232,
          -1.5309540554881096,
          0.9097984060645103,
          1.9443858414888382,
          -3.4919623285531998,
          -1.7542853951454163,
          1.9372684881091118,
          -1.9398495554924011,
          -4.000789299607277,
          0.2488086000084877,
          3.0127352103590965,
          -1.2170080095529556,
          1.9918235018849373,
          0.5158818792551756,
          -1.1624256148934364,
          -2.3486046120524406,
          -2.579711005091667,
          -0.8182854391634464,
          3.5884596407413483,
          2.443571761250496,
          0.39388276636600494,
          -2.617795020341873,
          0.29066100250929594,
          -9.10799577832222,
          3.250206634402275,
          1.6973275691270828,
          -0.19244945142418146,
          -1.0296167805790901,
          2.1681776270270348,
          -1.3994437642395496,
          -0.18116672290489078,
          0.6662108469754457,
          -2.4286573752760887,
          -1.1156375519931316,
          0.2189431805163622,
          1.8019374459981918,
          -0.7167066913098097,
          2.343372628092766,
          -0.954966526478529,
          4.492393136024475,
          -3.1028246507048607,
          -0.13064502272754908,
          -3.837738186120987,
          0.35693265963345766,
          2.4775180965662003,
          -12.703646719455719,
          -27.857694029808044,
          2.756597101688385,
          -1.055049803107977,
          7.581713795661926,
          0.4895945079624653,
          4.513128474354744,
          0.5750862415879965,
          7.756318151950836,
          6.30570724606514,
          2.406775578856468,
          2.593872509896755,
          1.0325941257178783,
          7.030099630355835,
          1.0888504795730114,
          1.7942890524864197,
          -82.84199833869934,
          0.2436398295685649,
          -2.710944041609764,
          -8.376891911029816,
          -1.3546304777264595,
          4.0477219969034195,
          2.0791834220290184,
          -4.113633930683136,
          -3.819524496793747,
          0.48860153183341026,
          -0.4571871366351843,
          -1.1635377071797848,
          -1.1324497871100903,
          6.342057138681412,
          3.3011462539434433
         ],
         "xaxis": "x",
         "yaxis": "y"
        },
        {
         "alignmentgroup": "True",
         "hovertemplate": "Algorithm=XGB Random Forest<br>Forecast Bias=%{x}<extra></extra>",
         "legendgroup": "XGB Random Forest",
         "marker": {
          "color": "#EF553B"
         },
         "name": "XGB Random Forest",
         "notched": true,
         "offsetgroup": "XGB Random Forest",
         "showlegend": false,
         "type": "box",
         "x": [
          0.4039212130010128,
          3.073401004076004,
          -3.515678644180298,
          9.686045348644257,
          -7.478485256433487,
          -1.8955070525407791,
          0.1357799512334168,
          -1.6024481505155563,
          8.882676810026169,
          -4.7317542135715485,
          0.4615290090441704,
          -2.8626741841435432,
          -1.9288072362542152,
          17.579585313796997,
          6.223118677735329,
          -2.425200678408146,
          2.8039876371622086,
          2.2772790864109993,
          -1.7119904980063438,
          -2.848072350025177,
          -0.6083790678530931,
          2.3209115490317345,
          4.527109116315842,
          -2.0090121775865555,
          -1.7144620418548584,
          -0.6900922395288944,
          4.735662043094635,
          4.198531061410904,
          3.4161806106567383,
          1.2839850038290024,
          -0.3070646431297064,
          -8.887717127799988,
          2.496633306145668,
          -16.637317836284637,
          -0.7427961565554142,
          0.33544874750077724,
          -1.3356243260204792,
          -23.013998568058014,
          -0.0678790733218193,
          -2.2787902504205704,
          4.654800519347191,
          1.0144399479031563,
          -4.56085279583931,
          1.6085462644696236,
          26.018795371055603,
          4.414819926023483,
          -0.8586681447923183,
          -8.445508033037186,
          -3.579523414373398,
          -3.7427686154842377,
          -3.5911094397306442,
          -1.3785796239972115,
          6.0007113963365555,
          -0.30867753084748983,
          0.11103455908596516,
          -13.5014608502388,
          0.4880450665950775,
          0.23499266244471073,
          0.794601533561945,
          0.5331202410161495,
          0.19665306899696589,
          -2.025861106812954,
          -17.028333246707916,
          -0.28400474693626165,
          4.8422664403915405,
          2.3059308528900146,
          -2.7662351727485657,
          -0.7056820206344128,
          -3.020959347486496,
          0.40729776956140995,
          -8.684032410383224,
          -4.386662319302559,
          -19.999690353870392,
          1.2590788304805756,
          2.910100482404232,
          -1.5309540554881096,
          0.9097984060645103,
          1.9443858414888382,
          -3.4919623285531998,
          -1.7542853951454163,
          1.9372684881091118,
          -1.9398495554924011,
          -4.000789299607277,
          0.2488086000084877,
          3.0127352103590965,
          -1.2170080095529556,
          1.9918235018849373,
          0.5158818792551756,
          -1.1624256148934364,
          -2.3486046120524406,
          -2.579711005091667,
          -0.8182854391634464,
          3.5884596407413483,
          2.443571761250496,
          0.39388276636600494,
          -2.617795020341873,
          0.29066100250929594,
          -9.10799577832222,
          3.250206634402275,
          1.6973275691270828,
          -0.19244945142418146,
          -1.0296167805790901,
          2.1681776270270348,
          -1.3994437642395496,
          -0.18116672290489078,
          0.6662108469754457,
          -2.4286573752760887,
          -1.1156375519931316,
          0.2189431805163622,
          1.8019374459981918,
          -0.7167066913098097,
          2.343372628092766,
          -0.954966526478529,
          4.492393136024475,
          -3.1028246507048607,
          -0.13064502272754908,
          -3.837738186120987,
          0.35693265963345766,
          2.4775180965662003,
          -12.703646719455719,
          -27.857694029808044,
          2.756597101688385,
          -1.055049803107977,
          7.581713795661926,
          0.4895945079624653,
          4.513128474354744,
          0.5750862415879965,
          7.756318151950836,
          6.30570724606514,
          2.406775578856468,
          2.593872509896755,
          1.0325941257178783,
          7.030099630355835,
          1.0888504795730114,
          1.7942890524864197,
          -82.84199833869934,
          0.2436398295685649,
          -2.710944041609764,
          -8.376891911029816,
          -1.3546304777264595,
          4.0477219969034195,
          2.0791834220290184,
          -4.113633930683136,
          -3.819524496793747,
          0.48860153183341026,
          -0.4571871366351843,
          -1.1635377071797848,
          -1.1324497871100903,
          6.342057138681412,
          3.3011462539434433
         ],
         "xaxis": "x2",
         "yaxis": "y2"
        },
        {
         "alignmentgroup": "True",
         "bingroup": "x",
         "histnorm": "probability density",
         "hovertemplate": "Algorithm=LightGBM<br>Forecast Bias=%{x}<br>probability density=%{y}<extra></extra>",
         "legendgroup": "LightGBM",
         "marker": {
          "color": "#00cc96",
          "opacity": 0.5,
          "pattern": {
           "shape": "\\"
          }
         },
         "name": "LightGBM",
         "nbinsx": 250,
         "offsetgroup": "LightGBM",
         "orientation": "v",
         "showlegend": true,
         "type": "histogram",
         "x": [
          2.1683868296424906,
          -3.93569406351172,
          -3.772608769963047,
          7.102241133192014,
          -5.9732857988143016,
          -0.13727618989196197,
          -6.335027636737934,
          -2.771170625456515,
          2.2021971092939796,
          -1.3375994180790325,
          -1.5834447334556208,
          -3.5017402285478934,
          -2.860967595723711,
          9.66413312213399,
          1.4307615176365434,
          -4.4517424758387145,
          -11.287865364096518,
          -1.870656144296632,
          -2.313427719589341,
          -3.4691901023653466,
          2.6755748426061743,
          -5.427275355236174,
          0.08466413442525834,
          -4.515495633967389,
          -0.572586459929388,
          -0.5128380768230506,
          0.5611490737124588,
          1.5086997095698755,
          -0.6388044991664706,
          2.8897280557911738,
          -3.5111866187436753,
          -0.10530402798869642,
          0.8059411252372741,
          -4.002834470367363,
          -0.38012678429934765,
          0.000415044846568748,
          0.532996416976742,
          -2.604016240540237,
          -6.291078327825899,
          -3.9561018182028405,
          4.085703707759805,
          -5.7069729854375355,
          0.0006643081744446708,
          -2.756063984662993,
          0.918875614949817,
          -8.836189839570336,
          -3.2628836583135667,
          -4.2314333402964,
          -6.704648983883567,
          -0.8798926294809547,
          -5.791263953266864,
          -0.9113968060692399,
          0.5340220157821994,
          -3.525976276175412,
          0.0039605286433216525,
          -91.71928061091492,
          0.08671624025059353,
          -1.2130787524873918,
          -2.533283194764237,
          -2.7394406139179472,
          -0.6136580517990675,
          -6.990126260228171,
          -15.292489103156854,
          -1.7559030040390216,
          -0.8221293085551921,
          -2.559140304224755,
          -2.4417272085602533,
          -2.869147747475031,
          -1.4841919299641884,
          -5.432642126094546,
          -6.629484720715431,
          -1.696386021242024,
          -17.822528067064276,
          -1.704706416682421,
          1.2989050113428318,
          -2.211739436854728,
          -7.27671276846248,
          -1.7003975476933129,
          -6.055402964365418,
          1.5047396097118866,
          1.1978095517251843,
          -0.13970941185255173,
          -9.832849632123152,
          -14.346674766752207,
          -5.908811513085181,
          -0.6826446998361992,
          0.6397470038508185,
          0.2733534502058961,
          -0.44687984762111826,
          -2.542227714068247,
          -6.917540834691073,
          3.8960862885531897,
          1.8444332440447624,
          -0.5556767640473056,
          -3.436638907610448,
          -5.201584050596077,
          -13.186301070541095,
          -2.0972842323760026,
          -4.7645304144819995,
          1.1031425537227713,
          0.1257208890568303,
          -5.822737655828736,
          -1.38804520550874,
          -3.5930696211355597,
          -4.6858350562151445,
          -3.9432743138685886,
          -1.6307681142665058,
          -0.011359231411061196,
          -2.591016770848154,
          -3.983723299164094,
          -5.998422989490193,
          -4.341935842490244,
          1.4472091803638327,
          -1.8871660152948924,
          -1.8203547668511961,
          -1.661412021898067,
          -2.4555530473788423,
          0.029251615578464618,
          -0.12851643276224986,
          -16.252925486366863,
          -2.3833155376451267,
          -0.36205511906110144,
          -1.5614802598078779,
          -9.238483202978449,
          -4.4130932332011374,
          -0.7546219064295572,
          -0.8564148189668419,
          -0.06967352842883338,
          -0.23692830816182472,
          -2.175423947391296,
          0.13566094998316922,
          -1.8373238312659412,
          -1.2384236306125445,
          -0.5170341737086837,
          -1.3992661892028417,
          -81.82996367928025,
          0.464929141013234,
          -6.312436108503968,
          -17.591419879927447,
          -3.537606934492221,
          -1.7284521966420072,
          -5.71399525151155,
          -4.582930703063588,
          -1.48597039323416,
          -8.989698267954013,
          -1.0974865129099598,
          -2.1677211563537173,
          -0.9628859871217645,
          -3.7831084318543247,
          0.720633683858344
         ],
         "xaxis": "x",
         "yaxis": "y"
        },
        {
         "alignmentgroup": "True",
         "hovertemplate": "Algorithm=LightGBM<br>Forecast Bias=%{x}<extra></extra>",
         "legendgroup": "LightGBM",
         "marker": {
          "color": "#00cc96"
         },
         "name": "LightGBM",
         "notched": true,
         "offsetgroup": "LightGBM",
         "showlegend": false,
         "type": "box",
         "x": [
          2.1683868296424906,
          -3.93569406351172,
          -3.772608769963047,
          7.102241133192014,
          -5.9732857988143016,
          -0.13727618989196197,
          -6.335027636737934,
          -2.771170625456515,
          2.2021971092939796,
          -1.3375994180790325,
          -1.5834447334556208,
          -3.5017402285478934,
          -2.860967595723711,
          9.66413312213399,
          1.4307615176365434,
          -4.4517424758387145,
          -11.287865364096518,
          -1.870656144296632,
          -2.313427719589341,
          -3.4691901023653466,
          2.6755748426061743,
          -5.427275355236174,
          0.08466413442525834,
          -4.515495633967389,
          -0.572586459929388,
          -0.5128380768230506,
          0.5611490737124588,
          1.5086997095698755,
          -0.6388044991664706,
          2.8897280557911738,
          -3.5111866187436753,
          -0.10530402798869642,
          0.8059411252372741,
          -4.002834470367363,
          -0.38012678429934765,
          0.000415044846568748,
          0.532996416976742,
          -2.604016240540237,
          -6.291078327825899,
          -3.9561018182028405,
          4.085703707759805,
          -5.7069729854375355,
          0.0006643081744446708,
          -2.756063984662993,
          0.918875614949817,
          -8.836189839570336,
          -3.2628836583135667,
          -4.2314333402964,
          -6.704648983883567,
          -0.8798926294809547,
          -5.791263953266864,
          -0.9113968060692399,
          0.5340220157821994,
          -3.525976276175412,
          0.0039605286433216525,
          -91.71928061091492,
          0.08671624025059353,
          -1.2130787524873918,
          -2.533283194764237,
          -2.7394406139179472,
          -0.6136580517990675,
          -6.990126260228171,
          -15.292489103156854,
          -1.7559030040390216,
          -0.8221293085551921,
          -2.559140304224755,
          -2.4417272085602533,
          -2.869147747475031,
          -1.4841919299641884,
          -5.432642126094546,
          -6.629484720715431,
          -1.696386021242024,
          -17.822528067064276,
          -1.704706416682421,
          1.2989050113428318,
          -2.211739436854728,
          -7.27671276846248,
          -1.7003975476933129,
          -6.055402964365418,
          1.5047396097118866,
          1.1978095517251843,
          -0.13970941185255173,
          -9.832849632123152,
          -14.346674766752207,
          -5.908811513085181,
          -0.6826446998361992,
          0.6397470038508185,
          0.2733534502058961,
          -0.44687984762111826,
          -2.542227714068247,
          -6.917540834691073,
          3.8960862885531897,
          1.8444332440447624,
          -0.5556767640473056,
          -3.436638907610448,
          -5.201584050596077,
          -13.186301070541095,
          -2.0972842323760026,
          -4.7645304144819995,
          1.1031425537227713,
          0.1257208890568303,
          -5.822737655828736,
          -1.38804520550874,
          -3.5930696211355597,
          -4.6858350562151445,
          -3.9432743138685886,
          -1.6307681142665058,
          -0.011359231411061196,
          -2.591016770848154,
          -3.983723299164094,
          -5.998422989490193,
          -4.341935842490244,
          1.4472091803638327,
          -1.8871660152948924,
          -1.8203547668511961,
          -1.661412021898067,
          -2.4555530473788423,
          0.029251615578464618,
          -0.12851643276224986,
          -16.252925486366863,
          -2.3833155376451267,
          -0.36205511906110144,
          -1.5614802598078779,
          -9.238483202978449,
          -4.4130932332011374,
          -0.7546219064295572,
          -0.8564148189668419,
          -0.06967352842883338,
          -0.23692830816182472,
          -2.175423947391296,
          0.13566094998316922,
          -1.8373238312659412,
          -1.2384236306125445,
          -0.5170341737086837,
          -1.3992661892028417,
          -81.82996367928025,
          0.464929141013234,
          -6.312436108503968,
          -17.591419879927447,
          -3.537606934492221,
          -1.7284521966420072,
          -5.71399525151155,
          -4.582930703063588,
          -1.48597039323416,
          -8.989698267954013,
          -1.0974865129099598,
          -2.1677211563537173,
          -0.9628859871217645,
          -3.7831084318543247,
          0.720633683858344
         ],
         "xaxis": "x2",
         "yaxis": "y2"
        }
       ],
       "layout": {
        "autosize": false,
        "barmode": "overlay",
        "height": 500,
        "legend": {
         "title": {},
         "tracegroupgap": 0
        },
        "margin": {
         "t": 60
        },
        "template": {
         "data": {
          "bar": [
           {
            "error_x": {
             "color": "#2a3f5f"
            },
            "error_y": {
             "color": "#2a3f5f"
            },
            "marker": {
             "line": {
              "color": "white",
              "width": 0.5
             },
             "pattern": {
              "fillmode": "overlay",
              "size": 10,
              "solidity": 0.2
             }
            },
            "type": "bar"
           }
          ],
          "barpolar": [
           {
            "marker": {
             "line": {
              "color": "white",
              "width": 0.5
             },
             "pattern": {
              "fillmode": "overlay",
              "size": 10,
              "solidity": 0.2
             }
            },
            "type": "barpolar"
           }
          ],
          "carpet": [
           {
            "aaxis": {
             "endlinecolor": "#2a3f5f",
             "gridcolor": "#C8D4E3",
             "linecolor": "#C8D4E3",
             "minorgridcolor": "#C8D4E3",
             "startlinecolor": "#2a3f5f"
            },
            "baxis": {
             "endlinecolor": "#2a3f5f",
             "gridcolor": "#C8D4E3",
             "linecolor": "#C8D4E3",
             "minorgridcolor": "#C8D4E3",
             "startlinecolor": "#2a3f5f"
            },
            "type": "carpet"
           }
          ],
          "choropleth": [
           {
            "colorbar": {
             "outlinewidth": 0,
             "ticks": ""
            },
            "type": "choropleth"
           }
          ],
          "contour": [
           {
            "colorbar": {
             "outlinewidth": 0,
             "ticks": ""
            },
            "colorscale": [
             [
              0,
              "#0d0887"
             ],
             [
              0.1111111111111111,
              "#46039f"
             ],
             [
              0.2222222222222222,
              "#7201a8"
             ],
             [
              0.3333333333333333,
              "#9c179e"
             ],
             [
              0.4444444444444444,
              "#bd3786"
             ],
             [
              0.5555555555555556,
              "#d8576b"
             ],
             [
              0.6666666666666666,
              "#ed7953"
             ],
             [
              0.7777777777777778,
              "#fb9f3a"
             ],
             [
              0.8888888888888888,
              "#fdca26"
             ],
             [
              1,
              "#f0f921"
             ]
            ],
            "type": "contour"
           }
          ],
          "contourcarpet": [
           {
            "colorbar": {
             "outlinewidth": 0,
             "ticks": ""
            },
            "type": "contourcarpet"
           }
          ],
          "heatmap": [
           {
            "colorbar": {
             "outlinewidth": 0,
             "ticks": ""
            },
            "colorscale": [
             [
              0,
              "#0d0887"
             ],
             [
              0.1111111111111111,
              "#46039f"
             ],
             [
              0.2222222222222222,
              "#7201a8"
             ],
             [
              0.3333333333333333,
              "#9c179e"
             ],
             [
              0.4444444444444444,
              "#bd3786"
             ],
             [
              0.5555555555555556,
              "#d8576b"
             ],
             [
              0.6666666666666666,
              "#ed7953"
             ],
             [
              0.7777777777777778,
              "#fb9f3a"
             ],
             [
              0.8888888888888888,
              "#fdca26"
             ],
             [
              1,
              "#f0f921"
             ]
            ],
            "type": "heatmap"
           }
          ],
          "heatmapgl": [
           {
            "colorbar": {
             "outlinewidth": 0,
             "ticks": ""
            },
            "colorscale": [
             [
              0,
              "#0d0887"
             ],
             [
              0.1111111111111111,
              "#46039f"
             ],
             [
              0.2222222222222222,
              "#7201a8"
             ],
             [
              0.3333333333333333,
              "#9c179e"
             ],
             [
              0.4444444444444444,
              "#bd3786"
             ],
             [
              0.5555555555555556,
              "#d8576b"
             ],
             [
              0.6666666666666666,
              "#ed7953"
             ],
             [
              0.7777777777777778,
              "#fb9f3a"
             ],
             [
              0.8888888888888888,
              "#fdca26"
             ],
             [
              1,
              "#f0f921"
             ]
            ],
            "type": "heatmapgl"
           }
          ],
          "histogram": [
           {
            "marker": {
             "pattern": {
              "fillmode": "overlay",
              "size": 10,
              "solidity": 0.2
             }
            },
            "type": "histogram"
           }
          ],
          "histogram2d": [
           {
            "colorbar": {
             "outlinewidth": 0,
             "ticks": ""
            },
            "colorscale": [
             [
              0,
              "#0d0887"
             ],
             [
              0.1111111111111111,
              "#46039f"
             ],
             [
              0.2222222222222222,
              "#7201a8"
             ],
             [
              0.3333333333333333,
              "#9c179e"
             ],
             [
              0.4444444444444444,
              "#bd3786"
             ],
             [
              0.5555555555555556,
              "#d8576b"
             ],
             [
              0.6666666666666666,
              "#ed7953"
             ],
             [
              0.7777777777777778,
              "#fb9f3a"
             ],
             [
              0.8888888888888888,
              "#fdca26"
             ],
             [
              1,
              "#f0f921"
             ]
            ],
            "type": "histogram2d"
           }
          ],
          "histogram2dcontour": [
           {
            "colorbar": {
             "outlinewidth": 0,
             "ticks": ""
            },
            "colorscale": [
             [
              0,
              "#0d0887"
             ],
             [
              0.1111111111111111,
              "#46039f"
             ],
             [
              0.2222222222222222,
              "#7201a8"
             ],
             [
              0.3333333333333333,
              "#9c179e"
             ],
             [
              0.4444444444444444,
              "#bd3786"
             ],
             [
              0.5555555555555556,
              "#d8576b"
             ],
             [
              0.6666666666666666,
              "#ed7953"
             ],
             [
              0.7777777777777778,
              "#fb9f3a"
             ],
             [
              0.8888888888888888,
              "#fdca26"
             ],
             [
              1,
              "#f0f921"
             ]
            ],
            "type": "histogram2dcontour"
           }
          ],
          "mesh3d": [
           {
            "colorbar": {
             "outlinewidth": 0,
             "ticks": ""
            },
            "type": "mesh3d"
           }
          ],
          "parcoords": [
           {
            "line": {
             "colorbar": {
              "outlinewidth": 0,
              "ticks": ""
             }
            },
            "type": "parcoords"
           }
          ],
          "pie": [
           {
            "automargin": true,
            "type": "pie"
           }
          ],
          "scatter": [
           {
            "fillpattern": {
             "fillmode": "overlay",
             "size": 10,
             "solidity": 0.2
            },
            "type": "scatter"
           }
          ],
          "scatter3d": [
           {
            "line": {
             "colorbar": {
              "outlinewidth": 0,
              "ticks": ""
             }
            },
            "marker": {
             "colorbar": {
              "outlinewidth": 0,
              "ticks": ""
             }
            },
            "type": "scatter3d"
           }
          ],
          "scattercarpet": [
           {
            "marker": {
             "colorbar": {
              "outlinewidth": 0,
              "ticks": ""
             }
            },
            "type": "scattercarpet"
           }
          ],
          "scattergeo": [
           {
            "marker": {
             "colorbar": {
              "outlinewidth": 0,
              "ticks": ""
             }
            },
            "type": "scattergeo"
           }
          ],
          "scattergl": [
           {
            "marker": {
             "colorbar": {
              "outlinewidth": 0,
              "ticks": ""
             }
            },
            "type": "scattergl"
           }
          ],
          "scattermapbox": [
           {
            "marker": {
             "colorbar": {
              "outlinewidth": 0,
              "ticks": ""
             }
            },
            "type": "scattermapbox"
           }
          ],
          "scatterpolar": [
           {
            "marker": {
             "colorbar": {
              "outlinewidth": 0,
              "ticks": ""
             }
            },
            "type": "scatterpolar"
           }
          ],
          "scatterpolargl": [
           {
            "marker": {
             "colorbar": {
              "outlinewidth": 0,
              "ticks": ""
             }
            },
            "type": "scatterpolargl"
           }
          ],
          "scatterternary": [
           {
            "marker": {
             "colorbar": {
              "outlinewidth": 0,
              "ticks": ""
             }
            },
            "type": "scatterternary"
           }
          ],
          "surface": [
           {
            "colorbar": {
             "outlinewidth": 0,
             "ticks": ""
            },
            "colorscale": [
             [
              0,
              "#0d0887"
             ],
             [
              0.1111111111111111,
              "#46039f"
             ],
             [
              0.2222222222222222,
              "#7201a8"
             ],
             [
              0.3333333333333333,
              "#9c179e"
             ],
             [
              0.4444444444444444,
              "#bd3786"
             ],
             [
              0.5555555555555556,
              "#d8576b"
             ],
             [
              0.6666666666666666,
              "#ed7953"
             ],
             [
              0.7777777777777778,
              "#fb9f3a"
             ],
             [
              0.8888888888888888,
              "#fdca26"
             ],
             [
              1,
              "#f0f921"
             ]
            ],
            "type": "surface"
           }
          ],
          "table": [
           {
            "cells": {
             "fill": {
              "color": "#EBF0F8"
             },
             "line": {
              "color": "white"
             }
            },
            "header": {
             "fill": {
              "color": "#C8D4E3"
             },
             "line": {
              "color": "white"
             }
            },
            "type": "table"
           }
          ]
         },
         "layout": {
          "annotationdefaults": {
           "arrowcolor": "#2a3f5f",
           "arrowhead": 0,
           "arrowwidth": 1
          },
          "autotypenumbers": "strict",
          "coloraxis": {
           "colorbar": {
            "outlinewidth": 0,
            "ticks": ""
           }
          },
          "colorscale": {
           "diverging": [
            [
             0,
             "#8e0152"
            ],
            [
             0.1,
             "#c51b7d"
            ],
            [
             0.2,
             "#de77ae"
            ],
            [
             0.3,
             "#f1b6da"
            ],
            [
             0.4,
             "#fde0ef"
            ],
            [
             0.5,
             "#f7f7f7"
            ],
            [
             0.6,
             "#e6f5d0"
            ],
            [
             0.7,
             "#b8e186"
            ],
            [
             0.8,
             "#7fbc41"
            ],
            [
             0.9,
             "#4d9221"
            ],
            [
             1,
             "#276419"
            ]
           ],
           "sequential": [
            [
             0,
             "#0d0887"
            ],
            [
             0.1111111111111111,
             "#46039f"
            ],
            [
             0.2222222222222222,
             "#7201a8"
            ],
            [
             0.3333333333333333,
             "#9c179e"
            ],
            [
             0.4444444444444444,
             "#bd3786"
            ],
            [
             0.5555555555555556,
             "#d8576b"
            ],
            [
             0.6666666666666666,
             "#ed7953"
            ],
            [
             0.7777777777777778,
             "#fb9f3a"
            ],
            [
             0.8888888888888888,
             "#fdca26"
            ],
            [
             1,
             "#f0f921"
            ]
           ],
           "sequentialminus": [
            [
             0,
             "#0d0887"
            ],
            [
             0.1111111111111111,
             "#46039f"
            ],
            [
             0.2222222222222222,
             "#7201a8"
            ],
            [
             0.3333333333333333,
             "#9c179e"
            ],
            [
             0.4444444444444444,
             "#bd3786"
            ],
            [
             0.5555555555555556,
             "#d8576b"
            ],
            [
             0.6666666666666666,
             "#ed7953"
            ],
            [
             0.7777777777777778,
             "#fb9f3a"
            ],
            [
             0.8888888888888888,
             "#fdca26"
            ],
            [
             1,
             "#f0f921"
            ]
           ]
          },
          "colorway": [
           "#636efa",
           "#EF553B",
           "#00cc96",
           "#ab63fa",
           "#FFA15A",
           "#19d3f3",
           "#FF6692",
           "#B6E880",
           "#FF97FF",
           "#FECB52"
          ],
          "font": {
           "color": "#2a3f5f"
          },
          "geo": {
           "bgcolor": "white",
           "lakecolor": "white",
           "landcolor": "white",
           "showlakes": true,
           "showland": true,
           "subunitcolor": "#C8D4E3"
          },
          "hoverlabel": {
           "align": "left"
          },
          "hovermode": "closest",
          "mapbox": {
           "style": "light"
          },
          "paper_bgcolor": "white",
          "plot_bgcolor": "white",
          "polar": {
           "angularaxis": {
            "gridcolor": "#EBF0F8",
            "linecolor": "#EBF0F8",
            "ticks": ""
           },
           "bgcolor": "white",
           "radialaxis": {
            "gridcolor": "#EBF0F8",
            "linecolor": "#EBF0F8",
            "ticks": ""
           }
          },
          "scene": {
           "xaxis": {
            "backgroundcolor": "white",
            "gridcolor": "#DFE8F3",
            "gridwidth": 2,
            "linecolor": "#EBF0F8",
            "showbackground": true,
            "ticks": "",
            "zerolinecolor": "#EBF0F8"
           },
           "yaxis": {
            "backgroundcolor": "white",
            "gridcolor": "#DFE8F3",
            "gridwidth": 2,
            "linecolor": "#EBF0F8",
            "showbackground": true,
            "ticks": "",
            "zerolinecolor": "#EBF0F8"
           },
           "zaxis": {
            "backgroundcolor": "white",
            "gridcolor": "#DFE8F3",
            "gridwidth": 2,
            "linecolor": "#EBF0F8",
            "showbackground": true,
            "ticks": "",
            "zerolinecolor": "#EBF0F8"
           }
          },
          "shapedefaults": {
           "line": {
            "color": "#2a3f5f"
           }
          },
          "ternary": {
           "aaxis": {
            "gridcolor": "#DFE8F3",
            "linecolor": "#A2B1C6",
            "ticks": ""
           },
           "baxis": {
            "gridcolor": "#DFE8F3",
            "linecolor": "#A2B1C6",
            "ticks": ""
           },
           "bgcolor": "white",
           "caxis": {
            "gridcolor": "#DFE8F3",
            "linecolor": "#A2B1C6",
            "ticks": ""
           }
          },
          "title": {
           "x": 0.05
          },
          "xaxis": {
           "automargin": true,
           "gridcolor": "#EBF0F8",
           "linecolor": "#EBF0F8",
           "ticks": "",
           "title": {
            "standoff": 15
           },
           "zerolinecolor": "#EBF0F8",
           "zerolinewidth": 2
          },
          "yaxis": {
           "automargin": true,
           "gridcolor": "#EBF0F8",
           "linecolor": "#EBF0F8",
           "ticks": "",
           "title": {
            "standoff": 15
           },
           "zerolinecolor": "#EBF0F8",
           "zerolinewidth": 2
          }
         }
        },
        "title": {
         "font": {
          "size": 20
         },
         "text": "Distribution of Forecast Bias in the dataset",
         "x": 0.5,
         "xanchor": "center",
         "yanchor": "top"
        },
        "width": 900,
        "xaxis": {
         "anchor": "y",
         "domain": [
          0,
          1
         ],
         "range": [
          -50,
          30
         ],
         "title": {
          "font": {
           "size": 12
          },
          "text": "Forecast Bias"
         }
        },
        "xaxis2": {
         "anchor": "y2",
         "domain": [
          0,
          1
         ],
         "matches": "x",
         "showgrid": true,
         "showticklabels": false
        },
        "yaxis": {
         "anchor": "x",
         "domain": [
          0,
          0.7326
         ],
         "title": {
          "font": {
           "size": 12
          },
          "text": "Probability Density"
         }
        },
        "yaxis2": {
         "anchor": "x2",
         "domain": [
          0.7426,
          1
         ],
         "matches": "y2",
         "showgrid": false,
         "showline": false,
         "showticklabels": false,
         "ticks": ""
        }
       }
      }
     },
     "metadata": {},
     "output_type": "display_data"
    }
   ],
   "source": [
    "fig = px.histogram(metrics_df, \n",
    "                   x=\"Forecast Bias\", \n",
    "                   color=\"Algorithm\",\n",
    "                   pattern_shape=\"Algorithm\", \n",
    "                   marginal=\"box\", \n",
    "                   nbins=250,\n",
    "                   barmode=\"overlay\",\n",
    "                   histnorm=\"probability density\")\n",
    "fig = format_plot(fig, xlabel=\"Forecast Bias\", ylabel=\"Probability Density\", title=\"Distribution of Forecast Bias in the dataset\")\n",
    "fig.update_layout(xaxis_range=[-50,30])\n",
    "# fig.write_image(\"imgs/chapter_8/bias_dist.png\")\n",
    "fig.show()"
   ]
  },
  {
   "cell_type": "markdown",
   "id": "8563e46a-8c50-4ae4-8321-2a36e9d104d8",
   "metadata": {
    "tags": []
   },
   "source": [
    "# Saving the Baseline Forecasts and Metrics"
   ]
  },
  {
   "cell_type": "code",
   "execution_count": 25,
   "id": "330d2005-faba-44da-89a9-29b088758998",
   "metadata": {},
   "outputs": [],
   "source": [
    "os.makedirs(\"data/london_smart_meters/output\", exist_ok=True)\n",
    "output = Path(\"data/london_smart_meters/output\")"
   ]
  },
  {
   "cell_type": "code",
   "execution_count": 26,
   "id": "b93cdcae-b729-42f3-80a8-c6bb368f534f",
   "metadata": {},
   "outputs": [],
   "source": [
    "pred_df.to_pickle(output/\"ml_single_step_prediction_test_df.pkl\")\n",
    "metrics_df.to_pickle(output/\"ml_single_step_metrics_test_df.pkl\")\n",
    "agg_metrics_df.to_pickle(output/\"ml_single_step_aggregate_metrics_test.pkl\")"
   ]
  }
 ],
 "metadata": {
  "kernelspec": {
   "display_name": "Python 3 (ipykernel)",
   "language": "python",
   "name": "python3"
  },
  "language_info": {
   "codemirror_mode": {
    "name": "ipython",
    "version": 3
   },
   "file_extension": ".py",
   "mimetype": "text/x-python",
   "name": "python",
   "nbconvert_exporter": "python",
   "pygments_lexer": "ipython3",
   "version": "3.11.0"
  },
  "varInspector": {
   "cols": {
    "lenName": 16,
    "lenType": 16,
    "lenVar": 40
   },
   "kernels_config": {
    "python": {
     "delete_cmd_postfix": "",
     "delete_cmd_prefix": "del ",
     "library": "var_list.py",
     "varRefreshCmd": "print(var_dic_list())"
    },
    "r": {
     "delete_cmd_postfix": ") ",
     "delete_cmd_prefix": "rm(",
     "library": "var_list.r",
     "varRefreshCmd": "cat(var_dic_list()) "
    }
   },
   "types_to_exclude": [
    "module",
    "function",
    "builtin_function_or_method",
    "instance",
    "_Feature"
   ],
   "window_display": false
  }
 },
 "nbformat": 4,
 "nbformat_minor": 5
}

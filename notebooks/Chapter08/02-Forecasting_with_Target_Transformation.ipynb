{
 "cells": [
  {
   "cell_type": "code",
   "execution_count": 1,
   "id": "b25018c9-2624-434c-aa23-04be1d73e729",
   "metadata": {},
   "outputs": [
    {
     "name": "stdout",
     "output_type": "stream",
     "text": [
      "c:\\Users\\tacke\\OneDrive\\Documents\\GitHub\\Modern-Time-Series-Forecasting-with-Python-2E-1\n"
     ]
    }
   ],
   "source": [
    "%cd ../.."
   ]
  },
  {
   "cell_type": "code",
   "execution_count": 2,
   "id": "4f023467-970a-461e-a60f-7a66fce6a497",
   "metadata": {},
   "outputs": [
    {
     "name": "stderr",
     "output_type": "stream",
     "text": [
      "C:\\Users\\tacke\\AppData\\Local\\Temp\\ipykernel_43076\\1168638155.py:11: TqdmExperimentalWarning: Using `tqdm.autonotebook.tqdm` in notebook mode. Use `tqdm.tqdm` instead to force console mode (e.g. in jupyter console)\n",
      "  from tqdm.autonotebook import tqdm\n"
     ]
    }
   ],
   "source": [
    "import numpy as np\n",
    "import pandas as pd\n",
    "import time\n",
    "import plotly.express as px\n",
    "import plotly.graph_objects as go\n",
    "import os\n",
    "import plotly.io as pio\n",
    "pio.templates.default = \"plotly_white\"\n",
    "\n",
    "from pathlib import Path\n",
    "from tqdm.autonotebook import tqdm\n",
    "import warnings\n",
    "import humanize\n",
    "import joblib\n",
    "\n",
    "from sklearn.preprocessing import StandardScaler\n",
    "\n",
    "from src.utils.ts_utils import forecast_bias, metrics_adapter, mase, mse, mae\n",
    "from src.utils.general import LogTime\n",
    "from src.utils import plotting_utils\n",
    "from src.forecasting.ml_forecasting import MissingValueConfig, FeatureConfig, ModelConfig, MLForecast, calculate_metrics\n",
    "from IPython.display import display, HTML\n",
    "# %load_ext autoreload\n",
    "# %autoreload 2\n",
    "np.random.seed(42)\n",
    "tqdm.pandas()"
   ]
  },
  {
   "cell_type": "code",
   "execution_count": 3,
   "id": "41ae72a1-3721-4b36-b211-b78d4b09c855",
   "metadata": {},
   "outputs": [],
   "source": [
    "os.makedirs(\"imgs/chapter_8\", exist_ok=True)\n",
    "preprocessed = Path(\"data/london_smart_meters/preprocessed\")\n",
    "output = Path(\"data/london_smart_meters/output\")"
   ]
  },
  {
   "cell_type": "code",
   "execution_count": 4,
   "id": "8900cd43-718f-4dc1-ace9-ef9dc99b600d",
   "metadata": {},
   "outputs": [],
   "source": [
    "def format_plot(fig, legends = None, xlabel=\"Time\", ylabel=\"Value\", title=\"\"):\n",
    "    if legends:\n",
    "        names = cycle(legends)\n",
    "        fig.for_each_trace(lambda t:  t.update(name = next(names)))\n",
    "    fig.update_layout(\n",
    "            autosize=False,\n",
    "            width=900,\n",
    "            height=500,\n",
    "            title_text=title,\n",
    "            title={\n",
    "            'x':0.5,\n",
    "            'xanchor': 'center',\n",
    "            'yanchor': 'top'},\n",
    "            titlefont={\n",
    "                \"size\": 20\n",
    "            },\n",
    "            legend_title = None,\n",
    "            yaxis=dict(\n",
    "                title_text=ylabel,\n",
    "                titlefont=dict(size=12),\n",
    "            ),\n",
    "            xaxis=dict(\n",
    "                title_text=xlabel,\n",
    "                titlefont=dict(size=12),\n",
    "            )\n",
    "        )\n",
    "    return fig"
   ]
  },
  {
   "cell_type": "code",
   "execution_count": 5,
   "id": "efe0e2b6-605d-423b-b75c-cb7b4e5d34e8",
   "metadata": {},
   "outputs": [],
   "source": [
    "def highlight_abs_min(s, props=''):\n",
    "    return np.where(s == np.nanmin(np.abs(s.values)), props, '')"
   ]
  },
  {
   "cell_type": "code",
   "execution_count": 6,
   "id": "10b5686a-c35c-4191-9185-365a30e09255",
   "metadata": {},
   "outputs": [],
   "source": [
    "try:\n",
    "    #Readin the missing value imputed and train test split data\n",
    "    train_df = pd.read_parquet(preprocessed/\"selected_blocks_train_missing_imputed_feature_engg.parquet\")\n",
    "    auto_stat_target = pd.read_parquet(preprocessed/\"selected_blocks_train_auto_stat_target.parquet\")\n",
    "    transformer_pipelines = joblib.load(preprocessed/\"auto_transformer_pipelines_train.pkl\")\n",
    "    #Reading in validation as test\n",
    "    test_df = pd.read_parquet(preprocessed/\"selected_blocks_val_missing_imputed_feature_engg.parquet\")\n",
    "    # Joining the transformed target \n",
    "    train_df = train_df.set_index(['LCLid','timestamp']).join(auto_stat_target).reset_index()\n",
    "    # #Renaming energy\n",
    "    # test_df.rename(columns={\"energy_consumption\":\"energy_consumption_auto_stat\"}, inplace=True)\n",
    "except FileNotFoundError:\n",
    "    display(HTML(\"\"\"\n",
    "    <div class=\"alert alert-block alert-warning\">\n",
    "    <b>Warning!</b> File not found. Please make sure you have run 01-Feature Engineering.ipynb and 02-Dealing with Non-Stationarity.ipynb in Chapter06 and Chapter07\n",
    "    </div>\n",
    "    \"\"\"))"
   ]
  },
  {
   "cell_type": "code",
   "execution_count": 7,
   "id": "6046a8fe-283d-4f4b-ab1f-a5b23bad55e7",
   "metadata": {},
   "outputs": [
    {
     "data": {
      "text/plain": [
       "150"
      ]
     },
     "execution_count": 7,
     "metadata": {},
     "output_type": "execute_result"
    }
   ],
   "source": [
    "len(train_df.LCLid.unique())"
   ]
  },
  {
   "cell_type": "code",
   "execution_count": 8,
   "id": "6eca727d-7eaa-4d01-8d8d-1726b1422b0c",
   "metadata": {
    "tags": []
   },
   "outputs": [],
   "source": [
    "try:\n",
    "    baseline_metrics_df = pd.read_pickle(output/\"ml_single_step_metrics_val_df.pkl\")\n",
    "    baseline_aggregate_metrics_df = pd.read_pickle(output/\"ml_single_step_aggregate_metrics_val.pkl\")\n",
    "except FileNotFoundError:\n",
    "    display(HTML(\"\"\"\n",
    "    <div class=\"alert alert-block alert-warning\">\n",
    "    <b>Warning!</b> File not found. Please make sure you have run 01-Forecasting with ML.ipynb in Chapter08\n",
    "    </div>\n",
    "    \"\"\"))"
   ]
  },
  {
   "cell_type": "code",
   "execution_count": 9,
   "id": "b79dcefd-d77c-4f89-ace5-eb10a670cb69",
   "metadata": {},
   "outputs": [
    {
     "data": {
      "text/html": [
       "<div>\n",
       "<style scoped>\n",
       "    .dataframe tbody tr th:only-of-type {\n",
       "        vertical-align: middle;\n",
       "    }\n",
       "\n",
       "    .dataframe tbody tr th {\n",
       "        vertical-align: top;\n",
       "    }\n",
       "\n",
       "    .dataframe thead th {\n",
       "        text-align: right;\n",
       "    }\n",
       "</style>\n",
       "<table border=\"1\" class=\"dataframe\">\n",
       "  <thead>\n",
       "    <tr style=\"text-align: right;\">\n",
       "      <th></th>\n",
       "      <th>LCLid</th>\n",
       "      <th>timestamp</th>\n",
       "      <th>energy_consumption</th>\n",
       "      <th>frequency</th>\n",
       "      <th>series_length</th>\n",
       "      <th>stdorToU</th>\n",
       "      <th>Acorn</th>\n",
       "      <th>Acorn_grouped</th>\n",
       "      <th>file</th>\n",
       "      <th>holidays</th>\n",
       "      <th>...</th>\n",
       "      <th>timestamp_Minute_sin_2</th>\n",
       "      <th>timestamp_Minute_sin_3</th>\n",
       "      <th>timestamp_Minute_sin_4</th>\n",
       "      <th>timestamp_Minute_sin_5</th>\n",
       "      <th>timestamp_Minute_cos_1</th>\n",
       "      <th>timestamp_Minute_cos_2</th>\n",
       "      <th>timestamp_Minute_cos_3</th>\n",
       "      <th>timestamp_Minute_cos_4</th>\n",
       "      <th>timestamp_Minute_cos_5</th>\n",
       "      <th>energy_consumption_auto_stat</th>\n",
       "    </tr>\n",
       "  </thead>\n",
       "  <tbody>\n",
       "    <tr>\n",
       "      <th>0</th>\n",
       "      <td>MAC000061</td>\n",
       "      <td>2012-01-01 00:00:00</td>\n",
       "      <td>0.114</td>\n",
       "      <td>30min</td>\n",
       "      <td>37872</td>\n",
       "      <td>Std</td>\n",
       "      <td>ACORN-Q</td>\n",
       "      <td>Adversity</td>\n",
       "      <td>block_96</td>\n",
       "      <td>NO_HOLIDAY</td>\n",
       "      <td>...</td>\n",
       "      <td>0.000000e+00</td>\n",
       "      <td>0.000000e+00</td>\n",
       "      <td>0.000000e+00</td>\n",
       "      <td>0.000000e+00</td>\n",
       "      <td>1.0</td>\n",
       "      <td>1.0</td>\n",
       "      <td>1.0</td>\n",
       "      <td>1.0</td>\n",
       "      <td>1.0</td>\n",
       "      <td>0.555465</td>\n",
       "    </tr>\n",
       "    <tr>\n",
       "      <th>1</th>\n",
       "      <td>MAC000061</td>\n",
       "      <td>2012-01-01 00:30:00</td>\n",
       "      <td>0.113</td>\n",
       "      <td>30min</td>\n",
       "      <td>37872</td>\n",
       "      <td>Std</td>\n",
       "      <td>ACORN-Q</td>\n",
       "      <td>Adversity</td>\n",
       "      <td>block_96</td>\n",
       "      <td>NO_HOLIDAY</td>\n",
       "      <td>...</td>\n",
       "      <td>-1.133108e-15</td>\n",
       "      <td>2.143751e-15</td>\n",
       "      <td>-2.266215e-15</td>\n",
       "      <td>6.123234e-16</td>\n",
       "      <td>-1.0</td>\n",
       "      <td>1.0</td>\n",
       "      <td>-1.0</td>\n",
       "      <td>1.0</td>\n",
       "      <td>-1.0</td>\n",
       "      <td>0.560217</td>\n",
       "    </tr>\n",
       "    <tr>\n",
       "      <th>2</th>\n",
       "      <td>MAC000061</td>\n",
       "      <td>2012-01-01 01:00:00</td>\n",
       "      <td>0.113</td>\n",
       "      <td>30min</td>\n",
       "      <td>37872</td>\n",
       "      <td>Std</td>\n",
       "      <td>ACORN-Q</td>\n",
       "      <td>Adversity</td>\n",
       "      <td>block_96</td>\n",
       "      <td>NO_HOLIDAY</td>\n",
       "      <td>...</td>\n",
       "      <td>0.000000e+00</td>\n",
       "      <td>0.000000e+00</td>\n",
       "      <td>0.000000e+00</td>\n",
       "      <td>0.000000e+00</td>\n",
       "      <td>1.0</td>\n",
       "      <td>1.0</td>\n",
       "      <td>1.0</td>\n",
       "      <td>1.0</td>\n",
       "      <td>1.0</td>\n",
       "      <td>0.563023</td>\n",
       "    </tr>\n",
       "    <tr>\n",
       "      <th>3</th>\n",
       "      <td>MAC000061</td>\n",
       "      <td>2012-01-01 01:30:00</td>\n",
       "      <td>0.098</td>\n",
       "      <td>30min</td>\n",
       "      <td>37872</td>\n",
       "      <td>Std</td>\n",
       "      <td>ACORN-Q</td>\n",
       "      <td>Adversity</td>\n",
       "      <td>block_96</td>\n",
       "      <td>NO_HOLIDAY</td>\n",
       "      <td>...</td>\n",
       "      <td>-1.133108e-15</td>\n",
       "      <td>2.143751e-15</td>\n",
       "      <td>-2.266215e-15</td>\n",
       "      <td>6.123234e-16</td>\n",
       "      <td>-1.0</td>\n",
       "      <td>1.0</td>\n",
       "      <td>-1.0</td>\n",
       "      <td>1.0</td>\n",
       "      <td>-1.0</td>\n",
       "      <td>0.560639</td>\n",
       "    </tr>\n",
       "    <tr>\n",
       "      <th>4</th>\n",
       "      <td>MAC000061</td>\n",
       "      <td>2012-01-01 02:00:00</td>\n",
       "      <td>0.060</td>\n",
       "      <td>30min</td>\n",
       "      <td>37872</td>\n",
       "      <td>Std</td>\n",
       "      <td>ACORN-Q</td>\n",
       "      <td>Adversity</td>\n",
       "      <td>block_96</td>\n",
       "      <td>NO_HOLIDAY</td>\n",
       "      <td>...</td>\n",
       "      <td>0.000000e+00</td>\n",
       "      <td>0.000000e+00</td>\n",
       "      <td>0.000000e+00</td>\n",
       "      <td>0.000000e+00</td>\n",
       "      <td>1.0</td>\n",
       "      <td>1.0</td>\n",
       "      <td>1.0</td>\n",
       "      <td>1.0</td>\n",
       "      <td>1.0</td>\n",
       "      <td>0.553762</td>\n",
       "    </tr>\n",
       "  </tbody>\n",
       "</table>\n",
       "<p>5 rows × 95 columns</p>\n",
       "</div>"
      ],
      "text/plain": [
       "       LCLid           timestamp  energy_consumption frequency  series_length  \\\n",
       "0  MAC000061 2012-01-01 00:00:00               0.114     30min          37872   \n",
       "1  MAC000061 2012-01-01 00:30:00               0.113     30min          37872   \n",
       "2  MAC000061 2012-01-01 01:00:00               0.113     30min          37872   \n",
       "3  MAC000061 2012-01-01 01:30:00               0.098     30min          37872   \n",
       "4  MAC000061 2012-01-01 02:00:00               0.060     30min          37872   \n",
       "\n",
       "  stdorToU    Acorn Acorn_grouped      file    holidays  ...  \\\n",
       "0      Std  ACORN-Q     Adversity  block_96  NO_HOLIDAY  ...   \n",
       "1      Std  ACORN-Q     Adversity  block_96  NO_HOLIDAY  ...   \n",
       "2      Std  ACORN-Q     Adversity  block_96  NO_HOLIDAY  ...   \n",
       "3      Std  ACORN-Q     Adversity  block_96  NO_HOLIDAY  ...   \n",
       "4      Std  ACORN-Q     Adversity  block_96  NO_HOLIDAY  ...   \n",
       "\n",
       "   timestamp_Minute_sin_2  timestamp_Minute_sin_3  timestamp_Minute_sin_4  \\\n",
       "0            0.000000e+00            0.000000e+00            0.000000e+00   \n",
       "1           -1.133108e-15            2.143751e-15           -2.266215e-15   \n",
       "2            0.000000e+00            0.000000e+00            0.000000e+00   \n",
       "3           -1.133108e-15            2.143751e-15           -2.266215e-15   \n",
       "4            0.000000e+00            0.000000e+00            0.000000e+00   \n",
       "\n",
       "   timestamp_Minute_sin_5  timestamp_Minute_cos_1  timestamp_Minute_cos_2  \\\n",
       "0            0.000000e+00                     1.0                     1.0   \n",
       "1            6.123234e-16                    -1.0                     1.0   \n",
       "2            0.000000e+00                     1.0                     1.0   \n",
       "3            6.123234e-16                    -1.0                     1.0   \n",
       "4            0.000000e+00                     1.0                     1.0   \n",
       "\n",
       "   timestamp_Minute_cos_3 timestamp_Minute_cos_4 timestamp_Minute_cos_5  \\\n",
       "0                     1.0                    1.0                    1.0   \n",
       "1                    -1.0                    1.0                   -1.0   \n",
       "2                     1.0                    1.0                    1.0   \n",
       "3                    -1.0                    1.0                   -1.0   \n",
       "4                     1.0                    1.0                    1.0   \n",
       "\n",
       "   energy_consumption_auto_stat  \n",
       "0                      0.555465  \n",
       "1                      0.560217  \n",
       "2                      0.563023  \n",
       "3                      0.560639  \n",
       "4                      0.553762  \n",
       "\n",
       "[5 rows x 95 columns]"
      ]
     },
     "execution_count": 9,
     "metadata": {},
     "output_type": "execute_result"
    }
   ],
   "source": [
    "train_df.head()"
   ]
  },
  {
   "cell_type": "markdown",
   "id": "debe3f31-9081-49ee-beed-b56c040cebc2",
   "metadata": {
    "tags": []
   },
   "source": [
    "# Feature Definition"
   ]
  },
  {
   "cell_type": "code",
   "execution_count": 10,
   "id": "d230f461-5a87-4955-8c98-a29f7fbba75b",
   "metadata": {},
   "outputs": [],
   "source": [
    "feat_config = FeatureConfig(\n",
    "    date=\"timestamp\",\n",
    "    target=\"energy_consumption_auto_stat\",\n",
    "    original_target=\"energy_consumption\",\n",
    "    continuous_features=[\n",
    "        \"visibility\",\n",
    "        \"windBearing\",\n",
    "        \"temperature\",\n",
    "        \"dewPoint\",\n",
    "        \"pressure\",\n",
    "        \"apparentTemperature\",\n",
    "        \"windSpeed\",\n",
    "        \"humidity\",\n",
    "        \"energy_consumption_lag_1\",\n",
    "        \"energy_consumption_lag_2\",\n",
    "        \"energy_consumption_lag_3\",\n",
    "        \"energy_consumption_lag_4\",\n",
    "        \"energy_consumption_lag_5\",\n",
    "        \"energy_consumption_lag_46\",\n",
    "        \"energy_consumption_lag_47\",\n",
    "        \"energy_consumption_lag_48\",\n",
    "        \"energy_consumption_lag_49\",\n",
    "        \"energy_consumption_lag_50\",\n",
    "        \"energy_consumption_lag_334\",\n",
    "        \"energy_consumption_lag_335\",\n",
    "        \"energy_consumption_lag_336\",\n",
    "        \"energy_consumption_lag_337\",\n",
    "        \"energy_consumption_lag_338\",\n",
    "        \"energy_consumption_rolling_3_mean\",\n",
    "        \"energy_consumption_rolling_3_std\",\n",
    "        \"energy_consumption_rolling_6_mean\",\n",
    "        \"energy_consumption_rolling_6_std\",\n",
    "        \"energy_consumption_rolling_12_mean\",\n",
    "        \"energy_consumption_rolling_12_std\",\n",
    "        \"energy_consumption_rolling_48_mean\",\n",
    "        \"energy_consumption_rolling_48_std\",\n",
    "        \"energy_consumption_48_seasonal_rolling_3_mean\",\n",
    "        \"energy_consumption_48_seasonal_rolling_3_std\",\n",
    "        \"energy_consumption_336_seasonal_rolling_3_mean\",\n",
    "        \"energy_consumption_336_seasonal_rolling_3_std\",\n",
    "        \"energy_consumption_ewma_span_2880\",\n",
    "        \"energy_consumption_ewma_span_336\",\n",
    "        \"energy_consumption_ewma_span_48\",\n",
    "        \"timestamp_Elapsed\",\n",
    "        \"timestamp_Month_sin_1\",\n",
    "        \"timestamp_Month_sin_2\",\n",
    "        \"timestamp_Month_sin_3\",\n",
    "        \"timestamp_Month_sin_4\",\n",
    "        \"timestamp_Month_sin_5\",\n",
    "        \"timestamp_Month_cos_1\",\n",
    "        \"timestamp_Month_cos_2\",\n",
    "        \"timestamp_Month_cos_3\",\n",
    "        \"timestamp_Month_cos_4\",\n",
    "        \"timestamp_Month_cos_5\",\n",
    "        \"timestamp_Hour_sin_1\",\n",
    "        \"timestamp_Hour_sin_2\",\n",
    "        \"timestamp_Hour_sin_3\",\n",
    "        \"timestamp_Hour_sin_4\",\n",
    "        \"timestamp_Hour_sin_5\",\n",
    "        \"timestamp_Hour_cos_1\",\n",
    "        \"timestamp_Hour_cos_2\",\n",
    "        \"timestamp_Hour_cos_3\",\n",
    "        \"timestamp_Hour_cos_4\",\n",
    "        \"timestamp_Hour_cos_5\",\n",
    "        \"timestamp_Minute_sin_1\",\n",
    "        \"timestamp_Minute_sin_2\",\n",
    "        \"timestamp_Minute_sin_3\",\n",
    "        \"timestamp_Minute_sin_4\",\n",
    "        \"timestamp_Minute_sin_5\",\n",
    "        \"timestamp_Minute_cos_1\",\n",
    "        \"timestamp_Minute_cos_2\",\n",
    "        \"timestamp_Minute_cos_3\",\n",
    "        \"timestamp_Minute_cos_4\",\n",
    "        \"timestamp_Minute_cos_5\",\n",
    "    ],\n",
    "    categorical_features=[\n",
    "        \"holidays\",\n",
    "        \"precipType\",\n",
    "        \"icon\",\n",
    "        \"summary\",\n",
    "        \"timestamp_Month\",\n",
    "        \"timestamp_Quarter\",\n",
    "        \"timestamp_WeekDay\",\n",
    "        \"timestamp_Dayofweek\",\n",
    "        \"timestamp_Dayofyear\",\n",
    "        \"timestamp_Hour\",\n",
    "        \"timestamp_Minute\",\n",
    "    ],\n",
    "    boolean_features=[\n",
    "        \"timestamp_Is_quarter_end\",\n",
    "        \"timestamp_Is_quarter_start\",\n",
    "        \"timestamp_Is_year_end\",\n",
    "        \"timestamp_Is_year_start\",\n",
    "        \"timestamp_Is_month_start\",\n",
    "    ],\n",
    "    index_cols=[\"timestamp\"],\n",
    "    exogenous_features=[\n",
    "        \"holidays\",\n",
    "        \"precipType\",\n",
    "        \"icon\",\n",
    "        \"summary\",\n",
    "        \"visibility\",\n",
    "        \"windBearing\",\n",
    "        \"temperature\",\n",
    "        \"dewPoint\",\n",
    "        \"pressure\",\n",
    "        \"apparentTemperature\",\n",
    "        \"windSpeed\",\n",
    "        \"humidity\",\n",
    "    ],\n",
    ")"
   ]
  },
  {
   "cell_type": "markdown",
   "id": "0bcc8075-486a-42ab-9ec8-ddd06355dd93",
   "metadata": {
    "tags": []
   },
   "source": [
    "# Missing Value Handling"
   ]
  },
  {
   "cell_type": "code",
   "execution_count": 11,
   "id": "4377661a-4b94-41cd-a599-7636907eeba4",
   "metadata": {},
   "outputs": [],
   "source": [
    "missing_value_config = MissingValueConfig(\n",
    "    bfill_columns=[\n",
    "        \"energy_consumption_lag_1\",\n",
    "        \"energy_consumption_lag_2\",\n",
    "        \"energy_consumption_lag_3\",\n",
    "        \"energy_consumption_lag_4\",\n",
    "        \"energy_consumption_lag_5\",\n",
    "        \"energy_consumption_lag_46\",\n",
    "        \"energy_consumption_lag_47\",\n",
    "        \"energy_consumption_lag_48\",\n",
    "        \"energy_consumption_lag_49\",\n",
    "        \"energy_consumption_lag_50\",\n",
    "        \"energy_consumption_lag_334\",\n",
    "        \"energy_consumption_lag_335\",\n",
    "        \"energy_consumption_lag_336\",\n",
    "        \"energy_consumption_lag_337\",\n",
    "        \"energy_consumption_lag_338\",\n",
    "        \"energy_consumption_rolling_3_mean\",\n",
    "        \"energy_consumption_rolling_3_std\",\n",
    "        \"energy_consumption_rolling_6_mean\",\n",
    "        \"energy_consumption_rolling_6_std\",\n",
    "        \"energy_consumption_rolling_12_mean\",\n",
    "        \"energy_consumption_rolling_12_std\",\n",
    "        \"energy_consumption_rolling_48_mean\",\n",
    "        \"energy_consumption_rolling_48_std\",\n",
    "        \"energy_consumption_48_seasonal_rolling_3_mean\",\n",
    "        \"energy_consumption_48_seasonal_rolling_3_std\",\n",
    "        \"energy_consumption_336_seasonal_rolling_3_mean\",\n",
    "        \"energy_consumption_336_seasonal_rolling_3_std\",\n",
    "        \"energy_consumption_ewma__span_2880\",\n",
    "        \"energy_consumption_ewma__span_336\",\n",
    "        \"energy_consumption_ewma__span_48\",\n",
    "    ],\n",
    "    ffill_columns=[],\n",
    "    zero_fill_columns=[],\n",
    ")"
   ]
  },
  {
   "cell_type": "markdown",
   "id": "783e372f-6459-49cc-b2d1-640c6b2b5401",
   "metadata": {
    "tags": []
   },
   "source": [
    "# Running ML Forecast for all consumers"
   ]
  },
  {
   "cell_type": "markdown",
   "id": "3c24cf01-6f27-41a9-a065-14b2229c98c4",
   "metadata": {},
   "source": [
    "Running Lasso Regression, XGB Random Forest, and LightGBM"
   ]
  },
  {
   "cell_type": "code",
   "execution_count": 12,
   "id": "8d213e79-ff52-4476-be9f-a878da9bf9e5",
   "metadata": {},
   "outputs": [],
   "source": [
    "def evaluate_model(model_config, feature_config, missing_config, target_transformer, train_features, train_target, test_features, test_target, train_target_original=None):\n",
    "    ml_model = MLForecast(model_config=model_config, feature_config=feat_config, missing_config=missing_value_config, target_transformer=target_transformer)\n",
    "    ml_model.fit(train_features, train_target, is_transformed=True)\n",
    "    y_pred = ml_model.predict(test_features)\n",
    "    feat_df = ml_model.feature_importance()\n",
    "    metrics = calculate_metrics(test_target, y_pred, model_config.name, train_target_original)\n",
    "    return y_pred, metrics, feat_df"
   ]
  },
  {
   "cell_type": "code",
   "execution_count": 13,
   "id": "51eb3210-9577-4065-889a-55cf12931f21",
   "metadata": {},
   "outputs": [],
   "source": [
    "from sklearn.linear_model import LassoCV\n",
    "from xgboost import XGBRFRegressor\n",
    "from lightgbm import LGBMRegressor"
   ]
  },
  {
   "cell_type": "code",
   "execution_count": 14,
   "id": "366fe44b-bbb7-46e0-a898-2b9b5e0bba04",
   "metadata": {},
   "outputs": [],
   "source": [
    "lcl_ids = sorted(train_df.LCLid.unique())\n",
    "models_to_run = [\n",
    "    ModelConfig(model = LassoCV(), name=\"Lasso Regression\", normalize=True, fill_missing=True),\n",
    "    ModelConfig(model = XGBRFRegressor(random_state=42, max_depth=4), name=\"XGB Random Forest\", normalize=False, fill_missing=False),\n",
    "    ModelConfig(model = LGBMRegressor(random_state=42), name=\"LightGBM\", normalize=False, fill_missing=False)\n",
    "]"
   ]
  },
  {
   "cell_type": "code",
   "execution_count": 15,
   "id": "fb50d352-fb06-47d8-b54a-a32d26034120",
   "metadata": {
    "tags": []
   },
   "outputs": [
    {
     "data": {
      "application/vnd.jupyter.widget-view+json": {
       "model_id": "8c8ba8f6d57147db93957d3e9e94b6fe",
       "version_major": 2,
       "version_minor": 0
      },
      "text/plain": [
       "  0%|          | 0/150 [00:00<?, ?it/s]"
      ]
     },
     "metadata": {},
     "output_type": "display_data"
    },
    {
     "name": "stdout",
     "output_type": "stream",
     "text": [
      "[LightGBM] [Info] Auto-choosing col-wise multi-threading, the overhead of testing was 0.018910 seconds.\n",
      "You can set `force_col_wise=true` to remove the overhead.\n",
      "[LightGBM] [Info] Total Bins 8115\n",
      "[LightGBM] [Info] Number of data points in the train set: 35088, number of used features: 59\n",
      "[LightGBM] [Info] Start training from score 0.549685\n",
      "[LightGBM] [Info] Auto-choosing col-wise multi-threading, the overhead of testing was 0.041632 seconds.\n",
      "You can set `force_col_wise=true` to remove the overhead.\n",
      "[LightGBM] [Info] Total Bins 8115\n",
      "[LightGBM] [Info] Number of data points in the train set: 35088, number of used features: 59\n",
      "[LightGBM] [Info] Start training from score 0.573847\n",
      "[LightGBM] [Info] Auto-choosing col-wise multi-threading, the overhead of testing was 0.011831 seconds.\n",
      "You can set `force_col_wise=true` to remove the overhead.\n",
      "[LightGBM] [Info] Total Bins 8115\n",
      "[LightGBM] [Info] Number of data points in the train set: 35088, number of used features: 59\n",
      "[LightGBM] [Info] Start training from score -0.000004\n",
      "[LightGBM] [Info] Auto-choosing col-wise multi-threading, the overhead of testing was 0.012063 seconds.\n",
      "You can set `force_col_wise=true` to remove the overhead.\n",
      "[LightGBM] [Info] Total Bins 8115\n",
      "[LightGBM] [Info] Number of data points in the train set: 35088, number of used features: 59\n",
      "[LightGBM] [Info] Start training from score 0.621877\n",
      "[LightGBM] [Info] Auto-choosing col-wise multi-threading, the overhead of testing was 0.012150 seconds.\n",
      "You can set `force_col_wise=true` to remove the overhead.\n",
      "[LightGBM] [Info] Total Bins 8115\n",
      "[LightGBM] [Info] Number of data points in the train set: 35088, number of used features: 59\n",
      "[LightGBM] [Info] Start training from score 0.532837\n",
      "[LightGBM] [Info] Auto-choosing col-wise multi-threading, the overhead of testing was 0.010785 seconds.\n",
      "You can set `force_col_wise=true` to remove the overhead.\n",
      "[LightGBM] [Info] Total Bins 8115\n",
      "[LightGBM] [Info] Number of data points in the train set: 35088, number of used features: 59\n",
      "[LightGBM] [Info] Start training from score 0.572746\n",
      "[LightGBM] [Info] Auto-choosing col-wise multi-threading, the overhead of testing was 0.023099 seconds.\n",
      "You can set `force_col_wise=true` to remove the overhead.\n",
      "[LightGBM] [Info] Total Bins 8115\n",
      "[LightGBM] [Info] Number of data points in the train set: 35088, number of used features: 59\n",
      "[LightGBM] [Info] Start training from score 0.548048\n",
      "[LightGBM] [Info] Auto-choosing col-wise multi-threading, the overhead of testing was 0.014487 seconds.\n",
      "You can set `force_col_wise=true` to remove the overhead.\n",
      "[LightGBM] [Info] Total Bins 8115\n",
      "[LightGBM] [Info] Number of data points in the train set: 35088, number of used features: 59\n",
      "[LightGBM] [Info] Start training from score 0.572730\n",
      "[LightGBM] [Info] Auto-choosing col-wise multi-threading, the overhead of testing was 0.013553 seconds.\n",
      "You can set `force_col_wise=true` to remove the overhead.\n",
      "[LightGBM] [Info] Total Bins 8115\n",
      "[LightGBM] [Info] Number of data points in the train set: 35088, number of used features: 59\n",
      "[LightGBM] [Info] Start training from score 0.623420\n",
      "[LightGBM] [Info] Auto-choosing col-wise multi-threading, the overhead of testing was 0.013950 seconds.\n",
      "You can set `force_col_wise=true` to remove the overhead.\n",
      "[LightGBM] [Info] Total Bins 8115\n",
      "[LightGBM] [Info] Number of data points in the train set: 35088, number of used features: 59\n",
      "[LightGBM] [Info] Start training from score 0.564119\n",
      "[LightGBM] [Info] Auto-choosing col-wise multi-threading, the overhead of testing was 0.014273 seconds.\n",
      "You can set `force_col_wise=true` to remove the overhead.\n",
      "[LightGBM] [Info] Total Bins 8115\n",
      "[LightGBM] [Info] Number of data points in the train set: 35088, number of used features: 59\n",
      "[LightGBM] [Info] Start training from score 0.631138\n",
      "[LightGBM] [Info] Auto-choosing col-wise multi-threading, the overhead of testing was 0.014915 seconds.\n",
      "You can set `force_col_wise=true` to remove the overhead.\n",
      "[LightGBM] [Info] Total Bins 8115\n",
      "[LightGBM] [Info] Number of data points in the train set: 35088, number of used features: 59\n",
      "[LightGBM] [Info] Start training from score 0.000004\n",
      "[LightGBM] [Info] Auto-choosing col-wise multi-threading, the overhead of testing was 0.012884 seconds.\n",
      "You can set `force_col_wise=true` to remove the overhead.\n",
      "[LightGBM] [Info] Total Bins 8115\n",
      "[LightGBM] [Info] Number of data points in the train set: 32112, number of used features: 59\n",
      "[LightGBM] [Info] Start training from score -0.000022\n",
      "[LightGBM] [Info] Auto-choosing col-wise multi-threading, the overhead of testing was 0.012735 seconds.\n",
      "You can set `force_col_wise=true` to remove the overhead.\n",
      "[LightGBM] [Info] Total Bins 8115\n",
      "[LightGBM] [Info] Number of data points in the train set: 31920, number of used features: 59\n",
      "[LightGBM] [Info] Start training from score 0.971043\n",
      "[LightGBM] [Info] Auto-choosing col-wise multi-threading, the overhead of testing was 0.012724 seconds.\n",
      "You can set `force_col_wise=true` to remove the overhead.\n",
      "[LightGBM] [Info] Total Bins 8115\n",
      "[LightGBM] [Info] Number of data points in the train set: 30144, number of used features: 59\n",
      "[LightGBM] [Info] Start training from score 0.562939\n",
      "[LightGBM] [Info] Auto-choosing col-wise multi-threading, the overhead of testing was 0.014277 seconds.\n",
      "You can set `force_col_wise=true` to remove the overhead.\n",
      "[LightGBM] [Info] Total Bins 8115\n",
      "[LightGBM] [Info] Number of data points in the train set: 30144, number of used features: 59\n",
      "[LightGBM] [Info] Start training from score 0.526509\n",
      "[LightGBM] [Info] Auto-choosing col-wise multi-threading, the overhead of testing was 0.011546 seconds.\n",
      "You can set `force_col_wise=true` to remove the overhead.\n",
      "[LightGBM] [Info] Total Bins 8115\n",
      "[LightGBM] [Info] Number of data points in the train set: 30096, number of used features: 59\n",
      "[LightGBM] [Info] Start training from score 0.619637\n",
      "[LightGBM] [Info] Auto-choosing col-wise multi-threading, the overhead of testing was 0.012071 seconds.\n",
      "You can set `force_col_wise=true` to remove the overhead.\n",
      "[LightGBM] [Info] Total Bins 8115\n",
      "[LightGBM] [Info] Number of data points in the train set: 30048, number of used features: 59\n",
      "[LightGBM] [Info] Start training from score 0.565045\n",
      "[LightGBM] [Info] Auto-choosing col-wise multi-threading, the overhead of testing was 0.011724 seconds.\n",
      "You can set `force_col_wise=true` to remove the overhead.\n",
      "[LightGBM] [Info] Total Bins 8115\n",
      "[LightGBM] [Info] Number of data points in the train set: 29856, number of used features: 59\n",
      "[LightGBM] [Info] Start training from score 0.557443\n",
      "[LightGBM] [Info] Auto-choosing col-wise multi-threading, the overhead of testing was 0.018377 seconds.\n",
      "You can set `force_col_wise=true` to remove the overhead.\n",
      "[LightGBM] [Info] Total Bins 8115\n",
      "[LightGBM] [Info] Number of data points in the train set: 29808, number of used features: 59\n",
      "[LightGBM] [Info] Start training from score 0.590021\n",
      "[LightGBM] [Info] Auto-choosing row-wise multi-threading, the overhead of testing was 0.005376 seconds.\n",
      "You can set `force_row_wise=true` to remove the overhead.\n",
      "And if memory is not enough, you can set `force_col_wise=true`.\n",
      "[LightGBM] [Info] Total Bins 8115\n",
      "[LightGBM] [Info] Number of data points in the train set: 29760, number of used features: 59\n",
      "[LightGBM] [Info] Start training from score 0.558292\n",
      "[LightGBM] [Info] Auto-choosing col-wise multi-threading, the overhead of testing was 0.018406 seconds.\n",
      "You can set `force_col_wise=true` to remove the overhead.\n",
      "[LightGBM] [Info] Total Bins 8115\n",
      "[LightGBM] [Info] Number of data points in the train set: 29760, number of used features: 59\n",
      "[LightGBM] [Info] Start training from score 0.000000\n",
      "[LightGBM] [Info] Auto-choosing col-wise multi-threading, the overhead of testing was 0.015937 seconds.\n",
      "You can set `force_col_wise=true` to remove the overhead.\n",
      "[LightGBM] [Info] Total Bins 8115\n",
      "[LightGBM] [Info] Number of data points in the train set: 29760, number of used features: 59\n",
      "[LightGBM] [Info] Start training from score 0.607783\n",
      "[LightGBM] [Info] Auto-choosing col-wise multi-threading, the overhead of testing was 0.014537 seconds.\n",
      "You can set `force_col_wise=true` to remove the overhead.\n",
      "[LightGBM] [Info] Total Bins 8115\n",
      "[LightGBM] [Info] Number of data points in the train set: 29520, number of used features: 59\n",
      "[LightGBM] [Info] Start training from score 0.540530\n",
      "[LightGBM] [Info] Auto-choosing col-wise multi-threading, the overhead of testing was 0.010405 seconds.\n",
      "You can set `force_col_wise=true` to remove the overhead.\n",
      "[LightGBM] [Info] Total Bins 8115\n",
      "[LightGBM] [Info] Number of data points in the train set: 29424, number of used features: 59\n",
      "[LightGBM] [Info] Start training from score 0.622449\n",
      "[LightGBM] [Info] Auto-choosing col-wise multi-threading, the overhead of testing was 0.011355 seconds.\n",
      "You can set `force_col_wise=true` to remove the overhead.\n",
      "[LightGBM] [Info] Total Bins 8115\n",
      "[LightGBM] [Info] Number of data points in the train set: 29424, number of used features: 59\n",
      "[LightGBM] [Info] Start training from score 0.551266\n",
      "[LightGBM] [Info] Auto-choosing col-wise multi-threading, the overhead of testing was 0.011617 seconds.\n",
      "You can set `force_col_wise=true` to remove the overhead.\n",
      "[LightGBM] [Info] Total Bins 8115\n",
      "[LightGBM] [Info] Number of data points in the train set: 29424, number of used features: 59\n",
      "[LightGBM] [Info] Start training from score 0.565261\n",
      "[LightGBM] [Info] Auto-choosing row-wise multi-threading, the overhead of testing was 0.004178 seconds.\n",
      "You can set `force_row_wise=true` to remove the overhead.\n",
      "And if memory is not enough, you can set `force_col_wise=true`.\n",
      "[LightGBM] [Info] Total Bins 8115\n",
      "[LightGBM] [Info] Number of data points in the train set: 29424, number of used features: 59\n",
      "[LightGBM] [Info] Start training from score 0.585869\n",
      "[LightGBM] [Info] Auto-choosing col-wise multi-threading, the overhead of testing was 0.011774 seconds.\n",
      "You can set `force_col_wise=true` to remove the overhead.\n",
      "[LightGBM] [Info] Total Bins 8115\n",
      "[LightGBM] [Info] Number of data points in the train set: 29232, number of used features: 59\n",
      "[LightGBM] [Info] Start training from score 0.526332\n",
      "[LightGBM] [Info] Auto-choosing col-wise multi-threading, the overhead of testing was 0.013049 seconds.\n",
      "You can set `force_col_wise=true` to remove the overhead.\n",
      "[LightGBM] [Info] Total Bins 8115\n",
      "[LightGBM] [Info] Number of data points in the train set: 29232, number of used features: 59\n",
      "[LightGBM] [Info] Start training from score 0.579554\n",
      "[LightGBM] [Info] Auto-choosing col-wise multi-threading, the overhead of testing was 0.018172 seconds.\n",
      "You can set `force_col_wise=true` to remove the overhead.\n",
      "[LightGBM] [Info] Total Bins 8115\n",
      "[LightGBM] [Info] Number of data points in the train set: 29184, number of used features: 59\n",
      "[LightGBM] [Info] Start training from score 0.639040\n",
      "[LightGBM] [Info] Auto-choosing row-wise multi-threading, the overhead of testing was 0.003806 seconds.\n",
      "You can set `force_row_wise=true` to remove the overhead.\n",
      "And if memory is not enough, you can set `force_col_wise=true`.\n",
      "[LightGBM] [Info] Total Bins 8115\n",
      "[LightGBM] [Info] Number of data points in the train set: 29184, number of used features: 59\n",
      "[LightGBM] [Info] Start training from score 0.526277\n",
      "[LightGBM] [Info] Auto-choosing col-wise multi-threading, the overhead of testing was 0.010603 seconds.\n",
      "You can set `force_col_wise=true` to remove the overhead.\n",
      "[LightGBM] [Info] Total Bins 8070\n",
      "[LightGBM] [Info] Number of data points in the train set: 28848, number of used features: 59\n",
      "[LightGBM] [Info] Start training from score 0.515246\n",
      "[LightGBM] [Info] Auto-choosing col-wise multi-threading, the overhead of testing was 0.010920 seconds.\n",
      "You can set `force_col_wise=true` to remove the overhead.\n",
      "[LightGBM] [Info] Total Bins 8115\n",
      "[LightGBM] [Info] Number of data points in the train set: 28608, number of used features: 59\n",
      "[LightGBM] [Info] Start training from score 0.575962\n",
      "[LightGBM] [Info] Auto-choosing row-wise multi-threading, the overhead of testing was 0.014459 seconds.\n",
      "You can set `force_row_wise=true` to remove the overhead.\n",
      "And if memory is not enough, you can set `force_col_wise=true`.\n",
      "[LightGBM] [Info] Total Bins 8115\n",
      "[LightGBM] [Info] Number of data points in the train set: 28608, number of used features: 59\n",
      "[LightGBM] [Info] Start training from score 0.561316\n",
      "[LightGBM] [Info] Auto-choosing col-wise multi-threading, the overhead of testing was 0.012727 seconds.\n",
      "You can set `force_col_wise=true` to remove the overhead.\n",
      "[LightGBM] [Info] Total Bins 8115\n",
      "[LightGBM] [Info] Number of data points in the train set: 28608, number of used features: 59\n",
      "[LightGBM] [Info] Start training from score 0.672198\n",
      "[LightGBM] [Info] Auto-choosing col-wise multi-threading, the overhead of testing was 0.011530 seconds.\n",
      "You can set `force_col_wise=true` to remove the overhead.\n",
      "[LightGBM] [Info] Total Bins 7770\n",
      "[LightGBM] [Info] Number of data points in the train set: 28608, number of used features: 59\n",
      "[LightGBM] [Info] Start training from score -0.000001\n",
      "[LightGBM] [Info] Auto-choosing col-wise multi-threading, the overhead of testing was 0.011402 seconds.\n",
      "You can set `force_col_wise=true` to remove the overhead.\n",
      "[LightGBM] [Info] Total Bins 8115\n",
      "[LightGBM] [Info] Number of data points in the train set: 28608, number of used features: 59\n",
      "[LightGBM] [Info] Start training from score 0.587089\n",
      "[LightGBM] [Info] Auto-choosing col-wise multi-threading, the overhead of testing was 0.012488 seconds.\n",
      "You can set `force_col_wise=true` to remove the overhead.\n",
      "[LightGBM] [Info] Total Bins 8115\n",
      "[LightGBM] [Info] Number of data points in the train set: 28464, number of used features: 59\n",
      "[LightGBM] [Info] Start training from score 0.596716\n",
      "[LightGBM] [Info] Auto-choosing col-wise multi-threading, the overhead of testing was 0.010610 seconds.\n",
      "You can set `force_col_wise=true` to remove the overhead.\n",
      "[LightGBM] [Info] Total Bins 8115\n",
      "[LightGBM] [Info] Number of data points in the train set: 28416, number of used features: 59\n",
      "[LightGBM] [Info] Start training from score 0.597667\n",
      "[LightGBM] [Info] Auto-choosing row-wise multi-threading, the overhead of testing was 0.003209 seconds.\n",
      "You can set `force_row_wise=true` to remove the overhead.\n",
      "And if memory is not enough, you can set `force_col_wise=true`.\n",
      "[LightGBM] [Info] Total Bins 8115\n",
      "[LightGBM] [Info] Number of data points in the train set: 28272, number of used features: 59\n",
      "[LightGBM] [Info] Start training from score 0.578746\n",
      "[LightGBM] [Info] Auto-choosing col-wise multi-threading, the overhead of testing was 0.011372 seconds.\n",
      "You can set `force_col_wise=true` to remove the overhead.\n",
      "[LightGBM] [Info] Total Bins 8115\n",
      "[LightGBM] [Info] Number of data points in the train set: 28224, number of used features: 59\n",
      "[LightGBM] [Info] Start training from score 0.599999\n",
      "[LightGBM] [Info] Auto-choosing row-wise multi-threading, the overhead of testing was 0.006159 seconds.\n",
      "You can set `force_row_wise=true` to remove the overhead.\n",
      "And if memory is not enough, you can set `force_col_wise=true`.\n",
      "[LightGBM] [Info] Total Bins 8115\n",
      "[LightGBM] [Info] Number of data points in the train set: 28224, number of used features: 59\n",
      "[LightGBM] [Info] Start training from score 0.577271\n",
      "[LightGBM] [Info] Auto-choosing row-wise multi-threading, the overhead of testing was 0.008468 seconds.\n",
      "You can set `force_row_wise=true` to remove the overhead.\n",
      "And if memory is not enough, you can set `force_col_wise=true`.\n",
      "[LightGBM] [Info] Total Bins 8115\n",
      "[LightGBM] [Info] Number of data points in the train set: 28224, number of used features: 59\n",
      "[LightGBM] [Info] Start training from score 0.566450\n",
      "[LightGBM] [Info] Auto-choosing row-wise multi-threading, the overhead of testing was 0.004507 seconds.\n",
      "You can set `force_row_wise=true` to remove the overhead.\n",
      "And if memory is not enough, you can set `force_col_wise=true`.\n",
      "[LightGBM] [Info] Total Bins 8115\n",
      "[LightGBM] [Info] Number of data points in the train set: 28080, number of used features: 59\n",
      "[LightGBM] [Info] Start training from score 0.556328\n",
      "[LightGBM] [Info] Auto-choosing row-wise multi-threading, the overhead of testing was 0.004832 seconds.\n",
      "You can set `force_row_wise=true` to remove the overhead.\n",
      "And if memory is not enough, you can set `force_col_wise=true`.\n",
      "[LightGBM] [Info] Total Bins 8115\n",
      "[LightGBM] [Info] Number of data points in the train set: 28032, number of used features: 59\n",
      "[LightGBM] [Info] Start training from score 0.581785\n",
      "[LightGBM] [Info] Auto-choosing col-wise multi-threading, the overhead of testing was 0.011283 seconds.\n",
      "You can set `force_col_wise=true` to remove the overhead.\n",
      "[LightGBM] [Info] Total Bins 8115\n",
      "[LightGBM] [Info] Number of data points in the train set: 27888, number of used features: 59\n",
      "[LightGBM] [Info] Start training from score 0.622815\n",
      "[LightGBM] [Info] Auto-choosing col-wise multi-threading, the overhead of testing was 0.011066 seconds.\n",
      "You can set `force_col_wise=true` to remove the overhead.\n",
      "[LightGBM] [Info] Total Bins 8115\n",
      "[LightGBM] [Info] Number of data points in the train set: 27744, number of used features: 59\n",
      "[LightGBM] [Info] Start training from score 0.562455\n",
      "[LightGBM] [Info] Auto-choosing col-wise multi-threading, the overhead of testing was 0.009917 seconds.\n",
      "You can set `force_col_wise=true` to remove the overhead.\n",
      "[LightGBM] [Info] Total Bins 8115\n",
      "[LightGBM] [Info] Number of data points in the train set: 27504, number of used features: 59\n",
      "[LightGBM] [Info] Start training from score 0.586643\n",
      "[LightGBM] [Info] Auto-choosing col-wise multi-threading, the overhead of testing was 0.010985 seconds.\n",
      "You can set `force_col_wise=true` to remove the overhead.\n",
      "[LightGBM] [Info] Total Bins 8115\n",
      "[LightGBM] [Info] Number of data points in the train set: 27504, number of used features: 59\n",
      "[LightGBM] [Info] Start training from score 0.587291\n",
      "[LightGBM] [Info] Auto-choosing col-wise multi-threading, the overhead of testing was 0.029727 seconds.\n",
      "You can set `force_col_wise=true` to remove the overhead.\n",
      "[LightGBM] [Info] Total Bins 8115\n",
      "[LightGBM] [Info] Number of data points in the train set: 27456, number of used features: 59\n",
      "[LightGBM] [Info] Start training from score 0.535395\n",
      "[LightGBM] [Info] Auto-choosing col-wise multi-threading, the overhead of testing was 0.011546 seconds.\n",
      "You can set `force_col_wise=true` to remove the overhead.\n",
      "[LightGBM] [Info] Total Bins 8115\n",
      "[LightGBM] [Info] Number of data points in the train set: 27408, number of used features: 59\n",
      "[LightGBM] [Info] Start training from score 1.924435\n",
      "[LightGBM] [Info] Auto-choosing col-wise multi-threading, the overhead of testing was 0.017875 seconds.\n",
      "You can set `force_col_wise=true` to remove the overhead.\n",
      "[LightGBM] [Info] Total Bins 8115\n",
      "[LightGBM] [Info] Number of data points in the train set: 27360, number of used features: 59\n",
      "[LightGBM] [Info] Start training from score 0.549799\n",
      "[LightGBM] [Info] Auto-choosing col-wise multi-threading, the overhead of testing was 0.015871 seconds.\n",
      "You can set `force_col_wise=true` to remove the overhead.\n",
      "[LightGBM] [Info] Total Bins 8115\n",
      "[LightGBM] [Info] Number of data points in the train set: 27360, number of used features: 59\n",
      "[LightGBM] [Info] Start training from score 0.615394\n",
      "[LightGBM] [Info] Auto-choosing col-wise multi-threading, the overhead of testing was 0.009939 seconds.\n",
      "You can set `force_col_wise=true` to remove the overhead.\n",
      "[LightGBM] [Info] Total Bins 8115\n",
      "[LightGBM] [Info] Number of data points in the train set: 27264, number of used features: 59\n",
      "[LightGBM] [Info] Start training from score 0.510827\n",
      "[LightGBM] [Info] Auto-choosing col-wise multi-threading, the overhead of testing was 0.012636 seconds.\n",
      "You can set `force_col_wise=true` to remove the overhead.\n",
      "[LightGBM] [Info] Total Bins 8115\n",
      "[LightGBM] [Info] Number of data points in the train set: 27216, number of used features: 59\n",
      "[LightGBM] [Info] Start training from score 0.576101\n",
      "[LightGBM] [Info] Auto-choosing col-wise multi-threading, the overhead of testing was 0.010702 seconds.\n",
      "You can set `force_col_wise=true` to remove the overhead.\n",
      "[LightGBM] [Info] Total Bins 8115\n",
      "[LightGBM] [Info] Number of data points in the train set: 27216, number of used features: 59\n",
      "[LightGBM] [Info] Start training from score 0.587129\n",
      "[LightGBM] [Info] Auto-choosing col-wise multi-threading, the overhead of testing was 0.012925 seconds.\n",
      "You can set `force_col_wise=true` to remove the overhead.\n",
      "[LightGBM] [Info] Total Bins 8115\n",
      "[LightGBM] [Info] Number of data points in the train set: 27024, number of used features: 59\n",
      "[LightGBM] [Info] Start training from score 0.000014\n",
      "[LightGBM] [Info] Auto-choosing col-wise multi-threading, the overhead of testing was 0.015687 seconds.\n",
      "You can set `force_col_wise=true` to remove the overhead.\n",
      "[LightGBM] [Info] Total Bins 8115\n",
      "[LightGBM] [Info] Number of data points in the train set: 26976, number of used features: 59\n",
      "[LightGBM] [Info] Start training from score 0.618479\n",
      "[LightGBM] [Info] Auto-choosing row-wise multi-threading, the overhead of testing was 0.004359 seconds.\n",
      "You can set `force_row_wise=true` to remove the overhead.\n",
      "And if memory is not enough, you can set `force_col_wise=true`.\n",
      "[LightGBM] [Info] Total Bins 8115\n",
      "[LightGBM] [Info] Number of data points in the train set: 26880, number of used features: 59\n",
      "[LightGBM] [Info] Start training from score 0.611086\n",
      "[LightGBM] [Info] Auto-choosing col-wise multi-threading, the overhead of testing was 0.010912 seconds.\n",
      "You can set `force_col_wise=true` to remove the overhead.\n",
      "[LightGBM] [Info] Total Bins 8115\n",
      "[LightGBM] [Info] Number of data points in the train set: 26688, number of used features: 59\n",
      "[LightGBM] [Info] Start training from score 0.000048\n",
      "[LightGBM] [Info] Auto-choosing col-wise multi-threading, the overhead of testing was 0.013117 seconds.\n",
      "You can set `force_col_wise=true` to remove the overhead.\n",
      "[LightGBM] [Info] Total Bins 8115\n",
      "[LightGBM] [Info] Number of data points in the train set: 26400, number of used features: 59\n",
      "[LightGBM] [Info] Start training from score 0.096676\n",
      "[LightGBM] [Info] Auto-choosing col-wise multi-threading, the overhead of testing was 0.010076 seconds.\n",
      "You can set `force_col_wise=true` to remove the overhead.\n",
      "[LightGBM] [Info] Total Bins 8115\n",
      "[LightGBM] [Info] Number of data points in the train set: 26352, number of used features: 59\n",
      "[LightGBM] [Info] Start training from score 0.539094\n",
      "[LightGBM] [Info] Auto-choosing row-wise multi-threading, the overhead of testing was 0.003513 seconds.\n",
      "You can set `force_row_wise=true` to remove the overhead.\n",
      "And if memory is not enough, you can set `force_col_wise=true`.\n",
      "[LightGBM] [Info] Total Bins 8115\n",
      "[LightGBM] [Info] Number of data points in the train set: 29712, number of used features: 59\n",
      "[LightGBM] [Info] Start training from score 0.592298\n",
      "[LightGBM] [Info] Auto-choosing row-wise multi-threading, the overhead of testing was 0.012722 seconds.\n",
      "You can set `force_row_wise=true` to remove the overhead.\n",
      "And if memory is not enough, you can set `force_col_wise=true`.\n",
      "[LightGBM] [Info] Total Bins 8115\n",
      "[LightGBM] [Info] Number of data points in the train set: 29712, number of used features: 59\n",
      "[LightGBM] [Info] Start training from score 0.583106\n",
      "[LightGBM] [Info] Auto-choosing col-wise multi-threading, the overhead of testing was 0.011351 seconds.\n",
      "You can set `force_col_wise=true` to remove the overhead.\n",
      "[LightGBM] [Info] Total Bins 8115\n",
      "[LightGBM] [Info] Number of data points in the train set: 29568, number of used features: 59\n",
      "[LightGBM] [Info] Start training from score 0.539205\n",
      "[LightGBM] [Info] Auto-choosing col-wise multi-threading, the overhead of testing was 0.011776 seconds.\n",
      "You can set `force_col_wise=true` to remove the overhead.\n",
      "[LightGBM] [Info] Total Bins 8115\n",
      "[LightGBM] [Info] Number of data points in the train set: 29568, number of used features: 59\n",
      "[LightGBM] [Info] Start training from score 0.739394\n",
      "[LightGBM] [Info] Auto-choosing col-wise multi-threading, the overhead of testing was 0.013046 seconds.\n",
      "You can set `force_col_wise=true` to remove the overhead.\n",
      "[LightGBM] [Info] Total Bins 8115\n",
      "[LightGBM] [Info] Number of data points in the train set: 29424, number of used features: 59\n",
      "[LightGBM] [Info] Start training from score 0.530247\n",
      "[LightGBM] [Info] Auto-choosing col-wise multi-threading, the overhead of testing was 0.012561 seconds.\n",
      "You can set `force_col_wise=true` to remove the overhead.\n",
      "[LightGBM] [Info] Total Bins 8115\n",
      "[LightGBM] [Info] Number of data points in the train set: 29232, number of used features: 59\n",
      "[LightGBM] [Info] Start training from score 1.034012\n",
      "[LightGBM] [Info] Auto-choosing row-wise multi-threading, the overhead of testing was 0.004505 seconds.\n",
      "You can set `force_row_wise=true` to remove the overhead.\n",
      "And if memory is not enough, you can set `force_col_wise=true`.\n",
      "[LightGBM] [Info] Total Bins 8115\n",
      "[LightGBM] [Info] Number of data points in the train set: 29280, number of used features: 59\n",
      "[LightGBM] [Info] Start training from score 0.000002\n",
      "[LightGBM] [Info] Auto-choosing col-wise multi-threading, the overhead of testing was 0.013312 seconds.\n",
      "You can set `force_col_wise=true` to remove the overhead.\n",
      "[LightGBM] [Info] Total Bins 8115\n",
      "[LightGBM] [Info] Number of data points in the train set: 29232, number of used features: 59\n",
      "[LightGBM] [Info] Start training from score 0.556078\n",
      "[LightGBM] [Info] Auto-choosing row-wise multi-threading, the overhead of testing was 0.004450 seconds.\n",
      "You can set `force_row_wise=true` to remove the overhead.\n",
      "And if memory is not enough, you can set `force_col_wise=true`.\n",
      "[LightGBM] [Info] Total Bins 8115\n",
      "[LightGBM] [Info] Number of data points in the train set: 25920, number of used features: 59\n",
      "[LightGBM] [Info] Start training from score 0.582614\n",
      "[LightGBM] [Info] Auto-choosing col-wise multi-threading, the overhead of testing was 0.012895 seconds.\n",
      "You can set `force_col_wise=true` to remove the overhead.\n",
      "[LightGBM] [Info] Total Bins 8115\n",
      "[LightGBM] [Info] Number of data points in the train set: 25920, number of used features: 59\n",
      "[LightGBM] [Info] Start training from score 0.599769\n",
      "[LightGBM] [Info] Auto-choosing col-wise multi-threading, the overhead of testing was 0.010581 seconds.\n",
      "You can set `force_col_wise=true` to remove the overhead.\n",
      "[LightGBM] [Info] Total Bins 8115\n",
      "[LightGBM] [Info] Number of data points in the train set: 25920, number of used features: 59\n",
      "[LightGBM] [Info] Start training from score 0.577128\n",
      "[LightGBM] [Info] Auto-choosing col-wise multi-threading, the overhead of testing was 0.012024 seconds.\n",
      "You can set `force_col_wise=true` to remove the overhead.\n",
      "[LightGBM] [Info] Total Bins 8115\n",
      "[LightGBM] [Info] Number of data points in the train set: 29088, number of used features: 59\n",
      "[LightGBM] [Info] Start training from score 0.564290\n",
      "[LightGBM] [Info] Auto-choosing col-wise multi-threading, the overhead of testing was 0.023053 seconds.\n",
      "You can set `force_col_wise=true` to remove the overhead.\n",
      "[LightGBM] [Info] Total Bins 8115\n",
      "[LightGBM] [Info] Number of data points in the train set: 28896, number of used features: 59\n",
      "[LightGBM] [Info] Start training from score 0.545689\n",
      "[LightGBM] [Info] Auto-choosing col-wise multi-threading, the overhead of testing was 0.010785 seconds.\n",
      "You can set `force_col_wise=true` to remove the overhead.\n",
      "[LightGBM] [Info] Total Bins 8115\n",
      "[LightGBM] [Info] Number of data points in the train set: 26784, number of used features: 59\n",
      "[LightGBM] [Info] Start training from score 0.583896\n",
      "[LightGBM] [Info] Auto-choosing row-wise multi-threading, the overhead of testing was 0.004001 seconds.\n",
      "You can set `force_row_wise=true` to remove the overhead.\n",
      "And if memory is not enough, you can set `force_col_wise=true`.\n",
      "[LightGBM] [Info] Total Bins 8115\n",
      "[LightGBM] [Info] Number of data points in the train set: 28848, number of used features: 59\n",
      "[LightGBM] [Info] Start training from score 0.559469\n",
      "[LightGBM] [Info] Auto-choosing row-wise multi-threading, the overhead of testing was 0.017555 seconds.\n",
      "You can set `force_row_wise=true` to remove the overhead.\n",
      "And if memory is not enough, you can set `force_col_wise=true`.\n",
      "[LightGBM] [Info] Total Bins 8115\n",
      "[LightGBM] [Info] Number of data points in the train set: 28800, number of used features: 59\n",
      "[LightGBM] [Info] Start training from score -0.000008\n",
      "[LightGBM] [Info] Auto-choosing col-wise multi-threading, the overhead of testing was 0.008891 seconds.\n",
      "You can set `force_col_wise=true` to remove the overhead.\n",
      "[LightGBM] [Info] Total Bins 8115\n",
      "[LightGBM] [Info] Number of data points in the train set: 26256, number of used features: 59\n",
      "[LightGBM] [Info] Start training from score 0.556498\n",
      "[LightGBM] [Info] Auto-choosing row-wise multi-threading, the overhead of testing was 0.004058 seconds.\n",
      "You can set `force_row_wise=true` to remove the overhead.\n",
      "And if memory is not enough, you can set `force_col_wise=true`.\n",
      "[LightGBM] [Info] Total Bins 8115\n",
      "[LightGBM] [Info] Number of data points in the train set: 26112, number of used features: 59\n",
      "[LightGBM] [Info] Start training from score 0.000002\n",
      "[LightGBM] [Info] Auto-choosing row-wise multi-threading, the overhead of testing was 0.004930 seconds.\n",
      "You can set `force_row_wise=true` to remove the overhead.\n",
      "And if memory is not enough, you can set `force_col_wise=true`.\n",
      "[LightGBM] [Info] Total Bins 8115\n",
      "[LightGBM] [Info] Number of data points in the train set: 26208, number of used features: 59\n",
      "[LightGBM] [Info] Start training from score 0.542697\n",
      "[LightGBM] [Info] Auto-choosing col-wise multi-threading, the overhead of testing was 0.010059 seconds.\n",
      "You can set `force_col_wise=true` to remove the overhead.\n",
      "[LightGBM] [Info] Total Bins 8115\n",
      "[LightGBM] [Info] Number of data points in the train set: 26160, number of used features: 59\n",
      "[LightGBM] [Info] Start training from score 0.614402\n",
      "[LightGBM] [Info] Auto-choosing col-wise multi-threading, the overhead of testing was 0.017448 seconds.\n",
      "You can set `force_col_wise=true` to remove the overhead.\n",
      "[LightGBM] [Info] Total Bins 6795\n",
      "[LightGBM] [Info] Number of data points in the train set: 28464, number of used features: 59\n",
      "[LightGBM] [Info] Start training from score 0.512353\n",
      "[LightGBM] [Info] Auto-choosing col-wise multi-threading, the overhead of testing was 0.010619 seconds.\n",
      "You can set `force_col_wise=true` to remove the overhead.\n",
      "[LightGBM] [Info] Total Bins 8115\n",
      "[LightGBM] [Info] Number of data points in the train set: 28560, number of used features: 59\n",
      "[LightGBM] [Info] Start training from score 0.000000\n",
      "[LightGBM] [Info] Auto-choosing col-wise multi-threading, the overhead of testing was 0.011150 seconds.\n",
      "You can set `force_col_wise=true` to remove the overhead.\n",
      "[LightGBM] [Info] Total Bins 8115\n",
      "[LightGBM] [Info] Number of data points in the train set: 28512, number of used features: 59\n",
      "[LightGBM] [Info] Start training from score 0.622601\n",
      "[LightGBM] [Info] Auto-choosing col-wise multi-threading, the overhead of testing was 0.009516 seconds.\n",
      "You can set `force_col_wise=true` to remove the overhead.\n",
      "[LightGBM] [Info] Total Bins 8115\n",
      "[LightGBM] [Info] Number of data points in the train set: 25680, number of used features: 59\n",
      "[LightGBM] [Info] Start training from score 0.614878\n",
      "[LightGBM] [Info] Auto-choosing col-wise multi-threading, the overhead of testing was 0.011733 seconds.\n",
      "You can set `force_col_wise=true` to remove the overhead.\n",
      "[LightGBM] [Info] Total Bins 8115\n",
      "[LightGBM] [Info] Number of data points in the train set: 22560, number of used features: 59\n",
      "[LightGBM] [Info] Start training from score 0.597181\n",
      "[LightGBM] [Info] Auto-choosing col-wise multi-threading, the overhead of testing was 0.008399 seconds.\n",
      "You can set `force_col_wise=true` to remove the overhead.\n",
      "[LightGBM] [Info] Total Bins 8115\n",
      "[LightGBM] [Info] Number of data points in the train set: 22224, number of used features: 59\n",
      "[LightGBM] [Info] Start training from score 0.619196\n",
      "[LightGBM] [Info] Auto-choosing col-wise multi-threading, the overhead of testing was 0.010748 seconds.\n",
      "You can set `force_col_wise=true` to remove the overhead.\n",
      "[LightGBM] [Info] Total Bins 8115\n",
      "[LightGBM] [Info] Number of data points in the train set: 22224, number of used features: 59\n",
      "[LightGBM] [Info] Start training from score 0.606840\n",
      "[LightGBM] [Info] Auto-choosing row-wise multi-threading, the overhead of testing was 0.003121 seconds.\n",
      "You can set `force_row_wise=true` to remove the overhead.\n",
      "And if memory is not enough, you can set `force_col_wise=true`.\n",
      "[LightGBM] [Info] Total Bins 8115\n",
      "[LightGBM] [Info] Number of data points in the train set: 22080, number of used features: 59\n",
      "[LightGBM] [Info] Start training from score 0.595108\n",
      "[LightGBM] [Info] Auto-choosing col-wise multi-threading, the overhead of testing was 0.008541 seconds.\n",
      "You can set `force_col_wise=true` to remove the overhead.\n",
      "[LightGBM] [Info] Total Bins 8115\n",
      "[LightGBM] [Info] Number of data points in the train set: 22032, number of used features: 59\n",
      "[LightGBM] [Info] Start training from score 0.597977\n",
      "[LightGBM] [Info] Auto-choosing col-wise multi-threading, the overhead of testing was 0.009006 seconds.\n",
      "You can set `force_col_wise=true` to remove the overhead.\n",
      "[LightGBM] [Info] Total Bins 8115\n",
      "[LightGBM] [Info] Number of data points in the train set: 21888, number of used features: 59\n",
      "[LightGBM] [Info] Start training from score 0.556007\n",
      "[LightGBM] [Info] Auto-choosing col-wise multi-threading, the overhead of testing was 0.009573 seconds.\n",
      "You can set `force_col_wise=true` to remove the overhead.\n",
      "[LightGBM] [Info] Total Bins 8115\n",
      "[LightGBM] [Info] Number of data points in the train set: 21840, number of used features: 59\n",
      "[LightGBM] [Info] Start training from score 0.617237\n",
      "[LightGBM] [Info] Auto-choosing col-wise multi-threading, the overhead of testing was 0.022097 seconds.\n",
      "You can set `force_col_wise=true` to remove the overhead.\n",
      "[LightGBM] [Info] Total Bins 8115\n",
      "[LightGBM] [Info] Number of data points in the train set: 21840, number of used features: 59\n",
      "[LightGBM] [Info] Start training from score 0.591601\n",
      "[LightGBM] [Info] Auto-choosing col-wise multi-threading, the overhead of testing was 0.008928 seconds.\n",
      "You can set `force_col_wise=true` to remove the overhead.\n",
      "[LightGBM] [Info] Total Bins 8115\n",
      "[LightGBM] [Info] Number of data points in the train set: 21840, number of used features: 59\n",
      "[LightGBM] [Info] Start training from score 0.578398\n",
      "[LightGBM] [Info] Auto-choosing col-wise multi-threading, the overhead of testing was 0.007352 seconds.\n",
      "You can set `force_col_wise=true` to remove the overhead.\n",
      "[LightGBM] [Info] Total Bins 8115\n",
      "[LightGBM] [Info] Number of data points in the train set: 18288, number of used features: 59\n",
      "[LightGBM] [Info] Start training from score -0.000000\n",
      "[LightGBM] [Info] Auto-choosing col-wise multi-threading, the overhead of testing was 0.009070 seconds.\n",
      "You can set `force_col_wise=true` to remove the overhead.\n",
      "[LightGBM] [Info] Total Bins 8115\n",
      "[LightGBM] [Info] Number of data points in the train set: 21744, number of used features: 59\n",
      "[LightGBM] [Info] Start training from score -0.000020\n",
      "[LightGBM] [Info] Auto-choosing col-wise multi-threading, the overhead of testing was 0.007708 seconds.\n",
      "You can set `force_col_wise=true` to remove the overhead.\n",
      "[LightGBM] [Info] Total Bins 8115\n",
      "[LightGBM] [Info] Number of data points in the train set: 21552, number of used features: 59\n",
      "[LightGBM] [Info] Start training from score 0.632441\n",
      "[LightGBM] [Info] Auto-choosing col-wise multi-threading, the overhead of testing was 0.009825 seconds.\n",
      "You can set `force_col_wise=true` to remove the overhead.\n",
      "[LightGBM] [Info] Total Bins 8115\n",
      "[LightGBM] [Info] Number of data points in the train set: 21552, number of used features: 59\n",
      "[LightGBM] [Info] Start training from score 0.569954\n",
      "[LightGBM] [Info] Auto-choosing col-wise multi-threading, the overhead of testing was 0.007617 seconds.\n",
      "You can set `force_col_wise=true` to remove the overhead.\n",
      "[LightGBM] [Info] Total Bins 8115\n",
      "[LightGBM] [Info] Number of data points in the train set: 21552, number of used features: 59\n",
      "[LightGBM] [Info] Start training from score 0.562417\n",
      "[LightGBM] [Info] Auto-choosing row-wise multi-threading, the overhead of testing was 0.003084 seconds.\n",
      "You can set `force_row_wise=true` to remove the overhead.\n",
      "And if memory is not enough, you can set `force_col_wise=true`.\n",
      "[LightGBM] [Info] Total Bins 8115\n",
      "[LightGBM] [Info] Number of data points in the train set: 21408, number of used features: 59\n",
      "[LightGBM] [Info] Start training from score 0.555575\n",
      "[LightGBM] [Info] Auto-choosing col-wise multi-threading, the overhead of testing was 0.008507 seconds.\n",
      "You can set `force_col_wise=true` to remove the overhead.\n",
      "[LightGBM] [Info] Total Bins 7804\n",
      "[LightGBM] [Info] Number of data points in the train set: 21360, number of used features: 59\n",
      "[LightGBM] [Info] Start training from score 0.517975\n",
      "[LightGBM] [Info] Auto-choosing col-wise multi-threading, the overhead of testing was 0.008642 seconds.\n",
      "You can set `force_col_wise=true` to remove the overhead.\n",
      "[LightGBM] [Info] Total Bins 8115\n",
      "[LightGBM] [Info] Number of data points in the train set: 21360, number of used features: 59\n",
      "[LightGBM] [Info] Start training from score 0.600620\n",
      "[LightGBM] [Info] Auto-choosing col-wise multi-threading, the overhead of testing was 0.007224 seconds.\n",
      "You can set `force_col_wise=true` to remove the overhead.\n",
      "[LightGBM] [Info] Total Bins 8115\n",
      "[LightGBM] [Info] Number of data points in the train set: 21168, number of used features: 59\n",
      "[LightGBM] [Info] Start training from score 0.633604\n",
      "[LightGBM] [Info] Auto-choosing col-wise multi-threading, the overhead of testing was 0.008168 seconds.\n",
      "You can set `force_col_wise=true` to remove the overhead.\n",
      "[LightGBM] [Info] Total Bins 8115\n",
      "[LightGBM] [Info] Number of data points in the train set: 21072, number of used features: 59\n",
      "[LightGBM] [Info] Start training from score 0.591772\n",
      "[LightGBM] [Info] Auto-choosing col-wise multi-threading, the overhead of testing was 0.007484 seconds.\n",
      "You can set `force_col_wise=true` to remove the overhead.\n",
      "[LightGBM] [Info] Total Bins 8115\n",
      "[LightGBM] [Info] Number of data points in the train set: 20976, number of used features: 59\n",
      "[LightGBM] [Info] Start training from score 0.621925\n",
      "[LightGBM] [Info] Auto-choosing col-wise multi-threading, the overhead of testing was 0.008052 seconds.\n",
      "You can set `force_col_wise=true` to remove the overhead.\n",
      "[LightGBM] [Info] Total Bins 8115\n",
      "[LightGBM] [Info] Number of data points in the train set: 20832, number of used features: 59\n",
      "[LightGBM] [Info] Start training from score 0.646320\n",
      "[LightGBM] [Info] Auto-choosing col-wise multi-threading, the overhead of testing was 0.008132 seconds.\n",
      "You can set `force_col_wise=true` to remove the overhead.\n",
      "[LightGBM] [Info] Total Bins 8115\n",
      "[LightGBM] [Info] Number of data points in the train set: 20688, number of used features: 59\n",
      "[LightGBM] [Info] Start training from score 0.629189\n",
      "[LightGBM] [Info] Auto-choosing col-wise multi-threading, the overhead of testing was 0.009746 seconds.\n",
      "You can set `force_col_wise=true` to remove the overhead.\n",
      "[LightGBM] [Info] Total Bins 8115\n",
      "[LightGBM] [Info] Number of data points in the train set: 26064, number of used features: 59\n",
      "[LightGBM] [Info] Start training from score 0.627178\n",
      "[LightGBM] [Info] Auto-choosing col-wise multi-threading, the overhead of testing was 0.010779 seconds.\n",
      "You can set `force_col_wise=true` to remove the overhead.\n",
      "[LightGBM] [Info] Total Bins 8115\n",
      "[LightGBM] [Info] Number of data points in the train set: 28368, number of used features: 59\n",
      "[LightGBM] [Info] Start training from score 0.555159\n",
      "[LightGBM] [Info] Auto-choosing col-wise multi-threading, the overhead of testing was 0.011924 seconds.\n",
      "You can set `force_col_wise=true` to remove the overhead.\n",
      "[LightGBM] [Info] Total Bins 8115\n",
      "[LightGBM] [Info] Number of data points in the train set: 28368, number of used features: 59\n",
      "[LightGBM] [Info] Start training from score 0.574290\n",
      "[LightGBM] [Info] Auto-choosing row-wise multi-threading, the overhead of testing was 0.005041 seconds.\n",
      "You can set `force_row_wise=true` to remove the overhead.\n",
      "And if memory is not enough, you can set `force_col_wise=true`.\n",
      "[LightGBM] [Info] Total Bins 8115\n",
      "[LightGBM] [Info] Number of data points in the train set: 28272, number of used features: 59\n",
      "[LightGBM] [Info] Start training from score 0.549166\n",
      "[LightGBM] [Info] Auto-choosing col-wise multi-threading, the overhead of testing was 0.010599 seconds.\n",
      "You can set `force_col_wise=true` to remove the overhead.\n",
      "[LightGBM] [Info] Total Bins 8115\n",
      "[LightGBM] [Info] Number of data points in the train set: 28128, number of used features: 59\n",
      "[LightGBM] [Info] Start training from score 0.595958\n",
      "[LightGBM] [Info] Auto-choosing col-wise multi-threading, the overhead of testing was 0.012821 seconds.\n",
      "You can set `force_col_wise=true` to remove the overhead.\n",
      "[LightGBM] [Info] Total Bins 8115\n",
      "[LightGBM] [Info] Number of data points in the train set: 31536, number of used features: 59\n",
      "[LightGBM] [Info] Start training from score 0.544589\n",
      "[LightGBM] [Info] Auto-choosing row-wise multi-threading, the overhead of testing was 0.003852 seconds.\n",
      "You can set `force_row_wise=true` to remove the overhead.\n",
      "And if memory is not enough, you can set `force_col_wise=true`.\n",
      "[LightGBM] [Info] Total Bins 8115\n",
      "[LightGBM] [Info] Number of data points in the train set: 31488, number of used features: 59\n",
      "[LightGBM] [Info] Start training from score 0.143582\n",
      "[LightGBM] [Info] Auto-choosing col-wise multi-threading, the overhead of testing was 0.011456 seconds.\n",
      "You can set `force_col_wise=true` to remove the overhead.\n",
      "[LightGBM] [Info] Total Bins 8115\n",
      "[LightGBM] [Info] Number of data points in the train set: 31296, number of used features: 59\n",
      "[LightGBM] [Info] Start training from score -0.000017\n",
      "[LightGBM] [Info] Auto-choosing row-wise multi-threading, the overhead of testing was 0.004229 seconds.\n",
      "You can set `force_row_wise=true` to remove the overhead.\n",
      "And if memory is not enough, you can set `force_col_wise=true`.\n",
      "[LightGBM] [Info] Total Bins 8115\n",
      "[LightGBM] [Info] Number of data points in the train set: 31296, number of used features: 59\n",
      "[LightGBM] [Info] Start training from score 0.727479\n",
      "[LightGBM] [Info] Auto-choosing col-wise multi-threading, the overhead of testing was 0.013712 seconds.\n",
      "You can set `force_col_wise=true` to remove the overhead.\n",
      "[LightGBM] [Info] Total Bins 8115\n",
      "[LightGBM] [Info] Number of data points in the train set: 35088, number of used features: 59\n",
      "[LightGBM] [Info] Start training from score 0.623573\n",
      "[LightGBM] [Info] Auto-choosing col-wise multi-threading, the overhead of testing was 0.013187 seconds.\n",
      "You can set `force_col_wise=true` to remove the overhead.\n",
      "[LightGBM] [Info] Total Bins 8115\n",
      "[LightGBM] [Info] Number of data points in the train set: 35088, number of used features: 59\n",
      "[LightGBM] [Info] Start training from score 0.583620\n",
      "[LightGBM] [Info] Auto-choosing col-wise multi-threading, the overhead of testing was 0.012798 seconds.\n",
      "You can set `force_col_wise=true` to remove the overhead.\n",
      "[LightGBM] [Info] Total Bins 8115\n",
      "[LightGBM] [Info] Number of data points in the train set: 35088, number of used features: 59\n",
      "[LightGBM] [Info] Start training from score 0.622058\n",
      "[LightGBM] [Info] Auto-choosing row-wise multi-threading, the overhead of testing was 0.006173 seconds.\n",
      "You can set `force_row_wise=true` to remove the overhead.\n",
      "And if memory is not enough, you can set `force_col_wise=true`.\n",
      "[LightGBM] [Info] Total Bins 8115\n",
      "[LightGBM] [Info] Number of data points in the train set: 35088, number of used features: 59\n",
      "[LightGBM] [Info] Start training from score 0.633053\n",
      "[LightGBM] [Info] Auto-choosing col-wise multi-threading, the overhead of testing was 0.014655 seconds.\n",
      "You can set `force_col_wise=true` to remove the overhead.\n",
      "[LightGBM] [Info] Total Bins 8115\n",
      "[LightGBM] [Info] Number of data points in the train set: 35088, number of used features: 59\n",
      "[LightGBM] [Info] Start training from score 0.533477\n",
      "[LightGBM] [Info] Auto-choosing col-wise multi-threading, the overhead of testing was 0.009719 seconds.\n",
      "You can set `force_col_wise=true` to remove the overhead.\n",
      "[LightGBM] [Info] Total Bins 8115\n",
      "[LightGBM] [Info] Number of data points in the train set: 25776, number of used features: 59\n",
      "[LightGBM] [Info] Start training from score 0.546740\n",
      "[LightGBM] [Info] Auto-choosing col-wise multi-threading, the overhead of testing was 0.009292 seconds.\n",
      "You can set `force_col_wise=true` to remove the overhead.\n",
      "[LightGBM] [Info] Total Bins 8115\n",
      "[LightGBM] [Info] Number of data points in the train set: 25776, number of used features: 59\n",
      "[LightGBM] [Info] Start training from score 0.000001\n",
      "[LightGBM] [Info] Auto-choosing col-wise multi-threading, the overhead of testing was 0.011674 seconds.\n",
      "You can set `force_col_wise=true` to remove the overhead.\n",
      "[LightGBM] [Info] Total Bins 8115\n",
      "[LightGBM] [Info] Number of data points in the train set: 25776, number of used features: 59\n",
      "[LightGBM] [Info] Start training from score -0.000039\n",
      "[LightGBM] [Info] Auto-choosing col-wise multi-threading, the overhead of testing was 0.010418 seconds.\n",
      "You can set `force_col_wise=true` to remove the overhead.\n",
      "[LightGBM] [Info] Total Bins 8115\n",
      "[LightGBM] [Info] Number of data points in the train set: 25728, number of used features: 59\n",
      "[LightGBM] [Info] Start training from score 0.601044\n",
      "[LightGBM] [Info] Auto-choosing col-wise multi-threading, the overhead of testing was 0.019164 seconds.\n",
      "You can set `force_col_wise=true` to remove the overhead.\n",
      "[LightGBM] [Info] Total Bins 8115\n",
      "[LightGBM] [Info] Number of data points in the train set: 30528, number of used features: 59\n",
      "[LightGBM] [Info] Start training from score 0.562403\n",
      "[LightGBM] [Info] Auto-choosing col-wise multi-threading, the overhead of testing was 0.011426 seconds.\n",
      "You can set `force_col_wise=true` to remove the overhead.\n",
      "[LightGBM] [Info] Total Bins 8115\n",
      "[LightGBM] [Info] Number of data points in the train set: 30480, number of used features: 59\n",
      "[LightGBM] [Info] Start training from score 0.548371\n",
      "[LightGBM] [Info] Auto-choosing col-wise multi-threading, the overhead of testing was 0.013671 seconds.\n",
      "You can set `force_col_wise=true` to remove the overhead.\n",
      "[LightGBM] [Info] Total Bins 8115\n",
      "[LightGBM] [Info] Number of data points in the train set: 30480, number of used features: 59\n",
      "[LightGBM] [Info] Start training from score -0.000027\n",
      "[LightGBM] [Info] Auto-choosing col-wise multi-threading, the overhead of testing was 0.013021 seconds.\n",
      "You can set `force_col_wise=true` to remove the overhead.\n",
      "[LightGBM] [Info] Total Bins 8115\n",
      "[LightGBM] [Info] Number of data points in the train set: 35088, number of used features: 59\n",
      "[LightGBM] [Info] Start training from score 0.575251\n",
      "[LightGBM] [Info] Auto-choosing col-wise multi-threading, the overhead of testing was 0.016841 seconds.\n",
      "You can set `force_col_wise=true` to remove the overhead.\n",
      "[LightGBM] [Info] Total Bins 8115\n",
      "[LightGBM] [Info] Number of data points in the train set: 34416, number of used features: 59\n",
      "[LightGBM] [Info] Start training from score 0.639388\n",
      "[LightGBM] [Info] Auto-choosing col-wise multi-threading, the overhead of testing was 0.013761 seconds.\n",
      "You can set `force_col_wise=true` to remove the overhead.\n",
      "[LightGBM] [Info] Total Bins 8115\n",
      "[LightGBM] [Info] Number of data points in the train set: 34320, number of used features: 59\n",
      "[LightGBM] [Info] Start training from score 0.801518\n",
      "[LightGBM] [Info] Auto-choosing col-wise multi-threading, the overhead of testing was 0.013209 seconds.\n",
      "You can set `force_col_wise=true` to remove the overhead.\n",
      "[LightGBM] [Info] Total Bins 8115\n",
      "[LightGBM] [Info] Number of data points in the train set: 33840, number of used features: 59\n",
      "[LightGBM] [Info] Start training from score 0.557761\n",
      "[LightGBM] [Info] Auto-choosing col-wise multi-threading, the overhead of testing was 0.012488 seconds.\n",
      "You can set `force_col_wise=true` to remove the overhead.\n",
      "[LightGBM] [Info] Total Bins 8115\n",
      "[LightGBM] [Info] Number of data points in the train set: 33744, number of used features: 59\n",
      "[LightGBM] [Info] Start training from score 0.665783\n",
      "[LightGBM] [Info] Auto-choosing col-wise multi-threading, the overhead of testing was 0.011956 seconds.\n",
      "You can set `force_col_wise=true` to remove the overhead.\n",
      "[LightGBM] [Info] Total Bins 8115\n",
      "[LightGBM] [Info] Number of data points in the train set: 27888, number of used features: 59\n",
      "[LightGBM] [Info] Start training from score 0.572722\n",
      "[LightGBM] [Info] Auto-choosing col-wise multi-threading, the overhead of testing was 0.013846 seconds.\n",
      "You can set `force_col_wise=true` to remove the overhead.\n",
      "[LightGBM] [Info] Total Bins 8115\n",
      "[LightGBM] [Info] Number of data points in the train set: 27840, number of used features: 59\n",
      "[LightGBM] [Info] Start training from score 0.000022\n",
      "[LightGBM] [Info] Auto-choosing col-wise multi-threading, the overhead of testing was 0.011716 seconds.\n",
      "You can set `force_col_wise=true` to remove the overhead.\n",
      "[LightGBM] [Info] Total Bins 8115\n",
      "[LightGBM] [Info] Number of data points in the train set: 27840, number of used features: 59\n",
      "[LightGBM] [Info] Start training from score 0.598787\n",
      "[LightGBM] [Info] Auto-choosing col-wise multi-threading, the overhead of testing was 0.009449 seconds.\n",
      "You can set `force_col_wise=true` to remove the overhead.\n",
      "[LightGBM] [Info] Total Bins 8115\n",
      "[LightGBM] [Info] Number of data points in the train set: 27840, number of used features: 59\n",
      "[LightGBM] [Info] Start training from score 0.547824\n",
      "[LightGBM] [Info] Auto-choosing col-wise multi-threading, the overhead of testing was 0.013313 seconds.\n",
      "You can set `force_col_wise=true` to remove the overhead.\n",
      "[LightGBM] [Info] Total Bins 8115\n",
      "[LightGBM] [Info] Number of data points in the train set: 33504, number of used features: 59\n",
      "[LightGBM] [Info] Start training from score 0.534317\n",
      "[LightGBM] [Info] Auto-choosing col-wise multi-threading, the overhead of testing was 0.014118 seconds.\n",
      "You can set `force_col_wise=true` to remove the overhead.\n",
      "[LightGBM] [Info] Total Bins 8115\n",
      "[LightGBM] [Info] Number of data points in the train set: 33408, number of used features: 59\n",
      "[LightGBM] [Info] Start training from score 0.557772\n",
      "[LightGBM] [Info] Auto-choosing col-wise multi-threading, the overhead of testing was 0.012856 seconds.\n",
      "You can set `force_col_wise=true` to remove the overhead.\n",
      "[LightGBM] [Info] Total Bins 8115\n",
      "[LightGBM] [Info] Number of data points in the train set: 33408, number of used features: 59\n",
      "[LightGBM] [Info] Start training from score 0.714413\n",
      "[LightGBM] [Info] Auto-choosing col-wise multi-threading, the overhead of testing was 0.012608 seconds.\n",
      "You can set `force_col_wise=true` to remove the overhead.\n",
      "[LightGBM] [Info] Total Bins 8115\n",
      "[LightGBM] [Info] Number of data points in the train set: 32976, number of used features: 59\n",
      "[LightGBM] [Info] Start training from score 0.731760\n",
      "[LightGBM] [Info] Auto-choosing row-wise multi-threading, the overhead of testing was 0.006152 seconds.\n",
      "You can set `force_row_wise=true` to remove the overhead.\n",
      "And if memory is not enough, you can set `force_col_wise=true`.\n",
      "[LightGBM] [Info] Total Bins 8115\n",
      "[LightGBM] [Info] Number of data points in the train set: 32928, number of used features: 59\n",
      "[LightGBM] [Info] Start training from score -0.000000\n",
      "[LightGBM] [Info] Auto-choosing row-wise multi-threading, the overhead of testing was 0.004977 seconds.\n",
      "You can set `force_row_wise=true` to remove the overhead.\n",
      "And if memory is not enough, you can set `force_col_wise=true`.\n",
      "[LightGBM] [Info] Total Bins 8115\n",
      "[LightGBM] [Info] Number of data points in the train set: 32640, number of used features: 59\n",
      "[LightGBM] [Info] Start training from score -0.000000\n",
      "[LightGBM] [Info] Auto-choosing row-wise multi-threading, the overhead of testing was 0.004954 seconds.\n",
      "You can set `force_row_wise=true` to remove the overhead.\n",
      "And if memory is not enough, you can set `force_col_wise=true`.\n",
      "[LightGBM] [Info] Total Bins 8115\n",
      "[LightGBM] [Info] Number of data points in the train set: 32592, number of used features: 59\n",
      "[LightGBM] [Info] Start training from score 0.705647\n",
      "[LightGBM] [Info] Auto-choosing col-wise multi-threading, the overhead of testing was 0.012319 seconds.\n",
      "You can set `force_col_wise=true` to remove the overhead.\n",
      "[LightGBM] [Info] Total Bins 8115\n",
      "[LightGBM] [Info] Number of data points in the train set: 32496, number of used features: 59\n",
      "[LightGBM] [Info] Start training from score 0.566813\n",
      "[LightGBM] [Info] Auto-choosing col-wise multi-threading, the overhead of testing was 0.012854 seconds.\n",
      "You can set `force_col_wise=true` to remove the overhead.\n",
      "[LightGBM] [Info] Total Bins 8115\n",
      "[LightGBM] [Info] Number of data points in the train set: 29952, number of used features: 59\n",
      "[LightGBM] [Info] Start training from score 0.557588\n",
      "[LightGBM] [Info] Auto-choosing col-wise multi-threading, the overhead of testing was 0.010953 seconds.\n",
      "You can set `force_col_wise=true` to remove the overhead.\n",
      "[LightGBM] [Info] Total Bins 8115\n",
      "[LightGBM] [Info] Number of data points in the train set: 29904, number of used features: 59\n",
      "[LightGBM] [Info] Start training from score 0.574827\n",
      "[LightGBM] [Info] Auto-choosing col-wise multi-threading, the overhead of testing was 0.037722 seconds.\n",
      "You can set `force_col_wise=true` to remove the overhead.\n",
      "[LightGBM] [Info] Total Bins 8115\n",
      "[LightGBM] [Info] Number of data points in the train set: 29904, number of used features: 59\n",
      "[LightGBM] [Info] Start training from score 0.551659\n"
     ]
    }
   ],
   "source": [
    "all_preds = []\n",
    "all_metrics = []\n",
    "#We can parallelize this loop to run this faster\n",
    "for lcl_id in tqdm(lcl_ids):\n",
    "    for model_config in models_to_run:\n",
    "        model_config = model_config.clone()\n",
    "        X_train, y_train, y_train_orig = feat_config.get_X_y(train_df.loc[train_df.LCLid==lcl_id,:], categorical=False, exogenous=False)\n",
    "        X_test, _, y_test_orig = feat_config.get_X_y(test_df.loc[test_df.LCLid==lcl_id,:], categorical=False, exogenous=False)\n",
    "        transformer = transformer_pipelines[lcl_id]\n",
    "        with warnings.catch_warnings():\n",
    "            warnings.simplefilter(\"ignore\")\n",
    "            y_pred, metrics, feat_df = evaluate_model(model_config, feat_config, missing_value_config, transformer, X_train, y_train, X_test, y_test_orig, y_train_orig)\n",
    "        y_pred.name = \"predictions\"\n",
    "        y_pred = y_pred.to_frame()\n",
    "        y_pred['LCLid'] = lcl_id\n",
    "        y_pred['Algorithm'] = model_config.name + \"_auto_stat\"\n",
    "        metrics[\"LCLid\"] = lcl_id\n",
    "        metrics[\"Algorithm\"] = model_config.name + \"_auto_stat\"\n",
    "        y_pred['energy_consumption'] = y_test_orig.values\n",
    "        all_preds.append(y_pred)\n",
    "        all_metrics.append(metrics)"
   ]
  },
  {
   "cell_type": "code",
   "execution_count": 16,
   "id": "5ef397c8-d658-48e7-91e1-224319042e57",
   "metadata": {},
   "outputs": [
    {
     "data": {
      "text/html": [
       "<div>\n",
       "<style scoped>\n",
       "    .dataframe tbody tr th:only-of-type {\n",
       "        vertical-align: middle;\n",
       "    }\n",
       "\n",
       "    .dataframe tbody tr th {\n",
       "        vertical-align: top;\n",
       "    }\n",
       "\n",
       "    .dataframe thead th {\n",
       "        text-align: right;\n",
       "    }\n",
       "</style>\n",
       "<table border=\"1\" class=\"dataframe\">\n",
       "  <thead>\n",
       "    <tr style=\"text-align: right;\">\n",
       "      <th></th>\n",
       "      <th>predictions</th>\n",
       "      <th>LCLid</th>\n",
       "      <th>Algorithm</th>\n",
       "      <th>energy_consumption</th>\n",
       "    </tr>\n",
       "    <tr>\n",
       "      <th>timestamp</th>\n",
       "      <th></th>\n",
       "      <th></th>\n",
       "      <th></th>\n",
       "      <th></th>\n",
       "    </tr>\n",
       "  </thead>\n",
       "  <tbody>\n",
       "    <tr>\n",
       "      <th>2014-01-01 00:00:00</th>\n",
       "      <td>0.119527</td>\n",
       "      <td>MAC000061</td>\n",
       "      <td>Lasso Regression_auto_stat</td>\n",
       "      <td>0.165</td>\n",
       "    </tr>\n",
       "    <tr>\n",
       "      <th>2014-01-01 00:30:00</th>\n",
       "      <td>0.105027</td>\n",
       "      <td>MAC000061</td>\n",
       "      <td>Lasso Regression_auto_stat</td>\n",
       "      <td>0.167</td>\n",
       "    </tr>\n",
       "    <tr>\n",
       "      <th>2014-01-01 01:00:00</th>\n",
       "      <td>0.129575</td>\n",
       "      <td>MAC000061</td>\n",
       "      <td>Lasso Regression_auto_stat</td>\n",
       "      <td>0.150</td>\n",
       "    </tr>\n",
       "    <tr>\n",
       "      <th>2014-01-01 01:30:00</th>\n",
       "      <td>0.120934</td>\n",
       "      <td>MAC000061</td>\n",
       "      <td>Lasso Regression_auto_stat</td>\n",
       "      <td>0.091</td>\n",
       "    </tr>\n",
       "    <tr>\n",
       "      <th>2014-01-01 02:00:00</th>\n",
       "      <td>0.080307</td>\n",
       "      <td>MAC000061</td>\n",
       "      <td>Lasso Regression_auto_stat</td>\n",
       "      <td>0.047</td>\n",
       "    </tr>\n",
       "  </tbody>\n",
       "</table>\n",
       "</div>"
      ],
      "text/plain": [
       "                     predictions      LCLid                   Algorithm  \\\n",
       "timestamp                                                                 \n",
       "2014-01-01 00:00:00     0.119527  MAC000061  Lasso Regression_auto_stat   \n",
       "2014-01-01 00:30:00     0.105027  MAC000061  Lasso Regression_auto_stat   \n",
       "2014-01-01 01:00:00     0.129575  MAC000061  Lasso Regression_auto_stat   \n",
       "2014-01-01 01:30:00     0.120934  MAC000061  Lasso Regression_auto_stat   \n",
       "2014-01-01 02:00:00     0.080307  MAC000061  Lasso Regression_auto_stat   \n",
       "\n",
       "                     energy_consumption  \n",
       "timestamp                                \n",
       "2014-01-01 00:00:00               0.165  \n",
       "2014-01-01 00:30:00               0.167  \n",
       "2014-01-01 01:00:00               0.150  \n",
       "2014-01-01 01:30:00               0.091  \n",
       "2014-01-01 02:00:00               0.047  "
      ]
     },
     "execution_count": 16,
     "metadata": {},
     "output_type": "execute_result"
    }
   ],
   "source": [
    "pred_df = pd.concat(all_preds)\n",
    "pred_df.head()"
   ]
  },
  {
   "cell_type": "code",
   "execution_count": 17,
   "id": "be827e9e-a406-4ee8-8fd8-9923f1c8bda7",
   "metadata": {},
   "outputs": [
    {
     "data": {
      "text/html": [
       "<div>\n",
       "<style scoped>\n",
       "    .dataframe tbody tr th:only-of-type {\n",
       "        vertical-align: middle;\n",
       "    }\n",
       "\n",
       "    .dataframe tbody tr th {\n",
       "        vertical-align: top;\n",
       "    }\n",
       "\n",
       "    .dataframe thead th {\n",
       "        text-align: right;\n",
       "    }\n",
       "</style>\n",
       "<table border=\"1\" class=\"dataframe\">\n",
       "  <thead>\n",
       "    <tr style=\"text-align: right;\">\n",
       "      <th></th>\n",
       "      <th>Algorithm</th>\n",
       "      <th>MAE</th>\n",
       "      <th>MSE</th>\n",
       "      <th>MASE</th>\n",
       "      <th>Forecast Bias</th>\n",
       "      <th>LCLid</th>\n",
       "    </tr>\n",
       "  </thead>\n",
       "  <tbody>\n",
       "    <tr>\n",
       "      <th>0</th>\n",
       "      <td>Lasso Regression_auto_stat</td>\n",
       "      <td>0.036641</td>\n",
       "      <td>0.002990</td>\n",
       "      <td>1.048579</td>\n",
       "      <td>-5.462709</td>\n",
       "      <td>MAC000061</td>\n",
       "    </tr>\n",
       "    <tr>\n",
       "      <th>1</th>\n",
       "      <td>XGB Random Forest_auto_stat</td>\n",
       "      <td>0.035695</td>\n",
       "      <td>0.002971</td>\n",
       "      <td>1.021503</td>\n",
       "      <td>0.232144</td>\n",
       "      <td>MAC000061</td>\n",
       "    </tr>\n",
       "    <tr>\n",
       "      <th>2</th>\n",
       "      <td>LightGBM_auto_stat</td>\n",
       "      <td>0.032544</td>\n",
       "      <td>0.002720</td>\n",
       "      <td>0.931330</td>\n",
       "      <td>-0.832978</td>\n",
       "      <td>MAC000061</td>\n",
       "    </tr>\n",
       "    <tr>\n",
       "      <th>3</th>\n",
       "      <td>Lasso Regression_auto_stat</td>\n",
       "      <td>0.068971</td>\n",
       "      <td>0.027052</td>\n",
       "      <td>0.916061</td>\n",
       "      <td>1.826489</td>\n",
       "      <td>MAC000062</td>\n",
       "    </tr>\n",
       "    <tr>\n",
       "      <th>4</th>\n",
       "      <td>XGB Random Forest_auto_stat</td>\n",
       "      <td>0.071279</td>\n",
       "      <td>0.027271</td>\n",
       "      <td>0.946720</td>\n",
       "      <td>1.331908</td>\n",
       "      <td>MAC000062</td>\n",
       "    </tr>\n",
       "  </tbody>\n",
       "</table>\n",
       "</div>"
      ],
      "text/plain": [
       "                     Algorithm       MAE       MSE      MASE  Forecast Bias  \\\n",
       "0   Lasso Regression_auto_stat  0.036641  0.002990  1.048579      -5.462709   \n",
       "1  XGB Random Forest_auto_stat  0.035695  0.002971  1.021503       0.232144   \n",
       "2           LightGBM_auto_stat  0.032544  0.002720  0.931330      -0.832978   \n",
       "3   Lasso Regression_auto_stat  0.068971  0.027052  0.916061       1.826489   \n",
       "4  XGB Random Forest_auto_stat  0.071279  0.027271  0.946720       1.331908   \n",
       "\n",
       "       LCLid  \n",
       "0  MAC000061  \n",
       "1  MAC000061  \n",
       "2  MAC000061  \n",
       "3  MAC000062  \n",
       "4  MAC000062  "
      ]
     },
     "execution_count": 17,
     "metadata": {},
     "output_type": "execute_result"
    }
   ],
   "source": [
    "metrics_df = pd.DataFrame(all_metrics)\n",
    "metrics_df.head()"
   ]
  },
  {
   "cell_type": "markdown",
   "id": "e5e51169-e983-44f0-97b0-c39d988ce549",
   "metadata": {
    "tags": []
   },
   "source": [
    "# Evaluation of ML Forecast"
   ]
  },
  {
   "cell_type": "code",
   "execution_count": 18,
   "id": "e288dfc0-63a6-422e-8dde-a436bacb22cc",
   "metadata": {},
   "outputs": [],
   "source": [
    "from src.utils import ts_utils"
   ]
  },
  {
   "cell_type": "code",
   "execution_count": 19,
   "id": "40cab8d2-3a10-4eff-a580-4a849f2eb44b",
   "metadata": {},
   "outputs": [
    {
     "data": {
      "text/html": [
       "<div>\n",
       "<style scoped>\n",
       "    .dataframe tbody tr th:only-of-type {\n",
       "        vertical-align: middle;\n",
       "    }\n",
       "\n",
       "    .dataframe tbody tr th {\n",
       "        vertical-align: top;\n",
       "    }\n",
       "\n",
       "    .dataframe thead th {\n",
       "        text-align: right;\n",
       "    }\n",
       "</style>\n",
       "<table border=\"1\" class=\"dataframe\">\n",
       "  <thead>\n",
       "    <tr style=\"text-align: right;\">\n",
       "      <th></th>\n",
       "      <th>Algorithm</th>\n",
       "      <th>MAE</th>\n",
       "      <th>MSE</th>\n",
       "      <th>meanMASE</th>\n",
       "      <th>Forecast Bias</th>\n",
       "    </tr>\n",
       "  </thead>\n",
       "  <tbody>\n",
       "    <tr>\n",
       "      <th>0</th>\n",
       "      <td>Naive</td>\n",
       "      <td>0.088162</td>\n",
       "      <td>0.044981</td>\n",
       "      <td>1.089973</td>\n",
       "      <td>-0.002962</td>\n",
       "    </tr>\n",
       "    <tr>\n",
       "      <th>1</th>\n",
       "      <td>Seasonal Naive</td>\n",
       "      <td>0.129197</td>\n",
       "      <td>0.077654</td>\n",
       "      <td>1.581947</td>\n",
       "      <td>-1.001533</td>\n",
       "    </tr>\n",
       "    <tr>\n",
       "      <th>2</th>\n",
       "      <td>Lasso Regression</td>\n",
       "      <td>0.080147</td>\n",
       "      <td>0.027100</td>\n",
       "      <td>1.005135</td>\n",
       "      <td>-0.295070</td>\n",
       "    </tr>\n",
       "    <tr>\n",
       "      <th>3</th>\n",
       "      <td>XGB Random Forest</td>\n",
       "      <td>0.080650</td>\n",
       "      <td>0.030574</td>\n",
       "      <td>1.016154</td>\n",
       "      <td>-2.476618</td>\n",
       "    </tr>\n",
       "    <tr>\n",
       "      <th>4</th>\n",
       "      <td>LightGBM</td>\n",
       "      <td>0.077107</td>\n",
       "      <td>0.027468</td>\n",
       "      <td>0.977439</td>\n",
       "      <td>0.032495</td>\n",
       "    </tr>\n",
       "  </tbody>\n",
       "</table>\n",
       "</div>"
      ],
      "text/plain": [
       "           Algorithm       MAE       MSE  meanMASE  Forecast Bias\n",
       "0              Naive  0.088162  0.044981  1.089973      -0.002962\n",
       "1     Seasonal Naive  0.129197  0.077654  1.581947      -1.001533\n",
       "2   Lasso Regression  0.080147  0.027100  1.005135      -0.295070\n",
       "3  XGB Random Forest  0.080650  0.030574  1.016154      -2.476618\n",
       "4           LightGBM  0.077107  0.027468  0.977439       0.032495"
      ]
     },
     "execution_count": 19,
     "metadata": {},
     "output_type": "execute_result"
    }
   ],
   "source": [
    "baseline_aggregate_metrics_df"
   ]
  },
  {
   "cell_type": "code",
   "execution_count": 20,
   "id": "64157814-0544-485a-bdcc-d97f4ae9e0ed",
   "metadata": {},
   "outputs": [],
   "source": [
    "metrics = baseline_aggregate_metrics_df.to_dict(orient=\"records\")"
   ]
  },
  {
   "cell_type": "code",
   "execution_count": 21,
   "id": "3ca44213-d681-4d4d-bd23-fcd4e32e491c",
   "metadata": {},
   "outputs": [],
   "source": [
    "\n",
    "for model in models_to_run:\n",
    "    pred_mask = pred_df.Algorithm==model.name+\"_auto_stat\"\n",
    "    metric_mask = metrics_df.Algorithm==model.name+\"_auto_stat\"\n",
    "    metrics.append({\n",
    "    \"Algorithm\": model.name+\"_auto_stat\",\n",
    "    \"MAE\": ts_utils.mae(pred_df.loc[pred_mask,\"energy_consumption\"], pred_df.loc[pred_mask,\"predictions\"]),\n",
    "    \"MSE\": ts_utils.mse(pred_df.loc[pred_mask,\"energy_consumption\"], pred_df.loc[pred_mask,\"predictions\"]),\n",
    "    \"meanMASE\": metrics_df.loc[metric_mask, \"MASE\"].mean(),\n",
    "    \"Forecast Bias\": ts_utils.forecast_bias_aggregate(pred_df.loc[pred_mask,\"energy_consumption\"], pred_df.loc[pred_mask,\"predictions\"])\n",
    "})"
   ]
  },
  {
   "cell_type": "code",
   "execution_count": 22,
   "id": "08744668-4986-43f1-b744-fd5ad49353c4",
   "metadata": {},
   "outputs": [
    {
     "data": {
      "text/html": [
       "<style type=\"text/css\">\n",
       "#T_eca4f_row2_col2, #T_eca4f_row4_col1, #T_eca4f_row4_col3 {\n",
       "  background-color: lightgreen;\n",
       "}\n",
       "</style>\n",
       "<table id=\"T_eca4f\">\n",
       "  <thead>\n",
       "    <tr>\n",
       "      <th class=\"blank level0\" >&nbsp;</th>\n",
       "      <th id=\"T_eca4f_level0_col0\" class=\"col_heading level0 col0\" >Algorithm</th>\n",
       "      <th id=\"T_eca4f_level0_col1\" class=\"col_heading level0 col1\" >MAE</th>\n",
       "      <th id=\"T_eca4f_level0_col2\" class=\"col_heading level0 col2\" >MSE</th>\n",
       "      <th id=\"T_eca4f_level0_col3\" class=\"col_heading level0 col3\" >meanMASE</th>\n",
       "      <th id=\"T_eca4f_level0_col4\" class=\"col_heading level0 col4\" >Forecast Bias</th>\n",
       "    </tr>\n",
       "  </thead>\n",
       "  <tbody>\n",
       "    <tr>\n",
       "      <th id=\"T_eca4f_level0_row0\" class=\"row_heading level0 row0\" >0</th>\n",
       "      <td id=\"T_eca4f_row0_col0\" class=\"data row0 col0\" >Naive</td>\n",
       "      <td id=\"T_eca4f_row0_col1\" class=\"data row0 col1\" >0.088</td>\n",
       "      <td id=\"T_eca4f_row0_col2\" class=\"data row0 col2\" >0.045</td>\n",
       "      <td id=\"T_eca4f_row0_col3\" class=\"data row0 col3\" >1.090</td>\n",
       "      <td id=\"T_eca4f_row0_col4\" class=\"data row0 col4\" >-0.00%</td>\n",
       "    </tr>\n",
       "    <tr>\n",
       "      <th id=\"T_eca4f_level0_row1\" class=\"row_heading level0 row1\" >1</th>\n",
       "      <td id=\"T_eca4f_row1_col0\" class=\"data row1 col0\" >Seasonal Naive</td>\n",
       "      <td id=\"T_eca4f_row1_col1\" class=\"data row1 col1\" >0.129</td>\n",
       "      <td id=\"T_eca4f_row1_col2\" class=\"data row1 col2\" >0.078</td>\n",
       "      <td id=\"T_eca4f_row1_col3\" class=\"data row1 col3\" >1.582</td>\n",
       "      <td id=\"T_eca4f_row1_col4\" class=\"data row1 col4\" >-1.00%</td>\n",
       "    </tr>\n",
       "    <tr>\n",
       "      <th id=\"T_eca4f_level0_row2\" class=\"row_heading level0 row2\" >2</th>\n",
       "      <td id=\"T_eca4f_row2_col0\" class=\"data row2 col0\" >Lasso Regression</td>\n",
       "      <td id=\"T_eca4f_row2_col1\" class=\"data row2 col1\" >0.080</td>\n",
       "      <td id=\"T_eca4f_row2_col2\" class=\"data row2 col2\" >0.027</td>\n",
       "      <td id=\"T_eca4f_row2_col3\" class=\"data row2 col3\" >1.005</td>\n",
       "      <td id=\"T_eca4f_row2_col4\" class=\"data row2 col4\" >-0.30%</td>\n",
       "    </tr>\n",
       "    <tr>\n",
       "      <th id=\"T_eca4f_level0_row3\" class=\"row_heading level0 row3\" >3</th>\n",
       "      <td id=\"T_eca4f_row3_col0\" class=\"data row3 col0\" >XGB Random Forest</td>\n",
       "      <td id=\"T_eca4f_row3_col1\" class=\"data row3 col1\" >0.081</td>\n",
       "      <td id=\"T_eca4f_row3_col2\" class=\"data row3 col2\" >0.031</td>\n",
       "      <td id=\"T_eca4f_row3_col3\" class=\"data row3 col3\" >1.016</td>\n",
       "      <td id=\"T_eca4f_row3_col4\" class=\"data row3 col4\" >-2.48%</td>\n",
       "    </tr>\n",
       "    <tr>\n",
       "      <th id=\"T_eca4f_level0_row4\" class=\"row_heading level0 row4\" >4</th>\n",
       "      <td id=\"T_eca4f_row4_col0\" class=\"data row4 col0\" >LightGBM</td>\n",
       "      <td id=\"T_eca4f_row4_col1\" class=\"data row4 col1\" >0.077</td>\n",
       "      <td id=\"T_eca4f_row4_col2\" class=\"data row4 col2\" >0.027</td>\n",
       "      <td id=\"T_eca4f_row4_col3\" class=\"data row4 col3\" >0.977</td>\n",
       "      <td id=\"T_eca4f_row4_col4\" class=\"data row4 col4\" >0.03%</td>\n",
       "    </tr>\n",
       "    <tr>\n",
       "      <th id=\"T_eca4f_level0_row5\" class=\"row_heading level0 row5\" >5</th>\n",
       "      <td id=\"T_eca4f_row5_col0\" class=\"data row5 col0\" >Lasso Regression_auto_stat</td>\n",
       "      <td id=\"T_eca4f_row5_col1\" class=\"data row5 col1\" >0.083</td>\n",
       "      <td id=\"T_eca4f_row5_col2\" class=\"data row5 col2\" >0.030</td>\n",
       "      <td id=\"T_eca4f_row5_col3\" class=\"data row5 col3\" >1.055</td>\n",
       "      <td id=\"T_eca4f_row5_col4\" class=\"data row5 col4\" >-3.50%</td>\n",
       "    </tr>\n",
       "    <tr>\n",
       "      <th id=\"T_eca4f_level0_row6\" class=\"row_heading level0 row6\" >6</th>\n",
       "      <td id=\"T_eca4f_row6_col0\" class=\"data row6 col0\" >XGB Random Forest_auto_stat</td>\n",
       "      <td id=\"T_eca4f_row6_col1\" class=\"data row6 col1\" >0.086</td>\n",
       "      <td id=\"T_eca4f_row6_col2\" class=\"data row6 col2\" >0.033</td>\n",
       "      <td id=\"T_eca4f_row6_col3\" class=\"data row6 col3\" >1.097</td>\n",
       "      <td id=\"T_eca4f_row6_col4\" class=\"data row6 col4\" >-8.34%</td>\n",
       "    </tr>\n",
       "    <tr>\n",
       "      <th id=\"T_eca4f_level0_row7\" class=\"row_heading level0 row7\" >7</th>\n",
       "      <td id=\"T_eca4f_row7_col0\" class=\"data row7 col0\" >LightGBM_auto_stat</td>\n",
       "      <td id=\"T_eca4f_row7_col1\" class=\"data row7 col1\" >0.079</td>\n",
       "      <td id=\"T_eca4f_row7_col2\" class=\"data row7 col2\" >0.029</td>\n",
       "      <td id=\"T_eca4f_row7_col3\" class=\"data row7 col3\" >1.005</td>\n",
       "      <td id=\"T_eca4f_row7_col4\" class=\"data row7 col4\" >-4.36%</td>\n",
       "    </tr>\n",
       "  </tbody>\n",
       "</table>\n"
      ],
      "text/plain": [
       "<pandas.io.formats.style.Styler at 0x1f56fdbbb10>"
      ]
     },
     "execution_count": 22,
     "metadata": {},
     "output_type": "execute_result"
    }
   ],
   "source": [
    "agg_metrics_df = pd.DataFrame(metrics)\n",
    "agg_metrics_df.style.format({\"MAE\": \"{:.3f}\", \n",
    "                          \"MSE\": \"{:.3f}\", \n",
    "                          \"meanMASE\": \"{:.3f}\", \n",
    "                          \"Forecast Bias\": \"{:.2f}%\"}).highlight_min(color='lightgreen', subset=[\"MAE\",\"MSE\",\"meanMASE\"]).apply(highlight_abs_min, props='color:black;background-color:lightgreen', axis=0, subset=['Forecast Bias'])"
   ]
  },
  {
   "cell_type": "code",
   "execution_count": 23,
   "id": "9d164184-dca3-4472-a138-c260019eeb68",
   "metadata": {},
   "outputs": [
    {
     "data": {
      "application/vnd.plotly.v1+json": {
       "config": {
        "plotlyServerURL": "https://plot.ly"
       },
       "data": [
        {
         "alignmentgroup": "True",
         "bingroup": "x",
         "histnorm": "probability density",
         "hovertemplate": "Algorithm=Lasso Regression_auto_stat<br>MASE=%{x}<br>probability density=%{y}<extra></extra>",
         "legendgroup": "Lasso Regression_auto_stat",
         "marker": {
          "color": "#636efa",
          "opacity": 0.5,
          "pattern": {
           "shape": ""
          }
         },
         "name": "Lasso Regression_auto_stat",
         "nbinsx": 500,
         "offsetgroup": "Lasso Regression_auto_stat",
         "orientation": "v",
         "showlegend": true,
         "type": "histogram",
         "x": [
          1.048579295463168,
          0.9160613660787021,
          1.108766216201089,
          1.4228282692514402,
          0.985347427731851,
          0.24033240695127767,
          0.897295389232152,
          1.1888499255130154,
          1.2914365790872904,
          0.6057671213700799,
          1.1095206987839534,
          0.744298656298877,
          0.8354910738933367,
          1.8530480215825837,
          1.0380864511871135,
          1.121285672826408,
          1.166405325251889,
          1.1376964105898475,
          0.916896695310815,
          0.9084120615360382,
          1.0687458645216419,
          1.0100623228801318,
          1.1000136651871093,
          1.3929188937292774,
          0.9851771363246676,
          0.8031635300212762,
          0.9771542903191643,
          0.9843848732008845,
          1.1546414538668006,
          1.0000034768445698,
          1.0484293120749602,
          0.7198598546988783,
          0.8077525707011949,
          1.0808540639749626,
          0.9244868905375883,
          0.7482491716331935,
          0.6209891166974448,
          0.16753519312485615,
          1.2811354937211714,
          0.7730088702185848,
          1.0614354895737128,
          1.0330036509708769,
          0.7622537723768655,
          1.2642733627798932,
          0.8937262753877764,
          1.2729451823174351,
          1.1768146999387665,
          0.664592992300374,
          0.9090630068697433,
          0.7629261207718314,
          1.3434270938282262,
          0.828786949311013,
          0.9718687842467075,
          1.0123410747021515,
          2.1489250168832634,
          5.899615287699356,
          0.8413842923117589,
          0.7024542567094985,
          1.0607988549766436,
          1.2027074404808018,
          0.7940411823411537,
          0.9269905809725415,
          1.6370837687519526,
          1.2908437591237627,
          1.1719536570962203,
          1.1978183634491757,
          1.0503701697893828,
          0.646225330479736,
          1.0978732256873187,
          1.0681755708968175,
          1.029942265533553,
          0.9797885555373623,
          0.7568648849380473,
          0.752011733004085,
          0.8925819548046336,
          0.6523113193298837,
          0.9732789823712141,
          0.8502685303744216,
          0.799263708462174,
          0.14112470603064567,
          0.9422513197861158,
          0.7644257868837763,
          1.212066173470554,
          1.3673177421877811,
          1.2167869750016962,
          0.9474584902974797,
          1.0561951702248418,
          0.9463578851770689,
          0.8949949753056463,
          0.8005473355952761,
          1.4893003752461749,
          0.9775482933605201,
          0.8776942678833399,
          0.963073716861876,
          1.0231266303577564,
          1.0934379325024306,
          0.9510255831446445,
          0.9205538093635535,
          1.5826293033931487,
          1.125596152473582,
          1.0523583990576415,
          0.8295057022831092,
          0.9902047697759979,
          0.9544495017771961,
          1.1940995846585036,
          1.1521495114219305,
          0.9690874207406934,
          0.9984575208726166,
          1.009314921548599,
          1.2288164085160156,
          1.1823637385701722,
          0.7665922281765368,
          1.8249811185093694,
          1.2635460268614174,
          0.7773746733492142,
          1.0516591027099227,
          0.9251132565096324,
          1.5417246820315529,
          1.0456584060201217,
          0.8739406410225985,
          0.6895210755364883,
          0.8816781156184343,
          1.0625665746293917,
          1.7353132223599814,
          0.8287077529803116,
          0.979450562704418,
          1.0115654642849645,
          0.8454080195026065,
          1.0793025803934877,
          1.030632793975053,
          0.8072528068503223,
          1.0657657403221894,
          0.91759405660451,
          0.8400112080112266,
          1.2352782737389114,
          1.0591515348932075,
          0.9565130776427541,
          0.9481016148588197,
          1.9813280157143942,
          0.7996557377848788,
          0.7495471169331008,
          1.3993601875267399,
          0.8932424942603865,
          0.8971965895068651,
          0.9928680703176772,
          1.2179824925659624,
          1.3853138719824198,
          1.0861806764213906,
          1.1957170542936582,
          1.2037914308334476
         ],
         "xaxis": "x",
         "yaxis": "y"
        },
        {
         "alignmentgroup": "True",
         "hovertemplate": "Algorithm=Lasso Regression_auto_stat<br>MASE=%{x}<extra></extra>",
         "legendgroup": "Lasso Regression_auto_stat",
         "marker": {
          "color": "#636efa"
         },
         "name": "Lasso Regression_auto_stat",
         "notched": true,
         "offsetgroup": "Lasso Regression_auto_stat",
         "showlegend": false,
         "type": "box",
         "x": [
          1.048579295463168,
          0.9160613660787021,
          1.108766216201089,
          1.4228282692514402,
          0.985347427731851,
          0.24033240695127767,
          0.897295389232152,
          1.1888499255130154,
          1.2914365790872904,
          0.6057671213700799,
          1.1095206987839534,
          0.744298656298877,
          0.8354910738933367,
          1.8530480215825837,
          1.0380864511871135,
          1.121285672826408,
          1.166405325251889,
          1.1376964105898475,
          0.916896695310815,
          0.9084120615360382,
          1.0687458645216419,
          1.0100623228801318,
          1.1000136651871093,
          1.3929188937292774,
          0.9851771363246676,
          0.8031635300212762,
          0.9771542903191643,
          0.9843848732008845,
          1.1546414538668006,
          1.0000034768445698,
          1.0484293120749602,
          0.7198598546988783,
          0.8077525707011949,
          1.0808540639749626,
          0.9244868905375883,
          0.7482491716331935,
          0.6209891166974448,
          0.16753519312485615,
          1.2811354937211714,
          0.7730088702185848,
          1.0614354895737128,
          1.0330036509708769,
          0.7622537723768655,
          1.2642733627798932,
          0.8937262753877764,
          1.2729451823174351,
          1.1768146999387665,
          0.664592992300374,
          0.9090630068697433,
          0.7629261207718314,
          1.3434270938282262,
          0.828786949311013,
          0.9718687842467075,
          1.0123410747021515,
          2.1489250168832634,
          5.899615287699356,
          0.8413842923117589,
          0.7024542567094985,
          1.0607988549766436,
          1.2027074404808018,
          0.7940411823411537,
          0.9269905809725415,
          1.6370837687519526,
          1.2908437591237627,
          1.1719536570962203,
          1.1978183634491757,
          1.0503701697893828,
          0.646225330479736,
          1.0978732256873187,
          1.0681755708968175,
          1.029942265533553,
          0.9797885555373623,
          0.7568648849380473,
          0.752011733004085,
          0.8925819548046336,
          0.6523113193298837,
          0.9732789823712141,
          0.8502685303744216,
          0.799263708462174,
          0.14112470603064567,
          0.9422513197861158,
          0.7644257868837763,
          1.212066173470554,
          1.3673177421877811,
          1.2167869750016962,
          0.9474584902974797,
          1.0561951702248418,
          0.9463578851770689,
          0.8949949753056463,
          0.8005473355952761,
          1.4893003752461749,
          0.9775482933605201,
          0.8776942678833399,
          0.963073716861876,
          1.0231266303577564,
          1.0934379325024306,
          0.9510255831446445,
          0.9205538093635535,
          1.5826293033931487,
          1.125596152473582,
          1.0523583990576415,
          0.8295057022831092,
          0.9902047697759979,
          0.9544495017771961,
          1.1940995846585036,
          1.1521495114219305,
          0.9690874207406934,
          0.9984575208726166,
          1.009314921548599,
          1.2288164085160156,
          1.1823637385701722,
          0.7665922281765368,
          1.8249811185093694,
          1.2635460268614174,
          0.7773746733492142,
          1.0516591027099227,
          0.9251132565096324,
          1.5417246820315529,
          1.0456584060201217,
          0.8739406410225985,
          0.6895210755364883,
          0.8816781156184343,
          1.0625665746293917,
          1.7353132223599814,
          0.8287077529803116,
          0.979450562704418,
          1.0115654642849645,
          0.8454080195026065,
          1.0793025803934877,
          1.030632793975053,
          0.8072528068503223,
          1.0657657403221894,
          0.91759405660451,
          0.8400112080112266,
          1.2352782737389114,
          1.0591515348932075,
          0.9565130776427541,
          0.9481016148588197,
          1.9813280157143942,
          0.7996557377848788,
          0.7495471169331008,
          1.3993601875267399,
          0.8932424942603865,
          0.8971965895068651,
          0.9928680703176772,
          1.2179824925659624,
          1.3853138719824198,
          1.0861806764213906,
          1.1957170542936582,
          1.2037914308334476
         ],
         "xaxis": "x2",
         "yaxis": "y2"
        },
        {
         "alignmentgroup": "True",
         "bingroup": "x",
         "histnorm": "probability density",
         "hovertemplate": "Algorithm=XGB Random Forest_auto_stat<br>MASE=%{x}<br>probability density=%{y}<extra></extra>",
         "legendgroup": "XGB Random Forest_auto_stat",
         "marker": {
          "color": "#EF553B",
          "opacity": 0.5,
          "pattern": {
           "shape": "/"
          }
         },
         "name": "XGB Random Forest_auto_stat",
         "nbinsx": 500,
         "offsetgroup": "XGB Random Forest_auto_stat",
         "orientation": "v",
         "showlegend": true,
         "type": "histogram",
         "x": [
          1.0215027631822506,
          0.94671974724058,
          1.1009673181372264,
          1.3365873102576666,
          0.9602910876274109,
          0.2813372720614063,
          0.8824115098412934,
          1.1798000200147787,
          1.2797852467596738,
          0.6129840999998801,
          1.1438415824399326,
          0.7343308617462111,
          0.8540344636463547,
          2.2066644139827187,
          1.0530941932886322,
          1.1693438313517521,
          1.2066001746716994,
          1.0903708091924587,
          0.9645216337861061,
          0.9159247378596016,
          0.9823962320097167,
          0.9758732462560785,
          1.0330393478540771,
          1.3525109843196246,
          0.9921532579526569,
          0.8070357960640424,
          0.9832430639757814,
          0.9465601626948998,
          1.1255035675653793,
          1.131075157484637,
          1.1341145107856212,
          0.7599936506701517,
          0.8259557846014371,
          1.0537091689776226,
          1.0525300955351173,
          0.23602753486313802,
          0.5919329614891322,
          0.2224492411880917,
          1.2242404717378674,
          0.7652302798416274,
          1.1676459304836484,
          1.1245420554602072,
          0.7934447541387355,
          1.2552867591474193,
          0.8256009888851752,
          1.2692123324731444,
          1.299737470766584,
          0.6799552394288123,
          0.9053505042370731,
          0.8774709785473506,
          1.2402909404260591,
          0.7407727636986265,
          0.956888325219619,
          0.9869069360105096,
          1.4010646977881076,
          9.773928078319008,
          0.9033784254698026,
          0.7727357626043843,
          1.0193466325306206,
          1.2885500111815305,
          0.8279028353003254,
          0.8978872374565612,
          2.1084677135709966,
          1.3590380155549182,
          1.2171129703030117,
          1.1202510814604103,
          1.0861940126682983,
          0.6175644870411027,
          1.1366602758385924,
          1.1274482679284026,
          1.0674048588140193,
          1.053255908747447,
          0.8052706245943569,
          0.8881856516704084,
          0.8482334104505778,
          0.7249424038190588,
          1.0093825083076444,
          0.8396175419168044,
          0.7883529514768963,
          0.6841931096822281,
          0.8983908094126646,
          0.872104317936251,
          1.279309000062627,
          1.3119515143874503,
          1.170645332430895,
          0.9854178095742524,
          1.1674486836835132,
          0.9600651601171102,
          0.9143609264872767,
          0.8183894798840335,
          2.429318427535844,
          0.9832374281612443,
          0.88169234553254,
          1.001673765218918,
          0.9332175671100772,
          1.0982536486696928,
          0.928908558016811,
          0.9152858127107819,
          1.704398913541745,
          1.1439809439009747,
          1.0165584196132726,
          0.8542064956931072,
          1.0016575633848268,
          0.9614638409956912,
          1.26398218436344,
          1.0784227395722414,
          0.9923602693357155,
          1.1672417566793405,
          1.1117182857389103,
          1.167911757847739,
          1.122363719619961,
          0.7126518114580884,
          1.768534710098519,
          1.2222161477784554,
          0.9359175211694163,
          1.0276232066639168,
          0.8939558793654905,
          1.3259200864387348,
          1.104514200927925,
          0.8392702755309693,
          0.7617088336291935,
          0.8717508505698911,
          1.0255114531578033,
          1.8201812512151405,
          0.8594814137577232,
          0.971494874278324,
          0.9537649178761681,
          0.796615416860226,
          1.1280730599957076,
          0.9833691489223153,
          0.7806174358302692,
          1.0823821581285524,
          0.8633044885832668,
          0.9039887900535789,
          1.2494569006847078,
          1.1709012775625913,
          0.8808034142803306,
          0.9354573253139492,
          2.2167749826646217,
          0.8413924729692143,
          0.6810335768820974,
          1.5748584134962587,
          0.9318935925931693,
          0.8544074341280017,
          0.9002613992159859,
          0.9855046843299521,
          1.5181325876319172,
          1.0772448233360388,
          1.2392612763492632,
          1.0310009251401664
         ],
         "xaxis": "x",
         "yaxis": "y"
        },
        {
         "alignmentgroup": "True",
         "hovertemplate": "Algorithm=XGB Random Forest_auto_stat<br>MASE=%{x}<extra></extra>",
         "legendgroup": "XGB Random Forest_auto_stat",
         "marker": {
          "color": "#EF553B"
         },
         "name": "XGB Random Forest_auto_stat",
         "notched": true,
         "offsetgroup": "XGB Random Forest_auto_stat",
         "showlegend": false,
         "type": "box",
         "x": [
          1.0215027631822506,
          0.94671974724058,
          1.1009673181372264,
          1.3365873102576666,
          0.9602910876274109,
          0.2813372720614063,
          0.8824115098412934,
          1.1798000200147787,
          1.2797852467596738,
          0.6129840999998801,
          1.1438415824399326,
          0.7343308617462111,
          0.8540344636463547,
          2.2066644139827187,
          1.0530941932886322,
          1.1693438313517521,
          1.2066001746716994,
          1.0903708091924587,
          0.9645216337861061,
          0.9159247378596016,
          0.9823962320097167,
          0.9758732462560785,
          1.0330393478540771,
          1.3525109843196246,
          0.9921532579526569,
          0.8070357960640424,
          0.9832430639757814,
          0.9465601626948998,
          1.1255035675653793,
          1.131075157484637,
          1.1341145107856212,
          0.7599936506701517,
          0.8259557846014371,
          1.0537091689776226,
          1.0525300955351173,
          0.23602753486313802,
          0.5919329614891322,
          0.2224492411880917,
          1.2242404717378674,
          0.7652302798416274,
          1.1676459304836484,
          1.1245420554602072,
          0.7934447541387355,
          1.2552867591474193,
          0.8256009888851752,
          1.2692123324731444,
          1.299737470766584,
          0.6799552394288123,
          0.9053505042370731,
          0.8774709785473506,
          1.2402909404260591,
          0.7407727636986265,
          0.956888325219619,
          0.9869069360105096,
          1.4010646977881076,
          9.773928078319008,
          0.9033784254698026,
          0.7727357626043843,
          1.0193466325306206,
          1.2885500111815305,
          0.8279028353003254,
          0.8978872374565612,
          2.1084677135709966,
          1.3590380155549182,
          1.2171129703030117,
          1.1202510814604103,
          1.0861940126682983,
          0.6175644870411027,
          1.1366602758385924,
          1.1274482679284026,
          1.0674048588140193,
          1.053255908747447,
          0.8052706245943569,
          0.8881856516704084,
          0.8482334104505778,
          0.7249424038190588,
          1.0093825083076444,
          0.8396175419168044,
          0.7883529514768963,
          0.6841931096822281,
          0.8983908094126646,
          0.872104317936251,
          1.279309000062627,
          1.3119515143874503,
          1.170645332430895,
          0.9854178095742524,
          1.1674486836835132,
          0.9600651601171102,
          0.9143609264872767,
          0.8183894798840335,
          2.429318427535844,
          0.9832374281612443,
          0.88169234553254,
          1.001673765218918,
          0.9332175671100772,
          1.0982536486696928,
          0.928908558016811,
          0.9152858127107819,
          1.704398913541745,
          1.1439809439009747,
          1.0165584196132726,
          0.8542064956931072,
          1.0016575633848268,
          0.9614638409956912,
          1.26398218436344,
          1.0784227395722414,
          0.9923602693357155,
          1.1672417566793405,
          1.1117182857389103,
          1.167911757847739,
          1.122363719619961,
          0.7126518114580884,
          1.768534710098519,
          1.2222161477784554,
          0.9359175211694163,
          1.0276232066639168,
          0.8939558793654905,
          1.3259200864387348,
          1.104514200927925,
          0.8392702755309693,
          0.7617088336291935,
          0.8717508505698911,
          1.0255114531578033,
          1.8201812512151405,
          0.8594814137577232,
          0.971494874278324,
          0.9537649178761681,
          0.796615416860226,
          1.1280730599957076,
          0.9833691489223153,
          0.7806174358302692,
          1.0823821581285524,
          0.8633044885832668,
          0.9039887900535789,
          1.2494569006847078,
          1.1709012775625913,
          0.8808034142803306,
          0.9354573253139492,
          2.2167749826646217,
          0.8413924729692143,
          0.6810335768820974,
          1.5748584134962587,
          0.9318935925931693,
          0.8544074341280017,
          0.9002613992159859,
          0.9855046843299521,
          1.5181325876319172,
          1.0772448233360388,
          1.2392612763492632,
          1.0310009251401664
         ],
         "xaxis": "x2",
         "yaxis": "y2"
        },
        {
         "alignmentgroup": "True",
         "bingroup": "x",
         "histnorm": "probability density",
         "hovertemplate": "Algorithm=LightGBM_auto_stat<br>MASE=%{x}<br>probability density=%{y}<extra></extra>",
         "legendgroup": "LightGBM_auto_stat",
         "marker": {
          "color": "#00cc96",
          "opacity": 0.5,
          "pattern": {
           "shape": "\\"
          }
         },
         "name": "LightGBM_auto_stat",
         "nbinsx": 500,
         "offsetgroup": "LightGBM_auto_stat",
         "orientation": "v",
         "showlegend": true,
         "type": "histogram",
         "x": [
          0.9313300319604708,
          0.9495830667614631,
          1.0586482936196961,
          1.2344022702800113,
          0.9594437857257377,
          0.1326181764280249,
          0.8611151429507713,
          1.1480211765517128,
          1.168969019408529,
          0.5942254946804079,
          1.076542700541318,
          0.7254324034705505,
          0.8265130776327521,
          1.7391314560230036,
          0.9321234022663655,
          1.0121120063889917,
          1.2272168856006118,
          1.0494949969421725,
          0.8243519153948243,
          0.8734143847118461,
          1.0002998151122695,
          1.2746992474589627,
          0.9975602688179258,
          1.2927735826829576,
          0.939955750570482,
          0.7665327349122636,
          0.9474339763530167,
          0.9173124389296259,
          1.0446361865657616,
          1.0183036643173615,
          1.0409256014785695,
          0.6698000601106596,
          0.6678555162021944,
          0.9855526572380139,
          0.9100550018542979,
          0.18439600078605367,
          0.5337506249284654,
          0.11183183647505332,
          1.113830786412148,
          0.7447064559881164,
          1.0666629294517314,
          1.054178642527969,
          0.760596306951113,
          1.2165120814084036,
          0.7861590220382219,
          1.233734727222673,
          1.21151235082161,
          0.6412720362720583,
          0.8460191230753117,
          0.8201472392519453,
          1.248747049355164,
          0.6690008240935328,
          0.9282367342597299,
          0.9062295424327937,
          0.2782274123634019,
          9.322751824232629,
          0.7820122226089181,
          0.5895861695225635,
          1.0348399439446836,
          1.1701032995557896,
          0.7465449534838406,
          0.882651736556932,
          1.732067346566094,
          1.2832785435349485,
          1.0222659587674452,
          1.086177521173308,
          0.8997777056006894,
          0.5593911452881226,
          1.05285001398074,
          1.1900543536748536,
          0.9720405631596024,
          1.0129975436282437,
          0.6692788521924385,
          0.8216853895696992,
          0.7627138905801358,
          0.5973706566908045,
          0.9273778147538343,
          0.7447273786177186,
          0.7314639019084315,
          0.2816319435718102,
          0.8756335541506524,
          0.7917013750807834,
          1.1862523570573091,
          1.255997154922181,
          1.1706373112705863,
          0.9247567459934285,
          1.098855764243523,
          0.8706256925088324,
          0.8671759964933522,
          0.7290394817941,
          1.5682830428772145,
          0.9794483800241138,
          0.8489327740551725,
          0.9626736820605417,
          0.8853566539624218,
          1.1070748396049264,
          0.8767372449920108,
          0.8405953848683216,
          1.550251319613229,
          0.990228974168164,
          0.8964306774847195,
          0.8422140983953702,
          0.8751713965558943,
          0.9122749144597966,
          1.1645640597199507,
          1.0576095701046457,
          1.0025824531581398,
          0.9950800962683947,
          0.9882385949134816,
          1.148953143132427,
          1.0965410873335701,
          0.7380163468605953,
          1.5490045447812835,
          1.2131193471872057,
          0.6827530359788851,
          0.9375780003560265,
          0.8035052433746919,
          1.0639162167565983,
          1.053211525862142,
          0.7918604741491958,
          0.4795635337277603,
          0.8434257345521604,
          0.9394630826530636,
          1.6666374836453632,
          0.8202973795992146,
          0.9720487999458483,
          0.937482413443852,
          0.6753074517436776,
          1.1133716532987399,
          0.9362705927592961,
          0.762910399745614,
          0.9731809706773589,
          0.640132014457037,
          0.8078511907135295,
          1.1384631431042038,
          1.160435632917254,
          0.8938562816698383,
          0.9178109860464527,
          2.0594584671912393,
          0.7598172077250578,
          0.5942626283661663,
          1.4395357108362978,
          0.771944970002125,
          0.8396918608434568,
          0.8922269439865327,
          0.8668944389516209,
          1.4765035297052929,
          1.0209031048536927,
          1.198267451095962,
          0.90314181528972
         ],
         "xaxis": "x",
         "yaxis": "y"
        },
        {
         "alignmentgroup": "True",
         "hovertemplate": "Algorithm=LightGBM_auto_stat<br>MASE=%{x}<extra></extra>",
         "legendgroup": "LightGBM_auto_stat",
         "marker": {
          "color": "#00cc96"
         },
         "name": "LightGBM_auto_stat",
         "notched": true,
         "offsetgroup": "LightGBM_auto_stat",
         "showlegend": false,
         "type": "box",
         "x": [
          0.9313300319604708,
          0.9495830667614631,
          1.0586482936196961,
          1.2344022702800113,
          0.9594437857257377,
          0.1326181764280249,
          0.8611151429507713,
          1.1480211765517128,
          1.168969019408529,
          0.5942254946804079,
          1.076542700541318,
          0.7254324034705505,
          0.8265130776327521,
          1.7391314560230036,
          0.9321234022663655,
          1.0121120063889917,
          1.2272168856006118,
          1.0494949969421725,
          0.8243519153948243,
          0.8734143847118461,
          1.0002998151122695,
          1.2746992474589627,
          0.9975602688179258,
          1.2927735826829576,
          0.939955750570482,
          0.7665327349122636,
          0.9474339763530167,
          0.9173124389296259,
          1.0446361865657616,
          1.0183036643173615,
          1.0409256014785695,
          0.6698000601106596,
          0.6678555162021944,
          0.9855526572380139,
          0.9100550018542979,
          0.18439600078605367,
          0.5337506249284654,
          0.11183183647505332,
          1.113830786412148,
          0.7447064559881164,
          1.0666629294517314,
          1.054178642527969,
          0.760596306951113,
          1.2165120814084036,
          0.7861590220382219,
          1.233734727222673,
          1.21151235082161,
          0.6412720362720583,
          0.8460191230753117,
          0.8201472392519453,
          1.248747049355164,
          0.6690008240935328,
          0.9282367342597299,
          0.9062295424327937,
          0.2782274123634019,
          9.322751824232629,
          0.7820122226089181,
          0.5895861695225635,
          1.0348399439446836,
          1.1701032995557896,
          0.7465449534838406,
          0.882651736556932,
          1.732067346566094,
          1.2832785435349485,
          1.0222659587674452,
          1.086177521173308,
          0.8997777056006894,
          0.5593911452881226,
          1.05285001398074,
          1.1900543536748536,
          0.9720405631596024,
          1.0129975436282437,
          0.6692788521924385,
          0.8216853895696992,
          0.7627138905801358,
          0.5973706566908045,
          0.9273778147538343,
          0.7447273786177186,
          0.7314639019084315,
          0.2816319435718102,
          0.8756335541506524,
          0.7917013750807834,
          1.1862523570573091,
          1.255997154922181,
          1.1706373112705863,
          0.9247567459934285,
          1.098855764243523,
          0.8706256925088324,
          0.8671759964933522,
          0.7290394817941,
          1.5682830428772145,
          0.9794483800241138,
          0.8489327740551725,
          0.9626736820605417,
          0.8853566539624218,
          1.1070748396049264,
          0.8767372449920108,
          0.8405953848683216,
          1.550251319613229,
          0.990228974168164,
          0.8964306774847195,
          0.8422140983953702,
          0.8751713965558943,
          0.9122749144597966,
          1.1645640597199507,
          1.0576095701046457,
          1.0025824531581398,
          0.9950800962683947,
          0.9882385949134816,
          1.148953143132427,
          1.0965410873335701,
          0.7380163468605953,
          1.5490045447812835,
          1.2131193471872057,
          0.6827530359788851,
          0.9375780003560265,
          0.8035052433746919,
          1.0639162167565983,
          1.053211525862142,
          0.7918604741491958,
          0.4795635337277603,
          0.8434257345521604,
          0.9394630826530636,
          1.6666374836453632,
          0.8202973795992146,
          0.9720487999458483,
          0.937482413443852,
          0.6753074517436776,
          1.1133716532987399,
          0.9362705927592961,
          0.762910399745614,
          0.9731809706773589,
          0.640132014457037,
          0.8078511907135295,
          1.1384631431042038,
          1.160435632917254,
          0.8938562816698383,
          0.9178109860464527,
          2.0594584671912393,
          0.7598172077250578,
          0.5942626283661663,
          1.4395357108362978,
          0.771944970002125,
          0.8396918608434568,
          0.8922269439865327,
          0.8668944389516209,
          1.4765035297052929,
          1.0209031048536927,
          1.198267451095962,
          0.90314181528972
         ],
         "xaxis": "x2",
         "yaxis": "y2"
        }
       ],
       "layout": {
        "autosize": false,
        "barmode": "overlay",
        "height": 500,
        "legend": {
         "title": {},
         "tracegroupgap": 0
        },
        "margin": {
         "t": 60
        },
        "template": {
         "data": {
          "bar": [
           {
            "error_x": {
             "color": "#2a3f5f"
            },
            "error_y": {
             "color": "#2a3f5f"
            },
            "marker": {
             "line": {
              "color": "white",
              "width": 0.5
             },
             "pattern": {
              "fillmode": "overlay",
              "size": 10,
              "solidity": 0.2
             }
            },
            "type": "bar"
           }
          ],
          "barpolar": [
           {
            "marker": {
             "line": {
              "color": "white",
              "width": 0.5
             },
             "pattern": {
              "fillmode": "overlay",
              "size": 10,
              "solidity": 0.2
             }
            },
            "type": "barpolar"
           }
          ],
          "carpet": [
           {
            "aaxis": {
             "endlinecolor": "#2a3f5f",
             "gridcolor": "#C8D4E3",
             "linecolor": "#C8D4E3",
             "minorgridcolor": "#C8D4E3",
             "startlinecolor": "#2a3f5f"
            },
            "baxis": {
             "endlinecolor": "#2a3f5f",
             "gridcolor": "#C8D4E3",
             "linecolor": "#C8D4E3",
             "minorgridcolor": "#C8D4E3",
             "startlinecolor": "#2a3f5f"
            },
            "type": "carpet"
           }
          ],
          "choropleth": [
           {
            "colorbar": {
             "outlinewidth": 0,
             "ticks": ""
            },
            "type": "choropleth"
           }
          ],
          "contour": [
           {
            "colorbar": {
             "outlinewidth": 0,
             "ticks": ""
            },
            "colorscale": [
             [
              0,
              "#0d0887"
             ],
             [
              0.1111111111111111,
              "#46039f"
             ],
             [
              0.2222222222222222,
              "#7201a8"
             ],
             [
              0.3333333333333333,
              "#9c179e"
             ],
             [
              0.4444444444444444,
              "#bd3786"
             ],
             [
              0.5555555555555556,
              "#d8576b"
             ],
             [
              0.6666666666666666,
              "#ed7953"
             ],
             [
              0.7777777777777778,
              "#fb9f3a"
             ],
             [
              0.8888888888888888,
              "#fdca26"
             ],
             [
              1,
              "#f0f921"
             ]
            ],
            "type": "contour"
           }
          ],
          "contourcarpet": [
           {
            "colorbar": {
             "outlinewidth": 0,
             "ticks": ""
            },
            "type": "contourcarpet"
           }
          ],
          "heatmap": [
           {
            "colorbar": {
             "outlinewidth": 0,
             "ticks": ""
            },
            "colorscale": [
             [
              0,
              "#0d0887"
             ],
             [
              0.1111111111111111,
              "#46039f"
             ],
             [
              0.2222222222222222,
              "#7201a8"
             ],
             [
              0.3333333333333333,
              "#9c179e"
             ],
             [
              0.4444444444444444,
              "#bd3786"
             ],
             [
              0.5555555555555556,
              "#d8576b"
             ],
             [
              0.6666666666666666,
              "#ed7953"
             ],
             [
              0.7777777777777778,
              "#fb9f3a"
             ],
             [
              0.8888888888888888,
              "#fdca26"
             ],
             [
              1,
              "#f0f921"
             ]
            ],
            "type": "heatmap"
           }
          ],
          "heatmapgl": [
           {
            "colorbar": {
             "outlinewidth": 0,
             "ticks": ""
            },
            "colorscale": [
             [
              0,
              "#0d0887"
             ],
             [
              0.1111111111111111,
              "#46039f"
             ],
             [
              0.2222222222222222,
              "#7201a8"
             ],
             [
              0.3333333333333333,
              "#9c179e"
             ],
             [
              0.4444444444444444,
              "#bd3786"
             ],
             [
              0.5555555555555556,
              "#d8576b"
             ],
             [
              0.6666666666666666,
              "#ed7953"
             ],
             [
              0.7777777777777778,
              "#fb9f3a"
             ],
             [
              0.8888888888888888,
              "#fdca26"
             ],
             [
              1,
              "#f0f921"
             ]
            ],
            "type": "heatmapgl"
           }
          ],
          "histogram": [
           {
            "marker": {
             "pattern": {
              "fillmode": "overlay",
              "size": 10,
              "solidity": 0.2
             }
            },
            "type": "histogram"
           }
          ],
          "histogram2d": [
           {
            "colorbar": {
             "outlinewidth": 0,
             "ticks": ""
            },
            "colorscale": [
             [
              0,
              "#0d0887"
             ],
             [
              0.1111111111111111,
              "#46039f"
             ],
             [
              0.2222222222222222,
              "#7201a8"
             ],
             [
              0.3333333333333333,
              "#9c179e"
             ],
             [
              0.4444444444444444,
              "#bd3786"
             ],
             [
              0.5555555555555556,
              "#d8576b"
             ],
             [
              0.6666666666666666,
              "#ed7953"
             ],
             [
              0.7777777777777778,
              "#fb9f3a"
             ],
             [
              0.8888888888888888,
              "#fdca26"
             ],
             [
              1,
              "#f0f921"
             ]
            ],
            "type": "histogram2d"
           }
          ],
          "histogram2dcontour": [
           {
            "colorbar": {
             "outlinewidth": 0,
             "ticks": ""
            },
            "colorscale": [
             [
              0,
              "#0d0887"
             ],
             [
              0.1111111111111111,
              "#46039f"
             ],
             [
              0.2222222222222222,
              "#7201a8"
             ],
             [
              0.3333333333333333,
              "#9c179e"
             ],
             [
              0.4444444444444444,
              "#bd3786"
             ],
             [
              0.5555555555555556,
              "#d8576b"
             ],
             [
              0.6666666666666666,
              "#ed7953"
             ],
             [
              0.7777777777777778,
              "#fb9f3a"
             ],
             [
              0.8888888888888888,
              "#fdca26"
             ],
             [
              1,
              "#f0f921"
             ]
            ],
            "type": "histogram2dcontour"
           }
          ],
          "mesh3d": [
           {
            "colorbar": {
             "outlinewidth": 0,
             "ticks": ""
            },
            "type": "mesh3d"
           }
          ],
          "parcoords": [
           {
            "line": {
             "colorbar": {
              "outlinewidth": 0,
              "ticks": ""
             }
            },
            "type": "parcoords"
           }
          ],
          "pie": [
           {
            "automargin": true,
            "type": "pie"
           }
          ],
          "scatter": [
           {
            "fillpattern": {
             "fillmode": "overlay",
             "size": 10,
             "solidity": 0.2
            },
            "type": "scatter"
           }
          ],
          "scatter3d": [
           {
            "line": {
             "colorbar": {
              "outlinewidth": 0,
              "ticks": ""
             }
            },
            "marker": {
             "colorbar": {
              "outlinewidth": 0,
              "ticks": ""
             }
            },
            "type": "scatter3d"
           }
          ],
          "scattercarpet": [
           {
            "marker": {
             "colorbar": {
              "outlinewidth": 0,
              "ticks": ""
             }
            },
            "type": "scattercarpet"
           }
          ],
          "scattergeo": [
           {
            "marker": {
             "colorbar": {
              "outlinewidth": 0,
              "ticks": ""
             }
            },
            "type": "scattergeo"
           }
          ],
          "scattergl": [
           {
            "marker": {
             "colorbar": {
              "outlinewidth": 0,
              "ticks": ""
             }
            },
            "type": "scattergl"
           }
          ],
          "scattermapbox": [
           {
            "marker": {
             "colorbar": {
              "outlinewidth": 0,
              "ticks": ""
             }
            },
            "type": "scattermapbox"
           }
          ],
          "scatterpolar": [
           {
            "marker": {
             "colorbar": {
              "outlinewidth": 0,
              "ticks": ""
             }
            },
            "type": "scatterpolar"
           }
          ],
          "scatterpolargl": [
           {
            "marker": {
             "colorbar": {
              "outlinewidth": 0,
              "ticks": ""
             }
            },
            "type": "scatterpolargl"
           }
          ],
          "scatterternary": [
           {
            "marker": {
             "colorbar": {
              "outlinewidth": 0,
              "ticks": ""
             }
            },
            "type": "scatterternary"
           }
          ],
          "surface": [
           {
            "colorbar": {
             "outlinewidth": 0,
             "ticks": ""
            },
            "colorscale": [
             [
              0,
              "#0d0887"
             ],
             [
              0.1111111111111111,
              "#46039f"
             ],
             [
              0.2222222222222222,
              "#7201a8"
             ],
             [
              0.3333333333333333,
              "#9c179e"
             ],
             [
              0.4444444444444444,
              "#bd3786"
             ],
             [
              0.5555555555555556,
              "#d8576b"
             ],
             [
              0.6666666666666666,
              "#ed7953"
             ],
             [
              0.7777777777777778,
              "#fb9f3a"
             ],
             [
              0.8888888888888888,
              "#fdca26"
             ],
             [
              1,
              "#f0f921"
             ]
            ],
            "type": "surface"
           }
          ],
          "table": [
           {
            "cells": {
             "fill": {
              "color": "#EBF0F8"
             },
             "line": {
              "color": "white"
             }
            },
            "header": {
             "fill": {
              "color": "#C8D4E3"
             },
             "line": {
              "color": "white"
             }
            },
            "type": "table"
           }
          ]
         },
         "layout": {
          "annotationdefaults": {
           "arrowcolor": "#2a3f5f",
           "arrowhead": 0,
           "arrowwidth": 1
          },
          "autotypenumbers": "strict",
          "coloraxis": {
           "colorbar": {
            "outlinewidth": 0,
            "ticks": ""
           }
          },
          "colorscale": {
           "diverging": [
            [
             0,
             "#8e0152"
            ],
            [
             0.1,
             "#c51b7d"
            ],
            [
             0.2,
             "#de77ae"
            ],
            [
             0.3,
             "#f1b6da"
            ],
            [
             0.4,
             "#fde0ef"
            ],
            [
             0.5,
             "#f7f7f7"
            ],
            [
             0.6,
             "#e6f5d0"
            ],
            [
             0.7,
             "#b8e186"
            ],
            [
             0.8,
             "#7fbc41"
            ],
            [
             0.9,
             "#4d9221"
            ],
            [
             1,
             "#276419"
            ]
           ],
           "sequential": [
            [
             0,
             "#0d0887"
            ],
            [
             0.1111111111111111,
             "#46039f"
            ],
            [
             0.2222222222222222,
             "#7201a8"
            ],
            [
             0.3333333333333333,
             "#9c179e"
            ],
            [
             0.4444444444444444,
             "#bd3786"
            ],
            [
             0.5555555555555556,
             "#d8576b"
            ],
            [
             0.6666666666666666,
             "#ed7953"
            ],
            [
             0.7777777777777778,
             "#fb9f3a"
            ],
            [
             0.8888888888888888,
             "#fdca26"
            ],
            [
             1,
             "#f0f921"
            ]
           ],
           "sequentialminus": [
            [
             0,
             "#0d0887"
            ],
            [
             0.1111111111111111,
             "#46039f"
            ],
            [
             0.2222222222222222,
             "#7201a8"
            ],
            [
             0.3333333333333333,
             "#9c179e"
            ],
            [
             0.4444444444444444,
             "#bd3786"
            ],
            [
             0.5555555555555556,
             "#d8576b"
            ],
            [
             0.6666666666666666,
             "#ed7953"
            ],
            [
             0.7777777777777778,
             "#fb9f3a"
            ],
            [
             0.8888888888888888,
             "#fdca26"
            ],
            [
             1,
             "#f0f921"
            ]
           ]
          },
          "colorway": [
           "#636efa",
           "#EF553B",
           "#00cc96",
           "#ab63fa",
           "#FFA15A",
           "#19d3f3",
           "#FF6692",
           "#B6E880",
           "#FF97FF",
           "#FECB52"
          ],
          "font": {
           "color": "#2a3f5f"
          },
          "geo": {
           "bgcolor": "white",
           "lakecolor": "white",
           "landcolor": "white",
           "showlakes": true,
           "showland": true,
           "subunitcolor": "#C8D4E3"
          },
          "hoverlabel": {
           "align": "left"
          },
          "hovermode": "closest",
          "mapbox": {
           "style": "light"
          },
          "paper_bgcolor": "white",
          "plot_bgcolor": "white",
          "polar": {
           "angularaxis": {
            "gridcolor": "#EBF0F8",
            "linecolor": "#EBF0F8",
            "ticks": ""
           },
           "bgcolor": "white",
           "radialaxis": {
            "gridcolor": "#EBF0F8",
            "linecolor": "#EBF0F8",
            "ticks": ""
           }
          },
          "scene": {
           "xaxis": {
            "backgroundcolor": "white",
            "gridcolor": "#DFE8F3",
            "gridwidth": 2,
            "linecolor": "#EBF0F8",
            "showbackground": true,
            "ticks": "",
            "zerolinecolor": "#EBF0F8"
           },
           "yaxis": {
            "backgroundcolor": "white",
            "gridcolor": "#DFE8F3",
            "gridwidth": 2,
            "linecolor": "#EBF0F8",
            "showbackground": true,
            "ticks": "",
            "zerolinecolor": "#EBF0F8"
           },
           "zaxis": {
            "backgroundcolor": "white",
            "gridcolor": "#DFE8F3",
            "gridwidth": 2,
            "linecolor": "#EBF0F8",
            "showbackground": true,
            "ticks": "",
            "zerolinecolor": "#EBF0F8"
           }
          },
          "shapedefaults": {
           "line": {
            "color": "#2a3f5f"
           }
          },
          "ternary": {
           "aaxis": {
            "gridcolor": "#DFE8F3",
            "linecolor": "#A2B1C6",
            "ticks": ""
           },
           "baxis": {
            "gridcolor": "#DFE8F3",
            "linecolor": "#A2B1C6",
            "ticks": ""
           },
           "bgcolor": "white",
           "caxis": {
            "gridcolor": "#DFE8F3",
            "linecolor": "#A2B1C6",
            "ticks": ""
           }
          },
          "title": {
           "x": 0.05
          },
          "xaxis": {
           "automargin": true,
           "gridcolor": "#EBF0F8",
           "linecolor": "#EBF0F8",
           "ticks": "",
           "title": {
            "standoff": 15
           },
           "zerolinecolor": "#EBF0F8",
           "zerolinewidth": 2
          },
          "yaxis": {
           "automargin": true,
           "gridcolor": "#EBF0F8",
           "linecolor": "#EBF0F8",
           "ticks": "",
           "title": {
            "standoff": 15
           },
           "zerolinecolor": "#EBF0F8",
           "zerolinewidth": 2
          }
         }
        },
        "title": {
         "font": {
          "size": 20
         },
         "text": "Distribution of MASE in the dataset",
         "x": 0.5,
         "xanchor": "center",
         "yanchor": "top"
        },
        "width": 900,
        "xaxis": {
         "anchor": "y",
         "domain": [
          0,
          1
         ],
         "range": [
          0,
          2.5
         ],
         "title": {
          "font": {
           "size": 12
          },
          "text": "MASE"
         }
        },
        "xaxis2": {
         "anchor": "y2",
         "domain": [
          0,
          1
         ],
         "matches": "x",
         "showgrid": true,
         "showticklabels": false
        },
        "yaxis": {
         "anchor": "x",
         "domain": [
          0,
          0.7326
         ],
         "title": {
          "font": {
           "size": 12
          },
          "text": "Probability Density"
         }
        },
        "yaxis2": {
         "anchor": "x2",
         "domain": [
          0.7426,
          1
         ],
         "matches": "y2",
         "showgrid": false,
         "showline": false,
         "showticklabels": false,
         "ticks": ""
        }
       }
      }
     },
     "metadata": {},
     "output_type": "display_data"
    }
   ],
   "source": [
    "fig = px.histogram(metrics_df, \n",
    "                   x=\"MASE\", \n",
    "                   color=\"Algorithm\",\n",
    "                   pattern_shape=\"Algorithm\", \n",
    "                   marginal=\"box\", \n",
    "                   nbins=500, \n",
    "                   barmode=\"overlay\",\n",
    "                   histnorm=\"probability density\")\n",
    "fig = format_plot(fig, xlabel=\"MASE\", ylabel=\"Probability Density\", title=\"Distribution of MASE in the dataset\")\n",
    "fig.update_layout(xaxis_range=[0,2.5])\n",
    "# fig.write_image(\"imgs/chapter_8/mase_dist.png\")\n",
    "fig.show()"
   ]
  },
  {
   "cell_type": "code",
   "execution_count": 24,
   "id": "05599872-81eb-406c-b096-cece0d153817",
   "metadata": {},
   "outputs": [
    {
     "data": {
      "application/vnd.plotly.v1+json": {
       "config": {
        "plotlyServerURL": "https://plot.ly"
       },
       "data": [
        {
         "alignmentgroup": "True",
         "bingroup": "x",
         "histnorm": "probability density",
         "hovertemplate": "Algorithm=Lasso Regression_auto_stat<br>MAE=%{x}<br>probability density=%{y}<extra></extra>",
         "legendgroup": "Lasso Regression_auto_stat",
         "marker": {
          "color": "#636efa",
          "opacity": 0.5,
          "pattern": {
           "shape": ""
          }
         },
         "name": "Lasso Regression_auto_stat",
         "nbinsx": 100,
         "offsetgroup": "Lasso Regression_auto_stat",
         "orientation": "v",
         "showlegend": true,
         "type": "histogram",
         "x": [
          0.036640662028858836,
          0.06897054867691009,
          0.04281951736725743,
          0.1222865590253758,
          0.06499051120847138,
          0.01062686348819223,
          0.05183734531152144,
          0.09436533344050793,
          0.16571382363125534,
          0.06384933707614684,
          0.13180857006271127,
          0.028798629133408773,
          0.04755237915644906,
          0.3290456548937149,
          0.060442407951698335,
          0.034116861590396355,
          0.17747210448939377,
          0.06599541738669948,
          0.04223398636468241,
          0.10584475772734062,
          0.02288334551178453,
          0.03979673785605936,
          0.1028977264967992,
          0.06704866635207268,
          0.12955374980086848,
          0.05176548383860679,
          0.055159080196086105,
          0.07215704334953327,
          0.028656914696886075,
          0.08407695021274493,
          0.1607788019785096,
          0.020964688296302905,
          0.013221250313278123,
          0.07702656247596602,
          0.0699871979611126,
          0.045899987813248874,
          0.013333617802875012,
          0.013671526327147139,
          0.10378633128255171,
          0.06342633050175246,
          0.07555755010800964,
          0.06450046368708574,
          0.057711231590354684,
          0.10412769166559493,
          0.08425969157785172,
          0.09065564115958179,
          0.11865052342346215,
          0.05841479123193315,
          0.06278500967545335,
          0.04892345143255324,
          0.04338167873790799,
          0.04262577402894801,
          0.05076818340194024,
          0.0990704667186762,
          0.004338158274095339,
          0.2637750469989815,
          0.07076697662118386,
          0.04099061636682956,
          0.08214390169578974,
          0.15835098796504107,
          0.03933902020650299,
          0.02935071969714636,
          0.06485515562974285,
          0.12757529034600937,
          0.10122374898197044,
          0.05016545456829851,
          0.2756944534769974,
          0.021358534816021266,
          0.07204651205963221,
          0.049035217929097444,
          0.06303463481788195,
          0.0867681692407949,
          0.07682894524588062,
          0.06886062544631484,
          0.06336416346653434,
          0.03681361466371934,
          0.06313396793140319,
          0.052626111451837224,
          0.038022681779116274,
          0.006242628030850295,
          0.0690996489387007,
          0.03238729311764225,
          0.1464403640219606,
          0.011845402878263111,
          0.05446039778218262,
          0.07453444408462481,
          0.10678376094623364,
          0.0585663723701302,
          0.10411357654324113,
          0.060018578159528026,
          0.08328640561180801,
          0.12023135675134614,
          0.032419813526710306,
          0.0901281912873848,
          0.10916929933720014,
          0.10919330001406244,
          0.04838745538235708,
          0.045507485771771904,
          0.15601316029370407,
          0.05921622421521235,
          0.037988585901670265,
          0.05035386632375745,
          0.015148150333033426,
          0.06981424907294383,
          0.17246684164729442,
          0.1642508695347883,
          0.09879032263845088,
          0.17458748561202067,
          0.10253601721464907,
          0.13600399808266733,
          0.041068419737767925,
          0.12538170247342606,
          0.06899714079295502,
          0.12786033220410453,
          0.03511569205846623,
          0.09317909091520374,
          0.07468586697043177,
          0.23129820292000614,
          0.1539988751485145,
          0.051471072054346215,
          0.09015662764818295,
          0.17446205103195284,
          0.03503710298280427,
          0.06148428590056509,
          0.023260845675927684,
          0.1330424916866072,
          0.08846053829869298,
          0.053118284357454984,
          0.07752398518299033,
          0.05436748358685826,
          0.060409544812152584,
          0.12244915483289914,
          0.24707710857898144,
          0.050842986486371596,
          0.1894620198075169,
          0.07989014134520668,
          0.07660909336947636,
          0.14686093966693659,
          0.045619384672809,
          0.034631735774807784,
          0.039665437746634405,
          0.2820742936388641,
          0.21145359040119777,
          0.029635064757056347,
          0.03429572832919633,
          0.10889563976019205,
          0.07577808054101152,
          0.061368426206276354,
          0.15441720425778152,
          0.06495426621274528
         ],
         "xaxis": "x",
         "yaxis": "y"
        },
        {
         "alignmentgroup": "True",
         "hovertemplate": "Algorithm=Lasso Regression_auto_stat<br>MAE=%{x}<extra></extra>",
         "legendgroup": "Lasso Regression_auto_stat",
         "marker": {
          "color": "#636efa"
         },
         "name": "Lasso Regression_auto_stat",
         "notched": true,
         "offsetgroup": "Lasso Regression_auto_stat",
         "showlegend": false,
         "type": "box",
         "x": [
          0.036640662028858836,
          0.06897054867691009,
          0.04281951736725743,
          0.1222865590253758,
          0.06499051120847138,
          0.01062686348819223,
          0.05183734531152144,
          0.09436533344050793,
          0.16571382363125534,
          0.06384933707614684,
          0.13180857006271127,
          0.028798629133408773,
          0.04755237915644906,
          0.3290456548937149,
          0.060442407951698335,
          0.034116861590396355,
          0.17747210448939377,
          0.06599541738669948,
          0.04223398636468241,
          0.10584475772734062,
          0.02288334551178453,
          0.03979673785605936,
          0.1028977264967992,
          0.06704866635207268,
          0.12955374980086848,
          0.05176548383860679,
          0.055159080196086105,
          0.07215704334953327,
          0.028656914696886075,
          0.08407695021274493,
          0.1607788019785096,
          0.020964688296302905,
          0.013221250313278123,
          0.07702656247596602,
          0.0699871979611126,
          0.045899987813248874,
          0.013333617802875012,
          0.013671526327147139,
          0.10378633128255171,
          0.06342633050175246,
          0.07555755010800964,
          0.06450046368708574,
          0.057711231590354684,
          0.10412769166559493,
          0.08425969157785172,
          0.09065564115958179,
          0.11865052342346215,
          0.05841479123193315,
          0.06278500967545335,
          0.04892345143255324,
          0.04338167873790799,
          0.04262577402894801,
          0.05076818340194024,
          0.0990704667186762,
          0.004338158274095339,
          0.2637750469989815,
          0.07076697662118386,
          0.04099061636682956,
          0.08214390169578974,
          0.15835098796504107,
          0.03933902020650299,
          0.02935071969714636,
          0.06485515562974285,
          0.12757529034600937,
          0.10122374898197044,
          0.05016545456829851,
          0.2756944534769974,
          0.021358534816021266,
          0.07204651205963221,
          0.049035217929097444,
          0.06303463481788195,
          0.0867681692407949,
          0.07682894524588062,
          0.06886062544631484,
          0.06336416346653434,
          0.03681361466371934,
          0.06313396793140319,
          0.052626111451837224,
          0.038022681779116274,
          0.006242628030850295,
          0.0690996489387007,
          0.03238729311764225,
          0.1464403640219606,
          0.011845402878263111,
          0.05446039778218262,
          0.07453444408462481,
          0.10678376094623364,
          0.0585663723701302,
          0.10411357654324113,
          0.060018578159528026,
          0.08328640561180801,
          0.12023135675134614,
          0.032419813526710306,
          0.0901281912873848,
          0.10916929933720014,
          0.10919330001406244,
          0.04838745538235708,
          0.045507485771771904,
          0.15601316029370407,
          0.05921622421521235,
          0.037988585901670265,
          0.05035386632375745,
          0.015148150333033426,
          0.06981424907294383,
          0.17246684164729442,
          0.1642508695347883,
          0.09879032263845088,
          0.17458748561202067,
          0.10253601721464907,
          0.13600399808266733,
          0.041068419737767925,
          0.12538170247342606,
          0.06899714079295502,
          0.12786033220410453,
          0.03511569205846623,
          0.09317909091520374,
          0.07468586697043177,
          0.23129820292000614,
          0.1539988751485145,
          0.051471072054346215,
          0.09015662764818295,
          0.17446205103195284,
          0.03503710298280427,
          0.06148428590056509,
          0.023260845675927684,
          0.1330424916866072,
          0.08846053829869298,
          0.053118284357454984,
          0.07752398518299033,
          0.05436748358685826,
          0.060409544812152584,
          0.12244915483289914,
          0.24707710857898144,
          0.050842986486371596,
          0.1894620198075169,
          0.07989014134520668,
          0.07660909336947636,
          0.14686093966693659,
          0.045619384672809,
          0.034631735774807784,
          0.039665437746634405,
          0.2820742936388641,
          0.21145359040119777,
          0.029635064757056347,
          0.03429572832919633,
          0.10889563976019205,
          0.07577808054101152,
          0.061368426206276354,
          0.15441720425778152,
          0.06495426621274528
         ],
         "xaxis": "x2",
         "yaxis": "y2"
        },
        {
         "alignmentgroup": "True",
         "bingroup": "x",
         "histnorm": "probability density",
         "hovertemplate": "Algorithm=XGB Random Forest_auto_stat<br>MAE=%{x}<br>probability density=%{y}<extra></extra>",
         "legendgroup": "XGB Random Forest_auto_stat",
         "marker": {
          "color": "#EF553B",
          "opacity": 0.5,
          "pattern": {
           "shape": "/"
          }
         },
         "name": "XGB Random Forest_auto_stat",
         "nbinsx": 100,
         "offsetgroup": "XGB Random Forest_auto_stat",
         "orientation": "v",
         "showlegend": true,
         "type": "histogram",
         "x": [
          0.03569452274067047,
          0.07127882784747702,
          0.04251833119634827,
          0.11487448382957899,
          0.06333786994218826,
          0.012439990188019329,
          0.05097749380128554,
          0.09364699437043761,
          0.16421875460372914,
          0.06461002428571883,
          0.13588581405008474,
          0.028412952206316525,
          0.048607785166081545,
          0.3918373019871789,
          0.06131623119589591,
          0.035579105853774474,
          0.18358787262053428,
          0.06325015706221805,
          0.04442768060796077,
          0.10672010652445692,
          0.021034478965320347,
          0.03844967868047457,
          0.09663279979148234,
          0.06510361668106208,
          0.13047113072928163,
          0.05201505907174803,
          0.05550278349632077,
          0.06938442935477625,
          0.027933744816408423,
          0.09509701906515412,
          0.17391880430134207,
          0.022133516530288982,
          0.013519199532148855,
          0.0750920941512352,
          0.0796805589243236,
          0.01447868087867404,
          0.012709736227576141,
          0.018152727200967382,
          0.0991771969413152,
          0.0627880875745437,
          0.0831180667761203,
          0.07021609647230256,
          0.06007274167691918,
          0.10338753979677315,
          0.0778369021987755,
          0.09038979790043174,
          0.13104402182226846,
          0.059765064962257856,
          0.06252860334063289,
          0.056268762641140495,
          0.04005122672178355,
          0.03809907052526191,
          0.04998563877898276,
          0.09658141233400663,
          0.002828409722768165,
          0.43699770451110853,
          0.07598116639384041,
          0.04509178340838929,
          0.07893401202659972,
          0.1696532011404124,
          0.04101662116676921,
          0.028429238837123897,
          0.08352963013504434,
          0.13431499219035997,
          0.1051242402314014,
          0.04691688360016865,
          0.28509726694982174,
          0.02041125900746368,
          0.07459186211562964,
          0.05175616539820026,
          0.06532742439045251,
          0.09327429518090626,
          0.08174258570621903,
          0.08132987399298307,
          0.06021587170595498,
          0.04091259727794,
          0.06547590574159605,
          0.051966884295216516,
          0.0375036337647648,
          0.030265169049063675,
          0.06588315477686107,
          0.036949431401713334,
          0.15456456071974756,
          0.011365751913524486,
          0.052395211138706564,
          0.0775206189820989,
          0.11803174703868126,
          0.059414661776170295,
          0.10636639191797861,
          0.06135623813778788,
          0.13585519971587048,
          0.12093107910826514,
          0.03256749243563717,
          0.09374053422761347,
          0.09957585396340411,
          0.10967420882891485,
          0.0472621580343879,
          0.04524706288254668,
          0.16801702099960905,
          0.06018342539915559,
          0.0366962594512725,
          0.05185328995162938,
          0.01532335514381109,
          0.07032732056008935,
          0.18256016335350653,
          0.1537403530920402,
          0.1011627940710702,
          0.20410062435295445,
          0.1129391459996129,
          0.12926314083555654,
          0.0389843690500319,
          0.11655935725297903,
          0.06686306896674281,
          0.12367809273109595,
          0.042277414729646585,
          0.09104946265721782,
          0.07217048227762715,
          0.19892198443933454,
          0.16266683608068047,
          0.04942914746976334,
          0.09959535991906729,
          0.17249769352911082,
          0.03381524626526806,
          0.06449126474606227,
          0.024124625906838264,
          0.13196184029735555,
          0.0834059297441246,
          0.05005257019114846,
          0.08102706393656044,
          0.05187425276625814,
          0.05841632704248982,
          0.12435826697617783,
          0.23245876030596935,
          0.05471532926964381,
          0.19163668065629633,
          0.08831924940295757,
          0.07054535121573889,
          0.14490233922276688,
          0.051040468748822426,
          0.03643928309387157,
          0.03603975565634204,
          0.3174501308010742,
          0.2206033045806423,
          0.028221707411093474,
          0.031096901286084097,
          0.0881105957941052,
          0.08304339963973563,
          0.060863556940451015,
          0.1600405889935446,
          0.05563082344819123
         ],
         "xaxis": "x",
         "yaxis": "y"
        },
        {
         "alignmentgroup": "True",
         "hovertemplate": "Algorithm=XGB Random Forest_auto_stat<br>MAE=%{x}<extra></extra>",
         "legendgroup": "XGB Random Forest_auto_stat",
         "marker": {
          "color": "#EF553B"
         },
         "name": "XGB Random Forest_auto_stat",
         "notched": true,
         "offsetgroup": "XGB Random Forest_auto_stat",
         "showlegend": false,
         "type": "box",
         "x": [
          0.03569452274067047,
          0.07127882784747702,
          0.04251833119634827,
          0.11487448382957899,
          0.06333786994218826,
          0.012439990188019329,
          0.05097749380128554,
          0.09364699437043761,
          0.16421875460372914,
          0.06461002428571883,
          0.13588581405008474,
          0.028412952206316525,
          0.048607785166081545,
          0.3918373019871789,
          0.06131623119589591,
          0.035579105853774474,
          0.18358787262053428,
          0.06325015706221805,
          0.04442768060796077,
          0.10672010652445692,
          0.021034478965320347,
          0.03844967868047457,
          0.09663279979148234,
          0.06510361668106208,
          0.13047113072928163,
          0.05201505907174803,
          0.05550278349632077,
          0.06938442935477625,
          0.027933744816408423,
          0.09509701906515412,
          0.17391880430134207,
          0.022133516530288982,
          0.013519199532148855,
          0.0750920941512352,
          0.0796805589243236,
          0.01447868087867404,
          0.012709736227576141,
          0.018152727200967382,
          0.0991771969413152,
          0.0627880875745437,
          0.0831180667761203,
          0.07021609647230256,
          0.06007274167691918,
          0.10338753979677315,
          0.0778369021987755,
          0.09038979790043174,
          0.13104402182226846,
          0.059765064962257856,
          0.06252860334063289,
          0.056268762641140495,
          0.04005122672178355,
          0.03809907052526191,
          0.04998563877898276,
          0.09658141233400663,
          0.002828409722768165,
          0.43699770451110853,
          0.07598116639384041,
          0.04509178340838929,
          0.07893401202659972,
          0.1696532011404124,
          0.04101662116676921,
          0.028429238837123897,
          0.08352963013504434,
          0.13431499219035997,
          0.1051242402314014,
          0.04691688360016865,
          0.28509726694982174,
          0.02041125900746368,
          0.07459186211562964,
          0.05175616539820026,
          0.06532742439045251,
          0.09327429518090626,
          0.08174258570621903,
          0.08132987399298307,
          0.06021587170595498,
          0.04091259727794,
          0.06547590574159605,
          0.051966884295216516,
          0.0375036337647648,
          0.030265169049063675,
          0.06588315477686107,
          0.036949431401713334,
          0.15456456071974756,
          0.011365751913524486,
          0.052395211138706564,
          0.0775206189820989,
          0.11803174703868126,
          0.059414661776170295,
          0.10636639191797861,
          0.06135623813778788,
          0.13585519971587048,
          0.12093107910826514,
          0.03256749243563717,
          0.09374053422761347,
          0.09957585396340411,
          0.10967420882891485,
          0.0472621580343879,
          0.04524706288254668,
          0.16801702099960905,
          0.06018342539915559,
          0.0366962594512725,
          0.05185328995162938,
          0.01532335514381109,
          0.07032732056008935,
          0.18256016335350653,
          0.1537403530920402,
          0.1011627940710702,
          0.20410062435295445,
          0.1129391459996129,
          0.12926314083555654,
          0.0389843690500319,
          0.11655935725297903,
          0.06686306896674281,
          0.12367809273109595,
          0.042277414729646585,
          0.09104946265721782,
          0.07217048227762715,
          0.19892198443933454,
          0.16266683608068047,
          0.04942914746976334,
          0.09959535991906729,
          0.17249769352911082,
          0.03381524626526806,
          0.06449126474606227,
          0.024124625906838264,
          0.13196184029735555,
          0.0834059297441246,
          0.05005257019114846,
          0.08102706393656044,
          0.05187425276625814,
          0.05841632704248982,
          0.12435826697617783,
          0.23245876030596935,
          0.05471532926964381,
          0.19163668065629633,
          0.08831924940295757,
          0.07054535121573889,
          0.14490233922276688,
          0.051040468748822426,
          0.03643928309387157,
          0.03603975565634204,
          0.3174501308010742,
          0.2206033045806423,
          0.028221707411093474,
          0.031096901286084097,
          0.0881105957941052,
          0.08304339963973563,
          0.060863556940451015,
          0.1600405889935446,
          0.05563082344819123
         ],
         "xaxis": "x2",
         "yaxis": "y2"
        },
        {
         "alignmentgroup": "True",
         "bingroup": "x",
         "histnorm": "probability density",
         "hovertemplate": "Algorithm=LightGBM_auto_stat<br>MAE=%{x}<br>probability density=%{y}<extra></extra>",
         "legendgroup": "LightGBM_auto_stat",
         "marker": {
          "color": "#00cc96",
          "opacity": 0.5,
          "pattern": {
           "shape": "\\"
          }
         },
         "name": "LightGBM_auto_stat",
         "nbinsx": 100,
         "offsetgroup": "LightGBM_auto_stat",
         "orientation": "v",
         "showlegend": true,
         "type": "histogram",
         "x": [
          0.032543603603499296,
          0.0714944080757296,
          0.04088400993112934,
          0.1060920768499144,
          0.06328198598299459,
          0.005864025059422478,
          0.04974718866695343,
          0.09112453876406502,
          0.14999910103953543,
          0.06263282137742553,
          0.1278908578499905,
          0.028068650362465072,
          0.047041392150616604,
          0.30881749540663256,
          0.05427272735973077,
          0.030795082888120842,
          0.18672476765778337,
          0.060879035675731996,
          0.03797119973551963,
          0.10176696001711127,
          0.021417819749724728,
          0.050223506656292424,
          0.09331400777411296,
          0.06222813474948086,
          0.12360700187135135,
          0.04940455637946198,
          0.05348140738867701,
          0.06724052270905174,
          0.025926706500482895,
          0.08561556881424101,
          0.159628092449325,
          0.019506782312425027,
          0.010931422904847865,
          0.07023495202203052,
          0.06889464872048157,
          0.011311438100783895,
          0.01146046950499017,
          0.00912591478879592,
          0.09023277518875437,
          0.06110408253262943,
          0.07592966179487119,
          0.06582262433261579,
          0.05758574271184072,
          0.10019399178183806,
          0.07411834982623149,
          0.08786318081160097,
          0.12214886045054732,
          0.056364982110401744,
          0.058430844096060565,
          0.05259281670221539,
          0.04032428969827142,
          0.03440773045074781,
          0.04848894576014435,
          0.08868610191430223,
          0.000561673646842744,
          0.4168253658376713,
          0.06577332282112526,
          0.03440437617005211,
          0.08013375035943104,
          0.1540582582841112,
          0.03698592423578574,
          0.02794684675512292,
          0.06861805087004091,
          0.12682761304699353,
          0.08829495277098098,
          0.0454898595264679,
          0.23616790530724013,
          0.018488559158677285,
          0.0690919219582563,
          0.05463013400589605,
          0.059490928741711836,
          0.0897090926499327,
          0.06793813441817642,
          0.07524054128761977,
          0.05414486297955037,
          0.03371300254212955,
          0.060156483677803706,
          0.04609379816881159,
          0.034797300166033066,
          0.012457942445190629,
          0.06421425995401234,
          0.03354290885569019,
          0.14332157005254578,
          0.010881005822538528,
          0.052394852131263145,
          0.07274854854536748,
          0.11109684512038816,
          0.05387960442991856,
          0.10087743169344522,
          0.054657496407635536,
          0.08770336716097438,
          0.12046505364290704,
          0.031357436454444006,
          0.09009075447183786,
          0.0944690155731834,
          0.11055511383471422,
          0.04460772147035852,
          0.04155474902999929,
          0.15282138849811466,
          0.052094724053454826,
          0.032359825157489405,
          0.05112530994043767,
          0.013388370049155107,
          0.06672934291704656,
          0.16820095062112517,
          0.15077321979125147,
          0.10220485984993977,
          0.1739969186052441,
          0.10039487915700082,
          0.1271648229896017,
          0.03808744142372125,
          0.12070791043982586,
          0.058563282425901274,
          0.12275757229031642,
          0.030841428445466196,
          0.08307127805022785,
          0.06486825833967692,
          0.15961469117105087,
          0.1551112575028631,
          0.04663692888138394,
          0.06270414709267656,
          0.16689286139294615,
          0.03097788464401753,
          0.05905101984856116,
          0.023024776450569204,
          0.13203708212560372,
          0.08198203859937138,
          0.04243060442167757,
          0.07997109348337267,
          0.04938973064147541,
          0.05709124773552531,
          0.11181180145918224,
          0.17236594559706533,
          0.048896451357704075,
          0.17461290395408186,
          0.08752984221952842,
          0.07159078212510663,
          0.14216892127906683,
          0.04741831099511071,
          0.03290639650504866,
          0.03144790601964698,
          0.29017262490491547,
          0.18273933063859746,
          0.027735641177310318,
          0.03081937449067184,
          0.0775060603172644,
          0.08076624774787165,
          0.05768029041023587,
          0.15474656741484746,
          0.04873179223212704
         ],
         "xaxis": "x",
         "yaxis": "y"
        },
        {
         "alignmentgroup": "True",
         "hovertemplate": "Algorithm=LightGBM_auto_stat<br>MAE=%{x}<extra></extra>",
         "legendgroup": "LightGBM_auto_stat",
         "marker": {
          "color": "#00cc96"
         },
         "name": "LightGBM_auto_stat",
         "notched": true,
         "offsetgroup": "LightGBM_auto_stat",
         "showlegend": false,
         "type": "box",
         "x": [
          0.032543603603499296,
          0.0714944080757296,
          0.04088400993112934,
          0.1060920768499144,
          0.06328198598299459,
          0.005864025059422478,
          0.04974718866695343,
          0.09112453876406502,
          0.14999910103953543,
          0.06263282137742553,
          0.1278908578499905,
          0.028068650362465072,
          0.047041392150616604,
          0.30881749540663256,
          0.05427272735973077,
          0.030795082888120842,
          0.18672476765778337,
          0.060879035675731996,
          0.03797119973551963,
          0.10176696001711127,
          0.021417819749724728,
          0.050223506656292424,
          0.09331400777411296,
          0.06222813474948086,
          0.12360700187135135,
          0.04940455637946198,
          0.05348140738867701,
          0.06724052270905174,
          0.025926706500482895,
          0.08561556881424101,
          0.159628092449325,
          0.019506782312425027,
          0.010931422904847865,
          0.07023495202203052,
          0.06889464872048157,
          0.011311438100783895,
          0.01146046950499017,
          0.00912591478879592,
          0.09023277518875437,
          0.06110408253262943,
          0.07592966179487119,
          0.06582262433261579,
          0.05758574271184072,
          0.10019399178183806,
          0.07411834982623149,
          0.08786318081160097,
          0.12214886045054732,
          0.056364982110401744,
          0.058430844096060565,
          0.05259281670221539,
          0.04032428969827142,
          0.03440773045074781,
          0.04848894576014435,
          0.08868610191430223,
          0.000561673646842744,
          0.4168253658376713,
          0.06577332282112526,
          0.03440437617005211,
          0.08013375035943104,
          0.1540582582841112,
          0.03698592423578574,
          0.02794684675512292,
          0.06861805087004091,
          0.12682761304699353,
          0.08829495277098098,
          0.0454898595264679,
          0.23616790530724013,
          0.018488559158677285,
          0.0690919219582563,
          0.05463013400589605,
          0.059490928741711836,
          0.0897090926499327,
          0.06793813441817642,
          0.07524054128761977,
          0.05414486297955037,
          0.03371300254212955,
          0.060156483677803706,
          0.04609379816881159,
          0.034797300166033066,
          0.012457942445190629,
          0.06421425995401234,
          0.03354290885569019,
          0.14332157005254578,
          0.010881005822538528,
          0.052394852131263145,
          0.07274854854536748,
          0.11109684512038816,
          0.05387960442991856,
          0.10087743169344522,
          0.054657496407635536,
          0.08770336716097438,
          0.12046505364290704,
          0.031357436454444006,
          0.09009075447183786,
          0.0944690155731834,
          0.11055511383471422,
          0.04460772147035852,
          0.04155474902999929,
          0.15282138849811466,
          0.052094724053454826,
          0.032359825157489405,
          0.05112530994043767,
          0.013388370049155107,
          0.06672934291704656,
          0.16820095062112517,
          0.15077321979125147,
          0.10220485984993977,
          0.1739969186052441,
          0.10039487915700082,
          0.1271648229896017,
          0.03808744142372125,
          0.12070791043982586,
          0.058563282425901274,
          0.12275757229031642,
          0.030841428445466196,
          0.08307127805022785,
          0.06486825833967692,
          0.15961469117105087,
          0.1551112575028631,
          0.04663692888138394,
          0.06270414709267656,
          0.16689286139294615,
          0.03097788464401753,
          0.05905101984856116,
          0.023024776450569204,
          0.13203708212560372,
          0.08198203859937138,
          0.04243060442167757,
          0.07997109348337267,
          0.04938973064147541,
          0.05709124773552531,
          0.11181180145918224,
          0.17236594559706533,
          0.048896451357704075,
          0.17461290395408186,
          0.08752984221952842,
          0.07159078212510663,
          0.14216892127906683,
          0.04741831099511071,
          0.03290639650504866,
          0.03144790601964698,
          0.29017262490491547,
          0.18273933063859746,
          0.027735641177310318,
          0.03081937449067184,
          0.0775060603172644,
          0.08076624774787165,
          0.05768029041023587,
          0.15474656741484746,
          0.04873179223212704
         ],
         "xaxis": "x2",
         "yaxis": "y2"
        }
       ],
       "layout": {
        "autosize": false,
        "barmode": "overlay",
        "height": 500,
        "legend": {
         "title": {},
         "tracegroupgap": 0
        },
        "margin": {
         "t": 60
        },
        "template": {
         "data": {
          "bar": [
           {
            "error_x": {
             "color": "#2a3f5f"
            },
            "error_y": {
             "color": "#2a3f5f"
            },
            "marker": {
             "line": {
              "color": "white",
              "width": 0.5
             },
             "pattern": {
              "fillmode": "overlay",
              "size": 10,
              "solidity": 0.2
             }
            },
            "type": "bar"
           }
          ],
          "barpolar": [
           {
            "marker": {
             "line": {
              "color": "white",
              "width": 0.5
             },
             "pattern": {
              "fillmode": "overlay",
              "size": 10,
              "solidity": 0.2
             }
            },
            "type": "barpolar"
           }
          ],
          "carpet": [
           {
            "aaxis": {
             "endlinecolor": "#2a3f5f",
             "gridcolor": "#C8D4E3",
             "linecolor": "#C8D4E3",
             "minorgridcolor": "#C8D4E3",
             "startlinecolor": "#2a3f5f"
            },
            "baxis": {
             "endlinecolor": "#2a3f5f",
             "gridcolor": "#C8D4E3",
             "linecolor": "#C8D4E3",
             "minorgridcolor": "#C8D4E3",
             "startlinecolor": "#2a3f5f"
            },
            "type": "carpet"
           }
          ],
          "choropleth": [
           {
            "colorbar": {
             "outlinewidth": 0,
             "ticks": ""
            },
            "type": "choropleth"
           }
          ],
          "contour": [
           {
            "colorbar": {
             "outlinewidth": 0,
             "ticks": ""
            },
            "colorscale": [
             [
              0,
              "#0d0887"
             ],
             [
              0.1111111111111111,
              "#46039f"
             ],
             [
              0.2222222222222222,
              "#7201a8"
             ],
             [
              0.3333333333333333,
              "#9c179e"
             ],
             [
              0.4444444444444444,
              "#bd3786"
             ],
             [
              0.5555555555555556,
              "#d8576b"
             ],
             [
              0.6666666666666666,
              "#ed7953"
             ],
             [
              0.7777777777777778,
              "#fb9f3a"
             ],
             [
              0.8888888888888888,
              "#fdca26"
             ],
             [
              1,
              "#f0f921"
             ]
            ],
            "type": "contour"
           }
          ],
          "contourcarpet": [
           {
            "colorbar": {
             "outlinewidth": 0,
             "ticks": ""
            },
            "type": "contourcarpet"
           }
          ],
          "heatmap": [
           {
            "colorbar": {
             "outlinewidth": 0,
             "ticks": ""
            },
            "colorscale": [
             [
              0,
              "#0d0887"
             ],
             [
              0.1111111111111111,
              "#46039f"
             ],
             [
              0.2222222222222222,
              "#7201a8"
             ],
             [
              0.3333333333333333,
              "#9c179e"
             ],
             [
              0.4444444444444444,
              "#bd3786"
             ],
             [
              0.5555555555555556,
              "#d8576b"
             ],
             [
              0.6666666666666666,
              "#ed7953"
             ],
             [
              0.7777777777777778,
              "#fb9f3a"
             ],
             [
              0.8888888888888888,
              "#fdca26"
             ],
             [
              1,
              "#f0f921"
             ]
            ],
            "type": "heatmap"
           }
          ],
          "heatmapgl": [
           {
            "colorbar": {
             "outlinewidth": 0,
             "ticks": ""
            },
            "colorscale": [
             [
              0,
              "#0d0887"
             ],
             [
              0.1111111111111111,
              "#46039f"
             ],
             [
              0.2222222222222222,
              "#7201a8"
             ],
             [
              0.3333333333333333,
              "#9c179e"
             ],
             [
              0.4444444444444444,
              "#bd3786"
             ],
             [
              0.5555555555555556,
              "#d8576b"
             ],
             [
              0.6666666666666666,
              "#ed7953"
             ],
             [
              0.7777777777777778,
              "#fb9f3a"
             ],
             [
              0.8888888888888888,
              "#fdca26"
             ],
             [
              1,
              "#f0f921"
             ]
            ],
            "type": "heatmapgl"
           }
          ],
          "histogram": [
           {
            "marker": {
             "pattern": {
              "fillmode": "overlay",
              "size": 10,
              "solidity": 0.2
             }
            },
            "type": "histogram"
           }
          ],
          "histogram2d": [
           {
            "colorbar": {
             "outlinewidth": 0,
             "ticks": ""
            },
            "colorscale": [
             [
              0,
              "#0d0887"
             ],
             [
              0.1111111111111111,
              "#46039f"
             ],
             [
              0.2222222222222222,
              "#7201a8"
             ],
             [
              0.3333333333333333,
              "#9c179e"
             ],
             [
              0.4444444444444444,
              "#bd3786"
             ],
             [
              0.5555555555555556,
              "#d8576b"
             ],
             [
              0.6666666666666666,
              "#ed7953"
             ],
             [
              0.7777777777777778,
              "#fb9f3a"
             ],
             [
              0.8888888888888888,
              "#fdca26"
             ],
             [
              1,
              "#f0f921"
             ]
            ],
            "type": "histogram2d"
           }
          ],
          "histogram2dcontour": [
           {
            "colorbar": {
             "outlinewidth": 0,
             "ticks": ""
            },
            "colorscale": [
             [
              0,
              "#0d0887"
             ],
             [
              0.1111111111111111,
              "#46039f"
             ],
             [
              0.2222222222222222,
              "#7201a8"
             ],
             [
              0.3333333333333333,
              "#9c179e"
             ],
             [
              0.4444444444444444,
              "#bd3786"
             ],
             [
              0.5555555555555556,
              "#d8576b"
             ],
             [
              0.6666666666666666,
              "#ed7953"
             ],
             [
              0.7777777777777778,
              "#fb9f3a"
             ],
             [
              0.8888888888888888,
              "#fdca26"
             ],
             [
              1,
              "#f0f921"
             ]
            ],
            "type": "histogram2dcontour"
           }
          ],
          "mesh3d": [
           {
            "colorbar": {
             "outlinewidth": 0,
             "ticks": ""
            },
            "type": "mesh3d"
           }
          ],
          "parcoords": [
           {
            "line": {
             "colorbar": {
              "outlinewidth": 0,
              "ticks": ""
             }
            },
            "type": "parcoords"
           }
          ],
          "pie": [
           {
            "automargin": true,
            "type": "pie"
           }
          ],
          "scatter": [
           {
            "fillpattern": {
             "fillmode": "overlay",
             "size": 10,
             "solidity": 0.2
            },
            "type": "scatter"
           }
          ],
          "scatter3d": [
           {
            "line": {
             "colorbar": {
              "outlinewidth": 0,
              "ticks": ""
             }
            },
            "marker": {
             "colorbar": {
              "outlinewidth": 0,
              "ticks": ""
             }
            },
            "type": "scatter3d"
           }
          ],
          "scattercarpet": [
           {
            "marker": {
             "colorbar": {
              "outlinewidth": 0,
              "ticks": ""
             }
            },
            "type": "scattercarpet"
           }
          ],
          "scattergeo": [
           {
            "marker": {
             "colorbar": {
              "outlinewidth": 0,
              "ticks": ""
             }
            },
            "type": "scattergeo"
           }
          ],
          "scattergl": [
           {
            "marker": {
             "colorbar": {
              "outlinewidth": 0,
              "ticks": ""
             }
            },
            "type": "scattergl"
           }
          ],
          "scattermapbox": [
           {
            "marker": {
             "colorbar": {
              "outlinewidth": 0,
              "ticks": ""
             }
            },
            "type": "scattermapbox"
           }
          ],
          "scatterpolar": [
           {
            "marker": {
             "colorbar": {
              "outlinewidth": 0,
              "ticks": ""
             }
            },
            "type": "scatterpolar"
           }
          ],
          "scatterpolargl": [
           {
            "marker": {
             "colorbar": {
              "outlinewidth": 0,
              "ticks": ""
             }
            },
            "type": "scatterpolargl"
           }
          ],
          "scatterternary": [
           {
            "marker": {
             "colorbar": {
              "outlinewidth": 0,
              "ticks": ""
             }
            },
            "type": "scatterternary"
           }
          ],
          "surface": [
           {
            "colorbar": {
             "outlinewidth": 0,
             "ticks": ""
            },
            "colorscale": [
             [
              0,
              "#0d0887"
             ],
             [
              0.1111111111111111,
              "#46039f"
             ],
             [
              0.2222222222222222,
              "#7201a8"
             ],
             [
              0.3333333333333333,
              "#9c179e"
             ],
             [
              0.4444444444444444,
              "#bd3786"
             ],
             [
              0.5555555555555556,
              "#d8576b"
             ],
             [
              0.6666666666666666,
              "#ed7953"
             ],
             [
              0.7777777777777778,
              "#fb9f3a"
             ],
             [
              0.8888888888888888,
              "#fdca26"
             ],
             [
              1,
              "#f0f921"
             ]
            ],
            "type": "surface"
           }
          ],
          "table": [
           {
            "cells": {
             "fill": {
              "color": "#EBF0F8"
             },
             "line": {
              "color": "white"
             }
            },
            "header": {
             "fill": {
              "color": "#C8D4E3"
             },
             "line": {
              "color": "white"
             }
            },
            "type": "table"
           }
          ]
         },
         "layout": {
          "annotationdefaults": {
           "arrowcolor": "#2a3f5f",
           "arrowhead": 0,
           "arrowwidth": 1
          },
          "autotypenumbers": "strict",
          "coloraxis": {
           "colorbar": {
            "outlinewidth": 0,
            "ticks": ""
           }
          },
          "colorscale": {
           "diverging": [
            [
             0,
             "#8e0152"
            ],
            [
             0.1,
             "#c51b7d"
            ],
            [
             0.2,
             "#de77ae"
            ],
            [
             0.3,
             "#f1b6da"
            ],
            [
             0.4,
             "#fde0ef"
            ],
            [
             0.5,
             "#f7f7f7"
            ],
            [
             0.6,
             "#e6f5d0"
            ],
            [
             0.7,
             "#b8e186"
            ],
            [
             0.8,
             "#7fbc41"
            ],
            [
             0.9,
             "#4d9221"
            ],
            [
             1,
             "#276419"
            ]
           ],
           "sequential": [
            [
             0,
             "#0d0887"
            ],
            [
             0.1111111111111111,
             "#46039f"
            ],
            [
             0.2222222222222222,
             "#7201a8"
            ],
            [
             0.3333333333333333,
             "#9c179e"
            ],
            [
             0.4444444444444444,
             "#bd3786"
            ],
            [
             0.5555555555555556,
             "#d8576b"
            ],
            [
             0.6666666666666666,
             "#ed7953"
            ],
            [
             0.7777777777777778,
             "#fb9f3a"
            ],
            [
             0.8888888888888888,
             "#fdca26"
            ],
            [
             1,
             "#f0f921"
            ]
           ],
           "sequentialminus": [
            [
             0,
             "#0d0887"
            ],
            [
             0.1111111111111111,
             "#46039f"
            ],
            [
             0.2222222222222222,
             "#7201a8"
            ],
            [
             0.3333333333333333,
             "#9c179e"
            ],
            [
             0.4444444444444444,
             "#bd3786"
            ],
            [
             0.5555555555555556,
             "#d8576b"
            ],
            [
             0.6666666666666666,
             "#ed7953"
            ],
            [
             0.7777777777777778,
             "#fb9f3a"
            ],
            [
             0.8888888888888888,
             "#fdca26"
            ],
            [
             1,
             "#f0f921"
            ]
           ]
          },
          "colorway": [
           "#636efa",
           "#EF553B",
           "#00cc96",
           "#ab63fa",
           "#FFA15A",
           "#19d3f3",
           "#FF6692",
           "#B6E880",
           "#FF97FF",
           "#FECB52"
          ],
          "font": {
           "color": "#2a3f5f"
          },
          "geo": {
           "bgcolor": "white",
           "lakecolor": "white",
           "landcolor": "white",
           "showlakes": true,
           "showland": true,
           "subunitcolor": "#C8D4E3"
          },
          "hoverlabel": {
           "align": "left"
          },
          "hovermode": "closest",
          "mapbox": {
           "style": "light"
          },
          "paper_bgcolor": "white",
          "plot_bgcolor": "white",
          "polar": {
           "angularaxis": {
            "gridcolor": "#EBF0F8",
            "linecolor": "#EBF0F8",
            "ticks": ""
           },
           "bgcolor": "white",
           "radialaxis": {
            "gridcolor": "#EBF0F8",
            "linecolor": "#EBF0F8",
            "ticks": ""
           }
          },
          "scene": {
           "xaxis": {
            "backgroundcolor": "white",
            "gridcolor": "#DFE8F3",
            "gridwidth": 2,
            "linecolor": "#EBF0F8",
            "showbackground": true,
            "ticks": "",
            "zerolinecolor": "#EBF0F8"
           },
           "yaxis": {
            "backgroundcolor": "white",
            "gridcolor": "#DFE8F3",
            "gridwidth": 2,
            "linecolor": "#EBF0F8",
            "showbackground": true,
            "ticks": "",
            "zerolinecolor": "#EBF0F8"
           },
           "zaxis": {
            "backgroundcolor": "white",
            "gridcolor": "#DFE8F3",
            "gridwidth": 2,
            "linecolor": "#EBF0F8",
            "showbackground": true,
            "ticks": "",
            "zerolinecolor": "#EBF0F8"
           }
          },
          "shapedefaults": {
           "line": {
            "color": "#2a3f5f"
           }
          },
          "ternary": {
           "aaxis": {
            "gridcolor": "#DFE8F3",
            "linecolor": "#A2B1C6",
            "ticks": ""
           },
           "baxis": {
            "gridcolor": "#DFE8F3",
            "linecolor": "#A2B1C6",
            "ticks": ""
           },
           "bgcolor": "white",
           "caxis": {
            "gridcolor": "#DFE8F3",
            "linecolor": "#A2B1C6",
            "ticks": ""
           }
          },
          "title": {
           "x": 0.05
          },
          "xaxis": {
           "automargin": true,
           "gridcolor": "#EBF0F8",
           "linecolor": "#EBF0F8",
           "ticks": "",
           "title": {
            "standoff": 15
           },
           "zerolinecolor": "#EBF0F8",
           "zerolinewidth": 2
          },
          "yaxis": {
           "automargin": true,
           "gridcolor": "#EBF0F8",
           "linecolor": "#EBF0F8",
           "ticks": "",
           "title": {
            "standoff": 15
           },
           "zerolinecolor": "#EBF0F8",
           "zerolinewidth": 2
          }
         }
        },
        "title": {
         "font": {
          "size": 20
         },
         "text": "Distribution of MAE in the dataset",
         "x": 0.5,
         "xanchor": "center",
         "yanchor": "top"
        },
        "width": 900,
        "xaxis": {
         "anchor": "y",
         "domain": [
          0,
          1
         ],
         "range": [
          0,
          0.4
         ],
         "title": {
          "font": {
           "size": 12
          },
          "text": "MAE"
         }
        },
        "xaxis2": {
         "anchor": "y2",
         "domain": [
          0,
          1
         ],
         "matches": "x",
         "showgrid": true,
         "showticklabels": false
        },
        "yaxis": {
         "anchor": "x",
         "domain": [
          0,
          0.7326
         ],
         "title": {
          "font": {
           "size": 12
          },
          "text": "Probability Density"
         }
        },
        "yaxis2": {
         "anchor": "x2",
         "domain": [
          0.7426,
          1
         ],
         "matches": "y2",
         "showgrid": false,
         "showline": false,
         "showticklabels": false,
         "ticks": ""
        }
       }
      }
     },
     "metadata": {},
     "output_type": "display_data"
    }
   ],
   "source": [
    "fig = px.histogram(metrics_df, \n",
    "                   x=\"MAE\", \n",
    "                   color=\"Algorithm\",\n",
    "                   pattern_shape=\"Algorithm\", \n",
    "                   marginal=\"box\", \n",
    "                   nbins=100, \n",
    "                   barmode=\"overlay\",\n",
    "                   histnorm=\"probability density\")\n",
    "fig = format_plot(fig, xlabel=\"MAE\", ylabel=\"Probability Density\", title=\"Distribution of MAE in the dataset\")\n",
    "# fig.write_image(\"imgs/chapter_8/mae_dist.png\")\n",
    "fig.update_layout(xaxis_range=[0,0.4])\n",
    "fig.show()"
   ]
  },
  {
   "cell_type": "code",
   "execution_count": 25,
   "id": "9e89266e-ab40-4f44-9461-ec0c755c6a61",
   "metadata": {},
   "outputs": [
    {
     "data": {
      "application/vnd.plotly.v1+json": {
       "config": {
        "plotlyServerURL": "https://plot.ly"
       },
       "data": [
        {
         "alignmentgroup": "True",
         "bingroup": "x",
         "histnorm": "probability density",
         "hovertemplate": "Algorithm=Lasso Regression_auto_stat<br>MSE=%{x}<br>probability density=%{y}<extra></extra>",
         "legendgroup": "Lasso Regression_auto_stat",
         "marker": {
          "color": "#636efa",
          "opacity": 0.5,
          "pattern": {
           "shape": ""
          }
         },
         "name": "Lasso Regression_auto_stat",
         "nbinsx": 500,
         "offsetgroup": "Lasso Regression_auto_stat",
         "orientation": "v",
         "showlegend": true,
         "type": "histogram",
         "x": [
          0.002989601295043752,
          0.027051951843643077,
          0.009351008494576436,
          0.025917715071939632,
          0.017820770168602406,
          0.0001747971047570716,
          0.0077260123595553135,
          0.025693892530939556,
          0.07973491549331824,
          0.00923643572791215,
          0.05394701627466849,
          0.0015923906150948546,
          0.006017549338685128,
          0.2029209159422568,
          0.009733760416243648,
          0.003599684300227241,
          0.09096320522219835,
          0.01611235802067496,
          0.004150624152106662,
          0.02700961155005508,
          0.00362308294879885,
          0.0053422476727794125,
          0.02982135730988295,
          0.017348534824951575,
          0.03911922238616764,
          0.009744126732074788,
          0.010706149007683177,
          0.01808107451820213,
          0.0035432856265026026,
          0.020722286253992726,
          0.05818602488691119,
          0.0007567197960023853,
          0.0004656821237286496,
          0.023583834839339193,
          0.015639914325528203,
          0.003897301304829071,
          0.0004687942523691569,
          0.0004635022257411705,
          0.03692374985835236,
          0.0206552932090177,
          0.022673118804303408,
          0.017699826332767316,
          0.011136389953879286,
          0.029953495045213305,
          0.03772476960250225,
          0.02848877584715489,
          0.041652675150502916,
          0.01071296637246337,
          0.012930902468808812,
          0.0095445218134086,
          0.007088014179816632,
          0.004307963218307525,
          0.012040671981600764,
          0.02265305591020224,
          0.000020704402351619494,
          0.19731556259055338,
          0.018714443974543003,
          0.004683919128787812,
          0.023232642884590062,
          0.0615073874876142,
          0.006407787490035579,
          0.002149260512025905,
          0.016521064937655525,
          0.045205524173752065,
          0.03531401175074891,
          0.0071147360823596885,
          0.15988295233847688,
          0.0015816844042934833,
          0.010804284248079984,
          0.0074628666150692744,
          0.013389887221279997,
          0.021102302394353394,
          0.01744434512644418,
          0.016972563870888448,
          0.011938319219923495,
          0.004125148947954064,
          0.013495425406925771,
          0.005983872336088246,
          0.0039233544952531054,
          0.00006967973348627409,
          0.030332249980096496,
          0.0028178485060114554,
          0.07342177969584723,
          0.00032963663417465193,
          0.010657482007361312,
          0.017103669499877534,
          0.03348703212605365,
          0.012479123831417171,
          0.027806934115062288,
          0.010497486892265156,
          0.025020719440008863,
          0.03718647203236009,
          0.003381956333613818,
          0.017931851484833377,
          0.04125303131584991,
          0.03865667021123201,
          0.01459310962910973,
          0.005394073544490594,
          0.09340707751985648,
          0.012054711212016794,
          0.00364134033633266,
          0.01066032225803541,
          0.0005601184057291987,
          0.014593572630608667,
          0.06606079375121486,
          0.07932934945229499,
          0.02647668499493717,
          0.07805955113782542,
          0.036915603039988046,
          0.04774515678008192,
          0.007992642424467154,
          0.08020846119740514,
          0.013378766866100551,
          0.0400041570913333,
          0.003923679594972451,
          0.03720190675941211,
          0.014901880684424393,
          0.1876494263130417,
          0.06616470793849878,
          0.012113677995383761,
          0.015783397696029954,
          0.1817000926107721,
          0.00342572960638098,
          0.012535305006794135,
          0.0017003315684169578,
          0.05367654012872273,
          0.020790484383054496,
          0.01551105201610076,
          0.011417252032463627,
          0.01213810578661434,
          0.010814957697309942,
          0.03892648149602205,
          0.13037372681413434,
          0.00728100205153047,
          0.10764323003519098,
          0.017246903293757516,
          0.021004533999609647,
          0.06367223394976274,
          0.00721067018170807,
          0.004039699129811356,
          0.005202510466298699,
          0.15921171421926886,
          0.08773223943620116,
          0.0021359980419780543,
          0.015430419207060873,
          0.04619067735174881,
          0.019170466853348014,
          0.012608700150842013,
          0.1561476886816516,
          0.014727682180107716
         ],
         "xaxis": "x",
         "yaxis": "y"
        },
        {
         "alignmentgroup": "True",
         "hovertemplate": "Algorithm=Lasso Regression_auto_stat<br>MSE=%{x}<extra></extra>",
         "legendgroup": "Lasso Regression_auto_stat",
         "marker": {
          "color": "#636efa"
         },
         "name": "Lasso Regression_auto_stat",
         "notched": true,
         "offsetgroup": "Lasso Regression_auto_stat",
         "showlegend": false,
         "type": "box",
         "x": [
          0.002989601295043752,
          0.027051951843643077,
          0.009351008494576436,
          0.025917715071939632,
          0.017820770168602406,
          0.0001747971047570716,
          0.0077260123595553135,
          0.025693892530939556,
          0.07973491549331824,
          0.00923643572791215,
          0.05394701627466849,
          0.0015923906150948546,
          0.006017549338685128,
          0.2029209159422568,
          0.009733760416243648,
          0.003599684300227241,
          0.09096320522219835,
          0.01611235802067496,
          0.004150624152106662,
          0.02700961155005508,
          0.00362308294879885,
          0.0053422476727794125,
          0.02982135730988295,
          0.017348534824951575,
          0.03911922238616764,
          0.009744126732074788,
          0.010706149007683177,
          0.01808107451820213,
          0.0035432856265026026,
          0.020722286253992726,
          0.05818602488691119,
          0.0007567197960023853,
          0.0004656821237286496,
          0.023583834839339193,
          0.015639914325528203,
          0.003897301304829071,
          0.0004687942523691569,
          0.0004635022257411705,
          0.03692374985835236,
          0.0206552932090177,
          0.022673118804303408,
          0.017699826332767316,
          0.011136389953879286,
          0.029953495045213305,
          0.03772476960250225,
          0.02848877584715489,
          0.041652675150502916,
          0.01071296637246337,
          0.012930902468808812,
          0.0095445218134086,
          0.007088014179816632,
          0.004307963218307525,
          0.012040671981600764,
          0.02265305591020224,
          0.000020704402351619494,
          0.19731556259055338,
          0.018714443974543003,
          0.004683919128787812,
          0.023232642884590062,
          0.0615073874876142,
          0.006407787490035579,
          0.002149260512025905,
          0.016521064937655525,
          0.045205524173752065,
          0.03531401175074891,
          0.0071147360823596885,
          0.15988295233847688,
          0.0015816844042934833,
          0.010804284248079984,
          0.0074628666150692744,
          0.013389887221279997,
          0.021102302394353394,
          0.01744434512644418,
          0.016972563870888448,
          0.011938319219923495,
          0.004125148947954064,
          0.013495425406925771,
          0.005983872336088246,
          0.0039233544952531054,
          0.00006967973348627409,
          0.030332249980096496,
          0.0028178485060114554,
          0.07342177969584723,
          0.00032963663417465193,
          0.010657482007361312,
          0.017103669499877534,
          0.03348703212605365,
          0.012479123831417171,
          0.027806934115062288,
          0.010497486892265156,
          0.025020719440008863,
          0.03718647203236009,
          0.003381956333613818,
          0.017931851484833377,
          0.04125303131584991,
          0.03865667021123201,
          0.01459310962910973,
          0.005394073544490594,
          0.09340707751985648,
          0.012054711212016794,
          0.00364134033633266,
          0.01066032225803541,
          0.0005601184057291987,
          0.014593572630608667,
          0.06606079375121486,
          0.07932934945229499,
          0.02647668499493717,
          0.07805955113782542,
          0.036915603039988046,
          0.04774515678008192,
          0.007992642424467154,
          0.08020846119740514,
          0.013378766866100551,
          0.0400041570913333,
          0.003923679594972451,
          0.03720190675941211,
          0.014901880684424393,
          0.1876494263130417,
          0.06616470793849878,
          0.012113677995383761,
          0.015783397696029954,
          0.1817000926107721,
          0.00342572960638098,
          0.012535305006794135,
          0.0017003315684169578,
          0.05367654012872273,
          0.020790484383054496,
          0.01551105201610076,
          0.011417252032463627,
          0.01213810578661434,
          0.010814957697309942,
          0.03892648149602205,
          0.13037372681413434,
          0.00728100205153047,
          0.10764323003519098,
          0.017246903293757516,
          0.021004533999609647,
          0.06367223394976274,
          0.00721067018170807,
          0.004039699129811356,
          0.005202510466298699,
          0.15921171421926886,
          0.08773223943620116,
          0.0021359980419780543,
          0.015430419207060873,
          0.04619067735174881,
          0.019170466853348014,
          0.012608700150842013,
          0.1561476886816516,
          0.014727682180107716
         ],
         "xaxis": "x2",
         "yaxis": "y2"
        },
        {
         "alignmentgroup": "True",
         "bingroup": "x",
         "histnorm": "probability density",
         "hovertemplate": "Algorithm=XGB Random Forest_auto_stat<br>MSE=%{x}<br>probability density=%{y}<extra></extra>",
         "legendgroup": "XGB Random Forest_auto_stat",
         "marker": {
          "color": "#EF553B",
          "opacity": 0.5,
          "pattern": {
           "shape": "/"
          }
         },
         "name": "XGB Random Forest_auto_stat",
         "nbinsx": 500,
         "offsetgroup": "XGB Random Forest_auto_stat",
         "orientation": "v",
         "showlegend": true,
         "type": "histogram",
         "x": [
          0.002970542982698914,
          0.027271329595676606,
          0.010017757778395272,
          0.02420079875633941,
          0.01781051978468895,
          0.00020660703010415244,
          0.007946569282802234,
          0.02533816532995283,
          0.08182814791889333,
          0.009361577018122754,
          0.054856036795625916,
          0.0015631828217050545,
          0.006202393902749952,
          0.32276689688347104,
          0.010003901940297925,
          0.0038526639153671403,
          0.09123032568286468,
          0.015166531624420086,
          0.004563519463677385,
          0.027348219413785773,
          0.0035949213557271657,
          0.005464926619686631,
          0.02741608049159304,
          0.016952724669250924,
          0.03975803313887415,
          0.009998582412201466,
          0.011264415160389542,
          0.017597415937613662,
          0.003389027066131894,
          0.022455372486596473,
          0.06655168067400047,
          0.0008366843793919253,
          0.0004982200698105604,
          0.023568462625661167,
          0.015975441727144192,
          0.000743027389340707,
          0.00047818959766990924,
          0.0004312067765358353,
          0.0380056537304997,
          0.020067283836624174,
          0.030572395506860313,
          0.017350935114648535,
          0.011208217520827431,
          0.02976126375721402,
          0.037950915649511134,
          0.028645486366219136,
          0.046845681682227476,
          0.01117156298726376,
          0.013027505982752966,
          0.010301148558927801,
          0.00701898548751458,
          0.0038997895585348085,
          0.011604420947649992,
          0.020920148698953457,
          0.000009311620129133516,
          0.47657715412303914,
          0.019399586997583117,
          0.004997454935583551,
          0.02166051944417177,
          0.06932302689879875,
          0.006286406600382998,
          0.0020684484977286756,
          0.016893528484100265,
          0.046994051596196094,
          0.034888207042449645,
          0.006666116923201478,
          0.1708808994881858,
          0.0015707448689493298,
          0.011092124191072973,
          0.0078091495879206345,
          0.013137514202873075,
          0.0216391238129903,
          0.018834140335819982,
          0.018026848240024047,
          0.011198775931832007,
          0.004789532354127579,
          0.014499623883436634,
          0.006052581509098008,
          0.00390361403258856,
          0.001022064102981907,
          0.027000767014040097,
          0.003264684409197817,
          0.06965238045228607,
          0.0003313077228854267,
          0.010403353250514419,
          0.017787653225572495,
          0.032296980327990304,
          0.012500847415809604,
          0.02915240318138306,
          0.01100429310437976,
          0.03994454189028802,
          0.03776646861522405,
          0.003550816459973843,
          0.01908342345424583,
          0.038338926574429555,
          0.03864480657691382,
          0.014146262223891782,
          0.005614626813660261,
          0.10136140969253986,
          0.012866212458078775,
          0.003336355293344497,
          0.011029218049137661,
          0.0005794722097881865,
          0.014620873869923433,
          0.07227938684159418,
          0.07643536918421881,
          0.027495185261454187,
          0.09451376757457675,
          0.03722735388127397,
          0.045883758274008,
          0.007120239232478194,
          0.07909457370496772,
          0.013450948362196912,
          0.039462305211432576,
          0.004733768437053853,
          0.03660946657680744,
          0.014365759482418701,
          0.15325726406500348,
          0.07075653984194302,
          0.011978327558290909,
          0.016395604646430813,
          0.17372933614267022,
          0.0032920915339551644,
          0.013635439167112582,
          0.001784832130265192,
          0.052879350918437235,
          0.019434744336722567,
          0.014608277088791794,
          0.012077196110354838,
          0.01189250395560633,
          0.011040463905203676,
          0.038505259535192474,
          0.16296513755045594,
          0.008577587877921369,
          0.11069511030995609,
          0.017523977195504643,
          0.019891500686180143,
          0.06369828909361352,
          0.007701282953588134,
          0.004215784581020787,
          0.004994613669208747,
          0.192204597567651,
          0.09542753593482223,
          0.0020804600605138666,
          0.014841387775194127,
          0.025362639088781728,
          0.022462394243942658,
          0.012153918582136455,
          0.15506711318915942,
          0.014288752431615225
         ],
         "xaxis": "x",
         "yaxis": "y"
        },
        {
         "alignmentgroup": "True",
         "hovertemplate": "Algorithm=XGB Random Forest_auto_stat<br>MSE=%{x}<extra></extra>",
         "legendgroup": "XGB Random Forest_auto_stat",
         "marker": {
          "color": "#EF553B"
         },
         "name": "XGB Random Forest_auto_stat",
         "notched": true,
         "offsetgroup": "XGB Random Forest_auto_stat",
         "showlegend": false,
         "type": "box",
         "x": [
          0.002970542982698914,
          0.027271329595676606,
          0.010017757778395272,
          0.02420079875633941,
          0.01781051978468895,
          0.00020660703010415244,
          0.007946569282802234,
          0.02533816532995283,
          0.08182814791889333,
          0.009361577018122754,
          0.054856036795625916,
          0.0015631828217050545,
          0.006202393902749952,
          0.32276689688347104,
          0.010003901940297925,
          0.0038526639153671403,
          0.09123032568286468,
          0.015166531624420086,
          0.004563519463677385,
          0.027348219413785773,
          0.0035949213557271657,
          0.005464926619686631,
          0.02741608049159304,
          0.016952724669250924,
          0.03975803313887415,
          0.009998582412201466,
          0.011264415160389542,
          0.017597415937613662,
          0.003389027066131894,
          0.022455372486596473,
          0.06655168067400047,
          0.0008366843793919253,
          0.0004982200698105604,
          0.023568462625661167,
          0.015975441727144192,
          0.000743027389340707,
          0.00047818959766990924,
          0.0004312067765358353,
          0.0380056537304997,
          0.020067283836624174,
          0.030572395506860313,
          0.017350935114648535,
          0.011208217520827431,
          0.02976126375721402,
          0.037950915649511134,
          0.028645486366219136,
          0.046845681682227476,
          0.01117156298726376,
          0.013027505982752966,
          0.010301148558927801,
          0.00701898548751458,
          0.0038997895585348085,
          0.011604420947649992,
          0.020920148698953457,
          0.000009311620129133516,
          0.47657715412303914,
          0.019399586997583117,
          0.004997454935583551,
          0.02166051944417177,
          0.06932302689879875,
          0.006286406600382998,
          0.0020684484977286756,
          0.016893528484100265,
          0.046994051596196094,
          0.034888207042449645,
          0.006666116923201478,
          0.1708808994881858,
          0.0015707448689493298,
          0.011092124191072973,
          0.0078091495879206345,
          0.013137514202873075,
          0.0216391238129903,
          0.018834140335819982,
          0.018026848240024047,
          0.011198775931832007,
          0.004789532354127579,
          0.014499623883436634,
          0.006052581509098008,
          0.00390361403258856,
          0.001022064102981907,
          0.027000767014040097,
          0.003264684409197817,
          0.06965238045228607,
          0.0003313077228854267,
          0.010403353250514419,
          0.017787653225572495,
          0.032296980327990304,
          0.012500847415809604,
          0.02915240318138306,
          0.01100429310437976,
          0.03994454189028802,
          0.03776646861522405,
          0.003550816459973843,
          0.01908342345424583,
          0.038338926574429555,
          0.03864480657691382,
          0.014146262223891782,
          0.005614626813660261,
          0.10136140969253986,
          0.012866212458078775,
          0.003336355293344497,
          0.011029218049137661,
          0.0005794722097881865,
          0.014620873869923433,
          0.07227938684159418,
          0.07643536918421881,
          0.027495185261454187,
          0.09451376757457675,
          0.03722735388127397,
          0.045883758274008,
          0.007120239232478194,
          0.07909457370496772,
          0.013450948362196912,
          0.039462305211432576,
          0.004733768437053853,
          0.03660946657680744,
          0.014365759482418701,
          0.15325726406500348,
          0.07075653984194302,
          0.011978327558290909,
          0.016395604646430813,
          0.17372933614267022,
          0.0032920915339551644,
          0.013635439167112582,
          0.001784832130265192,
          0.052879350918437235,
          0.019434744336722567,
          0.014608277088791794,
          0.012077196110354838,
          0.01189250395560633,
          0.011040463905203676,
          0.038505259535192474,
          0.16296513755045594,
          0.008577587877921369,
          0.11069511030995609,
          0.017523977195504643,
          0.019891500686180143,
          0.06369828909361352,
          0.007701282953588134,
          0.004215784581020787,
          0.004994613669208747,
          0.192204597567651,
          0.09542753593482223,
          0.0020804600605138666,
          0.014841387775194127,
          0.025362639088781728,
          0.022462394243942658,
          0.012153918582136455,
          0.15506711318915942,
          0.014288752431615225
         ],
         "xaxis": "x2",
         "yaxis": "y2"
        },
        {
         "alignmentgroup": "True",
         "bingroup": "x",
         "histnorm": "probability density",
         "hovertemplate": "Algorithm=LightGBM_auto_stat<br>MSE=%{x}<br>probability density=%{y}<extra></extra>",
         "legendgroup": "LightGBM_auto_stat",
         "marker": {
          "color": "#00cc96",
          "opacity": 0.5,
          "pattern": {
           "shape": "\\"
          }
         },
         "name": "LightGBM_auto_stat",
         "nbinsx": 500,
         "offsetgroup": "LightGBM_auto_stat",
         "orientation": "v",
         "showlegend": true,
         "type": "histogram",
         "x": [
          0.002720489107550029,
          0.026349394540504792,
          0.0101288518745629,
          0.020689756534118385,
          0.01676013488099744,
          0.000046569072480539976,
          0.007235610476088901,
          0.024134579976818695,
          0.072029635253995,
          0.00917936680094505,
          0.050611097642432726,
          0.0015353984265789212,
          0.0058282543785031235,
          0.20196857892103343,
          0.008656371084385947,
          0.0033257174127322197,
          0.08737706697524351,
          0.014037084617527295,
          0.003527921326808679,
          0.026307347762942194,
          0.0034669670826839,
          0.0055992580269167555,
          0.0258204339093193,
          0.016606643131987456,
          0.037082419911547,
          0.009227452681432345,
          0.010768575060078715,
          0.016645425926944464,
          0.003292861722552677,
          0.022174089056334893,
          0.05791959882098662,
          0.0006399880335633425,
          0.000345854597870151,
          0.021230579838533183,
          0.015386498203586658,
          0.00014739922547205898,
          0.000402950721821929,
          0.00018161364539097242,
          0.03228928624114901,
          0.019855154595429157,
          0.02546855734744044,
          0.0176255279655772,
          0.011058994633365921,
          0.028296642343849116,
          0.03176670936963066,
          0.02616469622148162,
          0.045671902000476744,
          0.009990224845163357,
          0.011579030793851253,
          0.009719707191971367,
          0.0062033854511819204,
          0.0034781509713588854,
          0.011153924675250228,
          0.019088722758788524,
          3.9986651423834147e-7,
          0.4407219464832926,
          0.01778827554652682,
          0.0037320417282263713,
          0.020693583158485244,
          0.062143233347254544,
          0.005635206609965716,
          0.001960284383042015,
          0.015993191276772678,
          0.044070209124818106,
          0.03341269578673999,
          0.00626857910128807,
          0.11876136250901459,
          0.0015083862629393645,
          0.01018518219108604,
          0.00788218109254238,
          0.011827891313080253,
          0.021198590485732242,
          0.016418448148228713,
          0.015963749132525337,
          0.00972570458406768,
          0.003733889476469032,
          0.013424048006543675,
          0.005197846429793633,
          0.0034778873955300547,
          0.00018742875512759132,
          0.02557079187017297,
          0.0028502136581477285,
          0.06814895318809563,
          0.0002845531413113662,
          0.009682725356739018,
          0.016750324193060197,
          0.02964127278289848,
          0.011221546626181687,
          0.02710270752848615,
          0.00897726191218903,
          0.022678290089904636,
          0.03747162032988148,
          0.0033878488937597313,
          0.017873162138764644,
          0.03423440305723549,
          0.036975750658351514,
          0.013203565104310623,
          0.00506986148630247,
          0.08147504769700081,
          0.0107539123737431,
          0.002674308702127142,
          0.010384424202879395,
          0.0005122012630650187,
          0.013997513683309868,
          0.06560754970429737,
          0.07379198784946539,
          0.02721278859989581,
          0.07672193201672797,
          0.03327725516859192,
          0.042365348616165956,
          0.006954251818712932,
          0.07684153881429694,
          0.010367803053022548,
          0.03843774666447679,
          0.0034308168361171687,
          0.03184626463580903,
          0.012340672958456523,
          0.10245257252117893,
          0.06624962980168944,
          0.011315157112638597,
          0.008667468105628837,
          0.1703300755985517,
          0.0028339443453441267,
          0.01317069790148537,
          0.0017024539333789083,
          0.05174347693427759,
          0.01852365719830677,
          0.013465659124882347,
          0.011762957358275499,
          0.01107398151117357,
          0.010422979026185842,
          0.033924725828610135,
          0.08895102797624856,
          0.007226857711131531,
          0.10080949222688385,
          0.016781993573371914,
          0.019542962612194587,
          0.06124360091588887,
          0.0069634131356701495,
          0.004019573560913165,
          0.004526430458006321,
          0.1772542861054906,
          0.06719011895991772,
          0.0019188315014328733,
          0.014514225122250155,
          0.02088836960388562,
          0.02051446027290535,
          0.011317878375274123,
          0.15243523028260883,
          0.01118808828397681
         ],
         "xaxis": "x",
         "yaxis": "y"
        },
        {
         "alignmentgroup": "True",
         "hovertemplate": "Algorithm=LightGBM_auto_stat<br>MSE=%{x}<extra></extra>",
         "legendgroup": "LightGBM_auto_stat",
         "marker": {
          "color": "#00cc96"
         },
         "name": "LightGBM_auto_stat",
         "notched": true,
         "offsetgroup": "LightGBM_auto_stat",
         "showlegend": false,
         "type": "box",
         "x": [
          0.002720489107550029,
          0.026349394540504792,
          0.0101288518745629,
          0.020689756534118385,
          0.01676013488099744,
          0.000046569072480539976,
          0.007235610476088901,
          0.024134579976818695,
          0.072029635253995,
          0.00917936680094505,
          0.050611097642432726,
          0.0015353984265789212,
          0.0058282543785031235,
          0.20196857892103343,
          0.008656371084385947,
          0.0033257174127322197,
          0.08737706697524351,
          0.014037084617527295,
          0.003527921326808679,
          0.026307347762942194,
          0.0034669670826839,
          0.0055992580269167555,
          0.0258204339093193,
          0.016606643131987456,
          0.037082419911547,
          0.009227452681432345,
          0.010768575060078715,
          0.016645425926944464,
          0.003292861722552677,
          0.022174089056334893,
          0.05791959882098662,
          0.0006399880335633425,
          0.000345854597870151,
          0.021230579838533183,
          0.015386498203586658,
          0.00014739922547205898,
          0.000402950721821929,
          0.00018161364539097242,
          0.03228928624114901,
          0.019855154595429157,
          0.02546855734744044,
          0.0176255279655772,
          0.011058994633365921,
          0.028296642343849116,
          0.03176670936963066,
          0.02616469622148162,
          0.045671902000476744,
          0.009990224845163357,
          0.011579030793851253,
          0.009719707191971367,
          0.0062033854511819204,
          0.0034781509713588854,
          0.011153924675250228,
          0.019088722758788524,
          3.9986651423834147e-7,
          0.4407219464832926,
          0.01778827554652682,
          0.0037320417282263713,
          0.020693583158485244,
          0.062143233347254544,
          0.005635206609965716,
          0.001960284383042015,
          0.015993191276772678,
          0.044070209124818106,
          0.03341269578673999,
          0.00626857910128807,
          0.11876136250901459,
          0.0015083862629393645,
          0.01018518219108604,
          0.00788218109254238,
          0.011827891313080253,
          0.021198590485732242,
          0.016418448148228713,
          0.015963749132525337,
          0.00972570458406768,
          0.003733889476469032,
          0.013424048006543675,
          0.005197846429793633,
          0.0034778873955300547,
          0.00018742875512759132,
          0.02557079187017297,
          0.0028502136581477285,
          0.06814895318809563,
          0.0002845531413113662,
          0.009682725356739018,
          0.016750324193060197,
          0.02964127278289848,
          0.011221546626181687,
          0.02710270752848615,
          0.00897726191218903,
          0.022678290089904636,
          0.03747162032988148,
          0.0033878488937597313,
          0.017873162138764644,
          0.03423440305723549,
          0.036975750658351514,
          0.013203565104310623,
          0.00506986148630247,
          0.08147504769700081,
          0.0107539123737431,
          0.002674308702127142,
          0.010384424202879395,
          0.0005122012630650187,
          0.013997513683309868,
          0.06560754970429737,
          0.07379198784946539,
          0.02721278859989581,
          0.07672193201672797,
          0.03327725516859192,
          0.042365348616165956,
          0.006954251818712932,
          0.07684153881429694,
          0.010367803053022548,
          0.03843774666447679,
          0.0034308168361171687,
          0.03184626463580903,
          0.012340672958456523,
          0.10245257252117893,
          0.06624962980168944,
          0.011315157112638597,
          0.008667468105628837,
          0.1703300755985517,
          0.0028339443453441267,
          0.01317069790148537,
          0.0017024539333789083,
          0.05174347693427759,
          0.01852365719830677,
          0.013465659124882347,
          0.011762957358275499,
          0.01107398151117357,
          0.010422979026185842,
          0.033924725828610135,
          0.08895102797624856,
          0.007226857711131531,
          0.10080949222688385,
          0.016781993573371914,
          0.019542962612194587,
          0.06124360091588887,
          0.0069634131356701495,
          0.004019573560913165,
          0.004526430458006321,
          0.1772542861054906,
          0.06719011895991772,
          0.0019188315014328733,
          0.014514225122250155,
          0.02088836960388562,
          0.02051446027290535,
          0.011317878375274123,
          0.15243523028260883,
          0.01118808828397681
         ],
         "xaxis": "x2",
         "yaxis": "y2"
        }
       ],
       "layout": {
        "autosize": false,
        "barmode": "overlay",
        "height": 500,
        "legend": {
         "title": {},
         "tracegroupgap": 0
        },
        "margin": {
         "t": 60
        },
        "template": {
         "data": {
          "bar": [
           {
            "error_x": {
             "color": "#2a3f5f"
            },
            "error_y": {
             "color": "#2a3f5f"
            },
            "marker": {
             "line": {
              "color": "white",
              "width": 0.5
             },
             "pattern": {
              "fillmode": "overlay",
              "size": 10,
              "solidity": 0.2
             }
            },
            "type": "bar"
           }
          ],
          "barpolar": [
           {
            "marker": {
             "line": {
              "color": "white",
              "width": 0.5
             },
             "pattern": {
              "fillmode": "overlay",
              "size": 10,
              "solidity": 0.2
             }
            },
            "type": "barpolar"
           }
          ],
          "carpet": [
           {
            "aaxis": {
             "endlinecolor": "#2a3f5f",
             "gridcolor": "#C8D4E3",
             "linecolor": "#C8D4E3",
             "minorgridcolor": "#C8D4E3",
             "startlinecolor": "#2a3f5f"
            },
            "baxis": {
             "endlinecolor": "#2a3f5f",
             "gridcolor": "#C8D4E3",
             "linecolor": "#C8D4E3",
             "minorgridcolor": "#C8D4E3",
             "startlinecolor": "#2a3f5f"
            },
            "type": "carpet"
           }
          ],
          "choropleth": [
           {
            "colorbar": {
             "outlinewidth": 0,
             "ticks": ""
            },
            "type": "choropleth"
           }
          ],
          "contour": [
           {
            "colorbar": {
             "outlinewidth": 0,
             "ticks": ""
            },
            "colorscale": [
             [
              0,
              "#0d0887"
             ],
             [
              0.1111111111111111,
              "#46039f"
             ],
             [
              0.2222222222222222,
              "#7201a8"
             ],
             [
              0.3333333333333333,
              "#9c179e"
             ],
             [
              0.4444444444444444,
              "#bd3786"
             ],
             [
              0.5555555555555556,
              "#d8576b"
             ],
             [
              0.6666666666666666,
              "#ed7953"
             ],
             [
              0.7777777777777778,
              "#fb9f3a"
             ],
             [
              0.8888888888888888,
              "#fdca26"
             ],
             [
              1,
              "#f0f921"
             ]
            ],
            "type": "contour"
           }
          ],
          "contourcarpet": [
           {
            "colorbar": {
             "outlinewidth": 0,
             "ticks": ""
            },
            "type": "contourcarpet"
           }
          ],
          "heatmap": [
           {
            "colorbar": {
             "outlinewidth": 0,
             "ticks": ""
            },
            "colorscale": [
             [
              0,
              "#0d0887"
             ],
             [
              0.1111111111111111,
              "#46039f"
             ],
             [
              0.2222222222222222,
              "#7201a8"
             ],
             [
              0.3333333333333333,
              "#9c179e"
             ],
             [
              0.4444444444444444,
              "#bd3786"
             ],
             [
              0.5555555555555556,
              "#d8576b"
             ],
             [
              0.6666666666666666,
              "#ed7953"
             ],
             [
              0.7777777777777778,
              "#fb9f3a"
             ],
             [
              0.8888888888888888,
              "#fdca26"
             ],
             [
              1,
              "#f0f921"
             ]
            ],
            "type": "heatmap"
           }
          ],
          "heatmapgl": [
           {
            "colorbar": {
             "outlinewidth": 0,
             "ticks": ""
            },
            "colorscale": [
             [
              0,
              "#0d0887"
             ],
             [
              0.1111111111111111,
              "#46039f"
             ],
             [
              0.2222222222222222,
              "#7201a8"
             ],
             [
              0.3333333333333333,
              "#9c179e"
             ],
             [
              0.4444444444444444,
              "#bd3786"
             ],
             [
              0.5555555555555556,
              "#d8576b"
             ],
             [
              0.6666666666666666,
              "#ed7953"
             ],
             [
              0.7777777777777778,
              "#fb9f3a"
             ],
             [
              0.8888888888888888,
              "#fdca26"
             ],
             [
              1,
              "#f0f921"
             ]
            ],
            "type": "heatmapgl"
           }
          ],
          "histogram": [
           {
            "marker": {
             "pattern": {
              "fillmode": "overlay",
              "size": 10,
              "solidity": 0.2
             }
            },
            "type": "histogram"
           }
          ],
          "histogram2d": [
           {
            "colorbar": {
             "outlinewidth": 0,
             "ticks": ""
            },
            "colorscale": [
             [
              0,
              "#0d0887"
             ],
             [
              0.1111111111111111,
              "#46039f"
             ],
             [
              0.2222222222222222,
              "#7201a8"
             ],
             [
              0.3333333333333333,
              "#9c179e"
             ],
             [
              0.4444444444444444,
              "#bd3786"
             ],
             [
              0.5555555555555556,
              "#d8576b"
             ],
             [
              0.6666666666666666,
              "#ed7953"
             ],
             [
              0.7777777777777778,
              "#fb9f3a"
             ],
             [
              0.8888888888888888,
              "#fdca26"
             ],
             [
              1,
              "#f0f921"
             ]
            ],
            "type": "histogram2d"
           }
          ],
          "histogram2dcontour": [
           {
            "colorbar": {
             "outlinewidth": 0,
             "ticks": ""
            },
            "colorscale": [
             [
              0,
              "#0d0887"
             ],
             [
              0.1111111111111111,
              "#46039f"
             ],
             [
              0.2222222222222222,
              "#7201a8"
             ],
             [
              0.3333333333333333,
              "#9c179e"
             ],
             [
              0.4444444444444444,
              "#bd3786"
             ],
             [
              0.5555555555555556,
              "#d8576b"
             ],
             [
              0.6666666666666666,
              "#ed7953"
             ],
             [
              0.7777777777777778,
              "#fb9f3a"
             ],
             [
              0.8888888888888888,
              "#fdca26"
             ],
             [
              1,
              "#f0f921"
             ]
            ],
            "type": "histogram2dcontour"
           }
          ],
          "mesh3d": [
           {
            "colorbar": {
             "outlinewidth": 0,
             "ticks": ""
            },
            "type": "mesh3d"
           }
          ],
          "parcoords": [
           {
            "line": {
             "colorbar": {
              "outlinewidth": 0,
              "ticks": ""
             }
            },
            "type": "parcoords"
           }
          ],
          "pie": [
           {
            "automargin": true,
            "type": "pie"
           }
          ],
          "scatter": [
           {
            "fillpattern": {
             "fillmode": "overlay",
             "size": 10,
             "solidity": 0.2
            },
            "type": "scatter"
           }
          ],
          "scatter3d": [
           {
            "line": {
             "colorbar": {
              "outlinewidth": 0,
              "ticks": ""
             }
            },
            "marker": {
             "colorbar": {
              "outlinewidth": 0,
              "ticks": ""
             }
            },
            "type": "scatter3d"
           }
          ],
          "scattercarpet": [
           {
            "marker": {
             "colorbar": {
              "outlinewidth": 0,
              "ticks": ""
             }
            },
            "type": "scattercarpet"
           }
          ],
          "scattergeo": [
           {
            "marker": {
             "colorbar": {
              "outlinewidth": 0,
              "ticks": ""
             }
            },
            "type": "scattergeo"
           }
          ],
          "scattergl": [
           {
            "marker": {
             "colorbar": {
              "outlinewidth": 0,
              "ticks": ""
             }
            },
            "type": "scattergl"
           }
          ],
          "scattermapbox": [
           {
            "marker": {
             "colorbar": {
              "outlinewidth": 0,
              "ticks": ""
             }
            },
            "type": "scattermapbox"
           }
          ],
          "scatterpolar": [
           {
            "marker": {
             "colorbar": {
              "outlinewidth": 0,
              "ticks": ""
             }
            },
            "type": "scatterpolar"
           }
          ],
          "scatterpolargl": [
           {
            "marker": {
             "colorbar": {
              "outlinewidth": 0,
              "ticks": ""
             }
            },
            "type": "scatterpolargl"
           }
          ],
          "scatterternary": [
           {
            "marker": {
             "colorbar": {
              "outlinewidth": 0,
              "ticks": ""
             }
            },
            "type": "scatterternary"
           }
          ],
          "surface": [
           {
            "colorbar": {
             "outlinewidth": 0,
             "ticks": ""
            },
            "colorscale": [
             [
              0,
              "#0d0887"
             ],
             [
              0.1111111111111111,
              "#46039f"
             ],
             [
              0.2222222222222222,
              "#7201a8"
             ],
             [
              0.3333333333333333,
              "#9c179e"
             ],
             [
              0.4444444444444444,
              "#bd3786"
             ],
             [
              0.5555555555555556,
              "#d8576b"
             ],
             [
              0.6666666666666666,
              "#ed7953"
             ],
             [
              0.7777777777777778,
              "#fb9f3a"
             ],
             [
              0.8888888888888888,
              "#fdca26"
             ],
             [
              1,
              "#f0f921"
             ]
            ],
            "type": "surface"
           }
          ],
          "table": [
           {
            "cells": {
             "fill": {
              "color": "#EBF0F8"
             },
             "line": {
              "color": "white"
             }
            },
            "header": {
             "fill": {
              "color": "#C8D4E3"
             },
             "line": {
              "color": "white"
             }
            },
            "type": "table"
           }
          ]
         },
         "layout": {
          "annotationdefaults": {
           "arrowcolor": "#2a3f5f",
           "arrowhead": 0,
           "arrowwidth": 1
          },
          "autotypenumbers": "strict",
          "coloraxis": {
           "colorbar": {
            "outlinewidth": 0,
            "ticks": ""
           }
          },
          "colorscale": {
           "diverging": [
            [
             0,
             "#8e0152"
            ],
            [
             0.1,
             "#c51b7d"
            ],
            [
             0.2,
             "#de77ae"
            ],
            [
             0.3,
             "#f1b6da"
            ],
            [
             0.4,
             "#fde0ef"
            ],
            [
             0.5,
             "#f7f7f7"
            ],
            [
             0.6,
             "#e6f5d0"
            ],
            [
             0.7,
             "#b8e186"
            ],
            [
             0.8,
             "#7fbc41"
            ],
            [
             0.9,
             "#4d9221"
            ],
            [
             1,
             "#276419"
            ]
           ],
           "sequential": [
            [
             0,
             "#0d0887"
            ],
            [
             0.1111111111111111,
             "#46039f"
            ],
            [
             0.2222222222222222,
             "#7201a8"
            ],
            [
             0.3333333333333333,
             "#9c179e"
            ],
            [
             0.4444444444444444,
             "#bd3786"
            ],
            [
             0.5555555555555556,
             "#d8576b"
            ],
            [
             0.6666666666666666,
             "#ed7953"
            ],
            [
             0.7777777777777778,
             "#fb9f3a"
            ],
            [
             0.8888888888888888,
             "#fdca26"
            ],
            [
             1,
             "#f0f921"
            ]
           ],
           "sequentialminus": [
            [
             0,
             "#0d0887"
            ],
            [
             0.1111111111111111,
             "#46039f"
            ],
            [
             0.2222222222222222,
             "#7201a8"
            ],
            [
             0.3333333333333333,
             "#9c179e"
            ],
            [
             0.4444444444444444,
             "#bd3786"
            ],
            [
             0.5555555555555556,
             "#d8576b"
            ],
            [
             0.6666666666666666,
             "#ed7953"
            ],
            [
             0.7777777777777778,
             "#fb9f3a"
            ],
            [
             0.8888888888888888,
             "#fdca26"
            ],
            [
             1,
             "#f0f921"
            ]
           ]
          },
          "colorway": [
           "#636efa",
           "#EF553B",
           "#00cc96",
           "#ab63fa",
           "#FFA15A",
           "#19d3f3",
           "#FF6692",
           "#B6E880",
           "#FF97FF",
           "#FECB52"
          ],
          "font": {
           "color": "#2a3f5f"
          },
          "geo": {
           "bgcolor": "white",
           "lakecolor": "white",
           "landcolor": "white",
           "showlakes": true,
           "showland": true,
           "subunitcolor": "#C8D4E3"
          },
          "hoverlabel": {
           "align": "left"
          },
          "hovermode": "closest",
          "mapbox": {
           "style": "light"
          },
          "paper_bgcolor": "white",
          "plot_bgcolor": "white",
          "polar": {
           "angularaxis": {
            "gridcolor": "#EBF0F8",
            "linecolor": "#EBF0F8",
            "ticks": ""
           },
           "bgcolor": "white",
           "radialaxis": {
            "gridcolor": "#EBF0F8",
            "linecolor": "#EBF0F8",
            "ticks": ""
           }
          },
          "scene": {
           "xaxis": {
            "backgroundcolor": "white",
            "gridcolor": "#DFE8F3",
            "gridwidth": 2,
            "linecolor": "#EBF0F8",
            "showbackground": true,
            "ticks": "",
            "zerolinecolor": "#EBF0F8"
           },
           "yaxis": {
            "backgroundcolor": "white",
            "gridcolor": "#DFE8F3",
            "gridwidth": 2,
            "linecolor": "#EBF0F8",
            "showbackground": true,
            "ticks": "",
            "zerolinecolor": "#EBF0F8"
           },
           "zaxis": {
            "backgroundcolor": "white",
            "gridcolor": "#DFE8F3",
            "gridwidth": 2,
            "linecolor": "#EBF0F8",
            "showbackground": true,
            "ticks": "",
            "zerolinecolor": "#EBF0F8"
           }
          },
          "shapedefaults": {
           "line": {
            "color": "#2a3f5f"
           }
          },
          "ternary": {
           "aaxis": {
            "gridcolor": "#DFE8F3",
            "linecolor": "#A2B1C6",
            "ticks": ""
           },
           "baxis": {
            "gridcolor": "#DFE8F3",
            "linecolor": "#A2B1C6",
            "ticks": ""
           },
           "bgcolor": "white",
           "caxis": {
            "gridcolor": "#DFE8F3",
            "linecolor": "#A2B1C6",
            "ticks": ""
           }
          },
          "title": {
           "x": 0.05
          },
          "xaxis": {
           "automargin": true,
           "gridcolor": "#EBF0F8",
           "linecolor": "#EBF0F8",
           "ticks": "",
           "title": {
            "standoff": 15
           },
           "zerolinecolor": "#EBF0F8",
           "zerolinewidth": 2
          },
          "yaxis": {
           "automargin": true,
           "gridcolor": "#EBF0F8",
           "linecolor": "#EBF0F8",
           "ticks": "",
           "title": {
            "standoff": 15
           },
           "zerolinecolor": "#EBF0F8",
           "zerolinewidth": 2
          }
         }
        },
        "title": {
         "font": {
          "size": 20
         },
         "text": "Distribution of MSE in the dataset",
         "x": 0.5,
         "xanchor": "center",
         "yanchor": "top"
        },
        "width": 900,
        "xaxis": {
         "anchor": "y",
         "domain": [
          0,
          1
         ],
         "range": [
          0,
          0.3
         ],
         "title": {
          "font": {
           "size": 12
          },
          "text": "MSE"
         }
        },
        "xaxis2": {
         "anchor": "y2",
         "domain": [
          0,
          1
         ],
         "matches": "x",
         "showgrid": true,
         "showticklabels": false
        },
        "yaxis": {
         "anchor": "x",
         "domain": [
          0,
          0.7326
         ],
         "title": {
          "font": {
           "size": 12
          },
          "text": "Probability Density"
         }
        },
        "yaxis2": {
         "anchor": "x2",
         "domain": [
          0.7426,
          1
         ],
         "matches": "y2",
         "showgrid": false,
         "showline": false,
         "showticklabels": false,
         "ticks": ""
        }
       }
      }
     },
     "metadata": {},
     "output_type": "display_data"
    }
   ],
   "source": [
    "fig = px.histogram(metrics_df, \n",
    "                   x=\"MSE\", \n",
    "                   color=\"Algorithm\",\n",
    "                   pattern_shape=\"Algorithm\", \n",
    "                   marginal=\"box\", \n",
    "                   nbins=500, \n",
    "                   barmode=\"overlay\",\n",
    "                   histnorm=\"probability density\")\n",
    "fig = format_plot(fig, xlabel=\"MSE\", ylabel=\"Probability Density\", title=\"Distribution of MSE in the dataset\")\n",
    "fig.update_layout(xaxis_range=[0,0.3])\n",
    "# fig.write_image(\"imgs/chapter_8/mse_dist.png\")\n",
    "fig.show()"
   ]
  },
  {
   "cell_type": "code",
   "execution_count": 26,
   "id": "2695707d-1e83-4289-9aea-859bbf83586c",
   "metadata": {},
   "outputs": [
    {
     "data": {
      "application/vnd.plotly.v1+json": {
       "config": {
        "plotlyServerURL": "https://plot.ly"
       },
       "data": [
        {
         "alignmentgroup": "True",
         "bingroup": "x",
         "histnorm": "probability density",
         "hovertemplate": "Algorithm=Lasso Regression_auto_stat<br>Forecast Bias=%{x}<br>probability density=%{y}<extra></extra>",
         "legendgroup": "Lasso Regression_auto_stat",
         "marker": {
          "color": "#636efa",
          "opacity": 0.5,
          "pattern": {
           "shape": ""
          }
         },
         "name": "Lasso Regression_auto_stat",
         "nbinsx": 250,
         "offsetgroup": "Lasso Regression_auto_stat",
         "orientation": "v",
         "showlegend": true,
         "type": "histogram",
         "x": [
          -5.462709126553053,
          1.8264886004263232,
          -0.9225624122904248,
          6.778768787372161,
          7.689538777542741,
          2.4375559101114543,
          2.2741056795807357,
          2.543481374002268,
          10.341098855624796,
          -0.9030528594087709,
          4.851402652004913,
          1.6365260325875133,
          0.3599136950567577,
          7.590087882559242,
          2.6332947700067875,
          -2.0986862984141377,
          10.257089725680144,
          2.3311044818784583,
          2.2432865826515123,
          2.5424443979979845,
          0.3740353529302799,
          5.18003023460657,
          3.4135445602658194,
          5.833251363242687,
          1.0883514609365788,
          1.719940726339915,
          5.1680332654671695,
          8.3284982876785,
          -0.5294451882277279,
          3.9997994197034745,
          1.3821228850139822,
          -4.460574511839686,
          3.5111442646846256,
          12.210575141532566,
          0.37775716786476154,
          -11.556180065243037,
          -0.6143028821507835,
          -2.480733340554122,
          6.25393373539295,
          3.8765241861606468,
          7.216592791633312,
          2.6404495708971902,
          5.832957599182527,
          3.129368895216299,
          12.242498618757924,
          1.5262353559023196,
          8.273711112813206,
          0.8398598049720792,
          2.238572955382695,
          10.06861229081924,
          8.130792354014856,
          -1.775863438989365,
          5.01947583262358,
          4.151675961206206,
          7.054253118195768,
          -12.041474485359348,
          5.9046484190103445,
          -2.7774031268388484,
          2.382327677315845,
          6.2097631858961675,
          0.8882701943582644,
          0.9175006051573186,
          2.751252150623508,
          2.1643208167669474,
          1.192612241133826,
          1.8427184881520156,
          12.670944750347054,
          4.570360179317453,
          -4.450259067192121,
          -0.14414551011164006,
          1.8122832174942336,
          -1.542482131838782,
          1.6445860620221884,
          6.731463942662394,
          4.302800187095851,
          -2.414082473775103,
          2.773338238550123,
          0.7845423173239963,
          -0.66867391917322,
          -2.1309281270829667,
          3.5122684330278755,
          4.013200320364428,
          6.404309311133,
          -1.3398797237720343,
          2.4575859706538936,
          1.6815145730327905,
          10.193994454481448,
          0.3711486048277632,
          -1.773051869906677,
          3.7974719108558297,
          1.6985119119548395,
          1.8838611695195444,
          -1.5924561638277033,
          3.042037348059926,
          7.182789967941196,
          2.2651008411721927,
          2.7641452446693924,
          -12.437746743742824,
          5.469966134503782,
          1.9149387219578051,
          1.9927363239852878,
          2.650394796115864,
          -0.024797813739655415,
          4.209899201378826,
          5.462558259842815,
          4.770103727261244,
          -0.8463280671997312,
          8.830140908618453,
          2.278773949126902,
          3.7154912148336576,
          5.709860210327462,
          2.661450545809375,
          6.860697143663991,
          5.085962853241922,
          3.3658691950826922,
          1.594103709414271,
          -1.7105086042962157,
          10.206367086340018,
          5.921327332868135,
          2.34378269844561,
          41.86561550685435,
          19.768895454292153,
          1.3479982432263427,
          4.803578692166665,
          -0.3181089287863099,
          0.7691462608753659,
          4.207455121401354,
          -3.620529235854384,
          -1.9564383042239144,
          6.381798551650057,
          5.300040384681959,
          2.0574745503360394,
          1.68834742243907,
          3.962916033007265,
          13.190321977681183,
          -10.906126456102587,
          -11.536609761059944,
          1.8570997683541048,
          -4.427437503043398,
          0.9193400476055802,
          2.6937000094911796,
          3.2322128229868854,
          3.011276169184327,
          -1.4766966299456046,
          4.501085667505675,
          0.07566540653749933,
          -1.220048429357463,
          1.7619167111009963,
          17.991024863254147,
          1.469302258470945
         ],
         "xaxis": "x",
         "yaxis": "y"
        },
        {
         "alignmentgroup": "True",
         "hovertemplate": "Algorithm=Lasso Regression_auto_stat<br>Forecast Bias=%{x}<extra></extra>",
         "legendgroup": "Lasso Regression_auto_stat",
         "marker": {
          "color": "#636efa"
         },
         "name": "Lasso Regression_auto_stat",
         "notched": true,
         "offsetgroup": "Lasso Regression_auto_stat",
         "showlegend": false,
         "type": "box",
         "x": [
          -5.462709126553053,
          1.8264886004263232,
          -0.9225624122904248,
          6.778768787372161,
          7.689538777542741,
          2.4375559101114543,
          2.2741056795807357,
          2.543481374002268,
          10.341098855624796,
          -0.9030528594087709,
          4.851402652004913,
          1.6365260325875133,
          0.3599136950567577,
          7.590087882559242,
          2.6332947700067875,
          -2.0986862984141377,
          10.257089725680144,
          2.3311044818784583,
          2.2432865826515123,
          2.5424443979979845,
          0.3740353529302799,
          5.18003023460657,
          3.4135445602658194,
          5.833251363242687,
          1.0883514609365788,
          1.719940726339915,
          5.1680332654671695,
          8.3284982876785,
          -0.5294451882277279,
          3.9997994197034745,
          1.3821228850139822,
          -4.460574511839686,
          3.5111442646846256,
          12.210575141532566,
          0.37775716786476154,
          -11.556180065243037,
          -0.6143028821507835,
          -2.480733340554122,
          6.25393373539295,
          3.8765241861606468,
          7.216592791633312,
          2.6404495708971902,
          5.832957599182527,
          3.129368895216299,
          12.242498618757924,
          1.5262353559023196,
          8.273711112813206,
          0.8398598049720792,
          2.238572955382695,
          10.06861229081924,
          8.130792354014856,
          -1.775863438989365,
          5.01947583262358,
          4.151675961206206,
          7.054253118195768,
          -12.041474485359348,
          5.9046484190103445,
          -2.7774031268388484,
          2.382327677315845,
          6.2097631858961675,
          0.8882701943582644,
          0.9175006051573186,
          2.751252150623508,
          2.1643208167669474,
          1.192612241133826,
          1.8427184881520156,
          12.670944750347054,
          4.570360179317453,
          -4.450259067192121,
          -0.14414551011164006,
          1.8122832174942336,
          -1.542482131838782,
          1.6445860620221884,
          6.731463942662394,
          4.302800187095851,
          -2.414082473775103,
          2.773338238550123,
          0.7845423173239963,
          -0.66867391917322,
          -2.1309281270829667,
          3.5122684330278755,
          4.013200320364428,
          6.404309311133,
          -1.3398797237720343,
          2.4575859706538936,
          1.6815145730327905,
          10.193994454481448,
          0.3711486048277632,
          -1.773051869906677,
          3.7974719108558297,
          1.6985119119548395,
          1.8838611695195444,
          -1.5924561638277033,
          3.042037348059926,
          7.182789967941196,
          2.2651008411721927,
          2.7641452446693924,
          -12.437746743742824,
          5.469966134503782,
          1.9149387219578051,
          1.9927363239852878,
          2.650394796115864,
          -0.024797813739655415,
          4.209899201378826,
          5.462558259842815,
          4.770103727261244,
          -0.8463280671997312,
          8.830140908618453,
          2.278773949126902,
          3.7154912148336576,
          5.709860210327462,
          2.661450545809375,
          6.860697143663991,
          5.085962853241922,
          3.3658691950826922,
          1.594103709414271,
          -1.7105086042962157,
          10.206367086340018,
          5.921327332868135,
          2.34378269844561,
          41.86561550685435,
          19.768895454292153,
          1.3479982432263427,
          4.803578692166665,
          -0.3181089287863099,
          0.7691462608753659,
          4.207455121401354,
          -3.620529235854384,
          -1.9564383042239144,
          6.381798551650057,
          5.300040384681959,
          2.0574745503360394,
          1.68834742243907,
          3.962916033007265,
          13.190321977681183,
          -10.906126456102587,
          -11.536609761059944,
          1.8570997683541048,
          -4.427437503043398,
          0.9193400476055802,
          2.6937000094911796,
          3.2322128229868854,
          3.011276169184327,
          -1.4766966299456046,
          4.501085667505675,
          0.07566540653749933,
          -1.220048429357463,
          1.7619167111009963,
          17.991024863254147,
          1.469302258470945
         ],
         "xaxis": "x2",
         "yaxis": "y2"
        },
        {
         "alignmentgroup": "True",
         "bingroup": "x",
         "histnorm": "probability density",
         "hovertemplate": "Algorithm=XGB Random Forest_auto_stat<br>Forecast Bias=%{x}<br>probability density=%{y}<extra></extra>",
         "legendgroup": "XGB Random Forest_auto_stat",
         "marker": {
          "color": "#EF553B",
          "opacity": 0.5,
          "pattern": {
           "shape": "/"
          }
         },
         "name": "XGB Random Forest_auto_stat",
         "nbinsx": 250,
         "offsetgroup": "XGB Random Forest_auto_stat",
         "orientation": "v",
         "showlegend": true,
         "type": "histogram",
         "x": [
          0.23214352579475828,
          1.3319080372479437,
          0.40720485376303306,
          10.174252886937062,
          7.74293839931488,
          6.275721842897814,
          9.611972334861727,
          6.779776759595947,
          20.748114949119852,
          -0.5556089035624304,
          6.348911217800529,
          -0.4815414569283354,
          0.5010029688051154,
          16.391785634039337,
          8.998954365491649,
          -4.353736631523287,
          7.020260526909819,
          2.551808717696098,
          1.32581255422986,
          2.3560257775494673,
          3.94195683443105,
          12.639613561981541,
          4.49182823505662,
          9.859692631447302,
          3.8606730963918783,
          7.183520555686848,
          19.586590563316875,
          12.002341540373088,
          1.3934930367074758,
          -2.581138056629781,
          4.255934089683129,
          1.627089840958975,
          4.714617223622565,
          17.20691532935341,
          -11.568433478964801,
          -5.007152265857553,
          -0.4344538105958852,
          -26.756318366008507,
          11.583438904035253,
          1.9657023799241093,
          26.562604141030395,
          -9.332890506330322,
          9.448068136880227,
          2.408500625785045,
          28.228312762116666,
          8.738923385023305,
          7.508354742023342,
          11.204197098000115,
          4.315823278314425,
          22.381949457297047,
          18.996660606834862,
          -1.8362937362047809,
          8.112341746141349,
          3.342212792926797,
          5.031453809097704,
          57.0823087115015,
          13.692740221509839,
          7.278264129653398,
          4.778962976914668,
          12.670190245407317,
          3.015919515223123,
          2.2287932678264046,
          -29.654299597193123,
          2.782576513581495,
          -4.828697761551106,
          5.579744914618324,
          6.629909194947235,
          6.527524719647972,
          -5.878487961282981,
          -0.06951027840308152,
          -2.4390587885028863,
          -4.303111522466631,
          6.565388923482162,
          16.97941631099899,
          4.075647263361967,
          18.97100855881432,
          7.47049331876181,
          -1.46920554726462,
          -2.354689294315608,
          49.72215379278847,
          1.3904033240324742,
          10.136441530264188,
          3.515062622008664,
          1.9939869206139673,
          6.945295924988767,
          3.3679873678939534,
          -0.5396996638573487,
          3.0214117602498805,
          4.761282300442453,
          18.242304864767988,
          33.53851366791112,
          0.21303424571900276,
          8.406919005097974,
          8.458489945001466,
          22.427810468243184,
          2.4614741919500625,
          0.7342790075994192,
          2.8559827574830434,
          23.80687258817643,
          16.167932447998343,
          4.815963278618541,
          14.261859123825207,
          4.4957137248877705,
          5.763922193182309,
          19.139656703023,
          10.586486949913013,
          7.353232419994951,
          30.01454415725306,
          5.201443534986808,
          8.510166918535935,
          3.639390282327637,
          10.970008179655974,
          1.8934288657884084,
          8.800078094439694,
          15.457260068070156,
          8.006078174768746,
          0.43125772350240965,
          13.046132487504181,
          15.355353139960739,
          5.012508673514306,
          36.69679848180439,
          17.858660374235583,
          -4.692625183208129,
          19.494727892061128,
          4.230811559086309,
          6.794816391486318,
          8.883734885032627,
          -7.287628761188686,
          -4.556297848340724,
          12.879559069176377,
          17.985553305736644,
          8.120645805339624,
          20.330463511691452,
          10.26129548842901,
          1.0124251425559876,
          -20.871586886827128,
          3.813428984251076,
          6.28761581310502,
          -15.81679323034324,
          -3.762545049654643,
          5.181995397344958,
          5.418946007124905,
          -1.3511812507610204,
          9.812581462565504,
          0.7783588907864297,
          -2.5747215737720817,
          0.08176562143230238,
          -2.07953946273,
          11.305160190792684,
          13.477561728089423
         ],
         "xaxis": "x",
         "yaxis": "y"
        },
        {
         "alignmentgroup": "True",
         "hovertemplate": "Algorithm=XGB Random Forest_auto_stat<br>Forecast Bias=%{x}<extra></extra>",
         "legendgroup": "XGB Random Forest_auto_stat",
         "marker": {
          "color": "#EF553B"
         },
         "name": "XGB Random Forest_auto_stat",
         "notched": true,
         "offsetgroup": "XGB Random Forest_auto_stat",
         "showlegend": false,
         "type": "box",
         "x": [
          0.23214352579475828,
          1.3319080372479437,
          0.40720485376303306,
          10.174252886937062,
          7.74293839931488,
          6.275721842897814,
          9.611972334861727,
          6.779776759595947,
          20.748114949119852,
          -0.5556089035624304,
          6.348911217800529,
          -0.4815414569283354,
          0.5010029688051154,
          16.391785634039337,
          8.998954365491649,
          -4.353736631523287,
          7.020260526909819,
          2.551808717696098,
          1.32581255422986,
          2.3560257775494673,
          3.94195683443105,
          12.639613561981541,
          4.49182823505662,
          9.859692631447302,
          3.8606730963918783,
          7.183520555686848,
          19.586590563316875,
          12.002341540373088,
          1.3934930367074758,
          -2.581138056629781,
          4.255934089683129,
          1.627089840958975,
          4.714617223622565,
          17.20691532935341,
          -11.568433478964801,
          -5.007152265857553,
          -0.4344538105958852,
          -26.756318366008507,
          11.583438904035253,
          1.9657023799241093,
          26.562604141030395,
          -9.332890506330322,
          9.448068136880227,
          2.408500625785045,
          28.228312762116666,
          8.738923385023305,
          7.508354742023342,
          11.204197098000115,
          4.315823278314425,
          22.381949457297047,
          18.996660606834862,
          -1.8362937362047809,
          8.112341746141349,
          3.342212792926797,
          5.031453809097704,
          57.0823087115015,
          13.692740221509839,
          7.278264129653398,
          4.778962976914668,
          12.670190245407317,
          3.015919515223123,
          2.2287932678264046,
          -29.654299597193123,
          2.782576513581495,
          -4.828697761551106,
          5.579744914618324,
          6.629909194947235,
          6.527524719647972,
          -5.878487961282981,
          -0.06951027840308152,
          -2.4390587885028863,
          -4.303111522466631,
          6.565388923482162,
          16.97941631099899,
          4.075647263361967,
          18.97100855881432,
          7.47049331876181,
          -1.46920554726462,
          -2.354689294315608,
          49.72215379278847,
          1.3904033240324742,
          10.136441530264188,
          3.515062622008664,
          1.9939869206139673,
          6.945295924988767,
          3.3679873678939534,
          -0.5396996638573487,
          3.0214117602498805,
          4.761282300442453,
          18.242304864767988,
          33.53851366791112,
          0.21303424571900276,
          8.406919005097974,
          8.458489945001466,
          22.427810468243184,
          2.4614741919500625,
          0.7342790075994192,
          2.8559827574830434,
          23.80687258817643,
          16.167932447998343,
          4.815963278618541,
          14.261859123825207,
          4.4957137248877705,
          5.763922193182309,
          19.139656703023,
          10.586486949913013,
          7.353232419994951,
          30.01454415725306,
          5.201443534986808,
          8.510166918535935,
          3.639390282327637,
          10.970008179655974,
          1.8934288657884084,
          8.800078094439694,
          15.457260068070156,
          8.006078174768746,
          0.43125772350240965,
          13.046132487504181,
          15.355353139960739,
          5.012508673514306,
          36.69679848180439,
          17.858660374235583,
          -4.692625183208129,
          19.494727892061128,
          4.230811559086309,
          6.794816391486318,
          8.883734885032627,
          -7.287628761188686,
          -4.556297848340724,
          12.879559069176377,
          17.985553305736644,
          8.120645805339624,
          20.330463511691452,
          10.26129548842901,
          1.0124251425559876,
          -20.871586886827128,
          3.813428984251076,
          6.28761581310502,
          -15.81679323034324,
          -3.762545049654643,
          5.181995397344958,
          5.418946007124905,
          -1.3511812507610204,
          9.812581462565504,
          0.7783588907864297,
          -2.5747215737720817,
          0.08176562143230238,
          -2.07953946273,
          11.305160190792684,
          13.477561728089423
         ],
         "xaxis": "x2",
         "yaxis": "y2"
        },
        {
         "alignmentgroup": "True",
         "bingroup": "x",
         "histnorm": "probability density",
         "hovertemplate": "Algorithm=LightGBM_auto_stat<br>Forecast Bias=%{x}<br>probability density=%{y}<extra></extra>",
         "legendgroup": "LightGBM_auto_stat",
         "marker": {
          "color": "#00cc96",
          "opacity": 0.5,
          "pattern": {
           "shape": "\\"
          }
         },
         "name": "LightGBM_auto_stat",
         "nbinsx": 250,
         "offsetgroup": "LightGBM_auto_stat",
         "orientation": "v",
         "showlegend": true,
         "type": "histogram",
         "x": [
          -0.8329781165271888,
          -1.572477654469399,
          1.3561349357745232,
          4.79685131862554,
          5.876356040212931,
          2.987754863608301,
          0.4446140395886049,
          2.5569465841056944,
          12.347847312131119,
          2.2478426222821386,
          4.694872605682421,
          -0.6897087784463957,
          -1.4816139006142206,
          9.431232447817187,
          4.972077894273778,
          -0.42616688173620987,
          -6.816290009659676,
          -2.7876037010352888,
          1.5225409917897874,
          2.218406852791725,
          3.2442208628775853,
          -28.169084051476563,
          1.6535857901197608,
          7.363997096463202,
          2.043418310378584,
          2.9862108094315207,
          8.278441392214065,
          5.101723669115519,
          -0.8614702808268534,
          4.858352937349778,
          0.8056243499411129,
          -1.1322767088230432,
          0.5734976163903797,
          7.731617526447773,
          0.42175129275251744,
          -4.760064648257547,
          -1.7250538173700414,
          2.8284197176228343,
          9.074328340659513,
          0.8460759324254931,
          12.11498222596433,
          -3.1226329270484112,
          6.44473971690455,
          -0.1250985236063316,
          20.138513950511264,
          1.2041975252602386,
          7.038067519926433,
          4.122967651925266,
          2.8053096655637884,
          -0.933161312376701,
          2.338272035054884,
          -2.279188218134002,
          2.3958573992977406,
          1.5251292028200403,
          1.0136584147317822,
          55.866851814091454,
          10.86838276050622,
          -3.755673224760398,
          -2.9213667218501,
          9.125354901321128,
          0.0009625690175277342,
          -1.7961204998724196,
          -12.561268548153995,
          3.6063104459967756,
          10.23755212103613,
          1.4011410870323333,
          0.6088477923710335,
          2.188202160542558,
          -6.901294721460169,
          -8.022914560372806,
          -1.4488412467009606,
          -5.762515160331269,
          7.992663569560994,
          3.8432931601097486,
          2.0790086820909757,
          1.5026787442227107,
          4.430703037402273,
          0.22879526813746032,
          -3.607296006212426,
          20.28270195936216,
          0.24675927236509043,
          4.5218695375801685,
          4.2352751230170655,
          -7.06574640010109,
          -5.626886722039966,
          5.494499426362012,
          -3.2444412005715897,
          1.458258315463714,
          -0.4653585420477212,
          5.926410496004467,
          9.404809675733622,
          -2.288858150172357,
          -0.04340360887908308,
          1.974302468191734,
          13.311518089099945,
          -0.47256996465017165,
          1.7293666012544526,
          -7.843349538494579,
          3.4293863075167534,
          9.36427003180815,
          2.0882501958884365,
          3.4046554989316093,
          1.348225537763114,
          3.8377273460440016,
          8.587937093816441,
          9.95394141633004,
          -9.191480743281543,
          12.937941127569669,
          3.760512256342916,
          0.8684680926235182,
          0.47150768739659493,
          5.02341656452571,
          4.7700276427380475,
          1.6906755165126033,
          7.928662740493722,
          4.226491673671487,
          0.06462374052956037,
          23.82973835941596,
          4.977882661495346,
          3.223979992816598,
          8.940019368516834,
          15.998833971624357,
          -3.5020526758605364,
          12.88025447620445,
          -0.45734608368048757,
          -3.973192971860678,
          2.4847756249938278,
          3.6261382116075396,
          -7.136657798695015,
          5.663398919061431,
          5.71993099812358,
          1.9694855919304206,
          5.6345884213775745,
          4.875486969486956,
          10.33092262337232,
          -28.764976570785223,
          -8.793795150196324,
          4.026669700125258,
          -14.308810981955942,
          1.214914292726938,
          9.201293839940982,
          15.843741577230738,
          1.638701590781056,
          -2.288847441699161,
          0.7306410142823198,
          -2.053981751097813,
          2.7519330405394022,
          -3.1477354628558993,
          12.486775190411741,
          3.5712262085210473
         ],
         "xaxis": "x",
         "yaxis": "y"
        },
        {
         "alignmentgroup": "True",
         "hovertemplate": "Algorithm=LightGBM_auto_stat<br>Forecast Bias=%{x}<extra></extra>",
         "legendgroup": "LightGBM_auto_stat",
         "marker": {
          "color": "#00cc96"
         },
         "name": "LightGBM_auto_stat",
         "notched": true,
         "offsetgroup": "LightGBM_auto_stat",
         "showlegend": false,
         "type": "box",
         "x": [
          -0.8329781165271888,
          -1.572477654469399,
          1.3561349357745232,
          4.79685131862554,
          5.876356040212931,
          2.987754863608301,
          0.4446140395886049,
          2.5569465841056944,
          12.347847312131119,
          2.2478426222821386,
          4.694872605682421,
          -0.6897087784463957,
          -1.4816139006142206,
          9.431232447817187,
          4.972077894273778,
          -0.42616688173620987,
          -6.816290009659676,
          -2.7876037010352888,
          1.5225409917897874,
          2.218406852791725,
          3.2442208628775853,
          -28.169084051476563,
          1.6535857901197608,
          7.363997096463202,
          2.043418310378584,
          2.9862108094315207,
          8.278441392214065,
          5.101723669115519,
          -0.8614702808268534,
          4.858352937349778,
          0.8056243499411129,
          -1.1322767088230432,
          0.5734976163903797,
          7.731617526447773,
          0.42175129275251744,
          -4.760064648257547,
          -1.7250538173700414,
          2.8284197176228343,
          9.074328340659513,
          0.8460759324254931,
          12.11498222596433,
          -3.1226329270484112,
          6.44473971690455,
          -0.1250985236063316,
          20.138513950511264,
          1.2041975252602386,
          7.038067519926433,
          4.122967651925266,
          2.8053096655637884,
          -0.933161312376701,
          2.338272035054884,
          -2.279188218134002,
          2.3958573992977406,
          1.5251292028200403,
          1.0136584147317822,
          55.866851814091454,
          10.86838276050622,
          -3.755673224760398,
          -2.9213667218501,
          9.125354901321128,
          0.0009625690175277342,
          -1.7961204998724196,
          -12.561268548153995,
          3.6063104459967756,
          10.23755212103613,
          1.4011410870323333,
          0.6088477923710335,
          2.188202160542558,
          -6.901294721460169,
          -8.022914560372806,
          -1.4488412467009606,
          -5.762515160331269,
          7.992663569560994,
          3.8432931601097486,
          2.0790086820909757,
          1.5026787442227107,
          4.430703037402273,
          0.22879526813746032,
          -3.607296006212426,
          20.28270195936216,
          0.24675927236509043,
          4.5218695375801685,
          4.2352751230170655,
          -7.06574640010109,
          -5.626886722039966,
          5.494499426362012,
          -3.2444412005715897,
          1.458258315463714,
          -0.4653585420477212,
          5.926410496004467,
          9.404809675733622,
          -2.288858150172357,
          -0.04340360887908308,
          1.974302468191734,
          13.311518089099945,
          -0.47256996465017165,
          1.7293666012544526,
          -7.843349538494579,
          3.4293863075167534,
          9.36427003180815,
          2.0882501958884365,
          3.4046554989316093,
          1.348225537763114,
          3.8377273460440016,
          8.587937093816441,
          9.95394141633004,
          -9.191480743281543,
          12.937941127569669,
          3.760512256342916,
          0.8684680926235182,
          0.47150768739659493,
          5.02341656452571,
          4.7700276427380475,
          1.6906755165126033,
          7.928662740493722,
          4.226491673671487,
          0.06462374052956037,
          23.82973835941596,
          4.977882661495346,
          3.223979992816598,
          8.940019368516834,
          15.998833971624357,
          -3.5020526758605364,
          12.88025447620445,
          -0.45734608368048757,
          -3.973192971860678,
          2.4847756249938278,
          3.6261382116075396,
          -7.136657798695015,
          5.663398919061431,
          5.71993099812358,
          1.9694855919304206,
          5.6345884213775745,
          4.875486969486956,
          10.33092262337232,
          -28.764976570785223,
          -8.793795150196324,
          4.026669700125258,
          -14.308810981955942,
          1.214914292726938,
          9.201293839940982,
          15.843741577230738,
          1.638701590781056,
          -2.288847441699161,
          0.7306410142823198,
          -2.053981751097813,
          2.7519330405394022,
          -3.1477354628558993,
          12.486775190411741,
          3.5712262085210473
         ],
         "xaxis": "x2",
         "yaxis": "y2"
        }
       ],
       "layout": {
        "autosize": false,
        "barmode": "overlay",
        "height": 500,
        "legend": {
         "title": {},
         "tracegroupgap": 0
        },
        "margin": {
         "t": 60
        },
        "template": {
         "data": {
          "bar": [
           {
            "error_x": {
             "color": "#2a3f5f"
            },
            "error_y": {
             "color": "#2a3f5f"
            },
            "marker": {
             "line": {
              "color": "white",
              "width": 0.5
             },
             "pattern": {
              "fillmode": "overlay",
              "size": 10,
              "solidity": 0.2
             }
            },
            "type": "bar"
           }
          ],
          "barpolar": [
           {
            "marker": {
             "line": {
              "color": "white",
              "width": 0.5
             },
             "pattern": {
              "fillmode": "overlay",
              "size": 10,
              "solidity": 0.2
             }
            },
            "type": "barpolar"
           }
          ],
          "carpet": [
           {
            "aaxis": {
             "endlinecolor": "#2a3f5f",
             "gridcolor": "#C8D4E3",
             "linecolor": "#C8D4E3",
             "minorgridcolor": "#C8D4E3",
             "startlinecolor": "#2a3f5f"
            },
            "baxis": {
             "endlinecolor": "#2a3f5f",
             "gridcolor": "#C8D4E3",
             "linecolor": "#C8D4E3",
             "minorgridcolor": "#C8D4E3",
             "startlinecolor": "#2a3f5f"
            },
            "type": "carpet"
           }
          ],
          "choropleth": [
           {
            "colorbar": {
             "outlinewidth": 0,
             "ticks": ""
            },
            "type": "choropleth"
           }
          ],
          "contour": [
           {
            "colorbar": {
             "outlinewidth": 0,
             "ticks": ""
            },
            "colorscale": [
             [
              0,
              "#0d0887"
             ],
             [
              0.1111111111111111,
              "#46039f"
             ],
             [
              0.2222222222222222,
              "#7201a8"
             ],
             [
              0.3333333333333333,
              "#9c179e"
             ],
             [
              0.4444444444444444,
              "#bd3786"
             ],
             [
              0.5555555555555556,
              "#d8576b"
             ],
             [
              0.6666666666666666,
              "#ed7953"
             ],
             [
              0.7777777777777778,
              "#fb9f3a"
             ],
             [
              0.8888888888888888,
              "#fdca26"
             ],
             [
              1,
              "#f0f921"
             ]
            ],
            "type": "contour"
           }
          ],
          "contourcarpet": [
           {
            "colorbar": {
             "outlinewidth": 0,
             "ticks": ""
            },
            "type": "contourcarpet"
           }
          ],
          "heatmap": [
           {
            "colorbar": {
             "outlinewidth": 0,
             "ticks": ""
            },
            "colorscale": [
             [
              0,
              "#0d0887"
             ],
             [
              0.1111111111111111,
              "#46039f"
             ],
             [
              0.2222222222222222,
              "#7201a8"
             ],
             [
              0.3333333333333333,
              "#9c179e"
             ],
             [
              0.4444444444444444,
              "#bd3786"
             ],
             [
              0.5555555555555556,
              "#d8576b"
             ],
             [
              0.6666666666666666,
              "#ed7953"
             ],
             [
              0.7777777777777778,
              "#fb9f3a"
             ],
             [
              0.8888888888888888,
              "#fdca26"
             ],
             [
              1,
              "#f0f921"
             ]
            ],
            "type": "heatmap"
           }
          ],
          "heatmapgl": [
           {
            "colorbar": {
             "outlinewidth": 0,
             "ticks": ""
            },
            "colorscale": [
             [
              0,
              "#0d0887"
             ],
             [
              0.1111111111111111,
              "#46039f"
             ],
             [
              0.2222222222222222,
              "#7201a8"
             ],
             [
              0.3333333333333333,
              "#9c179e"
             ],
             [
              0.4444444444444444,
              "#bd3786"
             ],
             [
              0.5555555555555556,
              "#d8576b"
             ],
             [
              0.6666666666666666,
              "#ed7953"
             ],
             [
              0.7777777777777778,
              "#fb9f3a"
             ],
             [
              0.8888888888888888,
              "#fdca26"
             ],
             [
              1,
              "#f0f921"
             ]
            ],
            "type": "heatmapgl"
           }
          ],
          "histogram": [
           {
            "marker": {
             "pattern": {
              "fillmode": "overlay",
              "size": 10,
              "solidity": 0.2
             }
            },
            "type": "histogram"
           }
          ],
          "histogram2d": [
           {
            "colorbar": {
             "outlinewidth": 0,
             "ticks": ""
            },
            "colorscale": [
             [
              0,
              "#0d0887"
             ],
             [
              0.1111111111111111,
              "#46039f"
             ],
             [
              0.2222222222222222,
              "#7201a8"
             ],
             [
              0.3333333333333333,
              "#9c179e"
             ],
             [
              0.4444444444444444,
              "#bd3786"
             ],
             [
              0.5555555555555556,
              "#d8576b"
             ],
             [
              0.6666666666666666,
              "#ed7953"
             ],
             [
              0.7777777777777778,
              "#fb9f3a"
             ],
             [
              0.8888888888888888,
              "#fdca26"
             ],
             [
              1,
              "#f0f921"
             ]
            ],
            "type": "histogram2d"
           }
          ],
          "histogram2dcontour": [
           {
            "colorbar": {
             "outlinewidth": 0,
             "ticks": ""
            },
            "colorscale": [
             [
              0,
              "#0d0887"
             ],
             [
              0.1111111111111111,
              "#46039f"
             ],
             [
              0.2222222222222222,
              "#7201a8"
             ],
             [
              0.3333333333333333,
              "#9c179e"
             ],
             [
              0.4444444444444444,
              "#bd3786"
             ],
             [
              0.5555555555555556,
              "#d8576b"
             ],
             [
              0.6666666666666666,
              "#ed7953"
             ],
             [
              0.7777777777777778,
              "#fb9f3a"
             ],
             [
              0.8888888888888888,
              "#fdca26"
             ],
             [
              1,
              "#f0f921"
             ]
            ],
            "type": "histogram2dcontour"
           }
          ],
          "mesh3d": [
           {
            "colorbar": {
             "outlinewidth": 0,
             "ticks": ""
            },
            "type": "mesh3d"
           }
          ],
          "parcoords": [
           {
            "line": {
             "colorbar": {
              "outlinewidth": 0,
              "ticks": ""
             }
            },
            "type": "parcoords"
           }
          ],
          "pie": [
           {
            "automargin": true,
            "type": "pie"
           }
          ],
          "scatter": [
           {
            "fillpattern": {
             "fillmode": "overlay",
             "size": 10,
             "solidity": 0.2
            },
            "type": "scatter"
           }
          ],
          "scatter3d": [
           {
            "line": {
             "colorbar": {
              "outlinewidth": 0,
              "ticks": ""
             }
            },
            "marker": {
             "colorbar": {
              "outlinewidth": 0,
              "ticks": ""
             }
            },
            "type": "scatter3d"
           }
          ],
          "scattercarpet": [
           {
            "marker": {
             "colorbar": {
              "outlinewidth": 0,
              "ticks": ""
             }
            },
            "type": "scattercarpet"
           }
          ],
          "scattergeo": [
           {
            "marker": {
             "colorbar": {
              "outlinewidth": 0,
              "ticks": ""
             }
            },
            "type": "scattergeo"
           }
          ],
          "scattergl": [
           {
            "marker": {
             "colorbar": {
              "outlinewidth": 0,
              "ticks": ""
             }
            },
            "type": "scattergl"
           }
          ],
          "scattermapbox": [
           {
            "marker": {
             "colorbar": {
              "outlinewidth": 0,
              "ticks": ""
             }
            },
            "type": "scattermapbox"
           }
          ],
          "scatterpolar": [
           {
            "marker": {
             "colorbar": {
              "outlinewidth": 0,
              "ticks": ""
             }
            },
            "type": "scatterpolar"
           }
          ],
          "scatterpolargl": [
           {
            "marker": {
             "colorbar": {
              "outlinewidth": 0,
              "ticks": ""
             }
            },
            "type": "scatterpolargl"
           }
          ],
          "scatterternary": [
           {
            "marker": {
             "colorbar": {
              "outlinewidth": 0,
              "ticks": ""
             }
            },
            "type": "scatterternary"
           }
          ],
          "surface": [
           {
            "colorbar": {
             "outlinewidth": 0,
             "ticks": ""
            },
            "colorscale": [
             [
              0,
              "#0d0887"
             ],
             [
              0.1111111111111111,
              "#46039f"
             ],
             [
              0.2222222222222222,
              "#7201a8"
             ],
             [
              0.3333333333333333,
              "#9c179e"
             ],
             [
              0.4444444444444444,
              "#bd3786"
             ],
             [
              0.5555555555555556,
              "#d8576b"
             ],
             [
              0.6666666666666666,
              "#ed7953"
             ],
             [
              0.7777777777777778,
              "#fb9f3a"
             ],
             [
              0.8888888888888888,
              "#fdca26"
             ],
             [
              1,
              "#f0f921"
             ]
            ],
            "type": "surface"
           }
          ],
          "table": [
           {
            "cells": {
             "fill": {
              "color": "#EBF0F8"
             },
             "line": {
              "color": "white"
             }
            },
            "header": {
             "fill": {
              "color": "#C8D4E3"
             },
             "line": {
              "color": "white"
             }
            },
            "type": "table"
           }
          ]
         },
         "layout": {
          "annotationdefaults": {
           "arrowcolor": "#2a3f5f",
           "arrowhead": 0,
           "arrowwidth": 1
          },
          "autotypenumbers": "strict",
          "coloraxis": {
           "colorbar": {
            "outlinewidth": 0,
            "ticks": ""
           }
          },
          "colorscale": {
           "diverging": [
            [
             0,
             "#8e0152"
            ],
            [
             0.1,
             "#c51b7d"
            ],
            [
             0.2,
             "#de77ae"
            ],
            [
             0.3,
             "#f1b6da"
            ],
            [
             0.4,
             "#fde0ef"
            ],
            [
             0.5,
             "#f7f7f7"
            ],
            [
             0.6,
             "#e6f5d0"
            ],
            [
             0.7,
             "#b8e186"
            ],
            [
             0.8,
             "#7fbc41"
            ],
            [
             0.9,
             "#4d9221"
            ],
            [
             1,
             "#276419"
            ]
           ],
           "sequential": [
            [
             0,
             "#0d0887"
            ],
            [
             0.1111111111111111,
             "#46039f"
            ],
            [
             0.2222222222222222,
             "#7201a8"
            ],
            [
             0.3333333333333333,
             "#9c179e"
            ],
            [
             0.4444444444444444,
             "#bd3786"
            ],
            [
             0.5555555555555556,
             "#d8576b"
            ],
            [
             0.6666666666666666,
             "#ed7953"
            ],
            [
             0.7777777777777778,
             "#fb9f3a"
            ],
            [
             0.8888888888888888,
             "#fdca26"
            ],
            [
             1,
             "#f0f921"
            ]
           ],
           "sequentialminus": [
            [
             0,
             "#0d0887"
            ],
            [
             0.1111111111111111,
             "#46039f"
            ],
            [
             0.2222222222222222,
             "#7201a8"
            ],
            [
             0.3333333333333333,
             "#9c179e"
            ],
            [
             0.4444444444444444,
             "#bd3786"
            ],
            [
             0.5555555555555556,
             "#d8576b"
            ],
            [
             0.6666666666666666,
             "#ed7953"
            ],
            [
             0.7777777777777778,
             "#fb9f3a"
            ],
            [
             0.8888888888888888,
             "#fdca26"
            ],
            [
             1,
             "#f0f921"
            ]
           ]
          },
          "colorway": [
           "#636efa",
           "#EF553B",
           "#00cc96",
           "#ab63fa",
           "#FFA15A",
           "#19d3f3",
           "#FF6692",
           "#B6E880",
           "#FF97FF",
           "#FECB52"
          ],
          "font": {
           "color": "#2a3f5f"
          },
          "geo": {
           "bgcolor": "white",
           "lakecolor": "white",
           "landcolor": "white",
           "showlakes": true,
           "showland": true,
           "subunitcolor": "#C8D4E3"
          },
          "hoverlabel": {
           "align": "left"
          },
          "hovermode": "closest",
          "mapbox": {
           "style": "light"
          },
          "paper_bgcolor": "white",
          "plot_bgcolor": "white",
          "polar": {
           "angularaxis": {
            "gridcolor": "#EBF0F8",
            "linecolor": "#EBF0F8",
            "ticks": ""
           },
           "bgcolor": "white",
           "radialaxis": {
            "gridcolor": "#EBF0F8",
            "linecolor": "#EBF0F8",
            "ticks": ""
           }
          },
          "scene": {
           "xaxis": {
            "backgroundcolor": "white",
            "gridcolor": "#DFE8F3",
            "gridwidth": 2,
            "linecolor": "#EBF0F8",
            "showbackground": true,
            "ticks": "",
            "zerolinecolor": "#EBF0F8"
           },
           "yaxis": {
            "backgroundcolor": "white",
            "gridcolor": "#DFE8F3",
            "gridwidth": 2,
            "linecolor": "#EBF0F8",
            "showbackground": true,
            "ticks": "",
            "zerolinecolor": "#EBF0F8"
           },
           "zaxis": {
            "backgroundcolor": "white",
            "gridcolor": "#DFE8F3",
            "gridwidth": 2,
            "linecolor": "#EBF0F8",
            "showbackground": true,
            "ticks": "",
            "zerolinecolor": "#EBF0F8"
           }
          },
          "shapedefaults": {
           "line": {
            "color": "#2a3f5f"
           }
          },
          "ternary": {
           "aaxis": {
            "gridcolor": "#DFE8F3",
            "linecolor": "#A2B1C6",
            "ticks": ""
           },
           "baxis": {
            "gridcolor": "#DFE8F3",
            "linecolor": "#A2B1C6",
            "ticks": ""
           },
           "bgcolor": "white",
           "caxis": {
            "gridcolor": "#DFE8F3",
            "linecolor": "#A2B1C6",
            "ticks": ""
           }
          },
          "title": {
           "x": 0.05
          },
          "xaxis": {
           "automargin": true,
           "gridcolor": "#EBF0F8",
           "linecolor": "#EBF0F8",
           "ticks": "",
           "title": {
            "standoff": 15
           },
           "zerolinecolor": "#EBF0F8",
           "zerolinewidth": 2
          },
          "yaxis": {
           "automargin": true,
           "gridcolor": "#EBF0F8",
           "linecolor": "#EBF0F8",
           "ticks": "",
           "title": {
            "standoff": 15
           },
           "zerolinecolor": "#EBF0F8",
           "zerolinewidth": 2
          }
         }
        },
        "title": {
         "font": {
          "size": 20
         },
         "text": "Distribution of Forecast Bias in the dataset",
         "x": 0.5,
         "xanchor": "center",
         "yanchor": "top"
        },
        "width": 900,
        "xaxis": {
         "anchor": "y",
         "domain": [
          0,
          1
         ],
         "range": [
          -50,
          30
         ],
         "title": {
          "font": {
           "size": 12
          },
          "text": "Forecast Bias"
         }
        },
        "xaxis2": {
         "anchor": "y2",
         "domain": [
          0,
          1
         ],
         "matches": "x",
         "showgrid": true,
         "showticklabels": false
        },
        "yaxis": {
         "anchor": "x",
         "domain": [
          0,
          0.7326
         ],
         "title": {
          "font": {
           "size": 12
          },
          "text": "Probability Density"
         }
        },
        "yaxis2": {
         "anchor": "x2",
         "domain": [
          0.7426,
          1
         ],
         "matches": "y2",
         "showgrid": false,
         "showline": false,
         "showticklabels": false,
         "ticks": ""
        }
       }
      }
     },
     "metadata": {},
     "output_type": "display_data"
    }
   ],
   "source": [
    "fig = px.histogram(metrics_df, \n",
    "                   x=\"Forecast Bias\", \n",
    "                   color=\"Algorithm\",\n",
    "                   pattern_shape=\"Algorithm\", \n",
    "                   marginal=\"box\", \n",
    "                   nbins=250,\n",
    "                   barmode=\"overlay\",\n",
    "                   histnorm=\"probability density\")\n",
    "fig = format_plot(fig, xlabel=\"Forecast Bias\", ylabel=\"Probability Density\", title=\"Distribution of Forecast Bias in the dataset\")\n",
    "fig.update_layout(xaxis_range=[-50,30])\n",
    "# fig.write_image(\"imgs/chapter_8/bias_dist.png\")\n",
    "fig.show()"
   ]
  },
  {
   "cell_type": "markdown",
   "id": "8563e46a-8c50-4ae4-8321-2a36e9d104d8",
   "metadata": {
    "tags": []
   },
   "source": [
    "# Saving the Baseline Forecasts and Metrics"
   ]
  },
  {
   "cell_type": "code",
   "execution_count": 27,
   "id": "330d2005-faba-44da-89a9-29b088758998",
   "metadata": {},
   "outputs": [],
   "source": [
    "os.makedirs(\"data/london_smart_meters/output\", exist_ok=True)\n",
    "output = Path(\"data/london_smart_meters/output\")"
   ]
  },
  {
   "cell_type": "code",
   "execution_count": 28,
   "id": "72f475ae-2f2e-4ca4-9941-98ae14d764b4",
   "metadata": {},
   "outputs": [],
   "source": [
    "pred_df.to_pickle(output/\"ml_single_step_prediction_auto_stationary_val_df.pkl\")\n",
    "metrics_df.to_pickle(output/\"ml_single_step_metrics_auto_stationary_val_df.pkl\")\n",
    "agg_metrics_df.to_pickle(output/\"ml_single_step_aggregate_metrics_auto_stationary_val.pkl\")"
   ]
  },
  {
   "cell_type": "code",
   "execution_count": null,
   "id": "e66c5424-cd2c-4687-8e83-946ff1628306",
   "metadata": {},
   "outputs": [],
   "source": []
  }
 ],
 "metadata": {
  "kernelspec": {
   "display_name": "Python 3 (ipykernel)",
   "language": "python",
   "name": "python3"
  },
  "language_info": {
   "codemirror_mode": {
    "name": "ipython",
    "version": 3
   },
   "file_extension": ".py",
   "mimetype": "text/x-python",
   "name": "python",
   "nbconvert_exporter": "python",
   "pygments_lexer": "ipython3",
   "version": "3.11.0"
  },
  "varInspector": {
   "cols": {
    "lenName": 16,
    "lenType": 16,
    "lenVar": 40
   },
   "kernels_config": {
    "python": {
     "delete_cmd_postfix": "",
     "delete_cmd_prefix": "del ",
     "library": "var_list.py",
     "varRefreshCmd": "print(var_dic_list())"
    },
    "r": {
     "delete_cmd_postfix": ") ",
     "delete_cmd_prefix": "rm(",
     "library": "var_list.r",
     "varRefreshCmd": "cat(var_dic_list()) "
    }
   },
   "types_to_exclude": [
    "module",
    "function",
    "builtin_function_or_method",
    "instance",
    "_Feature"
   ],
   "window_display": false
  }
 },
 "nbformat": 4,
 "nbformat_minor": 5
}

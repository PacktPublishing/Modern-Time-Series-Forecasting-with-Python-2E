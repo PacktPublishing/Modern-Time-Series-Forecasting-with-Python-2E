{
 "cells": [
  {
   "cell_type": "code",
   "execution_count": 1,
   "id": "b25018c9-2624-434c-aa23-04be1d73e729",
   "metadata": {},
   "outputs": [
    {
     "name": "stdout",
     "output_type": "stream",
     "text": [
      "c:\\Users\\tacke\\OneDrive\\Documents\\GitHub\\Modern-Time-Series-Forecasting-with-Python-2E-1\n"
     ]
    }
   ],
   "source": [
    "%cd ../.."
   ]
  },
  {
   "cell_type": "code",
   "execution_count": 2,
   "id": "4f023467-970a-461e-a60f-7a66fce6a497",
   "metadata": {},
   "outputs": [
    {
     "name": "stderr",
     "output_type": "stream",
     "text": [
      "c:\\Users\\tacke\\OneDrive\\Documents\\GitHub\\Modern-Time-Series-Forecasting-with-Python-2E-1\\src\\utils\\data_utils.py:6: TqdmExperimentalWarning: Using `tqdm.autonotebook.tqdm` in notebook mode. Use `tqdm.tqdm` instead to force console mode (e.g. in jupyter console)\n",
      "  from tqdm.autonotebook import tqdm\n"
     ]
    }
   ],
   "source": [
    "import os\n",
    "import time\n",
    "\n",
    "import numpy as np\n",
    "import pandas as pd\n",
    "import plotly.express as px\n",
    "import plotly.graph_objects as go\n",
    "import plotly.io as pio\n",
    "\n",
    "pio.templates.default = \"plotly_white\"\n",
    "\n",
    "import warnings\n",
    "from pathlib import Path\n",
    "\n",
    "import humanize\n",
    "import joblib\n",
    "from sklearn.preprocessing import StandardScaler\n",
    "from src.forecasting.ml_forecasting import (\n",
    "    FeatureConfig,\n",
    "    MissingValueConfig,\n",
    "    MLForecast,\n",
    "    ModelConfig,\n",
    "    calculate_metrics,\n",
    ")\n",
    "from src.utils import plotting_utils\n",
    "from src.utils.general import LogTime\n",
    "from src.utils.ts_utils import metrics_adapter, forecast_bias,mae, mase, mse\n",
    "from tqdm.autonotebook import tqdm\n",
    "from IPython.display import display, HTML\n",
    "# %load_ext autoreload\n",
    "# %autoreload 2\n",
    "np.random.seed(42)\n",
    "tqdm.pandas()"
   ]
  },
  {
   "cell_type": "code",
   "execution_count": 3,
   "id": "41ae72a1-3721-4b36-b211-b78d4b09c855",
   "metadata": {},
   "outputs": [],
   "source": [
    "os.makedirs(\"imgs/chapter_8\", exist_ok=True)\n",
    "preprocessed = Path(\"data/london_smart_meters/preprocessed\")\n",
    "output = Path(\"data/london_smart_meters/output\")"
   ]
  },
  {
   "cell_type": "code",
   "execution_count": 4,
   "id": "8900cd43-718f-4dc1-ace9-ef9dc99b600d",
   "metadata": {},
   "outputs": [],
   "source": [
    "def format_plot(fig, legends=None, xlabel=\"Time\", ylabel=\"Value\", title=\"\"):\n",
    "    if legends:\n",
    "        names = cycle(legends)\n",
    "        fig.for_each_trace(lambda t: t.update(name=next(names)))\n",
    "    fig.update_layout(\n",
    "        autosize=False,\n",
    "        width=900,\n",
    "        height=500,\n",
    "        title_text=title,\n",
    "        title={\"x\": 0.5, \"xanchor\": \"center\", \"yanchor\": \"top\"},\n",
    "        titlefont={\"size\": 20},\n",
    "        legend_title=None,\n",
    "        yaxis=dict(\n",
    "            title_text=ylabel,\n",
    "            titlefont=dict(size=12),\n",
    "        ),\n",
    "        xaxis=dict(\n",
    "            title_text=xlabel,\n",
    "            titlefont=dict(size=12),\n",
    "        ),\n",
    "    )\n",
    "    return fig"
   ]
  },
  {
   "cell_type": "code",
   "execution_count": 5,
   "id": "efe0e2b6-605d-423b-b75c-cb7b4e5d34e8",
   "metadata": {},
   "outputs": [],
   "source": [
    "def highlight_abs_min(s, props=\"\"):\n",
    "    return np.where(s == np.nanmin(np.abs(s.values)), props, \"\")"
   ]
  },
  {
   "cell_type": "code",
   "execution_count": 6,
   "id": "10b5686a-c35c-4191-9185-365a30e09255",
   "metadata": {},
   "outputs": [],
   "source": [
    "try:\n",
    "    # Readin the missing value imputed and train test split data\n",
    "    train_df = pd.read_parquet(\n",
    "        preprocessed / \"selected_blocks_train_missing_imputed_feature_engg.parquet\"\n",
    "    )\n",
    "    val_df = pd.read_parquet(\n",
    "        preprocessed / \"selected_blocks_val_missing_imputed_feature_engg.parquet\"\n",
    "    )\n",
    "    # Combine train and val into new train\n",
    "    train_df = pd.concat([train_df, val_df])\n",
    "    del val_df\n",
    "    # Reading in test\n",
    "    test_df = pd.read_parquet(\n",
    "        preprocessed / \"selected_blocks_test_missing_imputed_feature_engg.parquet\"\n",
    "    )\n",
    "\n",
    "    auto_stat_target = pd.read_parquet(\n",
    "        preprocessed / \"selected_blocks_train_val_auto_stat_target.parquet\"\n",
    "    )\n",
    "    transformer_pipelines = joblib.load(\n",
    "        preprocessed / \"auto_transformer_pipelines_train_val.pkl\"\n",
    "    )\n",
    "\n",
    "    # Joining the transformed target\n",
    "    train_df = (\n",
    "        train_df.set_index([\"LCLid\", \"timestamp\"]).join(auto_stat_target).reset_index()\n",
    "    )\n",
    "    # #Renaming energy\n",
    "    # test_df.rename(columns={\"energy_consumption\":\"energy_consumption_auto_stat\"}, inplace=True)\n",
    "except FileNotFoundError:\n",
    "    display(HTML(\"\"\"\n",
    "    <div class=\"alert alert-block alert-warning\">\n",
    "    <b>Warning!</b> File not found. Please make sure you have run 01-Feature Engineering.ipynb, 02-Dealing with Non-Stationarity.ipynb, and 02a-Dealing with Non-Stationarity-Train+Val.ipynb in Chapter06 and Chapter07\n",
    "    </div>\n",
    "    \"\"\"))"
   ]
  },
  {
   "cell_type": "code",
   "execution_count": 7,
   "id": "6046a8fe-283d-4f4b-ab1f-a5b23bad55e7",
   "metadata": {},
   "outputs": [
    {
     "data": {
      "text/plain": [
       "150"
      ]
     },
     "execution_count": 7,
     "metadata": {},
     "output_type": "execute_result"
    }
   ],
   "source": [
    "len(train_df.LCLid.unique())"
   ]
  },
  {
   "cell_type": "code",
   "execution_count": 8,
   "id": "6eca727d-7eaa-4d01-8d8d-1726b1422b0c",
   "metadata": {
    "tags": []
   },
   "outputs": [],
   "source": [
    "try:\n",
    "    baseline_metrics_df = pd.read_pickle(output / \"ml_single_step_metrics_test_df.pkl\")\n",
    "    baseline_aggregate_metrics_df = pd.read_pickle(\n",
    "        output / \"ml_single_step_aggregate_metrics_test.pkl\"\n",
    "    )\n",
    "except FileNotFoundError:\n",
    "    display(HTML(\"\"\"\n",
    "    <div class=\"alert alert-block alert-warning\">\n",
    "    <b>Warning!</b> File not found. Please make sure you have run 01a-Forecasting with ML for Test Dataset.ipynb in Chapter08\n",
    "    </div>\n",
    "    \"\"\"))"
   ]
  },
  {
   "cell_type": "markdown",
   "id": "debe3f31-9081-49ee-beed-b56c040cebc2",
   "metadata": {
    "tags": []
   },
   "source": [
    "# Feature Definition"
   ]
  },
  {
   "cell_type": "code",
   "execution_count": 9,
   "id": "d230f461-5a87-4955-8c98-a29f7fbba75b",
   "metadata": {},
   "outputs": [],
   "source": [
    "feat_config = FeatureConfig(\n",
    "    date=\"timestamp\",\n",
    "    target=\"energy_consumption_auto_stat\",\n",
    "    original_target=\"energy_consumption\",\n",
    "    continuous_features=[\n",
    "        \"visibility\",\n",
    "        \"windBearing\",\n",
    "        \"temperature\",\n",
    "        \"dewPoint\",\n",
    "        \"pressure\",\n",
    "        \"apparentTemperature\",\n",
    "        \"windSpeed\",\n",
    "        \"humidity\",\n",
    "        \"energy_consumption_lag_1\",\n",
    "        \"energy_consumption_lag_2\",\n",
    "        \"energy_consumption_lag_3\",\n",
    "        \"energy_consumption_lag_4\",\n",
    "        \"energy_consumption_lag_5\",\n",
    "        \"energy_consumption_lag_46\",\n",
    "        \"energy_consumption_lag_47\",\n",
    "        \"energy_consumption_lag_48\",\n",
    "        \"energy_consumption_lag_49\",\n",
    "        \"energy_consumption_lag_50\",\n",
    "        \"energy_consumption_lag_334\",\n",
    "        \"energy_consumption_lag_335\",\n",
    "        \"energy_consumption_lag_336\",\n",
    "        \"energy_consumption_lag_337\",\n",
    "        \"energy_consumption_lag_338\",\n",
    "        \"energy_consumption_rolling_3_mean\",\n",
    "        \"energy_consumption_rolling_3_std\",\n",
    "        \"energy_consumption_rolling_6_mean\",\n",
    "        \"energy_consumption_rolling_6_std\",\n",
    "        \"energy_consumption_rolling_12_mean\",\n",
    "        \"energy_consumption_rolling_12_std\",\n",
    "        \"energy_consumption_rolling_48_mean\",\n",
    "        \"energy_consumption_rolling_48_std\",\n",
    "        \"energy_consumption_48_seasonal_rolling_3_mean\",\n",
    "        \"energy_consumption_48_seasonal_rolling_3_std\",\n",
    "        \"energy_consumption_336_seasonal_rolling_3_mean\",\n",
    "        \"energy_consumption_336_seasonal_rolling_3_std\",\n",
    "        \"energy_consumption_ewma_span_2880\",\n",
    "        \"energy_consumption_ewma_span_336\",\n",
    "        \"energy_consumption_ewma_span_48\",\n",
    "        \"timestamp_Elapsed\",\n",
    "        \"timestamp_Month_sin_1\",\n",
    "        \"timestamp_Month_sin_2\",\n",
    "        \"timestamp_Month_sin_3\",\n",
    "        \"timestamp_Month_sin_4\",\n",
    "        \"timestamp_Month_sin_5\",\n",
    "        \"timestamp_Month_cos_1\",\n",
    "        \"timestamp_Month_cos_2\",\n",
    "        \"timestamp_Month_cos_3\",\n",
    "        \"timestamp_Month_cos_4\",\n",
    "        \"timestamp_Month_cos_5\",\n",
    "        \"timestamp_Hour_sin_1\",\n",
    "        \"timestamp_Hour_sin_2\",\n",
    "        \"timestamp_Hour_sin_3\",\n",
    "        \"timestamp_Hour_sin_4\",\n",
    "        \"timestamp_Hour_sin_5\",\n",
    "        \"timestamp_Hour_cos_1\",\n",
    "        \"timestamp_Hour_cos_2\",\n",
    "        \"timestamp_Hour_cos_3\",\n",
    "        \"timestamp_Hour_cos_4\",\n",
    "        \"timestamp_Hour_cos_5\",\n",
    "        \"timestamp_Minute_sin_1\",\n",
    "        \"timestamp_Minute_sin_2\",\n",
    "        \"timestamp_Minute_sin_3\",\n",
    "        \"timestamp_Minute_sin_4\",\n",
    "        \"timestamp_Minute_sin_5\",\n",
    "        \"timestamp_Minute_cos_1\",\n",
    "        \"timestamp_Minute_cos_2\",\n",
    "        \"timestamp_Minute_cos_3\",\n",
    "        \"timestamp_Minute_cos_4\",\n",
    "        \"timestamp_Minute_cos_5\",\n",
    "    ],\n",
    "    categorical_features=[\n",
    "        \"holidays\",\n",
    "        \"precipType\",\n",
    "        \"icon\",\n",
    "        \"summary\",\n",
    "        \"timestamp_Month\",\n",
    "        \"timestamp_Quarter\",\n",
    "        \"timestamp_WeekDay\",\n",
    "        \"timestamp_Dayofweek\",\n",
    "        \"timestamp_Dayofyear\",\n",
    "        \"timestamp_Hour\",\n",
    "        \"timestamp_Minute\",\n",
    "    ],\n",
    "    boolean_features=[\n",
    "        \"timestamp_Is_quarter_end\",\n",
    "        \"timestamp_Is_quarter_start\",\n",
    "        \"timestamp_Is_year_end\",\n",
    "        \"timestamp_Is_year_start\",\n",
    "        \"timestamp_Is_month_start\",\n",
    "    ],\n",
    "    index_cols=[\"timestamp\"],\n",
    "    exogenous_features=[\n",
    "        \"holidays\",\n",
    "        \"precipType\",\n",
    "        \"icon\",\n",
    "        \"summary\",\n",
    "        \"visibility\",\n",
    "        \"windBearing\",\n",
    "        \"temperature\",\n",
    "        \"dewPoint\",\n",
    "        \"pressure\",\n",
    "        \"apparentTemperature\",\n",
    "        \"windSpeed\",\n",
    "        \"humidity\",\n",
    "    ],\n",
    ")"
   ]
  },
  {
   "cell_type": "markdown",
   "id": "0bcc8075-486a-42ab-9ec8-ddd06355dd93",
   "metadata": {
    "tags": []
   },
   "source": [
    "# Missing Value Handling"
   ]
  },
  {
   "cell_type": "code",
   "execution_count": 10,
   "id": "4377661a-4b94-41cd-a599-7636907eeba4",
   "metadata": {},
   "outputs": [],
   "source": [
    "missing_value_config = MissingValueConfig(\n",
    "    bfill_columns=[\n",
    "        \"energy_consumption_lag_1\",\n",
    "        \"energy_consumption_lag_2\",\n",
    "        \"energy_consumption_lag_3\",\n",
    "        \"energy_consumption_lag_4\",\n",
    "        \"energy_consumption_lag_5\",\n",
    "        \"energy_consumption_lag_46\",\n",
    "        \"energy_consumption_lag_47\",\n",
    "        \"energy_consumption_lag_48\",\n",
    "        \"energy_consumption_lag_49\",\n",
    "        \"energy_consumption_lag_50\",\n",
    "        \"energy_consumption_lag_334\",\n",
    "        \"energy_consumption_lag_335\",\n",
    "        \"energy_consumption_lag_336\",\n",
    "        \"energy_consumption_lag_337\",\n",
    "        \"energy_consumption_lag_338\",\n",
    "        \"energy_consumption_rolling_3_mean\",\n",
    "        \"energy_consumption_rolling_3_std\",\n",
    "        \"energy_consumption_rolling_6_mean\",\n",
    "        \"energy_consumption_rolling_6_std\",\n",
    "        \"energy_consumption_rolling_12_mean\",\n",
    "        \"energy_consumption_rolling_12_std\",\n",
    "        \"energy_consumption_rolling_48_mean\",\n",
    "        \"energy_consumption_rolling_48_std\",\n",
    "        \"energy_consumption_48_seasonal_rolling_3_mean\",\n",
    "        \"energy_consumption_48_seasonal_rolling_3_std\",\n",
    "        \"energy_consumption_336_seasonal_rolling_3_mean\",\n",
    "        \"energy_consumption_336_seasonal_rolling_3_std\",\n",
    "        \"energy_consumption_ewma__span_2880\",\n",
    "        \"energy_consumption_ewma__span_336\",\n",
    "        \"energy_consumption_ewma__span_48\",\n",
    "    ],\n",
    "    ffill_columns=[],\n",
    "    zero_fill_columns=[],\n",
    ")"
   ]
  },
  {
   "cell_type": "markdown",
   "id": "783e372f-6459-49cc-b2d1-640c6b2b5401",
   "metadata": {
    "tags": []
   },
   "source": [
    "# Running ML Forecast for all consumers"
   ]
  },
  {
   "cell_type": "markdown",
   "id": "3c24cf01-6f27-41a9-a065-14b2229c98c4",
   "metadata": {},
   "source": [
    "Running Lasso Regression, XGB Random Forest, and LightGBM"
   ]
  },
  {
   "cell_type": "code",
   "execution_count": 11,
   "id": "8d213e79-ff52-4476-be9f-a878da9bf9e5",
   "metadata": {},
   "outputs": [],
   "source": [
    "def evaluate_model(\n",
    "    model_config,\n",
    "    feature_config,\n",
    "    missing_config,\n",
    "    target_transformer,\n",
    "    train_features,\n",
    "    train_target,\n",
    "    test_features,\n",
    "    test_target,\n",
    "    train_target_original=None,\n",
    "):\n",
    "    ml_model = MLForecast(\n",
    "        model_config=model_config,\n",
    "        feature_config=feat_config,\n",
    "        missing_config=missing_value_config,\n",
    "        target_transformer=target_transformer,\n",
    "    )\n",
    "    ml_model.fit(train_features, train_target, is_transformed=True)\n",
    "    y_pred = ml_model.predict(test_features)\n",
    "    feat_df = ml_model.feature_importance()\n",
    "    metrics = calculate_metrics(\n",
    "        test_target, y_pred, model_config.name, train_target_original\n",
    "    )\n",
    "    return y_pred, metrics, feat_df"
   ]
  },
  {
   "cell_type": "code",
   "execution_count": 12,
   "id": "51eb3210-9577-4065-889a-55cf12931f21",
   "metadata": {},
   "outputs": [],
   "source": [
    "from lightgbm import LGBMRegressor\n",
    "from sklearn.linear_model import LassoCV\n",
    "from xgboost import XGBRFRegressor"
   ]
  },
  {
   "cell_type": "code",
   "execution_count": 13,
   "id": "366fe44b-bbb7-46e0-a898-2b9b5e0bba04",
   "metadata": {},
   "outputs": [],
   "source": [
    "lcl_ids = sorted(train_df.LCLid.unique())\n",
    "models_to_run = [\n",
    "    ModelConfig(\n",
    "        model=LassoCV(), name=\"Lasso Regression\", normalize=True, fill_missing=True\n",
    "    ),\n",
    "    ModelConfig(\n",
    "        model=XGBRFRegressor(random_state=42, max_depth=4),\n",
    "        name=\"XGB Random Forest\",\n",
    "        normalize=False,\n",
    "        fill_missing=False,\n",
    "    ),\n",
    "    ModelConfig(\n",
    "        model=LGBMRegressor(random_state=42),\n",
    "        name=\"LightGBM\",\n",
    "        normalize=False,\n",
    "        fill_missing=False,\n",
    "    ),\n",
    "]"
   ]
  },
  {
   "cell_type": "code",
   "execution_count": 14,
   "id": "71d21a79",
   "metadata": {},
   "outputs": [
    {
     "data": {
      "text/plain": [
       "[ModelConfig(model=LassoCV(), name='Lasso Regression', normalize=True, fill_missing=True, encode_categorical=False, categorical_encoder=None),\n",
       " ModelConfig(model=XGBRFRegressor(base_score=None, booster=None, callbacks=None,\n",
       "                colsample_bylevel=None, colsample_bytree=None, device=None,\n",
       "                early_stopping_rounds=None, enable_categorical=False,\n",
       "                eval_metric=None, feature_types=None, gamma=None,\n",
       "                grow_policy=None, importance_type=None,\n",
       "                interaction_constraints=None, max_bin=None,\n",
       "                max_cat_threshold=None, max_cat_to_onehot=None,\n",
       "                max_delta_step=None, max_depth=4, max_leaves=None,\n",
       "                min_child_weight=None, missing=nan, monotone_constraints=None,\n",
       "                multi_strategy=None, n_estimators=None, n_jobs=None,\n",
       "                num_parallel_tree=None, objective='reg:squarederror',\n",
       "                random_state=42, reg_alpha=None, ...), name='XGB Random Forest', normalize=False, fill_missing=False, encode_categorical=False, categorical_encoder=None),\n",
       " ModelConfig(model=LGBMRegressor(random_state=42), name='LightGBM', normalize=False, fill_missing=False, encode_categorical=False, categorical_encoder=None)]"
      ]
     },
     "execution_count": 14,
     "metadata": {},
     "output_type": "execute_result"
    }
   ],
   "source": [
    "models_to_run"
   ]
  },
  {
   "cell_type": "code",
   "execution_count": 15,
   "id": "fb50d352-fb06-47d8-b54a-a32d26034120",
   "metadata": {
    "tags": []
   },
   "outputs": [
    {
     "data": {
      "application/vnd.jupyter.widget-view+json": {
       "model_id": "e53d09dcd23344dd888a7d2caf75ff05",
       "version_major": 2,
       "version_minor": 0
      },
      "text/plain": [
       "  0%|          | 0/150 [00:00<?, ?it/s]"
      ]
     },
     "metadata": {},
     "output_type": "display_data"
    },
    {
     "name": "stdout",
     "output_type": "stream",
     "text": [
      "[LightGBM] [Info] Auto-choosing col-wise multi-threading, the overhead of testing was 0.014167 seconds.\n",
      "You can set `force_col_wise=true` to remove the overhead.\n",
      "[LightGBM] [Info] Total Bins 8115\n",
      "[LightGBM] [Info] Number of data points in the train set: 36576, number of used features: 59\n",
      "[LightGBM] [Info] Start training from score 0.549866\n",
      "[LightGBM] [Info] Auto-choosing col-wise multi-threading, the overhead of testing was 0.015364 seconds.\n",
      "You can set `force_col_wise=true` to remove the overhead.\n",
      "[LightGBM] [Info] Total Bins 8115\n",
      "[LightGBM] [Info] Number of data points in the train set: 36576, number of used features: 59\n",
      "[LightGBM] [Info] Start training from score 0.572629\n",
      "[LightGBM] [Info] Auto-choosing col-wise multi-threading, the overhead of testing was 0.012888 seconds.\n",
      "You can set `force_col_wise=true` to remove the overhead.\n",
      "[LightGBM] [Info] Total Bins 8115\n",
      "[LightGBM] [Info] Number of data points in the train set: 36576, number of used features: 59\n",
      "[LightGBM] [Info] Start training from score 0.000006\n",
      "[LightGBM] [Info] Auto-choosing col-wise multi-threading, the overhead of testing was 0.013637 seconds.\n",
      "You can set `force_col_wise=true` to remove the overhead.\n",
      "[LightGBM] [Info] Total Bins 8115\n",
      "[LightGBM] [Info] Number of data points in the train set: 36576, number of used features: 59\n",
      "[LightGBM] [Info] Start training from score 0.619065\n",
      "[LightGBM] [Info] Auto-choosing row-wise multi-threading, the overhead of testing was 0.007668 seconds.\n",
      "You can set `force_row_wise=true` to remove the overhead.\n",
      "And if memory is not enough, you can set `force_col_wise=true`.\n",
      "[LightGBM] [Info] Total Bins 8115\n",
      "[LightGBM] [Info] Number of data points in the train set: 36576, number of used features: 59\n",
      "[LightGBM] [Info] Start training from score 0.532974\n",
      "[LightGBM] [Info] Auto-choosing col-wise multi-threading, the overhead of testing was 0.017071 seconds.\n",
      "You can set `force_col_wise=true` to remove the overhead.\n",
      "[LightGBM] [Info] Total Bins 8115\n",
      "[LightGBM] [Info] Number of data points in the train set: 36576, number of used features: 59\n",
      "[LightGBM] [Info] Start training from score 0.572541\n",
      "[LightGBM] [Info] Auto-choosing col-wise multi-threading, the overhead of testing was 0.019601 seconds.\n",
      "You can set `force_col_wise=true` to remove the overhead.\n",
      "[LightGBM] [Info] Total Bins 8115\n",
      "[LightGBM] [Info] Number of data points in the train set: 36576, number of used features: 59\n",
      "[LightGBM] [Info] Start training from score 0.548049\n",
      "[LightGBM] [Info] Auto-choosing col-wise multi-threading, the overhead of testing was 0.019715 seconds.\n",
      "You can set `force_col_wise=true` to remove the overhead.\n",
      "[LightGBM] [Info] Total Bins 8115\n",
      "[LightGBM] [Info] Number of data points in the train set: 36576, number of used features: 59\n",
      "[LightGBM] [Info] Start training from score 0.575372\n",
      "[LightGBM] [Info] Auto-choosing col-wise multi-threading, the overhead of testing was 0.017393 seconds.\n",
      "You can set `force_col_wise=true` to remove the overhead.\n",
      "[LightGBM] [Info] Total Bins 8115\n",
      "[LightGBM] [Info] Number of data points in the train set: 36576, number of used features: 59\n",
      "[LightGBM] [Info] Start training from score 0.626901\n",
      "[LightGBM] [Info] Auto-choosing col-wise multi-threading, the overhead of testing was 0.014219 seconds.\n",
      "You can set `force_col_wise=true` to remove the overhead.\n",
      "[LightGBM] [Info] Total Bins 8115\n",
      "[LightGBM] [Info] Number of data points in the train set: 36576, number of used features: 59\n",
      "[LightGBM] [Info] Start training from score 0.563456\n",
      "[LightGBM] [Info] Auto-choosing row-wise multi-threading, the overhead of testing was 0.004323 seconds.\n",
      "You can set `force_row_wise=true` to remove the overhead.\n",
      "And if memory is not enough, you can set `force_col_wise=true`.\n",
      "[LightGBM] [Info] Total Bins 8115\n",
      "[LightGBM] [Info] Number of data points in the train set: 36576, number of used features: 59\n",
      "[LightGBM] [Info] Start training from score 0.632650\n",
      "[LightGBM] [Info] Auto-choosing col-wise multi-threading, the overhead of testing was 0.017867 seconds.\n",
      "You can set `force_col_wise=true` to remove the overhead.\n",
      "[LightGBM] [Info] Total Bins 8115\n",
      "[LightGBM] [Info] Number of data points in the train set: 36576, number of used features: 59\n",
      "[LightGBM] [Info] Start training from score 0.524274\n",
      "[LightGBM] [Info] Auto-choosing col-wise multi-threading, the overhead of testing was 0.013530 seconds.\n",
      "You can set `force_col_wise=true` to remove the overhead.\n",
      "[LightGBM] [Info] Total Bins 8115\n",
      "[LightGBM] [Info] Number of data points in the train set: 33600, number of used features: 59\n",
      "[LightGBM] [Info] Start training from score -0.000000\n",
      "[LightGBM] [Info] Auto-choosing col-wise multi-threading, the overhead of testing was 0.012932 seconds.\n",
      "You can set `force_col_wise=true` to remove the overhead.\n",
      "[LightGBM] [Info] Total Bins 8115\n",
      "[LightGBM] [Info] Number of data points in the train set: 33408, number of used features: 59\n",
      "[LightGBM] [Info] Start training from score 0.937242\n",
      "[LightGBM] [Info] Auto-choosing row-wise multi-threading, the overhead of testing was 0.003655 seconds.\n",
      "You can set `force_row_wise=true` to remove the overhead.\n",
      "And if memory is not enough, you can set `force_col_wise=true`.\n",
      "[LightGBM] [Info] Total Bins 8115\n",
      "[LightGBM] [Info] Number of data points in the train set: 31632, number of used features: 59\n",
      "[LightGBM] [Info] Start training from score 0.562177\n",
      "[LightGBM] [Info] Auto-choosing col-wise multi-threading, the overhead of testing was 0.012147 seconds.\n",
      "You can set `force_col_wise=true` to remove the overhead.\n",
      "[LightGBM] [Info] Total Bins 8115\n",
      "[LightGBM] [Info] Number of data points in the train set: 31632, number of used features: 59\n",
      "[LightGBM] [Info] Start training from score 0.527433\n",
      "[LightGBM] [Info] Auto-choosing col-wise multi-threading, the overhead of testing was 0.012009 seconds.\n",
      "You can set `force_col_wise=true` to remove the overhead.\n",
      "[LightGBM] [Info] Total Bins 8115\n",
      "[LightGBM] [Info] Number of data points in the train set: 31584, number of used features: 59\n",
      "[LightGBM] [Info] Start training from score 0.619466\n",
      "[LightGBM] [Info] Auto-choosing col-wise multi-threading, the overhead of testing was 0.015854 seconds.\n",
      "You can set `force_col_wise=true` to remove the overhead.\n",
      "[LightGBM] [Info] Total Bins 8115\n",
      "[LightGBM] [Info] Number of data points in the train set: 31536, number of used features: 59\n",
      "[LightGBM] [Info] Start training from score 0.565149\n",
      "[LightGBM] [Info] Auto-choosing col-wise multi-threading, the overhead of testing was 0.011319 seconds.\n",
      "You can set `force_col_wise=true` to remove the overhead.\n",
      "[LightGBM] [Info] Total Bins 8115\n",
      "[LightGBM] [Info] Number of data points in the train set: 31344, number of used features: 59\n",
      "[LightGBM] [Info] Start training from score 0.556391\n",
      "[LightGBM] [Info] Auto-choosing col-wise multi-threading, the overhead of testing was 0.011763 seconds.\n",
      "You can set `force_col_wise=true` to remove the overhead.\n",
      "[LightGBM] [Info] Total Bins 8115\n",
      "[LightGBM] [Info] Number of data points in the train set: 31296, number of used features: 59\n",
      "[LightGBM] [Info] Start training from score 0.591134\n",
      "[LightGBM] [Info] Auto-choosing row-wise multi-threading, the overhead of testing was 0.003930 seconds.\n",
      "You can set `force_row_wise=true` to remove the overhead.\n",
      "And if memory is not enough, you can set `force_col_wise=true`.\n",
      "[LightGBM] [Info] Total Bins 8115\n",
      "[LightGBM] [Info] Number of data points in the train set: 31248, number of used features: 59\n",
      "[LightGBM] [Info] Start training from score 0.556667\n",
      "[LightGBM] [Info] Auto-choosing col-wise multi-threading, the overhead of testing was 0.012712 seconds.\n",
      "You can set `force_col_wise=true` to remove the overhead.\n",
      "[LightGBM] [Info] Total Bins 8115\n",
      "[LightGBM] [Info] Number of data points in the train set: 31248, number of used features: 59\n",
      "[LightGBM] [Info] Start training from score 0.000000\n",
      "[LightGBM] [Info] Auto-choosing col-wise multi-threading, the overhead of testing was 0.016047 seconds.\n",
      "You can set `force_col_wise=true` to remove the overhead.\n",
      "[LightGBM] [Info] Total Bins 8115\n",
      "[LightGBM] [Info] Number of data points in the train set: 31248, number of used features: 59\n",
      "[LightGBM] [Info] Start training from score 0.608145\n",
      "[LightGBM] [Info] Auto-choosing row-wise multi-threading, the overhead of testing was 0.008270 seconds.\n",
      "You can set `force_row_wise=true` to remove the overhead.\n",
      "And if memory is not enough, you can set `force_col_wise=true`.\n",
      "[LightGBM] [Info] Total Bins 8115\n",
      "[LightGBM] [Info] Number of data points in the train set: 31008, number of used features: 59\n",
      "[LightGBM] [Info] Start training from score 0.541634\n",
      "[LightGBM] [Info] Auto-choosing col-wise multi-threading, the overhead of testing was 0.011860 seconds.\n",
      "You can set `force_col_wise=true` to remove the overhead.\n",
      "[LightGBM] [Info] Total Bins 8115\n",
      "[LightGBM] [Info] Number of data points in the train set: 30912, number of used features: 59\n",
      "[LightGBM] [Info] Start training from score 0.623590\n",
      "[LightGBM] [Info] Auto-choosing col-wise multi-threading, the overhead of testing was 0.011111 seconds.\n",
      "You can set `force_col_wise=true` to remove the overhead.\n",
      "[LightGBM] [Info] Total Bins 8115\n",
      "[LightGBM] [Info] Number of data points in the train set: 30912, number of used features: 59\n",
      "[LightGBM] [Info] Start training from score 0.551076\n",
      "[LightGBM] [Info] Auto-choosing col-wise multi-threading, the overhead of testing was 0.011094 seconds.\n",
      "You can set `force_col_wise=true` to remove the overhead.\n",
      "[LightGBM] [Info] Total Bins 8115\n",
      "[LightGBM] [Info] Number of data points in the train set: 30912, number of used features: 59\n",
      "[LightGBM] [Info] Start training from score 0.567781\n",
      "[LightGBM] [Info] Auto-choosing col-wise multi-threading, the overhead of testing was 0.013056 seconds.\n",
      "You can set `force_col_wise=true` to remove the overhead.\n",
      "[LightGBM] [Info] Total Bins 8115\n",
      "[LightGBM] [Info] Number of data points in the train set: 30912, number of used features: 59\n",
      "[LightGBM] [Info] Start training from score 0.000000\n",
      "[LightGBM] [Info] Auto-choosing col-wise multi-threading, the overhead of testing was 0.011993 seconds.\n",
      "You can set `force_col_wise=true` to remove the overhead.\n",
      "[LightGBM] [Info] Total Bins 8115\n",
      "[LightGBM] [Info] Number of data points in the train set: 30720, number of used features: 59\n",
      "[LightGBM] [Info] Start training from score 0.526464\n",
      "[LightGBM] [Info] Auto-choosing col-wise multi-threading, the overhead of testing was 0.012356 seconds.\n",
      "You can set `force_col_wise=true` to remove the overhead.\n",
      "[LightGBM] [Info] Total Bins 8115\n",
      "[LightGBM] [Info] Number of data points in the train set: 30720, number of used features: 59\n",
      "[LightGBM] [Info] Start training from score 0.578729\n",
      "[LightGBM] [Info] Auto-choosing col-wise multi-threading, the overhead of testing was 0.011802 seconds.\n",
      "You can set `force_col_wise=true` to remove the overhead.\n",
      "[LightGBM] [Info] Total Bins 8115\n",
      "[LightGBM] [Info] Number of data points in the train set: 30672, number of used features: 59\n",
      "[LightGBM] [Info] Start training from score 0.641404\n",
      "[LightGBM] [Info] Auto-choosing col-wise multi-threading, the overhead of testing was 0.012504 seconds.\n",
      "You can set `force_col_wise=true` to remove the overhead.\n",
      "[LightGBM] [Info] Total Bins 8115\n",
      "[LightGBM] [Info] Number of data points in the train set: 30672, number of used features: 59\n",
      "[LightGBM] [Info] Start training from score 0.526043\n",
      "[LightGBM] [Info] Auto-choosing col-wise multi-threading, the overhead of testing was 0.011181 seconds.\n",
      "You can set `force_col_wise=true` to remove the overhead.\n",
      "[LightGBM] [Info] Total Bins 8055\n",
      "[LightGBM] [Info] Number of data points in the train set: 30336, number of used features: 59\n",
      "[LightGBM] [Info] Start training from score 0.515924\n",
      "[LightGBM] [Info] Auto-choosing col-wise multi-threading, the overhead of testing was 0.020464 seconds.\n",
      "You can set `force_col_wise=true` to remove the overhead.\n",
      "[LightGBM] [Info] Total Bins 8115\n",
      "[LightGBM] [Info] Number of data points in the train set: 30096, number of used features: 59\n",
      "[LightGBM] [Info] Start training from score 0.574451\n",
      "[LightGBM] [Info] Auto-choosing row-wise multi-threading, the overhead of testing was 0.021344 seconds.\n",
      "You can set `force_row_wise=true` to remove the overhead.\n",
      "And if memory is not enough, you can set `force_col_wise=true`.\n",
      "[LightGBM] [Info] Total Bins 8115\n",
      "[LightGBM] [Info] Number of data points in the train set: 30096, number of used features: 59\n",
      "[LightGBM] [Info] Start training from score 0.560650\n",
      "[LightGBM] [Info] Auto-choosing row-wise multi-threading, the overhead of testing was 0.011403 seconds.\n",
      "You can set `force_row_wise=true` to remove the overhead.\n",
      "And if memory is not enough, you can set `force_col_wise=true`.\n",
      "[LightGBM] [Info] Total Bins 8115\n",
      "[LightGBM] [Info] Number of data points in the train set: 30096, number of used features: 59\n",
      "[LightGBM] [Info] Start training from score 0.670536\n",
      "[LightGBM] [Info] Auto-choosing col-wise multi-threading, the overhead of testing was 0.021472 seconds.\n",
      "You can set `force_col_wise=true` to remove the overhead.\n",
      "[LightGBM] [Info] Total Bins 7885\n",
      "[LightGBM] [Info] Number of data points in the train set: 30096, number of used features: 59\n",
      "[LightGBM] [Info] Start training from score -0.000005\n",
      "[LightGBM] [Info] Auto-choosing row-wise multi-threading, the overhead of testing was 0.007089 seconds.\n",
      "You can set `force_row_wise=true` to remove the overhead.\n",
      "And if memory is not enough, you can set `force_col_wise=true`.\n",
      "[LightGBM] [Info] Total Bins 8115\n",
      "[LightGBM] [Info] Number of data points in the train set: 30096, number of used features: 59\n",
      "[LightGBM] [Info] Start training from score 0.587563\n",
      "[LightGBM] [Info] Auto-choosing row-wise multi-threading, the overhead of testing was 0.006685 seconds.\n",
      "You can set `force_row_wise=true` to remove the overhead.\n",
      "And if memory is not enough, you can set `force_col_wise=true`.\n",
      "[LightGBM] [Info] Total Bins 8115\n",
      "[LightGBM] [Info] Number of data points in the train set: 29952, number of used features: 59\n",
      "[LightGBM] [Info] Start training from score 0.595994\n",
      "[LightGBM] [Info] Auto-choosing col-wise multi-threading, the overhead of testing was 0.011133 seconds.\n",
      "You can set `force_col_wise=true` to remove the overhead.\n",
      "[LightGBM] [Info] Total Bins 8115\n",
      "[LightGBM] [Info] Number of data points in the train set: 29904, number of used features: 59\n",
      "[LightGBM] [Info] Start training from score 0.597666\n",
      "[LightGBM] [Info] Auto-choosing col-wise multi-threading, the overhead of testing was 0.011752 seconds.\n",
      "You can set `force_col_wise=true` to remove the overhead.\n",
      "[LightGBM] [Info] Total Bins 8115\n",
      "[LightGBM] [Info] Number of data points in the train set: 29760, number of used features: 59\n",
      "[LightGBM] [Info] Start training from score 0.582093\n",
      "[LightGBM] [Info] Auto-choosing col-wise multi-threading, the overhead of testing was 0.013597 seconds.\n",
      "You can set `force_col_wise=true` to remove the overhead.\n",
      "[LightGBM] [Info] Total Bins 8115\n",
      "[LightGBM] [Info] Number of data points in the train set: 29712, number of used features: 59\n",
      "[LightGBM] [Info] Start training from score 0.000014\n",
      "[LightGBM] [Info] Auto-choosing col-wise multi-threading, the overhead of testing was 0.012177 seconds.\n",
      "You can set `force_col_wise=true` to remove the overhead.\n",
      "[LightGBM] [Info] Total Bins 8115\n",
      "[LightGBM] [Info] Number of data points in the train set: 29712, number of used features: 59\n",
      "[LightGBM] [Info] Start training from score 0.577476\n",
      "[LightGBM] [Info] Auto-choosing row-wise multi-threading, the overhead of testing was 0.004113 seconds.\n",
      "You can set `force_row_wise=true` to remove the overhead.\n",
      "And if memory is not enough, you can set `force_col_wise=true`.\n",
      "[LightGBM] [Info] Total Bins 8115\n",
      "[LightGBM] [Info] Number of data points in the train set: 29712, number of used features: 59\n",
      "[LightGBM] [Info] Start training from score 0.568624\n",
      "[LightGBM] [Info] Auto-choosing row-wise multi-threading, the overhead of testing was 0.003405 seconds.\n",
      "You can set `force_row_wise=true` to remove the overhead.\n",
      "And if memory is not enough, you can set `force_col_wise=true`.\n",
      "[LightGBM] [Info] Total Bins 8115\n",
      "[LightGBM] [Info] Number of data points in the train set: 29568, number of used features: 59\n",
      "[LightGBM] [Info] Start training from score 0.554035\n",
      "[LightGBM] [Info] Auto-choosing col-wise multi-threading, the overhead of testing was 0.010717 seconds.\n",
      "You can set `force_col_wise=true` to remove the overhead.\n",
      "[LightGBM] [Info] Total Bins 8115\n",
      "[LightGBM] [Info] Number of data points in the train set: 29520, number of used features: 59\n",
      "[LightGBM] [Info] Start training from score 0.583438\n",
      "[LightGBM] [Info] Auto-choosing col-wise multi-threading, the overhead of testing was 0.012141 seconds.\n",
      "You can set `force_col_wise=true` to remove the overhead.\n",
      "[LightGBM] [Info] Total Bins 8115\n",
      "[LightGBM] [Info] Number of data points in the train set: 29376, number of used features: 59\n",
      "[LightGBM] [Info] Start training from score 0.622508\n",
      "[LightGBM] [Info] Auto-choosing col-wise multi-threading, the overhead of testing was 0.021124 seconds.\n",
      "You can set `force_col_wise=true` to remove the overhead.\n",
      "[LightGBM] [Info] Total Bins 8115\n",
      "[LightGBM] [Info] Number of data points in the train set: 29232, number of used features: 59\n",
      "[LightGBM] [Info] Start training from score 0.562417\n",
      "[LightGBM] [Info] Auto-choosing col-wise multi-threading, the overhead of testing was 0.018879 seconds.\n",
      "You can set `force_col_wise=true` to remove the overhead.\n",
      "[LightGBM] [Info] Total Bins 8115\n",
      "[LightGBM] [Info] Number of data points in the train set: 28992, number of used features: 59\n",
      "[LightGBM] [Info] Start training from score 0.138928\n",
      "[LightGBM] [Info] Auto-choosing col-wise multi-threading, the overhead of testing was 0.014370 seconds.\n",
      "You can set `force_col_wise=true` to remove the overhead.\n",
      "[LightGBM] [Info] Total Bins 8115\n",
      "[LightGBM] [Info] Number of data points in the train set: 28992, number of used features: 59\n",
      "[LightGBM] [Info] Start training from score 0.584409\n",
      "[LightGBM] [Info] Auto-choosing col-wise multi-threading, the overhead of testing was 0.011905 seconds.\n",
      "You can set `force_col_wise=true` to remove the overhead.\n",
      "[LightGBM] [Info] Total Bins 8115\n",
      "[LightGBM] [Info] Number of data points in the train set: 28944, number of used features: 59\n",
      "[LightGBM] [Info] Start training from score 0.538698\n",
      "[LightGBM] [Info] Auto-choosing row-wise multi-threading, the overhead of testing was 0.004362 seconds.\n",
      "You can set `force_row_wise=true` to remove the overhead.\n",
      "And if memory is not enough, you can set `force_col_wise=true`.\n",
      "[LightGBM] [Info] Total Bins 8115\n",
      "[LightGBM] [Info] Number of data points in the train set: 28896, number of used features: 59\n",
      "[LightGBM] [Info] Start training from score 1.923130\n",
      "[LightGBM] [Info] Auto-choosing col-wise multi-threading, the overhead of testing was 0.013982 seconds.\n",
      "You can set `force_col_wise=true` to remove the overhead.\n",
      "[LightGBM] [Info] Total Bins 8115\n",
      "[LightGBM] [Info] Number of data points in the train set: 28848, number of used features: 59\n",
      "[LightGBM] [Info] Start training from score 0.549560\n",
      "[LightGBM] [Info] Auto-choosing row-wise multi-threading, the overhead of testing was 0.020691 seconds.\n",
      "You can set `force_row_wise=true` to remove the overhead.\n",
      "And if memory is not enough, you can set `force_col_wise=true`.\n",
      "[LightGBM] [Info] Total Bins 8115\n",
      "[LightGBM] [Info] Number of data points in the train set: 28848, number of used features: 59\n",
      "[LightGBM] [Info] Start training from score 0.616547\n",
      "[LightGBM] [Info] Auto-choosing col-wise multi-threading, the overhead of testing was 0.012533 seconds.\n",
      "You can set `force_col_wise=true` to remove the overhead.\n",
      "[LightGBM] [Info] Total Bins 8115\n",
      "[LightGBM] [Info] Number of data points in the train set: 28752, number of used features: 59\n",
      "[LightGBM] [Info] Start training from score 0.510672\n",
      "[LightGBM] [Info] Auto-choosing row-wise multi-threading, the overhead of testing was 0.003239 seconds.\n",
      "You can set `force_row_wise=true` to remove the overhead.\n",
      "And if memory is not enough, you can set `force_col_wise=true`.\n",
      "[LightGBM] [Info] Total Bins 8115\n",
      "[LightGBM] [Info] Number of data points in the train set: 28704, number of used features: 59\n",
      "[LightGBM] [Info] Start training from score 0.594020\n",
      "[LightGBM] [Info] Auto-choosing col-wise multi-threading, the overhead of testing was 0.011465 seconds.\n",
      "You can set `force_col_wise=true` to remove the overhead.\n",
      "[LightGBM] [Info] Total Bins 8115\n",
      "[LightGBM] [Info] Number of data points in the train set: 28704, number of used features: 59\n",
      "[LightGBM] [Info] Start training from score 0.588469\n",
      "[LightGBM] [Info] Auto-choosing col-wise multi-threading, the overhead of testing was 0.011457 seconds.\n",
      "You can set `force_col_wise=true` to remove the overhead.\n",
      "[LightGBM] [Info] Total Bins 8115\n",
      "[LightGBM] [Info] Number of data points in the train set: 28512, number of used features: 59\n",
      "[LightGBM] [Info] Start training from score -0.000019\n",
      "[LightGBM] [Info] Auto-choosing col-wise multi-threading, the overhead of testing was 0.013760 seconds.\n",
      "You can set `force_col_wise=true` to remove the overhead.\n",
      "[LightGBM] [Info] Total Bins 8115\n",
      "[LightGBM] [Info] Number of data points in the train set: 28464, number of used features: 59\n",
      "[LightGBM] [Info] Start training from score 0.618320\n",
      "[LightGBM] [Info] Auto-choosing row-wise multi-threading, the overhead of testing was 0.004398 seconds.\n",
      "You can set `force_row_wise=true` to remove the overhead.\n",
      "And if memory is not enough, you can set `force_col_wise=true`.\n",
      "[LightGBM] [Info] Total Bins 8115\n",
      "[LightGBM] [Info] Number of data points in the train set: 28368, number of used features: 59\n",
      "[LightGBM] [Info] Start training from score -0.000013\n",
      "[LightGBM] [Info] Auto-choosing col-wise multi-threading, the overhead of testing was 0.013962 seconds.\n",
      "You can set `force_col_wise=true` to remove the overhead.\n",
      "[LightGBM] [Info] Total Bins 8115\n",
      "[LightGBM] [Info] Number of data points in the train set: 28176, number of used features: 59\n",
      "[LightGBM] [Info] Start training from score 0.000124\n",
      "[LightGBM] [Info] Auto-choosing col-wise multi-threading, the overhead of testing was 0.013737 seconds.\n",
      "You can set `force_col_wise=true` to remove the overhead.\n",
      "[LightGBM] [Info] Total Bins 8115\n",
      "[LightGBM] [Info] Number of data points in the train set: 27888, number of used features: 59\n",
      "[LightGBM] [Info] Start training from score -0.000000\n",
      "[LightGBM] [Info] Auto-choosing row-wise multi-threading, the overhead of testing was 0.015118 seconds.\n",
      "You can set `force_row_wise=true` to remove the overhead.\n",
      "And if memory is not enough, you can set `force_col_wise=true`.\n",
      "[LightGBM] [Info] Total Bins 8115\n",
      "[LightGBM] [Info] Number of data points in the train set: 27840, number of used features: 59\n",
      "[LightGBM] [Info] Start training from score 0.540182\n",
      "[LightGBM] [Info] Auto-choosing col-wise multi-threading, the overhead of testing was 0.015047 seconds.\n",
      "You can set `force_col_wise=true` to remove the overhead.\n",
      "[LightGBM] [Info] Total Bins 8115\n",
      "[LightGBM] [Info] Number of data points in the train set: 31200, number of used features: 59\n",
      "[LightGBM] [Info] Start training from score 0.595156\n",
      "[LightGBM] [Info] Auto-choosing row-wise multi-threading, the overhead of testing was 0.005384 seconds.\n",
      "You can set `force_row_wise=true` to remove the overhead.\n",
      "And if memory is not enough, you can set `force_col_wise=true`.\n",
      "[LightGBM] [Info] Total Bins 8115\n",
      "[LightGBM] [Info] Number of data points in the train set: 31200, number of used features: 59\n",
      "[LightGBM] [Info] Start training from score 0.582730\n",
      "[LightGBM] [Info] Auto-choosing col-wise multi-threading, the overhead of testing was 0.011826 seconds.\n",
      "You can set `force_col_wise=true` to remove the overhead.\n",
      "[LightGBM] [Info] Total Bins 8115\n",
      "[LightGBM] [Info] Number of data points in the train set: 31056, number of used features: 59\n",
      "[LightGBM] [Info] Start training from score 0.539110\n",
      "[LightGBM] [Info] Auto-choosing col-wise multi-threading, the overhead of testing was 0.011147 seconds.\n",
      "You can set `force_col_wise=true` to remove the overhead.\n",
      "[LightGBM] [Info] Total Bins 8115\n",
      "[LightGBM] [Info] Number of data points in the train set: 31056, number of used features: 59\n",
      "[LightGBM] [Info] Start training from score 0.740471\n",
      "[LightGBM] [Info] Auto-choosing row-wise multi-threading, the overhead of testing was 0.006381 seconds.\n",
      "You can set `force_row_wise=true` to remove the overhead.\n",
      "And if memory is not enough, you can set `force_col_wise=true`.\n",
      "[LightGBM] [Info] Total Bins 8115\n",
      "[LightGBM] [Info] Number of data points in the train set: 30912, number of used features: 59\n",
      "[LightGBM] [Info] Start training from score 0.530788\n",
      "[LightGBM] [Info] Auto-choosing col-wise multi-threading, the overhead of testing was 0.014506 seconds.\n",
      "You can set `force_col_wise=true` to remove the overhead.\n",
      "[LightGBM] [Info] Total Bins 8115\n",
      "[LightGBM] [Info] Number of data points in the train set: 30720, number of used features: 59\n",
      "[LightGBM] [Info] Start training from score 0.697685\n",
      "[LightGBM] [Info] Auto-choosing col-wise multi-threading, the overhead of testing was 0.011500 seconds.\n",
      "You can set `force_col_wise=true` to remove the overhead.\n",
      "[LightGBM] [Info] Total Bins 8115\n",
      "[LightGBM] [Info] Number of data points in the train set: 30768, number of used features: 59\n",
      "[LightGBM] [Info] Start training from score 0.000008\n",
      "[LightGBM] [Info] Auto-choosing col-wise multi-threading, the overhead of testing was 0.012943 seconds.\n",
      "You can set `force_col_wise=true` to remove the overhead.\n",
      "[LightGBM] [Info] Total Bins 8115\n",
      "[LightGBM] [Info] Number of data points in the train set: 30720, number of used features: 59\n",
      "[LightGBM] [Info] Start training from score 0.557494\n",
      "[LightGBM] [Info] Auto-choosing col-wise multi-threading, the overhead of testing was 0.013884 seconds.\n",
      "You can set `force_col_wise=true` to remove the overhead.\n",
      "[LightGBM] [Info] Total Bins 8115\n",
      "[LightGBM] [Info] Number of data points in the train set: 27408, number of used features: 59\n",
      "[LightGBM] [Info] Start training from score 0.582181\n",
      "[LightGBM] [Info] Auto-choosing row-wise multi-threading, the overhead of testing was 0.003299 seconds.\n",
      "You can set `force_row_wise=true` to remove the overhead.\n",
      "And if memory is not enough, you can set `force_col_wise=true`.\n",
      "[LightGBM] [Info] Total Bins 8115\n",
      "[LightGBM] [Info] Number of data points in the train set: 27408, number of used features: 59\n",
      "[LightGBM] [Info] Start training from score 0.600538\n",
      "[LightGBM] [Info] Auto-choosing row-wise multi-threading, the overhead of testing was 0.032162 seconds.\n",
      "You can set `force_row_wise=true` to remove the overhead.\n",
      "And if memory is not enough, you can set `force_col_wise=true`.\n",
      "[LightGBM] [Info] Total Bins 8115\n",
      "[LightGBM] [Info] Number of data points in the train set: 27408, number of used features: 59\n",
      "[LightGBM] [Info] Start training from score 0.575938\n",
      "[LightGBM] [Info] Auto-choosing col-wise multi-threading, the overhead of testing was 0.011734 seconds.\n",
      "You can set `force_col_wise=true` to remove the overhead.\n",
      "[LightGBM] [Info] Total Bins 8115\n",
      "[LightGBM] [Info] Number of data points in the train set: 30576, number of used features: 59\n",
      "[LightGBM] [Info] Start training from score 0.565337\n",
      "[LightGBM] [Info] Auto-choosing col-wise multi-threading, the overhead of testing was 0.014171 seconds.\n",
      "You can set `force_col_wise=true` to remove the overhead.\n",
      "[LightGBM] [Info] Total Bins 8115\n",
      "[LightGBM] [Info] Number of data points in the train set: 30384, number of used features: 59\n",
      "[LightGBM] [Info] Start training from score 0.545770\n",
      "[LightGBM] [Info] Auto-choosing col-wise multi-threading, the overhead of testing was 0.010913 seconds.\n",
      "You can set `force_col_wise=true` to remove the overhead.\n",
      "[LightGBM] [Info] Total Bins 8115\n",
      "[LightGBM] [Info] Number of data points in the train set: 28272, number of used features: 59\n",
      "[LightGBM] [Info] Start training from score 0.588513\n",
      "[LightGBM] [Info] Auto-choosing col-wise multi-threading, the overhead of testing was 0.011827 seconds.\n",
      "You can set `force_col_wise=true` to remove the overhead.\n",
      "[LightGBM] [Info] Total Bins 8115\n",
      "[LightGBM] [Info] Number of data points in the train set: 30336, number of used features: 59\n",
      "[LightGBM] [Info] Start training from score 0.559104\n",
      "[LightGBM] [Info] Auto-choosing col-wise multi-threading, the overhead of testing was 0.012561 seconds.\n",
      "You can set `force_col_wise=true` to remove the overhead.\n",
      "[LightGBM] [Info] Total Bins 8115\n",
      "[LightGBM] [Info] Number of data points in the train set: 30288, number of used features: 59\n",
      "[LightGBM] [Info] Start training from score 0.000001\n",
      "[LightGBM] [Info] Auto-choosing col-wise multi-threading, the overhead of testing was 0.010439 seconds.\n",
      "You can set `force_col_wise=true` to remove the overhead.\n",
      "[LightGBM] [Info] Total Bins 8115\n",
      "[LightGBM] [Info] Number of data points in the train set: 27744, number of used features: 59\n",
      "[LightGBM] [Info] Start training from score 0.556220\n",
      "[LightGBM] [Info] Auto-choosing col-wise multi-threading, the overhead of testing was 0.014657 seconds.\n",
      "You can set `force_col_wise=true` to remove the overhead.\n",
      "[LightGBM] [Info] Total Bins 8115\n",
      "[LightGBM] [Info] Number of data points in the train set: 27600, number of used features: 59\n",
      "[LightGBM] [Info] Start training from score 0.000000\n",
      "[LightGBM] [Info] Auto-choosing row-wise multi-threading, the overhead of testing was 0.012145 seconds.\n",
      "You can set `force_row_wise=true` to remove the overhead.\n",
      "And if memory is not enough, you can set `force_col_wise=true`.\n",
      "[LightGBM] [Info] Total Bins 8115\n",
      "[LightGBM] [Info] Number of data points in the train set: 27696, number of used features: 59\n",
      "[LightGBM] [Info] Start training from score 0.541770\n",
      "[LightGBM] [Info] Auto-choosing row-wise multi-threading, the overhead of testing was 0.008356 seconds.\n",
      "You can set `force_row_wise=true` to remove the overhead.\n",
      "And if memory is not enough, you can set `force_col_wise=true`.\n",
      "[LightGBM] [Info] Total Bins 8115\n",
      "[LightGBM] [Info] Number of data points in the train set: 27648, number of used features: 59\n",
      "[LightGBM] [Info] Start training from score 0.614096\n",
      "[LightGBM] [Info] Auto-choosing row-wise multi-threading, the overhead of testing was 0.003551 seconds.\n",
      "You can set `force_row_wise=true` to remove the overhead.\n",
      "And if memory is not enough, you can set `force_col_wise=true`.\n",
      "[LightGBM] [Info] Total Bins 6840\n",
      "[LightGBM] [Info] Number of data points in the train set: 29952, number of used features: 59\n",
      "[LightGBM] [Info] Start training from score 0.512268\n",
      "[LightGBM] [Info] Auto-choosing col-wise multi-threading, the overhead of testing was 0.013277 seconds.\n",
      "You can set `force_col_wise=true` to remove the overhead.\n",
      "[LightGBM] [Info] Total Bins 8115\n",
      "[LightGBM] [Info] Number of data points in the train set: 30048, number of used features: 59\n",
      "[LightGBM] [Info] Start training from score -0.000009\n",
      "[LightGBM] [Info] Auto-choosing col-wise multi-threading, the overhead of testing was 0.012222 seconds.\n",
      "You can set `force_col_wise=true` to remove the overhead.\n",
      "[LightGBM] [Info] Total Bins 8115\n",
      "[LightGBM] [Info] Number of data points in the train set: 30000, number of used features: 59\n",
      "[LightGBM] [Info] Start training from score 0.621279\n",
      "[LightGBM] [Info] Auto-choosing col-wise multi-threading, the overhead of testing was 0.011423 seconds.\n",
      "You can set `force_col_wise=true` to remove the overhead.\n",
      "[LightGBM] [Info] Total Bins 8115\n",
      "[LightGBM] [Info] Number of data points in the train set: 27168, number of used features: 59\n",
      "[LightGBM] [Info] Start training from score 0.615878\n",
      "[LightGBM] [Info] Auto-choosing row-wise multi-threading, the overhead of testing was 0.006142 seconds.\n",
      "You can set `force_row_wise=true` to remove the overhead.\n",
      "And if memory is not enough, you can set `force_col_wise=true`.\n",
      "[LightGBM] [Info] Total Bins 8115\n",
      "[LightGBM] [Info] Number of data points in the train set: 24048, number of used features: 59\n",
      "[LightGBM] [Info] Start training from score 0.597401\n",
      "[LightGBM] [Info] Auto-choosing row-wise multi-threading, the overhead of testing was 0.003841 seconds.\n",
      "You can set `force_row_wise=true` to remove the overhead.\n",
      "And if memory is not enough, you can set `force_col_wise=true`.\n",
      "[LightGBM] [Info] Total Bins 8115\n",
      "[LightGBM] [Info] Number of data points in the train set: 23712, number of used features: 59\n",
      "[LightGBM] [Info] Start training from score 0.618898\n",
      "[LightGBM] [Info] Auto-choosing col-wise multi-threading, the overhead of testing was 0.009124 seconds.\n",
      "You can set `force_col_wise=true` to remove the overhead.\n",
      "[LightGBM] [Info] Total Bins 8115\n",
      "[LightGBM] [Info] Number of data points in the train set: 23712, number of used features: 59\n",
      "[LightGBM] [Info] Start training from score 0.605582\n",
      "[LightGBM] [Info] Auto-choosing col-wise multi-threading, the overhead of testing was 0.008634 seconds.\n",
      "You can set `force_col_wise=true` to remove the overhead.\n",
      "[LightGBM] [Info] Total Bins 8115\n",
      "[LightGBM] [Info] Number of data points in the train set: 23568, number of used features: 59\n",
      "[LightGBM] [Info] Start training from score 0.592188\n",
      "[LightGBM] [Info] Auto-choosing col-wise multi-threading, the overhead of testing was 0.008700 seconds.\n",
      "You can set `force_col_wise=true` to remove the overhead.\n",
      "[LightGBM] [Info] Total Bins 8115\n",
      "[LightGBM] [Info] Number of data points in the train set: 23520, number of used features: 59\n",
      "[LightGBM] [Info] Start training from score 0.598550\n",
      "[LightGBM] [Info] Auto-choosing col-wise multi-threading, the overhead of testing was 0.037817 seconds.\n",
      "You can set `force_col_wise=true` to remove the overhead.\n",
      "[LightGBM] [Info] Total Bins 8115\n",
      "[LightGBM] [Info] Number of data points in the train set: 23376, number of used features: 59\n",
      "[LightGBM] [Info] Start training from score 0.554620\n",
      "[LightGBM] [Info] Auto-choosing col-wise multi-threading, the overhead of testing was 0.009827 seconds.\n",
      "You can set `force_col_wise=true` to remove the overhead.\n",
      "[LightGBM] [Info] Total Bins 8115\n",
      "[LightGBM] [Info] Number of data points in the train set: 23328, number of used features: 59\n",
      "[LightGBM] [Info] Start training from score 0.615040\n",
      "[LightGBM] [Info] Auto-choosing col-wise multi-threading, the overhead of testing was 0.009931 seconds.\n",
      "You can set `force_col_wise=true` to remove the overhead.\n",
      "[LightGBM] [Info] Total Bins 8115\n",
      "[LightGBM] [Info] Number of data points in the train set: 23328, number of used features: 59\n",
      "[LightGBM] [Info] Start training from score 0.000006\n",
      "[LightGBM] [Info] Auto-choosing col-wise multi-threading, the overhead of testing was 0.013982 seconds.\n",
      "You can set `force_col_wise=true` to remove the overhead.\n",
      "[LightGBM] [Info] Total Bins 8115\n",
      "[LightGBM] [Info] Number of data points in the train set: 23328, number of used features: 59\n",
      "[LightGBM] [Info] Start training from score 0.579569\n",
      "[LightGBM] [Info] Auto-choosing col-wise multi-threading, the overhead of testing was 0.009092 seconds.\n",
      "You can set `force_col_wise=true` to remove the overhead.\n",
      "[LightGBM] [Info] Total Bins 8115\n",
      "[LightGBM] [Info] Number of data points in the train set: 19776, number of used features: 59\n",
      "[LightGBM] [Info] Start training from score -0.000000\n",
      "[LightGBM] [Info] Auto-choosing col-wise multi-threading, the overhead of testing was 0.012335 seconds.\n",
      "You can set `force_col_wise=true` to remove the overhead.\n",
      "[LightGBM] [Info] Total Bins 8115\n",
      "[LightGBM] [Info] Number of data points in the train set: 23232, number of used features: 59\n",
      "[LightGBM] [Info] Start training from score 0.000011\n",
      "[LightGBM] [Info] Auto-choosing row-wise multi-threading, the overhead of testing was 0.003801 seconds.\n",
      "You can set `force_row_wise=true` to remove the overhead.\n",
      "And if memory is not enough, you can set `force_col_wise=true`.\n",
      "[LightGBM] [Info] Total Bins 8115\n",
      "[LightGBM] [Info] Number of data points in the train set: 23040, number of used features: 59\n",
      "[LightGBM] [Info] Start training from score 0.639419\n",
      "[LightGBM] [Info] Auto-choosing col-wise multi-threading, the overhead of testing was 0.061943 seconds.\n",
      "You can set `force_col_wise=true` to remove the overhead.\n",
      "[LightGBM] [Info] Total Bins 8115\n",
      "[LightGBM] [Info] Number of data points in the train set: 23040, number of used features: 59\n",
      "[LightGBM] [Info] Start training from score 0.571116\n",
      "[LightGBM] [Info] Auto-choosing col-wise multi-threading, the overhead of testing was 0.008553 seconds.\n",
      "You can set `force_col_wise=true` to remove the overhead.\n",
      "[LightGBM] [Info] Total Bins 8115\n",
      "[LightGBM] [Info] Number of data points in the train set: 23040, number of used features: 59\n",
      "[LightGBM] [Info] Start training from score 0.563638\n",
      "[LightGBM] [Info] Auto-choosing col-wise multi-threading, the overhead of testing was 0.009696 seconds.\n",
      "You can set `force_col_wise=true` to remove the overhead.\n",
      "[LightGBM] [Info] Total Bins 8115\n",
      "[LightGBM] [Info] Number of data points in the train set: 22896, number of used features: 59\n",
      "[LightGBM] [Info] Start training from score 0.555170\n",
      "[LightGBM] [Info] Auto-choosing col-wise multi-threading, the overhead of testing was 0.010830 seconds.\n",
      "You can set `force_col_wise=true` to remove the overhead.\n",
      "[LightGBM] [Info] Total Bins 7976\n",
      "[LightGBM] [Info] Number of data points in the train set: 22848, number of used features: 59\n",
      "[LightGBM] [Info] Start training from score 0.519321\n",
      "[LightGBM] [Info] Auto-choosing col-wise multi-threading, the overhead of testing was 0.010950 seconds.\n",
      "You can set `force_col_wise=true` to remove the overhead.\n",
      "[LightGBM] [Info] Total Bins 8115\n",
      "[LightGBM] [Info] Number of data points in the train set: 22848, number of used features: 59\n",
      "[LightGBM] [Info] Start training from score 0.603026\n",
      "[LightGBM] [Info] Auto-choosing row-wise multi-threading, the overhead of testing was 0.003781 seconds.\n",
      "You can set `force_row_wise=true` to remove the overhead.\n",
      "And if memory is not enough, you can set `force_col_wise=true`.\n",
      "[LightGBM] [Info] Total Bins 8115\n",
      "[LightGBM] [Info] Number of data points in the train set: 22656, number of used features: 59\n",
      "[LightGBM] [Info] Start training from score 0.635287\n",
      "[LightGBM] [Info] Auto-choosing col-wise multi-threading, the overhead of testing was 0.010841 seconds.\n",
      "You can set `force_col_wise=true` to remove the overhead.\n",
      "[LightGBM] [Info] Total Bins 8115\n",
      "[LightGBM] [Info] Number of data points in the train set: 22560, number of used features: 59\n",
      "[LightGBM] [Info] Start training from score 0.591108\n",
      "[LightGBM] [Info] Auto-choosing col-wise multi-threading, the overhead of testing was 0.008700 seconds.\n",
      "You can set `force_col_wise=true` to remove the overhead.\n",
      "[LightGBM] [Info] Total Bins 8115\n",
      "[LightGBM] [Info] Number of data points in the train set: 22464, number of used features: 59\n",
      "[LightGBM] [Info] Start training from score 0.622682\n",
      "[LightGBM] [Info] Auto-choosing col-wise multi-threading, the overhead of testing was 0.008379 seconds.\n",
      "You can set `force_col_wise=true` to remove the overhead.\n",
      "[LightGBM] [Info] Total Bins 8115\n",
      "[LightGBM] [Info] Number of data points in the train set: 22320, number of used features: 59\n",
      "[LightGBM] [Info] Start training from score 0.646354\n",
      "[LightGBM] [Info] Auto-choosing col-wise multi-threading, the overhead of testing was 0.014906 seconds.\n",
      "You can set `force_col_wise=true` to remove the overhead.\n",
      "[LightGBM] [Info] Total Bins 8115\n",
      "[LightGBM] [Info] Number of data points in the train set: 22176, number of used features: 59\n",
      "[LightGBM] [Info] Start training from score 0.633114\n",
      "[LightGBM] [Info] Auto-choosing col-wise multi-threading, the overhead of testing was 0.010958 seconds.\n",
      "You can set `force_col_wise=true` to remove the overhead.\n",
      "[LightGBM] [Info] Total Bins 8115\n",
      "[LightGBM] [Info] Number of data points in the train set: 27552, number of used features: 59\n",
      "[LightGBM] [Info] Start training from score 0.630319\n",
      "[LightGBM] [Info] Auto-choosing col-wise multi-threading, the overhead of testing was 0.012436 seconds.\n",
      "You can set `force_col_wise=true` to remove the overhead.\n",
      "[LightGBM] [Info] Total Bins 8115\n",
      "[LightGBM] [Info] Number of data points in the train set: 29856, number of used features: 59\n",
      "[LightGBM] [Info] Start training from score 0.555634\n",
      "[LightGBM] [Info] Auto-choosing col-wise multi-threading, the overhead of testing was 0.011852 seconds.\n",
      "You can set `force_col_wise=true` to remove the overhead.\n",
      "[LightGBM] [Info] Total Bins 8115\n",
      "[LightGBM] [Info] Number of data points in the train set: 29856, number of used features: 59\n",
      "[LightGBM] [Info] Start training from score 0.572590\n",
      "[LightGBM] [Info] Auto-choosing col-wise multi-threading, the overhead of testing was 0.011933 seconds.\n",
      "You can set `force_col_wise=true` to remove the overhead.\n",
      "[LightGBM] [Info] Total Bins 8115\n",
      "[LightGBM] [Info] Number of data points in the train set: 29760, number of used features: 59\n",
      "[LightGBM] [Info] Start training from score 0.552455\n",
      "[LightGBM] [Info] Auto-choosing col-wise multi-threading, the overhead of testing was 0.016413 seconds.\n",
      "You can set `force_col_wise=true` to remove the overhead.\n",
      "[LightGBM] [Info] Total Bins 8115\n",
      "[LightGBM] [Info] Number of data points in the train set: 29616, number of used features: 59\n",
      "[LightGBM] [Info] Start training from score 0.602144\n",
      "[LightGBM] [Info] Auto-choosing col-wise multi-threading, the overhead of testing was 0.013078 seconds.\n",
      "You can set `force_col_wise=true` to remove the overhead.\n",
      "[LightGBM] [Info] Total Bins 8115\n",
      "[LightGBM] [Info] Number of data points in the train set: 33024, number of used features: 59\n",
      "[LightGBM] [Info] Start training from score 0.546334\n",
      "[LightGBM] [Info] Auto-choosing col-wise multi-threading, the overhead of testing was 0.012613 seconds.\n",
      "You can set `force_col_wise=true` to remove the overhead.\n",
      "[LightGBM] [Info] Total Bins 8115\n",
      "[LightGBM] [Info] Number of data points in the train set: 32976, number of used features: 59\n",
      "[LightGBM] [Info] Start training from score -0.000002\n",
      "[LightGBM] [Info] Auto-choosing col-wise multi-threading, the overhead of testing was 0.014980 seconds.\n",
      "You can set `force_col_wise=true` to remove the overhead.\n",
      "[LightGBM] [Info] Total Bins 8115\n",
      "[LightGBM] [Info] Number of data points in the train set: 32784, number of used features: 59\n",
      "[LightGBM] [Info] Start training from score 0.000028\n",
      "[LightGBM] [Info] Auto-choosing col-wise multi-threading, the overhead of testing was 0.012302 seconds.\n",
      "You can set `force_col_wise=true` to remove the overhead.\n",
      "[LightGBM] [Info] Total Bins 8115\n",
      "[LightGBM] [Info] Number of data points in the train set: 32784, number of used features: 59\n",
      "[LightGBM] [Info] Start training from score 0.735477\n",
      "[LightGBM] [Info] Auto-choosing col-wise multi-threading, the overhead of testing was 0.013710 seconds.\n",
      "You can set `force_col_wise=true` to remove the overhead.\n",
      "[LightGBM] [Info] Total Bins 8115\n",
      "[LightGBM] [Info] Number of data points in the train set: 36576, number of used features: 59\n",
      "[LightGBM] [Info] Start training from score 0.624739\n",
      "[LightGBM] [Info] Auto-choosing col-wise multi-threading, the overhead of testing was 0.012731 seconds.\n",
      "You can set `force_col_wise=true` to remove the overhead.\n",
      "[LightGBM] [Info] Total Bins 8115\n",
      "[LightGBM] [Info] Number of data points in the train set: 36576, number of used features: 59\n",
      "[LightGBM] [Info] Start training from score 0.581563\n",
      "[LightGBM] [Info] Auto-choosing col-wise multi-threading, the overhead of testing was 0.013577 seconds.\n",
      "You can set `force_col_wise=true` to remove the overhead.\n",
      "[LightGBM] [Info] Total Bins 8115\n",
      "[LightGBM] [Info] Number of data points in the train set: 36576, number of used features: 59\n",
      "[LightGBM] [Info] Start training from score 0.619640\n",
      "[LightGBM] [Info] Auto-choosing col-wise multi-threading, the overhead of testing was 0.015890 seconds.\n",
      "You can set `force_col_wise=true` to remove the overhead.\n",
      "[LightGBM] [Info] Total Bins 8115\n",
      "[LightGBM] [Info] Number of data points in the train set: 36576, number of used features: 59\n",
      "[LightGBM] [Info] Start training from score 0.634092\n",
      "[LightGBM] [Info] Auto-choosing col-wise multi-threading, the overhead of testing was 0.013435 seconds.\n",
      "You can set `force_col_wise=true` to remove the overhead.\n",
      "[LightGBM] [Info] Total Bins 8115\n",
      "[LightGBM] [Info] Number of data points in the train set: 36576, number of used features: 59\n",
      "[LightGBM] [Info] Start training from score 0.533875\n",
      "[LightGBM] [Info] Auto-choosing row-wise multi-threading, the overhead of testing was 0.003526 seconds.\n",
      "You can set `force_row_wise=true` to remove the overhead.\n",
      "And if memory is not enough, you can set `force_col_wise=true`.\n",
      "[LightGBM] [Info] Total Bins 8115\n",
      "[LightGBM] [Info] Number of data points in the train set: 27264, number of used features: 59\n",
      "[LightGBM] [Info] Start training from score 0.546950\n",
      "[LightGBM] [Info] Auto-choosing col-wise multi-threading, the overhead of testing was 0.010622 seconds.\n",
      "You can set `force_col_wise=true` to remove the overhead.\n",
      "[LightGBM] [Info] Total Bins 8115\n",
      "[LightGBM] [Info] Number of data points in the train set: 27264, number of used features: 59\n",
      "[LightGBM] [Info] Start training from score 0.000009\n",
      "[LightGBM] [Info] Auto-choosing col-wise multi-threading, the overhead of testing was 0.015086 seconds.\n",
      "You can set `force_col_wise=true` to remove the overhead.\n",
      "[LightGBM] [Info] Total Bins 8115\n",
      "[LightGBM] [Info] Number of data points in the train set: 27264, number of used features: 59\n",
      "[LightGBM] [Info] Start training from score 0.000029\n",
      "[LightGBM] [Info] Auto-choosing col-wise multi-threading, the overhead of testing was 0.012329 seconds.\n",
      "You can set `force_col_wise=true` to remove the overhead.\n",
      "[LightGBM] [Info] Total Bins 8115\n",
      "[LightGBM] [Info] Number of data points in the train set: 27216, number of used features: 59\n",
      "[LightGBM] [Info] Start training from score 0.599908\n",
      "[LightGBM] [Info] Auto-choosing col-wise multi-threading, the overhead of testing was 0.016135 seconds.\n",
      "You can set `force_col_wise=true` to remove the overhead.\n",
      "[LightGBM] [Info] Total Bins 8115\n",
      "[LightGBM] [Info] Number of data points in the train set: 32016, number of used features: 59\n",
      "[LightGBM] [Info] Start training from score 0.558971\n",
      "[LightGBM] [Info] Auto-choosing col-wise multi-threading, the overhead of testing was 0.010739 seconds.\n",
      "You can set `force_col_wise=true` to remove the overhead.\n",
      "[LightGBM] [Info] Total Bins 8115\n",
      "[LightGBM] [Info] Number of data points in the train set: 31968, number of used features: 59\n",
      "[LightGBM] [Info] Start training from score 0.548059\n",
      "[LightGBM] [Info] Auto-choosing col-wise multi-threading, the overhead of testing was 0.010432 seconds.\n",
      "You can set `force_col_wise=true` to remove the overhead.\n",
      "[LightGBM] [Info] Total Bins 8115\n",
      "[LightGBM] [Info] Number of data points in the train set: 31968, number of used features: 59\n",
      "[LightGBM] [Info] Start training from score 0.551772\n",
      "[LightGBM] [Info] Auto-choosing col-wise multi-threading, the overhead of testing was 0.017948 seconds.\n",
      "You can set `force_col_wise=true` to remove the overhead.\n",
      "[LightGBM] [Info] Total Bins 8115\n",
      "[LightGBM] [Info] Number of data points in the train set: 36576, number of used features: 59\n",
      "[LightGBM] [Info] Start training from score 0.575573\n",
      "[LightGBM] [Info] Auto-choosing col-wise multi-threading, the overhead of testing was 0.012571 seconds.\n",
      "You can set `force_col_wise=true` to remove the overhead.\n",
      "[LightGBM] [Info] Total Bins 8115\n",
      "[LightGBM] [Info] Number of data points in the train set: 35904, number of used features: 59\n",
      "[LightGBM] [Info] Start training from score 0.643047\n",
      "[LightGBM] [Info] Auto-choosing col-wise multi-threading, the overhead of testing was 0.012828 seconds.\n",
      "You can set `force_col_wise=true` to remove the overhead.\n",
      "[LightGBM] [Info] Total Bins 8115\n",
      "[LightGBM] [Info] Number of data points in the train set: 35808, number of used features: 59\n",
      "[LightGBM] [Info] Start training from score 0.804472\n",
      "[LightGBM] [Info] Auto-choosing row-wise multi-threading, the overhead of testing was 0.003878 seconds.\n",
      "You can set `force_row_wise=true` to remove the overhead.\n",
      "And if memory is not enough, you can set `force_col_wise=true`.\n",
      "[LightGBM] [Info] Total Bins 8115\n",
      "[LightGBM] [Info] Number of data points in the train set: 35328, number of used features: 59\n",
      "[LightGBM] [Info] Start training from score 0.556990\n",
      "[LightGBM] [Info] Auto-choosing row-wise multi-threading, the overhead of testing was 0.004106 seconds.\n",
      "You can set `force_row_wise=true` to remove the overhead.\n",
      "And if memory is not enough, you can set `force_col_wise=true`.\n",
      "[LightGBM] [Info] Total Bins 8115\n",
      "[LightGBM] [Info] Number of data points in the train set: 35232, number of used features: 59\n",
      "[LightGBM] [Info] Start training from score 0.663273\n",
      "[LightGBM] [Info] Auto-choosing row-wise multi-threading, the overhead of testing was 0.004697 seconds.\n",
      "You can set `force_row_wise=true` to remove the overhead.\n",
      "And if memory is not enough, you can set `force_col_wise=true`.\n",
      "[LightGBM] [Info] Total Bins 8115\n",
      "[LightGBM] [Info] Number of data points in the train set: 29376, number of used features: 59\n",
      "[LightGBM] [Info] Start training from score 0.579822\n",
      "[LightGBM] [Info] Auto-choosing col-wise multi-threading, the overhead of testing was 0.010100 seconds.\n",
      "You can set `force_col_wise=true` to remove the overhead.\n",
      "[LightGBM] [Info] Total Bins 8115\n",
      "[LightGBM] [Info] Number of data points in the train set: 29328, number of used features: 59\n",
      "[LightGBM] [Info] Start training from score 0.588719\n",
      "[LightGBM] [Info] Auto-choosing col-wise multi-threading, the overhead of testing was 0.011830 seconds.\n",
      "You can set `force_col_wise=true` to remove the overhead.\n",
      "[LightGBM] [Info] Total Bins 8115\n",
      "[LightGBM] [Info] Number of data points in the train set: 29328, number of used features: 59\n",
      "[LightGBM] [Info] Start training from score 0.598671\n",
      "[LightGBM] [Info] Auto-choosing col-wise multi-threading, the overhead of testing was 0.010699 seconds.\n",
      "You can set `force_col_wise=true` to remove the overhead.\n",
      "[LightGBM] [Info] Total Bins 8115\n",
      "[LightGBM] [Info] Number of data points in the train set: 29328, number of used features: 59\n",
      "[LightGBM] [Info] Start training from score 0.548881\n",
      "[LightGBM] [Info] Auto-choosing col-wise multi-threading, the overhead of testing was 0.013131 seconds.\n",
      "You can set `force_col_wise=true` to remove the overhead.\n",
      "[LightGBM] [Info] Total Bins 8115\n",
      "[LightGBM] [Info] Number of data points in the train set: 34992, number of used features: 59\n",
      "[LightGBM] [Info] Start training from score 0.534065\n",
      "[LightGBM] [Info] Auto-choosing col-wise multi-threading, the overhead of testing was 0.010580 seconds.\n",
      "You can set `force_col_wise=true` to remove the overhead.\n",
      "[LightGBM] [Info] Total Bins 8115\n",
      "[LightGBM] [Info] Number of data points in the train set: 34896, number of used features: 59\n",
      "[LightGBM] [Info] Start training from score 0.559505\n",
      "[LightGBM] [Info] Auto-choosing col-wise multi-threading, the overhead of testing was 0.013387 seconds.\n",
      "You can set `force_col_wise=true` to remove the overhead.\n",
      "[LightGBM] [Info] Total Bins 8115\n",
      "[LightGBM] [Info] Number of data points in the train set: 34896, number of used features: 59\n",
      "[LightGBM] [Info] Start training from score 0.712885\n",
      "[LightGBM] [Info] Auto-choosing col-wise multi-threading, the overhead of testing was 0.014000 seconds.\n",
      "You can set `force_col_wise=true` to remove the overhead.\n",
      "[LightGBM] [Info] Total Bins 8115\n",
      "[LightGBM] [Info] Number of data points in the train set: 34464, number of used features: 59\n",
      "[LightGBM] [Info] Start training from score 0.731164\n",
      "[LightGBM] [Info] Auto-choosing col-wise multi-threading, the overhead of testing was 0.012587 seconds.\n",
      "You can set `force_col_wise=true` to remove the overhead.\n",
      "[LightGBM] [Info] Total Bins 8115\n",
      "[LightGBM] [Info] Number of data points in the train set: 34416, number of used features: 59\n",
      "[LightGBM] [Info] Start training from score 0.534953\n",
      "[LightGBM] [Info] Auto-choosing col-wise multi-threading, the overhead of testing was 0.012987 seconds.\n",
      "You can set `force_col_wise=true` to remove the overhead.\n",
      "[LightGBM] [Info] Total Bins 8115\n",
      "[LightGBM] [Info] Number of data points in the train set: 34128, number of used features: 59\n",
      "[LightGBM] [Info] Start training from score 0.000000\n",
      "[LightGBM] [Info] Auto-choosing col-wise multi-threading, the overhead of testing was 0.009499 seconds.\n",
      "You can set `force_col_wise=true` to remove the overhead.\n",
      "[LightGBM] [Info] Total Bins 8115\n",
      "[LightGBM] [Info] Number of data points in the train set: 34080, number of used features: 59\n",
      "[LightGBM] [Info] Start training from score 0.714829\n",
      "[LightGBM] [Info] Auto-choosing col-wise multi-threading, the overhead of testing was 0.011838 seconds.\n",
      "You can set `force_col_wise=true` to remove the overhead.\n",
      "[LightGBM] [Info] Total Bins 8115\n",
      "[LightGBM] [Info] Number of data points in the train set: 33984, number of used features: 59\n",
      "[LightGBM] [Info] Start training from score 0.565128\n",
      "[LightGBM] [Info] Auto-choosing col-wise multi-threading, the overhead of testing was 0.010571 seconds.\n",
      "You can set `force_col_wise=true` to remove the overhead.\n",
      "[LightGBM] [Info] Total Bins 8115\n",
      "[LightGBM] [Info] Number of data points in the train set: 31440, number of used features: 59\n",
      "[LightGBM] [Info] Start training from score 0.556200\n",
      "[LightGBM] [Info] Auto-choosing col-wise multi-threading, the overhead of testing was 0.009885 seconds.\n",
      "You can set `force_col_wise=true` to remove the overhead.\n",
      "[LightGBM] [Info] Total Bins 8115\n",
      "[LightGBM] [Info] Number of data points in the train set: 31392, number of used features: 59\n",
      "[LightGBM] [Info] Start training from score 0.577248\n",
      "[LightGBM] [Info] Auto-choosing col-wise multi-threading, the overhead of testing was 0.012440 seconds.\n",
      "You can set `force_col_wise=true` to remove the overhead.\n",
      "[LightGBM] [Info] Total Bins 8115\n",
      "[LightGBM] [Info] Number of data points in the train set: 31392, number of used features: 59\n",
      "[LightGBM] [Info] Start training from score 0.552267\n"
     ]
    }
   ],
   "source": [
    "all_preds = []\n",
    "all_metrics = []\n",
    "#We can parallelize this loop to run this faster\n",
    "for lcl_id in tqdm(lcl_ids):\n",
    "    for model_config in models_to_run:\n",
    "        model_config = model_config.clone()\n",
    "        X_train, y_train, y_train_orig = feat_config.get_X_y(train_df.loc[train_df.LCLid==lcl_id,:], categorical=False, exogenous=False)\n",
    "        X_test, _, y_test_orig = feat_config.get_X_y(test_df.loc[test_df.LCLid==lcl_id,:], categorical=False, exogenous=False)\n",
    "        transformer = transformer_pipelines[lcl_id]\n",
    "        with warnings.catch_warnings():\n",
    "            warnings.simplefilter(\"ignore\")\n",
    "            y_pred, metrics, feat_df = evaluate_model(model_config, feat_config, missing_value_config, transformer, X_train, y_train, X_test, y_test_orig, y_train_orig)\n",
    "        y_pred.name = \"predictions\"\n",
    "        y_pred = y_pred.to_frame()\n",
    "        y_pred['LCLid'] = lcl_id\n",
    "        y_pred['Algorithm'] = model_config.name + \"_auto_stat\"\n",
    "        metrics[\"LCLid\"] = lcl_id\n",
    "        metrics[\"Algorithm\"] = model_config.name + \"_auto_stat\"\n",
    "        y_pred['energy_consumption'] = y_test_orig.values\n",
    "        all_preds.append(y_pred)\n",
    "        all_metrics.append(metrics)"
   ]
  },
  {
   "cell_type": "code",
   "execution_count": 16,
   "id": "5ef397c8-d658-48e7-91e1-224319042e57",
   "metadata": {},
   "outputs": [
    {
     "data": {
      "text/html": [
       "<div>\n",
       "<style scoped>\n",
       "    .dataframe tbody tr th:only-of-type {\n",
       "        vertical-align: middle;\n",
       "    }\n",
       "\n",
       "    .dataframe tbody tr th {\n",
       "        vertical-align: top;\n",
       "    }\n",
       "\n",
       "    .dataframe thead th {\n",
       "        text-align: right;\n",
       "    }\n",
       "</style>\n",
       "<table border=\"1\" class=\"dataframe\">\n",
       "  <thead>\n",
       "    <tr style=\"text-align: right;\">\n",
       "      <th></th>\n",
       "      <th>predictions</th>\n",
       "      <th>LCLid</th>\n",
       "      <th>Algorithm</th>\n",
       "      <th>energy_consumption</th>\n",
       "    </tr>\n",
       "    <tr>\n",
       "      <th>timestamp</th>\n",
       "      <th></th>\n",
       "      <th></th>\n",
       "      <th></th>\n",
       "      <th></th>\n",
       "    </tr>\n",
       "  </thead>\n",
       "  <tbody>\n",
       "    <tr>\n",
       "      <th>2014-02-01 00:00:00</th>\n",
       "      <td>0.069642</td>\n",
       "      <td>MAC000061</td>\n",
       "      <td>Lasso Regression_auto_stat</td>\n",
       "      <td>0.066</td>\n",
       "    </tr>\n",
       "    <tr>\n",
       "      <th>2014-02-01 00:30:00</th>\n",
       "      <td>0.056010</td>\n",
       "      <td>MAC000061</td>\n",
       "      <td>Lasso Regression_auto_stat</td>\n",
       "      <td>0.063</td>\n",
       "    </tr>\n",
       "    <tr>\n",
       "      <th>2014-02-01 01:00:00</th>\n",
       "      <td>0.065247</td>\n",
       "      <td>MAC000061</td>\n",
       "      <td>Lasso Regression_auto_stat</td>\n",
       "      <td>0.040</td>\n",
       "    </tr>\n",
       "    <tr>\n",
       "      <th>2014-02-01 01:30:00</th>\n",
       "      <td>0.045616</td>\n",
       "      <td>MAC000061</td>\n",
       "      <td>Lasso Regression_auto_stat</td>\n",
       "      <td>0.020</td>\n",
       "    </tr>\n",
       "    <tr>\n",
       "      <th>2014-02-01 02:00:00</th>\n",
       "      <td>0.030788</td>\n",
       "      <td>MAC000061</td>\n",
       "      <td>Lasso Regression_auto_stat</td>\n",
       "      <td>0.018</td>\n",
       "    </tr>\n",
       "  </tbody>\n",
       "</table>\n",
       "</div>"
      ],
      "text/plain": [
       "                     predictions      LCLid                   Algorithm  \\\n",
       "timestamp                                                                 \n",
       "2014-02-01 00:00:00     0.069642  MAC000061  Lasso Regression_auto_stat   \n",
       "2014-02-01 00:30:00     0.056010  MAC000061  Lasso Regression_auto_stat   \n",
       "2014-02-01 01:00:00     0.065247  MAC000061  Lasso Regression_auto_stat   \n",
       "2014-02-01 01:30:00     0.045616  MAC000061  Lasso Regression_auto_stat   \n",
       "2014-02-01 02:00:00     0.030788  MAC000061  Lasso Regression_auto_stat   \n",
       "\n",
       "                     energy_consumption  \n",
       "timestamp                                \n",
       "2014-02-01 00:00:00               0.066  \n",
       "2014-02-01 00:30:00               0.063  \n",
       "2014-02-01 01:00:00               0.040  \n",
       "2014-02-01 01:30:00               0.020  \n",
       "2014-02-01 02:00:00               0.018  "
      ]
     },
     "execution_count": 16,
     "metadata": {},
     "output_type": "execute_result"
    }
   ],
   "source": [
    "pred_df = pd.concat(all_preds)\n",
    "pred_df.head()"
   ]
  },
  {
   "cell_type": "code",
   "execution_count": 17,
   "id": "be827e9e-a406-4ee8-8fd8-9923f1c8bda7",
   "metadata": {},
   "outputs": [
    {
     "data": {
      "text/html": [
       "<div>\n",
       "<style scoped>\n",
       "    .dataframe tbody tr th:only-of-type {\n",
       "        vertical-align: middle;\n",
       "    }\n",
       "\n",
       "    .dataframe tbody tr th {\n",
       "        vertical-align: top;\n",
       "    }\n",
       "\n",
       "    .dataframe thead th {\n",
       "        text-align: right;\n",
       "    }\n",
       "</style>\n",
       "<table border=\"1\" class=\"dataframe\">\n",
       "  <thead>\n",
       "    <tr style=\"text-align: right;\">\n",
       "      <th></th>\n",
       "      <th>Algorithm</th>\n",
       "      <th>MAE</th>\n",
       "      <th>MSE</th>\n",
       "      <th>MASE</th>\n",
       "      <th>Forecast Bias</th>\n",
       "      <th>LCLid</th>\n",
       "    </tr>\n",
       "  </thead>\n",
       "  <tbody>\n",
       "    <tr>\n",
       "      <th>0</th>\n",
       "      <td>Lasso Regression_auto_stat</td>\n",
       "      <td>0.038421</td>\n",
       "      <td>0.003256</td>\n",
       "      <td>1.101653</td>\n",
       "      <td>-1.298099</td>\n",
       "      <td>MAC000061</td>\n",
       "    </tr>\n",
       "    <tr>\n",
       "      <th>1</th>\n",
       "      <td>XGB Random Forest_auto_stat</td>\n",
       "      <td>0.039043</td>\n",
       "      <td>0.003365</td>\n",
       "      <td>1.119484</td>\n",
       "      <td>-0.857442</td>\n",
       "      <td>MAC000061</td>\n",
       "    </tr>\n",
       "    <tr>\n",
       "      <th>2</th>\n",
       "      <td>LightGBM_auto_stat</td>\n",
       "      <td>0.035900</td>\n",
       "      <td>0.003157</td>\n",
       "      <td>1.029375</td>\n",
       "      <td>3.413630</td>\n",
       "      <td>MAC000061</td>\n",
       "    </tr>\n",
       "    <tr>\n",
       "      <th>3</th>\n",
       "      <td>Lasso Regression_auto_stat</td>\n",
       "      <td>0.069468</td>\n",
       "      <td>0.024895</td>\n",
       "      <td>0.916107</td>\n",
       "      <td>1.095146</td>\n",
       "      <td>MAC000062</td>\n",
       "    </tr>\n",
       "    <tr>\n",
       "      <th>4</th>\n",
       "      <td>XGB Random Forest_auto_stat</td>\n",
       "      <td>0.072109</td>\n",
       "      <td>0.025268</td>\n",
       "      <td>0.950944</td>\n",
       "      <td>-0.976155</td>\n",
       "      <td>MAC000062</td>\n",
       "    </tr>\n",
       "  </tbody>\n",
       "</table>\n",
       "</div>"
      ],
      "text/plain": [
       "                     Algorithm       MAE       MSE      MASE  Forecast Bias  \\\n",
       "0   Lasso Regression_auto_stat  0.038421  0.003256  1.101653      -1.298099   \n",
       "1  XGB Random Forest_auto_stat  0.039043  0.003365  1.119484      -0.857442   \n",
       "2           LightGBM_auto_stat  0.035900  0.003157  1.029375       3.413630   \n",
       "3   Lasso Regression_auto_stat  0.069468  0.024895  0.916107       1.095146   \n",
       "4  XGB Random Forest_auto_stat  0.072109  0.025268  0.950944      -0.976155   \n",
       "\n",
       "       LCLid  \n",
       "0  MAC000061  \n",
       "1  MAC000061  \n",
       "2  MAC000061  \n",
       "3  MAC000062  \n",
       "4  MAC000062  "
      ]
     },
     "execution_count": 17,
     "metadata": {},
     "output_type": "execute_result"
    }
   ],
   "source": [
    "metrics_df = pd.DataFrame(all_metrics)\n",
    "metrics_df.head()"
   ]
  },
  {
   "cell_type": "markdown",
   "id": "e5e51169-e983-44f0-97b0-c39d988ce549",
   "metadata": {
    "tags": []
   },
   "source": [
    "# Evaluation of ML Forecast"
   ]
  },
  {
   "cell_type": "code",
   "execution_count": 18,
   "id": "e288dfc0-63a6-422e-8dde-a436bacb22cc",
   "metadata": {},
   "outputs": [],
   "source": [
    "from src.utils import ts_utils"
   ]
  },
  {
   "cell_type": "code",
   "execution_count": 19,
   "id": "40cab8d2-3a10-4eff-a580-4a849f2eb44b",
   "metadata": {},
   "outputs": [
    {
     "data": {
      "text/html": [
       "<div>\n",
       "<style scoped>\n",
       "    .dataframe tbody tr th:only-of-type {\n",
       "        vertical-align: middle;\n",
       "    }\n",
       "\n",
       "    .dataframe tbody tr th {\n",
       "        vertical-align: top;\n",
       "    }\n",
       "\n",
       "    .dataframe thead th {\n",
       "        text-align: right;\n",
       "    }\n",
       "</style>\n",
       "<table border=\"1\" class=\"dataframe\">\n",
       "  <thead>\n",
       "    <tr style=\"text-align: right;\">\n",
       "      <th></th>\n",
       "      <th>Algorithm</th>\n",
       "      <th>MAE</th>\n",
       "      <th>MSE</th>\n",
       "      <th>meanMASE</th>\n",
       "      <th>Forecast Bias</th>\n",
       "    </tr>\n",
       "  </thead>\n",
       "  <tbody>\n",
       "    <tr>\n",
       "      <th>0</th>\n",
       "      <td>Naive</td>\n",
       "      <td>0.085661</td>\n",
       "      <td>0.044766</td>\n",
       "      <td>1.049933</td>\n",
       "      <td>0.017577</td>\n",
       "    </tr>\n",
       "    <tr>\n",
       "      <th>1</th>\n",
       "      <td>Seasonal Naive</td>\n",
       "      <td>0.121700</td>\n",
       "      <td>0.071501</td>\n",
       "      <td>1.486788</td>\n",
       "      <td>4.066731</td>\n",
       "    </tr>\n",
       "    <tr>\n",
       "      <th>2</th>\n",
       "      <td>Lasso Regression</td>\n",
       "      <td>0.077008</td>\n",
       "      <td>0.025566</td>\n",
       "      <td>0.945963</td>\n",
       "      <td>0.993247</td>\n",
       "    </tr>\n",
       "    <tr>\n",
       "      <th>3</th>\n",
       "      <td>XGB Random Forest</td>\n",
       "      <td>0.077147</td>\n",
       "      <td>0.029565</td>\n",
       "      <td>0.928695</td>\n",
       "      <td>-0.757254</td>\n",
       "    </tr>\n",
       "    <tr>\n",
       "      <th>4</th>\n",
       "      <td>LightGBM</td>\n",
       "      <td>0.074996</td>\n",
       "      <td>0.026787</td>\n",
       "      <td>0.913991</td>\n",
       "      <td>2.614111</td>\n",
       "    </tr>\n",
       "  </tbody>\n",
       "</table>\n",
       "</div>"
      ],
      "text/plain": [
       "           Algorithm       MAE       MSE  meanMASE  Forecast Bias\n",
       "0              Naive  0.085661  0.044766  1.049933       0.017577\n",
       "1     Seasonal Naive  0.121700  0.071501  1.486788       4.066731\n",
       "2   Lasso Regression  0.077008  0.025566  0.945963       0.993247\n",
       "3  XGB Random Forest  0.077147  0.029565  0.928695      -0.757254\n",
       "4           LightGBM  0.074996  0.026787  0.913991       2.614111"
      ]
     },
     "execution_count": 19,
     "metadata": {},
     "output_type": "execute_result"
    }
   ],
   "source": [
    "baseline_aggregate_metrics_df"
   ]
  },
  {
   "cell_type": "code",
   "execution_count": 20,
   "id": "64157814-0544-485a-bdcc-d97f4ae9e0ed",
   "metadata": {},
   "outputs": [],
   "source": [
    "metrics = baseline_aggregate_metrics_df.to_dict(orient=\"records\")"
   ]
  },
  {
   "cell_type": "code",
   "execution_count": 21,
   "id": "3ca44213-d681-4d4d-bd23-fcd4e32e491c",
   "metadata": {},
   "outputs": [],
   "source": [
    "for model in models_to_run:\n",
    "    pred_mask = pred_df.Algorithm == model.name + \"_auto_stat\"\n",
    "    metric_mask = metrics_df.Algorithm == model.name + \"_auto_stat\"\n",
    "    metrics.append(\n",
    "        {\n",
    "            \"Algorithm\": model.name + \"_auto_stat\",\n",
    "            \"MAE\": ts_utils.mae(\n",
    "                pred_df.loc[pred_mask, \"energy_consumption\"],\n",
    "                pred_df.loc[pred_mask, \"predictions\"],\n",
    "            ),\n",
    "            \"MSE\": ts_utils.mse(\n",
    "                pred_df.loc[pred_mask, \"energy_consumption\"],\n",
    "                pred_df.loc[pred_mask, \"predictions\"],\n",
    "            ),\n",
    "            \"meanMASE\": metrics_df.loc[metric_mask, \"MASE\"].mean(),\n",
    "            \"Forecast Bias\": ts_utils.forecast_bias_aggregate(\n",
    "                pred_df.loc[pred_mask, \"energy_consumption\"],\n",
    "                pred_df.loc[pred_mask, \"predictions\"],\n",
    "            ),\n",
    "        }\n",
    "    )"
   ]
  },
  {
   "cell_type": "code",
   "execution_count": 22,
   "id": "08744668-4986-43f1-b744-fd5ad49353c4",
   "metadata": {},
   "outputs": [
    {
     "data": {
      "text/html": [
       "<style type=\"text/css\">\n",
       "#T_25de8_row0_col4 {\n",
       "  color: black;\n",
       "  background-color: lightgreen;\n",
       "}\n",
       "#T_25de8_row2_col2, #T_25de8_row4_col1, #T_25de8_row4_col3 {\n",
       "  background-color: lightgreen;\n",
       "}\n",
       "</style>\n",
       "<table id=\"T_25de8\">\n",
       "  <thead>\n",
       "    <tr>\n",
       "      <th class=\"blank level0\" >&nbsp;</th>\n",
       "      <th id=\"T_25de8_level0_col0\" class=\"col_heading level0 col0\" >Algorithm</th>\n",
       "      <th id=\"T_25de8_level0_col1\" class=\"col_heading level0 col1\" >MAE</th>\n",
       "      <th id=\"T_25de8_level0_col2\" class=\"col_heading level0 col2\" >MSE</th>\n",
       "      <th id=\"T_25de8_level0_col3\" class=\"col_heading level0 col3\" >meanMASE</th>\n",
       "      <th id=\"T_25de8_level0_col4\" class=\"col_heading level0 col4\" >Forecast Bias</th>\n",
       "    </tr>\n",
       "  </thead>\n",
       "  <tbody>\n",
       "    <tr>\n",
       "      <th id=\"T_25de8_level0_row0\" class=\"row_heading level0 row0\" >0</th>\n",
       "      <td id=\"T_25de8_row0_col0\" class=\"data row0 col0\" >Naive</td>\n",
       "      <td id=\"T_25de8_row0_col1\" class=\"data row0 col1\" >0.086</td>\n",
       "      <td id=\"T_25de8_row0_col2\" class=\"data row0 col2\" >0.045</td>\n",
       "      <td id=\"T_25de8_row0_col3\" class=\"data row0 col3\" >1.050</td>\n",
       "      <td id=\"T_25de8_row0_col4\" class=\"data row0 col4\" >0.02%</td>\n",
       "    </tr>\n",
       "    <tr>\n",
       "      <th id=\"T_25de8_level0_row1\" class=\"row_heading level0 row1\" >1</th>\n",
       "      <td id=\"T_25de8_row1_col0\" class=\"data row1 col0\" >Seasonal Naive</td>\n",
       "      <td id=\"T_25de8_row1_col1\" class=\"data row1 col1\" >0.122</td>\n",
       "      <td id=\"T_25de8_row1_col2\" class=\"data row1 col2\" >0.072</td>\n",
       "      <td id=\"T_25de8_row1_col3\" class=\"data row1 col3\" >1.487</td>\n",
       "      <td id=\"T_25de8_row1_col4\" class=\"data row1 col4\" >4.07%</td>\n",
       "    </tr>\n",
       "    <tr>\n",
       "      <th id=\"T_25de8_level0_row2\" class=\"row_heading level0 row2\" >2</th>\n",
       "      <td id=\"T_25de8_row2_col0\" class=\"data row2 col0\" >Lasso Regression</td>\n",
       "      <td id=\"T_25de8_row2_col1\" class=\"data row2 col1\" >0.077</td>\n",
       "      <td id=\"T_25de8_row2_col2\" class=\"data row2 col2\" >0.026</td>\n",
       "      <td id=\"T_25de8_row2_col3\" class=\"data row2 col3\" >0.946</td>\n",
       "      <td id=\"T_25de8_row2_col4\" class=\"data row2 col4\" >0.99%</td>\n",
       "    </tr>\n",
       "    <tr>\n",
       "      <th id=\"T_25de8_level0_row3\" class=\"row_heading level0 row3\" >3</th>\n",
       "      <td id=\"T_25de8_row3_col0\" class=\"data row3 col0\" >XGB Random Forest</td>\n",
       "      <td id=\"T_25de8_row3_col1\" class=\"data row3 col1\" >0.077</td>\n",
       "      <td id=\"T_25de8_row3_col2\" class=\"data row3 col2\" >0.030</td>\n",
       "      <td id=\"T_25de8_row3_col3\" class=\"data row3 col3\" >0.929</td>\n",
       "      <td id=\"T_25de8_row3_col4\" class=\"data row3 col4\" >-0.76%</td>\n",
       "    </tr>\n",
       "    <tr>\n",
       "      <th id=\"T_25de8_level0_row4\" class=\"row_heading level0 row4\" >4</th>\n",
       "      <td id=\"T_25de8_row4_col0\" class=\"data row4 col0\" >LightGBM</td>\n",
       "      <td id=\"T_25de8_row4_col1\" class=\"data row4 col1\" >0.075</td>\n",
       "      <td id=\"T_25de8_row4_col2\" class=\"data row4 col2\" >0.027</td>\n",
       "      <td id=\"T_25de8_row4_col3\" class=\"data row4 col3\" >0.914</td>\n",
       "      <td id=\"T_25de8_row4_col4\" class=\"data row4 col4\" >2.61%</td>\n",
       "    </tr>\n",
       "    <tr>\n",
       "      <th id=\"T_25de8_level0_row5\" class=\"row_heading level0 row5\" >5</th>\n",
       "      <td id=\"T_25de8_row5_col0\" class=\"data row5 col0\" >Lasso Regression_auto_stat</td>\n",
       "      <td id=\"T_25de8_row5_col1\" class=\"data row5 col1\" >0.083</td>\n",
       "      <td id=\"T_25de8_row5_col2\" class=\"data row5 col2\" >0.037</td>\n",
       "      <td id=\"T_25de8_row5_col3\" class=\"data row5 col3\" >1.010</td>\n",
       "      <td id=\"T_25de8_row5_col4\" class=\"data row5 col4\" >-0.20%</td>\n",
       "    </tr>\n",
       "    <tr>\n",
       "      <th id=\"T_25de8_level0_row6\" class=\"row_heading level0 row6\" >6</th>\n",
       "      <td id=\"T_25de8_row6_col0\" class=\"data row6 col0\" >XGB Random Forest_auto_stat</td>\n",
       "      <td id=\"T_25de8_row6_col1\" class=\"data row6 col1\" >0.085</td>\n",
       "      <td id=\"T_25de8_row6_col2\" class=\"data row6 col2\" >0.036</td>\n",
       "      <td id=\"T_25de8_row6_col3\" class=\"data row6 col3\" >1.031</td>\n",
       "      <td id=\"T_25de8_row6_col4\" class=\"data row6 col4\" >-4.04%</td>\n",
       "    </tr>\n",
       "    <tr>\n",
       "      <th id=\"T_25de8_level0_row7\" class=\"row_heading level0 row7\" >7</th>\n",
       "      <td id=\"T_25de8_row7_col0\" class=\"data row7 col0\" >LightGBM_auto_stat</td>\n",
       "      <td id=\"T_25de8_row7_col1\" class=\"data row7 col1\" >0.076</td>\n",
       "      <td id=\"T_25de8_row7_col2\" class=\"data row7 col2\" >0.027</td>\n",
       "      <td id=\"T_25de8_row7_col3\" class=\"data row7 col3\" >0.931</td>\n",
       "      <td id=\"T_25de8_row7_col4\" class=\"data row7 col4\" >-1.19%</td>\n",
       "    </tr>\n",
       "  </tbody>\n",
       "</table>\n"
      ],
      "text/plain": [
       "<pandas.io.formats.style.Styler at 0x21c1b19ba50>"
      ]
     },
     "execution_count": 22,
     "metadata": {},
     "output_type": "execute_result"
    }
   ],
   "source": [
    "agg_metrics_df = pd.DataFrame(metrics)\n",
    "agg_metrics_df.style.format(\n",
    "    {\"MAE\": \"{:.3f}\", \"MSE\": \"{:.3f}\", \"meanMASE\": \"{:.3f}\", \"Forecast Bias\": \"{:.2f}%\"}\n",
    ").highlight_min(color=\"lightgreen\", subset=[\"MAE\", \"MSE\", \"meanMASE\"]).apply(\n",
    "    highlight_abs_min,\n",
    "    props=\"color:black;background-color:lightgreen\",\n",
    "    axis=0,\n",
    "    subset=[\"Forecast Bias\"],\n",
    ")"
   ]
  },
  {
   "cell_type": "code",
   "execution_count": 23,
   "id": "9d164184-dca3-4472-a138-c260019eeb68",
   "metadata": {},
   "outputs": [
    {
     "data": {
      "application/vnd.plotly.v1+json": {
       "config": {
        "plotlyServerURL": "https://plot.ly"
       },
       "data": [
        {
         "alignmentgroup": "True",
         "bingroup": "x",
         "histnorm": "probability density",
         "hovertemplate": "Algorithm=Lasso Regression_auto_stat<br>MASE=%{x}<br>probability density=%{y}<extra></extra>",
         "legendgroup": "Lasso Regression_auto_stat",
         "marker": {
          "color": "#636efa",
          "opacity": 0.5,
          "pattern": {
           "shape": ""
          }
         },
         "name": "Lasso Regression_auto_stat",
         "nbinsx": 500,
         "offsetgroup": "Lasso Regression_auto_stat",
         "orientation": "v",
         "showlegend": true,
         "type": "histogram",
         "x": [
          1.1016525079855095,
          0.9161074182366337,
          0.42950361485031685,
          1.4482243870783689,
          0.7737284630902279,
          0.22094256186780054,
          0.7953693019861037,
          1.0656792816311138,
          1.2999985814930484,
          0.6511235580086647,
          1.122769548447126,
          0.747992146262564,
          0.6752880881986643,
          3.6928775860060132,
          0.9834706510387063,
          1.107500976754584,
          1.10464120784734,
          1.188831028321322,
          0.8852698679891767,
          0.9388879699310339,
          1.0302452418945636,
          0.8272931655175335,
          1.1758749157611796,
          0.9659599694226091,
          0.9457312761472444,
          0.8008153334454374,
          1.0882665066764186,
          0.9001544166176857,
          0.9560147606379045,
          1.0877288919510426,
          1.0291934657130788,
          0.7363949577175208,
          0.8912503319057051,
          0.7404003361716536,
          0.9281729115686903,
          0.6577092631038438,
          0.5797623948764217,
          0.17593445387634923,
          1.2446526636117983,
          0.8174151588736382,
          1.1166770877225052,
          1.0968251378147373,
          0.7915374849655529,
          1.2037688416536383,
          1.236275783015333,
          1.3757539353387633,
          1.0475897794921953,
          0.6524879061106386,
          0.8663602274211851,
          0.8091509884775573,
          1.2003259539285716,
          0.8259015596198251,
          1.1291474038446,
          0.9039887609357962,
          2.112979057131501,
          2.531300227360094,
          0.902258971520381,
          0.6179205936102916,
          1.036904853405668,
          1.043455417572733,
          0.8534776360502827,
          0.7601551833245378,
          1.0387188890922778,
          1.1521677579818874,
          1.1924981104664827,
          1.131874490915555,
          0.9608273887055601,
          0.6461694526049423,
          0.9903506512453472,
          0.8985008156586685,
          0.6579251251839435,
          0.9554151862630136,
          0.6796584168061058,
          0.8187258277799891,
          0.8815637786222861,
          0.6220874130308616,
          0.8991579815049078,
          0.9010306708723482,
          0.7604382469917018,
          0.15198126679667368,
          0.9651236247409672,
          0.8167203181713543,
          0.9595074565553761,
          1.2098925436501018,
          1.245843329616353,
          0.9512588854822503,
          1.0221518702053118,
          1.1205595103866826,
          0.9172293666412539,
          0.8320332442391793,
          1.443811236247889,
          0.9182433276832102,
          1.0301600219673153,
          1.0237485425260509,
          0.9950695370299777,
          0.8838766791128805,
          1.1573994478130227,
          0.913888850936841,
          1.4326248461463014,
          0.9531217939428126,
          1.0415284290686615,
          0.8007941619880307,
          1.0795143044340298,
          0.8441633976047789,
          1.0326827644162586,
          1.0900230414698404,
          0.9792207524262383,
          1.0797873569183885,
          1.000491621608632,
          1.1566361553299567,
          1.035377115657109,
          0.8312894208704141,
          1.852295584084967,
          1.1722083704703106,
          0.6677930139468204,
          1.0634494158624186,
          0.885765519823913,
          1.6870262448221232,
          1.1557187102914044,
          0.6512646533180457,
          0.66792735649921,
          0.8976817651793907,
          1.0214011349968073,
          1.745936521696205,
          0.9808918023877549,
          1.1485171277401223,
          1.0017185081864262,
          1.109719528707337,
          1.2666728654161303,
          0.9618561292164488,
          0.7785692331696662,
          1.0555345340745832,
          0.9358265382126685,
          0.7950970679241929,
          1.5333447070230086,
          0.41573473085474566,
          0.8213359178787153,
          0.8174057547944541,
          1.908384428236306,
          0.8963922651479129,
          0.983316159611247,
          1.2820686910668735,
          0.8192041237022502,
          0.9207520963003738,
          0.9852421686427815,
          1.178348091490301,
          1.1820594544147989,
          1.0487920001120883,
          1.0442055446054173,
          1.247912233485498
         ],
         "xaxis": "x",
         "yaxis": "y"
        },
        {
         "alignmentgroup": "True",
         "hovertemplate": "Algorithm=Lasso Regression_auto_stat<br>MASE=%{x}<extra></extra>",
         "legendgroup": "Lasso Regression_auto_stat",
         "marker": {
          "color": "#636efa"
         },
         "name": "Lasso Regression_auto_stat",
         "notched": true,
         "offsetgroup": "Lasso Regression_auto_stat",
         "showlegend": false,
         "type": "box",
         "x": [
          1.1016525079855095,
          0.9161074182366337,
          0.42950361485031685,
          1.4482243870783689,
          0.7737284630902279,
          0.22094256186780054,
          0.7953693019861037,
          1.0656792816311138,
          1.2999985814930484,
          0.6511235580086647,
          1.122769548447126,
          0.747992146262564,
          0.6752880881986643,
          3.6928775860060132,
          0.9834706510387063,
          1.107500976754584,
          1.10464120784734,
          1.188831028321322,
          0.8852698679891767,
          0.9388879699310339,
          1.0302452418945636,
          0.8272931655175335,
          1.1758749157611796,
          0.9659599694226091,
          0.9457312761472444,
          0.8008153334454374,
          1.0882665066764186,
          0.9001544166176857,
          0.9560147606379045,
          1.0877288919510426,
          1.0291934657130788,
          0.7363949577175208,
          0.8912503319057051,
          0.7404003361716536,
          0.9281729115686903,
          0.6577092631038438,
          0.5797623948764217,
          0.17593445387634923,
          1.2446526636117983,
          0.8174151588736382,
          1.1166770877225052,
          1.0968251378147373,
          0.7915374849655529,
          1.2037688416536383,
          1.236275783015333,
          1.3757539353387633,
          1.0475897794921953,
          0.6524879061106386,
          0.8663602274211851,
          0.8091509884775573,
          1.2003259539285716,
          0.8259015596198251,
          1.1291474038446,
          0.9039887609357962,
          2.112979057131501,
          2.531300227360094,
          0.902258971520381,
          0.6179205936102916,
          1.036904853405668,
          1.043455417572733,
          0.8534776360502827,
          0.7601551833245378,
          1.0387188890922778,
          1.1521677579818874,
          1.1924981104664827,
          1.131874490915555,
          0.9608273887055601,
          0.6461694526049423,
          0.9903506512453472,
          0.8985008156586685,
          0.6579251251839435,
          0.9554151862630136,
          0.6796584168061058,
          0.8187258277799891,
          0.8815637786222861,
          0.6220874130308616,
          0.8991579815049078,
          0.9010306708723482,
          0.7604382469917018,
          0.15198126679667368,
          0.9651236247409672,
          0.8167203181713543,
          0.9595074565553761,
          1.2098925436501018,
          1.245843329616353,
          0.9512588854822503,
          1.0221518702053118,
          1.1205595103866826,
          0.9172293666412539,
          0.8320332442391793,
          1.443811236247889,
          0.9182433276832102,
          1.0301600219673153,
          1.0237485425260509,
          0.9950695370299777,
          0.8838766791128805,
          1.1573994478130227,
          0.913888850936841,
          1.4326248461463014,
          0.9531217939428126,
          1.0415284290686615,
          0.8007941619880307,
          1.0795143044340298,
          0.8441633976047789,
          1.0326827644162586,
          1.0900230414698404,
          0.9792207524262383,
          1.0797873569183885,
          1.000491621608632,
          1.1566361553299567,
          1.035377115657109,
          0.8312894208704141,
          1.852295584084967,
          1.1722083704703106,
          0.6677930139468204,
          1.0634494158624186,
          0.885765519823913,
          1.6870262448221232,
          1.1557187102914044,
          0.6512646533180457,
          0.66792735649921,
          0.8976817651793907,
          1.0214011349968073,
          1.745936521696205,
          0.9808918023877549,
          1.1485171277401223,
          1.0017185081864262,
          1.109719528707337,
          1.2666728654161303,
          0.9618561292164488,
          0.7785692331696662,
          1.0555345340745832,
          0.9358265382126685,
          0.7950970679241929,
          1.5333447070230086,
          0.41573473085474566,
          0.8213359178787153,
          0.8174057547944541,
          1.908384428236306,
          0.8963922651479129,
          0.983316159611247,
          1.2820686910668735,
          0.8192041237022502,
          0.9207520963003738,
          0.9852421686427815,
          1.178348091490301,
          1.1820594544147989,
          1.0487920001120883,
          1.0442055446054173,
          1.247912233485498
         ],
         "xaxis": "x2",
         "yaxis": "y2"
        },
        {
         "alignmentgroup": "True",
         "bingroup": "x",
         "histnorm": "probability density",
         "hovertemplate": "Algorithm=XGB Random Forest_auto_stat<br>MASE=%{x}<br>probability density=%{y}<extra></extra>",
         "legendgroup": "XGB Random Forest_auto_stat",
         "marker": {
          "color": "#EF553B",
          "opacity": 0.5,
          "pattern": {
           "shape": "/"
          }
         },
         "name": "XGB Random Forest_auto_stat",
         "nbinsx": 500,
         "offsetgroup": "XGB Random Forest_auto_stat",
         "orientation": "v",
         "showlegend": true,
         "type": "histogram",
         "x": [
          1.1194840016270047,
          0.9509444266924522,
          0.4470794607021391,
          1.3526275193643142,
          0.7541159987449646,
          0.27711806563959995,
          0.8237988086245994,
          1.096735153128676,
          1.3114292959205225,
          0.6562782164428811,
          1.1407482277793901,
          0.7444723858526477,
          0.7054023256342651,
          3.6431832744804833,
          0.9651434649404153,
          1.1102167125123648,
          1.138110571841299,
          1.2127673743904248,
          0.9534769619768468,
          0.9453707602838781,
          0.9683383340877585,
          0.8211364943821329,
          1.1327491594461383,
          1.0285039693360796,
          0.9723893194321833,
          0.8188187348665534,
          1.0442482734014549,
          0.920181185819708,
          0.9759345161598403,
          1.2179417874339822,
          1.1145068993140297,
          0.7521012462468799,
          0.8731546904085674,
          0.7582442443158763,
          1.0487629824995912,
          0.23949185164244335,
          0.5567941670486934,
          0.11090006124827512,
          1.1786214769342527,
          0.8294004245549431,
          1.1510138302261654,
          1.2255283306691225,
          0.8207227810103068,
          1.2171923735588461,
          1.167271788018663,
          1.384913501442073,
          1.1181270961423815,
          0.6689491524774557,
          0.8627734863755224,
          0.8997016089556974,
          1.1230329033102386,
          0.7566018528325329,
          1.0829916317356187,
          0.9470333137953262,
          1.3823160394686809,
          2.5712547049552588,
          0.9360420057979738,
          0.6639036155647856,
          1.0238845688137317,
          1.0777188354542604,
          0.8543307844394528,
          0.7748230212335064,
          1.6867572928184007,
          1.2493684407311876,
          1.1897366329379018,
          1.1183445688106586,
          0.9897927394004998,
          0.5915343505038142,
          1.0928513684953376,
          0.9625961068781932,
          0.8351363826070565,
          0.9683140283629719,
          0.7301554094294775,
          0.9216288165074696,
          0.8724877543196411,
          0.6634183423329464,
          0.9117400503530315,
          0.8752162769673472,
          0.7743879689772478,
          0.6096822939869931,
          0.9154554056792352,
          0.8744417925265541,
          1.1100769908234636,
          1.1603986635417978,
          1.2200371631419,
          0.9535007135178599,
          1.0775615079544685,
          1.1158905451479815,
          0.9648904015682226,
          0.8298488745049767,
          2.085051169734287,
          0.9498924299738257,
          1.045519564867133,
          1.0332477304929,
          0.8873763095257134,
          0.9497668919615034,
          1.1279355614871707,
          0.954862610418107,
          1.478008459125277,
          1.089590241752586,
          1.0534551208419647,
          0.823034448104951,
          1.034304567876451,
          0.8356979059513248,
          1.1497472057501605,
          1.0705877445467047,
          1.143650587610372,
          1.086419842912609,
          1.059160148560579,
          1.1553046825460485,
          1.0579726057098948,
          0.8535760575176758,
          1.6232609146723258,
          1.2329227864488137,
          0.829646202708022,
          1.0405237629743245,
          0.906840492393737,
          1.3247181264428336,
          1.18750255286476,
          0.6523186443740728,
          0.8569211904362571,
          0.8685016798867226,
          1.0205806251422689,
          1.899208600924931,
          0.9735461908380824,
          1.1259816516479966,
          0.933019742800093,
          1.0817425204270474,
          1.2745388758523708,
          0.9261232952586511,
          0.7600709251461975,
          1.0883036004184767,
          0.9295629401314518,
          0.8767120298033987,
          1.5442915791543932,
          0.8809047029435922,
          0.799473457932196,
          0.7896655520554721,
          2.0314164642828345,
          0.9340811313923597,
          0.9304772866956207,
          1.4856190272331868,
          0.9523962454853412,
          0.9093920362220318,
          0.8505802994090195,
          1.1323018025592937,
          1.29431284289723,
          1.0565127827919423,
          1.0324180688741804,
          1.0586928401072586
         ],
         "xaxis": "x",
         "yaxis": "y"
        },
        {
         "alignmentgroup": "True",
         "hovertemplate": "Algorithm=XGB Random Forest_auto_stat<br>MASE=%{x}<extra></extra>",
         "legendgroup": "XGB Random Forest_auto_stat",
         "marker": {
          "color": "#EF553B"
         },
         "name": "XGB Random Forest_auto_stat",
         "notched": true,
         "offsetgroup": "XGB Random Forest_auto_stat",
         "showlegend": false,
         "type": "box",
         "x": [
          1.1194840016270047,
          0.9509444266924522,
          0.4470794607021391,
          1.3526275193643142,
          0.7541159987449646,
          0.27711806563959995,
          0.8237988086245994,
          1.096735153128676,
          1.3114292959205225,
          0.6562782164428811,
          1.1407482277793901,
          0.7444723858526477,
          0.7054023256342651,
          3.6431832744804833,
          0.9651434649404153,
          1.1102167125123648,
          1.138110571841299,
          1.2127673743904248,
          0.9534769619768468,
          0.9453707602838781,
          0.9683383340877585,
          0.8211364943821329,
          1.1327491594461383,
          1.0285039693360796,
          0.9723893194321833,
          0.8188187348665534,
          1.0442482734014549,
          0.920181185819708,
          0.9759345161598403,
          1.2179417874339822,
          1.1145068993140297,
          0.7521012462468799,
          0.8731546904085674,
          0.7582442443158763,
          1.0487629824995912,
          0.23949185164244335,
          0.5567941670486934,
          0.11090006124827512,
          1.1786214769342527,
          0.8294004245549431,
          1.1510138302261654,
          1.2255283306691225,
          0.8207227810103068,
          1.2171923735588461,
          1.167271788018663,
          1.384913501442073,
          1.1181270961423815,
          0.6689491524774557,
          0.8627734863755224,
          0.8997016089556974,
          1.1230329033102386,
          0.7566018528325329,
          1.0829916317356187,
          0.9470333137953262,
          1.3823160394686809,
          2.5712547049552588,
          0.9360420057979738,
          0.6639036155647856,
          1.0238845688137317,
          1.0777188354542604,
          0.8543307844394528,
          0.7748230212335064,
          1.6867572928184007,
          1.2493684407311876,
          1.1897366329379018,
          1.1183445688106586,
          0.9897927394004998,
          0.5915343505038142,
          1.0928513684953376,
          0.9625961068781932,
          0.8351363826070565,
          0.9683140283629719,
          0.7301554094294775,
          0.9216288165074696,
          0.8724877543196411,
          0.6634183423329464,
          0.9117400503530315,
          0.8752162769673472,
          0.7743879689772478,
          0.6096822939869931,
          0.9154554056792352,
          0.8744417925265541,
          1.1100769908234636,
          1.1603986635417978,
          1.2200371631419,
          0.9535007135178599,
          1.0775615079544685,
          1.1158905451479815,
          0.9648904015682226,
          0.8298488745049767,
          2.085051169734287,
          0.9498924299738257,
          1.045519564867133,
          1.0332477304929,
          0.8873763095257134,
          0.9497668919615034,
          1.1279355614871707,
          0.954862610418107,
          1.478008459125277,
          1.089590241752586,
          1.0534551208419647,
          0.823034448104951,
          1.034304567876451,
          0.8356979059513248,
          1.1497472057501605,
          1.0705877445467047,
          1.143650587610372,
          1.086419842912609,
          1.059160148560579,
          1.1553046825460485,
          1.0579726057098948,
          0.8535760575176758,
          1.6232609146723258,
          1.2329227864488137,
          0.829646202708022,
          1.0405237629743245,
          0.906840492393737,
          1.3247181264428336,
          1.18750255286476,
          0.6523186443740728,
          0.8569211904362571,
          0.8685016798867226,
          1.0205806251422689,
          1.899208600924931,
          0.9735461908380824,
          1.1259816516479966,
          0.933019742800093,
          1.0817425204270474,
          1.2745388758523708,
          0.9261232952586511,
          0.7600709251461975,
          1.0883036004184767,
          0.9295629401314518,
          0.8767120298033987,
          1.5442915791543932,
          0.8809047029435922,
          0.799473457932196,
          0.7896655520554721,
          2.0314164642828345,
          0.9340811313923597,
          0.9304772866956207,
          1.4856190272331868,
          0.9523962454853412,
          0.9093920362220318,
          0.8505802994090195,
          1.1323018025592937,
          1.29431284289723,
          1.0565127827919423,
          1.0324180688741804,
          1.0586928401072586
         ],
         "xaxis": "x2",
         "yaxis": "y2"
        },
        {
         "alignmentgroup": "True",
         "bingroup": "x",
         "histnorm": "probability density",
         "hovertemplate": "Algorithm=LightGBM_auto_stat<br>MASE=%{x}<br>probability density=%{y}<extra></extra>",
         "legendgroup": "LightGBM_auto_stat",
         "marker": {
          "color": "#00cc96",
          "opacity": 0.5,
          "pattern": {
           "shape": "\\"
          }
         },
         "name": "LightGBM_auto_stat",
         "nbinsx": 500,
         "offsetgroup": "LightGBM_auto_stat",
         "orientation": "v",
         "showlegend": true,
         "type": "histogram",
         "x": [
          1.0293754006125113,
          0.9239600400413507,
          0.3887809998078762,
          1.2457668589761943,
          0.7514336948877828,
          0.1252754916434972,
          0.7584774370008324,
          1.0283512169502256,
          1.1584022833141212,
          0.629268139336117,
          1.0421920066996095,
          0.6897671605548413,
          0.6567266250118582,
          2.5079816618957342,
          0.9033267634551729,
          0.9645355855797951,
          1.0965576709681195,
          1.1130950927673848,
          0.7735782720444313,
          0.9241889098459946,
          0.98443232260595,
          0.8279996239362549,
          1.0767307799500272,
          0.9355327835350195,
          0.9152159979469884,
          0.7739663461074967,
          1.0167023742769863,
          0.8674624467623513,
          0.9337685730507723,
          1.0811672387858093,
          1.0169791951877394,
          0.6295827641801182,
          0.7440791536875436,
          0.6885880477931079,
          0.9169032970840612,
          0.08890360835451419,
          0.4856749829928506,
          0.09703465587495269,
          1.0132458061537182,
          0.7874298913196478,
          1.0678700844099167,
          1.1500234895992751,
          0.7790343277348695,
          1.1496934731995814,
          1.1731783624443355,
          1.4181656715207254,
          1.0675754130662591,
          0.6290207537998632,
          0.8419719385991984,
          0.8169648096086122,
          1.0852084870487826,
          0.6711605759680656,
          1.0582674027457053,
          0.8702544675722556,
          0.2744678565525092,
          3.3481719597083783,
          0.8442127874783628,
          0.5210441653388234,
          0.9879159612305517,
          1.0469754451562796,
          0.7798012798284798,
          0.7558110637496142,
          1.3317533825875876,
          1.16198226872524,
          1.060634692213236,
          1.078285372270452,
          0.7559222510420955,
          0.5280745688399953,
          0.8996649730340799,
          0.9245350834017966,
          0.5856949534122926,
          0.8851877720758771,
          0.5495327315548361,
          0.7897238120473804,
          0.8215431171633468,
          0.5237845934050782,
          0.8497915896608037,
          0.7858505960811419,
          0.6924759227362779,
          0.2571422323287532,
          0.9060988124581567,
          0.7905665931917741,
          0.988365582513202,
          1.1285382066735257,
          1.2077903188931824,
          0.9104796170012842,
          0.9275840187738364,
          1.0422904274706069,
          0.8892164093207743,
          0.7763074373745605,
          1.4814721774525657,
          0.9061608085027336,
          0.9935044633213526,
          0.9639340538351033,
          0.8690624380712629,
          0.8889028076349331,
          1.2834733791578345,
          0.8079121692648219,
          1.3653153578144572,
          0.891840974576607,
          0.9525830726648163,
          0.8294514148359923,
          0.9567541982295346,
          0.7846822399278314,
          0.9632843829148764,
          1.0389581870588527,
          0.9246834048647906,
          0.999597403927407,
          0.9840464707808979,
          1.1157488448942732,
          1.0267348521543893,
          0.8818768604065385,
          1.4057785699337038,
          1.1709477954894076,
          0.5913284912882932,
          0.9467937067310055,
          0.8379439972171081,
          0.965350240455928,
          1.1517806413490617,
          0.6120197145536095,
          0.534251626522374,
          0.8409284238060717,
          0.8421172392060008,
          1.8464095015769506,
          0.9807175342645023,
          1.0964573728735711,
          0.8905280175851021,
          1.0153843447244804,
          1.2381365343615325,
          0.8575804885542204,
          0.7261302693045874,
          0.9581590177395264,
          0.6760529210290029,
          0.7654858086493482,
          1.4126547394680866,
          0.6491151973328932,
          0.7662524959420636,
          0.7707980281012823,
          1.8284247577783221,
          0.8480612732912935,
          0.8526971084565076,
          1.1946759940303022,
          0.738689909651833,
          0.8357469330921679,
          0.9529330192534158,
          0.8451872540028565,
          1.1318916865802149,
          0.9834744421369839,
          1.0214711635429314,
          0.914233059512305
         ],
         "xaxis": "x",
         "yaxis": "y"
        },
        {
         "alignmentgroup": "True",
         "hovertemplate": "Algorithm=LightGBM_auto_stat<br>MASE=%{x}<extra></extra>",
         "legendgroup": "LightGBM_auto_stat",
         "marker": {
          "color": "#00cc96"
         },
         "name": "LightGBM_auto_stat",
         "notched": true,
         "offsetgroup": "LightGBM_auto_stat",
         "showlegend": false,
         "type": "box",
         "x": [
          1.0293754006125113,
          0.9239600400413507,
          0.3887809998078762,
          1.2457668589761943,
          0.7514336948877828,
          0.1252754916434972,
          0.7584774370008324,
          1.0283512169502256,
          1.1584022833141212,
          0.629268139336117,
          1.0421920066996095,
          0.6897671605548413,
          0.6567266250118582,
          2.5079816618957342,
          0.9033267634551729,
          0.9645355855797951,
          1.0965576709681195,
          1.1130950927673848,
          0.7735782720444313,
          0.9241889098459946,
          0.98443232260595,
          0.8279996239362549,
          1.0767307799500272,
          0.9355327835350195,
          0.9152159979469884,
          0.7739663461074967,
          1.0167023742769863,
          0.8674624467623513,
          0.9337685730507723,
          1.0811672387858093,
          1.0169791951877394,
          0.6295827641801182,
          0.7440791536875436,
          0.6885880477931079,
          0.9169032970840612,
          0.08890360835451419,
          0.4856749829928506,
          0.09703465587495269,
          1.0132458061537182,
          0.7874298913196478,
          1.0678700844099167,
          1.1500234895992751,
          0.7790343277348695,
          1.1496934731995814,
          1.1731783624443355,
          1.4181656715207254,
          1.0675754130662591,
          0.6290207537998632,
          0.8419719385991984,
          0.8169648096086122,
          1.0852084870487826,
          0.6711605759680656,
          1.0582674027457053,
          0.8702544675722556,
          0.2744678565525092,
          3.3481719597083783,
          0.8442127874783628,
          0.5210441653388234,
          0.9879159612305517,
          1.0469754451562796,
          0.7798012798284798,
          0.7558110637496142,
          1.3317533825875876,
          1.16198226872524,
          1.060634692213236,
          1.078285372270452,
          0.7559222510420955,
          0.5280745688399953,
          0.8996649730340799,
          0.9245350834017966,
          0.5856949534122926,
          0.8851877720758771,
          0.5495327315548361,
          0.7897238120473804,
          0.8215431171633468,
          0.5237845934050782,
          0.8497915896608037,
          0.7858505960811419,
          0.6924759227362779,
          0.2571422323287532,
          0.9060988124581567,
          0.7905665931917741,
          0.988365582513202,
          1.1285382066735257,
          1.2077903188931824,
          0.9104796170012842,
          0.9275840187738364,
          1.0422904274706069,
          0.8892164093207743,
          0.7763074373745605,
          1.4814721774525657,
          0.9061608085027336,
          0.9935044633213526,
          0.9639340538351033,
          0.8690624380712629,
          0.8889028076349331,
          1.2834733791578345,
          0.8079121692648219,
          1.3653153578144572,
          0.891840974576607,
          0.9525830726648163,
          0.8294514148359923,
          0.9567541982295346,
          0.7846822399278314,
          0.9632843829148764,
          1.0389581870588527,
          0.9246834048647906,
          0.999597403927407,
          0.9840464707808979,
          1.1157488448942732,
          1.0267348521543893,
          0.8818768604065385,
          1.4057785699337038,
          1.1709477954894076,
          0.5913284912882932,
          0.9467937067310055,
          0.8379439972171081,
          0.965350240455928,
          1.1517806413490617,
          0.6120197145536095,
          0.534251626522374,
          0.8409284238060717,
          0.8421172392060008,
          1.8464095015769506,
          0.9807175342645023,
          1.0964573728735711,
          0.8905280175851021,
          1.0153843447244804,
          1.2381365343615325,
          0.8575804885542204,
          0.7261302693045874,
          0.9581590177395264,
          0.6760529210290029,
          0.7654858086493482,
          1.4126547394680866,
          0.6491151973328932,
          0.7662524959420636,
          0.7707980281012823,
          1.8284247577783221,
          0.8480612732912935,
          0.8526971084565076,
          1.1946759940303022,
          0.738689909651833,
          0.8357469330921679,
          0.9529330192534158,
          0.8451872540028565,
          1.1318916865802149,
          0.9834744421369839,
          1.0214711635429314,
          0.914233059512305
         ],
         "xaxis": "x2",
         "yaxis": "y2"
        }
       ],
       "layout": {
        "autosize": false,
        "barmode": "overlay",
        "height": 500,
        "legend": {
         "title": {},
         "tracegroupgap": 0
        },
        "margin": {
         "t": 60
        },
        "template": {
         "data": {
          "bar": [
           {
            "error_x": {
             "color": "#2a3f5f"
            },
            "error_y": {
             "color": "#2a3f5f"
            },
            "marker": {
             "line": {
              "color": "white",
              "width": 0.5
             },
             "pattern": {
              "fillmode": "overlay",
              "size": 10,
              "solidity": 0.2
             }
            },
            "type": "bar"
           }
          ],
          "barpolar": [
           {
            "marker": {
             "line": {
              "color": "white",
              "width": 0.5
             },
             "pattern": {
              "fillmode": "overlay",
              "size": 10,
              "solidity": 0.2
             }
            },
            "type": "barpolar"
           }
          ],
          "carpet": [
           {
            "aaxis": {
             "endlinecolor": "#2a3f5f",
             "gridcolor": "#C8D4E3",
             "linecolor": "#C8D4E3",
             "minorgridcolor": "#C8D4E3",
             "startlinecolor": "#2a3f5f"
            },
            "baxis": {
             "endlinecolor": "#2a3f5f",
             "gridcolor": "#C8D4E3",
             "linecolor": "#C8D4E3",
             "minorgridcolor": "#C8D4E3",
             "startlinecolor": "#2a3f5f"
            },
            "type": "carpet"
           }
          ],
          "choropleth": [
           {
            "colorbar": {
             "outlinewidth": 0,
             "ticks": ""
            },
            "type": "choropleth"
           }
          ],
          "contour": [
           {
            "colorbar": {
             "outlinewidth": 0,
             "ticks": ""
            },
            "colorscale": [
             [
              0,
              "#0d0887"
             ],
             [
              0.1111111111111111,
              "#46039f"
             ],
             [
              0.2222222222222222,
              "#7201a8"
             ],
             [
              0.3333333333333333,
              "#9c179e"
             ],
             [
              0.4444444444444444,
              "#bd3786"
             ],
             [
              0.5555555555555556,
              "#d8576b"
             ],
             [
              0.6666666666666666,
              "#ed7953"
             ],
             [
              0.7777777777777778,
              "#fb9f3a"
             ],
             [
              0.8888888888888888,
              "#fdca26"
             ],
             [
              1,
              "#f0f921"
             ]
            ],
            "type": "contour"
           }
          ],
          "contourcarpet": [
           {
            "colorbar": {
             "outlinewidth": 0,
             "ticks": ""
            },
            "type": "contourcarpet"
           }
          ],
          "heatmap": [
           {
            "colorbar": {
             "outlinewidth": 0,
             "ticks": ""
            },
            "colorscale": [
             [
              0,
              "#0d0887"
             ],
             [
              0.1111111111111111,
              "#46039f"
             ],
             [
              0.2222222222222222,
              "#7201a8"
             ],
             [
              0.3333333333333333,
              "#9c179e"
             ],
             [
              0.4444444444444444,
              "#bd3786"
             ],
             [
              0.5555555555555556,
              "#d8576b"
             ],
             [
              0.6666666666666666,
              "#ed7953"
             ],
             [
              0.7777777777777778,
              "#fb9f3a"
             ],
             [
              0.8888888888888888,
              "#fdca26"
             ],
             [
              1,
              "#f0f921"
             ]
            ],
            "type": "heatmap"
           }
          ],
          "heatmapgl": [
           {
            "colorbar": {
             "outlinewidth": 0,
             "ticks": ""
            },
            "colorscale": [
             [
              0,
              "#0d0887"
             ],
             [
              0.1111111111111111,
              "#46039f"
             ],
             [
              0.2222222222222222,
              "#7201a8"
             ],
             [
              0.3333333333333333,
              "#9c179e"
             ],
             [
              0.4444444444444444,
              "#bd3786"
             ],
             [
              0.5555555555555556,
              "#d8576b"
             ],
             [
              0.6666666666666666,
              "#ed7953"
             ],
             [
              0.7777777777777778,
              "#fb9f3a"
             ],
             [
              0.8888888888888888,
              "#fdca26"
             ],
             [
              1,
              "#f0f921"
             ]
            ],
            "type": "heatmapgl"
           }
          ],
          "histogram": [
           {
            "marker": {
             "pattern": {
              "fillmode": "overlay",
              "size": 10,
              "solidity": 0.2
             }
            },
            "type": "histogram"
           }
          ],
          "histogram2d": [
           {
            "colorbar": {
             "outlinewidth": 0,
             "ticks": ""
            },
            "colorscale": [
             [
              0,
              "#0d0887"
             ],
             [
              0.1111111111111111,
              "#46039f"
             ],
             [
              0.2222222222222222,
              "#7201a8"
             ],
             [
              0.3333333333333333,
              "#9c179e"
             ],
             [
              0.4444444444444444,
              "#bd3786"
             ],
             [
              0.5555555555555556,
              "#d8576b"
             ],
             [
              0.6666666666666666,
              "#ed7953"
             ],
             [
              0.7777777777777778,
              "#fb9f3a"
             ],
             [
              0.8888888888888888,
              "#fdca26"
             ],
             [
              1,
              "#f0f921"
             ]
            ],
            "type": "histogram2d"
           }
          ],
          "histogram2dcontour": [
           {
            "colorbar": {
             "outlinewidth": 0,
             "ticks": ""
            },
            "colorscale": [
             [
              0,
              "#0d0887"
             ],
             [
              0.1111111111111111,
              "#46039f"
             ],
             [
              0.2222222222222222,
              "#7201a8"
             ],
             [
              0.3333333333333333,
              "#9c179e"
             ],
             [
              0.4444444444444444,
              "#bd3786"
             ],
             [
              0.5555555555555556,
              "#d8576b"
             ],
             [
              0.6666666666666666,
              "#ed7953"
             ],
             [
              0.7777777777777778,
              "#fb9f3a"
             ],
             [
              0.8888888888888888,
              "#fdca26"
             ],
             [
              1,
              "#f0f921"
             ]
            ],
            "type": "histogram2dcontour"
           }
          ],
          "mesh3d": [
           {
            "colorbar": {
             "outlinewidth": 0,
             "ticks": ""
            },
            "type": "mesh3d"
           }
          ],
          "parcoords": [
           {
            "line": {
             "colorbar": {
              "outlinewidth": 0,
              "ticks": ""
             }
            },
            "type": "parcoords"
           }
          ],
          "pie": [
           {
            "automargin": true,
            "type": "pie"
           }
          ],
          "scatter": [
           {
            "fillpattern": {
             "fillmode": "overlay",
             "size": 10,
             "solidity": 0.2
            },
            "type": "scatter"
           }
          ],
          "scatter3d": [
           {
            "line": {
             "colorbar": {
              "outlinewidth": 0,
              "ticks": ""
             }
            },
            "marker": {
             "colorbar": {
              "outlinewidth": 0,
              "ticks": ""
             }
            },
            "type": "scatter3d"
           }
          ],
          "scattercarpet": [
           {
            "marker": {
             "colorbar": {
              "outlinewidth": 0,
              "ticks": ""
             }
            },
            "type": "scattercarpet"
           }
          ],
          "scattergeo": [
           {
            "marker": {
             "colorbar": {
              "outlinewidth": 0,
              "ticks": ""
             }
            },
            "type": "scattergeo"
           }
          ],
          "scattergl": [
           {
            "marker": {
             "colorbar": {
              "outlinewidth": 0,
              "ticks": ""
             }
            },
            "type": "scattergl"
           }
          ],
          "scattermapbox": [
           {
            "marker": {
             "colorbar": {
              "outlinewidth": 0,
              "ticks": ""
             }
            },
            "type": "scattermapbox"
           }
          ],
          "scatterpolar": [
           {
            "marker": {
             "colorbar": {
              "outlinewidth": 0,
              "ticks": ""
             }
            },
            "type": "scatterpolar"
           }
          ],
          "scatterpolargl": [
           {
            "marker": {
             "colorbar": {
              "outlinewidth": 0,
              "ticks": ""
             }
            },
            "type": "scatterpolargl"
           }
          ],
          "scatterternary": [
           {
            "marker": {
             "colorbar": {
              "outlinewidth": 0,
              "ticks": ""
             }
            },
            "type": "scatterternary"
           }
          ],
          "surface": [
           {
            "colorbar": {
             "outlinewidth": 0,
             "ticks": ""
            },
            "colorscale": [
             [
              0,
              "#0d0887"
             ],
             [
              0.1111111111111111,
              "#46039f"
             ],
             [
              0.2222222222222222,
              "#7201a8"
             ],
             [
              0.3333333333333333,
              "#9c179e"
             ],
             [
              0.4444444444444444,
              "#bd3786"
             ],
             [
              0.5555555555555556,
              "#d8576b"
             ],
             [
              0.6666666666666666,
              "#ed7953"
             ],
             [
              0.7777777777777778,
              "#fb9f3a"
             ],
             [
              0.8888888888888888,
              "#fdca26"
             ],
             [
              1,
              "#f0f921"
             ]
            ],
            "type": "surface"
           }
          ],
          "table": [
           {
            "cells": {
             "fill": {
              "color": "#EBF0F8"
             },
             "line": {
              "color": "white"
             }
            },
            "header": {
             "fill": {
              "color": "#C8D4E3"
             },
             "line": {
              "color": "white"
             }
            },
            "type": "table"
           }
          ]
         },
         "layout": {
          "annotationdefaults": {
           "arrowcolor": "#2a3f5f",
           "arrowhead": 0,
           "arrowwidth": 1
          },
          "autotypenumbers": "strict",
          "coloraxis": {
           "colorbar": {
            "outlinewidth": 0,
            "ticks": ""
           }
          },
          "colorscale": {
           "diverging": [
            [
             0,
             "#8e0152"
            ],
            [
             0.1,
             "#c51b7d"
            ],
            [
             0.2,
             "#de77ae"
            ],
            [
             0.3,
             "#f1b6da"
            ],
            [
             0.4,
             "#fde0ef"
            ],
            [
             0.5,
             "#f7f7f7"
            ],
            [
             0.6,
             "#e6f5d0"
            ],
            [
             0.7,
             "#b8e186"
            ],
            [
             0.8,
             "#7fbc41"
            ],
            [
             0.9,
             "#4d9221"
            ],
            [
             1,
             "#276419"
            ]
           ],
           "sequential": [
            [
             0,
             "#0d0887"
            ],
            [
             0.1111111111111111,
             "#46039f"
            ],
            [
             0.2222222222222222,
             "#7201a8"
            ],
            [
             0.3333333333333333,
             "#9c179e"
            ],
            [
             0.4444444444444444,
             "#bd3786"
            ],
            [
             0.5555555555555556,
             "#d8576b"
            ],
            [
             0.6666666666666666,
             "#ed7953"
            ],
            [
             0.7777777777777778,
             "#fb9f3a"
            ],
            [
             0.8888888888888888,
             "#fdca26"
            ],
            [
             1,
             "#f0f921"
            ]
           ],
           "sequentialminus": [
            [
             0,
             "#0d0887"
            ],
            [
             0.1111111111111111,
             "#46039f"
            ],
            [
             0.2222222222222222,
             "#7201a8"
            ],
            [
             0.3333333333333333,
             "#9c179e"
            ],
            [
             0.4444444444444444,
             "#bd3786"
            ],
            [
             0.5555555555555556,
             "#d8576b"
            ],
            [
             0.6666666666666666,
             "#ed7953"
            ],
            [
             0.7777777777777778,
             "#fb9f3a"
            ],
            [
             0.8888888888888888,
             "#fdca26"
            ],
            [
             1,
             "#f0f921"
            ]
           ]
          },
          "colorway": [
           "#636efa",
           "#EF553B",
           "#00cc96",
           "#ab63fa",
           "#FFA15A",
           "#19d3f3",
           "#FF6692",
           "#B6E880",
           "#FF97FF",
           "#FECB52"
          ],
          "font": {
           "color": "#2a3f5f"
          },
          "geo": {
           "bgcolor": "white",
           "lakecolor": "white",
           "landcolor": "white",
           "showlakes": true,
           "showland": true,
           "subunitcolor": "#C8D4E3"
          },
          "hoverlabel": {
           "align": "left"
          },
          "hovermode": "closest",
          "mapbox": {
           "style": "light"
          },
          "paper_bgcolor": "white",
          "plot_bgcolor": "white",
          "polar": {
           "angularaxis": {
            "gridcolor": "#EBF0F8",
            "linecolor": "#EBF0F8",
            "ticks": ""
           },
           "bgcolor": "white",
           "radialaxis": {
            "gridcolor": "#EBF0F8",
            "linecolor": "#EBF0F8",
            "ticks": ""
           }
          },
          "scene": {
           "xaxis": {
            "backgroundcolor": "white",
            "gridcolor": "#DFE8F3",
            "gridwidth": 2,
            "linecolor": "#EBF0F8",
            "showbackground": true,
            "ticks": "",
            "zerolinecolor": "#EBF0F8"
           },
           "yaxis": {
            "backgroundcolor": "white",
            "gridcolor": "#DFE8F3",
            "gridwidth": 2,
            "linecolor": "#EBF0F8",
            "showbackground": true,
            "ticks": "",
            "zerolinecolor": "#EBF0F8"
           },
           "zaxis": {
            "backgroundcolor": "white",
            "gridcolor": "#DFE8F3",
            "gridwidth": 2,
            "linecolor": "#EBF0F8",
            "showbackground": true,
            "ticks": "",
            "zerolinecolor": "#EBF0F8"
           }
          },
          "shapedefaults": {
           "line": {
            "color": "#2a3f5f"
           }
          },
          "ternary": {
           "aaxis": {
            "gridcolor": "#DFE8F3",
            "linecolor": "#A2B1C6",
            "ticks": ""
           },
           "baxis": {
            "gridcolor": "#DFE8F3",
            "linecolor": "#A2B1C6",
            "ticks": ""
           },
           "bgcolor": "white",
           "caxis": {
            "gridcolor": "#DFE8F3",
            "linecolor": "#A2B1C6",
            "ticks": ""
           }
          },
          "title": {
           "x": 0.05
          },
          "xaxis": {
           "automargin": true,
           "gridcolor": "#EBF0F8",
           "linecolor": "#EBF0F8",
           "ticks": "",
           "title": {
            "standoff": 15
           },
           "zerolinecolor": "#EBF0F8",
           "zerolinewidth": 2
          },
          "yaxis": {
           "automargin": true,
           "gridcolor": "#EBF0F8",
           "linecolor": "#EBF0F8",
           "ticks": "",
           "title": {
            "standoff": 15
           },
           "zerolinecolor": "#EBF0F8",
           "zerolinewidth": 2
          }
         }
        },
        "title": {
         "font": {
          "size": 20
         },
         "text": "Distribution of MASE in the dataset",
         "x": 0.5,
         "xanchor": "center",
         "yanchor": "top"
        },
        "width": 900,
        "xaxis": {
         "anchor": "y",
         "domain": [
          0,
          1
         ],
         "range": [
          0,
          2.5
         ],
         "title": {
          "font": {
           "size": 12
          },
          "text": "MASE"
         }
        },
        "xaxis2": {
         "anchor": "y2",
         "domain": [
          0,
          1
         ],
         "matches": "x",
         "showgrid": true,
         "showticklabels": false
        },
        "yaxis": {
         "anchor": "x",
         "domain": [
          0,
          0.7326
         ],
         "title": {
          "font": {
           "size": 12
          },
          "text": "Probability Density"
         }
        },
        "yaxis2": {
         "anchor": "x2",
         "domain": [
          0.7426,
          1
         ],
         "matches": "y2",
         "showgrid": false,
         "showline": false,
         "showticklabels": false,
         "ticks": ""
        }
       }
      }
     },
     "metadata": {},
     "output_type": "display_data"
    }
   ],
   "source": [
    "fig = px.histogram(\n",
    "    metrics_df,\n",
    "    x=\"MASE\",\n",
    "    color=\"Algorithm\",\n",
    "    pattern_shape=\"Algorithm\",\n",
    "    marginal=\"box\",\n",
    "    nbins=500,\n",
    "    barmode=\"overlay\",\n",
    "    histnorm=\"probability density\",\n",
    ")\n",
    "fig = format_plot(\n",
    "    fig,\n",
    "    xlabel=\"MASE\",\n",
    "    ylabel=\"Probability Density\",\n",
    "    title=\"Distribution of MASE in the dataset\",\n",
    ")\n",
    "fig.update_layout(xaxis_range=[0, 2.5])\n",
    "# fig.write_image(\"imgs/chapter_8/mase_dist.png\")\n",
    "fig.show()"
   ]
  },
  {
   "cell_type": "code",
   "execution_count": 24,
   "id": "05599872-81eb-406c-b096-cece0d153817",
   "metadata": {},
   "outputs": [
    {
     "data": {
      "application/vnd.plotly.v1+json": {
       "config": {
        "plotlyServerURL": "https://plot.ly"
       },
       "data": [
        {
         "alignmentgroup": "True",
         "bingroup": "x",
         "histnorm": "probability density",
         "hovertemplate": "Algorithm=Lasso Regression_auto_stat<br>MAE=%{x}<br>probability density=%{y}<extra></extra>",
         "legendgroup": "Lasso Regression_auto_stat",
         "marker": {
          "color": "#636efa",
          "opacity": 0.5,
          "pattern": {
           "shape": ""
          }
         },
         "name": "Lasso Regression_auto_stat",
         "nbinsx": 100,
         "offsetgroup": "Lasso Regression_auto_stat",
         "orientation": "v",
         "showlegend": true,
         "type": "histogram",
         "x": [
          0.0384211304190933,
          0.06946762479276657,
          0.016665318356979663,
          0.12925499523988587,
          0.05119635533632307,
          0.009465310272837516,
          0.04617489401597902,
          0.08580221957179444,
          0.16929907951973716,
          0.06784751495843906,
          0.13395252256800438,
          0.028873228015697826,
          0.03845667497026091,
          0.6764948994793677,
          0.057605680219415,
          0.03411025631871123,
          0.17020954074165834,
          0.0696660752288814,
          0.04056706043193078,
          0.10988738584699931,
          0.022285122188070043,
          0.032919364056874234,
          0.11043142603559884,
          0.04750710337921114,
          0.12453322911499774,
          0.05153218152573378,
          0.061594624221994486,
          0.06621234040279883,
          0.023975122059822284,
          0.0918778703358125,
          0.15813422713477276,
          0.021270371546933422,
          0.014604810229476996,
          0.05260194882733304,
          0.07037611617441852,
          0.039226683099889914,
          0.012406457898115342,
          0.013809183803068696,
          0.10216785914090426,
          0.06665895942655838,
          0.08014894530411025,
          0.06882726934066612,
          0.059606559238812175,
          0.10050146674932825,
          0.11577290504061553,
          0.0995993623853639,
          0.10692878837431813,
          0.05700793206396335,
          0.059884669152207234,
          0.05125298673784782,
          0.03993694781582587,
          0.042730129922942284,
          0.05948959367845045,
          0.08933799614100907,
          0.004139931616432428,
          0.1320029971386841,
          0.07555774401038484,
          0.036244045700505975,
          0.08104287936120337,
          0.13926926258061373,
          0.041935168570591465,
          0.024113949875813234,
          0.042747426496413804,
          0.11598553759567544,
          0.1040646444897645,
          0.04784088674310166,
          0.2513636293517592,
          0.021186607065918496,
          0.06488000093795361,
          0.04177844797188784,
          0.040344630039182844,
          0.08493026674476517,
          0.06766545512248576,
          0.07410611643940035,
          0.06273140508936992,
          0.03460069875120306,
          0.05875666114656862,
          0.0558587986478486,
          0.03633340774905172,
          0.0064275785405859005,
          0.07104079443969027,
          0.03461991027286201,
          0.11733261963189383,
          0.010712697201137943,
          0.05681840704081711,
          0.07477456574929281,
          0.10448565002373761,
          0.06914439253340178,
          0.10657275835525265,
          0.06265064700133408,
          0.0819853022961327,
          0.11345516631258883,
          0.03793496482292567,
          0.095823372024888,
          0.10677285767830907,
          0.08933020380694386,
          0.05883859380938794,
          0.04484062154516937,
          0.14494330371661662,
          0.05121578574807717,
          0.03781293704435648,
          0.04852618525235525,
          0.0168113582763489,
          0.06194794367377372,
          0.15167516715116272,
          0.15783178727780955,
          0.0992644679361402,
          0.1900095569325059,
          0.10207510775715285,
          0.13052095582218967,
          0.03635563186983283,
          0.13497115848663488,
          0.07099646084185697,
          0.12023988102865658,
          0.02995172023184271,
          0.09524805445666383,
          0.07176825100246578,
          0.2561915771027694,
          0.17124097485149017,
          0.03796514808545992,
          0.08442613321951355,
          0.17867639385872286,
          0.03395293166267891,
          0.06352236166751218,
          0.027370317161310744,
          0.15632067044065,
          0.08788418834603041,
          0.0692753852962672,
          0.09195112533201935,
          0.051292494887725956,
          0.058236317035146194,
          0.12195261996136245,
          0.25524522887983164,
          0.048061208742914446,
          0.2355020855264854,
          0.03138304887023512,
          0.06574287868453739,
          0.12705096317620626,
          0.044789489967093817,
          0.03882625662890126,
          0.05195279015398411,
          0.26312886957346393,
          0.194250306428703,
          0.03033031864928538,
          0.034096592016544594,
          0.10785602127209769,
          0.06494069971963247,
          0.05970271382233796,
          0.13804763235582362,
          0.06730910613649778
         ],
         "xaxis": "x",
         "yaxis": "y"
        },
        {
         "alignmentgroup": "True",
         "hovertemplate": "Algorithm=Lasso Regression_auto_stat<br>MAE=%{x}<extra></extra>",
         "legendgroup": "Lasso Regression_auto_stat",
         "marker": {
          "color": "#636efa"
         },
         "name": "Lasso Regression_auto_stat",
         "notched": true,
         "offsetgroup": "Lasso Regression_auto_stat",
         "showlegend": false,
         "type": "box",
         "x": [
          0.0384211304190933,
          0.06946762479276657,
          0.016665318356979663,
          0.12925499523988587,
          0.05119635533632307,
          0.009465310272837516,
          0.04617489401597902,
          0.08580221957179444,
          0.16929907951973716,
          0.06784751495843906,
          0.13395252256800438,
          0.028873228015697826,
          0.03845667497026091,
          0.6764948994793677,
          0.057605680219415,
          0.03411025631871123,
          0.17020954074165834,
          0.0696660752288814,
          0.04056706043193078,
          0.10988738584699931,
          0.022285122188070043,
          0.032919364056874234,
          0.11043142603559884,
          0.04750710337921114,
          0.12453322911499774,
          0.05153218152573378,
          0.061594624221994486,
          0.06621234040279883,
          0.023975122059822284,
          0.0918778703358125,
          0.15813422713477276,
          0.021270371546933422,
          0.014604810229476996,
          0.05260194882733304,
          0.07037611617441852,
          0.039226683099889914,
          0.012406457898115342,
          0.013809183803068696,
          0.10216785914090426,
          0.06665895942655838,
          0.08014894530411025,
          0.06882726934066612,
          0.059606559238812175,
          0.10050146674932825,
          0.11577290504061553,
          0.0995993623853639,
          0.10692878837431813,
          0.05700793206396335,
          0.059884669152207234,
          0.05125298673784782,
          0.03993694781582587,
          0.042730129922942284,
          0.05948959367845045,
          0.08933799614100907,
          0.004139931616432428,
          0.1320029971386841,
          0.07555774401038484,
          0.036244045700505975,
          0.08104287936120337,
          0.13926926258061373,
          0.041935168570591465,
          0.024113949875813234,
          0.042747426496413804,
          0.11598553759567544,
          0.1040646444897645,
          0.04784088674310166,
          0.2513636293517592,
          0.021186607065918496,
          0.06488000093795361,
          0.04177844797188784,
          0.040344630039182844,
          0.08493026674476517,
          0.06766545512248576,
          0.07410611643940035,
          0.06273140508936992,
          0.03460069875120306,
          0.05875666114656862,
          0.0558587986478486,
          0.03633340774905172,
          0.0064275785405859005,
          0.07104079443969027,
          0.03461991027286201,
          0.11733261963189383,
          0.010712697201137943,
          0.05681840704081711,
          0.07477456574929281,
          0.10448565002373761,
          0.06914439253340178,
          0.10657275835525265,
          0.06265064700133408,
          0.0819853022961327,
          0.11345516631258883,
          0.03793496482292567,
          0.095823372024888,
          0.10677285767830907,
          0.08933020380694386,
          0.05883859380938794,
          0.04484062154516937,
          0.14494330371661662,
          0.05121578574807717,
          0.03781293704435648,
          0.04852618525235525,
          0.0168113582763489,
          0.06194794367377372,
          0.15167516715116272,
          0.15783178727780955,
          0.0992644679361402,
          0.1900095569325059,
          0.10207510775715285,
          0.13052095582218967,
          0.03635563186983283,
          0.13497115848663488,
          0.07099646084185697,
          0.12023988102865658,
          0.02995172023184271,
          0.09524805445666383,
          0.07176825100246578,
          0.2561915771027694,
          0.17124097485149017,
          0.03796514808545992,
          0.08442613321951355,
          0.17867639385872286,
          0.03395293166267891,
          0.06352236166751218,
          0.027370317161310744,
          0.15632067044065,
          0.08788418834603041,
          0.0692753852962672,
          0.09195112533201935,
          0.051292494887725956,
          0.058236317035146194,
          0.12195261996136245,
          0.25524522887983164,
          0.048061208742914446,
          0.2355020855264854,
          0.03138304887023512,
          0.06574287868453739,
          0.12705096317620626,
          0.044789489967093817,
          0.03882625662890126,
          0.05195279015398411,
          0.26312886957346393,
          0.194250306428703,
          0.03033031864928538,
          0.034096592016544594,
          0.10785602127209769,
          0.06494069971963247,
          0.05970271382233796,
          0.13804763235582362,
          0.06730910613649778
         ],
         "xaxis": "x2",
         "yaxis": "y2"
        },
        {
         "alignmentgroup": "True",
         "bingroup": "x",
         "histnorm": "probability density",
         "hovertemplate": "Algorithm=XGB Random Forest_auto_stat<br>MAE=%{x}<br>probability density=%{y}<extra></extra>",
         "legendgroup": "XGB Random Forest_auto_stat",
         "marker": {
          "color": "#EF553B",
          "opacity": 0.5,
          "pattern": {
           "shape": "/"
          }
         },
         "name": "XGB Random Forest_auto_stat",
         "nbinsx": 100,
         "offsetgroup": "XGB Random Forest_auto_stat",
         "orientation": "v",
         "showlegend": true,
         "type": "histogram",
         "x": [
          0.03904301993307435,
          0.07210928469436353,
          0.01734728483266555,
          0.12072291085325589,
          0.04989863187074661,
          0.011871902141955,
          0.04782535934407393,
          0.08830265544509842,
          0.17078770378315888,
          0.06838463385226426,
          0.13609747693760665,
          0.028737361823273303,
          0.04017163701575972,
          0.6673914435707414,
          0.05653218603777895,
          0.03419389908267812,
          0.1753666949686211,
          0.07106875672543463,
          0.04369261728610129,
          0.11064613120074,
          0.020946020633741846,
          0.03267437992436552,
          0.1063813024170923,
          0.050583094479975554,
          0.12804354150065259,
          0.052690693995920905,
          0.0591032431854065,
          0.06768544238962802,
          0.024474673520431076,
          0.1028766436659694,
          0.17124252439485385,
          0.021724039227763683,
          0.014308279164538995,
          0.05386967426886286,
          0.07951952117529415,
          0.014283622713552551,
          0.011914955941352915,
          0.008704601604784801,
          0.09674766025601893,
          0.06763633956209135,
          0.0826134480033284,
          0.07690356975920074,
          0.06180435164995693,
          0.10162218411527744,
          0.1093109221481839,
          0.10026248020039061,
          0.11412861978947009,
          0.058446152766261784,
          0.059636745951146285,
          0.05698861558408105,
          0.037365272581305335,
          0.03914473231695413,
          0.05705785791097722,
          0.09359193630424222,
          0.00270835333477794,
          0.13408655511994047,
          0.07838683181822245,
          0.03894117340008406,
          0.08002523405848629,
          0.1438423769288548,
          0.04197708756179215,
          0.02457924895668843,
          0.06941679230947237,
          0.12577046115844842,
          0.10382366115003759,
          0.047269018151434965,
          0.25894130226336864,
          0.019395231080011843,
          0.07159504335546274,
          0.044758747758811106,
          0.05121140248158655,
          0.08607689086797278,
          0.07269283638296388,
          0.08342027339628848,
          0.06208556213286826,
          0.03689953811675338,
          0.0595788529872001,
          0.05425845242438471,
          0.03699991938085328,
          0.025784630645622104,
          0.06738481747456622,
          0.03706666250680737,
          0.13574489748521273,
          0.010274465761749039,
          0.05564148114969396,
          0.07495078667127907,
          0.11014969289892951,
          0.06885629291691808,
          0.11211048767679947,
          0.06248616778360394,
          0.11839743739480166,
          0.11736562670557163,
          0.03850056988153402,
          0.09671250073635435,
          0.09521716913060092,
          0.09598948816384982,
          0.057340741323931375,
          0.046851028872382974,
          0.14953491108505207,
          0.058548887172067236,
          0.03824593842250862,
          0.04987389268505653,
          0.016107303614241134,
          0.061326713469281376,
          0.16886899406354833,
          0.15501761956488028,
          0.11593286478326456,
          0.19117667165842703,
          0.10806076129110721,
          0.13037070537427994,
          0.03714903680978671,
          0.13858969745938154,
          0.062217812834435955,
          0.12646769370930702,
          0.03721112745408297,
          0.0931947138819559,
          0.07347582923554251,
          0.20117151530490815,
          0.17595033547559513,
          0.0380265899682935,
          0.1083149864703605,
          0.17286833067327764,
          0.03392565666359661,
          0.0690988556174983,
          0.02716534886881517,
          0.1532534451931242,
          0.08185701086352289,
          0.06752889172026287,
          0.09252213978352741,
          0.04938698516809942,
          0.056852659314325676,
          0.12573863867066898,
          0.25353684227123546,
          0.052994585908626116,
          0.23718338471845773,
          0.0664978730202789,
          0.06399292349480001,
          0.12273924961654684,
          0.04767703299176094,
          0.04045870890426506,
          0.04916108694670249,
          0.3049050787812332,
          0.22583292390055826,
          0.02995610908361013,
          0.029436305478287825,
          0.10364133330823573,
          0.07110774450466636,
          0.060142221063783856,
          0.1364892867556153,
          0.05710310936026084
         ],
         "xaxis": "x",
         "yaxis": "y"
        },
        {
         "alignmentgroup": "True",
         "hovertemplate": "Algorithm=XGB Random Forest_auto_stat<br>MAE=%{x}<extra></extra>",
         "legendgroup": "XGB Random Forest_auto_stat",
         "marker": {
          "color": "#EF553B"
         },
         "name": "XGB Random Forest_auto_stat",
         "notched": true,
         "offsetgroup": "XGB Random Forest_auto_stat",
         "showlegend": false,
         "type": "box",
         "x": [
          0.03904301993307435,
          0.07210928469436353,
          0.01734728483266555,
          0.12072291085325589,
          0.04989863187074661,
          0.011871902141955,
          0.04782535934407393,
          0.08830265544509842,
          0.17078770378315888,
          0.06838463385226426,
          0.13609747693760665,
          0.028737361823273303,
          0.04017163701575972,
          0.6673914435707414,
          0.05653218603777895,
          0.03419389908267812,
          0.1753666949686211,
          0.07106875672543463,
          0.04369261728610129,
          0.11064613120074,
          0.020946020633741846,
          0.03267437992436552,
          0.1063813024170923,
          0.050583094479975554,
          0.12804354150065259,
          0.052690693995920905,
          0.0591032431854065,
          0.06768544238962802,
          0.024474673520431076,
          0.1028766436659694,
          0.17124252439485385,
          0.021724039227763683,
          0.014308279164538995,
          0.05386967426886286,
          0.07951952117529415,
          0.014283622713552551,
          0.011914955941352915,
          0.008704601604784801,
          0.09674766025601893,
          0.06763633956209135,
          0.0826134480033284,
          0.07690356975920074,
          0.06180435164995693,
          0.10162218411527744,
          0.1093109221481839,
          0.10026248020039061,
          0.11412861978947009,
          0.058446152766261784,
          0.059636745951146285,
          0.05698861558408105,
          0.037365272581305335,
          0.03914473231695413,
          0.05705785791097722,
          0.09359193630424222,
          0.00270835333477794,
          0.13408655511994047,
          0.07838683181822245,
          0.03894117340008406,
          0.08002523405848629,
          0.1438423769288548,
          0.04197708756179215,
          0.02457924895668843,
          0.06941679230947237,
          0.12577046115844842,
          0.10382366115003759,
          0.047269018151434965,
          0.25894130226336864,
          0.019395231080011843,
          0.07159504335546274,
          0.044758747758811106,
          0.05121140248158655,
          0.08607689086797278,
          0.07269283638296388,
          0.08342027339628848,
          0.06208556213286826,
          0.03689953811675338,
          0.0595788529872001,
          0.05425845242438471,
          0.03699991938085328,
          0.025784630645622104,
          0.06738481747456622,
          0.03706666250680737,
          0.13574489748521273,
          0.010274465761749039,
          0.05564148114969396,
          0.07495078667127907,
          0.11014969289892951,
          0.06885629291691808,
          0.11211048767679947,
          0.06248616778360394,
          0.11839743739480166,
          0.11736562670557163,
          0.03850056988153402,
          0.09671250073635435,
          0.09521716913060092,
          0.09598948816384982,
          0.057340741323931375,
          0.046851028872382974,
          0.14953491108505207,
          0.058548887172067236,
          0.03824593842250862,
          0.04987389268505653,
          0.016107303614241134,
          0.061326713469281376,
          0.16886899406354833,
          0.15501761956488028,
          0.11593286478326456,
          0.19117667165842703,
          0.10806076129110721,
          0.13037070537427994,
          0.03714903680978671,
          0.13858969745938154,
          0.062217812834435955,
          0.12646769370930702,
          0.03721112745408297,
          0.0931947138819559,
          0.07347582923554251,
          0.20117151530490815,
          0.17595033547559513,
          0.0380265899682935,
          0.1083149864703605,
          0.17286833067327764,
          0.03392565666359661,
          0.0690988556174983,
          0.02716534886881517,
          0.1532534451931242,
          0.08185701086352289,
          0.06752889172026287,
          0.09252213978352741,
          0.04938698516809942,
          0.056852659314325676,
          0.12573863867066898,
          0.25353684227123546,
          0.052994585908626116,
          0.23718338471845773,
          0.0664978730202789,
          0.06399292349480001,
          0.12273924961654684,
          0.04767703299176094,
          0.04045870890426506,
          0.04916108694670249,
          0.3049050787812332,
          0.22583292390055826,
          0.02995610908361013,
          0.029436305478287825,
          0.10364133330823573,
          0.07110774450466636,
          0.060142221063783856,
          0.1364892867556153,
          0.05710310936026084
         ],
         "xaxis": "x2",
         "yaxis": "y2"
        },
        {
         "alignmentgroup": "True",
         "bingroup": "x",
         "histnorm": "probability density",
         "hovertemplate": "Algorithm=LightGBM_auto_stat<br>MAE=%{x}<br>probability density=%{y}<extra></extra>",
         "legendgroup": "LightGBM_auto_stat",
         "marker": {
          "color": "#00cc96",
          "opacity": 0.5,
          "pattern": {
           "shape": "\\"
          }
         },
         "name": "LightGBM_auto_stat",
         "nbinsx": 100,
         "offsetgroup": "LightGBM_auto_stat",
         "orientation": "v",
         "showlegend": true,
         "type": "histogram",
         "x": [
          0.0359004007438432,
          0.07006308224056193,
          0.015085226081743482,
          0.1111855254363025,
          0.049721146746381055,
          0.005366876295647655,
          0.04403314935536289,
          0.08279678364266808,
          0.1508589648254868,
          0.06557016555667022,
          0.12433918295228642,
          0.026625686651861498,
          0.0373996266241964,
          0.45943488857837533,
          0.05291134271701802,
          0.029707022154559795,
          0.1689639823739222,
          0.06522791264888839,
          0.03544884745951695,
          0.10816700882771384,
          0.02129414793978186,
          0.032947475206399304,
          0.10112037759503809,
          0.04601065682732739,
          0.12051499874928367,
          0.04980445875183517,
          0.05754417718914581,
          0.06380762872607015,
          0.023417227888385732,
          0.09132362311192704,
          0.15625752047670888,
          0.018185158892401607,
          0.012193134124370989,
          0.04892093031779603,
          0.06952162916200319,
          0.005302333214681574,
          0.010393061505745026,
          0.007616298960898828,
          0.0831727258734352,
          0.06421370659318765,
          0.07664584679697022,
          0.07216553827754413,
          0.05866501168572902,
          0.09598676786646183,
          0.10986405219367493,
          0.10266981108470892,
          0.10896874678628701,
          0.05495760467530442,
          0.05819889854424611,
          0.0517479273317602,
          0.03610678797264233,
          0.03472420929132703,
          0.055755251775042335,
          0.08600415583174253,
          0.0005377612017502629,
          0.17460146719859418,
          0.07069679072195592,
          0.03056177239568177,
          0.07721398332937654,
          0.13973907819282677,
          0.03831512009207899,
          0.023976143959360614,
          0.05480696503291939,
          0.11697353721371732,
          0.09255743989020221,
          0.04557583794454695,
          0.19775806015030306,
          0.017314511458896738,
          0.058938987136420436,
          0.04298898810878814,
          0.03591540329855768,
          0.07868750118538806,
          0.0547103978497022,
          0.07148102916117713,
          0.05846038066774849,
          0.029133064819029535,
          0.055530749329873126,
          0.04871828632791046,
          0.03308619754031464,
          0.01087503696495588,
          0.06669609760631842,
          0.03351128153919531,
          0.12086151301689636,
          0.009992365149664914,
          0.05508294689025108,
          0.07156907443796359,
          0.09481880528550783,
          0.06431478005658564,
          0.1033179365626801,
          0.058454591280108416,
          0.08412383922665717,
          0.11196228944458621,
          0.036585148000153056,
          0.09022470617656493,
          0.09325205582185536,
          0.08983817635090269,
          0.065247800976686,
          0.03964079853540567,
          0.13813338440205503,
          0.047922874668851013,
          0.034583754750125775,
          0.05026274531551984,
          0.01489960581603444,
          0.05758298848159478,
          0.14148228752060907,
          0.1504377626268267,
          0.09373596910181506,
          0.1758985772654172,
          0.10039729206477896,
          0.1259070149433127,
          0.03605217243879493,
          0.14318471822605042,
          0.05388195277803011,
          0.12011057689677201,
          0.026522148579402532,
          0.08479976310373777,
          0.06789356073630194,
          0.1465979568000249,
          0.17065747753617103,
          0.03567738395730446,
          0.06752949786325019,
          0.16738009402356777,
          0.02799326150622943,
          0.06717786740124694,
          0.02736545447024439,
          0.14923499832731554,
          0.07812906658434317,
          0.06338641421091638,
          0.08987959776956914,
          0.045731831912132336,
          0.054313927099175256,
          0.11070220706268648,
          0.18439237990888452,
          0.04627129783698647,
          0.21696565406973178,
          0.04900051029758213,
          0.061333790214056993,
          0.11980663374362245,
          0.042912848759609316,
          0.03673285225013322,
          0.045051628113244806,
          0.24519259069820845,
          0.17515871460360588,
          0.0275301798309228,
          0.03297845891161635,
          0.07736129510877071,
          0.06218455244262189,
          0.05598449755929928,
          0.1350420675080166,
          0.04931132846124466
         ],
         "xaxis": "x",
         "yaxis": "y"
        },
        {
         "alignmentgroup": "True",
         "hovertemplate": "Algorithm=LightGBM_auto_stat<br>MAE=%{x}<extra></extra>",
         "legendgroup": "LightGBM_auto_stat",
         "marker": {
          "color": "#00cc96"
         },
         "name": "LightGBM_auto_stat",
         "notched": true,
         "offsetgroup": "LightGBM_auto_stat",
         "showlegend": false,
         "type": "box",
         "x": [
          0.0359004007438432,
          0.07006308224056193,
          0.015085226081743482,
          0.1111855254363025,
          0.049721146746381055,
          0.005366876295647655,
          0.04403314935536289,
          0.08279678364266808,
          0.1508589648254868,
          0.06557016555667022,
          0.12433918295228642,
          0.026625686651861498,
          0.0373996266241964,
          0.45943488857837533,
          0.05291134271701802,
          0.029707022154559795,
          0.1689639823739222,
          0.06522791264888839,
          0.03544884745951695,
          0.10816700882771384,
          0.02129414793978186,
          0.032947475206399304,
          0.10112037759503809,
          0.04601065682732739,
          0.12051499874928367,
          0.04980445875183517,
          0.05754417718914581,
          0.06380762872607015,
          0.023417227888385732,
          0.09132362311192704,
          0.15625752047670888,
          0.018185158892401607,
          0.012193134124370989,
          0.04892093031779603,
          0.06952162916200319,
          0.005302333214681574,
          0.010393061505745026,
          0.007616298960898828,
          0.0831727258734352,
          0.06421370659318765,
          0.07664584679697022,
          0.07216553827754413,
          0.05866501168572902,
          0.09598676786646183,
          0.10986405219367493,
          0.10266981108470892,
          0.10896874678628701,
          0.05495760467530442,
          0.05819889854424611,
          0.0517479273317602,
          0.03610678797264233,
          0.03472420929132703,
          0.055755251775042335,
          0.08600415583174253,
          0.0005377612017502629,
          0.17460146719859418,
          0.07069679072195592,
          0.03056177239568177,
          0.07721398332937654,
          0.13973907819282677,
          0.03831512009207899,
          0.023976143959360614,
          0.05480696503291939,
          0.11697353721371732,
          0.09255743989020221,
          0.04557583794454695,
          0.19775806015030306,
          0.017314511458896738,
          0.058938987136420436,
          0.04298898810878814,
          0.03591540329855768,
          0.07868750118538806,
          0.0547103978497022,
          0.07148102916117713,
          0.05846038066774849,
          0.029133064819029535,
          0.055530749329873126,
          0.04871828632791046,
          0.03308619754031464,
          0.01087503696495588,
          0.06669609760631842,
          0.03351128153919531,
          0.12086151301689636,
          0.009992365149664914,
          0.05508294689025108,
          0.07156907443796359,
          0.09481880528550783,
          0.06431478005658564,
          0.1033179365626801,
          0.058454591280108416,
          0.08412383922665717,
          0.11196228944458621,
          0.036585148000153056,
          0.09022470617656493,
          0.09325205582185536,
          0.08983817635090269,
          0.065247800976686,
          0.03964079853540567,
          0.13813338440205503,
          0.047922874668851013,
          0.034583754750125775,
          0.05026274531551984,
          0.01489960581603444,
          0.05758298848159478,
          0.14148228752060907,
          0.1504377626268267,
          0.09373596910181506,
          0.1758985772654172,
          0.10039729206477896,
          0.1259070149433127,
          0.03605217243879493,
          0.14318471822605042,
          0.05388195277803011,
          0.12011057689677201,
          0.026522148579402532,
          0.08479976310373777,
          0.06789356073630194,
          0.1465979568000249,
          0.17065747753617103,
          0.03567738395730446,
          0.06752949786325019,
          0.16738009402356777,
          0.02799326150622943,
          0.06717786740124694,
          0.02736545447024439,
          0.14923499832731554,
          0.07812906658434317,
          0.06338641421091638,
          0.08987959776956914,
          0.045731831912132336,
          0.054313927099175256,
          0.11070220706268648,
          0.18439237990888452,
          0.04627129783698647,
          0.21696565406973178,
          0.04900051029758213,
          0.061333790214056993,
          0.11980663374362245,
          0.042912848759609316,
          0.03673285225013322,
          0.045051628113244806,
          0.24519259069820845,
          0.17515871460360588,
          0.0275301798309228,
          0.03297845891161635,
          0.07736129510877071,
          0.06218455244262189,
          0.05598449755929928,
          0.1350420675080166,
          0.04931132846124466
         ],
         "xaxis": "x2",
         "yaxis": "y2"
        }
       ],
       "layout": {
        "autosize": false,
        "barmode": "overlay",
        "height": 500,
        "legend": {
         "title": {},
         "tracegroupgap": 0
        },
        "margin": {
         "t": 60
        },
        "template": {
         "data": {
          "bar": [
           {
            "error_x": {
             "color": "#2a3f5f"
            },
            "error_y": {
             "color": "#2a3f5f"
            },
            "marker": {
             "line": {
              "color": "white",
              "width": 0.5
             },
             "pattern": {
              "fillmode": "overlay",
              "size": 10,
              "solidity": 0.2
             }
            },
            "type": "bar"
           }
          ],
          "barpolar": [
           {
            "marker": {
             "line": {
              "color": "white",
              "width": 0.5
             },
             "pattern": {
              "fillmode": "overlay",
              "size": 10,
              "solidity": 0.2
             }
            },
            "type": "barpolar"
           }
          ],
          "carpet": [
           {
            "aaxis": {
             "endlinecolor": "#2a3f5f",
             "gridcolor": "#C8D4E3",
             "linecolor": "#C8D4E3",
             "minorgridcolor": "#C8D4E3",
             "startlinecolor": "#2a3f5f"
            },
            "baxis": {
             "endlinecolor": "#2a3f5f",
             "gridcolor": "#C8D4E3",
             "linecolor": "#C8D4E3",
             "minorgridcolor": "#C8D4E3",
             "startlinecolor": "#2a3f5f"
            },
            "type": "carpet"
           }
          ],
          "choropleth": [
           {
            "colorbar": {
             "outlinewidth": 0,
             "ticks": ""
            },
            "type": "choropleth"
           }
          ],
          "contour": [
           {
            "colorbar": {
             "outlinewidth": 0,
             "ticks": ""
            },
            "colorscale": [
             [
              0,
              "#0d0887"
             ],
             [
              0.1111111111111111,
              "#46039f"
             ],
             [
              0.2222222222222222,
              "#7201a8"
             ],
             [
              0.3333333333333333,
              "#9c179e"
             ],
             [
              0.4444444444444444,
              "#bd3786"
             ],
             [
              0.5555555555555556,
              "#d8576b"
             ],
             [
              0.6666666666666666,
              "#ed7953"
             ],
             [
              0.7777777777777778,
              "#fb9f3a"
             ],
             [
              0.8888888888888888,
              "#fdca26"
             ],
             [
              1,
              "#f0f921"
             ]
            ],
            "type": "contour"
           }
          ],
          "contourcarpet": [
           {
            "colorbar": {
             "outlinewidth": 0,
             "ticks": ""
            },
            "type": "contourcarpet"
           }
          ],
          "heatmap": [
           {
            "colorbar": {
             "outlinewidth": 0,
             "ticks": ""
            },
            "colorscale": [
             [
              0,
              "#0d0887"
             ],
             [
              0.1111111111111111,
              "#46039f"
             ],
             [
              0.2222222222222222,
              "#7201a8"
             ],
             [
              0.3333333333333333,
              "#9c179e"
             ],
             [
              0.4444444444444444,
              "#bd3786"
             ],
             [
              0.5555555555555556,
              "#d8576b"
             ],
             [
              0.6666666666666666,
              "#ed7953"
             ],
             [
              0.7777777777777778,
              "#fb9f3a"
             ],
             [
              0.8888888888888888,
              "#fdca26"
             ],
             [
              1,
              "#f0f921"
             ]
            ],
            "type": "heatmap"
           }
          ],
          "heatmapgl": [
           {
            "colorbar": {
             "outlinewidth": 0,
             "ticks": ""
            },
            "colorscale": [
             [
              0,
              "#0d0887"
             ],
             [
              0.1111111111111111,
              "#46039f"
             ],
             [
              0.2222222222222222,
              "#7201a8"
             ],
             [
              0.3333333333333333,
              "#9c179e"
             ],
             [
              0.4444444444444444,
              "#bd3786"
             ],
             [
              0.5555555555555556,
              "#d8576b"
             ],
             [
              0.6666666666666666,
              "#ed7953"
             ],
             [
              0.7777777777777778,
              "#fb9f3a"
             ],
             [
              0.8888888888888888,
              "#fdca26"
             ],
             [
              1,
              "#f0f921"
             ]
            ],
            "type": "heatmapgl"
           }
          ],
          "histogram": [
           {
            "marker": {
             "pattern": {
              "fillmode": "overlay",
              "size": 10,
              "solidity": 0.2
             }
            },
            "type": "histogram"
           }
          ],
          "histogram2d": [
           {
            "colorbar": {
             "outlinewidth": 0,
             "ticks": ""
            },
            "colorscale": [
             [
              0,
              "#0d0887"
             ],
             [
              0.1111111111111111,
              "#46039f"
             ],
             [
              0.2222222222222222,
              "#7201a8"
             ],
             [
              0.3333333333333333,
              "#9c179e"
             ],
             [
              0.4444444444444444,
              "#bd3786"
             ],
             [
              0.5555555555555556,
              "#d8576b"
             ],
             [
              0.6666666666666666,
              "#ed7953"
             ],
             [
              0.7777777777777778,
              "#fb9f3a"
             ],
             [
              0.8888888888888888,
              "#fdca26"
             ],
             [
              1,
              "#f0f921"
             ]
            ],
            "type": "histogram2d"
           }
          ],
          "histogram2dcontour": [
           {
            "colorbar": {
             "outlinewidth": 0,
             "ticks": ""
            },
            "colorscale": [
             [
              0,
              "#0d0887"
             ],
             [
              0.1111111111111111,
              "#46039f"
             ],
             [
              0.2222222222222222,
              "#7201a8"
             ],
             [
              0.3333333333333333,
              "#9c179e"
             ],
             [
              0.4444444444444444,
              "#bd3786"
             ],
             [
              0.5555555555555556,
              "#d8576b"
             ],
             [
              0.6666666666666666,
              "#ed7953"
             ],
             [
              0.7777777777777778,
              "#fb9f3a"
             ],
             [
              0.8888888888888888,
              "#fdca26"
             ],
             [
              1,
              "#f0f921"
             ]
            ],
            "type": "histogram2dcontour"
           }
          ],
          "mesh3d": [
           {
            "colorbar": {
             "outlinewidth": 0,
             "ticks": ""
            },
            "type": "mesh3d"
           }
          ],
          "parcoords": [
           {
            "line": {
             "colorbar": {
              "outlinewidth": 0,
              "ticks": ""
             }
            },
            "type": "parcoords"
           }
          ],
          "pie": [
           {
            "automargin": true,
            "type": "pie"
           }
          ],
          "scatter": [
           {
            "fillpattern": {
             "fillmode": "overlay",
             "size": 10,
             "solidity": 0.2
            },
            "type": "scatter"
           }
          ],
          "scatter3d": [
           {
            "line": {
             "colorbar": {
              "outlinewidth": 0,
              "ticks": ""
             }
            },
            "marker": {
             "colorbar": {
              "outlinewidth": 0,
              "ticks": ""
             }
            },
            "type": "scatter3d"
           }
          ],
          "scattercarpet": [
           {
            "marker": {
             "colorbar": {
              "outlinewidth": 0,
              "ticks": ""
             }
            },
            "type": "scattercarpet"
           }
          ],
          "scattergeo": [
           {
            "marker": {
             "colorbar": {
              "outlinewidth": 0,
              "ticks": ""
             }
            },
            "type": "scattergeo"
           }
          ],
          "scattergl": [
           {
            "marker": {
             "colorbar": {
              "outlinewidth": 0,
              "ticks": ""
             }
            },
            "type": "scattergl"
           }
          ],
          "scattermapbox": [
           {
            "marker": {
             "colorbar": {
              "outlinewidth": 0,
              "ticks": ""
             }
            },
            "type": "scattermapbox"
           }
          ],
          "scatterpolar": [
           {
            "marker": {
             "colorbar": {
              "outlinewidth": 0,
              "ticks": ""
             }
            },
            "type": "scatterpolar"
           }
          ],
          "scatterpolargl": [
           {
            "marker": {
             "colorbar": {
              "outlinewidth": 0,
              "ticks": ""
             }
            },
            "type": "scatterpolargl"
           }
          ],
          "scatterternary": [
           {
            "marker": {
             "colorbar": {
              "outlinewidth": 0,
              "ticks": ""
             }
            },
            "type": "scatterternary"
           }
          ],
          "surface": [
           {
            "colorbar": {
             "outlinewidth": 0,
             "ticks": ""
            },
            "colorscale": [
             [
              0,
              "#0d0887"
             ],
             [
              0.1111111111111111,
              "#46039f"
             ],
             [
              0.2222222222222222,
              "#7201a8"
             ],
             [
              0.3333333333333333,
              "#9c179e"
             ],
             [
              0.4444444444444444,
              "#bd3786"
             ],
             [
              0.5555555555555556,
              "#d8576b"
             ],
             [
              0.6666666666666666,
              "#ed7953"
             ],
             [
              0.7777777777777778,
              "#fb9f3a"
             ],
             [
              0.8888888888888888,
              "#fdca26"
             ],
             [
              1,
              "#f0f921"
             ]
            ],
            "type": "surface"
           }
          ],
          "table": [
           {
            "cells": {
             "fill": {
              "color": "#EBF0F8"
             },
             "line": {
              "color": "white"
             }
            },
            "header": {
             "fill": {
              "color": "#C8D4E3"
             },
             "line": {
              "color": "white"
             }
            },
            "type": "table"
           }
          ]
         },
         "layout": {
          "annotationdefaults": {
           "arrowcolor": "#2a3f5f",
           "arrowhead": 0,
           "arrowwidth": 1
          },
          "autotypenumbers": "strict",
          "coloraxis": {
           "colorbar": {
            "outlinewidth": 0,
            "ticks": ""
           }
          },
          "colorscale": {
           "diverging": [
            [
             0,
             "#8e0152"
            ],
            [
             0.1,
             "#c51b7d"
            ],
            [
             0.2,
             "#de77ae"
            ],
            [
             0.3,
             "#f1b6da"
            ],
            [
             0.4,
             "#fde0ef"
            ],
            [
             0.5,
             "#f7f7f7"
            ],
            [
             0.6,
             "#e6f5d0"
            ],
            [
             0.7,
             "#b8e186"
            ],
            [
             0.8,
             "#7fbc41"
            ],
            [
             0.9,
             "#4d9221"
            ],
            [
             1,
             "#276419"
            ]
           ],
           "sequential": [
            [
             0,
             "#0d0887"
            ],
            [
             0.1111111111111111,
             "#46039f"
            ],
            [
             0.2222222222222222,
             "#7201a8"
            ],
            [
             0.3333333333333333,
             "#9c179e"
            ],
            [
             0.4444444444444444,
             "#bd3786"
            ],
            [
             0.5555555555555556,
             "#d8576b"
            ],
            [
             0.6666666666666666,
             "#ed7953"
            ],
            [
             0.7777777777777778,
             "#fb9f3a"
            ],
            [
             0.8888888888888888,
             "#fdca26"
            ],
            [
             1,
             "#f0f921"
            ]
           ],
           "sequentialminus": [
            [
             0,
             "#0d0887"
            ],
            [
             0.1111111111111111,
             "#46039f"
            ],
            [
             0.2222222222222222,
             "#7201a8"
            ],
            [
             0.3333333333333333,
             "#9c179e"
            ],
            [
             0.4444444444444444,
             "#bd3786"
            ],
            [
             0.5555555555555556,
             "#d8576b"
            ],
            [
             0.6666666666666666,
             "#ed7953"
            ],
            [
             0.7777777777777778,
             "#fb9f3a"
            ],
            [
             0.8888888888888888,
             "#fdca26"
            ],
            [
             1,
             "#f0f921"
            ]
           ]
          },
          "colorway": [
           "#636efa",
           "#EF553B",
           "#00cc96",
           "#ab63fa",
           "#FFA15A",
           "#19d3f3",
           "#FF6692",
           "#B6E880",
           "#FF97FF",
           "#FECB52"
          ],
          "font": {
           "color": "#2a3f5f"
          },
          "geo": {
           "bgcolor": "white",
           "lakecolor": "white",
           "landcolor": "white",
           "showlakes": true,
           "showland": true,
           "subunitcolor": "#C8D4E3"
          },
          "hoverlabel": {
           "align": "left"
          },
          "hovermode": "closest",
          "mapbox": {
           "style": "light"
          },
          "paper_bgcolor": "white",
          "plot_bgcolor": "white",
          "polar": {
           "angularaxis": {
            "gridcolor": "#EBF0F8",
            "linecolor": "#EBF0F8",
            "ticks": ""
           },
           "bgcolor": "white",
           "radialaxis": {
            "gridcolor": "#EBF0F8",
            "linecolor": "#EBF0F8",
            "ticks": ""
           }
          },
          "scene": {
           "xaxis": {
            "backgroundcolor": "white",
            "gridcolor": "#DFE8F3",
            "gridwidth": 2,
            "linecolor": "#EBF0F8",
            "showbackground": true,
            "ticks": "",
            "zerolinecolor": "#EBF0F8"
           },
           "yaxis": {
            "backgroundcolor": "white",
            "gridcolor": "#DFE8F3",
            "gridwidth": 2,
            "linecolor": "#EBF0F8",
            "showbackground": true,
            "ticks": "",
            "zerolinecolor": "#EBF0F8"
           },
           "zaxis": {
            "backgroundcolor": "white",
            "gridcolor": "#DFE8F3",
            "gridwidth": 2,
            "linecolor": "#EBF0F8",
            "showbackground": true,
            "ticks": "",
            "zerolinecolor": "#EBF0F8"
           }
          },
          "shapedefaults": {
           "line": {
            "color": "#2a3f5f"
           }
          },
          "ternary": {
           "aaxis": {
            "gridcolor": "#DFE8F3",
            "linecolor": "#A2B1C6",
            "ticks": ""
           },
           "baxis": {
            "gridcolor": "#DFE8F3",
            "linecolor": "#A2B1C6",
            "ticks": ""
           },
           "bgcolor": "white",
           "caxis": {
            "gridcolor": "#DFE8F3",
            "linecolor": "#A2B1C6",
            "ticks": ""
           }
          },
          "title": {
           "x": 0.05
          },
          "xaxis": {
           "automargin": true,
           "gridcolor": "#EBF0F8",
           "linecolor": "#EBF0F8",
           "ticks": "",
           "title": {
            "standoff": 15
           },
           "zerolinecolor": "#EBF0F8",
           "zerolinewidth": 2
          },
          "yaxis": {
           "automargin": true,
           "gridcolor": "#EBF0F8",
           "linecolor": "#EBF0F8",
           "ticks": "",
           "title": {
            "standoff": 15
           },
           "zerolinecolor": "#EBF0F8",
           "zerolinewidth": 2
          }
         }
        },
        "title": {
         "font": {
          "size": 20
         },
         "text": "Distribution of MAE in the dataset",
         "x": 0.5,
         "xanchor": "center",
         "yanchor": "top"
        },
        "width": 900,
        "xaxis": {
         "anchor": "y",
         "domain": [
          0,
          1
         ],
         "range": [
          0,
          0.4
         ],
         "title": {
          "font": {
           "size": 12
          },
          "text": "MAE"
         }
        },
        "xaxis2": {
         "anchor": "y2",
         "domain": [
          0,
          1
         ],
         "matches": "x",
         "showgrid": true,
         "showticklabels": false
        },
        "yaxis": {
         "anchor": "x",
         "domain": [
          0,
          0.7326
         ],
         "title": {
          "font": {
           "size": 12
          },
          "text": "Probability Density"
         }
        },
        "yaxis2": {
         "anchor": "x2",
         "domain": [
          0.7426,
          1
         ],
         "matches": "y2",
         "showgrid": false,
         "showline": false,
         "showticklabels": false,
         "ticks": ""
        }
       }
      }
     },
     "metadata": {},
     "output_type": "display_data"
    }
   ],
   "source": [
    "fig = px.histogram(\n",
    "    metrics_df,\n",
    "    x=\"MAE\",\n",
    "    color=\"Algorithm\",\n",
    "    pattern_shape=\"Algorithm\",\n",
    "    marginal=\"box\",\n",
    "    nbins=100,\n",
    "    barmode=\"overlay\",\n",
    "    histnorm=\"probability density\",\n",
    ")\n",
    "fig = format_plot(\n",
    "    fig,\n",
    "    xlabel=\"MAE\",\n",
    "    ylabel=\"Probability Density\",\n",
    "    title=\"Distribution of MAE in the dataset\",\n",
    ")\n",
    "# fig.write_image(\"imgs/chapter_8/mae_dist.png\")\n",
    "fig.update_layout(xaxis_range=[0, 0.4])\n",
    "fig.show()"
   ]
  },
  {
   "cell_type": "code",
   "execution_count": 25,
   "id": "9e89266e-ab40-4f44-9461-ec0c755c6a61",
   "metadata": {},
   "outputs": [
    {
     "data": {
      "application/vnd.plotly.v1+json": {
       "config": {
        "plotlyServerURL": "https://plot.ly"
       },
       "data": [
        {
         "alignmentgroup": "True",
         "bingroup": "x",
         "histnorm": "probability density",
         "hovertemplate": "Algorithm=Lasso Regression_auto_stat<br>MSE=%{x}<br>probability density=%{y}<extra></extra>",
         "legendgroup": "Lasso Regression_auto_stat",
         "marker": {
          "color": "#636efa",
          "opacity": 0.5,
          "pattern": {
           "shape": ""
          }
         },
         "name": "Lasso Regression_auto_stat",
         "nbinsx": 500,
         "offsetgroup": "Lasso Regression_auto_stat",
         "orientation": "v",
         "showlegend": true,
         "type": "histogram",
         "x": [
          0.0032556040549058013,
          0.02489478409075248,
          0.0011061168496644732,
          0.030427809217448965,
          0.0077581922948581385,
          0.0001526489897005183,
          0.006293432242353163,
          0.02345762017663964,
          0.08642536139630733,
          0.011353034953831546,
          0.05248212693586479,
          0.001555350660219517,
          0.003588326584809429,
          1.6008079691199373,
          0.008861924113742585,
          0.0038932365668222554,
          0.07962734552965284,
          0.014653557962173144,
          0.0040057369711798884,
          0.0273159641035702,
          0.0030501377855239697,
          0.004225310197510303,
          0.031643615558920035,
          0.009994600405428525,
          0.037863277952314804,
          0.010986373790937674,
          0.014366873624196023,
          0.01590297389286636,
          0.0016168510467111528,
          0.026301718871049172,
          0.057412855270078,
          0.0007551068897619942,
          0.0007046815728826956,
          0.010185769378124017,
          0.01654513707431445,
          0.0032684054297658083,
          0.0003674812657312974,
          0.0004872823965849681,
          0.033256838970519,
          0.022393982224118453,
          0.02467641179992366,
          0.020640554782210333,
          0.011414466368537957,
          0.028366441873852583,
          0.05539734925977542,
          0.03603303131970234,
          0.030489378156047527,
          0.011340104768774943,
          0.010285062915708585,
          0.010836063726897103,
          0.005909662665041165,
          0.004309389129380701,
          0.01761259769226783,
          0.018952784799835306,
          0.00001890097225121955,
          0.042046404029717994,
          0.020343712814957466,
          0.003653992234874121,
          0.018651526160048008,
          0.047616194093926624,
          0.00832830904491328,
          0.0016519082896028073,
          0.0057815000240136975,
          0.03853749988622512,
          0.03997875808759108,
          0.00651970954961917,
          0.13447872345870712,
          0.0011826507243427149,
          0.00909409791466841,
          0.00542484816989037,
          0.0051705626037972475,
          0.02286536687450608,
          0.013775393914521605,
          0.022008189333877506,
          0.01204261502388598,
          0.0036305920879643305,
          0.011165951138863763,
          0.0063497934675294625,
          0.003250254757105096,
          0.00006943232002006144,
          0.042782750185811014,
          0.0032987459792363882,
          0.03628945456813884,
          0.0002641026284847351,
          0.012211412132239962,
          0.01740832509556903,
          0.03032000767951747,
          0.01991855700161421,
          0.030012612243417034,
          0.01166697144410582,
          0.02110285297228968,
          0.03242459455538739,
          0.00799512669530211,
          0.019269087755123586,
          0.030140174168901218,
          0.02449158730269803,
          0.018788926619093312,
          0.00610184562175574,
          0.0668240204251119,
          0.00907250355408337,
          0.0037581330541357812,
          0.009365175326752588,
          0.0005449089627810381,
          0.012315692284054363,
          0.05277699003423181,
          0.06276251826388539,
          0.026986400504446846,
          0.09486201133531734,
          0.03847180477731067,
          0.047881965800940375,
          0.005729896349983176,
          0.09829600018106441,
          0.012144586649331402,
          0.03451281570161103,
          0.002757802148511043,
          0.04058737956530657,
          0.014361954092241374,
          0.218728987387479,
          0.07289200705329903,
          0.00508561534173818,
          0.012977314959745974,
          0.19202469908081135,
          0.0032368395447431855,
          0.011598899409023922,
          0.002115281456593251,
          0.06542942328556198,
          0.020159599442835286,
          0.021555143920557514,
          0.016371876234768077,
          0.010886628713040901,
          0.010236431318065144,
          0.03712054651072832,
          0.15827567130055384,
          0.005499530119510022,
          0.1510717082848518,
          0.0025256757617634846,
          0.021912587668834037,
          0.04616802268874447,
          0.005601784237733374,
          0.0055293085319036974,
          0.007935366769499911,
          0.1404964600073495,
          0.07569066532624906,
          0.0025167976395146204,
          0.013597954391809518,
          0.041331140792077704,
          0.015653760058157787,
          0.012310187322018435,
          0.11286658461495248,
          0.019001675817245618
         ],
         "xaxis": "x",
         "yaxis": "y"
        },
        {
         "alignmentgroup": "True",
         "hovertemplate": "Algorithm=Lasso Regression_auto_stat<br>MSE=%{x}<extra></extra>",
         "legendgroup": "Lasso Regression_auto_stat",
         "marker": {
          "color": "#636efa"
         },
         "name": "Lasso Regression_auto_stat",
         "notched": true,
         "offsetgroup": "Lasso Regression_auto_stat",
         "showlegend": false,
         "type": "box",
         "x": [
          0.0032556040549058013,
          0.02489478409075248,
          0.0011061168496644732,
          0.030427809217448965,
          0.0077581922948581385,
          0.0001526489897005183,
          0.006293432242353163,
          0.02345762017663964,
          0.08642536139630733,
          0.011353034953831546,
          0.05248212693586479,
          0.001555350660219517,
          0.003588326584809429,
          1.6008079691199373,
          0.008861924113742585,
          0.0038932365668222554,
          0.07962734552965284,
          0.014653557962173144,
          0.0040057369711798884,
          0.0273159641035702,
          0.0030501377855239697,
          0.004225310197510303,
          0.031643615558920035,
          0.009994600405428525,
          0.037863277952314804,
          0.010986373790937674,
          0.014366873624196023,
          0.01590297389286636,
          0.0016168510467111528,
          0.026301718871049172,
          0.057412855270078,
          0.0007551068897619942,
          0.0007046815728826956,
          0.010185769378124017,
          0.01654513707431445,
          0.0032684054297658083,
          0.0003674812657312974,
          0.0004872823965849681,
          0.033256838970519,
          0.022393982224118453,
          0.02467641179992366,
          0.020640554782210333,
          0.011414466368537957,
          0.028366441873852583,
          0.05539734925977542,
          0.03603303131970234,
          0.030489378156047527,
          0.011340104768774943,
          0.010285062915708585,
          0.010836063726897103,
          0.005909662665041165,
          0.004309389129380701,
          0.01761259769226783,
          0.018952784799835306,
          0.00001890097225121955,
          0.042046404029717994,
          0.020343712814957466,
          0.003653992234874121,
          0.018651526160048008,
          0.047616194093926624,
          0.00832830904491328,
          0.0016519082896028073,
          0.0057815000240136975,
          0.03853749988622512,
          0.03997875808759108,
          0.00651970954961917,
          0.13447872345870712,
          0.0011826507243427149,
          0.00909409791466841,
          0.00542484816989037,
          0.0051705626037972475,
          0.02286536687450608,
          0.013775393914521605,
          0.022008189333877506,
          0.01204261502388598,
          0.0036305920879643305,
          0.011165951138863763,
          0.0063497934675294625,
          0.003250254757105096,
          0.00006943232002006144,
          0.042782750185811014,
          0.0032987459792363882,
          0.03628945456813884,
          0.0002641026284847351,
          0.012211412132239962,
          0.01740832509556903,
          0.03032000767951747,
          0.01991855700161421,
          0.030012612243417034,
          0.01166697144410582,
          0.02110285297228968,
          0.03242459455538739,
          0.00799512669530211,
          0.019269087755123586,
          0.030140174168901218,
          0.02449158730269803,
          0.018788926619093312,
          0.00610184562175574,
          0.0668240204251119,
          0.00907250355408337,
          0.0037581330541357812,
          0.009365175326752588,
          0.0005449089627810381,
          0.012315692284054363,
          0.05277699003423181,
          0.06276251826388539,
          0.026986400504446846,
          0.09486201133531734,
          0.03847180477731067,
          0.047881965800940375,
          0.005729896349983176,
          0.09829600018106441,
          0.012144586649331402,
          0.03451281570161103,
          0.002757802148511043,
          0.04058737956530657,
          0.014361954092241374,
          0.218728987387479,
          0.07289200705329903,
          0.00508561534173818,
          0.012977314959745974,
          0.19202469908081135,
          0.0032368395447431855,
          0.011598899409023922,
          0.002115281456593251,
          0.06542942328556198,
          0.020159599442835286,
          0.021555143920557514,
          0.016371876234768077,
          0.010886628713040901,
          0.010236431318065144,
          0.03712054651072832,
          0.15827567130055384,
          0.005499530119510022,
          0.1510717082848518,
          0.0025256757617634846,
          0.021912587668834037,
          0.04616802268874447,
          0.005601784237733374,
          0.0055293085319036974,
          0.007935366769499911,
          0.1404964600073495,
          0.07569066532624906,
          0.0025167976395146204,
          0.013597954391809518,
          0.041331140792077704,
          0.015653760058157787,
          0.012310187322018435,
          0.11286658461495248,
          0.019001675817245618
         ],
         "xaxis": "x2",
         "yaxis": "y2"
        },
        {
         "alignmentgroup": "True",
         "bingroup": "x",
         "histnorm": "probability density",
         "hovertemplate": "Algorithm=XGB Random Forest_auto_stat<br>MSE=%{x}<br>probability density=%{y}<extra></extra>",
         "legendgroup": "XGB Random Forest_auto_stat",
         "marker": {
          "color": "#EF553B",
          "opacity": 0.5,
          "pattern": {
           "shape": "/"
          }
         },
         "name": "XGB Random Forest_auto_stat",
         "nbinsx": 500,
         "offsetgroup": "XGB Random Forest_auto_stat",
         "orientation": "v",
         "showlegend": true,
         "type": "histogram",
         "x": [
          0.003364911719113815,
          0.02526826994605457,
          0.0010655370709340601,
          0.02849428325816806,
          0.007633581757545471,
          0.00019695540568116462,
          0.006529643160207661,
          0.02273112775634653,
          0.092762865094599,
          0.011424656658589622,
          0.051840917921452345,
          0.0015245274008781275,
          0.003775172409327323,
          1.2769674711868073,
          0.009044918106445102,
          0.004044747937389398,
          0.07870710623344498,
          0.014885732170412731,
          0.004499468484569278,
          0.027439145832643886,
          0.0029286118003550277,
          0.004011499916755673,
          0.031354697618972395,
          0.009772857369118721,
          0.03679394340248216,
          0.010737795975081454,
          0.014042060861102575,
          0.01559625832726354,
          0.001625909581993771,
          0.02631240368029042,
          0.06064628024126111,
          0.0007776402379655955,
          0.000667314142219396,
          0.010565149549248578,
          0.0172667545884563,
          0.0006948996299783564,
          0.0003725888473517702,
          0.00012854017174075862,
          0.031460330907932474,
          0.02219064868420053,
          0.027210402855330305,
          0.02071745292545897,
          0.012133842287527216,
          0.02760971466185333,
          0.06833446406425045,
          0.03601962650439327,
          0.03350985979087492,
          0.012055490292026166,
          0.01022443716211381,
          0.011258541711267132,
          0.005972686229914269,
          0.0040134870097070325,
          0.0173958000632175,
          0.017911536033720726,
          0.00000851949916747468,
          0.0427117209099861,
          0.02070646659026421,
          0.003839055233235927,
          0.01873095777531503,
          0.048116559154118374,
          0.008209388293149671,
          0.0016390032086412644,
          0.00806575658999584,
          0.038372541512677764,
          0.03808517759625431,
          0.006064561279102772,
          0.14023868320207525,
          0.0012067330655386253,
          0.009823801519106997,
          0.005515323882714422,
          0.006149880555327951,
          0.023227556131277378,
          0.014640586330252421,
          0.022303236850230255,
          0.011963042965170494,
          0.003916885762969782,
          0.011231120713474903,
          0.006174589824478597,
          0.003301296696942752,
          0.0007572707822508749,
          0.03728147990598907,
          0.0035693986403990303,
          0.039467356156138236,
          0.0002463147845865878,
          0.011798545050789977,
          0.01833490789702147,
          0.03126849064653657,
          0.019530373781873386,
          0.030753849942254427,
          0.011761655065577924,
          0.030179743144423656,
          0.033988821260566716,
          0.008079889532778753,
          0.019970174358737148,
          0.026518789640000363,
          0.02530375975491037,
          0.017688201325499617,
          0.006367827627054171,
          0.07384554518102378,
          0.011023254850897068,
          0.0036464640577205804,
          0.009461637560913767,
          0.000529368957469387,
          0.011771453949163192,
          0.06034178470494913,
          0.06120520852539899,
          0.03097583166049576,
          0.09438443458617429,
          0.03564023127690206,
          0.04428778187781627,
          0.005622623097704066,
          0.10232692134972272,
          0.010903792498293943,
          0.03484606785428964,
          0.003435216097226175,
          0.038525154214149454,
          0.014792557908302365,
          0.16634935231191905,
          0.07810156463825349,
          0.004907761353380239,
          0.01831937331207232,
          0.18708508010650868,
          0.003096435261239842,
          0.012801894292488715,
          0.0020643624694846275,
          0.06429745921388474,
          0.01843171495329794,
          0.020300614967624947,
          0.016227320956639965,
          0.010285403029771241,
          0.010561790625697218,
          0.03842058615757862,
          0.18024289207553532,
          0.006721880210135561,
          0.14868220236005175,
          0.007602444491792702,
          0.0207919543380959,
          0.0456559391113602,
          0.00597175323224113,
          0.00543673337438464,
          0.007845493281463204,
          0.19290282559710079,
          0.11157968040396493,
          0.002532748669363447,
          0.013407447267128291,
          0.027574290312778922,
          0.014971600307290271,
          0.011834812890218148,
          0.1108251939658065,
          0.019265695759820047
         ],
         "xaxis": "x",
         "yaxis": "y"
        },
        {
         "alignmentgroup": "True",
         "hovertemplate": "Algorithm=XGB Random Forest_auto_stat<br>MSE=%{x}<extra></extra>",
         "legendgroup": "XGB Random Forest_auto_stat",
         "marker": {
          "color": "#EF553B"
         },
         "name": "XGB Random Forest_auto_stat",
         "notched": true,
         "offsetgroup": "XGB Random Forest_auto_stat",
         "showlegend": false,
         "type": "box",
         "x": [
          0.003364911719113815,
          0.02526826994605457,
          0.0010655370709340601,
          0.02849428325816806,
          0.007633581757545471,
          0.00019695540568116462,
          0.006529643160207661,
          0.02273112775634653,
          0.092762865094599,
          0.011424656658589622,
          0.051840917921452345,
          0.0015245274008781275,
          0.003775172409327323,
          1.2769674711868073,
          0.009044918106445102,
          0.004044747937389398,
          0.07870710623344498,
          0.014885732170412731,
          0.004499468484569278,
          0.027439145832643886,
          0.0029286118003550277,
          0.004011499916755673,
          0.031354697618972395,
          0.009772857369118721,
          0.03679394340248216,
          0.010737795975081454,
          0.014042060861102575,
          0.01559625832726354,
          0.001625909581993771,
          0.02631240368029042,
          0.06064628024126111,
          0.0007776402379655955,
          0.000667314142219396,
          0.010565149549248578,
          0.0172667545884563,
          0.0006948996299783564,
          0.0003725888473517702,
          0.00012854017174075862,
          0.031460330907932474,
          0.02219064868420053,
          0.027210402855330305,
          0.02071745292545897,
          0.012133842287527216,
          0.02760971466185333,
          0.06833446406425045,
          0.03601962650439327,
          0.03350985979087492,
          0.012055490292026166,
          0.01022443716211381,
          0.011258541711267132,
          0.005972686229914269,
          0.0040134870097070325,
          0.0173958000632175,
          0.017911536033720726,
          0.00000851949916747468,
          0.0427117209099861,
          0.02070646659026421,
          0.003839055233235927,
          0.01873095777531503,
          0.048116559154118374,
          0.008209388293149671,
          0.0016390032086412644,
          0.00806575658999584,
          0.038372541512677764,
          0.03808517759625431,
          0.006064561279102772,
          0.14023868320207525,
          0.0012067330655386253,
          0.009823801519106997,
          0.005515323882714422,
          0.006149880555327951,
          0.023227556131277378,
          0.014640586330252421,
          0.022303236850230255,
          0.011963042965170494,
          0.003916885762969782,
          0.011231120713474903,
          0.006174589824478597,
          0.003301296696942752,
          0.0007572707822508749,
          0.03728147990598907,
          0.0035693986403990303,
          0.039467356156138236,
          0.0002463147845865878,
          0.011798545050789977,
          0.01833490789702147,
          0.03126849064653657,
          0.019530373781873386,
          0.030753849942254427,
          0.011761655065577924,
          0.030179743144423656,
          0.033988821260566716,
          0.008079889532778753,
          0.019970174358737148,
          0.026518789640000363,
          0.02530375975491037,
          0.017688201325499617,
          0.006367827627054171,
          0.07384554518102378,
          0.011023254850897068,
          0.0036464640577205804,
          0.009461637560913767,
          0.000529368957469387,
          0.011771453949163192,
          0.06034178470494913,
          0.06120520852539899,
          0.03097583166049576,
          0.09438443458617429,
          0.03564023127690206,
          0.04428778187781627,
          0.005622623097704066,
          0.10232692134972272,
          0.010903792498293943,
          0.03484606785428964,
          0.003435216097226175,
          0.038525154214149454,
          0.014792557908302365,
          0.16634935231191905,
          0.07810156463825349,
          0.004907761353380239,
          0.01831937331207232,
          0.18708508010650868,
          0.003096435261239842,
          0.012801894292488715,
          0.0020643624694846275,
          0.06429745921388474,
          0.01843171495329794,
          0.020300614967624947,
          0.016227320956639965,
          0.010285403029771241,
          0.010561790625697218,
          0.03842058615757862,
          0.18024289207553532,
          0.006721880210135561,
          0.14868220236005175,
          0.007602444491792702,
          0.0207919543380959,
          0.0456559391113602,
          0.00597175323224113,
          0.00543673337438464,
          0.007845493281463204,
          0.19290282559710079,
          0.11157968040396493,
          0.002532748669363447,
          0.013407447267128291,
          0.027574290312778922,
          0.014971600307290271,
          0.011834812890218148,
          0.1108251939658065,
          0.019265695759820047
         ],
         "xaxis": "x2",
         "yaxis": "y2"
        },
        {
         "alignmentgroup": "True",
         "bingroup": "x",
         "histnorm": "probability density",
         "hovertemplate": "Algorithm=LightGBM_auto_stat<br>MSE=%{x}<br>probability density=%{y}<extra></extra>",
         "legendgroup": "LightGBM_auto_stat",
         "marker": {
          "color": "#00cc96",
          "opacity": 0.5,
          "pattern": {
           "shape": "\\"
          }
         },
         "name": "LightGBM_auto_stat",
         "nbinsx": 500,
         "offsetgroup": "LightGBM_auto_stat",
         "orientation": "v",
         "showlegend": true,
         "type": "histogram",
         "x": [
          0.003156553050294162,
          0.024483330134170724,
          0.0009497605538473498,
          0.026706478303788545,
          0.0077015161337544505,
          0.00003975091509321697,
          0.0060715911959336715,
          0.020868745522595156,
          0.07834439155527398,
          0.011226303841154965,
          0.04681840260307708,
          0.001431072916149751,
          0.0033759373265531798,
          0.5848292946379713,
          0.008163749448075021,
          0.003475924012702916,
          0.07306077551375192,
          0.013796123847079855,
          0.00329216029917129,
          0.0268308967724768,
          0.0027752112345457492,
          0.0037666982736664295,
          0.029946992277246183,
          0.009097579386926607,
          0.03555799579018504,
          0.009942895495365903,
          0.013137139493220295,
          0.01509349770064719,
          0.0017312521303880666,
          0.027110021648404387,
          0.055760988660860246,
          0.0005729422378005793,
          0.0005458719600484793,
          0.009481874228813853,
          0.016856919810734092,
          0.00004589544384100223,
          0.0003096537950272849,
          0.0001003959090175069,
          0.02568741453831876,
          0.02122467684997042,
          0.023581558813376043,
          0.01998884158355881,
          0.011322901926771904,
          0.025925866954871413,
          0.05704012009271526,
          0.03482740446609963,
          0.030628420999499865,
          0.011032047727061605,
          0.009608984846114405,
          0.010416536285211931,
          0.005201215181448816,
          0.003457286676463617,
          0.017101754867629,
          0.016392965745342273,
          3.6694600845657465e-7,
          0.057529323002628224,
          0.020134104175017993,
          0.0029507688580312844,
          0.017456837915437427,
          0.04680080948404761,
          0.007429939204935469,
          0.001579490282965348,
          0.006708430833459237,
          0.03876402499251002,
          0.03527939078531462,
          0.0058775089538297375,
          0.09164543879506662,
          0.001072199819873377,
          0.00794136613616678,
          0.00543404715108488,
          0.004553257955812974,
          0.02101103199635161,
          0.01179648197966815,
          0.020224597604123234,
          0.011125063433972513,
          0.0030283298488000088,
          0.010635315760661382,
          0.0054190854751900224,
          0.0029848844422273595,
          0.00013771120235885393,
          0.03617254742744972,
          0.003191062260606431,
          0.03722164561609982,
          0.00022730803927251928,
          0.011434527048170065,
          0.01718270374666914,
          0.026507834984796183,
          0.01899760471979198,
          0.028032791536732403,
          0.010906907581178661,
          0.01916407836280617,
          0.033246088150427316,
          0.007844622416903525,
          0.017929058726802803,
          0.024725667797284866,
          0.024434646340569088,
          0.01862349222009872,
          0.005593219352129626,
          0.06371240033220818,
          0.00888505006568005,
          0.0032423230818394854,
          0.009250855766390599,
          0.0004666245689680128,
          0.01133381833685718,
          0.0472045503094575,
          0.059350382051377215,
          0.026010377977347357,
          0.08569341569861101,
          0.03486335137241776,
          0.04433861121776978,
          0.006032428361415277,
          0.0995353045476341,
          0.008991351512897079,
          0.033667213951694586,
          0.0022437680570923527,
          0.032166726201080305,
          0.013186684527371746,
          0.09160999935243759,
          0.07579018353499074,
          0.005047896789487344,
          0.009204458266120935,
          0.1809249139128909,
          0.002565205524579003,
          0.012011491782685912,
          0.0020642365881055704,
          0.06278145555570246,
          0.01739424707837997,
          0.01891365753336635,
          0.016533398226901867,
          0.009071683586752534,
          0.009331904851824816,
          0.03305695359710995,
          0.09980820751430575,
          0.005422844641684122,
          0.13129554788539355,
          0.005288455710339455,
          0.01989708800034673,
          0.04475901591365532,
          0.005238011261801383,
          0.005176373766376385,
          0.007289308702811906,
          0.12669632456226604,
          0.06494109857830112,
          0.002265940234743847,
          0.013663935864450347,
          0.020382652983389267,
          0.01428285626572554,
          0.01103612804931878,
          0.10869930109954015,
          0.015886580229568757
         ],
         "xaxis": "x",
         "yaxis": "y"
        },
        {
         "alignmentgroup": "True",
         "hovertemplate": "Algorithm=LightGBM_auto_stat<br>MSE=%{x}<extra></extra>",
         "legendgroup": "LightGBM_auto_stat",
         "marker": {
          "color": "#00cc96"
         },
         "name": "LightGBM_auto_stat",
         "notched": true,
         "offsetgroup": "LightGBM_auto_stat",
         "showlegend": false,
         "type": "box",
         "x": [
          0.003156553050294162,
          0.024483330134170724,
          0.0009497605538473498,
          0.026706478303788545,
          0.0077015161337544505,
          0.00003975091509321697,
          0.0060715911959336715,
          0.020868745522595156,
          0.07834439155527398,
          0.011226303841154965,
          0.04681840260307708,
          0.001431072916149751,
          0.0033759373265531798,
          0.5848292946379713,
          0.008163749448075021,
          0.003475924012702916,
          0.07306077551375192,
          0.013796123847079855,
          0.00329216029917129,
          0.0268308967724768,
          0.0027752112345457492,
          0.0037666982736664295,
          0.029946992277246183,
          0.009097579386926607,
          0.03555799579018504,
          0.009942895495365903,
          0.013137139493220295,
          0.01509349770064719,
          0.0017312521303880666,
          0.027110021648404387,
          0.055760988660860246,
          0.0005729422378005793,
          0.0005458719600484793,
          0.009481874228813853,
          0.016856919810734092,
          0.00004589544384100223,
          0.0003096537950272849,
          0.0001003959090175069,
          0.02568741453831876,
          0.02122467684997042,
          0.023581558813376043,
          0.01998884158355881,
          0.011322901926771904,
          0.025925866954871413,
          0.05704012009271526,
          0.03482740446609963,
          0.030628420999499865,
          0.011032047727061605,
          0.009608984846114405,
          0.010416536285211931,
          0.005201215181448816,
          0.003457286676463617,
          0.017101754867629,
          0.016392965745342273,
          3.6694600845657465e-7,
          0.057529323002628224,
          0.020134104175017993,
          0.0029507688580312844,
          0.017456837915437427,
          0.04680080948404761,
          0.007429939204935469,
          0.001579490282965348,
          0.006708430833459237,
          0.03876402499251002,
          0.03527939078531462,
          0.0058775089538297375,
          0.09164543879506662,
          0.001072199819873377,
          0.00794136613616678,
          0.00543404715108488,
          0.004553257955812974,
          0.02101103199635161,
          0.01179648197966815,
          0.020224597604123234,
          0.011125063433972513,
          0.0030283298488000088,
          0.010635315760661382,
          0.0054190854751900224,
          0.0029848844422273595,
          0.00013771120235885393,
          0.03617254742744972,
          0.003191062260606431,
          0.03722164561609982,
          0.00022730803927251928,
          0.011434527048170065,
          0.01718270374666914,
          0.026507834984796183,
          0.01899760471979198,
          0.028032791536732403,
          0.010906907581178661,
          0.01916407836280617,
          0.033246088150427316,
          0.007844622416903525,
          0.017929058726802803,
          0.024725667797284866,
          0.024434646340569088,
          0.01862349222009872,
          0.005593219352129626,
          0.06371240033220818,
          0.00888505006568005,
          0.0032423230818394854,
          0.009250855766390599,
          0.0004666245689680128,
          0.01133381833685718,
          0.0472045503094575,
          0.059350382051377215,
          0.026010377977347357,
          0.08569341569861101,
          0.03486335137241776,
          0.04433861121776978,
          0.006032428361415277,
          0.0995353045476341,
          0.008991351512897079,
          0.033667213951694586,
          0.0022437680570923527,
          0.032166726201080305,
          0.013186684527371746,
          0.09160999935243759,
          0.07579018353499074,
          0.005047896789487344,
          0.009204458266120935,
          0.1809249139128909,
          0.002565205524579003,
          0.012011491782685912,
          0.0020642365881055704,
          0.06278145555570246,
          0.01739424707837997,
          0.01891365753336635,
          0.016533398226901867,
          0.009071683586752534,
          0.009331904851824816,
          0.03305695359710995,
          0.09980820751430575,
          0.005422844641684122,
          0.13129554788539355,
          0.005288455710339455,
          0.01989708800034673,
          0.04475901591365532,
          0.005238011261801383,
          0.005176373766376385,
          0.007289308702811906,
          0.12669632456226604,
          0.06494109857830112,
          0.002265940234743847,
          0.013663935864450347,
          0.020382652983389267,
          0.01428285626572554,
          0.01103612804931878,
          0.10869930109954015,
          0.015886580229568757
         ],
         "xaxis": "x2",
         "yaxis": "y2"
        }
       ],
       "layout": {
        "autosize": false,
        "barmode": "overlay",
        "height": 500,
        "legend": {
         "title": {},
         "tracegroupgap": 0
        },
        "margin": {
         "t": 60
        },
        "template": {
         "data": {
          "bar": [
           {
            "error_x": {
             "color": "#2a3f5f"
            },
            "error_y": {
             "color": "#2a3f5f"
            },
            "marker": {
             "line": {
              "color": "white",
              "width": 0.5
             },
             "pattern": {
              "fillmode": "overlay",
              "size": 10,
              "solidity": 0.2
             }
            },
            "type": "bar"
           }
          ],
          "barpolar": [
           {
            "marker": {
             "line": {
              "color": "white",
              "width": 0.5
             },
             "pattern": {
              "fillmode": "overlay",
              "size": 10,
              "solidity": 0.2
             }
            },
            "type": "barpolar"
           }
          ],
          "carpet": [
           {
            "aaxis": {
             "endlinecolor": "#2a3f5f",
             "gridcolor": "#C8D4E3",
             "linecolor": "#C8D4E3",
             "minorgridcolor": "#C8D4E3",
             "startlinecolor": "#2a3f5f"
            },
            "baxis": {
             "endlinecolor": "#2a3f5f",
             "gridcolor": "#C8D4E3",
             "linecolor": "#C8D4E3",
             "minorgridcolor": "#C8D4E3",
             "startlinecolor": "#2a3f5f"
            },
            "type": "carpet"
           }
          ],
          "choropleth": [
           {
            "colorbar": {
             "outlinewidth": 0,
             "ticks": ""
            },
            "type": "choropleth"
           }
          ],
          "contour": [
           {
            "colorbar": {
             "outlinewidth": 0,
             "ticks": ""
            },
            "colorscale": [
             [
              0,
              "#0d0887"
             ],
             [
              0.1111111111111111,
              "#46039f"
             ],
             [
              0.2222222222222222,
              "#7201a8"
             ],
             [
              0.3333333333333333,
              "#9c179e"
             ],
             [
              0.4444444444444444,
              "#bd3786"
             ],
             [
              0.5555555555555556,
              "#d8576b"
             ],
             [
              0.6666666666666666,
              "#ed7953"
             ],
             [
              0.7777777777777778,
              "#fb9f3a"
             ],
             [
              0.8888888888888888,
              "#fdca26"
             ],
             [
              1,
              "#f0f921"
             ]
            ],
            "type": "contour"
           }
          ],
          "contourcarpet": [
           {
            "colorbar": {
             "outlinewidth": 0,
             "ticks": ""
            },
            "type": "contourcarpet"
           }
          ],
          "heatmap": [
           {
            "colorbar": {
             "outlinewidth": 0,
             "ticks": ""
            },
            "colorscale": [
             [
              0,
              "#0d0887"
             ],
             [
              0.1111111111111111,
              "#46039f"
             ],
             [
              0.2222222222222222,
              "#7201a8"
             ],
             [
              0.3333333333333333,
              "#9c179e"
             ],
             [
              0.4444444444444444,
              "#bd3786"
             ],
             [
              0.5555555555555556,
              "#d8576b"
             ],
             [
              0.6666666666666666,
              "#ed7953"
             ],
             [
              0.7777777777777778,
              "#fb9f3a"
             ],
             [
              0.8888888888888888,
              "#fdca26"
             ],
             [
              1,
              "#f0f921"
             ]
            ],
            "type": "heatmap"
           }
          ],
          "heatmapgl": [
           {
            "colorbar": {
             "outlinewidth": 0,
             "ticks": ""
            },
            "colorscale": [
             [
              0,
              "#0d0887"
             ],
             [
              0.1111111111111111,
              "#46039f"
             ],
             [
              0.2222222222222222,
              "#7201a8"
             ],
             [
              0.3333333333333333,
              "#9c179e"
             ],
             [
              0.4444444444444444,
              "#bd3786"
             ],
             [
              0.5555555555555556,
              "#d8576b"
             ],
             [
              0.6666666666666666,
              "#ed7953"
             ],
             [
              0.7777777777777778,
              "#fb9f3a"
             ],
             [
              0.8888888888888888,
              "#fdca26"
             ],
             [
              1,
              "#f0f921"
             ]
            ],
            "type": "heatmapgl"
           }
          ],
          "histogram": [
           {
            "marker": {
             "pattern": {
              "fillmode": "overlay",
              "size": 10,
              "solidity": 0.2
             }
            },
            "type": "histogram"
           }
          ],
          "histogram2d": [
           {
            "colorbar": {
             "outlinewidth": 0,
             "ticks": ""
            },
            "colorscale": [
             [
              0,
              "#0d0887"
             ],
             [
              0.1111111111111111,
              "#46039f"
             ],
             [
              0.2222222222222222,
              "#7201a8"
             ],
             [
              0.3333333333333333,
              "#9c179e"
             ],
             [
              0.4444444444444444,
              "#bd3786"
             ],
             [
              0.5555555555555556,
              "#d8576b"
             ],
             [
              0.6666666666666666,
              "#ed7953"
             ],
             [
              0.7777777777777778,
              "#fb9f3a"
             ],
             [
              0.8888888888888888,
              "#fdca26"
             ],
             [
              1,
              "#f0f921"
             ]
            ],
            "type": "histogram2d"
           }
          ],
          "histogram2dcontour": [
           {
            "colorbar": {
             "outlinewidth": 0,
             "ticks": ""
            },
            "colorscale": [
             [
              0,
              "#0d0887"
             ],
             [
              0.1111111111111111,
              "#46039f"
             ],
             [
              0.2222222222222222,
              "#7201a8"
             ],
             [
              0.3333333333333333,
              "#9c179e"
             ],
             [
              0.4444444444444444,
              "#bd3786"
             ],
             [
              0.5555555555555556,
              "#d8576b"
             ],
             [
              0.6666666666666666,
              "#ed7953"
             ],
             [
              0.7777777777777778,
              "#fb9f3a"
             ],
             [
              0.8888888888888888,
              "#fdca26"
             ],
             [
              1,
              "#f0f921"
             ]
            ],
            "type": "histogram2dcontour"
           }
          ],
          "mesh3d": [
           {
            "colorbar": {
             "outlinewidth": 0,
             "ticks": ""
            },
            "type": "mesh3d"
           }
          ],
          "parcoords": [
           {
            "line": {
             "colorbar": {
              "outlinewidth": 0,
              "ticks": ""
             }
            },
            "type": "parcoords"
           }
          ],
          "pie": [
           {
            "automargin": true,
            "type": "pie"
           }
          ],
          "scatter": [
           {
            "fillpattern": {
             "fillmode": "overlay",
             "size": 10,
             "solidity": 0.2
            },
            "type": "scatter"
           }
          ],
          "scatter3d": [
           {
            "line": {
             "colorbar": {
              "outlinewidth": 0,
              "ticks": ""
             }
            },
            "marker": {
             "colorbar": {
              "outlinewidth": 0,
              "ticks": ""
             }
            },
            "type": "scatter3d"
           }
          ],
          "scattercarpet": [
           {
            "marker": {
             "colorbar": {
              "outlinewidth": 0,
              "ticks": ""
             }
            },
            "type": "scattercarpet"
           }
          ],
          "scattergeo": [
           {
            "marker": {
             "colorbar": {
              "outlinewidth": 0,
              "ticks": ""
             }
            },
            "type": "scattergeo"
           }
          ],
          "scattergl": [
           {
            "marker": {
             "colorbar": {
              "outlinewidth": 0,
              "ticks": ""
             }
            },
            "type": "scattergl"
           }
          ],
          "scattermapbox": [
           {
            "marker": {
             "colorbar": {
              "outlinewidth": 0,
              "ticks": ""
             }
            },
            "type": "scattermapbox"
           }
          ],
          "scatterpolar": [
           {
            "marker": {
             "colorbar": {
              "outlinewidth": 0,
              "ticks": ""
             }
            },
            "type": "scatterpolar"
           }
          ],
          "scatterpolargl": [
           {
            "marker": {
             "colorbar": {
              "outlinewidth": 0,
              "ticks": ""
             }
            },
            "type": "scatterpolargl"
           }
          ],
          "scatterternary": [
           {
            "marker": {
             "colorbar": {
              "outlinewidth": 0,
              "ticks": ""
             }
            },
            "type": "scatterternary"
           }
          ],
          "surface": [
           {
            "colorbar": {
             "outlinewidth": 0,
             "ticks": ""
            },
            "colorscale": [
             [
              0,
              "#0d0887"
             ],
             [
              0.1111111111111111,
              "#46039f"
             ],
             [
              0.2222222222222222,
              "#7201a8"
             ],
             [
              0.3333333333333333,
              "#9c179e"
             ],
             [
              0.4444444444444444,
              "#bd3786"
             ],
             [
              0.5555555555555556,
              "#d8576b"
             ],
             [
              0.6666666666666666,
              "#ed7953"
             ],
             [
              0.7777777777777778,
              "#fb9f3a"
             ],
             [
              0.8888888888888888,
              "#fdca26"
             ],
             [
              1,
              "#f0f921"
             ]
            ],
            "type": "surface"
           }
          ],
          "table": [
           {
            "cells": {
             "fill": {
              "color": "#EBF0F8"
             },
             "line": {
              "color": "white"
             }
            },
            "header": {
             "fill": {
              "color": "#C8D4E3"
             },
             "line": {
              "color": "white"
             }
            },
            "type": "table"
           }
          ]
         },
         "layout": {
          "annotationdefaults": {
           "arrowcolor": "#2a3f5f",
           "arrowhead": 0,
           "arrowwidth": 1
          },
          "autotypenumbers": "strict",
          "coloraxis": {
           "colorbar": {
            "outlinewidth": 0,
            "ticks": ""
           }
          },
          "colorscale": {
           "diverging": [
            [
             0,
             "#8e0152"
            ],
            [
             0.1,
             "#c51b7d"
            ],
            [
             0.2,
             "#de77ae"
            ],
            [
             0.3,
             "#f1b6da"
            ],
            [
             0.4,
             "#fde0ef"
            ],
            [
             0.5,
             "#f7f7f7"
            ],
            [
             0.6,
             "#e6f5d0"
            ],
            [
             0.7,
             "#b8e186"
            ],
            [
             0.8,
             "#7fbc41"
            ],
            [
             0.9,
             "#4d9221"
            ],
            [
             1,
             "#276419"
            ]
           ],
           "sequential": [
            [
             0,
             "#0d0887"
            ],
            [
             0.1111111111111111,
             "#46039f"
            ],
            [
             0.2222222222222222,
             "#7201a8"
            ],
            [
             0.3333333333333333,
             "#9c179e"
            ],
            [
             0.4444444444444444,
             "#bd3786"
            ],
            [
             0.5555555555555556,
             "#d8576b"
            ],
            [
             0.6666666666666666,
             "#ed7953"
            ],
            [
             0.7777777777777778,
             "#fb9f3a"
            ],
            [
             0.8888888888888888,
             "#fdca26"
            ],
            [
             1,
             "#f0f921"
            ]
           ],
           "sequentialminus": [
            [
             0,
             "#0d0887"
            ],
            [
             0.1111111111111111,
             "#46039f"
            ],
            [
             0.2222222222222222,
             "#7201a8"
            ],
            [
             0.3333333333333333,
             "#9c179e"
            ],
            [
             0.4444444444444444,
             "#bd3786"
            ],
            [
             0.5555555555555556,
             "#d8576b"
            ],
            [
             0.6666666666666666,
             "#ed7953"
            ],
            [
             0.7777777777777778,
             "#fb9f3a"
            ],
            [
             0.8888888888888888,
             "#fdca26"
            ],
            [
             1,
             "#f0f921"
            ]
           ]
          },
          "colorway": [
           "#636efa",
           "#EF553B",
           "#00cc96",
           "#ab63fa",
           "#FFA15A",
           "#19d3f3",
           "#FF6692",
           "#B6E880",
           "#FF97FF",
           "#FECB52"
          ],
          "font": {
           "color": "#2a3f5f"
          },
          "geo": {
           "bgcolor": "white",
           "lakecolor": "white",
           "landcolor": "white",
           "showlakes": true,
           "showland": true,
           "subunitcolor": "#C8D4E3"
          },
          "hoverlabel": {
           "align": "left"
          },
          "hovermode": "closest",
          "mapbox": {
           "style": "light"
          },
          "paper_bgcolor": "white",
          "plot_bgcolor": "white",
          "polar": {
           "angularaxis": {
            "gridcolor": "#EBF0F8",
            "linecolor": "#EBF0F8",
            "ticks": ""
           },
           "bgcolor": "white",
           "radialaxis": {
            "gridcolor": "#EBF0F8",
            "linecolor": "#EBF0F8",
            "ticks": ""
           }
          },
          "scene": {
           "xaxis": {
            "backgroundcolor": "white",
            "gridcolor": "#DFE8F3",
            "gridwidth": 2,
            "linecolor": "#EBF0F8",
            "showbackground": true,
            "ticks": "",
            "zerolinecolor": "#EBF0F8"
           },
           "yaxis": {
            "backgroundcolor": "white",
            "gridcolor": "#DFE8F3",
            "gridwidth": 2,
            "linecolor": "#EBF0F8",
            "showbackground": true,
            "ticks": "",
            "zerolinecolor": "#EBF0F8"
           },
           "zaxis": {
            "backgroundcolor": "white",
            "gridcolor": "#DFE8F3",
            "gridwidth": 2,
            "linecolor": "#EBF0F8",
            "showbackground": true,
            "ticks": "",
            "zerolinecolor": "#EBF0F8"
           }
          },
          "shapedefaults": {
           "line": {
            "color": "#2a3f5f"
           }
          },
          "ternary": {
           "aaxis": {
            "gridcolor": "#DFE8F3",
            "linecolor": "#A2B1C6",
            "ticks": ""
           },
           "baxis": {
            "gridcolor": "#DFE8F3",
            "linecolor": "#A2B1C6",
            "ticks": ""
           },
           "bgcolor": "white",
           "caxis": {
            "gridcolor": "#DFE8F3",
            "linecolor": "#A2B1C6",
            "ticks": ""
           }
          },
          "title": {
           "x": 0.05
          },
          "xaxis": {
           "automargin": true,
           "gridcolor": "#EBF0F8",
           "linecolor": "#EBF0F8",
           "ticks": "",
           "title": {
            "standoff": 15
           },
           "zerolinecolor": "#EBF0F8",
           "zerolinewidth": 2
          },
          "yaxis": {
           "automargin": true,
           "gridcolor": "#EBF0F8",
           "linecolor": "#EBF0F8",
           "ticks": "",
           "title": {
            "standoff": 15
           },
           "zerolinecolor": "#EBF0F8",
           "zerolinewidth": 2
          }
         }
        },
        "title": {
         "font": {
          "size": 20
         },
         "text": "Distribution of MSE in the dataset",
         "x": 0.5,
         "xanchor": "center",
         "yanchor": "top"
        },
        "width": 900,
        "xaxis": {
         "anchor": "y",
         "domain": [
          0,
          1
         ],
         "range": [
          0,
          0.3
         ],
         "title": {
          "font": {
           "size": 12
          },
          "text": "MSE"
         }
        },
        "xaxis2": {
         "anchor": "y2",
         "domain": [
          0,
          1
         ],
         "matches": "x",
         "showgrid": true,
         "showticklabels": false
        },
        "yaxis": {
         "anchor": "x",
         "domain": [
          0,
          0.7326
         ],
         "title": {
          "font": {
           "size": 12
          },
          "text": "Probability Density"
         }
        },
        "yaxis2": {
         "anchor": "x2",
         "domain": [
          0.7426,
          1
         ],
         "matches": "y2",
         "showgrid": false,
         "showline": false,
         "showticklabels": false,
         "ticks": ""
        }
       }
      }
     },
     "metadata": {},
     "output_type": "display_data"
    }
   ],
   "source": [
    "fig = px.histogram(\n",
    "    metrics_df,\n",
    "    x=\"MSE\",\n",
    "    color=\"Algorithm\",\n",
    "    pattern_shape=\"Algorithm\",\n",
    "    marginal=\"box\",\n",
    "    nbins=500,\n",
    "    barmode=\"overlay\",\n",
    "    histnorm=\"probability density\",\n",
    ")\n",
    "fig = format_plot(\n",
    "    fig,\n",
    "    xlabel=\"MSE\",\n",
    "    ylabel=\"Probability Density\",\n",
    "    title=\"Distribution of MSE in the dataset\",\n",
    ")\n",
    "fig.update_layout(xaxis_range=[0, 0.3])\n",
    "# fig.write_image(\"imgs/chapter_8/mse_dist.png\")\n",
    "fig.show()"
   ]
  },
  {
   "cell_type": "code",
   "execution_count": 26,
   "id": "2695707d-1e83-4289-9aea-859bbf83586c",
   "metadata": {},
   "outputs": [
    {
     "data": {
      "application/vnd.plotly.v1+json": {
       "config": {
        "plotlyServerURL": "https://plot.ly"
       },
       "data": [
        {
         "alignmentgroup": "True",
         "bingroup": "x",
         "histnorm": "probability density",
         "hovertemplate": "Algorithm=Lasso Regression_auto_stat<br>Forecast Bias=%{x}<br>probability density=%{y}<extra></extra>",
         "legendgroup": "Lasso Regression_auto_stat",
         "marker": {
          "color": "#636efa",
          "opacity": 0.5,
          "pattern": {
           "shape": ""
          }
         },
         "name": "Lasso Regression_auto_stat",
         "nbinsx": 250,
         "offsetgroup": "Lasso Regression_auto_stat",
         "orientation": "v",
         "showlegend": true,
         "type": "histogram",
         "x": [
          -1.2980985611292215,
          1.0951463394584713,
          -8.70989334525192,
          5.955798024026767,
          1.841875856151981,
          0.46401878345571157,
          2.1082499104194476,
          5.116942939110547,
          6.2148735837699896,
          -0.35484084099317476,
          1.9023906634495318,
          0.5476965527439562,
          -1.8930722793553043,
          -37.435792191857416,
          2.49517824023652,
          -1.9398348497355642,
          6.281053439791015,
          1.6733752415514995,
          -0.8699789800866412,
          -2.391786217315911,
          -1.3061337469521344,
          7.063542383825222,
          1.5432761999739546,
          2.0938604172363084,
          0.7749304919325992,
          3.9175554902420675,
          4.8941715253486,
          5.595990000899413,
          1.2430536451909413,
          4.700726122352428,
          -1.449492523006938,
          3.4511383102833824,
          2.3578727396421266,
          18.283322993043274,
          -0.9414645402684342,
          -6.797742072417965,
          -0.4398234977811324,
          -3.076441029631542,
          0.16684635476103446,
          1.699573120108512,
          7.837121451819503,
          1.999533916955086,
          2.9978883925343487,
          5.085456080401669,
          -3.6187364258515613,
          3.7439650206209962,
          2.206366978847898,
          -0.5567798842966696,
          -3.981569439526849,
          13.829048034405567,
          1.3821804074297817,
          -2.9329989890897683,
          5.440657698815434,
          4.093116969511034,
          6.703961177495065,
          -7.544474852604393,
          3.9372880304806053,
          -1.5128045090562259,
          1.668919392972817,
          1.636707765807333,
          0.7697156071359973,
          -2.7532882151749214,
          -23.588125570495578,
          2.9334953897096274,
          -1.010543365210862,
          4.3774132933499,
          0.6973093128940206,
          3.3878000148994136,
          -4.7601254751716375,
          -0.8592273156449387,
          -12.685117249813931,
          -0.35831494215186455,
          -14.850484571629833,
          3.102401830793614,
          4.678680002100634,
          -2.9092233759441473,
          -0.48733669290858783,
          -1.5451597041523335,
          -2.4741921604383634,
          2.2622481104122687,
          8.62535488860347,
          3.594147415591506,
          -3.809561186541277,
          -0.37154587217615154,
          5.849231078664046,
          -0.7470137220947746,
          0.7438277786554861,
          7.725535411035462,
          6.324995338616453,
          1.0635617508729,
          5.310207630801484,
          4.807386498269473,
          5.9079374277522225,
          2.2305487618991844,
          -1.7523682901064763,
          -2.6798895243341203,
          -3.3475454460789686,
          -11.12331718077882,
          6.471456662283728,
          2.643471177012253,
          2.3401873861594527,
          7.328217436653421,
          -0.9846014147577187,
          -0.9217648266564307,
          3.530795595782208,
          2.266462579361121,
          2.179617245535042,
          2.7522657221108147,
          -0.18065196104805858,
          5.74654439902464,
          -0.23917619301483417,
          12.97639263093483,
          2.3855867396861745,
          3.5348043459751013,
          7.506046195493936,
          -0.496930216870783,
          -4.765893902405724,
          5.552516500954717,
          6.257079069294481,
          -12.58952040732134,
          4.162611756296135,
          15.994181452461525,
          -3.404569051112369,
          0.8477568242485714,
          -1.432657194410908,
          6.572488641894371,
          1.6915843450776509,
          10.819619583082527,
          1.4612414725619949,
          7.289621447351935,
          6.437869561943827,
          -1.5482962050431017,
          6.330372737628598,
          1.961735041798049,
          8.62688107001128,
          -72.56523375806864,
          2.363041438829011,
          -5.503254419015891,
          -5.814943445574876,
          1.0053168988886785,
          5.134036397524349,
          1.606318445620937,
          -2.7654381041486666,
          -0.9328566885651346,
          -3.3974800120331605,
          -2.8280746006982405,
          -0.29303123685081317,
          4.3055280013832675,
          10.396083306845439,
          5.482781640254423
         ],
         "xaxis": "x",
         "yaxis": "y"
        },
        {
         "alignmentgroup": "True",
         "hovertemplate": "Algorithm=Lasso Regression_auto_stat<br>Forecast Bias=%{x}<extra></extra>",
         "legendgroup": "Lasso Regression_auto_stat",
         "marker": {
          "color": "#636efa"
         },
         "name": "Lasso Regression_auto_stat",
         "notched": true,
         "offsetgroup": "Lasso Regression_auto_stat",
         "showlegend": false,
         "type": "box",
         "x": [
          -1.2980985611292215,
          1.0951463394584713,
          -8.70989334525192,
          5.955798024026767,
          1.841875856151981,
          0.46401878345571157,
          2.1082499104194476,
          5.116942939110547,
          6.2148735837699896,
          -0.35484084099317476,
          1.9023906634495318,
          0.5476965527439562,
          -1.8930722793553043,
          -37.435792191857416,
          2.49517824023652,
          -1.9398348497355642,
          6.281053439791015,
          1.6733752415514995,
          -0.8699789800866412,
          -2.391786217315911,
          -1.3061337469521344,
          7.063542383825222,
          1.5432761999739546,
          2.0938604172363084,
          0.7749304919325992,
          3.9175554902420675,
          4.8941715253486,
          5.595990000899413,
          1.2430536451909413,
          4.700726122352428,
          -1.449492523006938,
          3.4511383102833824,
          2.3578727396421266,
          18.283322993043274,
          -0.9414645402684342,
          -6.797742072417965,
          -0.4398234977811324,
          -3.076441029631542,
          0.16684635476103446,
          1.699573120108512,
          7.837121451819503,
          1.999533916955086,
          2.9978883925343487,
          5.085456080401669,
          -3.6187364258515613,
          3.7439650206209962,
          2.206366978847898,
          -0.5567798842966696,
          -3.981569439526849,
          13.829048034405567,
          1.3821804074297817,
          -2.9329989890897683,
          5.440657698815434,
          4.093116969511034,
          6.703961177495065,
          -7.544474852604393,
          3.9372880304806053,
          -1.5128045090562259,
          1.668919392972817,
          1.636707765807333,
          0.7697156071359973,
          -2.7532882151749214,
          -23.588125570495578,
          2.9334953897096274,
          -1.010543365210862,
          4.3774132933499,
          0.6973093128940206,
          3.3878000148994136,
          -4.7601254751716375,
          -0.8592273156449387,
          -12.685117249813931,
          -0.35831494215186455,
          -14.850484571629833,
          3.102401830793614,
          4.678680002100634,
          -2.9092233759441473,
          -0.48733669290858783,
          -1.5451597041523335,
          -2.4741921604383634,
          2.2622481104122687,
          8.62535488860347,
          3.594147415591506,
          -3.809561186541277,
          -0.37154587217615154,
          5.849231078664046,
          -0.7470137220947746,
          0.7438277786554861,
          7.725535411035462,
          6.324995338616453,
          1.0635617508729,
          5.310207630801484,
          4.807386498269473,
          5.9079374277522225,
          2.2305487618991844,
          -1.7523682901064763,
          -2.6798895243341203,
          -3.3475454460789686,
          -11.12331718077882,
          6.471456662283728,
          2.643471177012253,
          2.3401873861594527,
          7.328217436653421,
          -0.9846014147577187,
          -0.9217648266564307,
          3.530795595782208,
          2.266462579361121,
          2.179617245535042,
          2.7522657221108147,
          -0.18065196104805858,
          5.74654439902464,
          -0.23917619301483417,
          12.97639263093483,
          2.3855867396861745,
          3.5348043459751013,
          7.506046195493936,
          -0.496930216870783,
          -4.765893902405724,
          5.552516500954717,
          6.257079069294481,
          -12.58952040732134,
          4.162611756296135,
          15.994181452461525,
          -3.404569051112369,
          0.8477568242485714,
          -1.432657194410908,
          6.572488641894371,
          1.6915843450776509,
          10.819619583082527,
          1.4612414725619949,
          7.289621447351935,
          6.437869561943827,
          -1.5482962050431017,
          6.330372737628598,
          1.961735041798049,
          8.62688107001128,
          -72.56523375806864,
          2.363041438829011,
          -5.503254419015891,
          -5.814943445574876,
          1.0053168988886785,
          5.134036397524349,
          1.606318445620937,
          -2.7654381041486666,
          -0.9328566885651346,
          -3.3974800120331605,
          -2.8280746006982405,
          -0.29303123685081317,
          4.3055280013832675,
          10.396083306845439,
          5.482781640254423
         ],
         "xaxis": "x2",
         "yaxis": "y2"
        },
        {
         "alignmentgroup": "True",
         "bingroup": "x",
         "histnorm": "probability density",
         "hovertemplate": "Algorithm=XGB Random Forest_auto_stat<br>Forecast Bias=%{x}<br>probability density=%{y}<extra></extra>",
         "legendgroup": "XGB Random Forest_auto_stat",
         "marker": {
          "color": "#EF553B",
          "opacity": 0.5,
          "pattern": {
           "shape": "/"
          }
         },
         "name": "XGB Random Forest_auto_stat",
         "nbinsx": 250,
         "offsetgroup": "XGB Random Forest_auto_stat",
         "orientation": "v",
         "showlegend": true,
         "type": "histogram",
         "x": [
          -0.8574420968319119,
          -0.9761551954032518,
          -14.083465636192653,
          8.64331694243449,
          -2.016155980527401,
          5.968835499457285,
          0.41620352492841234,
          -3.404336966315861,
          16.200789781111684,
          2.5127976839326545,
          1.348641433529286,
          -5.37094084222756,
          -6.450490732074946,
          34.25846680976813,
          9.331288066562479,
          -1.4389323084125416,
          2.3068633493665156,
          -4.090560990364665,
          -2.5954005847568484,
          -1.5703374914556059,
          0.5416555695902696,
          5.594710879410479,
          3.02203764025161,
          -9.648125937703815,
          -3.0662014504604045,
          3.821055239341673,
          18.165724025212423,
          1.5686967277529156,
          3.0522941493285813,
          -2.8538571125162884,
          -6.7623602033799735,
          -1.1868825232221034,
          -0.14596423503650846,
          8.055342053726804,
          -11.406919229973841,
          -4.964443753727186,
          -3.6126970447947597,
          -2.017404132507249,
          4.997756451900267,
          1.2691799174469676,
          20.8237446705795,
          -15.251440152011684,
          8.597288964801809,
          1.8329838071410178,
          37.9934475458508,
          8.561046622739623,
          5.017504948610869,
          7.925483009466255,
          -2.9884621195170094,
          23.763458527644236,
          8.764341290257311,
          -1.250455221843281,
          10.140085472840047,
          -4.865410393811241,
          4.807757935453623,
          -26.213706620968424,
          13.44840901728861,
          2.5633455803577636,
          3.780375644330532,
          -2.6626597468859803,
          2.307135232076746,
          -3.3449449503596065,
          -86.0178483424622,
          -6.515718421923797,
          -3.4942411615629867,
          3.718834250529499,
          -2.081997390914082,
          2.2742192684325233,
          -10.199789861360602,
          -7.001698649919058,
          -39.74168067988886,
          0.39104342200902203,
          -8.770279673192569,
          8.191205385985112,
          7.602105650658289,
          20.695446647361123,
          -4.013286636487382,
          -9.286704374439356,
          -8.476257871928725,
          42.141203551765614,
          0.5566661382085171,
          5.364363869849046,
          -12.764041763212056,
          -3.886067281101306,
          8.083349223420923,
          2.358434526128713,
          -4.080368126615763,
          4.665792774766799,
          4.040146666174977,
          5.68363952638715,
          27.36304385072465,
          6.1087612634219575,
          7.604395679615152,
          6.084973783857814,
          13.249559290143962,
          -9.082080655802697,
          -2.9466409084707155,
          -9.875031601486572,
          21.537745506711815,
          18.374101242452497,
          3.83181347104954,
          12.934101450164516,
          -0.9444998968274311,
          -0.015560193700502845,
          15.17939856623759,
          0.33663368662684173,
          7.114683282218244,
          21.32398178940728,
          -4.188255637924371,
          1.8532531075573595,
          -3.6853125291723554,
          13.327523532633606,
          -5.048197182644967,
          -2.883677527791886,
          12.529656319797363,
          3.3686222823885927,
          -6.857910950657571,
          7.292964426071921,
          14.014782518795018,
          -9.292999275692864,
          32.13232230288558,
          20.385655632067618,
          -8.386957537167001,
          3.494587932137587,
          -1.7920549701630077,
          14.1534598320985,
          5.544492925091514,
          9.679843571142763,
          -0.5784968208940178,
          11.230059444583672,
          16.290870179175407,
          -4.9472853309661255,
          18.369828060633733,
          7.484160079226264,
          2.671678755841594,
          -182.65161628715384,
          5.801059030885923,
          -2.3708999284820247,
          -13.267213294104963,
          -3.3493798652087716,
          16.25154820336164,
          -2.2461817400588697,
          3.335314087503103,
          10.752055305950007,
          -0.5599794708358987,
          -8.285606063045858,
          -11.836419172870169,
          3.212197026535863,
          8.93298408693857,
          14.013358381386857
         ],
         "xaxis": "x",
         "yaxis": "y"
        },
        {
         "alignmentgroup": "True",
         "hovertemplate": "Algorithm=XGB Random Forest_auto_stat<br>Forecast Bias=%{x}<extra></extra>",
         "legendgroup": "XGB Random Forest_auto_stat",
         "marker": {
          "color": "#EF553B"
         },
         "name": "XGB Random Forest_auto_stat",
         "notched": true,
         "offsetgroup": "XGB Random Forest_auto_stat",
         "showlegend": false,
         "type": "box",
         "x": [
          -0.8574420968319119,
          -0.9761551954032518,
          -14.083465636192653,
          8.64331694243449,
          -2.016155980527401,
          5.968835499457285,
          0.41620352492841234,
          -3.404336966315861,
          16.200789781111684,
          2.5127976839326545,
          1.348641433529286,
          -5.37094084222756,
          -6.450490732074946,
          34.25846680976813,
          9.331288066562479,
          -1.4389323084125416,
          2.3068633493665156,
          -4.090560990364665,
          -2.5954005847568484,
          -1.5703374914556059,
          0.5416555695902696,
          5.594710879410479,
          3.02203764025161,
          -9.648125937703815,
          -3.0662014504604045,
          3.821055239341673,
          18.165724025212423,
          1.5686967277529156,
          3.0522941493285813,
          -2.8538571125162884,
          -6.7623602033799735,
          -1.1868825232221034,
          -0.14596423503650846,
          8.055342053726804,
          -11.406919229973841,
          -4.964443753727186,
          -3.6126970447947597,
          -2.017404132507249,
          4.997756451900267,
          1.2691799174469676,
          20.8237446705795,
          -15.251440152011684,
          8.597288964801809,
          1.8329838071410178,
          37.9934475458508,
          8.561046622739623,
          5.017504948610869,
          7.925483009466255,
          -2.9884621195170094,
          23.763458527644236,
          8.764341290257311,
          -1.250455221843281,
          10.140085472840047,
          -4.865410393811241,
          4.807757935453623,
          -26.213706620968424,
          13.44840901728861,
          2.5633455803577636,
          3.780375644330532,
          -2.6626597468859803,
          2.307135232076746,
          -3.3449449503596065,
          -86.0178483424622,
          -6.515718421923797,
          -3.4942411615629867,
          3.718834250529499,
          -2.081997390914082,
          2.2742192684325233,
          -10.199789861360602,
          -7.001698649919058,
          -39.74168067988886,
          0.39104342200902203,
          -8.770279673192569,
          8.191205385985112,
          7.602105650658289,
          20.695446647361123,
          -4.013286636487382,
          -9.286704374439356,
          -8.476257871928725,
          42.141203551765614,
          0.5566661382085171,
          5.364363869849046,
          -12.764041763212056,
          -3.886067281101306,
          8.083349223420923,
          2.358434526128713,
          -4.080368126615763,
          4.665792774766799,
          4.040146666174977,
          5.68363952638715,
          27.36304385072465,
          6.1087612634219575,
          7.604395679615152,
          6.084973783857814,
          13.249559290143962,
          -9.082080655802697,
          -2.9466409084707155,
          -9.875031601486572,
          21.537745506711815,
          18.374101242452497,
          3.83181347104954,
          12.934101450164516,
          -0.9444998968274311,
          -0.015560193700502845,
          15.17939856623759,
          0.33663368662684173,
          7.114683282218244,
          21.32398178940728,
          -4.188255637924371,
          1.8532531075573595,
          -3.6853125291723554,
          13.327523532633606,
          -5.048197182644967,
          -2.883677527791886,
          12.529656319797363,
          3.3686222823885927,
          -6.857910950657571,
          7.292964426071921,
          14.014782518795018,
          -9.292999275692864,
          32.13232230288558,
          20.385655632067618,
          -8.386957537167001,
          3.494587932137587,
          -1.7920549701630077,
          14.1534598320985,
          5.544492925091514,
          9.679843571142763,
          -0.5784968208940178,
          11.230059444583672,
          16.290870179175407,
          -4.9472853309661255,
          18.369828060633733,
          7.484160079226264,
          2.671678755841594,
          -182.65161628715384,
          5.801059030885923,
          -2.3708999284820247,
          -13.267213294104963,
          -3.3493798652087716,
          16.25154820336164,
          -2.2461817400588697,
          3.335314087503103,
          10.752055305950007,
          -0.5599794708358987,
          -8.285606063045858,
          -11.836419172870169,
          3.212197026535863,
          8.93298408693857,
          14.013358381386857
         ],
         "xaxis": "x2",
         "yaxis": "y2"
        },
        {
         "alignmentgroup": "True",
         "bingroup": "x",
         "histnorm": "probability density",
         "hovertemplate": "Algorithm=LightGBM_auto_stat<br>Forecast Bias=%{x}<br>probability density=%{y}<extra></extra>",
         "legendgroup": "LightGBM_auto_stat",
         "marker": {
          "color": "#00cc96",
          "opacity": 0.5,
          "pattern": {
           "shape": "\\"
          }
         },
         "name": "LightGBM_auto_stat",
         "nbinsx": 250,
         "offsetgroup": "LightGBM_auto_stat",
         "orientation": "v",
         "showlegend": true,
         "type": "histogram",
         "x": [
          3.413630095126636,
          -0.7727331619404866,
          -9.255578729689336,
          11.402304048564474,
          -0.7209280364223313,
          2.6874053882083637,
          -2.2813151378362413,
          -1.1564267099233694,
          10.770221556435917,
          3.0257006892268965,
          2.33641840114423,
          -2.453552087319344,
          -5.880107510969094,
          16.227673434466972,
          4.768917472435091,
          0.24334295834940287,
          -1.2206264839633143,
          -1.8488033675645217,
          -1.9987254999496349,
          -2.291664908503737,
          -0.46432402782600485,
          -1.6684704008907252,
          4.517194357168551,
          -7.551146375302799,
          -0.3017522576050739,
          1.7262977437072031,
          7.496940002618604,
          2.4477301483053515,
          1.5873071235147675,
          8.167534474284308,
          -3.679337388958772,
          2.1376319795442527,
          -0.4428298900675895,
          13.012011066536314,
          -1.2828382756751022,
          -2.009456777520659,
          1.396553646428693,
          6.016557350918684,
          -3.06057409893819,
          -1.7165209617875261,
          11.605028617816345,
          -9.841527780600236,
          3.954749763743675,
          3.3616149490604603,
          13.285185769030921,
          -1.0997629983817585,
          -0.5621610879290518,
          1.2972752135571717,
          -10.688058691831618,
          4.387008046357451,
          3.2728860581275887,
          -1.7414117038705965,
          6.263610942230025,
          -4.129598840347593,
          0.970388225539728,
          -52.45290129731065,
          9.606542391588633,
          -2.085606521120049,
          -1.067223321532858,
          -3.8230268245800336,
          -0.4533103736981646,
          -4.726042670105166,
          -60.00088967784829,
          0.35200470029208486,
          3.13704299011506,
          1.3858996272548603,
          -0.5263008804836379,
          0.7157278688774897,
          -4.51740714823138,
          -5.028756651066741,
          -14.3121352828075,
          3.4745438744426878,
          -0.7094540127974132,
          -0.5243504104417518,
          4.313165103367177,
          7.639501416881737,
          -1.887429279328217,
          -5.953068291728119,
          -3.537381883744835,
          17.514313335049646,
          0.3382854652649735,
          2.857332373263259,
          -9.61312778357165,
          -7.673821400130895,
          -0.9646955128463773,
          2.4430722707150023,
          -0.4504981002279148,
          6.074552344463805,
          2.183862416021267,
          0.6691143173326649,
          3.5658161798978503,
          10.747857619895807,
          5.172623198482426,
          1.2887460241906703,
          -0.28113001057159653,
          -6.463617675525908,
          -12.742400885140945,
          -4.534230003380464,
          2.104317889351184,
          8.173577425748809,
          0.26350245947177786,
          2.9083836575935815,
          -2.5316821959536093,
          -1.8346635575809487,
          2.6810505970568452,
          -0.31893461172040716,
          1.6431892244376867,
          7.00820049799888,
          -3.1959951283028123,
          -0.02326654576559247,
          -2.2138095823749375,
          7.946758295930527,
          0.7743814808498142,
          0.39126689153438876,
          4.558039436781675,
          -1.4058562751933155,
          -6.817830135422599,
          6.857105012374992,
          10.86546572160045,
          -5.841081421001225,
          17.48308270885855,
          17.683186388938697,
          -1.5464259199379649,
          -5.46970200662781,
          -5.321875402529005,
          8.881966329345861,
          2.449226042381419,
          4.996162496434033,
          4.557446645949507,
          4.076869137692485,
          7.2184213374176025,
          -2.0180800468612157,
          2.0097619377596505,
          1.7231103874974099,
          1.0012571455675252,
          -124.4037750676424,
          3.809772605786612,
          -2.4732211206660097,
          -13.791191345373372,
          0.94443945788128,
          6.435453045573934,
          -0.35412256798042624,
          -3.325733335882839,
          1.1556934544681536,
          -4.838438136034791,
          0.3740200143937131,
          -1.0932590298489187,
          3.7691229958527606,
          7.982499572233784,
          5.451656444828742
         ],
         "xaxis": "x",
         "yaxis": "y"
        },
        {
         "alignmentgroup": "True",
         "hovertemplate": "Algorithm=LightGBM_auto_stat<br>Forecast Bias=%{x}<extra></extra>",
         "legendgroup": "LightGBM_auto_stat",
         "marker": {
          "color": "#00cc96"
         },
         "name": "LightGBM_auto_stat",
         "notched": true,
         "offsetgroup": "LightGBM_auto_stat",
         "showlegend": false,
         "type": "box",
         "x": [
          3.413630095126636,
          -0.7727331619404866,
          -9.255578729689336,
          11.402304048564474,
          -0.7209280364223313,
          2.6874053882083637,
          -2.2813151378362413,
          -1.1564267099233694,
          10.770221556435917,
          3.0257006892268965,
          2.33641840114423,
          -2.453552087319344,
          -5.880107510969094,
          16.227673434466972,
          4.768917472435091,
          0.24334295834940287,
          -1.2206264839633143,
          -1.8488033675645217,
          -1.9987254999496349,
          -2.291664908503737,
          -0.46432402782600485,
          -1.6684704008907252,
          4.517194357168551,
          -7.551146375302799,
          -0.3017522576050739,
          1.7262977437072031,
          7.496940002618604,
          2.4477301483053515,
          1.5873071235147675,
          8.167534474284308,
          -3.679337388958772,
          2.1376319795442527,
          -0.4428298900675895,
          13.012011066536314,
          -1.2828382756751022,
          -2.009456777520659,
          1.396553646428693,
          6.016557350918684,
          -3.06057409893819,
          -1.7165209617875261,
          11.605028617816345,
          -9.841527780600236,
          3.954749763743675,
          3.3616149490604603,
          13.285185769030921,
          -1.0997629983817585,
          -0.5621610879290518,
          1.2972752135571717,
          -10.688058691831618,
          4.387008046357451,
          3.2728860581275887,
          -1.7414117038705965,
          6.263610942230025,
          -4.129598840347593,
          0.970388225539728,
          -52.45290129731065,
          9.606542391588633,
          -2.085606521120049,
          -1.067223321532858,
          -3.8230268245800336,
          -0.4533103736981646,
          -4.726042670105166,
          -60.00088967784829,
          0.35200470029208486,
          3.13704299011506,
          1.3858996272548603,
          -0.5263008804836379,
          0.7157278688774897,
          -4.51740714823138,
          -5.028756651066741,
          -14.3121352828075,
          3.4745438744426878,
          -0.7094540127974132,
          -0.5243504104417518,
          4.313165103367177,
          7.639501416881737,
          -1.887429279328217,
          -5.953068291728119,
          -3.537381883744835,
          17.514313335049646,
          0.3382854652649735,
          2.857332373263259,
          -9.61312778357165,
          -7.673821400130895,
          -0.9646955128463773,
          2.4430722707150023,
          -0.4504981002279148,
          6.074552344463805,
          2.183862416021267,
          0.6691143173326649,
          3.5658161798978503,
          10.747857619895807,
          5.172623198482426,
          1.2887460241906703,
          -0.28113001057159653,
          -6.463617675525908,
          -12.742400885140945,
          -4.534230003380464,
          2.104317889351184,
          8.173577425748809,
          0.26350245947177786,
          2.9083836575935815,
          -2.5316821959536093,
          -1.8346635575809487,
          2.6810505970568452,
          -0.31893461172040716,
          1.6431892244376867,
          7.00820049799888,
          -3.1959951283028123,
          -0.02326654576559247,
          -2.2138095823749375,
          7.946758295930527,
          0.7743814808498142,
          0.39126689153438876,
          4.558039436781675,
          -1.4058562751933155,
          -6.817830135422599,
          6.857105012374992,
          10.86546572160045,
          -5.841081421001225,
          17.48308270885855,
          17.683186388938697,
          -1.5464259199379649,
          -5.46970200662781,
          -5.321875402529005,
          8.881966329345861,
          2.449226042381419,
          4.996162496434033,
          4.557446645949507,
          4.076869137692485,
          7.2184213374176025,
          -2.0180800468612157,
          2.0097619377596505,
          1.7231103874974099,
          1.0012571455675252,
          -124.4037750676424,
          3.809772605786612,
          -2.4732211206660097,
          -13.791191345373372,
          0.94443945788128,
          6.435453045573934,
          -0.35412256798042624,
          -3.325733335882839,
          1.1556934544681536,
          -4.838438136034791,
          0.3740200143937131,
          -1.0932590298489187,
          3.7691229958527606,
          7.982499572233784,
          5.451656444828742
         ],
         "xaxis": "x2",
         "yaxis": "y2"
        }
       ],
       "layout": {
        "autosize": false,
        "barmode": "overlay",
        "height": 500,
        "legend": {
         "title": {},
         "tracegroupgap": 0
        },
        "margin": {
         "t": 60
        },
        "template": {
         "data": {
          "bar": [
           {
            "error_x": {
             "color": "#2a3f5f"
            },
            "error_y": {
             "color": "#2a3f5f"
            },
            "marker": {
             "line": {
              "color": "white",
              "width": 0.5
             },
             "pattern": {
              "fillmode": "overlay",
              "size": 10,
              "solidity": 0.2
             }
            },
            "type": "bar"
           }
          ],
          "barpolar": [
           {
            "marker": {
             "line": {
              "color": "white",
              "width": 0.5
             },
             "pattern": {
              "fillmode": "overlay",
              "size": 10,
              "solidity": 0.2
             }
            },
            "type": "barpolar"
           }
          ],
          "carpet": [
           {
            "aaxis": {
             "endlinecolor": "#2a3f5f",
             "gridcolor": "#C8D4E3",
             "linecolor": "#C8D4E3",
             "minorgridcolor": "#C8D4E3",
             "startlinecolor": "#2a3f5f"
            },
            "baxis": {
             "endlinecolor": "#2a3f5f",
             "gridcolor": "#C8D4E3",
             "linecolor": "#C8D4E3",
             "minorgridcolor": "#C8D4E3",
             "startlinecolor": "#2a3f5f"
            },
            "type": "carpet"
           }
          ],
          "choropleth": [
           {
            "colorbar": {
             "outlinewidth": 0,
             "ticks": ""
            },
            "type": "choropleth"
           }
          ],
          "contour": [
           {
            "colorbar": {
             "outlinewidth": 0,
             "ticks": ""
            },
            "colorscale": [
             [
              0,
              "#0d0887"
             ],
             [
              0.1111111111111111,
              "#46039f"
             ],
             [
              0.2222222222222222,
              "#7201a8"
             ],
             [
              0.3333333333333333,
              "#9c179e"
             ],
             [
              0.4444444444444444,
              "#bd3786"
             ],
             [
              0.5555555555555556,
              "#d8576b"
             ],
             [
              0.6666666666666666,
              "#ed7953"
             ],
             [
              0.7777777777777778,
              "#fb9f3a"
             ],
             [
              0.8888888888888888,
              "#fdca26"
             ],
             [
              1,
              "#f0f921"
             ]
            ],
            "type": "contour"
           }
          ],
          "contourcarpet": [
           {
            "colorbar": {
             "outlinewidth": 0,
             "ticks": ""
            },
            "type": "contourcarpet"
           }
          ],
          "heatmap": [
           {
            "colorbar": {
             "outlinewidth": 0,
             "ticks": ""
            },
            "colorscale": [
             [
              0,
              "#0d0887"
             ],
             [
              0.1111111111111111,
              "#46039f"
             ],
             [
              0.2222222222222222,
              "#7201a8"
             ],
             [
              0.3333333333333333,
              "#9c179e"
             ],
             [
              0.4444444444444444,
              "#bd3786"
             ],
             [
              0.5555555555555556,
              "#d8576b"
             ],
             [
              0.6666666666666666,
              "#ed7953"
             ],
             [
              0.7777777777777778,
              "#fb9f3a"
             ],
             [
              0.8888888888888888,
              "#fdca26"
             ],
             [
              1,
              "#f0f921"
             ]
            ],
            "type": "heatmap"
           }
          ],
          "heatmapgl": [
           {
            "colorbar": {
             "outlinewidth": 0,
             "ticks": ""
            },
            "colorscale": [
             [
              0,
              "#0d0887"
             ],
             [
              0.1111111111111111,
              "#46039f"
             ],
             [
              0.2222222222222222,
              "#7201a8"
             ],
             [
              0.3333333333333333,
              "#9c179e"
             ],
             [
              0.4444444444444444,
              "#bd3786"
             ],
             [
              0.5555555555555556,
              "#d8576b"
             ],
             [
              0.6666666666666666,
              "#ed7953"
             ],
             [
              0.7777777777777778,
              "#fb9f3a"
             ],
             [
              0.8888888888888888,
              "#fdca26"
             ],
             [
              1,
              "#f0f921"
             ]
            ],
            "type": "heatmapgl"
           }
          ],
          "histogram": [
           {
            "marker": {
             "pattern": {
              "fillmode": "overlay",
              "size": 10,
              "solidity": 0.2
             }
            },
            "type": "histogram"
           }
          ],
          "histogram2d": [
           {
            "colorbar": {
             "outlinewidth": 0,
             "ticks": ""
            },
            "colorscale": [
             [
              0,
              "#0d0887"
             ],
             [
              0.1111111111111111,
              "#46039f"
             ],
             [
              0.2222222222222222,
              "#7201a8"
             ],
             [
              0.3333333333333333,
              "#9c179e"
             ],
             [
              0.4444444444444444,
              "#bd3786"
             ],
             [
              0.5555555555555556,
              "#d8576b"
             ],
             [
              0.6666666666666666,
              "#ed7953"
             ],
             [
              0.7777777777777778,
              "#fb9f3a"
             ],
             [
              0.8888888888888888,
              "#fdca26"
             ],
             [
              1,
              "#f0f921"
             ]
            ],
            "type": "histogram2d"
           }
          ],
          "histogram2dcontour": [
           {
            "colorbar": {
             "outlinewidth": 0,
             "ticks": ""
            },
            "colorscale": [
             [
              0,
              "#0d0887"
             ],
             [
              0.1111111111111111,
              "#46039f"
             ],
             [
              0.2222222222222222,
              "#7201a8"
             ],
             [
              0.3333333333333333,
              "#9c179e"
             ],
             [
              0.4444444444444444,
              "#bd3786"
             ],
             [
              0.5555555555555556,
              "#d8576b"
             ],
             [
              0.6666666666666666,
              "#ed7953"
             ],
             [
              0.7777777777777778,
              "#fb9f3a"
             ],
             [
              0.8888888888888888,
              "#fdca26"
             ],
             [
              1,
              "#f0f921"
             ]
            ],
            "type": "histogram2dcontour"
           }
          ],
          "mesh3d": [
           {
            "colorbar": {
             "outlinewidth": 0,
             "ticks": ""
            },
            "type": "mesh3d"
           }
          ],
          "parcoords": [
           {
            "line": {
             "colorbar": {
              "outlinewidth": 0,
              "ticks": ""
             }
            },
            "type": "parcoords"
           }
          ],
          "pie": [
           {
            "automargin": true,
            "type": "pie"
           }
          ],
          "scatter": [
           {
            "fillpattern": {
             "fillmode": "overlay",
             "size": 10,
             "solidity": 0.2
            },
            "type": "scatter"
           }
          ],
          "scatter3d": [
           {
            "line": {
             "colorbar": {
              "outlinewidth": 0,
              "ticks": ""
             }
            },
            "marker": {
             "colorbar": {
              "outlinewidth": 0,
              "ticks": ""
             }
            },
            "type": "scatter3d"
           }
          ],
          "scattercarpet": [
           {
            "marker": {
             "colorbar": {
              "outlinewidth": 0,
              "ticks": ""
             }
            },
            "type": "scattercarpet"
           }
          ],
          "scattergeo": [
           {
            "marker": {
             "colorbar": {
              "outlinewidth": 0,
              "ticks": ""
             }
            },
            "type": "scattergeo"
           }
          ],
          "scattergl": [
           {
            "marker": {
             "colorbar": {
              "outlinewidth": 0,
              "ticks": ""
             }
            },
            "type": "scattergl"
           }
          ],
          "scattermapbox": [
           {
            "marker": {
             "colorbar": {
              "outlinewidth": 0,
              "ticks": ""
             }
            },
            "type": "scattermapbox"
           }
          ],
          "scatterpolar": [
           {
            "marker": {
             "colorbar": {
              "outlinewidth": 0,
              "ticks": ""
             }
            },
            "type": "scatterpolar"
           }
          ],
          "scatterpolargl": [
           {
            "marker": {
             "colorbar": {
              "outlinewidth": 0,
              "ticks": ""
             }
            },
            "type": "scatterpolargl"
           }
          ],
          "scatterternary": [
           {
            "marker": {
             "colorbar": {
              "outlinewidth": 0,
              "ticks": ""
             }
            },
            "type": "scatterternary"
           }
          ],
          "surface": [
           {
            "colorbar": {
             "outlinewidth": 0,
             "ticks": ""
            },
            "colorscale": [
             [
              0,
              "#0d0887"
             ],
             [
              0.1111111111111111,
              "#46039f"
             ],
             [
              0.2222222222222222,
              "#7201a8"
             ],
             [
              0.3333333333333333,
              "#9c179e"
             ],
             [
              0.4444444444444444,
              "#bd3786"
             ],
             [
              0.5555555555555556,
              "#d8576b"
             ],
             [
              0.6666666666666666,
              "#ed7953"
             ],
             [
              0.7777777777777778,
              "#fb9f3a"
             ],
             [
              0.8888888888888888,
              "#fdca26"
             ],
             [
              1,
              "#f0f921"
             ]
            ],
            "type": "surface"
           }
          ],
          "table": [
           {
            "cells": {
             "fill": {
              "color": "#EBF0F8"
             },
             "line": {
              "color": "white"
             }
            },
            "header": {
             "fill": {
              "color": "#C8D4E3"
             },
             "line": {
              "color": "white"
             }
            },
            "type": "table"
           }
          ]
         },
         "layout": {
          "annotationdefaults": {
           "arrowcolor": "#2a3f5f",
           "arrowhead": 0,
           "arrowwidth": 1
          },
          "autotypenumbers": "strict",
          "coloraxis": {
           "colorbar": {
            "outlinewidth": 0,
            "ticks": ""
           }
          },
          "colorscale": {
           "diverging": [
            [
             0,
             "#8e0152"
            ],
            [
             0.1,
             "#c51b7d"
            ],
            [
             0.2,
             "#de77ae"
            ],
            [
             0.3,
             "#f1b6da"
            ],
            [
             0.4,
             "#fde0ef"
            ],
            [
             0.5,
             "#f7f7f7"
            ],
            [
             0.6,
             "#e6f5d0"
            ],
            [
             0.7,
             "#b8e186"
            ],
            [
             0.8,
             "#7fbc41"
            ],
            [
             0.9,
             "#4d9221"
            ],
            [
             1,
             "#276419"
            ]
           ],
           "sequential": [
            [
             0,
             "#0d0887"
            ],
            [
             0.1111111111111111,
             "#46039f"
            ],
            [
             0.2222222222222222,
             "#7201a8"
            ],
            [
             0.3333333333333333,
             "#9c179e"
            ],
            [
             0.4444444444444444,
             "#bd3786"
            ],
            [
             0.5555555555555556,
             "#d8576b"
            ],
            [
             0.6666666666666666,
             "#ed7953"
            ],
            [
             0.7777777777777778,
             "#fb9f3a"
            ],
            [
             0.8888888888888888,
             "#fdca26"
            ],
            [
             1,
             "#f0f921"
            ]
           ],
           "sequentialminus": [
            [
             0,
             "#0d0887"
            ],
            [
             0.1111111111111111,
             "#46039f"
            ],
            [
             0.2222222222222222,
             "#7201a8"
            ],
            [
             0.3333333333333333,
             "#9c179e"
            ],
            [
             0.4444444444444444,
             "#bd3786"
            ],
            [
             0.5555555555555556,
             "#d8576b"
            ],
            [
             0.6666666666666666,
             "#ed7953"
            ],
            [
             0.7777777777777778,
             "#fb9f3a"
            ],
            [
             0.8888888888888888,
             "#fdca26"
            ],
            [
             1,
             "#f0f921"
            ]
           ]
          },
          "colorway": [
           "#636efa",
           "#EF553B",
           "#00cc96",
           "#ab63fa",
           "#FFA15A",
           "#19d3f3",
           "#FF6692",
           "#B6E880",
           "#FF97FF",
           "#FECB52"
          ],
          "font": {
           "color": "#2a3f5f"
          },
          "geo": {
           "bgcolor": "white",
           "lakecolor": "white",
           "landcolor": "white",
           "showlakes": true,
           "showland": true,
           "subunitcolor": "#C8D4E3"
          },
          "hoverlabel": {
           "align": "left"
          },
          "hovermode": "closest",
          "mapbox": {
           "style": "light"
          },
          "paper_bgcolor": "white",
          "plot_bgcolor": "white",
          "polar": {
           "angularaxis": {
            "gridcolor": "#EBF0F8",
            "linecolor": "#EBF0F8",
            "ticks": ""
           },
           "bgcolor": "white",
           "radialaxis": {
            "gridcolor": "#EBF0F8",
            "linecolor": "#EBF0F8",
            "ticks": ""
           }
          },
          "scene": {
           "xaxis": {
            "backgroundcolor": "white",
            "gridcolor": "#DFE8F3",
            "gridwidth": 2,
            "linecolor": "#EBF0F8",
            "showbackground": true,
            "ticks": "",
            "zerolinecolor": "#EBF0F8"
           },
           "yaxis": {
            "backgroundcolor": "white",
            "gridcolor": "#DFE8F3",
            "gridwidth": 2,
            "linecolor": "#EBF0F8",
            "showbackground": true,
            "ticks": "",
            "zerolinecolor": "#EBF0F8"
           },
           "zaxis": {
            "backgroundcolor": "white",
            "gridcolor": "#DFE8F3",
            "gridwidth": 2,
            "linecolor": "#EBF0F8",
            "showbackground": true,
            "ticks": "",
            "zerolinecolor": "#EBF0F8"
           }
          },
          "shapedefaults": {
           "line": {
            "color": "#2a3f5f"
           }
          },
          "ternary": {
           "aaxis": {
            "gridcolor": "#DFE8F3",
            "linecolor": "#A2B1C6",
            "ticks": ""
           },
           "baxis": {
            "gridcolor": "#DFE8F3",
            "linecolor": "#A2B1C6",
            "ticks": ""
           },
           "bgcolor": "white",
           "caxis": {
            "gridcolor": "#DFE8F3",
            "linecolor": "#A2B1C6",
            "ticks": ""
           }
          },
          "title": {
           "x": 0.05
          },
          "xaxis": {
           "automargin": true,
           "gridcolor": "#EBF0F8",
           "linecolor": "#EBF0F8",
           "ticks": "",
           "title": {
            "standoff": 15
           },
           "zerolinecolor": "#EBF0F8",
           "zerolinewidth": 2
          },
          "yaxis": {
           "automargin": true,
           "gridcolor": "#EBF0F8",
           "linecolor": "#EBF0F8",
           "ticks": "",
           "title": {
            "standoff": 15
           },
           "zerolinecolor": "#EBF0F8",
           "zerolinewidth": 2
          }
         }
        },
        "title": {
         "font": {
          "size": 20
         },
         "text": "Distribution of Forecast Bias in the dataset",
         "x": 0.5,
         "xanchor": "center",
         "yanchor": "top"
        },
        "width": 900,
        "xaxis": {
         "anchor": "y",
         "domain": [
          0,
          1
         ],
         "range": [
          -50,
          30
         ],
         "title": {
          "font": {
           "size": 12
          },
          "text": "Forecast Bias"
         }
        },
        "xaxis2": {
         "anchor": "y2",
         "domain": [
          0,
          1
         ],
         "matches": "x",
         "showgrid": true,
         "showticklabels": false
        },
        "yaxis": {
         "anchor": "x",
         "domain": [
          0,
          0.7326
         ],
         "title": {
          "font": {
           "size": 12
          },
          "text": "Probability Density"
         }
        },
        "yaxis2": {
         "anchor": "x2",
         "domain": [
          0.7426,
          1
         ],
         "matches": "y2",
         "showgrid": false,
         "showline": false,
         "showticklabels": false,
         "ticks": ""
        }
       }
      }
     },
     "metadata": {},
     "output_type": "display_data"
    }
   ],
   "source": [
    "fig = px.histogram(\n",
    "    metrics_df,\n",
    "    x=\"Forecast Bias\",\n",
    "    color=\"Algorithm\",\n",
    "    pattern_shape=\"Algorithm\",\n",
    "    marginal=\"box\",\n",
    "    nbins=250,\n",
    "    barmode=\"overlay\",\n",
    "    histnorm=\"probability density\",\n",
    ")\n",
    "fig = format_plot(\n",
    "    fig,\n",
    "    xlabel=\"Forecast Bias\",\n",
    "    ylabel=\"Probability Density\",\n",
    "    title=\"Distribution of Forecast Bias in the dataset\",\n",
    ")\n",
    "fig.update_layout(xaxis_range=[-50, 30])\n",
    "# fig.write_image(\"imgs/chapter_8/bias_dist.png\")\n",
    "fig.show()"
   ]
  },
  {
   "cell_type": "markdown",
   "id": "8563e46a-8c50-4ae4-8321-2a36e9d104d8",
   "metadata": {
    "tags": []
   },
   "source": [
    "# Saving the Baseline Forecasts and Metrics"
   ]
  },
  {
   "cell_type": "code",
   "execution_count": 27,
   "id": "330d2005-faba-44da-89a9-29b088758998",
   "metadata": {},
   "outputs": [],
   "source": [
    "os.makedirs(\"data/london_smart_meters/output\", exist_ok=True)\n",
    "output = Path(\"data/london_smart_meters/output\")"
   ]
  },
  {
   "cell_type": "code",
   "execution_count": 28,
   "id": "72f475ae-2f2e-4ca4-9941-98ae14d764b4",
   "metadata": {},
   "outputs": [],
   "source": [
    "pred_df.to_pickle(output / \"ml_single_step_prediction_auto_stationary_test_df.pkl\")\n",
    "metrics_df.to_pickle(output / \"ml_single_step_metrics_auto_stationary_test_df.pkl\")\n",
    "agg_metrics_df.to_pickle(\n",
    "    output / \"ml_single_step_aggregate_metrics_auto_stationary_test.pkl\"\n",
    ")"
   ]
  }
 ],
 "metadata": {
  "kernelspec": {
   "display_name": "Python 3 (ipykernel)",
   "language": "python",
   "name": "python3"
  },
  "language_info": {
   "codemirror_mode": {
    "name": "ipython",
    "version": 3
   },
   "file_extension": ".py",
   "mimetype": "text/x-python",
   "name": "python",
   "nbconvert_exporter": "python",
   "pygments_lexer": "ipython3",
   "version": "3.11.0"
  },
  "varInspector": {
   "cols": {
    "lenName": 16,
    "lenType": 16,
    "lenVar": 40
   },
   "kernels_config": {
    "python": {
     "delete_cmd_postfix": "",
     "delete_cmd_prefix": "del ",
     "library": "var_list.py",
     "varRefreshCmd": "print(var_dic_list())"
    },
    "r": {
     "delete_cmd_postfix": ") ",
     "delete_cmd_prefix": "rm(",
     "library": "var_list.r",
     "varRefreshCmd": "cat(var_dic_list()) "
    }
   },
   "types_to_exclude": [
    "module",
    "function",
    "builtin_function_or_method",
    "instance",
    "_Feature"
   ],
   "window_display": false
  }
 },
 "nbformat": 4,
 "nbformat_minor": 5
}

{
 "cells": [
  {
   "cell_type": "code",
   "execution_count": 1,
   "id": "b25018c9-2624-434c-aa23-04be1d73e729",
   "metadata": {},
   "outputs": [
    {
     "name": "stdout",
     "output_type": "stream",
     "text": [
      "C:\\Users\\ManuJoseph\\OneDrive - Thoucentric\\Work\\Projects\\Playground\\AdvancedTimeSeriesForecastingBook\\Github\\Modern-Time-Series-Forecasting-with-Python-\n"
     ]
    }
   ],
   "source": [
    "%cd ../.."
   ]
  },
  {
   "cell_type": "code",
   "execution_count": 2,
   "id": "4f023467-970a-461e-a60f-7a66fce6a497",
   "metadata": {},
   "outputs": [
    {
     "name": "stderr",
     "output_type": "stream",
     "text": [
      "C:\\Users\\MANUJO~1\\AppData\\Local\\Temp/ipykernel_18952/3139195564.py:5: TqdmExperimentalWarning: Using `tqdm.autonotebook.tqdm` in notebook mode. Use `tqdm.tqdm` instead to force console mode (e.g. in jupyter console)\n",
      "  from tqdm.autonotebook import tqdm\n"
     ]
    }
   ],
   "source": [
    "import numpy as np\n",
    "import pandas as pd\n",
    "import os\n",
    "from pathlib import Path\n",
    "from tqdm.autonotebook import tqdm\n",
    "import warnings\n",
    "from src.utils.general import LogTime\n",
    "import plotly.express as px\n",
    "import matplotlib.pyplot as plt\n",
    "import joblib\n",
    "from src.transforms.target_transformations import AutoStationaryTransformer\n",
    "from IPython.display import display, HTML\n",
    "# %load_ext autoreload\n",
    "# %autoreload 2\n",
    "np.random.seed(42)\n",
    "tqdm.pandas()"
   ]
  },
  {
   "cell_type": "code",
   "execution_count": 3,
   "id": "41ae72a1-3721-4b36-b211-b78d4b09c855",
   "metadata": {},
   "outputs": [],
   "source": [
    "os.makedirs(\"imgs/chapter_6\", exist_ok=True)\n",
    "preprocessed = Path(\"data/london_smart_meters/preprocessed\")"
   ]
  },
  {
   "cell_type": "markdown",
   "id": "3e8610b9-0149-4891-9b82-847f49967d85",
   "metadata": {},
   "source": [
    "## Reading the preprocessed and feature engineered files (Train + Validation)"
   ]
  },
  {
   "cell_type": "code",
   "execution_count": 4,
   "id": "f272666e-b126-41a4-a1a4-8886a677e22d",
   "metadata": {},
   "outputs": [
    {
     "data": {
      "text/html": [
       "<div>\n",
       "<style scoped>\n",
       "    .dataframe tbody tr th:only-of-type {\n",
       "        vertical-align: middle;\n",
       "    }\n",
       "\n",
       "    .dataframe tbody tr th {\n",
       "        vertical-align: top;\n",
       "    }\n",
       "\n",
       "    .dataframe thead th {\n",
       "        text-align: right;\n",
       "    }\n",
       "</style>\n",
       "<table border=\"1\" class=\"dataframe\">\n",
       "  <thead>\n",
       "    <tr style=\"text-align: right;\">\n",
       "      <th></th>\n",
       "      <th>timestamp</th>\n",
       "      <th>LCLid</th>\n",
       "      <th>energy_consumption</th>\n",
       "      <th>frequency</th>\n",
       "      <th>series_length</th>\n",
       "      <th>stdorToU</th>\n",
       "      <th>Acorn</th>\n",
       "      <th>Acorn_grouped</th>\n",
       "      <th>file</th>\n",
       "      <th>holidays</th>\n",
       "      <th>...</th>\n",
       "      <th>timestamp_Minute_sin_2</th>\n",
       "      <th>timestamp_Minute_sin_3</th>\n",
       "      <th>timestamp_Minute_sin_4</th>\n",
       "      <th>timestamp_Minute_sin_5</th>\n",
       "      <th>timestamp_Minute_cos_1</th>\n",
       "      <th>timestamp_Minute_cos_2</th>\n",
       "      <th>timestamp_Minute_cos_3</th>\n",
       "      <th>timestamp_Minute_cos_4</th>\n",
       "      <th>timestamp_Minute_cos_5</th>\n",
       "      <th>type</th>\n",
       "    </tr>\n",
       "  </thead>\n",
       "  <tbody>\n",
       "    <tr>\n",
       "      <th>0</th>\n",
       "      <td>2012-01-01 00:00:00</td>\n",
       "      <td>MAC000061</td>\n",
       "      <td>0.114</td>\n",
       "      <td>30min</td>\n",
       "      <td>37872</td>\n",
       "      <td>Std</td>\n",
       "      <td>ACORN-Q</td>\n",
       "      <td>Adversity</td>\n",
       "      <td>block_96</td>\n",
       "      <td>NO_HOLIDAY</td>\n",
       "      <td>...</td>\n",
       "      <td>0.000000e+00</td>\n",
       "      <td>0.000000e+00</td>\n",
       "      <td>0.000000e+00</td>\n",
       "      <td>0.000000e+00</td>\n",
       "      <td>1.0</td>\n",
       "      <td>1.0</td>\n",
       "      <td>1.0</td>\n",
       "      <td>1.0</td>\n",
       "      <td>1.0</td>\n",
       "      <td>train</td>\n",
       "    </tr>\n",
       "    <tr>\n",
       "      <th>1</th>\n",
       "      <td>2012-01-01 00:30:00</td>\n",
       "      <td>MAC000061</td>\n",
       "      <td>0.113</td>\n",
       "      <td>30min</td>\n",
       "      <td>37872</td>\n",
       "      <td>Std</td>\n",
       "      <td>ACORN-Q</td>\n",
       "      <td>Adversity</td>\n",
       "      <td>block_96</td>\n",
       "      <td>NO_HOLIDAY</td>\n",
       "      <td>...</td>\n",
       "      <td>-1.133108e-15</td>\n",
       "      <td>2.143751e-15</td>\n",
       "      <td>-2.266215e-15</td>\n",
       "      <td>6.123234e-16</td>\n",
       "      <td>-1.0</td>\n",
       "      <td>1.0</td>\n",
       "      <td>-1.0</td>\n",
       "      <td>1.0</td>\n",
       "      <td>-1.0</td>\n",
       "      <td>train</td>\n",
       "    </tr>\n",
       "    <tr>\n",
       "      <th>2</th>\n",
       "      <td>2012-01-01 01:00:00</td>\n",
       "      <td>MAC000061</td>\n",
       "      <td>0.113</td>\n",
       "      <td>30min</td>\n",
       "      <td>37872</td>\n",
       "      <td>Std</td>\n",
       "      <td>ACORN-Q</td>\n",
       "      <td>Adversity</td>\n",
       "      <td>block_96</td>\n",
       "      <td>NO_HOLIDAY</td>\n",
       "      <td>...</td>\n",
       "      <td>0.000000e+00</td>\n",
       "      <td>0.000000e+00</td>\n",
       "      <td>0.000000e+00</td>\n",
       "      <td>0.000000e+00</td>\n",
       "      <td>1.0</td>\n",
       "      <td>1.0</td>\n",
       "      <td>1.0</td>\n",
       "      <td>1.0</td>\n",
       "      <td>1.0</td>\n",
       "      <td>train</td>\n",
       "    </tr>\n",
       "    <tr>\n",
       "      <th>3</th>\n",
       "      <td>2012-01-01 01:30:00</td>\n",
       "      <td>MAC000061</td>\n",
       "      <td>0.098</td>\n",
       "      <td>30min</td>\n",
       "      <td>37872</td>\n",
       "      <td>Std</td>\n",
       "      <td>ACORN-Q</td>\n",
       "      <td>Adversity</td>\n",
       "      <td>block_96</td>\n",
       "      <td>NO_HOLIDAY</td>\n",
       "      <td>...</td>\n",
       "      <td>-1.133108e-15</td>\n",
       "      <td>2.143751e-15</td>\n",
       "      <td>-2.266215e-15</td>\n",
       "      <td>6.123234e-16</td>\n",
       "      <td>-1.0</td>\n",
       "      <td>1.0</td>\n",
       "      <td>-1.0</td>\n",
       "      <td>1.0</td>\n",
       "      <td>-1.0</td>\n",
       "      <td>train</td>\n",
       "    </tr>\n",
       "    <tr>\n",
       "      <th>4</th>\n",
       "      <td>2012-01-01 02:00:00</td>\n",
       "      <td>MAC000061</td>\n",
       "      <td>0.060</td>\n",
       "      <td>30min</td>\n",
       "      <td>37872</td>\n",
       "      <td>Std</td>\n",
       "      <td>ACORN-Q</td>\n",
       "      <td>Adversity</td>\n",
       "      <td>block_96</td>\n",
       "      <td>NO_HOLIDAY</td>\n",
       "      <td>...</td>\n",
       "      <td>0.000000e+00</td>\n",
       "      <td>0.000000e+00</td>\n",
       "      <td>0.000000e+00</td>\n",
       "      <td>0.000000e+00</td>\n",
       "      <td>1.0</td>\n",
       "      <td>1.0</td>\n",
       "      <td>1.0</td>\n",
       "      <td>1.0</td>\n",
       "      <td>1.0</td>\n",
       "      <td>train</td>\n",
       "    </tr>\n",
       "  </tbody>\n",
       "</table>\n",
       "<p>5 rows × 95 columns</p>\n",
       "</div>"
      ],
      "text/plain": [
       "            timestamp      LCLid  energy_consumption frequency  series_length  \\\n",
       "0 2012-01-01 00:00:00  MAC000061               0.114     30min          37872   \n",
       "1 2012-01-01 00:30:00  MAC000061               0.113     30min          37872   \n",
       "2 2012-01-01 01:00:00  MAC000061               0.113     30min          37872   \n",
       "3 2012-01-01 01:30:00  MAC000061               0.098     30min          37872   \n",
       "4 2012-01-01 02:00:00  MAC000061               0.060     30min          37872   \n",
       "\n",
       "  stdorToU    Acorn Acorn_grouped      file    holidays  ...  \\\n",
       "0      Std  ACORN-Q     Adversity  block_96  NO_HOLIDAY  ...   \n",
       "1      Std  ACORN-Q     Adversity  block_96  NO_HOLIDAY  ...   \n",
       "2      Std  ACORN-Q     Adversity  block_96  NO_HOLIDAY  ...   \n",
       "3      Std  ACORN-Q     Adversity  block_96  NO_HOLIDAY  ...   \n",
       "4      Std  ACORN-Q     Adversity  block_96  NO_HOLIDAY  ...   \n",
       "\n",
       "   timestamp_Minute_sin_2  timestamp_Minute_sin_3  timestamp_Minute_sin_4  \\\n",
       "0            0.000000e+00            0.000000e+00            0.000000e+00   \n",
       "1           -1.133108e-15            2.143751e-15           -2.266215e-15   \n",
       "2            0.000000e+00            0.000000e+00            0.000000e+00   \n",
       "3           -1.133108e-15            2.143751e-15           -2.266215e-15   \n",
       "4            0.000000e+00            0.000000e+00            0.000000e+00   \n",
       "\n",
       "   timestamp_Minute_sin_5  timestamp_Minute_cos_1  timestamp_Minute_cos_2  \\\n",
       "0            0.000000e+00                     1.0                     1.0   \n",
       "1            6.123234e-16                    -1.0                     1.0   \n",
       "2            0.000000e+00                     1.0                     1.0   \n",
       "3            6.123234e-16                    -1.0                     1.0   \n",
       "4            0.000000e+00                     1.0                     1.0   \n",
       "\n",
       "   timestamp_Minute_cos_3 timestamp_Minute_cos_4 timestamp_Minute_cos_5   type  \n",
       "0                     1.0                    1.0                    1.0  train  \n",
       "1                    -1.0                    1.0                   -1.0  train  \n",
       "2                     1.0                    1.0                    1.0  train  \n",
       "3                    -1.0                    1.0                   -1.0  train  \n",
       "4                     1.0                    1.0                    1.0  train  \n",
       "\n",
       "[5 rows x 95 columns]"
      ]
     },
     "execution_count": 4,
     "metadata": {},
     "output_type": "execute_result"
    }
   ],
   "source": [
    "#Readin the missing value imputed and train test split data\n",
    "try:\n",
    "    train_df = pd.read_parquet(preprocessed/\"selected_blocks_train_missing_imputed_feature_engg.parquet\")\n",
    "    val_df = pd.read_parquet(preprocessed/\"selected_blocks_val_missing_imputed_feature_engg.parquet\")\n",
    "    train_df[\"type\"] = \"train\"\n",
    "    val_df[\"type\"] = \"val\"\n",
    "    train_df = pd.concat([train_df,val_df])\n",
    "    del val_df\n",
    "    display(train_df.head())\n",
    "except FileNotFoundError:\n",
    "    display(HTML(\"\"\"\n",
    "    <div class=\"alert alert-block alert-warning\">\n",
    "    <b>Warning!</b> File not found. Please make sure you have run 01-Feature Engineering.ipynb in Chapter06\n",
    "    </div>\n",
    "    \"\"\"))"
   ]
  },
  {
   "cell_type": "code",
   "execution_count": 5,
   "id": "85bab0e8-cb50-4842-96c2-338da0fe06ab",
   "metadata": {
    "tags": []
   },
   "outputs": [
    {
     "data": {
      "application/vnd.jupyter.widget-view+json": {
       "model_id": "dd16d5f6c474479cbfa69e85fc3fbf47",
       "version_major": 2,
       "version_minor": 0
      },
      "text/plain": [
       "  0%|          | 0/150 [00:00<?, ?it/s]"
      ]
     },
     "metadata": {},
     "output_type": "display_data"
    }
   ],
   "source": [
    "#Takes a while. Snack Break!\n",
    "transformer_pipelines = {}\n",
    "for _id in tqdm(train_df[\"LCLid\"].unique()):\n",
    "    #Initialize the AutoStationaryTransformer with a seasonality period of 48*7\n",
    "    auto_stationary = AutoStationaryTransformer(seasonal_period=48*7)\n",
    "    #Creating the timeseries with datetime index\n",
    "    y = train_df.loc[train_df[\"LCLid\"]==_id, [\"energy_consumption\",\"timestamp\"]].set_index(\"timestamp\")\n",
    "    #Fitting and trainsforming the train\n",
    "    y_stat = auto_stationary.fit_transform(y, freq=\"30min\")\n",
    "    # Setting the transformerd series back to the dataframe\n",
    "    train_df.loc[train_df[\"LCLid\"]==_id, \"energy_consumption\"] = y_stat.values\n",
    "    #Saving the pipeline\n",
    "    transformer_pipelines[_id] = auto_stationary"
   ]
  },
  {
   "cell_type": "markdown",
   "id": "04457d65-baa0-46b5-9ef3-9b361c690ffd",
   "metadata": {},
   "source": [
    "## Saving the transformed file as well as the transformer pipelines"
   ]
  },
  {
   "cell_type": "code",
   "execution_count": 6,
   "id": "e7c63fa2-c00b-43da-9dfe-29c0f1d7ff0b",
   "metadata": {},
   "outputs": [],
   "source": [
    "train_df = train_df.loc[:,[\"LCLid\",\"timestamp\",\"energy_consumption\"]].set_index([\"LCLid\",\"timestamp\"])\n",
    "train_df.rename(columns={\"energy_consumption\":\"energy_consumption_auto_stat\"}, inplace=True)"
   ]
  },
  {
   "cell_type": "code",
   "execution_count": 7,
   "id": "515ef7e8-58fa-44ea-8155-67e6cd7f2c20",
   "metadata": {},
   "outputs": [
    {
     "data": {
      "text/html": [
       "<div>\n",
       "<style scoped>\n",
       "    .dataframe tbody tr th:only-of-type {\n",
       "        vertical-align: middle;\n",
       "    }\n",
       "\n",
       "    .dataframe tbody tr th {\n",
       "        vertical-align: top;\n",
       "    }\n",
       "\n",
       "    .dataframe thead th {\n",
       "        text-align: right;\n",
       "    }\n",
       "</style>\n",
       "<table border=\"1\" class=\"dataframe\">\n",
       "  <thead>\n",
       "    <tr style=\"text-align: right;\">\n",
       "      <th></th>\n",
       "      <th></th>\n",
       "      <th>energy_consumption_auto_stat</th>\n",
       "    </tr>\n",
       "    <tr>\n",
       "      <th>LCLid</th>\n",
       "      <th>timestamp</th>\n",
       "      <th></th>\n",
       "    </tr>\n",
       "  </thead>\n",
       "  <tbody>\n",
       "    <tr>\n",
       "      <th rowspan=\"5\" valign=\"top\">MAC000061</th>\n",
       "      <th>2012-01-01 00:00:00</th>\n",
       "      <td>0.555366</td>\n",
       "    </tr>\n",
       "    <tr>\n",
       "      <th>2012-01-01 00:30:00</th>\n",
       "      <td>0.560124</td>\n",
       "    </tr>\n",
       "    <tr>\n",
       "      <th>2012-01-01 01:00:00</th>\n",
       "      <td>0.563143</td>\n",
       "    </tr>\n",
       "    <tr>\n",
       "      <th>2012-01-01 01:30:00</th>\n",
       "      <td>0.560750</td>\n",
       "    </tr>\n",
       "    <tr>\n",
       "      <th>2012-01-01 02:00:00</th>\n",
       "      <td>0.553855</td>\n",
       "    </tr>\n",
       "  </tbody>\n",
       "</table>\n",
       "</div>"
      ],
      "text/plain": [
       "                               energy_consumption_auto_stat\n",
       "LCLid     timestamp                                        \n",
       "MAC000061 2012-01-01 00:00:00                      0.555366\n",
       "          2012-01-01 00:30:00                      0.560124\n",
       "          2012-01-01 01:00:00                      0.563143\n",
       "          2012-01-01 01:30:00                      0.560750\n",
       "          2012-01-01 02:00:00                      0.553855"
      ]
     },
     "execution_count": 7,
     "metadata": {},
     "output_type": "execute_result"
    }
   ],
   "source": [
    "train_df.head()"
   ]
  },
  {
   "cell_type": "code",
   "execution_count": 8,
   "id": "a9fb588e-adfa-413c-881c-f264adb302ec",
   "metadata": {},
   "outputs": [
    {
     "data": {
      "text/plain": [
       "['data\\\\london_smart_meters\\\\preprocessed\\\\auto_transformer_pipelines_train_val.pkl']"
      ]
     },
     "execution_count": 8,
     "metadata": {},
     "output_type": "execute_result"
    }
   ],
   "source": [
    "train_df.to_parquet(preprocessed/\"selected_blocks_train_val_auto_stat_target.parquet\")\n",
    "joblib.dump(transformer_pipelines, preprocessed/\"auto_transformer_pipelines_train_val.pkl\")"
   ]
  }
 ],
 "metadata": {
  "kernelspec": {
   "display_name": "Python 3 (ipykernel)",
   "language": "python",
   "name": "python3"
  },
  "language_info": {
   "codemirror_mode": {
    "name": "ipython",
    "version": 3
   },
   "file_extension": ".py",
   "mimetype": "text/x-python",
   "name": "python",
   "nbconvert_exporter": "python",
   "pygments_lexer": "ipython3",
   "version": "3.9.0"
  },
  "varInspector": {
   "cols": {
    "lenName": 16,
    "lenType": 16,
    "lenVar": 40
   },
   "kernels_config": {
    "python": {
     "delete_cmd_postfix": "",
     "delete_cmd_prefix": "del ",
     "library": "var_list.py",
     "varRefreshCmd": "print(var_dic_list())"
    },
    "r": {
     "delete_cmd_postfix": ") ",
     "delete_cmd_prefix": "rm(",
     "library": "var_list.r",
     "varRefreshCmd": "cat(var_dic_list()) "
    }
   },
   "types_to_exclude": [
    "module",
    "function",
    "builtin_function_or_method",
    "instance",
    "_Feature"
   ],
   "window_display": false
  }
 },
 "nbformat": 4,
 "nbformat_minor": 5
}

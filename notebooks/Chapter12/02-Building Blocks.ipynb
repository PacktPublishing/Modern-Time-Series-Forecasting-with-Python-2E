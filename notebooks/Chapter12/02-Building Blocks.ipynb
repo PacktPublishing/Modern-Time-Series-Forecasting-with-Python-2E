{
 "cells": [
  {
   "cell_type": "code",
   "execution_count": 3,
   "id": "4090a1ba-1e7e-4566-b54d-d68211936605",
   "metadata": {},
   "outputs": [],
   "source": [
    "import numpy as np\n",
    "np.random.seed(42)\n",
    "import pandas as pd\n",
    "import torch\n",
    "import torch.nn as nn\n",
    "import plotly.express as px\n",
    "import plotly.graph_objs as go\n",
    "from rich.table import Table\n",
    "from collections import namedtuple"
   ]
  },
  {
   "cell_type": "markdown",
   "id": "1cc21371-1975-4195-856e-331b1f0882a3",
   "metadata": {},
   "source": [
    "# Generating a random walk time series"
   ]
  },
  {
   "cell_type": "code",
   "execution_count": 4,
   "id": "38820314-e281-40fc-ba41-2c10eee6a7c5",
   "metadata": {},
   "outputs": [
    {
     "data": {
      "text/plain": [
       "<AxesSubplot:xlabel='date'>"
      ]
     },
     "execution_count": 4,
     "metadata": {},
     "output_type": "execute_result"
    },
    {
     "data": {
      "image/png": "[encoded data removed]",
      "text/plain": [
       "<Figure size 432x288 with 1 Axes>"
      ]
     },
     "metadata": {
      "needs_background": "light"
     },
     "output_type": "display_data"
    }
   ],
   "source": [
    "N = 20\n",
    "df = pd.DataFrame({\n",
    "    \"date\": pd.date_range(periods=N, start=\"2021-04-12\", freq=\"D\"),\n",
    "    \"ts\": np.random.randn(N)\n",
    "})\n",
    "df.plot(x=\"date\", y=\"ts\")"
   ]
  },
  {
   "cell_type": "markdown",
   "id": "0a000118-4f4c-43a7-9df5-7eda6d09c4f4",
   "metadata": {},
   "source": [
    "## Creating windows to simulate batch training"
   ]
  },
  {
   "cell_type": "code",
   "execution_count": 5,
   "id": "bcf588e6-7d82-4f35-9ec0-65c83472f518",
   "metadata": {},
   "outputs": [
    {
     "data": {
      "text/plain": [
       "tensor([ 0.4967, -0.1383,  0.6477,  1.5230, -0.2342, -0.2341,  1.5792,  0.7674,\n",
       "        -0.4695,  0.5426, -0.4634, -0.4657,  0.2420, -1.9133, -1.7249, -0.5623,\n",
       "        -1.0128,  0.3142, -0.9080, -1.4123])"
      ]
     },
     "execution_count": 5,
     "metadata": {},
     "output_type": "execute_result"
    }
   ],
   "source": [
    "ts = torch.from_numpy(df.ts.values).float()\n",
    "ts"
   ]
  },
  {
   "cell_type": "code",
   "execution_count": 6,
   "id": "1655dc6f-9c96-451a-85c5-17f3e1eb1149",
   "metadata": {},
   "outputs": [
    {
     "data": {
      "text/plain": [
       "(tensor([[ 0.4967, -0.1383,  0.6477,  1.5230, -0.2342, -0.2341,  1.5792,  0.7674,\n",
       "          -0.4695,  0.5426, -0.4634, -0.4657,  0.2420, -1.9133, -1.7249],\n",
       "         [-0.1383,  0.6477,  1.5230, -0.2342, -0.2341,  1.5792,  0.7674, -0.4695,\n",
       "           0.5426, -0.4634, -0.4657,  0.2420, -1.9133, -1.7249, -0.5623]]),\n",
       " torch.Size([6, 15]))"
      ]
     },
     "execution_count": 6,
     "metadata": {},
     "output_type": "execute_result"
    }
   ],
   "source": [
    "window = 15\n",
    "# Creating windows of 15 over the dataset\n",
    "ts_dataset = ts.unfold(0, size=window, step=1)\n",
    "ts_dataset[:2], ts_dataset.shape"
   ]
  },
  {
   "cell_type": "code",
   "execution_count": 7,
   "id": "14349710-09f1-49db-b6eb-f3d4f9d1a9ce",
   "metadata": {},
   "outputs": [],
   "source": [
    "bz, _ = ts_dataset.shape"
   ]
  },
  {
   "cell_type": "markdown",
   "id": "2477c81a-840e-40bf-bd6b-65853f244937",
   "metadata": {},
   "source": [
    "# Feed Forward Network"
   ]
  },
  {
   "cell_type": "code",
   "execution_count": 8,
   "id": "e549fd10-f10c-4172-8e1c-9c9bf8abc78e",
   "metadata": {},
   "outputs": [],
   "source": [
    "# The FFN we define would have this architecture\n",
    "# window(windowed input) >> 64 (hidden layer 1) >> 32 (hidden layer 2) >> 32 (hidden layer 2) >> 1 (output)\n",
    "ffn = nn.Sequential(\n",
    "    nn.Linear(in_features=window,out_features=64), # (batch-size x window) --> (batch-size x 64)\n",
    "    nn.ReLU(),\n",
    "    nn.Linear(in_features=64,out_features=32), # (batch-size x 64) --> (batch-size x 32)\n",
    "    nn.ReLU(),\n",
    "    nn.Linear(in_features=32,out_features=32), # (batch-size x 32) --> (batch-size x 32)\n",
    "    nn.ReLU(),\n",
    "    nn.Linear(in_features=32,out_features=1), # (batch-size x 32) --> (batch-size x 1)\n",
    ")"
   ]
  },
  {
   "cell_type": "code",
   "execution_count": 9,
   "id": "9cbc607c-76ae-4902-b281-d41bbbb3c113",
   "metadata": {},
   "outputs": [
    {
     "name": "stdout",
     "output_type": "stream",
     "text": [
      "Input Shape: torch.Size([6, 15])\n"
     ]
    },
    {
     "data": {
      "text/plain": [
       "tensor([[-0.2526],\n",
       "        [-0.1474],\n",
       "        [-0.1149],\n",
       "        [-0.2196],\n",
       "        [-0.1805],\n",
       "        [-0.2181]], grad_fn=<AddmmBackward0>)"
      ]
     },
     "execution_count": 9,
     "metadata": {},
     "output_type": "execute_result"
    }
   ],
   "source": [
    "print(\"Input Shape:\", ts_dataset.shape)\n",
    "# We use this sequential block like this:\n",
    "ffn(ts_dataset)\n",
    "# or more explicitly\n",
    "ffn.forward(ts_dataset)"
   ]
  },
  {
   "cell_type": "code",
   "execution_count": 10,
   "id": "76f4ac04-b3ff-4799-8940-d97c4fbcc176",
   "metadata": {},
   "outputs": [
    {
     "data": {
      "text/html": [
       "<pre style=\"white-space:pre;overflow-x:auto;line-height:normal;font-family:Menlo,'DejaVu Sans Mono',consolas,'Courier New',monospace\"><span style=\"font-style: italic\">                            Feed Forward Network                            </span>\n",
       "┏━━━━━━━━━━━━━━━━━━━━━━━━━━━━━━━━━━━━━━━━━━━━━━━━━━━━┳━━━━━━━━━━━━━━━━━━━━━┓\n",
       "┃<span style=\"font-weight: bold\">                       Layer                        </span>┃<span style=\"font-weight: bold\"> Shape               </span>┃\n",
       "┡━━━━━━━━━━━━━━━━━━━━━━━━━━━━━━━━━━━━━━━━━━━━━━━━━━━━╇━━━━━━━━━━━━━━━━━━━━━┩\n",
       "│<span style=\"color: #008080; text-decoration-color: #008080\">                       Input                        </span>│<span style=\"color: #800080; text-decoration-color: #800080\"> torch.Size([6, 15]) </span>│\n",
       "├────────────────────────────────────────────────────┼─────────────────────┤\n",
       "│<span style=\"color: #008080; text-decoration-color: #008080\"> Linear(in_features=15, out_features=64, bias=True) </span>│<span style=\"color: #800080; text-decoration-color: #800080\"> torch.Size([6, 64]) </span>│\n",
       "├────────────────────────────────────────────────────┼─────────────────────┤\n",
       "│<span style=\"color: #008080; text-decoration-color: #008080\">                       ReLU()                       </span>│<span style=\"color: #800080; text-decoration-color: #800080\"> torch.Size([6, 64]) </span>│\n",
       "├────────────────────────────────────────────────────┼─────────────────────┤\n",
       "│<span style=\"color: #008080; text-decoration-color: #008080\"> Linear(in_features=64, out_features=32, bias=True) </span>│<span style=\"color: #800080; text-decoration-color: #800080\"> torch.Size([6, 32]) </span>│\n",
       "├────────────────────────────────────────────────────┼─────────────────────┤\n",
       "│<span style=\"color: #008080; text-decoration-color: #008080\">                       ReLU()                       </span>│<span style=\"color: #800080; text-decoration-color: #800080\"> torch.Size([6, 32]) </span>│\n",
       "├────────────────────────────────────────────────────┼─────────────────────┤\n",
       "│<span style=\"color: #008080; text-decoration-color: #008080\"> Linear(in_features=32, out_features=32, bias=True) </span>│<span style=\"color: #800080; text-decoration-color: #800080\"> torch.Size([6, 32]) </span>│\n",
       "├────────────────────────────────────────────────────┼─────────────────────┤\n",
       "│<span style=\"color: #008080; text-decoration-color: #008080\">                       ReLU()                       </span>│<span style=\"color: #800080; text-decoration-color: #800080\"> torch.Size([6, 32]) </span>│\n",
       "├────────────────────────────────────────────────────┼─────────────────────┤\n",
       "│<span style=\"color: #008080; text-decoration-color: #008080\"> Linear(in_features=32, out_features=1, bias=True)  </span>│<span style=\"color: #800080; text-decoration-color: #800080\"> torch.Size([6, 1])  </span>│\n",
       "└────────────────────────────────────────────────────┴─────────────────────┘\n",
       "</pre>\n"
      ],
      "text/plain": [
       "\u001b[3m                            Feed Forward Network                            \u001b[0m\n",
       "┏━━━━━━━━━━━━━━━━━━━━━━━━━━━━━━━━━━━━━━━━━━━━━━━━━━━━┳━━━━━━━━━━━━━━━━━━━━━┓\n",
       "┃\u001b[1m \u001b[0m\u001b[1m                      Layer                       \u001b[0m\u001b[1m \u001b[0m┃\u001b[1m \u001b[0m\u001b[1mShape              \u001b[0m\u001b[1m \u001b[0m┃\n",
       "┡━━━━━━━━━━━━━━━━━━━━━━━━━━━━━━━━━━━━━━━━━━━━━━━━━━━━╇━━━━━━━━━━━━━━━━━━━━━┩\n",
       "│\u001b[36m \u001b[0m\u001b[36m                      Input                       \u001b[0m\u001b[36m \u001b[0m│\u001b[35m \u001b[0m\u001b[35mtorch.Size([6, 15])\u001b[0m\u001b[35m \u001b[0m│\n",
       "├────────────────────────────────────────────────────┼─────────────────────┤\n",
       "│\u001b[36m \u001b[0m\u001b[36mLinear(in_features=15, out_features=64, bias=True)\u001b[0m\u001b[36m \u001b[0m│\u001b[35m \u001b[0m\u001b[35mtorch.Size([6, 64])\u001b[0m\u001b[35m \u001b[0m│\n",
       "├────────────────────────────────────────────────────┼─────────────────────┤\n",
       "│\u001b[36m \u001b[0m\u001b[36m                      ReLU()                      \u001b[0m\u001b[36m \u001b[0m│\u001b[35m \u001b[0m\u001b[35mtorch.Size([6, 64])\u001b[0m\u001b[35m \u001b[0m│\n",
       "├────────────────────────────────────────────────────┼─────────────────────┤\n",
       "│\u001b[36m \u001b[0m\u001b[36mLinear(in_features=64, out_features=32, bias=True)\u001b[0m\u001b[36m \u001b[0m│\u001b[35m \u001b[0m\u001b[35mtorch.Size([6, 32])\u001b[0m\u001b[35m \u001b[0m│\n",
       "├────────────────────────────────────────────────────┼─────────────────────┤\n",
       "│\u001b[36m \u001b[0m\u001b[36m                      ReLU()                      \u001b[0m\u001b[36m \u001b[0m│\u001b[35m \u001b[0m\u001b[35mtorch.Size([6, 32])\u001b[0m\u001b[35m \u001b[0m│\n",
       "├────────────────────────────────────────────────────┼─────────────────────┤\n",
       "│\u001b[36m \u001b[0m\u001b[36mLinear(in_features=32, out_features=32, bias=True)\u001b[0m\u001b[36m \u001b[0m│\u001b[35m \u001b[0m\u001b[35mtorch.Size([6, 32])\u001b[0m\u001b[35m \u001b[0m│\n",
       "├────────────────────────────────────────────────────┼─────────────────────┤\n",
       "│\u001b[36m \u001b[0m\u001b[36m                      ReLU()                      \u001b[0m\u001b[36m \u001b[0m│\u001b[35m \u001b[0m\u001b[35mtorch.Size([6, 32])\u001b[0m\u001b[35m \u001b[0m│\n",
       "├────────────────────────────────────────────────────┼─────────────────────┤\n",
       "│\u001b[36m \u001b[0m\u001b[36mLinear(in_features=32, out_features=1, bias=True) \u001b[0m\u001b[36m \u001b[0m│\u001b[35m \u001b[0m\u001b[35mtorch.Size([6, 1]) \u001b[0m\u001b[35m \u001b[0m│\n",
       "└────────────────────────────────────────────────────┴─────────────────────┘\n"
      ]
     },
     "execution_count": 10,
     "metadata": {},
     "output_type": "execute_result"
    }
   ],
   "source": [
    "# Let's see how the data transforms through the network\n",
    "table = Table(title=\"Feed Forward Network\", show_lines=True)\n",
    "table.add_column(\"Layer\", justify=\"center\", style=\"cyan\", no_wrap=False)\n",
    "table.add_column(\"Shape\", style=\"magenta\")\n",
    "\n",
    "x = ts_dataset\n",
    "table.add_row(\"Input\", str(x.shape))\n",
    "for m in ffn: # We can iterate through a sequential object like any python iterator\n",
    "    x = m(x)\n",
    "    table.add_row(str(m), str(x.shape))\n",
    "table"
   ]
  },
  {
   "cell_type": "markdown",
   "id": "55643588-6521-4039-910a-90ec1b449846",
   "metadata": {},
   "source": [
    "# Recurrent Neural Networks"
   ]
  },
  {
   "cell_type": "markdown",
   "id": "d6eb8533-22ff-4d78-9ecf-b9fb710ecfb8",
   "metadata": {},
   "source": [
    "## Vanilla RNN"
   ]
  },
  {
   "cell_type": "code",
   "execution_count": 11,
   "id": "0683d635-13b6-4d54-b52d-4d26255a51a0",
   "metadata": {},
   "outputs": [
    {
     "data": {
      "text/plain": [
       "torch.Size([6, 15, 1])"
      ]
     },
     "execution_count": 11,
     "metadata": {},
     "output_type": "execute_result"
    }
   ],
   "source": [
    "#adding a dimension to the end because RNN expect input as a 3-d tensor\n",
    "# using batch_first=True and therefore input dim is (batch, seq,feature)\n",
    "rnn_input = ts_dataset.unsqueeze(-1)\n",
    "rnn_input.shape"
   ]
  },
  {
   "cell_type": "code",
   "execution_count": 12,
   "id": "c35f88cc-036e-4870-ac62-5f1c859a00bc",
   "metadata": {},
   "outputs": [],
   "source": [
    "rnn = nn.RNN(\n",
    "    input_size=1,\n",
    "    hidden_size=32,\n",
    "    num_layers=1,\n",
    "    batch_first=True,\n",
    "    dropout=0,\n",
    "    bidirectional=False,\n",
    ")\n",
    "\n",
    "output, hidden_states = rnn(rnn_input)"
   ]
  },
  {
   "cell_type": "code",
   "execution_count": 13,
   "id": "ef4f1b42-5ea3-41c7-8c0b-cef7e3825ae6",
   "metadata": {},
   "outputs": [
    {
     "data": {
      "text/plain": [
       "(torch.Size([6, 15, 32]), torch.Size([1, 6, 32]))"
      ]
     },
     "execution_count": 13,
     "metadata": {},
     "output_type": "execute_result"
    }
   ],
   "source": [
    "output.shape, hidden_states.shape"
   ]
  },
  {
   "cell_type": "markdown",
   "id": "9a742858-17a5-4e64-97ab-2c7bfe6527b9",
   "metadata": {},
   "source": [
    "PyTorch RNNs include the hidden state as the output as well. The output is just the hidden states at each time step and the hidden state is the latest hidden states.\n",
    "We can verify this by checking if the hidden state tensor is equal to the last output tensor"
   ]
  },
  {
   "cell_type": "code",
   "execution_count": 14,
   "id": "36d19937-2864-4d90-bb7e-add7f852157f",
   "metadata": {},
   "outputs": [
    {
     "data": {
      "text/plain": [
       "True"
      ]
     },
     "execution_count": 14,
     "metadata": {},
     "output_type": "execute_result"
    }
   ],
   "source": [
    "torch.equal(hidden_states[0], output[:,-1])"
   ]
  },
  {
   "cell_type": "code",
   "execution_count": 15,
   "id": "907ae8b4-c1e0-4167-85f0-e63aee0696d1",
   "metadata": {},
   "outputs": [
    {
     "data": {
      "text/plain": [
       "(tensor([-0.1130,  0.0044, -0.1779, -0.1316,  0.0340,  0.2295,  0.1072,  0.3874,\n",
       "          0.0869, -0.2786, -0.4189,  0.1501,  0.3836,  0.0605,  0.1198,  0.0850,\n",
       "          0.1407, -0.2801,  0.1740,  0.0448, -0.3665,  0.0821,  0.0946, -0.2890,\n",
       "          0.3204, -0.1284,  0.0551,  0.1558,  0.1646,  0.2777,  0.1088,  0.1149],\n",
       "        grad_fn=<SelectBackward0>),\n",
       " tensor([-0.1130,  0.0044, -0.1779, -0.1316,  0.0340,  0.2295,  0.1072,  0.3874,\n",
       "          0.0869, -0.2786, -0.4189,  0.1501,  0.3836,  0.0605,  0.1198,  0.0850,\n",
       "          0.1407, -0.2801,  0.1740,  0.0448, -0.3665,  0.0821,  0.0946, -0.2890,\n",
       "          0.3204, -0.1284,  0.0551,  0.1558,  0.1646,  0.2777,  0.1088,  0.1149],\n",
       "        grad_fn=<SelectBackward0>))"
      ]
     },
     "execution_count": 15,
     "metadata": {},
     "output_type": "execute_result"
    }
   ],
   "source": [
    "#Printing the first element of the batch for visual verification\n",
    "(hidden_states[0,0], output[0,-1])"
   ]
  },
  {
   "cell_type": "markdown",
   "id": "dfd877a4-3655-4ff7-81b1-cc540be07e91",
   "metadata": {},
   "source": [
    "## Bi-Directional Stacked RNN"
   ]
  },
  {
   "cell_type": "code",
   "execution_count": 32,
   "id": "099b1c60-e5b5-4aca-ac6d-01377f8353ae",
   "metadata": {},
   "outputs": [],
   "source": [
    "bi_stacked_rnn = nn.RNN(\n",
    "    input_size=1,\n",
    "    hidden_size=32,\n",
    "    num_layers=5,\n",
    "    batch_first=True,\n",
    "    dropout=0,\n",
    "    bidirectional=True,\n",
    ")\n",
    "\n",
    "output, hidden_states = bi_stacked_rnn(rnn_input)"
   ]
  },
  {
   "cell_type": "code",
   "execution_count": 33,
   "id": "d30bfab5-10c6-4c36-8cfa-18478a9d7c29",
   "metadata": {},
   "outputs": [
    {
     "data": {
      "text/plain": [
       "(torch.Size([6, 15, 64]), torch.Size([10, 6, 32]))"
      ]
     },
     "execution_count": 33,
     "metadata": {},
     "output_type": "execute_result"
    }
   ],
   "source": [
    "output.shape, hidden_states.shape"
   ]
  },
  {
   "cell_type": "markdown",
   "id": "a08f1848-caf7-4b78-8ec5-b9c1a19b4291",
   "metadata": {},
   "source": [
    "## LSTM"
   ]
  },
  {
   "cell_type": "code",
   "execution_count": 49,
   "id": "17d0c81d-9708-4a9e-a092-07f86c45b692",
   "metadata": {},
   "outputs": [],
   "source": [
    "lstm = nn.LSTM(\n",
    "    input_size=1,\n",
    "    hidden_size=32,\n",
    "    num_layers=5,\n",
    "    batch_first=True,\n",
    "    dropout=0,\n",
    "    # bidirectional=True,\n",
    ")\n",
    "\n",
    "output, (hidden_states, cell_states) = lstm(rnn_input)"
   ]
  },
  {
   "cell_type": "code",
   "execution_count": 51,
   "id": "740fe94c-8a21-4f49-bbf3-40f80630b05c",
   "metadata": {},
   "outputs": [
    {
     "data": {
      "text/plain": [
       "(torch.Size([6, 15, 32]), torch.Size([5, 6, 32]), torch.Size([5, 6, 32]))"
      ]
     },
     "execution_count": 51,
     "metadata": {},
     "output_type": "execute_result"
    }
   ],
   "source": [
    "output.shape, hidden_states.shape, cell_states.shape"
   ]
  },
  {
   "cell_type": "code",
   "execution_count": 55,
   "id": "0f171e25-0625-4567-9906-3cec48b4453f",
   "metadata": {},
   "outputs": [
    {
     "data": {
      "text/plain": [
       "True"
      ]
     },
     "execution_count": 55,
     "metadata": {},
     "output_type": "execute_result"
    }
   ],
   "source": [
    "torch.equal(hidden_states[-1], output[:,-1])"
   ]
  },
  {
   "cell_type": "code",
   "execution_count": 56,
   "id": "56e942fe-a24b-43be-900b-36dccf6ff5f0",
   "metadata": {},
   "outputs": [
    {
     "data": {
      "text/plain": [
       "tensor([-0.0683, -0.1199, -0.0090,  0.1423, -0.0792, -0.0982, -0.0871, -0.0040,\n",
       "        -0.1879,  0.1696, -0.0661, -0.0822,  0.0836,  0.0549, -0.0492, -0.0821,\n",
       "        -0.0304,  0.0531, -0.0328,  0.0577, -0.0288, -0.0834,  0.1012, -0.0438,\n",
       "        -0.0915,  0.0703,  0.0657,  0.0578, -0.1003, -0.0057, -0.0021, -0.0480],\n",
       "       grad_fn=<SelectBackward0>)"
      ]
     },
     "execution_count": 56,
     "metadata": {},
     "output_type": "execute_result"
    }
   ],
   "source": [
    "output[0,-1]"
   ]
  },
  {
   "cell_type": "code",
   "execution_count": 57,
   "id": "07d8010d-3f9d-4da4-95b8-ad36c3050c10",
   "metadata": {},
   "outputs": [
    {
     "data": {
      "text/plain": [
       "tensor([-0.0683, -0.1199, -0.0090,  0.1423, -0.0792, -0.0982, -0.0871, -0.0040,\n",
       "        -0.1879,  0.1696, -0.0661, -0.0822,  0.0836,  0.0549, -0.0492, -0.0821,\n",
       "        -0.0304,  0.0531, -0.0328,  0.0577, -0.0288, -0.0834,  0.1012, -0.0438,\n",
       "        -0.0915,  0.0703,  0.0657,  0.0578, -0.1003, -0.0057, -0.0021, -0.0480],\n",
       "       grad_fn=<SliceBackward0>)"
      ]
     },
     "execution_count": 57,
     "metadata": {},
     "output_type": "execute_result"
    }
   ],
   "source": [
    "hidden_states[-1, 0,:]"
   ]
  },
  {
   "cell_type": "markdown",
   "id": "fac78dac-f046-473f-bd32-3d4d7cf0d8d9",
   "metadata": {},
   "source": [
    "## GRU"
   ]
  },
  {
   "cell_type": "code",
   "execution_count": 42,
   "id": "d56fa4e7-ac64-4a06-99cf-4a5515402b57",
   "metadata": {},
   "outputs": [],
   "source": [
    "gru = nn.GRU(\n",
    "    input_size=1,\n",
    "    hidden_size=32,\n",
    "    num_layers=5,\n",
    "    batch_first=True,\n",
    "    dropout=0,\n",
    "    # bidirectional=True,\n",
    ")\n",
    "\n",
    "output, hidden_states = gru(rnn_input)"
   ]
  },
  {
   "cell_type": "code",
   "execution_count": 43,
   "id": "cf9f07ec-80f8-479e-915b-64e635f219da",
   "metadata": {},
   "outputs": [
    {
     "data": {
      "text/plain": [
       "(torch.Size([6, 15, 32]), torch.Size([5, 6, 32]))"
      ]
     },
     "execution_count": 43,
     "metadata": {},
     "output_type": "execute_result"
    }
   ],
   "source": [
    "output.shape, hidden_states.shape"
   ]
  },
  {
   "cell_type": "code",
   "execution_count": 45,
   "id": "8df2c3f8-34e4-4abd-91ef-22c1d91f6a25",
   "metadata": {},
   "outputs": [
    {
     "data": {
      "text/plain": [
       "True"
      ]
     },
     "execution_count": 45,
     "metadata": {},
     "output_type": "execute_result"
    }
   ],
   "source": [
    "torch.equal(hidden_states[-1], output[:,-1])"
   ]
  },
  {
   "cell_type": "code",
   "execution_count": 46,
   "id": "a3092ebf-5cb9-45c8-b3cd-5554a09a6e71",
   "metadata": {},
   "outputs": [
    {
     "data": {
      "text/plain": [
       "tensor([-0.1049, -0.0543, -0.0158,  0.1188, -0.0228, -0.1058, -0.0273, -0.0146,\n",
       "         0.1322, -0.0643, -0.0917, -0.0965,  0.0104, -0.0508, -0.1878, -0.1379,\n",
       "        -0.1855, -0.1869, -0.0851,  0.1483,  0.0028,  0.1776, -0.0117, -0.1974,\n",
       "        -0.0763,  0.0271, -0.1088,  0.0333, -0.0399, -0.0625,  0.1166,  0.0771],\n",
       "       grad_fn=<SelectBackward0>)"
      ]
     },
     "execution_count": 46,
     "metadata": {},
     "output_type": "execute_result"
    }
   ],
   "source": [
    "output[0,-1]"
   ]
  },
  {
   "cell_type": "code",
   "execution_count": 48,
   "id": "d0aef164-3038-45f3-a2b8-3fa32d64540f",
   "metadata": {},
   "outputs": [
    {
     "data": {
      "text/plain": [
       "tensor([-0.1049, -0.0543, -0.0158,  0.1188, -0.0228, -0.1058, -0.0273, -0.0146,\n",
       "         0.1322, -0.0643, -0.0917, -0.0965,  0.0104, -0.0508, -0.1878, -0.1379,\n",
       "        -0.1855, -0.1869, -0.0851,  0.1483,  0.0028,  0.1776, -0.0117, -0.1974,\n",
       "        -0.0763,  0.0271, -0.1088,  0.0333, -0.0399, -0.0625,  0.1166,  0.0771],\n",
       "       grad_fn=<SliceBackward0>)"
      ]
     },
     "execution_count": 48,
     "metadata": {},
     "output_type": "execute_result"
    }
   ],
   "source": [
    "hidden_states[-1, 0,:]"
   ]
  },
  {
   "cell_type": "markdown",
   "id": "9278c45d-2009-46c5-95d7-7d164f0c2772",
   "metadata": {},
   "source": [
    "# Convolutional Neural Networks"
   ]
  },
  {
   "cell_type": "code",
   "execution_count": 137,
   "id": "1e252193-a21f-4242-bf46-4d5a1468858f",
   "metadata": {},
   "outputs": [
    {
     "data": {
      "text/plain": [
       "torch.Size([6, 1, 15])"
      ]
     },
     "execution_count": 137,
     "metadata": {},
     "output_type": "execute_result"
    }
   ],
   "source": [
    "#adding a dimension to the end because CNN expect input as a 3-d tensor\n",
    "# input dim is (batch, channels (features), seq)\n",
    "cnn_input = ts_dataset.unsqueeze(1)\n",
    "cnn_input.shape"
   ]
  },
  {
   "cell_type": "code",
   "execution_count": 140,
   "id": "0899edf3-78e5-40fd-b6f3-bd85d5128512",
   "metadata": {},
   "outputs": [],
   "source": [
    "k = 3\n",
    "conv = nn.Conv1d(in_channels=1, out_channels=1, kernel_size=k)\n",
    "output = conv(cnn_input)"
   ]
  },
  {
   "cell_type": "code",
   "execution_count": 142,
   "id": "e6ec4110-f12b-4181-b462-8f805673af55",
   "metadata": {},
   "outputs": [
    {
     "data": {
      "text/plain": [
       "torch.Size([6, 1, 13])"
      ]
     },
     "execution_count": 142,
     "metadata": {},
     "output_type": "execute_result"
    }
   ],
   "source": [
    "# Output should be in_dim - k + 1\n",
    "assert output.size(-1)==cnn_input.size(-1)-k+1\n",
    "output.shape"
   ]
  },
  {
   "cell_type": "markdown",
   "id": "533bab00-f02f-4a23-9ef7-d90185c6b5c1",
   "metadata": {},
   "source": [
    "## Effect of Stride and Dilation on Output"
   ]
  },
  {
   "cell_type": "code",
   "execution_count": 144,
   "id": "401a6c14-5e95-459b-9d42-56cf35d096a1",
   "metadata": {},
   "outputs": [],
   "source": [
    "exp = namedtuple(\"Experiment\", [\"k\",\"s\",\"d\"])"
   ]
  },
  {
   "cell_type": "code",
   "execution_count": 150,
   "id": "4cf02581-00ef-479f-b9e2-10b773dcdc40",
   "metadata": {},
   "outputs": [
    {
     "data": {
      "text/html": [
       "<pre style=\"white-space:pre;overflow-x:auto;line-height:normal;font-family:Menlo,'DejaVu Sans Mono',consolas,'Courier New',monospace\"><span style=\"font-style: italic\">  Convolutional Neural Network: Effect of Strides and Dilations on  </span>\n",
       "<span style=\"font-style: italic\">                               output                               </span>\n",
       "┏━━━━━━━━━━━━━┳━━━━━━━━┳━━━━━━━━━━┳━━━━━━━━━━━━━━━┳━━━━━━━━━━━━━━━━┓\n",
       "┃<span style=\"font-weight: bold\"> Kernel Size </span>┃<span style=\"font-weight: bold\"> Stride </span>┃<span style=\"font-weight: bold\"> Dilation </span>┃<span style=\"font-weight: bold\"> Input Seq Len </span>┃<span style=\"font-weight: bold\"> Output Seq Len </span>┃\n",
       "┡━━━━━━━━━━━━━╇━━━━━━━━╇━━━━━━━━━━╇━━━━━━━━━━━━━━━╇━━━━━━━━━━━━━━━━┩\n",
       "│<span style=\"color: #008080; text-decoration-color: #008080\">      3      </span>│<span style=\"color: #800080; text-decoration-color: #800080\"> 3      </span>│<span style=\"color: #5f00d7; text-decoration-color: #5f00d7\"> 2        </span>│<span style=\"color: #ff8700; text-decoration-color: #ff8700\"> 15            </span>│<span style=\"color: #ff005f; text-decoration-color: #ff005f\"> 13             </span>│\n",
       "├─────────────┼────────┼──────────┼───────────────┼────────────────┤\n",
       "│<span style=\"color: #008080; text-decoration-color: #008080\">      3      </span>│<span style=\"color: #800080; text-decoration-color: #800080\"> 3      </span>│<span style=\"color: #5f00d7; text-decoration-color: #5f00d7\"> 2        </span>│<span style=\"color: #ff8700; text-decoration-color: #ff8700\"> 15            </span>│<span style=\"color: #ff005f; text-decoration-color: #ff005f\"> 11             </span>│\n",
       "├─────────────┼────────┼──────────┼───────────────┼────────────────┤\n",
       "│<span style=\"color: #008080; text-decoration-color: #008080\">      3      </span>│<span style=\"color: #800080; text-decoration-color: #800080\"> 3      </span>│<span style=\"color: #5f00d7; text-decoration-color: #5f00d7\"> 2        </span>│<span style=\"color: #ff8700; text-decoration-color: #ff8700\"> 15            </span>│<span style=\"color: #ff005f; text-decoration-color: #ff005f\"> 7              </span>│\n",
       "├─────────────┼────────┼──────────┼───────────────┼────────────────┤\n",
       "│<span style=\"color: #008080; text-decoration-color: #008080\">      3      </span>│<span style=\"color: #800080; text-decoration-color: #800080\"> 3      </span>│<span style=\"color: #5f00d7; text-decoration-color: #5f00d7\"> 2        </span>│<span style=\"color: #ff8700; text-decoration-color: #ff8700\"> 15            </span>│<span style=\"color: #ff005f; text-decoration-color: #ff005f\"> 11             </span>│\n",
       "├─────────────┼────────┼──────────┼───────────────┼────────────────┤\n",
       "│<span style=\"color: #008080; text-decoration-color: #008080\">      3      </span>│<span style=\"color: #800080; text-decoration-color: #800080\"> 3      </span>│<span style=\"color: #5f00d7; text-decoration-color: #5f00d7\"> 2        </span>│<span style=\"color: #ff8700; text-decoration-color: #ff8700\"> 15            </span>│<span style=\"color: #ff005f; text-decoration-color: #ff005f\"> 6              </span>│\n",
       "├─────────────┼────────┼──────────┼───────────────┼────────────────┤\n",
       "│<span style=\"color: #008080; text-decoration-color: #008080\">      3      </span>│<span style=\"color: #800080; text-decoration-color: #800080\"> 3      </span>│<span style=\"color: #5f00d7; text-decoration-color: #5f00d7\"> 2        </span>│<span style=\"color: #ff8700; text-decoration-color: #ff8700\"> 15            </span>│<span style=\"color: #ff005f; text-decoration-color: #ff005f\"> 4              </span>│\n",
       "└─────────────┴────────┴──────────┴───────────────┴────────────────┘\n",
       "</pre>\n"
      ],
      "text/plain": [
       "\u001b[3m  Convolutional Neural Network: Effect of Strides and Dilations on  \u001b[0m\n",
       "\u001b[3m                               output                               \u001b[0m\n",
       "┏━━━━━━━━━━━━━┳━━━━━━━━┳━━━━━━━━━━┳━━━━━━━━━━━━━━━┳━━━━━━━━━━━━━━━━┓\n",
       "┃\u001b[1m \u001b[0m\u001b[1mKernel Size\u001b[0m\u001b[1m \u001b[0m┃\u001b[1m \u001b[0m\u001b[1mStride\u001b[0m\u001b[1m \u001b[0m┃\u001b[1m \u001b[0m\u001b[1mDilation\u001b[0m\u001b[1m \u001b[0m┃\u001b[1m \u001b[0m\u001b[1mInput Seq Len\u001b[0m\u001b[1m \u001b[0m┃\u001b[1m \u001b[0m\u001b[1mOutput Seq Len\u001b[0m\u001b[1m \u001b[0m┃\n",
       "┡━━━━━━━━━━━━━╇━━━━━━━━╇━━━━━━━━━━╇━━━━━━━━━━━━━━━╇━━━━━━━━━━━━━━━━┩\n",
       "│\u001b[36m \u001b[0m\u001b[36m     3     \u001b[0m\u001b[36m \u001b[0m│\u001b[35m \u001b[0m\u001b[35m3     \u001b[0m\u001b[35m \u001b[0m│\u001b[38;5;56m \u001b[0m\u001b[38;5;56m2       \u001b[0m\u001b[38;5;56m \u001b[0m│\u001b[38;5;208m \u001b[0m\u001b[38;5;208m15           \u001b[0m\u001b[38;5;208m \u001b[0m│\u001b[38;5;197m \u001b[0m\u001b[38;5;197m13            \u001b[0m\u001b[38;5;197m \u001b[0m│\n",
       "├─────────────┼────────┼──────────┼───────────────┼────────────────┤\n",
       "│\u001b[36m \u001b[0m\u001b[36m     3     \u001b[0m\u001b[36m \u001b[0m│\u001b[35m \u001b[0m\u001b[35m3     \u001b[0m\u001b[35m \u001b[0m│\u001b[38;5;56m \u001b[0m\u001b[38;5;56m2       \u001b[0m\u001b[38;5;56m \u001b[0m│\u001b[38;5;208m \u001b[0m\u001b[38;5;208m15           \u001b[0m\u001b[38;5;208m \u001b[0m│\u001b[38;5;197m \u001b[0m\u001b[38;5;197m11            \u001b[0m\u001b[38;5;197m \u001b[0m│\n",
       "├─────────────┼────────┼──────────┼───────────────┼────────────────┤\n",
       "│\u001b[36m \u001b[0m\u001b[36m     3     \u001b[0m\u001b[36m \u001b[0m│\u001b[35m \u001b[0m\u001b[35m3     \u001b[0m\u001b[35m \u001b[0m│\u001b[38;5;56m \u001b[0m\u001b[38;5;56m2       \u001b[0m\u001b[38;5;56m \u001b[0m│\u001b[38;5;208m \u001b[0m\u001b[38;5;208m15           \u001b[0m\u001b[38;5;208m \u001b[0m│\u001b[38;5;197m \u001b[0m\u001b[38;5;197m7             \u001b[0m\u001b[38;5;197m \u001b[0m│\n",
       "├─────────────┼────────┼──────────┼───────────────┼────────────────┤\n",
       "│\u001b[36m \u001b[0m\u001b[36m     3     \u001b[0m\u001b[36m \u001b[0m│\u001b[35m \u001b[0m\u001b[35m3     \u001b[0m\u001b[35m \u001b[0m│\u001b[38;5;56m \u001b[0m\u001b[38;5;56m2       \u001b[0m\u001b[38;5;56m \u001b[0m│\u001b[38;5;208m \u001b[0m\u001b[38;5;208m15           \u001b[0m\u001b[38;5;208m \u001b[0m│\u001b[38;5;197m \u001b[0m\u001b[38;5;197m11            \u001b[0m\u001b[38;5;197m \u001b[0m│\n",
       "├─────────────┼────────┼──────────┼───────────────┼────────────────┤\n",
       "│\u001b[36m \u001b[0m\u001b[36m     3     \u001b[0m\u001b[36m \u001b[0m│\u001b[35m \u001b[0m\u001b[35m3     \u001b[0m\u001b[35m \u001b[0m│\u001b[38;5;56m \u001b[0m\u001b[38;5;56m2       \u001b[0m\u001b[38;5;56m \u001b[0m│\u001b[38;5;208m \u001b[0m\u001b[38;5;208m15           \u001b[0m\u001b[38;5;208m \u001b[0m│\u001b[38;5;197m \u001b[0m\u001b[38;5;197m6             \u001b[0m\u001b[38;5;197m \u001b[0m│\n",
       "├─────────────┼────────┼──────────┼───────────────┼────────────────┤\n",
       "│\u001b[36m \u001b[0m\u001b[36m     3     \u001b[0m\u001b[36m \u001b[0m│\u001b[35m \u001b[0m\u001b[35m3     \u001b[0m\u001b[35m \u001b[0m│\u001b[38;5;56m \u001b[0m\u001b[38;5;56m2       \u001b[0m\u001b[38;5;56m \u001b[0m│\u001b[38;5;208m \u001b[0m\u001b[38;5;208m15           \u001b[0m\u001b[38;5;208m \u001b[0m│\u001b[38;5;197m \u001b[0m\u001b[38;5;197m4             \u001b[0m\u001b[38;5;197m \u001b[0m│\n",
       "└─────────────┴────────┴──────────┴───────────────┴────────────────┘\n"
      ]
     },
     "execution_count": 150,
     "metadata": {},
     "output_type": "execute_result"
    }
   ],
   "source": [
    "exp_list= [\n",
    "    exp(3,1,1),\n",
    "    exp(5,1,1),\n",
    "    exp(3,2,1),\n",
    "    exp(3,1,2),\n",
    "    exp(3,2,2),\n",
    "    exp(5,2,2),\n",
    "]\n",
    "\n",
    "# Let's see output seq length for each setting of the CNN\n",
    "table = Table(title=\"Convolutional Neural Network: Effect of Strides and Dilations on output\", show_lines=True)\n",
    "table.add_column(\"Kernel Size\", justify=\"center\", style=\"cyan\", no_wrap=False)\n",
    "table.add_column(\"Stride\", style=\"magenta\")\n",
    "table.add_column(\"Dilation\", style=\"purple3\")\n",
    "table.add_column(\"Input Seq Len\", style=\"dark_orange\")\n",
    "table.add_column(\"Output Seq Len\", style=\"deep_pink2\")\n",
    "\n",
    "x = ts_dataset\n",
    "\n",
    "for ex in exp_list:\n",
    "    conv = nn.Conv1d(in_channels=1, out_channels=1, kernel_size=ex.k, stride=ex.s, dilation=ex.d)\n",
    "    out = conv(cnn_input)\n",
    "    table.add_row(str(k), str(s), str(d), str(cnn_input.size(-1)), str(out.size(-1)))\n",
    "table"
   ]
  },
  {
   "cell_type": "markdown",
   "id": "f8e9597d-15ad-48a7-83c6-13735579ec17",
   "metadata": {},
   "source": [
    "## Padding needed to keep dimensions the same"
   ]
  },
  {
   "cell_type": "code",
   "execution_count": 200,
   "id": "058824c4-8074-468f-834f-21b2e2447386",
   "metadata": {},
   "outputs": [
    {
     "data": {
      "text/html": [
       "<pre style=\"white-space:pre;overflow-x:auto;line-height:normal;font-family:Menlo,'DejaVu Sans Mono',consolas,'Courier New',monospace\"><span style=\"font-style: italic\">    Convolutional Neural Network: Padding to keep output same dimension     </span>\n",
       "┏━━━━━━━━━━━━━┳━━━━━━━━┳━━━━━━━━━━┳━━━━━━━━━━━━━━━┳━━━━━━━━━━━━━━━━━━┳━━━━━┓\n",
       "┃<span style=\"font-weight: bold\"> Kernel Size </span>┃<span style=\"font-weight: bold\"> Stride </span>┃<span style=\"font-weight: bold\"> Dilation </span>┃<span style=\"font-weight: bold\"> Input Seq Len </span>┃<span style=\"font-weight: bold\"> Padding Required </span>┃<span style=\"font-weight: bold\"> Out </span>┃\n",
       "┡━━━━━━━━━━━━━╇━━━━━━━━╇━━━━━━━━━━╇━━━━━━━━━━━━━━━╇━━━━━━━━━━━━━━━━━━╇━━━━━┩\n",
       "│<span style=\"color: #008080; text-decoration-color: #008080\">      3      </span>│<span style=\"color: #800080; text-decoration-color: #800080\"> 1      </span>│<span style=\"color: #5f00d7; text-decoration-color: #5f00d7\"> 1        </span>│<span style=\"color: #ff8700; text-decoration-color: #ff8700\"> 15            </span>│<span style=\"color: #ff005f; text-decoration-color: #ff005f\"> 2                </span>│<span style=\"color: #5faf5f; text-decoration-color: #5faf5f\"> 15  </span>│\n",
       "├─────────────┼────────┼──────────┼───────────────┼──────────────────┼─────┤\n",
       "│<span style=\"color: #008080; text-decoration-color: #008080\">      5      </span>│<span style=\"color: #800080; text-decoration-color: #800080\"> 1      </span>│<span style=\"color: #5f00d7; text-decoration-color: #5f00d7\"> 1        </span>│<span style=\"color: #ff8700; text-decoration-color: #ff8700\"> 15            </span>│<span style=\"color: #ff005f; text-decoration-color: #ff005f\"> 4                </span>│<span style=\"color: #5faf5f; text-decoration-color: #5faf5f\"> 15  </span>│\n",
       "├─────────────┼────────┼──────────┼───────────────┼──────────────────┼─────┤\n",
       "│<span style=\"color: #008080; text-decoration-color: #008080\">      3      </span>│<span style=\"color: #800080; text-decoration-color: #800080\"> 2      </span>│<span style=\"color: #5f00d7; text-decoration-color: #5f00d7\"> 1        </span>│<span style=\"color: #ff8700; text-decoration-color: #ff8700\"> 15            </span>│<span style=\"color: #ff005f; text-decoration-color: #ff005f\"> 16               </span>│<span style=\"color: #5faf5f; text-decoration-color: #5faf5f\"> 15  </span>│\n",
       "├─────────────┼────────┼──────────┼───────────────┼──────────────────┼─────┤\n",
       "│<span style=\"color: #008080; text-decoration-color: #008080\">      3      </span>│<span style=\"color: #800080; text-decoration-color: #800080\"> 1      </span>│<span style=\"color: #5f00d7; text-decoration-color: #5f00d7\"> 2        </span>│<span style=\"color: #ff8700; text-decoration-color: #ff8700\"> 15            </span>│<span style=\"color: #ff005f; text-decoration-color: #ff005f\"> 4                </span>│<span style=\"color: #5faf5f; text-decoration-color: #5faf5f\"> 15  </span>│\n",
       "├─────────────┼────────┼──────────┼───────────────┼──────────────────┼─────┤\n",
       "│<span style=\"color: #008080; text-decoration-color: #008080\">      3      </span>│<span style=\"color: #800080; text-decoration-color: #800080\"> 2      </span>│<span style=\"color: #5f00d7; text-decoration-color: #5f00d7\"> 2        </span>│<span style=\"color: #ff8700; text-decoration-color: #ff8700\"> 15            </span>│<span style=\"color: #ff005f; text-decoration-color: #ff005f\"> 18               </span>│<span style=\"color: #5faf5f; text-decoration-color: #5faf5f\"> 15  </span>│\n",
       "├─────────────┼────────┼──────────┼───────────────┼──────────────────┼─────┤\n",
       "│<span style=\"color: #008080; text-decoration-color: #008080\">      5      </span>│<span style=\"color: #800080; text-decoration-color: #800080\"> 2      </span>│<span style=\"color: #5f00d7; text-decoration-color: #5f00d7\"> 2        </span>│<span style=\"color: #ff8700; text-decoration-color: #ff8700\"> 15            </span>│<span style=\"color: #ff005f; text-decoration-color: #ff005f\"> 22               </span>│<span style=\"color: #5faf5f; text-decoration-color: #5faf5f\"> 15  </span>│\n",
       "└─────────────┴────────┴──────────┴───────────────┴──────────────────┴─────┘\n",
       "</pre>\n"
      ],
      "text/plain": [
       "\u001b[3m    Convolutional Neural Network: Padding to keep output same dimension     \u001b[0m\n",
       "┏━━━━━━━━━━━━━┳━━━━━━━━┳━━━━━━━━━━┳━━━━━━━━━━━━━━━┳━━━━━━━━━━━━━━━━━━┳━━━━━┓\n",
       "┃\u001b[1m \u001b[0m\u001b[1mKernel Size\u001b[0m\u001b[1m \u001b[0m┃\u001b[1m \u001b[0m\u001b[1mStride\u001b[0m\u001b[1m \u001b[0m┃\u001b[1m \u001b[0m\u001b[1mDilation\u001b[0m\u001b[1m \u001b[0m┃\u001b[1m \u001b[0m\u001b[1mInput Seq Len\u001b[0m\u001b[1m \u001b[0m┃\u001b[1m \u001b[0m\u001b[1mPadding Required\u001b[0m\u001b[1m \u001b[0m┃\u001b[1m \u001b[0m\u001b[1mOut\u001b[0m\u001b[1m \u001b[0m┃\n",
       "┡━━━━━━━━━━━━━╇━━━━━━━━╇━━━━━━━━━━╇━━━━━━━━━━━━━━━╇━━━━━━━━━━━━━━━━━━╇━━━━━┩\n",
       "│\u001b[36m \u001b[0m\u001b[36m     3     \u001b[0m\u001b[36m \u001b[0m│\u001b[35m \u001b[0m\u001b[35m1     \u001b[0m\u001b[35m \u001b[0m│\u001b[38;5;56m \u001b[0m\u001b[38;5;56m1       \u001b[0m\u001b[38;5;56m \u001b[0m│\u001b[38;5;208m \u001b[0m\u001b[38;5;208m15           \u001b[0m\u001b[38;5;208m \u001b[0m│\u001b[38;5;197m \u001b[0m\u001b[38;5;197m2               \u001b[0m\u001b[38;5;197m \u001b[0m│\u001b[38;5;71m \u001b[0m\u001b[38;5;71m15 \u001b[0m\u001b[38;5;71m \u001b[0m│\n",
       "├─────────────┼────────┼──────────┼───────────────┼──────────────────┼─────┤\n",
       "│\u001b[36m \u001b[0m\u001b[36m     5     \u001b[0m\u001b[36m \u001b[0m│\u001b[35m \u001b[0m\u001b[35m1     \u001b[0m\u001b[35m \u001b[0m│\u001b[38;5;56m \u001b[0m\u001b[38;5;56m1       \u001b[0m\u001b[38;5;56m \u001b[0m│\u001b[38;5;208m \u001b[0m\u001b[38;5;208m15           \u001b[0m\u001b[38;5;208m \u001b[0m│\u001b[38;5;197m \u001b[0m\u001b[38;5;197m4               \u001b[0m\u001b[38;5;197m \u001b[0m│\u001b[38;5;71m \u001b[0m\u001b[38;5;71m15 \u001b[0m\u001b[38;5;71m \u001b[0m│\n",
       "├─────────────┼────────┼──────────┼───────────────┼──────────────────┼─────┤\n",
       "│\u001b[36m \u001b[0m\u001b[36m     3     \u001b[0m\u001b[36m \u001b[0m│\u001b[35m \u001b[0m\u001b[35m2     \u001b[0m\u001b[35m \u001b[0m│\u001b[38;5;56m \u001b[0m\u001b[38;5;56m1       \u001b[0m\u001b[38;5;56m \u001b[0m│\u001b[38;5;208m \u001b[0m\u001b[38;5;208m15           \u001b[0m\u001b[38;5;208m \u001b[0m│\u001b[38;5;197m \u001b[0m\u001b[38;5;197m16              \u001b[0m\u001b[38;5;197m \u001b[0m│\u001b[38;5;71m \u001b[0m\u001b[38;5;71m15 \u001b[0m\u001b[38;5;71m \u001b[0m│\n",
       "├─────────────┼────────┼──────────┼───────────────┼──────────────────┼─────┤\n",
       "│\u001b[36m \u001b[0m\u001b[36m     3     \u001b[0m\u001b[36m \u001b[0m│\u001b[35m \u001b[0m\u001b[35m1     \u001b[0m\u001b[35m \u001b[0m│\u001b[38;5;56m \u001b[0m\u001b[38;5;56m2       \u001b[0m\u001b[38;5;56m \u001b[0m│\u001b[38;5;208m \u001b[0m\u001b[38;5;208m15           \u001b[0m\u001b[38;5;208m \u001b[0m│\u001b[38;5;197m \u001b[0m\u001b[38;5;197m4               \u001b[0m\u001b[38;5;197m \u001b[0m│\u001b[38;5;71m \u001b[0m\u001b[38;5;71m15 \u001b[0m\u001b[38;5;71m \u001b[0m│\n",
       "├─────────────┼────────┼──────────┼───────────────┼──────────────────┼─────┤\n",
       "│\u001b[36m \u001b[0m\u001b[36m     3     \u001b[0m\u001b[36m \u001b[0m│\u001b[35m \u001b[0m\u001b[35m2     \u001b[0m\u001b[35m \u001b[0m│\u001b[38;5;56m \u001b[0m\u001b[38;5;56m2       \u001b[0m\u001b[38;5;56m \u001b[0m│\u001b[38;5;208m \u001b[0m\u001b[38;5;208m15           \u001b[0m\u001b[38;5;208m \u001b[0m│\u001b[38;5;197m \u001b[0m\u001b[38;5;197m18              \u001b[0m\u001b[38;5;197m \u001b[0m│\u001b[38;5;71m \u001b[0m\u001b[38;5;71m15 \u001b[0m\u001b[38;5;71m \u001b[0m│\n",
       "├─────────────┼────────┼──────────┼───────────────┼──────────────────┼─────┤\n",
       "│\u001b[36m \u001b[0m\u001b[36m     5     \u001b[0m\u001b[36m \u001b[0m│\u001b[35m \u001b[0m\u001b[35m2     \u001b[0m\u001b[35m \u001b[0m│\u001b[38;5;56m \u001b[0m\u001b[38;5;56m2       \u001b[0m\u001b[38;5;56m \u001b[0m│\u001b[38;5;208m \u001b[0m\u001b[38;5;208m15           \u001b[0m\u001b[38;5;208m \u001b[0m│\u001b[38;5;197m \u001b[0m\u001b[38;5;197m22              \u001b[0m\u001b[38;5;197m \u001b[0m│\u001b[38;5;71m \u001b[0m\u001b[38;5;71m15 \u001b[0m\u001b[38;5;71m \u001b[0m│\n",
       "└─────────────┴────────┴──────────┴───────────────┴──────────────────┴─────┘\n"
      ]
     },
     "execution_count": 200,
     "metadata": {},
     "output_type": "execute_result"
    }
   ],
   "source": [
    "exp_list= [\n",
    "    exp(3,1,1),\n",
    "    exp(5,1,1),\n",
    "    exp(3,2,1),\n",
    "    exp(3,1,2),\n",
    "    exp(3,2,2),\n",
    "    exp(5,2,2),\n",
    "]\n",
    "\n",
    "# Let's see output seq length for each setting of the CNN\n",
    "table = Table(title=\"Convolutional Neural Network: Padding to keep output same dimension\", show_lines=True)\n",
    "table.add_column(\"Kernel Size\", justify=\"center\", style=\"cyan\", no_wrap=False)\n",
    "table.add_column(\"Stride\", style=\"magenta\")\n",
    "table.add_column(\"Dilation\", style=\"purple3\")\n",
    "table.add_column(\"Input Seq Len\", style=\"dark_orange\")\n",
    "table.add_column(\"Padding Required\", style=\"deep_pink2\")\n",
    "table.add_column(\"Out\", style=\"dark_sea_green4\")\n",
    "\n",
    "b, c, l = cnn_input.size()\n",
    "for ex in exp_list:\n",
    "    #Calculating the ideal padding\n",
    "    padding = ex.d*(ex.k-1) + cnn_input.size(-1) * (ex.s-1) - (ex.s-1)\n",
    "    #Pad the input on the left\n",
    "    #using normal concatenation\n",
    "    # padded_input = torch.concat([torch.zeros((b,c,padding)), cnn_input], dim=-1)\n",
    "    # using inbuilt function. https://pytorch.org/docs/stable/generated/torch.nn.functional.pad.html#torch.nn.functional.pad\n",
    "    # to pad the last dimension, we just need to give a tuple of left and right padding\n",
    "    padded_input = torch.nn.functional.pad(cnn_input, pad=(padding,0))\n",
    "    conv = nn.Conv1d(in_channels=1, out_channels=1, kernel_size=ex.k, stride=ex.s, dilation=ex.d)\n",
    "    out = conv(padded_input)\n",
    "    assert out.size(-1) == cnn_input.size(-1)\n",
    "    table.add_row(str(ex.k), str(ex.s), str(ex.d), str(cnn_input.size(-1)), str(padding), str(out.size(-1)))\n",
    "table"
   ]
  },
  {
   "cell_type": "markdown",
   "id": "66c04988-7cd0-4a1d-ac7a-7dda497b5ff3",
   "metadata": {},
   "source": [
    "## Convolutions with equal weights is a rolling mean"
   ]
  },
  {
   "cell_type": "code",
   "execution_count": 207,
   "id": "1740cb50-9c81-4555-b551-81a2bb0aaaba",
   "metadata": {},
   "outputs": [
    {
     "name": "stdout",
     "output_type": "stream",
     "text": [
      "torch.Size([1, 1, 3])\n"
     ]
    }
   ],
   "source": [
    "conv = nn.Conv1d(in_channels=1, out_channels=1, kernel_size=3, bias=False)\n",
    "\n",
    "# This is the kernel weight\n",
    "print(conv.weight.data.shape)\n",
    "\n",
    "# assigning the kernel weights with uniform distribution\n",
    "conv.weight.data = torch.tensor([1/3, 1/3, 1/3]).unsqueeze(0).unsqueeze(0)"
   ]
  },
  {
   "cell_type": "code",
   "execution_count": 219,
   "id": "8c0ac670-ce29-4702-80d2-4e757febff59",
   "metadata": {},
   "outputs": [
    {
     "data": {
      "text/plain": [
       "tensor([[[ 0.4358, -0.5277, -0.6339, -0.6194, -0.5282, -0.2215, -0.4586,\n",
       "          -0.1722, -0.4980,  0.3196,  0.4124,  0.2604, -0.0829, -0.4853,\n",
       "          -0.0631, -0.9906, -1.0263, -1.0303]]], grad_fn=<SqueezeBackward1>)"
      ]
     },
     "execution_count": 219,
     "metadata": {},
     "output_type": "execute_result"
    }
   ],
   "source": [
    "# Creating a tensor with the artificial time series\n",
    "s = torch.from_numpy(df.ts.values.astype(\"float32\"))\n",
    "\n",
    "#Output of the convolutional layer\n",
    "# unsqueezing to add dimensions. Conv1d expects a 3-d input\n",
    "out = conv(s.unsqueeze(0).unsqueeze(0))\n",
    "out"
   ]
  },
  {
   "cell_type": "code",
   "execution_count": 215,
   "id": "193ec72a-ced4-41b7-a81a-e43b4d9fe6ec",
   "metadata": {},
   "outputs": [
    {
     "data": {
      "text/plain": [
       "[tensor(0.4358),\n",
       " tensor(-0.5277),\n",
       " tensor(-0.6339),\n",
       " tensor(-0.6194),\n",
       " tensor(-0.5282),\n",
       " tensor(-0.2215),\n",
       " tensor(-0.4586),\n",
       " tensor(-0.1722),\n",
       " tensor(-0.4980),\n",
       " tensor(0.3196),\n",
       " tensor(0.4124),\n",
       " tensor(0.2604),\n",
       " tensor(-0.0829),\n",
       " tensor(-0.4853),\n",
       " tensor(-0.0631),\n",
       " tensor(-0.9906),\n",
       " tensor(-1.0263),\n",
       " tensor(-1.0303)]"
      ]
     },
     "execution_count": 215,
     "metadata": {},
     "output_type": "execute_result"
    }
   ],
   "source": [
    "# Calculating the rolling mean over n-(k-1)\n",
    "rolling_means = [s[i:i+3].mean() for i in range(len(s)-2)]\n",
    "rolling_means"
   ]
  },
  {
   "cell_type": "code",
   "execution_count": 232,
   "id": "b4843bc5-a12d-42c2-b395-596d55df890c",
   "metadata": {},
   "outputs": [
    {
     "data": {
      "text/plain": [
       "True"
      ]
     },
     "execution_count": 232,
     "metadata": {},
     "output_type": "execute_result"
    }
   ],
   "source": [
    "#concatenating into a tensor\n",
    "rolling_means = torch.cat([t.unsqueeze(0) for t in rolling_means])\n",
    "# checking equality\n",
    "torch.allclose(rolling_means, out)"
   ]
  }
 ],
 "metadata": {
  "kernelspec": {
   "display_name": "Python 3 (ipykernel)",
   "language": "python",
   "name": "python3"
  },
  "language_info": {
   "codemirror_mode": {
    "name": "ipython",
    "version": 3
   },
   "file_extension": ".py",
   "mimetype": "text/x-python",
   "name": "python",
   "nbconvert_exporter": "python",
   "pygments_lexer": "ipython3",
   "version": "3.9.0"
  }
 },
 "nbformat": 4,
 "nbformat_minor": 5
}

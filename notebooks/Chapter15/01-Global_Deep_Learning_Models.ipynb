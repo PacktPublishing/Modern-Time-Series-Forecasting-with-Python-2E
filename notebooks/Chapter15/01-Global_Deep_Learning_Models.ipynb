{
 "cells": [
  {
   "cell_type": "code",
   "execution_count": 1,
   "id": "1c696685-98bc-4cd1-8792-8f6b250ab956",
   "metadata": {},
   "outputs": [
    {
     "name": "stdout",
     "output_type": "stream",
     "text": [
      "c:\\Users\\tacke\\OneDrive\\Documents\\GitHub\\Modern-Time-Series-Forecasting-with-Python-2E-1\n"
     ]
    }
   ],
   "source": [
    "%cd ../.."
   ]
  },
  {
   "cell_type": "code",
   "execution_count": 2,
   "id": "94bfdac4-3813-4ec0-8817-aef3b09932a4",
   "metadata": {},
   "outputs": [],
   "source": [
    "import os\n",
    "import shutil\n",
    "\n",
    "import joblib\n",
    "import numpy as np\n",
    "import pandas as pd\n",
    "import plotly.express as px\n",
    "import plotly.graph_objects as go\n",
    "import plotly.io as pio\n",
    "pio.templates.default = \"plotly_white\"\n",
    "\n",
    "from pathlib import Path\n",
    "from IPython.display import display, HTML\n",
    "\n",
    "from src.forecasting.ml_forecasting import (\n",
    "    MissingValueConfig,\n",
    "    calculate_metrics,\n",
    ")\n",
    "from src.utils import plotting_utils\n",
    "from tqdm.autonotebook import tqdm\n",
    "from src.forecasting.ml_forecasting import calculate_metrics\n",
    "from src.utils import ts_utils\n",
    "\n",
    "# %load_ext autoreload\n",
    "# %autoreload 2\n",
    "np.random.seed(42)\n",
    "tqdm.pandas()"
   ]
  },
  {
   "cell_type": "markdown",
   "id": "50830228",
   "metadata": {},
   "source": [
    "Running with TRAIN_SUBSAMPLE = True will reduce runtime"
   ]
  },
  {
   "cell_type": "code",
   "execution_count": 3,
   "id": "3fe3dbd6-c494-455b-a2bb-573bc634c627",
   "metadata": {},
   "outputs": [],
   "source": [
    "os.makedirs(\"imgs/chapter_15\", exist_ok=True)\n",
    "os.makedirs(\"notebooks/Chapter15/saved_weights\", exist_ok=True)\n",
    "preprocessed = Path(\"data/london_smart_meters/preprocessed\")\n",
    "output = Path(\"data/london_smart_meters/output\")\n",
    "# Make True to select a subsample. Helps with faster training.\n",
    "TRAIN_SUBSAMPLE = True"
   ]
  },
  {
   "cell_type": "markdown",
   "id": "1e9b4a30-c264-499a-b767-cedc511faf52",
   "metadata": {
    "tags": []
   },
   "source": [
    "## Utility Functions"
   ]
  },
  {
   "cell_type": "code",
   "execution_count": 4,
   "id": "cf53a95c-0b8b-45d9-8e2b-d657dddedc29",
   "metadata": {},
   "outputs": [],
   "source": [
    "def format_plot(fig, legends=None, xlabel=\"Time\", ylabel=\"Value\", title=\"\", font_size=15):\n",
    "    if legends:\n",
    "        names = cycle(legends)\n",
    "        fig.for_each_trace(lambda t: t.update(name=next(names)))\n",
    "    fig.update_layout(\n",
    "        autosize=False,\n",
    "        width=900,\n",
    "        height=500,\n",
    "        title_text=title,\n",
    "        title={\"x\": 0.5, \"xanchor\": \"center\", \"yanchor\": \"top\"},\n",
    "        titlefont={\"size\": 20},\n",
    "        legend_title=None,\n",
    "        legend=dict(\n",
    "            font=dict(size=font_size),\n",
    "            orientation=\"h\",\n",
    "            yanchor=\"bottom\",\n",
    "            y=0.98,\n",
    "            xanchor=\"right\",\n",
    "            x=1,\n",
    "        ),\n",
    "        yaxis=dict(\n",
    "            title_text=ylabel,\n",
    "            titlefont=dict(size=font_size),\n",
    "            tickfont=dict(size=font_size),\n",
    "        ),\n",
    "        xaxis=dict(\n",
    "            title_text=xlabel,\n",
    "            titlefont=dict(size=font_size),\n",
    "            tickfont=dict(size=font_size),\n",
    "        )\n",
    "    )\n",
    "    return fig"
   ]
  },
  {
   "cell_type": "code",
   "execution_count": 5,
   "id": "d5c15835-d868-4284-83d4-e842d7eedd8b",
   "metadata": {
    "tags": []
   },
   "outputs": [],
   "source": [
    "from itertools import cycle\n",
    "\n",
    "\n",
    "def plot_forecast(pred_df, forecast_columns, forecast_display_names=None):\n",
    "    if forecast_display_names is None:\n",
    "        forecast_display_names = forecast_columns\n",
    "    else:\n",
    "        assert len(forecast_columns) == len(forecast_display_names)\n",
    "    mask = ~pred_df[forecast_columns[0]].isnull()\n",
    "    colors = [\n",
    "        \"rgba(\" + \",\".join([str(c) for c in plotting_utils.hex_to_rgb(c)]) + \",<alpha>)\"\n",
    "        for c in px.colors.qualitative.Plotly\n",
    "    ]\n",
    "    act_color = colors[0]\n",
    "    colors = cycle(colors[1:])\n",
    "    fig = go.Figure()\n",
    "    fig.add_trace(\n",
    "        go.Scatter(\n",
    "            x=pred_df[mask].index,\n",
    "            y=pred_df[mask].energy_consumption,\n",
    "            mode=\"lines\",\n",
    "            line=dict(color=act_color.replace(\"<alpha>\", \"0.9\")),\n",
    "            name=\"Actual Consumption\",\n",
    "        )\n",
    "    )\n",
    "    for col, display_col in zip(forecast_columns, forecast_display_names):\n",
    "        fig.add_trace(\n",
    "            go.Scatter(\n",
    "                x=pred_df[mask].index,\n",
    "                y=pred_df.loc[mask, col],\n",
    "                mode=\"lines\",\n",
    "                line=dict(dash=\"dot\", color=next(colors).replace(\"<alpha>\", \"1\")),\n",
    "                name=display_col,\n",
    "            )\n",
    "        )\n",
    "    return fig\n",
    "\n",
    "def highlight_abs_min(s, props=''):\n",
    "    return np.where(s.abs() == np.nanmin(np.abs(s.values)), props, '')\n",
    "\n",
    "def evaluate_forecast(pred_df, train_data, fc_column, name, target_name=\"energy_consumption\"):\n",
    "    metric_l = []\n",
    "    for _id in tqdm(pred_df.index.get_level_values(0).unique(), desc=\"Calculating metrics...\"):\n",
    "        target = pred_df.xs(_id)[[target_name]]\n",
    "        _y_pred = pred_df.xs(_id)[[fc_column]]\n",
    "        history = train_data.xs(_id)[[target_name]]\n",
    "        # display(history.tail())\n",
    "        # display(_y_pred.head())\n",
    "        # display(target.head())\n",
    "        metric_l.append(\n",
    "            calculate_metrics(target, _y_pred, name=name, y_train=history)\n",
    "        )\n",
    "    eval_metrics_df = pd.DataFrame(metric_l)\n",
    "    agg_metrics = {\n",
    "            \"Algorithm\": name,\n",
    "            \"MAE\": np.nanmean(np.abs(pred_df[fc_column]-pred_df[target_name])),\n",
    "            \"MSE\": np.nanmean(np.power(pred_df[fc_column]-pred_df[target_name], 2)),\n",
    "            \"meanMASE\": eval_metrics_df.loc[:, \"MASE\"].mean(),\n",
    "            \"Forecast Bias\": 100*(np.nansum(pred_df[fc_column])-np.nansum(pred_df[target_name]))/np.nansum(pred_df[target_name])\n",
    "    }\n",
    "    return agg_metrics, eval_metrics_df\n",
    "\n",
    "#from pytorch_lightning.utilities.cloud_io import load as pl_load\n",
    "from lightning_fabric.utilities.cloud_io import _load as pl_load\n",
    "def load_weights(model, weight_path):\n",
    "    state_dict = pl_load(weight_path)\n",
    "    model.load_state_dict(state_dict)"
   ]
  },
  {
   "cell_type": "code",
   "execution_count": 6,
   "id": "9806f8e4-9f66-41ff-894c-cbf27045a7b6",
   "metadata": {},
   "outputs": [],
   "source": [
    "from collections import namedtuple\n",
    "\n",
    "FeatureConfig = namedtuple(\n",
    "    \"FeatureConfig\",\n",
    "    [\n",
    "        \"target\",\n",
    "        \"index_cols\",\n",
    "        \"static_categoricals\",\n",
    "        \"static_reals\",\n",
    "        \"time_varying_known_categoricals\",\n",
    "        \"time_varying_known_reals\",\n",
    "        \"time_varying_unknown_reals\",\n",
    "        \"group_ids\"\n",
    "    ],\n",
    ")"
   ]
  },
  {
   "cell_type": "markdown",
   "id": "e2d116bb-3924-4c83-94d6-530df0d1b8f8",
   "metadata": {
    "tags": []
   },
   "source": [
    "## Reading the data"
   ]
  },
  {
   "cell_type": "code",
   "execution_count": 7,
   "id": "415a63e4-408e-4ebd-864e-091dba77ba01",
   "metadata": {},
   "outputs": [],
   "source": [
    "try:\n",
    "    #Reading the missing value imputed and train test split data\n",
    "    train_df = pd.read_parquet(preprocessed/\"selected_blocks_train_missing_imputed_feature_engg.parquet\")\n",
    "    # Read in the Validation dataset as test_df so that we predict on it\n",
    "    test_df = pd.read_parquet(preprocessed/\"selected_blocks_val_missing_imputed_feature_engg.parquet\")\n",
    "    # test_df = pd.read_parquet(preprocessed/\"selected_blocks_test_missing_imputed_feature_engg.parquet\")\n",
    "except FileNotFoundError:\n",
    "    display(HTML(\"\"\"\n",
    "    <div class=\"alert alert-block alert-warning\">\n",
    "    <b>Warning!</b> File not found. Please make sure you have run 01-Feature Engineering.ipynb in Chapter06\n",
    "    </div>\n",
    "    \"\"\"))"
   ]
  },
  {
   "cell_type": "code",
   "execution_count": 8,
   "id": "cc656a09-6164-4671-96f0-0699681c3161",
   "metadata": {},
   "outputs": [
    {
     "name": "stdout",
     "output_type": "stream",
     "text": [
      "sub sampling\n"
     ]
    }
   ],
   "source": [
    "# To run on smaller set of data for daster iteration.\n",
    "if TRAIN_SUBSAMPLE:\n",
    "    print(\"sub sampling\")\n",
    "    SAMPLE = 10\n",
    "    sampled_LCLids = pd.Series(train_df.LCLid.unique().remove_unused_categories().categories).sample(SAMPLE, random_state=99).tolist()\n",
    "    train_df = train_df.loc[train_df.LCLid.isin(sampled_LCLids)]\n",
    "    test_df = test_df.loc[test_df.LCLid.isin(sampled_LCLids)]"
   ]
  },
  {
   "cell_type": "markdown",
   "id": "f2715dd9-2eaa-4d4a-bac1-9a1f392fb2ee",
   "metadata": {
    "tags": []
   },
   "source": [
    "## Defining the different features"
   ]
  },
  {
   "cell_type": "code",
   "execution_count": 9,
   "id": "5b37505e-5275-448a-8b3b-7d045c3505f7",
   "metadata": {},
   "outputs": [],
   "source": [
    "feat_config = FeatureConfig(\n",
    "    target=\"energy_consumption\",\n",
    "    index_cols=[\"LCLid\", \"timestamp\"],\n",
    "    static_categoricals=[\n",
    "        \"LCLid\",\n",
    "        \"stdorToU\",\n",
    "        \"Acorn\",\n",
    "        \"Acorn_grouped\",\n",
    "        \"file\",\n",
    "    ],  # Categoricals which does not change with time\n",
    "    static_reals=[],  # Reals which does not change with time\n",
    "    time_varying_known_categoricals=[  # Categoricals which change with time\n",
    "        \"holidays\",\n",
    "        \"timestamp_Dayofweek\",\n",
    "    ],\n",
    "    time_varying_known_reals=[  # Reals which change with time\n",
    "        \"apparentTemperature\",\n",
    "    ],  \n",
    "    time_varying_unknown_reals=[  # Reals which change with time, but we don't have the future. Like the target\n",
    "        \"energy_consumption\"\n",
    "    ],  \n",
    "    group_ids=[  # Feature or list of features which uniquely identifies each entity\n",
    "        \"LCLid\"\n",
    "    ],  \n",
    ")"
   ]
  },
  {
   "cell_type": "markdown",
   "id": "f76544a8-045d-45e0-9ca8-de39bca1da5b",
   "metadata": {
    "tags": []
   },
   "source": [
    "### Creating a continuous time index for PyTorch Forecasting"
   ]
  },
  {
   "cell_type": "code",
   "execution_count": 10,
   "id": "ff08cafc-9adf-41f7-aba1-9a7526f0774e",
   "metadata": {},
   "outputs": [],
   "source": [
    "# Combining train and test with a flag\n",
    "train_df['train'] = True\n",
    "test_df['train'] = False\n",
    "data = pd.concat([train_df, test_df])\n",
    "del train_df, test_df\n",
    "# Adding the time index\n",
    "data['time_idx'] = data.timestamp.apply(lambda x: x.value)\n",
    "diff = data.iloc[1]['time_idx'] - data.iloc[0]['time_idx']\n",
    "data[\"_min_time_idx\"] = data.groupby(\"LCLid\", observed=True)['time_idx'].transform(\"min\")\n",
    "data['time_idx'] = ((data['time_idx']-data['_min_time_idx'])/diff).astype(int)\n",
    "data.drop(columns=\"_min_time_idx\", inplace=True)\n",
    "# separating to train and test\n",
    "train_df = data.loc[data.train]\n",
    "test_df = data.loc[~data.train]\n",
    "del data"
   ]
  },
  {
   "cell_type": "markdown",
   "id": "8c2b1470-40ee-49af-a29e-17a44bad2fc5",
   "metadata": {
    "tags": []
   },
   "source": [
    "### Converting the categoricals to `object` dtype"
   ]
  },
  {
   "cell_type": "code",
   "execution_count": 11,
   "id": "1be41828-5877-456b-ab0a-736852a84695",
   "metadata": {},
   "outputs": [],
   "source": [
    "train_df[\n",
    "    feat_config.static_categoricals + feat_config.time_varying_known_categoricals\n",
    "] = train_df[\n",
    "    feat_config.static_categoricals + feat_config.time_varying_known_categoricals\n",
    "].astype(\n",
    "    \"object\"\n",
    ")\n",
    "\n",
    "test_df[\n",
    "    feat_config.static_categoricals + feat_config.time_varying_known_categoricals\n",
    "] = test_df[\n",
    "    feat_config.static_categoricals + feat_config.time_varying_known_categoricals\n",
    "].astype(\n",
    "    \"object\"\n",
    ")"
   ]
  },
  {
   "cell_type": "markdown",
   "id": "55015911-fe45-477e-a509-ba0fae3c071a",
   "metadata": {
    "tags": []
   },
   "source": [
    "### Handling Missing Values"
   ]
  },
  {
   "cell_type": "code",
   "execution_count": 12,
   "id": "c39b19fc-cff1-4aa4-a346-1958922d18ea",
   "metadata": {},
   "outputs": [
    {
     "data": {
      "text/plain": [
       "pressure                                          True\n",
       "energy_consumption_lag_1                          True\n",
       "energy_consumption_lag_2                          True\n",
       "energy_consumption_lag_3                          True\n",
       "energy_consumption_lag_4                          True\n",
       "energy_consumption_lag_5                          True\n",
       "energy_consumption_lag_46                         True\n",
       "energy_consumption_lag_47                         True\n",
       "energy_consumption_lag_48                         True\n",
       "energy_consumption_lag_49                         True\n",
       "energy_consumption_lag_50                         True\n",
       "energy_consumption_lag_334                        True\n",
       "energy_consumption_lag_335                        True\n",
       "energy_consumption_lag_336                        True\n",
       "energy_consumption_lag_337                        True\n",
       "energy_consumption_lag_338                        True\n",
       "energy_consumption_rolling_3_mean                 True\n",
       "energy_consumption_rolling_3_std                  True\n",
       "energy_consumption_rolling_6_mean                 True\n",
       "energy_consumption_rolling_6_std                  True\n",
       "energy_consumption_rolling_12_mean                True\n",
       "energy_consumption_rolling_12_std                 True\n",
       "energy_consumption_rolling_48_mean                True\n",
       "energy_consumption_rolling_48_std                 True\n",
       "energy_consumption_48_seasonal_rolling_3_mean     True\n",
       "energy_consumption_48_seasonal_rolling_3_std      True\n",
       "energy_consumption_336_seasonal_rolling_3_mean    True\n",
       "energy_consumption_336_seasonal_rolling_3_std     True\n",
       "dtype: bool"
      ]
     },
     "execution_count": 12,
     "metadata": {},
     "output_type": "execute_result"
    }
   ],
   "source": [
    "#Checking missing values\n",
    "n = train_df.isna().any()\n",
    "n[n]"
   ]
  },
  {
   "cell_type": "code",
   "execution_count": 13,
   "id": "221e3353-5d1a-4747-a349-66dbd39ba182",
   "metadata": {},
   "outputs": [],
   "source": [
    "# We aren't using any of these features. So let it be"
   ]
  },
  {
   "cell_type": "markdown",
   "id": "24118217-9f80-4017-924d-9cc2f7e156f9",
   "metadata": {},
   "source": [
    "# Training Global Models"
   ]
  },
  {
   "cell_type": "code",
   "execution_count": 14,
   "id": "1f885fc4-8d75-4e82-a7f9-5dd16688e7e4",
   "metadata": {},
   "outputs": [
    {
     "name": "stderr",
     "output_type": "stream",
     "text": [
      "Seed set to 42\n"
     ]
    }
   ],
   "source": [
    "import pytorch_lightning as pl\n",
    "pl.seed_everything(42)\n",
    "import torch\n",
    "\n",
    "from pytorch_forecasting import TimeSeriesDataSet\n",
    "from pytorch_forecasting.data import GroupNormalizer\n",
    "from pytorch_forecasting.metrics import RMSE, MAE"
   ]
  },
  {
   "cell_type": "code",
   "execution_count": 15,
   "id": "d6db1b45-25db-444b-8a6d-b35e301a80df",
   "metadata": {},
   "outputs": [],
   "source": [
    "# # Load the TensorBoard notebook extension\n",
    "# %load_ext tensorboard\n",
    "# os.makedirs(\"lightning_logs\", exist_ok=True)\n",
    "# %tensorboard --logdir lightning_logs/\n",
    "\n",
    "# Or start the tensorboard in a separate command prompt/terminal using\n",
    "# tensorboard --logdir lightning_logs/"
   ]
  },
  {
   "cell_type": "markdown",
   "id": "0f26ace8-0934-43b7-a272-cc2784f89276",
   "metadata": {
    "tags": []
   },
   "source": [
    "### Config"
   ]
  },
  {
   "cell_type": "code",
   "execution_count": 16,
   "id": "111ced86-ec78-4b4a-a7b5-b41fef55c03d",
   "metadata": {},
   "outputs": [],
   "source": [
    "max_prediction_length = 1\n",
    "max_encoder_length = 48*2\n",
    "batch_size = 512  # set this to a value which your GPU can handle\n",
    "train_model = True # Set this to True to train model. Else will load saved models ! Warning! Training on full dataset takes 3-6 hours"
   ]
  },
  {
   "cell_type": "code",
   "execution_count": 17,
   "id": "a0fd2576-8aff-458f-af8a-d2f2365dbdd3",
   "metadata": {},
   "outputs": [],
   "source": [
    "metric_record = []\n",
    "individual_metrics = dict()"
   ]
  },
  {
   "cell_type": "markdown",
   "id": "0f09ae16-1fed-45f4-a66d-f356f0ef0d06",
   "metadata": {
    "tags": []
   },
   "source": [
    "### Creating dataframes for train, val and test"
   ]
  },
  {
   "cell_type": "code",
   "execution_count": 18,
   "id": "342b92be-1a8c-4ce6-9dc2-f14b2aa103fe",
   "metadata": {},
   "outputs": [
    {
     "data": {
      "text/plain": [
       "(Timestamp('2013-12-31 23:30:00'), Timestamp('2014-01-01 00:00:00'))"
      ]
     },
     "execution_count": 18,
     "metadata": {},
     "output_type": "execute_result"
    }
   ],
   "source": [
    "train_df.timestamp.max(), test_df.timestamp.min()"
   ]
  },
  {
   "cell_type": "code",
   "execution_count": 19,
   "id": "26b1d390-51b2-4050-94c7-311afe7df792",
   "metadata": {},
   "outputs": [
    {
     "name": "stdout",
     "output_type": "stream",
     "text": [
      "History Min: 2013-12-30 00:00:00 | Max: 2013-12-31 23:30:00 | Length: 96\n"
     ]
    }
   ],
   "source": [
    "#Adding 2 days of history (48*2) to create the samples\n",
    "history_cutoff = train_df.timestamp.max() - pd.Timedelta(2, \"D\")\n",
    "hist_df = train_df[train_df.timestamp>history_cutoff]\n",
    "print(f\"History Min: {hist_df.timestamp.min()} | Max: {hist_df.timestamp.max()} | Length: {len(hist_df.timestamp.unique())}\")"
   ]
  },
  {
   "cell_type": "code",
   "execution_count": 20,
   "id": "644006c3-d659-4dd7-95e7-c932c1ccb686",
   "metadata": {},
   "outputs": [
    {
     "name": "stdout",
     "output_type": "stream",
     "text": [
      "Split Timestamps:\n",
      "Train Max: 2013-12-30 23:30:00 | Val History Min and Max: (Timestamp('2013-12-28 23:30:00'), Timestamp('2013-12-30 23:30:00')) | Val Min and Max: (Timestamp('2013-12-31 00:00:00'), Timestamp('2013-12-31 23:30:00'))\n",
      "Val History Size: 97 | Val Size: 48\n"
     ]
    }
   ],
   "source": [
    "#Keeping 1 days aside as a validation set\n",
    "cutoff = train_df.timestamp.max() - pd.Timedelta(1, \"D\")\n",
    "#Adding 2 days of history (48*2) to create the samples\n",
    "history_cutoff = train_df.timestamp.max() - pd.Timedelta(3, \"D\")\n",
    "val_history = train_df[(train_df.timestamp>=history_cutoff)&(train_df.timestamp<=cutoff)].reset_index(drop=True)\n",
    "val_df = train_df[train_df.timestamp>cutoff].reset_index(drop=True)\n",
    "train_df = train_df[train_df.timestamp<=cutoff].reset_index(drop=True)\n",
    "print(\"Split Timestamps:\")\n",
    "print(f\"Train Max: {train_df.timestamp.max()} | Val History Min and Max: {val_history.timestamp.min(), val_history.timestamp.max()} | Val Min and Max: {val_df.timestamp.min(), val_df.timestamp.max()}\")\n",
    "print(f\"Val History Size: {len(val_history.timestamp.unique())} | Val Size: {len(val_df.timestamp.unique())}\")"
   ]
  },
  {
   "cell_type": "code",
   "execution_count": 21,
   "id": "8271fe02-6b1e-4857-b7e9-2e3e4f8d40c4",
   "metadata": {},
   "outputs": [],
   "source": [
    "pred_df = test_df[feat_config.index_cols+[feat_config.target]+['time_idx']].copy()\n",
    "# pred_df.set_index(feat_config.index_cols, inplace=True)"
   ]
  },
  {
   "cell_type": "code",
   "execution_count": 22,
   "id": "c119fd2c-ceeb-46e7-a9d0-40fc49186167",
   "metadata": {},
   "outputs": [],
   "source": [
    "cols = feat_config.index_cols + [feat_config.target]\n",
    "full_df = pd.concat(\n",
    "    [\n",
    "        train_df[cols],\n",
    "        val_df[cols],\n",
    "    ]\n",
    ").set_index(feat_config.index_cols)"
   ]
  },
  {
   "cell_type": "markdown",
   "id": "8ae32af6-ada8-4301-9afe-54776a17fb9a",
   "metadata": {
    "tags": []
   },
   "source": [
    "## Baseline\n",
    "\n",
    "Using just the history of the time series"
   ]
  },
  {
   "cell_type": "code",
   "execution_count": 23,
   "id": "deac0b52-709c-4425-9322-cbe3bda1ea81",
   "metadata": {},
   "outputs": [],
   "source": [
    "tag = \"simple\""
   ]
  },
  {
   "cell_type": "markdown",
   "id": "066650ee-e2d6-485c-b1f6-5549b7a466cc",
   "metadata": {},
   "source": [
    "### Converting data into TimeSeriesDataset from PyTorch Forecasting"
   ]
  },
  {
   "cell_type": "code",
   "execution_count": 24,
   "id": "e312c5ad-9b02-450f-a3c6-931e918a2f8d",
   "metadata": {},
   "outputs": [],
   "source": [
    "# Defining the training dataset\n",
    "training = TimeSeriesDataSet(\n",
    "    train_df,\n",
    "    time_idx=\"time_idx\",\n",
    "    target=feat_config.target,\n",
    "    group_ids=feat_config.group_ids,\n",
    "    max_encoder_length=max_encoder_length,\n",
    "    max_prediction_length=max_prediction_length,\n",
    "    time_varying_unknown_reals=[\n",
    "        \"energy_consumption\",\n",
    "    ],\n",
    "    target_normalizer=GroupNormalizer(\n",
    "        groups=feat_config.group_ids, transformation=None\n",
    "    )\n",
    ")\n",
    "# Defining the validation dataset with the same parameters as training\n",
    "validation = TimeSeriesDataSet.from_dataset(training, pd.concat([val_history,val_df]).reset_index(drop=True), stop_randomization=True)\n",
    "# Defining the test dataset with the same parameters as training\n",
    "test = TimeSeriesDataSet.from_dataset(training, pd.concat([hist_df, test_df]).reset_index(drop=True), stop_randomization=True)"
   ]
  },
  {
   "cell_type": "code",
   "execution_count": 25,
   "id": "f82e3fd6-8041-40ae-b0b9-608abe7bd75c",
   "metadata": {},
   "outputs": [],
   "source": [
    "# Making the dataloaders\n",
    "# num_workers can be increased in linux to speed-up training\n",
    "train_dataloader = training.to_dataloader(train=True, batch_size=batch_size, num_workers=0)\n",
    "val_dataloader = validation.to_dataloader(train=False, batch_size=batch_size, num_workers=0)"
   ]
  },
  {
   "cell_type": "code",
   "execution_count": 26,
   "id": "db1506f5-1100-4edb-8868-7a7cca134aa0",
   "metadata": {},
   "outputs": [
    {
     "name": "stdout",
     "output_type": "stream",
     "text": [
      "\n",
      "sizes of x =\n",
      "\tencoder_cat = torch.Size([512, 96, 0])\n",
      "\tencoder_cont = torch.Size([512, 96, 1])\n",
      "\tencoder_target = torch.Size([512, 96])\n",
      "\tencoder_lengths = torch.Size([512])\n",
      "\tdecoder_cat = torch.Size([512, 1, 0])\n",
      "\tdecoder_cont = torch.Size([512, 1, 1])\n",
      "\tdecoder_target = torch.Size([512, 1])\n",
      "\tdecoder_lengths = torch.Size([512])\n",
      "\tdecoder_time_idx = torch.Size([512, 1])\n",
      "\tgroups = torch.Size([512, 1])\n",
      "\ttarget_scale = torch.Size([512, 2])\n",
      "\n",
      "size of y =\n",
      "\ty = torch.Size([512, 1])\n"
     ]
    }
   ],
   "source": [
    "# Testing the dataloader\n",
    "x, y = next(iter(train_dataloader))\n",
    "print(\"\\nsizes of x =\")\n",
    "for key, value in x.items():\n",
    "    print(f\"\\t{key} = {value.size()}\")\n",
    "print(\"\\nsize of y =\")\n",
    "print(f\"\\ty = {y[0].size()}\")"
   ]
  },
  {
   "cell_type": "markdown",
   "id": "db207603-dcf8-4d03-aa29-2b2fce662826",
   "metadata": {},
   "source": [
    "### Creating the Model"
   ]
  },
  {
   "cell_type": "code",
   "execution_count": 27,
   "id": "cc0d756f-588b-4ee8-a41f-8025e41a5573",
   "metadata": {},
   "outputs": [],
   "source": [
    "# Importing the skeleton and helper models from src\n",
    "from src.dl.ptf_models import SingleStepRNN, SingleStepRNNModel"
   ]
  },
  {
   "cell_type": "markdown",
   "id": "ac65e4fc-1115-4d2e-9136-ac2ce02433a5",
   "metadata": {},
   "source": [
    "**The helper model which is a custom PyTorch Forecasting model is as below:**\n",
    "\n",
    "It is designed for simple RNN based forecasting, which is what we will be using to show different strategies of global modelling\n",
    "```python\n",
    "class SingleStepRNNModel(BaseModel):\n",
    "    def __init__(self, network_callable: Callable, model_params: Dict, **kwargs):\n",
    "        # saves arguments in signature to `.hparams` attribute, mandatory call - do not skip this\n",
    "        self.save_hyperparameters(model_params)\n",
    "        # pass additional arguments to BaseModel.__init__, mandatory call - do not skip this\n",
    "        super().__init__(**kwargs)\n",
    "        self.network = network_callable(**model_params)\n",
    "\n",
    "    def forward(self, x: Dict[str, torch.Tensor]) -> Dict[str, torch.Tensor]:\n",
    "        prediction = self.network(x)\n",
    "        # rescale predictions into target space\n",
    "        prediction = self.transform_output(prediction, target_scale=x[\"target_scale\"])\n",
    "        # We need to return a dictionary that at least contains the prediction\n",
    "        # The parameter can be directly forwarded from the input.\n",
    "        # The conversion to a named tuple can be directly achieved with the `to_network_output` function.\n",
    "        return self.to_network_output(prediction=prediction)\n",
    "```"
   ]
  },
  {
   "cell_type": "markdown",
   "id": "7557a5df-5c7c-4808-925f-e5ba99ba765a",
   "metadata": {},
   "source": [
    "### Defining the Forward function"
   ]
  },
  {
   "cell_type": "code",
   "execution_count": 28,
   "id": "2d132bf4-f4d1-4821-b870-6c397aa58f6a",
   "metadata": {},
   "outputs": [],
   "source": [
    "from typing import Dict\n",
    "\n",
    "class SimpleRNNModel(SingleStepRNN):\n",
    "    def __init__(\n",
    "        self,\n",
    "        rnn_type: str,\n",
    "        input_size: int,\n",
    "        hidden_size: int,\n",
    "        num_layers: int,\n",
    "        bidirectional: bool,\n",
    "    ):\n",
    "        super().__init__(rnn_type, input_size, hidden_size, num_layers, bidirectional)\n",
    "\n",
    "    def forward(self, x: Dict):\n",
    "        # Using the encoder continuous which has the history window\n",
    "        x = x[\"encoder_cont\"] # x --> (batch_size, seq_len, input_size)\n",
    "        # Processing through the RNN\n",
    "        x, _ = self.rnn(x)  # --> (batch_size, seq_len, hidden_size)\n",
    "        # Using a FC layer on last hidden state\n",
    "        x = self.fc(x[:,-1,:])  # --> (batch_size, seq_len, 1)\n",
    "        return x"
   ]
  },
  {
   "cell_type": "code",
   "execution_count": 29,
   "id": "ebbd9820-c59e-4ffb-a6b7-fd8d33202fcd",
   "metadata": {},
   "outputs": [],
   "source": [
    "model_params = dict(\n",
    "    rnn_type=\"LSTM\",\n",
    "    input_size=len(training.reals),\n",
    "    hidden_size=256, #128\n",
    "    num_layers=2,\n",
    "    bidirectional=False,\n",
    ")\n",
    "other_params = dict(\n",
    "    learning_rate=5e-5,\n",
    "    optimizer=\"adam\",\n",
    "    loss=RMSE(),\n",
    "    logging_metrics=[RMSE(), MAE()],\n",
    ")"
   ]
  },
  {
   "cell_type": "code",
   "execution_count": 30,
   "id": "146fced5-e902-44a0-9841-2c59e698cdc1",
   "metadata": {
    "tags": []
   },
   "outputs": [
    {
     "name": "stderr",
     "output_type": "stream",
     "text": [
      "c:\\Users\\tacke\\anaconda3\\envs\\modern_ts_2E_new\\Lib\\site-packages\\pytorch_lightning\\utilities\\parsing.py:198: Attribute 'loss' is an instance of `nn.Module` and is already saved during checkpointing. It is recommended to ignore them using `self.save_hyperparameters(ignore=['loss'])`.\n"
     ]
    },
    {
     "data": {
      "text/plain": [
       "(pytorch_forecasting.utils.TupleOutputMixIn.to_network_output.<locals>.Output,\n",
       " torch.Size([512, 1]))"
      ]
     },
     "execution_count": 30,
     "metadata": {},
     "output_type": "execute_result"
    }
   ],
   "source": [
    "model = SingleStepRNNModel.from_dataset(\n",
    "    training,\n",
    "    network_callable=SimpleRNNModel,\n",
    "    model_params=model_params,\n",
    "    **other_params\n",
    ")\n",
    "#Testing out the model\n",
    "x, y = next(iter(train_dataloader))\n",
    "_ = model(x)\n",
    "type(_), _.prediction.shape"
   ]
  },
  {
   "cell_type": "markdown",
   "id": "75796f18-565a-481d-934c-4a6558e46017",
   "metadata": {},
   "source": [
    "### Training the model"
   ]
  },
  {
   "cell_type": "code",
   "execution_count": 31,
   "id": "d128ef61-f854-4436-a7f6-25447858548e",
   "metadata": {},
   "outputs": [],
   "source": [
    "saved_model_sampled = 'notebooks/Chapter14/saved_weights/baseline_sampled.wt'\n",
    "saved_model_full = 'notebooks/Chapter14/saved_weights/baseline.wt'"
   ]
  },
  {
   "cell_type": "markdown",
   "id": "bbf23f5c",
   "metadata": {},
   "source": [
    "# WARNING:  Next block takes a very long time to run, possibly over 24 hours on some machines.\n",
    "\n",
    "Consider lowering the epochs for test purposes."
   ]
  },
  {
   "cell_type": "code",
   "execution_count": 32,
   "id": "1d5a93e8-99a2-467a-816f-a3f89ebfd3ee",
   "metadata": {
    "tags": []
   },
   "outputs": [
    {
     "name": "stderr",
     "output_type": "stream",
     "text": [
      "GPU available: False, used: False\n",
      "TPU available: False, using: 0 TPU cores\n",
      "IPU available: False, using: 0 IPUs\n",
      "HPU available: False, using: 0 HPUs\n",
      "`Trainer(val_check_interval=1.0)` was configured so validation will run at the end of the training epoch..\n",
      "\n",
      "  | Name            | Type           | Params\n",
      "---------------------------------------------------\n",
      "0 | loss            | RMSE           | 0     \n",
      "1 | logging_metrics | ModuleList     | 0     \n",
      "2 | network         | SimpleRNNModel | 791 K \n",
      "---------------------------------------------------\n",
      "791 K     Trainable params\n",
      "0         Non-trainable params\n",
      "791 K     Total params\n",
      "3.167     Total estimated model params size (MB)\n"
     ]
    },
    {
     "data": {
      "application/vnd.jupyter.widget-view+json": {
       "model_id": "068c4e3005ab41ceaba736de623f1170",
       "version_major": 2,
       "version_minor": 0
      },
      "text/plain": [
       "Sanity Checking: |          | 0/? [00:00<?, ?it/s]"
      ]
     },
     "metadata": {},
     "output_type": "display_data"
    },
    {
     "name": "stderr",
     "output_type": "stream",
     "text": [
      "c:\\Users\\tacke\\anaconda3\\envs\\modern_ts_2E_new\\Lib\\site-packages\\pytorch_lightning\\trainer\\connectors\\data_connector.py:441: The 'val_dataloader' does not have many workers which may be a bottleneck. Consider increasing the value of the `num_workers` argument` to `num_workers=7` in the `DataLoader` to improve performance.\n",
      "c:\\Users\\tacke\\anaconda3\\envs\\modern_ts_2E_new\\Lib\\site-packages\\pytorch_lightning\\trainer\\connectors\\data_connector.py:441: The 'train_dataloader' does not have many workers which may be a bottleneck. Consider increasing the value of the `num_workers` argument` to `num_workers=7` in the `DataLoader` to improve performance.\n"
     ]
    },
    {
     "data": {
      "application/vnd.jupyter.widget-view+json": {
       "model_id": "e5fb5382441d4ac0a4b90e2d896dbdd4",
       "version_major": 2,
       "version_minor": 0
      },
      "text/plain": [
       "Training: |          | 0/? [00:00<?, ?it/s]"
      ]
     },
     "metadata": {},
     "output_type": "display_data"
    },
    {
     "data": {
      "application/vnd.jupyter.widget-view+json": {
       "model_id": "b4427d75798f4ff5ba396df4fa77b769",
       "version_major": 2,
       "version_minor": 0
      },
      "text/plain": [
       "Validation: |          | 0/? [00:00<?, ?it/s]"
      ]
     },
     "metadata": {},
     "output_type": "display_data"
    },
    {
     "data": {
      "application/vnd.jupyter.widget-view+json": {
       "model_id": "2afae4f7ad544636a4247a0608662e58",
       "version_major": 2,
       "version_minor": 0
      },
      "text/plain": [
       "Validation: |          | 0/? [00:00<?, ?it/s]"
      ]
     },
     "metadata": {},
     "output_type": "display_data"
    },
    {
     "data": {
      "application/vnd.jupyter.widget-view+json": {
       "model_id": "38c6a91e8df341069e46d37110ae2bde",
       "version_major": 2,
       "version_minor": 0
      },
      "text/plain": [
       "Validation: |          | 0/? [00:00<?, ?it/s]"
      ]
     },
     "metadata": {},
     "output_type": "display_data"
    },
    {
     "data": {
      "application/vnd.jupyter.widget-view+json": {
       "model_id": "240f01b3b6034c558930a6984a0bd141",
       "version_major": 2,
       "version_minor": 0
      },
      "text/plain": [
       "Validation: |          | 0/? [00:00<?, ?it/s]"
      ]
     },
     "metadata": {},
     "output_type": "display_data"
    },
    {
     "data": {
      "application/vnd.jupyter.widget-view+json": {
       "model_id": "fd4c92083fc54701b84c3e42c07c03e7",
       "version_major": 2,
       "version_minor": 0
      },
      "text/plain": [
       "Validation: |          | 0/? [00:00<?, ?it/s]"
      ]
     },
     "metadata": {},
     "output_type": "display_data"
    },
    {
     "data": {
      "application/vnd.jupyter.widget-view+json": {
       "model_id": "9a634c9d8e4c41f081dc5ac99cc603c9",
       "version_major": 2,
       "version_minor": 0
      },
      "text/plain": [
       "Validation: |          | 0/? [00:00<?, ?it/s]"
      ]
     },
     "metadata": {},
     "output_type": "display_data"
    },
    {
     "data": {
      "application/vnd.jupyter.widget-view+json": {
       "model_id": "2fd0cd9e620d44628c688e7eec15581e",
       "version_major": 2,
       "version_minor": 0
      },
      "text/plain": [
       "Validation: |          | 0/? [00:00<?, ?it/s]"
      ]
     },
     "metadata": {},
     "output_type": "display_data"
    },
    {
     "data": {
      "application/vnd.jupyter.widget-view+json": {
       "model_id": "2bbdf46cdea44ede9dcaf0b989d3a248",
       "version_major": 2,
       "version_minor": 0
      },
      "text/plain": [
       "Validation: |          | 0/? [00:00<?, ?it/s]"
      ]
     },
     "metadata": {},
     "output_type": "display_data"
    },
    {
     "data": {
      "application/vnd.jupyter.widget-view+json": {
       "model_id": "181855d1cfa74326b0e1d6a7b30080a1",
       "version_major": 2,
       "version_minor": 0
      },
      "text/plain": [
       "Validation: |          | 0/? [00:00<?, ?it/s]"
      ]
     },
     "metadata": {},
     "output_type": "display_data"
    },
    {
     "data": {
      "application/vnd.jupyter.widget-view+json": {
       "model_id": "9380ef48235943fe82c592b20f22281f",
       "version_major": 2,
       "version_minor": 0
      },
      "text/plain": [
       "Validation: |          | 0/? [00:00<?, ?it/s]"
      ]
     },
     "metadata": {},
     "output_type": "display_data"
    },
    {
     "name": "stdout",
     "output_type": "stream",
     "text": [
      "Loading the best model from: c:\\Users\\tacke\\OneDrive\\Documents\\GitHub\\Modern-Time-Series-Forecasting-with-Python-2E-1\\lightning_logs\\version_2\\checkpoints\\epoch=6-step=4053.ckpt\n"
     ]
    },
    {
     "name": "stderr",
     "output_type": "stream",
     "text": [
      "c:\\Users\\tacke\\anaconda3\\envs\\modern_ts_2E_new\\Lib\\site-packages\\pytorch_lightning\\utilities\\parsing.py:198: Attribute 'loss' is an instance of `nn.Module` and is already saved during checkpointing. It is recommended to ignore them using `self.save_hyperparameters(ignore=['loss'])`.\n"
     ]
    }
   ],
   "source": [
    "if train_model:\n",
    "    trainer = pl.Trainer(\n",
    "        accelerator=\"auto\",\n",
    "        min_epochs=1,\n",
    "        max_epochs=20,\n",
    "        callbacks=[\n",
    "            pl.callbacks.EarlyStopping(monitor=\"val_loss\", patience=3 if TRAIN_SUBSAMPLE else 4*3),\n",
    "            pl.callbacks.ModelCheckpoint(\n",
    "                monitor=\"val_loss\", save_last=True, mode=\"min\", auto_insert_metric_name=True\n",
    "            ),\n",
    "        ],\n",
    "        val_check_interval=1.0 if TRAIN_SUBSAMPLE else 2000,\n",
    "        log_every_n_steps=50 if TRAIN_SUBSAMPLE else 2000,\n",
    "    )\n",
    "    trainer.fit(\n",
    "        model,\n",
    "        train_dataloaders=train_dataloader,\n",
    "        val_dataloaders=val_dataloader,\n",
    "    )\n",
    "    #Loading the best model\n",
    "    best_model_path = trainer.checkpoint_callback.best_model_path\n",
    "    best_model = SingleStepRNNModel.load_from_checkpoint(best_model_path)\n",
    "    print(f\"Loading the best model from: {best_model_path}\")\n",
    "    shutil.copy(best_model_path, saved_model_sampled if TRAIN_SUBSAMPLE else saved_model_full)\n",
    "else:\n",
    "    best_model_path = saved_model_sampled if TRAIN_SUBSAMPLE else saved_model_full\n",
    "    load_weights(model, best_model_path)\n",
    "    best_model =  model\n",
    "    print (\"Skipping Training and loading the model from {best_model_path}\")"
   ]
  },
  {
   "cell_type": "code",
   "execution_count": 33,
   "id": "d3bd05e9-b4f3-4ec8-a39e-6740120237be",
   "metadata": {},
   "outputs": [
    {
     "name": "stderr",
     "output_type": "stream",
     "text": [
      "c:\\Users\\tacke\\anaconda3\\envs\\modern_ts_2E_new\\Lib\\site-packages\\pytorch_lightning\\trainer\\connectors\\data_connector.py:441: The 'predict_dataloader' does not have many workers which may be a bottleneck. Consider increasing the value of the `num_workers` argument` to `num_workers=7` in the `DataLoader` to improve performance.\n"
     ]
    },
    {
     "data": {
      "application/vnd.jupyter.widget-view+json": {
       "model_id": "b0e09153f7364940a027432c6fc47967",
       "version_major": 2,
       "version_minor": 0
      },
      "text/plain": [
       "Predicting: |          | 0/? [00:00<?, ?it/s]"
      ]
     },
     "metadata": {},
     "output_type": "display_data"
    },
    {
     "data": {
      "application/vnd.jupyter.widget-view+json": {
       "model_id": "616b1da5f4c249ec9dcf9ad2cbdbc91d",
       "version_major": 2,
       "version_minor": 0
      },
      "text/plain": [
       "Calculating metrics...:   0%|          | 0/10 [00:00<?, ?it/s]"
      ]
     },
     "metadata": {},
     "output_type": "display_data"
    }
   ],
   "source": [
    "# Predicting on the test dataset and storing in a df\n",
    "pred_output = best_model.predict(test, return_index=True, trainer_kwargs=dict(enable_progress_bar=True))\n",
    "pred, index = pred_output.output.cpu().numpy(), pred_output.index\n",
    "index[tag] = pred\n",
    "pred_df = pred_df.reset_index().merge(index, on=[\"time_idx\",\"LCLid\"], how='left').set_index(feat_config.index_cols)\n",
    "# Evaluating the forecast\n",
    "agg_metrics, eval_metrics_df = evaluate_forecast(\n",
    "    pred_df = pred_df,\n",
    "    train_data = full_df,\n",
    "    fc_column=tag,\n",
    "    name=tag,\n",
    ")\n",
    "metric_record.append(agg_metrics)\n",
    "individual_metrics[tag]=eval_metrics_df"
   ]
  },
  {
   "cell_type": "code",
   "execution_count": 34,
   "id": "f0eb2da3-3735-4c07-a20b-37a9fb0c561d",
   "metadata": {},
   "outputs": [
    {
     "data": {
      "text/html": [
       "<div>\n",
       "<style scoped>\n",
       "    .dataframe tbody tr th:only-of-type {\n",
       "        vertical-align: middle;\n",
       "    }\n",
       "\n",
       "    .dataframe tbody tr th {\n",
       "        vertical-align: top;\n",
       "    }\n",
       "\n",
       "    .dataframe thead th {\n",
       "        text-align: right;\n",
       "    }\n",
       "</style>\n",
       "<table border=\"1\" class=\"dataframe\">\n",
       "  <thead>\n",
       "    <tr style=\"text-align: right;\">\n",
       "      <th></th>\n",
       "      <th>Algorithm</th>\n",
       "      <th>MAE</th>\n",
       "      <th>MSE</th>\n",
       "      <th>meanMASE</th>\n",
       "      <th>Forecast Bias</th>\n",
       "    </tr>\n",
       "  </thead>\n",
       "  <tbody>\n",
       "    <tr>\n",
       "      <th>0</th>\n",
       "      <td>simple</td>\n",
       "      <td>0.078124</td>\n",
       "      <td>0.025497</td>\n",
       "      <td>0.923872</td>\n",
       "      <td>-6.079359</td>\n",
       "    </tr>\n",
       "  </tbody>\n",
       "</table>\n",
       "</div>"
      ],
      "text/plain": [
       "  Algorithm       MAE       MSE  meanMASE  Forecast Bias\n",
       "0    simple  0.078124  0.025497  0.923872      -6.079359"
      ]
     },
     "execution_count": 34,
     "metadata": {},
     "output_type": "execute_result"
    }
   ],
   "source": [
    "pd.DataFrame(metric_record)"
   ]
  },
  {
   "cell_type": "markdown",
   "id": "34534674-13b2-4615-9dcc-4f964b7ade37",
   "metadata": {
    "tags": []
   },
   "source": [
    "## Baseline + Time-varying Information\n",
    "\n",
    "Using the history of the time series, static, and time varying features"
   ]
  },
  {
   "cell_type": "code",
   "execution_count": 35,
   "id": "76c27084-ca19-44cc-be36-3087a3c9a510",
   "metadata": {},
   "outputs": [],
   "source": [
    "tag = \"simple+time_varying\""
   ]
  },
  {
   "cell_type": "markdown",
   "id": "7331a570-32a6-459e-8426-c6f958d63658",
   "metadata": {},
   "source": [
    "### Converting data into TimeSeriesDataset from PyTorch Forecasting"
   ]
  },
  {
   "cell_type": "code",
   "execution_count": 36,
   "id": "0b1e23ce-0dff-4fb7-8692-aac753848299",
   "metadata": {},
   "outputs": [],
   "source": [
    "# Defining the training dataset\n",
    "training = TimeSeriesDataSet(\n",
    "    train_df,\n",
    "    time_idx=\"time_idx\",\n",
    "    target=feat_config.target,\n",
    "    group_ids=feat_config.group_ids,\n",
    "    max_encoder_length=max_encoder_length,\n",
    "    max_prediction_length=max_prediction_length,\n",
    "    time_varying_known_reals=feat_config.time_varying_known_reals,\n",
    "    time_varying_unknown_reals=[\n",
    "        \"energy_consumption\",\n",
    "    ],\n",
    "    target_normalizer=GroupNormalizer(\n",
    "        groups=feat_config.group_ids, transformation=None\n",
    "    )\n",
    ")\n",
    "# Defining the validation dataset with the same parameters as training\n",
    "validation = TimeSeriesDataSet.from_dataset(training, pd.concat([val_history,val_df]).reset_index(drop=True), stop_randomization=True)\n",
    "# Defining the test dataset with the same parameters as training\n",
    "test = TimeSeriesDataSet.from_dataset(training, pd.concat([hist_df, test_df]).reset_index(drop=True), stop_randomization=True)"
   ]
  },
  {
   "cell_type": "code",
   "execution_count": 37,
   "id": "ba6e644b-db49-44a3-8365-c3d0e699fd15",
   "metadata": {},
   "outputs": [],
   "source": [
    "# Making the dataloaders\n",
    "# num_workers can be increased in linux to speed-up training\n",
    "train_dataloader = training.to_dataloader(train=True, batch_size=batch_size, num_workers=0)\n",
    "val_dataloader = validation.to_dataloader(train=False, batch_size=batch_size, num_workers=0)"
   ]
  },
  {
   "cell_type": "code",
   "execution_count": 38,
   "id": "120e697f-c302-4a16-a495-270193d5a95e",
   "metadata": {},
   "outputs": [
    {
     "name": "stdout",
     "output_type": "stream",
     "text": [
      "\n",
      "sizes of x =\n",
      "\tencoder_cat = torch.Size([512, 96, 0])\n",
      "\tencoder_cont = torch.Size([512, 96, 2])\n",
      "\tencoder_target = torch.Size([512, 96])\n",
      "\tencoder_lengths = torch.Size([512])\n",
      "\tdecoder_cat = torch.Size([512, 1, 0])\n",
      "\tdecoder_cont = torch.Size([512, 1, 2])\n",
      "\tdecoder_target = torch.Size([512, 1])\n",
      "\tdecoder_lengths = torch.Size([512])\n",
      "\tdecoder_time_idx = torch.Size([512, 1])\n",
      "\tgroups = torch.Size([512, 1])\n",
      "\ttarget_scale = torch.Size([512, 2])\n",
      "\n",
      "size of y =\n",
      "\ty = torch.Size([512, 1])\n"
     ]
    }
   ],
   "source": [
    "# Testing the dataloader\n",
    "x, y = next(iter(train_dataloader))\n",
    "print(\"\\nsizes of x =\")\n",
    "for key, value in x.items():\n",
    "    print(f\"\\t{key} = {value.size()}\")\n",
    "print(\"\\nsize of y =\")\n",
    "print(f\"\\ty = {y[0].size()}\")"
   ]
  },
  {
   "cell_type": "markdown",
   "id": "14139027-de44-4f02-a132-426cec49baff",
   "metadata": {},
   "source": [
    "### Creating the Model\n",
    "\n",
    "We have to make a few tweaks to our previous model to include time-warying information"
   ]
  },
  {
   "cell_type": "markdown",
   "id": "62107afa-6bdf-4a67-8cf1-f9fd3196c3b1",
   "metadata": {
    "tags": []
   },
   "source": [
    "### [Additional] Rolling the input and formatting the input"
   ]
  },
  {
   "cell_type": "code",
   "execution_count": 39,
   "id": "6bba0460-d56b-486a-ab32-d698452d54c5",
   "metadata": {},
   "outputs": [
    {
     "data": {
      "text/plain": [
       "torch.Size([512, 97, 2])"
      ]
     },
     "execution_count": 39,
     "metadata": {},
     "output_type": "execute_result"
    }
   ],
   "source": [
    "# Concatenating the encoder and decoder series\n",
    "x_cont = torch.cat([x[\"encoder_cont\"],x[\"decoder_cont\"]], dim=1)\n",
    "x_cont.shape"
   ]
  },
  {
   "cell_type": "code",
   "execution_count": 40,
   "id": "d7b68fe2-67db-4047-9eae-df729fecfd43",
   "metadata": {
    "tags": []
   },
   "outputs": [
    {
     "data": {
      "text/plain": [
       "tensor([-0.1753,  0.4394, -0.3956, -0.2565, -0.4420, -0.1985, -0.4420, -0.4768,\n",
       "        -0.2449, -0.2797,  0.1843, -0.5232, -0.5232, -0.2681, -0.5000,  0.0219,\n",
       "        -0.0593,  0.0335,  0.1959,  0.4626,  0.1147, -0.5000, -0.3029, -0.5812,\n",
       "        -0.3840, -0.5348, -0.4652,  0.1379, -0.4420,  1.1354,  1.6805,  1.3905,\n",
       "         0.8454,  1.2629,  0.8802,  0.1611,  0.1031,  0.8222,  0.3003,  0.3467,\n",
       "         0.1263,  0.4046,  0.2655,  2.7128,  0.9034,  1.0078,  0.4626,  0.1959,\n",
       "        -0.0709,  0.1727, -0.7320, -0.6044, -0.7668, -0.6856, -0.7204, -0.7668,\n",
       "        -0.5580, -0.8248, -0.2449, -0.4884, -0.7784, -0.6160, -0.8828, -0.4652,\n",
       "        -0.1057, -0.3261, -0.1521,  0.5670,  0.1843, -0.5928, -0.8132, -0.6508,\n",
       "         0.4162, -0.6160, -0.8016, -0.2449, -0.6624, -0.5928, -0.3377, -0.8944,\n",
       "        -0.8712, -0.6740, -0.6508,  1.1933,  2.1676,  1.6109,  1.0194,  0.5670,\n",
       "         0.8222,  0.6830,  1.7501,  2.4112,  1.3789,  0.7062,  0.4394,  0.0915,\n",
       "         0.3119])"
      ]
     },
     "execution_count": 40,
     "metadata": {},
     "output_type": "execute_result"
    }
   ],
   "source": [
    "# Let's see what the first batch target is\n",
    "x_cont[0,:,-1]"
   ]
  },
  {
   "cell_type": "code",
   "execution_count": 41,
   "id": "50a6739d-fbd9-4866-ba34-c2327558df37",
   "metadata": {},
   "outputs": [],
   "source": [
    "# Rolling the target by one step\n",
    "x_cont[:,:,-1] = torch.roll(x_cont[:,:,-1], 1, dims=1)"
   ]
  },
  {
   "cell_type": "code",
   "execution_count": 42,
   "id": "49d22d59-151f-4020-ab9a-a9deae6849bd",
   "metadata": {},
   "outputs": [
    {
     "data": {
      "text/plain": [
       "tensor([ 0.3119, -0.1753,  0.4394, -0.3956, -0.2565, -0.4420, -0.1985, -0.4420,\n",
       "        -0.4768, -0.2449, -0.2797,  0.1843, -0.5232, -0.5232, -0.2681, -0.5000,\n",
       "         0.0219, -0.0593,  0.0335,  0.1959,  0.4626,  0.1147, -0.5000, -0.3029,\n",
       "        -0.5812, -0.3840, -0.5348, -0.4652,  0.1379, -0.4420,  1.1354,  1.6805,\n",
       "         1.3905,  0.8454,  1.2629,  0.8802,  0.1611,  0.1031,  0.8222,  0.3003,\n",
       "         0.3467,  0.1263,  0.4046,  0.2655,  2.7128,  0.9034,  1.0078,  0.4626,\n",
       "         0.1959, -0.0709,  0.1727, -0.7320, -0.6044, -0.7668, -0.6856, -0.7204,\n",
       "        -0.7668, -0.5580, -0.8248, -0.2449, -0.4884, -0.7784, -0.6160, -0.8828,\n",
       "        -0.4652, -0.1057, -0.3261, -0.1521,  0.5670,  0.1843, -0.5928, -0.8132,\n",
       "        -0.6508,  0.4162, -0.6160, -0.8016, -0.2449, -0.6624, -0.5928, -0.3377,\n",
       "        -0.8944, -0.8712, -0.6740, -0.6508,  1.1933,  2.1676,  1.6109,  1.0194,\n",
       "         0.5670,  0.8222,  0.6830,  1.7501,  2.4112,  1.3789,  0.7062,  0.4394,\n",
       "         0.0915])"
      ]
     },
     "execution_count": 42,
     "metadata": {},
     "output_type": "execute_result"
    }
   ],
   "source": [
    "# Let's see the first batch target again.\n",
    "x_cont[0,:,-1]\n",
    "# We can see that it has shifted to the right by one step"
   ]
  },
  {
   "cell_type": "code",
   "execution_count": 43,
   "id": "64f72572-a867-4d24-b5d3-494b09e3c178",
   "metadata": {},
   "outputs": [
    {
     "data": {
      "text/plain": [
       "torch.Size([512, 97, 2])"
      ]
     },
     "execution_count": 43,
     "metadata": {},
     "output_type": "execute_result"
    }
   ],
   "source": [
    "x_cont.shape"
   ]
  },
  {
   "cell_type": "code",
   "execution_count": 44,
   "id": "5fc63d02-cefe-4d0a-b944-aa7128b0ae04",
   "metadata": {},
   "outputs": [
    {
     "data": {
      "text/plain": [
       "torch.Size([96, 2])"
      ]
     },
     "execution_count": 44,
     "metadata": {},
     "output_type": "execute_result"
    }
   ],
   "source": [
    "# Dropping the first timestep\n",
    "x_cont[0,1:,:].shape"
   ]
  },
  {
   "cell_type": "markdown",
   "id": "5d4f81a2-dc1d-455e-a1d2-7978dbe024b5",
   "metadata": {},
   "source": [
    "### Defining the Forward function"
   ]
  },
  {
   "cell_type": "code",
   "execution_count": 45,
   "id": "d0b8ffb6-3a94-4746-92f4-a2003d1b9c41",
   "metadata": {},
   "outputs": [],
   "source": [
    "from typing import Dict\n",
    "\n",
    "class DynamicFeatureRNNModel(SingleStepRNN):\n",
    "    def __init__(\n",
    "        self,\n",
    "        rnn_type: str,\n",
    "        input_size: int,\n",
    "        hidden_size: int,\n",
    "        num_layers: int,\n",
    "        bidirectional: bool,\n",
    "    ):\n",
    "        super().__init__(rnn_type, input_size, hidden_size, num_layers, bidirectional)\n",
    "\n",
    "    def forward(self, x: Dict):\n",
    "        # Using the encoder and decoder sequence (explanation in the book)\n",
    "        x_cont = torch.cat([x[\"encoder_cont\"],x[\"decoder_cont\"]], dim=1)\n",
    "        # Roll target by 1 (explanation in the book)\n",
    "        x_cont[:,:,-1] = torch.roll(x_cont[:,:,-1], 1, dims=1)\n",
    "        x = x_cont\n",
    "        # dropping first timestep (explanation in the book)\n",
    "        x = x[:,1:,:] # x --> (batch_size, seq_len, input_size)\n",
    "        # Processing through the RNN\n",
    "        x, _ = self.rnn(x)  # --> (batch_size, seq_len, hidden_size)\n",
    "        # Using a FC layer on last hidden state\n",
    "        x = self.fc(x[:,-1,:])  # --> (batch_size, seq_len, 1)\n",
    "        return x"
   ]
  },
  {
   "cell_type": "code",
   "execution_count": 46,
   "id": "70bccae1-709e-4c27-a023-397da6da44ce",
   "metadata": {},
   "outputs": [],
   "source": [
    "model_params = dict(\n",
    "    rnn_type=\"LSTM\",\n",
    "    input_size=len(training.reals),\n",
    "    hidden_size=256, #128\n",
    "    num_layers=2,\n",
    "    bidirectional=False,\n",
    ")\n",
    "\n",
    "other_params = dict(\n",
    "    learning_rate=5e-5,\n",
    "    optimizer=\"adam\",\n",
    "    loss=RMSE(),\n",
    "    logging_metrics=[RMSE(), MAE()],\n",
    ")"
   ]
  },
  {
   "cell_type": "code",
   "execution_count": 47,
   "id": "0d03ac7c-ae2d-4a67-b9fa-c7bf036755be",
   "metadata": {
    "tags": []
   },
   "outputs": [
    {
     "name": "stderr",
     "output_type": "stream",
     "text": [
      "c:\\Users\\tacke\\anaconda3\\envs\\modern_ts_2E_new\\Lib\\site-packages\\pytorch_lightning\\utilities\\parsing.py:198: Attribute 'loss' is an instance of `nn.Module` and is already saved during checkpointing. It is recommended to ignore them using `self.save_hyperparameters(ignore=['loss'])`.\n"
     ]
    },
    {
     "data": {
      "text/plain": [
       "(pytorch_forecasting.utils.TupleOutputMixIn.to_network_output.<locals>.Output,\n",
       " torch.Size([512, 1]))"
      ]
     },
     "execution_count": 47,
     "metadata": {},
     "output_type": "execute_result"
    }
   ],
   "source": [
    "model = SingleStepRNNModel.from_dataset(\n",
    "    training,\n",
    "    network_callable=DynamicFeatureRNNModel,\n",
    "    model_params = model_params,\n",
    "    **other_params\n",
    ")\n",
    "#Testing out the model\n",
    "x, y = next(iter(train_dataloader))\n",
    "_ = model(x)\n",
    "type(_), _.prediction.shape"
   ]
  },
  {
   "cell_type": "markdown",
   "id": "792bb3dc-0b8f-496d-b4ba-9b8ecf9f5a42",
   "metadata": {},
   "source": [
    "### Training the model"
   ]
  },
  {
   "cell_type": "code",
   "execution_count": 48,
   "id": "c4160668-eacb-498d-9d4d-273d1bc08f98",
   "metadata": {},
   "outputs": [],
   "source": [
    "saved_model_sampled = 'notebooks/Chapter14/saved_weights/baseline_time_varying_sampled.wt'\n",
    "saved_model_full = 'notebooks/Chapter14/saved_weights/baseline_time_varying.wt'"
   ]
  },
  {
   "cell_type": "markdown",
   "id": "92db02a8",
   "metadata": {},
   "source": [
    "#### Warning - Next block can take mant hours"
   ]
  },
  {
   "cell_type": "code",
   "execution_count": 49,
   "id": "6a070ffc-7602-4f6b-8ca8-401e8e424bd1",
   "metadata": {},
   "outputs": [
    {
     "name": "stderr",
     "output_type": "stream",
     "text": [
      "GPU available: False, used: False\n",
      "TPU available: False, using: 0 TPU cores\n",
      "IPU available: False, using: 0 IPUs\n",
      "HPU available: False, using: 0 HPUs\n",
      "`Trainer(val_check_interval=1.0)` was configured so validation will run at the end of the training epoch..\n",
      "\n",
      "  | Name            | Type                   | Params\n",
      "-----------------------------------------------------------\n",
      "0 | loss            | RMSE                   | 0     \n",
      "1 | logging_metrics | ModuleList             | 0     \n",
      "2 | network         | DynamicFeatureRNNModel | 792 K \n",
      "-----------------------------------------------------------\n",
      "792 K     Trainable params\n",
      "0         Non-trainable params\n",
      "792 K     Total params\n",
      "3.171     Total estimated model params size (MB)\n"
     ]
    },
    {
     "data": {
      "application/vnd.jupyter.widget-view+json": {
       "model_id": "e32b571325b54d76b973d5b0740447f0",
       "version_major": 2,
       "version_minor": 0
      },
      "text/plain": [
       "Sanity Checking: |          | 0/? [00:00<?, ?it/s]"
      ]
     },
     "metadata": {},
     "output_type": "display_data"
    },
    {
     "name": "stderr",
     "output_type": "stream",
     "text": [
      "c:\\Users\\tacke\\anaconda3\\envs\\modern_ts_2E_new\\Lib\\site-packages\\pytorch_lightning\\trainer\\connectors\\data_connector.py:441: The 'val_dataloader' does not have many workers which may be a bottleneck. Consider increasing the value of the `num_workers` argument` to `num_workers=7` in the `DataLoader` to improve performance.\n",
      "c:\\Users\\tacke\\anaconda3\\envs\\modern_ts_2E_new\\Lib\\site-packages\\pytorch_lightning\\trainer\\connectors\\data_connector.py:441: The 'train_dataloader' does not have many workers which may be a bottleneck. Consider increasing the value of the `num_workers` argument` to `num_workers=7` in the `DataLoader` to improve performance.\n"
     ]
    },
    {
     "data": {
      "application/vnd.jupyter.widget-view+json": {
       "model_id": "65a65d108f3346be8e9717505ef47cf8",
       "version_major": 2,
       "version_minor": 0
      },
      "text/plain": [
       "Training: |          | 0/? [00:00<?, ?it/s]"
      ]
     },
     "metadata": {},
     "output_type": "display_data"
    },
    {
     "data": {
      "application/vnd.jupyter.widget-view+json": {
       "model_id": "39243ba5fdae4971b98f24b4e64297da",
       "version_major": 2,
       "version_minor": 0
      },
      "text/plain": [
       "Validation: |          | 0/? [00:00<?, ?it/s]"
      ]
     },
     "metadata": {},
     "output_type": "display_data"
    },
    {
     "data": {
      "application/vnd.jupyter.widget-view+json": {
       "model_id": "752a3f33e38e49fab33685ab7fcbe55c",
       "version_major": 2,
       "version_minor": 0
      },
      "text/plain": [
       "Validation: |          | 0/? [00:00<?, ?it/s]"
      ]
     },
     "metadata": {},
     "output_type": "display_data"
    },
    {
     "data": {
      "application/vnd.jupyter.widget-view+json": {
       "model_id": "4acd6435288f41f48edeceefe513b23b",
       "version_major": 2,
       "version_minor": 0
      },
      "text/plain": [
       "Validation: |          | 0/? [00:00<?, ?it/s]"
      ]
     },
     "metadata": {},
     "output_type": "display_data"
    },
    {
     "data": {
      "application/vnd.jupyter.widget-view+json": {
       "model_id": "b079e21926ba47c2a39cba81c5254f09",
       "version_major": 2,
       "version_minor": 0
      },
      "text/plain": [
       "Validation: |          | 0/? [00:00<?, ?it/s]"
      ]
     },
     "metadata": {},
     "output_type": "display_data"
    },
    {
     "data": {
      "application/vnd.jupyter.widget-view+json": {
       "model_id": "2d69ddf3285f4610acb712b312830df7",
       "version_major": 2,
       "version_minor": 0
      },
      "text/plain": [
       "Validation: |          | 0/? [00:00<?, ?it/s]"
      ]
     },
     "metadata": {},
     "output_type": "display_data"
    },
    {
     "data": {
      "application/vnd.jupyter.widget-view+json": {
       "model_id": "5fefac7b1dcd47d6927e49a3a8d0e4bf",
       "version_major": 2,
       "version_minor": 0
      },
      "text/plain": [
       "Validation: |          | 0/? [00:00<?, ?it/s]"
      ]
     },
     "metadata": {},
     "output_type": "display_data"
    },
    {
     "data": {
      "application/vnd.jupyter.widget-view+json": {
       "model_id": "b562d89572e8474fb71d9ab598cfacf0",
       "version_major": 2,
       "version_minor": 0
      },
      "text/plain": [
       "Validation: |          | 0/? [00:00<?, ?it/s]"
      ]
     },
     "metadata": {},
     "output_type": "display_data"
    },
    {
     "data": {
      "application/vnd.jupyter.widget-view+json": {
       "model_id": "3b4fd7c176344a59b5f5d1aaee60806c",
       "version_major": 2,
       "version_minor": 0
      },
      "text/plain": [
       "Validation: |          | 0/? [00:00<?, ?it/s]"
      ]
     },
     "metadata": {},
     "output_type": "display_data"
    },
    {
     "data": {
      "application/vnd.jupyter.widget-view+json": {
       "model_id": "aa45da1e38be4addb12b526a7f88f281",
       "version_major": 2,
       "version_minor": 0
      },
      "text/plain": [
       "Validation: |          | 0/? [00:00<?, ?it/s]"
      ]
     },
     "metadata": {},
     "output_type": "display_data"
    },
    {
     "data": {
      "application/vnd.jupyter.widget-view+json": {
       "model_id": "25219d1766bc4e4f9738d7eb0ad428d4",
       "version_major": 2,
       "version_minor": 0
      },
      "text/plain": [
       "Validation: |          | 0/? [00:00<?, ?it/s]"
      ]
     },
     "metadata": {},
     "output_type": "display_data"
    },
    {
     "data": {
      "application/vnd.jupyter.widget-view+json": {
       "model_id": "7d0b3b4c724a4552bb17c0a85937a484",
       "version_major": 2,
       "version_minor": 0
      },
      "text/plain": [
       "Validation: |          | 0/? [00:00<?, ?it/s]"
      ]
     },
     "metadata": {},
     "output_type": "display_data"
    },
    {
     "data": {
      "application/vnd.jupyter.widget-view+json": {
       "model_id": "dfabc19ad40e4affb5ef8644adffed68",
       "version_major": 2,
       "version_minor": 0
      },
      "text/plain": [
       "Validation: |          | 0/? [00:00<?, ?it/s]"
      ]
     },
     "metadata": {},
     "output_type": "display_data"
    },
    {
     "data": {
      "application/vnd.jupyter.widget-view+json": {
       "model_id": "7788205b93b84789b3b8820e9794ed13",
       "version_major": 2,
       "version_minor": 0
      },
      "text/plain": [
       "Validation: |          | 0/? [00:00<?, ?it/s]"
      ]
     },
     "metadata": {},
     "output_type": "display_data"
    },
    {
     "data": {
      "application/vnd.jupyter.widget-view+json": {
       "model_id": "495df38a99194de58b62df48780f366d",
       "version_major": 2,
       "version_minor": 0
      },
      "text/plain": [
       "Validation: |          | 0/? [00:00<?, ?it/s]"
      ]
     },
     "metadata": {},
     "output_type": "display_data"
    },
    {
     "name": "stdout",
     "output_type": "stream",
     "text": [
      "Loading the best model from: c:\\Users\\tacke\\OneDrive\\Documents\\GitHub\\Modern-Time-Series-Forecasting-with-Python-2E-1\\lightning_logs\\version_4\\checkpoints\\epoch=10-step=6369.ckpt\n"
     ]
    },
    {
     "name": "stderr",
     "output_type": "stream",
     "text": [
      "c:\\Users\\tacke\\anaconda3\\envs\\modern_ts_2E_new\\Lib\\site-packages\\pytorch_lightning\\utilities\\parsing.py:198: Attribute 'loss' is an instance of `nn.Module` and is already saved during checkpointing. It is recommended to ignore them using `self.save_hyperparameters(ignore=['loss'])`.\n"
     ]
    }
   ],
   "source": [
    "if train_model:\n",
    "    trainer = pl.Trainer(\n",
    "        accelerator=\"auto\",\n",
    "        min_epochs=1,\n",
    "        max_epochs=20,\n",
    "        callbacks=[\n",
    "            pl.callbacks.EarlyStopping(monitor=\"val_loss\", patience=3 if TRAIN_SUBSAMPLE else 4*3),\n",
    "            pl.callbacks.ModelCheckpoint(\n",
    "                monitor=\"val_loss\", save_last=True, mode=\"min\", auto_insert_metric_name=True\n",
    "            ),\n",
    "        ],\n",
    "        val_check_interval=1.0 if TRAIN_SUBSAMPLE else 2000,\n",
    "        log_every_n_steps=50 if TRAIN_SUBSAMPLE else 2000,\n",
    "        # fast_dev_run=True\n",
    "        # precision = 16\n",
    "    )\n",
    "    trainer.fit(\n",
    "        model,\n",
    "        train_dataloaders=train_dataloader,\n",
    "        val_dataloaders=val_dataloader,\n",
    "    )\n",
    "    #Loading the best model\n",
    "    best_model_path = trainer.checkpoint_callback.best_model_path\n",
    "    best_model = SingleStepRNNModel.load_from_checkpoint(best_model_path)\n",
    "    print(f\"Loading the best model from: {best_model_path}\")\n",
    "    shutil.copy(best_model_path, saved_model_sampled if TRAIN_SUBSAMPLE else saved_model_full)\n",
    "else:\n",
    "    best_model_path = saved_model_sampled if TRAIN_SUBSAMPLE else saved_model_full\n",
    "    load_weights(model, best_model_path)\n",
    "    best_model =  model\n",
    "    print (\"Skipping Training and loading the model from {best_model_path}\")"
   ]
  },
  {
   "cell_type": "code",
   "execution_count": 50,
   "id": "3e5ff883-6ff1-434d-a62b-cab1ec5a997c",
   "metadata": {},
   "outputs": [
    {
     "name": "stderr",
     "output_type": "stream",
     "text": [
      "c:\\Users\\tacke\\anaconda3\\envs\\modern_ts_2E_new\\Lib\\site-packages\\pytorch_lightning\\trainer\\connectors\\data_connector.py:441: The 'predict_dataloader' does not have many workers which may be a bottleneck. Consider increasing the value of the `num_workers` argument` to `num_workers=7` in the `DataLoader` to improve performance.\n"
     ]
    },
    {
     "data": {
      "application/vnd.jupyter.widget-view+json": {
       "model_id": "7f16cd19ddfc49418e16af0a50c224e5",
       "version_major": 2,
       "version_minor": 0
      },
      "text/plain": [
       "Predicting: |          | 0/? [00:00<?, ?it/s]"
      ]
     },
     "metadata": {},
     "output_type": "display_data"
    },
    {
     "data": {
      "application/vnd.jupyter.widget-view+json": {
       "model_id": "38ee727389ba4acca2d8f5aef37f1cf5",
       "version_major": 2,
       "version_minor": 0
      },
      "text/plain": [
       "Calculating metrics...:   0%|          | 0/10 [00:00<?, ?it/s]"
      ]
     },
     "metadata": {},
     "output_type": "display_data"
    }
   ],
   "source": [
    "# Predicting on the test dataset and storing in a df\n",
    "pred_output = best_model.predict(test, return_index=True, trainer_kwargs=dict(enable_progress_bar=True))\n",
    "pred, index = pred_output.output.cpu().numpy(), pred_output.index\n",
    "index[tag] = pred\n",
    "pred_df = pred_df.reset_index().merge(index, on=[\"time_idx\",\"LCLid\"], how='left').set_index(feat_config.index_cols)\n",
    "# Evaluating the forecast\n",
    "agg_metrics, eval_metrics_df = evaluate_forecast(\n",
    "    pred_df = pred_df,\n",
    "    train_data = full_df,\n",
    "    fc_column=tag,\n",
    "    name=tag,\n",
    ")\n",
    "metric_record.append(agg_metrics)\n",
    "individual_metrics[tag]=eval_metrics_df"
   ]
  },
  {
   "cell_type": "code",
   "execution_count": 51,
   "id": "a78c6368-0b28-46bd-b58c-7c028f08e974",
   "metadata": {},
   "outputs": [
    {
     "data": {
      "text/html": [
       "<style type=\"text/css\">\n",
       "#T_e57ce_row0_col1, #T_e57ce_row0_col3, #T_e57ce_row1_col2 {\n",
       "  background-color: lightgreen;\n",
       "}\n",
       "#T_e57ce_row1_col4 {\n",
       "  color: black;\n",
       "  background-color: lightgreen;\n",
       "}\n",
       "</style>\n",
       "<table id=\"T_e57ce\">\n",
       "  <thead>\n",
       "    <tr>\n",
       "      <th class=\"blank level0\" >&nbsp;</th>\n",
       "      <th id=\"T_e57ce_level0_col0\" class=\"col_heading level0 col0\" >Algorithm</th>\n",
       "      <th id=\"T_e57ce_level0_col1\" class=\"col_heading level0 col1\" >MAE</th>\n",
       "      <th id=\"T_e57ce_level0_col2\" class=\"col_heading level0 col2\" >MSE</th>\n",
       "      <th id=\"T_e57ce_level0_col3\" class=\"col_heading level0 col3\" >meanMASE</th>\n",
       "      <th id=\"T_e57ce_level0_col4\" class=\"col_heading level0 col4\" >Forecast Bias</th>\n",
       "    </tr>\n",
       "  </thead>\n",
       "  <tbody>\n",
       "    <tr>\n",
       "      <th id=\"T_e57ce_level0_row0\" class=\"row_heading level0 row0\" >0</th>\n",
       "      <td id=\"T_e57ce_row0_col0\" class=\"data row0 col0\" >simple</td>\n",
       "      <td id=\"T_e57ce_row0_col1\" class=\"data row0 col1\" >0.0781</td>\n",
       "      <td id=\"T_e57ce_row0_col2\" class=\"data row0 col2\" >0.0255</td>\n",
       "      <td id=\"T_e57ce_row0_col3\" class=\"data row0 col3\" >0.9239</td>\n",
       "      <td id=\"T_e57ce_row0_col4\" class=\"data row0 col4\" >-6.08%</td>\n",
       "    </tr>\n",
       "    <tr>\n",
       "      <th id=\"T_e57ce_level0_row1\" class=\"row_heading level0 row1\" >1</th>\n",
       "      <td id=\"T_e57ce_row1_col0\" class=\"data row1 col0\" >simple+time_varying</td>\n",
       "      <td id=\"T_e57ce_row1_col1\" class=\"data row1 col1\" >0.0802</td>\n",
       "      <td id=\"T_e57ce_row1_col2\" class=\"data row1 col2\" >0.0242</td>\n",
       "      <td id=\"T_e57ce_row1_col3\" class=\"data row1 col3\" >0.9492</td>\n",
       "      <td id=\"T_e57ce_row1_col4\" class=\"data row1 col4\" >0.01%</td>\n",
       "    </tr>\n",
       "  </tbody>\n",
       "</table>\n"
      ],
      "text/plain": [
       "<pandas.io.formats.style.Styler at 0x2748c20acd0>"
      ]
     },
     "execution_count": 51,
     "metadata": {},
     "output_type": "execute_result"
    }
   ],
   "source": [
    "pd.DataFrame(metric_record).style.format(\n",
    "    {\"MAE\": \"{:.4f}\", \"MSE\": \"{:.4f}\", \"meanMASE\": \"{:.4f}\", \"Forecast Bias\": \"{:.2f}%\"}\n",
    ").highlight_min(color=\"lightgreen\", subset=[\"MAE\", \"MSE\", \"meanMASE\"]).apply(\n",
    "    highlight_abs_min,\n",
    "    props=\"color:black;background-color:lightgreen\",\n",
    "    axis=0,\n",
    "    subset=[\"Forecast Bias\"],\n",
    ")"
   ]
  },
  {
   "cell_type": "markdown",
   "id": "51d8fbc1-caae-40da-b116-9eda031b4c15",
   "metadata": {
    "tags": []
   },
   "source": [
    "## Baseline + Static + Time-varying Information\n",
    "\n",
    "Using the history of the time series, static, and time varying features"
   ]
  },
  {
   "cell_type": "code",
   "execution_count": 52,
   "id": "e101f258-5409-4285-8b07-534b0153ef05",
   "metadata": {},
   "outputs": [],
   "source": [
    "tag = \"simple+static+time_varying\""
   ]
  },
  {
   "cell_type": "markdown",
   "id": "2f3150b0-168c-4cc2-8535-ec4b43df3784",
   "metadata": {},
   "source": [
    "### Converting data into TimeSeriesDataset from PyTorch Forecasting"
   ]
  },
  {
   "cell_type": "code",
   "execution_count": 53,
   "id": "fbdc7fd0-2f8b-40c9-ab1c-c8a0de7b92bd",
   "metadata": {},
   "outputs": [],
   "source": [
    "# Defining the training dataset\n",
    "training = TimeSeriesDataSet(\n",
    "    train_df,\n",
    "    time_idx=\"time_idx\",\n",
    "    target=feat_config.target,\n",
    "    group_ids=feat_config.group_ids,\n",
    "    max_encoder_length=max_encoder_length,\n",
    "    max_prediction_length=max_prediction_length,\n",
    "    static_categoricals=feat_config.static_categoricals,\n",
    "    static_reals=feat_config.static_reals,\n",
    "    time_varying_known_categoricals=feat_config.time_varying_known_categoricals,\n",
    "    time_varying_known_reals=feat_config.time_varying_known_reals,\n",
    "    time_varying_unknown_reals=[\n",
    "        \"energy_consumption\",\n",
    "    ],\n",
    "    target_normalizer=GroupNormalizer(\n",
    "        groups=feat_config.group_ids, transformation=None\n",
    "    )\n",
    ")\n",
    "# Defining the validation dataset with the same parameters as training\n",
    "validation = TimeSeriesDataSet.from_dataset(training, pd.concat([val_history,val_df]).reset_index(drop=True), stop_randomization=True)\n",
    "# Defining the test dataset with the same parameters as training\n",
    "test = TimeSeriesDataSet.from_dataset(training, pd.concat([hist_df, test_df]).reset_index(drop=True), stop_randomization=True)"
   ]
  },
  {
   "cell_type": "code",
   "execution_count": 54,
   "id": "8e87969c-e4f9-4038-b6b1-9b33b8d6860b",
   "metadata": {},
   "outputs": [],
   "source": [
    "# Making the dataloaders\n",
    "# num_workers can be increased in linux to speed-up training\n",
    "train_dataloader = training.to_dataloader(train=True, batch_size=batch_size, num_workers=0)\n",
    "val_dataloader = validation.to_dataloader(train=False, batch_size=batch_size, num_workers=0)"
   ]
  },
  {
   "cell_type": "code",
   "execution_count": 55,
   "id": "ce688604-1f50-46e4-8367-6227ad205cf6",
   "metadata": {},
   "outputs": [
    {
     "name": "stdout",
     "output_type": "stream",
     "text": [
      "\n",
      "sizes of x =\n",
      "\tencoder_cat = torch.Size([512, 96, 7])\n",
      "\tencoder_cont = torch.Size([512, 96, 2])\n",
      "\tencoder_target = torch.Size([512, 96])\n",
      "\tencoder_lengths = torch.Size([512])\n",
      "\tdecoder_cat = torch.Size([512, 1, 7])\n",
      "\tdecoder_cont = torch.Size([512, 1, 2])\n",
      "\tdecoder_target = torch.Size([512, 1])\n",
      "\tdecoder_lengths = torch.Size([512])\n",
      "\tdecoder_time_idx = torch.Size([512, 1])\n",
      "\tgroups = torch.Size([512, 1])\n",
      "\ttarget_scale = torch.Size([512, 2])\n",
      "\n",
      "size of y =\n",
      "\ty = torch.Size([512, 1])\n"
     ]
    }
   ],
   "source": [
    "# Testing the dataloader\n",
    "x, y = next(iter(train_dataloader))\n",
    "print(\"\\nsizes of x =\")\n",
    "for key, value in x.items():\n",
    "    print(f\"\\t{key} = {value.size()}\")\n",
    "print(\"\\nsize of y =\")\n",
    "print(f\"\\ty = {y[0].size()}\")"
   ]
  },
  {
   "cell_type": "markdown",
   "id": "f7bd6788-9edf-4ffc-a873-b4b2b32f8af2",
   "metadata": {},
   "source": [
    "### Creating the Model\n",
    "\n",
    "We need to make some more tweaks to include static variables"
   ]
  },
  {
   "cell_type": "markdown",
   "id": "25840565-60e1-40e3-814a-527b16da6a94",
   "metadata": {},
   "source": [
    "### Defining the Forward function"
   ]
  },
  {
   "cell_type": "markdown",
   "id": "4b2d0d67-15e7-492a-b88d-e5b34ca9fdbb",
   "metadata": {},
   "source": [
    "#### Defining the embedding sizes for each categorical variable"
   ]
  },
  {
   "cell_type": "code",
   "execution_count": 56,
   "id": "9cc19169-1fb9-499e-8b51-aa66f0f158c8",
   "metadata": {},
   "outputs": [],
   "source": [
    "# Using a thumbrule to calculate the embedding sizes\n",
    "# Finding the cardinality using the categorical encoders in the dataset\n",
    "cardinality = [len(training.categorical_encoders[c].classes_) for c in training.categoricals]\n",
    "# using the cardinality list to create embedding sizes\n",
    "embedding_sizes = [\n",
    "    (x, min(50, (x + 1) // 2))\n",
    "    for x in cardinality\n",
    "]"
   ]
  },
  {
   "cell_type": "code",
   "execution_count": 57,
   "id": "d579ce6d-b98e-4ef4-b18b-1f6387aef51e",
   "metadata": {},
   "outputs": [],
   "source": [
    "from typing import Dict\n",
    "\n",
    "class StaticDynamicFeatureRNNModel(SingleStepRNN):\n",
    "    def __init__(\n",
    "        self,\n",
    "        rnn_type: str,\n",
    "        input_size: int,\n",
    "        hidden_size: int,\n",
    "        num_layers: int,\n",
    "        bidirectional: bool,\n",
    "        embedding_sizes = []\n",
    "    ):\n",
    "        super().__init__(rnn_type, input_size, hidden_size, num_layers, bidirectional)\n",
    "        self.embeddings = torch.nn.ModuleList(\n",
    "            [torch.nn.Embedding(card, size) for card, size in embedding_sizes]\n",
    "        )\n",
    "\n",
    "    def forward(self, x: Dict):\n",
    "        # Using the encoder and decoder sequence (explanation in the book)\n",
    "        x_cont = torch.cat([x[\"encoder_cont\"],x[\"decoder_cont\"]], dim=1)\n",
    "        # Roll target by 1 (explanation in the book)\n",
    "        x_cont[:,:,-1] = torch.roll(x_cont[:,:,-1], 1, dims=1)\n",
    "        # Combine the encoder and decoder categoricals (explanation in the book)\n",
    "        cat = torch.cat([x[\"encoder_cat\"],x[\"decoder_cat\"]], dim=1)\n",
    "        # if there are categorical features\n",
    "        if cat.size(-1)>0:\n",
    "            # concatenating all the embedding vectors\n",
    "            x_cat = torch.cat([emb(cat[:,:,i]) for i, emb in enumerate(self.embeddings)], dim=-1)\n",
    "            # concatenating continuous and categorical\n",
    "            x = torch.cat([x_cont, x_cat], dim=-1)\n",
    "        else:\n",
    "            x = x_cont\n",
    "        # dropping first timestep (explanation in the book)\n",
    "        x = x[:,1:,:] # x --> (batch_size, seq_len, input_size)\n",
    "        # Processing through the RNN\n",
    "        x, _ = self.rnn(x)  # --> (batch_size, seq_len, hidden_size)\n",
    "        # Using a FC layer on last hidden state\n",
    "        x = self.fc(x[:,-1,:])  # --> (batch_size, seq_len, 1)\n",
    "        return x"
   ]
  },
  {
   "cell_type": "code",
   "execution_count": 58,
   "id": "4bbe1cfe-f945-4738-930a-0f9132e2df19",
   "metadata": {},
   "outputs": [],
   "source": [
    "model_params = dict(\n",
    "    rnn_type=\"LSTM\",\n",
    "    input_size=len(training.reals)+sum([s for _, s in embedding_sizes]),\n",
    "    hidden_size=256, #128\n",
    "    num_layers=2,\n",
    "    bidirectional=False,\n",
    "    embedding_sizes=embedding_sizes,\n",
    ")\n",
    "\n",
    "other_params = dict(\n",
    "    learning_rate=5e-5,\n",
    "    optimizer=\"adam\",\n",
    "    loss=RMSE(),\n",
    "    logging_metrics=[RMSE(), MAE()],\n",
    ")"
   ]
  },
  {
   "cell_type": "code",
   "execution_count": 59,
   "id": "de4531f8-5017-4aca-986d-4d258b7312f6",
   "metadata": {
    "tags": []
   },
   "outputs": [
    {
     "name": "stderr",
     "output_type": "stream",
     "text": [
      "c:\\Users\\tacke\\anaconda3\\envs\\modern_ts_2E_new\\Lib\\site-packages\\pytorch_lightning\\utilities\\parsing.py:198: Attribute 'loss' is an instance of `nn.Module` and is already saved during checkpointing. It is recommended to ignore them using `self.save_hyperparameters(ignore=['loss'])`.\n"
     ]
    },
    {
     "data": {
      "text/plain": [
       "(pytorch_forecasting.utils.TupleOutputMixIn.to_network_output.<locals>.Output,\n",
       " torch.Size([512, 1]))"
      ]
     },
     "execution_count": 59,
     "metadata": {},
     "output_type": "execute_result"
    }
   ],
   "source": [
    "model = SingleStepRNNModel.from_dataset(\n",
    "    training,\n",
    "    network_callable=StaticDynamicFeatureRNNModel,\n",
    "    model_params = model_params,\n",
    "    **other_params\n",
    ")\n",
    "#Testing out the model\n",
    "x, y = next(iter(train_dataloader))\n",
    "_ = model(x)\n",
    "type(_), _.prediction.shape"
   ]
  },
  {
   "cell_type": "markdown",
   "id": "30b57682-9c60-4f4d-b4ee-05b879959fb7",
   "metadata": {},
   "source": [
    "### Training the model"
   ]
  },
  {
   "cell_type": "code",
   "execution_count": 60,
   "id": "15809483-3c8b-4827-91df-9c4e80ecc7f3",
   "metadata": {},
   "outputs": [],
   "source": [
    "saved_model_sampled = 'notebooks/Chapter14/saved_weights/baseline_time_varying_static_sampled.wt'\n",
    "saved_model_full = 'notebooks/Chapter14/saved_weights/baseline_time_varying_static.wt'"
   ]
  },
  {
   "cell_type": "markdown",
   "id": "0dec4e75",
   "metadata": {},
   "source": [
    "#### Warning - next block can take a few hours."
   ]
  },
  {
   "cell_type": "code",
   "execution_count": 61,
   "id": "67a60b9f-f4bc-4566-bf00-6ee18af40cb8",
   "metadata": {},
   "outputs": [
    {
     "name": "stderr",
     "output_type": "stream",
     "text": [
      "GPU available: False, used: False\n",
      "TPU available: False, using: 0 TPU cores\n",
      "IPU available: False, using: 0 IPUs\n",
      "HPU available: False, using: 0 HPUs\n",
      "`Trainer(val_check_interval=1.0)` was configured so validation will run at the end of the training epoch..\n",
      "\n",
      "  | Name            | Type                         | Params\n",
      "-----------------------------------------------------------------\n",
      "0 | loss            | RMSE                         | 0     \n",
      "1 | logging_metrics | ModuleList                   | 0     \n",
      "2 | network         | StaticDynamicFeatureRNNModel | 819 K \n",
      "-----------------------------------------------------------------\n",
      "819 K     Trainable params\n",
      "0         Non-trainable params\n",
      "819 K     Total params\n",
      "3.279     Total estimated model params size (MB)\n"
     ]
    },
    {
     "data": {
      "application/vnd.jupyter.widget-view+json": {
       "model_id": "3de5dde93a2a49a2a486f5759e3d1764",
       "version_major": 2,
       "version_minor": 0
      },
      "text/plain": [
       "Sanity Checking: |          | 0/? [00:00<?, ?it/s]"
      ]
     },
     "metadata": {},
     "output_type": "display_data"
    },
    {
     "name": "stderr",
     "output_type": "stream",
     "text": [
      "c:\\Users\\tacke\\anaconda3\\envs\\modern_ts_2E_new\\Lib\\site-packages\\pytorch_lightning\\trainer\\connectors\\data_connector.py:441: The 'val_dataloader' does not have many workers which may be a bottleneck. Consider increasing the value of the `num_workers` argument` to `num_workers=7` in the `DataLoader` to improve performance.\n",
      "c:\\Users\\tacke\\anaconda3\\envs\\modern_ts_2E_new\\Lib\\site-packages\\pytorch_lightning\\trainer\\connectors\\data_connector.py:441: The 'train_dataloader' does not have many workers which may be a bottleneck. Consider increasing the value of the `num_workers` argument` to `num_workers=7` in the `DataLoader` to improve performance.\n"
     ]
    },
    {
     "data": {
      "application/vnd.jupyter.widget-view+json": {
       "model_id": "e229d72c4ae346c38a854312d917ddbd",
       "version_major": 2,
       "version_minor": 0
      },
      "text/plain": [
       "Training: |          | 0/? [00:00<?, ?it/s]"
      ]
     },
     "metadata": {},
     "output_type": "display_data"
    },
    {
     "data": {
      "application/vnd.jupyter.widget-view+json": {
       "model_id": "eed8fa9416764351851b7659ce2537c6",
       "version_major": 2,
       "version_minor": 0
      },
      "text/plain": [
       "Validation: |          | 0/? [00:00<?, ?it/s]"
      ]
     },
     "metadata": {},
     "output_type": "display_data"
    },
    {
     "data": {
      "application/vnd.jupyter.widget-view+json": {
       "model_id": "6be5564c65aa4f6eaaf9192c021ff8cc",
       "version_major": 2,
       "version_minor": 0
      },
      "text/plain": [
       "Validation: |          | 0/? [00:00<?, ?it/s]"
      ]
     },
     "metadata": {},
     "output_type": "display_data"
    },
    {
     "data": {
      "application/vnd.jupyter.widget-view+json": {
       "model_id": "53f2efe89b27462a9e862c01ccf8075b",
       "version_major": 2,
       "version_minor": 0
      },
      "text/plain": [
       "Validation: |          | 0/? [00:00<?, ?it/s]"
      ]
     },
     "metadata": {},
     "output_type": "display_data"
    },
    {
     "data": {
      "application/vnd.jupyter.widget-view+json": {
       "model_id": "a2cb161724b0498891bae39027c00d6b",
       "version_major": 2,
       "version_minor": 0
      },
      "text/plain": [
       "Validation: |          | 0/? [00:00<?, ?it/s]"
      ]
     },
     "metadata": {},
     "output_type": "display_data"
    },
    {
     "data": {
      "application/vnd.jupyter.widget-view+json": {
       "model_id": "a8cffded4cb94457ba71c41e94cd2791",
       "version_major": 2,
       "version_minor": 0
      },
      "text/plain": [
       "Validation: |          | 0/? [00:00<?, ?it/s]"
      ]
     },
     "metadata": {},
     "output_type": "display_data"
    },
    {
     "data": {
      "application/vnd.jupyter.widget-view+json": {
       "model_id": "a4a45d4ec0484a2eacce0139e1060048",
       "version_major": 2,
       "version_minor": 0
      },
      "text/plain": [
       "Validation: |          | 0/? [00:00<?, ?it/s]"
      ]
     },
     "metadata": {},
     "output_type": "display_data"
    },
    {
     "data": {
      "application/vnd.jupyter.widget-view+json": {
       "model_id": "d51bcfb61ff7459b9b1ac624bf4f7b7b",
       "version_major": 2,
       "version_minor": 0
      },
      "text/plain": [
       "Validation: |          | 0/? [00:00<?, ?it/s]"
      ]
     },
     "metadata": {},
     "output_type": "display_data"
    },
    {
     "data": {
      "application/vnd.jupyter.widget-view+json": {
       "model_id": "8c9b449f66874784b98877326fa8d7b6",
       "version_major": 2,
       "version_minor": 0
      },
      "text/plain": [
       "Validation: |          | 0/? [00:00<?, ?it/s]"
      ]
     },
     "metadata": {},
     "output_type": "display_data"
    },
    {
     "data": {
      "application/vnd.jupyter.widget-view+json": {
       "model_id": "f59dbdd97e0540c2868c66843111f5b3",
       "version_major": 2,
       "version_minor": 0
      },
      "text/plain": [
       "Validation: |          | 0/? [00:00<?, ?it/s]"
      ]
     },
     "metadata": {},
     "output_type": "display_data"
    },
    {
     "data": {
      "application/vnd.jupyter.widget-view+json": {
       "model_id": "3dbdb4a6f51f4beaa8fd75be68c02907",
       "version_major": 2,
       "version_minor": 0
      },
      "text/plain": [
       "Validation: |          | 0/? [00:00<?, ?it/s]"
      ]
     },
     "metadata": {},
     "output_type": "display_data"
    },
    {
     "name": "stdout",
     "output_type": "stream",
     "text": [
      "Loading the best model from: c:\\Users\\tacke\\OneDrive\\Documents\\GitHub\\Modern-Time-Series-Forecasting-with-Python-2E-1\\lightning_logs\\version_6\\checkpoints\\epoch=6-step=4053.ckpt\n"
     ]
    },
    {
     "name": "stderr",
     "output_type": "stream",
     "text": [
      "c:\\Users\\tacke\\anaconda3\\envs\\modern_ts_2E_new\\Lib\\site-packages\\pytorch_lightning\\utilities\\parsing.py:198: Attribute 'loss' is an instance of `nn.Module` and is already saved during checkpointing. It is recommended to ignore them using `self.save_hyperparameters(ignore=['loss'])`.\n"
     ]
    }
   ],
   "source": [
    "if train_model:\n",
    "    trainer = pl.Trainer(\n",
    "        accelerator=\"auto\",\n",
    "        min_epochs=1,\n",
    "        max_epochs=20,\n",
    "        callbacks=[\n",
    "            pl.callbacks.EarlyStopping(monitor=\"val_loss\", patience=3 if TRAIN_SUBSAMPLE else 4*3),\n",
    "            pl.callbacks.ModelCheckpoint(\n",
    "                monitor=\"val_loss\", save_last=True, mode=\"min\", auto_insert_metric_name=True\n",
    "            ),\n",
    "        ],\n",
    "        val_check_interval=1.0 if TRAIN_SUBSAMPLE else 2000,\n",
    "        log_every_n_steps=50 if TRAIN_SUBSAMPLE else 2000,\n",
    "        # fast_dev_run=True\n",
    "        # precision = 16\n",
    "    )\n",
    "    trainer.fit(\n",
    "        model,\n",
    "        train_dataloaders=train_dataloader,\n",
    "        val_dataloaders=val_dataloader,\n",
    "    )\n",
    "    #Loading the best model\n",
    "    best_model_path = trainer.checkpoint_callback.best_model_path\n",
    "    best_model = SingleStepRNNModel.load_from_checkpoint(best_model_path)\n",
    "    print(f\"Loading the best model from: {best_model_path}\")\n",
    "    shutil.copy(best_model_path, saved_model_sampled if TRAIN_SUBSAMPLE else saved_model_full)\n",
    "else:\n",
    "    best_model_path = saved_model_sampled if TRAIN_SUBSAMPLE else saved_model_full\n",
    "    load_weights(model, best_model_path)\n",
    "    best_model =  model\n",
    "    print (\"Skipping Training and loading the model from {best_model_path}\")"
   ]
  },
  {
   "cell_type": "code",
   "execution_count": 62,
   "id": "75a19f88-55ba-44b5-9801-473e00f1ae6b",
   "metadata": {},
   "outputs": [
    {
     "name": "stderr",
     "output_type": "stream",
     "text": [
      "c:\\Users\\tacke\\anaconda3\\envs\\modern_ts_2E_new\\Lib\\site-packages\\pytorch_lightning\\trainer\\connectors\\data_connector.py:441: The 'predict_dataloader' does not have many workers which may be a bottleneck. Consider increasing the value of the `num_workers` argument` to `num_workers=7` in the `DataLoader` to improve performance.\n"
     ]
    },
    {
     "data": {
      "application/vnd.jupyter.widget-view+json": {
       "model_id": "22d683b82de445b58b01d7a5106a79f5",
       "version_major": 2,
       "version_minor": 0
      },
      "text/plain": [
       "Predicting: |          | 0/? [00:00<?, ?it/s]"
      ]
     },
     "metadata": {},
     "output_type": "display_data"
    },
    {
     "data": {
      "application/vnd.jupyter.widget-view+json": {
       "model_id": "41839a3d33f041a685c527673f7ec812",
       "version_major": 2,
       "version_minor": 0
      },
      "text/plain": [
       "Calculating metrics...:   0%|          | 0/10 [00:00<?, ?it/s]"
      ]
     },
     "metadata": {},
     "output_type": "display_data"
    }
   ],
   "source": [
    "# Predicting on the test dataset and storing in a df\n",
    "pred_output = best_model.predict(test, return_index=True, trainer_kwargs=dict(enable_progress_bar=True))\n",
    "pred, index = pred_output.output.cpu().numpy(), pred_output.index\n",
    "index[tag] = pred\n",
    "pred_df = pred_df.reset_index().merge(index, on=[\"time_idx\",\"LCLid\"], how='left').set_index(feat_config.index_cols)\n",
    "# Evaluating the forecast\n",
    "agg_metrics, eval_metrics_df = evaluate_forecast(\n",
    "    pred_df = pred_df,\n",
    "    train_data = full_df,\n",
    "    fc_column=tag,\n",
    "    name=tag,\n",
    ")\n",
    "metric_record.append(agg_metrics)\n",
    "individual_metrics[tag]=eval_metrics_df"
   ]
  },
  {
   "cell_type": "code",
   "execution_count": 63,
   "id": "4145a24c-ad32-4723-acc5-daac9484b319",
   "metadata": {},
   "outputs": [
    {
     "data": {
      "text/html": [
       "<style type=\"text/css\">\n",
       "#T_313b5_row0_col1, #T_313b5_row0_col3, #T_313b5_row2_col2 {\n",
       "  background-color: lightgreen;\n",
       "}\n",
       "#T_313b5_row1_col4 {\n",
       "  color: black;\n",
       "  background-color: lightgreen;\n",
       "}\n",
       "</style>\n",
       "<table id=\"T_313b5\">\n",
       "  <thead>\n",
       "    <tr>\n",
       "      <th class=\"blank level0\" >&nbsp;</th>\n",
       "      <th id=\"T_313b5_level0_col0\" class=\"col_heading level0 col0\" >Algorithm</th>\n",
       "      <th id=\"T_313b5_level0_col1\" class=\"col_heading level0 col1\" >MAE</th>\n",
       "      <th id=\"T_313b5_level0_col2\" class=\"col_heading level0 col2\" >MSE</th>\n",
       "      <th id=\"T_313b5_level0_col3\" class=\"col_heading level0 col3\" >meanMASE</th>\n",
       "      <th id=\"T_313b5_level0_col4\" class=\"col_heading level0 col4\" >Forecast Bias</th>\n",
       "    </tr>\n",
       "  </thead>\n",
       "  <tbody>\n",
       "    <tr>\n",
       "      <th id=\"T_313b5_level0_row0\" class=\"row_heading level0 row0\" >0</th>\n",
       "      <td id=\"T_313b5_row0_col0\" class=\"data row0 col0\" >simple</td>\n",
       "      <td id=\"T_313b5_row0_col1\" class=\"data row0 col1\" >0.0781</td>\n",
       "      <td id=\"T_313b5_row0_col2\" class=\"data row0 col2\" >0.0255</td>\n",
       "      <td id=\"T_313b5_row0_col3\" class=\"data row0 col3\" >0.9239</td>\n",
       "      <td id=\"T_313b5_row0_col4\" class=\"data row0 col4\" >-6.08%</td>\n",
       "    </tr>\n",
       "    <tr>\n",
       "      <th id=\"T_313b5_level0_row1\" class=\"row_heading level0 row1\" >1</th>\n",
       "      <td id=\"T_313b5_row1_col0\" class=\"data row1 col0\" >simple+time_varying</td>\n",
       "      <td id=\"T_313b5_row1_col1\" class=\"data row1 col1\" >0.0802</td>\n",
       "      <td id=\"T_313b5_row1_col2\" class=\"data row1 col2\" >0.0242</td>\n",
       "      <td id=\"T_313b5_row1_col3\" class=\"data row1 col3\" >0.9492</td>\n",
       "      <td id=\"T_313b5_row1_col4\" class=\"data row1 col4\" >0.01%</td>\n",
       "    </tr>\n",
       "    <tr>\n",
       "      <th id=\"T_313b5_level0_row2\" class=\"row_heading level0 row2\" >2</th>\n",
       "      <td id=\"T_313b5_row2_col0\" class=\"data row2 col0\" >simple+static+time_varying</td>\n",
       "      <td id=\"T_313b5_row2_col1\" class=\"data row2 col1\" >0.0823</td>\n",
       "      <td id=\"T_313b5_row2_col2\" class=\"data row2 col2\" >0.0235</td>\n",
       "      <td id=\"T_313b5_row2_col3\" class=\"data row2 col3\" >0.9566</td>\n",
       "      <td id=\"T_313b5_row2_col4\" class=\"data row2 col4\" >0.49%</td>\n",
       "    </tr>\n",
       "  </tbody>\n",
       "</table>\n"
      ],
      "text/plain": [
       "<pandas.io.formats.style.Styler at 0x27491af1310>"
      ]
     },
     "execution_count": 63,
     "metadata": {},
     "output_type": "execute_result"
    }
   ],
   "source": [
    "pd.DataFrame(metric_record).style.format(\n",
    "    {\"MAE\": \"{:.4f}\", \"MSE\": \"{:.4f}\", \"meanMASE\": \"{:.4f}\", \"Forecast Bias\": \"{:.2f}%\"}\n",
    ").highlight_min(color=\"lightgreen\", subset=[\"MAE\", \"MSE\", \"meanMASE\"]).apply(\n",
    "    highlight_abs_min,\n",
    "    props=\"color:black;background-color:lightgreen\",\n",
    "    axis=0,\n",
    "    subset=[\"Forecast Bias\"],\n",
    ")"
   ]
  },
  {
   "cell_type": "markdown",
   "id": "b645f53b-de72-4134-97e7-e0dad12b15e8",
   "metadata": {
    "tags": []
   },
   "source": [
    "## Baseline + Static + Time-varying Information + Scale\n",
    "\n",
    "Using the history of the time series, static, time varying features and scale"
   ]
  },
  {
   "cell_type": "code",
   "execution_count": 64,
   "id": "e555f39f-dc94-499f-830d-b426e132d5bc",
   "metadata": {},
   "outputs": [],
   "source": [
    "tag = \"simple+static+time_varying+scale\""
   ]
  },
  {
   "cell_type": "markdown",
   "id": "17db637c-3450-4470-91cf-afbdb2384010",
   "metadata": {},
   "source": [
    "### Converting data into TimeSeriesDataset from PyTorch Forecasting"
   ]
  },
  {
   "cell_type": "code",
   "execution_count": 65,
   "id": "f4f46581-7137-4c8a-a93e-8b06eeffb159",
   "metadata": {},
   "outputs": [],
   "source": [
    "# Defining the training dataset\n",
    "training = TimeSeriesDataSet(\n",
    "    train_df,\n",
    "    time_idx=\"time_idx\",\n",
    "    target=feat_config.target,\n",
    "    group_ids=feat_config.group_ids,\n",
    "    max_encoder_length=max_encoder_length,\n",
    "    max_prediction_length=max_prediction_length,\n",
    "    static_categoricals=feat_config.static_categoricals,\n",
    "    static_reals=feat_config.static_reals,\n",
    "    time_varying_known_categoricals=feat_config.time_varying_known_categoricals,\n",
    "    time_varying_known_reals=feat_config.time_varying_known_reals,\n",
    "    time_varying_unknown_reals=[\n",
    "        \"energy_consumption\",\n",
    "    ],\n",
    "    target_normalizer=GroupNormalizer(\n",
    "        groups=feat_config.group_ids, transformation=None\n",
    "    ),\n",
    "    add_target_scales=True\n",
    ")\n",
    "# Defining the validation dataset with the same parameters as training\n",
    "validation = TimeSeriesDataSet.from_dataset(training, pd.concat([val_history,val_df]).reset_index(drop=True), stop_randomization=True)\n",
    "# Defining the test dataset with the same parameters as training\n",
    "test = TimeSeriesDataSet.from_dataset(training, pd.concat([hist_df, test_df]).reset_index(drop=True), stop_randomization=True)"
   ]
  },
  {
   "cell_type": "code",
   "execution_count": 66,
   "id": "88d1da27-6135-4af8-b772-1664d2fa64ae",
   "metadata": {},
   "outputs": [],
   "source": [
    "# Making the dataloaders\n",
    "# num_workers can be increased in linux to speed-up training\n",
    "train_dataloader = training.to_dataloader(train=True, batch_size=batch_size, num_workers=0)\n",
    "val_dataloader = validation.to_dataloader(train=False, batch_size=batch_size, num_workers=0)"
   ]
  },
  {
   "cell_type": "code",
   "execution_count": 67,
   "id": "660b52dc-ee30-4807-8963-3a584802d2b6",
   "metadata": {},
   "outputs": [
    {
     "name": "stdout",
     "output_type": "stream",
     "text": [
      "\n",
      "sizes of x =\n",
      "\tencoder_cat = torch.Size([512, 96, 7])\n",
      "\tencoder_cont = torch.Size([512, 96, 4])\n",
      "\tencoder_target = torch.Size([512, 96])\n",
      "\tencoder_lengths = torch.Size([512])\n",
      "\tdecoder_cat = torch.Size([512, 1, 7])\n",
      "\tdecoder_cont = torch.Size([512, 1, 4])\n",
      "\tdecoder_target = torch.Size([512, 1])\n",
      "\tdecoder_lengths = torch.Size([512])\n",
      "\tdecoder_time_idx = torch.Size([512, 1])\n",
      "\tgroups = torch.Size([512, 1])\n",
      "\ttarget_scale = torch.Size([512, 2])\n",
      "\n",
      "size of y =\n",
      "\ty = torch.Size([512, 1])\n"
     ]
    }
   ],
   "source": [
    "# Testing the dataloader\n",
    "x, y = next(iter(train_dataloader))\n",
    "print(\"\\nsizes of x =\")\n",
    "for key, value in x.items():\n",
    "    print(f\"\\t{key} = {value.size()}\")\n",
    "print(\"\\nsize of y =\")\n",
    "print(f\"\\ty = {y[0].size()}\")"
   ]
  },
  {
   "cell_type": "markdown",
   "id": "e42c309b-0650-4109-8802-5d180e08f732",
   "metadata": {},
   "source": [
    "### Creating the Model"
   ]
  },
  {
   "cell_type": "markdown",
   "id": "20b034f2-fcbb-4dda-a949-f17e4598b807",
   "metadata": {},
   "source": [
    "### Defining the Forward function"
   ]
  },
  {
   "cell_type": "code",
   "execution_count": 68,
   "id": "b8516508-51c2-4b4c-878f-ad665c357086",
   "metadata": {},
   "outputs": [],
   "source": [
    "cardinality = [len(training.categorical_encoders[c].classes_) for c in training.categoricals]\n",
    "embedding_sizes = [\n",
    "    (x, min(50, (x + 1) // 2))\n",
    "    for x in cardinality\n",
    "]"
   ]
  },
  {
   "cell_type": "code",
   "execution_count": 69,
   "id": "328227a8-07be-490f-a9d8-487a2cccac2c",
   "metadata": {},
   "outputs": [],
   "source": [
    "model_params = dict(\n",
    "    rnn_type=\"LSTM\",\n",
    "    input_size=len(training.reals)+sum([s for _, s in embedding_sizes]),\n",
    "    hidden_size=256, #128\n",
    "    num_layers=2,\n",
    "    bidirectional=False,\n",
    "    embedding_sizes=embedding_sizes,\n",
    ")\n",
    "\n",
    "other_params = dict(\n",
    "    learning_rate=5e-5,\n",
    "    optimizer=\"adam\",\n",
    "    loss=RMSE(),\n",
    "    logging_metrics=[RMSE(), MAE()],\n",
    ")"
   ]
  },
  {
   "cell_type": "code",
   "execution_count": 70,
   "id": "ca7c4532-64ed-4253-837b-4f7e925db492",
   "metadata": {
    "tags": []
   },
   "outputs": [
    {
     "name": "stderr",
     "output_type": "stream",
     "text": [
      "c:\\Users\\tacke\\anaconda3\\envs\\modern_ts_2E_new\\Lib\\site-packages\\pytorch_lightning\\utilities\\parsing.py:198: Attribute 'loss' is an instance of `nn.Module` and is already saved during checkpointing. It is recommended to ignore them using `self.save_hyperparameters(ignore=['loss'])`.\n"
     ]
    },
    {
     "data": {
      "text/plain": [
       "(pytorch_forecasting.utils.TupleOutputMixIn.to_network_output.<locals>.Output,\n",
       " torch.Size([512, 1]))"
      ]
     },
     "execution_count": 70,
     "metadata": {},
     "output_type": "execute_result"
    }
   ],
   "source": [
    "model = SingleStepRNNModel.from_dataset(\n",
    "    training,\n",
    "    network_callable=StaticDynamicFeatureRNNModel,\n",
    "    model_params = model_params,\n",
    "    **other_params\n",
    ")\n",
    "#Testing out the model\n",
    "x, y = next(iter(train_dataloader))\n",
    "_ = model(x)\n",
    "type(_), _.prediction.shape"
   ]
  },
  {
   "cell_type": "markdown",
   "id": "fb468b58-ba1e-43fa-aa4e-71c814e9f801",
   "metadata": {},
   "source": [
    "### Training the model"
   ]
  },
  {
   "cell_type": "code",
   "execution_count": 71,
   "id": "fde455d9-c318-4654-8773-e9a6f4a43d61",
   "metadata": {},
   "outputs": [],
   "source": [
    "saved_model_sampled = 'notebooks/Chapter14/saved_weights/baseline_time_varying_static_scale_sampled.wt'\n",
    "saved_model_full = 'notebooks/Chapter14/saved_weights/baseline_time_varying_static_scale.wt'"
   ]
  },
  {
   "cell_type": "markdown",
   "id": "3bd54dd6",
   "metadata": {},
   "source": [
    "#### Warning - Next block can take a very long time."
   ]
  },
  {
   "cell_type": "code",
   "execution_count": 72,
   "id": "71bee766-3858-46d6-bc81-33ec9812f771",
   "metadata": {},
   "outputs": [
    {
     "name": "stderr",
     "output_type": "stream",
     "text": [
      "GPU available: False, used: False\n",
      "TPU available: False, using: 0 TPU cores\n",
      "IPU available: False, using: 0 IPUs\n",
      "HPU available: False, using: 0 HPUs\n",
      "`Trainer(val_check_interval=1.0)` was configured so validation will run at the end of the training epoch..\n",
      "\n",
      "  | Name            | Type                         | Params\n",
      "-----------------------------------------------------------------\n",
      "0 | loss            | RMSE                         | 0     \n",
      "1 | logging_metrics | ModuleList                   | 0     \n",
      "2 | network         | StaticDynamicFeatureRNNModel | 821 K \n",
      "-----------------------------------------------------------------\n",
      "821 K     Trainable params\n",
      "0         Non-trainable params\n",
      "821 K     Total params\n",
      "3.287     Total estimated model params size (MB)\n"
     ]
    },
    {
     "data": {
      "application/vnd.jupyter.widget-view+json": {
       "model_id": "374f4078d0bf4063ac2d3c2b01f42a86",
       "version_major": 2,
       "version_minor": 0
      },
      "text/plain": [
       "Sanity Checking: |          | 0/? [00:00<?, ?it/s]"
      ]
     },
     "metadata": {},
     "output_type": "display_data"
    },
    {
     "name": "stderr",
     "output_type": "stream",
     "text": [
      "c:\\Users\\tacke\\anaconda3\\envs\\modern_ts_2E_new\\Lib\\site-packages\\pytorch_lightning\\trainer\\connectors\\data_connector.py:441: The 'val_dataloader' does not have many workers which may be a bottleneck. Consider increasing the value of the `num_workers` argument` to `num_workers=7` in the `DataLoader` to improve performance.\n",
      "c:\\Users\\tacke\\anaconda3\\envs\\modern_ts_2E_new\\Lib\\site-packages\\pytorch_lightning\\trainer\\connectors\\data_connector.py:441: The 'train_dataloader' does not have many workers which may be a bottleneck. Consider increasing the value of the `num_workers` argument` to `num_workers=7` in the `DataLoader` to improve performance.\n"
     ]
    },
    {
     "data": {
      "application/vnd.jupyter.widget-view+json": {
       "model_id": "5778980181834be2abbff3261fb58168",
       "version_major": 2,
       "version_minor": 0
      },
      "text/plain": [
       "Training: |          | 0/? [00:00<?, ?it/s]"
      ]
     },
     "metadata": {},
     "output_type": "display_data"
    },
    {
     "data": {
      "application/vnd.jupyter.widget-view+json": {
       "model_id": "0c1932a3e4c14d5f900360bb8db747b6",
       "version_major": 2,
       "version_minor": 0
      },
      "text/plain": [
       "Validation: |          | 0/? [00:00<?, ?it/s]"
      ]
     },
     "metadata": {},
     "output_type": "display_data"
    },
    {
     "data": {
      "application/vnd.jupyter.widget-view+json": {
       "model_id": "b4e409952e734462b06921ed5fa30e55",
       "version_major": 2,
       "version_minor": 0
      },
      "text/plain": [
       "Validation: |          | 0/? [00:00<?, ?it/s]"
      ]
     },
     "metadata": {},
     "output_type": "display_data"
    },
    {
     "data": {
      "application/vnd.jupyter.widget-view+json": {
       "model_id": "3aa5a8b7808c476191f9a2c859db99ef",
       "version_major": 2,
       "version_minor": 0
      },
      "text/plain": [
       "Validation: |          | 0/? [00:00<?, ?it/s]"
      ]
     },
     "metadata": {},
     "output_type": "display_data"
    },
    {
     "data": {
      "application/vnd.jupyter.widget-view+json": {
       "model_id": "ae546addef794505a06fcb02a036892d",
       "version_major": 2,
       "version_minor": 0
      },
      "text/plain": [
       "Validation: |          | 0/? [00:00<?, ?it/s]"
      ]
     },
     "metadata": {},
     "output_type": "display_data"
    },
    {
     "data": {
      "application/vnd.jupyter.widget-view+json": {
       "model_id": "d7e010ff2ebc427c8d48a3d48e62ad19",
       "version_major": 2,
       "version_minor": 0
      },
      "text/plain": [
       "Validation: |          | 0/? [00:00<?, ?it/s]"
      ]
     },
     "metadata": {},
     "output_type": "display_data"
    },
    {
     "data": {
      "application/vnd.jupyter.widget-view+json": {
       "model_id": "5874e61cf4994f64b811e2418d2c7a8d",
       "version_major": 2,
       "version_minor": 0
      },
      "text/plain": [
       "Validation: |          | 0/? [00:00<?, ?it/s]"
      ]
     },
     "metadata": {},
     "output_type": "display_data"
    },
    {
     "data": {
      "application/vnd.jupyter.widget-view+json": {
       "model_id": "94ef3c0a20a34c8caf179e0d99aeb306",
       "version_major": 2,
       "version_minor": 0
      },
      "text/plain": [
       "Validation: |          | 0/? [00:00<?, ?it/s]"
      ]
     },
     "metadata": {},
     "output_type": "display_data"
    },
    {
     "data": {
      "application/vnd.jupyter.widget-view+json": {
       "model_id": "d9785619e6614e2ba713d2098f5e2baf",
       "version_major": 2,
       "version_minor": 0
      },
      "text/plain": [
       "Validation: |          | 0/? [00:00<?, ?it/s]"
      ]
     },
     "metadata": {},
     "output_type": "display_data"
    },
    {
     "data": {
      "application/vnd.jupyter.widget-view+json": {
       "model_id": "68621021d6384913aa439fe96f02d173",
       "version_major": 2,
       "version_minor": 0
      },
      "text/plain": [
       "Validation: |          | 0/? [00:00<?, ?it/s]"
      ]
     },
     "metadata": {},
     "output_type": "display_data"
    },
    {
     "data": {
      "application/vnd.jupyter.widget-view+json": {
       "model_id": "33066d3a3d754a94a45377edb6414354",
       "version_major": 2,
       "version_minor": 0
      },
      "text/plain": [
       "Validation: |          | 0/? [00:00<?, ?it/s]"
      ]
     },
     "metadata": {},
     "output_type": "display_data"
    },
    {
     "name": "stdout",
     "output_type": "stream",
     "text": [
      "Loading the best model from: c:\\Users\\tacke\\OneDrive\\Documents\\GitHub\\Modern-Time-Series-Forecasting-with-Python-2E-1\\lightning_logs\\version_8\\checkpoints\\epoch=6-step=4053.ckpt\n"
     ]
    },
    {
     "name": "stderr",
     "output_type": "stream",
     "text": [
      "c:\\Users\\tacke\\anaconda3\\envs\\modern_ts_2E_new\\Lib\\site-packages\\pytorch_lightning\\utilities\\parsing.py:198: Attribute 'loss' is an instance of `nn.Module` and is already saved during checkpointing. It is recommended to ignore them using `self.save_hyperparameters(ignore=['loss'])`.\n"
     ]
    }
   ],
   "source": [
    "if train_model:\n",
    "    trainer = pl.Trainer(\n",
    "        accelerator=\"auto\",\n",
    "        min_epochs=1,\n",
    "        max_epochs=20,\n",
    "        callbacks=[\n",
    "            pl.callbacks.EarlyStopping(monitor=\"val_loss\", patience=3 if TRAIN_SUBSAMPLE else 4*3),\n",
    "            pl.callbacks.ModelCheckpoint(\n",
    "                monitor=\"val_loss\", save_last=True, mode=\"min\", auto_insert_metric_name=True\n",
    "            ),\n",
    "        ],\n",
    "        val_check_interval=1.0 if TRAIN_SUBSAMPLE else 2000,\n",
    "        log_every_n_steps=50 if TRAIN_SUBSAMPLE else 2000,\n",
    "        # fast_dev_run=True\n",
    "        # precision = 16\n",
    "    )\n",
    "    trainer.fit(\n",
    "        model,\n",
    "        train_dataloaders=train_dataloader,\n",
    "        val_dataloaders=val_dataloader,\n",
    "    )\n",
    "    #Loading the best model\n",
    "    best_model_path = trainer.checkpoint_callback.best_model_path\n",
    "    best_model = SingleStepRNNModel.load_from_checkpoint(best_model_path)\n",
    "    print(f\"Loading the best model from: {best_model_path}\")\n",
    "    shutil.copy(best_model_path, saved_model_sampled if TRAIN_SUBSAMPLE else saved_model_full)\n",
    "else:\n",
    "    best_model_path = saved_model_sampled if TRAIN_SUBSAMPLE else saved_model_full\n",
    "    load_weights(model, best_model_path)\n",
    "    best_model =  model\n",
    "    print (\"Skipping Training and loading the model from {best_model_path}\")"
   ]
  },
  {
   "cell_type": "code",
   "execution_count": 73,
   "id": "d9d0a80b-50b1-4e70-a9dc-8bfe03d571e1",
   "metadata": {},
   "outputs": [
    {
     "name": "stderr",
     "output_type": "stream",
     "text": [
      "c:\\Users\\tacke\\anaconda3\\envs\\modern_ts_2E_new\\Lib\\site-packages\\pytorch_lightning\\trainer\\connectors\\data_connector.py:441: The 'predict_dataloader' does not have many workers which may be a bottleneck. Consider increasing the value of the `num_workers` argument` to `num_workers=7` in the `DataLoader` to improve performance.\n"
     ]
    },
    {
     "data": {
      "application/vnd.jupyter.widget-view+json": {
       "model_id": "0ff67ba6c8f24821bb5b8f97cca27c92",
       "version_major": 2,
       "version_minor": 0
      },
      "text/plain": [
       "Predicting: |          | 0/? [00:00<?, ?it/s]"
      ]
     },
     "metadata": {},
     "output_type": "display_data"
    },
    {
     "data": {
      "application/vnd.jupyter.widget-view+json": {
       "model_id": "67b0c9c865434bd38bfb363b48e83e1a",
       "version_major": 2,
       "version_minor": 0
      },
      "text/plain": [
       "Calculating metrics...:   0%|          | 0/10 [00:00<?, ?it/s]"
      ]
     },
     "metadata": {},
     "output_type": "display_data"
    }
   ],
   "source": [
    "# Predicting on the test dataset and storing in a df\n",
    "pred_output = best_model.predict(test, return_index=True, trainer_kwargs=dict(enable_progress_bar=True))\n",
    "pred, index = pred_output.output.cpu().numpy(), pred_output.index\n",
    "index[tag] = pred\n",
    "pred_df = pred_df.reset_index().merge(index, on=[\"time_idx\",\"LCLid\"], how='left').set_index(feat_config.index_cols)\n",
    "# Evaluating the forecast\n",
    "agg_metrics, eval_metrics_df = evaluate_forecast(\n",
    "    pred_df = pred_df,\n",
    "    train_data = full_df,\n",
    "    fc_column=tag,\n",
    "    name=tag,\n",
    ")\n",
    "metric_record.append(agg_metrics)\n",
    "individual_metrics[tag]=eval_metrics_df"
   ]
  },
  {
   "cell_type": "code",
   "execution_count": 74,
   "id": "afc218c4-8bcd-4e85-b001-1a168163307e",
   "metadata": {},
   "outputs": [
    {
     "data": {
      "text/html": [
       "<style type=\"text/css\">\n",
       "#T_d463f_row0_col1, #T_d463f_row0_col3, #T_d463f_row3_col2 {\n",
       "  background-color: lightgreen;\n",
       "}\n",
       "#T_d463f_row1_col4 {\n",
       "  color: black;\n",
       "  background-color: lightgreen;\n",
       "}\n",
       "</style>\n",
       "<table id=\"T_d463f\">\n",
       "  <thead>\n",
       "    <tr>\n",
       "      <th class=\"blank level0\" >&nbsp;</th>\n",
       "      <th id=\"T_d463f_level0_col0\" class=\"col_heading level0 col0\" >Algorithm</th>\n",
       "      <th id=\"T_d463f_level0_col1\" class=\"col_heading level0 col1\" >MAE</th>\n",
       "      <th id=\"T_d463f_level0_col2\" class=\"col_heading level0 col2\" >MSE</th>\n",
       "      <th id=\"T_d463f_level0_col3\" class=\"col_heading level0 col3\" >meanMASE</th>\n",
       "      <th id=\"T_d463f_level0_col4\" class=\"col_heading level0 col4\" >Forecast Bias</th>\n",
       "    </tr>\n",
       "  </thead>\n",
       "  <tbody>\n",
       "    <tr>\n",
       "      <th id=\"T_d463f_level0_row0\" class=\"row_heading level0 row0\" >0</th>\n",
       "      <td id=\"T_d463f_row0_col0\" class=\"data row0 col0\" >simple</td>\n",
       "      <td id=\"T_d463f_row0_col1\" class=\"data row0 col1\" >0.0781</td>\n",
       "      <td id=\"T_d463f_row0_col2\" class=\"data row0 col2\" >0.0255</td>\n",
       "      <td id=\"T_d463f_row0_col3\" class=\"data row0 col3\" >0.9239</td>\n",
       "      <td id=\"T_d463f_row0_col4\" class=\"data row0 col4\" >-6.08%</td>\n",
       "    </tr>\n",
       "    <tr>\n",
       "      <th id=\"T_d463f_level0_row1\" class=\"row_heading level0 row1\" >1</th>\n",
       "      <td id=\"T_d463f_row1_col0\" class=\"data row1 col0\" >simple+time_varying</td>\n",
       "      <td id=\"T_d463f_row1_col1\" class=\"data row1 col1\" >0.0802</td>\n",
       "      <td id=\"T_d463f_row1_col2\" class=\"data row1 col2\" >0.0242</td>\n",
       "      <td id=\"T_d463f_row1_col3\" class=\"data row1 col3\" >0.9492</td>\n",
       "      <td id=\"T_d463f_row1_col4\" class=\"data row1 col4\" >0.01%</td>\n",
       "    </tr>\n",
       "    <tr>\n",
       "      <th id=\"T_d463f_level0_row2\" class=\"row_heading level0 row2\" >2</th>\n",
       "      <td id=\"T_d463f_row2_col0\" class=\"data row2 col0\" >simple+static+time_varying</td>\n",
       "      <td id=\"T_d463f_row2_col1\" class=\"data row2 col1\" >0.0823</td>\n",
       "      <td id=\"T_d463f_row2_col2\" class=\"data row2 col2\" >0.0235</td>\n",
       "      <td id=\"T_d463f_row2_col3\" class=\"data row2 col3\" >0.9566</td>\n",
       "      <td id=\"T_d463f_row2_col4\" class=\"data row2 col4\" >0.49%</td>\n",
       "    </tr>\n",
       "    <tr>\n",
       "      <th id=\"T_d463f_level0_row3\" class=\"row_heading level0 row3\" >3</th>\n",
       "      <td id=\"T_d463f_row3_col0\" class=\"data row3 col0\" >simple+static+time_varying+scale</td>\n",
       "      <td id=\"T_d463f_row3_col1\" class=\"data row3 col1\" >0.0796</td>\n",
       "      <td id=\"T_d463f_row3_col2\" class=\"data row3 col2\" >0.0233</td>\n",
       "      <td id=\"T_d463f_row3_col3\" class=\"data row3 col3\" >0.9373</td>\n",
       "      <td id=\"T_d463f_row3_col4\" class=\"data row3 col4\" >-0.72%</td>\n",
       "    </tr>\n",
       "  </tbody>\n",
       "</table>\n"
      ],
      "text/plain": [
       "<pandas.io.formats.style.Styler at 0x27491ee1a50>"
      ]
     },
     "execution_count": 74,
     "metadata": {},
     "output_type": "execute_result"
    }
   ],
   "source": [
    "pd.DataFrame(metric_record).style.format(\n",
    "    {\"MAE\": \"{:.4f}\", \"MSE\": \"{:.4f}\", \"meanMASE\": \"{:.4f}\", \"Forecast Bias\": \"{:.2f}%\"}\n",
    ").highlight_min(color=\"lightgreen\", subset=[\"MAE\", \"MSE\", \"meanMASE\"]).apply(\n",
    "    highlight_abs_min,\n",
    "    props=\"color:black;background-color:lightgreen\",\n",
    "    axis=0,\n",
    "    subset=[\"Forecast Bias\"],\n",
    ")"
   ]
  },
  {
   "cell_type": "markdown",
   "id": "0d74e706-c1fb-4157-a4b0-e263b8fa8bc2",
   "metadata": {
    "tags": []
   },
   "source": [
    "## Baseline + Static + Time-varying Information + Samplers\n",
    "\n",
    "Using the history of the time series, static, and time varying features"
   ]
  },
  {
   "cell_type": "code",
   "execution_count": 75,
   "id": "89cecddb-77bb-4ae6-a77a-d6dd64669e3c",
   "metadata": {},
   "outputs": [],
   "source": [
    "tag = \"simple+static+time_varying+num_sampler\""
   ]
  },
  {
   "cell_type": "markdown",
   "id": "b0b34b19-65d2-4865-a534-446dcc2e2cbc",
   "metadata": {},
   "source": [
    "### Converting data into TimeSeriesDataset from PyTorch Forecasting"
   ]
  },
  {
   "cell_type": "code",
   "execution_count": 76,
   "id": "0324ad10-a260-410d-b669-f32d6debafb0",
   "metadata": {},
   "outputs": [],
   "source": [
    "# Defining the training dataset\n",
    "training = TimeSeriesDataSet(\n",
    "    train_df,\n",
    "    time_idx=\"time_idx\",\n",
    "    target=feat_config.target,\n",
    "    group_ids=feat_config.group_ids,\n",
    "    max_encoder_length=max_encoder_length,\n",
    "    max_prediction_length=max_prediction_length,\n",
    "    static_categoricals=feat_config.static_categoricals,\n",
    "    static_reals=feat_config.static_reals,\n",
    "    time_varying_known_categoricals=feat_config.time_varying_known_categoricals,\n",
    "    time_varying_known_reals=feat_config.time_varying_known_reals,\n",
    "    time_varying_unknown_reals=[\n",
    "        \"energy_consumption\",\n",
    "    ],\n",
    "    target_normalizer=GroupNormalizer(\n",
    "        groups=feat_config.group_ids, transformation=None\n",
    "    )\n",
    ")\n",
    "# Defining the validation dataset with the same parameters as training\n",
    "validation = TimeSeriesDataSet.from_dataset(training, pd.concat([val_history,val_df]).reset_index(drop=True), stop_randomization=True)\n",
    "# Defining the test dataset with the same parameters as training\n",
    "test = TimeSeriesDataSet.from_dataset(training, pd.concat([hist_df, test_df]).reset_index(drop=True), stop_randomization=True)"
   ]
  },
  {
   "cell_type": "markdown",
   "id": "cd11c3cf-37ab-464e-9867-7c9cfb4c1a18",
   "metadata": {
    "tags": []
   },
   "source": [
    "### With and Without Batch Samplers (Visualization)"
   ]
  },
  {
   "cell_type": "code",
   "execution_count": 77,
   "id": "795b709a-f1df-41b9-9b53-dbd92e81a94c",
   "metadata": {},
   "outputs": [],
   "source": [
    "from tqdm.auto import tqdm\n",
    "import plotly.graph_objects as go\n",
    "from collections import defaultdict"
   ]
  },
  {
   "cell_type": "code",
   "execution_count": 78,
   "id": "62764ed0-40b6-4393-9043-990924adf195",
   "metadata": {
    "tags": []
   },
   "outputs": [],
   "source": [
    "n_bins= 10\n",
    "enc = training.categorical_encoders[\"__group_id__LCLid\"]\n",
    "# Calculating the length of each LCLid\n",
    "counts = train_df.groupby(\"LCLid\")['timestamp'].count()\n",
    "# Binning the counts and renaming\n",
    "out, bins = pd.cut(counts, bins=n_bins, retbins=True)\n",
    "out = out.cat.rename_categories({\n",
    "    c:f\"bin_{i}\" for i, c in enumerate(out.cat.categories) \n",
    "})\n",
    "# TimeSeriesDataset stores a df as the index over which it samples\n",
    "df = training.index.copy()\n",
    "# Adding a bin column to it to represent the bins we have created\n",
    "df['bins'] = [f\"bin_{i}\" for i in np.digitize(df[\"count\"].values, bins)]"
   ]
  },
  {
   "cell_type": "code",
   "execution_count": 79,
   "id": "ff70b955-ffb3-4627-a0be-2c6ff875b543",
   "metadata": {},
   "outputs": [
    {
     "data": {
      "application/vnd.plotly.v1+json": {
       "config": {
        "plotlyServerURL": "https://plot.ly"
       },
       "data": [
        {
         "alignmentgroup": "True",
         "bingroup": "x",
         "hovertemplate": "variable=timestamp<br>value=%{x}<br>count=%{y}<extra></extra>",
         "legendgroup": "timestamp",
         "marker": {
          "color": "#636efa",
          "pattern": {
           "shape": ""
          }
         },
         "name": "timestamp",
         "offsetgroup": "timestamp",
         "orientation": "v",
         "showlegend": true,
         "type": "histogram",
         "x": [
          "bin_9",
          "bin_9",
          "bin_6",
          "bin_5",
          "bin_5",
          "bin_5",
          "bin_1",
          "bin_0",
          "bin_9",
          "bin_8"
         ],
         "xaxis": "x",
         "yaxis": "y"
        }
       ],
       "layout": {
        "autosize": false,
        "barmode": "relative",
        "height": 500,
        "legend": {
         "title": {
          "text": "variable"
         },
         "tracegroupgap": 0
        },
        "margin": {
         "t": 60
        },
        "showlegend": false,
        "template": {
         "data": {
          "bar": [
           {
            "error_x": {
             "color": "#2a3f5f"
            },
            "error_y": {
             "color": "#2a3f5f"
            },
            "marker": {
             "line": {
              "color": "white",
              "width": 0.5
             },
             "pattern": {
              "fillmode": "overlay",
              "size": 10,
              "solidity": 0.2
             }
            },
            "type": "bar"
           }
          ],
          "barpolar": [
           {
            "marker": {
             "line": {
              "color": "white",
              "width": 0.5
             },
             "pattern": {
              "fillmode": "overlay",
              "size": 10,
              "solidity": 0.2
             }
            },
            "type": "barpolar"
           }
          ],
          "carpet": [
           {
            "aaxis": {
             "endlinecolor": "#2a3f5f",
             "gridcolor": "#C8D4E3",
             "linecolor": "#C8D4E3",
             "minorgridcolor": "#C8D4E3",
             "startlinecolor": "#2a3f5f"
            },
            "baxis": {
             "endlinecolor": "#2a3f5f",
             "gridcolor": "#C8D4E3",
             "linecolor": "#C8D4E3",
             "minorgridcolor": "#C8D4E3",
             "startlinecolor": "#2a3f5f"
            },
            "type": "carpet"
           }
          ],
          "choropleth": [
           {
            "colorbar": {
             "outlinewidth": 0,
             "ticks": ""
            },
            "type": "choropleth"
           }
          ],
          "contour": [
           {
            "colorbar": {
             "outlinewidth": 0,
             "ticks": ""
            },
            "colorscale": [
             [
              0,
              "#0d0887"
             ],
             [
              0.1111111111111111,
              "#46039f"
             ],
             [
              0.2222222222222222,
              "#7201a8"
             ],
             [
              0.3333333333333333,
              "#9c179e"
             ],
             [
              0.4444444444444444,
              "#bd3786"
             ],
             [
              0.5555555555555556,
              "#d8576b"
             ],
             [
              0.6666666666666666,
              "#ed7953"
             ],
             [
              0.7777777777777778,
              "#fb9f3a"
             ],
             [
              0.8888888888888888,
              "#fdca26"
             ],
             [
              1,
              "#f0f921"
             ]
            ],
            "type": "contour"
           }
          ],
          "contourcarpet": [
           {
            "colorbar": {
             "outlinewidth": 0,
             "ticks": ""
            },
            "type": "contourcarpet"
           }
          ],
          "heatmap": [
           {
            "colorbar": {
             "outlinewidth": 0,
             "ticks": ""
            },
            "colorscale": [
             [
              0,
              "#0d0887"
             ],
             [
              0.1111111111111111,
              "#46039f"
             ],
             [
              0.2222222222222222,
              "#7201a8"
             ],
             [
              0.3333333333333333,
              "#9c179e"
             ],
             [
              0.4444444444444444,
              "#bd3786"
             ],
             [
              0.5555555555555556,
              "#d8576b"
             ],
             [
              0.6666666666666666,
              "#ed7953"
             ],
             [
              0.7777777777777778,
              "#fb9f3a"
             ],
             [
              0.8888888888888888,
              "#fdca26"
             ],
             [
              1,
              "#f0f921"
             ]
            ],
            "type": "heatmap"
           }
          ],
          "heatmapgl": [
           {
            "colorbar": {
             "outlinewidth": 0,
             "ticks": ""
            },
            "colorscale": [
             [
              0,
              "#0d0887"
             ],
             [
              0.1111111111111111,
              "#46039f"
             ],
             [
              0.2222222222222222,
              "#7201a8"
             ],
             [
              0.3333333333333333,
              "#9c179e"
             ],
             [
              0.4444444444444444,
              "#bd3786"
             ],
             [
              0.5555555555555556,
              "#d8576b"
             ],
             [
              0.6666666666666666,
              "#ed7953"
             ],
             [
              0.7777777777777778,
              "#fb9f3a"
             ],
             [
              0.8888888888888888,
              "#fdca26"
             ],
             [
              1,
              "#f0f921"
             ]
            ],
            "type": "heatmapgl"
           }
          ],
          "histogram": [
           {
            "marker": {
             "pattern": {
              "fillmode": "overlay",
              "size": 10,
              "solidity": 0.2
             }
            },
            "type": "histogram"
           }
          ],
          "histogram2d": [
           {
            "colorbar": {
             "outlinewidth": 0,
             "ticks": ""
            },
            "colorscale": [
             [
              0,
              "#0d0887"
             ],
             [
              0.1111111111111111,
              "#46039f"
             ],
             [
              0.2222222222222222,
              "#7201a8"
             ],
             [
              0.3333333333333333,
              "#9c179e"
             ],
             [
              0.4444444444444444,
              "#bd3786"
             ],
             [
              0.5555555555555556,
              "#d8576b"
             ],
             [
              0.6666666666666666,
              "#ed7953"
             ],
             [
              0.7777777777777778,
              "#fb9f3a"
             ],
             [
              0.8888888888888888,
              "#fdca26"
             ],
             [
              1,
              "#f0f921"
             ]
            ],
            "type": "histogram2d"
           }
          ],
          "histogram2dcontour": [
           {
            "colorbar": {
             "outlinewidth": 0,
             "ticks": ""
            },
            "colorscale": [
             [
              0,
              "#0d0887"
             ],
             [
              0.1111111111111111,
              "#46039f"
             ],
             [
              0.2222222222222222,
              "#7201a8"
             ],
             [
              0.3333333333333333,
              "#9c179e"
             ],
             [
              0.4444444444444444,
              "#bd3786"
             ],
             [
              0.5555555555555556,
              "#d8576b"
             ],
             [
              0.6666666666666666,
              "#ed7953"
             ],
             [
              0.7777777777777778,
              "#fb9f3a"
             ],
             [
              0.8888888888888888,
              "#fdca26"
             ],
             [
              1,
              "#f0f921"
             ]
            ],
            "type": "histogram2dcontour"
           }
          ],
          "mesh3d": [
           {
            "colorbar": {
             "outlinewidth": 0,
             "ticks": ""
            },
            "type": "mesh3d"
           }
          ],
          "parcoords": [
           {
            "line": {
             "colorbar": {
              "outlinewidth": 0,
              "ticks": ""
             }
            },
            "type": "parcoords"
           }
          ],
          "pie": [
           {
            "automargin": true,
            "type": "pie"
           }
          ],
          "scatter": [
           {
            "fillpattern": {
             "fillmode": "overlay",
             "size": 10,
             "solidity": 0.2
            },
            "type": "scatter"
           }
          ],
          "scatter3d": [
           {
            "line": {
             "colorbar": {
              "outlinewidth": 0,
              "ticks": ""
             }
            },
            "marker": {
             "colorbar": {
              "outlinewidth": 0,
              "ticks": ""
             }
            },
            "type": "scatter3d"
           }
          ],
          "scattercarpet": [
           {
            "marker": {
             "colorbar": {
              "outlinewidth": 0,
              "ticks": ""
             }
            },
            "type": "scattercarpet"
           }
          ],
          "scattergeo": [
           {
            "marker": {
             "colorbar": {
              "outlinewidth": 0,
              "ticks": ""
             }
            },
            "type": "scattergeo"
           }
          ],
          "scattergl": [
           {
            "marker": {
             "colorbar": {
              "outlinewidth": 0,
              "ticks": ""
             }
            },
            "type": "scattergl"
           }
          ],
          "scattermapbox": [
           {
            "marker": {
             "colorbar": {
              "outlinewidth": 0,
              "ticks": ""
             }
            },
            "type": "scattermapbox"
           }
          ],
          "scatterpolar": [
           {
            "marker": {
             "colorbar": {
              "outlinewidth": 0,
              "ticks": ""
             }
            },
            "type": "scatterpolar"
           }
          ],
          "scatterpolargl": [
           {
            "marker": {
             "colorbar": {
              "outlinewidth": 0,
              "ticks": ""
             }
            },
            "type": "scatterpolargl"
           }
          ],
          "scatterternary": [
           {
            "marker": {
             "colorbar": {
              "outlinewidth": 0,
              "ticks": ""
             }
            },
            "type": "scatterternary"
           }
          ],
          "surface": [
           {
            "colorbar": {
             "outlinewidth": 0,
             "ticks": ""
            },
            "colorscale": [
             [
              0,
              "#0d0887"
             ],
             [
              0.1111111111111111,
              "#46039f"
             ],
             [
              0.2222222222222222,
              "#7201a8"
             ],
             [
              0.3333333333333333,
              "#9c179e"
             ],
             [
              0.4444444444444444,
              "#bd3786"
             ],
             [
              0.5555555555555556,
              "#d8576b"
             ],
             [
              0.6666666666666666,
              "#ed7953"
             ],
             [
              0.7777777777777778,
              "#fb9f3a"
             ],
             [
              0.8888888888888888,
              "#fdca26"
             ],
             [
              1,
              "#f0f921"
             ]
            ],
            "type": "surface"
           }
          ],
          "table": [
           {
            "cells": {
             "fill": {
              "color": "#EBF0F8"
             },
             "line": {
              "color": "white"
             }
            },
            "header": {
             "fill": {
              "color": "#C8D4E3"
             },
             "line": {
              "color": "white"
             }
            },
            "type": "table"
           }
          ]
         },
         "layout": {
          "annotationdefaults": {
           "arrowcolor": "#2a3f5f",
           "arrowhead": 0,
           "arrowwidth": 1
          },
          "autotypenumbers": "strict",
          "coloraxis": {
           "colorbar": {
            "outlinewidth": 0,
            "ticks": ""
           }
          },
          "colorscale": {
           "diverging": [
            [
             0,
             "#8e0152"
            ],
            [
             0.1,
             "#c51b7d"
            ],
            [
             0.2,
             "#de77ae"
            ],
            [
             0.3,
             "#f1b6da"
            ],
            [
             0.4,
             "#fde0ef"
            ],
            [
             0.5,
             "#f7f7f7"
            ],
            [
             0.6,
             "#e6f5d0"
            ],
            [
             0.7,
             "#b8e186"
            ],
            [
             0.8,
             "#7fbc41"
            ],
            [
             0.9,
             "#4d9221"
            ],
            [
             1,
             "#276419"
            ]
           ],
           "sequential": [
            [
             0,
             "#0d0887"
            ],
            [
             0.1111111111111111,
             "#46039f"
            ],
            [
             0.2222222222222222,
             "#7201a8"
            ],
            [
             0.3333333333333333,
             "#9c179e"
            ],
            [
             0.4444444444444444,
             "#bd3786"
            ],
            [
             0.5555555555555556,
             "#d8576b"
            ],
            [
             0.6666666666666666,
             "#ed7953"
            ],
            [
             0.7777777777777778,
             "#fb9f3a"
            ],
            [
             0.8888888888888888,
             "#fdca26"
            ],
            [
             1,
             "#f0f921"
            ]
           ],
           "sequentialminus": [
            [
             0,
             "#0d0887"
            ],
            [
             0.1111111111111111,
             "#46039f"
            ],
            [
             0.2222222222222222,
             "#7201a8"
            ],
            [
             0.3333333333333333,
             "#9c179e"
            ],
            [
             0.4444444444444444,
             "#bd3786"
            ],
            [
             0.5555555555555556,
             "#d8576b"
            ],
            [
             0.6666666666666666,
             "#ed7953"
            ],
            [
             0.7777777777777778,
             "#fb9f3a"
            ],
            [
             0.8888888888888888,
             "#fdca26"
            ],
            [
             1,
             "#f0f921"
            ]
           ]
          },
          "colorway": [
           "#636efa",
           "#EF553B",
           "#00cc96",
           "#ab63fa",
           "#FFA15A",
           "#19d3f3",
           "#FF6692",
           "#B6E880",
           "#FF97FF",
           "#FECB52"
          ],
          "font": {
           "color": "#2a3f5f"
          },
          "geo": {
           "bgcolor": "white",
           "lakecolor": "white",
           "landcolor": "white",
           "showlakes": true,
           "showland": true,
           "subunitcolor": "#C8D4E3"
          },
          "hoverlabel": {
           "align": "left"
          },
          "hovermode": "closest",
          "mapbox": {
           "style": "light"
          },
          "paper_bgcolor": "white",
          "plot_bgcolor": "white",
          "polar": {
           "angularaxis": {
            "gridcolor": "#EBF0F8",
            "linecolor": "#EBF0F8",
            "ticks": ""
           },
           "bgcolor": "white",
           "radialaxis": {
            "gridcolor": "#EBF0F8",
            "linecolor": "#EBF0F8",
            "ticks": ""
           }
          },
          "scene": {
           "xaxis": {
            "backgroundcolor": "white",
            "gridcolor": "#DFE8F3",
            "gridwidth": 2,
            "linecolor": "#EBF0F8",
            "showbackground": true,
            "ticks": "",
            "zerolinecolor": "#EBF0F8"
           },
           "yaxis": {
            "backgroundcolor": "white",
            "gridcolor": "#DFE8F3",
            "gridwidth": 2,
            "linecolor": "#EBF0F8",
            "showbackground": true,
            "ticks": "",
            "zerolinecolor": "#EBF0F8"
           },
           "zaxis": {
            "backgroundcolor": "white",
            "gridcolor": "#DFE8F3",
            "gridwidth": 2,
            "linecolor": "#EBF0F8",
            "showbackground": true,
            "ticks": "",
            "zerolinecolor": "#EBF0F8"
           }
          },
          "shapedefaults": {
           "line": {
            "color": "#2a3f5f"
           }
          },
          "ternary": {
           "aaxis": {
            "gridcolor": "#DFE8F3",
            "linecolor": "#A2B1C6",
            "ticks": ""
           },
           "baxis": {
            "gridcolor": "#DFE8F3",
            "linecolor": "#A2B1C6",
            "ticks": ""
           },
           "bgcolor": "white",
           "caxis": {
            "gridcolor": "#DFE8F3",
            "linecolor": "#A2B1C6",
            "ticks": ""
           }
          },
          "title": {
           "x": 0.05
          },
          "xaxis": {
           "automargin": true,
           "gridcolor": "#EBF0F8",
           "linecolor": "#EBF0F8",
           "ticks": "",
           "title": {
            "standoff": 15
           },
           "zerolinecolor": "#EBF0F8",
           "zerolinewidth": 2
          },
          "yaxis": {
           "automargin": true,
           "gridcolor": "#EBF0F8",
           "linecolor": "#EBF0F8",
           "ticks": "",
           "title": {
            "standoff": 15
           },
           "zerolinecolor": "#EBF0F8",
           "zerolinewidth": 2
          }
         }
        },
        "width": 900,
        "xaxis": {
         "anchor": "y",
         "categoryorder": "category ascending",
         "domain": [
          0,
          1
         ],
         "tickfont": {
          "size": 14
         },
         "title": {
          "font": {
           "size": 14
          },
          "text": "Length Bins"
         }
        },
        "yaxis": {
         "anchor": "x",
         "domain": [
          0,
          1
         ],
         "tickfont": {
          "size": 14
         },
         "title": {
          "font": {
           "size": 14
          },
          "text": "# of LCLids"
         }
        }
       }
      }
     },
     "metadata": {},
     "output_type": "display_data"
    }
   ],
   "source": [
    "fig = px.histogram(out).update_xaxes(categoryorder=\"category ascending\")\n",
    "fig.update_layout(\n",
    "        autosize=False,\n",
    "        width=900,\n",
    "        height=500,\n",
    "    # title_text=\"\",\n",
    "        yaxis=dict(\n",
    "            title_text=\"# of LCLids\",\n",
    "            titlefont=dict(size=14),\n",
    "            tickfont=dict(size=14),\n",
    "        ),\n",
    "        xaxis=dict(\n",
    "            title_text=\"Length Bins\",\n",
    "            titlefont=dict(size=14),\n",
    "            tickfont=dict(size=14),\n",
    "        ),\n",
    "    showlegend=False\n",
    "    )\n",
    "fig.write_image(\"imgs/chapter_15/length_bin_dist.png\")\n",
    "fig.show()"
   ]
  },
  {
   "cell_type": "code",
   "execution_count": 80,
   "id": "cf741c02-bb55-4c99-9057-99e9e9b3a5e1",
   "metadata": {},
   "outputs": [],
   "source": [
    "def get_batch_count(train_dataloader, n=50):\n",
    "    all_batches=defaultdict(list)\n",
    "    for i,(x,y) in tqdm(enumerate(train_dataloader), total=n):\n",
    "        # finding the LCLid using inverse transform\n",
    "        grps = enc.inverse_transform(x[\"groups\"])\n",
    "        # getting the bins from the bins we create earlier\n",
    "        bins = out[grps.ravel()]\n",
    "        # value count and convert to dictionary\n",
    "        curr = bins.value_counts().to_dict()\n",
    "        # Adding the counts to all_batches\n",
    "        for key in curr.keys():\n",
    "            all_batches[key].append(curr.get(key))\n",
    "        if i>=n:\n",
    "            break\n",
    "    return all_batches\n",
    "\n",
    "def plot_batches(all_batches):\n",
    "    # making a list for batch index\n",
    "    x = [str(x) for x in range(len(all_batches[out[0]]))]\n",
    "    data_append = []\n",
    "    # For each bin adding a bar\n",
    "    for bin_name in reversed(out.cat.categories):\n",
    "        data_append.append(go.Bar(\n",
    "                                   x=x,\n",
    "                                   y=all_batches[bin_name],\n",
    "                                   textposition='auto',name=bin_name))\n",
    "    fig = go.Figure(data=data_append)\n",
    "    return fig"
   ]
  },
  {
   "cell_type": "markdown",
   "id": "59547e41-37c9-4893-9c27-54405d817c01",
   "metadata": {
    "tags": []
   },
   "source": [
    "#### Without Batch Samplers"
   ]
  },
  {
   "cell_type": "code",
   "execution_count": 81,
   "id": "892d86cf-6774-4581-b786-9c660befa2e3",
   "metadata": {},
   "outputs": [
    {
     "data": {
      "application/vnd.jupyter.widget-view+json": {
       "model_id": "ace3cf5995b64eab8b6272950a20a202",
       "version_major": 2,
       "version_minor": 0
      },
      "text/plain": [
       "  0%|          | 0/50 [00:00<?, ?it/s]"
      ]
     },
     "metadata": {},
     "output_type": "display_data"
    }
   ],
   "source": [
    "train_dataloader = training.to_dataloader(train=True, batch_size=batch_size, num_workers=0)\n",
    "all_batches = get_batch_count(train_dataloader, n=50)"
   ]
  },
  {
   "cell_type": "code",
   "execution_count": 82,
   "id": "df545e6e-a28f-4ca6-b22c-acec2638b273",
   "metadata": {},
   "outputs": [
    {
     "name": "stderr",
     "output_type": "stream",
     "text": [
      "C:\\Users\\tacke\\AppData\\Local\\Temp\\ipykernel_39292\\4002195109.py:19: FutureWarning:\n",
      "\n",
      "Series.__getitem__ treating keys as positions is deprecated. In a future version, integer keys will always be treated as labels (consistent with DataFrame behavior). To access a value by position, use `ser.iloc[pos]`\n",
      "\n"
     ]
    },
    {
     "data": {
      "application/vnd.plotly.v1+json": {
       "config": {
        "plotlyServerURL": "https://plot.ly"
       },
       "data": [
        {
         "name": "bin_9",
         "textposition": "auto",
         "type": "bar",
         "x": [
          "0",
          "1",
          "2",
          "3",
          "4",
          "5",
          "6",
          "7",
          "8",
          "9",
          "10",
          "11",
          "12",
          "13",
          "14",
          "15",
          "16",
          "17",
          "18",
          "19",
          "20",
          "21",
          "22",
          "23",
          "24",
          "25",
          "26",
          "27",
          "28",
          "29",
          "30",
          "31",
          "32",
          "33",
          "34",
          "35",
          "36",
          "37",
          "38",
          "39",
          "40",
          "41",
          "42",
          "43",
          "44",
          "45",
          "46",
          "47",
          "48",
          "49",
          "50"
         ],
         "y": [
          167,
          188,
          177,
          168,
          185,
          181,
          181,
          183,
          195,
          176,
          172,
          185,
          167,
          178,
          178,
          186,
          173,
          178,
          182,
          172,
          168,
          189,
          170,
          206,
          193,
          170,
          193,
          191,
          181,
          204,
          199,
          178,
          171,
          170,
          182,
          179,
          178,
          185,
          181,
          213,
          198,
          179,
          171,
          181,
          201,
          185,
          192,
          186,
          190,
          193,
          163
         ]
        },
        {
         "name": "bin_8",
         "textposition": "auto",
         "type": "bar",
         "x": [
          "0",
          "1",
          "2",
          "3",
          "4",
          "5",
          "6",
          "7",
          "8",
          "9",
          "10",
          "11",
          "12",
          "13",
          "14",
          "15",
          "16",
          "17",
          "18",
          "19",
          "20",
          "21",
          "22",
          "23",
          "24",
          "25",
          "26",
          "27",
          "28",
          "29",
          "30",
          "31",
          "32",
          "33",
          "34",
          "35",
          "36",
          "37",
          "38",
          "39",
          "40",
          "41",
          "42",
          "43",
          "44",
          "45",
          "46",
          "47",
          "48",
          "49",
          "50"
         ],
         "y": [
          56,
          60,
          62,
          60,
          53,
          45,
          59,
          57,
          58,
          43,
          60,
          57,
          52,
          56,
          42,
          51,
          54,
          81,
          56,
          65,
          63,
          46,
          59,
          53,
          53,
          61,
          63,
          67,
          51,
          69,
          49,
          57,
          51,
          55,
          57,
          48,
          56,
          59,
          73,
          48,
          61,
          55,
          64,
          45,
          53,
          58,
          52,
          67,
          64,
          57,
          60
         ]
        },
        {
         "name": "bin_7",
         "textposition": "auto",
         "type": "bar",
         "x": [
          "0",
          "1",
          "2",
          "3",
          "4",
          "5",
          "6",
          "7",
          "8",
          "9",
          "10",
          "11",
          "12",
          "13",
          "14",
          "15",
          "16",
          "17",
          "18",
          "19",
          "20",
          "21",
          "22",
          "23",
          "24",
          "25",
          "26",
          "27",
          "28",
          "29",
          "30",
          "31",
          "32",
          "33",
          "34",
          "35",
          "36",
          "37",
          "38",
          "39",
          "40",
          "41",
          "42",
          "43",
          "44",
          "45",
          "46",
          "47",
          "48",
          "49",
          "50"
         ],
         "y": [
          0,
          0,
          0,
          0,
          0,
          0,
          0,
          0,
          0,
          0,
          0,
          0,
          0,
          0,
          0,
          0,
          0,
          0,
          0,
          0,
          0,
          0,
          0,
          0,
          0,
          0,
          0,
          0,
          0,
          0,
          0,
          0,
          0,
          0,
          0,
          0,
          0,
          0,
          0,
          0,
          0,
          0,
          0,
          0,
          0,
          0,
          0,
          0,
          0,
          0,
          0
         ]
        },
        {
         "name": "bin_6",
         "textposition": "auto",
         "type": "bar",
         "x": [
          "0",
          "1",
          "2",
          "3",
          "4",
          "5",
          "6",
          "7",
          "8",
          "9",
          "10",
          "11",
          "12",
          "13",
          "14",
          "15",
          "16",
          "17",
          "18",
          "19",
          "20",
          "21",
          "22",
          "23",
          "24",
          "25",
          "26",
          "27",
          "28",
          "29",
          "30",
          "31",
          "32",
          "33",
          "34",
          "35",
          "36",
          "37",
          "38",
          "39",
          "40",
          "41",
          "42",
          "43",
          "44",
          "45",
          "46",
          "47",
          "48",
          "49",
          "50"
         ],
         "y": [
          51,
          59,
          51,
          63,
          58,
          61,
          59,
          47,
          54,
          48,
          43,
          50,
          62,
          42,
          50,
          66,
          56,
          45,
          65,
          53,
          50,
          49,
          50,
          53,
          63,
          48,
          46,
          53,
          54,
          48,
          53,
          51,
          47,
          50,
          40,
          54,
          55,
          63,
          34,
          49,
          35,
          52,
          60,
          47,
          48,
          50,
          53,
          59,
          44,
          39,
          51
         ]
        },
        {
         "name": "bin_5",
         "textposition": "auto",
         "type": "bar",
         "x": [
          "0",
          "1",
          "2",
          "3",
          "4",
          "5",
          "6",
          "7",
          "8",
          "9",
          "10",
          "11",
          "12",
          "13",
          "14",
          "15",
          "16",
          "17",
          "18",
          "19",
          "20",
          "21",
          "22",
          "23",
          "24",
          "25",
          "26",
          "27",
          "28",
          "29",
          "30",
          "31",
          "32",
          "33",
          "34",
          "35",
          "36",
          "37",
          "38",
          "39",
          "40",
          "41",
          "42",
          "43",
          "44",
          "45",
          "46",
          "47",
          "48",
          "49",
          "50"
         ],
         "y": [
          157,
          151,
          147,
          149,
          136,
          150,
          145,
          161,
          137,
          168,
          159,
          156,
          137,
          158,
          178,
          149,
          142,
          136,
          152,
          148,
          156,
          145,
          150,
          137,
          143,
          150,
          153,
          131,
          157,
          141,
          141,
          156,
          165,
          164,
          160,
          152,
          149,
          133,
          141,
          143,
          146,
          148,
          145,
          161,
          138,
          141,
          149,
          133,
          144,
          161,
          164
         ]
        },
        {
         "name": "bin_4",
         "textposition": "auto",
         "type": "bar",
         "x": [
          "0",
          "1",
          "2",
          "3",
          "4",
          "5",
          "6",
          "7",
          "8",
          "9",
          "10",
          "11",
          "12",
          "13",
          "14",
          "15",
          "16",
          "17",
          "18",
          "19",
          "20",
          "21",
          "22",
          "23",
          "24",
          "25",
          "26",
          "27",
          "28",
          "29",
          "30",
          "31",
          "32",
          "33",
          "34",
          "35",
          "36",
          "37",
          "38",
          "39",
          "40",
          "41",
          "42",
          "43",
          "44",
          "45",
          "46",
          "47",
          "48",
          "49",
          "50"
         ],
         "y": [
          0,
          0,
          0,
          0,
          0,
          0,
          0,
          0,
          0,
          0,
          0,
          0,
          0,
          0,
          0,
          0,
          0,
          0,
          0,
          0,
          0,
          0,
          0,
          0,
          0,
          0,
          0,
          0,
          0,
          0,
          0,
          0,
          0,
          0,
          0,
          0,
          0,
          0,
          0,
          0,
          0,
          0,
          0,
          0,
          0,
          0,
          0,
          0,
          0,
          0,
          0
         ]
        },
        {
         "name": "bin_3",
         "textposition": "auto",
         "type": "bar",
         "x": [
          "0",
          "1",
          "2",
          "3",
          "4",
          "5",
          "6",
          "7",
          "8",
          "9",
          "10",
          "11",
          "12",
          "13",
          "14",
          "15",
          "16",
          "17",
          "18",
          "19",
          "20",
          "21",
          "22",
          "23",
          "24",
          "25",
          "26",
          "27",
          "28",
          "29",
          "30",
          "31",
          "32",
          "33",
          "34",
          "35",
          "36",
          "37",
          "38",
          "39",
          "40",
          "41",
          "42",
          "43",
          "44",
          "45",
          "46",
          "47",
          "48",
          "49",
          "50"
         ],
         "y": [
          0,
          0,
          0,
          0,
          0,
          0,
          0,
          0,
          0,
          0,
          0,
          0,
          0,
          0,
          0,
          0,
          0,
          0,
          0,
          0,
          0,
          0,
          0,
          0,
          0,
          0,
          0,
          0,
          0,
          0,
          0,
          0,
          0,
          0,
          0,
          0,
          0,
          0,
          0,
          0,
          0,
          0,
          0,
          0,
          0,
          0,
          0,
          0,
          0,
          0,
          0
         ]
        },
        {
         "name": "bin_2",
         "textposition": "auto",
         "type": "bar",
         "x": [
          "0",
          "1",
          "2",
          "3",
          "4",
          "5",
          "6",
          "7",
          "8",
          "9",
          "10",
          "11",
          "12",
          "13",
          "14",
          "15",
          "16",
          "17",
          "18",
          "19",
          "20",
          "21",
          "22",
          "23",
          "24",
          "25",
          "26",
          "27",
          "28",
          "29",
          "30",
          "31",
          "32",
          "33",
          "34",
          "35",
          "36",
          "37",
          "38",
          "39",
          "40",
          "41",
          "42",
          "43",
          "44",
          "45",
          "46",
          "47",
          "48",
          "49",
          "50"
         ],
         "y": [
          0,
          0,
          0,
          0,
          0,
          0,
          0,
          0,
          0,
          0,
          0,
          0,
          0,
          0,
          0,
          0,
          0,
          0,
          0,
          0,
          0,
          0,
          0,
          0,
          0,
          0,
          0,
          0,
          0,
          0,
          0,
          0,
          0,
          0,
          0,
          0,
          0,
          0,
          0,
          0,
          0,
          0,
          0,
          0,
          0,
          0,
          0,
          0,
          0,
          0,
          0
         ]
        },
        {
         "name": "bin_1",
         "textposition": "auto",
         "type": "bar",
         "x": [
          "0",
          "1",
          "2",
          "3",
          "4",
          "5",
          "6",
          "7",
          "8",
          "9",
          "10",
          "11",
          "12",
          "13",
          "14",
          "15",
          "16",
          "17",
          "18",
          "19",
          "20",
          "21",
          "22",
          "23",
          "24",
          "25",
          "26",
          "27",
          "28",
          "29",
          "30",
          "31",
          "32",
          "33",
          "34",
          "35",
          "36",
          "37",
          "38",
          "39",
          "40",
          "41",
          "42",
          "43",
          "44",
          "45",
          "46",
          "47",
          "48",
          "49",
          "50"
         ],
         "y": [
          39,
          30,
          44,
          37,
          40,
          40,
          30,
          29,
          41,
          38,
          41,
          36,
          56,
          36,
          31,
          34,
          49,
          36,
          24,
          39,
          41,
          47,
          46,
          42,
          34,
          45,
          25,
          33,
          41,
          24,
          41,
          38,
          31,
          40,
          37,
          42,
          34,
          43,
          47,
          28,
          37,
          47,
          45,
          37,
          39,
          37,
          37,
          31,
          31,
          27,
          38
         ]
        },
        {
         "name": "bin_0",
         "textposition": "auto",
         "type": "bar",
         "x": [
          "0",
          "1",
          "2",
          "3",
          "4",
          "5",
          "6",
          "7",
          "8",
          "9",
          "10",
          "11",
          "12",
          "13",
          "14",
          "15",
          "16",
          "17",
          "18",
          "19",
          "20",
          "21",
          "22",
          "23",
          "24",
          "25",
          "26",
          "27",
          "28",
          "29",
          "30",
          "31",
          "32",
          "33",
          "34",
          "35",
          "36",
          "37",
          "38",
          "39",
          "40",
          "41",
          "42",
          "43",
          "44",
          "45",
          "46",
          "47",
          "48",
          "49",
          "50"
         ],
         "y": [
          42,
          24,
          31,
          35,
          40,
          35,
          38,
          35,
          27,
          39,
          37,
          28,
          38,
          42,
          33,
          26,
          38,
          36,
          33,
          35,
          34,
          36,
          37,
          21,
          26,
          38,
          32,
          37,
          28,
          26,
          29,
          32,
          47,
          33,
          36,
          37,
          40,
          29,
          36,
          31,
          35,
          31,
          27,
          41,
          33,
          41,
          29,
          36,
          39,
          35,
          36
         ]
        }
       ],
       "layout": {
        "autosize": false,
        "barmode": "stack",
        "height": 500,
        "template": {
         "data": {
          "bar": [
           {
            "error_x": {
             "color": "#2a3f5f"
            },
            "error_y": {
             "color": "#2a3f5f"
            },
            "marker": {
             "line": {
              "color": "white",
              "width": 0.5
             },
             "pattern": {
              "fillmode": "overlay",
              "size": 10,
              "solidity": 0.2
             }
            },
            "type": "bar"
           }
          ],
          "barpolar": [
           {
            "marker": {
             "line": {
              "color": "white",
              "width": 0.5
             },
             "pattern": {
              "fillmode": "overlay",
              "size": 10,
              "solidity": 0.2
             }
            },
            "type": "barpolar"
           }
          ],
          "carpet": [
           {
            "aaxis": {
             "endlinecolor": "#2a3f5f",
             "gridcolor": "#C8D4E3",
             "linecolor": "#C8D4E3",
             "minorgridcolor": "#C8D4E3",
             "startlinecolor": "#2a3f5f"
            },
            "baxis": {
             "endlinecolor": "#2a3f5f",
             "gridcolor": "#C8D4E3",
             "linecolor": "#C8D4E3",
             "minorgridcolor": "#C8D4E3",
             "startlinecolor": "#2a3f5f"
            },
            "type": "carpet"
           }
          ],
          "choropleth": [
           {
            "colorbar": {
             "outlinewidth": 0,
             "ticks": ""
            },
            "type": "choropleth"
           }
          ],
          "contour": [
           {
            "colorbar": {
             "outlinewidth": 0,
             "ticks": ""
            },
            "colorscale": [
             [
              0,
              "#0d0887"
             ],
             [
              0.1111111111111111,
              "#46039f"
             ],
             [
              0.2222222222222222,
              "#7201a8"
             ],
             [
              0.3333333333333333,
              "#9c179e"
             ],
             [
              0.4444444444444444,
              "#bd3786"
             ],
             [
              0.5555555555555556,
              "#d8576b"
             ],
             [
              0.6666666666666666,
              "#ed7953"
             ],
             [
              0.7777777777777778,
              "#fb9f3a"
             ],
             [
              0.8888888888888888,
              "#fdca26"
             ],
             [
              1,
              "#f0f921"
             ]
            ],
            "type": "contour"
           }
          ],
          "contourcarpet": [
           {
            "colorbar": {
             "outlinewidth": 0,
             "ticks": ""
            },
            "type": "contourcarpet"
           }
          ],
          "heatmap": [
           {
            "colorbar": {
             "outlinewidth": 0,
             "ticks": ""
            },
            "colorscale": [
             [
              0,
              "#0d0887"
             ],
             [
              0.1111111111111111,
              "#46039f"
             ],
             [
              0.2222222222222222,
              "#7201a8"
             ],
             [
              0.3333333333333333,
              "#9c179e"
             ],
             [
              0.4444444444444444,
              "#bd3786"
             ],
             [
              0.5555555555555556,
              "#d8576b"
             ],
             [
              0.6666666666666666,
              "#ed7953"
             ],
             [
              0.7777777777777778,
              "#fb9f3a"
             ],
             [
              0.8888888888888888,
              "#fdca26"
             ],
             [
              1,
              "#f0f921"
             ]
            ],
            "type": "heatmap"
           }
          ],
          "heatmapgl": [
           {
            "colorbar": {
             "outlinewidth": 0,
             "ticks": ""
            },
            "colorscale": [
             [
              0,
              "#0d0887"
             ],
             [
              0.1111111111111111,
              "#46039f"
             ],
             [
              0.2222222222222222,
              "#7201a8"
             ],
             [
              0.3333333333333333,
              "#9c179e"
             ],
             [
              0.4444444444444444,
              "#bd3786"
             ],
             [
              0.5555555555555556,
              "#d8576b"
             ],
             [
              0.6666666666666666,
              "#ed7953"
             ],
             [
              0.7777777777777778,
              "#fb9f3a"
             ],
             [
              0.8888888888888888,
              "#fdca26"
             ],
             [
              1,
              "#f0f921"
             ]
            ],
            "type": "heatmapgl"
           }
          ],
          "histogram": [
           {
            "marker": {
             "pattern": {
              "fillmode": "overlay",
              "size": 10,
              "solidity": 0.2
             }
            },
            "type": "histogram"
           }
          ],
          "histogram2d": [
           {
            "colorbar": {
             "outlinewidth": 0,
             "ticks": ""
            },
            "colorscale": [
             [
              0,
              "#0d0887"
             ],
             [
              0.1111111111111111,
              "#46039f"
             ],
             [
              0.2222222222222222,
              "#7201a8"
             ],
             [
              0.3333333333333333,
              "#9c179e"
             ],
             [
              0.4444444444444444,
              "#bd3786"
             ],
             [
              0.5555555555555556,
              "#d8576b"
             ],
             [
              0.6666666666666666,
              "#ed7953"
             ],
             [
              0.7777777777777778,
              "#fb9f3a"
             ],
             [
              0.8888888888888888,
              "#fdca26"
             ],
             [
              1,
              "#f0f921"
             ]
            ],
            "type": "histogram2d"
           }
          ],
          "histogram2dcontour": [
           {
            "colorbar": {
             "outlinewidth": 0,
             "ticks": ""
            },
            "colorscale": [
             [
              0,
              "#0d0887"
             ],
             [
              0.1111111111111111,
              "#46039f"
             ],
             [
              0.2222222222222222,
              "#7201a8"
             ],
             [
              0.3333333333333333,
              "#9c179e"
             ],
             [
              0.4444444444444444,
              "#bd3786"
             ],
             [
              0.5555555555555556,
              "#d8576b"
             ],
             [
              0.6666666666666666,
              "#ed7953"
             ],
             [
              0.7777777777777778,
              "#fb9f3a"
             ],
             [
              0.8888888888888888,
              "#fdca26"
             ],
             [
              1,
              "#f0f921"
             ]
            ],
            "type": "histogram2dcontour"
           }
          ],
          "mesh3d": [
           {
            "colorbar": {
             "outlinewidth": 0,
             "ticks": ""
            },
            "type": "mesh3d"
           }
          ],
          "parcoords": [
           {
            "line": {
             "colorbar": {
              "outlinewidth": 0,
              "ticks": ""
             }
            },
            "type": "parcoords"
           }
          ],
          "pie": [
           {
            "automargin": true,
            "type": "pie"
           }
          ],
          "scatter": [
           {
            "fillpattern": {
             "fillmode": "overlay",
             "size": 10,
             "solidity": 0.2
            },
            "type": "scatter"
           }
          ],
          "scatter3d": [
           {
            "line": {
             "colorbar": {
              "outlinewidth": 0,
              "ticks": ""
             }
            },
            "marker": {
             "colorbar": {
              "outlinewidth": 0,
              "ticks": ""
             }
            },
            "type": "scatter3d"
           }
          ],
          "scattercarpet": [
           {
            "marker": {
             "colorbar": {
              "outlinewidth": 0,
              "ticks": ""
             }
            },
            "type": "scattercarpet"
           }
          ],
          "scattergeo": [
           {
            "marker": {
             "colorbar": {
              "outlinewidth": 0,
              "ticks": ""
             }
            },
            "type": "scattergeo"
           }
          ],
          "scattergl": [
           {
            "marker": {
             "colorbar": {
              "outlinewidth": 0,
              "ticks": ""
             }
            },
            "type": "scattergl"
           }
          ],
          "scattermapbox": [
           {
            "marker": {
             "colorbar": {
              "outlinewidth": 0,
              "ticks": ""
             }
            },
            "type": "scattermapbox"
           }
          ],
          "scatterpolar": [
           {
            "marker": {
             "colorbar": {
              "outlinewidth": 0,
              "ticks": ""
             }
            },
            "type": "scatterpolar"
           }
          ],
          "scatterpolargl": [
           {
            "marker": {
             "colorbar": {
              "outlinewidth": 0,
              "ticks": ""
             }
            },
            "type": "scatterpolargl"
           }
          ],
          "scatterternary": [
           {
            "marker": {
             "colorbar": {
              "outlinewidth": 0,
              "ticks": ""
             }
            },
            "type": "scatterternary"
           }
          ],
          "surface": [
           {
            "colorbar": {
             "outlinewidth": 0,
             "ticks": ""
            },
            "colorscale": [
             [
              0,
              "#0d0887"
             ],
             [
              0.1111111111111111,
              "#46039f"
             ],
             [
              0.2222222222222222,
              "#7201a8"
             ],
             [
              0.3333333333333333,
              "#9c179e"
             ],
             [
              0.4444444444444444,
              "#bd3786"
             ],
             [
              0.5555555555555556,
              "#d8576b"
             ],
             [
              0.6666666666666666,
              "#ed7953"
             ],
             [
              0.7777777777777778,
              "#fb9f3a"
             ],
             [
              0.8888888888888888,
              "#fdca26"
             ],
             [
              1,
              "#f0f921"
             ]
            ],
            "type": "surface"
           }
          ],
          "table": [
           {
            "cells": {
             "fill": {
              "color": "#EBF0F8"
             },
             "line": {
              "color": "white"
             }
            },
            "header": {
             "fill": {
              "color": "#C8D4E3"
             },
             "line": {
              "color": "white"
             }
            },
            "type": "table"
           }
          ]
         },
         "layout": {
          "annotationdefaults": {
           "arrowcolor": "#2a3f5f",
           "arrowhead": 0,
           "arrowwidth": 1
          },
          "autotypenumbers": "strict",
          "coloraxis": {
           "colorbar": {
            "outlinewidth": 0,
            "ticks": ""
           }
          },
          "colorscale": {
           "diverging": [
            [
             0,
             "#8e0152"
            ],
            [
             0.1,
             "#c51b7d"
            ],
            [
             0.2,
             "#de77ae"
            ],
            [
             0.3,
             "#f1b6da"
            ],
            [
             0.4,
             "#fde0ef"
            ],
            [
             0.5,
             "#f7f7f7"
            ],
            [
             0.6,
             "#e6f5d0"
            ],
            [
             0.7,
             "#b8e186"
            ],
            [
             0.8,
             "#7fbc41"
            ],
            [
             0.9,
             "#4d9221"
            ],
            [
             1,
             "#276419"
            ]
           ],
           "sequential": [
            [
             0,
             "#0d0887"
            ],
            [
             0.1111111111111111,
             "#46039f"
            ],
            [
             0.2222222222222222,
             "#7201a8"
            ],
            [
             0.3333333333333333,
             "#9c179e"
            ],
            [
             0.4444444444444444,
             "#bd3786"
            ],
            [
             0.5555555555555556,
             "#d8576b"
            ],
            [
             0.6666666666666666,
             "#ed7953"
            ],
            [
             0.7777777777777778,
             "#fb9f3a"
            ],
            [
             0.8888888888888888,
             "#fdca26"
            ],
            [
             1,
             "#f0f921"
            ]
           ],
           "sequentialminus": [
            [
             0,
             "#0d0887"
            ],
            [
             0.1111111111111111,
             "#46039f"
            ],
            [
             0.2222222222222222,
             "#7201a8"
            ],
            [
             0.3333333333333333,
             "#9c179e"
            ],
            [
             0.4444444444444444,
             "#bd3786"
            ],
            [
             0.5555555555555556,
             "#d8576b"
            ],
            [
             0.6666666666666666,
             "#ed7953"
            ],
            [
             0.7777777777777778,
             "#fb9f3a"
            ],
            [
             0.8888888888888888,
             "#fdca26"
            ],
            [
             1,
             "#f0f921"
            ]
           ]
          },
          "colorway": [
           "#636efa",
           "#EF553B",
           "#00cc96",
           "#ab63fa",
           "#FFA15A",
           "#19d3f3",
           "#FF6692",
           "#B6E880",
           "#FF97FF",
           "#FECB52"
          ],
          "font": {
           "color": "#2a3f5f"
          },
          "geo": {
           "bgcolor": "white",
           "lakecolor": "white",
           "landcolor": "white",
           "showlakes": true,
           "showland": true,
           "subunitcolor": "#C8D4E3"
          },
          "hoverlabel": {
           "align": "left"
          },
          "hovermode": "closest",
          "mapbox": {
           "style": "light"
          },
          "paper_bgcolor": "white",
          "plot_bgcolor": "white",
          "polar": {
           "angularaxis": {
            "gridcolor": "#EBF0F8",
            "linecolor": "#EBF0F8",
            "ticks": ""
           },
           "bgcolor": "white",
           "radialaxis": {
            "gridcolor": "#EBF0F8",
            "linecolor": "#EBF0F8",
            "ticks": ""
           }
          },
          "scene": {
           "xaxis": {
            "backgroundcolor": "white",
            "gridcolor": "#DFE8F3",
            "gridwidth": 2,
            "linecolor": "#EBF0F8",
            "showbackground": true,
            "ticks": "",
            "zerolinecolor": "#EBF0F8"
           },
           "yaxis": {
            "backgroundcolor": "white",
            "gridcolor": "#DFE8F3",
            "gridwidth": 2,
            "linecolor": "#EBF0F8",
            "showbackground": true,
            "ticks": "",
            "zerolinecolor": "#EBF0F8"
           },
           "zaxis": {
            "backgroundcolor": "white",
            "gridcolor": "#DFE8F3",
            "gridwidth": 2,
            "linecolor": "#EBF0F8",
            "showbackground": true,
            "ticks": "",
            "zerolinecolor": "#EBF0F8"
           }
          },
          "shapedefaults": {
           "line": {
            "color": "#2a3f5f"
           }
          },
          "ternary": {
           "aaxis": {
            "gridcolor": "#DFE8F3",
            "linecolor": "#A2B1C6",
            "ticks": ""
           },
           "baxis": {
            "gridcolor": "#DFE8F3",
            "linecolor": "#A2B1C6",
            "ticks": ""
           },
           "bgcolor": "white",
           "caxis": {
            "gridcolor": "#DFE8F3",
            "linecolor": "#A2B1C6",
            "ticks": ""
           }
          },
          "title": {
           "x": 0.05
          },
          "xaxis": {
           "automargin": true,
           "gridcolor": "#EBF0F8",
           "linecolor": "#EBF0F8",
           "ticks": "",
           "title": {
            "standoff": 15
           },
           "zerolinecolor": "#EBF0F8",
           "zerolinewidth": 2
          },
          "yaxis": {
           "automargin": true,
           "gridcolor": "#EBF0F8",
           "linecolor": "#EBF0F8",
           "ticks": "",
           "title": {
            "standoff": 15
           },
           "zerolinecolor": "#EBF0F8",
           "zerolinewidth": 2
          }
         }
        },
        "width": 900,
        "xaxis": {
         "tickfont": {
          "size": 14
         },
         "title": {
          "font": {
           "size": 14
          },
          "text": "Batch Number"
         }
        },
        "yaxis": {
         "tickfont": {
          "size": 14
         },
         "title": {
          "font": {
           "size": 14
          },
          "text": "Bin Frequency"
         }
        }
       }
      }
     },
     "metadata": {},
     "output_type": "display_data"
    }
   ],
   "source": [
    "fig = plot_batches(all_batches)\n",
    "fig.update_layout(\n",
    "        autosize=False,\n",
    "        width=900,\n",
    "        height=500,\n",
    "    # title_text=\"\",\n",
    "        yaxis=dict(\n",
    "            title_text=\"Bin Frequency\",\n",
    "            titlefont=dict(size=14),\n",
    "            tickfont=dict(size=14),\n",
    "        ),\n",
    "        xaxis=dict(\n",
    "            title_text=\"Batch Number\",\n",
    "            titlefont=dict(size=14),\n",
    "            tickfont=dict(size=14),\n",
    "        ),\n",
    "    barmode=\"stack\",\n",
    "    )\n",
    "fig.write_image(\"imgs/chapter_15/wo_batchsamplers.png\")\n",
    "fig.show()"
   ]
  },
  {
   "cell_type": "markdown",
   "id": "47a485fe-bf44-4f59-ad1c-cf4f0f9d36d6",
   "metadata": {
    "tags": []
   },
   "source": [
    "#### With Batch Samplers"
   ]
  },
  {
   "cell_type": "markdown",
   "id": "2e308058-2058-4489-ae2b-79cccb2aa14d",
   "metadata": {},
   "source": [
    "We define a probability which makes the batch balanced across different batches.\n",
    "\n",
    "We can use the bins of the length of time series and initializing the weights as 1/frequency of each bin. This makes the sampling focus more on low frequency bins and make single batch equal"
   ]
  },
  {
   "cell_type": "code",
   "execution_count": 83,
   "id": "6af871ba-d2ed-4b9b-9d73-b260969780c9",
   "metadata": {},
   "outputs": [],
   "source": [
    "# Calculate Weights as inverse counts of the bins\n",
    "weights = 1/df['bins'].value_counts(normalize=True)\n",
    "# Assigning the weights back to the df so that we have an array of \n",
    "# weights in the same shape as the index over which we are going to sample\n",
    "weights = weights.reset_index().rename(columns={\"proportion\":\"weight\"})\n",
    "df = df.merge(weights, on='bins', how='left')\n",
    "probabilities = df.weight.values"
   ]
  },
  {
   "cell_type": "code",
   "execution_count": 84,
   "id": "5aeeca97-91f8-4c8b-8bc4-a3eaf0fb2218",
   "metadata": {},
   "outputs": [],
   "source": [
    "from torch.utils.data import WeightedRandomSampler\n",
    "sampler = WeightedRandomSampler(probabilities, len(probabilities))"
   ]
  },
  {
   "cell_type": "code",
   "execution_count": 85,
   "id": "d08cc96c-9f05-423a-aa9c-53ee0558e60c",
   "metadata": {},
   "outputs": [
    {
     "data": {
      "application/vnd.jupyter.widget-view+json": {
       "model_id": "43eeb846bae442a9a435d69f8c2ecbf0",
       "version_major": 2,
       "version_minor": 0
      },
      "text/plain": [
       "  0%|          | 0/50 [00:00<?, ?it/s]"
      ]
     },
     "metadata": {},
     "output_type": "display_data"
    }
   ],
   "source": [
    "train_dataloader = training.to_dataloader(train=True, batch_size=batch_size, num_workers=0, sampler=sampler, shuffle=False)\n",
    "all_batches = get_batch_count(train_dataloader, n=50)"
   ]
  },
  {
   "cell_type": "code",
   "execution_count": 86,
   "id": "3fe2164c-e2b9-4a65-bb70-3bc393cc84df",
   "metadata": {},
   "outputs": [
    {
     "name": "stderr",
     "output_type": "stream",
     "text": [
      "C:\\Users\\tacke\\AppData\\Local\\Temp\\ipykernel_39292\\4002195109.py:19: FutureWarning:\n",
      "\n",
      "Series.__getitem__ treating keys as positions is deprecated. In a future version, integer keys will always be treated as labels (consistent with DataFrame behavior). To access a value by position, use `ser.iloc[pos]`\n",
      "\n"
     ]
    },
    {
     "data": {
      "application/vnd.plotly.v1+json": {
       "config": {
        "plotlyServerURL": "https://plot.ly"
       },
       "data": [
        {
         "name": "bin_9",
         "textposition": "auto",
         "type": "bar",
         "x": [
          "0",
          "1",
          "2",
          "3",
          "4",
          "5",
          "6",
          "7",
          "8",
          "9",
          "10",
          "11",
          "12",
          "13",
          "14",
          "15",
          "16",
          "17",
          "18",
          "19",
          "20",
          "21",
          "22",
          "23",
          "24",
          "25",
          "26",
          "27",
          "28",
          "29",
          "30",
          "31",
          "32",
          "33",
          "34",
          "35",
          "36",
          "37",
          "38",
          "39",
          "40",
          "41",
          "42",
          "43",
          "44",
          "45",
          "46",
          "47",
          "48",
          "49",
          "50"
         ],
         "y": [
          108,
          82,
          83,
          68,
          92,
          83,
          71,
          89,
          81,
          72,
          78,
          87,
          79,
          72,
          71,
          98,
          84,
          87,
          75,
          92,
          84,
          105,
          90,
          93,
          89,
          79,
          80,
          75,
          94,
          82,
          88,
          90,
          88,
          87,
          71,
          77,
          88,
          87,
          83,
          102,
          92,
          85,
          89,
          91,
          95,
          89,
          88,
          96,
          91,
          89,
          81
         ]
        },
        {
         "name": "bin_8",
         "textposition": "auto",
         "type": "bar",
         "x": [
          "0",
          "1",
          "2",
          "3",
          "4",
          "5",
          "6",
          "7",
          "8",
          "9",
          "10",
          "11",
          "12",
          "13",
          "14",
          "15",
          "16",
          "17",
          "18",
          "19",
          "20",
          "21",
          "22",
          "23",
          "24",
          "25",
          "26",
          "27",
          "28",
          "29",
          "30",
          "31",
          "32",
          "33",
          "34",
          "35",
          "36",
          "37",
          "38",
          "39",
          "40",
          "41",
          "42",
          "43",
          "44",
          "45",
          "46",
          "47",
          "48",
          "49",
          "50"
         ],
         "y": [
          85,
          89,
          83,
          82,
          92,
          86,
          84,
          77,
          90,
          82,
          97,
          92,
          78,
          85,
          80,
          80,
          76,
          97,
          84,
          90,
          92,
          96,
          93,
          82,
          94,
          86,
          86,
          82,
          84,
          91,
          80,
          84,
          75,
          81,
          82,
          87,
          77,
          84,
          82,
          80,
          92,
          78,
          77,
          75,
          84,
          90,
          87,
          75,
          84,
          76,
          78
         ]
        },
        {
         "name": "bin_7",
         "textposition": "auto",
         "type": "bar",
         "x": [
          "0",
          "1",
          "2",
          "3",
          "4",
          "5",
          "6",
          "7",
          "8",
          "9",
          "10",
          "11",
          "12",
          "13",
          "14",
          "15",
          "16",
          "17",
          "18",
          "19",
          "20",
          "21",
          "22",
          "23",
          "24",
          "25",
          "26",
          "27",
          "28",
          "29",
          "30",
          "31",
          "32",
          "33",
          "34",
          "35",
          "36",
          "37",
          "38",
          "39",
          "40",
          "41",
          "42",
          "43",
          "44",
          "45",
          "46",
          "47",
          "48",
          "49",
          "50"
         ],
         "y": [
          0,
          0,
          0,
          0,
          0,
          0,
          0,
          0,
          0,
          0,
          0,
          0,
          0,
          0,
          0,
          0,
          0,
          0,
          0,
          0,
          0,
          0,
          0,
          0,
          0,
          0,
          0,
          0,
          0,
          0,
          0,
          0,
          0,
          0,
          0,
          0,
          0,
          0,
          0,
          0,
          0,
          0,
          0,
          0,
          0,
          0,
          0,
          0,
          0,
          0,
          0
         ]
        },
        {
         "name": "bin_6",
         "textposition": "auto",
         "type": "bar",
         "x": [
          "0",
          "1",
          "2",
          "3",
          "4",
          "5",
          "6",
          "7",
          "8",
          "9",
          "10",
          "11",
          "12",
          "13",
          "14",
          "15",
          "16",
          "17",
          "18",
          "19",
          "20",
          "21",
          "22",
          "23",
          "24",
          "25",
          "26",
          "27",
          "28",
          "29",
          "30",
          "31",
          "32",
          "33",
          "34",
          "35",
          "36",
          "37",
          "38",
          "39",
          "40",
          "41",
          "42",
          "43",
          "44",
          "45",
          "46",
          "47",
          "48",
          "49",
          "50"
         ],
         "y": [
          84,
          95,
          84,
          102,
          80,
          95,
          97,
          92,
          88,
          82,
          82,
          91,
          77,
          94,
          80,
          92,
          89,
          87,
          72,
          82,
          100,
          70,
          80,
          86,
          83,
          90,
          94,
          78,
          73,
          91,
          71,
          94,
          88,
          89,
          84,
          85,
          82,
          85,
          90,
          77,
          70,
          73,
          86,
          84,
          96,
          87,
          82,
          90,
          86,
          89,
          80
         ]
        },
        {
         "name": "bin_5",
         "textposition": "auto",
         "type": "bar",
         "x": [
          "0",
          "1",
          "2",
          "3",
          "4",
          "5",
          "6",
          "7",
          "8",
          "9",
          "10",
          "11",
          "12",
          "13",
          "14",
          "15",
          "16",
          "17",
          "18",
          "19",
          "20",
          "21",
          "22",
          "23",
          "24",
          "25",
          "26",
          "27",
          "28",
          "29",
          "30",
          "31",
          "32",
          "33",
          "34",
          "35",
          "36",
          "37",
          "38",
          "39",
          "40",
          "41",
          "42",
          "43",
          "44",
          "45",
          "46",
          "47",
          "48",
          "49",
          "50"
         ],
         "y": [
          81,
          88,
          84,
          94,
          84,
          83,
          85,
          94,
          92,
          90,
          79,
          82,
          109,
          85,
          102,
          89,
          104,
          76,
          98,
          82,
          85,
          75,
          84,
          84,
          71,
          77,
          80,
          88,
          74,
          77,
          103,
          92,
          82,
          91,
          79,
          93,
          87,
          89,
          86,
          84,
          84,
          89,
          97,
          79,
          76,
          90,
          88,
          84,
          82,
          85,
          77
         ]
        },
        {
         "name": "bin_4",
         "textposition": "auto",
         "type": "bar",
         "x": [
          "0",
          "1",
          "2",
          "3",
          "4",
          "5",
          "6",
          "7",
          "8",
          "9",
          "10",
          "11",
          "12",
          "13",
          "14",
          "15",
          "16",
          "17",
          "18",
          "19",
          "20",
          "21",
          "22",
          "23",
          "24",
          "25",
          "26",
          "27",
          "28",
          "29",
          "30",
          "31",
          "32",
          "33",
          "34",
          "35",
          "36",
          "37",
          "38",
          "39",
          "40",
          "41",
          "42",
          "43",
          "44",
          "45",
          "46",
          "47",
          "48",
          "49",
          "50"
         ],
         "y": [
          0,
          0,
          0,
          0,
          0,
          0,
          0,
          0,
          0,
          0,
          0,
          0,
          0,
          0,
          0,
          0,
          0,
          0,
          0,
          0,
          0,
          0,
          0,
          0,
          0,
          0,
          0,
          0,
          0,
          0,
          0,
          0,
          0,
          0,
          0,
          0,
          0,
          0,
          0,
          0,
          0,
          0,
          0,
          0,
          0,
          0,
          0,
          0,
          0,
          0,
          0
         ]
        },
        {
         "name": "bin_3",
         "textposition": "auto",
         "type": "bar",
         "x": [
          "0",
          "1",
          "2",
          "3",
          "4",
          "5",
          "6",
          "7",
          "8",
          "9",
          "10",
          "11",
          "12",
          "13",
          "14",
          "15",
          "16",
          "17",
          "18",
          "19",
          "20",
          "21",
          "22",
          "23",
          "24",
          "25",
          "26",
          "27",
          "28",
          "29",
          "30",
          "31",
          "32",
          "33",
          "34",
          "35",
          "36",
          "37",
          "38",
          "39",
          "40",
          "41",
          "42",
          "43",
          "44",
          "45",
          "46",
          "47",
          "48",
          "49",
          "50"
         ],
         "y": [
          0,
          0,
          0,
          0,
          0,
          0,
          0,
          0,
          0,
          0,
          0,
          0,
          0,
          0,
          0,
          0,
          0,
          0,
          0,
          0,
          0,
          0,
          0,
          0,
          0,
          0,
          0,
          0,
          0,
          0,
          0,
          0,
          0,
          0,
          0,
          0,
          0,
          0,
          0,
          0,
          0,
          0,
          0,
          0,
          0,
          0,
          0,
          0,
          0,
          0,
          0
         ]
        },
        {
         "name": "bin_2",
         "textposition": "auto",
         "type": "bar",
         "x": [
          "0",
          "1",
          "2",
          "3",
          "4",
          "5",
          "6",
          "7",
          "8",
          "9",
          "10",
          "11",
          "12",
          "13",
          "14",
          "15",
          "16",
          "17",
          "18",
          "19",
          "20",
          "21",
          "22",
          "23",
          "24",
          "25",
          "26",
          "27",
          "28",
          "29",
          "30",
          "31",
          "32",
          "33",
          "34",
          "35",
          "36",
          "37",
          "38",
          "39",
          "40",
          "41",
          "42",
          "43",
          "44",
          "45",
          "46",
          "47",
          "48",
          "49",
          "50"
         ],
         "y": [
          0,
          0,
          0,
          0,
          0,
          0,
          0,
          0,
          0,
          0,
          0,
          0,
          0,
          0,
          0,
          0,
          0,
          0,
          0,
          0,
          0,
          0,
          0,
          0,
          0,
          0,
          0,
          0,
          0,
          0,
          0,
          0,
          0,
          0,
          0,
          0,
          0,
          0,
          0,
          0,
          0,
          0,
          0,
          0,
          0,
          0,
          0,
          0,
          0,
          0,
          0
         ]
        },
        {
         "name": "bin_1",
         "textposition": "auto",
         "type": "bar",
         "x": [
          "0",
          "1",
          "2",
          "3",
          "4",
          "5",
          "6",
          "7",
          "8",
          "9",
          "10",
          "11",
          "12",
          "13",
          "14",
          "15",
          "16",
          "17",
          "18",
          "19",
          "20",
          "21",
          "22",
          "23",
          "24",
          "25",
          "26",
          "27",
          "28",
          "29",
          "30",
          "31",
          "32",
          "33",
          "34",
          "35",
          "36",
          "37",
          "38",
          "39",
          "40",
          "41",
          "42",
          "43",
          "44",
          "45",
          "46",
          "47",
          "48",
          "49",
          "50"
         ],
         "y": [
          75,
          91,
          85,
          88,
          79,
          99,
          90,
          75,
          85,
          87,
          86,
          95,
          76,
          82,
          83,
          74,
          80,
          78,
          106,
          84,
          88,
          81,
          77,
          88,
          87,
          86,
          86,
          98,
          87,
          77,
          78,
          88,
          94,
          73,
          98,
          92,
          87,
          75,
          87,
          84,
          77,
          104,
          92,
          87,
          71,
          73,
          81,
          80,
          90,
          96,
          101
         ]
        },
        {
         "name": "bin_0",
         "textposition": "auto",
         "type": "bar",
         "x": [
          "0",
          "1",
          "2",
          "3",
          "4",
          "5",
          "6",
          "7",
          "8",
          "9",
          "10",
          "11",
          "12",
          "13",
          "14",
          "15",
          "16",
          "17",
          "18",
          "19",
          "20",
          "21",
          "22",
          "23",
          "24",
          "25",
          "26",
          "27",
          "28",
          "29",
          "30",
          "31",
          "32",
          "33",
          "34",
          "35",
          "36",
          "37",
          "38",
          "39",
          "40",
          "41",
          "42",
          "43",
          "44",
          "45",
          "46",
          "47",
          "48",
          "49",
          "50"
         ],
         "y": [
          79,
          67,
          93,
          78,
          85,
          66,
          85,
          85,
          76,
          99,
          90,
          65,
          93,
          94,
          96,
          79,
          79,
          87,
          77,
          82,
          63,
          85,
          88,
          79,
          88,
          94,
          86,
          91,
          100,
          94,
          92,
          64,
          85,
          91,
          98,
          78,
          91,
          92,
          84,
          85,
          97,
          83,
          71,
          96,
          90,
          83,
          86,
          87,
          79,
          77,
          95
         ]
        }
       ],
       "layout": {
        "autosize": false,
        "barmode": "stack",
        "height": 500,
        "template": {
         "data": {
          "bar": [
           {
            "error_x": {
             "color": "#2a3f5f"
            },
            "error_y": {
             "color": "#2a3f5f"
            },
            "marker": {
             "line": {
              "color": "white",
              "width": 0.5
             },
             "pattern": {
              "fillmode": "overlay",
              "size": 10,
              "solidity": 0.2
             }
            },
            "type": "bar"
           }
          ],
          "barpolar": [
           {
            "marker": {
             "line": {
              "color": "white",
              "width": 0.5
             },
             "pattern": {
              "fillmode": "overlay",
              "size": 10,
              "solidity": 0.2
             }
            },
            "type": "barpolar"
           }
          ],
          "carpet": [
           {
            "aaxis": {
             "endlinecolor": "#2a3f5f",
             "gridcolor": "#C8D4E3",
             "linecolor": "#C8D4E3",
             "minorgridcolor": "#C8D4E3",
             "startlinecolor": "#2a3f5f"
            },
            "baxis": {
             "endlinecolor": "#2a3f5f",
             "gridcolor": "#C8D4E3",
             "linecolor": "#C8D4E3",
             "minorgridcolor": "#C8D4E3",
             "startlinecolor": "#2a3f5f"
            },
            "type": "carpet"
           }
          ],
          "choropleth": [
           {
            "colorbar": {
             "outlinewidth": 0,
             "ticks": ""
            },
            "type": "choropleth"
           }
          ],
          "contour": [
           {
            "colorbar": {
             "outlinewidth": 0,
             "ticks": ""
            },
            "colorscale": [
             [
              0,
              "#0d0887"
             ],
             [
              0.1111111111111111,
              "#46039f"
             ],
             [
              0.2222222222222222,
              "#7201a8"
             ],
             [
              0.3333333333333333,
              "#9c179e"
             ],
             [
              0.4444444444444444,
              "#bd3786"
             ],
             [
              0.5555555555555556,
              "#d8576b"
             ],
             [
              0.6666666666666666,
              "#ed7953"
             ],
             [
              0.7777777777777778,
              "#fb9f3a"
             ],
             [
              0.8888888888888888,
              "#fdca26"
             ],
             [
              1,
              "#f0f921"
             ]
            ],
            "type": "contour"
           }
          ],
          "contourcarpet": [
           {
            "colorbar": {
             "outlinewidth": 0,
             "ticks": ""
            },
            "type": "contourcarpet"
           }
          ],
          "heatmap": [
           {
            "colorbar": {
             "outlinewidth": 0,
             "ticks": ""
            },
            "colorscale": [
             [
              0,
              "#0d0887"
             ],
             [
              0.1111111111111111,
              "#46039f"
             ],
             [
              0.2222222222222222,
              "#7201a8"
             ],
             [
              0.3333333333333333,
              "#9c179e"
             ],
             [
              0.4444444444444444,
              "#bd3786"
             ],
             [
              0.5555555555555556,
              "#d8576b"
             ],
             [
              0.6666666666666666,
              "#ed7953"
             ],
             [
              0.7777777777777778,
              "#fb9f3a"
             ],
             [
              0.8888888888888888,
              "#fdca26"
             ],
             [
              1,
              "#f0f921"
             ]
            ],
            "type": "heatmap"
           }
          ],
          "heatmapgl": [
           {
            "colorbar": {
             "outlinewidth": 0,
             "ticks": ""
            },
            "colorscale": [
             [
              0,
              "#0d0887"
             ],
             [
              0.1111111111111111,
              "#46039f"
             ],
             [
              0.2222222222222222,
              "#7201a8"
             ],
             [
              0.3333333333333333,
              "#9c179e"
             ],
             [
              0.4444444444444444,
              "#bd3786"
             ],
             [
              0.5555555555555556,
              "#d8576b"
             ],
             [
              0.6666666666666666,
              "#ed7953"
             ],
             [
              0.7777777777777778,
              "#fb9f3a"
             ],
             [
              0.8888888888888888,
              "#fdca26"
             ],
             [
              1,
              "#f0f921"
             ]
            ],
            "type": "heatmapgl"
           }
          ],
          "histogram": [
           {
            "marker": {
             "pattern": {
              "fillmode": "overlay",
              "size": 10,
              "solidity": 0.2
             }
            },
            "type": "histogram"
           }
          ],
          "histogram2d": [
           {
            "colorbar": {
             "outlinewidth": 0,
             "ticks": ""
            },
            "colorscale": [
             [
              0,
              "#0d0887"
             ],
             [
              0.1111111111111111,
              "#46039f"
             ],
             [
              0.2222222222222222,
              "#7201a8"
             ],
             [
              0.3333333333333333,
              "#9c179e"
             ],
             [
              0.4444444444444444,
              "#bd3786"
             ],
             [
              0.5555555555555556,
              "#d8576b"
             ],
             [
              0.6666666666666666,
              "#ed7953"
             ],
             [
              0.7777777777777778,
              "#fb9f3a"
             ],
             [
              0.8888888888888888,
              "#fdca26"
             ],
             [
              1,
              "#f0f921"
             ]
            ],
            "type": "histogram2d"
           }
          ],
          "histogram2dcontour": [
           {
            "colorbar": {
             "outlinewidth": 0,
             "ticks": ""
            },
            "colorscale": [
             [
              0,
              "#0d0887"
             ],
             [
              0.1111111111111111,
              "#46039f"
             ],
             [
              0.2222222222222222,
              "#7201a8"
             ],
             [
              0.3333333333333333,
              "#9c179e"
             ],
             [
              0.4444444444444444,
              "#bd3786"
             ],
             [
              0.5555555555555556,
              "#d8576b"
             ],
             [
              0.6666666666666666,
              "#ed7953"
             ],
             [
              0.7777777777777778,
              "#fb9f3a"
             ],
             [
              0.8888888888888888,
              "#fdca26"
             ],
             [
              1,
              "#f0f921"
             ]
            ],
            "type": "histogram2dcontour"
           }
          ],
          "mesh3d": [
           {
            "colorbar": {
             "outlinewidth": 0,
             "ticks": ""
            },
            "type": "mesh3d"
           }
          ],
          "parcoords": [
           {
            "line": {
             "colorbar": {
              "outlinewidth": 0,
              "ticks": ""
             }
            },
            "type": "parcoords"
           }
          ],
          "pie": [
           {
            "automargin": true,
            "type": "pie"
           }
          ],
          "scatter": [
           {
            "fillpattern": {
             "fillmode": "overlay",
             "size": 10,
             "solidity": 0.2
            },
            "type": "scatter"
           }
          ],
          "scatter3d": [
           {
            "line": {
             "colorbar": {
              "outlinewidth": 0,
              "ticks": ""
             }
            },
            "marker": {
             "colorbar": {
              "outlinewidth": 0,
              "ticks": ""
             }
            },
            "type": "scatter3d"
           }
          ],
          "scattercarpet": [
           {
            "marker": {
             "colorbar": {
              "outlinewidth": 0,
              "ticks": ""
             }
            },
            "type": "scattercarpet"
           }
          ],
          "scattergeo": [
           {
            "marker": {
             "colorbar": {
              "outlinewidth": 0,
              "ticks": ""
             }
            },
            "type": "scattergeo"
           }
          ],
          "scattergl": [
           {
            "marker": {
             "colorbar": {
              "outlinewidth": 0,
              "ticks": ""
             }
            },
            "type": "scattergl"
           }
          ],
          "scattermapbox": [
           {
            "marker": {
             "colorbar": {
              "outlinewidth": 0,
              "ticks": ""
             }
            },
            "type": "scattermapbox"
           }
          ],
          "scatterpolar": [
           {
            "marker": {
             "colorbar": {
              "outlinewidth": 0,
              "ticks": ""
             }
            },
            "type": "scatterpolar"
           }
          ],
          "scatterpolargl": [
           {
            "marker": {
             "colorbar": {
              "outlinewidth": 0,
              "ticks": ""
             }
            },
            "type": "scatterpolargl"
           }
          ],
          "scatterternary": [
           {
            "marker": {
             "colorbar": {
              "outlinewidth": 0,
              "ticks": ""
             }
            },
            "type": "scatterternary"
           }
          ],
          "surface": [
           {
            "colorbar": {
             "outlinewidth": 0,
             "ticks": ""
            },
            "colorscale": [
             [
              0,
              "#0d0887"
             ],
             [
              0.1111111111111111,
              "#46039f"
             ],
             [
              0.2222222222222222,
              "#7201a8"
             ],
             [
              0.3333333333333333,
              "#9c179e"
             ],
             [
              0.4444444444444444,
              "#bd3786"
             ],
             [
              0.5555555555555556,
              "#d8576b"
             ],
             [
              0.6666666666666666,
              "#ed7953"
             ],
             [
              0.7777777777777778,
              "#fb9f3a"
             ],
             [
              0.8888888888888888,
              "#fdca26"
             ],
             [
              1,
              "#f0f921"
             ]
            ],
            "type": "surface"
           }
          ],
          "table": [
           {
            "cells": {
             "fill": {
              "color": "#EBF0F8"
             },
             "line": {
              "color": "white"
             }
            },
            "header": {
             "fill": {
              "color": "#C8D4E3"
             },
             "line": {
              "color": "white"
             }
            },
            "type": "table"
           }
          ]
         },
         "layout": {
          "annotationdefaults": {
           "arrowcolor": "#2a3f5f",
           "arrowhead": 0,
           "arrowwidth": 1
          },
          "autotypenumbers": "strict",
          "coloraxis": {
           "colorbar": {
            "outlinewidth": 0,
            "ticks": ""
           }
          },
          "colorscale": {
           "diverging": [
            [
             0,
             "#8e0152"
            ],
            [
             0.1,
             "#c51b7d"
            ],
            [
             0.2,
             "#de77ae"
            ],
            [
             0.3,
             "#f1b6da"
            ],
            [
             0.4,
             "#fde0ef"
            ],
            [
             0.5,
             "#f7f7f7"
            ],
            [
             0.6,
             "#e6f5d0"
            ],
            [
             0.7,
             "#b8e186"
            ],
            [
             0.8,
             "#7fbc41"
            ],
            [
             0.9,
             "#4d9221"
            ],
            [
             1,
             "#276419"
            ]
           ],
           "sequential": [
            [
             0,
             "#0d0887"
            ],
            [
             0.1111111111111111,
             "#46039f"
            ],
            [
             0.2222222222222222,
             "#7201a8"
            ],
            [
             0.3333333333333333,
             "#9c179e"
            ],
            [
             0.4444444444444444,
             "#bd3786"
            ],
            [
             0.5555555555555556,
             "#d8576b"
            ],
            [
             0.6666666666666666,
             "#ed7953"
            ],
            [
             0.7777777777777778,
             "#fb9f3a"
            ],
            [
             0.8888888888888888,
             "#fdca26"
            ],
            [
             1,
             "#f0f921"
            ]
           ],
           "sequentialminus": [
            [
             0,
             "#0d0887"
            ],
            [
             0.1111111111111111,
             "#46039f"
            ],
            [
             0.2222222222222222,
             "#7201a8"
            ],
            [
             0.3333333333333333,
             "#9c179e"
            ],
            [
             0.4444444444444444,
             "#bd3786"
            ],
            [
             0.5555555555555556,
             "#d8576b"
            ],
            [
             0.6666666666666666,
             "#ed7953"
            ],
            [
             0.7777777777777778,
             "#fb9f3a"
            ],
            [
             0.8888888888888888,
             "#fdca26"
            ],
            [
             1,
             "#f0f921"
            ]
           ]
          },
          "colorway": [
           "#636efa",
           "#EF553B",
           "#00cc96",
           "#ab63fa",
           "#FFA15A",
           "#19d3f3",
           "#FF6692",
           "#B6E880",
           "#FF97FF",
           "#FECB52"
          ],
          "font": {
           "color": "#2a3f5f"
          },
          "geo": {
           "bgcolor": "white",
           "lakecolor": "white",
           "landcolor": "white",
           "showlakes": true,
           "showland": true,
           "subunitcolor": "#C8D4E3"
          },
          "hoverlabel": {
           "align": "left"
          },
          "hovermode": "closest",
          "mapbox": {
           "style": "light"
          },
          "paper_bgcolor": "white",
          "plot_bgcolor": "white",
          "polar": {
           "angularaxis": {
            "gridcolor": "#EBF0F8",
            "linecolor": "#EBF0F8",
            "ticks": ""
           },
           "bgcolor": "white",
           "radialaxis": {
            "gridcolor": "#EBF0F8",
            "linecolor": "#EBF0F8",
            "ticks": ""
           }
          },
          "scene": {
           "xaxis": {
            "backgroundcolor": "white",
            "gridcolor": "#DFE8F3",
            "gridwidth": 2,
            "linecolor": "#EBF0F8",
            "showbackground": true,
            "ticks": "",
            "zerolinecolor": "#EBF0F8"
           },
           "yaxis": {
            "backgroundcolor": "white",
            "gridcolor": "#DFE8F3",
            "gridwidth": 2,
            "linecolor": "#EBF0F8",
            "showbackground": true,
            "ticks": "",
            "zerolinecolor": "#EBF0F8"
           },
           "zaxis": {
            "backgroundcolor": "white",
            "gridcolor": "#DFE8F3",
            "gridwidth": 2,
            "linecolor": "#EBF0F8",
            "showbackground": true,
            "ticks": "",
            "zerolinecolor": "#EBF0F8"
           }
          },
          "shapedefaults": {
           "line": {
            "color": "#2a3f5f"
           }
          },
          "ternary": {
           "aaxis": {
            "gridcolor": "#DFE8F3",
            "linecolor": "#A2B1C6",
            "ticks": ""
           },
           "baxis": {
            "gridcolor": "#DFE8F3",
            "linecolor": "#A2B1C6",
            "ticks": ""
           },
           "bgcolor": "white",
           "caxis": {
            "gridcolor": "#DFE8F3",
            "linecolor": "#A2B1C6",
            "ticks": ""
           }
          },
          "title": {
           "x": 0.05
          },
          "xaxis": {
           "automargin": true,
           "gridcolor": "#EBF0F8",
           "linecolor": "#EBF0F8",
           "ticks": "",
           "title": {
            "standoff": 15
           },
           "zerolinecolor": "#EBF0F8",
           "zerolinewidth": 2
          },
          "yaxis": {
           "automargin": true,
           "gridcolor": "#EBF0F8",
           "linecolor": "#EBF0F8",
           "ticks": "",
           "title": {
            "standoff": 15
           },
           "zerolinecolor": "#EBF0F8",
           "zerolinewidth": 2
          }
         }
        },
        "width": 900,
        "xaxis": {
         "tickfont": {
          "size": 14
         },
         "title": {
          "font": {
           "size": 14
          },
          "text": "Batch Number"
         }
        },
        "yaxis": {
         "tickfont": {
          "size": 14
         },
         "title": {
          "font": {
           "size": 14
          },
          "text": "Bin Frequency"
         }
        }
       }
      }
     },
     "metadata": {},
     "output_type": "display_data"
    }
   ],
   "source": [
    "fig = plot_batches(all_batches)\n",
    "fig.update_layout(\n",
    "        autosize=False,\n",
    "        width=900,\n",
    "        height=500,\n",
    "    # title_text=\"\",\n",
    "        yaxis=dict(\n",
    "            title_text=\"Bin Frequency\",\n",
    "            titlefont=dict(size=14),\n",
    "            tickfont=dict(size=14),\n",
    "        ),\n",
    "        xaxis=dict(\n",
    "            title_text=\"Batch Number\",\n",
    "            titlefont=dict(size=14),\n",
    "            tickfont=dict(size=14),\n",
    "        ),\n",
    "    barmode=\"stack\",\n",
    "    )\n",
    "fig.write_image(\"imgs/chapter_15/with_batchsamplers.png\")\n",
    "fig.show()"
   ]
  },
  {
   "cell_type": "markdown",
   "id": "1333aa2f-1adb-4345-b4fe-b330c0e66900",
   "metadata": {
    "tags": []
   },
   "source": [
    "#### Training with the custom sampler"
   ]
  },
  {
   "cell_type": "code",
   "execution_count": 87,
   "id": "0a0ca488-9018-4a6d-a741-74ad84df339a",
   "metadata": {},
   "outputs": [],
   "source": [
    "# Making the dataloaders\n",
    "# num_workers can be increased in linux to speed-up training\n",
    "train_dataloader = training.to_dataloader(train=True, batch_size=batch_size, num_workers=0, sampler=sampler, shuffle=False)\n",
    "val_dataloader = validation.to_dataloader(train=False, batch_size=batch_size, num_workers=0)"
   ]
  },
  {
   "cell_type": "code",
   "execution_count": 88,
   "id": "72c7346e-389c-4aa4-a28a-c9cd2fd1844c",
   "metadata": {},
   "outputs": [
    {
     "name": "stdout",
     "output_type": "stream",
     "text": [
      "\n",
      "sizes of x =\n",
      "\tencoder_cat = torch.Size([512, 96, 7])\n",
      "\tencoder_cont = torch.Size([512, 96, 2])\n",
      "\tencoder_target = torch.Size([512, 96])\n",
      "\tencoder_lengths = torch.Size([512])\n",
      "\tdecoder_cat = torch.Size([512, 1, 7])\n",
      "\tdecoder_cont = torch.Size([512, 1, 2])\n",
      "\tdecoder_target = torch.Size([512, 1])\n",
      "\tdecoder_lengths = torch.Size([512])\n",
      "\tdecoder_time_idx = torch.Size([512, 1])\n",
      "\tgroups = torch.Size([512, 1])\n",
      "\ttarget_scale = torch.Size([512, 2])\n",
      "\n",
      "size of y =\n",
      "\ty = torch.Size([512, 1])\n"
     ]
    }
   ],
   "source": [
    "# Testing the dataloader\n",
    "x, y = next(iter(train_dataloader))\n",
    "print(\"\\nsizes of x =\")\n",
    "for key, value in x.items():\n",
    "    print(f\"\\t{key} = {value.size()}\")\n",
    "print(\"\\nsize of y =\")\n",
    "print(f\"\\ty = {y[0].size()}\")"
   ]
  },
  {
   "cell_type": "markdown",
   "id": "dc66d33d-5d99-4778-b2e2-1a21b3cf2247",
   "metadata": {},
   "source": [
    "### Creating the Model"
   ]
  },
  {
   "cell_type": "markdown",
   "id": "38f312a6-b7af-436e-87fc-36f5b5b40a37",
   "metadata": {},
   "source": [
    "### Defining the Forward function"
   ]
  },
  {
   "cell_type": "code",
   "execution_count": 89,
   "id": "e8a6e55a-036d-469d-9cfa-e3a5e16210dd",
   "metadata": {},
   "outputs": [],
   "source": [
    "cardinality = [len(training.categorical_encoders[c].classes_) for c in training.categoricals]\n",
    "embedding_sizes = [\n",
    "    (x, min(50, (x + 1) // 2))\n",
    "    for x in cardinality\n",
    "]"
   ]
  },
  {
   "cell_type": "code",
   "execution_count": 90,
   "id": "cb3eebb7-3949-4e20-b769-332c625a6715",
   "metadata": {},
   "outputs": [],
   "source": [
    "model_params = dict(\n",
    "    rnn_type=\"LSTM\",\n",
    "    input_size=len(training.reals)+sum([s for _, s in embedding_sizes]),\n",
    "    hidden_size=256, #128\n",
    "    num_layers=2,\n",
    "    bidirectional=False,\n",
    "    embedding_sizes=embedding_sizes,\n",
    ")\n",
    "\n",
    "other_params = dict(\n",
    "    learning_rate=5e-5,\n",
    "    optimizer=\"adam\",\n",
    "    loss=RMSE(),\n",
    "    logging_metrics=[RMSE(), MAE()],\n",
    ")"
   ]
  },
  {
   "cell_type": "code",
   "execution_count": 91,
   "id": "0b189d49-2da6-43ac-966f-6e59d67647dd",
   "metadata": {
    "tags": []
   },
   "outputs": [
    {
     "name": "stderr",
     "output_type": "stream",
     "text": [
      "c:\\Users\\tacke\\anaconda3\\envs\\modern_ts_2E_new\\Lib\\site-packages\\pytorch_lightning\\utilities\\parsing.py:198: UserWarning:\n",
      "\n",
      "Attribute 'loss' is an instance of `nn.Module` and is already saved during checkpointing. It is recommended to ignore them using `self.save_hyperparameters(ignore=['loss'])`.\n",
      "\n"
     ]
    },
    {
     "data": {
      "text/plain": [
       "(pytorch_forecasting.utils.TupleOutputMixIn.to_network_output.<locals>.Output,\n",
       " torch.Size([512, 1]))"
      ]
     },
     "execution_count": 91,
     "metadata": {},
     "output_type": "execute_result"
    }
   ],
   "source": [
    "model = SingleStepRNNModel.from_dataset(\n",
    "    training,\n",
    "    network_callable=StaticDynamicFeatureRNNModel,\n",
    "    model_params = model_params,\n",
    "    **other_params\n",
    ")\n",
    "#Testing out the model\n",
    "x, y = next(iter(train_dataloader))\n",
    "_ = model(x)\n",
    "type(_), _.prediction.shape"
   ]
  },
  {
   "cell_type": "markdown",
   "id": "1634e8d7-f1cf-4d6d-8c9b-b974990cd685",
   "metadata": {},
   "source": [
    "### Training the model"
   ]
  },
  {
   "cell_type": "code",
   "execution_count": 92,
   "id": "176733a8-9e93-49f7-a6c0-85200436a191",
   "metadata": {},
   "outputs": [],
   "source": [
    "# best_model = SingleStepRNNModel.load_from_checkpoint(saved_model_sampled)\n",
    "\n",
    "# torch.save(best_model.state_dict(),saved_model_sampled.replace(\"saved_models\",\"saved_weights\").replace(\"ckpt\",\"wt\"))"
   ]
  },
  {
   "cell_type": "code",
   "execution_count": 93,
   "id": "a7952ce3-6d82-49b8-ad43-753613530df9",
   "metadata": {},
   "outputs": [],
   "source": [
    "saved_model_sampled ='notebooks/Chapter14/saved_weights/baseline_time_varying_static_scale_weighted_sampler_sampled.wt'\n",
    "saved_model_full ='notebooks/Chapter14/saved_weights/baseline_time_varying_static_scale_weighted_sampler.wt'"
   ]
  },
  {
   "cell_type": "code",
   "execution_count": 94,
   "id": "5558b1df-a86d-42fe-9027-88fa7c791e38",
   "metadata": {},
   "outputs": [
    {
     "name": "stderr",
     "output_type": "stream",
     "text": [
      "GPU available: False, used: False\n",
      "TPU available: False, using: 0 TPU cores\n",
      "IPU available: False, using: 0 IPUs\n",
      "HPU available: False, using: 0 HPUs\n",
      "`Trainer(val_check_interval=1.0)` was configured so validation will run at the end of the training epoch..\n",
      "\n",
      "  | Name            | Type                         | Params\n",
      "-----------------------------------------------------------------\n",
      "0 | loss            | RMSE                         | 0     \n",
      "1 | logging_metrics | ModuleList                   | 0     \n",
      "2 | network         | StaticDynamicFeatureRNNModel | 819 K \n",
      "-----------------------------------------------------------------\n",
      "819 K     Trainable params\n",
      "0         Non-trainable params\n",
      "819 K     Total params\n",
      "3.279     Total estimated model params size (MB)\n"
     ]
    },
    {
     "data": {
      "application/vnd.jupyter.widget-view+json": {
       "model_id": "077733208434418392ce016ad219f104",
       "version_major": 2,
       "version_minor": 0
      },
      "text/plain": [
       "Sanity Checking: |          | 0/? [00:00<?, ?it/s]"
      ]
     },
     "metadata": {},
     "output_type": "display_data"
    },
    {
     "name": "stderr",
     "output_type": "stream",
     "text": [
      "c:\\Users\\tacke\\anaconda3\\envs\\modern_ts_2E_new\\Lib\\site-packages\\pytorch_lightning\\trainer\\connectors\\data_connector.py:441: PossibleUserWarning:\n",
      "\n",
      "The 'val_dataloader' does not have many workers which may be a bottleneck. Consider increasing the value of the `num_workers` argument` to `num_workers=7` in the `DataLoader` to improve performance.\n",
      "\n",
      "c:\\Users\\tacke\\anaconda3\\envs\\modern_ts_2E_new\\Lib\\site-packages\\pytorch_lightning\\trainer\\connectors\\data_connector.py:441: PossibleUserWarning:\n",
      "\n",
      "The 'train_dataloader' does not have many workers which may be a bottleneck. Consider increasing the value of the `num_workers` argument` to `num_workers=7` in the `DataLoader` to improve performance.\n",
      "\n"
     ]
    },
    {
     "data": {
      "application/vnd.jupyter.widget-view+json": {
       "model_id": "2df394c674144f6a9402f3e3ada33ef2",
       "version_major": 2,
       "version_minor": 0
      },
      "text/plain": [
       "Training: |          | 0/? [00:00<?, ?it/s]"
      ]
     },
     "metadata": {},
     "output_type": "display_data"
    },
    {
     "data": {
      "application/vnd.jupyter.widget-view+json": {
       "model_id": "d1496df1f6e14999becd994e85c39a53",
       "version_major": 2,
       "version_minor": 0
      },
      "text/plain": [
       "Validation: |          | 0/? [00:00<?, ?it/s]"
      ]
     },
     "metadata": {},
     "output_type": "display_data"
    },
    {
     "data": {
      "application/vnd.jupyter.widget-view+json": {
       "model_id": "5d4b2cdfc8d244939be5c40736b05585",
       "version_major": 2,
       "version_minor": 0
      },
      "text/plain": [
       "Validation: |          | 0/? [00:00<?, ?it/s]"
      ]
     },
     "metadata": {},
     "output_type": "display_data"
    },
    {
     "data": {
      "application/vnd.jupyter.widget-view+json": {
       "model_id": "bec74e0ebc4f4142a1eb570229f0c050",
       "version_major": 2,
       "version_minor": 0
      },
      "text/plain": [
       "Validation: |          | 0/? [00:00<?, ?it/s]"
      ]
     },
     "metadata": {},
     "output_type": "display_data"
    },
    {
     "data": {
      "application/vnd.jupyter.widget-view+json": {
       "model_id": "ef78bcc08b3e445b8964a90aa21dadc3",
       "version_major": 2,
       "version_minor": 0
      },
      "text/plain": [
       "Validation: |          | 0/? [00:00<?, ?it/s]"
      ]
     },
     "metadata": {},
     "output_type": "display_data"
    },
    {
     "data": {
      "application/vnd.jupyter.widget-view+json": {
       "model_id": "3e1d33a8027e4376922ce84f162ab98a",
       "version_major": 2,
       "version_minor": 0
      },
      "text/plain": [
       "Validation: |          | 0/? [00:00<?, ?it/s]"
      ]
     },
     "metadata": {},
     "output_type": "display_data"
    },
    {
     "data": {
      "application/vnd.jupyter.widget-view+json": {
       "model_id": "1fd334f062b74479a9166caa10ba1fd0",
       "version_major": 2,
       "version_minor": 0
      },
      "text/plain": [
       "Validation: |          | 0/? [00:00<?, ?it/s]"
      ]
     },
     "metadata": {},
     "output_type": "display_data"
    },
    {
     "data": {
      "application/vnd.jupyter.widget-view+json": {
       "model_id": "221eedee89444e2d92cbf83a955bcdc5",
       "version_major": 2,
       "version_minor": 0
      },
      "text/plain": [
       "Validation: |          | 0/? [00:00<?, ?it/s]"
      ]
     },
     "metadata": {},
     "output_type": "display_data"
    },
    {
     "data": {
      "application/vnd.jupyter.widget-view+json": {
       "model_id": "887a8da4b9784e1895176c83a37fb217",
       "version_major": 2,
       "version_minor": 0
      },
      "text/plain": [
       "Validation: |          | 0/? [00:00<?, ?it/s]"
      ]
     },
     "metadata": {},
     "output_type": "display_data"
    },
    {
     "data": {
      "application/vnd.jupyter.widget-view+json": {
       "model_id": "e6d1e272f17a4b4ca157c2b5b1dfbd17",
       "version_major": 2,
       "version_minor": 0
      },
      "text/plain": [
       "Validation: |          | 0/? [00:00<?, ?it/s]"
      ]
     },
     "metadata": {},
     "output_type": "display_data"
    },
    {
     "name": "stdout",
     "output_type": "stream",
     "text": [
      "Loading the best model from: c:\\Users\\tacke\\OneDrive\\Documents\\GitHub\\Modern-Time-Series-Forecasting-with-Python-2E-1\\lightning_logs\\version_10\\checkpoints\\epoch=5-step=3474.ckpt\n"
     ]
    },
    {
     "name": "stderr",
     "output_type": "stream",
     "text": [
      "c:\\Users\\tacke\\anaconda3\\envs\\modern_ts_2E_new\\Lib\\site-packages\\pytorch_lightning\\utilities\\parsing.py:198: UserWarning:\n",
      "\n",
      "Attribute 'loss' is an instance of `nn.Module` and is already saved during checkpointing. It is recommended to ignore them using `self.save_hyperparameters(ignore=['loss'])`.\n",
      "\n"
     ]
    }
   ],
   "source": [
    "if train_model:\n",
    "    trainer = pl.Trainer(\n",
    "        accelerator=\"auto\",\n",
    "        min_epochs=1,\n",
    "        max_epochs=20,\n",
    "        callbacks=[\n",
    "            pl.callbacks.EarlyStopping(monitor=\"val_loss\", patience=3 if TRAIN_SUBSAMPLE else 4*3),\n",
    "            pl.callbacks.ModelCheckpoint(\n",
    "                monitor=\"val_loss\", save_last=True, mode=\"min\", auto_insert_metric_name=True\n",
    "            ),\n",
    "        ],\n",
    "        val_check_interval=1.0 if TRAIN_SUBSAMPLE else 2000,\n",
    "        log_every_n_steps=50 if TRAIN_SUBSAMPLE else 2000,\n",
    "        # fast_dev_run=True\n",
    "        # precision = 16\n",
    "    )\n",
    "    trainer.fit(\n",
    "        model,\n",
    "        train_dataloaders=train_dataloader,\n",
    "        val_dataloaders=val_dataloader,\n",
    "    )\n",
    "    #Loading the best model\n",
    "    best_model_path = trainer.checkpoint_callback.best_model_path\n",
    "    best_model = SingleStepRNNModel.load_from_checkpoint(best_model_path)\n",
    "    print(f\"Loading the best model from: {best_model_path}\")\n",
    "    shutil.copy(best_model_path, saved_model_sampled if TRAIN_SUBSAMPLE else saved_model_full)\n",
    "else:\n",
    "    best_model_path = saved_model_sampled if TRAIN_SUBSAMPLE else saved_model_full\n",
    "    load_weights(model, best_model_path)\n",
    "    best_model =  model\n",
    "    print (\"Skipping Training and loading the model from {best_model_path}\")"
   ]
  },
  {
   "cell_type": "code",
   "execution_count": 95,
   "id": "2b63982e-1fb1-435b-95a3-0c5d4f8a3d84",
   "metadata": {},
   "outputs": [
    {
     "name": "stderr",
     "output_type": "stream",
     "text": [
      "c:\\Users\\tacke\\anaconda3\\envs\\modern_ts_2E_new\\Lib\\site-packages\\pytorch_lightning\\trainer\\connectors\\data_connector.py:441: PossibleUserWarning:\n",
      "\n",
      "The 'predict_dataloader' does not have many workers which may be a bottleneck. Consider increasing the value of the `num_workers` argument` to `num_workers=7` in the `DataLoader` to improve performance.\n",
      "\n"
     ]
    },
    {
     "data": {
      "application/vnd.jupyter.widget-view+json": {
       "model_id": "4d135dddd7914e7580ba9053a11fd547",
       "version_major": 2,
       "version_minor": 0
      },
      "text/plain": [
       "Predicting: |          | 0/? [00:00<?, ?it/s]"
      ]
     },
     "metadata": {},
     "output_type": "display_data"
    },
    {
     "data": {
      "application/vnd.jupyter.widget-view+json": {
       "model_id": "fc4e0151164146a8b313adb1ac2b6f27",
       "version_major": 2,
       "version_minor": 0
      },
      "text/plain": [
       "Calculating metrics...:   0%|          | 0/10 [00:00<?, ?it/s]"
      ]
     },
     "metadata": {},
     "output_type": "display_data"
    }
   ],
   "source": [
    "# Predicting on the test dataset and storing in a df\n",
    "pred_output = best_model.predict(test, return_index=True, trainer_kwargs=dict(enable_progress_bar=True))\n",
    "pred, index = pred_output.output.cpu().numpy(), pred_output.index\n",
    "index[tag] = pred\n",
    "pred_df = pred_df.reset_index().merge(index, on=[\"time_idx\",\"LCLid\"], how='left').set_index(feat_config.index_cols)\n",
    "# Evaluating the forecast\n",
    "agg_metrics, eval_metrics_df = evaluate_forecast(\n",
    "    pred_df = pred_df,\n",
    "    train_data = full_df,\n",
    "    fc_column=tag,\n",
    "    name=tag,\n",
    ")\n",
    "metric_record.append(agg_metrics)\n",
    "individual_metrics[tag]=eval_metrics_df"
   ]
  },
  {
   "cell_type": "code",
   "execution_count": 96,
   "id": "2ca07dea-54eb-4f16-ac24-28b31d35ee87",
   "metadata": {},
   "outputs": [
    {
     "data": {
      "text/html": [
       "<style type=\"text/css\">\n",
       "#T_8de6f_row0_col1, #T_8de6f_row0_col3, #T_8de6f_row3_col2 {\n",
       "  background-color: lightgreen;\n",
       "}\n",
       "#T_8de6f_row1_col4 {\n",
       "  color: black;\n",
       "  background-color: lightgreen;\n",
       "}\n",
       "</style>\n",
       "<table id=\"T_8de6f\">\n",
       "  <thead>\n",
       "    <tr>\n",
       "      <th class=\"blank level0\" >&nbsp;</th>\n",
       "      <th id=\"T_8de6f_level0_col0\" class=\"col_heading level0 col0\" >Algorithm</th>\n",
       "      <th id=\"T_8de6f_level0_col1\" class=\"col_heading level0 col1\" >MAE</th>\n",
       "      <th id=\"T_8de6f_level0_col2\" class=\"col_heading level0 col2\" >MSE</th>\n",
       "      <th id=\"T_8de6f_level0_col3\" class=\"col_heading level0 col3\" >meanMASE</th>\n",
       "      <th id=\"T_8de6f_level0_col4\" class=\"col_heading level0 col4\" >Forecast Bias</th>\n",
       "    </tr>\n",
       "  </thead>\n",
       "  <tbody>\n",
       "    <tr>\n",
       "      <th id=\"T_8de6f_level0_row0\" class=\"row_heading level0 row0\" >0</th>\n",
       "      <td id=\"T_8de6f_row0_col0\" class=\"data row0 col0\" >simple</td>\n",
       "      <td id=\"T_8de6f_row0_col1\" class=\"data row0 col1\" >0.0781</td>\n",
       "      <td id=\"T_8de6f_row0_col2\" class=\"data row0 col2\" >0.0255</td>\n",
       "      <td id=\"T_8de6f_row0_col3\" class=\"data row0 col3\" >0.9239</td>\n",
       "      <td id=\"T_8de6f_row0_col4\" class=\"data row0 col4\" >-6.08%</td>\n",
       "    </tr>\n",
       "    <tr>\n",
       "      <th id=\"T_8de6f_level0_row1\" class=\"row_heading level0 row1\" >1</th>\n",
       "      <td id=\"T_8de6f_row1_col0\" class=\"data row1 col0\" >simple+time_varying</td>\n",
       "      <td id=\"T_8de6f_row1_col1\" class=\"data row1 col1\" >0.0802</td>\n",
       "      <td id=\"T_8de6f_row1_col2\" class=\"data row1 col2\" >0.0242</td>\n",
       "      <td id=\"T_8de6f_row1_col3\" class=\"data row1 col3\" >0.9492</td>\n",
       "      <td id=\"T_8de6f_row1_col4\" class=\"data row1 col4\" >0.01%</td>\n",
       "    </tr>\n",
       "    <tr>\n",
       "      <th id=\"T_8de6f_level0_row2\" class=\"row_heading level0 row2\" >2</th>\n",
       "      <td id=\"T_8de6f_row2_col0\" class=\"data row2 col0\" >simple+static+time_varying</td>\n",
       "      <td id=\"T_8de6f_row2_col1\" class=\"data row2 col1\" >0.0823</td>\n",
       "      <td id=\"T_8de6f_row2_col2\" class=\"data row2 col2\" >0.0235</td>\n",
       "      <td id=\"T_8de6f_row2_col3\" class=\"data row2 col3\" >0.9566</td>\n",
       "      <td id=\"T_8de6f_row2_col4\" class=\"data row2 col4\" >0.49%</td>\n",
       "    </tr>\n",
       "    <tr>\n",
       "      <th id=\"T_8de6f_level0_row3\" class=\"row_heading level0 row3\" >3</th>\n",
       "      <td id=\"T_8de6f_row3_col0\" class=\"data row3 col0\" >simple+static+time_varying+scale</td>\n",
       "      <td id=\"T_8de6f_row3_col1\" class=\"data row3 col1\" >0.0796</td>\n",
       "      <td id=\"T_8de6f_row3_col2\" class=\"data row3 col2\" >0.0233</td>\n",
       "      <td id=\"T_8de6f_row3_col3\" class=\"data row3 col3\" >0.9373</td>\n",
       "      <td id=\"T_8de6f_row3_col4\" class=\"data row3 col4\" >-0.72%</td>\n",
       "    </tr>\n",
       "    <tr>\n",
       "      <th id=\"T_8de6f_level0_row4\" class=\"row_heading level0 row4\" >4</th>\n",
       "      <td id=\"T_8de6f_row4_col0\" class=\"data row4 col0\" >simple+static+time_varying+num_sampler</td>\n",
       "      <td id=\"T_8de6f_row4_col1\" class=\"data row4 col1\" >0.0792</td>\n",
       "      <td id=\"T_8de6f_row4_col2\" class=\"data row4 col2\" >0.0238</td>\n",
       "      <td id=\"T_8de6f_row4_col3\" class=\"data row4 col3\" >0.9317</td>\n",
       "      <td id=\"T_8de6f_row4_col4\" class=\"data row4 col4\" >-3.83%</td>\n",
       "    </tr>\n",
       "  </tbody>\n",
       "</table>\n"
      ],
      "text/plain": [
       "<pandas.io.formats.style.Styler at 0x27494bad110>"
      ]
     },
     "execution_count": 96,
     "metadata": {},
     "output_type": "execute_result"
    }
   ],
   "source": [
    "pd.DataFrame(metric_record).style.format(\n",
    "    {\"MAE\": \"{:.4f}\", \"MSE\": \"{:.4f}\", \"meanMASE\": \"{:.4f}\", \"Forecast Bias\": \"{:.2f}%\"}\n",
    ").highlight_min(color=\"lightgreen\", subset=[\"MAE\", \"MSE\", \"meanMASE\"]).apply(\n",
    "    highlight_abs_min,\n",
    "    props=\"color:black;background-color:lightgreen\",\n",
    "    axis=0,\n",
    "    subset=[\"Forecast Bias\"],\n",
    ")"
   ]
  }
 ],
 "metadata": {
  "kernelspec": {
   "display_name": "Python 3 (ipykernel)",
   "language": "python",
   "name": "python3"
  },
  "language_info": {
   "codemirror_mode": {
    "name": "ipython",
    "version": 3
   },
   "file_extension": ".py",
   "mimetype": "text/x-python",
   "name": "python",
   "nbconvert_exporter": "python",
   "pygments_lexer": "ipython3",
   "version": "3.11.9"
  }
 },
 "nbformat": 4,
 "nbformat_minor": 5
}
